{
 "cells": [
  {
   "cell_type": "code",
   "execution_count": 438,
   "metadata": {
    "ExecuteTime": {
     "end_time": "2018-06-25T14:44:34.171963Z",
     "start_time": "2018-06-25T14:44:34.164566Z"
    },
    "collapsed": true
   },
   "outputs": [],
   "source": [
    "import pandas as pd\n",
    "import numpy as np\n",
    "import re\n",
    "import datetime as dt\n",
    "import pytz"
   ]
  },
  {
   "cell_type": "code",
   "execution_count": 23,
   "metadata": {
    "ExecuteTime": {
     "end_time": "2018-06-23T04:12:26.065552Z",
     "start_time": "2018-06-23T04:12:26.056800Z"
    },
    "collapsed": true
   },
   "outputs": [],
   "source": [
    "data = [{'key_word':'明天', \n",
    "         'yy': -1, 'mm':-1,'dd':-1,'H':-1,'M':-1,'W':-1,'w':-1,\n",
    "        'dyy':-1,'dmm':-1,'ddd':1,'dH':-1,'dM':-1,'dW':-1,},\n",
    "        {'key_word':'下周一', \n",
    "         'yy': -1, 'mm':-1,'dd':-1,'H':-1,'M':-1,'W':-1,'w':1,\n",
    "        'dyy':-1,'dmm':-1,'ddd':1,'dH':-1,'dM':-1,'dW':1,},]\n",
    "# yy - year\n",
    "# mm - month\n",
    "# dd - day of month\n",
    "# Hour\n",
    "# M minute\n",
    "# W week of a year\n",
    "# day in a week"
   ]
  },
  {
   "cell_type": "code",
   "execution_count": 92,
   "metadata": {
    "ExecuteTime": {
     "end_time": "2018-06-24T01:12:59.117756Z",
     "start_time": "2018-06-24T01:12:59.107277Z"
    },
    "collapsed": true
   },
   "outputs": [],
   "source": [
    "data = [{'key_word':'明天', \n",
    "         'expression':'?y-?m-+1d-12H:00M:00S'},\n",
    "        {'key_word':'下周一', \n",
    "         'expression':'?y-+1W-1w-12H:00M:00S'},]\n",
    "\n",
    "df = pd.DataFrame(data).set_index('key_word')\n",
    "t1 = df.T.to_dict()['明天']\n",
    "t2 = df.T.to_dict()['下周一']"
   ]
  },
  {
   "cell_type": "code",
   "execution_count": null,
   "metadata": {
    "collapsed": true
   },
   "outputs": [],
   "source": [
    "Process Sequence: S,M,H,D,Y,M / S,M,H,Y,w,W"
   ]
  },
  {
   "cell_type": "code",
   "execution_count": 552,
   "metadata": {
    "ExecuteTime": {
     "end_time": "2018-06-25T15:49:44.275774Z",
     "start_time": "2018-06-25T15:49:44.263491Z"
    },
    "collapsed": true
   },
   "outputs": [],
   "source": [
    "utc = pytz.utc\n",
    "tz = pytz.timezone(\"America/New_York\")\n",
    "# tz = pytz.timezone(\"Asia/Shanghai\")\n",
    "now = dt.datetime.now()\n",
    "utc_now = utc.localize(now)\n",
    "tz_now = tz.localize(now)\n",
    "delta =  utc_now - tz_now \n",
    "hours = round(delta.total_seconds() / 3600)\n",
    "delta = dt.timedelta(hours=hours)\n",
    "tz_normal = dt.timezone(delta)"
   ]
  },
  {
   "cell_type": "code",
   "execution_count": 704,
   "metadata": {
    "ExecuteTime": {
     "end_time": "2018-06-25T18:19:28.182455Z",
     "start_time": "2018-06-25T18:19:28.142382Z"
    }
   },
   "outputs": [
    {
     "name": "stdout",
     "output_type": "stream",
     "text": [
      "2019-12-23 18:19:28-05:00\n"
     ]
    }
   ],
   "source": [
    "# yy - year\n",
    "# mm - month\n",
    "# dd - day of month\n",
    "# Hour\n",
    "# M minute\n",
    "# W week of a year\n",
    "# day in a week\n",
    "\n",
    "# check week\n",
    "current = dt.datetime.now()\n",
    "\n",
    "\n",
    "\n",
    "\n",
    "current = tz.localize(current)\n",
    "expression = '?y-+2W-3w-12H:00M:00S'\n",
    "expression = a\n",
    "\n",
    "exp_week = re.findall(r'-.+W-.+w',expression)\n",
    "exp_ymd = re.findall(r'.+y-.+m.+d',expression)\n",
    "\n",
    "\n",
    "history = pros_second(expression, current)\n",
    "history = pros_minute(expression, current, history)\n",
    "history,shift = pros_hour(expression, current, history)\n",
    "\n",
    "\n",
    "if exp_week:\n",
    "    #1. process week:\n",
    "    \n",
    "    history = pros_weekDay(expression,current, history)\n",
    "    history = pros_week(expression,current, history)\n",
    "    history = pros_year(expression, current,history)\n",
    "    future = create_from_W(history)\n",
    "    \n",
    "elif exp_ymd:\n",
    "    history = pros_day(expression, current,history)\n",
    "    history = pros_month(expression, current,history)\n",
    "    history = pros_year(expression, current,history)\n",
    "    future = create_from_D(history)\n",
    "if future.tzinfo is None:\n",
    "    future = tz.localize(future)\n",
    "if not shift:\n",
    "    future = future - delta\n",
    "print(future)\n",
    "\n",
    "\n",
    "    \n",
    "# processing year\n"
   ]
  },
  {
   "cell_type": "code",
   "execution_count": 643,
   "metadata": {
    "ExecuteTime": {
     "end_time": "2018-06-25T17:38:25.069757Z",
     "start_time": "2018-06-25T17:38:25.064185Z"
    }
   },
   "outputs": [
    {
     "data": {
      "text/plain": [
       "<DstTzInfo 'America/New_York' EST-1 day, 19:00:00 STD>"
      ]
     },
     "execution_count": 643,
     "metadata": {},
     "output_type": "execute_result"
    }
   ],
   "source": [
    "future.tzinfo"
   ]
  },
  {
   "cell_type": "code",
   "execution_count": 549,
   "metadata": {
    "ExecuteTime": {
     "end_time": "2018-06-25T15:48:08.171194Z",
     "start_time": "2018-06-25T15:48:08.163737Z"
    }
   },
   "outputs": [
    {
     "data": {
      "text/plain": [
       "<DstTzInfo 'America/New_York' EDT-1 day, 20:00:00 DST>"
      ]
     },
     "execution_count": 549,
     "metadata": {},
     "output_type": "execute_result"
    }
   ],
   "source": [
    "2018-06-25 19:51:55-04:00"
   ]
  },
  {
   "cell_type": "code",
   "execution_count": 561,
   "metadata": {
    "ExecuteTime": {
     "end_time": "2018-06-25T15:54:41.394630Z",
     "start_time": "2018-06-25T15:54:41.388756Z"
    }
   },
   "outputs": [
    {
     "data": {
      "text/plain": [
       "datetime.datetime(2018, 6, 25, 15, 54, 41, 390163)"
      ]
     },
     "execution_count": 561,
     "metadata": {},
     "output_type": "execute_result"
    }
   ],
   "source": [
    "dt.datetime.now()"
   ]
  },
  {
   "cell_type": "code",
   "execution_count": 510,
   "metadata": {
    "ExecuteTime": {
     "end_time": "2018-06-25T15:25:16.570505Z",
     "start_time": "2018-06-25T15:25:16.564172Z"
    }
   },
   "outputs": [
    {
     "data": {
      "text/plain": [
       "<UTC>"
      ]
     },
     "execution_count": 510,
     "metadata": {},
     "output_type": "execute_result"
    }
   ],
   "source": [
    "pytz.utc"
   ]
  },
  {
   "cell_type": "code",
   "execution_count": 519,
   "metadata": {
    "ExecuteTime": {
     "end_time": "2018-06-25T15:26:22.424985Z",
     "start_time": "2018-06-25T15:26:22.414037Z"
    },
    "collapsed": true
   },
   "outputs": [],
   "source": [
    "utc = pytz.utc\n",
    "now1 = dt.datetime.now()\n",
    "now1 = utc.localize(now1)\n",
    "now2 = dt.datetime.now()\n",
    "now2 = tz.localize(now2)\n",
    "b = now1 - now2"
   ]
  },
  {
   "cell_type": "code",
   "execution_count": 526,
   "metadata": {
    "ExecuteTime": {
     "end_time": "2018-06-25T15:27:48.426218Z",
     "start_time": "2018-06-25T15:27:48.416320Z"
    }
   },
   "outputs": [
    {
     "data": {
      "text/plain": [
       "8.0"
      ]
     },
     "execution_count": 526,
     "metadata": {},
     "output_type": "execute_result"
    }
   ],
   "source": [
    "\n",
    "math.ceil(b.total_seconds()) / 3600"
   ]
  },
  {
   "cell_type": "code",
   "execution_count": 528,
   "metadata": {
    "ExecuteTime": {
     "end_time": "2018-06-25T15:35:54.581476Z",
     "start_time": "2018-06-25T15:35:54.571907Z"
    }
   },
   "outputs": [
    {
     "data": {
      "text/plain": [
       "-4"
      ]
     },
     "execution_count": 528,
     "metadata": {},
     "output_type": "execute_result"
    }
   ],
   "source": [
    "round(-3.9)"
   ]
  },
  {
   "cell_type": "markdown",
   "metadata": {},
   "source": [
    "## Process Week"
   ]
  },
  {
   "cell_type": "code",
   "execution_count": 635,
   "metadata": {
    "ExecuteTime": {
     "end_time": "2018-06-25T17:31:36.265567Z",
     "start_time": "2018-06-25T17:31:36.207912Z"
    }
   },
   "outputs": [
    {
     "data": {
      "text/plain": [
       "{'day': 25,\n",
       " 'hour': 21,\n",
       " 'microsecond': 0,\n",
       " 'minute': 34,\n",
       " 'month': 6,\n",
       " 'second': 7,\n",
       " 'week': '3',\n",
       " 'year': 1}"
      ]
     },
     "execution_count": 635,
     "metadata": {},
     "output_type": "execute_result"
    }
   ],
   "source": [
    "expression='+1y-+30W-1w-12H:00M:00S'\n",
    "def pros_week(expression, current, history):\n",
    "    history = history.copy()\n",
    "    year_adjust = 0\n",
    "    W = current.isocalendar()[1] \n",
    "    reexp = r'y-.+W'\n",
    "    extract = re.findall(reexp,expression)[0]\n",
    "    \n",
    "    # y-+1W\n",
    "    if extract[2:-1] == '?':\n",
    "        rep = str(W)\n",
    "        history.update({'week':rep})\n",
    "        return history\n",
    "    elif extract[2] == '+':\n",
    "        cur = W + int(extract[3:-1])\n",
    "        if cur > 53:\n",
    "            year_adjust = int(cur / 53)\n",
    "            cur = cur % 53\n",
    "        rep = str(cur)\n",
    "        history.update({'year':year_adjust})\n",
    "        history.update({'week':rep})\n",
    "        return history\n",
    "    elif extract[2] == '-':\n",
    "        cur = W - int(extract[3:-1])\n",
    "        if cur < 0:\n",
    "            year_adjust = int(cur / 53) -1\n",
    "            cur = cur % 53\n",
    "        rep = str(cur)\n",
    "        history.update({'year':year_adjust})\n",
    "        history.update({'week':rep})\n",
    "        return history\n",
    "    else:\n",
    "        rep = extract[2:-1]\n",
    "        history.update({'week':rep})\n",
    "        return history\n",
    "        \n",
    "\n",
    "\n",
    "pros_week(expression, current,history)"
   ]
  },
  {
   "cell_type": "code",
   "execution_count": 474,
   "metadata": {
    "ExecuteTime": {
     "end_time": "2018-06-25T15:02:00.115176Z",
     "start_time": "2018-06-25T15:02:00.108345Z"
    }
   },
   "outputs": [
    {
     "data": {
      "text/plain": [
       "datetime.timezone.utc"
      ]
     },
     "execution_count": 474,
     "metadata": {},
     "output_type": "execute_result"
    }
   ],
   "source": [
    "dt.timezone.utc"
   ]
  },
  {
   "cell_type": "markdown",
   "metadata": {},
   "source": [
    "## Process Week Day"
   ]
  },
  {
   "cell_type": "code",
   "execution_count": 626,
   "metadata": {
    "ExecuteTime": {
     "end_time": "2018-06-25T17:18:42.020472Z",
     "start_time": "2018-06-25T17:18:41.994077Z"
    }
   },
   "outputs": [
    {
     "data": {
      "text/plain": [
       "{'day': 25,\n",
       " 'hour': 21,\n",
       " 'microsecond': 0,\n",
       " 'minute': 34,\n",
       " 'month': 6,\n",
       " 'second': 7,\n",
       " 'weekday': '3',\n",
       " 'year': 2018}"
      ]
     },
     "execution_count": 626,
     "metadata": {},
     "output_type": "execute_result"
    }
   ],
   "source": [
    "expression='?y-+2W-2w-12H:00M:00S'\n",
    "def pros_weekDay(expression, current, history):\n",
    "    history = history.copy()\n",
    "    w = current.isocalendar()[2] \n",
    "    reexp = r'W-.+w'\n",
    "    extract = re.findall(reexp,expression)[0]\n",
    "    \n",
    "    # W-+1w\n",
    "    if extract[2:-1] == '?':\n",
    "        history.update({'weekday':str(w)})\n",
    "        return history\n",
    "    elif extract[2] == '+':\n",
    "        rep = str(w + int(extract[3:-1]))\n",
    "        history.update({'weekday':rep})\n",
    "        return history\n",
    "    elif extract[2] == '-':\n",
    "        rep = str(w - int(extract[3:-1]))\n",
    "        history.update({'weekday':rep})\n",
    "        return history\n",
    "    else:\n",
    "        rep = extract[2:-1]\n",
    "        history.update({'weekday':rep})\n",
    "        return history\n",
    "pros_weekDay(expression, current,history)"
   ]
  },
  {
   "cell_type": "markdown",
   "metadata": {},
   "source": [
    "## Process Year"
   ]
  },
  {
   "cell_type": "code",
   "execution_count": 427,
   "metadata": {
    "ExecuteTime": {
     "end_time": "2018-06-25T14:38:53.937893Z",
     "start_time": "2018-06-25T14:38:53.901953Z"
    }
   },
   "outputs": [
    {
     "data": {
      "text/plain": [
       "datetime.datetime(2013, 12, 26, 12, 0)"
      ]
     },
     "execution_count": 427,
     "metadata": {},
     "output_type": "execute_result"
    }
   ],
   "source": [
    "expression = '-5y-?m-+1d-12H:00M:?S'\n",
    "def pros_year(expression, current, history):\n",
    "    if isinstance(history,dt.datetime):\n",
    "        return history\n",
    "    history = history.copy()\n",
    "    adjust_year = history.get('year')\n",
    "    if adjust_year is None:\n",
    "        adjust_year = 0\n",
    "    y = current.year\n",
    "    reexp = r'.+y-'\n",
    "    extract = re.findall(reexp,expression)[0]\n",
    "    if extract[0:-2] == '?':\n",
    "        history.update({'year':y+adjust_year})\n",
    "        return history\n",
    "    elif extract[0] == '+':\n",
    "        gap = int(extract[1:-2])\n",
    "        history.update({'year':y+adjust_year+gap})\n",
    "        return history\n",
    "    elif extract[0] == '-':\n",
    "        gap = int(extract[1:-2])\n",
    "        history.update({'year':y+adjust_year-gap})\n",
    "        return history\n",
    "    else:\n",
    "        history.update({'year':int(extract[:-2])+adjust_year})\n",
    "        return history\n",
    "pros_year(expression, current, history)"
   ]
  },
  {
   "cell_type": "code",
   "execution_count": 412,
   "metadata": {
    "ExecuteTime": {
     "end_time": "2018-06-25T14:26:04.237026Z",
     "start_time": "2018-06-25T14:26:04.229658Z"
    }
   },
   "outputs": [
    {
     "data": {
      "text/plain": [
       "{'hour': 2,\n",
       " 'microsecond': 0,\n",
       " 'minute': 12,\n",
       " 'month': 12,\n",
       " 'second': 22,\n",
       " 'year': 2013}"
      ]
     },
     "execution_count": 412,
     "metadata": {},
     "output_type": "execute_result"
    }
   ],
   "source": [
    "history"
   ]
  },
  {
   "cell_type": "markdown",
   "metadata": {},
   "source": [
    "## Process Month"
   ]
  },
  {
   "cell_type": "code",
   "execution_count": 447,
   "metadata": {
    "ExecuteTime": {
     "end_time": "2018-06-25T14:47:33.236958Z",
     "start_time": "2018-06-25T14:47:33.166791Z"
    }
   },
   "outputs": [
    {
     "data": {
      "text/plain": [
       "{'day': 11,\n",
       " 'hour': 11,\n",
       " 'microsecond': 0,\n",
       " 'minute': 47,\n",
       " 'month': 7,\n",
       " 'second': 14,\n",
       " 'year': 0}"
      ]
     },
     "execution_count": 447,
     "metadata": {},
     "output_type": "execute_result"
    }
   ],
   "source": [
    "expression = '-5y-+1m-+1d-12H:00M:?S'\n",
    "def pros_month(expression, current, history):\n",
    "    if isinstance(history,dt.datetime):\n",
    "        return history\n",
    "    history = history.copy()\n",
    "    adjust_year = 0\n",
    "    m = current.month\n",
    "    reexp = r'y-.+m'\n",
    "    extract = re.findall(reexp,expression)[0]\n",
    "    if extract[2:-1] == '?':\n",
    "        history.update({'month':m})\n",
    "        return history\n",
    "    elif extract[2] == '+':\n",
    "        cur = int(extract[3:-1]) + m\n",
    "        if cur > 12:\n",
    "            adjust_year = int(cur / 12)\n",
    "            cur = cur % 12\n",
    "            if cur == 0:\n",
    "                cur = 12\n",
    "                adjust_year -= 1\n",
    "        history.update({'year':adjust_year})\n",
    "        history.update({'month':cur})\n",
    "        return history\n",
    "    elif extract[2] == '-':\n",
    "        cur = m - int(extract[3:-1])\n",
    "        if cur < 1:\n",
    "            adjust_year = int(cur / 12) - 1\n",
    "            cur = cur % 12\n",
    "            if cur == 0:\n",
    "                cur = 12\n",
    "        history.update({'year':adjust_year})\n",
    "        history.update({'month':cur})\n",
    "        return history\n",
    "    else:\n",
    "        history.update({'month':int(extract[2:-1])})\n",
    "        return history\n",
    "pros_month(expression, current, history)"
   ]
  },
  {
   "cell_type": "code",
   "execution_count": 387,
   "metadata": {
    "ExecuteTime": {
     "end_time": "2018-06-25T05:49:11.603326Z",
     "start_time": "2018-06-25T05:49:11.596978Z"
    }
   },
   "outputs": [
    {
     "data": {
      "text/plain": [
       "{'hour': 2,\n",
       " 'microsecond': 0,\n",
       " 'minute': 12,\n",
       " 'month': 12,\n",
       " 'second': 22,\n",
       " 'year': 2013}"
      ]
     },
     "execution_count": 387,
     "metadata": {},
     "output_type": "execute_result"
    }
   ],
   "source": [
    "history"
   ]
  },
  {
   "cell_type": "markdown",
   "metadata": {},
   "source": [
    "## Processing second"
   ]
  },
  {
   "cell_type": "code",
   "execution_count": 590,
   "metadata": {
    "ExecuteTime": {
     "end_time": "2018-06-25T16:22:57.037057Z",
     "start_time": "2018-06-25T16:22:57.026020Z"
    }
   },
   "outputs": [
    {
     "data": {
      "text/plain": [
       "['M:33S']"
      ]
     },
     "execution_count": 590,
     "metadata": {},
     "output_type": "execute_result"
    }
   ],
   "source": [
    "re.findall(r'M:.+S','?y-?m-?d-?H:31M:33S')"
   ]
  },
  {
   "cell_type": "code",
   "execution_count": 591,
   "metadata": {
    "ExecuteTime": {
     "end_time": "2018-06-25T16:23:17.956992Z",
     "start_time": "2018-06-25T16:23:17.923394Z"
    },
    "collapsed": true
   },
   "outputs": [],
   "source": [
    "expression = '?y-?m-?d-?H:31M:33S'\n",
    "#1. process seconds\n",
    "\n",
    "def pros_second(expression, current, history={'microsecond':0}):\n",
    "    history = history.copy()\n",
    "    S = current.second\n",
    "    reexp = r'M:.+S'\n",
    "    extract = re.findall(reexp,expression)[0]\n",
    "    # M:+1S\n",
    "    if extract[2:-1] == '?':\n",
    "        history.update({'second':S})\n",
    "        return history\n",
    "    elif extract[2] == '+':\n",
    "        gap = int(extract[3:-1])\n",
    "        create = current + dt.timedelta(seconds=gap) \n",
    "        create = create.replace(**history)\n",
    "        return create \n",
    "    elif extract[2] == '-':\n",
    "        gap = int(extract[3:-1])\n",
    "        create =  current - dt.timedelta(seconds=gap)\n",
    "        create = create.replace(**history)\n",
    "        return create\n",
    "    else:\n",
    "        second = int(extract[2:-1])\n",
    "        history.update({'second':second})\n",
    "        return history\n",
    "history = pros_second(expression, current)\n"
   ]
  },
  {
   "cell_type": "markdown",
   "metadata": {},
   "source": [
    "## Processing Minutes"
   ]
  },
  {
   "cell_type": "code",
   "execution_count": 577,
   "metadata": {
    "ExecuteTime": {
     "end_time": "2018-06-25T16:17:31.279128Z",
     "start_time": "2018-06-25T16:17:31.229099Z"
    }
   },
   "outputs": [
    {
     "data": {
      "text/plain": [
       "datetime.datetime(2018, 6, 25, 16, 15, 56, tzinfo=<DstTzInfo 'America/New_York' EDT-1 day, 20:00:00 DST>)"
      ]
     },
     "execution_count": 577,
     "metadata": {},
     "output_type": "execute_result"
    }
   ],
   "source": [
    "expression = '?y-?m-+1d-12H:12M:00S'\n",
    "#1. process seconds\n",
    "\n",
    "def pros_minute(expression, current, history = {}):\n",
    "    if isinstance(history,dt.datetime):\n",
    "        return history\n",
    "    history = history.copy()\n",
    "    M = current.minute\n",
    "    reexp = r'H:.+M'\n",
    "    extract = re.findall(reexp,expression)[0]\n",
    "    # H:?M\n",
    "    if extract[2:-1] == '?':\n",
    "        history.update({'minute':M})\n",
    "        return history\n",
    "    elif extract[2] == '+':\n",
    "        gap = int(extract[3:-1])\n",
    "        create = current + dt.timedelta(minutes=gap) \n",
    "        create = create.replace(**history)\n",
    "        return create\n",
    "    elif extract[2] == '-':\n",
    "        gap = int(extract[3:-1])\n",
    "        create = current - dt.timedelta(minutes=gap) \n",
    "        create = create.replace(**history)\n",
    "        return create\n",
    "    else:\n",
    "        minute = int(extract[2:-1])\n",
    "        history.update({'minute':minute})\n",
    "        return history\n",
    "history = pros_minute(expression, current, history)\n",
    "history"
   ]
  },
  {
   "cell_type": "markdown",
   "metadata": {},
   "source": [
    "## Processing Hours"
   ]
  },
  {
   "cell_type": "code",
   "execution_count": 568,
   "metadata": {
    "ExecuteTime": {
     "end_time": "2018-06-25T16:14:36.522549Z",
     "start_time": "2018-06-25T16:14:36.457822Z"
    }
   },
   "outputs": [
    {
     "ename": "AttributeError",
     "evalue": "'tuple' object has no attribute 'copy'",
     "output_type": "error",
     "traceback": [
      "\u001b[0;31m---------------------------------------------------------------------------\u001b[0m",
      "\u001b[0;31mAttributeError\u001b[0m                            Traceback (most recent call last)",
      "\u001b[0;32m<ipython-input-568-8f614d27ea78>\u001b[0m in \u001b[0;36m<module>\u001b[0;34m()\u001b[0m\n\u001b[1;32m     30\u001b[0m         \u001b[0mhistory\u001b[0m\u001b[0;34m.\u001b[0m\u001b[0mupdate\u001b[0m\u001b[0;34m(\u001b[0m\u001b[0;34m{\u001b[0m\u001b[0;34m'hour'\u001b[0m\u001b[0;34m:\u001b[0m\u001b[0mhour\u001b[0m\u001b[0;34m}\u001b[0m\u001b[0;34m)\u001b[0m\u001b[0;34m\u001b[0m\u001b[0m\n\u001b[1;32m     31\u001b[0m         \u001b[0;32mreturn\u001b[0m \u001b[0mhistory\u001b[0m\u001b[0;34m,\u001b[0m\u001b[0mshift\u001b[0m\u001b[0;34m\u001b[0m\u001b[0m\n\u001b[0;32m---> 32\u001b[0;31m \u001b[0mhistory\u001b[0m\u001b[0;34m,\u001b[0m\u001b[0mshift\u001b[0m \u001b[0;34m=\u001b[0m \u001b[0mpros_hour\u001b[0m\u001b[0;34m(\u001b[0m\u001b[0mexpression\u001b[0m\u001b[0;34m,\u001b[0m \u001b[0mcurrent\u001b[0m\u001b[0;34m,\u001b[0m \u001b[0mhistory\u001b[0m\u001b[0;34m)\u001b[0m\u001b[0;34m\u001b[0m\u001b[0m\n\u001b[0m\u001b[1;32m     33\u001b[0m \u001b[0mhistory\u001b[0m\u001b[0;34m\u001b[0m\u001b[0m\n",
      "\u001b[0;32m<ipython-input-568-8f614d27ea78>\u001b[0m in \u001b[0;36mpros_hour\u001b[0;34m(expression, current, history)\u001b[0m\n\u001b[1;32m      6\u001b[0m     \u001b[0;32mif\u001b[0m \u001b[0misinstance\u001b[0m\u001b[0;34m(\u001b[0m\u001b[0mhistory\u001b[0m\u001b[0;34m,\u001b[0m\u001b[0mdt\u001b[0m\u001b[0;34m.\u001b[0m\u001b[0mdatetime\u001b[0m\u001b[0;34m)\u001b[0m\u001b[0;34m:\u001b[0m\u001b[0;34m\u001b[0m\u001b[0m\n\u001b[1;32m      7\u001b[0m         \u001b[0;32mreturn\u001b[0m \u001b[0mhistory\u001b[0m\u001b[0;34m,\u001b[0m \u001b[0mshift\u001b[0m\u001b[0;34m\u001b[0m\u001b[0m\n\u001b[0;32m----> 8\u001b[0;31m     \u001b[0mhistory\u001b[0m \u001b[0;34m=\u001b[0m \u001b[0mhistory\u001b[0m\u001b[0;34m.\u001b[0m\u001b[0mcopy\u001b[0m\u001b[0;34m(\u001b[0m\u001b[0;34m)\u001b[0m\u001b[0;34m\u001b[0m\u001b[0m\n\u001b[0m\u001b[1;32m      9\u001b[0m \u001b[0;34m\u001b[0m\u001b[0m\n\u001b[1;32m     10\u001b[0m     \u001b[0mH\u001b[0m \u001b[0;34m=\u001b[0m \u001b[0mcurrent\u001b[0m\u001b[0;34m.\u001b[0m\u001b[0mhour\u001b[0m\u001b[0;34m\u001b[0m\u001b[0m\n",
      "\u001b[0;31mAttributeError\u001b[0m: 'tuple' object has no attribute 'copy'"
     ]
    }
   ],
   "source": [
    "expression = '?y-?m-+1d-2H:+20M:00S'\n",
    "#1. process seconds\n",
    "\n",
    "def pros_hour(expression, current, history = {}):\n",
    "    shift = True\n",
    "    if isinstance(history,dt.datetime):\n",
    "        return history, shift\n",
    "    history = history.copy()\n",
    "    \n",
    "    H = current.hour\n",
    "    reexp = r'[dw]-.+H'\n",
    "    extract = re.findall(reexp,expression)[0]\n",
    "#     d-?H\n",
    "    if extract[2:-1] == '?':\n",
    "        history.update({'hour':H})\n",
    "        return history,shift\n",
    "    elif extract[2] == '+':\n",
    "        gap = int(extract[3:-1])\n",
    "        create = current + dt.timedelta(hours=gap)\n",
    "        create = create.replace(**history)\n",
    "        return create,shift\n",
    "    elif extract[2] == '-':\n",
    "        gap = int(extract[3:-1])\n",
    "        create = current - dt.timedelta(hours=gap)\n",
    "        create = create.replace(**history)\n",
    "        return create,shift\n",
    "    else:\n",
    "        shift = False\n",
    "        hour = int(extract[2:-1])\n",
    "        history.update({'hour':hour})\n",
    "        return history,shift\n",
    "history,shift = pros_hour(expression, current, history)\n",
    "history"
   ]
  },
  {
   "cell_type": "markdown",
   "metadata": {},
   "source": [
    "## Processing Days"
   ]
  },
  {
   "cell_type": "code",
   "execution_count": 422,
   "metadata": {
    "ExecuteTime": {
     "end_time": "2018-06-25T14:37:40.119848Z",
     "start_time": "2018-06-25T14:37:40.077573Z"
    }
   },
   "outputs": [
    {
     "data": {
      "text/plain": [
       "datetime.datetime(2018, 6, 24, 14, 32, 32, 123075)"
      ]
     },
     "execution_count": 422,
     "metadata": {},
     "output_type": "execute_result"
    }
   ],
   "source": [
    "expression = '?y-?m--1d-12H:+20M:00S'\n",
    "#1. process seconds\n",
    "\n",
    "def pros_day(expression, current, history={}):\n",
    "    if isinstance(history,dt.datetime):\n",
    "        return history\n",
    "    history = history.copy()\n",
    "    d = current.day\n",
    "    reexp = r'm-.+d'\n",
    "    extract = re.findall(reexp,expression)[0]\n",
    "    if extract[2:-1] == '?':\n",
    "        history.update({'day':d})\n",
    "        return history\n",
    "    elif extract[2] == '+':\n",
    "        gap = int(extract[3:-1])\n",
    "        create = current + dt.timedelta(days=gap) \n",
    "        create = create.replace(**history)\n",
    "        return create\n",
    "    elif extract[2] == '-':\n",
    "        gap = int(extract[3:-1])\n",
    "        create = current - dt.timedelta(days=gap) \n",
    "        create = create.replace(**history)\n",
    "        return create\n",
    "    else:\n",
    "        day = int(extract[2:-1])\n",
    "        history.update({'day':day})\n",
    "        return history\n",
    "pros_day(expression, current)"
   ]
  },
  {
   "cell_type": "code",
   "execution_count": 416,
   "metadata": {
    "ExecuteTime": {
     "end_time": "2018-06-25T14:30:17.590443Z",
     "start_time": "2018-06-25T14:30:17.582837Z"
    }
   },
   "outputs": [
    {
     "data": {
      "text/plain": [
       "True"
      ]
     },
     "execution_count": 416,
     "metadata": {},
     "output_type": "execute_result"
    }
   ],
   "source": [
    "isinstance(a,dt.datetime)"
   ]
  },
  {
   "cell_type": "code",
   "execution_count": 186,
   "metadata": {
    "ExecuteTime": {
     "end_time": "2018-06-25T02:05:04.171440Z",
     "start_time": "2018-06-25T02:05:04.165265Z"
    }
   },
   "outputs": [
    {
     "data": {
      "text/plain": [
       "['d-12H']"
      ]
     },
     "execution_count": 186,
     "metadata": {},
     "output_type": "execute_result"
    }
   ],
   "source": [
    "re.findall(r'[dw]-.+H','?y-?m-+1d-12H:00M:00S')"
   ]
  },
  {
   "cell_type": "markdown",
   "metadata": {},
   "source": [
    "# Create Time from Week"
   ]
  },
  {
   "cell_type": "code",
   "execution_count": 636,
   "metadata": {
    "ExecuteTime": {
     "end_time": "2018-06-25T17:35:29.244982Z",
     "start_time": "2018-06-25T17:35:29.236178Z"
    },
    "collapsed": true
   },
   "outputs": [],
   "source": [
    "def create_from_W(history):\n",
    "    expression ='{}y-{}W-{}w-{}H:{}M:{}S'.format(history['year'],\n",
    "                                                 history['week'],\n",
    "                                                 history['weekday'],\n",
    "                                                 history['hour'],\n",
    "                                                 history['minute'],\n",
    "                                                 history['second'])\n",
    "    eval_time = dt.datetime.strptime(expression, \"%Yy-%WW-%ww-%HH:%MM:%SS\")\n",
    "    return eval_time"
   ]
  },
  {
   "cell_type": "code",
   "execution_count": 449,
   "metadata": {
    "ExecuteTime": {
     "end_time": "2018-06-25T14:48:56.670830Z",
     "start_time": "2018-06-25T14:48:56.659954Z"
    }
   },
   "outputs": [
    {
     "data": {
      "text/plain": [
       "datetime.datetime(2018, 6, 11, 11, 47, 38)"
      ]
     },
     "execution_count": 449,
     "metadata": {},
     "output_type": "execute_result"
    }
   ],
   "source": [
    "def create_from_D(history):\n",
    "    if isinstance(history,dt.datetime):\n",
    "        return history\n",
    "    return dt.datetime(**history)\n",
    "create_from_D(history)"
   ]
  },
  {
   "cell_type": "markdown",
   "metadata": {},
   "source": [
    "## Update time by history"
   ]
  },
  {
   "cell_type": "code",
   "execution_count": 362,
   "metadata": {
    "ExecuteTime": {
     "end_time": "2018-06-25T04:58:29.119553Z",
     "start_time": "2018-06-25T04:58:29.102756Z"
    }
   },
   "outputs": [
    {
     "ename": "TypeError",
     "evalue": "'month' is an invalid keyword argument for this function",
     "output_type": "error",
     "traceback": [
      "\u001b[0;31m---------------------------------------------------------------------------\u001b[0m",
      "\u001b[0;31mTypeError\u001b[0m                                 Traceback (most recent call last)",
      "\u001b[0;32m<ipython-input-362-f8e42e708b2b>\u001b[0m in \u001b[0;36m<module>\u001b[0;34m()\u001b[0m\n\u001b[0;32m----> 1\u001b[0;31m \u001b[0ma\u001b[0m \u001b[0;34m=\u001b[0m \u001b[0mdt\u001b[0m\u001b[0;34m.\u001b[0m\u001b[0mdatetime\u001b[0m\u001b[0;34m.\u001b[0m\u001b[0mnow\u001b[0m\u001b[0;34m(\u001b[0m\u001b[0;34m)\u001b[0m\u001b[0;34m+\u001b[0m\u001b[0mdt\u001b[0m\u001b[0;34m.\u001b[0m\u001b[0mtimedelta\u001b[0m\u001b[0;34m(\u001b[0m\u001b[0mmonth\u001b[0m\u001b[0;34m=\u001b[0m\u001b[0;36m1\u001b[0m\u001b[0;34m)\u001b[0m\u001b[0;34m\u001b[0m\u001b[0m\n\u001b[0m\u001b[1;32m      2\u001b[0m \u001b[0mhistory\u001b[0m\u001b[0;34m.\u001b[0m\u001b[0mupdate\u001b[0m\u001b[0;34m(\u001b[0m\u001b[0;34m{\u001b[0m\u001b[0;34m'microsecond'\u001b[0m\u001b[0;34m:\u001b[0m\u001b[0;36m0\u001b[0m\u001b[0;34m}\u001b[0m\u001b[0;34m)\u001b[0m\u001b[0;34m\u001b[0m\u001b[0m\n\u001b[1;32m      3\u001b[0m \u001b[0ma\u001b[0m\u001b[0;34m.\u001b[0m\u001b[0mreplace\u001b[0m\u001b[0;34m(\u001b[0m\u001b[0;34m**\u001b[0m\u001b[0mhistory\u001b[0m\u001b[0;34m)\u001b[0m\u001b[0;34m\u001b[0m\u001b[0m\n",
      "\u001b[0;31mTypeError\u001b[0m: 'month' is an invalid keyword argument for this function"
     ]
    }
   ],
   "source": [
    "a = dt.datetime.now()+dt.timedelta(month=1)\n",
    "history.update({'microsecond':0})\n",
    "a.replace(**history)"
   ]
  },
  {
   "cell_type": "code",
   "execution_count": 155,
   "metadata": {
    "ExecuteTime": {
     "end_time": "2018-06-25T01:46:48.871071Z",
     "start_time": "2018-06-25T01:46:48.858155Z"
    }
   },
   "outputs": [
    {
     "data": {
      "text/plain": [
       "datetime.datetime(2018, 6, 26, 1, 46, 48, 862445)"
      ]
     },
     "execution_count": 155,
     "metadata": {},
     "output_type": "execute_result"
    }
   ],
   "source": [
    "a = dt.datetime.now()+dt.timedelta(days=1)\n",
    "a"
   ]
  },
  {
   "cell_type": "code",
   "execution_count": 157,
   "metadata": {
    "ExecuteTime": {
     "end_time": "2018-06-25T01:47:34.176338Z",
     "start_time": "2018-06-25T01:47:34.164865Z"
    }
   },
   "outputs": [
    {
     "name": "stdout",
     "output_type": "stream",
     "text": [
      "2018-06-25 01:47:34.171666\n",
      "2018-06-25 01:47:35.171711\n"
     ]
    }
   ],
   "source": [
    "b = dt.datetime.now()\n",
    "a = dt.datetime.now()+dt.timedelta(seconds=1)\n",
    "print(b)\n",
    "print(a)"
   ]
  },
  {
   "cell_type": "code",
   "execution_count": 247,
   "metadata": {
    "ExecuteTime": {
     "end_time": "2018-06-25T03:55:37.837381Z",
     "start_time": "2018-06-25T03:55:37.828412Z"
    }
   },
   "outputs": [
    {
     "data": {
      "text/plain": [
       "datetime.datetime(2019, 5, 21, 12, 0)"
      ]
     },
     "execution_count": 247,
     "metadata": {},
     "output_type": "execute_result"
    }
   ],
   "source": [
    "a.replace(year=2019,month=5,day=21,hour=12,minute=0,second=0,microsecond=0)"
   ]
  },
  {
   "cell_type": "code",
   "execution_count": 124,
   "metadata": {
    "ExecuteTime": {
     "end_time": "2018-06-24T03:24:15.756495Z",
     "start_time": "2018-06-24T03:24:15.747749Z"
    }
   },
   "outputs": [
    {
     "data": {
      "text/plain": [
       "datetime.datetime(2018, 6, 24, 3, 24, 15, 751450)"
      ]
     },
     "execution_count": 124,
     "metadata": {},
     "output_type": "execute_result"
    }
   ],
   "source": [
    "dt.datetime.now()"
   ]
  },
  {
   "cell_type": "code",
   "execution_count": 125,
   "metadata": {
    "ExecuteTime": {
     "end_time": "2018-06-24T03:24:32.645870Z",
     "start_time": "2018-06-24T03:24:32.640760Z"
    },
    "collapsed": true
   },
   "outputs": [],
   "source": [
    "b = create_from_D('2018y-6m-14d-12H:00M:00S')"
   ]
  },
  {
   "cell_type": "code",
   "execution_count": 126,
   "metadata": {
    "ExecuteTime": {
     "end_time": "2018-06-24T03:24:36.321237Z",
     "start_time": "2018-06-24T03:24:36.312845Z"
    }
   },
   "outputs": [
    {
     "data": {
      "text/plain": [
       "0"
      ]
     },
     "execution_count": 126,
     "metadata": {},
     "output_type": "execute_result"
    }
   ],
   "source": [
    "b.microsecond"
   ]
  },
  {
   "cell_type": "code",
   "execution_count": 132,
   "metadata": {
    "ExecuteTime": {
     "end_time": "2018-06-24T03:30:31.404119Z",
     "start_time": "2018-06-24T03:30:31.397539Z"
    }
   },
   "outputs": [
    {
     "data": {
      "text/plain": [
       "24"
      ]
     },
     "execution_count": 132,
     "metadata": {},
     "output_type": "execute_result"
    }
   ],
   "source": [
    "current.day"
   ]
  },
  {
   "cell_type": "code",
   "execution_count": 409,
   "metadata": {
    "ExecuteTime": {
     "end_time": "2018-06-25T14:24:11.024389Z",
     "start_time": "2018-06-25T14:24:11.004442Z"
    }
   },
   "outputs": [
    {
     "ename": "TypeError",
     "evalue": "unsupported operand type(s) for +: 'int' and 'NoneType'",
     "output_type": "error",
     "traceback": [
      "\u001b[0;31m---------------------------------------------------------------------------\u001b[0m",
      "\u001b[0;31mTypeError\u001b[0m                                 Traceback (most recent call last)",
      "\u001b[0;32m<ipython-input-409-933f04c7aede>\u001b[0m in \u001b[0;36m<module>\u001b[0;34m()\u001b[0m\n\u001b[0;32m----> 1\u001b[0;31m \u001b[0;36m0\u001b[0m\u001b[0;34m+\u001b[0m\u001b[0;32mNone\u001b[0m\u001b[0;34m\u001b[0m\u001b[0m\n\u001b[0m",
      "\u001b[0;31mTypeError\u001b[0m: unsupported operand type(s) for +: 'int' and 'NoneType'"
     ]
    }
   ],
   "source": [
    "0+None"
   ]
  },
  {
   "cell_type": "code",
   "execution_count": 708,
   "metadata": {
    "ExecuteTime": {
     "end_time": "2018-06-25T18:23:21.341885Z",
     "start_time": "2018-06-25T18:23:21.333767Z"
    }
   },
   "outputs": [
    {
     "data": {
      "text/plain": [
       "['下个月23日']"
      ]
     },
     "execution_count": 708,
     "metadata": {},
     "output_type": "execute_result"
    }
   ],
   "source": [
    "a = '我下个月23日还'\n",
    "re.findall(r'(?:明年|今年|后年)?(?:\\d{1,2}|十二|十一|十|九|八|七|六|五|四|三|二|一|下个|再下个)*月\\d{1,2}[日号]',a)"
   ]
  },
  {
   "cell_type": "code",
   "execution_count": 703,
   "metadata": {
    "ExecuteTime": {
     "end_time": "2018-06-25T18:19:21.109495Z",
     "start_time": "2018-06-25T18:19:21.104269Z"
    }
   },
   "outputs": [
    {
     "data": {
      "text/plain": [
       "'+1y-12m-23d-?H:?M:?S'"
      ]
     },
     "execution_count": 703,
     "metadata": {},
     "output_type": "execute_result"
    }
   ],
   "source": [
    "a = '{}y-{}m-{}d-{}H:{}M:{}S'.format('+1',12,23,'?','?','?')\n",
    "a"
   ]
  },
  {
   "cell_type": "markdown",
   "metadata": {
    "collapsed": true
   },
   "source": [
    "# DEV BY SHU"
   ]
  },
  {
   "cell_type": "code",
   "execution_count": 764,
   "metadata": {
    "ExecuteTime": {
     "end_time": "2018-06-26T19:42:12.361301Z",
     "start_time": "2018-06-26T19:42:12.245330Z"
    }
   },
   "outputs": [
    {
     "name": "stdout",
     "output_type": "stream",
     "text": [
      "? +2 24\n"
     ]
    }
   ],
   "source": [
    "import re\n",
    "\n",
    "def reg(string):\n",
    "    test = re.compile(r'(?:(?:今|明|后|大后)年)?(?:(?:\\d{1,2}|下个|下下个|下下下个|一|二|三|四|五|六|七|八|九|十|十一|十二)月)?(?:(?:\\d{1,2}|一|二|三|四|五|六|七|八|九|十|十一|十二|十三|十四|十五|十六|十七|十八|十九|二十|二十一|二十二|二十三|二十四|二十五|二十六|二十七|二十八|二十九|三十|三十一)日)?')\n",
    "    result = re.findall(test,string)[0]\n",
    "    return result\n",
    "   # sampl = '{}y-{}m-{}d-{}H:{}M:{}S'.format()\n",
    "def to_form(input):\n",
    "    if input is None:\n",
    "        input = '?'\n",
    "    return input\n",
    "def split(result):\n",
    "    time_dic = {'今':'0','明':'+1','后':'+2','大后':'+3','下个':'+1','下下个':'+2','下下下个':'+3','一':'1','二':'2','三':'3','四':'4','五':'5','六':'6',\n",
    "               '七':'7','八':'8','九':'9','十':'10','十一':'11','十二':'12','十三':'13','十四':'14','十五':'15',\n",
    "               '十六':'16','十七':'17','十八':'18','十九':'19','二十':'20','二十一':'21','二十二':'22','二十三':'23',\n",
    "               '二十四':'24','二十五':'25','二十六':'26','二十七':'27','二十八':'28','二十九':'29','三十':'30','三十一':'31'}\n",
    "\n",
    "    year_index = result.find('年')\n",
    "    month_index = result.find('月')\n",
    "    if result.find('日') != -1:\n",
    "        date_index = result.find('日')\n",
    "    else:\n",
    "        date_index = result.find('号')\n",
    "\n",
    "    if year_index != -1:\n",
    "        year_key = result[0:year_index]  \n",
    "        year = time_dic.get(year_key)\n",
    "        year = to_form(year)\n",
    "\n",
    "    else:\n",
    "        year = '?'\n",
    "    if month_index != -1:\n",
    "        month_key = result[year_index+1:month_index]\n",
    "        month = time_dic.get(month_key)\n",
    "        month = to_form(month)\n",
    "    else:\n",
    "        month = '?'\n",
    "    if date_index != -1:\n",
    "        date_key = result[month_index+1:date_index]\n",
    "        date = time_dic.get(date_key)\n",
    "        date = to_form(date)\n",
    "    else:\n",
    "        date = '?'\n",
    "    print(year,month,date)\n",
    "\n",
    "\n",
    "split(reg('下下个月二十四日还'))\n",
    "\n",
    "# re.findall(r'(?:(明|今|后)年)?(?:\\d{1,2}|十二|十一|十|九|八|七|六|五|四|三|二|一)*(?:月)*\\d{1,2}[日号]',a)"
   ]
  },
  {
   "cell_type": "code",
   "execution_count": 802,
   "metadata": {
    "ExecuteTime": {
     "end_time": "2018-06-26T20:17:33.451025Z",
     "start_time": "2018-06-26T20:17:33.440341Z"
    }
   },
   "outputs": [
    {
     "data": {
      "text/plain": [
       "['下下个月4号', '下个月6号']"
      ]
     },
     "execution_count": 802,
     "metadata": {},
     "output_type": "execute_result"
    }
   ],
   "source": [
    "def reg(x):\n",
    "    fix_ymd = r'(?:(?:今|明|后|大后)年)?(?:(?:\\d{1,2}|下下下个|下下个|再下个|下个|十一|十二|一|二|三|四|五|六|七|八|九|十|后1个|后2个|后一个|后两个|后二个)月)?(?:(?:\\d{1,2}|一|二|三|四|五|六|七|八|九|十|十一|十二|十三|十四|十五|十六|十七|十八|十九|二十|二十一|二十二|二十三|二十四|二十五|二十六|二十七|二十八|二十九|三十|三十一)[日号])?'\n",
    "    finds = list(set(re.findall(fix_ymd,x)) -set(['']))\n",
    "    return finds\n",
    "    \n",
    "\n",
    "reg('我下个月6号就还，哦不不下下个月4号')"
   ]
  },
  {
   "cell_type": "code",
   "execution_count": 846,
   "metadata": {
    "ExecuteTime": {
     "end_time": "2018-06-26T20:59:16.609754Z",
     "start_time": "2018-06-26T20:59:16.439858Z"
    }
   },
   "outputs": [],
   "source": [
    "\n",
    "\n",
    "def reg(x):\n",
    "    fix_ymd = r'(?:(?:今|明|后|大后)年)?(?:(?:\\d{1,2}|下下下个|下下个|再下个|下个|十一|十二|一|二|三|四|五|六|七|八|九|十|后1个|后2个|后一个|后两个|后二个)月)?(?:(?:\\d{1,2}|一|二|三|四|五|六|七|八|九|十|十一|十二|十三|十四|十五|十六|十七|十八|十九|二十|二十一|二十二|二十三|二十四|二十五|二十六|二十七|二十八|二十九|三十|三十一)[日号])?'\n",
    "    finds = list(set(re.findall(fix_ymd,x)) -set(['']))\n",
    "    return finds\n",
    "\n",
    "\n",
    "\n",
    "def ymd_expression(result):\n",
    "    def get_key(x):\n",
    "        if x.isdigit():\n",
    "            return x\n",
    "        else:\n",
    "            gets = time_dic.get(x)\n",
    "            if x is None:\n",
    "                return '?'\n",
    "            else:\n",
    "                return gets\n",
    "            \n",
    "    \n",
    "    time_dic = {'今':'0','明':'+1','后':'+2','大后':'+3','下个':'+1','下下个':'+2','再下个':'+2','下下下个':'+3','后1个':'+1','后2个':'+1','后一个':'+1','后两个':'+1',\n",
    "                '一':'1','二':'2','三':'3','四':'4','五':'5','六':'6',\n",
    "               '七':'7','八':'8','九':'9','十':'10','十一':'11','十二':'12','十三':'13','十四':'14','十五':'15',\n",
    "               '十六':'16','十七':'17','十八':'18','十九':'19','二十':'20','二十一':'21','二十二':'22','二十三':'23',\n",
    "               '二十四':'24','二十五':'25','二十六':'26','二十七':'27','二十八':'28','二十九':'29','三十':'30','三十一':'31'}\n",
    "    year_index = result.find('年')\n",
    "    month_index = result.find('月')\n",
    "    if result.find('日') != -1:\n",
    "        date_index = result.find('日')\n",
    "    else:\n",
    "        date_index = result.find('号')\n",
    "        \n",
    "    if year_index != -1:\n",
    "        year_key = result[0:year_index]  \n",
    "        year = get_key(year_key)\n",
    "    else:\n",
    "        year = '?'\n",
    "    if month_index != -1:\n",
    "        month_key = result[year_index+1:month_index]\n",
    "        month = get_key(month_key)\n",
    "    else:\n",
    "        month = '?'\n",
    "    if date_index != -1:\n",
    "        date_key = result[month_index+1:date_index]\n",
    "        date = get_key(date_key)\n",
    "    else:\n",
    "        date = '?'\n",
    "    formatted = '{}y-{}m-{}d-12H:00M:00S'.format(year, month, date)\n",
    "    return formatted\n",
    "\n",
    "\n",
    "def evl_ymd(text):\n",
    "    finds = reg(text)\n",
    "    evls = []\n",
    "    if len(finds) == 0:\n",
    "        return elvs\n",
    "    else:\n",
    "        for each in finds:\n",
    "            evls.append({'pattern':each, 'expression':ymd_expression(each)})\n",
    "    return evls"
   ]
  },
  {
   "cell_type": "code",
   "execution_count": 848,
   "metadata": {
    "ExecuteTime": {
     "end_time": "2018-06-26T20:59:48.959351Z",
     "start_time": "2018-06-26T20:59:48.952418Z"
    }
   },
   "outputs": [
    {
     "data": {
      "text/plain": [
       "[{'expression': '+1y-7m-?d-12H:00M:00S', 'pattern': '明年7月'},\n",
       " {'expression': '?y-+1m-23d-12H:00M:00S', 'pattern': '下个月二十三号'}]"
      ]
     },
     "execution_count": 848,
     "metadata": {},
     "output_type": "execute_result"
    }
   ],
   "source": [
    "evl_ymd('下个月二十三号可能不行，明年7月份还')\n"
   ]
  },
  {
   "cell_type": "code",
   "execution_count": 809,
   "metadata": {
    "ExecuteTime": {
     "end_time": "2018-06-26T20:25:39.441320Z",
     "start_time": "2018-06-26T20:25:39.436447Z"
    },
    "collapsed": true
   },
   "outputs": [],
   "source": [
    "to_form = lambda x: '?' if x is None else x"
   ]
  },
  {
   "cell_type": "code",
   "execution_count": 814,
   "metadata": {
    "ExecuteTime": {
     "end_time": "2018-06-26T20:25:57.830235Z",
     "start_time": "2018-06-26T20:25:57.824781Z"
    }
   },
   "outputs": [
    {
     "data": {
      "text/plain": [
       "'123'"
      ]
     },
     "execution_count": 814,
     "metadata": {},
     "output_type": "execute_result"
    }
   ],
   "source": [
    "to_form('123')"
   ]
  },
  {
   "cell_type": "code",
   "execution_count": 829,
   "metadata": {
    "ExecuteTime": {
     "end_time": "2018-06-26T20:43:40.867264Z",
     "start_time": "2018-06-26T20:43:40.863264Z"
    },
    "collapsed": true
   },
   "outputs": [],
   "source": [
    "a = '01'"
   ]
  },
  {
   "cell_type": "code",
   "execution_count": 830,
   "metadata": {
    "ExecuteTime": {
     "end_time": "2018-06-26T20:43:41.525518Z",
     "start_time": "2018-06-26T20:43:41.519542Z"
    }
   },
   "outputs": [
    {
     "data": {
      "text/plain": [
       "True"
      ]
     },
     "execution_count": 830,
     "metadata": {},
     "output_type": "execute_result"
    }
   ],
   "source": [
    "a.isdigit()"
   ]
  },
  {
   "cell_type": "code",
   "execution_count": null,
   "metadata": {
    "collapsed": true
   },
   "outputs": [],
   "source": []
  }
 ],
 "metadata": {
  "kernelspec": {
   "display_name": "Python 3",
   "language": "python",
   "name": "python3"
  },
  "language_info": {
   "codemirror_mode": {
    "name": "ipython",
    "version": 3
   },
   "file_extension": ".py",
   "mimetype": "text/x-python",
   "name": "python",
   "nbconvert_exporter": "python",
   "pygments_lexer": "ipython3",
   "version": "3.6.5"
  },
  "varInspector": {
   "cols": {
    "lenName": 16,
    "lenType": 16,
    "lenVar": 40
   },
   "kernels_config": {
    "python": {
     "delete_cmd_postfix": "",
     "delete_cmd_prefix": "del ",
     "library": "var_list.py",
     "varRefreshCmd": "print(var_dic_list())"
    },
    "r": {
     "delete_cmd_postfix": ") ",
     "delete_cmd_prefix": "rm(",
     "library": "var_list.r",
     "varRefreshCmd": "cat(var_dic_list()) "
    }
   },
   "types_to_exclude": [
    "module",
    "function",
    "builtin_function_or_method",
    "instance",
    "_Feature"
   ],
   "window_display": false
  }
 },
 "nbformat": 4,
 "nbformat_minor": 2
}
