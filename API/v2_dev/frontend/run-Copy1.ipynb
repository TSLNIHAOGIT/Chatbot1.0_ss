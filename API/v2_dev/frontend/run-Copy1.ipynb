{
 "cells": [
  {
   "cell_type": "code",
   "execution_count": 1,
   "metadata": {
    "ExecuteTime": {
     "end_time": "2018-06-27T14:50:17.026711Z",
     "start_time": "2018-06-27T14:50:16.455254Z"
    }
   },
   "outputs": [],
   "source": [
    "# from flask_other.app import app\n",
    "from flask import Flask\n",
    "from flask_socketio import SocketIO, emit,join_room,leave_room\n",
    "from threading import Lock\n",
    "import os,sys\n",
    "# sys.path.append('../../../../Chatbot1.0/')\n",
    "# sys.path.append('/home/kai/data/Chatbot1.0/API/v1/frontend/')\n",
    "app=Flask(\"demo\")\n",
    "from flask import  render_template,request\n",
    "import time\n",
    "import re\n",
    "\n",
    "import pandas as pd\n",
    "import numpy as np\n",
    "import time\n",
    "import re\n",
    "import requests\n",
    "\n",
    "\n",
    "\n",
    "##################################\n",
    "async_mode = None\n",
    "\n",
    "app = Flask(__name__)\n",
    "app.config['SECRET_KEY'] = 'secret!'\n",
    "socketio = SocketIO(app, async_mode=async_mode)\n",
    "\n",
    "\n",
    "\n",
    "\n",
    "thread = None\n",
    "thread_lock = Lock()\n",
    "clients = []\n",
    "\n",
    "\n",
    "@app.route('/')\n",
    "def index():\n",
    "    return render_template('index.html', async_mode=socketio.async_mode)\n",
    "\n",
    "\n",
    "@socketio.on('client_send',namespace='/test')\n",
    "def client_msg(msg):  \n",
    "    print(msg['data']) # this the contentext sent by client\n",
    "    response = 'data get'\n",
    "    socketio.emit('my_response',{'data':response},room = request.sid, namespace='/test')\n",
    "\n",
    "#sned message to a specific user\n",
    "def unique_message(uid):\n",
    "    socketio.emit('unique_messgae',{'data':'are you still here'}, room=uid, namespace='/test')\n",
    "    \n",
    "@socketio.on('disconnect',namespace='/test')\n",
    "def disconnect():\n",
    "    uid = request.sid\n",
    "    print(uid + \" disconnect\")\n",
    "    clients.remove(uid)\n",
    "    leave_room(uid)\n",
    "    last = len(clients)\n",
    "    socketio.emit('unique_message',{'data':'are you still here'}, room = clients[last-1],namespace = '/test')\n",
    "    \n",
    "@socketio.on('connect',namespace='/test')\n",
    "def connect():\n",
    "    print('connect')\n",
    "    print(request.sid)\n",
    "    uid = request.sid\n",
    "    clients.append(uid)\n",
    "    print(len(clients))\n",
    "    \n",
    "    join_room(uid)\n",
    "    \n",
    "    print('above is room')\n",
    "    socketio.emit('my_response',{'data':'hello'},room = uid,namespace='/test') #the first sentence \n",
    "\n",
    "\n"
   ]
  },
  {
   "cell_type": "code",
   "execution_count": 2,
   "metadata": {
    "ExecuteTime": {
     "end_time": "2018-06-27T14:52:42.086500Z",
     "start_time": "2018-06-27T14:50:18.213016Z"
    }
   },
   "outputs": [
    {
     "name": "stdout",
     "output_type": "stream",
     "text": [
      "http://10.0.24.31:8899/\n",
      "http://0.0.0.0:6006/\n",
      "connect\n",
      "f519f4d1142e48eb9f5d7d163079642b\n",
      "1\n",
      "above is room\n",
      "\n",
      "connect\n",
      "774e28887c5c429587ef68b48ddbd4cd\n",
      "2\n",
      "above is room\n",
      "\n",
      "774e28887c5c429587ef68b48ddbd4cd disconnect\n"
     ]
    },
    {
     "name": "stderr",
     "output_type": "stream",
     "text": [
      "KeyboardInterrupt\n",
      "2018-06-27T14:52:41Z\n"
     ]
    },
    {
     "ename": "KeyboardInterrupt",
     "evalue": "",
     "output_type": "error",
     "traceback": [
      "\u001b[0;31m---------------------------------------------------------------------------\u001b[0m",
      "\u001b[0;31mKeyboardInterrupt\u001b[0m                         Traceback (most recent call last)",
      "\u001b[0;32m<ipython-input-2-44d15ae51443>\u001b[0m in \u001b[0;36m<module>\u001b[0;34m()\u001b[0m\n\u001b[1;32m      1\u001b[0m \u001b[0mprint\u001b[0m\u001b[0;34m(\u001b[0m\u001b[0;34m'http://10.0.24.31:8899/'\u001b[0m\u001b[0;34m)\u001b[0m\u001b[0;34m\u001b[0m\u001b[0m\n\u001b[1;32m      2\u001b[0m \u001b[0mprint\u001b[0m\u001b[0;34m(\u001b[0m\u001b[0;34m'http://0.0.0.0:6006/'\u001b[0m\u001b[0;34m)\u001b[0m\u001b[0;34m\u001b[0m\u001b[0m\n\u001b[0;32m----> 3\u001b[0;31m \u001b[0msocketio\u001b[0m\u001b[0;34m.\u001b[0m\u001b[0mrun\u001b[0m\u001b[0;34m(\u001b[0m\u001b[0mapp\u001b[0m\u001b[0;34m,\u001b[0m\u001b[0;34m'0.0.0.0'\u001b[0m\u001b[0;34m,\u001b[0m\u001b[0;36m6006\u001b[0m\u001b[0;34m)\u001b[0m\u001b[0;34m\u001b[0m\u001b[0m\n\u001b[0m",
      "\u001b[0;32m~/anaconda3/lib/python3.6/site-packages/flask_socketio/__init__.py\u001b[0m in \u001b[0;36mrun\u001b[0;34m(self, app, host, port, **kwargs)\u001b[0m\n\u001b[1;32m    554\u001b[0m                 \u001b[0mrun_with_reloader\u001b[0m\u001b[0;34m(\u001b[0m\u001b[0mrun_server\u001b[0m\u001b[0;34m,\u001b[0m \u001b[0mextra_files\u001b[0m\u001b[0;34m=\u001b[0m\u001b[0mextra_files\u001b[0m\u001b[0;34m)\u001b[0m\u001b[0;34m\u001b[0m\u001b[0m\n\u001b[1;32m    555\u001b[0m             \u001b[0;32melse\u001b[0m\u001b[0;34m:\u001b[0m\u001b[0;34m\u001b[0m\u001b[0m\n\u001b[0;32m--> 556\u001b[0;31m                 \u001b[0mself\u001b[0m\u001b[0;34m.\u001b[0m\u001b[0mwsgi_server\u001b[0m\u001b[0;34m.\u001b[0m\u001b[0mserve_forever\u001b[0m\u001b[0;34m(\u001b[0m\u001b[0;34m)\u001b[0m\u001b[0;34m\u001b[0m\u001b[0m\n\u001b[0m\u001b[1;32m    557\u001b[0m \u001b[0;34m\u001b[0m\u001b[0m\n\u001b[1;32m    558\u001b[0m     \u001b[0;32mdef\u001b[0m \u001b[0mstop\u001b[0m\u001b[0;34m(\u001b[0m\u001b[0mself\u001b[0m\u001b[0;34m)\u001b[0m\u001b[0;34m:\u001b[0m\u001b[0;34m\u001b[0m\u001b[0m\n",
      "\u001b[0;32m~/anaconda3/lib/python3.6/site-packages/gevent/baseserver.py\u001b[0m in \u001b[0;36mserve_forever\u001b[0;34m(self, stop_timeout)\u001b[0m\n\u001b[1;32m    362\u001b[0m             \u001b[0mself\u001b[0m\u001b[0;34m.\u001b[0m\u001b[0mstart\u001b[0m\u001b[0;34m(\u001b[0m\u001b[0;34m)\u001b[0m\u001b[0;34m\u001b[0m\u001b[0m\n\u001b[1;32m    363\u001b[0m         \u001b[0;32mtry\u001b[0m\u001b[0;34m:\u001b[0m\u001b[0;34m\u001b[0m\u001b[0m\n\u001b[0;32m--> 364\u001b[0;31m             \u001b[0mself\u001b[0m\u001b[0;34m.\u001b[0m\u001b[0m_stop_event\u001b[0m\u001b[0;34m.\u001b[0m\u001b[0mwait\u001b[0m\u001b[0;34m(\u001b[0m\u001b[0;34m)\u001b[0m\u001b[0;34m\u001b[0m\u001b[0m\n\u001b[0m\u001b[1;32m    365\u001b[0m         \u001b[0;32mfinally\u001b[0m\u001b[0;34m:\u001b[0m\u001b[0;34m\u001b[0m\u001b[0m\n\u001b[1;32m    366\u001b[0m             \u001b[0mGreenlet\u001b[0m\u001b[0;34m.\u001b[0m\u001b[0mspawn\u001b[0m\u001b[0;34m(\u001b[0m\u001b[0mself\u001b[0m\u001b[0;34m.\u001b[0m\u001b[0mstop\u001b[0m\u001b[0;34m,\u001b[0m \u001b[0mtimeout\u001b[0m\u001b[0;34m=\u001b[0m\u001b[0mstop_timeout\u001b[0m\u001b[0;34m)\u001b[0m\u001b[0;34m.\u001b[0m\u001b[0mjoin\u001b[0m\u001b[0;34m(\u001b[0m\u001b[0;34m)\u001b[0m\u001b[0;34m\u001b[0m\u001b[0m\n",
      "\u001b[0;32m~/anaconda3/lib/python3.6/site-packages/gevent/_event.cpython-36m-x86_64-linux-gnu.so\u001b[0m in \u001b[0;36mgevent._event.Event.wait\u001b[0;34m()\u001b[0m\n",
      "\u001b[0;32m~/anaconda3/lib/python3.6/site-packages/gevent/_event.cpython-36m-x86_64-linux-gnu.so\u001b[0m in \u001b[0;36mgevent._event._AbstractLinkable._wait\u001b[0;34m()\u001b[0m\n",
      "\u001b[0;32m~/anaconda3/lib/python3.6/site-packages/gevent/_event.cpython-36m-x86_64-linux-gnu.so\u001b[0m in \u001b[0;36mgevent._event._AbstractLinkable._wait_core\u001b[0;34m()\u001b[0m\n",
      "\u001b[0;32m~/anaconda3/lib/python3.6/site-packages/gevent/_event.cpython-36m-x86_64-linux-gnu.so\u001b[0m in \u001b[0;36mgevent._event._AbstractLinkable._wait_core\u001b[0;34m()\u001b[0m\n",
      "\u001b[0;32m~/anaconda3/lib/python3.6/site-packages/gevent/__greenlet_primitives.cpython-36m-x86_64-linux-gnu.so\u001b[0m in \u001b[0;36mgevent.__greenlet_primitives.SwitchOutGreenletWithLoop.switch\u001b[0;34m()\u001b[0m\n",
      "\u001b[0;32m~/anaconda3/lib/python3.6/site-packages/gevent/__greenlet_primitives.cpython-36m-x86_64-linux-gnu.so\u001b[0m in \u001b[0;36mgevent.__greenlet_primitives.SwitchOutGreenletWithLoop.switch\u001b[0;34m()\u001b[0m\n",
      "\u001b[0;32m~/anaconda3/lib/python3.6/site-packages/gevent/__greenlet_primitives.cpython-36m-x86_64-linux-gnu.so\u001b[0m in \u001b[0;36mgevent.__greenlet_primitives.SwitchOutGreenletWithLoop.switch\u001b[0;34m()\u001b[0m\n",
      "\u001b[0;32msrc/gevent/__greenlet_primitives.pxd\u001b[0m in \u001b[0;36mgevent.__greenlet_primitives._greenlet_switch\u001b[0;34m()\u001b[0m\n",
      "\u001b[0;31mKeyboardInterrupt\u001b[0m: "
     ]
    }
   ],
   "source": [
    "print('http://10.0.24.31:8899/')\n",
    "print('http://0.0.0.0:6006/')\n",
    "socketio.run(app,'0.0.0.0',6006)"
   ]
  },
  {
   "cell_type": "code",
   "execution_count": null,
   "metadata": {
    "collapsed": true
   },
   "outputs": [],
   "source": []
  }
 ],
 "metadata": {
  "kernelspec": {
   "display_name": "Python 3",
   "language": "python",
   "name": "python3"
  },
  "language_info": {
   "codemirror_mode": {
    "name": "ipython",
    "version": 3
   },
   "file_extension": ".py",
   "mimetype": "text/x-python",
   "name": "python",
   "nbconvert_exporter": "python",
   "pygments_lexer": "ipython3",
   "version": "3.6.5"
  },
  "varInspector": {
   "cols": {
    "lenName": 16,
    "lenType": 16,
    "lenVar": 40
   },
   "kernels_config": {
    "python": {
     "delete_cmd_postfix": "",
     "delete_cmd_prefix": "del ",
     "library": "var_list.py",
     "varRefreshCmd": "print(var_dic_list())"
    },
    "r": {
     "delete_cmd_postfix": ") ",
     "delete_cmd_prefix": "rm(",
     "library": "var_list.r",
     "varRefreshCmd": "cat(var_dic_list()) "
    }
   },
   "types_to_exclude": [
    "module",
    "function",
    "builtin_function_or_method",
    "instance",
    "_Feature"
   ],
   "window_display": false
  }
 },
 "nbformat": 4,
 "nbformat_minor": 2
}
