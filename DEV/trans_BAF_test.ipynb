{
 "cells": [
  {
   "cell_type": "code",
   "execution_count": 1,
   "metadata": {
    "ExecuteTime": {
     "end_time": "2018-06-06T20:11:00.008830Z",
     "start_time": "2018-06-06T20:10:59.699981Z"
    },
    "collapsed": true
   },
   "outputs": [],
   "source": [
    "from textblob import TextBlob\n",
    "import jieba"
   ]
  },
  {
   "cell_type": "code",
   "execution_count": 7,
   "metadata": {
    "ExecuteTime": {
     "end_time": "2018-06-06T20:16:21.447964Z",
     "start_time": "2018-06-06T20:16:21.439132Z"
    }
   },
   "outputs": [
    {
     "name": "stdout",
     "output_type": "stream",
     "text": [
      "full mode:你好/陈先生/先生///这里/是/催收/公司///想/就/您/欠款/1/2/亿/的/事情/进行/沟通/沟通了解/通了/了解///请问/您/什么/时候/能/处理/呢//\n",
      "default mode:你好/陈先生/，/这里/是/催收/公司/，/想/就/您/欠款/1.2/亿/的/事情/进行/沟通了解/，/请问/您/什么/时候/能/处理/呢/？\n"
     ]
    }
   ],
   "source": [
    "comment = \"你好陈先生，这里是催收公司，想就您欠款1.2亿的事情进行沟通了解，请问您什么时候能处理呢？\"\n",
    "seg_comment_full = jieba.cut(comment, cut_all=True)\n",
    "print('full mode:'+'/'.join(seg_comment_full))\n",
    "seg_comment_default = jieba.cut(comment, cut_all=False)\n",
    "print('default mode:'+'/'.join(seg_comment_default))"
   ]
  },
  {
   "cell_type": "code",
   "execution_count": 10,
   "metadata": {
    "ExecuteTime": {
     "end_time": "2018-06-06T20:17:29.857754Z",
     "start_time": "2018-06-06T20:17:29.853334Z"
    },
    "collapsed": true
   },
   "outputs": [],
   "source": [
    "if hasattr(comment, \"decode\"):\n",
    "    comment = comment.decode('utf-8')\n",
    "text = TextBlob(comment)"
   ]
  },
  {
   "cell_type": "code",
   "execution_count": 11,
   "metadata": {
    "ExecuteTime": {
     "end_time": "2018-06-06T20:17:30.621469Z",
     "start_time": "2018-06-06T20:17:30.216213Z"
    }
   },
   "outputs": [
    {
     "data": {
      "text/plain": [
       "TextBlob(\"Hello, Mr. Chen, this is a collection company and wants to communicate about the 120 million yuan you owe. I would like to ask when can you handle it?\")"
      ]
     },
     "execution_count": 11,
     "metadata": {},
     "output_type": "execute_result"
    }
   ],
   "source": [
    "text_en = text.translate(to='en')\n",
    "text_th = text.translate(to='th')\n",
    "text_fr = text.translate(to='fr')\n",
    "text_es = text.translate(to='es')\n",
    "text_el = text.translate(to='el')\n",
    "text_lo = text.translate(to='lo')\n",
    "text_en"
   ]
  },
  {
   "cell_type": "code",
   "execution_count": 22,
   "metadata": {
    "ExecuteTime": {
     "end_time": "2018-06-06T20:22:08.031925Z",
     "start_time": "2018-06-06T20:22:07.905486Z"
    }
   },
   "outputs": [
    {
     "name": "stdout",
     "output_type": "stream",
     "text": [
      "你好/，/陈先生/，/这是/一家/收藏/公司/，/想要/交流/你/欠下/的/1.2/亿元/人民币/。/我/想/问/你/什么/时候/可以/处理/它/？\n"
     ]
    }
   ],
   "source": [
    "text_en.translate(to='zh')\n",
    "print('/'.join(jieba.cut(str(text_en.translate(to='zh')))))\n",
    "# text_zh"
   ]
  },
  {
   "cell_type": "code",
   "execution_count": 23,
   "metadata": {
    "ExecuteTime": {
     "end_time": "2018-06-06T20:22:58.692904Z",
     "start_time": "2018-06-06T20:22:58.335200Z"
    }
   },
   "outputs": [
    {
     "name": "stdout",
     "output_type": "stream",
     "text": [
      "嗨/陈/，/这是/一家/仓储/公司/，/我/想/联系/一下/我/欠下/的/1.2/亿元/人民币/，/我/想/问/你/什么/时候/可以/管理/？\n"
     ]
    }
   ],
   "source": [
    "text_th.translate(to='zh')\n",
    "print('/'.join(jieba.cut(str(text_th.translate(to='zh')))))"
   ]
  },
  {
   "cell_type": "code",
   "execution_count": 24,
   "metadata": {
    "ExecuteTime": {
     "end_time": "2018-06-06T20:23:10.073681Z",
     "start_time": "2018-06-06T20:23:09.924297Z"
    }
   },
   "outputs": [
    {
     "name": "stdout",
     "output_type": "stream",
     "text": [
      "你好/，/陈先生/，/这是/一家/收藏/公司/，/想要/沟通/你/所欠/的/1.2/亿元/人民币/。/我/想/问/你/什么/时候/可以/处理/？\n"
     ]
    }
   ],
   "source": [
    "text_fr.translate(to='zh')\n",
    "print('/'.join(jieba.cut(str(text_fr.translate(to='zh')))))"
   ]
  },
  {
   "cell_type": "code",
   "execution_count": 25,
   "metadata": {
    "ExecuteTime": {
     "end_time": "2018-06-06T20:23:25.472659Z",
     "start_time": "2018-06-06T20:23:25.339830Z"
    }
   },
   "outputs": [
    {
     "name": "stdout",
     "output_type": "stream",
     "text": [
      "你好/，/陈先生/，/这是/一家/收藏/公司/，/想/告诉/我/你/欠/的/1.2/亿元/人民币/。/我/想/问/你/什么/时候/可以/处理/它/。\n"
     ]
    }
   ],
   "source": [
    "text_es.translate(to='zh')\n",
    "print('/'.join(jieba.cut(str(text_es.translate(to='zh')))))"
   ]
  },
  {
   "cell_type": "code",
   "execution_count": 26,
   "metadata": {
    "ExecuteTime": {
     "end_time": "2018-06-06T20:23:55.149334Z",
     "start_time": "2018-06-06T20:23:55.019675Z"
    }
   },
   "outputs": [
    {
     "name": "stdout",
     "output_type": "stream",
     "text": [
      "陈先生/，/您好/，/这是/一家/收藏/公司/，/想要/就/您/欠下/的/1.2/亿元/人民币/进行/沟通/。/我/想/问/你/什么/时候/可以/处理/它/？\n"
     ]
    }
   ],
   "source": [
    "text_el.translate(to='zh')\n",
    "print('/'.join(jieba.cut(str(text_el.translate(to='zh')))))"
   ]
  },
  {
   "cell_type": "code",
   "execution_count": 27,
   "metadata": {
    "ExecuteTime": {
     "end_time": "2018-06-06T20:24:05.565648Z",
     "start_time": "2018-06-06T20:24:05.433212Z"
    }
   },
   "outputs": [
    {
     "name": "stdout",
     "output_type": "stream",
     "text": [
      "你好/，/陈先生/，/这是/一家/想要/与/你/需要/的/1.2/亿元/联系/的/公司/。/我/想/问/你/什么/时候/可以/管理/它/？\n"
     ]
    }
   ],
   "source": [
    "text_lo.translate(to='zh')\n",
    "print('/'.join(jieba.cut(str(text_lo.translate(to='zh')))))"
   ]
  },
  {
   "cell_type": "code",
   "execution_count": null,
   "metadata": {
    "collapsed": true
   },
   "outputs": [],
   "source": []
  }
 ],
 "metadata": {
  "kernelspec": {
   "display_name": "Python 3",
   "language": "python",
   "name": "python3"
  },
  "language_info": {
   "codemirror_mode": {
    "name": "ipython",
    "version": 3
   },
   "file_extension": ".py",
   "mimetype": "text/x-python",
   "name": "python",
   "nbconvert_exporter": "python",
   "pygments_lexer": "ipython3",
   "version": "3.6.3"
  },
  "varInspector": {
   "cols": {
    "lenName": 16,
    "lenType": 16,
    "lenVar": 40
   },
   "kernels_config": {
    "python": {
     "delete_cmd_postfix": "",
     "delete_cmd_prefix": "del ",
     "library": "var_list.py",
     "varRefreshCmd": "print(var_dic_list())"
    },
    "r": {
     "delete_cmd_postfix": ") ",
     "delete_cmd_prefix": "rm(",
     "library": "var_list.r",
     "varRefreshCmd": "cat(var_dic_list()) "
    }
   },
   "types_to_exclude": [
    "module",
    "function",
    "builtin_function_or_method",
    "instance",
    "_Feature"
   ],
   "window_display": false
  }
 },
 "nbformat": 4,
 "nbformat_minor": 2
}
