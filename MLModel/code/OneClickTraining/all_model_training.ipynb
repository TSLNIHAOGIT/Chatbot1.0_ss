{
 "cells": [
  {
   "cell_type": "code",
   "execution_count": 22,
   "metadata": {
    "ExecuteTime": {
     "end_time": "2018-06-29T20:30:39.771748Z",
     "start_time": "2018-06-29T20:30:39.748447Z"
    },
    "collapsed": true
   },
   "outputs": [],
   "source": [
    "#encoding=utf-8\n",
    "import pandas as pd\n",
    "import numpy as np\n",
    "\n",
    "from sklearn.feature_extraction.text import CountVectorizer, TfidfVectorizer, TfidfTransformer\n",
    "from sklearn.calibration import CalibratedClassifierCV\n",
    "from sklearn.svm import LinearSVC\n",
    "from sklearn.linear_model import LogisticRegression\n",
    "# import lightgbm as lgb\n",
    "from sklearn import preprocessing\n",
    "from sklearn.preprocessing import MultiLabelBinarizer\n",
    "from sklearn.naive_bayes import MultinomialNB\n",
    "\n",
    "import pickle\n",
    "\n",
    "from all_model_py import CutDebt, IDClassifier, IfKnowDebtor, Installment, WillingToPay, ConfirmLoan\n",
    "\n",
    "# import sys\n",
    "# sys.path.append('../CutDebt/')\n",
    "# sys.path.append('../IDClassifier/')\n",
    "# sys.path.append('../IfKnowDebtor/')\n",
    "# sys.path.append('../Installment/')\n",
    "# sys.path.append('../SetDueDay/')\n",
    "# sys.path.append('../WillingToPay/')\n",
    "\n",
    "# from CutDebt_py import CutDebt\n",
    "# from IDClassifier_py import IDClassifier\n",
    "# from IfKnowDebtor_py import IfKnowDebtor\n",
    "# from Installment_py import Installment\n",
    "# from SetDueDay_py import SetDueDay\n",
    "# from WillingToPay_py import WillingToPay"
   ]
  },
  {
   "cell_type": "code",
   "execution_count": null,
   "metadata": {
    "collapsed": true
   },
   "outputs": [],
   "source": []
  },
  {
   "cell_type": "code",
   "execution_count": 23,
   "metadata": {
    "ExecuteTime": {
     "end_time": "2018-06-29T20:30:41.226702Z",
     "start_time": "2018-06-29T20:30:40.417060Z"
    }
   },
   "outputs": [
    {
     "name": "stdout",
     "output_type": "stream",
     "text": [
      "CutDebt\n",
      "(8341, 2)\n",
      "fitting phrase\n",
      "transform phrase\n",
      "finish training\n",
      "IDClassifier\n",
      "(3992, 2)\n",
      "fitting phrase\n",
      "transform phrase\n"
     ]
    },
    {
     "ename": "ValueError",
     "evalue": "Requesting 3-fold cross-validation but provided less than 3 examples for at least one class.",
     "output_type": "error",
     "traceback": [
      "\u001b[0;31m---------------------------------------------------------------------------\u001b[0m",
      "\u001b[0;31mValueError\u001b[0m                                Traceback (most recent call last)",
      "\u001b[0;32m<ipython-input-23-cade6f92a2fe>\u001b[0m in \u001b[0;36m<module>\u001b[0;34m()\u001b[0m\n\u001b[1;32m     30\u001b[0m     \u001b[0ml_svc\u001b[0m \u001b[0;34m=\u001b[0m \u001b[0mLinearSVC\u001b[0m\u001b[0;34m(\u001b[0m\u001b[0;34m)\u001b[0m\u001b[0;34m\u001b[0m\u001b[0m\n\u001b[1;32m     31\u001b[0m     \u001b[0mlsvc\u001b[0m \u001b[0;34m=\u001b[0m \u001b[0mCalibratedClassifierCV\u001b[0m\u001b[0;34m(\u001b[0m\u001b[0ml_svc\u001b[0m\u001b[0;34m)\u001b[0m\u001b[0;34m\u001b[0m\u001b[0m\n\u001b[0;32m---> 32\u001b[0;31m     \u001b[0mlsvc\u001b[0m\u001b[0;34m.\u001b[0m\u001b[0mfit\u001b[0m\u001b[0;34m(\u001b[0m\u001b[0mphrase\u001b[0m\u001b[0;34m,\u001b[0m \u001b[0mdata_train\u001b[0m\u001b[0;34m.\u001b[0m\u001b[0mlabel\u001b[0m\u001b[0;34m)\u001b[0m\u001b[0;34m\u001b[0m\u001b[0m\n\u001b[0m\u001b[1;32m     33\u001b[0m \u001b[0;34m\u001b[0m\u001b[0m\n\u001b[1;32m     34\u001b[0m \u001b[0;34m\u001b[0m\u001b[0m\n",
      "\u001b[0;32m~/anaconda3/lib/python3.6/site-packages/sklearn/calibration.py\u001b[0m in \u001b[0;36mfit\u001b[0;34m(self, X, y, sample_weight)\u001b[0m\n\u001b[1;32m    139\u001b[0m             raise ValueError(\"Requesting %d-fold cross-validation but provided\"\n\u001b[1;32m    140\u001b[0m                              \u001b[0;34m\" less than %d examples for at least one class.\"\u001b[0m\u001b[0;34m\u001b[0m\u001b[0m\n\u001b[0;32m--> 141\u001b[0;31m                              % (n_folds, n_folds))\n\u001b[0m\u001b[1;32m    142\u001b[0m \u001b[0;34m\u001b[0m\u001b[0m\n\u001b[1;32m    143\u001b[0m         \u001b[0mself\u001b[0m\u001b[0;34m.\u001b[0m\u001b[0mcalibrated_classifiers_\u001b[0m \u001b[0;34m=\u001b[0m \u001b[0;34m[\u001b[0m\u001b[0;34m]\u001b[0m\u001b[0;34m\u001b[0m\u001b[0m\n",
      "\u001b[0;31mValueError\u001b[0m: Requesting 3-fold cross-validation but provided less than 3 examples for at least one class."
     ]
    }
   ],
   "source": [
    "model_list = ['CutDebt','IDClassifier','IfKnowDebtor','Installment','ConfirmLoan','WillingToPay']\n",
    "func_list = [CutDebt,IDClassifier,IfKnowDebtor,Installment,ConfirmLoan,WillingToPay]\n",
    "\n",
    "ind = 0\n",
    "for each_model in model_list:\n",
    "    print(each_model)\n",
    "    \n",
    "    # load data\n",
    "    path = '../../data/{}/'\n",
    "    data_train = pd.read_csv(path.format(each_model) + 'cleaned_mock_up_data.csv', encoding='utf8')\n",
    "    print(data_train.shape)\n",
    "\n",
    "    \n",
    "    # get tfidf\n",
    "    phrase_vectorizer = TfidfVectorizer(ngram_range=(1,3),\n",
    "                                    strip_accents='unicode', \n",
    "                                    max_features=100000, \n",
    "                                    analyzer='word',\n",
    "                                    sublinear_tf=True,\n",
    "                                    token_pattern=r'\\w{1,}')\n",
    "\n",
    "    print('fitting phrase')\n",
    "    phrase_vectorizer.fit(data_train.split_text)\n",
    "\n",
    "    print('transform phrase')\n",
    "    phrase = phrase_vectorizer.transform(data_train.split_text)\n",
    "\n",
    "    \n",
    "    # linear svc\n",
    "    l_svc = LinearSVC()\n",
    "    lsvc = CalibratedClassifierCV(l_svc) \n",
    "    lsvc.fit(phrase, data_train.label)\n",
    "    \n",
    "    \n",
    "    # logistic\n",
    "    log_r = LogisticRegression()\n",
    "    log_r.fit(phrase, data_train.label)\n",
    "    \n",
    "    \n",
    "    # Naive Bayes\n",
    "    naive_b = MultinomialNB()\n",
    "    naive_b.fit(phrase, data_train.label)\n",
    "    \n",
    "    \n",
    "    print('finish training')\n",
    "    \n",
    "    \n",
    "    \n",
    "    \n",
    "    \n",
    "#     for threhold\n",
    "    \n",
    "    # save model\n",
    "    save_path = '../../savedModel/{}/'\n",
    "#     # save tfidf\n",
    "#     pickle.dump(phrase_vectorizer, open(save_path.format(each_model) + \"tfidf.pickle\", \"wb\"))\n",
    "#     # save linear svc\n",
    "#     pickle.dump(lsvc, open(save_path.format(each_model) + \"LinearSVC.pickle\", \"wb\"))\n",
    "#     # save logistic\n",
    "#     pickle.dump(log_r, open(save_path.format(each_model) + \"Logistic.pickle\", \"wb\"))\n",
    "#     # save lightGBM\n",
    "# #     pickle.dump(lgbm_model, open(save_path.format(each_model) + \"Lgbm.pickle\", \"wb\"))\n",
    "#     # save naive bayes\n",
    "#     pickle.dump(naive_b, open(save_path.format(each_model) + \"nb.pickle\", \"wb\"))\n",
    "\n",
    "    \n",
    "    other = pickle.load(open('../../savedModel/others/{}/{}_other.pickle'.format(each_model,each_model),'rb'))\n",
    "    \n",
    "    func = func_list[ind]\n",
    "    result = func(svc=lsvc, logistic=log_r, nb=naive_b, tfidf=phrase_vectorizer, other=other,  jieba_path='../WordCut/userdict.txt')\n",
    "    pickle.dump(result, open(save_path.format(each_model) + each_model + '.pickle', \"wb\"))\n",
    "    ind = ind + 1\n",
    "    \n",
    "    \n",
    "    \n",
    "    "
   ]
  },
  {
   "cell_type": "code",
   "execution_count": 9,
   "metadata": {
    "ExecuteTime": {
     "end_time": "2018-06-29T20:17:47.811802Z",
     "start_time": "2018-06-29T20:17:47.799232Z"
    },
    "collapsed": true
   },
   "outputs": [],
   "source": [
    "# import jieba\n",
    "# sentence = '好'\n",
    "# sentence = jieba.cut(sentence)\n",
    "# sentence = ' '.join(sentence)\n",
    "# sentence = phrase_vectorizer.transform([sentence])\n",
    "# naive_b.predict_proba(sentence)"
   ]
  },
  {
   "cell_type": "code",
   "execution_count": 10,
   "metadata": {
    "ExecuteTime": {
     "end_time": "2018-06-29T20:17:48.946443Z",
     "start_time": "2018-06-29T20:17:48.751170Z"
    },
    "collapsed": true
   },
   "outputs": [],
   "source": [
    "idc = pickle.load(open(\"../../savedModel/IDClassifier/IDClassifier.pickle\", 'rb'))\n",
    "cutd = pickle.load(open(\"../../savedModel/CutDebt/CutDebt.pickle\", 'rb'))\n",
    "ifk = pickle.load(open(\"../../savedModel/IfKnowDebtor/IfKnowDebtor.pickle\", 'rb'))\n",
    "will = pickle.load(open(\"../../savedModel/WillingToPay/WillingToPay.pickle\", 'rb'))\n",
    "inst = pickle.load(open(\"../../savedModel/Installment/Installment.pickle\", 'rb'))\n",
    "conf = pickle.load(open(\"../../savedModel/ConfirmLoan/ConfirmLoan.pickle\", 'rb'))"
   ]
  },
  {
   "cell_type": "code",
   "execution_count": 20,
   "metadata": {
    "ExecuteTime": {
     "end_time": "2018-06-29T20:21:13.411730Z",
     "start_time": "2018-06-29T20:21:13.400812Z"
    }
   },
   "outputs": [
    {
     "data": {
      "text/plain": [
       "{'av_pred': array([ 0.62810537,  0.2913421 ,  0.08055253]),\n",
       " 'label': 0,\n",
       " 'pred_prob': array([[ 0.60713515,  0.35841661,  0.03444824],\n",
       "        [ 0.55666789,  0.30445086,  0.13888125],\n",
       "        [ 0.72051308,  0.21115882,  0.0683281 ]])}"
      ]
     },
     "execution_count": 20,
     "metadata": {},
     "output_type": "execute_result"
    }
   ],
   "source": [
    "idc.classify('我不认识')"
   ]
  },
  {
   "cell_type": "code",
   "execution_count": null,
   "metadata": {
    "collapsed": true
   },
   "outputs": [],
   "source": []
  },
  {
   "cell_type": "code",
   "execution_count": null,
   "metadata": {
    "collapsed": true
   },
   "outputs": [],
   "source": []
  },
  {
   "cell_type": "code",
   "execution_count": null,
   "metadata": {
    "collapsed": true
   },
   "outputs": [],
   "source": []
  },
  {
   "cell_type": "code",
   "execution_count": null,
   "metadata": {
    "collapsed": true
   },
   "outputs": [],
   "source": []
  },
  {
   "cell_type": "code",
   "execution_count": null,
   "metadata": {
    "collapsed": true
   },
   "outputs": [],
   "source": []
  },
  {
   "cell_type": "code",
   "execution_count": null,
   "metadata": {
    "collapsed": true
   },
   "outputs": [],
   "source": []
  },
  {
   "cell_type": "code",
   "execution_count": null,
   "metadata": {
    "collapsed": true
   },
   "outputs": [],
   "source": []
  },
  {
   "cell_type": "code",
   "execution_count": null,
   "metadata": {
    "collapsed": true
   },
   "outputs": [],
   "source": []
  },
  {
   "cell_type": "code",
   "execution_count": null,
   "metadata": {
    "collapsed": true
   },
   "outputs": [],
   "source": []
  },
  {
   "cell_type": "code",
   "execution_count": null,
   "metadata": {
    "collapsed": true
   },
   "outputs": [],
   "source": []
  },
  {
   "cell_type": "code",
   "execution_count": null,
   "metadata": {
    "collapsed": true
   },
   "outputs": [],
   "source": []
  },
  {
   "cell_type": "code",
   "execution_count": null,
   "metadata": {
    "collapsed": true
   },
   "outputs": [],
   "source": []
  }
 ],
 "metadata": {
  "kernelspec": {
   "display_name": "Python 3",
   "language": "python",
   "name": "python3"
  },
  "language_info": {
   "codemirror_mode": {
    "name": "ipython",
    "version": 3
   },
   "file_extension": ".py",
   "mimetype": "text/x-python",
   "name": "python",
   "nbconvert_exporter": "python",
   "pygments_lexer": "ipython3",
   "version": "3.6.3"
  },
  "varInspector": {
   "cols": {
    "lenName": 16,
    "lenType": 16,
    "lenVar": 40
   },
   "kernels_config": {
    "python": {
     "delete_cmd_postfix": "",
     "delete_cmd_prefix": "del ",
     "library": "var_list.py",
     "varRefreshCmd": "print(var_dic_list())"
    },
    "r": {
     "delete_cmd_postfix": ") ",
     "delete_cmd_prefix": "rm(",
     "library": "var_list.r",
     "varRefreshCmd": "cat(var_dic_list()) "
    }
   },
   "types_to_exclude": [
    "module",
    "function",
    "builtin_function_or_method",
    "instance",
    "_Feature"
   ],
   "window_display": false
  }
 },
 "nbformat": 4,
 "nbformat_minor": 2
}
