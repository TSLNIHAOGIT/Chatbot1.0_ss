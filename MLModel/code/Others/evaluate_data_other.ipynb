{
 "cells": [
  {
   "cell_type": "code",
   "execution_count": 37,
   "metadata": {
    "ExecuteTime": {
     "end_time": "2018-07-11T19:00:04.615567Z",
     "start_time": "2018-07-11T19:00:04.591424Z"
    }
   },
   "outputs": [],
   "source": [
    "#encoding=utf-8\n",
    "import pandas as pd\n",
    "import numpy as np\n",
    "\n",
    "from sklearn.feature_extraction.text import CountVectorizer, TfidfVectorizer, TfidfTransformer\n",
    "from sklearn.calibration import CalibratedClassifierCV\n",
    "from sklearn.svm import LinearSVC\n",
    "from sklearn.linear_model import LogisticRegression\n",
    "# import lightgbm as lgb\n",
    "from sklearn import preprocessing\n",
    "from sklearn.preprocessing import MultiLabelBinarizer\n",
    "from sklearn.naive_bayes import MultinomialNB\n",
    "from sklearn.model_selection import KFold\n",
    "\n",
    "import pickle\n",
    "import sys,os\n",
    "import re\n",
    "import jieba\n",
    "jieba.load_userdict(\"../WordCut/userdict.txt\")\n",
    "import string"
   ]
  },
  {
   "cell_type": "code",
   "execution_count": 19,
   "metadata": {
    "ExecuteTime": {
     "end_time": "2018-07-10T19:17:48.978706Z",
     "start_time": "2018-07-10T19:17:48.960000Z"
    }
   },
   "outputs": [],
   "source": [
    "sys.path.append('../TimePattern/')\n",
    "from  time_pattern import TimePattern\n",
    "t = TimePattern('../TimePattern/mapping.csv')\n",
    "kf = KFold(n_splits=10, shuffle=False, random_state=None)"
   ]
  },
  {
   "cell_type": "code",
   "execution_count": 24,
   "metadata": {
    "ExecuteTime": {
     "end_time": "2018-07-10T19:26:20.921547Z",
     "start_time": "2018-07-10T19:26:14.371653Z"
    }
   },
   "outputs": [],
   "source": [
    "def sub_df(df,sets,target='label'):\n",
    "    result = pd.DataFrame()\n",
    "    for each in sets:\n",
    "        result = pd.concat([result,df[df[target]==each]])\n",
    "#     print(result[target].value_counts())\n",
    "    return result\n",
    "\n",
    "\n",
    "def cut_words(text):\n",
    "    ##### more -- added by wei\n",
    "    # this is used to remove time patterns from sentence\n",
    "    text = re.sub(r' ','',text)\n",
    "    text = t.remove_time(text)\n",
    "    #########\n",
    "    seg_list = jieba.cut(text, cut_all=False)\n",
    "    return \" \".join(seg_list)\n",
    "\n",
    "def clean(text):\n",
    "    text = re.sub(f'([{string.punctuation}“”¨«»®´·º ½¾¿¡§£₤‘’，])',' ', text)\n",
    "    text = text.split(' ')\n",
    "    text = ' '.join(text)\n",
    "    return text\n",
    "\n",
    "def clean_label(label):\n",
    "    return int(label)\n",
    "\n",
    "others = pd.read_csv('../../data/others/irrelevant_response_training_set.csv')\n",
    "other_matrix = pd.read_csv('../../data/others/strategy_mat.csv')\n",
    "\n",
    "others = others.rename({'文本':'original_text','类别':'from'},axis=1)\n",
    "mapping = other_matrix.set_index('category').label.drop_duplicates()\n",
    "others['original_label'] = others['from'].map(mapping)\n",
    "\n",
    "others['split_text']=others['original_text'].apply(cut_words)\n",
    "    \n",
    "# # cleaning and save\n",
    "others['split_text'] = others['split_text'].apply(clean)\n",
    "\n",
    "data = others.copy()\n",
    "data = data.sample(frac=1,random_state=19)\n",
    "\n",
    "# K fold\n",
    "kf = KFold(n_splits=10, shuffle=False, random_state=None)\n",
    "ss = kf.split(data)\n",
    "result = pd.DataFrame()\n",
    "\n",
    "for train_index,val_index in ss:\n",
    "    train_df = data.iloc[train_index]\n",
    "    val_df = data.iloc[val_index].copy()\n",
    "    train_data = train_df.split_text.values\n",
    "    val_data = val_df.split_text.values\n",
    "    phrase_vectorizer = TfidfVectorizer(ngram_range=(1,3),\n",
    "                                strip_accents='unicode', \n",
    "                                max_features=100000, \n",
    "                                analyzer='word',\n",
    "                                sublinear_tf=True,\n",
    "                                token_pattern=r'\\w{1,}')\n",
    "\n",
    "\n",
    "    phrase_vectorizer.fit(train_data)\n",
    "    train_tfidf = phrase_vectorizer.transform(train_data)\n",
    "    val_tfidf = phrase_vectorizer.transform(val_data)\n",
    "    \n",
    "    # linear svc\n",
    "    l_svc = LinearSVC()\n",
    "    lsvc = CalibratedClassifierCV(l_svc) \n",
    "    lsvc.fit(train_tfidf, train_df.original_label)\n",
    "    preds = lsvc.predict(val_tfidf)\n",
    "    val_df['pred_label'] = preds\n",
    "    val_df = val_df[val_df.original_label != val_df.pred_label]\n",
    "    result = pd.concat([result,val_df])\n",
    "\n",
    "\n"
   ]
  },
  {
   "cell_type": "code",
   "execution_count": 26,
   "metadata": {
    "ExecuteTime": {
     "end_time": "2018-07-10T19:27:19.374110Z",
     "start_time": "2018-07-10T19:27:19.360244Z"
    }
   },
   "outputs": [
    {
     "data": {
      "text/plain": [
       "104    825\n",
       "103    651\n",
       "109    635\n",
       "110    597\n",
       "100    566\n",
       "102    350\n",
       "107    331\n",
       "101    244\n",
       "105    225\n",
       "108    225\n",
       "106    217\n",
       "Name: original_label, dtype: int64"
      ]
     },
     "execution_count": 26,
     "metadata": {},
     "output_type": "execute_result"
    }
   ],
   "source": [
    "others.original_label.value_counts()"
   ]
  },
  {
   "cell_type": "code",
   "execution_count": 31,
   "metadata": {
    "ExecuteTime": {
     "end_time": "2018-07-10T19:41:21.196842Z",
     "start_time": "2018-07-10T19:41:21.187559Z"
    }
   },
   "outputs": [],
   "source": [
    "jn = [104,103,109]\n",
    "ts = [110,100,102,107]\n",
    "wei = set(others.original_label.value_counts().index.values) - set(jn)-set(ts)"
   ]
  },
  {
   "cell_type": "code",
   "execution_count": 35,
   "metadata": {
    "ExecuteTime": {
     "end_time": "2018-07-10T19:44:05.160675Z",
     "start_time": "2018-07-10T19:44:05.036052Z"
    }
   },
   "outputs": [],
   "source": [
    "df_jn = sub_df(others,jn,'original_label')\n",
    "df_jn.to_csv('../../data/others/jiangning_other.csv',index=False,encoding='utf8')\n",
    "df_ts = sub_df(others,ts,'original_label')\n",
    "df_ts.to_csv('../../data/others/tanshu_other.csv',index=False,encoding='utf8')\n",
    "df_wei = sub_df(others,wei,'original_label')\n",
    "df_wei.to_csv('../../data/others/wei_other.csv',index=False,encoding='utf8')"
   ]
  },
  {
   "cell_type": "code",
   "execution_count": 68,
   "metadata": {
    "ExecuteTime": {
     "end_time": "2018-07-11T19:10:25.551165Z",
     "start_time": "2018-07-11T19:10:25.507993Z"
    }
   },
   "outputs": [],
   "source": [
    "df = pd.read_csv('../../data/others/combined_cleaned_others.csv')\n",
    "df_mapping = pd.read_csv('../../data/others/strategy_mat.csv')\n",
    "mapping = df_mapping.set_index('label').category.drop_duplicates()\n",
    "df['from'] = df.original_label.map(mapping)"
   ]
  },
  {
   "cell_type": "code",
   "execution_count": 75,
   "metadata": {
    "ExecuteTime": {
     "end_time": "2018-07-11T19:11:46.311211Z",
     "start_time": "2018-07-11T19:11:46.305625Z"
    }
   },
   "outputs": [],
   "source": [
    "df.rename({'from':'类别','original_text':'文本'},inplace=True,axis=1)"
   ]
  },
  {
   "cell_type": "code",
   "execution_count": 77,
   "metadata": {
    "ExecuteTime": {
     "end_time": "2018-07-11T19:12:15.547203Z",
     "start_time": "2018-07-11T19:12:15.539957Z"
    }
   },
   "outputs": [],
   "source": [
    "df = df.drop(['original_label','split_text'],axis=1)"
   ]
  },
  {
   "cell_type": "code",
   "execution_count": 79,
   "metadata": {
    "ExecuteTime": {
     "end_time": "2018-07-11T19:13:11.349456Z",
     "start_time": "2018-07-11T19:13:11.317940Z"
    }
   },
   "outputs": [],
   "source": [
    "df.to_csv('../../data/others/irrelevant_response_training_set.csv',index=False,encoding='utf8')"
   ]
  },
  {
   "cell_type": "code",
   "execution_count": null,
   "metadata": {},
   "outputs": [],
   "source": []
  }
 ],
 "metadata": {
  "kernelspec": {
   "display_name": "Python 3",
   "language": "python",
   "name": "python3"
  },
  "language_info": {
   "codemirror_mode": {
    "name": "ipython",
    "version": 3
   },
   "file_extension": ".py",
   "mimetype": "text/x-python",
   "name": "python",
   "nbconvert_exporter": "python",
   "pygments_lexer": "ipython3",
   "version": "3.6.5"
  },
  "varInspector": {
   "cols": {
    "lenName": 16,
    "lenType": 16,
    "lenVar": 40
   },
   "kernels_config": {
    "python": {
     "delete_cmd_postfix": "",
     "delete_cmd_prefix": "del ",
     "library": "var_list.py",
     "varRefreshCmd": "print(var_dic_list())"
    },
    "r": {
     "delete_cmd_postfix": ") ",
     "delete_cmd_prefix": "rm(",
     "library": "var_list.r",
     "varRefreshCmd": "cat(var_dic_list()) "
    }
   },
   "types_to_exclude": [
    "module",
    "function",
    "builtin_function_or_method",
    "instance",
    "_Feature"
   ],
   "window_display": false
  }
 },
 "nbformat": 4,
 "nbformat_minor": 2
}
