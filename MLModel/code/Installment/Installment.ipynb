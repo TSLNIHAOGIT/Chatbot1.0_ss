{
 "cells": [
  {
   "cell_type": "code",
   "execution_count": 4,
   "metadata": {
    "ExecuteTime": {
     "end_time": "2018-06-13T16:11:34.273208Z",
     "start_time": "2018-06-13T16:11:33.967314Z"
    },
    "collapsed": true
   },
   "outputs": [],
   "source": [
    "#encoding=utf-8\n",
    "import pandas as pd\n",
    "import numpy as np\n",
    "from sklearn.feature_extraction.text import CountVectorizer, TfidfVectorizer, TfidfTransformer"
   ]
  },
  {
   "cell_type": "code",
   "execution_count": 5,
   "metadata": {
    "ExecuteTime": {
     "end_time": "2018-06-13T16:11:34.365886Z",
     "start_time": "2018-06-13T16:11:34.330909Z"
    }
   },
   "outputs": [
    {
     "name": "stdout",
     "output_type": "stream",
     "text": [
      "(200, 2)\n"
     ]
    },
    {
     "data": {
      "text/html": [
       "<div>\n",
       "<style>\n",
       "    .dataframe thead tr:only-child th {\n",
       "        text-align: right;\n",
       "    }\n",
       "\n",
       "    .dataframe thead th {\n",
       "        text-align: left;\n",
       "    }\n",
       "\n",
       "    .dataframe tbody tr th {\n",
       "        vertical-align: top;\n",
       "    }\n",
       "</style>\n",
       "<table border=\"1\" class=\"dataframe\">\n",
       "  <thead>\n",
       "    <tr style=\"text-align: right;\">\n",
       "      <th></th>\n",
       "      <th>label</th>\n",
       "      <th>split_text</th>\n",
       "    </tr>\n",
       "  </thead>\n",
       "  <tbody>\n",
       "    <tr>\n",
       "      <th>0</th>\n",
       "      <td>0</td>\n",
       "      <td>那   时间   肯定   够 了</td>\n",
       "    </tr>\n",
       "    <tr>\n",
       "      <th>1</th>\n",
       "      <td>1</td>\n",
       "      <td>估计   不行</td>\n",
       "    </tr>\n",
       "    <tr>\n",
       "      <th>2</th>\n",
       "      <td>2</td>\n",
       "      <td>诶   你   再   说 一次</td>\n",
       "    </tr>\n",
       "    <tr>\n",
       "      <th>3</th>\n",
       "      <td>0</td>\n",
       "      <td>行</td>\n",
       "    </tr>\n",
       "    <tr>\n",
       "      <th>4</th>\n",
       "      <td>0</td>\n",
       "      <td>好 的</td>\n",
       "    </tr>\n",
       "    <tr>\n",
       "      <th>5</th>\n",
       "      <td>0</td>\n",
       "      <td>这样   应该   没 问题   了</td>\n",
       "    </tr>\n",
       "    <tr>\n",
       "      <th>6</th>\n",
       "      <td>0</td>\n",
       "      <td>那   我   会   按照   分期   按时   还款   的</td>\n",
       "    </tr>\n",
       "    <tr>\n",
       "      <th>7</th>\n",
       "      <td>0</td>\n",
       "      <td>我   会   按时   还款   的</td>\n",
       "    </tr>\n",
       "    <tr>\n",
       "      <th>8</th>\n",
       "      <td>0</td>\n",
       "      <td>我   会   按照   这个   准时   还款   的</td>\n",
       "    </tr>\n",
       "    <tr>\n",
       "      <th>9</th>\n",
       "      <td>0</td>\n",
       "      <td>没 问题</td>\n",
       "    </tr>\n",
       "  </tbody>\n",
       "</table>\n",
       "</div>"
      ],
      "text/plain": [
       "   label                         split_text\n",
       "0      0                  那   时间   肯定   够 了\n",
       "1      1                            估计   不行\n",
       "2      2                   诶   你   再   说 一次\n",
       "3      0                                  行\n",
       "4      0                                好 的\n",
       "5      0                 这样   应该   没 问题   了\n",
       "6      0  那   我   会   按照   分期   按时   还款   的\n",
       "7      0                我   会   按时   还款   的\n",
       "8      0      我   会   按照   这个   准时   还款   的\n",
       "9      0                               没 问题"
      ]
     },
     "execution_count": 5,
     "metadata": {},
     "output_type": "execute_result"
    }
   ],
   "source": [
    "# path = '/home/kai/data/jiangning/Chatbot_1/Chatbot1.0/data/'\n",
    "path = '../../data/Installment/'\n",
    "data = pd.read_csv(path + 'cleaned_mock_up_data.csv', encoding='utf8')\n",
    "print(data.shape)\n",
    "data.head(10)"
   ]
  },
  {
   "cell_type": "code",
   "execution_count": 6,
   "metadata": {
    "ExecuteTime": {
     "end_time": "2018-06-13T16:11:34.604828Z",
     "start_time": "2018-06-13T16:11:34.580853Z"
    }
   },
   "outputs": [
    {
     "data": {
      "text/plain": [
       "'你 再说 一遍'"
      ]
     },
     "execution_count": 6,
     "metadata": {},
     "output_type": "execute_result"
    }
   ],
   "source": [
    "data.split_text.iloc[42]"
   ]
  },
  {
   "cell_type": "code",
   "execution_count": 7,
   "metadata": {
    "ExecuteTime": {
     "end_time": "2018-06-13T16:11:34.821574Z",
     "start_time": "2018-06-13T16:11:34.784464Z"
    }
   },
   "outputs": [
    {
     "name": "stdout",
     "output_type": "stream",
     "text": [
      "fitting phrase\n",
      "transform phrase\n"
     ]
    },
    {
     "data": {
      "text/plain": [
       "<200x856 sparse matrix of type '<class 'numpy.float64'>'\n",
       "\twith 1810 stored elements in Compressed Sparse Row format>"
      ]
     },
     "execution_count": 7,
     "metadata": {},
     "output_type": "execute_result"
    }
   ],
   "source": [
    "phrase_vectorizer = TfidfVectorizer(ngram_range=(1,3),\n",
    "                                    strip_accents='unicode', \n",
    "                                    max_features=100000, \n",
    "                                    analyzer='word',\n",
    "                                    sublinear_tf=True,\n",
    "                                    token_pattern=r'\\w{1,}')\n",
    "\n",
    "print('fitting phrase')\n",
    "phrase_vectorizer.fit(data.split_text)\n",
    "\n",
    "print('transform phrase')\n",
    "phrase = phrase_vectorizer.transform(data.split_text)\n",
    "\n",
    "phrase"
   ]
  },
  {
   "cell_type": "markdown",
   "metadata": {},
   "source": [
    "# SVC"
   ]
  },
  {
   "cell_type": "code",
   "execution_count": 8,
   "metadata": {
    "ExecuteTime": {
     "end_time": "2018-06-13T16:11:35.181289Z",
     "start_time": "2018-06-13T16:11:35.089701Z"
    }
   },
   "outputs": [
    {
     "name": "stdout",
     "output_type": "stream",
     "text": [
      "1.0\n"
     ]
    }
   ],
   "source": [
    "from sklearn.calibration import CalibratedClassifierCV\n",
    "from sklearn.svm import LinearSVC\n",
    "\n",
    "l_svc = LinearSVC()\n",
    "clf = CalibratedClassifierCV(l_svc) \n",
    "clf.fit(phrase, data.label)\n",
    "print(clf.score(phrase, data.label))"
   ]
  },
  {
   "cell_type": "code",
   "execution_count": 9,
   "metadata": {
    "ExecuteTime": {
     "end_time": "2018-06-13T16:11:35.262860Z",
     "start_time": "2018-06-13T16:11:35.238953Z"
    }
   },
   "outputs": [
    {
     "name": "stdout",
     "output_type": "stream",
     "text": [
      "[0 1 2 0 0 0 0 0 0 0 0 0 0 1 1 1 1 1 1 1 1 1 1 1 1 1 1 1 1 2 2 2 2 2 2 2 2\n",
      " 2 2 2 0 1 2 0 0 0 0 0 0 0 0 0 0 1 1 1 1 1 1 1 1 1 1 1 1 1 1 1 1 2 2 2 2 2\n",
      " 2 2 2 2 2 2 0 1 2 0 0 0 0 0 0 0 0 0 0 1 1 1 1 1 1 1 1 1 1 1 1 1 1 1 1 2 2\n",
      " 2 2 2 2 2 2 2 2 2 0 1 2 0 0 0 0 0 0 0 0 0 0 1 1 1 1 1 1 1 1 1 1 1 1 1 1 1\n",
      " 1 2 2 2 2 2 2 2 2 2 2 2 0 1 2 0 0 0 0 0 0 0 0 0 0 1 1 1 1 1 1 1 1 1 1 1 1\n",
      " 1 1 1 1 2 2 2 2 2 2 2 2 2 2 2]\n"
     ]
    }
   ],
   "source": [
    "print(clf.predict(phrase))"
   ]
  },
  {
   "cell_type": "markdown",
   "metadata": {},
   "source": [
    "# logistic"
   ]
  },
  {
   "cell_type": "code",
   "execution_count": 10,
   "metadata": {
    "ExecuteTime": {
     "end_time": "2018-06-13T16:11:35.530036Z",
     "start_time": "2018-06-13T16:11:35.509475Z"
    },
    "collapsed": true
   },
   "outputs": [],
   "source": [
    "from sklearn.linear_model import LogisticRegression"
   ]
  },
  {
   "cell_type": "code",
   "execution_count": 11,
   "metadata": {
    "ExecuteTime": {
     "end_time": "2018-06-13T16:11:35.671532Z",
     "start_time": "2018-06-13T16:11:35.652277Z"
    }
   },
   "outputs": [
    {
     "name": "stdout",
     "output_type": "stream",
     "text": [
      "1.0\n"
     ]
    }
   ],
   "source": [
    "log_r = LogisticRegression()\n",
    "log_r.fit(phrase, data.label)\n",
    "print(log_r.score(phrase, data.label))"
   ]
  },
  {
   "cell_type": "code",
   "execution_count": 12,
   "metadata": {
    "ExecuteTime": {
     "end_time": "2018-06-13T16:11:35.811643Z",
     "start_time": "2018-06-13T16:11:35.790161Z"
    }
   },
   "outputs": [
    {
     "name": "stdout",
     "output_type": "stream",
     "text": [
      "[0 1 2 0 0 0 0 0 0 0 0 0 0 1 1 1 1 1 1 1 1 1 1 1 1 1 1 1 1 2 2 2 2 2 2 2 2\n",
      " 2 2 2 0 1 2 0 0 0 0 0 0 0 0 0 0 1 1 1 1 1 1 1 1 1 1 1 1 1 1 1 1 2 2 2 2 2\n",
      " 2 2 2 2 2 2 0 1 2 0 0 0 0 0 0 0 0 0 0 1 1 1 1 1 1 1 1 1 1 1 1 1 1 1 1 2 2\n",
      " 2 2 2 2 2 2 2 2 2 0 1 2 0 0 0 0 0 0 0 0 0 0 1 1 1 1 1 1 1 1 1 1 1 1 1 1 1\n",
      " 1 2 2 2 2 2 2 2 2 2 2 2 0 1 2 0 0 0 0 0 0 0 0 0 0 1 1 1 1 1 1 1 1 1 1 1 1\n",
      " 1 1 1 1 2 2 2 2 2 2 2 2 2 2 2]\n"
     ]
    }
   ],
   "source": [
    "print(log_r.predict(phrase))"
   ]
  },
  {
   "cell_type": "markdown",
   "metadata": {},
   "source": [
    "# LightGBM"
   ]
  },
  {
   "cell_type": "code",
   "execution_count": 13,
   "metadata": {
    "ExecuteTime": {
     "end_time": "2018-06-13T16:11:36.085138Z",
     "start_time": "2018-06-13T16:11:36.059272Z"
    },
    "collapsed": true
   },
   "outputs": [],
   "source": [
    "import lightgbm as lgb"
   ]
  },
  {
   "cell_type": "code",
   "execution_count": 14,
   "metadata": {
    "ExecuteTime": {
     "end_time": "2018-06-13T16:11:36.203672Z",
     "start_time": "2018-06-13T16:11:36.189963Z"
    },
    "collapsed": true
   },
   "outputs": [],
   "source": [
    "from sklearn import preprocessing\n",
    "le = preprocessing.LabelEncoder()\n",
    "le.fit(data.label.values)\n",
    "onelabels = le.transform(data.label.values)"
   ]
  },
  {
   "cell_type": "code",
   "execution_count": 15,
   "metadata": {
    "ExecuteTime": {
     "end_time": "2018-06-13T16:11:36.357212Z",
     "start_time": "2018-06-13T16:11:36.335384Z"
    }
   },
   "outputs": [
    {
     "data": {
      "text/plain": [
       "array([0, 1, 2, 0, 0, 0, 0, 0, 0, 0, 0, 0, 0, 1, 1, 1, 1, 1, 1, 1, 1, 1, 1,\n",
       "       1, 1, 1, 1, 1, 1, 2, 2, 2, 2, 2, 2, 2, 2, 2, 2, 2, 0, 1, 2, 0, 0, 0,\n",
       "       0, 0, 0, 0, 0, 0, 0, 1, 1, 1, 1, 1, 1, 1, 1, 1, 1, 1, 1, 1, 1, 1, 1,\n",
       "       2, 2, 2, 2, 2, 2, 2, 2, 2, 2, 2, 0, 1, 2, 0, 0, 0, 0, 0, 0, 0, 0, 0,\n",
       "       0, 1, 1, 1, 1, 1, 1, 1, 1, 1, 1, 1, 1, 1, 1, 1, 1, 2, 2, 2, 2, 2, 2,\n",
       "       2, 2, 2, 2, 2, 0, 1, 2, 0, 0, 0, 0, 0, 0, 0, 0, 0, 0, 1, 1, 1, 1, 1,\n",
       "       1, 1, 1, 1, 1, 1, 1, 1, 1, 1, 1, 2, 2, 2, 2, 2, 2, 2, 2, 2, 2, 2, 0,\n",
       "       1, 2, 0, 0, 0, 0, 0, 0, 0, 0, 0, 0, 1, 1, 1, 1, 1, 1, 1, 1, 1, 1, 1,\n",
       "       1, 1, 1, 1, 1, 2, 2, 2, 2, 2, 2, 2, 2, 2, 2, 2])"
      ]
     },
     "execution_count": 15,
     "metadata": {},
     "output_type": "execute_result"
    }
   ],
   "source": [
    "onelabels"
   ]
  },
  {
   "cell_type": "code",
   "execution_count": 16,
   "metadata": {
    "ExecuteTime": {
     "end_time": "2018-06-13T16:11:36.488772Z",
     "start_time": "2018-06-13T16:11:36.466653Z"
    },
    "collapsed": true
   },
   "outputs": [],
   "source": [
    "from sklearn.preprocessing import MultiLabelBinarizer\n",
    "multicoder = MultiLabelBinarizer()\n",
    "lables = multicoder.fit_transform([data.label.values])"
   ]
  },
  {
   "cell_type": "code",
   "execution_count": 17,
   "metadata": {
    "ExecuteTime": {
     "end_time": "2018-06-13T16:11:36.615931Z",
     "start_time": "2018-06-13T16:11:36.593701Z"
    }
   },
   "outputs": [
    {
     "data": {
      "text/plain": [
       "array([[1, 1, 1]])"
      ]
     },
     "execution_count": 17,
     "metadata": {},
     "output_type": "execute_result"
    }
   ],
   "source": [
    "lables"
   ]
  },
  {
   "cell_type": "code",
   "execution_count": 18,
   "metadata": {
    "ExecuteTime": {
     "end_time": "2018-06-13T16:11:36.767526Z",
     "start_time": "2018-06-13T16:11:36.748759Z"
    }
   },
   "outputs": [
    {
     "data": {
      "text/plain": [
       "array([0, 1, 2, 0, 0, 0, 0, 0, 0, 0, 0, 0, 0, 1, 1, 1, 1, 1, 1, 1, 1, 1, 1,\n",
       "       1, 1, 1, 1, 1, 1, 2, 2, 2, 2, 2, 2, 2, 2, 2, 2, 2, 0, 1, 2, 0, 0, 0,\n",
       "       0, 0, 0, 0, 0, 0, 0, 1, 1, 1, 1, 1, 1, 1, 1, 1, 1, 1, 1, 1, 1, 1, 1,\n",
       "       2, 2, 2, 2, 2, 2, 2, 2, 2, 2, 2, 0, 1, 2, 0, 0, 0, 0, 0, 0, 0, 0, 0,\n",
       "       0, 1, 1, 1, 1, 1, 1, 1, 1, 1, 1, 1, 1, 1, 1, 1, 1, 2, 2, 2, 2, 2, 2,\n",
       "       2, 2, 2, 2, 2, 0, 1, 2, 0, 0, 0, 0, 0, 0, 0, 0, 0, 0, 1, 1, 1, 1, 1,\n",
       "       1, 1, 1, 1, 1, 1, 1, 1, 1, 1, 1, 2, 2, 2, 2, 2, 2, 2, 2, 2, 2, 2, 0,\n",
       "       1, 2, 0, 0, 0, 0, 0, 0, 0, 0, 0, 0, 1, 1, 1, 1, 1, 1, 1, 1, 1, 1, 1,\n",
       "       1, 1, 1, 1, 1, 2, 2, 2, 2, 2, 2, 2, 2, 2, 2, 2])"
      ]
     },
     "execution_count": 18,
     "metadata": {},
     "output_type": "execute_result"
    }
   ],
   "source": [
    "data.label.values"
   ]
  },
  {
   "cell_type": "code",
   "execution_count": 19,
   "metadata": {
    "ExecuteTime": {
     "end_time": "2018-06-13T16:11:36.948734Z",
     "start_time": "2018-06-13T16:11:36.887945Z"
    }
   },
   "outputs": [
    {
     "name": "stdout",
     "output_type": "stream",
     "text": [
      "Training until validation scores don't improve for 200 rounds.\n",
      "[5]\tvalid_0's multi_error: 0.355\n",
      "[10]\tvalid_0's multi_error: 0.34\n",
      "[15]\tvalid_0's multi_error: 0.345\n",
      "[20]\tvalid_0's multi_error: 0.345\n",
      "[25]\tvalid_0's multi_error: 0.345\n",
      "[30]\tvalid_0's multi_error: 0.345\n",
      "[35]\tvalid_0's multi_error: 0.345\n",
      "[40]\tvalid_0's multi_error: 0.345\n",
      "[45]\tvalid_0's multi_error: 0.345\n",
      "[50]\tvalid_0's multi_error: 0.335\n",
      "[55]\tvalid_0's multi_error: 0.335\n",
      "[60]\tvalid_0's multi_error: 0.335\n",
      "[65]\tvalid_0's multi_error: 0.335\n",
      "[70]\tvalid_0's multi_error: 0.335\n",
      "[75]\tvalid_0's multi_error: 0.33\n",
      "[80]\tvalid_0's multi_error: 0.33\n",
      "[85]\tvalid_0's multi_error: 0.33\n",
      "[90]\tvalid_0's multi_error: 0.33\n",
      "[95]\tvalid_0's multi_error: 0.33\n",
      "[100]\tvalid_0's multi_error: 0.33\n",
      "[105]\tvalid_0's multi_error: 0.33\n",
      "[110]\tvalid_0's multi_error: 0.33\n",
      "[115]\tvalid_0's multi_error: 0.33\n",
      "[120]\tvalid_0's multi_error: 0.33\n",
      "[125]\tvalid_0's multi_error: 0.33\n",
      "[130]\tvalid_0's multi_error: 0.33\n",
      "[135]\tvalid_0's multi_error: 0.33\n",
      "[140]\tvalid_0's multi_error: 0.33\n",
      "[145]\tvalid_0's multi_error: 0.33\n",
      "[150]\tvalid_0's multi_error: 0.33\n",
      "[155]\tvalid_0's multi_error: 0.33\n",
      "[160]\tvalid_0's multi_error: 0.33\n",
      "[165]\tvalid_0's multi_error: 0.33\n",
      "[170]\tvalid_0's multi_error: 0.33\n",
      "[175]\tvalid_0's multi_error: 0.33\n",
      "[180]\tvalid_0's multi_error: 0.33\n",
      "[185]\tvalid_0's multi_error: 0.33\n",
      "[190]\tvalid_0's multi_error: 0.33\n",
      "[195]\tvalid_0's multi_error: 0.33\n",
      "[200]\tvalid_0's multi_error: 0.33\n",
      "[205]\tvalid_0's multi_error: 0.33\n",
      "[210]\tvalid_0's multi_error: 0.33\n",
      "[215]\tvalid_0's multi_error: 0.33\n",
      "[220]\tvalid_0's multi_error: 0.33\n",
      "[225]\tvalid_0's multi_error: 0.33\n",
      "[230]\tvalid_0's multi_error: 0.33\n",
      "[235]\tvalid_0's multi_error: 0.33\n",
      "[240]\tvalid_0's multi_error: 0.33\n",
      "[245]\tvalid_0's multi_error: 0.33\n",
      "[250]\tvalid_0's multi_error: 0.33\n",
      "[255]\tvalid_0's multi_error: 0.33\n",
      "[260]\tvalid_0's multi_error: 0.33\n",
      "[265]\tvalid_0's multi_error: 0.33\n",
      "[270]\tvalid_0's multi_error: 0.33\n",
      "Early stopping, best iteration is:\n",
      "[72]\tvalid_0's multi_error: 0.33\n"
     ]
    },
    {
     "name": "stderr",
     "output_type": "stream",
     "text": [
      "/home/kai/anaconda3/lib/python3.6/site-packages/lightgbm/engine.py:99: UserWarning: Found `num_iterations` in params. Will use it instead of argument\n",
      "  warnings.warn(\"Found `{}` in params. Will use it instead of argument\".format(alias))\n",
      "/home/kai/anaconda3/lib/python3.6/site-packages/lightgbm/engine.py:104: UserWarning: Found `early_stopping_round` in params. Will use it instead of argument\n",
      "  warnings.warn(\"Found `{}` in params. Will use it instead of argument\".format(alias))\n"
     ]
    }
   ],
   "source": [
    "params = {\n",
    "    'learning_rate': 0.2,\n",
    "    'num_iterations':1000,\n",
    "    'application': 'multiclassova',\n",
    "    'num_class': 3,\n",
    "    'num_leaves': 31,\n",
    "    'verbosity': -1,\n",
    "    'metric': 'multi_error',\n",
    "    'data_random_seed': 2,\n",
    "#     'bagging_fraction': 0.8,\n",
    "#     'feature_fraction': 0.6,\n",
    "    'nthread': 4,\n",
    "    'lambda_l1': 1,\n",
    "    'lambda_l2': 1,\n",
    "    'early_stopping_round':200\n",
    "} \n",
    "\n",
    "# lgbm_train = lgb.Dataset(phrase, data.label)\n",
    "lgbm_train = lgb.Dataset(phrase, onelabels)\n",
    "lgbm_val = lgb.Dataset(phrase, onelabels)\n",
    "lgbm_model = lgb.train(params,lgbm_train,valid_sets=lgbm_val, verbose_eval=5)"
   ]
  },
  {
   "cell_type": "code",
   "execution_count": 20,
   "metadata": {
    "ExecuteTime": {
     "end_time": "2018-06-13T16:11:37.068148Z",
     "start_time": "2018-06-13T16:11:37.037039Z"
    }
   },
   "outputs": [
    {
     "name": "stdout",
     "output_type": "stream",
     "text": [
      "[[ 0.70930292  0.17125217  0.19952586]\n",
      " [ 0.54299947  0.25342914  0.20836501]\n",
      " [ 0.03353246  0.31266149  0.3355672 ]\n",
      " [ 0.54299947  0.25342914  0.20836501]\n",
      " [ 0.54633707  0.43578085  0.04452865]\n",
      " [ 0.70930292  0.17125217  0.19952586]\n",
      " [ 0.2518907   0.63614741  0.04507387]\n",
      " [ 0.13999585  0.44274147  0.09841601]\n",
      " [ 0.2518907   0.68751803  0.04310711]\n",
      " [ 0.54299947  0.25342914  0.20836501]\n",
      " [ 0.70930292  0.22155302  0.04226858]\n",
      " [ 0.54633707  0.43578085  0.04452865]\n",
      " [ 0.54299947  0.25342914  0.20836501]\n",
      " [ 0.11891667  0.94489459  0.00984539]\n",
      " [ 0.0197749   0.39627999  0.49937404]\n",
      " [ 0.54299947  0.25342914  0.20836501]\n",
      " [ 0.54299947  0.25342914  0.20836501]\n",
      " [ 0.15446479  0.50306913  0.28219884]\n",
      " [ 0.11750092  0.94489459  0.00984539]\n",
      " [ 0.53962708  0.25342914  0.20836501]\n",
      " [ 0.70930292  0.17125217  0.19952586]\n",
      " [ 0.11750092  0.94489459  0.00984539]\n",
      " [ 0.0197749   0.36189656  0.54550673]\n",
      " [ 0.11782431  0.4995965   0.39216103]\n",
      " [ 0.01826332  0.58134092  0.39639267]\n",
      " [ 0.00999198  0.90983783  0.09331524]\n",
      " [ 0.01082653  0.94171864  0.0960243 ]\n",
      " [ 0.01826332  0.58134092  0.39639267]\n",
      " [ 0.11782431  0.4995965   0.39216103]\n",
      " [ 0.03353246  0.24781933  0.7762342 ]\n",
      " [ 0.54299947  0.25342914  0.20836501]\n",
      " [ 0.0197749   0.36189656  0.54550673]\n",
      " [ 0.03353246  0.24781933  0.7762342 ]\n",
      " [ 0.0197749   0.36189656  0.54550673]\n",
      " [ 0.06297507  0.15768939  0.76663427]\n",
      " [ 0.11782431  0.36643568  0.57850071]\n",
      " [ 0.11782431  0.36643568  0.53955957]\n",
      " [ 0.02850564  0.46973113  0.41643929]\n",
      " [ 0.15493212  0.4995965   0.39216103]\n",
      " [ 0.53962708  0.25342914  0.20836501]\n",
      " [ 0.70930292  0.17125217  0.19952586]\n",
      " [ 0.54299947  0.25342914  0.20836501]\n",
      " [ 0.03353246  0.24781933  0.7762342 ]\n",
      " [ 0.54299947  0.25342914  0.20836501]\n",
      " [ 0.54299947  0.25342914  0.20836501]\n",
      " [ 0.54299947  0.25342914  0.20836501]\n",
      " [ 0.54299947  0.25342914  0.20836501]\n",
      " [ 0.54299947  0.25342914  0.20836501]\n",
      " [ 0.54299947  0.25342914  0.20836501]\n",
      " [ 0.54299947  0.25342914  0.20836501]\n",
      " [ 0.50966082  0.17548154  0.08820941]\n",
      " [ 0.54299947  0.25342914  0.20836501]\n",
      " [ 0.54299947  0.25342914  0.20836501]\n",
      " [ 0.11751383  0.8828523   0.05317152]\n",
      " [ 0.01826332  0.58134092  0.39639267]\n",
      " [ 0.54299947  0.25342914  0.20836501]\n",
      " [ 0.03353246  0.24781933  0.7762342 ]\n",
      " [ 0.01826332  0.61804819  0.37779079]\n",
      " [ 0.54299947  0.25342914  0.20836501]\n",
      " [ 0.03353246  0.31266149  0.29949782]\n",
      " [ 0.54633707  0.43578085  0.04452865]\n",
      " [ 0.11751383  0.8828523   0.05317152]\n",
      " [ 0.01826332  0.70404153  0.3255903 ]\n",
      " [ 0.2518907   0.68751803  0.04310711]\n",
      " [ 0.0197749   0.36189656  0.54550673]\n",
      " [ 0.01197578  0.95126785  0.01456917]\n",
      " [ 0.00999198  0.90983783  0.09331524]\n",
      " [ 0.01826332  0.58134092  0.39639267]\n",
      " [ 0.15493212  0.4995965   0.39216103]\n",
      " [ 0.03353246  0.24781933  0.7762342 ]\n",
      " [ 0.54299947  0.25342914  0.20836501]\n",
      " [ 0.01826332  0.58134092  0.39639267]\n",
      " [ 0.03353246  0.24781933  0.7762342 ]\n",
      " [ 0.01826332  0.58134092  0.39639267]\n",
      " [ 0.54299947  0.25342914  0.20836501]\n",
      " [ 0.54299947  0.25342914  0.20836501]\n",
      " [ 0.0197749   0.36189656  0.54550673]\n",
      " [ 0.01826332  0.61804819  0.37779079]\n",
      " [ 0.11782431  0.36643568  0.57850071]\n",
      " [ 0.70930292  0.17125217  0.19952586]\n",
      " [ 0.70930292  0.17125217  0.19952586]\n",
      " [ 0.54299947  0.25342914  0.20836501]\n",
      " [ 0.03353246  0.24781933  0.7762342 ]\n",
      " [ 0.54299947  0.25342914  0.20836501]\n",
      " [ 0.54299947  0.25342914  0.20836501]\n",
      " [ 0.54299947  0.25342914  0.20836501]\n",
      " [ 0.54299947  0.25342914  0.20836501]\n",
      " [ 0.54299947  0.25342914  0.20836501]\n",
      " [ 0.54299947  0.25342914  0.20836501]\n",
      " [ 0.54299947  0.25342914  0.20836501]\n",
      " [ 0.50966082  0.13858413  0.50945455]\n",
      " [ 0.54299947  0.25342914  0.20836501]\n",
      " [ 0.54299947  0.25342914  0.20836501]\n",
      " [ 0.11751383  0.8828523   0.05317152]\n",
      " [ 0.01826332  0.58134092  0.39639267]\n",
      " [ 0.54299947  0.25342914  0.20836501]\n",
      " [ 0.03353246  0.24781933  0.7762342 ]\n",
      " [ 0.11782431  0.36643568  0.53955957]\n",
      " [ 0.54299947  0.25342914  0.20836501]\n",
      " [ 0.03353246  0.31266149  0.3355672 ]\n",
      " [ 0.54633707  0.43578085  0.04452865]\n",
      " [ 0.11891667  0.94489459  0.00984539]\n",
      " [ 0.01826332  0.70404153  0.3255903 ]\n",
      " [ 0.23315115  0.60044318  0.29335824]\n",
      " [ 0.01826332  0.58134092  0.39639267]\n",
      " [ 0.01197578  0.95126785  0.01456917]\n",
      " [ 0.00999198  0.90983783  0.09331524]\n",
      " [ 0.01826332  0.58134092  0.39639267]\n",
      " [ 0.15493212  0.60044318  0.29335824]\n",
      " [ 0.03353246  0.24781933  0.7762342 ]\n",
      " [ 0.54299947  0.25342914  0.20836501]\n",
      " [ 0.01826332  0.58134092  0.39639267]\n",
      " [ 0.03353246  0.24781933  0.7762342 ]\n",
      " [ 0.01826332  0.58134092  0.39639267]\n",
      " [ 0.06297507  0.15768939  0.76663427]\n",
      " [ 0.54299947  0.25342914  0.20836501]\n",
      " [ 0.0197749   0.39627999  0.49937404]\n",
      " [ 0.01826332  0.61804819  0.37779079]\n",
      " [ 0.11782431  0.36643568  0.57850071]\n",
      " [ 0.54299947  0.25342914  0.20836501]\n",
      " [ 0.70930292  0.17125217  0.19952586]\n",
      " [ 0.54299947  0.25342914  0.20836501]\n",
      " [ 0.03353246  0.24781933  0.7762342 ]\n",
      " [ 0.54299947  0.25342914  0.20836501]\n",
      " [ 0.54299947  0.25342914  0.20836501]\n",
      " [ 0.54299947  0.25342914  0.20836501]\n",
      " [ 0.11751383  0.8828523   0.05317152]\n",
      " [ 0.54633707  0.43578085  0.04452865]\n",
      " [ 0.15493212  0.4995965   0.39216103]\n",
      " [ 0.54299947  0.25342914  0.20836501]\n",
      " [ 0.50966082  0.13858413  0.50945455]\n",
      " [ 0.54299947  0.25342914  0.20836501]\n",
      " [ 0.54299947  0.25342914  0.20836501]\n",
      " [ 0.11751383  0.8828523   0.05317152]\n",
      " [ 0.01826332  0.58134092  0.39639267]\n",
      " [ 0.54299947  0.25342914  0.20836501]\n",
      " [ 0.03353246  0.24781933  0.7762342 ]\n",
      " [ 0.11782431  0.36643568  0.53955957]\n",
      " [ 0.11891667  0.94489459  0.00984539]\n",
      " [ 0.03353246  0.31266149  0.29949782]\n",
      " [ 0.54633707  0.43578085  0.04452865]\n",
      " [ 0.21473611  0.85560164  0.05317152]\n",
      " [ 0.01826332  0.70404153  0.3255903 ]\n",
      " [ 0.2518907   0.63614741  0.04507387]\n",
      " [ 0.0197749   0.61804819  0.37779079]\n",
      " [ 0.01197578  0.95126785  0.01456917]\n",
      " [ 0.02873098  0.94164997  0.01747876]\n",
      " [ 0.01826332  0.58134092  0.39639267]\n",
      " [ 0.16876842  0.68751803  0.04310711]\n",
      " [ 0.03353246  0.24781933  0.7762342 ]\n",
      " [ 0.54299947  0.25342914  0.20836501]\n",
      " [ 0.01826332  0.58134092  0.39639267]\n",
      " [ 0.03353246  0.24781933  0.7762342 ]\n",
      " [ 0.01826332  0.58134092  0.39639267]\n",
      " [ 0.06297507  0.15768939  0.76663427]\n",
      " [ 0.54299947  0.25342914  0.20836501]\n",
      " [ 0.11755709  0.14393688  0.51544134]\n",
      " [ 0.50966082  0.13858413  0.50945455]\n",
      " [ 0.23315115  0.43452281  0.30527809]\n",
      " [ 0.54299947  0.25342914  0.20836501]\n",
      " [ 0.70930292  0.17125217  0.19952586]\n",
      " [ 0.54299947  0.25342914  0.20836501]\n",
      " [ 0.03353246  0.24781933  0.7762342 ]\n",
      " [ 0.54299947  0.25342914  0.20836501]\n",
      " [ 0.54299947  0.25342914  0.20836501]\n",
      " [ 0.54299947  0.25342914  0.20836501]\n",
      " [ 0.54299947  0.25342914  0.20836501]\n",
      " [ 0.54299947  0.25342914  0.20836501]\n",
      " [ 0.54299947  0.25342914  0.20836501]\n",
      " [ 0.54299947  0.25342914  0.20836501]\n",
      " [ 0.54299947  0.43578085  0.04452865]\n",
      " [ 0.54299947  0.25342914  0.20836501]\n",
      " [ 0.54299947  0.25342914  0.20836501]\n",
      " [ 0.11751383  0.8828523   0.05317152]\n",
      " [ 0.11751383  0.8828523   0.05317152]\n",
      " [ 0.54299947  0.25342914  0.20836501]\n",
      " [ 0.03353246  0.31266149  0.3355672 ]\n",
      " [ 0.01826332  0.70404153  0.3255903 ]\n",
      " [ 0.11750092  0.94489459  0.00984539]\n",
      " [ 0.06297507  0.15768939  0.76663427]\n",
      " [ 0.54633707  0.43578085  0.04452865]\n",
      " [ 0.11750092  0.94489459  0.00984539]\n",
      " [ 0.01826332  0.58134092  0.39639267]\n",
      " [ 0.23315115  0.63614741  0.04507387]\n",
      " [ 0.0197749   0.61804819  0.37779079]\n",
      " [ 0.01197578  0.95126785  0.01456917]\n",
      " [ 0.00999198  0.90983783  0.09331524]\n",
      " [ 0.01826332  0.58134092  0.39639267]\n",
      " [ 0.23315115  0.63614741  0.04507387]\n",
      " [ 0.03353246  0.24781933  0.7762342 ]\n",
      " [ 0.54299947  0.25342914  0.20836501]\n",
      " [ 0.01826332  0.58134092  0.39639267]\n",
      " [ 0.03353246  0.24781933  0.7762342 ]\n",
      " [ 0.01826332  0.58134092  0.39639267]\n",
      " [ 0.06297507  0.15768939  0.76663427]\n",
      " [ 0.54299947  0.25342914  0.20836501]\n",
      " [ 0.0197749   0.39627999  0.49937404]\n",
      " [ 0.01826332  0.58134092  0.39639267]\n",
      " [ 0.11782431  0.4995965   0.39216103]\n",
      " [ 0.54299947  0.25342914  0.20836501]]\n"
     ]
    }
   ],
   "source": [
    "print(lgbm_model.predict(phrase))"
   ]
  },
  {
   "cell_type": "code",
   "execution_count": 21,
   "metadata": {
    "ExecuteTime": {
     "end_time": "2018-06-13T16:11:37.201234Z",
     "start_time": "2018-06-13T16:11:37.179938Z"
    }
   },
   "outputs": [
    {
     "data": {
      "text/plain": [
       "<200x856 sparse matrix of type '<class 'numpy.float64'>'\n",
       "\twith 1810 stored elements in Compressed Sparse Row format>"
      ]
     },
     "execution_count": 21,
     "metadata": {},
     "output_type": "execute_result"
    }
   ],
   "source": [
    "phrase"
   ]
  },
  {
   "cell_type": "markdown",
   "metadata": {
    "ExecuteTime": {
     "end_time": "2018-06-12T19:25:10.103508Z",
     "start_time": "2018-06-12T19:25:10.100603Z"
    }
   },
   "source": [
    "# Save"
   ]
  },
  {
   "cell_type": "code",
   "execution_count": 22,
   "metadata": {
    "ExecuteTime": {
     "end_time": "2018-06-13T16:11:37.492178Z",
     "start_time": "2018-06-13T16:11:37.461058Z"
    },
    "collapsed": true
   },
   "outputs": [],
   "source": [
    "import pickle\n",
    "\n",
    "# save tfidf\n",
    "pickle.dump(phrase_vectorizer, open(\"../../savedModel/Installment/tfidf.pickle\", \"wb\"))\n",
    "# pickle.dump(train_comment_features, open(\"train_comment_features.pickle\", \"wb\"))\n",
    "# pickle.dump(test_comment_features, open(\"test_comment_features.pickle\", \"wb\"))\n",
    "\n",
    "# save linear svc\n",
    "pickle.dump(clf, open(\"../../savedModel/Installment/LinearSVC.pickle\", \"wb\"))\n",
    "# save logistic\n",
    "pickle.dump(log_r, open(\"../../savedModel/Installment/Logistic.pickle\", \"wb\"))\n",
    "# save lightGBM\n",
    "pickle.dump(lgbm_model, open(\"../../savedModel/Installment/Lgbm.pickle\", \"wb\"))"
   ]
  },
  {
   "cell_type": "markdown",
   "metadata": {
    "ExecuteTime": {
     "end_time": "2018-06-12T19:25:49.099516Z",
     "start_time": "2018-06-12T19:25:48.998572Z"
    }
   },
   "source": [
    "# Test"
   ]
  },
  {
   "cell_type": "code",
   "execution_count": 23,
   "metadata": {
    "ExecuteTime": {
     "end_time": "2018-06-13T16:11:38.357792Z",
     "start_time": "2018-06-13T16:11:38.336506Z"
    },
    "collapsed": true
   },
   "outputs": [],
   "source": [
    "test = phrase_vectorizer.transform(['我 真的 没有 钱 呀'])\n",
    "# test = phrase_vectorizer.transform(['我 在 洗澡'])\n"
   ]
  },
  {
   "cell_type": "code",
   "execution_count": 24,
   "metadata": {
    "ExecuteTime": {
     "end_time": "2018-06-13T16:11:38.712099Z",
     "start_time": "2018-06-13T16:11:38.689284Z"
    }
   },
   "outputs": [
    {
     "data": {
      "text/plain": [
       "array([[ 0.01339093,  0.97495898,  0.01165009]])"
      ]
     },
     "execution_count": 24,
     "metadata": {},
     "output_type": "execute_result"
    }
   ],
   "source": [
    "clf.predict_proba(test) # linear svc"
   ]
  },
  {
   "cell_type": "code",
   "execution_count": 25,
   "metadata": {
    "ExecuteTime": {
     "end_time": "2018-06-13T16:11:39.048437Z",
     "start_time": "2018-06-13T16:11:39.027232Z"
    }
   },
   "outputs": [
    {
     "data": {
      "text/plain": [
       "array([[ 0.12950896,  0.7129067 ,  0.15758434]])"
      ]
     },
     "execution_count": 25,
     "metadata": {},
     "output_type": "execute_result"
    }
   ],
   "source": [
    "log_r.predict_proba(test) # logistic"
   ]
  },
  {
   "cell_type": "code",
   "execution_count": 26,
   "metadata": {
    "ExecuteTime": {
     "end_time": "2018-06-13T16:11:40.334319Z",
     "start_time": "2018-06-13T16:11:40.310708Z"
    }
   },
   "outputs": [
    {
     "data": {
      "text/plain": [
       "array([[ 0.00999198,  0.90983783,  0.09331524]])"
      ]
     },
     "execution_count": 26,
     "metadata": {},
     "output_type": "execute_result"
    }
   ],
   "source": [
    "lgbm_model.predict(test) # light gbm"
   ]
  },
  {
   "cell_type": "markdown",
   "metadata": {},
   "source": [
    "# Labeling"
   ]
  },
  {
   "cell_type": "code",
   "execution_count": 27,
   "metadata": {
    "ExecuteTime": {
     "end_time": "2018-06-13T16:11:41.840229Z",
     "start_time": "2018-06-13T16:11:41.808558Z"
    }
   },
   "outputs": [
    {
     "name": "stdout",
     "output_type": "stream",
     "text": [
      "label= 1\n",
      "prob= 0.974958978976\n"
     ]
    }
   ],
   "source": [
    "# basic logic: find the max probability of 3 models, if it is larger than threshold, return the corresponding label, otherwise, return 2 (others).\n",
    "result = np.vstack((clf.predict_proba(test),log_r.predict_proba(test),lgbm_model.predict(test)))\n",
    "pos = np.where(result == np.max(result))\n",
    "\n",
    "threshold = 0.7\n",
    "if np.max(result)<threshold:\n",
    "    label = 2\n",
    "else:\n",
    "    label = pos[1]\n",
    "    label = label[0]\n",
    "    \n",
    "print('label=',label)\n",
    "print('prob=',np.max(result))"
   ]
  },
  {
   "cell_type": "markdown",
   "metadata": {
    "collapsed": true
   },
   "source": [
    "# Save the whole thing"
   ]
  },
  {
   "cell_type": "code",
   "execution_count": 28,
   "metadata": {
    "ExecuteTime": {
     "end_time": "2018-06-13T16:11:43.087119Z",
     "start_time": "2018-06-13T16:11:43.060467Z"
    },
    "collapsed": true
   },
   "outputs": [],
   "source": [
    "# import jieba\n",
    "# import numpy as np\n",
    "\n",
    "# class Installment:\n",
    "    \n",
    "#     def __init__(self, **model):\n",
    "#         \"\"\"\n",
    "#         suggested parameters:\n",
    "#         svc, logistic, lightgbm, jieba_path,tfidf\n",
    "#         \"\"\"\n",
    "#         self._load_model(**model)\n",
    "        \n",
    "#     def _load_model(self,**model):\n",
    "#         self.svc = model.get('svc')\n",
    "#         self.logistic = model.get('logistic')\n",
    "#         self.lightgbm = model.get('lightgbm')\n",
    "#         self.tfidf = model.get('tfidf')\n",
    "#         # load jieba\n",
    "#         jieba_path = model.get('jieba_path')\n",
    "#         if jieba_path is not None:\n",
    "#             jieba.load_userdict(jieba_path)\n",
    "        \n",
    "        \n",
    "#     def classify(self, sentence):\n",
    "#         sentence = jieba.cut(sentence, cut_all = False)\n",
    "#         sentence = ' '.join(sentence)\n",
    "#         matrix = self.tfidf.transform([sentence])\n",
    "#         result = np.vstack((self.svc.predict_proba(matrix),\n",
    "#                             self.logistic.predict_proba(matrix),\n",
    "#                             self.lightgbm.predict(matrix)))\n",
    "#         max_pred = np.max(result, axis=0)\n",
    "#         max_arg = np.argmax(max_pred)\n",
    "#         threshold = 0.6\n",
    "#         if np.max(max_pred<threshold):\n",
    "#             label = 2\n",
    "#         else:\n",
    "#             label = max_arg\n",
    "#         return (label, np.max(max_pred))\n",
    "     \n",
    "        "
   ]
  },
  {
   "cell_type": "code",
   "execution_count": 29,
   "metadata": {
    "ExecuteTime": {
     "end_time": "2018-06-13T16:11:46.546926Z",
     "start_time": "2018-06-13T16:11:46.524377Z"
    }
   },
   "outputs": [
    {
     "name": "stdout",
     "output_type": "stream",
     "text": [
      "The autoreload extension is already loaded. To reload it, use:\n",
      "  %reload_ext autoreload\n"
     ]
    }
   ],
   "source": [
    "%load_ext autoreload\n",
    "%autoreload 2"
   ]
  },
  {
   "cell_type": "code",
   "execution_count": 30,
   "metadata": {
    "ExecuteTime": {
     "end_time": "2018-06-13T16:11:47.788104Z",
     "start_time": "2018-06-13T16:11:47.277336Z"
    }
   },
   "outputs": [
    {
     "name": "stderr",
     "output_type": "stream",
     "text": [
      "Building prefix dict from the default dictionary ...\n",
      "Loading model from cache /tmp/jieba.cache\n",
      "Loading model cost 0.474 seconds.\n",
      "Prefix dict has been built succesfully.\n"
     ]
    }
   ],
   "source": [
    "from Installment_py import Installment\n",
    "ifk = Installment(svc=clf, logistic=log_r, lightgbm=lgbm_model, tfidf=phrase_vectorizer, jieba_path='../WordCut/userdict.txt')\n",
    "\n",
    "pickle.dump(ifk, open(\"../../savedModel/Installment/Installment.pickle\", \"wb\"))"
   ]
  },
  {
   "cell_type": "code",
   "execution_count": null,
   "metadata": {
    "collapsed": true
   },
   "outputs": [],
   "source": []
  }
 ],
 "metadata": {
  "kernelspec": {
   "display_name": "Python 3",
   "language": "python",
   "name": "python3"
  },
  "language_info": {
   "codemirror_mode": {
    "name": "ipython",
    "version": 3
   },
   "file_extension": ".py",
   "mimetype": "text/x-python",
   "name": "python",
   "nbconvert_exporter": "python",
   "pygments_lexer": "ipython3",
   "version": "3.6.3"
  },
  "varInspector": {
   "cols": {
    "lenName": 16,
    "lenType": 16,
    "lenVar": 40
   },
   "kernels_config": {
    "python": {
     "delete_cmd_postfix": "",
     "delete_cmd_prefix": "del ",
     "library": "var_list.py",
     "varRefreshCmd": "print(var_dic_list())"
    },
    "r": {
     "delete_cmd_postfix": ") ",
     "delete_cmd_prefix": "rm(",
     "library": "var_list.r",
     "varRefreshCmd": "cat(var_dic_list()) "
    }
   },
   "types_to_exclude": [
    "module",
    "function",
    "builtin_function_or_method",
    "instance",
    "_Feature"
   ],
   "window_display": false
  }
 },
 "nbformat": 4,
 "nbformat_minor": 2
}
