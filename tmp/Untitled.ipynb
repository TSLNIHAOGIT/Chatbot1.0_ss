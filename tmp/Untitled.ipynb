{
 "cells": [
  {
   "cell_type": "code",
   "execution_count": 1,
   "metadata": {
    "ExecuteTime": {
     "end_time": "2018-07-17T16:09:03.347338Z",
     "start_time": "2018-07-17T16:09:03.313195Z"
    }
   },
   "outputs": [],
   "source": [
    "import sys,os\n",
    "sys.path.append('../Lib/')\n",
    "sys.path.append('../ENV/')\n",
    "from LOG import Logger"
   ]
  },
  {
   "cell_type": "code",
   "execution_count": 2,
   "metadata": {
    "ExecuteTime": {
     "end_time": "2018-07-17T16:09:04.118626Z",
     "start_time": "2018-07-17T16:09:04.090742Z"
    }
   },
   "outputs": [],
   "source": [
    "class Test:\n",
    "    def __init__(self):\n",
    "        self.log = Logger(self.__class__.__name__,level='INFO').logger\n",
    "#         self.log.('init')\n",
    "    def test1(self):\n",
    "        self.log.info('test')"
   ]
  },
  {
   "cell_type": "code",
   "execution_count": 3,
   "metadata": {
    "ExecuteTime": {
     "end_time": "2018-07-17T16:09:05.207597Z",
     "start_time": "2018-07-17T16:09:05.199097Z"
    }
   },
   "outputs": [],
   "source": [
    "t = Test()"
   ]
  },
  {
   "cell_type": "code",
   "execution_count": 4,
   "metadata": {
    "ExecuteTime": {
     "end_time": "2018-07-17T16:09:06.405849Z",
     "start_time": "2018-07-17T16:09:06.394531Z"
    }
   },
   "outputs": [
    {
     "name": "stderr",
     "output_type": "stream",
     "text": [
      "2018-07-17 16:09:06,395 - INFO - CLASS:Test- METHOD:<module> -LINE:1 - MSG:sss\n"
     ]
    }
   ],
   "source": [
    "t.log.info(\"sss\")"
   ]
  },
  {
   "cell_type": "code",
   "execution_count": 5,
   "metadata": {
    "ExecuteTime": {
     "end_time": "2018-07-17T16:09:06.919488Z",
     "start_time": "2018-07-17T16:09:06.892895Z"
    }
   },
   "outputs": [
    {
     "name": "stderr",
     "output_type": "stream",
     "text": [
      "2018-07-17 16:09:06,895 - INFO - CLASS:Test- METHOD:test1 -LINE:6 - MSG:test\n"
     ]
    }
   ],
   "source": [
    "t.test1()"
   ]
  },
  {
   "cell_type": "code",
   "execution_count": 6,
   "metadata": {
    "ExecuteTime": {
     "end_time": "2018-07-17T16:09:22.143716Z",
     "start_time": "2018-07-17T16:09:22.139322Z"
    }
   },
   "outputs": [],
   "source": [
    "from env import ENV"
   ]
  },
  {
   "cell_type": "code",
   "execution_count": 16,
   "metadata": {
    "ExecuteTime": {
     "end_time": "2018-07-17T16:49:18.000429Z",
     "start_time": "2018-07-17T16:49:17.993068Z"
    }
   },
   "outputs": [
    {
     "data": {
      "text/plain": [
       "'DEBUG'"
      ]
     },
     "execution_count": 16,
     "metadata": {},
     "output_type": "execute_result"
    }
   ],
   "source": [
    "ENV.MODEL_LOG_LEVEL.value"
   ]
  },
  {
   "cell_type": "code",
   "execution_count": 17,
   "metadata": {
    "ExecuteTime": {
     "end_time": "2018-07-17T16:53:42.473910Z",
     "start_time": "2018-07-17T16:53:42.467539Z"
    }
   },
   "outputs": [
    {
     "data": {
      "text/plain": [
       "'DEBUG'"
      ]
     },
     "execution_count": 17,
     "metadata": {},
     "output_type": "execute_result"
    }
   ],
   "source": [
    "ENV.MODEL_OTHER_LOG_LEVEL.value"
   ]
  },
  {
   "cell_type": "code",
   "execution_count": 4,
   "metadata": {
    "ExecuteTime": {
     "end_time": "2018-07-19T15:48:01.582151Z",
     "start_time": "2018-07-19T15:48:01.574640Z"
    }
   },
   "outputs": [
    {
     "data": {
      "text/plain": [
       "'my name is: Wei Luo and age is: 27'"
      ]
     },
     "execution_count": 4,
     "metadata": {},
     "output_type": "execute_result"
    }
   ],
   "source": [
    "s = 'my name is: {name} and age is: {age}'\n",
    "s.format(name='Wei Luo',age='27',balance='21')"
   ]
  },
  {
   "cell_type": "code",
   "execution_count": 7,
   "metadata": {
    "ExecuteTime": {
     "end_time": "2018-07-19T18:53:27.879336Z",
     "start_time": "2018-07-19T18:53:27.874597Z"
    }
   },
   "outputs": [],
   "source": [
    "import sys,os\n",
    "sys.path.append('../MLModel/code/TimePattern/')\n",
    "from time_pattern import TimePattern"
   ]
  },
  {
   "cell_type": "code",
   "execution_count": 8,
   "metadata": {
    "ExecuteTime": {
     "end_time": "2018-07-19T18:53:49.216038Z",
     "start_time": "2018-07-19T18:53:49.161495Z"
    }
   },
   "outputs": [
    {
     "name": "stdout",
     "output_type": "stream",
     "text": [
      "Time Zone is set from ENV: {}\n"
     ]
    }
   ],
   "source": [
    "t = TimePattern('../MLModel/code/TimePattern/mapping.csv')"
   ]
  },
  {
   "cell_type": "code",
   "execution_count": null,
   "metadata": {},
   "outputs": [],
   "source": [
    "t._set_timeZone()"
   ]
  }
 ],
 "metadata": {
  "kernelspec": {
   "display_name": "Python 3",
   "language": "python",
   "name": "python3"
  },
  "language_info": {
   "codemirror_mode": {
    "name": "ipython",
    "version": 3
   },
   "file_extension": ".py",
   "mimetype": "text/x-python",
   "name": "python",
   "nbconvert_exporter": "python",
   "pygments_lexer": "ipython3",
   "version": "3.6.5"
  },
  "varInspector": {
   "cols": {
    "lenName": 16,
    "lenType": 16,
    "lenVar": 40
   },
   "kernels_config": {
    "python": {
     "delete_cmd_postfix": "",
     "delete_cmd_prefix": "del ",
     "library": "var_list.py",
     "varRefreshCmd": "print(var_dic_list())"
    },
    "r": {
     "delete_cmd_postfix": ") ",
     "delete_cmd_prefix": "rm(",
     "library": "var_list.r",
     "varRefreshCmd": "cat(var_dic_list()) "
    }
   },
   "types_to_exclude": [
    "module",
    "function",
    "builtin_function_or_method",
    "instance",
    "_Feature"
   ],
   "window_display": false
  }
 },
 "nbformat": 4,
 "nbformat_minor": 2
}
