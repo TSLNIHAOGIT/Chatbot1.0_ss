{
 "cells": [
  {
   "cell_type": "code",
   "execution_count": 1,
   "metadata": {
    "ExecuteTime": {
     "end_time": "2018-08-06T17:42:45.623761Z",
     "start_time": "2018-08-06T17:42:44.916179Z"
    }
   },
   "outputs": [],
   "source": [
    "import sys,os\n",
    "loader_path = '../../classifier/loader/'\n",
    "sys.path.append(loader_path)\n",
    "from loader import load_all"
   ]
  },
  {
   "cell_type": "code",
   "execution_count": 2,
   "metadata": {
    "ExecuteTime": {
     "end_time": "2018-08-06T17:42:47.157835Z",
     "start_time": "2018-08-06T17:42:46.098860Z"
    }
   },
   "outputs": [
    {
     "name": "stderr",
     "output_type": "stream",
     "text": [
      "2018-08-06 17:42:46,543 - INFO - CLASS:load_all- METHOD:load_all -LINE:34 - MSG:IDClassifier has been load!\n",
      "2018-08-06 17:42:46,544 - INFO - CLASS:load_all- METHOD:load_all -LINE:39 - MSG:IDClassifier does not require time zone!\n",
      "2018-08-06 17:42:46,716 - INFO - CLASS:load_all- METHOD:load_all -LINE:34 - MSG:CutDebt has been load!\n",
      "2018-08-06 17:42:46,718 - INFO - CLASS:load_all- METHOD:load_all -LINE:37 - MSG:CutDebt time zone is set to Asia/Shanghai\n",
      "2018-08-06 17:42:46,845 - INFO - CLASS:load_all- METHOD:load_all -LINE:34 - MSG:WillingToPay has been load!\n",
      "2018-08-06 17:42:46,847 - INFO - CLASS:load_all- METHOD:load_all -LINE:37 - MSG:WillingToPay time zone is set to Asia/Shanghai\n",
      "2018-08-06 17:42:46,921 - INFO - CLASS:load_all- METHOD:load_all -LINE:34 - MSG:IfKnowDebtor has been load!\n",
      "2018-08-06 17:42:46,923 - INFO - CLASS:load_all- METHOD:load_all -LINE:39 - MSG:IfKnowDebtor does not require time zone!\n",
      "2018-08-06 17:42:47,049 - INFO - CLASS:load_all- METHOD:load_all -LINE:34 - MSG:Installment has been load!\n",
      "2018-08-06 17:42:47,050 - INFO - CLASS:load_all- METHOD:load_all -LINE:37 - MSG:Installment time zone is set to Asia/Shanghai\n",
      "2018-08-06 17:42:47,153 - INFO - CLASS:load_all- METHOD:load_all -LINE:34 - MSG:ConfirmLoan has been load!\n",
      "2018-08-06 17:42:47,154 - INFO - CLASS:load_all- METHOD:load_all -LINE:37 - MSG:ConfirmLoan time zone is set to Asia/Shanghai\n"
     ]
    }
   ],
   "source": [
    "model_dict = load_all()"
   ]
  },
  {
   "cell_type": "code",
   "execution_count": 3,
   "metadata": {
    "ExecuteTime": {
     "end_time": "2018-08-06T17:42:48.293794Z",
     "start_time": "2018-08-06T17:42:48.275069Z"
    }
   },
   "outputs": [
    {
     "data": {
      "text/plain": [
       "{'IDClassifier': <ml.IDClassifier at 0x7fca84067c50>,\n",
       " 'CutDebt': <ml.CutDebt at 0x7fca4bb98390>,\n",
       " 'WillingToPay': <ml.WillingToPay at 0x7fca4bc64908>,\n",
       " 'IfKnowDebtor': <ml.IfKnowDebtor at 0x7fca4bdb9dd8>,\n",
       " 'Installment': <ml.Installment at 0x7fca58566668>,\n",
       " 'ConfirmLoan': <ml.ConfirmLoan at 0x7fca4ad7a358>}"
      ]
     },
     "execution_count": 3,
     "metadata": {},
     "output_type": "execute_result"
    }
   ],
   "source": [
    "model_dict"
   ]
  },
  {
   "cell_type": "code",
   "execution_count": 4,
   "metadata": {
    "ExecuteTime": {
     "end_time": "2018-08-06T17:42:49.475301Z",
     "start_time": "2018-08-06T17:42:49.454404Z"
    }
   },
   "outputs": [],
   "source": [
    "idc = model_dict['IDClassifier']\n",
    "cutd = model_dict['CutDebt']\n",
    "wil = model_dict['WillingToPay']\n",
    "ifk = model_dict['IfKnowDebtor']\n",
    "ins = model_dict['Installment']\n",
    "conf = model_dict['ConfirmLoan']"
   ]
  },
  {
   "cell_type": "code",
   "execution_count": 13,
   "metadata": {
    "ExecuteTime": {
     "end_time": "2018-08-06T15:19:09.204117Z",
     "start_time": "2018-08-06T15:19:09.168202Z"
    }
   },
   "outputs": [
    {
     "data": {
      "text/plain": [
       "{'label': 109, 'pred_prob': array([[0.19931404, 0.005243  , 0.79544296],\n",
       "        [0.1940669 , 0.04109678, 0.76483632],\n",
       "        [0.07053882, 0.03173419, 0.89772699]]), 'av_pred': array([0.15463992, 0.02602465, 0.81933542]), 'time_extract': [], 'other_response': {'label': 109,\n",
       "  'pred_prob': array([[0.40424235, 0.00175158, 0.17714904, 0.05226434, 0.36459269],\n",
       "         [0.28983041, 0.02811901, 0.17117114, 0.09538704, 0.4154924 ],\n",
       "         [0.24101025, 0.05935885, 0.10446447, 0.05126321, 0.54390323]]),\n",
       "  'av_pred': array([0.31169434, 0.02974315, 0.15092821, 0.06630486, 0.44132944])}}"
      ]
     },
     "execution_count": 13,
     "metadata": {},
     "output_type": "execute_result"
    }
   ],
   "source": [
    "conf.classify('不行')"
   ]
  },
  {
   "cell_type": "code",
   "execution_count": 6,
   "metadata": {
    "ExecuteTime": {
     "end_time": "2018-08-06T15:11:52.293295Z",
     "start_time": "2018-08-06T15:11:52.263218Z"
    }
   },
   "outputs": [
    {
     "data": {
      "text/plain": [
       "{'label': 109, 'pred_prob': array([[0.00534699, 0.01508376, 0.97956925],\n",
       "        [0.02747842, 0.05073578, 0.9217858 ],\n",
       "        [0.00248796, 0.00611293, 0.99139911]]), 'av_pred': array([0.01177112, 0.02397749, 0.96425139]), 'other_response': {'label': 109,\n",
       "  'pred_prob': array([[0.00640292, 0.00444651, 0.00853636, 0.0046518 , 0.97596242],\n",
       "         [0.03154382, 0.02895794, 0.05174902, 0.03357092, 0.8541783 ],\n",
       "         [0.00216998, 0.00312618, 0.0036635 , 0.00165282, 0.98938752]]),\n",
       "  'av_pred': array([0.01337224, 0.01217688, 0.02131629, 0.01329185, 0.93984275])}}"
      ]
     },
     "execution_count": 6,
     "metadata": {},
     "output_type": "execute_result"
    }
   ],
   "source": [
    "idc.classify('你管我是不是')"
   ]
  },
  {
   "cell_type": "code",
   "execution_count": null,
   "metadata": {},
   "outputs": [],
   "source": []
  }
 ],
 "metadata": {
  "kernelspec": {
   "display_name": "Python 3",
   "language": "python",
   "name": "python3"
  },
  "language_info": {
   "codemirror_mode": {
    "name": "ipython",
    "version": 3
   },
   "file_extension": ".py",
   "mimetype": "text/x-python",
   "name": "python",
   "nbconvert_exporter": "python",
   "pygments_lexer": "ipython3",
   "version": "3.6.5"
  },
  "varInspector": {
   "cols": {
    "lenName": 16,
    "lenType": 16,
    "lenVar": 40
   },
   "kernels_config": {
    "python": {
     "delete_cmd_postfix": "",
     "delete_cmd_prefix": "del ",
     "library": "var_list.py",
     "varRefreshCmd": "print(var_dic_list())"
    },
    "r": {
     "delete_cmd_postfix": ") ",
     "delete_cmd_prefix": "rm(",
     "library": "var_list.r",
     "varRefreshCmd": "cat(var_dic_list()) "
    }
   },
   "types_to_exclude": [
    "module",
    "function",
    "builtin_function_or_method",
    "instance",
    "_Feature"
   ],
   "window_display": false
  }
 },
 "nbformat": 4,
 "nbformat_minor": 2
}
