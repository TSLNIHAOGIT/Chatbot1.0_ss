{
 "cells": [
  {
   "cell_type": "code",
   "execution_count": 1,
   "metadata": {
    "ExecuteTime": {
     "end_time": "2018-05-24T21:24:09.372291Z",
     "start_time": "2018-05-24T21:24:09.195455Z"
    },
    "collapsed": true
   },
   "outputs": [],
   "source": [
    "import numpy as np\n",
    "import pandas as pd"
   ]
  },
  {
   "cell_type": "code",
   "execution_count": 2,
   "metadata": {
    "ExecuteTime": {
     "end_time": "2018-05-24T21:24:09.868783Z",
     "start_time": "2018-05-24T21:24:09.820614Z"
    },
    "collapsed": true
   },
   "outputs": [],
   "source": [
    "def result_mat(predict, label, n_class):\n",
    "    '''\n",
    "    returns the result matrix, each row is a predict, each column is a true label. entry (i,j) means number of samples in label j are predicted as i.\n",
    "    '''\n",
    "    mat = np.zeros((n_class+1,n_class+1))\n",
    "    label_list = []\n",
    "    \n",
    "    i = 0\n",
    "    while len(label_list) < n_class:\n",
    "        if label[i] in label_list:\n",
    "            i = i + 1\n",
    "        else:\n",
    "            label_list.append(label[i])\n",
    "            i = i + 1\n",
    "    \n",
    "    for i in range(len(label)):\n",
    "        mat[label_list.index(predict[i]),label_list.index(label[i])] = mat[label_list.index(predict[i]),label_list.index(label[i])] + 1\n",
    "\n",
    "    s = np.sum(mat[:n_class,:n_class],axis = 0)\n",
    "    mat[n_class,:n_class] = s\n",
    "    s = np.sum(mat[:n_class,:n_class],axis = 1)\n",
    "    mat[:n_class,n_class] = s\n",
    "    mat[n_class,n_class] = np.sum(s)\n",
    "    \n",
    "    \n",
    "    pd_col_index = []\n",
    "    pd_row_index = []\n",
    "    for i in range(n_class):\n",
    "        pd_col_index.append('true_label_' + str(i))\n",
    "        pd_row_index.append('pred_label_' + str(i))\n",
    "    pd_col_index.append('pred_total')\n",
    "    pd_row_index.append('true_total')\n",
    "    \n",
    "    result = pd.DataFrame(mat, columns=pd_col_index, index = pd_row_index)\n",
    "    \n",
    "    return result \n",
    "    "
   ]
  },
  {
   "cell_type": "code",
   "execution_count": 3,
   "metadata": {
    "ExecuteTime": {
     "end_time": "2018-05-24T21:24:10.469648Z",
     "start_time": "2018-05-24T21:24:10.455264Z"
    }
   },
   "outputs": [
    {
     "name": "stdout",
     "output_type": "stream",
     "text": [
      "              true_label_0  true_label_1  true_label_2  true_label_3  \\\n",
      "pred_label_0           0.0           1.0           0.0           2.0   \n",
      "pred_label_1           1.0           0.0           4.0           2.0   \n",
      "pred_label_2           0.0           3.0           1.0           3.0   \n",
      "pred_label_3           1.0           1.0           2.0           0.0   \n",
      "true_total             2.0           5.0           7.0           7.0   \n",
      "\n",
      "              pred_total  \n",
      "pred_label_0         3.0  \n",
      "pred_label_1         7.0  \n",
      "pred_label_2         7.0  \n",
      "pred_label_3         4.0  \n",
      "true_total          21.0  \n"
     ]
    }
   ],
   "source": [
    "a = np.array([4,3,2,1,1,2,3,2,1,4,3,2,1,3,2,1,1,2,3,1,2])\n",
    "b = np.array([1,2,3,4,4,3,2,1,2,3,4,3,2,1,2,3,2,1,2,3,3])\n",
    "print(result_mat(b,a,4))"
   ]
  },
  {
   "cell_type": "code",
   "execution_count": null,
   "metadata": {
    "collapsed": true
   },
   "outputs": [],
   "source": []
  }
 ],
 "metadata": {
  "kernelspec": {
   "display_name": "Python 3",
   "language": "python",
   "name": "python3"
  },
  "language_info": {
   "codemirror_mode": {
    "name": "ipython",
    "version": 3
   },
   "file_extension": ".py",
   "mimetype": "text/x-python",
   "name": "python",
   "nbconvert_exporter": "python",
   "pygments_lexer": "ipython3",
   "version": "3.6.3"
  },
  "varInspector": {
   "cols": {
    "lenName": 16,
    "lenType": 16,
    "lenVar": 40
   },
   "kernels_config": {
    "python": {
     "delete_cmd_postfix": "",
     "delete_cmd_prefix": "del ",
     "library": "var_list.py",
     "varRefreshCmd": "print(var_dic_list())"
    },
    "r": {
     "delete_cmd_postfix": ") ",
     "delete_cmd_prefix": "rm(",
     "library": "var_list.r",
     "varRefreshCmd": "cat(var_dic_list()) "
    }
   },
   "types_to_exclude": [
    "module",
    "function",
    "builtin_function_or_method",
    "instance",
    "_Feature"
   ],
   "window_display": false
  }
 },
 "nbformat": 4,
 "nbformat_minor": 2
}
