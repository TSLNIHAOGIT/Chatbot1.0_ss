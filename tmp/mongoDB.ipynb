{
 "cells": [
  {
   "cell_type": "code",
   "execution_count": 17,
   "metadata": {
    "ExecuteTime": {
     "end_time": "2018-07-20T17:14:06.410161Z",
     "start_time": "2018-07-20T17:14:06.385757Z"
    }
   },
   "outputs": [],
   "source": [
    "import pymongo\n",
    "from pymongo import MongoClient\n",
    "\n",
    "client = MongoClient('chatbotdb', 27017)\n",
    "\n",
    "\n",
    "# Get the sampleDB database\n",
    "# db = client.sampleDB"
   ]
  },
  {
   "cell_type": "markdown",
   "metadata": {},
   "source": [
    "# Getting a Database"
   ]
  },
  {
   "cell_type": "code",
   "execution_count": 18,
   "metadata": {
    "ExecuteTime": {
     "end_time": "2018-07-20T17:14:06.776161Z",
     "start_time": "2018-07-20T17:14:06.771662Z"
    }
   },
   "outputs": [],
   "source": [
    "# db = client.test_database\n",
    "db = client['test_database']\n"
   ]
  },
  {
   "cell_type": "markdown",
   "metadata": {},
   "source": [
    "# Getting a Collection"
   ]
  },
  {
   "cell_type": "code",
   "execution_count": 19,
   "metadata": {
    "ExecuteTime": {
     "end_time": "2018-07-20T17:14:07.139564Z",
     "start_time": "2018-07-20T17:14:07.132996Z"
    }
   },
   "outputs": [],
   "source": [
    "# collection = db.test_collection\n",
    "collection = db['test_collection']"
   ]
  },
  {
   "cell_type": "markdown",
   "metadata": {},
   "source": [
    "# Documents"
   ]
  },
  {
   "cell_type": "code",
   "execution_count": 48,
   "metadata": {
    "ExecuteTime": {
     "end_time": "2018-07-20T17:57:54.601122Z",
     "start_time": "2018-07-20T17:57:54.550647Z"
    }
   },
   "outputs": [
    {
     "data": {
      "text/plain": [
       "{'_id': 2,\n",
       " 'author': 'Mike',\n",
       " 'text': 'My first blog post!',\n",
       " 'tags': ['mongodb', 'python', 'pymongo'],\n",
       " 'date': datetime.datetime(2018, 7, 20, 17, 57, 54, 556029)}"
      ]
     },
     "execution_count": 48,
     "metadata": {},
     "output_type": "execute_result"
    }
   ],
   "source": [
    "import datetime\n",
    "\n",
    "################### auto increment ID\n",
    "post = {'_id':collection.count_documents(filter={}),\n",
    "        \"author\": \"Mike\",\n",
    "         \"text\": \"My first blog post!\",\n",
    "         \"tags\": [\"mongodb\", \"python\", \"pymongo\"],\n",
    "         \"date\": datetime.datetime.utcnow()}\n",
    "\n",
    "###################################################################\n",
    "post = {\n",
    "        \"author\": \"Mike\",\n",
    "         \"text\": \"My first blog post!\",\n",
    "         \"tags\": [\"mongodb\", \"python\", \"pymongo\"],\n",
    "         \"date\": datetime.datetime.utcnow()}\n",
    "post"
   ]
  },
  {
   "cell_type": "markdown",
   "metadata": {},
   "source": [
    "# Insert into Database"
   ]
  },
  {
   "cell_type": "code",
   "execution_count": 49,
   "metadata": {
    "ExecuteTime": {
     "end_time": "2018-07-20T17:57:55.300854Z",
     "start_time": "2018-07-20T17:57:55.290939Z"
    }
   },
   "outputs": [
    {
     "data": {
      "text/plain": [
       "2"
      ]
     },
     "execution_count": 49,
     "metadata": {},
     "output_type": "execute_result"
    }
   ],
   "source": [
    "# posts = db.posts\n",
    "post_id = collection.insert_one(post).inserted_id\n",
    "post_id"
   ]
  },
  {
   "cell_type": "markdown",
   "metadata": {},
   "source": [
    "# Find"
   ]
  },
  {
   "cell_type": "code",
   "execution_count": 32,
   "metadata": {
    "ExecuteTime": {
     "end_time": "2018-07-20T17:40:38.950483Z",
     "start_time": "2018-07-20T17:40:38.932050Z"
    }
   },
   "outputs": [],
   "source": [
    "a = []\n",
    "for each in collection.find({'author':'Mike'},sort=[('date',-1)]):\n",
    "    a.append(each)"
   ]
  },
  {
   "cell_type": "code",
   "execution_count": 27,
   "metadata": {
    "ExecuteTime": {
     "end_time": "2018-07-20T17:39:03.298184Z",
     "start_time": "2018-07-20T17:39:03.285292Z"
    }
   },
   "outputs": [
    {
     "data": {
      "text/plain": [
       "[{'_id': ObjectId('5b520f9f7f10e2033d2e6a68'),\n",
       "  'author': 'Mike',\n",
       "  'text': 'My first blog post!',\n",
       "  'tags': ['mongodb', 'python', 'pymongo'],\n",
       "  'date': datetime.datetime(2018, 7, 20, 16, 36, 43, 224000)},\n",
       " {'_id': ObjectId('5b5218607f10e2033d2e6a6a'),\n",
       "  'author': 'Mike',\n",
       "  'text': 'My first blog post!',\n",
       "  'tags': ['mongodb', 'python', 'pymongo'],\n",
       "  'date': datetime.datetime(2018, 7, 20, 17, 14, 7, 603000)},\n",
       " {'_id': ObjectId('5b5218867f10e2033d2e6a6b'),\n",
       "  'author': 'Mike',\n",
       "  'text': 'My first blog post!',\n",
       "  'tags': ['mongodb', 'python', 'pymongo'],\n",
       "  'date': datetime.datetime(2018, 7, 20, 17, 14, 30, 124000)}]"
      ]
     },
     "execution_count": 27,
     "metadata": {},
     "output_type": "execute_result"
    }
   ],
   "source": [
    "a[0]"
   ]
  },
  {
   "cell_type": "markdown",
   "metadata": {
    "ExecuteTime": {
     "end_time": "2018-07-20T17:40:46.297784Z",
     "start_time": "2018-07-20T17:40:46.289321Z"
    }
   },
   "source": [
    "# count"
   ]
  },
  {
   "cell_type": "code",
   "execution_count": 38,
   "metadata": {
    "ExecuteTime": {
     "end_time": "2018-07-20T17:50:27.830162Z",
     "start_time": "2018-07-20T17:50:27.818906Z"
    }
   },
   "outputs": [
    {
     "data": {
      "text/plain": [
       "3"
      ]
     },
     "execution_count": 38,
     "metadata": {},
     "output_type": "execute_result"
    }
   ],
   "source": [
    "collection.count_documents(filter={})"
   ]
  },
  {
   "cell_type": "markdown",
   "metadata": {},
   "source": [
    "# DEV"
   ]
  },
  {
   "cell_type": "code",
   "execution_count": 1,
   "metadata": {
    "ExecuteTime": {
     "end_time": "2018-07-20T20:44:09.410552Z",
     "start_time": "2018-07-20T20:44:09.282382Z"
    }
   },
   "outputs": [],
   "source": [
    "import pymongo\n",
    "from pymongo import MongoClient\n",
    "import sys,os\n",
    "sys.path.append('../Lib/')\n",
    "sys.path.append('../ENV/')\n",
    "from env import ENV\n",
    "from LOG import Logger\n",
    "import datetime as dt\n",
    "\n",
    "\n",
    "class DB:\n",
    "    def __init__(self,host=None,port=None,debug=False,id_increment=True,db=None,collection=None):\n",
    "        \"\"\"\n",
    "        host: mongo db host, default to chatbotdb\n",
    "        port: mongo db port, default to 27017\n",
    "        debug: False - in debug, data will be inserted into different Collections\n",
    "        id_increment: if the id is increased numerally. default to True\n",
    "        db: database default to 'chatbotdb'\n",
    "        collection: default to chat\n",
    "        \"\"\"\n",
    "        self.log = Logger(self.__class__.__name__,level=ENV.DB_LOG_LEVEL.value).logger\n",
    "        self.debug = debug\n",
    "        self.id_increment=id_increment\n",
    "        self._load_client(host,port)\n",
    "        self._get_db(db)\n",
    "        self._get_collection(collection)\n",
    "        \n",
    "    def _load_client(self,host=None,port=None):\n",
    "        if host is None:\n",
    "            host = 'chatbotdb'\n",
    "        if port is None:\n",
    "            port = 27017\n",
    "        self.client = MongoClient(host,port)\n",
    "        self.log.info('get mongodb client. host is:{}, port is: {}'.format(host,port))\n",
    "            \n",
    "    def _get_db(self,db=None):\n",
    "        if db is None:\n",
    "            db = 'chatbotdb'\n",
    "        if self.debug:\n",
    "            db = self.db + '_debug'\n",
    "        self.db = self.client[db]\n",
    "        self.log.info('mongodb database is: {}'.format(db))\n",
    "        \n",
    "            \n",
    "    def _get_collection(self,collection=None):\n",
    "        if collection is None:\n",
    "            collection = 'chat'\n",
    "        if self.debug:\n",
    "            collection = collection + '_debug'\n",
    "        self.collection = self.db[collection]\n",
    "        self.log.info('mongodb collection is: {}'.format(collection))\n",
    "        \n",
    "    def drop_collection(self):\n",
    "        textin = input('You are about to drop collection: {}. Please type in the name to confirm'.format(self.collection.name))\n",
    "        if textin == self.collection.name:\n",
    "            self.collection.drop()\n",
    "            self.log.info('{} was dropped!'.format(self.collection.name))\n",
    "            \n",
    "    def drop_database(self):\n",
    "        textin = input('You are about to drop database: {}. Please type in the name to confirm'.format(self.db.name))\n",
    "        if textin == self.db.name:\n",
    "            self.client.drop_database(self.db.name)\n",
    "            self.log.info('DB {} was dropped!'.format(self.db.name))\n",
    "            \n",
    "    def insert(self,obj={}):\n",
    "        obj.update({'lastUpdateDate':dt.datetime.utcnow()})\n",
    "        if self.id_increment:\n",
    "            obj.update({'_id':self.collection.count_documents(filter={})+1})\n",
    "        insert_id = self.collection.insert_one(obj).inserted_id\n",
    "        self.log.info('{} was inserted into collection: {}'.format(insert_id,self.collection.name))\n",
    "        \n",
    "    \n",
    "        "
   ]
  },
  {
   "cell_type": "code",
   "execution_count": 2,
   "metadata": {
    "ExecuteTime": {
     "end_time": "2018-07-20T20:44:10.266499Z",
     "start_time": "2018-07-20T20:44:10.235914Z"
    }
   },
   "outputs": [
    {
     "name": "stderr",
     "output_type": "stream",
     "text": [
      "2018-07-20 20:44:10,246 - INFO - CLASS:DB- METHOD:_load_client -LINE:34 - MSG:get mongodb client. host is:chatbotdb, port is: 27017\n",
      "2018-07-20 20:44:10,259 - INFO - CLASS:DB- METHOD:_get_db -LINE:42 - MSG:mongodb database is: chatbotdb\n",
      "2018-07-20 20:44:10,260 - INFO - CLASS:DB- METHOD:_get_collection -LINE:51 - MSG:mongodb collection is: chat\n"
     ]
    }
   ],
   "source": [
    "d = DB()"
   ]
  },
  {
   "cell_type": "code",
   "execution_count": 3,
   "metadata": {
    "ExecuteTime": {
     "end_time": "2018-07-20T20:44:11.445914Z",
     "start_time": "2018-07-20T20:44:11.429851Z"
    }
   },
   "outputs": [
    {
     "name": "stderr",
     "output_type": "stream",
     "text": [
      "2018-07-20 20:44:11,442 - INFO - CLASS:DB- METHOD:insert -LINE:70 - MSG:4 was inserted into collection: chat\n"
     ]
    }
   ],
   "source": [
    "d.insert({'user':'罗巍'})"
   ]
  },
  {
   "cell_type": "code",
   "execution_count": 8,
   "metadata": {
    "ExecuteTime": {
     "end_time": "2018-07-20T19:04:28.074383Z",
     "start_time": "2018-07-20T19:04:10.193206Z"
    }
   },
   "outputs": [
    {
     "name": "stdout",
     "output_type": "stream",
     "text": [
      "You are about to drop database: chatbotdb. Please type in the name to confirmchatbotdb\n"
     ]
    },
    {
     "name": "stderr",
     "output_type": "stream",
     "text": [
      "2018-07-20 19:04:28,068 - INFO - CLASS:DB- METHOD:drop_database -LINE:63 - MSG:DB chatbotdb was dropped!\n"
     ]
    }
   ],
   "source": [
    "d.drop_database()"
   ]
  },
  {
   "cell_type": "code",
   "execution_count": 4,
   "metadata": {
    "ExecuteTime": {
     "end_time": "2018-07-20T18:40:35.174604Z",
     "start_time": "2018-07-20T18:40:35.165378Z"
    }
   },
   "outputs": [],
   "source": [
    "c = MongoClient('chatbot',27017)"
   ]
  },
  {
   "cell_type": "code",
   "execution_count": 6,
   "metadata": {
    "ExecuteTime": {
     "end_time": "2018-07-20T18:40:44.050583Z",
     "start_time": "2018-07-20T18:40:44.046629Z"
    }
   },
   "outputs": [],
   "source": [
    "d = c['ddd']"
   ]
  },
  {
   "cell_type": "code",
   "execution_count": 7,
   "metadata": {
    "ExecuteTime": {
     "end_time": "2018-07-20T18:40:48.148169Z",
     "start_time": "2018-07-20T18:40:48.141920Z"
    }
   },
   "outputs": [
    {
     "data": {
      "text/plain": [
       "'ddd'"
      ]
     },
     "execution_count": 7,
     "metadata": {},
     "output_type": "execute_result"
    }
   ],
   "source": [
    "d.name"
   ]
  },
  {
   "cell_type": "code",
   "execution_count": null,
   "metadata": {},
   "outputs": [],
   "source": []
  }
 ],
 "metadata": {
  "kernelspec": {
   "display_name": "Python 3",
   "language": "python",
   "name": "python3"
  },
  "language_info": {
   "codemirror_mode": {
    "name": "ipython",
    "version": 3
   },
   "file_extension": ".py",
   "mimetype": "text/x-python",
   "name": "python",
   "nbconvert_exporter": "python",
   "pygments_lexer": "ipython3",
   "version": "3.6.5"
  },
  "varInspector": {
   "cols": {
    "lenName": 16,
    "lenType": 16,
    "lenVar": 40
   },
   "kernels_config": {
    "python": {
     "delete_cmd_postfix": "",
     "delete_cmd_prefix": "del ",
     "library": "var_list.py",
     "varRefreshCmd": "print(var_dic_list())"
    },
    "r": {
     "delete_cmd_postfix": ") ",
     "delete_cmd_prefix": "rm(",
     "library": "var_list.r",
     "varRefreshCmd": "cat(var_dic_list()) "
    }
   },
   "types_to_exclude": [
    "module",
    "function",
    "builtin_function_or_method",
    "instance",
    "_Feature"
   ],
   "window_display": false
  }
 },
 "nbformat": 4,
 "nbformat_minor": 2
}
