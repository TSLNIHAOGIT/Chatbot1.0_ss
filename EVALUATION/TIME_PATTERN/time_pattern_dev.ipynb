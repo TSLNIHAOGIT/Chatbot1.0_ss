{
 "cells": [
  {
   "cell_type": "code",
   "execution_count": 1,
   "metadata": {
    "ExecuteTime": {
     "end_time": "2018-08-08T18:01:56.279099Z",
     "start_time": "2018-08-08T18:01:55.917923Z"
    }
   },
   "outputs": [],
   "source": [
    "import pandas as pd\n",
    "import numpy as np\n",
    "import re\n",
    "import datetime as dt\n",
    "import pytz\n",
    "import sys,os\n",
    "ENV_PATH = '../../ENV/'\n",
    "sys.path.append(ENV_PATH)\n",
    "from env import ENV\n",
    "\n",
    "__file__ = '../../classifier/models/time_pattern/'\n",
    "\n",
    "class TimePattern:\n",
    "    def __init__(self,tz=None):\n",
    "        \"\"\"\n",
    "        tz = \"Asia/Shanghai\"\n",
    "        tz = pytz.timezone(tz)\n",
    "        'America/New_York'\n",
    "        \"\"\"\n",
    "        self.pattern_csv = os.path.join(os.path.dirname(__file__), 'mapping.csv')\n",
    "        self._set_timeZone(tz)\n",
    "        self._load_mapping(self.pattern_csv)\n",
    "        self.time_dic = {'今':'?','明':'+1','后':'+2','大后':'+3','下个':'+1','下下个':'+2',\n",
    "                         '再下个':'+2','下下下个':'+3','后1个':'+1','后2个':'+2','后一个':'+1',\n",
    "                         '后两个':'+2',\n",
    "                         '一':'1','二':'2','三':'3','四':'4','五':'5',\n",
    "                         '六':'6','七':'7','八':'8','九':'9','十':'10',\n",
    "                         '十一':'11','十二':'12','十三':'13','十四':'14','十五':'15',\n",
    "                         '十六':'16','十七':'17','十八':'18','十九':'19','二十':'20',\n",
    "                         '二十一':'21','二十二':'22','二十三':'23','二十四':'24','二十五':'25',\n",
    "                         '二十六':'26','二十七':'27','二十八':'28','二十九':'29','三十':'30','三十一':'31',\n",
    "                         '四十':'40','五十':'50','六十':'60','七十':'70','八十':'80','九十':'90','一百':'100'}\n",
    "        self.fix_ymd = r'(?:(?:今|明|后|大后)年)?(?:(?:\\d{1,2}|下下下个|下下个|再下个|下个|十一|十二|一|二|三|四|五|六|七|八|九|十|后1个|后2个|后一个|后两个|后二个)月)(?:\\d{1,2}|一|二|三|四|五|六|七|八|九|十|十一|十二|十三|十四||十六|十七|十八|十九|二十|二十一|二十二|二十三|二十四|二十五|二十六|二十七|二十八|二十九|三十|三十一)[日号]'\n",
    "        reg_num = r'(?:(?:一|二|三|四|五|六|七|八|九|十|十一|十二|十三|十四|十五|二十|三十|四十|五十|六十|七十|八十|九十)|\\d+)'\n",
    "        self.fix_period = r'(?:{}天)?(?:{}小时)?(?:{}分钟)?'.format(reg_num,reg_num,reg_num)\n",
    "        \n",
    "    def remove_time(self,sentence):\n",
    "        sentence = re.sub(r' ','',sentence)\n",
    "        sentence = re.sub(self.re_ext,' ',sentence)\n",
    "        \n",
    "        finds_ymd = set(re.findall(self.fix_ymd,sentence)) - set([''])\n",
    "        finds_period = set(re.findall(self.fix_period,sentence)) - set([''])\n",
    "        if len(finds_ymd) > 0:\n",
    "            sentence = re.sub('|'.join(finds_ymd),' ',sentence)\n",
    "        if len(finds_period) > 0:\n",
    "            sentence = re.sub('|'.join(finds_period),' ',sentence)\n",
    "\n",
    "        if sentence == '':\n",
    "            return ' '\n",
    "        return sentence\n",
    "        \n",
    "    \n",
    "    def process(self, sentence):\n",
    "        current = self._get_LocalNow()\n",
    "        sentence = re.sub(r\" \",'',sentence)\n",
    "        fixymd = self.evl_ymd(sentence)\n",
    "        selfdefine = re.findall(self.re_ext, sentence)\n",
    "        period = self.evl_period(sentence)\n",
    "        result = []\n",
    "        for each in fixymd:\n",
    "            future = self.evl(each['expression'])\n",
    "            gap = (future - current).total_seconds()\n",
    "            result.append({'pattern':each['pattern'], 'time':future, 'gapS':gap, 'gapH':gap/3600})\n",
    "        for each in selfdefine:\n",
    "            future = self.evl(self.dict_ext[each])\n",
    "            gap = (future - current).total_seconds()\n",
    "            result.append({'pattern':each, 'time':future, 'gapS':gap, 'gapH':gap/3600})\n",
    "        for each in period:\n",
    "            future = self.evl(each['expression'])\n",
    "            gap = (future - current).total_seconds()\n",
    "            result.append({'pattern':each['pattern'], 'time':future, 'gapS':gap, 'gapH':gap/3600})\n",
    "        return result\n",
    "    \n",
    "    def evl(self, expression):\n",
    "        current = self._get_LocalNow()\n",
    "        exp_week = re.findall(r'-.+W-.+w',expression)\n",
    "        exp_ymd = re.findall(r'.+y-.+m.+d',expression)\n",
    "\n",
    "        history = self._pros_second(expression, current)\n",
    "        history = self._pros_minute(expression, current, history)\n",
    "        history,shift = self._pros_hour(expression, current, history)\n",
    "\n",
    "        if exp_week:\n",
    "            history = self._pros_weekDay(expression,current, history)\n",
    "            history = self._pros_week(expression,current, history)\n",
    "            history = self._pros_year(expression, current,history)\n",
    "            future = self.create_from_W(history)  \n",
    "        elif exp_ymd:\n",
    "            history = self._pros_day(expression, current,history)\n",
    "            history = self._pros_month(expression, current,history)\n",
    "            history = self._pros_year(expression, current,history)\n",
    "            future = self.create_from_D(history)\n",
    "        if future.tzinfo is None:\n",
    "            future = self.tz.localize(future)\n",
    "        return future\n",
    "    \n",
    "    def _load_mapping(self, pattern_path):\n",
    "        df = pd.read_csv(pattern_path)\n",
    "        # create length\n",
    "        df['length'] = df.key_word.apply(lambda x: len(x))\n",
    "        df = df.sort_values(['length','key_word'], ascending=False)\n",
    "        df_series = pd.Series(index=df.key_word.values, data=df.expression.values)\n",
    "        df_dict = df_series.to_dict()\n",
    "        self.serires = df_series\n",
    "        self.re_ext = r'|'.join(self.serires.index.values)\n",
    "        self.dict_ext = df_dict\n",
    "        \n",
    "    def _set_timeZone(self,tz=None):\n",
    "        if tz is None:\n",
    "            tz = ENV.TIMEZONE.value\n",
    "            print('Time Zone is set from ENV: {}'.format(tz))\n",
    "        tz = ENV.TIMEZONE.value\n",
    "        self.tz = pytz.timezone(tz)\n",
    "        self.delta = self.tz.utcoffset(dt.datetime.utcnow())\n",
    "        \n",
    "        \n",
    "    def _get_LocalNow(self):\n",
    "        now = dt.datetime.utcnow()\n",
    "        return self.tz.localize(now) + self.delta\n",
    "        \n",
    "    def _pros_second(self, expression, current, history={'microsecond':0}):\n",
    "        history = history.copy()\n",
    "        S = current.second\n",
    "        reexp = r'M:.+S'\n",
    "        extract = re.findall(reexp,expression)[0]\n",
    "        # M:+1S\n",
    "        if extract[2:-1] == '?':\n",
    "            history.update({'second':S})\n",
    "            return history\n",
    "        elif extract[2] == '+':\n",
    "            gap = int(extract[3:-1])\n",
    "            create = current + dt.timedelta(seconds=gap) \n",
    "            create = create.replace(**history)\n",
    "            return create \n",
    "        elif extract[2] == '-':\n",
    "            gap = int(extract[3:-1])\n",
    "            create =  current - dt.timedelta(seconds=gap)\n",
    "            create = create.replace(**history)\n",
    "            return create\n",
    "        else:\n",
    "            second = int(extract[2:-1])\n",
    "            history.update({'second':second})\n",
    "            return history\n",
    "        \n",
    "    def _pros_minute(self, expression, current, history = {}):\n",
    "        if isinstance(history,dt.datetime):\n",
    "            return history\n",
    "        history = history.copy()\n",
    "        M = current.minute\n",
    "        reexp = r'H:.+M'\n",
    "        extract = re.findall(reexp,expression)[0]\n",
    "        # H:?M\n",
    "        if extract[2:-1] == '?':\n",
    "            history.update({'minute':M})\n",
    "            return history\n",
    "        elif extract[2] == '+':\n",
    "            gap = int(extract[3:-1])\n",
    "            create = current + dt.timedelta(minutes=gap) \n",
    "            create = create.replace(**history)\n",
    "            return create\n",
    "        elif extract[2] == '-':\n",
    "            gap = int(extract[3:-1])\n",
    "            create = current - dt.timedelta(minutes=gap) \n",
    "            create = create.replace(**history)\n",
    "            return create\n",
    "        else:\n",
    "            minute = int(extract[2:-1])\n",
    "            history.update({'minute':minute})\n",
    "            return history\n",
    "        \n",
    "    def _pros_hour(self, expression, current, history = {}):\n",
    "        shift = True\n",
    "        if isinstance(history,dt.datetime):\n",
    "            return history, shift\n",
    "        history = history.copy()\n",
    "\n",
    "        H = current.hour\n",
    "        reexp = r'[dw]-.+H'\n",
    "        extract = re.findall(reexp,expression)[0]\n",
    "    #     d-?H\n",
    "        if extract[2:-1] == '?':\n",
    "            history.update({'hour':H})\n",
    "            return history,shift\n",
    "        elif extract[2] == '+':\n",
    "            gap = int(extract[3:-1])\n",
    "            create = current + dt.timedelta(hours=gap)\n",
    "            create = create.replace(**history)\n",
    "            return create,shift\n",
    "        elif extract[2] == '-':\n",
    "            gap = int(extract[3:-1])\n",
    "            create = current - dt.timedelta(hours=gap)\n",
    "            create = create.replace(**history)\n",
    "            return create,shift\n",
    "        else:\n",
    "            shift = False\n",
    "            hour = int(extract[2:-1])\n",
    "            history.update({'hour':hour})\n",
    "            return history,shift\n",
    "        \n",
    "    def _pros_day(self, expression, current, history={}):\n",
    "        if isinstance(history,dt.datetime):\n",
    "            return history\n",
    "        history = history.copy()\n",
    "        d = current.day\n",
    "        reexp = r'm-.+d'\n",
    "        extract = re.findall(reexp,expression)[0]\n",
    "        if extract[2:-1] == '?':\n",
    "            history.update({'day':d})\n",
    "            return history\n",
    "        elif extract[2] == '+':\n",
    "            gap = int(extract[3:-1])\n",
    "            create = current + dt.timedelta(days=gap) \n",
    "            create = create.replace(**history)\n",
    "            return create\n",
    "        elif extract[2] == '-':\n",
    "            gap = int(extract[3:-1])\n",
    "            create = current - dt.timedelta(days=gap) \n",
    "            create = create.replace(**history)\n",
    "            return create\n",
    "        else:\n",
    "            day = int(extract[2:-1])\n",
    "            history.update({'day':day})\n",
    "            return history\n",
    "        \n",
    "    def _pros_month(self, expression, current, history):\n",
    "        if isinstance(history,dt.datetime):\n",
    "            return history\n",
    "        history = history.copy()\n",
    "        adjust_year = 0\n",
    "        m = current.month\n",
    "        reexp = r'y-.+m'\n",
    "        extract = re.findall(reexp,expression)[0]\n",
    "        if extract[2:-1] == '?':\n",
    "            history.update({'month':m})\n",
    "            return history\n",
    "        elif extract[2] == '+':\n",
    "            cur = int(extract[3:-1]) + m\n",
    "            if cur > 12:\n",
    "                adjust_year = int(cur / 12)\n",
    "                cur = cur % 12\n",
    "                if cur == 0:\n",
    "                    cur = 12\n",
    "                    adjust_year -= 1\n",
    "            history.update({'year':adjust_year})\n",
    "            history.update({'month':cur})\n",
    "            return history\n",
    "        elif extract[2] == '-':\n",
    "            cur = m - int(extract[3:-1])\n",
    "            if cur < 1:\n",
    "                adjust_year = int(cur / 12) - 1\n",
    "                cur = cur % 12\n",
    "                if cur == 0:\n",
    "                    cur = 12\n",
    "            history.update({'year':adjust_year})\n",
    "            history.update({'month':cur})\n",
    "            return history\n",
    "        else:\n",
    "            history.update({'month':int(extract[2:-1])})\n",
    "            return history\n",
    "        \n",
    "    def _pros_year(self, expression, current, history):\n",
    "        if isinstance(history,dt.datetime):\n",
    "            return history\n",
    "        history = history.copy()\n",
    "        adjust_year = history.get('year')\n",
    "        if adjust_year is None:\n",
    "            adjust_year = 0\n",
    "        y = current.year\n",
    "        reexp = r'.+y-'\n",
    "        extract = re.findall(reexp,expression)[0]\n",
    "        if extract[0:-2] == '?':\n",
    "            history.update({'year':y+adjust_year})\n",
    "            return history\n",
    "        elif extract[0] == '+':\n",
    "            gap = int(extract[1:-2])\n",
    "            history.update({'year':y+adjust_year+gap})\n",
    "            return history\n",
    "        elif extract[0] == '-':\n",
    "            gap = int(extract[1:-2])\n",
    "            history.update({'year':y+adjust_year-gap})\n",
    "            return history\n",
    "        else:\n",
    "            history.update({'year':int(extract[:-2])+adjust_year})\n",
    "            return history\n",
    "        \n",
    "    def _pros_weekDay(self, expression, current, history):\n",
    "        history = history.copy()\n",
    "        w = current.isocalendar()[2] % 7\n",
    "        reexp = r'W-.+w'\n",
    "        extract = re.findall(reexp,expression)[0]\n",
    "\n",
    "        # W-+1w\n",
    "        if extract[2:-1] == '?':\n",
    "            history.update({'weekday':str(w)})\n",
    "            return history\n",
    "        elif extract[2] == '+':\n",
    "            rep = str(w + int(extract[3:-1]))\n",
    "            history.update({'weekday':rep})\n",
    "            return history\n",
    "        elif extract[2] == '-':\n",
    "            rep = str(w - int(extract[3:-1]))\n",
    "            history.update({'weekday':rep})\n",
    "            return history\n",
    "        else:\n",
    "            rep = extract[2:-1]\n",
    "            history.update({'weekday':rep})\n",
    "            return history\n",
    "        \n",
    "    def _pros_week(self, expression, current, history):\n",
    "        history = history.copy()\n",
    "        year_adjust = 0\n",
    "        W = current.isocalendar()[1] \n",
    "        reexp = r'y-.+W'\n",
    "        extract = re.findall(reexp,expression)[0]\n",
    "\n",
    "        # y-+1W\n",
    "        if extract[2:-1] == '?':\n",
    "            rep = str(W)\n",
    "            history.update({'week':rep})\n",
    "            return history\n",
    "        elif extract[2] == '+':\n",
    "            cur = W + int(extract[3:-1])\n",
    "            if cur > 53:\n",
    "                year_adjust = int(cur / 53)\n",
    "                cur = cur % 53\n",
    "            rep = str(cur)\n",
    "            history.update({'year':year_adjust})\n",
    "            history.update({'week':rep})\n",
    "            return history\n",
    "        elif extract[2] == '-':\n",
    "            cur = W - int(extract[3:-1])\n",
    "            if cur < 0:\n",
    "                year_adjust = int(cur / 53) -1\n",
    "                cur = cur % 53\n",
    "            rep = str(cur)\n",
    "            history.update({'year':year_adjust})\n",
    "            history.update({'week':rep})\n",
    "            return history\n",
    "        else:\n",
    "            rep = extract[2:-1]\n",
    "            history.update({'week':rep})\n",
    "            return history\n",
    "    \n",
    "    def create_from_D(self, history):\n",
    "        if isinstance(history,dt.datetime):\n",
    "            return history\n",
    "        return dt.datetime(**history)\n",
    "    \n",
    "    def create_from_W(self, history):\n",
    "        expression ='{}y-{}W-{}w-{}H:{}M:{}S'.format(history['year'],\n",
    "                                                     history['week'],\n",
    "                                                     history['weekday'],\n",
    "                                                     history['hour'],\n",
    "                                                     history['minute'],\n",
    "                                                     history['second'])\n",
    "        eval_time = dt.datetime.strptime(expression, \"%Yy-%WW-%ww-%HH:%MM:%SS\")\n",
    "        return eval_time\n",
    "    \n",
    "    def ymd_reg(self,x):\n",
    "        \n",
    "        finds = list(set(re.findall(self.fix_ymd,x)) -set(['']))\n",
    "        return finds\n",
    "\n",
    "    def ymd_expression(self, result):\n",
    "        def get_key(x):\n",
    "            if x.isdigit():\n",
    "                return x\n",
    "            else:\n",
    "                gets = self.time_dic.get(x)\n",
    "                if x is None:\n",
    "                    return '?'\n",
    "                else:\n",
    "                    return gets\n",
    "\n",
    "\n",
    "        year_index = result.find('年')\n",
    "        month_index = result.find('月')\n",
    "        if result.find('日') != -1:\n",
    "            date_index = result.find('日')\n",
    "        else:\n",
    "            date_index = result.find('号')\n",
    "\n",
    "        if year_index != -1:\n",
    "            year_key = result[0:year_index]  \n",
    "            year = get_key(year_key)\n",
    "        else:\n",
    "            year = '?'\n",
    "        if month_index != -1:\n",
    "            month_key = result[year_index+1:month_index]\n",
    "            month = get_key(month_key)\n",
    "        else:\n",
    "            month = '?'\n",
    "        if date_index != -1:\n",
    "            date_key = result[month_index+1:date_index]\n",
    "            date = get_key(date_key)\n",
    "        else:\n",
    "            date = '?'\n",
    "        formatted = '{}y-{}m-{}d-12H:00M:00S'.format(year, month, date)\n",
    "        return formatted\n",
    "    \n",
    "    def evl_ymd(self,text):\n",
    "        finds = self.ymd_reg(text)\n",
    "        evls = []\n",
    "        if len(finds) == 0:\n",
    "            return evls\n",
    "        else:\n",
    "            for each in finds:\n",
    "                evls.append({'pattern':each, 'expression':self.ymd_expression(each)})\n",
    "        return evls\n",
    "   \n",
    "\n",
    "    def period_reg(self,x):\n",
    "        \n",
    "        finds = list(set(re.findall(self.fix_period,x)) - set(['']))\n",
    "        return finds\n",
    "    \n",
    "    def period_expression(self,find):\n",
    "        day_index = find.find('天')\n",
    "        hour_index = find.find('小时')\n",
    "        minute_index = find.find('分钟')\n",
    "        if day_index != -1:\n",
    "            day = find[0:day_index]\n",
    "            if self.time_dic.get(day) is not None:\n",
    "                day = int(self.time_dic.get(day))\n",
    "            else:\n",
    "                try:\n",
    "                    day = int(day)\n",
    "                except Exception:\n",
    "                    day = 0\n",
    "        else:\n",
    "            day = 0\n",
    "\n",
    "        if hour_index != -1:\n",
    "            hour = find[day_index+1:hour_index]\n",
    "            if self.time_dic.get(hour) is not None:\n",
    "                hour = int(self.time_dic.get(hour))\n",
    "            else:\n",
    "                try:\n",
    "                    hour = int(hour)\n",
    "                except Exception:\n",
    "                    hour = 0\n",
    "        else:\n",
    "            hour = 0\n",
    "\n",
    "        if minute_index != -1:\n",
    "            minute = find[hour_index+2:minute_index]\n",
    "            if self.time_dic.get(minute) is not None:\n",
    "                minute = int(self.time_dic.get(minute))\n",
    "            else:\n",
    "                try:\n",
    "                    minute = int(minute)\n",
    "                except Exception:\n",
    "                    minute = 0\n",
    "        else:\n",
    "            minute = 0\n",
    "\n",
    "        delta_minute = 24*60*day + 60*hour +minute \n",
    "        formatted = '?y-?m-?d-?H:+{}M:00S'.format(delta_minute)\n",
    "        return formatted\n",
    "    \n",
    "    def evl_period(self,text):\n",
    "        finds = self.period_reg(text)\n",
    "        evls = []\n",
    "        if len(finds) == 0:\n",
    "            return evls\n",
    "        else:\n",
    "            for each in finds:\n",
    "                evls.append({'pattern':each, 'expression':self.period_expression(each)})\n",
    "        return evls\n",
    "\n",
    "\n",
    "\n",
    "        \n",
    "        \n",
    "        \n",
    "    def test_case1(self):\n",
    "        \"\"\"\n",
    "        test if there is any overlab between self-defined and the fixed expression\n",
    "        \"\"\"\n",
    "        error_result = []\n",
    "        for each_pattern in self.serires.index.values:\n",
    "            fixymd = self.evl_ymd(each_pattern)\n",
    "            if len(fixymd) > 0:\n",
    "                pattern = fixymd[0]['pattern']\n",
    "#                 if pattern == each_pattern:\n",
    "                error_result.append(each_pattern)\n",
    "        print('============ test case 1 is below ==============')\n",
    "        print(error_result)\n",
    "        \n",
    "    def test_case2(self):\n",
    "        \"\"\"\n",
    "        This test is used to test all self define mapping;\n",
    "        check is the evl string is correct\n",
    "        \"\"\"\n",
    "        error_result = []\n",
    "        for key in self.dict_ext:\n",
    "            try:\n",
    "                evl = self.evl(self.dict_ext[key])\n",
    "            except Exception:\n",
    "                error_result.append(key)\n",
    "                print(key)\n",
    "        print('============ test case 2 is below ==============')\n",
    "        print(error_result )\n",
    "        "
   ]
  },
  {
   "cell_type": "code",
   "execution_count": 2,
   "metadata": {
    "ExecuteTime": {
     "end_time": "2018-08-08T18:01:56.846753Z",
     "start_time": "2018-08-08T18:01:56.795089Z"
    }
   },
   "outputs": [
    {
     "name": "stdout",
     "output_type": "stream",
     "text": [
      "Time Zone is set from ENV: Asia/Shanghai\n"
     ]
    }
   ],
   "source": [
    "t = TimePattern()"
   ]
  },
  {
   "cell_type": "code",
   "execution_count": 3,
   "metadata": {
    "ExecuteTime": {
     "end_time": "2018-08-08T18:01:57.836092Z",
     "start_time": "2018-08-08T18:01:57.765485Z"
    }
   },
   "outputs": [
    {
     "name": "stdout",
     "output_type": "stream",
     "text": [
      "============ test case 2 is below ==============\n",
      "[]\n"
     ]
    }
   ],
   "source": [
    "t.test_case2()"
   ]
  },
  {
   "cell_type": "code",
   "execution_count": 4,
   "metadata": {
    "ExecuteTime": {
     "end_time": "2018-08-08T18:01:58.494932Z",
     "start_time": "2018-08-08T18:01:58.486074Z"
    }
   },
   "outputs": [],
   "source": [
    "#after period \n",
    "s1 = '三天2小时5分钟后就还'\n",
    "s2 = '四小时后就还'\n",
    "s3 = '2小时就还'\n",
    "s4 = '  哈哈水电费'"
   ]
  },
  {
   "cell_type": "code",
   "execution_count": 5,
   "metadata": {
    "ExecuteTime": {
     "end_time": "2018-08-08T18:01:59.438315Z",
     "start_time": "2018-08-08T18:01:59.401155Z"
    }
   },
   "outputs": [
    {
     "data": {
      "text/plain": [
       "'  后就还'"
      ]
     },
     "execution_count": 5,
     "metadata": {},
     "output_type": "execute_result"
    }
   ],
   "source": [
    "t.remove_time(s1)"
   ]
  },
  {
   "cell_type": "code",
   "execution_count": 6,
   "metadata": {
    "ExecuteTime": {
     "end_time": "2018-08-08T18:01:59.661264Z",
     "start_time": "2018-08-08T18:01:59.651615Z"
    }
   },
   "outputs": [],
   "source": [
    "reg_num = r'(?:(?:一|二|两|三|四|五|六|七|八|九|十|十一|十二|十三|十四|十五|二十|三十|四十|五十|六十|七十|八十|九十)|\\d+)'\n",
    "reg = r'(?:{}(?:天|日){}小时)|(?:{}(?:天|小时|日))'.format(reg_num,reg_num,reg_num)\n",
    "finds = re.findall(reg,s1)\n"
   ]
  },
  {
   "cell_type": "code",
   "execution_count": 7,
   "metadata": {
    "ExecuteTime": {
     "end_time": "2018-08-08T18:01:59.972171Z",
     "start_time": "2018-08-08T18:01:59.965473Z"
    }
   },
   "outputs": [],
   "source": [
    "reg_num = r'(?:(?:一|二|两|三|四|五|六|七|八|九|十|十一|十二|十三|十四|十五|二十|三十|四十|五十|六十|七十|八十|九十)|\\d+)'\n",
    "reg = r'(?:{}(?:天|日))?(?:{}小时)?(?:{}分钟)?'.format(reg_num,reg_num,reg_num)\n",
    "finds = list(set(re.findall(reg,s1)) - set(['']))"
   ]
  },
  {
   "cell_type": "code",
   "execution_count": 8,
   "metadata": {
    "ExecuteTime": {
     "end_time": "2018-08-08T18:02:00.240855Z",
     "start_time": "2018-08-08T18:02:00.234315Z"
    }
   },
   "outputs": [
    {
     "data": {
      "text/plain": [
       "['三天2小时5分钟']"
      ]
     },
     "execution_count": 8,
     "metadata": {},
     "output_type": "execute_result"
    }
   ],
   "source": [
    "finds"
   ]
  },
  {
   "cell_type": "code",
   "execution_count": 9,
   "metadata": {
    "ExecuteTime": {
     "end_time": "2018-08-08T18:02:01.096853Z",
     "start_time": "2018-08-08T18:02:01.086239Z"
    }
   },
   "outputs": [],
   "source": [
    "mapping = {'今':'?','明':'+1','后':'+2','大后':'+3','下个':'+1','下下个':'+2',\n",
    "                         '再下个':'+2','下下下个':'+3','后1个':'+1','后2个':'+2','后一个':'+1',\n",
    "                         '后两个':'+2',\n",
    "                         '一':'1','二':'2','三':'3','四':'4','五':'5',\n",
    "                         '六':'6','七':'7','八':'8','九':'9','十':'10',\n",
    "                         '十一':'11','十二':'12','十三':'13','十四':'14','十五':'15',\n",
    "                         '十六':'16','十七':'17','十八':'18','十九':'19','二十':'20',\n",
    "                         '二十一':'21','二十二':'22','二十三':'23','二十四':'24','二十五':'25',\n",
    "                         '二十六':'26','二十七':'27','二十八':'28','二十九':'29','三十':'30','三十一':'31',\n",
    "                         '四十':'40','五十':'50','六十':'60','七十':'70','八十':'80','九十':'90','一百':'100'}"
   ]
  },
  {
   "cell_type": "code",
   "execution_count": 10,
   "metadata": {
    "ExecuteTime": {
     "end_time": "2018-08-08T18:02:01.936953Z",
     "start_time": "2018-08-08T18:02:01.925338Z"
    }
   },
   "outputs": [],
   "source": [
    "find = '三天2小时5分钟'\n",
    "day_index = find.find('天')\n",
    "if day_index == -1:\n",
    "    day_index = find.find('日')\n",
    "hour_index = find.find('小时')\n",
    "minute_index = find.find('分钟')\n",
    "if day_index != -1:\n",
    "    day = find[0:day_index]\n",
    "    if mapping.get(day) is not None:\n",
    "        day = int(mapping.get(day))\n",
    "    else:\n",
    "        try:\n",
    "            day = int(day)\n",
    "        except Exception:\n",
    "            day = 0\n",
    "else:\n",
    "    day = 0\n",
    "    \n",
    "if hour_index != -1:\n",
    "    hour = find[day_index+1:hour_index]\n",
    "    if mapping.get(hour) is not None:\n",
    "        hour = int(mapping.get(hour))\n",
    "    else:\n",
    "        try:\n",
    "            hour = int(hour)\n",
    "        except Exception:\n",
    "            hour = 0\n",
    "else:\n",
    "    hour = 0\n",
    "    \n",
    "if minute_index != -1:\n",
    "    minute = find[hour_index+2:minute_index]\n",
    "    if mapping.get(minute) is not None:\n",
    "        minute = int(mapping.get(minute))\n",
    "    else:\n",
    "        try:\n",
    "            minute = int(minute)\n",
    "        except Exception:\n",
    "            minute = 0\n",
    "else:\n",
    "    minute = 0\n",
    "    \n",
    "delta_minute = 24*60*day + 60*hour +minute \n",
    "formatted = '?y-?m-?d-?H:+{}M:00S'.format(delta_minute)\n",
    "    \n",
    "\n",
    "\n"
   ]
  },
  {
   "cell_type": "code",
   "execution_count": 139,
   "metadata": {
    "ExecuteTime": {
     "end_time": "2018-08-08T05:53:05.810464Z",
     "start_time": "2018-08-08T05:53:05.798736Z"
    }
   },
   "outputs": [
    {
     "data": {
      "text/plain": [
       "'?y-?m-?d-?H:+4445M:00S'"
      ]
     },
     "execution_count": 139,
     "metadata": {},
     "output_type": "execute_result"
    }
   ],
   "source": [
    "formatted"
   ]
  },
  {
   "cell_type": "code",
   "execution_count": 140,
   "metadata": {
    "ExecuteTime": {
     "end_time": "2018-08-08T05:53:06.939636Z",
     "start_time": "2018-08-08T05:53:06.930057Z"
    }
   },
   "outputs": [
    {
     "data": {
      "text/plain": [
       "datetime.datetime(2018, 8, 11, 15, 58, tzinfo=<DstTzInfo 'Asia/Shanghai' CST+8:00:00 STD>)"
      ]
     },
     "execution_count": 140,
     "metadata": {},
     "output_type": "execute_result"
    }
   ],
   "source": [
    "t.evl(formatted)"
   ]
  },
  {
   "cell_type": "code",
   "execution_count": 54,
   "metadata": {
    "ExecuteTime": {
     "end_time": "2018-08-08T06:26:25.822600Z",
     "start_time": "2018-08-08T06:26:25.814783Z"
    }
   },
   "outputs": [
    {
     "data": {
      "text/plain": [
       "{'1', '2', '3'}"
      ]
     },
     "execution_count": 54,
     "metadata": {},
     "output_type": "execute_result"
    }
   ],
   "source": [
    "a = set(['1','2','3'])\n",
    "a"
   ]
  },
  {
   "cell_type": "code",
   "execution_count": 55,
   "metadata": {
    "ExecuteTime": {
     "end_time": "2018-08-08T06:26:26.654809Z",
     "start_time": "2018-08-08T06:26:26.650009Z"
    }
   },
   "outputs": [],
   "source": [
    "b = '|'"
   ]
  },
  {
   "cell_type": "code",
   "execution_count": 56,
   "metadata": {
    "ExecuteTime": {
     "end_time": "2018-08-08T06:26:27.404679Z",
     "start_time": "2018-08-08T06:26:27.397370Z"
    }
   },
   "outputs": [
    {
     "data": {
      "text/plain": [
       "'1|2|3'"
      ]
     },
     "execution_count": 56,
     "metadata": {},
     "output_type": "execute_result"
    }
   ],
   "source": [
    "b.join(a)"
   ]
  },
  {
   "cell_type": "code",
   "execution_count": 41,
   "metadata": {
    "ExecuteTime": {
     "end_time": "2018-08-08T06:23:30.938257Z",
     "start_time": "2018-08-08T06:23:30.928205Z"
    }
   },
   "outputs": [
    {
     "data": {
      "text/plain": [
       "['', '', '', '', '', '', '', '']"
      ]
     },
     "execution_count": 41,
     "metadata": {},
     "output_type": "execute_result"
    }
   ],
   "source": [
    "re.findall(r'','明天下午就还}')"
   ]
  },
  {
   "cell_type": "markdown",
   "metadata": {},
   "source": [
    "# 2018 0808 DEV"
   ]
  },
  {
   "cell_type": "markdown",
   "metadata": {},
   "source": [
    "## case1 - 某年某月某日"
   ]
  },
  {
   "cell_type": "code",
   "execution_count": 128,
   "metadata": {
    "ExecuteTime": {
     "end_time": "2018-08-09T02:09:24.699248Z",
     "start_time": "2018-08-09T02:09:24.647367Z"
    }
   },
   "outputs": [],
   "source": [
    "\n",
    "num_cn = r'[一二三四五六七八九十零〇两百千0-9]'\n",
    "rela_month = r'(?:下下下|下下|再下|下|(?:{}+))(?:个)?月'.format(num_cn)\n",
    "fix_month = r'(?:{}+)月'.format(num_cn)\n",
    "month_exp = r'(?:{}|{})'.format(rela_month,fix_month)\n",
    "\n",
    "\n",
    "rela_date = '(?:明|后|大后|大大后|再后|(?:{})+)天'.format(num_cn)\n",
    "date_descrip = r'(?:上旬|中旬|下旬|月初|月中|月末|初|中|底|末)'\n",
    "# fix_date = r'(?:{}+)(?:日|号)'.format(num_cn)\n",
    "fix_date = r'(?:(?:{}+)(?:日|号))|{}'.format(num_cn,date_descrip)\n",
    "date_exp = r'(?:{}|{})'.format(rela_date,fix_date)\n",
    "\n",
    "rela_year = r'(?:今|明|后|后后|再后|下一|再下一|(?:{}))年'.format(num_cn)\n",
    "fix_year = r'(?:{}+)年'.format(num_cn)\n",
    "year_exp = r'(?:{}|{})'.format(rela_year,fix_year)\n",
    "\n",
    "rela_hour= r'(?:{}+)小时'.format(num_cn)\n",
    "hour_descrip = r'早晨|凌晨|早上|半夜|中午|下午|傍晚|晚上|清晨|午后'\n",
    "minute_descrip = r'(?:一刻|半|过)|(?:{}+)'.format(num_cn)\n",
    "fix_hour= r'(?:{})|(?:(?:{}+)点(?:{})*)'.format(hour_descrip,num_cn,minute_descrip)\n",
    "hour_exp = r'(?:{}|{})'.format(rela_hour,fix_hour)\n",
    "\n",
    "\n",
    "\n",
    "rela_week = r'(?:(?:这|下|再下|下下|再后)(?:{}+)?(?:个)?)|(?:{}+)'.format(num_cn,num_cn)\n",
    "weekDay = r'[1-7天一二三四五六七]'\n",
    "week_unit = r'周|星期|礼拜'\n",
    "exp_week = r'(?:(?:{rw})?(?:{wu})+(?:{wd})?)+'.format(rw=rela_week,wu=week_unit,wd=weekDay)\n",
    "\n",
    "exp_ymd = r'(?:(?:{y})|(?:{m})|(?:{d})|(?:{h}))+'.format(y=year_exp,m=month_exp,d=date_exp,h=hour_exp)\n"
   ]
  },
  {
   "cell_type": "code",
   "execution_count": 129,
   "metadata": {
    "ExecuteTime": {
     "end_time": "2018-08-09T02:09:35.861519Z",
     "start_time": "2018-08-09T02:09:35.840701Z"
    }
   },
   "outputs": [
    {
     "data": {
      "text/plain": [
       "['下个月10号']"
      ]
     },
     "execution_count": 129,
     "metadata": {},
     "output_type": "execute_result"
    }
   ],
   "source": [
    "\n",
    "re.findall(exp_ymd,'我下个月10号可以还')"
   ]
  },
  {
   "cell_type": "code",
   "execution_count": 253,
   "metadata": {
    "ExecuteTime": {
     "end_time": "2018-08-08T16:36:05.735938Z",
     "start_time": "2018-08-08T16:36:05.724562Z"
    }
   },
   "outputs": [
    {
     "data": {
      "text/plain": [
       "[]"
      ]
     },
     "execution_count": 253,
     "metadata": {},
     "output_type": "execute_result"
    }
   ],
   "source": [
    "re.findall(month_exp,'我以后可以还')"
   ]
  },
  {
   "cell_type": "code",
   "execution_count": 131,
   "metadata": {
    "ExecuteTime": {
     "end_time": "2018-08-09T02:10:35.946771Z",
     "start_time": "2018-08-09T02:10:35.934598Z"
    }
   },
   "outputs": [
    {
     "data": {
      "text/plain": [
       "[{'pattern': '下周一',\n",
       "  'time': datetime.datetime(2018, 8, 13, 15, 0, tzinfo=<DstTzInfo 'Asia/Shanghai' CST+8:00:00 STD>),\n",
       "  'gapS': 362964.064066,\n",
       "  'gapH': 100.82335112944445}]"
      ]
     },
     "execution_count": 131,
     "metadata": {},
     "output_type": "execute_result"
    }
   ],
   "source": [
    "t.process('下周一可以还')"
   ]
  },
  {
   "cell_type": "code",
   "execution_count": null,
   "metadata": {},
   "outputs": [],
   "source": []
  }
 ],
 "metadata": {
  "kernelspec": {
   "display_name": "Python 3",
   "language": "python",
   "name": "python3"
  },
  "language_info": {
   "codemirror_mode": {
    "name": "ipython",
    "version": 3
   },
   "file_extension": ".py",
   "mimetype": "text/x-python",
   "name": "python",
   "nbconvert_exporter": "python",
   "pygments_lexer": "ipython3",
   "version": "3.6.5"
  },
  "varInspector": {
   "cols": {
    "lenName": 16,
    "lenType": 16,
    "lenVar": 40
   },
   "kernels_config": {
    "python": {
     "delete_cmd_postfix": "",
     "delete_cmd_prefix": "del ",
     "library": "var_list.py",
     "varRefreshCmd": "print(var_dic_list())"
    },
    "r": {
     "delete_cmd_postfix": ") ",
     "delete_cmd_prefix": "rm(",
     "library": "var_list.r",
     "varRefreshCmd": "cat(var_dic_list()) "
    }
   },
   "types_to_exclude": [
    "module",
    "function",
    "builtin_function_or_method",
    "instance",
    "_Feature"
   ],
   "window_display": false
  }
 },
 "nbformat": 4,
 "nbformat_minor": 2
}
