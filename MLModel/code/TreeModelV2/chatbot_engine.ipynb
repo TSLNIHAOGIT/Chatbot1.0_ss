{
 "cells": [
  {
   "cell_type": "code",
   "execution_count": 1,
   "metadata": {
    "ExecuteTime": {
     "end_time": "2018-06-29T15:20:26.222064Z",
     "start_time": "2018-06-29T15:20:25.649274Z"
    }
   },
   "outputs": [],
   "source": [
    "import sys,os\n",
    "sys.path.append('../OneClickTraining/')\n",
    "sys.path.append('../Others/')\n",
    "from all_model_py import *\n",
    "from others_py import *\n",
    "import pickle\n",
    "import pandas as pd"
   ]
  },
  {
   "cell_type": "code",
   "execution_count": 2,
   "metadata": {
    "ExecuteTime": {
     "end_time": "2018-06-29T15:20:27.457210Z",
     "start_time": "2018-06-29T15:20:26.854330Z"
    }
   },
   "outputs": [],
   "source": [
    "models_list = ['IDClassifier','CutDebt','IfKnowDebtor','WillingToPay','Installment','ConfirmLoan']\n",
    "savedModel_path = '../../savedModel/{}/{}.pickle'\n",
    "otherModel_path = '../../savedModel/others/{}/{}_other.pickle'\n",
    "model_dict = {}\n",
    "for each_model in models_list:\n",
    "    model_dict[each_model] = pickle.load(open(savedModel_path.format(each_model,each_model), 'rb'))\n",
    "    model_dict[each_model+'_other'] = pickle.load(open(otherModel_path.format(each_model,each_model), 'rb'))"
   ]
  },
  {
   "cell_type": "code",
   "execution_count": 3,
   "metadata": {
    "ExecuteTime": {
     "end_time": "2018-06-29T15:20:48.301901Z",
     "start_time": "2018-06-29T15:20:48.297401Z"
    }
   },
   "outputs": [],
   "source": [
    "a = model_dict['IfKnowDebtor_other']"
   ]
  },
  {
   "cell_type": "code",
   "execution_count": null,
   "metadata": {},
   "outputs": [],
   "source": [
    "a.classify()"
   ]
  },
  {
   "cell_type": "code",
   "execution_count": 6,
   "metadata": {
    "ExecuteTime": {
     "end_time": "2018-06-27T19:47:39.364153Z",
     "start_time": "2018-06-27T19:47:39.351462Z"
    }
   },
   "outputs": [
    {
     "name": "stdout",
     "output_type": "stream",
     "text": [
      "ml load successfully -- ConfirmLoan\n",
      "ml load successfully -- ConfirmLoan\n",
      "ml load successfully -- ConfirmLoan\n"
     ]
    }
   ],
   "source": [
    "import pickle\n",
    "\n",
    "class ClassifierBase:\n",
    "    def load_model(self, **model_path):\n",
    "        pass\n",
    "            \n",
    "            \n",
    "####### classifier 0\n",
    "####### InitClassifier\n",
    "\n",
    "class InitClassifier(ClassifierBase):\n",
    "    def __init__(self, **model_path):\n",
    "        self.load_model(**model_path)\n",
    "        self.description = 'This model is used to initialize conversation'\n",
    "        self.label_explain = {0: 'next'}\n",
    "        \n",
    "    \n",
    "            \n",
    "            \n",
    "    def classify(self,sentence):\n",
    "        \"\"\"\n",
    "        0 - next\n",
    "        \"\"\"\n",
    "        result_dict = {'label':0,'ptp_time':None}\n",
    "        return result_dict\n",
    "    \n",
    "\n",
    "    \n",
    "####### classifier 0\n",
    "####### InitClassifier\n",
    "\n",
    "class OtherClassifier(ClassifierBase):\n",
    "    def __init__(self, **model_path):\n",
    "        self.load_model(**model_path)\n",
    "        self.description = 'This model is used to handle irrelavant logic'\n",
    "        self.label_explain = {0: 'next'}\n",
    "        \n",
    "    \n",
    "            \n",
    "            \n",
    "    def classify(self,sentence):\n",
    "        \"\"\"\n",
    "        0 - next\n",
    "        \"\"\"\n",
    "        result_dict = {'label':0,'ptp_time':None}\n",
    "        return result_dict\n",
    "    \n",
    "class StopClassifier(ClassifierBase):\n",
    "    def __init__(self, **model_path):\n",
    "        self.load_model(**model_path)\n",
    "        self.description = 'This model is used to handle stop logic'\n",
    "        self.label_explain = {0: 'stop'}\n",
    "        \n",
    "    \n",
    "            \n",
    "            \n",
    "    def classify(self,sentence):\n",
    "        \"\"\"\n",
    "        0 - next\n",
    "        \"\"\"\n",
    "        \n",
    "        result_dict = {'label':0,'ptp_time':None}\n",
    "        return result_dict\n",
    "\n",
    "\n",
    "model_dict['OtherClassifier'] = OtherClassifier()\n",
    "model_dict['StopClassifier'] = StopClassifier()\n",
    "model_dict['InitClassifier'] = InitClassifier()"
   ]
  },
  {
   "cell_type": "code",
   "execution_count": 7,
   "metadata": {
    "ExecuteTime": {
     "end_time": "2018-06-29T14:36:19.490328Z",
     "start_time": "2018-06-29T14:36:19.469691Z"
    }
   },
   "outputs": [],
   "source": [
    "\n",
    "\n",
    "\n",
    "class Node:\n",
    "    def __init__(self, node_name):\n",
    "        self.name = node_name\n",
    "        self.entry_counter = 0\n",
    "#         print('{} is initialized'.format(node_name))\n",
    "        \n",
    "        \n",
    "    def summary(self):\n",
    "        return {'node_name': self.name, \n",
    "                'description':self.describe, \n",
    "                'class_name':self.__class__.__name__, \n",
    "                'model': self.model_name}\n",
    "    \n",
    "    \n",
    "    def get_response(self,parent_label=None):\n",
    "        self.entry_counter += 1 \n",
    "        return self.response\n",
    "    \n",
    "    def process(self, sentence, model_dict):\n",
    "        model = model_dict[self.model_name]\n",
    "        clf = model.classify(sentence)\n",
    "        \n",
    "        self.output_label = clf['label']\n",
    "        self.ptp_time = clf.get('ptp_time')\n",
    "        return self.output_label, self.ptp_time\n",
    "\n",
    "        \n",
    "        \n",
    "\n",
    "        \n",
    "###################### Node 0  #########################\n",
    "\n",
    "    \n",
    "class S1_N0(Node):\n",
    "    def __init__(self):\n",
    "        super().__init__('s0')\n",
    "        self.describe = 'Init node'\n",
    "        self.model_name = 'InitClassifier'\n",
    "        self.response = 'S0 initialize'\n",
    "\n",
    "        \n",
    "###################### Node 1  #########################\n",
    "class S1_N1(Node):\n",
    "    def __init__(self):\n",
    "        super().__init__('cf_s1_n1_identity_q')\n",
    "        self.describe = 'Verify Identify'\n",
    "        self.model_name = 'IDClassifier'\n",
    "        self.response = '你好，这里是H催收公司，请问是罗巍先生吗？'\n",
    "        \n",
    "        \n",
    "###################### Node 1  #########################\n",
    "class S1_N2(Node):\n",
    "    def __init__(self):\n",
    "        super().__init__('cf_s1_n2_confirmLoan_q')\n",
    "        self.describe = 'Verify Identify'\n",
    "        self.model_name = 'ConfirmLoan'\n",
    "        self.response = '你好，我是H催收公司的客服小催。关于您逾期欠款的事情，我这边需要做一个备案调查。当时为什么这个款没有还呢？'\n",
    "                \n",
    "\n",
    "                \n",
    "#######################  Node 2  #############################        \n",
    "class S1_N5(Node):\n",
    "    def __init__(self):\n",
    "        super().__init__('cf_s1_n5_ifAcquainted_q')\n",
    "        self.describe = 'Ask if know debtor'\n",
    "        self.model_name = 'IfKnowDebtor'\n",
    "        self.response = '不好意思，打扰了，请问您认识罗先生吗！'\n",
    "        \n",
    "        \n",
    "##########################  Node 3  ##########################        \n",
    "class S1_N15(Node):\n",
    "    def __init__(self):\n",
    "        super().__init__('cf_s1_n15_verifyWill_q')\n",
    "        self.describe = 'Verify willing to pay'\n",
    "        self.model_name = 'WillingToPay'\n",
    "        self.response = '您之前借贷了5万块钱，截至今天已经逾期47天，逾期总欠款5万2千块钱，其中利息1500，滞纳金500块。逸能公司已经对您进行了多次催促，但是您依旧没有按时偿还所欠款项。现在我们正式对您下达通知，要求您在明天下午3点之前还清所有欠款。'\n",
    "        \n",
    "    def get_response(self,_label=None):\n",
    "        self.entry_counter += 1 \n",
    "        print('label received is {}'.format(_label))\n",
    "        if _label == 1:\n",
    "            self.response_1 = '赖账你是赖不掉的，目前我们公司已经派专员处理了，你现在必须告诉我什么时候还！'\n",
    "            return self.response_1\n",
    "        elif _label == 5:\n",
    "            self.response_2 = '你这含含糊糊到底是哪天还？'\n",
    "            self.entry_counter -= 1\n",
    "            return self.response_2\n",
    "        return self.response\n",
    "       \n",
    "\n",
    "        \n",
    "#########################  Node 7  ###########################        \n",
    "class S1_N25(Node):\n",
    "    def __init__(self):\n",
    "        super().__init__('cf_s1_n25_cutDebt_q')\n",
    "        self.describe = 'ask if accept less amount'\n",
    "        self.model_name = 'CutDebt'\n",
    "        self.response = '额... 如果是这样的话您看我帮您把金额减免一定程度可以吗？ 如果今天还，我帮您把利息1500全部剪掉，您只用还本金1万2。这是我能做大的最大程度了！'\n",
    "        \n",
    "        \n",
    "                \n",
    "        \n",
    "#########################  Node 8  ###########################        \n",
    "class S1_N32(Node):\n",
    "    def __init__(self):\n",
    "        super().__init__('cf_s1_n32_splitDebt_q')\n",
    "        self.describe = 'ask if accept installment'\n",
    "        self.model_name = 'Installment'\n",
    "        self.response = '那么您看这样行吗？ 您今天先还30%，也就是3600块钱，剩下的我为您申请下延期，但剩下的最晚需要在1个月内还清。您看可以吗？'\n",
    "        \n",
    "        \n",
    "        \n",
    "############################## STOP NODE ########################\n",
    "class NodeStop(Node):\n",
    "    def __init__(self, node_name):\n",
    "        super().__init__(node_name)\n",
    "        self.model_name = 'StopClassifier'\n",
    "\n",
    "\n",
    "\n",
    "class S1_N101(NodeStop):\n",
    "    def __init__(self):\n",
    "        super().__init__('cf_s1_n101_ifAcquainted_s')\n",
    "        self.describe = 'inform phone recipient'\n",
    "        self.response = '请您告诉xxx先生，请他尽快联系H催收公司，感谢您的配合，再见！'\n",
    "\n",
    "        \n",
    "        \n",
    "class S1_N102(NodeStop):\n",
    "    def __init__(self):\n",
    "        super().__init__('cf_s1_n102_ifAcquainted_s')\n",
    "        self.describe = 'do not know debtor'\n",
    "        self.response = '十分抱歉，打扰到您。感谢您的配合，再见！'\n",
    "    \n",
    " \n",
    "        \n",
    "class S1_N103(NodeStop):\n",
    "    def __init__(self):\n",
    "        super().__init__('cf_s1_n103_paymentChannel_s')\n",
    "        self.describe = 'notify methods of paying'\n",
    "        self.response = '感谢您的配合。您可以使用APP或者银行转账的方式进行还款，还请将还款截图发至微信hwchat！'\n",
    "    \n",
    "\n",
    "        \n",
    "class S1_N104(NodeStop):\n",
    "    def __init__(self):\n",
    "        super().__init__('cf_s1_n104_paymentChannel_s')\n",
    "        self.describe = 'notify methods of paying'\n",
    "        self.response = '感谢您的配合。您可以使用APP或者银行转账的方式进行还款，还请将还款截图发至微信hwchat！'\n",
    "    \n",
    "        \n",
    "class S1_N105(NodeStop):\n",
    "    def __init__(self):\n",
    "        super().__init__('cf_s1_n105_noResult_s')\n",
    "        self.describe = 'no result'\n",
    "        self.response = '您这也不行，那也不行！我们会近期再与您联系，到时候会是更强势的催收人员了！再见！'\n",
    "        \n",
    "    \n",
    "\n",
    "class S1_N106(NodeStop):\n",
    "    def __init__(self):\n",
    "        super().__init__('cf_s1_n106_paymentChannel_s')\n",
    "        self.describe = 'notify methods of paying'\n",
    "        self.response = '感谢您的配合。您可以使用APP或者银行转账的方式进行还款，还请将还款截图发至微信hwchat！'\n",
    "        \n",
    "        \n",
    "        \n",
    "class S1_N108(NodeStop):\n",
    "    def __init__(self):\n",
    "        super().__init__('cf_s1_n108_noResult_s')\n",
    "        self.describe = 'no result'\n",
    "        self.response = '您欠钱不还是不合法的，我们将会用法律手段冻结您的财产，直到您还钱为止！再见！'\n",
    "        \n",
    "        \n",
    "    \n"
   ]
  },
  {
   "cell_type": "code",
   "execution_count": 13,
   "metadata": {
    "ExecuteTime": {
     "end_time": "2018-06-29T14:37:17.846929Z",
     "start_time": "2018-06-29T14:37:17.828903Z"
    }
   },
   "outputs": [],
   "source": [
    "class TreeBase:\n",
    "    def __init__(self, start_node='s0', ):\n",
    "        self.current_node_name = start_node\n",
    "        self.fc_path = []\n",
    "        self.all_path = []\n",
    "        \n",
    "        \n",
    "    \n",
    "class TreeStage1(TreeBase):\n",
    "    def __init__(self, start_node='s0',graph_path=''):\n",
    "        super().__init__(start_node=start_node)\n",
    "        self._build_node()\n",
    "        self._build_graph(graph_path)\n",
    "        \n",
    "    def _build_node(self):\n",
    "        self.nodes = {\n",
    "        's0':S1_N0(),\n",
    "        'cf_s1_n1_identity_q':S1_N1(),\n",
    "        'cf_s1_n15_verifyWill_q':S1_N15(),\n",
    "        'cf_s1_n101_ifAcquainted_s':S1_N101(),\n",
    "        'cf_s1_n102_ifAcquainted_s':S1_N102(),\n",
    "        'cf_s1_n103_paymentChannel_s':S1_N103(),\n",
    "        'cf_s1_n104_paymentChannel_s':S1_N104(),\n",
    "        'cf_s1_n105_noResult_s':S1_N105(),\n",
    "        'cf_s1_n106_paymentChannel_s':S1_N106(),\n",
    "        'cf_s1_n108_noResult_s':S1_N108(),\n",
    "        'cf_s1_n2_confirmLoan_q': S1_N2(),\n",
    "        'cf_s1_n25_cutDebt_q':S1_N25(),\n",
    "        'cf_s1_n32_splitDebt_q':S1_N32(),\n",
    "        'cf_s1_n5_ifAcquainted_q':S1_N5(),} \n",
    "        \n",
    "    def _build_graph(self,graph_path):\n",
    "        self.df_mapping = pd.read_csv(graph_path)\n",
    "        gp = self.df_mapping.groupby('node_name')\n",
    "        self.mapping = {}\n",
    "        for each in gp:\n",
    "            df_tmp = each[1]\n",
    "            df_tmp = df_tmp.set_index('label')\n",
    "            self.mapping.update({each[0]:df_tmp.T.to_dict()})\n",
    "        \n",
    "        \n",
    "\n",
    "        \n",
    "    def _updates(self, _label):\n",
    "        \"\"\"\n",
    "        update fc_path, all_path, current_node_name\n",
    "        return current node, response\n",
    "        \"\"\"\n",
    "        \n",
    "        node_before_update = self.nodes[self.current_node_name]\n",
    "        try:\n",
    "            self.current_node_name = self.connection[self.current_node_name].get(_label)\n",
    "            self.fc_path.append(self.current_node_name)\n",
    "        except KeyError:\n",
    "                return None,None\n",
    "        if self.current_node_name is None:\n",
    "                return None,None\n",
    "        node_after_update = self.nodes[self.current_node_name]\n",
    "        if node_after_update.model_name != 'OtherClassifier':\n",
    "            return node_after_update,node_after_update.get_response(_label) \n",
    "        # Other classifier\n",
    "        else:\n",
    "            # map other node to parent node\n",
    "            self.current_node_name = node_before_update.name\n",
    "            cur_node = self.nodes[self.current_node_name]\n",
    "            pre_node = node_after_update\n",
    "            return cur_node,pre_node.get_response(_label)\n",
    "        \n",
    "        \n",
    "       \n",
    "        \n",
    "    def _triger_jump(self):\n",
    "        cur_node = self.nodes[self.current_node_name]\n",
    "        jump = self.jump.get(self.current_node_name)\n",
    "        if jump is not None:\n",
    "            if cur_node.entry_counter >= 2:\n",
    "                self.connection[self.current_node_name].update(jump)\n",
    "                print('jump action is triggered')\n",
    "            \n",
    "    \n",
    "    def _get_parent_info(self):\n",
    "        if len(self.fc_path) > 0:\n",
    "            parent = self.fc_path[-1]\n",
    "            parent_node = list(parent.keys())[0]\n",
    "            parent_label = parent[parent_node]\n",
    "        else:\n",
    "            parent = None\n",
    "            parent_node = None\n",
    "            parent_label = None\n",
    "        return parent_node, parent_label\n",
    "        \n",
    "        \n",
    "    def process(self, sentence, model_dict):\n",
    "        current_node = self.nodes[self.current_node_name]    \n",
    "        _label,_ptp = current_node.process(sentence, model_dict)\n",
    "\n",
    "        next_node, response = self._updates(_label)\n",
    "        #update jumper\n",
    "        self._triger_jump()\n",
    "        \n",
    "        # Get current node name\n",
    "        if next_node is None:\n",
    "            return 'end'\n",
    "        return response"
   ]
  },
  {
   "cell_type": "code",
   "execution_count": 14,
   "metadata": {
    "ExecuteTime": {
     "end_time": "2018-06-29T14:37:19.191066Z",
     "start_time": "2018-06-29T14:37:19.148209Z"
    }
   },
   "outputs": [],
   "source": [
    "t1 = TreeStage1(graph_path='../../data/TreeModel/treeConnection.csv')"
   ]
  },
  {
   "cell_type": "code",
   "execution_count": 16,
   "metadata": {
    "ExecuteTime": {
     "end_time": "2018-06-29T14:37:36.009674Z",
     "start_time": "2018-06-29T14:37:35.998246Z"
    }
   },
   "outputs": [
    {
     "data": {
      "text/plain": [
       "{'cf_s1_n15_verifyWill_q': {0: {'node_name': 'cf_s1_n15_verifyWill_q',\n",
       "   'connection': 'cf_s1_n103_paymentChannel_s',\n",
       "   'jump': 'N'},\n",
       "  1: {'node_name': 'cf_s1_n15_verifyWill_q',\n",
       "   'connection': 'cf_s1_n15_verifyWill_q',\n",
       "   'jump': 'cf_s1_n25_cutDebt_q'},\n",
       "  2: {'node_name': 'cf_s1_n15_verifyWill_q',\n",
       "   'connection': 'cf_s1_n25_cutDebt_q',\n",
       "   'jump': 'N'},\n",
       "  3: {'node_name': 'cf_s1_n15_verifyWill_q',\n",
       "   'connection': 'cf_s1_n15_verifyWill_q',\n",
       "   'jump': 'N'},\n",
       "  4: {'node_name': 'cf_s1_n15_verifyWill_q',\n",
       "   'connection': 'cf_s1_n15_verifyWill_q',\n",
       "   'jump': 'N'},\n",
       "  5: {'node_name': 'cf_s1_n15_verifyWill_q',\n",
       "   'connection': 'cf_s1_n15_verifyWill_q',\n",
       "   'jump': 'N'}},\n",
       " 'cf_s1_n1_identity_q': {1: {'node_name': 'cf_s1_n1_identity_q',\n",
       "   'connection': 'cf_s1_n5_ifAcquainted_q',\n",
       "   'jump': 'N'},\n",
       "  0: {'node_name': 'cf_s1_n1_identity_q',\n",
       "   'connection': 'cf_s1_n2_confirmLoan_q',\n",
       "   'jump': 'N'},\n",
       "  2: {'node_name': 'cf_s1_n1_identity_q',\n",
       "   'connection': 'cf_s1_n1_identity_q',\n",
       "   'jump': 'N'}},\n",
       " 'cf_s1_n25_cutDebt_q': {0: {'node_name': 'cf_s1_n25_cutDebt_q',\n",
       "   'connection': 'cf_s1_n104_paymentChannel_s',\n",
       "   'jump': 'N'},\n",
       "  1: {'node_name': 'cf_s1_n25_cutDebt_q',\n",
       "   'connection': 'cf_s1_n25_cutDebt_q',\n",
       "   'jump': 'cf_s1_n32_splitDebt_q'},\n",
       "  2: {'node_name': 'cf_s1_n25_cutDebt_q',\n",
       "   'connection': 'cf_s1_n25_cutDebt_q',\n",
       "   'jump': 'N'},\n",
       "  3: {'node_name': 'cf_s1_n25_cutDebt_q',\n",
       "   'connection': 'cf_s1_n25_cutDebt_q',\n",
       "   'jump': 'N'},\n",
       "  4: {'node_name': 'cf_s1_n25_cutDebt_q',\n",
       "   'connection': 'cf_s1_n25_cutDebt_q',\n",
       "   'jump': 'N'}},\n",
       " 'cf_s1_n2_confirmLoan_q': {0: {'node_name': 'cf_s1_n2_confirmLoan_q',\n",
       "   'connection': 'cf_s1_n15_verifyWill_q',\n",
       "   'jump': 'N'},\n",
       "  1: {'node_name': 'cf_s1_n2_confirmLoan_q',\n",
       "   'connection': 'cf_s1_n2_confirmLoan_q',\n",
       "   'jump': 'cf_s1_n108_noResult_s'},\n",
       "  2: {'node_name': 'cf_s1_n2_confirmLoan_q',\n",
       "   'connection': 'cf_s1_n2_confirmLoan_q',\n",
       "   'jump': 'N'}},\n",
       " 'cf_s1_n32_splitDebt_q': {0: {'node_name': 'cf_s1_n32_splitDebt_q',\n",
       "   'connection': 'cf_s1_n106_paymentChannel_s',\n",
       "   'jump': 'N'},\n",
       "  1: {'node_name': 'cf_s1_n32_splitDebt_q',\n",
       "   'connection': 'cf_s1_n32_splitDebt_q',\n",
       "   'jump': 'cf_s1_n105_noResult_s'},\n",
       "  2: {'node_name': 'cf_s1_n32_splitDebt_q',\n",
       "   'connection': 'cf_s1_n32_splitDebt_q',\n",
       "   'jump': 'N'},\n",
       "  3: {'node_name': 'cf_s1_n32_splitDebt_q',\n",
       "   'connection': 'cf_s1_n32_splitDebt_q',\n",
       "   'jump': 'N'},\n",
       "  4: {'node_name': 'cf_s1_n32_splitDebt_q',\n",
       "   'connection': 'cf_s1_n32_splitDebt_q',\n",
       "   'jump': 'N'}},\n",
       " 'cf_s1_n5_ifAcquainted_q': {0: {'node_name': 'cf_s1_n5_ifAcquainted_q',\n",
       "   'connection': 'cf_s1_n101_ifAcquainted_s',\n",
       "   'jump': 'N'},\n",
       "  1: {'node_name': 'cf_s1_n5_ifAcquainted_q',\n",
       "   'connection': 'cf_s1_n102_ifAcquainted_s',\n",
       "   'jump': 'N'},\n",
       "  2: {'node_name': 'cf_s1_n5_ifAcquainted_q',\n",
       "   'connection': 'cf_s1_n5_ifAcquainted_q',\n",
       "   'jump': 'N'}},\n",
       " 's0': {0: {'node_name': 's0',\n",
       "   'connection': 'cf_s1_n1_identity_q',\n",
       "   'jump': 'N'}}}"
      ]
     },
     "execution_count": 16,
     "metadata": {},
     "output_type": "execute_result"
    }
   ],
   "source": [
    "t1.mapping"
   ]
  },
  {
   "cell_type": "code",
   "execution_count": 55,
   "metadata": {
    "ExecuteTime": {
     "end_time": "2018-06-27T20:31:59.638988Z",
     "start_time": "2018-06-27T20:31:59.629835Z"
    }
   },
   "outputs": [
    {
     "data": {
      "text/plain": [
       "'cf_s1_n15_verifyWill_q'"
      ]
     },
     "execution_count": 55,
     "metadata": {},
     "output_type": "execute_result"
    }
   ],
   "source": [
    "t1.current_node_name"
   ]
  },
  {
   "cell_type": "code",
   "execution_count": 59,
   "metadata": {
    "ExecuteTime": {
     "end_time": "2018-06-27T20:33:04.870753Z",
     "start_time": "2018-06-27T20:33:04.851871Z"
    }
   },
   "outputs": [
    {
     "name": "stdout",
     "output_type": "stream",
     "text": [
      "jump action is triggered\n"
     ]
    },
    {
     "data": {
      "text/plain": [
       "'额... 如果是这样的话您看我帮您把金额减免一定程度可以吗？ 如果今天还，我帮您把利息1500全部剪掉，您只用还本金1万2。这是我能做大的最大程度了！'"
      ]
     },
     "execution_count": 59,
     "metadata": {},
     "output_type": "execute_result"
    }
   ],
   "source": [
    "t1.process('还是太多了',model_dict)"
   ]
  },
  {
   "cell_type": "code",
   "execution_count": 56,
   "metadata": {
    "ExecuteTime": {
     "end_time": "2018-06-27T20:32:18.116952Z",
     "start_time": "2018-06-27T20:32:18.100831Z"
    }
   },
   "outputs": [
    {
     "data": {
      "text/plain": [
       "{'label': 1,\n",
       " 'pred_prob': array([[0.04823351, 0.6310544 , 0.23627773, 0.08443436],\n",
       "        [0.07156786, 0.5864616 , 0.24662848, 0.09534206],\n",
       "        [0.05118421, 0.70729684, 0.20122146, 0.04029749]]),\n",
       " 'av_pred': array([0.05699519, 0.64160428, 0.22804256, 0.07335797])}"
      ]
     },
     "execution_count": 56,
     "metadata": {},
     "output_type": "execute_result"
    }
   ],
   "source": [
    "model_dict['WillingToPay'].classify('我真的没有钱')"
   ]
  },
  {
   "cell_type": "code",
   "execution_count": 6,
   "metadata": {
    "ExecuteTime": {
     "end_time": "2018-06-28T20:37:34.667405Z",
     "start_time": "2018-06-28T20:37:34.663328Z"
    }
   },
   "outputs": [],
   "source": [
    "a = [3 , 1, 2]"
   ]
  },
  {
   "cell_type": "code",
   "execution_count": 7,
   "metadata": {
    "ExecuteTime": {
     "end_time": "2018-06-28T20:37:38.626138Z",
     "start_time": "2018-06-28T20:37:38.618438Z"
    }
   },
   "outputs": [
    {
     "data": {
      "text/plain": [
       "[1, 2, 3]"
      ]
     },
     "execution_count": 7,
     "metadata": {},
     "output_type": "execute_result"
    }
   ],
   "source": [
    "sorted (a)"
   ]
  },
  {
   "cell_type": "code",
   "execution_count": 8,
   "metadata": {
    "ExecuteTime": {
     "end_time": "2018-06-28T20:37:41.085286Z",
     "start_time": "2018-06-28T20:37:41.077591Z"
    }
   },
   "outputs": [
    {
     "data": {
      "text/plain": [
       "[3, 1, 2]"
      ]
     },
     "execution_count": 8,
     "metadata": {},
     "output_type": "execute_result"
    }
   ],
   "source": [
    "a"
   ]
  },
  {
   "cell_type": "code",
   "execution_count": null,
   "metadata": {},
   "outputs": [],
   "source": []
  }
 ],
 "metadata": {
  "kernelspec": {
   "display_name": "Python 3",
   "language": "python",
   "name": "python3"
  },
  "language_info": {
   "codemirror_mode": {
    "name": "ipython",
    "version": 3
   },
   "file_extension": ".py",
   "mimetype": "text/x-python",
   "name": "python",
   "nbconvert_exporter": "python",
   "pygments_lexer": "ipython3",
   "version": "3.6.5"
  },
  "varInspector": {
   "cols": {
    "lenName": 16,
    "lenType": 16,
    "lenVar": 40
   },
   "kernels_config": {
    "python": {
     "delete_cmd_postfix": "",
     "delete_cmd_prefix": "del ",
     "library": "var_list.py",
     "varRefreshCmd": "print(var_dic_list())"
    },
    "r": {
     "delete_cmd_postfix": ") ",
     "delete_cmd_prefix": "rm(",
     "library": "var_list.r",
     "varRefreshCmd": "cat(var_dic_list()) "
    }
   },
   "types_to_exclude": [
    "module",
    "function",
    "builtin_function_or_method",
    "instance",
    "_Feature"
   ],
   "window_display": false
  }
 },
 "nbformat": 4,
 "nbformat_minor": 2
}
