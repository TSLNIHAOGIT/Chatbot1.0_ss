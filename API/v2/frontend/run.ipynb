{
 "cells": [
  {
   "cell_type": "code",
   "execution_count": 2,
   "metadata": {
    "ExecuteTime": {
     "end_time": "2018-07-30T20:05:38.186108Z",
     "start_time": "2018-07-30T20:05:37.753971Z"
    }
   },
   "outputs": [],
   "source": [
    "# from flask_other.app import app\n",
    "from flask_socketio import disconnect as dc\n",
    "from flask import Flask\n",
    "from flask_socketio import SocketIO, emit,join_room,leave_room\n",
    "from flask_socketio import disconnect\n",
    "from threading import Lock\n",
    "import os,sys\n",
    "\n",
    "app=Flask(\"demo\")\n",
    "from flask import  render_template,request\n",
    "import time\n",
    "import re\n",
    "\n",
    "import pandas as pd\n",
    "import numpy as np\n",
    "import time\n",
    "import re\n",
    "import requests\n",
    "import urllib\n",
    "\n",
    "import atexit\n",
    "\n",
    "from apscheduler.schedulers.background import BackgroundScheduler\n",
    "from apscheduler.triggers.interval import IntervalTrigger\n",
    "\n",
    "logger = Logger('Websocket-Flask',level=ENV.NODE_LOG_LEVEL.value).logger\n",
    "\n",
    "\n",
    "\n",
    "##################################\n",
    "async_mode = None\n",
    "app = Flask(__name__)\n",
    "app.config['SECRET_KEY'] = 'secret!'\n",
    "socketio = SocketIO(app, async_mode=async_mode)\n",
    "\n",
    "thread = None\n",
    "thread_lock = Lock()\n",
    "clients = []\n",
    "sentences = []\n",
    "\n",
    "name_space = '/chat'\n",
    "\n",
    "@app.route('/')\n",
    "def index():\n",
    "    return render_template('index.html', async_mode=socketio.async_mode)\n",
    "\n",
    "\n",
    "@socketio.on('client_send',namespace=name_space)\n",
    "def client_msg(msg):  \n",
    "    uid = request.sid\n",
    "    sentence = msg.get('data')\n",
    "    sentence = decode(sentence)\n",
    "    sentences.append(sentence)\n",
    "    response = cache.chat(uid, sentence)\n",
    "    if response == 'end':\n",
    "        socketio.emit('my_response',{'data':'感谢选择江苏逸能，再见！'},room = uid, namespace=name_space)\n",
    "        disconnect_frontend(uid)\n",
    "    elif response is None:\n",
    "        socketio.emit('my_response',{'data':'当前会话已经过期，感谢选择江苏逸能，再见！'},room = uid, namespace=name_space)\n",
    "        disconnect_frontend(uid)\n",
    "    else:\n",
    "        socketio.emit('my_response',{'data':response},room = uid, namespace=name_space)\n",
    "\n",
    "def decode(msg):\n",
    "    msg = re.sub(r'%u', r'\\u', msg)\n",
    "    msg = urllib.parse.unquote(msg)\n",
    "    msg = msg.encode('latin-1').decode('unicode_escape')\n",
    "    return msg\n",
    "\n",
    "#sned message to a specific user\n",
    "def unique_message(uid):\n",
    "    socketio.emit('unique_messgae',{'data':'are you still here'}, room=uid, namespace=name_space)\n",
    "    \n",
    "def disconnect_frontend(uid):\n",
    "    socketio.emit('my_response',{'status':'disconnected'},room = uid, namespace=name_space)\n",
    "\n",
    "\n",
    "@socketio.on('disconnect',namespace=name_space)\n",
    "def disconnect():\n",
    "    uid = request.sid\n",
    "    cache.remove_session(uid)\n",
    "    leave_room(uid)\n",
    "    dc()\n",
    "    logger.info('{} has been disconnected from API'.format(uid))\n",
    "    \n",
    "    \n",
    "@socketio.on('connect',namespace=name_space)\n",
    "def connect():\n",
    "    \n",
    "    uid = request.sid\n",
    "    clients.append(uid)\n",
    "    logger.info('{} is trying to connect!'.format(uid))\n",
    "    \n",
    "    join_room(uid)\n",
    "    if cache.create_session(uid):\n",
    "        logger.info('{} join connection successfully'.format(uid))\n",
    "        response = cache.chat(uid, '')\n",
    "        if response is not None:\n",
    "            socketio.emit('my_response',{'data':response},room = uid,namespace=name_space) #the first sentence\n",
    "            return None\n",
    "        \n",
    "    else:\n",
    "        logger.info('{} cannot join connection'.format(uid))\n",
    "        socketio.emit('my_response',{'data':'server busy. please click new conv'},room = uid,namespace=name_space) \n",
    "        disconnect_frontend(uid)"
   ]
  },
  {
   "cell_type": "code",
   "execution_count": 3,
   "metadata": {
    "ExecuteTime": {
     "end_time": "2018-07-30T20:26:49.255517Z",
     "start_time": "2018-07-30T20:05:39.262681Z"
    }
   },
   "outputs": [
    {
     "name": "stdout",
     "output_type": "stream",
     "text": [
      "http://10.0.24.31:8899/\n",
      "http://0.0.0.0:6006/\n"
     ]
    },
    {
     "name": "stderr",
     "output_type": "stream",
     "text": [
      "2018-07-30 20:05:46,501 - INFO - CLASS:Websocket-Flask- METHOD:connect -LINE:95 - MSG:35e254a4683d4e8698ba676cbdd8be9c is trying to connect!\n",
      "2018-07-30 20:05:46,512 - DEBUG - CLASS:PF- METHOD:_load_default -LINE:206 - MSG:profile is None. The default demo profile will be loaded!\n",
      "2018-07-30 20:05:46,514 - INFO - CLASS:PF- METHOD:_load_default -LINE:227 - MSG:Customer ID is 1000000000, principal is 50,000, apr is 9%\n",
      "2018-07-30 20:05:46,552 - INFO - CLASS:PF- METHOD:_loadUpLowBound -LINE:261 - MSG:Load profile Upper bound successfully!\n",
      "2018-07-30 20:05:46,556 - INFO - CLASS:PF- METHOD:_loadUpLowBound -LINE:268 - MSG:Load profile Lower bound successfully!\n"
     ]
    },
    {
     "name": "stdout",
     "output_type": "stream",
     "text": [
      "Time Zone is set from ENV: Asia/Shanghai\n"
     ]
    },
    {
     "name": "stderr",
     "output_type": "stream",
     "text": [
      "2018-07-30 20:05:47,123 - INFO - CLASS:Cache- METHOD:create_session -LINE:53 - MSG:New session was created: 35e254a4683d4e8698ba676cbdd8be9c\n",
      "2018-07-30 20:05:47,124 - INFO - CLASS:Cache- METHOD:create_session -LINE:54 - MSG:Remaining session number is: 999\n",
      "2018-07-30 20:05:47,125 - INFO - CLASS:Websocket-Flask- METHOD:connect -LINE:99 - MSG:35e254a4683d4e8698ba676cbdd8be9c join connection successfully\n",
      "2018-07-30 20:05:47,128 - INFO - CLASS:Cache- METHOD:chat -LINE:86 - MSG:receive message from user: 35e254a4683d4e8698ba676cbdd8be9c ====================\n",
      "2018-07-30 20:05:47,129 - DEBUG - CLASS:TreeStage1- METHOD:process -LINE:460 - MSG:Current node name is s0\n",
      "2018-07-30 20:05:47,130 - DEBUG - CLASS:TreeStage1- METHOD:process -LINE:465 - MSG:Output label is 0\n",
      "2018-07-30 20:05:47,138 - DEBUG - CLASS:TreeStage1- METHOD:process -LINE:480 - MSG:Next node name is cf_s1_n1_identity_q.\n",
      "2018-07-30 20:05:47,140 - INFO - CLASS:Cache- METHOD:chat -LINE:90 - MSG:processing messages for user 35e254a4683d4e8698ba676cbdd8be9c has been done!----------------\n",
      "2018-07-30 20:05:50,836 - INFO - CLASS:Cache- METHOD:chat -LINE:86 - MSG:receive message from user: 35e254a4683d4e8698ba676cbdd8be9c ====================\n",
      "2018-07-30 20:05:50,837 - DEBUG - CLASS:TreeStage1- METHOD:process -LINE:460 - MSG:Current node name is cf_s1_n1_identity_q\n",
      "2018-07-30 20:05:50,843 - DEBUG - CLASS:TreeStage1- METHOD:process -LINE:465 - MSG:Output label is 0\n",
      "2018-07-30 20:05:50,847 - DEBUG - CLASS:TreeStage1- METHOD:process -LINE:480 - MSG:Next node name is cf_s1_n2_confirmLoan_q.\n",
      "2018-07-30 20:05:50,850 - INFO - CLASS:Cache- METHOD:chat -LINE:90 - MSG:processing messages for user 35e254a4683d4e8698ba676cbdd8be9c has been done!----------------\n"
     ]
    },
    {
     "name": "stdout",
     "output_type": "stream",
     "text": [
      "before decode: %u662F%u7684\n",
      "after decode: 是的\n"
     ]
    },
    {
     "name": "stderr",
     "output_type": "stream",
     "text": [
      "2018-07-30 20:06:07,666 - INFO - CLASS:Websocket-Flask- METHOD:connect -LINE:95 - MSG:81e3e577244d4fe583069d1925e9840e is trying to connect!\n",
      "2018-07-30 20:06:07,669 - DEBUG - CLASS:PF- METHOD:_load_default -LINE:206 - MSG:profile is None. The default demo profile will be loaded!\n",
      "2018-07-30 20:06:07,669 - DEBUG - CLASS:PF- METHOD:_load_default -LINE:206 - MSG:profile is None. The default demo profile will be loaded!\n",
      "2018-07-30 20:06:07,671 - INFO - CLASS:PF- METHOD:_load_default -LINE:227 - MSG:Customer ID is 1000000000, principal is 50,000, apr is 9%\n",
      "2018-07-30 20:06:07,671 - INFO - CLASS:PF- METHOD:_load_default -LINE:227 - MSG:Customer ID is 1000000000, principal is 50,000, apr is 9%\n",
      "2018-07-30 20:06:07,687 - INFO - CLASS:PF- METHOD:_loadUpLowBound -LINE:261 - MSG:Load profile Upper bound successfully!\n",
      "2018-07-30 20:06:07,687 - INFO - CLASS:PF- METHOD:_loadUpLowBound -LINE:261 - MSG:Load profile Upper bound successfully!\n",
      "2018-07-30 20:06:07,689 - INFO - CLASS:PF- METHOD:_loadUpLowBound -LINE:268 - MSG:Load profile Lower bound successfully!\n",
      "2018-07-30 20:06:07,689 - INFO - CLASS:PF- METHOD:_loadUpLowBound -LINE:268 - MSG:Load profile Lower bound successfully!\n"
     ]
    },
    {
     "name": "stdout",
     "output_type": "stream",
     "text": [
      "Time Zone is set from ENV: Asia/Shanghai\n"
     ]
    },
    {
     "name": "stderr",
     "output_type": "stream",
     "text": [
      "2018-07-30 20:06:08,271 - INFO - CLASS:Cache- METHOD:create_session -LINE:53 - MSG:New session was created: 81e3e577244d4fe583069d1925e9840e\n",
      "2018-07-30 20:06:08,278 - INFO - CLASS:Cache- METHOD:create_session -LINE:54 - MSG:Remaining session number is: 998\n",
      "2018-07-30 20:06:08,279 - INFO - CLASS:Websocket-Flask- METHOD:connect -LINE:99 - MSG:81e3e577244d4fe583069d1925e9840e join connection successfully\n",
      "2018-07-30 20:06:08,282 - INFO - CLASS:Cache- METHOD:chat -LINE:86 - MSG:receive message from user: 81e3e577244d4fe583069d1925e9840e ====================\n",
      "2018-07-30 20:06:08,286 - DEBUG - CLASS:TreeStage1- METHOD:process -LINE:460 - MSG:Current node name is s0\n",
      "2018-07-30 20:06:08,286 - DEBUG - CLASS:TreeStage1- METHOD:process -LINE:460 - MSG:Current node name is s0\n",
      "2018-07-30 20:06:08,294 - DEBUG - CLASS:TreeStage1- METHOD:process -LINE:465 - MSG:Output label is 0\n",
      "2018-07-30 20:06:08,294 - DEBUG - CLASS:TreeStage1- METHOD:process -LINE:465 - MSG:Output label is 0\n",
      "2018-07-30 20:06:08,302 - DEBUG - CLASS:TreeStage1- METHOD:process -LINE:480 - MSG:Next node name is cf_s1_n1_identity_q.\n",
      "2018-07-30 20:06:08,302 - DEBUG - CLASS:TreeStage1- METHOD:process -LINE:480 - MSG:Next node name is cf_s1_n1_identity_q.\n",
      "2018-07-30 20:06:08,306 - INFO - CLASS:Cache- METHOD:chat -LINE:90 - MSG:processing messages for user 81e3e577244d4fe583069d1925e9840e has been done!----------------\n",
      "2018-07-30 20:06:11,791 - INFO - CLASS:Cache- METHOD:chat -LINE:86 - MSG:receive message from user: 81e3e577244d4fe583069d1925e9840e ====================\n",
      "2018-07-30 20:06:11,761 - DEBUG - CLASS:TreeStage1- METHOD:process -LINE:460 - MSG:Current node name is cf_s1_n1_identity_q\n",
      "2018-07-30 20:06:11,761 - DEBUG - CLASS:TreeStage1- METHOD:process -LINE:460 - MSG:Current node name is cf_s1_n1_identity_q\n",
      "2018-07-30 20:06:11,770 - DEBUG - CLASS:TreeStage1- METHOD:process -LINE:465 - MSG:Output label is 0\n",
      "2018-07-30 20:06:11,770 - DEBUG - CLASS:TreeStage1- METHOD:process -LINE:465 - MSG:Output label is 0\n",
      "2018-07-30 20:06:11,777 - DEBUG - CLASS:TreeStage1- METHOD:process -LINE:480 - MSG:Next node name is cf_s1_n2_confirmLoan_q.\n",
      "2018-07-30 20:06:11,777 - DEBUG - CLASS:TreeStage1- METHOD:process -LINE:480 - MSG:Next node name is cf_s1_n2_confirmLoan_q.\n",
      "2018-07-30 20:06:11,779 - INFO - CLASS:Cache- METHOD:chat -LINE:90 - MSG:processing messages for user 81e3e577244d4fe583069d1925e9840e has been done!----------------\n"
     ]
    },
    {
     "name": "stdout",
     "output_type": "stream",
     "text": [
      "before decode: %u662F%20\n",
      "after decode: 是 \n"
     ]
    },
    {
     "name": "stderr",
     "output_type": "stream",
     "text": [
      "2018-07-30 20:06:50,865 - INFO - CLASS:DB- METHOD:insert -LINE:73 - MSG:6 was inserted into collection: chat_debug\n",
      "2018-07-30 20:06:50,869 - INFO - CLASS:Cache- METHOD:remove_session -LINE:79 - MSG:35e254a4683d4e8698ba676cbdd8be9c session is inactive, it has been removed!\n",
      "2018-07-30 20:06:50,927 - ERROR - CLASS:Cache- METHOD:remove_session -LINE:70 - MSG:Fail to save cache for uid: \n",
      "2018-07-30 20:06:50,991 - INFO - CLASS:Websocket-Flask- METHOD:disconnect -LINE:87 - MSG:35e254a4683d4e8698ba676cbdd8be9c has been disconnected from API\n",
      "2018-07-30 20:06:50,993 - INFO - CLASS:Websocket-Flask- METHOD:disconnect -LINE:87 - MSG:35e254a4683d4e8698ba676cbdd8be9c has been disconnected from API\n",
      "2018-07-30 20:07:12,278 - INFO - CLASS:Cache- METHOD:inform_inactive -LINE:155 - MSG:81e3e577244d4fe583069d1925e9840e is inactive. Just inform that user\n",
      "2018-07-30 20:08:15,278 - INFO - CLASS:Cache- METHOD:inform_inactive -LINE:155 - MSG:81e3e577244d4fe583069d1925e9840e is inactive. Just inform that user\n",
      "2018-07-30 20:08:42,279 - INFO - CLASS:DB- METHOD:insert -LINE:73 - MSG:7 was inserted into collection: chat_debug\n",
      "2018-07-30 20:08:42,281 - INFO - CLASS:Cache- METHOD:remove_session -LINE:79 - MSG:81e3e577244d4fe583069d1925e9840e session is inactive, it has been removed!\n",
      "2018-07-30 20:08:42,536 - ERROR - CLASS:Cache- METHOD:remove_session -LINE:70 - MSG:Fail to save cache for uid: \n",
      "2018-07-30 20:08:42,584 - ERROR - CLASS:Cache- METHOD:remove_session -LINE:70 - MSG:Fail to save cache for uid: \n",
      "2018-07-30 20:08:42,641 - INFO - CLASS:Websocket-Flask- METHOD:disconnect -LINE:87 - MSG:81e3e577244d4fe583069d1925e9840e has been disconnected from API\n",
      "2018-07-30 20:08:42,643 - INFO - CLASS:Websocket-Flask- METHOD:disconnect -LINE:87 - MSG:81e3e577244d4fe583069d1925e9840e has been disconnected from API\n",
      "KeyboardInterrupt\n",
      "2018-07-30T20:26:49Z\n",
      "ERROR:root:Internal Python error in the inspect module.\n",
      "Below is the traceback from this internal error.\n",
      "\n"
     ]
    },
    {
     "name": "stdout",
     "output_type": "stream",
     "text": [
      "Traceback (most recent call last):\n",
      "  File \"/home/kai/anaconda3/lib/python3.6/site-packages/IPython/core/interactiveshell.py\", line 2963, in run_code\n",
      "    exec(code_obj, self.user_global_ns, self.user_ns)\n",
      "  File \"<ipython-input-3-15aae0dcd934>\", line 14, in <module>\n",
      "    socketio.run(app,'0.0.0.0',6006)\n",
      "  File \"/home/kai/anaconda3/lib/python3.6/site-packages/flask_socketio/__init__.py\", line 556, in run\n",
      "    self.wsgi_server.serve_forever()\n",
      "  File \"/home/kai/anaconda3/lib/python3.6/site-packages/gevent/baseserver.py\", line 364, in serve_forever\n",
      "    self._stop_event.wait()\n",
      "  File \"src/gevent/event.py\", line 240, in gevent._event.Event.wait\n",
      "  File \"src/gevent/event.py\", line 140, in gevent._event._AbstractLinkable._wait\n",
      "  File \"src/gevent/event.py\", line 117, in gevent._event._AbstractLinkable._wait_core\n",
      "  File \"src/gevent/event.py\", line 119, in gevent._event._AbstractLinkable._wait_core\n",
      "  File \"src/gevent/_greenlet_primitives.py\", line 59, in gevent.__greenlet_primitives.SwitchOutGreenletWithLoop.switch\n",
      "  File \"src/gevent/_greenlet_primitives.py\", line 59, in gevent.__greenlet_primitives.SwitchOutGreenletWithLoop.switch\n",
      "  File \"src/gevent/_greenlet_primitives.py\", line 63, in gevent.__greenlet_primitives.SwitchOutGreenletWithLoop.switch\n",
      "  File \"src/gevent/__greenlet_primitives.pxd\", line 35, in gevent.__greenlet_primitives._greenlet_switch\n",
      "KeyboardInterrupt\n",
      "\n",
      "During handling of the above exception, another exception occurred:\n",
      "\n",
      "Traceback (most recent call last):\n",
      "  File \"/home/kai/anaconda3/lib/python3.6/site-packages/IPython/core/interactiveshell.py\", line 1863, in showtraceback\n",
      "    stb = value._render_traceback_()\n",
      "AttributeError: 'KeyboardInterrupt' object has no attribute '_render_traceback_'\n",
      "\n",
      "During handling of the above exception, another exception occurred:\n",
      "\n",
      "Traceback (most recent call last):\n",
      "  File \"/home/kai/anaconda3/lib/python3.6/site-packages/IPython/core/ultratb.py\", line 1095, in get_records\n",
      "    return _fixed_getinnerframes(etb, number_of_lines_of_context, tb_offset)\n",
      "  File \"/home/kai/anaconda3/lib/python3.6/site-packages/IPython/core/ultratb.py\", line 311, in wrapped\n",
      "    return f(*args, **kwargs)\n",
      "  File \"/home/kai/anaconda3/lib/python3.6/site-packages/IPython/core/ultratb.py\", line 345, in _fixed_getinnerframes\n",
      "    records = fix_frame_records_filenames(inspect.getinnerframes(etb, context))\n",
      "  File \"/home/kai/anaconda3/lib/python3.6/inspect.py\", line 1483, in getinnerframes\n",
      "    frameinfo = (tb.tb_frame,) + getframeinfo(tb, context)\n",
      "  File \"/home/kai/anaconda3/lib/python3.6/inspect.py\", line 1445, in getframeinfo\n",
      "    lines, lnum = findsource(frame)\n",
      "  File \"/home/kai/anaconda3/lib/python3.6/site-packages/IPython/core/ultratb.py\", line 165, in findsource\n",
      "    file = getsourcefile(object) or getfile(object)\n",
      "  File \"/home/kai/anaconda3/lib/python3.6/inspect.py\", line 696, in getsourcefile\n",
      "    if getattr(getmodule(object, filename), '__loader__', None) is not None:\n",
      "  File \"/home/kai/anaconda3/lib/python3.6/inspect.py\", line 732, in getmodule\n",
      "    for modname, module in list(sys.modules.items()):\n",
      "KeyboardInterrupt\n"
     ]
    },
    {
     "ename": "KeyboardInterrupt",
     "evalue": "",
     "traceback": [
      "\u001b[0;31m---------------------------------------------------------------------------\u001b[0m"
     ],
     "output_type": "error"
    }
   ],
   "source": [
    "print('http://10.0.24.31:8899/')\n",
    "print('http://0.0.0.0:6006/')\n",
    "scheduler = BackgroundScheduler()\n",
    "scheduler.start()\n",
    "scheduler.add_job(\n",
    "    func=cache.purge_inactive,\n",
    "    trigger=IntervalTrigger(seconds=3),\n",
    "    id='purge_cache',\n",
    "    name='purge_inactive',\n",
    "    replace_existing=True)\n",
    "# Shut down the scheduler when exiting the app\n",
    "atexit.register(lambda: scheduler.shutdown())\n",
    "\n",
    "socketio.run(app,'0.0.0.0',6006)"
   ]
  },
  {
   "cell_type": "code",
   "execution_count": 1,
   "metadata": {
    "ExecuteTime": {
     "end_time": "2018-07-30T20:05:34.286596Z",
     "start_time": "2018-07-30T20:05:31.808550Z"
    }
   },
   "outputs": [
    {
     "name": "stderr",
     "output_type": "stream",
     "text": [
      "Building prefix dict from the default dictionary ...\n",
      "Loading model from cache /tmp/jieba.cache\n",
      "Loading model cost 0.724 seconds.\n",
      "Prefix dict has been built succesfully.\n"
     ]
    },
    {
     "name": "stdout",
     "output_type": "stream",
     "text": [
      "Time Zone is set from ENV: Asia/Shanghai\n",
      "Time Zone is set from ENV: Asia/Shanghai\n"
     ]
    },
    {
     "name": "stderr",
     "output_type": "stream",
     "text": [
      "2018-07-30 20:05:34,257 - INFO - CLASS:DB- METHOD:_load_client -LINE:35 - MSG:get mongodb client. host is:chatbotdb, port is: 27017\n",
      "2018-07-30 20:05:34,262 - INFO - CLASS:DB- METHOD:_get_db -LINE:43 - MSG:mongodb database is: chatbotdb_debug\n",
      "2018-07-30 20:05:34,265 - INFO - CLASS:DB- METHOD:_get_collection -LINE:51 - MSG:mongodb collection is: chat_debug\n",
      "2018-07-30 20:05:34,269 - INFO - CLASS:Cache- METHOD:_print -LINE:32 - MSG:Max num of session is: 1000\n",
      "2018-07-30 20:05:34,273 - INFO - CLASS:Cache- METHOD:_print -LINE:33 - MSG:inform inacitve interval is 60 seconds\n",
      "2018-07-30 20:05:34,276 - INFO - CLASS:Cache- METHOD:_print -LINE:34 - MSG:inactive max length is 150 seconds\n",
      "2018-07-30 20:05:34,277 - INFO - CLASS:Cache- METHOD:_print -LINE:36 - MSG:DEBUG is enabled\n"
     ]
    },
    {
     "name": "stdout",
     "output_type": "stream",
     "text": [
      "Time Zone is set from ENV: Asia/Shanghai\n",
      "Time Zone is set from ENV: Asia/Shanghai\n"
     ]
    }
   ],
   "source": [
    "import time\n",
    "import gc\n",
    "import sys, os\n",
    "import datetime as dt\n",
    "\n",
    "ENV_PATH = '../../../ENV/'\n",
    "LOG_PATH = '../../../Lib/'\n",
    "sys.path.append(ENV_PATH)\n",
    "sys.path.append(LOG_PATH)\n",
    "from env import ENV\n",
    "from LOG import Logger\n",
    "from MGODB import DB\n",
    "\n",
    "\n",
    "\n",
    "class Cache:\n",
    "    def __init__(self, model_dict,max_session=1000,debug=False,host=None,port=None,enableDB=False):\n",
    "        self.max_session = 1000\n",
    "        self.inform_interval = 60\n",
    "        self.inactive_maxlength = 150\n",
    "        #{'uid': {'strategy': Tree(), 'time_response': <time>, 'time_inform': <>}\n",
    "        self.active_session = {}\n",
    "        self.model_dict = model_dict\n",
    "        self.debug=debug\n",
    "        self.enableDB = enableDB\n",
    "        self.log = Logger(self.__class__.__name__,level=ENV.NODE_LOG_LEVEL.value).logger\n",
    "        self.db=DB(host,port,debug,True,enable=self.enableDB)\n",
    "        self._print()\n",
    "        \n",
    "        \n",
    "    def _print(self):\n",
    "        self.log.info('Max num of session is: {}'.format(self.max_session))\n",
    "        self.log.info('inform inacitve interval is {} seconds'.format(self.inform_interval))\n",
    "        self.log.info('inactive max length is {} seconds'.format(self.inactive_maxlength))\n",
    "        if self.debug:\n",
    "            self.log.info('DEBUG is enabled')\n",
    "        \n",
    "        \n",
    "    def create_session(self, uid, profile=None):\n",
    "        if len(self.active_session) < self.max_session:\n",
    "            self.active_session[uid] = {}\n",
    "            try:\n",
    "                self.active_session[uid].update({'strategy':TreeStage1(\n",
    "                                                                       debug=self.debug,\n",
    "                                                                       profile=profile)})\n",
    "            except KeyError as e:\n",
    "                self.log.error('Key {} does not exist in profile'.format(e))\n",
    "                self.log.error('create session for user {} failed'.format(uid))\n",
    "                return False\n",
    "                \n",
    "            self.active_session[uid].update({'time_response':time.time()})\n",
    "            self.active_session[uid].update({'time_inform':time.time()})\n",
    "            self.log.info('New session was created: {}'.format(uid))\n",
    "            self.log.info('Remaining session number is: {}'.format(self.max_session-len(self.active_session)))\n",
    "            return True\n",
    "        else:\n",
    "            return False\n",
    "        \n",
    "    def remove_session(self,uid):\n",
    "        response = '您当前的会话超过 {} 秒没有响应，系统将关闭当前会话！如有需求，请开始新的对话！'.format(self.inactive_maxlength)\n",
    "        try:\n",
    "            socketio.emit('my_response',{'data':response},room = uid, namespace=name_space)\n",
    "        except:\n",
    "            pass\n",
    "        \n",
    "        try:\n",
    "            history = self.active_session[uid]['strategy'].cache.copy()\n",
    "            self.db.insert(history)\n",
    "        except:\n",
    "            self.log.error('Fail to save cache for uid: ')\n",
    "        try:\n",
    "            disconnect_frontend(uid)\n",
    "        except:\n",
    "            pass\n",
    "       \n",
    "        \n",
    "        try:\n",
    "            del self.active_session[uid]\n",
    "            self.log.info('{} session is inactive, it has been removed!'.format(uid))\n",
    "        except KeyError:\n",
    "                pass\n",
    "        gc.collect()\n",
    "            \n",
    "    def chat(self,uid,sentence):\n",
    "        if self.active_session.get(uid) is not None:\n",
    "            self.log.info('receive message from user: {} ===================='.format(uid))\n",
    "            response = self.active_session[uid]['strategy'].process(sentence, self.model_dict)\n",
    "            self.active_session[uid]['time_response'] = time.time()\n",
    "            self.active_session[uid]['time_inform'] = time.time()\n",
    "            self.log.info('processing messages for user {} has been done!----------------'.format(uid))\n",
    "        else:\n",
    "            response = None\n",
    "        \n",
    "        return response\n",
    "        \n",
    "    \n",
    "    \n",
    "    def _bulk_deletes(self):\n",
    "        current = time.time()\n",
    "        remove_list = []\n",
    "        try:\n",
    "            for uid in self.active_session:\n",
    "                try:\n",
    "                    if current - self.active_session[uid]['time_response'] > self.inactive_maxlength:\n",
    "                        remove_list.append(uid)\n",
    "                except KeyError:\n",
    "                    pass\n",
    "        except RuntimeError as e:\n",
    "            self.log.error(e)\n",
    "            return False\n",
    "        finally:\n",
    "            # delete\n",
    "            for uid in remove_list:              \n",
    "                self.remove_session(uid)\n",
    "        return True\n",
    "    \n",
    "    def _bulk_inform(self):\n",
    "        current = time.time()\n",
    "        inform_list = []\n",
    "        try:\n",
    "            for uid in self.active_session:\n",
    "                try:\n",
    "                    if current - self.active_session[uid]['time_inform'] > self.inform_interval:\n",
    "                        inform_list.append(uid)\n",
    "                     \n",
    "                except KeyError as e:\n",
    "                        self.log.error(e)\n",
    "                        pass\n",
    "            for each in inform_list:\n",
    "                self.inform_inactive(each)\n",
    "            \n",
    "        except RuntimeError:\n",
    "            \n",
    "            return False\n",
    "        \n",
    "        return True\n",
    "    \n",
    "    \n",
    "    def purge_inactive(self):\n",
    "        current = time.time()\n",
    "        while True:\n",
    "            if self._bulk_deletes():\n",
    "                break\n",
    "\n",
    "        while True:\n",
    "            if self._bulk_inform():\n",
    "                break\n",
    "        \n",
    "                \n",
    "        \n",
    "    def inform_inactive(self, uid):\n",
    "        self.active_session[uid]['time_inform'] = time.time()\n",
    "        response = '您有在听我说吗?请回答我刚才的问题！'\n",
    "        socketio.emit('my_response',{'data':response},room = uid, namespace=name_space)\n",
    "        self.log.info('{} is inactive. Just inform that user'.format(uid))\n",
    "          \n",
    "################################################\n",
    "import sys,os\n",
    "sys.path.append('../../../MLModel/code/OneClickTraining/')\n",
    "sys.path.append('../../../MLModel/code/TreeModelV2/')\n",
    "from all_model_py import *\n",
    "import pickle\n",
    "from chatbotv1 import *\n",
    "\n",
    "\n",
    "\n",
    "models_list = ['IDClassifier','CutDebt','IfKnowDebtor','WillingToPay','Installment','ConfirmLoan']\n",
    "savedModel_path = '../../../MLModel/savedModel/{}/{}.pickle'\n",
    "need_set_TIMEZONE = ['CutDebt','WillingToPay','Installment','ConfirmLoan']\n",
    "\n",
    "model_dict = {}\n",
    "for each_model in models_list:\n",
    "    model_dict[each_model] = pickle.load(open(savedModel_path.format(each_model,each_model), 'rb'))\n",
    "    model_dict[each_model].classify('再说一次')\n",
    "    if each_model in need_set_TIMEZONE:\n",
    "        model_dict[each_model].re_time._set_timeZone()\n",
    "    \n",
    "model_dict['StopClassifier'] = StopClassifier()\n",
    "model_dict['InitClassifier'] = InitClassifier()    \n",
    "\n",
    "#################################################################\n",
    "cache = Cache(\n",
    "              model_dict=model_dict,debug=True,enableDB=True)"
   ]
  },
  {
   "cell_type": "code",
   "execution_count": 2,
   "metadata": {
    "ExecuteTime": {
     "end_time": "2018-07-24T18:19:29.745739Z",
     "start_time": "2018-07-24T18:19:29.219066Z"
    },
    "scrolled": true
   },
   "outputs": [
    {
     "name": "stderr",
     "output_type": "stream",
     "text": [
      "2018-07-24 18:19:29,223 - DEBUG - CLASS:PF- METHOD:_load_default -LINE:206 - MSG:profile is None. The default demo profile will be loaded!\n",
      "2018-07-24 18:19:29,227 - INFO - CLASS:PF- METHOD:_load_default -LINE:227 - MSG:Customer ID is 1000000000, principal is 50,000, apr is 9%\n",
      "2018-07-24 18:19:29,259 - INFO - CLASS:PF- METHOD:_loadUpLowBound -LINE:261 - MSG:Load profile Upper bound successfully!\n",
      "2018-07-24 18:19:29,260 - INFO - CLASS:PF- METHOD:_loadUpLowBound -LINE:268 - MSG:Load profile Lower bound successfully!\n"
     ]
    },
    {
     "name": "stdout",
     "output_type": "stream",
     "text": [
      "Time Zone is set from ENV: Asia/Shanghai\n"
     ]
    }
   ],
   "source": [
    "t = TreeStage1(debug=False)"
   ]
  },
  {
   "cell_type": "code",
   "execution_count": 4,
   "metadata": {
    "ExecuteTime": {
     "end_time": "2018-07-30T18:57:41.603211Z",
     "start_time": "2018-07-30T18:57:41.584531Z"
    }
   },
   "outputs": [
    {
     "data": {
      "text/plain": [
       "{'c822328a576e4712928e743b7a9932bd': {'strategy': <chatbotv1.TreeStage1 at 0x7f3fc7e19c18>,\n",
       "  'time_response': 1532977051.660843,\n",
       "  'time_inform': 1532977051.6608553}}"
      ]
     },
     "execution_count": 4,
     "metadata": {},
     "output_type": "execute_result"
    }
   ],
   "source": [
    "cache.active_session"
   ]
  },
  {
   "cell_type": "code",
   "execution_count": 5,
   "metadata": {
    "ExecuteTime": {
     "end_time": "2018-07-30T18:57:44.540454Z",
     "start_time": "2018-07-30T18:57:44.535906Z"
    }
   },
   "outputs": [],
   "source": [
    "tt = cache.active_session['c822328a576e4712928e743b7a9932bd']['strategy']"
   ]
  },
  {
   "cell_type": "code",
   "execution_count": 6,
   "metadata": {
    "ExecuteTime": {
     "end_time": "2018-07-30T18:57:45.722934Z",
     "start_time": "2018-07-30T18:57:45.711365Z"
    }
   },
   "outputs": [
    {
     "name": "stderr",
     "output_type": "stream",
     "text": [
      "2018-07-30 18:57:45,717 - INFO - CLASS:DB- METHOD:insert -LINE:73 - MSG:2 was inserted into collection: chat_debug\n"
     ]
    }
   ],
   "source": [
    "cache.db.insert(tt.cache)"
   ]
  },
  {
   "cell_type": "code",
   "execution_count": 7,
   "metadata": {
    "ExecuteTime": {
     "end_time": "2018-07-30T18:57:50.363078Z",
     "start_time": "2018-07-30T18:57:50.349997Z"
    }
   },
   "outputs": [
    {
     "data": {
      "text/plain": [
       "2"
      ]
     },
     "execution_count": 7,
     "metadata": {},
     "output_type": "execute_result"
    }
   ],
   "source": [
    "cache.db.collection.count_documents(filter={})"
   ]
  },
  {
   "cell_type": "code",
   "execution_count": 12,
   "metadata": {
    "ExecuteTime": {
     "end_time": "2018-07-30T18:56:14.060056Z",
     "start_time": "2018-07-30T18:56:14.046256Z"
    }
   },
   "outputs": [
    {
     "data": {
      "text/plain": [
       "1"
      ]
     },
     "execution_count": 12,
     "metadata": {},
     "output_type": "execute_result"
    }
   ],
   "source": [
    "cache.db.collection.count()"
   ]
  },
  {
   "cell_type": "code",
   "execution_count": 6,
   "metadata": {
    "ExecuteTime": {
     "end_time": "2018-07-31T01:55:31.989305Z",
     "start_time": "2018-07-31T01:55:31.762976Z"
    }
   },
   "outputs": [
    {
     "data": {
      "text/plain": [
       "{'label': 1,\n",
       " 'pred_prob': array([[0.00855988, 0.97487145, 0.01267904, 0.00388963],\n",
       "        [0.09449883, 0.83752077, 0.05007315, 0.01790724],\n",
       "        [0.02125873, 0.87238466, 0.03682277, 0.06953384]]),\n",
       " 'av_pred': array([0.04143915, 0.89492563, 0.03319165, 0.03044357]),\n",
       " 'time_extract': [],\n",
       " 'other_response': None}"
      ]
     },
     "execution_count": 6,
     "metadata": {},
     "output_type": "execute_result"
    }
   ],
   "source": [
    "model_dict['WillingToPay'].classify('不能还')"
   ]
  },
  {
   "cell_type": "code",
   "execution_count": null,
   "metadata": {},
   "outputs": [],
   "source": [
    ""
   ]
  }
 ],
 "metadata": {
  "kernelspec": {
   "display_name": "Python 3",
   "language": "python",
   "name": "python3"
  },
  "language_info": {
   "codemirror_mode": {
    "name": "ipython",
    "version": 3.0
   },
   "file_extension": ".py",
   "mimetype": "text/x-python",
   "name": "python",
   "nbconvert_exporter": "python",
   "pygments_lexer": "ipython3",
   "version": "3.6.5"
  },
  "varInspector": {
   "cols": {
    "lenName": 16.0,
    "lenType": 16.0,
    "lenVar": 40.0
   },
   "kernels_config": {
    "python": {
     "delete_cmd_postfix": "",
     "delete_cmd_prefix": "del ",
     "library": "var_list.py",
     "varRefreshCmd": "print(var_dic_list())"
    },
    "r": {
     "delete_cmd_postfix": ") ",
     "delete_cmd_prefix": "rm(",
     "library": "var_list.r",
     "varRefreshCmd": "cat(var_dic_list()) "
    }
   },
   "types_to_exclude": [
    "module",
    "function",
    "builtin_function_or_method",
    "instance",
    "_Feature"
   ],
   "window_display": false
  }
 },
 "nbformat": 4,
 "nbformat_minor": 0
}