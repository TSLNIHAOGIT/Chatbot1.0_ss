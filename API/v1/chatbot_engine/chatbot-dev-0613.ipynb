{
 "cells": [
  {
   "cell_type": "code",
   "execution_count": 17,
   "metadata": {
    "ExecuteTime": {
     "end_time": "2018-06-14T02:10:54.073986Z",
     "start_time": "2018-06-14T02:10:54.064705Z"
    },
    "collapsed": true
   },
   "outputs": [],
   "source": [
    "\n",
    "import pickle\n",
    "import sys\n",
    "\n",
    "from flask import Flask, request\n",
    "from flask_restful import Resource, Api\n",
    "from json import dumps\n",
    "# from flask.ext.jsonpify import jsonify\n",
    "from flask_jsonpify import jsonify\n",
    "import pandas as pd\n",
    "import numpy as np\n",
    "import json\n",
    "\n",
    "\n"
   ]
  },
  {
   "cell_type": "markdown",
   "metadata": {
    "ExecuteTime": {
     "end_time": "2018-06-13T18:51:47.221900Z",
     "start_time": "2018-06-13T18:51:47.213910Z"
    }
   },
   "source": [
    "# Load Each Model"
   ]
  },
  {
   "cell_type": "code",
   "execution_count": 18,
   "metadata": {
    "ExecuteTime": {
     "end_time": "2018-06-14T02:10:55.962527Z",
     "start_time": "2018-06-14T02:10:55.541949Z"
    },
    "collapsed": true
   },
   "outputs": [],
   "source": [
    "models_list = ['IDClassifier','CutDebt','IfKnowDebtor','WillingToPay','Installment','SetDueDay']\n",
    "modelpy_path = '../../../../Chatbot1.0/MLModel/code/{}/'\n",
    "savedModel_path = '../../../../Chatbot1.0/MLModel/savedModel/{}/{}.pickle'\n",
    "model_dict = {}\n",
    "for each_model in models_list:\n",
    "    sys.path.append(modelpy_path.format(each_model))\n",
    "    model_dict[each_model] = pickle.load(open(savedModel_path.format(each_model,each_model), 'rb'))"
   ]
  },
  {
   "cell_type": "code",
   "execution_count": 38,
   "metadata": {
    "ExecuteTime": {
     "end_time": "2018-06-14T02:43:44.629555Z",
     "start_time": "2018-06-14T02:43:44.580706Z"
    }
   },
   "outputs": [
    {
     "data": {
      "text/plain": [
       "(0, 0.64878411585921725)"
      ]
     },
     "execution_count": 38,
     "metadata": {},
     "output_type": "execute_result"
    }
   ],
   "source": [
    "model_dict['Installment'].classify('不 好')"
   ]
  },
  {
   "cell_type": "code",
   "execution_count": 20,
   "metadata": {
    "ExecuteTime": {
     "end_time": "2018-06-14T02:10:58.588960Z",
     "start_time": "2018-06-14T02:10:58.422187Z"
    },
    "collapsed": true
   },
   "outputs": [],
   "source": [
    "import pickle\n",
    "\n",
    "class ClassifierBase:\n",
    "    def load_model(self,**path):\n",
    "        \n",
    "        load_path = path.get('tfidf')\n",
    "        if load_path is not None:\n",
    "            self.tfidf = pickle.load(open(load_path, 'rb'))\n",
    "            print('tfidf load successfully')\n",
    "            \n",
    "        load_path = path.get('svc')\n",
    "        if load_path is not None:\n",
    "            self.svc = pickle.load(open(load_path, 'rb'))\n",
    "            print('svc load successfully')\n",
    "            \n",
    "        load_path = path.get('lightgbm')\n",
    "        if load_path is not None:\n",
    "            self.lightgbm = pickle.load(open(load_path, 'rb'))\n",
    "            print('lightgbm load successfully')\n",
    "            \n",
    "        load_path = path.get('logistic')\n",
    "        if load_path is not None:\n",
    "            self.logistic = pickle.load(open(load_path, 'rb'))\n",
    "            print('logistic load successfully')\n",
    "            \n",
    "            \n",
    "####### classifier 0\n",
    "####### InitClassifier\n",
    "\n",
    "class InitClassifier(ClassifierBase):\n",
    "    def __init__(self, **model_path):\n",
    "        self.load_model(**model_path)\n",
    "        self.description = 'This model is used to initialize conversation'\n",
    "        self.label_explain = {0: 'next'}\n",
    "        \n",
    "    \n",
    "            \n",
    "            \n",
    "    def classify(self,sentence):\n",
    "        \"\"\"\n",
    "        0 - next\n",
    "        \"\"\"\n",
    "        \n",
    "        return (0, 1)\n",
    "\n",
    "\n",
    "    \n",
    "\n",
    "    \n",
    "    \n",
    "####### classifier 0\n",
    "####### InitClassifier\n",
    "\n",
    "class OtherClassifier(ClassifierBase):\n",
    "    def __init__(self, **model_path):\n",
    "        self.load_model(**model_path)\n",
    "        self.description = 'This model is used to handle irrelavant logic'\n",
    "        self.label_explain = {0: 'next'}\n",
    "        \n",
    "    \n",
    "            \n",
    "            \n",
    "    def classify(self,sentence):\n",
    "        \"\"\"\n",
    "        0 - next\n",
    "        \"\"\"\n",
    "        \n",
    "        return (0, 1)\n",
    "    \n",
    "class StopClassifier(ClassifierBase):\n",
    "    def __init__(self, **model_path):\n",
    "        self.load_model(**model_path)\n",
    "        self.description = 'This model is used to handle stop logic'\n",
    "        self.label_explain = {0: 'stop'}\n",
    "        \n",
    "    \n",
    "            \n",
    "            \n",
    "    def classify(self,sentence):\n",
    "        \"\"\"\n",
    "        0 - next\n",
    "        \"\"\"\n",
    "        \n",
    "        return (0, 1)\n",
    "            \n",
    "\n",
    "model_dict['OtherClassifier'] = OtherClassifier()\n",
    "model_dict['StopClassifier'] = StopClassifier()\n",
    "model_dict['InitClassifier'] = InitClassifier()"
   ]
  },
  {
   "cell_type": "code",
   "execution_count": 21,
   "metadata": {
    "ExecuteTime": {
     "end_time": "2018-06-14T02:11:03.847399Z",
     "start_time": "2018-06-14T02:11:00.208860Z"
    },
    "collapsed": true
   },
   "outputs": [],
   "source": [
    "\n",
    "\n",
    "\n",
    "class Node:\n",
    "    def __init__(self, node_name, parent=None):\n",
    "        self.name = node_name\n",
    "        self.jump = None\n",
    "        self.entry_counter = 0\n",
    "        self.parent=parent\n",
    "        self.ifConnected = False\n",
    "  \n",
    "        print('{} is initialized'.format(node_name))\n",
    "        \n",
    "        \n",
    "    def summary(self):\n",
    "        return {'node_name': self.name, \n",
    "                'jump_action':self.jump_action, \n",
    "                'description':self.describe, \n",
    "                'class_name':self.__class__.__name__, \n",
    "                'model': self.model_name}\n",
    "    \n",
    "    def _connect(self):\n",
    "        pass\n",
    "    \n",
    "    def _triger_jump(self):\n",
    "        pass\n",
    "    \n",
    "    def get_response(self):\n",
    "        self.entry_counter += 1 \n",
    "        self._connect()\n",
    "        self._triger_jump()\n",
    "        return self.response\n",
    "    \n",
    "    def process(self, sentence, model_dict):\n",
    "        model = model_dict[self.model_name]\n",
    "        _label, _confidence = model.classify(sentence)\n",
    "        if self.connect is not None:\n",
    "            self.output_label = _label\n",
    "            self.output_confidence = _confidence\n",
    "            return self.connect[_label], _label, _confidence\n",
    "        else:\n",
    "            return None,None,None\n",
    "        \n",
    "###################### Node 0  #########################\n",
    "\n",
    "\n",
    "\n",
    "class NodeFunctional(Node):\n",
    "    def __init__(self,node_name, parent=None):\n",
    "        super().__init__(node_name,parent)\n",
    "    \n",
    "class S1_N0(NodeFunctional):\n",
    "    def __init__(self,parent=None):\n",
    "        super().__init__('s0',parent)\n",
    "        self.describe = 'Init node'\n",
    "        self.model_name = 'InitClassifier'\n",
    "        self.response = 'S0 initialize'\n",
    "        self.connect = {0: S1_N1(self)}\n",
    "        \n",
    "    \n",
    "    def _connect(self):\n",
    "        if not self.ifConnected:\n",
    "            self.ifConnected = True\n",
    "            self.connect = {0: S1_N1(self)}\n",
    "    \n",
    "        \n",
    "        \n",
    "       \n",
    "        \n",
    "###################### Node 1  #########################\n",
    "class S1_N1(NodeFunctional):\n",
    "    def __init__(self,parent):\n",
    "        super().__init__('cf_s1_n1_identity_q',parent)\n",
    "        self.describe = 'Verify Identify'\n",
    "        self.model_name = 'IDClassifier'\n",
    "        self.response = '你好，这里是H催收公司，请问是罗巍先生吗？'\n",
    "                \n",
    "    def _connect(self):\n",
    "        if not self.ifConnected:\n",
    "            self.ifConnected = True\n",
    "            self.connect = {0: S1_N15(self), \n",
    "                            1: S1_N5(self), \n",
    "                            2: S1_N4(self)}\n",
    "        \n",
    "\n",
    "    \n",
    "        \n",
    "#######################  Node 2  #############################        \n",
    "class S1_N5(NodeFunctional):\n",
    "    def __init__(self,parent):\n",
    "        super().__init__('cf_s1_n5_ifAcquainted_q',parent)\n",
    "        self.describe = 'Ask if know debtor'\n",
    "        self.model_name = 'IfKnowDebtor'\n",
    "        self.response = '不好意思，打扰了，请问您认识罗先生吗！'\n",
    "        \n",
    "        \n",
    "    def _connect(self):\n",
    "        if not self.ifConnected:\n",
    "            self.ifConnected = True\n",
    "            self.connect = {0: S1_N101(self), #know\n",
    "                            1: S1_N102(self), #do not know\n",
    "                            2: S1_N7(self)}\n",
    "        \n",
    "        \n",
    "##########################  Node 3  ##########################        \n",
    "class S1_N15(NodeFunctional):\n",
    "    def __init__(self,parent):\n",
    "        super().__init__('cf_s1_n15_verifyWill_q',parent)\n",
    "        self.describe = 'Verify willing to pay'\n",
    "        self.model_name = 'WillingToPay'\n",
    "        self.response = '你好，我是H催收公司的客服小催，您之前借贷了H公司5万块钱，约定在2018年5月1日还清。您已还款3万2千块钱，但因逾期未还产生了相应的利息和延迟还款费用，现在一共需要还2万块钱，其中1.2万本金，1500利息，500延迟还款手续费用，请问您打算什么时候处理下呢？'\n",
    "       \n",
    "        \n",
    "    def _connect(self):\n",
    "        if not self.ifConnected:\n",
    "            self.ifConnected = True\n",
    "            self.connect = {0: S1_N20(self), #know\n",
    "                            1: S1_N20(self), #do not know\n",
    "                            2: S1_N25(self), # pay less\n",
    "                            3: S1_N19(self) \n",
    "                           }\n",
    "#########################  Node 5  ###########################        \n",
    "class S1_N20(NodeFunctional):\n",
    "    def __init__(self,parent):\n",
    "        super().__init__('cf_s1_n20_q4_setDue3Day',parent)\n",
    "        self.describe = 'ask if can pay very soon'\n",
    "        self.model_name = 'SetDueDay'\n",
    "        self.response = '请问您能在3天之内还款吗？'\n",
    "        \n",
    "        \n",
    "    def _connect(self):\n",
    "        if not self.ifConnected:\n",
    "            self.ifConnected = True\n",
    "            self.connect = {0: S1_N103(self), #know\n",
    "                            1: self, #do not know\n",
    "                            2: S1_N24(self), # pay less\n",
    "                           }\n",
    "            self.jump = {1: S1_N25(self)}\n",
    "        \n",
    "        \n",
    "    def _triger_jump(self):\n",
    "        if self.entry_counter >= 4:\n",
    "            print('triger jump action')\n",
    "            self.connect.update(self.jump)\n",
    "            \n",
    "    def get_response(self):\n",
    "        self.entry_counter += 1 \n",
    "        self._connect()\n",
    "        self._triger_jump()\n",
    "        if self.parent.output_label == 1 and self.entry_counter == 1:\n",
    "            self.response_1 = '赖账你是赖不掉的，目前我们公司已经派专员处理了，现在要求您在3天以内还钱'\n",
    "            return self.response_1\n",
    "        return self.response\n",
    "        \n",
    "        \n",
    "        \n",
    "#########################  Node 7  ###########################        \n",
    "class S1_N25(NodeFunctional):\n",
    "    def __init__(self,parent):\n",
    "        super().__init__('cf_s1_n25_cutDebt_q',parent)\n",
    "        self.describe = 'ask if accept less amount'\n",
    "        self.model_name = 'CutDebt'\n",
    "        self.response = '额... 如果是这样的话您看我帮您把金额减免一定程度可以吗？ 如果今天换，我帮您把利息1500全部剪掉，您只用还本金1万2。这是我能做大的最大程度了！'\n",
    "        \n",
    "        \n",
    "    def _connect(self):\n",
    "        if not self.ifConnected:\n",
    "            self.ifConnected = True\n",
    "            self.connect = {0: S1_N33(self), #know\n",
    "                            1: self, #do not know\n",
    "                            2: S1_N30(self), # pay less\n",
    "                           }\n",
    "            self.jump = {1: S1_N32(self)}\n",
    "        \n",
    "    def _triger_jump(self):\n",
    "        if self.entry_counter >= 4:\n",
    "            print('triger jump action')\n",
    "            self.connect.update(self.jump)\n",
    "        \n",
    "        \n",
    "        \n",
    "#########################  Node 8  ###########################        \n",
    "class S1_N32(NodeFunctional):\n",
    "    def __init__(self,parent):\n",
    "        super().__init__('cf_s1_n32_splitDebt_q',parent)\n",
    "        self.describe = 'ask if accept installment'\n",
    "        self.model_name = 'Installment'\n",
    "        self.response = '那么您看这样行吗？ 您今天先还30%，也就是3600块钱，剩下的我为您申请下延期，但剩下的最晚需要在1个月内还清。您看可以吗？'\n",
    "        \n",
    "        \n",
    "    def _connect(self):\n",
    "        if not self.ifConnected:\n",
    "            self.ifConnected = True\n",
    "            self.connect = {0: S1_N41(self), #yes\n",
    "                            1: self, # no\n",
    "                            2: S1_N35(self), \n",
    "                           }\n",
    "            self.jump = {1: S1_N105(self)}\n",
    "        \n",
    "    def _triger_jump(self):\n",
    "        if self.entry_counter >= 4:\n",
    "            print('triger jump action')\n",
    "            self.connect.update(self.jump)\n",
    "        \n",
    "        \n",
    "        \n",
    "#########################  Node 9  ###########################        \n",
    "class S1_N33(NodeFunctional):\n",
    "    def __init__(self,parent):\n",
    "        super().__init__('cf_s1_n33_setDue3Day',parent)\n",
    "        self.describe = 'ask if can pay very soon'\n",
    "        self.model_name = 'SetDueDay'\n",
    "        self.response = '请问您能在3天之内还款吗？'\n",
    "        \n",
    "        \n",
    "    def _connect(self):\n",
    "        if not self.ifConnected:\n",
    "            self.ifConnected = True\n",
    "            self.connect = {0: S1_N104(self), #yes\n",
    "                            1: self, # no\n",
    "                            2: S1_N40(self), \n",
    "                           }\n",
    "            self.jump = {1: S1_N32(self)}\n",
    "        \n",
    "    def _triger_jump(self):\n",
    "        if self.entry_counter >= 4:\n",
    "            print('triger jump action')\n",
    "            self.connect.update(self.jump)\n",
    "        \n",
    "        \n",
    "        \n",
    "#########################  Node 10  ###########################        \n",
    "class S1_N41(NodeFunctional):\n",
    "    def __init__(self,parent):\n",
    "        super().__init__('cf_s1_n41_setSplitDebtDue_q',parent)\n",
    "        self.describe = 'ask if can pay very soon'\n",
    "        self.model_name = 'SetDueDay'\n",
    "        self.response = '请问您能在3天之内还款吗？'\n",
    "        \n",
    "    def _connect(self):\n",
    "        if not self.ifConnected:\n",
    "            self.ifConnected = True\n",
    "            self.connect = {0: S1_N106(self), #yes\n",
    "                            1: self, # no\n",
    "                            2: S1_N44(self), \n",
    "                           }\n",
    "            self.jump = {1: S1_N107(self)}\n",
    "        \n",
    "    def _triger_jump(self):\n",
    "        if self.entry_counter >= 4:\n",
    "            print('triger jump action')\n",
    "            self.connect.update(self.jump)\n",
    "        \n",
    "        \n",
    "        \n",
    "\n",
    "        \n",
    "#########################  Node Other ########################\n",
    "class NodeOther(Node):\n",
    "    def __init__(self,node_name=None, parent=None):\n",
    "        super().__init__(node_name,parent)\n",
    "        self.describe = 'other logic'\n",
    "        self.model_name = 'OtherClassifier'\n",
    "        self.response = '不好意思先生，您的回答我不太理解，请重复'\n",
    "        \n",
    "    def _connect(self):\n",
    "        if not self.ifConnected:\n",
    "            self.ifConnected = True\n",
    "            self.connect = self.parent.connect\n",
    "        \n",
    "        \n",
    "\n",
    "\n",
    "\n",
    "class S1_N4(NodeOther):\n",
    "    def __init__(self,parent):\n",
    "        super().__init__('cf_s1_n4_identity_a_misc',parent)\n",
    "\n",
    "\n",
    "\n",
    "        \n",
    "class S1_N7(NodeOther):\n",
    "    def __init__(self,parent):\n",
    "        super().__init__('cf_s1_n7_ifAcquainted_a_misc',parent)\n",
    "        \n",
    "    \n",
    "\n",
    "        \n",
    "class S1_N19(NodeOther):\n",
    "    def __init__(self,parent):\n",
    "        super().__init__('cf_s1_n19_verifyWill_a_misc',parent)\n",
    "        \n",
    "        \n",
    "    \n",
    "\n",
    "class S1_N24(NodeOther):\n",
    "    def __init__(self,parent):\n",
    "        super().__init__('cf_s1_n24_setDue_a_misc',parent)\n",
    "        \n",
    "        \n",
    "class S1_N30(NodeOther):\n",
    "    def __init__(self,parent):\n",
    "        super().__init__('cf_s1_n30_cutDebt_a_misc',parent)\n",
    "        \n",
    "\n",
    "class S1_N40(NodeOther):\n",
    "    def __init__(self,parent):\n",
    "        super().__init__('cf_s1_n40_setCutDebtDue_a_misc',parent)\n",
    "        \n",
    "    \n",
    "class S1_N35(NodeOther):\n",
    "    def __init__(self,parent):\n",
    "        super().__init__('cf_s1_n35_splitDebt_a_misc',parent)\n",
    "        \n",
    "        \n",
    "class S1_N44(NodeOther):\n",
    "    def __init__(self,parent):\n",
    "        super().__init__('cf_s1_n44_setSplitDebtDue_a_misc',parent)\n",
    "        \n",
    "        \n",
    "        \n",
    "############################## STOP NODE ########################\n",
    "class NodeStop(Node):\n",
    "    def __init__(self, parent=None):\n",
    "        super().__init__(node_name,parent)\n",
    "        self.model_name = 'StopClassifier'\n",
    "\n",
    "        \n",
    "    def _connect(self):\n",
    "        self.connect = None\n",
    "\n",
    "\n",
    "\n",
    "class S1_N101(Node):\n",
    "    def __init__(self,parent):\n",
    "        super().__init__('cf_s1_n101_ifAcquainted_s',parent)\n",
    "        self.describe = 'inform phone recipient'\n",
    "        self.response = '请您告诉xxx先生，请他尽快联系H催收公司，感谢您的配合，再见！'\n",
    "\n",
    "        \n",
    "        \n",
    "class S1_N102(Node):\n",
    "    def __init__(self,parent):\n",
    "        super().__init__('cf_s1_n102_ifAcquainted_s',parent)\n",
    "        self.describe = 'do not know debtor'\n",
    "        self.response = '十分抱歉，打扰到您。感谢您的配合，再见！'\n",
    "    \n",
    " \n",
    "        \n",
    "class S1_N103(Node):\n",
    "    def __init__(self,parent):\n",
    "        super().__init__('cf_s1_n103_paymentChannel_s',parent)\n",
    "        self.describe = 'notify methods of paying'\n",
    "        self.response = '感谢您的配合。您可以使用APP或者银行转账的方式进行还款，还请将还款截图发至微信hwchat！'\n",
    "    \n",
    "\n",
    "        \n",
    "class S1_N104(Node):\n",
    "    def __init__(self,parent):\n",
    "        super().__init__('cf_s1_n104_paymentChannel_s',parent)\n",
    "        self.describe = 'notify methods of paying'\n",
    "        self.response = '感谢您的配合。您可以使用APP或者银行转账的方式进行还款，还请将还款截图发至微信hwchat！'\n",
    "    \n",
    "        \n",
    "class S1_N105(Node):\n",
    "    def __init__(self,parent):\n",
    "        super().__init__('cf_s1_n105_noResult_s',parent)\n",
    "        self.describe = 'no result'\n",
    "        self.response = '您这也不行，那也不行！我们会近期再与您联系，到时候会是更强势的催收人员了！再见！'\n",
    "        \n",
    "    \n",
    "\n",
    "class S1_N106(Node):\n",
    "    def __init__(self,parent):\n",
    "        super().__init__('cf_s1_n106_paymentChannel_s',parent)\n",
    "        self.describe = 'notify methods of paying'\n",
    "        self.response = '感谢您的配合。您可以使用APP或者银行转账的方式进行还款，还请将还款截图发至微信hwchat！'\n",
    "        \n",
    "        \n",
    "class S1_N107(Node):\n",
    "    def __init__(self,parent):\n",
    "        super().__init__('cf_s1_n107_noResult_s',parent)\n",
    "        self.describe = 'no result'\n",
    "        self.response = '您这也不行，那也不行！我们会近期再与您联系，到时候会是更强势的催收人员了！再见！'\n",
    "        \n",
    "    \n",
    "########################################################################################################################\n",
    "######################################### Tree #########################################################################\n",
    "######################################### Tree #########################################################################\n",
    "######################################### Tree #########################################################################\n",
    "######################################### Tree #########################################################################\n",
    "######################################### Tree #########################################################################\n",
    "######################################### Tree #########################################################################\n",
    "######################################### Tree #########################################################################\n",
    "      \n",
    "        \n",
    "class TreeBase:\n",
    "    def __init__(self, node_pool, start_node='cf_s1_n1_identity_q', ):\n",
    "        self.current_node_name = start_node\n",
    "        self.node_pool = self.__get_nodePool(node_pool)\n",
    "        \n",
    "    def __get_nodePool(self, node_pool):\n",
    "        diction = {}\n",
    "        nodes_name = []\n",
    "        for node in node_pool:\n",
    "            cur = node()\n",
    "            diction[cur.name] = cur\n",
    "            nodes_name.append(cur.name)\n",
    "        self.nodes_name = nodes_name\n",
    "        return diction\n",
    "    \n",
    "class TreeStage1(TreeBase):\n",
    "    def __init__(self, node_pool, start_node='s0'):\n",
    "        super().__init__(node_pool, start_node='s0')\n",
    "        self.build_graph()\n",
    "        \n",
    "\n",
    "        \n",
    "    def classify(self, sentence, model_dict):\n",
    "        current_node = self.node_pool[self.current_node_name]\n",
    "        \n",
    "        # classify\n",
    "        print('Current node name: {}'.format(self.current_node_name))\n",
    "        model = model_dict[current_node.model_name]\n",
    "        label, confidence = model.classify(sentence)\n",
    "        print('predict label is {} and confidence is {}'.format(label, confidence))\n",
    "        \n",
    "        # update current node\n",
    "        self.current_node_name = self.graph[self.current_node_name][label]\n",
    "        print('now go to label {}'.format(self.current_node_name))\n",
    "        updated_node = self.node_pool[self.current_node_name]\n",
    "        print(updated_node.response)\n",
    "        \n",
    "        return updated_node.response"
   ]
  },
  {
   "cell_type": "code",
   "execution_count": 6,
   "metadata": {
    "ExecuteTime": {
     "end_time": "2018-06-13T21:10:11.760490Z",
     "start_time": "2018-06-13T21:10:11.753399Z"
    }
   },
   "outputs": [
    {
     "name": "stdout",
     "output_type": "stream",
     "text": [
      "s0 is initialized\n",
      "cf_s1_n1_identity_q is initialized\n"
     ]
    }
   ],
   "source": [
    "cur = S1_N0()\n"
   ]
  },
  {
   "cell_type": "code",
   "execution_count": 7,
   "metadata": {
    "ExecuteTime": {
     "end_time": "2018-06-13T21:10:12.492440Z",
     "start_time": "2018-06-13T21:10:12.482220Z"
    }
   },
   "outputs": [
    {
     "name": "stdout",
     "output_type": "stream",
     "text": [
      "cf_s1_n15_verifyWill_q is initialized\n",
      "cf_s1_n5_ifAcquainted_q is initialized\n",
      "cf_s1_n4_identity_a_misc is initialized\n"
     ]
    },
    {
     "data": {
      "text/plain": [
       "'你好，这里是H催收公司，请问是罗巍先生吗？'"
      ]
     },
     "execution_count": 7,
     "metadata": {},
     "output_type": "execute_result"
    }
   ],
   "source": [
    "cur,_l,_c = cur.process('你好',model_dict)\n",
    "cur.get_response()"
   ]
  },
  {
   "cell_type": "code",
   "execution_count": 22,
   "metadata": {
    "ExecuteTime": {
     "end_time": "2018-06-14T02:11:07.273577Z",
     "start_time": "2018-06-14T02:11:07.046133Z"
    },
    "collapsed": true
   },
   "outputs": [],
   "source": [
    "app = Flask(__name__)\n",
    "api = Api(app)\n",
    "\n",
    "# class ChatBot(Resource):\n",
    "#     def get(self):\n",
    "#         args = request.args\n",
    "#         try:\n",
    "#             return {'Chatbot': 'Hellow World! ' + args.get('data')}\n",
    "#         except Exception as e:\n",
    "#             print(e)\n",
    "#             return {'Chatbot': 'Hellow World! ' }\n",
    "    \n",
    "class Cache:\n",
    "    def __init__(self):\n",
    "        self.session_pool = []\n",
    "        self.active_session = {}\n",
    "        \n",
    "        \n",
    "    def create_session(self, stage=1):\n",
    "        available = list(set(range(1000)) - set(self.session_pool))\n",
    "        if len(available) > 0:\n",
    "            sessionId = available[0]\n",
    "            self.session_pool.append(sessionId)\n",
    "            if stage == 1:\n",
    "                self.active_session[sessionId] = S1_N0()\n",
    "        else:\n",
    "            sessionId = None\n",
    "        return sessionId\n",
    "    \n",
    "    \n",
    "    \n",
    "class CacheV1:\n",
    "    def __init__(self):\n",
    "        self.s1 = TreeStage1(node_pool)\n",
    "        \n",
    "    \n",
    "            \n",
    "            \n",
    "\n",
    "    \n",
    "\n",
    "class ChatBot(Resource):\n",
    "    \n",
    "\n",
    "    \n",
    "    \n",
    "    def get(self):\n",
    "        args = request.args\n",
    "        try:\n",
    "            action = args.get('action')\n",
    "            print(action)\n",
    "        except Exception as e:\n",
    "            return {'message': 'No action secified', 'status':'fail'}\n",
    "        \n",
    "        if action == 'create':\n",
    "            sessionId = cache.create_session()\n",
    "#             return {'test':'1'}\n",
    "            \n",
    "            return {'message':{'sessionId':sessionId}, 'status': 'successful'} \n",
    "        else:\n",
    "            return {'message':'undefined action --- {}'.format(action)}\n",
    "        \n",
    "class ChatBotV1(Resource):\n",
    "    \n",
    "\n",
    "    \n",
    "    \n",
    "    def get(self):\n",
    "        args = request.args\n",
    "        action = args.get('action')\n",
    "        if action == 'create':\n",
    "            sessionId = cache.create_session()\n",
    "            return {'message': {'sessionId':sessionId}, \n",
    "                    'status': 'successful'}\n",
    "        elif action == 'chat':\n",
    "            sessionId = args.get('sessionId')\n",
    "            try:\n",
    "                s = cache.active_session[int(sessionId)]\n",
    "            except KeyError:\n",
    "                return {'message': 'unknown session Id or session expired. Requested Session id is {}'.format(sessionId), 'status': 'failed'}\n",
    "            data = args.get('data')\n",
    "            cur_node, _label, _confidence = s.process(data, model_dict)\n",
    "            message = cur_node.get_response()\n",
    "            cache.active_session[int(sessionId)] = cur_node\n",
    "            return {'message': message, \n",
    "                    'status': 'successful'}\n",
    "        else:\n",
    "            return {'message': 'Unknown Action! Received {} action'.format(action),\n",
    "                    'status': 'failed'}\n",
    "        \n",
    "        \n",
    "        \n",
    "            \n",
    "        \n",
    "        \n",
    "api.add_resource(ChatBotV1, '/chatbotv1')\n",
    "cache = Cache()"
   ]
  },
  {
   "cell_type": "code",
   "execution_count": 23,
   "metadata": {
    "ExecuteTime": {
     "end_time": "2018-06-14T02:39:06.490911Z",
     "start_time": "2018-06-14T02:11:09.582384Z"
    }
   },
   "outputs": [
    {
     "name": "stderr",
     "output_type": "stream",
     "text": [
      " * Running on http://0.0.0.0:8889/ (Press CTRL+C to quit)\n",
      "127.0.0.1 - - [14/Jun/2018 02:12:12] \"GET /chatbotv1?action=create HTTP/1.1\" 200 -\n"
     ]
    },
    {
     "name": "stdout",
     "output_type": "stream",
     "text": [
      "s0 is initialized\n",
      "cf_s1_n1_identity_q is initialized\n"
     ]
    },
    {
     "name": "stderr",
     "output_type": "stream",
     "text": [
      "127.0.0.1 - - [14/Jun/2018 02:13:07] \"GET /chatbotv1?data=%E4%BD%A0%E5%A5%BD&action=chat&sessionId=0 HTTP/1.1\" 200 -\n"
     ]
    },
    {
     "name": "stdout",
     "output_type": "stream",
     "text": [
      "cf_s1_n15_verifyWill_q is initialized\n",
      "cf_s1_n5_ifAcquainted_q is initialized\n",
      "cf_s1_n4_identity_a_misc is initialized\n"
     ]
    },
    {
     "name": "stderr",
     "output_type": "stream",
     "text": [
      "127.0.0.1 - - [14/Jun/2018 02:13:10] \"GET /chatbotv1?action=create HTTP/1.1\" 200 -\n"
     ]
    },
    {
     "name": "stdout",
     "output_type": "stream",
     "text": [
      "s0 is initialized\n",
      "cf_s1_n1_identity_q is initialized\n"
     ]
    },
    {
     "name": "stderr",
     "output_type": "stream",
     "text": [
      "127.0.0.1 - - [14/Jun/2018 02:15:07] \"GET /chatbotv1?data=%E4%BD%A0%E5%A5%BD&action=chat&sessionId=1 HTTP/1.1\" 200 -\n"
     ]
    },
    {
     "name": "stdout",
     "output_type": "stream",
     "text": [
      "cf_s1_n15_verifyWill_q is initialized\n",
      "cf_s1_n5_ifAcquainted_q is initialized\n",
      "cf_s1_n4_identity_a_misc is initialized\n"
     ]
    },
    {
     "name": "stderr",
     "output_type": "stream",
     "text": [
      "127.0.0.1 - - [14/Jun/2018 02:15:35] \"GET /chatbotv1?data=%E4%BB%80%E4%B9%88%E4%BA%8B%E6%83%85&action=chat&sessionId=1 HTTP/1.1\" 200 -\n"
     ]
    },
    {
     "name": "stdout",
     "output_type": "stream",
     "text": [
      "cf_s1_n20_q4_setDue3Day is initialized\n",
      "cf_s1_n20_q4_setDue3Day is initialized\n",
      "cf_s1_n25_cutDebt_q is initialized\n",
      "cf_s1_n19_verifyWill_a_misc is initialized\n"
     ]
    },
    {
     "name": "stderr",
     "output_type": "stream",
     "text": [
      "127.0.0.1 - - [14/Jun/2018 02:16:26] \"GET /chatbotv1?data=%E6%88%91%E7%8E%B0%E5%9C%A8%E6%B2%A1%E9%92%B1&action=chat&sessionId=1 HTTP/1.1\" 200 -\n"
     ]
    },
    {
     "name": "stdout",
     "output_type": "stream",
     "text": [
      "cf_s1_n103_paymentChannel_s is initialized\n",
      "cf_s1_n24_setDue_a_misc is initialized\n",
      "cf_s1_n25_cutDebt_q is initialized\n"
     ]
    },
    {
     "name": "stderr",
     "output_type": "stream",
     "text": [
      "127.0.0.1 - - [14/Jun/2018 02:17:12] \"GET /chatbotv1?data=%E6%88%91%E7%9C%9F%E6%B2%A1%E9%92%B1&action=chat&sessionId=1 HTTP/1.1\" 200 -\n",
      "127.0.0.1 - - [14/Jun/2018 02:17:55] \"GET /chatbotv1?data=%E6%88%91%E7%9C%9F%E6%B2%A1%E9%92%B1&action=chat&sessionId=1 HTTP/1.1\" 200 -\n",
      "127.0.0.1 - - [14/Jun/2018 02:18:36] \"GET /chatbotv1?data=%E6%88%91%E4%B8%8D%E6%98%AF%E6%83%B3%E8%B5%96%E8%B4%A6%E5%8F%AA%E6%98%AF%E7%8E%B0%E5%9C%A8%E6%89%8B%E9%87%8C%E6%AF%94%E8%BE%83%E7%B4%A7&action=chat&sessionId=1 HTTP/1.1\" 200 -\n"
     ]
    },
    {
     "name": "stdout",
     "output_type": "stream",
     "text": [
      "triger jump action\n"
     ]
    },
    {
     "name": "stderr",
     "output_type": "stream",
     "text": [
      "127.0.0.1 - - [14/Jun/2018 02:19:51] \"GET /chatbotv1?data=%E6%88%91%E4%B8%8D%E6%98%AF%E6%83%B3%E8%B5%96%E8%B4%A6%E5%8F%AA%E6%98%AF%E7%8E%B0%E5%9C%A8%E6%89%8B%E9%87%8C%E6%AF%94%E8%BE%83&action=chat&sessionId=1 HTTP/1.1\" 200 -\n"
     ]
    },
    {
     "name": "stdout",
     "output_type": "stream",
     "text": [
      "cf_s1_n33_setDue3Day is initialized\n",
      "cf_s1_n30_cutDebt_a_misc is initialized\n",
      "cf_s1_n32_splitDebt_q is initialized\n"
     ]
    },
    {
     "name": "stderr",
     "output_type": "stream",
     "text": [
      "127.0.0.1 - - [14/Jun/2018 02:20:44] \"GET /chatbotv1?data=%E6%88%91%E8%BF%98%E6%98%AF%E6%B2%A1%E9%82%A3%E4%B9%88%E5%A4%9A%E9%92%B1%E8%BF%98&action=chat&sessionId=1 HTTP/1.1\" 200 -\n",
      "127.0.0.1 - - [14/Jun/2018 02:20:52] \"GET /chatbotv1?data=%E6%88%91%E8%BF%98%E6%98%AF%E6%B2%A1%E9%82%A3%E4%B9%88%E5%A4%9A%E9%92%B1%E8%BF%98&action=chat&sessionId=1 HTTP/1.1\" 200 -\n",
      "127.0.0.1 - - [14/Jun/2018 02:20:54] \"GET /chatbotv1?data=%E6%88%91%E8%BF%98%E6%98%AF%E6%B2%A1%E9%82%A3%E4%B9%88%E5%A4%9A%E9%92%B1%E8%BF%98&action=chat&sessionId=1 HTTP/1.1\" 200 -\n"
     ]
    },
    {
     "name": "stdout",
     "output_type": "stream",
     "text": [
      "triger jump action\n"
     ]
    },
    {
     "name": "stderr",
     "output_type": "stream",
     "text": [
      "127.0.0.1 - - [14/Jun/2018 02:21:04] \"GET /chatbotv1?data=%E6%88%91%E8%BF%98%E6%98%AF%E6%B2%A1%E9%82%A3%E4%B9%88%E5%A4%9A%E9%92%B1%E8%BF%98&action=chat&sessionId=1 HTTP/1.1\" 200 -\n"
     ]
    },
    {
     "name": "stdout",
     "output_type": "stream",
     "text": [
      "cf_s1_n41_setSplitDebtDue_q is initialized\n",
      "cf_s1_n35_splitDebt_a_misc is initialized\n",
      "cf_s1_n105_noResult_s is initialized\n"
     ]
    },
    {
     "name": "stderr",
     "output_type": "stream",
     "text": [
      "127.0.0.1 - - [14/Jun/2018 02:21:20] \"GET /chatbotv1?data=%E9%82%A3%E5%A5%BD%E5%90%A7&action=chat&sessionId=1 HTTP/1.1\" 200 -\n",
      "127.0.0.1 - - [14/Jun/2018 02:22:05] \"GET /chatbotv1?data=%E5%8F%AF%E4%BB%A5&action=chat&sessionId=1 HTTP/1.1\" 200 -\n"
     ]
    },
    {
     "name": "stdout",
     "output_type": "stream",
     "text": [
      "cf_s1_n106_paymentChannel_s is initialized\n",
      "cf_s1_n44_setSplitDebtDue_a_misc is initialized\n",
      "cf_s1_n107_noResult_s is initialized\n"
     ]
    },
    {
     "name": "stderr",
     "output_type": "stream",
     "text": [
      "127.0.0.1 - - [14/Jun/2018 02:22:14] \"GET /chatbotv1?data=%E6%B2%A1%E9%97%AE%E9%A2%98&action=chat&sessionId=1 HTTP/1.1\" 200 -\n",
      "[2018-06-14 02:22:22,818] ERROR in app: Exception on /chatbotv1 [GET]\n",
      "Traceback (most recent call last):\n",
      "  File \"/home/kai/anaconda3/lib/python3.6/site-packages/flask/app.py\", line 1612, in full_dispatch_request\n",
      "    rv = self.dispatch_request()\n",
      "  File \"/home/kai/anaconda3/lib/python3.6/site-packages/flask/app.py\", line 1598, in dispatch_request\n",
      "    return self.view_functions[rule.endpoint](**req.view_args)\n",
      "  File \"/home/kai/anaconda3/lib/python3.6/site-packages/flask_restful/__init__.py\", line 480, in wrapper\n",
      "    resp = resource(*args, **kwargs)\n",
      "  File \"/home/kai/anaconda3/lib/python3.6/site-packages/flask/views.py\", line 84, in view\n",
      "    return self.dispatch_request(*args, **kwargs)\n",
      "  File \"/home/kai/anaconda3/lib/python3.6/site-packages/flask_restful/__init__.py\", line 595, in dispatch_request\n",
      "    resp = meth(*args, **kwargs)\n",
      "  File \"<ipython-input-22-023c27536781>\", line 82, in get\n",
      "    cur_node, _label, _confidence = s.process(data, model_dict)\n",
      "  File \"<ipython-input-21-ee8c11fac8ee>\", line 35, in process\n",
      "    model = model_dict[self.model_name]\n",
      "AttributeError: 'S1_N106' object has no attribute 'model_name'\n",
      "127.0.0.1 - - [14/Jun/2018 02:22:22] \"GET /chatbotv1?data=1&action=chat&sessionId=1 HTTP/1.1\" 500 -\n"
     ]
    }
   ],
   "source": [
    "app.run(host='0.0.0.0', port='8889')"
   ]
  },
  {
   "cell_type": "code",
   "execution_count": 16,
   "metadata": {
    "ExecuteTime": {
     "end_time": "2018-06-13T23:46:42.068788Z",
     "start_time": "2018-06-13T23:46:42.050430Z"
    }
   },
   "outputs": [
    {
     "data": {
      "text/plain": [
       "-1869462347020193510"
      ]
     },
     "execution_count": 16,
     "metadata": {},
     "output_type": "execute_result"
    }
   ],
   "source": [
    "hash(str(1))"
   ]
  },
  {
   "cell_type": "code",
   "execution_count": null,
   "metadata": {
    "collapsed": true
   },
   "outputs": [],
   "source": []
  }
 ],
 "metadata": {
  "kernelspec": {
   "display_name": "Python 3",
   "language": "python",
   "name": "python3"
  },
  "language_info": {
   "codemirror_mode": {
    "name": "ipython",
    "version": 3
   },
   "file_extension": ".py",
   "mimetype": "text/x-python",
   "name": "python",
   "nbconvert_exporter": "python",
   "pygments_lexer": "ipython3",
   "version": "3.6.3"
  },
  "varInspector": {
   "cols": {
    "lenName": 16,
    "lenType": 16,
    "lenVar": 40
   },
   "kernels_config": {
    "python": {
     "delete_cmd_postfix": "",
     "delete_cmd_prefix": "del ",
     "library": "var_list.py",
     "varRefreshCmd": "print(var_dic_list())"
    },
    "r": {
     "delete_cmd_postfix": ") ",
     "delete_cmd_prefix": "rm(",
     "library": "var_list.r",
     "varRefreshCmd": "cat(var_dic_list()) "
    }
   },
   "types_to_exclude": [
    "module",
    "function",
    "builtin_function_or_method",
    "instance",
    "_Feature"
   ],
   "window_display": false
  }
 },
 "nbformat": 4,
 "nbformat_minor": 2
}
