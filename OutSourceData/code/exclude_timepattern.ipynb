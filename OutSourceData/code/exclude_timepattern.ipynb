{
 "cells": [
  {
   "cell_type": "code",
   "execution_count": 55,
   "metadata": {
    "ExecuteTime": {
     "end_time": "2018-06-21T18:00:48.848918Z",
     "start_time": "2018-06-21T18:00:48.841956Z"
    }
   },
   "outputs": [],
   "source": [
    "import sys\n",
    "tpattern_path = '../../MLModel/code/TimePattern/'\n",
    "sys.path.append(tpattern_path)\n",
    "from  time_regx_recognize import time_entity_recognize\n",
    "import re\n",
    "import pandas as pd\n",
    "import numpy as np"
   ]
  },
  {
   "cell_type": "code",
   "execution_count": 56,
   "metadata": {
    "ExecuteTime": {
     "end_time": "2018-06-21T18:00:49.246435Z",
     "start_time": "2018-06-21T18:00:49.240635Z"
    }
   },
   "outputs": [],
   "source": [
    "reself = time_entity_recognize(tpattern_path + 'time_words')\n",
    "pattern_words = reself.pattern_words + '|\\d{1,2}月\\d{1,2}[日号]'"
   ]
  },
  {
   "cell_type": "code",
   "execution_count": 58,
   "metadata": {
    "ExecuteTime": {
     "end_time": "2018-06-21T18:00:51.399225Z",
     "start_time": "2018-06-21T18:00:51.388478Z"
    }
   },
   "outputs": [
    {
     "data": {
      "text/plain": [
       "[]"
      ]
     },
     "execution_count": 58,
     "metadata": {},
     "output_type": "execute_result"
    }
   ],
   "source": [
    "string_input='那我会按照分期按时还款的'\n",
    "re.findall(pattern_words, string_input)"
   ]
  },
  {
   "cell_type": "code",
   "execution_count": 73,
   "metadata": {
    "ExecuteTime": {
     "end_time": "2018-06-21T18:14:25.337489Z",
     "start_time": "2018-06-21T18:14:25.326564Z"
    }
   },
   "outputs": [],
   "source": [
    "def exclude(df, labels):\n",
    "    exclude_list = []\n",
    "    for each in labels:\n",
    "        dff = df[df.label == each]\n",
    "        judge_contain_p = list(dff[dff.split_text.apply(containingTime)].index.values)\n",
    "        exclude_list.extend(judge_contain_p)\n",
    "    not_contain_list = list(set(range(len(df))) - set(exclude_list))\n",
    "    return df.iloc[not_contain_list], df.iloc[exclude_list]"
   ]
  },
  {
   "cell_type": "code",
   "execution_count": 79,
   "metadata": {
    "ExecuteTime": {
     "end_time": "2018-06-21T18:24:21.926178Z",
     "start_time": "2018-06-21T18:24:21.848439Z"
    }
   },
   "outputs": [],
   "source": [
    "def containingTime(x):\n",
    "    finds = re.findall(pattern_words, x)\n",
    "    if len(finds) > 0:\n",
    "        return True\n",
    "    else:\n",
    "        return False\n",
    "\n",
    "\n",
    "\n",
    "\n",
    "process_list = ['WillingToPay', 'SetDueDay', 'CutDebt', 'Installment']\n",
    "df_dict = {}\n",
    "for each in process_list:\n",
    "    df_dict[each] = pd.read_csv('../../MLModel/data/{}/mock_up_data_old.csv'.format(each), encoding='utf-8')\n",
    "    if each == 'WillingToPay':\n",
    "        labels = [0,1,2]\n",
    "    else:\n",
    "        labels = [0,1]\n",
    "    df_pure, df_exc = exclude(df_dict[each], labels)\n",
    "    df_pure.to_csv('../../MLModel/data/{}/mock_up_data1.csv'.format(each), encoding='utf-8', index=False)\n",
    "    df_exc.to_csv('../../MLModel/data/{}/mock_up_data_exludes.csv'.format(each), encoding='utf-8', index=False)\n"
   ]
  },
  {
   "cell_type": "code",
   "execution_count": null,
   "metadata": {
    "collapsed": true
   },
   "outputs": [],
   "source": []
  }
 ],
 "metadata": {
  "kernelspec": {
   "display_name": "Python 3",
   "language": "python",
   "name": "python3"
  },
  "language_info": {
   "codemirror_mode": {
    "name": "ipython",
    "version": 3
   },
   "file_extension": ".py",
   "mimetype": "text/x-python",
   "name": "python",
   "nbconvert_exporter": "python",
   "pygments_lexer": "ipython3",
   "version": "3.6.3"
  },
  "varInspector": {
   "cols": {
    "lenName": 16,
    "lenType": 16,
    "lenVar": 40
   },
   "kernels_config": {
    "python": {
     "delete_cmd_postfix": "",
     "delete_cmd_prefix": "del ",
     "library": "var_list.py",
     "varRefreshCmd": "print(var_dic_list())"
    },
    "r": {
     "delete_cmd_postfix": ") ",
     "delete_cmd_prefix": "rm(",
     "library": "var_list.r",
     "varRefreshCmd": "cat(var_dic_list()) "
    }
   },
   "types_to_exclude": [
    "module",
    "function",
    "builtin_function_or_method",
    "instance",
    "_Feature"
   ],
   "window_display": false
  }
 },
 "nbformat": 4,
 "nbformat_minor": 2
}
