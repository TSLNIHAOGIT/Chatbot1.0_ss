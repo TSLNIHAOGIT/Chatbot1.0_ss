{
 "cells": [
  {
   "cell_type": "code",
   "execution_count": 1,
   "metadata": {
    "ExecuteTime": {
     "end_time": "2018-08-20T15:57:38.702704Z",
     "start_time": "2018-08-20T15:57:38.069838Z"
    }
   },
   "outputs": [],
   "source": [
    "import sys,os\n",
    "loader_path = '../../classifier/loader/'\n",
    "sys.path.append(loader_path)\n",
    "from loader import load_all"
   ]
  },
  {
   "cell_type": "code",
   "execution_count": 2,
   "metadata": {
    "ExecuteTime": {
     "end_time": "2018-08-20T15:57:40.561656Z",
     "start_time": "2018-08-20T15:57:39.370975Z"
    }
   },
   "outputs": [
    {
     "name": "stderr",
     "output_type": "stream",
     "text": [
      "2018-08-20 15:57:39,827 - INFO - CLASS:load_all- METHOD:load_all -LINE:34 - MSG:IDClassifier has been load!\n",
      "2018-08-20 15:57:39,828 - INFO - CLASS:load_all- METHOD:load_all -LINE:39 - MSG:IDClassifier does not require time zone!\n",
      "2018-08-20 15:57:40,070 - INFO - CLASS:load_all- METHOD:load_all -LINE:34 - MSG:CutDebt has been load!\n",
      "2018-08-20 15:57:40,072 - INFO - CLASS:load_all- METHOD:load_all -LINE:37 - MSG:CutDebt time zone is set to Asia/Shanghai\n",
      "2018-08-20 15:57:40,200 - INFO - CLASS:load_all- METHOD:load_all -LINE:34 - MSG:WillingToPay has been load!\n",
      "2018-08-20 15:57:40,202 - INFO - CLASS:load_all- METHOD:load_all -LINE:37 - MSG:WillingToPay time zone is set to Asia/Shanghai\n",
      "2018-08-20 15:57:40,278 - INFO - CLASS:load_all- METHOD:load_all -LINE:34 - MSG:IfKnowDebtor has been load!\n",
      "2018-08-20 15:57:40,280 - INFO - CLASS:load_all- METHOD:load_all -LINE:39 - MSG:IfKnowDebtor does not require time zone!\n",
      "2018-08-20 15:57:40,447 - INFO - CLASS:load_all- METHOD:load_all -LINE:34 - MSG:Installment has been load!\n",
      "2018-08-20 15:57:40,448 - INFO - CLASS:load_all- METHOD:load_all -LINE:37 - MSG:Installment time zone is set to Asia/Shanghai\n",
      "2018-08-20 15:57:40,535 - INFO - CLASS:load_all- METHOD:load_all -LINE:34 - MSG:ConfirmLoan has been load!\n",
      "2018-08-20 15:57:40,536 - INFO - CLASS:load_all- METHOD:load_all -LINE:37 - MSG:ConfirmLoan time zone is set to Asia/Shanghai\n"
     ]
    }
   ],
   "source": [
    "model_dict = load_all()"
   ]
  },
  {
   "cell_type": "code",
   "execution_count": 3,
   "metadata": {
    "ExecuteTime": {
     "end_time": "2018-08-20T15:57:41.670920Z",
     "start_time": "2018-08-20T15:57:41.649862Z"
    }
   },
   "outputs": [
    {
     "data": {
      "text/plain": [
       "{'IDClassifier': <ml.IDClassifier at 0x7fa130543898>,\n",
       " 'CutDebt': <ml.CutDebt at 0x7fa0f90e93c8>,\n",
       " 'WillingToPay': <ml.WillingToPay at 0x7fa105fde908>,\n",
       " 'IfKnowDebtor': <ml.IfKnowDebtor at 0x7fa0f8d69518>,\n",
       " 'Installment': <ml.Installment at 0x7fa0f8d2d518>,\n",
       " 'ConfirmLoan': <ml.ConfirmLoan at 0x7fa0f8265208>}"
      ]
     },
     "execution_count": 3,
     "metadata": {},
     "output_type": "execute_result"
    }
   ],
   "source": [
    "model_dict"
   ]
  },
  {
   "cell_type": "code",
   "execution_count": 4,
   "metadata": {
    "ExecuteTime": {
     "end_time": "2018-08-20T15:57:43.062138Z",
     "start_time": "2018-08-20T15:57:43.055173Z"
    }
   },
   "outputs": [],
   "source": [
    "idc = model_dict['IDClassifier']\n",
    "cutd = model_dict['CutDebt']\n",
    "wil = model_dict['WillingToPay']\n",
    "ifk = model_dict['IfKnowDebtor']\n",
    "ins = model_dict['Installment']\n",
    "conf = model_dict['ConfirmLoan']"
   ]
  },
  {
   "cell_type": "code",
   "execution_count": 14,
   "metadata": {
    "ExecuteTime": {
     "end_time": "2018-08-20T16:32:42.423707Z",
     "start_time": "2018-08-20T16:32:42.393940Z"
    }
   },
   "outputs": [
    {
     "data": {
      "text/plain": [
       "{'label': 0,\n",
       " 'av_pred': 0.9628442995233532,\n",
       " 'other_response': None,\n",
       " 'timeExtract': [{'pattern': '明天下午4点',\n",
       "   'time': datetime.datetime(2018, 8, 22, 16, 0, tzinfo=<DstTzInfo 'Asia/Shanghai' CST+8:00:00 STD>),\n",
       "   'gapS': 142037.603973,\n",
       "   'gapH': 39.4548899925}],\n",
       " 'ifAcceptCutDebt': 'y'}"
      ]
     },
     "execution_count": 14,
     "metadata": {},
     "output_type": "execute_result"
    }
   ],
   "source": [
    "cutd.classify('明天下午4点就还')"
   ]
  },
  {
   "cell_type": "code",
   "execution_count": 6,
   "metadata": {
    "ExecuteTime": {
     "end_time": "2018-08-20T03:24:47.661065Z",
     "start_time": "2018-08-20T03:24:47.633688Z"
    }
   },
   "outputs": [
    {
     "data": {
      "text/plain": [
       "{'label': 109,\n",
       " 'av_pred': 0.9654874291786708,\n",
       " 'other_response': 0.9398427592638986,\n",
       " 'ifDebtorAnswersing': 'null'}"
      ]
     },
     "execution_count": 6,
     "metadata": {},
     "output_type": "execute_result"
    }
   ],
   "source": [
    "idc.classify('你管我是不是')"
   ]
  },
  {
   "cell_type": "code",
   "execution_count": null,
   "metadata": {},
   "outputs": [],
   "source": []
  }
 ],
 "metadata": {
  "kernelspec": {
   "display_name": "Python 3",
   "language": "python",
   "name": "python3"
  },
  "language_info": {
   "codemirror_mode": {
    "name": "ipython",
    "version": 3
   },
   "file_extension": ".py",
   "mimetype": "text/x-python",
   "name": "python",
   "nbconvert_exporter": "python",
   "pygments_lexer": "ipython3",
   "version": "3.6.5"
  },
  "varInspector": {
   "cols": {
    "lenName": 16,
    "lenType": 16,
    "lenVar": 40
   },
   "kernels_config": {
    "python": {
     "delete_cmd_postfix": "",
     "delete_cmd_prefix": "del ",
     "library": "var_list.py",
     "varRefreshCmd": "print(var_dic_list())"
    },
    "r": {
     "delete_cmd_postfix": ") ",
     "delete_cmd_prefix": "rm(",
     "library": "var_list.r",
     "varRefreshCmd": "cat(var_dic_list()) "
    }
   },
   "types_to_exclude": [
    "module",
    "function",
    "builtin_function_or_method",
    "instance",
    "_Feature"
   ],
   "window_display": false
  }
 },
 "nbformat": 4,
 "nbformat_minor": 2
}
