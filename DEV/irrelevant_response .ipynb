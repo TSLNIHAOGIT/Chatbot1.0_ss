{
 "cells": [
  {
   "cell_type": "code",
   "execution_count": 2,
   "metadata": {
    "ExecuteTime": {
     "end_time": "2018-06-12T20:28:51.162210Z",
     "start_time": "2018-06-12T20:28:51.158728Z"
    },
    "collapsed": true
   },
   "outputs": [],
   "source": [
    "import pandas as pd\n",
    "import numpy as np"
   ]
  },
  {
   "cell_type": "code",
   "execution_count": 10,
   "metadata": {
    "ExecuteTime": {
     "end_time": "2018-06-12T20:31:01.968590Z",
     "start_time": "2018-06-12T20:31:01.963604Z"
    },
    "collapsed": true
   },
   "outputs": [],
   "source": [
    "df_CutDebt = pd.read_csv('../MLModel/data/CutDebt/mock_up_data.csv')\n",
    "df_IDClassifier = pd.read_csv('../MLModel/data/IDClassifier/mock_up_data.csv')\n",
    "df_IfKnowDebtor = pd.read_csv('../MLModel/data/IfKnowDebtor/mock_up_data.csv')\n",
    "df_Installment = pd.read_csv('../MLModel/data/Installment/mock_up_data.csv')\n",
    "df_SetDueDay = pd.read_csv('../MLModel/data/SetDueDay/mock_up_data.csv')\n",
    "df_WillingToPay = pd.read_csv('../MLModel/data/WillingToPay/mock_up_data.csv')"
   ]
  },
  {
   "cell_type": "code",
   "execution_count": 9,
   "metadata": {
    "ExecuteTime": {
     "end_time": "2018-06-12T20:30:35.536680Z",
     "start_time": "2018-06-12T20:30:35.530369Z"
    }
   },
   "outputs": [
    {
     "data": {
      "text/plain": [
       "array(['今天 天气 不错', '手机 信号 不好', '我 听不清', '你 在 说 什么', '风声 太大 了',\n",
       "       '有 电流音 我 听不清', '你 说 什么', '你 再说 一次', '信号 不好 我 听不清', '你 打错 了',\n",
       "       '我 在 开车 一会 再说', '我在 开会 一会 再说', '我 现在 没空 你 改天 再打 吧'], dtype=object)"
      ]
     },
     "execution_count": 9,
     "metadata": {},
     "output_type": "execute_result"
    }
   ],
   "source": [
    "df[df.label==2].split_text.values"
   ]
  },
  {
   "cell_type": "code",
   "execution_count": null,
   "metadata": {
    "collapsed": true
   },
   "outputs": [],
   "source": []
  }
 ],
 "metadata": {
  "kernelspec": {
   "display_name": "Python 3",
   "language": "python",
   "name": "python3"
  },
  "language_info": {
   "codemirror_mode": {
    "name": "ipython",
    "version": 3
   },
   "file_extension": ".py",
   "mimetype": "text/x-python",
   "name": "python",
   "nbconvert_exporter": "python",
   "pygments_lexer": "ipython3",
   "version": "3.6.3"
  },
  "varInspector": {
   "cols": {
    "lenName": 16,
    "lenType": 16,
    "lenVar": 40
   },
   "kernels_config": {
    "python": {
     "delete_cmd_postfix": "",
     "delete_cmd_prefix": "del ",
     "library": "var_list.py",
     "varRefreshCmd": "print(var_dic_list())"
    },
    "r": {
     "delete_cmd_postfix": ") ",
     "delete_cmd_prefix": "rm(",
     "library": "var_list.r",
     "varRefreshCmd": "cat(var_dic_list()) "
    }
   },
   "types_to_exclude": [
    "module",
    "function",
    "builtin_function_or_method",
    "instance",
    "_Feature"
   ],
   "window_display": false
  }
 },
 "nbformat": 4,
 "nbformat_minor": 2
}
