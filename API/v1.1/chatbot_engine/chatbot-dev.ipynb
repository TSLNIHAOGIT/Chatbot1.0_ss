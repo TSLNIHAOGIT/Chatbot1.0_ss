{
 "cells": [
  {
   "cell_type": "code",
   "execution_count": 1,
   "metadata": {
    "ExecuteTime": {
     "end_time": "2018-06-22T04:50:28.690989Z",
     "start_time": "2018-06-22T04:50:28.243493Z"
    },
    "collapsed": true
   },
   "outputs": [],
   "source": [
    "\n",
    "import pickle\n",
    "import sys\n",
    "\n",
    "from flask import Flask, request\n",
    "from flask_restful import Resource, Api\n",
    "from json import dumps\n",
    "# from flask.ext.jsonpify import jsonify\n",
    "from flask_jsonpify import jsonify\n",
    "import pandas as pd\n",
    "import numpy as np\n",
    "import json\n",
    "import gc\n",
    "\n",
    "import time\n",
    "import atexit\n",
    "\n",
    "from apscheduler.schedulers.background import BackgroundScheduler\n",
    "from apscheduler.triggers.interval import IntervalTrigger\n"
   ]
  },
  {
   "cell_type": "markdown",
   "metadata": {
    "ExecuteTime": {
     "end_time": "2018-06-13T18:51:47.221900Z",
     "start_time": "2018-06-13T18:51:47.213910Z"
    }
   },
   "source": [
    "# Load Each Model"
   ]
  },
  {
   "cell_type": "code",
   "execution_count": 2,
   "metadata": {
    "ExecuteTime": {
     "end_time": "2018-06-22T04:50:31.506288Z",
     "start_time": "2018-06-22T04:50:29.955774Z"
    },
    "collapsed": true
   },
   "outputs": [],
   "source": [
    "models_list = ['IDClassifier','CutDebt','IfKnowDebtor','WillingToPay','Installment','SetDueDay']\n",
    "modelpy_path = '../../../../Chatbot1.0/MLModel/code/{}/'\n",
    "savedModel_path = '../../../../Chatbot1.0/MLModel/savedModel/{}/{}.pickle'\n",
    "model_dict = {}\n",
    "for each_model in models_list:\n",
    "    sys.path.append(modelpy_path.format(each_model))\n",
    "    model_dict[each_model] = pickle.load(open(savedModel_path.format(each_model,each_model), 'rb'))"
   ]
  },
  {
   "cell_type": "code",
   "execution_count": 3,
   "metadata": {
    "ExecuteTime": {
     "end_time": "2018-06-22T04:50:32.180062Z",
     "start_time": "2018-06-22T04:50:32.164047Z"
    }
   },
   "outputs": [
    {
     "name": "stdout",
     "output_type": "stream",
     "text": [
      "In collected Vacabulary\n"
     ]
    },
    {
     "data": {
      "text/plain": [
       "(4, [4, 1.0])"
      ]
     },
     "execution_count": 3,
     "metadata": {},
     "output_type": "execute_result"
    }
   ],
   "source": [
    "model_dict['WillingToPay'].classify('明天就还')"
   ]
  },
  {
   "cell_type": "code",
   "execution_count": 4,
   "metadata": {
    "ExecuteTime": {
     "end_time": "2018-06-22T04:50:33.617563Z",
     "start_time": "2018-06-22T04:50:33.540638Z"
    }
   },
   "outputs": [
    {
     "name": "stdout",
     "output_type": "stream",
     "text": [
      "ml load successfully -- SetDueDay\n",
      "ml load successfully -- SetDueDay\n",
      "ml load successfully -- SetDueDay\n"
     ]
    }
   ],
   "source": [
    "import pickle\n",
    "\n",
    "class ClassifierBase:\n",
    "    def load_model(self, **model_path):\n",
    "        print('ml load successfully -- {}'.format(each_model))\n",
    "            \n",
    "            \n",
    "####### classifier 0\n",
    "####### InitClassifier\n",
    "\n",
    "class InitClassifier(ClassifierBase):\n",
    "    def __init__(self, **model_path):\n",
    "        self.load_model(**model_path)\n",
    "        self.description = 'This model is used to initialize conversation'\n",
    "        self.label_explain = {0: 'next'}\n",
    "        \n",
    "    \n",
    "            \n",
    "            \n",
    "    def classify(self,sentence):\n",
    "        \"\"\"\n",
    "        0 - next\n",
    "        \"\"\"\n",
    "        \n",
    "        return (0, 1)\n",
    "    \n",
    "    \n",
    "class ConfirmLoan(ClassifierBase):\n",
    "    def __init__(self, **model_path):\n",
    "        self.load_model(**model_path)\n",
    "        self.description = 'This model is used to initialize conversation'\n",
    "        self.label_explain = {0: 'next'}\n",
    "        \n",
    "    \n",
    "            \n",
    "            \n",
    "    def classify(self,sentence):\n",
    "        \"\"\"\n",
    "        0 - next\n",
    "        \"\"\"\n",
    "        \n",
    "        return (0, 1)\n",
    "\n",
    "    \n",
    "####### classifier 0\n",
    "####### InitClassifier\n",
    "\n",
    "class OtherClassifier(ClassifierBase):\n",
    "    def __init__(self, **model_path):\n",
    "        self.load_model(**model_path)\n",
    "        self.description = 'This model is used to handle irrelavant logic'\n",
    "        self.label_explain = {0: 'next'}\n",
    "        \n",
    "    \n",
    "            \n",
    "            \n",
    "    def classify(self,sentence):\n",
    "        \"\"\"\n",
    "        0 - next\n",
    "        \"\"\"\n",
    "        \n",
    "        return (0, 1)\n",
    "    \n",
    "class StopClassifier(ClassifierBase):\n",
    "    def __init__(self, **model_path):\n",
    "        self.load_model(**model_path)\n",
    "        self.description = 'This model is used to handle stop logic'\n",
    "        self.label_explain = {0: 'stop'}\n",
    "        \n",
    "    \n",
    "            \n",
    "            \n",
    "    def classify(self,sentence):\n",
    "        \"\"\"\n",
    "        0 - next\n",
    "        \"\"\"\n",
    "        \n",
    "        return (0, 1)\n",
    "\n",
    "\n",
    "model_dict['OtherClassifier'] = OtherClassifier()\n",
    "model_dict['StopClassifier'] = StopClassifier()\n",
    "model_dict['InitClassifier'] = InitClassifier()\n",
    "model_dict['ConfirmLoan'] = ConfirmLoan()"
   ]
  },
  {
   "cell_type": "code",
   "execution_count": 5,
   "metadata": {
    "ExecuteTime": {
     "end_time": "2018-06-22T04:50:36.168234Z",
     "start_time": "2018-06-22T04:50:35.016867Z"
    },
    "collapsed": true
   },
   "outputs": [],
   "source": [
    "\n",
    "\n",
    "\n",
    "class Node:\n",
    "    def __init__(self, node_name):\n",
    "        self.name = node_name\n",
    "        self.entry_counter = 0\n",
    "        print('{} is initialized'.format(node_name))\n",
    "        \n",
    "        \n",
    "    def summary(self):\n",
    "        return {'node_name': self.name, \n",
    "                'description':self.describe, \n",
    "                'class_name':self.__class__.__name__, \n",
    "                'model': self.model_name}\n",
    "    \n",
    "    \n",
    "    def get_response(self,parent_label=None):\n",
    "        self.entry_counter += 1 \n",
    "        return self.response\n",
    "    \n",
    "    def process(self, sentence, model_dict):\n",
    "        model = model_dict[self.model_name]\n",
    "        _label, _confidence = model.classify(sentence)\n",
    "        self.output_label = _label\n",
    "        self.output_confidence = _confidence\n",
    "        return _label, _confidence\n",
    "\n",
    "        \n",
    "        \n",
    "\n",
    "        \n",
    "###################### Node 0  #########################\n",
    "\n",
    "    \n",
    "class S1_N0(Node):\n",
    "    def __init__(self):\n",
    "        super().__init__('s0')\n",
    "        self.describe = 'Init node'\n",
    "        self.model_name = 'InitClassifier'\n",
    "        self.response = 'S0 initialize'\n",
    "\n",
    "        \n",
    "###################### Node 1  #########################\n",
    "class S1_N1(Node):\n",
    "    def __init__(self):\n",
    "        super().__init__('cf_s1_n1_identity_q')\n",
    "        self.describe = 'Verify Identify'\n",
    "        self.model_name = 'IDClassifier'\n",
    "        self.response = '你好，这里是H催收公司，请问是罗巍先生吗？'\n",
    "        \n",
    "        \n",
    "###################### Node 1  #########################\n",
    "class S1_N2(Node):\n",
    "    def __init__(self):\n",
    "        super().__init__('cf_s1_n2_confirmLoan_q')\n",
    "        self.describe = 'Verify Identify'\n",
    "        self.model_name = 'ConfirmLoan'\n",
    "        self.response = '你好，我是H催收公司的客服小催。关于您逾期欠款的事情，我这边需要做一个备案调查。当时为什么这个款没有还呢？'\n",
    "                \n",
    "\n",
    "                \n",
    "#######################  Node 2  #############################        \n",
    "class S1_N5(Node):\n",
    "    def __init__(self):\n",
    "        super().__init__('cf_s1_n5_ifAcquainted_q')\n",
    "        self.describe = 'Ask if know debtor'\n",
    "        self.model_name = 'IfKnowDebtor'\n",
    "        self.response = '不好意思，打扰了，请问您认识罗先生吗！'\n",
    "        \n",
    "        \n",
    "##########################  Node 3  ##########################        \n",
    "class S1_N15(Node):\n",
    "    def __init__(self):\n",
    "        super().__init__('cf_s1_n15_verifyWill_q')\n",
    "        self.describe = 'Verify willing to pay'\n",
    "        self.model_name = 'WillingToPay'\n",
    "        self.response = '您之前借贷了5万块钱，截至今天已经逾期47天，逾期总欠款5万2千块钱，其中利息1500，滞纳金500块。逸能公司已经对您进行了多次催促，但是您依旧没有按时偿还所欠款项。现在我们正式对您下达通知，要求您在明天下午3点之前还清所有欠款。'\n",
    "        \n",
    "    def get_response(self,_label=None):\n",
    "        self.entry_counter += 1 \n",
    "        print('label received is {}'.format(_label))\n",
    "        if _label == 1:\n",
    "            self.response_1 = '赖账你是赖不掉的，目前我们公司已经派专员处理了，你现在必须告诉我什么时候还！'\n",
    "            return self.response_1\n",
    "        elif _label == 5:\n",
    "            self.response_2 = '你这含含糊糊到底是哪天还？'\n",
    "            self.entry_counter -= 1\n",
    "            return self.response_2\n",
    "        return self.response\n",
    "       \n",
    "\n",
    "    \n",
    "#########################  Node 5  ###########################        \n",
    "class S1_N20(Node):\n",
    "    def __init__(self):\n",
    "        super().__init__('cf_s1_n20_q4_setDue3Day')\n",
    "        self.describe = 'ask if can pay very soon'\n",
    "        self.model_name = 'SetDueDay'\n",
    "        self.response = '请问您能在3天之内还款吗？'\n",
    "        \n",
    "            \n",
    "    \n",
    "        \n",
    "        \n",
    "\n",
    "#########################  Node 7  ###########################        \n",
    "class S1_N25(Node):\n",
    "    def __init__(self):\n",
    "        super().__init__('cf_s1_n25_cutDebt_q')\n",
    "        self.describe = 'ask if accept less amount'\n",
    "        self.model_name = 'CutDebt'\n",
    "        self.response = '额... 如果是这样的话您看我帮您把金额减免一定程度可以吗？ 如果今天还，我帮您把利息1500全部剪掉，您只用还本金1万2。这是我能做大的最大程度了！'\n",
    "        \n",
    "        \n",
    "                \n",
    "        \n",
    "#########################  Node 8  ###########################        \n",
    "class S1_N32(Node):\n",
    "    def __init__(self):\n",
    "        super().__init__('cf_s1_n32_splitDebt_q')\n",
    "        self.describe = 'ask if accept installment'\n",
    "        self.model_name = 'Installment'\n",
    "        self.response = '那么您看这样行吗？ 您今天先还30%，也就是3600块钱，剩下的我为您申请下延期，但剩下的最晚需要在1个月内还清。您看可以吗？'\n",
    "        \n",
    "        \n",
    "      \n",
    "       \n",
    "#########################  Node 9  ###########################        \n",
    "class S1_N33(Node):\n",
    "    def __init__(self):\n",
    "        super().__init__('cf_s1_n33_setDue3Day')\n",
    "        self.describe = 'ask if can pay very soon'\n",
    "        self.model_name = 'SetDueDay'\n",
    "        self.response = '请问您能在3天之内还款吗？'\n",
    "        \n",
    "  \n",
    "        \n",
    "#########################  Node 10  ###########################        \n",
    "class S1_N41(Node):\n",
    "    def __init__(self):\n",
    "        super().__init__('cf_s1_n41_setSplitDebtDue_q')\n",
    "        self.describe = 'ask if can pay very soon'\n",
    "        self.model_name = 'SetDueDay'\n",
    "        self.response = '请问您能在3天之内还款吗？'\n",
    "        \n",
    "\n",
    "        \n",
    "        \n",
    "        \n",
    "\n",
    "        \n",
    "#########################  Node Other ########################\n",
    "class NodeOther(Node):\n",
    "    def __init__(self,node_name=None):\n",
    "        super().__init__(node_name)\n",
    "        self.describe = 'other logic'\n",
    "        self.model_name = 'OtherClassifier'\n",
    "        self.response = '不好意思先生，您的回答我不太理解，请重复'\n",
    "        \n",
    "        \n",
    "class S1_N3(NodeOther):\n",
    "    def __init__(self):\n",
    "        super().__init__('cf_s1_n3_confirmLoan_a_misc')\n",
    "        \n",
    "\n",
    "class S1_N4(NodeOther):\n",
    "    def __init__(self):\n",
    "        super().__init__('cf_s1_n4_identity_a_misc')\n",
    "\n",
    "        \n",
    "class S1_N7(NodeOther):\n",
    "    def __init__(self):\n",
    "        super().__init__('cf_s1_n7_ifAcquainted_a_misc')   \n",
    "\n",
    "        \n",
    "class S1_N19(NodeOther):\n",
    "    def __init__(self):\n",
    "        super().__init__('cf_s1_n19_verifyWill_a_misc')\n",
    "        \n",
    "    \n",
    "class S1_N24(NodeOther):\n",
    "    def __init__(self):\n",
    "        super().__init__('cf_s1_n24_setDue_a_misc')\n",
    "        \n",
    "        \n",
    "class S1_N30(NodeOther):\n",
    "    def __init__(self):\n",
    "        super().__init__('cf_s1_n30_cutDebt_a_misc')\n",
    "        \n",
    "\n",
    "class S1_N40(NodeOther):\n",
    "    def __init__(self):\n",
    "        super().__init__('cf_s1_n40_setCutDebtDue_a_misc')\n",
    "        \n",
    "    \n",
    "class S1_N35(NodeOther):\n",
    "    def __init__(self):\n",
    "        super().__init__('cf_s1_n35_splitDebt_a_misc')\n",
    "        \n",
    "        \n",
    "class S1_N44(NodeOther):\n",
    "    def __init__(self):\n",
    "        super().__init__('cf_s1_n44_setSplitDebtDue_a_misc')\n",
    "        \n",
    "        \n",
    "        \n",
    "############################## STOP NODE ########################\n",
    "class NodeStop(Node):\n",
    "    def __init__(self, node_name):\n",
    "        super().__init__(node_name)\n",
    "        self.model_name = 'StopClassifier'\n",
    "\n",
    "\n",
    "\n",
    "class S1_N101(NodeStop):\n",
    "    def __init__(self):\n",
    "        super().__init__('cf_s1_n101_ifAcquainted_s')\n",
    "        self.describe = 'inform phone recipient'\n",
    "        self.response = '请您告诉xxx先生，请他尽快联系H催收公司，感谢您的配合，再见！'\n",
    "\n",
    "        \n",
    "        \n",
    "class S1_N102(NodeStop):\n",
    "    def __init__(self):\n",
    "        super().__init__('cf_s1_n102_ifAcquainted_s')\n",
    "        self.describe = 'do not know debtor'\n",
    "        self.response = '十分抱歉，打扰到您。感谢您的配合，再见！'\n",
    "    \n",
    " \n",
    "        \n",
    "class S1_N103(NodeStop):\n",
    "    def __init__(self):\n",
    "        super().__init__('cf_s1_n103_paymentChannel_s')\n",
    "        self.describe = 'notify methods of paying'\n",
    "        self.response = '感谢您的配合。您可以使用APP或者银行转账的方式进行还款，还请将还款截图发至微信hwchat！'\n",
    "    \n",
    "\n",
    "        \n",
    "class S1_N104(NodeStop):\n",
    "    def __init__(self):\n",
    "        super().__init__('cf_s1_n104_paymentChannel_s')\n",
    "        self.describe = 'notify methods of paying'\n",
    "        self.response = '感谢您的配合。您可以使用APP或者银行转账的方式进行还款，还请将还款截图发至微信hwchat！'\n",
    "    \n",
    "        \n",
    "class S1_N105(NodeStop):\n",
    "    def __init__(self):\n",
    "        super().__init__('cf_s1_n105_noResult_s')\n",
    "        self.describe = 'no result'\n",
    "        self.response = '您这也不行，那也不行！我们会近期再与您联系，到时候会是更强势的催收人员了！再见！'\n",
    "        \n",
    "    \n",
    "\n",
    "class S1_N106(NodeStop):\n",
    "    def __init__(self):\n",
    "        super().__init__('cf_s1_n106_paymentChannel_s')\n",
    "        self.describe = 'notify methods of paying'\n",
    "        self.response = '感谢您的配合。您可以使用APP或者银行转账的方式进行还款，还请将还款截图发至微信hwchat！'\n",
    "        \n",
    "        \n",
    "class S1_N107(NodeStop):\n",
    "    def __init__(self):\n",
    "        super().__init__('cf_s1_n107_noResult_s')\n",
    "        self.describe = 'no result'\n",
    "        self.response = '您这也不行，那也不行！我们会近期再与您联系，到时候会是更强势的催收人员了！再见！'\n",
    "        \n",
    "        \n",
    "class S1_N108(NodeStop):\n",
    "    def __init__(self):\n",
    "        super().__init__('cf_s1_n108_noResult_s')\n",
    "        self.describe = 'no result'\n",
    "        self.response = '您欠钱不还是不合法的，我们将会用法律手段冻结您的财产，直到您还钱为止！再见！'\n",
    "        \n",
    "        \n",
    "    \n",
    "########################################################################################################################\n",
    "######################################### Tree #########################################################################\n",
    "######################################### Tree #########################################################################\n",
    "######################################### Tree #########################################################################\n",
    "######################################### Tree #########################################################################\n",
    "######################################### Tree #########################################################################\n",
    "######################################### Tree #########################################################################\n",
    "######################################### Tree #########################################################################\n",
    "      \n",
    "        \n"
   ]
  },
  {
   "cell_type": "code",
   "execution_count": 6,
   "metadata": {
    "ExecuteTime": {
     "end_time": "2018-06-22T04:50:37.139980Z",
     "start_time": "2018-06-22T04:50:36.726657Z"
    },
    "collapsed": true
   },
   "outputs": [],
   "source": [
    "class TreeBase:\n",
    "    def __init__(self, start_node='s0', ):\n",
    "        self.current_node_name = start_node\n",
    "        self.fc_path = []\n",
    "        self.all_path = []\n",
    "        \n",
    "        \n",
    "    \n",
    "class TreeStage1(TreeBase):\n",
    "    def __init__(self, start_node='s0'):\n",
    "        super().__init__(start_node='s0')\n",
    "        self._build_node()\n",
    "        self._build_graph()\n",
    "        \n",
    "    def _build_node(self):\n",
    "        self.nodes = {\n",
    "        's0':S1_N0(),\n",
    "        'cf_s1_n1_identity_q':S1_N1(),\n",
    "        'cf_s1_n15_verifyWill_q':S1_N15(),\n",
    "        'cf_s1_n19_verifyWill_a_misc':S1_N19(),\n",
    "        'cf_s1_n101_ifAcquainted_s':S1_N101(),\n",
    "        'cf_s1_n102_ifAcquainted_s':S1_N102(),\n",
    "        'cf_s1_n103_paymentChannel_s':S1_N103(),\n",
    "        'cf_s1_n104_paymentChannel_s':S1_N104(),\n",
    "        'cf_s1_n105_noResult_s':S1_N105(),\n",
    "        'cf_s1_n106_paymentChannel_s':S1_N106(),\n",
    "        'cf_s1_n108_noResult_s':S1_N108(),\n",
    "        'cf_s1_n2_confirmLoan_q': S1_N2(),\n",
    "        'cf_s1_n25_cutDebt_q':S1_N25(),\n",
    "        'cf_s1_n3_confirmLoan_a_misc':S1_N3(),\n",
    "        'cf_s1_n32_splitDebt_q':S1_N32(),\n",
    "        'cf_s1_n35_splitDebt_a_misc':S1_N35(),\n",
    "        'cf_s1_n4_identity_a_misc':S1_N4(),\n",
    "        'cf_s1_n5_ifAcquainted_q':S1_N5(),\n",
    "        'cf_s1_n7_ifAcquainted_a_misc':S1_N7()} \n",
    "        \n",
    "    def _build_graph(self):\n",
    "        self.other = {'cf_s1_n4_identity_a_misc':{0:'cf_s1_n1_identity_q'},\n",
    "                      'cf_s1_n7_ifAcquainted_a_misc':{0:'cf_s1_n5_ifAcquainted_q'},\n",
    "                      'cf_s1_n19_verifyWill_a_misc':{0:'cf_s1_n15_verifyWill_q'},\n",
    "                      'cf_s1_n24_setDue_a_misc':{0:'cf_s1_n20_q4_setDue3Day'},\n",
    "                      'cf_s1_n30_cutDebt_a_misc':{0:'cf_s1_n25_cutDebt_q'},\n",
    "                      'cf_s1_n35_splitDebt_a_misc':{0:'cf_s1_n32_splitDebt_q'},\n",
    "                      'cf_s1_n40_setCutDebtDue_a_misc':{0:'cf_s1_n33_setDue3Day'},\n",
    "                      'cf_s1_n44_setSplitDebtDue_a_misc':{0:'cf_s1_n41_setSplitDebtDue_q'}}\n",
    "                      \n",
    "        self.connection = {'s0':{0:'cf_s1_n1_identity_q'}, \n",
    "                    'cf_s1_n1_identity_q':{0:'cf_s1_n15_verifyWill_q',\n",
    "                                        1:'cf_s1_n2_confirmLoan_q',\n",
    "                                        2:'cf_s1_n4_identity_a_misc'},\n",
    "                           'cf_s1_n2_confirmLoan_q':{0:'cf_s1_n15_veifyWill_q',\n",
    "                                                     1:'cf_s1_n2_confirmLoan_q'\n",
    "                                                     2:'c1_s1_n3_confirmLoan_a_misc'},\n",
    "                   \n",
    "                    'cf_s1_n5_ifAcquainted_q':{0:'cf_s1_n101_ifAcquainted_s',\n",
    "                                           1:'cf_s1_n102_ifAcquainted_s',\n",
    "                                           2:'cf_s1_n7_ifAcquainted_a_misc'},\n",
    "                    'cf_s1_n15_verifyWill_q':{0:'cf_s1_n103_paymentChannel_s',\n",
    "                                          1:'cf_s1_n15_verifyWill_q',\n",
    "                                          2:'cf_s1_n25_cutDebt_q',\n",
    "                                          3:'cf_s1_n19_verifyWill_a_misc',\n",
    "                                          4:'cf_s1_n15_verifyWill_q',\n",
    "                                          5:'cf_s1_n15_verifyWill_q',},\n",
    "                    'cf_s1_n25_cutDebt_q':{0:'cf_s1_n104_paymentChannel_s',\n",
    "                                       1:'cf_s1_n25_cutDebt_q',\n",
    "                                       2:'cf_s1_n30_cutDebt_a_misc',\n",
    "                                       3:'cf_s1_n25_cutDebt_q',\n",
    "                                       4:'cf_s1_n25_cutDebt_q',}, \n",
    "                    'cf_s1_n32_splitDebt_q':{0:'cf_s1_n106_paymentChannel_s',\n",
    "                                         1:'cf_s1_n32_splitDebt_q',\n",
    "                                         2:'cf_s1_n35_splitDebt_a_misc',\n",
    "                                         3:'cf_s1_n32_splitDebt_q',\n",
    "                                         4:'cf_s1_n32_splitDebt_q',}, \n",
    "                   \n",
    "                    'cf_s1_n41_setSplitDebtDue_q':{0:'cf_s1_n106_paymentChannel_s',\n",
    "                                               1:'cf_s1_n41_setSplitDebtDue_q',\n",
    "                                               2:'cf_s1_n44_setSplitDebtDue_a_misc'}\n",
    "                    }   \n",
    "        self.jump = {'cf_s1_n20_q4_setDue3Day':{1:'cf_s1_n25_cutDebt_q'},\n",
    "                      'cf_s1_n25_cutDebt_q':{1:'cf_s1_n32_splitDebt_q'},\n",
    "                      'cf_s1_n32_splitDebt_q':{1:'cf_s1_n105_noResult_s'},\n",
    "                      'cf_s1_n33_setDue3Day':{1:'cf_s1_n32_splitDebt_q'},\n",
    "                      'cf_s1_n41_setSplitDebtDue_q':{1:'cf_s1_n107_noResult_s'},\n",
    "                        'cf_s1_n15_verifyWill_q':{1:'cf_s1_n25_cutDebt_q'},\n",
    "                     'cf_s1_n2_confirmLoan_q':{1:'cf_s1_n108_noResult_s'}} \n",
    "        self.connection.update(self.other)\n",
    "        \n",
    "\n",
    "        \n",
    "    def _updates(self, _label):\n",
    "        \"\"\"\n",
    "        update fc_path, all_path, current_node_name\n",
    "        return current node, response\n",
    "        \"\"\"\n",
    "        node_before_update = self.nodes[self.current_node_name]\n",
    "        try:\n",
    "            self.current_node_name = self.connection[self.current_node_name].get(_label)\n",
    "        except KeyError:\n",
    "                return None,None\n",
    "        if self.current_node_name is None:\n",
    "                return None,None\n",
    "        node_after_update = self.nodes[self.current_node_name]\n",
    "        print('label is {}'.format(_label))\n",
    "        if node_after_update.model_name != 'OtherClassifier':\n",
    "            return node_after_update,node_after_update.get_response(_label) \n",
    "        # Other classifier\n",
    "        else:\n",
    "            # map other node to parent node\n",
    "            self.current_node_name = node_before_update.name\n",
    "            cur_node = self.nodes[self.current_node_name]\n",
    "            pre_node = node_after_update\n",
    "            return cur_node,pre_node.get_response(_label)\n",
    "        \n",
    "        \n",
    "       \n",
    "        \n",
    "    def _triger_jump(self):\n",
    "        cur_node = self.nodes[self.current_node_name]\n",
    "        jump = self.jump.get(self.current_node_name)\n",
    "        if jump is not None:\n",
    "            if cur_node.entry_counter >= 2:\n",
    "                self.connection[self.current_node_name].update(jump)\n",
    "                print('jump action is triggered')\n",
    "            \n",
    "    \n",
    "    def _get_parent_info(self):\n",
    "        if len(self.fc_path) > 0:\n",
    "            parent = self.fc_path[-1]\n",
    "            parent_node = list(parent.keys())[0]\n",
    "            parent_label = parent[parent_node]\n",
    "        else:\n",
    "            parent = None\n",
    "            parent_node = None\n",
    "            parent_label = None\n",
    "        return parent_node, parent_label\n",
    "        \n",
    "        \n",
    "    def process(self, sentence, model_dict):\n",
    "        current_node = self.nodes[self.current_node_name]\n",
    "        parent_node, parent_label = self._get_parent_info()\n",
    "        \n",
    "        \n",
    "        _label,_confidence = current_node.process(sentence, model_dict)\n",
    "        current_node, response = self._updates(_label)\n",
    "        print('Current node name: {}'.format(self.current_node_name))\n",
    "        print('predict label is {} and confidence is {}'.format(_label, _confidence))\n",
    "        #update jumper\n",
    "        self._triger_jump()\n",
    "        \n",
    "        # Get current node name\n",
    "        if current_node is None:\n",
    "            return 'end'\n",
    "        return response"
   ]
  },
  {
   "cell_type": "code",
   "execution_count": 7,
   "metadata": {
    "ExecuteTime": {
     "end_time": "2018-06-22T04:50:38.109927Z",
     "start_time": "2018-06-22T04:50:38.098377Z"
    }
   },
   "outputs": [
    {
     "name": "stdout",
     "output_type": "stream",
     "text": [
      "s0 is initialized\n",
      "cf_s1_n1_identity_q is initialized\n",
      "cf_s1_n15_verifyWill_q is initialized\n",
      "cf_s1_n19_verifyWill_a_misc is initialized\n",
      "cf_s1_n101_ifAcquainted_s is initialized\n",
      "cf_s1_n102_ifAcquainted_s is initialized\n",
      "cf_s1_n103_paymentChannel_s is initialized\n",
      "cf_s1_n104_paymentChannel_s is initialized\n",
      "cf_s1_n105_noResult_s is initialized\n",
      "cf_s1_n106_paymentChannel_s is initialized\n",
      "cf_s1_n107_noResult_s is initialized\n",
      "cf_s1_n20_q4_setDue3Day is initialized\n",
      "cf_s1_n24_setDue_a_misc is initialized\n",
      "cf_s1_n25_cutDebt_q is initialized\n",
      "cf_s1_n32_splitDebt_q is initialized\n",
      "cf_s1_n33_setDue3Day is initialized\n",
      "cf_s1_n35_splitDebt_a_misc is initialized\n",
      "cf_s1_n4_identity_a_misc is initialized\n",
      "cf_s1_n40_setCutDebtDue_a_misc is initialized\n",
      "cf_s1_n41_setSplitDebtDue_q is initialized\n",
      "cf_s1_n44_setSplitDebtDue_a_misc is initialized\n",
      "cf_s1_n5_ifAcquainted_q is initialized\n",
      "cf_s1_n7_ifAcquainted_a_misc is initialized\n"
     ]
    }
   ],
   "source": [
    "t = TreeStage1()\n"
   ]
  },
  {
   "cell_type": "code",
   "execution_count": 9,
   "metadata": {
    "ExecuteTime": {
     "end_time": "2018-06-22T04:50:47.846316Z",
     "start_time": "2018-06-22T04:50:46.714551Z"
    }
   },
   "outputs": [
    {
     "name": "stderr",
     "output_type": "stream",
     "text": [
      "Building prefix dict from the default dictionary ...\n",
      "Loading model from cache /tmp/jieba.cache\n",
      "Loading model cost 0.989 seconds.\n",
      "Prefix dict has been built succesfully.\n"
     ]
    },
    {
     "name": "stdout",
     "output_type": "stream",
     "text": [
      "label is 0\n",
      "label received is 0\n",
      "Current node name: cf_s1_n15_verifyWill_q\n",
      "predict label is 0 and confidence is [0, 0.99643909400672848]\n"
     ]
    },
    {
     "data": {
      "text/plain": [
       "'你好，我是H催收公司的客服小催，您之前借贷了H公司5万块钱，约定在2018年5月1日还清。您已还款3万2千块钱，但因逾期未还产生了相应的利息和延迟还款费用，现在一共需要还2万块钱，其中1.2万本金，1500利息，500延迟还款手续费用，请问您打算什么时候处理下呢？'"
      ]
     },
     "execution_count": 9,
     "metadata": {},
     "output_type": "execute_result"
    }
   ],
   "source": [
    "t.process('是的',model_dict)"
   ]
  },
  {
   "cell_type": "code",
   "execution_count": 82,
   "metadata": {
    "ExecuteTime": {
     "end_time": "2018-06-17T05:21:09.071927Z",
     "start_time": "2018-06-17T05:21:09.041375Z"
    }
   },
   "outputs": [
    {
     "name": "stdout",
     "output_type": "stream",
     "text": [
      "label is 3\n",
      "Current node name: cf_s1_n15_verifyWill_q\n",
      "predict label is 3 and confidence is [3, 0.32875421535963278]\n"
     ]
    },
    {
     "data": {
      "text/plain": [
       "'不好意思先生，您的回答我不太理解，请重复'"
      ]
     },
     "execution_count": 82,
     "metadata": {},
     "output_type": "execute_result"
    }
   ],
   "source": [
    "t.process('天气不错',model_dict)"
   ]
  },
  {
   "cell_type": "code",
   "execution_count": 51,
   "metadata": {
    "ExecuteTime": {
     "end_time": "2018-06-17T04:58:56.240652Z",
     "start_time": "2018-06-17T04:58:56.228862Z"
    }
   },
   "outputs": [
    {
     "name": "stdout",
     "output_type": "stream",
     "text": [
      "Current node name: cf_s1_n19_verifyWill_a_misc\n",
      "predict label is 0 and confidence is 1\n",
      "-----------------\n",
      "pre node is cf_s1_n19_verifyWill_a_misc\n",
      "cur node is cf_s1_n15_verifyWill_q\n"
     ]
    },
    {
     "data": {
      "text/plain": [
       "'不好意思先生，您的回答我不太理解，请重复'"
      ]
     },
     "execution_count": 51,
     "metadata": {},
     "output_type": "execute_result"
    }
   ],
   "source": [
    "t.process('现在没钱',model_dict)"
   ]
  },
  {
   "cell_type": "code",
   "execution_count": 16,
   "metadata": {
    "ExecuteTime": {
     "end_time": "2018-06-19T20:29:36.282324Z",
     "start_time": "2018-06-19T20:29:36.129236Z"
    }
   },
   "outputs": [
    {
     "data": {
      "text/plain": [
       "<function __main__.<lambda>>"
      ]
     },
     "execution_count": 16,
     "metadata": {},
     "output_type": "execute_result"
    }
   ],
   "source": [
    "app = Flask(__name__)\n",
    "api = Api(app)\n",
    "\n",
    "# class ChatBot(Resource):\n",
    "#     def get(self):\n",
    "#         args = request.args\n",
    "#         try:\n",
    "#             return {'Chatbot': 'Hellow World! ' + args.get('data')}\n",
    "#         except Exception as e:\n",
    "#             print(e)\n",
    "#             return {'Chatbot': 'Hellow World! ' }\n",
    "    \n",
    "class Cache:\n",
    "    def __init__(self):\n",
    "        self.session_pool = []\n",
    "        self.active_session = {}\n",
    "        self.session_timer = {}\n",
    "        \n",
    "        \n",
    "    def create_session(self, stage=1):\n",
    "        available = list(set(range(1000)) - set(list(self.active_session.keys())))\n",
    "        if len(available) > 0:\n",
    "            sessionId = available[0]\n",
    "            if stage == 1:\n",
    "                self.active_session[sessionId] = TreeStage1()\n",
    "                self.session_timer[sessionId] = time.time()\n",
    "        else:\n",
    "            sessionId = None\n",
    "        return sessionId\n",
    "    \n",
    "    \n",
    "    def purge_inactive(self):\n",
    "        sec=500\n",
    "        current = time.time()\n",
    "        inactive_list = []\n",
    "        for each in self.session_timer:\n",
    "            if current - self.session_timer[each] > sec:\n",
    "                print('{} session is inactive, will be removed!'.format(each))\n",
    "                inactive_list.append(each)\n",
    "        for key in inactive_list:\n",
    "            try:\n",
    "                del self.active_session[key]\n",
    "            except KeyError:\n",
    "                pass\n",
    "            try:\n",
    "                del self.session_timer[key]\n",
    "            except KeyError:\n",
    "                pass\n",
    "            print('{} is removed'.format(key))\n",
    "        gc.collect()\n",
    "    \n",
    "   \n",
    "        \n",
    "class ChatBotV1(Resource):\n",
    "    \n",
    "\n",
    "    \n",
    "    \n",
    "    def get(self):\n",
    "        args = request.args\n",
    "        action = args.get('action')\n",
    "        if action == 'create':\n",
    "            sessionId = cache.create_session()\n",
    "            return {'message': {'sessionId':sessionId}, \n",
    "                    'status': 'successful'}\n",
    "        elif action == 'chat':\n",
    "            sessionId = args.get('sessionId')\n",
    "            try:\n",
    "                s = cache.active_session[int(sessionId)]\n",
    "            except KeyError:\n",
    "                return {'message': 'unknown session Id or session expired. Requested Session id is {}'.format(sessionId), 'status': 'failed'}\n",
    "            data = args.get('data')\n",
    "            cache.session_timer[sessionId] = time.time()\n",
    "            message = s.process(data, model_dict)\n",
    "            if message == 'end':\n",
    "                del cache.active_session[int(sessionId)]\n",
    "                del cache.session_timer[int(sessionId)]\n",
    "                gc.collect()\n",
    "                return {'message': 'session end. Please start a new conversation','status': 'successful'}\n",
    "            \n",
    "            return {'message': message, \n",
    "                    'status': 'successful'}\n",
    "        else:\n",
    "            return {'message': 'Unknown Action! Received {} action'.format(action),\n",
    "                    'status': 'failed'}\n",
    "        \n",
    "        \n",
    "        \n",
    "            \n",
    "        \n",
    "        \n",
    "api.add_resource(ChatBotV1, '/chatbotv1')\n",
    "cache = Cache()\n",
    "\n",
    "\n",
    "\n",
    "\n",
    "scheduler = BackgroundScheduler()\n",
    "scheduler.start()\n",
    "scheduler.add_job(\n",
    "    func=cache.purge_inactive,\n",
    "    trigger=IntervalTrigger(seconds=10),\n",
    "    id='printing_job',\n",
    "    name='Print date and time every five seconds',\n",
    "    replace_existing=True)\n",
    "# Shut down the scheduler when exiting the app\n",
    "atexit.register(lambda: scheduler.shutdown())"
   ]
  },
  {
   "cell_type": "code",
   "execution_count": 17,
   "metadata": {
    "ExecuteTime": {
     "end_time": "2018-06-19T20:31:03.752379Z",
     "start_time": "2018-06-19T20:29:37.107694Z"
    },
    "scrolled": false
   },
   "outputs": [
    {
     "name": "stderr",
     "output_type": "stream",
     "text": [
      " * Running on http://0.0.0.0:8889/ (Press CTRL+C to quit)\n",
      "127.0.0.1 - - [19/Jun/2018 20:29:41] \"GET /chatbotv1?action=create HTTP/1.1\" 200 -\n"
     ]
    },
    {
     "name": "stdout",
     "output_type": "stream",
     "text": [
      "s0 is initialized\n",
      "cf_s1_n1_identity_q is initialized\n",
      "cf_s1_n15_verifyWill_q is initialized\n",
      "cf_s1_n19_verifyWill_a_misc is initialized\n",
      "cf_s1_n101_ifAcquainted_s is initialized\n",
      "cf_s1_n102_ifAcquainted_s is initialized\n",
      "cf_s1_n103_paymentChannel_s is initialized\n",
      "cf_s1_n104_paymentChannel_s is initialized\n",
      "cf_s1_n105_noResult_s is initialized\n",
      "cf_s1_n106_paymentChannel_s is initialized\n",
      "cf_s1_n107_noResult_s is initialized\n",
      "cf_s1_n20_q4_setDue3Day is initialized\n",
      "cf_s1_n24_setDue_a_misc is initialized\n",
      "cf_s1_n25_cutDebt_q is initialized\n",
      "cf_s1_n32_splitDebt_q is initialized\n",
      "cf_s1_n33_setDue3Day is initialized\n",
      "cf_s1_n35_splitDebt_a_misc is initialized\n",
      "cf_s1_n4_identity_a_misc is initialized\n",
      "cf_s1_n40_setCutDebtDue_a_misc is initialized\n",
      "cf_s1_n41_setSplitDebtDue_q is initialized\n",
      "cf_s1_n44_setSplitDebtDue_a_misc is initialized\n",
      "cf_s1_n5_ifAcquainted_q is initialized\n",
      "cf_s1_n7_ifAcquainted_a_misc is initialized\n"
     ]
    },
    {
     "name": "stderr",
     "output_type": "stream",
     "text": [
      "127.0.0.1 - - [19/Jun/2018 20:29:45] \"GET /chatbotv1?data=%E5%93%88&action=chat&sessionId=0 HTTP/1.1\" 200 -\n"
     ]
    },
    {
     "name": "stdout",
     "output_type": "stream",
     "text": [
      "label is 0\n",
      "Current node name: cf_s1_n1_identity_q\n",
      "predict label is 0 and confidence is 1\n"
     ]
    },
    {
     "name": "stderr",
     "output_type": "stream",
     "text": [
      "127.0.0.1 - - [19/Jun/2018 20:29:50] \"GET /chatbotv1?data=%E6%98%AF%E7%9A%84&action=chat&sessionId=0 HTTP/1.1\" 200 -\n"
     ]
    },
    {
     "name": "stdout",
     "output_type": "stream",
     "text": [
      "label is 0\n",
      "label received is 0\n",
      "Current node name: cf_s1_n15_verifyWill_q\n",
      "predict label is 0 and confidence is [0, 0.99643909400672848]\n"
     ]
    },
    {
     "name": "stderr",
     "output_type": "stream",
     "text": [
      "127.0.0.1 - - [19/Jun/2018 20:30:00] \"GET /chatbotv1?data=%E6%98%8E%E5%A4%A9%E4%B8%8D%E8%A1%8C%E4%BB%8A%E5%A4%A9%E5%8F%AF%E4%BB%A5&action=chat&sessionId=0 HTTP/1.1\" 200 -\n"
     ]
    },
    {
     "name": "stdout",
     "output_type": "stream",
     "text": [
      "In collected Vacabulary ['明天', '今天']\n",
      "[{'time_pattern': '明天', 'time_to_now': 24}, {'time_pattern': '今天', 'time_to_now': 0}]\n",
      "label is 5\n",
      "label received is 5\n",
      "Current node name: cf_s1_n15_verifyWill_q\n",
      "predict label is 5 and confidence is [5, 1.0]\n"
     ]
    },
    {
     "name": "stderr",
     "output_type": "stream",
     "text": [
      "127.0.0.1 - - [19/Jun/2018 20:30:09] \"GET /chatbotv1?data=%E4%B8%8D%E8%BF%98%E4%BA%86&action=chat&sessionId=0 HTTP/1.1\" 200 -\n"
     ]
    },
    {
     "name": "stdout",
     "output_type": "stream",
     "text": [
      "[]\n",
      "label is 1\n",
      "label received is 1\n",
      "Current node name: cf_s1_n15_verifyWill_q\n",
      "predict label is 1 and confidence is [1, 0.55350008920952176]\n",
      "jump action is triggered\n"
     ]
    },
    {
     "name": "stderr",
     "output_type": "stream",
     "text": [
      "Run time of job \"Print date and time every five seconds (trigger: interval[0:00:10], next run at: 2018-06-19 20:30:54 UTC)\" was missed by 0:00:01.320880\n"
     ]
    }
   ],
   "source": [
    "app.run(host='0.0.0.0', port='8889')"
   ]
  },
  {
   "cell_type": "code",
   "execution_count": 76,
   "metadata": {
    "ExecuteTime": {
     "end_time": "2018-06-15T07:05:04.346711Z",
     "start_time": "2018-06-15T07:05:04.340293Z"
    },
    "collapsed": true
   },
   "outputs": [],
   "source": [
    "a = []"
   ]
  },
  {
   "cell_type": "code",
   "execution_count": 77,
   "metadata": {
    "ExecuteTime": {
     "end_time": "2018-06-15T07:05:08.834797Z",
     "start_time": "2018-06-15T07:05:08.818389Z"
    }
   },
   "outputs": [
    {
     "ename": "IndexError",
     "evalue": "list index out of range",
     "output_type": "error",
     "traceback": [
      "\u001b[0;31m---------------------------------------------------------------------------\u001b[0m",
      "\u001b[0;31mIndexError\u001b[0m                                Traceback (most recent call last)",
      "\u001b[0;32m<ipython-input-77-9f1255355f85>\u001b[0m in \u001b[0;36m<module>\u001b[0;34m()\u001b[0m\n\u001b[0;32m----> 1\u001b[0;31m \u001b[0ma\u001b[0m\u001b[0;34m[\u001b[0m\u001b[0;34m-\u001b[0m\u001b[0;36m1\u001b[0m\u001b[0;34m]\u001b[0m\u001b[0;34m\u001b[0m\u001b[0m\n\u001b[0m",
      "\u001b[0;31mIndexError\u001b[0m: list index out of range"
     ]
    }
   ],
   "source": [
    "a[-1]"
   ]
  },
  {
   "cell_type": "code",
   "execution_count": 126,
   "metadata": {
    "ExecuteTime": {
     "end_time": "2018-06-15T07:38:10.664833Z",
     "start_time": "2018-06-15T07:38:10.656923Z"
    }
   },
   "outputs": [
    {
     "name": "stdout",
     "output_type": "stream",
     "text": [
      "__init___\n"
     ]
    }
   ],
   "source": [
    "class A:\n",
    "    def __init__(self):\n",
    "        self.a = 0\n",
    "        print('__init___')\n",
    "    def plus(self):\n",
    "        self.a += 1\n",
    "s = {'a':A()}\n",
    "        "
   ]
  },
  {
   "cell_type": "code",
   "execution_count": 129,
   "metadata": {
    "ExecuteTime": {
     "end_time": "2018-06-15T07:38:34.925593Z",
     "start_time": "2018-06-15T07:38:34.921340Z"
    },
    "collapsed": true
   },
   "outputs": [],
   "source": [
    "s['a'].plus()"
   ]
  },
  {
   "cell_type": "code",
   "execution_count": 130,
   "metadata": {
    "ExecuteTime": {
     "end_time": "2018-06-15T07:38:39.896497Z",
     "start_time": "2018-06-15T07:38:39.890466Z"
    }
   },
   "outputs": [
    {
     "data": {
      "text/plain": [
       "2"
      ]
     },
     "execution_count": 130,
     "metadata": {},
     "output_type": "execute_result"
    }
   ],
   "source": [
    "s['a'].a"
   ]
  },
  {
   "cell_type": "code",
   "execution_count": null,
   "metadata": {
    "collapsed": true
   },
   "outputs": [],
   "source": []
  }
 ],
 "metadata": {
  "kernelspec": {
   "display_name": "Python 3",
   "language": "python",
   "name": "python3"
  },
  "language_info": {
   "codemirror_mode": {
    "name": "ipython",
    "version": 3
   },
   "file_extension": ".py",
   "mimetype": "text/x-python",
   "name": "python",
   "nbconvert_exporter": "python",
   "pygments_lexer": "ipython3",
   "version": "3.6.5"
  },
  "varInspector": {
   "cols": {
    "lenName": 16,
    "lenType": 16,
    "lenVar": 40
   },
   "kernels_config": {
    "python": {
     "delete_cmd_postfix": "",
     "delete_cmd_prefix": "del ",
     "library": "var_list.py",
     "varRefreshCmd": "print(var_dic_list())"
    },
    "r": {
     "delete_cmd_postfix": ") ",
     "delete_cmd_prefix": "rm(",
     "library": "var_list.r",
     "varRefreshCmd": "cat(var_dic_list()) "
    }
   },
   "types_to_exclude": [
    "module",
    "function",
    "builtin_function_or_method",
    "instance",
    "_Feature"
   ],
   "window_display": false
  }
 },
 "nbformat": 4,
 "nbformat_minor": 2
}
