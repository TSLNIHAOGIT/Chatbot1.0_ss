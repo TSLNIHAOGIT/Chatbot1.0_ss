{
 "cells": [
  {
   "cell_type": "code",
   "execution_count": 1,
   "metadata": {
    "ExecuteTime": {
     "end_time": "2018-08-01T03:17:42.176815Z",
     "start_time": "2018-08-01T03:17:41.173858Z"
    }
   },
   "outputs": [],
   "source": [
    "import sys,os\n",
    "loader_path = '../../classifier/loader/'\n",
    "sys.path.append(loader_path)\n",
    "from loader import load_all"
   ]
  },
  {
   "cell_type": "code",
   "execution_count": 2,
   "metadata": {
    "ExecuteTime": {
     "end_time": "2018-08-01T03:17:44.673522Z",
     "start_time": "2018-08-01T03:17:42.708066Z"
    }
   },
   "outputs": [
    {
     "name": "stderr",
     "output_type": "stream",
     "text": [
      "2018-08-01 03:17:43,424 - INFO - CLASS:load_all- METHOD:load_all -LINE:27 - MSG:IDClassifier has been load!\n",
      "2018-08-01 03:17:43,427 - INFO - CLASS:load_all- METHOD:load_all -LINE:32 - MSG:IDClassifier does not require time zone!\n",
      "2018-08-01 03:17:43,730 - INFO - CLASS:load_all- METHOD:load_all -LINE:27 - MSG:CutDebt has been load!\n",
      "2018-08-01 03:17:43,732 - INFO - CLASS:load_all- METHOD:load_all -LINE:32 - MSG:CutDebt does not require time zone!\n",
      "2018-08-01 03:17:44,027 - INFO - CLASS:load_all- METHOD:load_all -LINE:27 - MSG:WillingToPay has been load!\n",
      "2018-08-01 03:17:44,029 - INFO - CLASS:load_all- METHOD:load_all -LINE:30 - MSG:WillingToPay time zone is set to Asia/Shanghai\n",
      "2018-08-01 03:17:44,182 - INFO - CLASS:load_all- METHOD:load_all -LINE:27 - MSG:IfKnowDebtor has been load!\n",
      "2018-08-01 03:17:44,183 - INFO - CLASS:load_all- METHOD:load_all -LINE:30 - MSG:IfKnowDebtor time zone is set to Asia/Shanghai\n",
      "2018-08-01 03:17:44,463 - INFO - CLASS:load_all- METHOD:load_all -LINE:27 - MSG:Installment has been load!\n",
      "2018-08-01 03:17:44,465 - INFO - CLASS:load_all- METHOD:load_all -LINE:30 - MSG:Installment time zone is set to Asia/Shanghai\n",
      "2018-08-01 03:17:44,664 - INFO - CLASS:load_all- METHOD:load_all -LINE:27 - MSG:ConfirmLoan has been load!\n",
      "2018-08-01 03:17:44,667 - INFO - CLASS:load_all- METHOD:load_all -LINE:30 - MSG:ConfirmLoan time zone is set to Asia/Shanghai\n"
     ]
    }
   ],
   "source": [
    "model_dict = load_all()"
   ]
  },
  {
   "cell_type": "code",
   "execution_count": 4,
   "metadata": {
    "ExecuteTime": {
     "end_time": "2018-08-01T03:18:13.362838Z",
     "start_time": "2018-08-01T03:18:13.356019Z"
    }
   },
   "outputs": [],
   "source": [
    "idc = model_dict['IDClassifier']"
   ]
  },
  {
   "cell_type": "code",
   "execution_count": 5,
   "metadata": {
    "ExecuteTime": {
     "end_time": "2018-08-01T03:18:24.884858Z",
     "start_time": "2018-08-01T03:18:23.314452Z"
    }
   },
   "outputs": [
    {
     "name": "stderr",
     "output_type": "stream",
     "text": [
      "Building prefix dict from the default dictionary ...\n",
      "Loading model from cache /tmp/jieba.cache\n",
      "Loading model cost 1.526 seconds.\n",
      "Prefix dict has been built succesfully.\n"
     ]
    },
    {
     "data": {
      "text/plain": [
       "{'label': 1,\n",
       " 'pred_prob': array([[4.25506068e-03, 9.95718554e-01, 2.63853679e-05],\n",
       "        [1.80387964e-02, 9.76268946e-01, 5.69225754e-03],\n",
       "        [3.52040346e-03, 9.85261095e-01, 1.12185018e-02]]),\n",
       " 'av_pred': array([0.00860475, 0.98574953, 0.00564571]),\n",
       " 'other_response': None}"
      ]
     },
     "execution_count": 5,
     "metadata": {},
     "output_type": "execute_result"
    }
   ],
   "source": [
    "idc.classify('我不是')"
   ]
  },
  {
   "cell_type": "code",
   "execution_count": null,
   "metadata": {},
   "outputs": [],
   "source": []
  }
 ],
 "metadata": {
  "kernelspec": {
   "display_name": "Python 3",
   "language": "python",
   "name": "python3"
  },
  "language_info": {
   "codemirror_mode": {
    "name": "ipython",
    "version": 3
   },
   "file_extension": ".py",
   "mimetype": "text/x-python",
   "name": "python",
   "nbconvert_exporter": "python",
   "pygments_lexer": "ipython3",
   "version": "3.6.5"
  },
  "varInspector": {
   "cols": {
    "lenName": 16,
    "lenType": 16,
    "lenVar": 40
   },
   "kernels_config": {
    "python": {
     "delete_cmd_postfix": "",
     "delete_cmd_prefix": "del ",
     "library": "var_list.py",
     "varRefreshCmd": "print(var_dic_list())"
    },
    "r": {
     "delete_cmd_postfix": ") ",
     "delete_cmd_prefix": "rm(",
     "library": "var_list.r",
     "varRefreshCmd": "cat(var_dic_list()) "
    }
   },
   "types_to_exclude": [
    "module",
    "function",
    "builtin_function_or_method",
    "instance",
    "_Feature"
   ],
   "window_display": false
  }
 },
 "nbformat": 4,
 "nbformat_minor": 2
}
