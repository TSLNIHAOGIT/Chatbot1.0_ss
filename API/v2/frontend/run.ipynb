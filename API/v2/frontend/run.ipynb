{
 "cells": [
  {
   "cell_type": "code",
   "execution_count": 2,
   "metadata": {
    "ExecuteTime": {
     "end_time": "2018-07-30T18:56:40.560112Z",
     "start_time": "2018-07-30T18:56:39.965676Z"
    }
   },
   "outputs": [],
   "source": [
    "# from flask_other.app import app\n",
    "from flask_socketio import disconnect as dc\n",
    "from flask import Flask\n",
    "from flask_socketio import SocketIO, emit,join_room,leave_room\n",
    "from flask_socketio import disconnect\n",
    "from threading import Lock\n",
    "import os,sys\n",
    "\n",
    "app=Flask(\"demo\")\n",
    "from flask import  render_template,request\n",
    "import time\n",
    "import re\n",
    "\n",
    "import pandas as pd\n",
    "import numpy as np\n",
    "import time\n",
    "import re\n",
    "import requests\n",
    "\n",
    "import atexit\n",
    "\n",
    "from apscheduler.schedulers.background import BackgroundScheduler\n",
    "from apscheduler.triggers.interval import IntervalTrigger\n",
    "\n",
    "logger = Logger('Websocket-Flask',level=ENV.NODE_LOG_LEVEL.value).logger\n",
    "\n",
    "\n",
    "\n",
    "##################################\n",
    "async_mode = None\n",
    "app = Flask(__name__)\n",
    "app.config['SECRET_KEY'] = 'secret!'\n",
    "socketio = SocketIO(app, async_mode=async_mode)\n",
    "\n",
    "thread = None\n",
    "thread_lock = Lock()\n",
    "clients = []\n",
    "sentences = []\n",
    "\n",
    "name_space = '/chat'\n",
    "\n",
    "@app.route('/')\n",
    "def index():\n",
    "    return render_template('index.html', async_mode=socketio.async_mode)\n",
    "\n",
    "\n",
    "@socketio.on('client_send',namespace=name_space)\n",
    "def client_msg(msg):  \n",
    "    uid = request.sid\n",
    "    sentence = msg.get('data')\n",
    "    sentence = decode(sentence)\n",
    "    sentences.append(sentence)\n",
    "    response = cache.chat(uid, sentence)\n",
    "    if response == 'end':\n",
    "        socketio.emit('my_response',{'data':'感谢选择江苏逸能，再见！'},room = uid, namespace=name_space)\n",
    "        disconnect_frontend(uid)\n",
    "    elif response is None:\n",
    "        socketio.emit('my_response',{'data':'当前会话已经过期，感谢选择江苏逸能，再见！'},room = uid, namespace=name_space)\n",
    "        disconnect_frontend(uid)\n",
    "    else:\n",
    "        socketio.emit('my_response',{'data':response},room = uid, namespace=name_space)\n",
    "\n",
    "def decode(msg):\n",
    "    msg = re.sub(r'%u', r'\\u', msg)\n",
    "    msg = msg.encode('latin-1').decode('unicode_escape')\n",
    "    return msg\n",
    "\n",
    "#sned message to a specific user\n",
    "def unique_message(uid):\n",
    "    socketio.emit('unique_messgae',{'data':'are you still here'}, room=uid, namespace=name_space)\n",
    "    \n",
    "def disconnect_frontend(uid):\n",
    "    socketio.emit('my_response',{'status':'disconnected'},room = uid, namespace=name_space)\n",
    "\n",
    "\n",
    "@socketio.on('disconnect',namespace=name_space)\n",
    "def disconnect():\n",
    "    uid = request.sid\n",
    "    cache.remove_session(uid)\n",
    "    leave_room(uid)\n",
    "    dc()\n",
    "    logger.info('{} has been disconnected from API'.format(uid))\n",
    "    \n",
    "    \n",
    "@socketio.on('connect',namespace=name_space)\n",
    "def connect():\n",
    "    \n",
    "    uid = request.sid\n",
    "    clients.append(uid)\n",
    "    logger.info('{} is trying to connect!'.format(uid))\n",
    "    \n",
    "    join_room(uid)\n",
    "    if cache.create_session(uid):\n",
    "        logger.info('{} join connection successfully'.format(uid))\n",
    "        response = cache.chat(uid, '')\n",
    "        if response is not None:\n",
    "            socketio.emit('my_response',{'data':response},room = uid,namespace=name_space) #the first sentence\n",
    "            return None\n",
    "        \n",
    "    else:\n",
    "        logger.info('{} cannot join connection'.format(uid))\n",
    "        socketio.emit('my_response',{'data':'server busy. please click new conv'},room = uid,namespace=name_space) \n",
    "        disconnect_frontend(uid)\n",
    "    \n",
    "\n"
   ]
  },
  {
   "cell_type": "code",
   "execution_count": 3,
   "metadata": {
    "ExecuteTime": {
     "end_time": "2018-07-30T18:57:36.135413Z",
     "start_time": "2018-07-30T18:56:41.159282Z"
    }
   },
   "outputs": [
    {
     "name": "stdout",
     "output_type": "stream",
     "text": [
      "http://10.0.24.31:8899/\n",
      "http://0.0.0.0:6006/\n"
     ]
    },
    {
     "name": "stderr",
     "output_type": "stream",
     "text": [
      "2018-07-30 18:56:45,185 - INFO - CLASS:Websocket-Flask- METHOD:connect -LINE:90 - MSG:36cc5116a0a84eca94116b68defa9403 is trying to connect!\n",
      "2018-07-30 18:56:45,189 - DEBUG - CLASS:PF- METHOD:_load_default -LINE:206 - MSG:profile is None. The default demo profile will be loaded!\n",
      "2018-07-30 18:56:45,196 - INFO - CLASS:PF- METHOD:_load_default -LINE:227 - MSG:Customer ID is 1000000000, principal is 50,000, apr is 9%\n",
      "2018-07-30 18:56:45,250 - INFO - CLASS:PF- METHOD:_loadUpLowBound -LINE:261 - MSG:Load profile Upper bound successfully!\n",
      "2018-07-30 18:56:45,251 - INFO - CLASS:PF- METHOD:_loadUpLowBound -LINE:268 - MSG:Load profile Lower bound successfully!\n"
     ]
    },
    {
     "name": "stdout",
     "output_type": "stream",
     "text": [
      "Time Zone is set from ENV: Asia/Shanghai\n"
     ]
    },
    {
     "name": "stderr",
     "output_type": "stream",
     "text": [
      "2018-07-30 18:56:45,790 - INFO - CLASS:Cache- METHOD:create_session -LINE:53 - MSG:New session was created: 36cc5116a0a84eca94116b68defa9403\n",
      "2018-07-30 18:56:45,792 - INFO - CLASS:Cache- METHOD:create_session -LINE:54 - MSG:Remaining session number is: 999\n",
      "2018-07-30 18:56:45,793 - INFO - CLASS:Websocket-Flask- METHOD:connect -LINE:94 - MSG:36cc5116a0a84eca94116b68defa9403 join connection successfully\n",
      "2018-07-30 18:56:45,796 - INFO - CLASS:Cache- METHOD:chat -LINE:86 - MSG:receive message from user: 36cc5116a0a84eca94116b68defa9403 ====================\n",
      "2018-07-30 18:56:45,798 - DEBUG - CLASS:TreeStage1- METHOD:process -LINE:460 - MSG:Current node name is s0\n",
      "2018-07-30 18:56:45,800 - DEBUG - CLASS:TreeStage1- METHOD:process -LINE:465 - MSG:Output label is 0\n",
      "2018-07-30 18:56:45,806 - DEBUG - CLASS:TreeStage1- METHOD:process -LINE:480 - MSG:Next node name is cf_s1_n1_identity_q.\n",
      "2018-07-30 18:56:45,808 - INFO - CLASS:Cache- METHOD:chat -LINE:90 - MSG:processing messages for user 36cc5116a0a84eca94116b68defa9403 has been done!----------------\n",
      "2018-07-30 18:56:50,275 - INFO - CLASS:Cache- METHOD:chat -LINE:86 - MSG:receive message from user: 36cc5116a0a84eca94116b68defa9403 ====================\n",
      "2018-07-30 18:56:50,278 - DEBUG - CLASS:TreeStage1- METHOD:process -LINE:460 - MSG:Current node name is cf_s1_n1_identity_q\n",
      "2018-07-30 18:56:50,286 - DEBUG - CLASS:TreeStage1- METHOD:process -LINE:465 - MSG:Output label is 1\n",
      "2018-07-30 18:56:50,291 - DEBUG - CLASS:TreeStage1- METHOD:process -LINE:480 - MSG:Next node name is cf_s1_n5_ifAcquainted_q.\n",
      "2018-07-30 18:56:50,293 - INFO - CLASS:Cache- METHOD:chat -LINE:90 - MSG:processing messages for user 36cc5116a0a84eca94116b68defa9403 has been done!----------------\n",
      "2018-07-30 18:56:51,836 - INFO - CLASS:Cache- METHOD:chat -LINE:86 - MSG:receive message from user: 36cc5116a0a84eca94116b68defa9403 ====================\n",
      "2018-07-30 18:56:51,838 - DEBUG - CLASS:TreeStage1- METHOD:process -LINE:460 - MSG:Current node name is cf_s1_n5_ifAcquainted_q\n",
      "2018-07-30 18:56:51,846 - DEBUG - CLASS:TreeStage1- METHOD:process -LINE:465 - MSG:Output label is 1\n",
      "2018-07-30 18:56:51,850 - DEBUG - CLASS:TreeStage1- METHOD:process -LINE:480 - MSG:Next node name is cf_s1_n102_ifAcquainted_s.\n",
      "2018-07-30 18:56:51,852 - INFO - CLASS:Cache- METHOD:chat -LINE:90 - MSG:processing messages for user 36cc5116a0a84eca94116b68defa9403 has been done!----------------\n",
      "2018-07-30 18:56:53,309 - INFO - CLASS:Cache- METHOD:chat -LINE:86 - MSG:receive message from user: 36cc5116a0a84eca94116b68defa9403 ====================\n",
      "2018-07-30 18:56:53,311 - DEBUG - CLASS:TreeStage1- METHOD:process -LINE:460 - MSG:Current node name is cf_s1_n102_ifAcquainted_s\n",
      "2018-07-30 18:56:53,313 - DEBUG - CLASS:TreeStage1- METHOD:process -LINE:462 - MSG:Reach Stop Node: cf_s1_n102_ifAcquainted_s\n",
      "2018-07-30 18:56:53,315 - INFO - CLASS:Cache- METHOD:chat -LINE:90 - MSG:processing messages for user 36cc5116a0a84eca94116b68defa9403 has been done!----------------\n",
      "2018-07-30 18:56:53,412 - INFO - CLASS:DB- METHOD:insert -LINE:73 - MSG:1 was inserted into collection: chat_debug\n",
      "2018-07-30 18:56:53,414 - INFO - CLASS:Cache- METHOD:remove_session -LINE:79 - MSG:36cc5116a0a84eca94116b68defa9403 session is inactive, it has been removed!\n",
      "2018-07-30 18:56:53,456 - ERROR - CLASS:Cache- METHOD:remove_session -LINE:70 - MSG:Fail to save cache for uid: \n",
      "2018-07-30 18:56:53,492 - INFO - CLASS:Websocket-Flask- METHOD:disconnect -LINE:82 - MSG:36cc5116a0a84eca94116b68defa9403 has been disconnected from API\n",
      "2018-07-30 18:56:53,493 - INFO - CLASS:Websocket-Flask- METHOD:disconnect -LINE:82 - MSG:36cc5116a0a84eca94116b68defa9403 has been disconnected from API\n",
      "2018-07-30 18:57:18,346 - INFO - CLASS:Websocket-Flask- METHOD:connect -LINE:90 - MSG:c822328a576e4712928e743b7a9932bd is trying to connect!\n",
      "2018-07-30 18:57:18,356 - DEBUG - CLASS:PF- METHOD:_load_default -LINE:206 - MSG:profile is None. The default demo profile will be loaded!\n",
      "2018-07-30 18:57:18,356 - DEBUG - CLASS:PF- METHOD:_load_default -LINE:206 - MSG:profile is None. The default demo profile will be loaded!\n",
      "2018-07-30 18:57:18,371 - INFO - CLASS:PF- METHOD:_load_default -LINE:227 - MSG:Customer ID is 1000000000, principal is 50,000, apr is 9%\n",
      "2018-07-30 18:57:18,371 - INFO - CLASS:PF- METHOD:_load_default -LINE:227 - MSG:Customer ID is 1000000000, principal is 50,000, apr is 9%\n",
      "2018-07-30 18:57:18,442 - INFO - CLASS:PF- METHOD:_loadUpLowBound -LINE:261 - MSG:Load profile Upper bound successfully!\n",
      "2018-07-30 18:57:18,442 - INFO - CLASS:PF- METHOD:_loadUpLowBound -LINE:261 - MSG:Load profile Upper bound successfully!\n",
      "2018-07-30 18:57:18,444 - INFO - CLASS:PF- METHOD:_loadUpLowBound -LINE:268 - MSG:Load profile Lower bound successfully!\n",
      "2018-07-30 18:57:18,444 - INFO - CLASS:PF- METHOD:_loadUpLowBound -LINE:268 - MSG:Load profile Lower bound successfully!\n"
     ]
    },
    {
     "name": "stdout",
     "output_type": "stream",
     "text": [
      "Time Zone is set from ENV: Asia/Shanghai\n"
     ]
    },
    {
     "name": "stderr",
     "output_type": "stream",
     "text": [
      "2018-07-30 18:57:18,963 - INFO - CLASS:Cache- METHOD:create_session -LINE:53 - MSG:New session was created: c822328a576e4712928e743b7a9932bd\n",
      "2018-07-30 18:57:18,964 - INFO - CLASS:Cache- METHOD:create_session -LINE:54 - MSG:Remaining session number is: 999\n",
      "2018-07-30 18:57:18,965 - INFO - CLASS:Websocket-Flask- METHOD:connect -LINE:94 - MSG:c822328a576e4712928e743b7a9932bd join connection successfully\n",
      "2018-07-30 18:57:18,966 - INFO - CLASS:Cache- METHOD:chat -LINE:86 - MSG:receive message from user: c822328a576e4712928e743b7a9932bd ====================\n",
      "2018-07-30 18:57:18,968 - DEBUG - CLASS:TreeStage1- METHOD:process -LINE:460 - MSG:Current node name is s0\n",
      "2018-07-30 18:57:18,968 - DEBUG - CLASS:TreeStage1- METHOD:process -LINE:460 - MSG:Current node name is s0\n",
      "2018-07-30 18:57:18,972 - DEBUG - CLASS:TreeStage1- METHOD:process -LINE:465 - MSG:Output label is 0\n",
      "2018-07-30 18:57:18,972 - DEBUG - CLASS:TreeStage1- METHOD:process -LINE:465 - MSG:Output label is 0\n",
      "2018-07-30 18:57:18,978 - DEBUG - CLASS:TreeStage1- METHOD:process -LINE:480 - MSG:Next node name is cf_s1_n1_identity_q.\n",
      "2018-07-30 18:57:18,978 - DEBUG - CLASS:TreeStage1- METHOD:process -LINE:480 - MSG:Next node name is cf_s1_n1_identity_q.\n",
      "2018-07-30 18:57:18,981 - INFO - CLASS:Cache- METHOD:chat -LINE:90 - MSG:processing messages for user c822328a576e4712928e743b7a9932bd has been done!----------------\n",
      "2018-07-30 18:57:21,743 - INFO - CLASS:Cache- METHOD:chat -LINE:86 - MSG:receive message from user: c822328a576e4712928e743b7a9932bd ====================\n",
      "2018-07-30 18:57:21,745 - DEBUG - CLASS:TreeStage1- METHOD:process -LINE:460 - MSG:Current node name is cf_s1_n1_identity_q\n",
      "2018-07-30 18:57:21,745 - DEBUG - CLASS:TreeStage1- METHOD:process -LINE:460 - MSG:Current node name is cf_s1_n1_identity_q\n",
      "2018-07-30 18:57:21,754 - DEBUG - CLASS:TreeStage1- METHOD:process -LINE:465 - MSG:Output label is 0\n",
      "2018-07-30 18:57:21,754 - DEBUG - CLASS:TreeStage1- METHOD:process -LINE:465 - MSG:Output label is 0\n",
      "2018-07-30 18:57:21,759 - DEBUG - CLASS:TreeStage1- METHOD:process -LINE:480 - MSG:Next node name is cf_s1_n2_confirmLoan_q.\n",
      "2018-07-30 18:57:21,759 - DEBUG - CLASS:TreeStage1- METHOD:process -LINE:480 - MSG:Next node name is cf_s1_n2_confirmLoan_q.\n",
      "2018-07-30 18:57:21,761 - INFO - CLASS:Cache- METHOD:chat -LINE:90 - MSG:processing messages for user c822328a576e4712928e743b7a9932bd has been done!----------------\n",
      "2018-07-30 18:57:24,650 - INFO - CLASS:Cache- METHOD:chat -LINE:86 - MSG:receive message from user: c822328a576e4712928e743b7a9932bd ====================\n",
      "2018-07-30 18:57:24,652 - DEBUG - CLASS:TreeStage1- METHOD:process -LINE:460 - MSG:Current node name is cf_s1_n2_confirmLoan_q\n",
      "2018-07-30 18:57:24,652 - DEBUG - CLASS:TreeStage1- METHOD:process -LINE:460 - MSG:Current node name is cf_s1_n2_confirmLoan_q\n",
      "2018-07-30 18:57:24,663 - DEBUG - CLASS:TreeStage1- METHOD:process -LINE:465 - MSG:Output label is 0\n",
      "2018-07-30 18:57:24,663 - DEBUG - CLASS:TreeStage1- METHOD:process -LINE:465 - MSG:Output label is 0\n",
      "2018-07-30 18:57:24,670 - DEBUG - CLASS:TreeStage1- METHOD:process -LINE:480 - MSG:Next node name is cf_s1_n15_verifyWill_q.\n",
      "2018-07-30 18:57:24,670 - DEBUG - CLASS:TreeStage1- METHOD:process -LINE:480 - MSG:Next node name is cf_s1_n15_verifyWill_q.\n",
      "2018-07-30 18:57:24,673 - INFO - CLASS:Cache- METHOD:chat -LINE:90 - MSG:processing messages for user c822328a576e4712928e743b7a9932bd has been done!----------------\n",
      "2018-07-30 18:57:31,634 - INFO - CLASS:Cache- METHOD:chat -LINE:86 - MSG:receive message from user: c822328a576e4712928e743b7a9932bd ====================\n",
      "2018-07-30 18:57:31,636 - DEBUG - CLASS:TreeStage1- METHOD:process -LINE:460 - MSG:Current node name is cf_s1_n15_verifyWill_q\n",
      "2018-07-30 18:57:31,636 - DEBUG - CLASS:TreeStage1- METHOD:process -LINE:460 - MSG:Current node name is cf_s1_n15_verifyWill_q\n",
      "2018-07-30 18:57:31,649 - DEBUG - CLASS:TreeStage1- METHOD:process -LINE:465 - MSG:Output label is 0\n",
      "2018-07-30 18:57:31,649 - DEBUG - CLASS:TreeStage1- METHOD:process -LINE:465 - MSG:Output label is 0\n",
      "2018-07-30 18:57:31,658 - DEBUG - CLASS:TreeStage1- METHOD:process -LINE:480 - MSG:Next node name is cf_s1_n103_paymentChannel_s.\n",
      "2018-07-30 18:57:31,658 - DEBUG - CLASS:TreeStage1- METHOD:process -LINE:480 - MSG:Next node name is cf_s1_n103_paymentChannel_s.\n",
      "2018-07-30 18:57:31,660 - INFO - CLASS:Cache- METHOD:chat -LINE:90 - MSG:processing messages for user c822328a576e4712928e743b7a9932bd has been done!----------------\n",
      "KeyboardInterrupt\n",
      "2018-07-30T18:57:35Z\n"
     ]
    },
    {
     "ename": "KeyboardInterrupt",
     "evalue": "",
     "output_type": "error",
     "traceback": [
      "\u001b[0;31m---------------------------------------------------------------------------\u001b[0m",
      "\u001b[0;31mKeyboardInterrupt\u001b[0m                         Traceback (most recent call last)",
      "\u001b[0;32m<ipython-input-3-15aae0dcd934>\u001b[0m in \u001b[0;36m<module>\u001b[0;34m()\u001b[0m\n\u001b[1;32m     12\u001b[0m \u001b[0matexit\u001b[0m\u001b[0;34m.\u001b[0m\u001b[0mregister\u001b[0m\u001b[0;34m(\u001b[0m\u001b[0;32mlambda\u001b[0m\u001b[0;34m:\u001b[0m \u001b[0mscheduler\u001b[0m\u001b[0;34m.\u001b[0m\u001b[0mshutdown\u001b[0m\u001b[0;34m(\u001b[0m\u001b[0;34m)\u001b[0m\u001b[0;34m)\u001b[0m\u001b[0;34m\u001b[0m\u001b[0m\n\u001b[1;32m     13\u001b[0m \u001b[0;34m\u001b[0m\u001b[0m\n\u001b[0;32m---> 14\u001b[0;31m \u001b[0msocketio\u001b[0m\u001b[0;34m.\u001b[0m\u001b[0mrun\u001b[0m\u001b[0;34m(\u001b[0m\u001b[0mapp\u001b[0m\u001b[0;34m,\u001b[0m\u001b[0;34m'0.0.0.0'\u001b[0m\u001b[0;34m,\u001b[0m\u001b[0;36m6006\u001b[0m\u001b[0;34m)\u001b[0m\u001b[0;34m\u001b[0m\u001b[0m\n\u001b[0m",
      "\u001b[0;32m~/anaconda3/lib/python3.6/site-packages/flask_socketio/__init__.py\u001b[0m in \u001b[0;36mrun\u001b[0;34m(self, app, host, port, **kwargs)\u001b[0m\n\u001b[1;32m    554\u001b[0m                 \u001b[0mrun_with_reloader\u001b[0m\u001b[0;34m(\u001b[0m\u001b[0mrun_server\u001b[0m\u001b[0;34m,\u001b[0m \u001b[0mextra_files\u001b[0m\u001b[0;34m=\u001b[0m\u001b[0mextra_files\u001b[0m\u001b[0;34m)\u001b[0m\u001b[0;34m\u001b[0m\u001b[0m\n\u001b[1;32m    555\u001b[0m             \u001b[0;32melse\u001b[0m\u001b[0;34m:\u001b[0m\u001b[0;34m\u001b[0m\u001b[0m\n\u001b[0;32m--> 556\u001b[0;31m                 \u001b[0mself\u001b[0m\u001b[0;34m.\u001b[0m\u001b[0mwsgi_server\u001b[0m\u001b[0;34m.\u001b[0m\u001b[0mserve_forever\u001b[0m\u001b[0;34m(\u001b[0m\u001b[0;34m)\u001b[0m\u001b[0;34m\u001b[0m\u001b[0m\n\u001b[0m\u001b[1;32m    557\u001b[0m \u001b[0;34m\u001b[0m\u001b[0m\n\u001b[1;32m    558\u001b[0m     \u001b[0;32mdef\u001b[0m \u001b[0mstop\u001b[0m\u001b[0;34m(\u001b[0m\u001b[0mself\u001b[0m\u001b[0;34m)\u001b[0m\u001b[0;34m:\u001b[0m\u001b[0;34m\u001b[0m\u001b[0m\n",
      "\u001b[0;32m~/anaconda3/lib/python3.6/site-packages/gevent/baseserver.py\u001b[0m in \u001b[0;36mserve_forever\u001b[0;34m(self, stop_timeout)\u001b[0m\n\u001b[1;32m    362\u001b[0m             \u001b[0mself\u001b[0m\u001b[0;34m.\u001b[0m\u001b[0mstart\u001b[0m\u001b[0;34m(\u001b[0m\u001b[0;34m)\u001b[0m\u001b[0;34m\u001b[0m\u001b[0m\n\u001b[1;32m    363\u001b[0m         \u001b[0;32mtry\u001b[0m\u001b[0;34m:\u001b[0m\u001b[0;34m\u001b[0m\u001b[0m\n\u001b[0;32m--> 364\u001b[0;31m             \u001b[0mself\u001b[0m\u001b[0;34m.\u001b[0m\u001b[0m_stop_event\u001b[0m\u001b[0;34m.\u001b[0m\u001b[0mwait\u001b[0m\u001b[0;34m(\u001b[0m\u001b[0;34m)\u001b[0m\u001b[0;34m\u001b[0m\u001b[0m\n\u001b[0m\u001b[1;32m    365\u001b[0m         \u001b[0;32mfinally\u001b[0m\u001b[0;34m:\u001b[0m\u001b[0;34m\u001b[0m\u001b[0m\n\u001b[1;32m    366\u001b[0m             \u001b[0mGreenlet\u001b[0m\u001b[0;34m.\u001b[0m\u001b[0mspawn\u001b[0m\u001b[0;34m(\u001b[0m\u001b[0mself\u001b[0m\u001b[0;34m.\u001b[0m\u001b[0mstop\u001b[0m\u001b[0;34m,\u001b[0m \u001b[0mtimeout\u001b[0m\u001b[0;34m=\u001b[0m\u001b[0mstop_timeout\u001b[0m\u001b[0;34m)\u001b[0m\u001b[0;34m.\u001b[0m\u001b[0mjoin\u001b[0m\u001b[0;34m(\u001b[0m\u001b[0;34m)\u001b[0m\u001b[0;34m\u001b[0m\u001b[0m\n",
      "\u001b[0;32m~/anaconda3/lib/python3.6/site-packages/gevent/_event.cpython-36m-x86_64-linux-gnu.so\u001b[0m in \u001b[0;36mgevent._event.Event.wait\u001b[0;34m()\u001b[0m\n",
      "\u001b[0;32m~/anaconda3/lib/python3.6/site-packages/gevent/_event.cpython-36m-x86_64-linux-gnu.so\u001b[0m in \u001b[0;36mgevent._event._AbstractLinkable._wait\u001b[0;34m()\u001b[0m\n",
      "\u001b[0;32m~/anaconda3/lib/python3.6/site-packages/gevent/_event.cpython-36m-x86_64-linux-gnu.so\u001b[0m in \u001b[0;36mgevent._event._AbstractLinkable._wait_core\u001b[0;34m()\u001b[0m\n",
      "\u001b[0;32m~/anaconda3/lib/python3.6/site-packages/gevent/_event.cpython-36m-x86_64-linux-gnu.so\u001b[0m in \u001b[0;36mgevent._event._AbstractLinkable._wait_core\u001b[0;34m()\u001b[0m\n",
      "\u001b[0;32m~/anaconda3/lib/python3.6/site-packages/gevent/__greenlet_primitives.cpython-36m-x86_64-linux-gnu.so\u001b[0m in \u001b[0;36mgevent.__greenlet_primitives.SwitchOutGreenletWithLoop.switch\u001b[0;34m()\u001b[0m\n",
      "\u001b[0;32m~/anaconda3/lib/python3.6/site-packages/gevent/__greenlet_primitives.cpython-36m-x86_64-linux-gnu.so\u001b[0m in \u001b[0;36mgevent.__greenlet_primitives.SwitchOutGreenletWithLoop.switch\u001b[0;34m()\u001b[0m\n",
      "\u001b[0;32m~/anaconda3/lib/python3.6/site-packages/gevent/__greenlet_primitives.cpython-36m-x86_64-linux-gnu.so\u001b[0m in \u001b[0;36mgevent.__greenlet_primitives.SwitchOutGreenletWithLoop.switch\u001b[0;34m()\u001b[0m\n",
      "\u001b[0;32msrc/gevent/__greenlet_primitives.pxd\u001b[0m in \u001b[0;36mgevent.__greenlet_primitives._greenlet_switch\u001b[0;34m()\u001b[0m\n",
      "\u001b[0;31mKeyboardInterrupt\u001b[0m: "
     ]
    }
   ],
   "source": [
    "print('http://10.0.24.31:8899/')\n",
    "print('http://0.0.0.0:6006/')\n",
    "scheduler = BackgroundScheduler()\n",
    "scheduler.start()\n",
    "scheduler.add_job(\n",
    "    func=cache.purge_inactive,\n",
    "    trigger=IntervalTrigger(seconds=3),\n",
    "    id='purge_cache',\n",
    "    name='purge_inactive',\n",
    "    replace_existing=True)\n",
    "# Shut down the scheduler when exiting the app\n",
    "atexit.register(lambda: scheduler.shutdown())\n",
    "\n",
    "socketio.run(app,'0.0.0.0',6006)"
   ]
  },
  {
   "cell_type": "code",
   "execution_count": 1,
   "metadata": {
    "ExecuteTime": {
     "end_time": "2018-07-30T18:56:37.458942Z",
     "start_time": "2018-07-30T18:56:34.716803Z"
    }
   },
   "outputs": [
    {
     "name": "stderr",
     "output_type": "stream",
     "text": [
      "Building prefix dict from the default dictionary ...\n",
      "Loading model from cache /tmp/jieba.cache\n",
      "Loading model cost 0.731 seconds.\n",
      "Prefix dict has been built succesfully.\n"
     ]
    },
    {
     "name": "stdout",
     "output_type": "stream",
     "text": [
      "Time Zone is set from ENV: Asia/Shanghai\n",
      "Time Zone is set from ENV: Asia/Shanghai\n",
      "Time Zone is set from ENV: Asia/Shanghai\n"
     ]
    },
    {
     "name": "stderr",
     "output_type": "stream",
     "text": [
      "2018-07-30 18:56:37,425 - INFO - CLASS:DB- METHOD:_load_client -LINE:35 - MSG:get mongodb client. host is:chatbotdb, port is: 27017\n",
      "2018-07-30 18:56:37,429 - INFO - CLASS:DB- METHOD:_get_db -LINE:43 - MSG:mongodb database is: chatbotdb_debug\n",
      "2018-07-30 18:56:37,431 - INFO - CLASS:DB- METHOD:_get_collection -LINE:51 - MSG:mongodb collection is: chat_debug\n",
      "2018-07-30 18:56:37,433 - INFO - CLASS:Cache- METHOD:_print -LINE:32 - MSG:Max num of session is: 1000\n",
      "2018-07-30 18:56:37,440 - INFO - CLASS:Cache- METHOD:_print -LINE:33 - MSG:inform inacitve interval is 60 seconds\n",
      "2018-07-30 18:56:37,441 - INFO - CLASS:Cache- METHOD:_print -LINE:34 - MSG:inactive max length is 150 seconds\n",
      "2018-07-30 18:56:37,444 - INFO - CLASS:Cache- METHOD:_print -LINE:36 - MSG:DEBUG is enabled\n"
     ]
    },
    {
     "name": "stdout",
     "output_type": "stream",
     "text": [
      "Time Zone is set from ENV: Asia/Shanghai\n"
     ]
    }
   ],
   "source": [
    "import time\n",
    "import gc\n",
    "import sys, os\n",
    "import datetime as dt\n",
    "\n",
    "ENV_PATH = '../../../ENV/'\n",
    "LOG_PATH = '../../../Lib/'\n",
    "sys.path.append(ENV_PATH)\n",
    "sys.path.append(LOG_PATH)\n",
    "from env import ENV\n",
    "from LOG import Logger\n",
    "from MGODB import DB\n",
    "\n",
    "\n",
    "\n",
    "class Cache:\n",
    "    def __init__(self, model_dict,max_session=1000,debug=False,host=None,port=None,enableDB=False):\n",
    "        self.max_session = 1000\n",
    "        self.inform_interval = 60\n",
    "        self.inactive_maxlength = 150\n",
    "        #{'uid': {'strategy': Tree(), 'time_response': <time>, 'time_inform': <>}\n",
    "        self.active_session = {}\n",
    "        self.model_dict = model_dict\n",
    "        self.debug=debug\n",
    "        self.enableDB = enableDB\n",
    "        self.log = Logger(self.__class__.__name__,level=ENV.NODE_LOG_LEVEL.value).logger\n",
    "        self.db=DB(host,port,debug,True,enable=self.enableDB)\n",
    "        self._print()\n",
    "        \n",
    "        \n",
    "    def _print(self):\n",
    "        self.log.info('Max num of session is: {}'.format(self.max_session))\n",
    "        self.log.info('inform inacitve interval is {} seconds'.format(self.inform_interval))\n",
    "        self.log.info('inactive max length is {} seconds'.format(self.inactive_maxlength))\n",
    "        if self.debug:\n",
    "            self.log.info('DEBUG is enabled')\n",
    "        \n",
    "        \n",
    "    def create_session(self, uid, profile=None):\n",
    "        if len(self.active_session) < self.max_session:\n",
    "            self.active_session[uid] = {}\n",
    "            try:\n",
    "                self.active_session[uid].update({'strategy':TreeStage1(\n",
    "                                                                       debug=self.debug,\n",
    "                                                                       profile=profile)})\n",
    "            except KeyError as e:\n",
    "                self.log.error('Key {} does not exist in profile'.format(e))\n",
    "                self.log.error('create session for user {} failed'.format(uid))\n",
    "                return False\n",
    "                \n",
    "            self.active_session[uid].update({'time_response':time.time()})\n",
    "            self.active_session[uid].update({'time_inform':time.time()})\n",
    "            self.log.info('New session was created: {}'.format(uid))\n",
    "            self.log.info('Remaining session number is: {}'.format(self.max_session-len(self.active_session)))\n",
    "            return True\n",
    "        else:\n",
    "            return False\n",
    "        \n",
    "    def remove_session(self,uid):\n",
    "        response = '您当前的会话超过 {} 秒没有响应，系统将关闭当前会话！如有需求，请开始新的对话！'.format(self.inactive_maxlength)\n",
    "        try:\n",
    "            socketio.emit('my_response',{'data':response},room = uid, namespace=name_space)\n",
    "        except:\n",
    "            pass\n",
    "        \n",
    "        try:\n",
    "            history = self.active_session[uid]['strategy'].cache.copy()\n",
    "            self.db.insert(history)\n",
    "        except:\n",
    "            self.log.error('Fail to save cache for uid: ')\n",
    "        try:\n",
    "            disconnect_frontend(uid)\n",
    "        except:\n",
    "            pass\n",
    "       \n",
    "        \n",
    "        try:\n",
    "            del self.active_session[uid]\n",
    "            self.log.info('{} session is inactive, it has been removed!'.format(uid))\n",
    "        except KeyError:\n",
    "                pass\n",
    "        gc.collect()\n",
    "            \n",
    "    def chat(self,uid,sentence):\n",
    "        if self.active_session.get(uid) is not None:\n",
    "            self.log.info('receive message from user: {} ===================='.format(uid))\n",
    "            response = self.active_session[uid]['strategy'].process(sentence, self.model_dict)\n",
    "            self.active_session[uid]['time_response'] = time.time()\n",
    "            self.active_session[uid]['time_inform'] = time.time()\n",
    "            self.log.info('processing messages for user {} has been done!----------------'.format(uid))\n",
    "        else:\n",
    "            response = None\n",
    "        \n",
    "        return response\n",
    "        \n",
    "    \n",
    "    \n",
    "    def _bulk_deletes(self):\n",
    "        current = time.time()\n",
    "        remove_list = []\n",
    "        try:\n",
    "            for uid in self.active_session:\n",
    "                try:\n",
    "                    if current - self.active_session[uid]['time_response'] > self.inactive_maxlength:\n",
    "                        remove_list.append(uid)\n",
    "                except KeyError:\n",
    "                    pass\n",
    "        except RuntimeError as e:\n",
    "            self.log.error(e)\n",
    "            return False\n",
    "        finally:\n",
    "            # delete\n",
    "            for uid in remove_list:              \n",
    "                self.remove_session(uid)\n",
    "        return True\n",
    "    \n",
    "    def _bulk_inform(self):\n",
    "        current = time.time()\n",
    "        inform_list = []\n",
    "        try:\n",
    "            for uid in self.active_session:\n",
    "                try:\n",
    "                    if current - self.active_session[uid]['time_inform'] > self.inform_interval:\n",
    "                        inform_list.append(uid)\n",
    "                     \n",
    "                except KeyError as e:\n",
    "                        self.log.error(e)\n",
    "                        pass\n",
    "            for each in inform_list:\n",
    "                self.inform_inactive(each)\n",
    "            \n",
    "        except RuntimeError:\n",
    "            \n",
    "            return False\n",
    "        \n",
    "        return True\n",
    "    \n",
    "    \n",
    "    def purge_inactive(self):\n",
    "        current = time.time()\n",
    "        while True:\n",
    "            if self._bulk_deletes():\n",
    "                break\n",
    "\n",
    "        while True:\n",
    "            if self._bulk_inform():\n",
    "                break\n",
    "        \n",
    "                \n",
    "        \n",
    "    def inform_inactive(self, uid):\n",
    "        self.active_session[uid]['time_inform'] = time.time()\n",
    "        response = '您有在听我说吗?请回答我刚才的问题！'\n",
    "        socketio.emit('my_response',{'data':response},room = uid, namespace=name_space)\n",
    "        self.log.info('{} is inactive. Just inform that user'.format(uid))\n",
    "          \n",
    "################################################\n",
    "import sys,os\n",
    "sys.path.append('../../../MLModel/code/OneClickTraining/')\n",
    "sys.path.append('../../../MLModel/code/TreeModelV2/')\n",
    "from all_model_py import *\n",
    "import pickle\n",
    "from chatbotv1 import *\n",
    "\n",
    "\n",
    "\n",
    "models_list = ['IDClassifier','CutDebt','IfKnowDebtor','WillingToPay','Installment','ConfirmLoan']\n",
    "savedModel_path = '../../../MLModel/savedModel/{}/{}.pickle'\n",
    "need_set_TIMEZONE = ['CutDebt','WillingToPay','Installment','ConfirmLoan']\n",
    "\n",
    "model_dict = {}\n",
    "for each_model in models_list:\n",
    "    model_dict[each_model] = pickle.load(open(savedModel_path.format(each_model,each_model), 'rb'))\n",
    "    model_dict[each_model].classify('再说一次')\n",
    "    if each_model in need_set_TIMEZONE:\n",
    "        model_dict[each_model].re_time._set_timeZone()\n",
    "    \n",
    "model_dict['StopClassifier'] = StopClassifier()\n",
    "model_dict['InitClassifier'] = InitClassifier()    \n",
    "\n",
    "#################################################################\n",
    "cache = Cache(\n",
    "              model_dict=model_dict,debug=True,enableDB=True)"
   ]
  },
  {
   "cell_type": "code",
   "execution_count": 2,
   "metadata": {
    "ExecuteTime": {
     "end_time": "2018-07-24T18:19:29.745739Z",
     "start_time": "2018-07-24T18:19:29.219066Z"
    },
    "scrolled": true
   },
   "outputs": [
    {
     "name": "stderr",
     "output_type": "stream",
     "text": [
      "2018-07-24 18:19:29,223 - DEBUG - CLASS:PF- METHOD:_load_default -LINE:206 - MSG:profile is None. The default demo profile will be loaded!\n",
      "2018-07-24 18:19:29,227 - INFO - CLASS:PF- METHOD:_load_default -LINE:227 - MSG:Customer ID is 1000000000, principal is 50,000, apr is 9%\n",
      "2018-07-24 18:19:29,259 - INFO - CLASS:PF- METHOD:_loadUpLowBound -LINE:261 - MSG:Load profile Upper bound successfully!\n",
      "2018-07-24 18:19:29,260 - INFO - CLASS:PF- METHOD:_loadUpLowBound -LINE:268 - MSG:Load profile Lower bound successfully!\n"
     ]
    },
    {
     "name": "stdout",
     "output_type": "stream",
     "text": [
      "Time Zone is set from ENV: Asia/Shanghai\n"
     ]
    }
   ],
   "source": [
    "t = TreeStage1(debug=False)"
   ]
  },
  {
   "cell_type": "code",
   "execution_count": 4,
   "metadata": {
    "ExecuteTime": {
     "end_time": "2018-07-30T18:57:41.603211Z",
     "start_time": "2018-07-30T18:57:41.584531Z"
    }
   },
   "outputs": [
    {
     "data": {
      "text/plain": [
       "{'c822328a576e4712928e743b7a9932bd': {'strategy': <chatbotv1.TreeStage1 at 0x7f3fc7e19c18>,\n",
       "  'time_response': 1532977051.660843,\n",
       "  'time_inform': 1532977051.6608553}}"
      ]
     },
     "execution_count": 4,
     "metadata": {},
     "output_type": "execute_result"
    }
   ],
   "source": [
    "cache.active_session"
   ]
  },
  {
   "cell_type": "code",
   "execution_count": 5,
   "metadata": {
    "ExecuteTime": {
     "end_time": "2018-07-30T18:57:44.540454Z",
     "start_time": "2018-07-30T18:57:44.535906Z"
    }
   },
   "outputs": [],
   "source": [
    "tt = cache.active_session['c822328a576e4712928e743b7a9932bd']['strategy']"
   ]
  },
  {
   "cell_type": "code",
   "execution_count": 6,
   "metadata": {
    "ExecuteTime": {
     "end_time": "2018-07-30T18:57:45.722934Z",
     "start_time": "2018-07-30T18:57:45.711365Z"
    }
   },
   "outputs": [
    {
     "name": "stderr",
     "output_type": "stream",
     "text": [
      "2018-07-30 18:57:45,717 - INFO - CLASS:DB- METHOD:insert -LINE:73 - MSG:2 was inserted into collection: chat_debug\n"
     ]
    }
   ],
   "source": [
    "cache.db.insert(tt.cache)"
   ]
  },
  {
   "cell_type": "code",
   "execution_count": 7,
   "metadata": {
    "ExecuteTime": {
     "end_time": "2018-07-30T18:57:50.363078Z",
     "start_time": "2018-07-30T18:57:50.349997Z"
    }
   },
   "outputs": [
    {
     "data": {
      "text/plain": [
       "2"
      ]
     },
     "execution_count": 7,
     "metadata": {},
     "output_type": "execute_result"
    }
   ],
   "source": [
    "cache.db.collection.count_documents(filter={})"
   ]
  },
  {
   "cell_type": "code",
   "execution_count": 12,
   "metadata": {
    "ExecuteTime": {
     "end_time": "2018-07-30T18:56:14.060056Z",
     "start_time": "2018-07-30T18:56:14.046256Z"
    }
   },
   "outputs": [
    {
     "data": {
      "text/plain": [
       "1"
      ]
     },
     "execution_count": 12,
     "metadata": {},
     "output_type": "execute_result"
    }
   ],
   "source": [
    "cache.db.collection.count()"
   ]
  },
  {
   "cell_type": "code",
   "execution_count": null,
   "metadata": {},
   "outputs": [],
   "source": []
  }
 ],
 "metadata": {
  "kernelspec": {
   "display_name": "Python 3",
   "language": "python",
   "name": "python3"
  },
  "language_info": {
   "codemirror_mode": {
    "name": "ipython",
    "version": 3
   },
   "file_extension": ".py",
   "mimetype": "text/x-python",
   "name": "python",
   "nbconvert_exporter": "python",
   "pygments_lexer": "ipython3",
   "version": "3.6.5"
  },
  "varInspector": {
   "cols": {
    "lenName": 16,
    "lenType": 16,
    "lenVar": 40
   },
   "kernels_config": {
    "python": {
     "delete_cmd_postfix": "",
     "delete_cmd_prefix": "del ",
     "library": "var_list.py",
     "varRefreshCmd": "print(var_dic_list())"
    },
    "r": {
     "delete_cmd_postfix": ") ",
     "delete_cmd_prefix": "rm(",
     "library": "var_list.r",
     "varRefreshCmd": "cat(var_dic_list()) "
    }
   },
   "types_to_exclude": [
    "module",
    "function",
    "builtin_function_or_method",
    "instance",
    "_Feature"
   ],
   "window_display": false
  }
 },
 "nbformat": 4,
 "nbformat_minor": 2
}
