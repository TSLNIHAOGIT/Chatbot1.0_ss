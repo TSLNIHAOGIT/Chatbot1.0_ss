{
 "cells": [
  {
   "cell_type": "code",
   "execution_count": 1,
   "metadata": {
    "ExecuteTime": {
     "end_time": "2018-06-18T20:10:49.454895Z",
     "start_time": "2018-06-18T20:10:48.331113Z"
    }
   },
   "outputs": [
    {
     "name": "stdout",
     "output_type": "stream",
     "text": [
      "chatbotdb\n",
      "0\n"
     ]
    }
   ],
   "source": [
    "# from flask_other.app import app\n",
    "from flask import Flask\n",
    "import os,sys\n",
    "sys.path.append('../')\n",
    "app=Flask(\"demo\")\n",
    "from flask import  render_template,request\n",
    "from app.mong_database import MongoManager\n",
    "import time\n",
    "import re\n",
    "mongo_db=MongoManager(server_ip='chatbotdb')\n",
    "\n",
    "import urllib.request\n",
    "from urllib.parse import quote\n",
    "import pandas as pd\n",
    "import numpy as np\n",
    "import time\n",
    "import re\n",
    "import requests\n",
    "\n",
    "##################################\n",
    "url = 'http://localhost:8889/chatbotv1'\n",
    "\n",
    "\n",
    "def get_data(sentence):\n",
    "    \n",
    "    response = requests.get(url, timeout=10, params={'data':sentence, \n",
    "                                                     'action':'chat', \n",
    "                                                     'sessionId':cache.sessionId})\n",
    "    \n",
    "    if response.status_code == 200:\n",
    "        req = response.json()\n",
    "        if req.get('status').lower() == 'successful':\n",
    "            msg = req.get('message')\n",
    "        else:\n",
    "            msg = req\n",
    "\n",
    "        return msg\n",
    "    else:\n",
    "        return 'Internet Connection Issue, error code {}'.format(response.status_code)\n",
    "\n",
    "\n",
    "\n",
    "@app.route('/')\n",
    "@app.route('/index')\n",
    "def index0():\n",
    "    return render_template(\n",
    "                           # \"index0.html\",\n",
    "                           \"index.html\",\n",
    "                           )\n",
    "@app.route(\"/predict\", methods= [\"POST\"])\n",
    "def background_process():\n",
    "    if request.method == 'POST':\n",
    "        try:\n",
    "            query = request.form.get('query')#前端查询的内容\n",
    "            if query:\n",
    "\n",
    "                    print('query',query)\n",
    "                    # time.sleep(5)\n",
    "                    result = get_data(query)\n",
    "                    print('result',result)\n",
    "                    mongo_db.save_query(query, str(result))\n",
    "                    print('saving to mongo db successfully!')\n",
    "                    return str(result)\n",
    "                    \n",
    "\n",
    "            else:\n",
    "\n",
    "                    return str('请输入查询内容')\n",
    "\n",
    "\n",
    "        except Exception as e:\n",
    "            print(e)\n",
    "\n",
    "            if 'duplicate' in str(e):\n",
    "                e_str = e.details['errmsg']\n",
    "                dup_id=re.search('\\{ : \"(.*)\" \\}',e_str).group(1)\n",
    "                print('query duplicated! Use same id to save')\n",
    "                mongo_db.update_dup_query( dup_id, str(result))\n",
    "                return str(result)\n",
    "\n",
    "            else:\n",
    "                print(e)\n",
    "                return str('MM出故障啦')\n",
    "\n",
    "\n",
    "    else:\n",
    "        return 'ok'\n",
    "    \n",
    "    \n",
    "@app.route(\"/newConversation\", methods= [\"POST\"])\n",
    "def new_conversation():\n",
    "    cache.new_conversation()\n",
    "    print('new conversation called!!!!!!!!!!!!!!!!!!!!!!!')\n",
    "\n",
    "class Cache:\n",
    "    def __init__(self):\n",
    "        self.new_conversation()\n",
    "            \n",
    "    def new_conversation(self):\n",
    "        req = requests.get(url, timeout=10, params={'action':'create'})\n",
    "        if req.status_code == 200:\n",
    "            msg = req.json()\n",
    "            if msg['status'] == 'successful':\n",
    "                self.sessionId = msg['message']['sessionId']\n",
    "                print(self.sessionId)\n",
    "            else:\n",
    "                print(req.content)\n",
    "                raise ValueError('cannot get new sessionId, cannot start chat')\n",
    "        else:\n",
    "            print(req.content)\n",
    "\n",
    "\n",
    "        \n",
    "cache = Cache()   \n",
    "\n",
    "\n"
   ]
  },
  {
   "cell_type": "code",
   "execution_count": null,
   "metadata": {
    "ExecuteTime": {
     "start_time": "2018-06-18T20:10:49.701Z"
    }
   },
   "outputs": [
    {
     "name": "stderr",
     "output_type": "stream",
     "text": [
      " * Running on http://0.0.0.0:6006/ (Press CTRL+C to quit)\n"
     ]
    },
    {
     "name": "stdout",
     "output_type": "stream",
     "text": [
      "running at http://10.0.24.31:6006\n"
     ]
    },
    {
     "name": "stderr",
     "output_type": "stream",
     "text": [
      "172.18.0.1 - - [18/Jun/2018 20:10:55] \"GET / HTTP/1.1\" 200 -\n",
      "172.18.0.1 - - [18/Jun/2018 20:10:55] \"GET /static/jquery.min.js HTTP/1.1\" 304 -\n",
      "172.18.0.1 - - [18/Jun/2018 20:10:55] \"GET /static/down.png HTTP/1.1\" 304 -\n"
     ]
    }
   ],
   "source": [
    "app.debug = False\n",
    "port = 6006\n",
    "print('running at http://10.0.24.31:{}'.format(port))\n",
    "app.run(host='0.0.0.0',port=port)    #这样用来监听所有的ip，团队调试用"
   ]
  },
  {
   "cell_type": "code",
   "execution_count": null,
   "metadata": {
    "collapsed": true
   },
   "outputs": [],
   "source": []
  }
 ],
 "metadata": {
  "kernelspec": {
   "display_name": "Python 3",
   "language": "python",
   "name": "python3"
  },
  "language_info": {
   "codemirror_mode": {
    "name": "ipython",
    "version": 3
   },
   "file_extension": ".py",
   "mimetype": "text/x-python",
   "name": "python",
   "nbconvert_exporter": "python",
   "pygments_lexer": "ipython3",
   "version": "3.6.3"
  },
  "varInspector": {
   "cols": {
    "lenName": 16,
    "lenType": 16,
    "lenVar": 40
   },
   "kernels_config": {
    "python": {
     "delete_cmd_postfix": "",
     "delete_cmd_prefix": "del ",
     "library": "var_list.py",
     "varRefreshCmd": "print(var_dic_list())"
    },
    "r": {
     "delete_cmd_postfix": ") ",
     "delete_cmd_prefix": "rm(",
     "library": "var_list.r",
     "varRefreshCmd": "cat(var_dic_list()) "
    }
   },
   "types_to_exclude": [
    "module",
    "function",
    "builtin_function_or_method",
    "instance",
    "_Feature"
   ],
   "window_display": false
  }
 },
 "nbformat": 4,
 "nbformat_minor": 2
}
