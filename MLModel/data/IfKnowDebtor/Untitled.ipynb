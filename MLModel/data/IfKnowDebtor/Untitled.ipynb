{
 "cells": [
  {
   "cell_type": "code",
   "execution_count": 8,
   "metadata": {
    "ExecuteTime": {
     "end_time": "2018-06-12T21:14:51.472561Z",
     "start_time": "2018-06-12T21:14:51.468733Z"
    },
    "collapsed": true
   },
   "outputs": [],
   "source": [
    "import pandas as pd\n",
    "import re\n",
    "import numpy as np"
   ]
  },
  {
   "cell_type": "code",
   "execution_count": 2,
   "metadata": {
    "ExecuteTime": {
     "end_time": "2018-06-12T21:11:59.144913Z",
     "start_time": "2018-06-12T21:11:59.138393Z"
    },
    "collapsed": true
   },
   "outputs": [],
   "source": [
    "df = pd.read_csv('mock_up_data.csv',encoding='utf8')"
   ]
  },
  {
   "cell_type": "code",
   "execution_count": 5,
   "metadata": {
    "ExecuteTime": {
     "end_time": "2018-06-12T21:13:53.803631Z",
     "start_time": "2018-06-12T21:13:53.797291Z"
    }
   },
   "outputs": [],
   "source": [
    "df.split_text = df.split_text.apply(lambda x: re.sub(r' ','',x) )"
   ]
  },
  {
   "cell_type": "code",
   "execution_count": 18,
   "metadata": {
    "ExecuteTime": {
     "end_time": "2018-06-12T21:18:58.406625Z",
     "start_time": "2018-06-12T21:18:58.395489Z"
    }
   },
   "outputs": [],
   "source": [
    "lb0 = set(df.split_text[df.label==0].values)\n",
    "lb1 = set(df.split_text[df.label==1].values)\n",
    "lb2 = set(df.split_text[df.label==2].values)"
   ]
  },
  {
   "cell_type": "code",
   "execution_count": 25,
   "metadata": {
    "ExecuteTime": {
     "end_time": "2018-06-12T21:20:05.654035Z",
     "start_time": "2018-06-12T21:20:05.648923Z"
    }
   },
   "outputs": [],
   "source": [
    "split_text = list(lb0) + list(lb1) + list(lb2)\n",
    "labels = [0 for i in range(len(lb0))] + [1 for i in range(len(lb1))] + [2 for i in range(len(lb2))]"
   ]
  },
  {
   "cell_type": "code",
   "execution_count": 26,
   "metadata": {
    "ExecuteTime": {
     "end_time": "2018-06-12T21:20:06.860450Z",
     "start_time": "2018-06-12T21:20:06.855966Z"
    }
   },
   "outputs": [],
   "source": [
    "dff = pd.DataFrame({'label':labels, 'split_text':split_text})"
   ]
  },
  {
   "cell_type": "code",
   "execution_count": 28,
   "metadata": {
    "ExecuteTime": {
     "end_time": "2018-06-12T21:20:36.545669Z",
     "start_time": "2018-06-12T21:20:36.540146Z"
    }
   },
   "outputs": [],
   "source": [
    "dff.to_csv('mock_up_data.csv',encoding='utf8', index=False)"
   ]
  },
  {
   "cell_type": "code",
   "execution_count": 20,
   "metadata": {
    "ExecuteTime": {
     "end_time": "2018-06-12T21:19:30.334827Z",
     "start_time": "2018-06-12T21:19:30.330240Z"
    }
   },
   "outputs": [
    {
     "data": {
      "text/plain": [
       "253"
      ]
     },
     "execution_count": 20,
     "metadata": {},
     "output_type": "execute_result"
    }
   ],
   "source": [
    "len(lb0)"
   ]
  },
  {
   "cell_type": "code",
   "execution_count": 21,
   "metadata": {
    "ExecuteTime": {
     "end_time": "2018-06-12T21:19:35.064387Z",
     "start_time": "2018-06-12T21:19:35.059895Z"
    }
   },
   "outputs": [
    {
     "data": {
      "text/plain": [
       "12"
      ]
     },
     "execution_count": 21,
     "metadata": {},
     "output_type": "execute_result"
    }
   ],
   "source": [
    "len(lb1)"
   ]
  },
  {
   "cell_type": "code",
   "execution_count": 22,
   "metadata": {
    "ExecuteTime": {
     "end_time": "2018-06-12T21:19:38.966087Z",
     "start_time": "2018-06-12T21:19:38.961500Z"
    }
   },
   "outputs": [
    {
     "data": {
      "text/plain": [
       "47"
      ]
     },
     "execution_count": 22,
     "metadata": {},
     "output_type": "execute_result"
    }
   ],
   "source": [
    "len(lb2)"
   ]
  },
  {
   "cell_type": "code",
   "execution_count": 23,
   "metadata": {
    "ExecuteTime": {
     "end_time": "2018-06-12T21:19:56.067261Z",
     "start_time": "2018-06-12T21:19:56.063962Z"
    },
    "collapsed": true
   },
   "outputs": [],
   "source": [
    "split_text = list(lb0) + list(lb0) + list(lb2)"
   ]
  },
  {
   "cell_type": "code",
   "execution_count": null,
   "metadata": {
    "collapsed": true
   },
   "outputs": [],
   "source": []
  }
 ],
 "metadata": {
  "kernelspec": {
   "display_name": "Python 3",
   "language": "python",
   "name": "python3"
  },
  "language_info": {
   "codemirror_mode": {
    "name": "ipython",
    "version": 3
   },
   "file_extension": ".py",
   "mimetype": "text/x-python",
   "name": "python",
   "nbconvert_exporter": "python",
   "pygments_lexer": "ipython3",
   "version": "3.6.3"
  },
  "varInspector": {
   "cols": {
    "lenName": 16,
    "lenType": 16,
    "lenVar": 40
   },
   "kernels_config": {
    "python": {
     "delete_cmd_postfix": "",
     "delete_cmd_prefix": "del ",
     "library": "var_list.py",
     "varRefreshCmd": "print(var_dic_list())"
    },
    "r": {
     "delete_cmd_postfix": ") ",
     "delete_cmd_prefix": "rm(",
     "library": "var_list.r",
     "varRefreshCmd": "cat(var_dic_list()) "
    }
   },
   "types_to_exclude": [
    "module",
    "function",
    "builtin_function_or_method",
    "instance",
    "_Feature"
   ],
   "window_display": false
  }
 },
 "nbformat": 4,
 "nbformat_minor": 2
}
