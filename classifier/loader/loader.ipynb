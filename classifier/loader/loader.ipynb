{
 "cells": [
  {
   "cell_type": "code",
   "execution_count": 1,
   "metadata": {
    "ExecuteTime": {
     "end_time": "2018-07-31T22:13:20.686345Z",
     "start_time": "2018-07-31T22:13:20.036196Z"
    }
   },
   "outputs": [],
   "source": [
    "import pickle\n",
    "import sys,os\n",
    "model_path = '../models/ml_models/'\n",
    "saved_model_path = '../saved_model/{}/main_flow/{}.pkl'\n",
    "saved_other_model_path = '../saved_model/{}/other_flow/{}.pkl'\n",
    "# saved_model_path = os.path.join(os.path.dirname(__file__), saved_model_path)\n",
    "saved_other_model_path = os.path.join(os.path.dirname(__file__), saved_other_model_path)\n",
    "sys.path.append(model_path)\n",
    "from ml import *\n",
    "log_path = '../lib/'\n",
    "sys.path.append(log_path)\n",
    "from log import Logger\n",
    "env_path = '../env/'\n",
    "sys.path.append(env_path)\n",
    "from env import ENV\n",
    "\n",
    "model_list = ['IDClassifier', \n",
    "                  'CutDebt', \n",
    "                  'WillingToPay',\n",
    "                  'IfKnowDebtor',\n",
    "                  'Installment',\n",
    "                  'ConfirmLoan']\n",
    "\n",
    "def load_all():\n",
    "    logger = Logger(load_all.__name__).logger\n",
    "    model_dict = {}\n",
    "    for model in model_list:\n",
    "        model_dict[model] = pickle.load(open(saved_model_path.format(model,model),'rb'))\n",
    "        logger.info('{} has been load!'.format(model))\n",
    "        try:\n",
    "            model_dict['WillingToPay'].re_time._set_timeZone(ENV.TIMEZONE.value)\n",
    "            logger.info('{} time zone is set to {}'.format(model,ENV.TIMEZONE.value))\n",
    "        except:\n",
    "            logger.info('{} does not require time zone!'.format(model))\n",
    "    return model_dict\n",
    "\n",
    "def load_all_others():\n",
    "    logger = Logger(load_all.__name__).logger\n",
    "    model_dict = {}\n",
    "    for model in model_list:\n",
    "        model_dict[model] = pickle.load(open(saved_other_model_path.format(model,model),'rb'))\n",
    "        logger.info('{} has been load!'.format(model))\n",
    "    return model_dict"
   ]
  },
  {
   "cell_type": "code",
   "execution_count": null,
   "metadata": {},
   "outputs": [],
   "source": [
    ""
   ]
  }
 ],
 "metadata": {
  "kernelspec": {
   "display_name": "Python 3",
   "language": "python",
   "name": "python3"
  },
  "language_info": {
   "codemirror_mode": {
    "name": "ipython",
    "version": 3.0
   },
   "file_extension": ".py",
   "mimetype": "text/x-python",
   "name": "python",
   "nbconvert_exporter": "python",
   "pygments_lexer": "ipython3",
   "version": "3.6.5"
  },
  "varInspector": {
   "cols": {
    "lenName": 16.0,
    "lenType": 16.0,
    "lenVar": 40.0
   },
   "kernels_config": {
    "python": {
     "delete_cmd_postfix": "",
     "delete_cmd_prefix": "del ",
     "library": "var_list.py",
     "varRefreshCmd": "print(var_dic_list())"
    },
    "r": {
     "delete_cmd_postfix": ") ",
     "delete_cmd_prefix": "rm(",
     "library": "var_list.r",
     "varRefreshCmd": "cat(var_dic_list()) "
    }
   },
   "types_to_exclude": [
    "module",
    "function",
    "builtin_function_or_method",
    "instance",
    "_Feature"
   ],
   "window_display": false
  }
 },
 "nbformat": 4,
 "nbformat_minor": 0
}