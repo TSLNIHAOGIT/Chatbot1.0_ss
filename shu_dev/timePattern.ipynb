{
 "cells": [
  {
   "cell_type": "code",
   "execution_count": 1,
   "metadata": {
    "ExecuteTime": {
     "end_time": "2018-06-27T18:54:46.022310Z",
     "start_time": "2018-06-27T18:54:45.375961Z"
    }
   },
   "outputs": [],
   "source": [
    "import pandas as pd\n",
    "import numpy as np\n",
    "import re\n",
    "import datetime as dt\n",
    "import pytz"
   ]
  },
  {
   "cell_type": "code",
   "execution_count": 58,
   "metadata": {
    "ExecuteTime": {
     "end_time": "2018-06-27T19:19:12.617046Z",
     "start_time": "2018-06-27T19:19:12.573758Z"
    }
   },
   "outputs": [],
   "source": [
    "class TimePattern:\n",
    "    def __init__(self,pattern_path=None,tz='America/New_York'):\n",
    "        self._set_timeZone(tz)\n",
    "        self._load_mapping(pattern_path)\n",
    "        \n",
    "    \n",
    "    def process(self, sentence):\n",
    "        current = dt.datetime.now()\n",
    "        current = self.tz.localize(current)\n",
    "        fixymd = self.evl_ymd(sentence)\n",
    "        selfdefine = re.findall(self.re_ext, sentence)\n",
    "        result = []\n",
    "        for each in fixymd:\n",
    "            future = self.evl(each['expression'])\n",
    "            gap = (future - current).total_seconds()\n",
    "            result.append({'pattern':each['pattern'], 'time':future, 'gapS':gap, 'gapH':gap/3600})\n",
    "        for each in selfdefine:\n",
    "            future = self.evl(self.dict_ext[each])\n",
    "            gap = (future - current).total_seconds()\n",
    "            result.append({'pattern':each, 'time':future, 'gapS':gap, 'gapH':gap/3600})\n",
    "        return result\n",
    "    \n",
    "    def evl(self, expression):\n",
    "        current = dt.datetime.now()\n",
    "        current = self.tz.localize(current)\n",
    "        exp_week = re.findall(r'-.+W-.+w',expression)\n",
    "        exp_ymd = re.findall(r'.+y-.+m.+d',expression)\n",
    "\n",
    "        history = self._pros_second(expression, current)\n",
    "        history = self._pros_minute(expression, current, history)\n",
    "        history,shift = self._pros_hour(expression, current, history)\n",
    "\n",
    "        if exp_week:\n",
    "            history = self._pros_weekDay(expression,current, history)\n",
    "            history = self._pros_week(expression,current, history)\n",
    "            history = self._pros_year(expression, current,history)\n",
    "            future = self.create_from_W(history)  \n",
    "        elif exp_ymd:\n",
    "            history = self._pros_day(expression, current,history)\n",
    "            history = self._pros_month(expression, current,history)\n",
    "            history = self._pros_year(expression, current,history)\n",
    "            future = self.create_from_D(history)\n",
    "        if future.tzinfo is None:\n",
    "            future = self.tz.localize(future)\n",
    "        if not shift:\n",
    "            future = future - self.delta\n",
    "        return future\n",
    "    \n",
    "    def _load_mapping(self, pattern_path):\n",
    "        df = pd.read_csv('mapping.csv')\n",
    "        # create length\n",
    "        df['length'] = df.key_word.apply(lambda x: len(x))\n",
    "        df = df.sort_values(['length','key_word'], ascending=False)\n",
    "        df_series = pd.Series(index=df.key_word.values, data=df.expression.values)\n",
    "        df_dict = df_series.to_dict()\n",
    "        self.series = df_series\n",
    "        self.re_ext = r'|'.join(self.series.index.values)\n",
    "        self.dict_ext = df_dict\n",
    "        \n",
    "    def _set_timeZone(self,tz):\n",
    "        utc = pytz.utc\n",
    "        self.tz = pytz.timezone(tz)\n",
    "        now = dt.datetime.now()\n",
    "        utc_now = utc.localize(now)\n",
    "        tz_now = self.tz.localize(now)\n",
    "        delta =  utc_now - tz_now\n",
    "        hours = round(delta.total_seconds() / 3600)\n",
    "        self.delta = dt.timedelta(hours=hours)\n",
    "        \n",
    "    def _pros_second(self, expression, current, history={'microsecond':0}):\n",
    "        history = history.copy()\n",
    "        S = current.second\n",
    "        reexp = r'M:.+S'\n",
    "        extract = re.findall(reexp,expression)[0]\n",
    "        # M:+1S\n",
    "        if extract[2:-1] == '?':\n",
    "            history.update({'second':S})\n",
    "            return history\n",
    "        elif extract[2] == '+':\n",
    "            gap = int(extract[3:-1])\n",
    "            create = current + dt.timedelta(seconds=gap) \n",
    "            create = create.replace(**history)\n",
    "            return create \n",
    "        elif extract[2] == '-':\n",
    "            gap = int(extract[3:-1])\n",
    "            create =  current - dt.timedelta(seconds=gap)\n",
    "            create = create.replace(**history)\n",
    "            return create\n",
    "        else:\n",
    "            second = int(extract[2:-1])\n",
    "            history.update({'second':second})\n",
    "            return history\n",
    "        \n",
    "    def _pros_minute(self, expression, current, history = {}):\n",
    "        if isinstance(history,dt.datetime):\n",
    "            return history\n",
    "        history = history.copy()\n",
    "        M = current.minute\n",
    "        reexp = r'H:.+M'\n",
    "        extract = re.findall(reexp,expression)[0]\n",
    "        # H:?M\n",
    "        if extract[2:-1] == '?':\n",
    "            history.update({'minute':M})\n",
    "            return history\n",
    "        elif extract[2] == '+':\n",
    "            gap = int(extract[3:-1])\n",
    "            create = current + dt.timedelta(minutes=gap) \n",
    "            create = create.replace(**history)\n",
    "            return create\n",
    "        elif extract[2] == '-':\n",
    "            gap = int(extract[3:-1])\n",
    "            create = current - dt.timedelta(minutes=gap) \n",
    "            create = create.replace(**history)\n",
    "            return create\n",
    "        else:\n",
    "            minute = int(extract[2:-1])\n",
    "            history.update({'minute':minute})\n",
    "            return history\n",
    "        \n",
    "    def _pros_hour(self, expression, current, history = {}):\n",
    "        shift = True\n",
    "        if isinstance(history,dt.datetime):\n",
    "            return history, shift\n",
    "        history = history.copy()\n",
    "\n",
    "        H = current.hour\n",
    "        reexp = r'[dw]-.+H'\n",
    "        extract = re.findall(reexp,expression)[0]\n",
    "    #     d-?H\n",
    "        if extract[2:-1] == '?':\n",
    "            history.update({'hour':H})\n",
    "            return history,shift\n",
    "        elif extract[2] == '+':\n",
    "            gap = int(extract[3:-1])\n",
    "            create = current + dt.timedelta(hours=gap)\n",
    "            create = create.replace(**history)\n",
    "            return create,shift\n",
    "        elif extract[2] == '-':\n",
    "            gap = int(extract[3:-1])\n",
    "            create = current - dt.timedelta(hours=gap)\n",
    "            create = create.replace(**history)\n",
    "            return create,shift\n",
    "        else:\n",
    "            shift = False\n",
    "            hour = int(extract[2:-1])\n",
    "            history.update({'hour':hour})\n",
    "            return history,shift\n",
    "        \n",
    "    def _pros_day(self, expression, current, history={}):\n",
    "        if isinstance(history,dt.datetime):\n",
    "            return history\n",
    "        history = history.copy()\n",
    "        d = current.day\n",
    "        reexp = r'm-.+d'\n",
    "        extract = re.findall(reexp,expression)[0]\n",
    "        if extract[2:-1] == '?':\n",
    "            history.update({'day':d})\n",
    "            return history\n",
    "        elif extract[2] == '+':\n",
    "            gap = int(extract[3:-1])\n",
    "            create = current + dt.timedelta(days=gap) \n",
    "            create = create.replace(**history)\n",
    "            return create\n",
    "        elif extract[2] == '-':\n",
    "            gap = int(extract[3:-1])\n",
    "            create = current - dt.timedelta(days=gap) \n",
    "            create = create.replace(**history)\n",
    "            return create\n",
    "        else:\n",
    "            day = int(extract[2:-1])\n",
    "            history.update({'day':day})\n",
    "            return history\n",
    "        \n",
    "    def _pros_month(self, expression, current, history):\n",
    "        if isinstance(history,dt.datetime):\n",
    "            return history\n",
    "        history = history.copy()\n",
    "        adjust_year = 0\n",
    "        m = current.month\n",
    "        reexp = r'y-.+m'\n",
    "        extract = re.findall(reexp,expression)[0]\n",
    "        if extract[2:-1] == '?':\n",
    "            history.update({'month':m})\n",
    "            return history\n",
    "        elif extract[2] == '+':\n",
    "            cur = int(extract[3:-1]) + m\n",
    "            if cur > 12:\n",
    "                adjust_year = int(cur / 12)\n",
    "                cur = cur % 12\n",
    "                if cur == 0:\n",
    "                    cur = 12\n",
    "                    adjust_year -= 1\n",
    "            history.update({'year':adjust_year})\n",
    "            history.update({'month':cur})\n",
    "            return history\n",
    "        elif extract[2] == '-':\n",
    "            cur = m - int(extract[3:-1])\n",
    "            if cur < 1:\n",
    "                adjust_year = int(cur / 12) - 1\n",
    "                cur = cur % 12\n",
    "                if cur == 0:\n",
    "                    cur = 12\n",
    "            history.update({'year':adjust_year})\n",
    "            history.update({'month':cur})\n",
    "            return history\n",
    "        else:\n",
    "            history.update({'month':int(extract[2:-1])})\n",
    "            return history\n",
    "        \n",
    "    def _pros_year(self, expression, current, history):\n",
    "        if isinstance(history,dt.datetime):\n",
    "            return history\n",
    "        history = history.copy()\n",
    "        adjust_year = history.get('year')\n",
    "        if adjust_year is None:\n",
    "            adjust_year = 0\n",
    "        y = current.year\n",
    "        reexp = r'.+y-'\n",
    "        extract = re.findall(reexp,expression)[0]\n",
    "        if extract[0:-2] == '?':\n",
    "            history.update({'year':y+adjust_year})\n",
    "            return history\n",
    "        elif extract[0] == '+':\n",
    "            gap = int(extract[1:-2])\n",
    "            history.update({'year':y+adjust_year+gap})\n",
    "            return history\n",
    "        elif extract[0] == '-':\n",
    "            gap = int(extract[1:-2])\n",
    "            history.update({'year':y+adjust_year-gap})\n",
    "            return history\n",
    "        else:\n",
    "            history.update({'year':int(extract[:-2])+adjust_year})\n",
    "            return history\n",
    "        \n",
    "    def _pros_weekDay(self, expression, current, history):\n",
    "        history = history.copy()\n",
    "        w = current.isocalendar()[2] \n",
    "        reexp = r'W-.+w'\n",
    "        extract = re.findall(reexp,expression)[0]\n",
    "\n",
    "        # W-+1w\n",
    "        if extract[2:-1] == '?':\n",
    "            history.update({'weekday':str(w)})\n",
    "            return history\n",
    "        elif extract[2] == '+':\n",
    "            rep = str(w + int(extract[3:-1]))\n",
    "            history.update({'weekday':rep})\n",
    "            return history\n",
    "        elif extract[2] == '-':\n",
    "            rep = str(w - int(extract[3:-1]))\n",
    "            history.update({'weekday':rep})\n",
    "            return history\n",
    "        else:\n",
    "            rep = extract[2:-1]\n",
    "            history.update({'weekday':rep})\n",
    "            return history\n",
    "        \n",
    "    def _pros_week(self, expression, current, history):\n",
    "        history = history.copy()\n",
    "        year_adjust = 0\n",
    "        W = current.isocalendar()[1] \n",
    "        reexp = r'y-.+W'\n",
    "        extract = re.findall(reexp,expression)[0]\n",
    "\n",
    "        # y-+1W\n",
    "        if extract[2:-1] == '?':\n",
    "            rep = str(W)\n",
    "            history.update({'week':rep})\n",
    "            return history\n",
    "        elif extract[2] == '+':\n",
    "            cur = W + int(extract[3:-1])\n",
    "            if cur > 53:\n",
    "                year_adjust = int(cur / 53)\n",
    "                cur = cur % 53\n",
    "            rep = str(cur)\n",
    "            history.update({'year':year_adjust})\n",
    "            history.update({'week':rep})\n",
    "            return history\n",
    "        elif extract[2] == '-':\n",
    "            cur = W - int(extract[3:-1])\n",
    "            if cur < 0:\n",
    "                year_adjust = int(cur / 53) -1\n",
    "                cur = cur % 53\n",
    "            rep = str(cur)\n",
    "            history.update({'year':year_adjust})\n",
    "            history.update({'week':rep})\n",
    "            return history\n",
    "        else:\n",
    "            rep = extract[2:-1]\n",
    "            history.update({'week':rep})\n",
    "            return history\n",
    "    \n",
    "    def create_from_D(self, history):\n",
    "        if isinstance(history,dt.datetime):\n",
    "            return history\n",
    "        return dt.datetime(**history)\n",
    "    \n",
    "    def create_from_W(self, history):\n",
    "        expression ='{}y-{}W-{}w-{}H:{}M:{}S'.format(history['year'],\n",
    "                                                     history['week'],\n",
    "                                                     history['weekday'],\n",
    "                                                     history['hour'],\n",
    "                                                     history['minute'],\n",
    "                                                     history['second'])\n",
    "        eval_time = dt.datetime.strptime(expression, \"%Yy-%WW-%ww-%HH:%MM:%SS\")\n",
    "        return eval_time\n",
    "    \n",
    "    def ymd_reg(self,x):\n",
    "        fix_ymd = r'(?:(?:今|明|后|大后)年)?(?:(?:\\d{1,2}|下下下个|下下个|再下个|下个|十一|十二|一|二|三|四|五|六|七|八|九|十|后1个|后2个|后一个|后两个|后二个)月)?(?:(?:\\d{1,2}|一|二|三|四|五|六|七|八|九|十|十一|十二|十三|十四|十五|十六|十七|十八|十九|二十|二十一|二十二|二十三|二十四|二十五|二十六|二十七|二十八|二十九|三十|三十一)[日号])?'\n",
    "        finds = list(set(re.findall(fix_ymd,x)) -set(['']))\n",
    "        return finds\n",
    "\n",
    "    def ymd_expression(self, result):\n",
    "        def get_key(x):\n",
    "            if x.isdigit():\n",
    "                return x\n",
    "            else:\n",
    "                gets = time_dic.get(x)\n",
    "                if x is None:\n",
    "                    return '?'\n",
    "                else:\n",
    "                    return gets\n",
    "\n",
    "\n",
    "        time_dic = {'今':'?','明':'+1','后':'+2','大后':'+3','下个':'+1','下下个':'+2','再下个':'+2','下下下个':'+3','后1个':'+1','后2个':'+1','后一个':'+1','后两个':'+1',\n",
    "                    '一':'1','二':'2','三':'3','四':'4','五':'5','六':'6',\n",
    "                   '七':'7','八':'8','九':'9','十':'10','十一':'11','十二':'12','十三':'13','十四':'14','十五':'15',\n",
    "                   '十六':'16','十七':'17','十八':'18','十九':'19','二十':'20','二十一':'21','二十二':'22','二十三':'23',\n",
    "                   '二十四':'24','二十五':'25','二十六':'26','二十七':'27','二十八':'28','二十九':'29','三十':'30','三十一':'31'}\n",
    "        year_index = result.find('年')\n",
    "        month_index = result.find('月')\n",
    "        if result.find('日') != -1:\n",
    "            date_index = result.find('日')\n",
    "        else:\n",
    "            date_index = result.find('号')\n",
    "\n",
    "        if year_index != -1:\n",
    "            year_key = result[0:year_index]  \n",
    "            year = get_key(year_key)\n",
    "        else:\n",
    "            year = '?'\n",
    "        if month_index != -1:\n",
    "            month_key = result[year_index+1:month_index]\n",
    "            month = get_key(month_key)\n",
    "        else:\n",
    "            month = '?'\n",
    "        if date_index != -1:\n",
    "            date_key = result[month_index+1:date_index]\n",
    "            date = get_key(date_key)\n",
    "        else:\n",
    "            date = '?'\n",
    "        formatted = '{}y-{}m-{}d-12H:00M:00S'.format(year, month, date)\n",
    "        return formatted\n",
    "    \n",
    "    def evl_ymd(self,text):\n",
    "        finds = self.ymd_reg(text)\n",
    "        evls = []\n",
    "        if len(finds) == 0:\n",
    "            return evls\n",
    "        else:\n",
    "            for each in finds:\n",
    "                evls.append({'pattern':each, 'expression':self.ymd_expression(each)})\n",
    "        return evls\n",
    "    \n",
    "    def test1(self):\n",
    "        month = ['下个月','再下个月','下下个月','1月','2月',\n",
    "                 '3月','4月','5月','6月','7月','8月','9月','10月','11月','12月',\n",
    "                 '一月','二月','三月','四月','五月','六月','七月','八月','九月','十月','十一月','十二月',]"
   ]
  },
  {
   "cell_type": "code",
   "execution_count": 70,
   "metadata": {
    "ExecuteTime": {
     "end_time": "2018-06-27T19:21:33.027983Z",
     "start_time": "2018-06-27T19:21:33.009941Z"
    }
   },
   "outputs": [
    {
     "name": "stdout",
     "output_type": "stream",
     "text": [
      "2018-06-29 16:00:00-04:00\n"
     ]
    }
   ],
   "source": [
    "tt = TimePattern(pattern_path='mapping.csv')\n",
    "print(tt.evl('?y-?W-5w-12H:00M:00S'))"
   ]
  },
  {
   "cell_type": "code",
   "execution_count": 71,
   "metadata": {
    "ExecuteTime": {
     "end_time": "2018-06-27T19:21:58.128763Z",
     "start_time": "2018-06-27T19:21:57.981666Z"
    }
   },
   "outputs": [],
   "source": [
    "\n",
    "class Test:\n",
    "    def __init__(self):\n",
    "        self.t = TimePattern(pattern_path='mapping.csv')\n",
    "    \n",
    "    def test_fixed_ymd(self):\n",
    "        month = ['1月','2月',\n",
    "                 '3月','4月','5月','6月','7月','8月','9月','10月','11月','12月',\n",
    "                 '一月','二月','三月','四月','五月','六月','七月','八月','九月','十月','十一月','十二月']\n",
    "        year = ['明年','今年','后年','大后年']\n",
    "        day = ['1号','5号','7号','13号','18号','21号','24号','一号','二十三号',]\n",
    "        for y in year:\n",
    "            for m in month:\n",
    "                for d in day:\n",
    "                    string = y+m+d\n",
    "                    try:\n",
    "                        response = self.t.process(string)\n",
    "                    except ValueError:\n",
    "                        print(string)\n",
    "                    try:\n",
    "                        assert len(response) == 1\n",
    "                    except AssertionError:\n",
    "                        print('asserting error')\n",
    "                        print(string)\n",
    "                        print('==============')\n",
    "                    \n",
    "    def test_self_defined(self):\n",
    "        counter = 0\n",
    "        for each in self.t.series.index.values:\n",
    "            try:\n",
    "                evalued = self.t.process(each)\n",
    "                print(evalued)\n",
    "            except ValueError:\n",
    "                counter += 1\n",
    "                print(each)\n",
    "                print(self.t.series[each])\n",
    "                print('============={}'.format(counter))\n",
    "               \n",
    "t = Test()\n",
    "t.test_fixed_ymd()\n"
   ]
  },
  {
   "cell_type": "code",
   "execution_count": 72,
   "metadata": {
    "ExecuteTime": {
     "end_time": "2018-06-27T19:21:58.847217Z",
     "start_time": "2018-06-27T19:21:58.780226Z"
    }
   },
   "outputs": [
    {
     "name": "stdout",
     "output_type": "stream",
     "text": [
      "[{'pattern': '下个礼拜四早上', 'time': datetime.datetime(2018, 7, 5, 16, 0, tzinfo=<DstTzInfo 'America/New_York' EDT-1 day, 20:00:00 DST>), 'gapS': 679081.218568, 'gapH': 188.63367182444443}]\n",
      "[{'pattern': '下个礼拜五早上', 'time': datetime.datetime(2018, 7, 6, 16, 0, tzinfo=<DstTzInfo 'America/New_York' EDT-1 day, 20:00:00 DST>), 'gapS': 765481.217229, 'gapH': 212.63367145249998}]\n",
      "[{'pattern': '下个礼拜二早上', 'time': datetime.datetime(2018, 7, 3, 16, 0, tzinfo=<DstTzInfo 'America/New_York' EDT-1 day, 20:00:00 DST>), 'gapS': 506281.216526, 'gapH': 140.63367125722223}]\n",
      "[{'pattern': '下个礼拜三早上', 'time': datetime.datetime(2018, 7, 4, 16, 0, tzinfo=<DstTzInfo 'America/New_York' EDT-1 day, 20:00:00 DST>), 'gapS': 592681.215972, 'gapH': 164.63367110333334}]\n",
      "[{'pattern': '下个礼拜一早上', 'time': datetime.datetime(2018, 7, 2, 16, 0, tzinfo=<DstTzInfo 'America/New_York' EDT-1 day, 20:00:00 DST>), 'gapS': 419881.21567, 'gapH': 116.63367101944445}]\n",
      "[{'pattern': '下个礼拜4早上', 'time': datetime.datetime(2018, 7, 5, 16, 0, tzinfo=<DstTzInfo 'America/New_York' EDT-1 day, 20:00:00 DST>), 'gapS': 679081.215367, 'gapH': 188.63367093527776}]\n",
      "[{'pattern': '下个礼拜3早上', 'time': datetime.datetime(2018, 7, 4, 16, 0, tzinfo=<DstTzInfo 'America/New_York' EDT-1 day, 20:00:00 DST>), 'gapS': 592681.215149, 'gapH': 164.63367087472224}]\n",
      "[{'pattern': '下个礼拜2早上', 'time': datetime.datetime(2018, 7, 3, 16, 0, tzinfo=<DstTzInfo 'America/New_York' EDT-1 day, 20:00:00 DST>), 'gapS': 506281.214925, 'gapH': 140.6336708125}]\n",
      "[{'pattern': '下个礼拜1早上', 'time': datetime.datetime(2018, 7, 2, 16, 0, tzinfo=<DstTzInfo 'America/New_York' EDT-1 day, 20:00:00 DST>), 'gapS': 419881.214379, 'gapH': 116.63367066083333}]\n",
      "[{'pattern': '下个星期四早上', 'time': datetime.datetime(2018, 7, 5, 16, 0, tzinfo=<DstTzInfo 'America/New_York' EDT-1 day, 20:00:00 DST>), 'gapS': 679081.213976, 'gapH': 188.6336705488889}]\n",
      "[{'pattern': '下个星期五早上', 'time': datetime.datetime(2018, 7, 6, 16, 0, tzinfo=<DstTzInfo 'America/New_York' EDT-1 day, 20:00:00 DST>), 'gapS': 765481.213279, 'gapH': 212.6336703552778}]\n",
      "[{'pattern': '下个星期二早上', 'time': datetime.datetime(2018, 7, 3, 16, 0, tzinfo=<DstTzInfo 'America/New_York' EDT-1 day, 20:00:00 DST>), 'gapS': 506281.212642, 'gapH': 140.63367017833335}]\n",
      "[{'pattern': '下个星期三早上', 'time': datetime.datetime(2018, 7, 4, 16, 0, tzinfo=<DstTzInfo 'America/New_York' EDT-1 day, 20:00:00 DST>), 'gapS': 592681.211729, 'gapH': 164.63366992472223}]\n",
      "[{'pattern': '下个星期一早上', 'time': datetime.datetime(2018, 7, 2, 16, 0, tzinfo=<DstTzInfo 'America/New_York' EDT-1 day, 20:00:00 DST>), 'gapS': 419881.208872, 'gapH': 116.6336691311111}]\n",
      "[{'pattern': '下个星期5早上', 'time': datetime.datetime(2018, 7, 6, 16, 0, tzinfo=<DstTzInfo 'America/New_York' EDT-1 day, 20:00:00 DST>), 'gapS': 765481.208574, 'gapH': 212.63366904833336}]\n",
      "[{'pattern': '下个星期4早上', 'time': datetime.datetime(2018, 7, 5, 16, 0, tzinfo=<DstTzInfo 'America/New_York' EDT-1 day, 20:00:00 DST>), 'gapS': 679081.208355, 'gapH': 188.63366898750002}]\n",
      "[{'pattern': '下个星期3早上', 'time': datetime.datetime(2018, 7, 4, 16, 0, tzinfo=<DstTzInfo 'America/New_York' EDT-1 day, 20:00:00 DST>), 'gapS': 592681.208154, 'gapH': 164.63366893166668}]\n",
      "[{'pattern': '下个星期2早上', 'time': datetime.datetime(2018, 7, 3, 16, 0, tzinfo=<DstTzInfo 'America/New_York' EDT-1 day, 20:00:00 DST>), 'gapS': 506281.207957, 'gapH': 140.63366887694445}]\n",
      "[{'pattern': '下个星期1早上', 'time': datetime.datetime(2018, 7, 2, 16, 0, tzinfo=<DstTzInfo 'America/New_York' EDT-1 day, 20:00:00 DST>), 'gapS': 419881.207755, 'gapH': 116.63366882083332}]\n",
      "[{'pattern': '下下个礼拜四', 'time': datetime.datetime(2018, 7, 12, 19, 0, tzinfo=<DstTzInfo 'America/New_York' EDT-1 day, 20:00:00 DST>), 'gapS': 1294681.20756, 'gapH': 359.6336687666667}]\n",
      "[{'pattern': '下下个礼拜五', 'time': datetime.datetime(2018, 7, 13, 19, 0, tzinfo=<DstTzInfo 'America/New_York' EDT-1 day, 20:00:00 DST>), 'gapS': 1381081.207369, 'gapH': 383.6336687136111}]\n",
      "[{'pattern': '下下个礼拜二', 'time': datetime.datetime(2018, 7, 10, 19, 0, tzinfo=<DstTzInfo 'America/New_York' EDT-1 day, 20:00:00 DST>), 'gapS': 1121881.20718, 'gapH': 311.6336686611111}]\n",
      "[{'pattern': '下下个礼拜三', 'time': datetime.datetime(2018, 7, 11, 19, 0, tzinfo=<DstTzInfo 'America/New_York' EDT-1 day, 20:00:00 DST>), 'gapS': 1208281.206984, 'gapH': 335.6336686066667}]\n",
      "[{'pattern': '下下个礼拜一', 'time': datetime.datetime(2018, 7, 9, 19, 0, tzinfo=<DstTzInfo 'America/New_York' EDT-1 day, 20:00:00 DST>), 'gapS': 1035481.206793, 'gapH': 287.63366855361113}]\n",
      "[{'pattern': '下下个礼拜5', 'time': datetime.datetime(2018, 7, 13, 19, 0, tzinfo=<DstTzInfo 'America/New_York' EDT-1 day, 20:00:00 DST>), 'gapS': 1381081.206559, 'gapH': 383.63366848861114}]\n",
      "[{'pattern': '下下个礼拜4', 'time': datetime.datetime(2018, 7, 12, 19, 0, tzinfo=<DstTzInfo 'America/New_York' EDT-1 day, 20:00:00 DST>), 'gapS': 1294681.206358, 'gapH': 359.63366843277777}]\n",
      "[{'pattern': '下下个礼拜3', 'time': datetime.datetime(2018, 7, 11, 19, 0, tzinfo=<DstTzInfo 'America/New_York' EDT-1 day, 20:00:00 DST>), 'gapS': 1208281.206158, 'gapH': 335.63366837722225}]\n",
      "[{'pattern': '下下个礼拜2', 'time': datetime.datetime(2018, 7, 10, 19, 0, tzinfo=<DstTzInfo 'America/New_York' EDT-1 day, 20:00:00 DST>), 'gapS': 1121881.205969, 'gapH': 311.63366832472224}]\n",
      "[{'pattern': '下下个礼拜1', 'time': datetime.datetime(2018, 7, 9, 19, 0, tzinfo=<DstTzInfo 'America/New_York' EDT-1 day, 20:00:00 DST>), 'gapS': 1035481.205784, 'gapH': 287.63366827333334}]\n",
      "[{'pattern': '下下个星期四', 'time': datetime.datetime(2018, 7, 12, 19, 0, tzinfo=<DstTzInfo 'America/New_York' EDT-1 day, 20:00:00 DST>), 'gapS': 1294681.205598, 'gapH': 359.63366822166665}]\n",
      "[{'pattern': '下下个星期五', 'time': datetime.datetime(2018, 7, 13, 19, 0, tzinfo=<DstTzInfo 'America/New_York' EDT-1 day, 20:00:00 DST>), 'gapS': 1381081.205414, 'gapH': 383.63366817055555}]\n",
      "[{'pattern': '下下个星期二', 'time': datetime.datetime(2018, 7, 10, 19, 0, tzinfo=<DstTzInfo 'America/New_York' EDT-1 day, 20:00:00 DST>), 'gapS': 1121881.205229, 'gapH': 311.63366811916666}]\n",
      "[{'pattern': '下下个星期三', 'time': datetime.datetime(2018, 7, 11, 19, 0, tzinfo=<DstTzInfo 'America/New_York' EDT-1 day, 20:00:00 DST>), 'gapS': 1208281.205045, 'gapH': 335.63366806805556}]\n",
      "[{'pattern': '下下个星期一', 'time': datetime.datetime(2018, 7, 9, 19, 0, tzinfo=<DstTzInfo 'America/New_York' EDT-1 day, 20:00:00 DST>), 'gapS': 1035481.20486, 'gapH': 287.63366801666666}]\n",
      "[{'pattern': '下下个星期5', 'time': datetime.datetime(2018, 7, 13, 19, 0, tzinfo=<DstTzInfo 'America/New_York' EDT-1 day, 20:00:00 DST>), 'gapS': 1381081.204676, 'gapH': 383.63366796555556}]\n",
      "[{'pattern': '下下个星期4', 'time': datetime.datetime(2018, 7, 12, 19, 0, tzinfo=<DstTzInfo 'America/New_York' EDT-1 day, 20:00:00 DST>), 'gapS': 1294681.204491, 'gapH': 359.63366791416667}]\n",
      "[{'pattern': '下下个星期3', 'time': datetime.datetime(2018, 7, 11, 19, 0, tzinfo=<DstTzInfo 'America/New_York' EDT-1 day, 20:00:00 DST>), 'gapS': 1208281.204295, 'gapH': 335.63366785972227}]\n",
      "[{'pattern': '下下个星期2', 'time': datetime.datetime(2018, 7, 10, 19, 0, tzinfo=<DstTzInfo 'America/New_York' EDT-1 day, 20:00:00 DST>), 'gapS': 1121881.204118, 'gapH': 311.6336678105556}]\n",
      "[{'pattern': '下下个星期1', 'time': datetime.datetime(2018, 7, 9, 19, 0, tzinfo=<DstTzInfo 'America/New_York' EDT-1 day, 20:00:00 DST>), 'gapS': 1035481.20394, 'gapH': 287.6336677611111}]\n",
      "[{'pattern': '这礼拜内内', 'time': datetime.datetime(2018, 6, 29, 19, 0, tzinfo=<DstTzInfo 'America/New_York' EDT-1 day, 20:00:00 DST>), 'gapS': 171481.20376, 'gapH': 47.633667711111116}]\n",
      "[{'pattern': '这周四早上', 'time': datetime.datetime(2018, 6, 28, 16, 0, tzinfo=<DstTzInfo 'America/New_York' EDT-1 day, 20:00:00 DST>), 'gapS': 74281.203543, 'gapH': 20.63366765083333}]\n",
      "[{'pattern': '这周四下午', 'time': datetime.datetime(2018, 6, 28, 19, 0, tzinfo=<DstTzInfo 'America/New_York' EDT-1 day, 20:00:00 DST>), 'gapS': 85081.203362, 'gapH': 23.633667600555555}]\n",
      "[{'pattern': '这周五早上', 'time': datetime.datetime(2018, 6, 29, 16, 0, tzinfo=<DstTzInfo 'America/New_York' EDT-1 day, 20:00:00 DST>), 'gapS': 160681.203182, 'gapH': 44.63366755055556}]\n",
      "[{'pattern': '这周五下午', 'time': datetime.datetime(2018, 6, 29, 16, 0, tzinfo=<DstTzInfo 'America/New_York' EDT-1 day, 20:00:00 DST>), 'gapS': 160681.202815, 'gapH': 44.633667448611114}]\n",
      "[{'pattern': '这周二早上', 'time': datetime.datetime(2018, 6, 26, 16, 0, tzinfo=<DstTzInfo 'America/New_York' EDT-1 day, 20:00:00 DST>), 'gapS': -98518.797564, 'gapH': -27.366332656666664}]\n",
      "[{'pattern': '这周二下午', 'time': datetime.datetime(2018, 6, 26, 16, 0, tzinfo=<DstTzInfo 'America/New_York' EDT-1 day, 20:00:00 DST>), 'gapS': -98518.797764, 'gapH': -27.366332712222224}]\n",
      "[{'pattern': '这周三早上', 'time': datetime.datetime(2018, 6, 27, 16, 0, tzinfo=<DstTzInfo 'America/New_York' EDT-1 day, 20:00:00 DST>), 'gapS': -12118.797956, 'gapH': -3.3663327655555557}]\n",
      "[{'pattern': '这周三下午', 'time': datetime.datetime(2018, 6, 27, 19, 0, tzinfo=<DstTzInfo 'America/New_York' EDT-1 day, 20:00:00 DST>), 'gapS': -1318.798146, 'gapH': -0.36633281833333337}]\n",
      "[{'pattern': '这周5早上', 'time': datetime.datetime(2018, 6, 29, 16, 0, tzinfo=<DstTzInfo 'America/New_York' EDT-1 day, 20:00:00 DST>), 'gapS': 160681.201668, 'gapH': 44.63366713}]\n",
      "[{'pattern': '这周5下午', 'time': datetime.datetime(2018, 6, 29, 19, 0, tzinfo=<DstTzInfo 'America/New_York' EDT-1 day, 20:00:00 DST>), 'gapS': 171481.201484, 'gapH': 47.633667078888884}]\n",
      "[{'pattern': '这周4早上', 'time': datetime.datetime(2018, 6, 28, 16, 0, tzinfo=<DstTzInfo 'America/New_York' EDT-1 day, 20:00:00 DST>), 'gapS': 74281.201297, 'gapH': 20.633667026944448}]\n",
      "[{'pattern': '这周4下午', 'time': datetime.datetime(2018, 6, 28, 19, 0, tzinfo=<DstTzInfo 'America/New_York' EDT-1 day, 20:00:00 DST>), 'gapS': 85081.201112, 'gapH': 23.633666975555553}]\n",
      "[{'pattern': '这周3早上', 'time': datetime.datetime(2018, 6, 27, 16, 0, tzinfo=<DstTzInfo 'America/New_York' EDT-1 day, 20:00:00 DST>), 'gapS': -12118.799071, 'gapH': -3.366333075277778}]\n",
      "[{'pattern': '这周2早上', 'time': datetime.datetime(2018, 6, 26, 16, 0, tzinfo=<DstTzInfo 'America/New_York' EDT-1 day, 20:00:00 DST>), 'gapS': -98518.799256, 'gapH': -27.366333126666667}]\n",
      "[{'pattern': '这周2下午', 'time': datetime.datetime(2018, 6, 26, 19, 0, tzinfo=<DstTzInfo 'America/New_York' EDT-1 day, 20:00:00 DST>), 'gapS': -87718.799439, 'gapH': -24.3663331775}]\n",
      "[{'pattern': '大后天早上', 'time': datetime.datetime(2018, 6, 30, 16, 0, tzinfo=<DstTzInfo 'America/New_York' EDT-1 day, 20:00:00 DST>), 'gapS': 247081.200283, 'gapH': 68.63366674527778}]\n",
      "[{'pattern': '大后天下午', 'time': datetime.datetime(2018, 6, 30, 19, 0, tzinfo=<DstTzInfo 'America/New_York' EDT-1 day, 20:00:00 DST>), 'gapS': 257881.200137, 'gapH': 71.63366670472223}]\n",
      "[{'pattern': '四个半月内', 'time': datetime.datetime(2018, 7, 12, 19, 0, tzinfo=<DstTzInfo 'America/New_York' EDT-1 day, 20:00:00 DST>), 'gapS': 1294681.199998, 'gapH': 359.6336666661111}]\n",
      "[{'pattern': '六个半月内', 'time': datetime.datetime(2018, 7, 12, 19, 0, tzinfo=<DstTzInfo 'America/New_York' EDT-1 day, 20:00:00 DST>), 'gapS': 1294681.199861, 'gapH': 359.63366662805555}]\n",
      "[{'pattern': '八个半月内', 'time': datetime.datetime(2018, 7, 12, 19, 0, tzinfo=<DstTzInfo 'America/New_York' EDT-1 day, 20:00:00 DST>), 'gapS': 1294681.199725, 'gapH': 359.63366659027776}]\n",
      "[{'pattern': '五个半月内', 'time': datetime.datetime(2018, 7, 12, 19, 0, tzinfo=<DstTzInfo 'America/New_York' EDT-1 day, 20:00:00 DST>), 'gapS': 1294681.19959, 'gapH': 359.6336665527778}]\n",
      "[{'pattern': '两个半月内', 'time': datetime.datetime(2018, 7, 12, 19, 0, tzinfo=<DstTzInfo 'America/New_York' EDT-1 day, 20:00:00 DST>), 'gapS': 1294681.199457, 'gapH': 359.63366651583334}]\n",
      "[{'pattern': '下周四早上', 'time': datetime.datetime(2018, 7, 5, 16, 0, tzinfo=<DstTzInfo 'America/New_York' EDT-1 day, 20:00:00 DST>), 'gapS': 679081.199321, 'gapH': 188.63366647805557}]\n",
      "[{'pattern': '下周四下午', 'time': datetime.datetime(2018, 7, 5, 19, 0, tzinfo=<DstTzInfo 'America/New_York' EDT-1 day, 20:00:00 DST>), 'gapS': 689881.199108, 'gapH': 191.6336664188889}]\n",
      "[{'pattern': '下周五早上', 'time': datetime.datetime(2018, 7, 6, 16, 0, tzinfo=<DstTzInfo 'America/New_York' EDT-1 day, 20:00:00 DST>), 'gapS': 765481.198916, 'gapH': 212.63366636555554}]\n",
      "[{'pattern': '下周五下午', 'time': datetime.datetime(2018, 7, 6, 19, 0, tzinfo=<DstTzInfo 'America/New_York' EDT-1 day, 20:00:00 DST>), 'gapS': 776281.198665, 'gapH': 215.63366629583334}]\n",
      "[{'pattern': '下周二早上', 'time': datetime.datetime(2018, 7, 3, 16, 0, tzinfo=<DstTzInfo 'America/New_York' EDT-1 day, 20:00:00 DST>), 'gapS': 506281.198475, 'gapH': 140.63366624305556}]\n",
      "[{'pattern': '下周二下午', 'time': datetime.datetime(2018, 7, 3, 19, 0, tzinfo=<DstTzInfo 'America/New_York' EDT-1 day, 20:00:00 DST>), 'gapS': 517081.198285, 'gapH': 143.63366619027778}]\n",
      "[{'pattern': '下周三早上', 'time': datetime.datetime(2018, 7, 4, 16, 0, tzinfo=<DstTzInfo 'America/New_York' EDT-1 day, 20:00:00 DST>), 'gapS': 592681.197991, 'gapH': 164.63366610861112}]\n",
      "[{'pattern': '下周三下午', 'time': datetime.datetime(2018, 7, 4, 19, 0, tzinfo=<DstTzInfo 'America/New_York' EDT-1 day, 20:00:00 DST>), 'gapS': 603481.197801, 'gapH': 167.63366605583332}]\n",
      "[{'pattern': '下周一早上', 'time': datetime.datetime(2018, 7, 2, 16, 0, tzinfo=<DstTzInfo 'America/New_York' EDT-1 day, 20:00:00 DST>), 'gapS': 419881.197605, 'gapH': 116.63366600138889}]\n",
      "[{'pattern': '下周一下午', 'time': datetime.datetime(2018, 7, 2, 19, 0, tzinfo=<DstTzInfo 'America/New_York' EDT-1 day, 20:00:00 DST>), 'gapS': 430681.19742, 'gapH': 119.63366595}]\n",
      "[{'pattern': '下周5早上', 'time': datetime.datetime(2018, 7, 6, 16, 0, tzinfo=<DstTzInfo 'America/New_York' EDT-1 day, 20:00:00 DST>), 'gapS': 765481.197233, 'gapH': 212.63366589805554}]\n",
      "[{'pattern': '下周5下午', 'time': datetime.datetime(2018, 7, 6, 19, 0, tzinfo=<DstTzInfo 'America/New_York' EDT-1 day, 20:00:00 DST>), 'gapS': 776281.197047, 'gapH': 215.6336658463889}]\n",
      "[{'pattern': '下周4早上', 'time': datetime.datetime(2018, 7, 5, 16, 0, tzinfo=<DstTzInfo 'America/New_York' EDT-1 day, 20:00:00 DST>), 'gapS': 679081.19686, 'gapH': 188.63366579444445}]\n",
      "[{'pattern': '下周4下午', 'time': datetime.datetime(2018, 7, 5, 19, 0, tzinfo=<DstTzInfo 'America/New_York' EDT-1 day, 20:00:00 DST>), 'gapS': 689881.196675, 'gapH': 191.63366574305556}]\n",
      "[{'pattern': '下周3早上', 'time': datetime.datetime(2018, 7, 4, 16, 0, tzinfo=<DstTzInfo 'America/New_York' EDT-1 day, 20:00:00 DST>), 'gapS': 592681.196481, 'gapH': 164.6336656891667}]\n",
      "[{'pattern': '下周3下午', 'time': datetime.datetime(2018, 7, 4, 19, 0, tzinfo=<DstTzInfo 'America/New_York' EDT-1 day, 20:00:00 DST>), 'gapS': 603481.196188, 'gapH': 167.6336656077778}]\n",
      "[{'pattern': '下周2早上', 'time': datetime.datetime(2018, 7, 3, 16, 0, tzinfo=<DstTzInfo 'America/New_York' EDT-1 day, 20:00:00 DST>), 'gapS': 506281.195891, 'gapH': 140.63366552527776}]\n",
      "[{'pattern': '下周2下午', 'time': datetime.datetime(2018, 7, 3, 19, 0, tzinfo=<DstTzInfo 'America/New_York' EDT-1 day, 20:00:00 DST>), 'gapS': 517081.195416, 'gapH': 143.63366539333333}]\n",
      "[{'pattern': '下周1早上', 'time': datetime.datetime(2018, 7, 2, 16, 0, tzinfo=<DstTzInfo 'America/New_York' EDT-1 day, 20:00:00 DST>), 'gapS': 419881.195198, 'gapH': 116.63366533277778}]\n",
      "[{'pattern': '下周1下午', 'time': datetime.datetime(2018, 7, 2, 19, 0, tzinfo=<DstTzInfo 'America/New_York' EDT-1 day, 20:00:00 DST>), 'gapS': 430681.194841, 'gapH': 119.63366523361111}]\n",
      "[{'pattern': '下个礼拜四', 'time': datetime.datetime(2018, 7, 5, 19, 0, tzinfo=<DstTzInfo 'America/New_York' EDT-1 day, 20:00:00 DST>), 'gapS': 689881.194525, 'gapH': 191.63366514583336}]\n",
      "[{'pattern': '下个礼拜五', 'time': datetime.datetime(2018, 7, 6, 19, 0, tzinfo=<DstTzInfo 'America/New_York' EDT-1 day, 20:00:00 DST>), 'gapS': 776281.194162, 'gapH': 215.633665045}]\n",
      "[{'pattern': '下个礼拜二', 'time': datetime.datetime(2018, 7, 3, 19, 0, tzinfo=<DstTzInfo 'America/New_York' EDT-1 day, 20:00:00 DST>), 'gapS': 517081.193956, 'gapH': 143.63366498777776}]\n",
      "[{'pattern': '下个礼拜三', 'time': datetime.datetime(2018, 7, 4, 19, 0, tzinfo=<DstTzInfo 'America/New_York' EDT-1 day, 20:00:00 DST>), 'gapS': 603481.193761, 'gapH': 167.6336649336111}]\n",
      "[{'pattern': '下个礼拜一', 'time': datetime.datetime(2018, 7, 2, 19, 0, tzinfo=<DstTzInfo 'America/New_York' EDT-1 day, 20:00:00 DST>), 'gapS': 430681.193568, 'gapH': 119.63366488}]\n",
      "[{'pattern': '下个礼拜5', 'time': datetime.datetime(2018, 7, 6, 19, 0, tzinfo=<DstTzInfo 'America/New_York' EDT-1 day, 20:00:00 DST>), 'gapS': 776281.19338, 'gapH': 215.63366482777778}]\n",
      "[{'pattern': '下个礼拜4', 'time': datetime.datetime(2018, 7, 5, 19, 0, tzinfo=<DstTzInfo 'America/New_York' EDT-1 day, 20:00:00 DST>), 'gapS': 689881.193187, 'gapH': 191.63366477416668}]\n",
      "[{'pattern': '下个礼拜3', 'time': datetime.datetime(2018, 7, 4, 19, 0, tzinfo=<DstTzInfo 'America/New_York' EDT-1 day, 20:00:00 DST>), 'gapS': 603481.192996, 'gapH': 167.63366472111113}]\n",
      "[{'pattern': '下个礼拜2', 'time': datetime.datetime(2018, 7, 3, 19, 0, tzinfo=<DstTzInfo 'America/New_York' EDT-1 day, 20:00:00 DST>), 'gapS': 517081.192808, 'gapH': 143.63366466888888}]\n",
      "[{'pattern': '下个礼拜1', 'time': datetime.datetime(2018, 7, 2, 19, 0, tzinfo=<DstTzInfo 'America/New_York' EDT-1 day, 20:00:00 DST>), 'gapS': 430681.192621, 'gapH': 119.63366461694444}]\n",
      "[{'pattern': '下个星期四', 'time': datetime.datetime(2018, 7, 5, 19, 0, tzinfo=<DstTzInfo 'America/New_York' EDT-1 day, 20:00:00 DST>), 'gapS': 689881.192433, 'gapH': 191.6336645647222}]\n",
      "[{'pattern': '下个星期五', 'time': datetime.datetime(2018, 7, 6, 19, 0, tzinfo=<DstTzInfo 'America/New_York' EDT-1 day, 20:00:00 DST>), 'gapS': 776281.192232, 'gapH': 215.63366450888887}]\n",
      "[{'pattern': '下个星期二', 'time': datetime.datetime(2018, 7, 3, 19, 0, tzinfo=<DstTzInfo 'America/New_York' EDT-1 day, 20:00:00 DST>), 'gapS': 517081.19196, 'gapH': 143.63366443333334}]\n",
      "[{'pattern': '下个星期三', 'time': datetime.datetime(2018, 7, 4, 19, 0, tzinfo=<DstTzInfo 'America/New_York' EDT-1 day, 20:00:00 DST>), 'gapS': 603481.191766, 'gapH': 167.63366437944444}]\n",
      "[{'pattern': '下个星期一', 'time': datetime.datetime(2018, 7, 2, 19, 0, tzinfo=<DstTzInfo 'America/New_York' EDT-1 day, 20:00:00 DST>), 'gapS': 430681.191573, 'gapH': 119.63366432583334}]\n",
      "[{'pattern': '下个星期5', 'time': datetime.datetime(2018, 7, 6, 19, 0, tzinfo=<DstTzInfo 'America/New_York' EDT-1 day, 20:00:00 DST>), 'gapS': 776281.191382, 'gapH': 215.63366427277776}]\n",
      "[{'pattern': '下个星期4', 'time': datetime.datetime(2018, 7, 5, 19, 0, tzinfo=<DstTzInfo 'America/New_York' EDT-1 day, 20:00:00 DST>), 'gapS': 689881.191194, 'gapH': 191.63366422055554}]\n",
      "[{'pattern': '下个星期3', 'time': datetime.datetime(2018, 7, 4, 19, 0, tzinfo=<DstTzInfo 'America/New_York' EDT-1 day, 20:00:00 DST>), 'gapS': 603481.191001, 'gapH': 167.63366416694444}]\n",
      "[{'pattern': '下个星期2', 'time': datetime.datetime(2018, 7, 3, 19, 0, tzinfo=<DstTzInfo 'America/New_York' EDT-1 day, 20:00:00 DST>), 'gapS': 517081.190811, 'gapH': 143.63366411416666}]\n",
      "[{'pattern': '下个星期1', 'time': datetime.datetime(2018, 7, 2, 19, 0, tzinfo=<DstTzInfo 'America/New_York' EDT-1 day, 20:00:00 DST>), 'gapS': 430681.190557, 'gapH': 119.6336640436111}]\n",
      "[{'pattern': '下下个月', 'time': datetime.datetime(2018, 8, 27, 16, 0, tzinfo=<DstTzInfo 'America/New_York' EDT-1 day, 20:00:00 DST>), 'gapS': 5258281.190362, 'gapH': 1460.6336639894444}, {'pattern': '下下个月末', 'time': datetime.datetime(2018, 8, 25, 19, 0, tzinfo=<DstTzInfo 'America/New_York' EDT-1 day, 20:00:00 DST>), 'gapS': 5096281.190362, 'gapH': 1415.6336639894444}]\n",
      "[{'pattern': '下下个月', 'time': datetime.datetime(2018, 8, 27, 16, 0, tzinfo=<DstTzInfo 'America/New_York' EDT-1 day, 20:00:00 DST>), 'gapS': 5258281.190107, 'gapH': 1460.633663918611}, {'pattern': '下下个月底', 'time': datetime.datetime(2018, 8, 25, 19, 0, tzinfo=<DstTzInfo 'America/New_York' EDT-1 day, 20:00:00 DST>), 'gapS': 5096281.190107, 'gapH': 1415.633663918611}]\n",
      "[{'pattern': '下下个月', 'time': datetime.datetime(2018, 8, 27, 16, 0, tzinfo=<DstTzInfo 'America/New_York' EDT-1 day, 20:00:00 DST>), 'gapS': 5258281.189863, 'gapH': 1460.6336638508333}, {'pattern': '下下个月初', 'time': datetime.datetime(2018, 8, 5, 19, 0, tzinfo=<DstTzInfo 'America/New_York' EDT-1 day, 20:00:00 DST>), 'gapS': 3368281.189863, 'gapH': 935.6336638508334}]\n",
      "[{'pattern': '下下个月', 'time': datetime.datetime(2018, 8, 27, 16, 0, tzinfo=<DstTzInfo 'America/New_York' EDT-1 day, 20:00:00 DST>), 'gapS': 5258281.189627, 'gapH': 1460.6336637852778}, {'pattern': '下下个月中', 'time': datetime.datetime(2018, 8, 15, 19, 0, tzinfo=<DstTzInfo 'America/New_York' EDT-1 day, 20:00:00 DST>), 'gapS': 4232281.189627, 'gapH': 1175.6336637852778}]\n",
      "[{'pattern': '下下下礼拜', 'time': datetime.datetime(2018, 7, 18, 19, 0, tzinfo=<DstTzInfo 'America/New_York' EDT-1 day, 20:00:00 DST>), 'gapS': 1813081.18939, 'gapH': 503.6336637194444}]\n",
      "[{'pattern': '下下下星期', 'time': datetime.datetime(2018, 7, 18, 19, 0, tzinfo=<DstTzInfo 'America/New_York' EDT-1 day, 20:00:00 DST>), 'gapS': 1813081.189188, 'gapH': 503.6336636633333}]\n",
      "[{'pattern': '三个半月内', 'time': datetime.datetime(2018, 7, 12, 19, 0, tzinfo=<DstTzInfo 'America/New_York' EDT-1 day, 20:00:00 DST>), 'gapS': 1294681.188997, 'gapH': 359.6336636102778}]\n",
      "[{'pattern': '七个半月内', 'time': datetime.datetime(2018, 7, 12, 19, 0, tzinfo=<DstTzInfo 'America/New_York' EDT-1 day, 20:00:00 DST>), 'gapS': 1294681.188852, 'gapH': 359.63366357}]\n",
      "[{'pattern': '一个半月内', 'time': datetime.datetime(2018, 7, 12, 19, 0, tzinfo=<DstTzInfo 'America/New_York' EDT-1 day, 20:00:00 DST>), 'gapS': 1294681.188715, 'gapH': 359.6336635319444}]\n",
      "[{'pattern': '8个半月内', 'time': datetime.datetime(2018, 7, 12, 19, 0, tzinfo=<DstTzInfo 'America/New_York' EDT-1 day, 20:00:00 DST>), 'gapS': 1294681.188583, 'gapH': 359.6336634952778}]\n",
      "[{'pattern': '7个半月内', 'time': datetime.datetime(2018, 7, 12, 19, 0, tzinfo=<DstTzInfo 'America/New_York' EDT-1 day, 20:00:00 DST>), 'gapS': 1294681.188452, 'gapH': 359.6336634588889}]\n",
      "[{'pattern': '6个半月内', 'time': datetime.datetime(2018, 7, 12, 19, 0, tzinfo=<DstTzInfo 'America/New_York' EDT-1 day, 20:00:00 DST>), 'gapS': 1294681.188324, 'gapH': 359.6336634233333}]\n",
      "[{'pattern': '5个半月内', 'time': datetime.datetime(2018, 7, 12, 19, 0, tzinfo=<DstTzInfo 'America/New_York' EDT-1 day, 20:00:00 DST>), 'gapS': 1294681.188142, 'gapH': 359.6336633727778}]\n",
      "[{'pattern': '4个半月内', 'time': datetime.datetime(2018, 7, 12, 19, 0, tzinfo=<DstTzInfo 'America/New_York' EDT-1 day, 20:00:00 DST>), 'gapS': 1294681.188011, 'gapH': 359.63366333638885}]\n",
      "[{'pattern': '3个半月内', 'time': datetime.datetime(2018, 7, 12, 19, 0, tzinfo=<DstTzInfo 'America/New_York' EDT-1 day, 20:00:00 DST>), 'gapS': 1294681.187877, 'gapH': 359.6336632991667}]\n",
      "[{'pattern': '2个半月内', 'time': datetime.datetime(2018, 7, 12, 19, 0, tzinfo=<DstTzInfo 'America/New_York' EDT-1 day, 20:00:00 DST>), 'gapS': 1294681.187749, 'gapH': 359.63366326361114}]\n",
      "[{'pattern': '1个半月内', 'time': datetime.datetime(2018, 7, 12, 19, 0, tzinfo=<DstTzInfo 'America/New_York' EDT-1 day, 20:00:00 DST>), 'gapS': 1294681.187619, 'gapH': 359.6336632275}]\n",
      "[{'pattern': '这星期内', 'time': datetime.datetime(2018, 6, 29, 19, 0, tzinfo=<DstTzInfo 'America/New_York' EDT-1 day, 20:00:00 DST>), 'gapS': 171481.18749, 'gapH': 47.63366319166667}]\n",
      "[{'pattern': '过10天', 'time': datetime.datetime(2018, 7, 6, 19, 0, tzinfo=<DstTzInfo 'America/New_York' EDT-1 day, 20:00:00 DST>), 'gapS': 776281.187297, 'gapH': 215.63366313805554}]\n",
      "[{'pattern': '明天早上', 'time': datetime.datetime(2018, 6, 28, 16, 0, tzinfo=<DstTzInfo 'America/New_York' EDT-1 day, 20:00:00 DST>), 'gapS': 74281.187162, 'gapH': 20.633663100555555}]\n",
      "[{'pattern': '明天下午', 'time': datetime.datetime(2018, 6, 28, 19, 0, tzinfo=<DstTzInfo 'America/New_York' EDT-1 day, 20:00:00 DST>), 'gapS': 85081.187031, 'gapH': 23.633663064166665}]\n",
      "[{'pattern': '四个月内', 'time': datetime.datetime(2018, 10, 27, 19, 0, tzinfo=<DstTzInfo 'America/New_York' EDT-1 day, 20:00:00 DST>), 'gapS': 10539481.186763, 'gapH': 2927.6336629897223}]\n",
      "[{'pattern': '后天早上', 'time': datetime.datetime(2018, 6, 29, 16, 0, tzinfo=<DstTzInfo 'America/New_York' EDT-1 day, 20:00:00 DST>), 'gapS': 160681.186284, 'gapH': 44.63366285666667}]\n",
      "[{'pattern': '后天下午', 'time': datetime.datetime(2018, 6, 29, 19, 0, tzinfo=<DstTzInfo 'America/New_York' EDT-1 day, 20:00:00 DST>), 'gapS': 171481.186032, 'gapH': 47.63366278666667}]\n",
      "[{'pattern': '半个月内', 'time': datetime.datetime(2018, 7, 12, 19, 0, tzinfo=<DstTzInfo 'America/New_York' EDT-1 day, 20:00:00 DST>), 'gapS': 1294681.185885, 'gapH': 359.63366274583336}]\n",
      "[{'pattern': '半个月内', 'time': datetime.datetime(2018, 7, 12, 19, 0, tzinfo=<DstTzInfo 'America/New_York' EDT-1 day, 20:00:00 DST>), 'gapS': 1294681.185747, 'gapH': 359.6336627075}]\n",
      "[{'pattern': '六个月内', 'time': datetime.datetime(2018, 12, 27, 19, 0, tzinfo=<DstTzInfo 'America/New_York' EST-1 day, 19:00:00 STD>), 'gapS': 15813481.185617, 'gapH': 4392.633662671389}]\n",
      "[{'pattern': '八个月内', 'time': datetime.datetime(2019, 2, 27, 19, 0, tzinfo=<DstTzInfo 'America/New_York' EST-1 day, 19:00:00 STD>), 'gapS': 21170281.185444, 'gapH': 5880.633662623333}]\n",
      "[{'pattern': '今天下午', 'time': datetime.datetime(2018, 6, 27, 19, 0, tzinfo=<DstTzInfo 'America/New_York' EDT-1 day, 20:00:00 DST>), 'gapS': -1318.814732, 'gapH': -0.3663374255555556}]\n",
      "[{'pattern': '五个月内', 'time': datetime.datetime(2018, 11, 27, 19, 0, tzinfo=<DstTzInfo 'America/New_York' EST-1 day, 19:00:00 STD>), 'gapS': 13221481.185112, 'gapH': 3672.633662531111}]\n",
      "[{'pattern': '两个月内', 'time': datetime.datetime(2018, 8, 27, 19, 0, tzinfo=<DstTzInfo 'America/New_York' EDT-1 day, 20:00:00 DST>), 'gapS': 5269081.184955, 'gapH': 1463.6336624875}]\n",
      "[{'pattern': '两个月内', 'time': datetime.datetime(2018, 8, 27, 19, 0, tzinfo=<DstTzInfo 'America/New_York' EDT-1 day, 20:00:00 DST>), 'gapS': 5269081.184801, 'gapH': 1463.6336624447222}]\n",
      "[{'pattern': '两个季度', 'time': datetime.datetime(2018, 12, 27, 19, 0, tzinfo=<DstTzInfo 'America/New_York' EST-1 day, 19:00:00 STD>), 'gapS': 15813481.184644, 'gapH': 4392.633662401111}]\n",
      "[{'pattern': '下礼拜内', 'time': datetime.datetime(2018, 7, 6, 19, 0, tzinfo=<DstTzInfo 'America/New_York' EDT-1 day, 20:00:00 DST>), 'gapS': 776281.184491, 'gapH': 215.6336623586111}]\n",
      "[{'pattern': '下星期内', 'time': datetime.datetime(2018, 7, 6, 19, 0, tzinfo=<DstTzInfo 'America/New_York' EDT-1 day, 20:00:00 DST>), 'gapS': 776281.184277, 'gapH': 215.63366229916667}]\n",
      "[{'pattern': '下个月', 'time': datetime.datetime(2018, 7, 27, 16, 0, tzinfo=<DstTzInfo 'America/New_York' EDT-1 day, 20:00:00 DST>), 'gapS': 2579881.184088, 'gapH': 716.6336622466667}, {'pattern': '下个月末', 'time': datetime.datetime(2018, 7, 25, 19, 0, tzinfo=<DstTzInfo 'America/New_York' EDT-1 day, 20:00:00 DST>), 'gapS': 2417881.184088, 'gapH': 671.6336622466667}]\n",
      "[{'pattern': '下个月', 'time': datetime.datetime(2018, 7, 27, 16, 0, tzinfo=<DstTzInfo 'America/New_York' EDT-1 day, 20:00:00 DST>), 'gapS': 2579881.183842, 'gapH': 716.6336621783333}, {'pattern': '下个月底', 'time': datetime.datetime(2018, 7, 25, 19, 0, tzinfo=<DstTzInfo 'America/New_York' EDT-1 day, 20:00:00 DST>), 'gapS': 2417881.183842, 'gapH': 671.6336621783333}]\n",
      "[{'pattern': '下个月', 'time': datetime.datetime(2018, 7, 27, 16, 0, tzinfo=<DstTzInfo 'America/New_York' EDT-1 day, 20:00:00 DST>), 'gapS': 2579881.183603, 'gapH': 716.6336621119444}, {'pattern': '下个月初', 'time': datetime.datetime(2018, 7, 5, 19, 0, tzinfo=<DstTzInfo 'America/New_York' EDT-1 day, 20:00:00 DST>), 'gapS': 689881.183603, 'gapH': 191.63366211194446}]\n",
      "[{'pattern': '下个月', 'time': datetime.datetime(2018, 7, 27, 16, 0, tzinfo=<DstTzInfo 'America/New_York' EDT-1 day, 20:00:00 DST>), 'gapS': 2579881.183357, 'gapH': 716.633662043611}, {'pattern': '下个月中', 'time': datetime.datetime(2018, 7, 15, 19, 0, tzinfo=<DstTzInfo 'America/New_York' EDT-1 day, 20:00:00 DST>), 'gapS': 1553881.183357, 'gapH': 431.6336620436111}]\n",
      "[{'pattern': '下下礼拜', 'time': datetime.datetime(2018, 7, 11, 19, 0, tzinfo=<DstTzInfo 'America/New_York' EDT-1 day, 20:00:00 DST>), 'gapS': 1208281.18312, 'gapH': 335.63366197777776}]\n",
      "[{'pattern': '下下星期', 'time': datetime.datetime(2018, 7, 11, 19, 0, tzinfo=<DstTzInfo 'America/New_York' EDT-1 day, 20:00:00 DST>), 'gapS': 1208281.182906, 'gapH': 335.6336619183333}]\n",
      "[{'pattern': '下下周四', 'time': datetime.datetime(2018, 7, 12, 19, 0, tzinfo=<DstTzInfo 'America/New_York' EDT-1 day, 20:00:00 DST>), 'gapS': 1294681.182676, 'gapH': 359.6336618544445}]\n",
      "[{'pattern': '下下周五', 'time': datetime.datetime(2018, 7, 13, 16, 0, tzinfo=<DstTzInfo 'America/New_York' EDT-1 day, 20:00:00 DST>), 'gapS': 1370281.182485, 'gapH': 380.6336618013889}]\n",
      "[{'pattern': '下下周二', 'time': datetime.datetime(2018, 7, 10, 19, 0, tzinfo=<DstTzInfo 'America/New_York' EDT-1 day, 20:00:00 DST>), 'gapS': 1121881.182301, 'gapH': 311.6336617502778}]\n",
      "[{'pattern': '下下周三', 'time': datetime.datetime(2018, 7, 11, 19, 0, tzinfo=<DstTzInfo 'America/New_York' EDT-1 day, 20:00:00 DST>), 'gapS': 1208281.182118, 'gapH': 335.6336616994444}]\n",
      "[{'pattern': '下下周一', 'time': datetime.datetime(2018, 7, 9, 19, 0, tzinfo=<DstTzInfo 'America/New_York' EDT-1 day, 20:00:00 DST>), 'gapS': 1035481.181934, 'gapH': 287.6336616483333}]\n",
      "[{'pattern': '下下周5', 'time': datetime.datetime(2018, 7, 13, 16, 0, tzinfo=<DstTzInfo 'America/New_York' EDT-1 day, 20:00:00 DST>), 'gapS': 1370281.181738, 'gapH': 380.63366159388886}]\n",
      "[{'pattern': '下下周4', 'time': datetime.datetime(2018, 7, 12, 19, 0, tzinfo=<DstTzInfo 'America/New_York' EDT-1 day, 20:00:00 DST>), 'gapS': 1294681.181537, 'gapH': 359.63366153805555}]\n",
      "[{'pattern': '下下周3', 'time': datetime.datetime(2018, 7, 11, 19, 0, tzinfo=<DstTzInfo 'America/New_York' EDT-1 day, 20:00:00 DST>), 'gapS': 1208281.181349, 'gapH': 335.63366148583333}]\n",
      "[{'pattern': '下下周2', 'time': datetime.datetime(2018, 7, 10, 19, 0, tzinfo=<DstTzInfo 'America/New_York' EDT-1 day, 20:00:00 DST>), 'gapS': 1121881.181168, 'gapH': 311.63366143555555}]\n",
      "[{'pattern': '下下周1', 'time': datetime.datetime(2018, 7, 9, 19, 0, tzinfo=<DstTzInfo 'America/New_York' EDT-1 day, 20:00:00 DST>), 'gapS': 1035481.180989, 'gapH': 287.63366138583336}]\n",
      "[{'pattern': '下下个月', 'time': datetime.datetime(2018, 8, 27, 16, 0, tzinfo=<DstTzInfo 'America/New_York' EDT-1 day, 20:00:00 DST>), 'gapS': 5258281.180806, 'gapH': 1460.633661335}, {'pattern': '下下个月', 'time': datetime.datetime(2018, 8, 15, 19, 0, tzinfo=<DstTzInfo 'America/New_York' EDT-1 day, 20:00:00 DST>), 'gapS': 4232281.180806, 'gapH': 1175.633661335}]\n",
      "[{'pattern': '下下下周', 'time': datetime.datetime(2018, 7, 18, 19, 0, tzinfo=<DstTzInfo 'America/New_York' EDT-1 day, 20:00:00 DST>), 'gapS': 1813081.180561, 'gapH': 503.63366126694444}]\n",
      "[{'pattern': '三个月内', 'time': datetime.datetime(2018, 9, 27, 19, 0, tzinfo=<DstTzInfo 'America/New_York' EDT-1 day, 20:00:00 DST>), 'gapS': 7947481.180376, 'gapH': 2207.6336612155555}]\n",
      "[{'pattern': '三个季度', 'time': datetime.datetime(2019, 3, 27, 19, 0, tzinfo=<DstTzInfo 'America/New_York' EDT-1 day, 20:00:00 DST>), 'gapS': 23585881.180217, 'gapH': 6551.63366117139}]\n",
      "[{'pattern': '七个月内', 'time': datetime.datetime(2019, 1, 27, 19, 0, tzinfo=<DstTzInfo 'America/New_York' EST-1 day, 19:00:00 STD>), 'gapS': 18491881.18006, 'gapH': 5136.6336611277775}]\n",
      "[{'pattern': '一个月内', 'time': datetime.datetime(2018, 7, 27, 19, 0, tzinfo=<DstTzInfo 'America/New_York' EDT-1 day, 20:00:00 DST>), 'gapS': 2590681.179906, 'gapH': 719.633661085}]\n",
      "[{'pattern': '一个季度', 'time': datetime.datetime(2018, 9, 27, 19, 0, tzinfo=<DstTzInfo 'America/New_York' EDT-1 day, 20:00:00 DST>), 'gapS': 7947481.17975, 'gapH': 2207.6336610416665}]\n",
      "[{'pattern': '8个月内', 'time': datetime.datetime(2019, 2, 27, 19, 0, tzinfo=<DstTzInfo 'America/New_York' EST-1 day, 19:00:00 STD>), 'gapS': 21170281.179557, 'gapH': 5880.633660988055}]\n",
      "[{'pattern': '7个月内', 'time': datetime.datetime(2019, 1, 27, 19, 0, tzinfo=<DstTzInfo 'America/New_York' EST-1 day, 19:00:00 STD>), 'gapS': 18491881.179345, 'gapH': 5136.633660929167}]\n",
      "[{'pattern': '6个月内', 'time': datetime.datetime(2018, 12, 27, 19, 0, tzinfo=<DstTzInfo 'America/New_York' EST-1 day, 19:00:00 STD>), 'gapS': 15813481.17918, 'gapH': 4392.6336608833335}]\n",
      "[{'pattern': '5个月内', 'time': datetime.datetime(2018, 11, 27, 19, 0, tzinfo=<DstTzInfo 'America/New_York' EST-1 day, 19:00:00 STD>), 'gapS': 13221481.179013, 'gapH': 3672.6336608369447}]\n",
      "[{'pattern': '4个月内', 'time': datetime.datetime(2018, 10, 27, 19, 0, tzinfo=<DstTzInfo 'America/New_York' EDT-1 day, 20:00:00 DST>), 'gapS': 10539481.178849, 'gapH': 2927.633660791389}]\n",
      "[{'pattern': '3个月内', 'time': datetime.datetime(2018, 9, 27, 19, 0, tzinfo=<DstTzInfo 'America/New_York' EDT-1 day, 20:00:00 DST>), 'gapS': 7947481.178564, 'gapH': 2207.633660712222}]\n",
      "[{'pattern': '3个季度', 'time': datetime.datetime(2019, 3, 27, 19, 0, tzinfo=<DstTzInfo 'America/New_York' EDT-1 day, 20:00:00 DST>), 'gapS': 23585881.178375, 'gapH': 6551.6336606597215}]\n",
      "[{'pattern': '2个月内', 'time': datetime.datetime(2018, 8, 27, 19, 0, tzinfo=<DstTzInfo 'America/New_York' EDT-1 day, 20:00:00 DST>), 'gapS': 5269081.178232, 'gapH': 1463.63366062}]\n",
      "[{'pattern': '2个月内', 'time': datetime.datetime(2018, 8, 27, 19, 0, tzinfo=<DstTzInfo 'America/New_York' EDT-1 day, 20:00:00 DST>), 'gapS': 5269081.178094, 'gapH': 1463.6336605816666}]\n",
      "[{'pattern': '2个季度', 'time': datetime.datetime(2018, 12, 27, 19, 0, tzinfo=<DstTzInfo 'America/New_York' EST-1 day, 19:00:00 STD>), 'gapS': 15813481.177957, 'gapH': 4392.633660543611}]\n",
      "[{'pattern': '1个月内', 'time': datetime.datetime(2018, 7, 27, 19, 0, tzinfo=<DstTzInfo 'America/New_York' EDT-1 day, 20:00:00 DST>), 'gapS': 2590681.177784, 'gapH': 719.6336604955555}]\n",
      "[{'pattern': '1个季度', 'time': datetime.datetime(2018, 9, 27, 19, 0, tzinfo=<DstTzInfo 'America/New_York' EDT-1 day, 20:00:00 DST>), 'gapS': 7947481.177644, 'gapH': 2207.633660456667}]\n",
      "[{'pattern': '10天内', 'time': datetime.datetime(2018, 7, 6, 19, 0, tzinfo=<DstTzInfo 'America/New_York' EDT-1 day, 20:00:00 DST>), 'gapS': 776281.177511, 'gapH': 215.63366041972222}]\n",
      "[{'pattern': '这周四', 'time': datetime.datetime(2018, 6, 28, 19, 0, tzinfo=<DstTzInfo 'America/New_York' EDT-1 day, 20:00:00 DST>), 'gapS': 85081.177391, 'gapH': 23.63366038638889}]\n",
      "[{'pattern': '这周内', 'time': datetime.datetime(2018, 6, 29, 19, 0, tzinfo=<DstTzInfo 'America/New_York' EDT-1 day, 20:00:00 DST>), 'gapS': 171481.177188, 'gapH': 47.63366033}]\n",
      "[{'pattern': '这周五', 'time': datetime.datetime(2018, 6, 29, 19, 0, tzinfo=<DstTzInfo 'America/New_York' EDT-1 day, 20:00:00 DST>), 'gapS': 171481.177021, 'gapH': 47.633660283611114}]\n",
      "[{'pattern': '这周二', 'time': datetime.datetime(2018, 6, 26, 19, 0, tzinfo=<DstTzInfo 'America/New_York' EDT-1 day, 20:00:00 DST>), 'gapS': -87718.823144, 'gapH': -24.36633976222222}]\n",
      "[{'pattern': '这周三', 'time': datetime.datetime(2018, 6, 27, 19, 0, tzinfo=<DstTzInfo 'America/New_York' EDT-1 day, 20:00:00 DST>), 'gapS': -1318.823308, 'gapH': -0.3663398077777778}]\n",
      "[{'pattern': '这周5', 'time': datetime.datetime(2018, 6, 29, 19, 0, tzinfo=<DstTzInfo 'America/New_York' EDT-1 day, 20:00:00 DST>), 'gapS': 171481.176528, 'gapH': 47.63366014666667}]\n",
      "[{'pattern': '这周4', 'time': datetime.datetime(2018, 6, 28, 19, 0, tzinfo=<DstTzInfo 'America/New_York' EDT-1 day, 20:00:00 DST>), 'gapS': 85081.176362, 'gapH': 23.633660100555556}]\n",
      "[{'pattern': '这周3', 'time': datetime.datetime(2018, 6, 27, 19, 0, tzinfo=<DstTzInfo 'America/New_York' EDT-1 day, 20:00:00 DST>), 'gapS': -1318.8238, 'gapH': -0.3663399444444444}]\n",
      "[{'pattern': '这周2', 'time': datetime.datetime(2018, 6, 26, 19, 0, tzinfo=<DstTzInfo 'America/New_York' EDT-1 day, 20:00:00 DST>), 'gapS': -87718.824016, 'gapH': -24.366340004444446}]\n",
      "[{'pattern': '过四天', 'time': datetime.datetime(2018, 6, 30, 19, 0, tzinfo=<DstTzInfo 'America/New_York' EDT-1 day, 20:00:00 DST>), 'gapS': 257881.175817, 'gapH': 71.63365994916667}]\n",
      "[{'pattern': '过十天', 'time': datetime.datetime(2018, 7, 6, 19, 0, tzinfo=<DstTzInfo 'America/New_York' EDT-1 day, 20:00:00 DST>), 'gapS': 776281.175681, 'gapH': 215.6336599113889}]\n",
      "[{'pattern': '过六天', 'time': datetime.datetime(2018, 7, 2, 19, 0, tzinfo=<DstTzInfo 'America/New_York' EDT-1 day, 20:00:00 DST>), 'gapS': 430681.175565, 'gapH': 119.63365987916666}]\n",
      "[{'pattern': '过八天', 'time': datetime.datetime(2018, 7, 4, 19, 0, tzinfo=<DstTzInfo 'America/New_York' EDT-1 day, 20:00:00 DST>), 'gapS': 603481.175451, 'gapH': 167.63365984749998}]\n",
      "[{'pattern': '过五天', 'time': datetime.datetime(2018, 7, 1, 19, 0, tzinfo=<DstTzInfo 'America/New_York' EDT-1 day, 20:00:00 DST>), 'gapS': 344281.175334, 'gapH': 95.633659815}]\n",
      "[{'pattern': '过九天', 'time': datetime.datetime(2018, 7, 5, 19, 0, tzinfo=<DstTzInfo 'America/New_York' EDT-1 day, 20:00:00 DST>), 'gapS': 689881.175222, 'gapH': 191.63365978388887}]\n",
      "[{'pattern': '过两天', 'time': datetime.datetime(2018, 6, 29, 19, 0, tzinfo=<DstTzInfo 'America/New_York' EDT-1 day, 20:00:00 DST>), 'gapS': 171481.17511, 'gapH': 47.63365975277778}]\n",
      "[{'pattern': '过三天', 'time': datetime.datetime(2018, 6, 30, 19, 0, tzinfo=<DstTzInfo 'America/New_York' EDT-1 day, 20:00:00 DST>), 'gapS': 257881.174998, 'gapH': 71.63365972166666}]\n",
      "[{'pattern': '过三天', 'time': datetime.datetime(2018, 6, 30, 19, 0, tzinfo=<DstTzInfo 'America/New_York' EDT-1 day, 20:00:00 DST>), 'gapS': 257881.174887, 'gapH': 71.63365969083334}]\n",
      "[{'pattern': '过七天', 'time': datetime.datetime(2018, 7, 3, 19, 0, tzinfo=<DstTzInfo 'America/New_York' EDT-1 day, 20:00:00 DST>), 'gapS': 517081.174776, 'gapH': 143.63365966}]\n",
      "[{'pattern': '过9天', 'time': datetime.datetime(2018, 7, 5, 19, 0, tzinfo=<DstTzInfo 'America/New_York' EDT-1 day, 20:00:00 DST>), 'gapS': 689881.174666, 'gapH': 191.63365962944442}]\n",
      "[{'pattern': '过8天', 'time': datetime.datetime(2018, 7, 4, 19, 0, tzinfo=<DstTzInfo 'America/New_York' EDT-1 day, 20:00:00 DST>), 'gapS': 603481.174543, 'gapH': 167.63365959527775}]\n",
      "[{'pattern': '过7天', 'time': datetime.datetime(2018, 7, 3, 19, 0, tzinfo=<DstTzInfo 'America/New_York' EDT-1 day, 20:00:00 DST>), 'gapS': 517081.174394, 'gapH': 143.6336595538889}]\n",
      "[{'pattern': '过6天', 'time': datetime.datetime(2018, 7, 2, 19, 0, tzinfo=<DstTzInfo 'America/New_York' EDT-1 day, 20:00:00 DST>), 'gapS': 430681.174225, 'gapH': 119.63365950694445}]\n",
      "[{'pattern': '过5天', 'time': datetime.datetime(2018, 7, 1, 19, 0, tzinfo=<DstTzInfo 'America/New_York' EDT-1 day, 20:00:00 DST>), 'gapS': 344281.174115, 'gapH': 95.63365947638889}]\n",
      "[{'pattern': '过4天', 'time': datetime.datetime(2018, 6, 30, 19, 0, tzinfo=<DstTzInfo 'America/New_York' EDT-1 day, 20:00:00 DST>), 'gapS': 257881.174007, 'gapH': 71.63365944638889}]\n",
      "[{'pattern': '过3天', 'time': datetime.datetime(2018, 6, 30, 19, 0, tzinfo=<DstTzInfo 'America/New_York' EDT-1 day, 20:00:00 DST>), 'gapS': 257881.173892, 'gapH': 71.63365941444444}]\n",
      "[{'pattern': '过3天', 'time': datetime.datetime(2018, 6, 30, 19, 0, tzinfo=<DstTzInfo 'America/New_York' EDT-1 day, 20:00:00 DST>), 'gapS': 257881.173785, 'gapH': 71.63365938472222}]\n",
      "[{'pattern': '过2天', 'time': datetime.datetime(2018, 6, 29, 19, 0, tzinfo=<DstTzInfo 'America/New_York' EDT-1 day, 20:00:00 DST>), 'gapS': 171481.173677, 'gapH': 47.63365935472223}]\n",
      "[{'pattern': '礼拜四', 'time': datetime.datetime(2018, 6, 28, 19, 0, tzinfo=<DstTzInfo 'America/New_York' EDT-1 day, 20:00:00 DST>), 'gapS': 85081.173571, 'gapH': 23.63365932527778}]\n",
      "[{'pattern': '礼拜五', 'time': datetime.datetime(2018, 6, 29, 19, 0, tzinfo=<DstTzInfo 'America/New_York' EDT-1 day, 20:00:00 DST>), 'gapS': 171481.173387, 'gapH': 47.63365927416666}]\n",
      "[{'pattern': '礼拜二', 'time': datetime.datetime(2018, 6, 26, 19, 0, tzinfo=<DstTzInfo 'America/New_York' EDT-1 day, 20:00:00 DST>), 'gapS': -87718.826778, 'gapH': -24.366340771666668}]\n",
      "[{'pattern': '礼拜三', 'time': datetime.datetime(2018, 6, 27, 19, 0, tzinfo=<DstTzInfo 'America/New_York' EDT-1 day, 20:00:00 DST>), 'gapS': -1318.826945, 'gapH': -0.3663408180555556}]\n",
      "[{'pattern': '礼拜5', 'time': datetime.datetime(2018, 6, 29, 19, 0, tzinfo=<DstTzInfo 'America/New_York' EDT-1 day, 20:00:00 DST>), 'gapS': 171481.172851, 'gapH': 47.63365912527778}]\n",
      "[{'pattern': '礼拜4', 'time': datetime.datetime(2018, 6, 28, 19, 0, tzinfo=<DstTzInfo 'America/New_York' EDT-1 day, 20:00:00 DST>), 'gapS': 85081.172622, 'gapH': 23.633659061666666}]\n",
      "[{'pattern': '礼拜3', 'time': datetime.datetime(2018, 6, 27, 19, 0, tzinfo=<DstTzInfo 'America/New_York' EDT-1 day, 20:00:00 DST>), 'gapS': -1318.827579, 'gapH': -0.36634099416666666}]\n",
      "[{'pattern': '礼拜2', 'time': datetime.datetime(2018, 6, 26, 19, 0, tzinfo=<DstTzInfo 'America/New_York' EDT-1 day, 20:00:00 DST>), 'gapS': -87718.827774, 'gapH': -24.366341048333336}]\n",
      "[{'pattern': '星期四', 'time': datetime.datetime(2018, 6, 28, 19, 0, tzinfo=<DstTzInfo 'America/New_York' EDT-1 day, 20:00:00 DST>), 'gapS': 85081.172036, 'gapH': 23.63365889888889}]\n",
      "[{'pattern': '星期五', 'time': datetime.datetime(2018, 6, 29, 19, 0, tzinfo=<DstTzInfo 'America/New_York' EDT-1 day, 20:00:00 DST>), 'gapS': 171481.171849, 'gapH': 47.63365884694445}]\n",
      "[{'pattern': '星期二', 'time': datetime.datetime(2018, 6, 26, 19, 0, tzinfo=<DstTzInfo 'America/New_York' EDT-1 day, 20:00:00 DST>), 'gapS': -87718.828336, 'gapH': -24.366341204444446}]\n",
      "[{'pattern': '星期三', 'time': datetime.datetime(2018, 6, 27, 19, 0, tzinfo=<DstTzInfo 'America/New_York' EDT-1 day, 20:00:00 DST>), 'gapS': -1318.828529, 'gapH': -0.3663412580555555}]\n",
      "[{'pattern': '星期5', 'time': datetime.datetime(2018, 6, 29, 19, 0, tzinfo=<DstTzInfo 'America/New_York' EDT-1 day, 20:00:00 DST>), 'gapS': 171481.171286, 'gapH': 47.633658690555556}]\n",
      "[{'pattern': '星期4', 'time': datetime.datetime(2018, 6, 28, 19, 0, tzinfo=<DstTzInfo 'America/New_York' EDT-1 day, 20:00:00 DST>), 'gapS': 85081.171063, 'gapH': 23.633658628611112}]\n",
      "[{'pattern': '星期3', 'time': datetime.datetime(2018, 6, 27, 19, 0, tzinfo=<DstTzInfo 'America/New_York' EDT-1 day, 20:00:00 DST>), 'gapS': -1318.829177, 'gapH': -0.3663414380555556}]\n",
      "[{'pattern': '星期2', 'time': datetime.datetime(2018, 6, 26, 19, 0, tzinfo=<DstTzInfo 'America/New_York' EDT-1 day, 20:00:00 DST>), 'gapS': -87718.82946, 'gapH': -24.366341516666665}]\n",
      "[{'pattern': '大后天', 'time': datetime.datetime(2018, 6, 30, 16, 0, tzinfo=<DstTzInfo 'America/New_York' EDT-1 day, 20:00:00 DST>), 'gapS': 247081.170258, 'gapH': 68.633658405}]\n",
      "[{'pattern': '国庆节', 'time': datetime.datetime(2018, 9, 30, 19, 0, tzinfo=<DstTzInfo 'America/New_York' EDT-1 day, 20:00:00 DST>), 'gapS': 8206681.170102, 'gapH': 2279.6336583616667}]\n",
      "[{'pattern': '四天内', 'time': datetime.datetime(2018, 6, 30, 19, 0, tzinfo=<DstTzInfo 'America/New_York' EDT-1 day, 20:00:00 DST>), 'gapS': 257881.169935, 'gapH': 71.63365831527778}]\n",
      "[{'pattern': '后半年', 'time': datetime.datetime(2018, 12, 1, 19, 0, tzinfo=<DstTzInfo 'America/New_York' EST-1 day, 19:00:00 STD>), 'gapS': 13567081.169797, 'gapH': 3768.6336582769445}]\n",
      "[{'pattern': '十天内', 'time': datetime.datetime(2018, 7, 6, 19, 0, tzinfo=<DstTzInfo 'America/New_York' EDT-1 day, 20:00:00 DST>), 'gapS': 776281.169622, 'gapH': 215.63365822833333}]\n",
      "[{'pattern': '劳动节', 'time': datetime.datetime(2018, 4, 30, 19, 0, tzinfo=<DstTzInfo 'America/New_York' EDT-1 day, 20:00:00 DST>), 'gapS': -5012518.830515, 'gapH': -1392.3663418097221}]\n",
      "[{'pattern': '前半年', 'time': datetime.datetime(2018, 6, 1, 19, 0, tzinfo=<DstTzInfo 'America/New_York' EDT-1 day, 20:00:00 DST>), 'gapS': -2247718.830672, 'gapH': -624.3663418533333}]\n",
      "[{'pattern': '六天内', 'time': datetime.datetime(2018, 7, 2, 19, 0, tzinfo=<DstTzInfo 'America/New_York' EDT-1 day, 20:00:00 DST>), 'gapS': 430681.169167, 'gapH': 119.63365810194443}]\n",
      "[{'pattern': '八天内', 'time': datetime.datetime(2018, 7, 4, 19, 0, tzinfo=<DstTzInfo 'America/New_York' EDT-1 day, 20:00:00 DST>), 'gapS': 603481.169019, 'gapH': 167.63365806083334}]\n",
      "[{'pattern': '五天内', 'time': datetime.datetime(2018, 7, 1, 19, 0, tzinfo=<DstTzInfo 'America/New_York' EDT-1 day, 20:00:00 DST>), 'gapS': 344281.168883, 'gapH': 95.63365802305555}]\n",
      "[{'pattern': '九天内', 'time': datetime.datetime(2018, 7, 5, 19, 0, tzinfo=<DstTzInfo 'America/New_York' EDT-1 day, 20:00:00 DST>), 'gapS': 689881.168743, 'gapH': 191.63365798416666}]\n",
      "[{'pattern': '两天内', 'time': datetime.datetime(2018, 6, 28, 19, 0, tzinfo=<DstTzInfo 'America/New_York' EDT-1 day, 20:00:00 DST>), 'gapS': 85081.16861, 'gapH': 23.633657947222222}]\n",
      "[{'pattern': '两周后', 'time': datetime.datetime(2018, 7, 11, 19, 0, tzinfo=<DstTzInfo 'America/New_York' EDT-1 day, 20:00:00 DST>), 'gapS': 1208281.168477, 'gapH': 335.63365791027775}]\n",
      "[{'pattern': '两周内', 'time': datetime.datetime(2018, 7, 11, 19, 0, tzinfo=<DstTzInfo 'America/New_York' EDT-1 day, 20:00:00 DST>), 'gapS': 1208281.16827, 'gapH': 335.6336578527778}]\n",
      "[{'pattern': '下周四', 'time': datetime.datetime(2018, 7, 5, 19, 0, tzinfo=<DstTzInfo 'America/New_York' EDT-1 day, 20:00:00 DST>), 'gapS': 689881.168049, 'gapH': 191.63365779138888}]\n",
      "[{'pattern': '下周内', 'time': datetime.datetime(2018, 7, 6, 19, 0, tzinfo=<DstTzInfo 'America/New_York' EDT-1 day, 20:00:00 DST>), 'gapS': 776281.167855, 'gapH': 215.63365773750002}]\n",
      "[{'pattern': '下周五', 'time': datetime.datetime(2018, 7, 6, 16, 0, tzinfo=<DstTzInfo 'America/New_York' EDT-1 day, 20:00:00 DST>), 'gapS': 765481.167664, 'gapH': 212.63365768444444}]\n",
      "[{'pattern': '下周二', 'time': datetime.datetime(2018, 7, 3, 19, 0, tzinfo=<DstTzInfo 'America/New_York' EDT-1 day, 20:00:00 DST>), 'gapS': 517081.167477, 'gapH': 143.6336576325}]\n",
      "[{'pattern': '下周三', 'time': datetime.datetime(2018, 7, 4, 19, 0, tzinfo=<DstTzInfo 'America/New_York' EDT-1 day, 20:00:00 DST>), 'gapS': 603481.167288, 'gapH': 167.63365758}]\n",
      "[{'pattern': '下周一', 'time': datetime.datetime(2018, 7, 2, 19, 0, tzinfo=<DstTzInfo 'America/New_York' EDT-1 day, 20:00:00 DST>), 'gapS': 430681.167102, 'gapH': 119.63365752833333}]\n",
      "[{'pattern': '下周5', 'time': datetime.datetime(2018, 7, 6, 16, 0, tzinfo=<DstTzInfo 'America/New_York' EDT-1 day, 20:00:00 DST>), 'gapS': 765481.166912, 'gapH': 212.63365747555557}]\n",
      "[{'pattern': '下周4', 'time': datetime.datetime(2018, 7, 5, 19, 0, tzinfo=<DstTzInfo 'America/New_York' EDT-1 day, 20:00:00 DST>), 'gapS': 689881.166684, 'gapH': 191.63365741222225}]\n",
      "[{'pattern': '下周3', 'time': datetime.datetime(2018, 7, 4, 19, 0, tzinfo=<DstTzInfo 'America/New_York' EDT-1 day, 20:00:00 DST>), 'gapS': 603481.166486, 'gapH': 167.6336573572222}]\n",
      "[{'pattern': '下周2', 'time': datetime.datetime(2018, 7, 3, 19, 0, tzinfo=<DstTzInfo 'America/New_York' EDT-1 day, 20:00:00 DST>), 'gapS': 517081.166131, 'gapH': 143.6336572586111}]\n",
      "[{'pattern': '下周1', 'time': datetime.datetime(2018, 7, 2, 19, 0, tzinfo=<DstTzInfo 'America/New_York' EDT-1 day, 20:00:00 DST>), 'gapS': 430681.165886, 'gapH': 119.63365719055555}]\n",
      "[{'pattern': '下半年', 'time': datetime.datetime(2018, 12, 1, 19, 0, tzinfo=<DstTzInfo 'America/New_York' EST-1 day, 19:00:00 STD>), 'gapS': 13567081.165656, 'gapH': 3768.6336571266665}]\n",
      "[{'pattern': '下个月', 'time': datetime.datetime(2018, 7, 27, 16, 0, tzinfo=<DstTzInfo 'America/New_York' EDT-1 day, 20:00:00 DST>), 'gapS': 2579881.165461, 'gapH': 716.6336570725}, {'pattern': '下个月', 'time': datetime.datetime(2018, 7, 15, 19, 0, tzinfo=<DstTzInfo 'America/New_York' EDT-1 day, 20:00:00 DST>), 'gapS': 1553881.165461, 'gapH': 431.6336570725}]\n",
      "[{'pattern': '下下周', 'time': datetime.datetime(2018, 7, 11, 19, 0, tzinfo=<DstTzInfo 'America/New_York' EDT-1 day, 20:00:00 DST>), 'gapS': 1208281.16521, 'gapH': 335.6336570027778}]\n",
      "[{'pattern': '上半年', 'time': datetime.datetime(2018, 6, 1, 19, 0, tzinfo=<DstTzInfo 'America/New_York' EDT-1 day, 20:00:00 DST>), 'gapS': -2247718.834987, 'gapH': -624.3663430519445}]\n",
      "[{'pattern': '三天内', 'time': datetime.datetime(2018, 6, 29, 19, 0, tzinfo=<DstTzInfo 'America/New_York' EDT-1 day, 20:00:00 DST>), 'gapS': 171481.164839, 'gapH': 47.633656899722226}]\n",
      "[{'pattern': '七天内', 'time': datetime.datetime(2018, 7, 3, 19, 0, tzinfo=<DstTzInfo 'America/New_York' EDT-1 day, 20:00:00 DST>), 'gapS': 517081.1647, 'gapH': 143.63365686111112}]\n",
      "[{'pattern': '一周后', 'time': datetime.datetime(2018, 7, 4, 16, 0, tzinfo=<DstTzInfo 'America/New_York' EDT-1 day, 20:00:00 DST>), 'gapS': 592681.164561, 'gapH': 164.6336568225}]\n",
      "[{'pattern': '一周内', 'time': datetime.datetime(2018, 6, 29, 19, 0, tzinfo=<DstTzInfo 'America/New_York' EDT-1 day, 20:00:00 DST>), 'gapS': 171481.164372, 'gapH': 47.63365677}]\n",
      "[{'pattern': '9天内', 'time': datetime.datetime(2018, 7, 5, 19, 0, tzinfo=<DstTzInfo 'America/New_York' EDT-1 day, 20:00:00 DST>), 'gapS': 689881.16418, 'gapH': 191.63365671666665}]\n",
      "[{'pattern': '8天内', 'time': datetime.datetime(2018, 7, 4, 19, 0, tzinfo=<DstTzInfo 'America/New_York' EDT-1 day, 20:00:00 DST>), 'gapS': 603481.16404, 'gapH': 167.63365667777776}]\n",
      "[{'pattern': '7天内', 'time': datetime.datetime(2018, 7, 3, 19, 0, tzinfo=<DstTzInfo 'America/New_York' EDT-1 day, 20:00:00 DST>), 'gapS': 517081.163903, 'gapH': 143.63365663972223}]\n",
      "[{'pattern': '6天内', 'time': datetime.datetime(2018, 7, 2, 19, 0, tzinfo=<DstTzInfo 'America/New_York' EDT-1 day, 20:00:00 DST>), 'gapS': 430681.163766, 'gapH': 119.63365660166667}]\n",
      "[{'pattern': '5天内', 'time': datetime.datetime(2018, 7, 1, 19, 0, tzinfo=<DstTzInfo 'America/New_York' EDT-1 day, 20:00:00 DST>), 'gapS': 344281.163633, 'gapH': 95.63365656472222}]\n",
      "[{'pattern': '4天内', 'time': datetime.datetime(2018, 6, 30, 19, 0, tzinfo=<DstTzInfo 'America/New_York' EDT-1 day, 20:00:00 DST>), 'gapS': 257881.1635, 'gapH': 71.63365652777777}]\n",
      "[{'pattern': '3天内', 'time': datetime.datetime(2018, 6, 29, 19, 0, tzinfo=<DstTzInfo 'America/New_York' EDT-1 day, 20:00:00 DST>), 'gapS': 171481.163361, 'gapH': 47.63365648916667}]\n",
      "[{'pattern': '2天内', 'time': datetime.datetime(2018, 6, 28, 19, 0, tzinfo=<DstTzInfo 'America/New_York' EDT-1 day, 20:00:00 DST>), 'gapS': 85081.163207, 'gapH': 23.63365644638889}]\n",
      "[{'pattern': '2周后', 'time': datetime.datetime(2018, 7, 11, 19, 0, tzinfo=<DstTzInfo 'America/New_York' EDT-1 day, 20:00:00 DST>), 'gapS': 1208281.162965, 'gapH': 335.63365637916667}]\n",
      "[{'pattern': '1周后', 'time': datetime.datetime(2018, 7, 4, 19, 0, tzinfo=<DstTzInfo 'America/New_York' EDT-1 day, 20:00:00 DST>), 'gapS': 603481.162601, 'gapH': 167.63365627805558}]\n",
      "[{'pattern': '10天', 'time': datetime.datetime(2018, 7, 6, 19, 0, tzinfo=<DstTzInfo 'America/New_York' EDT-1 day, 20:00:00 DST>), 'gapS': 776281.162281, 'gapH': 215.6336561891667}]\n",
      "[{'pattern': '秋季', 'time': datetime.datetime(2018, 10, 15, 19, 0, tzinfo=<DstTzInfo 'America/New_York' EDT-1 day, 20:00:00 DST>), 'gapS': 9502681.162121, 'gapH': 2639.633656144722}]\n",
      "[{'pattern': '秋天', 'time': datetime.datetime(2018, 10, 15, 19, 0, tzinfo=<DstTzInfo 'America/New_York' EDT-1 day, 20:00:00 DST>), 'gapS': 9502681.161953, 'gapH': 2639.633656098056}]\n",
      "[{'pattern': '春季', 'time': datetime.datetime(2018, 3, 15, 19, 0, tzinfo=<DstTzInfo 'America/New_York' EDT-1 day, 20:00:00 DST>), 'gapS': -8986918.83821, 'gapH': -2496.366343947222}]\n",
      "[{'pattern': '春天', 'time': datetime.datetime(2018, 3, 15, 19, 0, tzinfo=<DstTzInfo 'America/New_York' EDT-1 day, 20:00:00 DST>), 'gapS': -8986918.838372, 'gapH': -2496.366343992222}]\n",
      "[{'pattern': '明天', 'time': datetime.datetime(2018, 6, 28, 16, 0, tzinfo=<DstTzInfo 'America/New_York' EDT-1 day, 20:00:00 DST>), 'gapS': 74281.16147, 'gapH': 20.63365596388889}]\n",
      "[{'pattern': '年末', 'time': datetime.datetime(2018, 12, 1, 19, 0, tzinfo=<DstTzInfo 'America/New_York' EST-1 day, 19:00:00 STD>), 'gapS': 13567081.161333, 'gapH': 3768.6336559258334}]\n",
      "[{'pattern': '年尾', 'time': datetime.datetime(2018, 1, 31, 19, 0, tzinfo=<DstTzInfo 'America/New_York' EST-1 day, 19:00:00 STD>), 'gapS': -12698518.838847, 'gapH': -3527.3663441241665}]\n",
      "[{'pattern': '年初', 'time': datetime.datetime(2018, 1, 31, 19, 0, tzinfo=<DstTzInfo 'America/New_York' EST-1 day, 19:00:00 STD>), 'gapS': -12698518.839008, 'gapH': -3527.3663441688886}]\n",
      "[{'pattern': '夏季', 'time': datetime.datetime(2018, 7, 15, 19, 0, tzinfo=<DstTzInfo 'America/New_York' EDT-1 day, 20:00:00 DST>), 'gapS': 1553881.160833, 'gapH': 431.6336557869444}]\n",
      "[{'pattern': '夏天', 'time': datetime.datetime(2018, 7, 15, 19, 0, tzinfo=<DstTzInfo 'America/New_York' EDT-1 day, 20:00:00 DST>), 'gapS': 1553881.160669, 'gapH': 431.63365574138885}]\n",
      "[{'pattern': '四天', 'time': datetime.datetime(2018, 6, 30, 19, 0, tzinfo=<DstTzInfo 'America/New_York' EDT-1 day, 20:00:00 DST>), 'gapS': 257881.160515, 'gapH': 71.63365569861111}]\n",
      "[{'pattern': '后天', 'time': datetime.datetime(2018, 6, 29, 16, 0, tzinfo=<DstTzInfo 'America/New_York' EDT-1 day, 20:00:00 DST>), 'gapS': 160681.16038, 'gapH': 44.633655661111106}]\n",
      "[{'pattern': '十天', 'time': datetime.datetime(2018, 7, 6, 19, 0, tzinfo=<DstTzInfo 'America/New_York' EDT-1 day, 20:00:00 DST>), 'gapS': 776281.160245, 'gapH': 215.63365562361113}]\n",
      "[{'pattern': '冬季', 'time': datetime.datetime(2018, 12, 15, 19, 0, tzinfo=<DstTzInfo 'America/New_York' EST-1 day, 19:00:00 STD>), 'gapS': 14776681.160111, 'gapH': 4104.633655586389}]\n",
      "[{'pattern': '冬天', 'time': datetime.datetime(2018, 12, 15, 19, 0, tzinfo=<DstTzInfo 'America/New_York' EST-1 day, 19:00:00 STD>), 'gapS': 14776681.159955, 'gapH': 4104.633655543055}]\n",
      "[{'pattern': '六天', 'time': datetime.datetime(2018, 7, 2, 19, 0, tzinfo=<DstTzInfo 'America/New_York' EDT-1 day, 20:00:00 DST>), 'gapS': 430681.159798, 'gapH': 119.63365549944444}]\n",
      "[{'pattern': '八天', 'time': datetime.datetime(2018, 7, 4, 19, 0, tzinfo=<DstTzInfo 'America/New_York' EDT-1 day, 20:00:00 DST>), 'gapS': 603481.159663, 'gapH': 167.63365546194444}]\n",
      "[{'pattern': '今天', 'time': datetime.datetime(2018, 6, 27, 19, 0, tzinfo=<DstTzInfo 'America/New_York' EDT-1 day, 20:00:00 DST>), 'gapS': -1318.840468, 'gapH': -0.36634457444444446}]\n",
      "[{'pattern': '五天', 'time': datetime.datetime(2018, 7, 1, 19, 0, tzinfo=<DstTzInfo 'America/New_York' EDT-1 day, 20:00:00 DST>), 'gapS': 344281.159378, 'gapH': 95.63365538277777}]\n",
      "[{'pattern': '九天', 'time': datetime.datetime(2018, 7, 5, 19, 0, tzinfo=<DstTzInfo 'America/New_York' EDT-1 day, 20:00:00 DST>), 'gapS': 689881.159242, 'gapH': 191.633655345}]\n",
      "[{'pattern': '三天', 'time': datetime.datetime(2018, 6, 29, 19, 0, tzinfo=<DstTzInfo 'America/New_York' EDT-1 day, 20:00:00 DST>), 'gapS': 171481.159109, 'gapH': 47.63365530805556}]\n",
      "[{'pattern': '七天', 'time': datetime.datetime(2018, 7, 3, 19, 0, tzinfo=<DstTzInfo 'America/New_York' EDT-1 day, 20:00:00 DST>), 'gapS': 517081.158934, 'gapH': 143.63365525944445}]\n",
      "[{'pattern': '9天', 'time': datetime.datetime(2018, 7, 5, 19, 0, tzinfo=<DstTzInfo 'America/New_York' EDT-1 day, 20:00:00 DST>), 'gapS': 689881.158809, 'gapH': 191.63365522472225}]\n",
      "[{'pattern': '8天', 'time': datetime.datetime(2018, 7, 4, 19, 0, tzinfo=<DstTzInfo 'America/New_York' EDT-1 day, 20:00:00 DST>), 'gapS': 603481.158672, 'gapH': 167.6336551866667}]\n",
      "[{'pattern': '7天', 'time': datetime.datetime(2018, 7, 3, 19, 0, tzinfo=<DstTzInfo 'America/New_York' EDT-1 day, 20:00:00 DST>), 'gapS': 517081.158534, 'gapH': 143.63365514833333}]\n",
      "[{'pattern': '6天', 'time': datetime.datetime(2018, 7, 2, 19, 0, tzinfo=<DstTzInfo 'America/New_York' EDT-1 day, 20:00:00 DST>), 'gapS': 430681.1584, 'gapH': 119.63365511111111}]\n",
      "[{'pattern': '5天', 'time': datetime.datetime(2018, 7, 1, 19, 0, tzinfo=<DstTzInfo 'America/New_York' EDT-1 day, 20:00:00 DST>), 'gapS': 344281.158267, 'gapH': 95.63365507416667}]\n",
      "[{'pattern': '4天', 'time': datetime.datetime(2018, 6, 30, 19, 0, tzinfo=<DstTzInfo 'America/New_York' EDT-1 day, 20:00:00 DST>), 'gapS': 257881.158129, 'gapH': 71.63365503583333}]\n",
      "[{'pattern': '3天', 'time': datetime.datetime(2018, 6, 29, 19, 0, tzinfo=<DstTzInfo 'America/New_York' EDT-1 day, 20:00:00 DST>), 'gapS': 171481.157995, 'gapH': 47.63365499861111}]\n"
     ]
    }
   ],
   "source": [
    "t.test_self_defined()"
   ]
  },
  {
   "cell_type": "code",
   "execution_count": 62,
   "metadata": {
    "ExecuteTime": {
     "end_time": "2018-06-27T19:19:17.465746Z",
     "start_time": "2018-06-27T19:19:17.423264Z"
    }
   },
   "outputs": [
    {
     "ename": "KeyError",
     "evalue": "'这周五午早上'",
     "output_type": "error",
     "traceback": [
      "\u001b[0;31m---------------------------------------------------------------------------\u001b[0m",
      "\u001b[0;31mTypeError\u001b[0m                                 Traceback (most recent call last)",
      "\u001b[0;32m~/anaconda3/lib/python3.6/site-packages/pandas/core/indexes/base.py\u001b[0m in \u001b[0;36mget_value\u001b[0;34m(self, series, key)\u001b[0m\n\u001b[1;32m   3108\u001b[0m             \u001b[0;32mtry\u001b[0m\u001b[0;34m:\u001b[0m\u001b[0;34m\u001b[0m\u001b[0m\n\u001b[0;32m-> 3109\u001b[0;31m                 \u001b[0;32mreturn\u001b[0m \u001b[0mlibindex\u001b[0m\u001b[0;34m.\u001b[0m\u001b[0mget_value_box\u001b[0m\u001b[0;34m(\u001b[0m\u001b[0ms\u001b[0m\u001b[0;34m,\u001b[0m \u001b[0mkey\u001b[0m\u001b[0;34m)\u001b[0m\u001b[0;34m\u001b[0m\u001b[0m\n\u001b[0m\u001b[1;32m   3110\u001b[0m             \u001b[0;32mexcept\u001b[0m \u001b[0mIndexError\u001b[0m\u001b[0;34m:\u001b[0m\u001b[0;34m\u001b[0m\u001b[0m\n",
      "\u001b[0;32mpandas/_libs/index.pyx\u001b[0m in \u001b[0;36mpandas._libs.index.get_value_box\u001b[0;34m()\u001b[0m\n",
      "\u001b[0;32mpandas/_libs/index.pyx\u001b[0m in \u001b[0;36mpandas._libs.index.get_value_box\u001b[0;34m()\u001b[0m\n",
      "\u001b[0;31mTypeError\u001b[0m: 'str' object cannot be interpreted as an integer",
      "\nDuring handling of the above exception, another exception occurred:\n",
      "\u001b[0;31mKeyError\u001b[0m                                  Traceback (most recent call last)",
      "\u001b[0;32m<ipython-input-62-b12247066696>\u001b[0m in \u001b[0;36m<module>\u001b[0;34m()\u001b[0m\n\u001b[0;32m----> 1\u001b[0;31m \u001b[0mtt\u001b[0m\u001b[0;34m.\u001b[0m\u001b[0mseries\u001b[0m\u001b[0;34m[\u001b[0m\u001b[0;34m'这周五午早上'\u001b[0m\u001b[0;34m]\u001b[0m\u001b[0;34m\u001b[0m\u001b[0m\n\u001b[0m",
      "\u001b[0;32m~/anaconda3/lib/python3.6/site-packages/pandas/core/series.py\u001b[0m in \u001b[0;36m__getitem__\u001b[0;34m(self, key)\u001b[0m\n\u001b[1;32m    764\u001b[0m         \u001b[0mkey\u001b[0m \u001b[0;34m=\u001b[0m \u001b[0mcom\u001b[0m\u001b[0;34m.\u001b[0m\u001b[0m_apply_if_callable\u001b[0m\u001b[0;34m(\u001b[0m\u001b[0mkey\u001b[0m\u001b[0;34m,\u001b[0m \u001b[0mself\u001b[0m\u001b[0;34m)\u001b[0m\u001b[0;34m\u001b[0m\u001b[0m\n\u001b[1;32m    765\u001b[0m         \u001b[0;32mtry\u001b[0m\u001b[0;34m:\u001b[0m\u001b[0;34m\u001b[0m\u001b[0m\n\u001b[0;32m--> 766\u001b[0;31m             \u001b[0mresult\u001b[0m \u001b[0;34m=\u001b[0m \u001b[0mself\u001b[0m\u001b[0;34m.\u001b[0m\u001b[0mindex\u001b[0m\u001b[0;34m.\u001b[0m\u001b[0mget_value\u001b[0m\u001b[0;34m(\u001b[0m\u001b[0mself\u001b[0m\u001b[0;34m,\u001b[0m \u001b[0mkey\u001b[0m\u001b[0;34m)\u001b[0m\u001b[0;34m\u001b[0m\u001b[0m\n\u001b[0m\u001b[1;32m    767\u001b[0m \u001b[0;34m\u001b[0m\u001b[0m\n\u001b[1;32m    768\u001b[0m             \u001b[0;32mif\u001b[0m \u001b[0;32mnot\u001b[0m \u001b[0mis_scalar\u001b[0m\u001b[0;34m(\u001b[0m\u001b[0mresult\u001b[0m\u001b[0;34m)\u001b[0m\u001b[0;34m:\u001b[0m\u001b[0;34m\u001b[0m\u001b[0m\n",
      "\u001b[0;32m~/anaconda3/lib/python3.6/site-packages/pandas/core/indexes/base.py\u001b[0m in \u001b[0;36mget_value\u001b[0;34m(self, series, key)\u001b[0m\n\u001b[1;32m   3115\u001b[0m                     \u001b[0;32mraise\u001b[0m \u001b[0mInvalidIndexError\u001b[0m\u001b[0;34m(\u001b[0m\u001b[0mkey\u001b[0m\u001b[0;34m)\u001b[0m\u001b[0;34m\u001b[0m\u001b[0m\n\u001b[1;32m   3116\u001b[0m                 \u001b[0;32melse\u001b[0m\u001b[0;34m:\u001b[0m\u001b[0;34m\u001b[0m\u001b[0m\n\u001b[0;32m-> 3117\u001b[0;31m                     \u001b[0;32mraise\u001b[0m \u001b[0me1\u001b[0m\u001b[0;34m\u001b[0m\u001b[0m\n\u001b[0m\u001b[1;32m   3118\u001b[0m             \u001b[0;32mexcept\u001b[0m \u001b[0mException\u001b[0m\u001b[0;34m:\u001b[0m  \u001b[0;31m# pragma: no cover\u001b[0m\u001b[0;34m\u001b[0m\u001b[0m\n\u001b[1;32m   3119\u001b[0m                 \u001b[0;32mraise\u001b[0m \u001b[0me1\u001b[0m\u001b[0;34m\u001b[0m\u001b[0m\n",
      "\u001b[0;32m~/anaconda3/lib/python3.6/site-packages/pandas/core/indexes/base.py\u001b[0m in \u001b[0;36mget_value\u001b[0;34m(self, series, key)\u001b[0m\n\u001b[1;32m   3101\u001b[0m         \u001b[0;32mtry\u001b[0m\u001b[0;34m:\u001b[0m\u001b[0;34m\u001b[0m\u001b[0m\n\u001b[1;32m   3102\u001b[0m             return self._engine.get_value(s, k,\n\u001b[0;32m-> 3103\u001b[0;31m                                           tz=getattr(series.dtype, 'tz', None))\n\u001b[0m\u001b[1;32m   3104\u001b[0m         \u001b[0;32mexcept\u001b[0m \u001b[0mKeyError\u001b[0m \u001b[0;32mas\u001b[0m \u001b[0me1\u001b[0m\u001b[0;34m:\u001b[0m\u001b[0;34m\u001b[0m\u001b[0m\n\u001b[1;32m   3105\u001b[0m             \u001b[0;32mif\u001b[0m \u001b[0mlen\u001b[0m\u001b[0;34m(\u001b[0m\u001b[0mself\u001b[0m\u001b[0;34m)\u001b[0m \u001b[0;34m>\u001b[0m \u001b[0;36m0\u001b[0m \u001b[0;32mand\u001b[0m \u001b[0mself\u001b[0m\u001b[0;34m.\u001b[0m\u001b[0minferred_type\u001b[0m \u001b[0;32min\u001b[0m \u001b[0;34m[\u001b[0m\u001b[0;34m'integer'\u001b[0m\u001b[0;34m,\u001b[0m \u001b[0;34m'boolean'\u001b[0m\u001b[0;34m]\u001b[0m\u001b[0;34m:\u001b[0m\u001b[0;34m\u001b[0m\u001b[0m\n",
      "\u001b[0;32mpandas/_libs/index.pyx\u001b[0m in \u001b[0;36mpandas._libs.index.IndexEngine.get_value\u001b[0;34m()\u001b[0m\n",
      "\u001b[0;32mpandas/_libs/index.pyx\u001b[0m in \u001b[0;36mpandas._libs.index.IndexEngine.get_value\u001b[0;34m()\u001b[0m\n",
      "\u001b[0;32mpandas/_libs/index.pyx\u001b[0m in \u001b[0;36mpandas._libs.index.IndexEngine.get_loc\u001b[0;34m()\u001b[0m\n",
      "\u001b[0;32mpandas/_libs/index.pyx\u001b[0m in \u001b[0;36mpandas._libs.index.IndexEngine._get_loc_duplicates\u001b[0;34m()\u001b[0m\n",
      "\u001b[0;32mpandas/_libs/index.pyx\u001b[0m in \u001b[0;36mpandas._libs.index.IndexEngine._maybe_get_bool_indexer\u001b[0;34m()\u001b[0m\n",
      "\u001b[0;31mKeyError\u001b[0m: '这周五午早上'"
     ]
    }
   ],
   "source": [
    "tt.series['这周五午早上']"
   ]
  },
  {
   "cell_type": "code",
   "execution_count": 63,
   "metadata": {
    "ExecuteTime": {
     "end_time": "2018-06-27T19:19:19.381382Z",
     "start_time": "2018-06-27T19:19:19.359330Z"
    }
   },
   "outputs": [
    {
     "ename": "ValueError",
     "evalue": "invalid literal for int() with base 10: '?'",
     "output_type": "error",
     "traceback": [
      "\u001b[0;31m---------------------------------------------------------------------------\u001b[0m",
      "\u001b[0;31mValueError\u001b[0m                                Traceback (most recent call last)",
      "\u001b[0;32m<ipython-input-63-a3ef35dcc613>\u001b[0m in \u001b[0;36m<module>\u001b[0;34m()\u001b[0m\n\u001b[0;32m----> 1\u001b[0;31m \u001b[0mtt\u001b[0m\u001b[0;34m.\u001b[0m\u001b[0mevl\u001b[0m\u001b[0;34m(\u001b[0m\u001b[0;34m'?y-+?W-5w-12H:00M:00S'\u001b[0m\u001b[0;34m)\u001b[0m\u001b[0;34m\u001b[0m\u001b[0m\n\u001b[0m",
      "\u001b[0;32m<ipython-input-58-72e31f1dbf34>\u001b[0m in \u001b[0;36mevl\u001b[0;34m(self, expression)\u001b[0m\n\u001b[1;32m     33\u001b[0m         \u001b[0;32mif\u001b[0m \u001b[0mexp_week\u001b[0m\u001b[0;34m:\u001b[0m\u001b[0;34m\u001b[0m\u001b[0m\n\u001b[1;32m     34\u001b[0m             \u001b[0mhistory\u001b[0m \u001b[0;34m=\u001b[0m \u001b[0mself\u001b[0m\u001b[0;34m.\u001b[0m\u001b[0m_pros_weekDay\u001b[0m\u001b[0;34m(\u001b[0m\u001b[0mexpression\u001b[0m\u001b[0;34m,\u001b[0m\u001b[0mcurrent\u001b[0m\u001b[0;34m,\u001b[0m \u001b[0mhistory\u001b[0m\u001b[0;34m)\u001b[0m\u001b[0;34m\u001b[0m\u001b[0m\n\u001b[0;32m---> 35\u001b[0;31m             \u001b[0mhistory\u001b[0m \u001b[0;34m=\u001b[0m \u001b[0mself\u001b[0m\u001b[0;34m.\u001b[0m\u001b[0m_pros_week\u001b[0m\u001b[0;34m(\u001b[0m\u001b[0mexpression\u001b[0m\u001b[0;34m,\u001b[0m\u001b[0mcurrent\u001b[0m\u001b[0;34m,\u001b[0m \u001b[0mhistory\u001b[0m\u001b[0;34m)\u001b[0m\u001b[0;34m\u001b[0m\u001b[0m\n\u001b[0m\u001b[1;32m     36\u001b[0m             \u001b[0mhistory\u001b[0m \u001b[0;34m=\u001b[0m \u001b[0mself\u001b[0m\u001b[0;34m.\u001b[0m\u001b[0m_pros_year\u001b[0m\u001b[0;34m(\u001b[0m\u001b[0mexpression\u001b[0m\u001b[0;34m,\u001b[0m \u001b[0mcurrent\u001b[0m\u001b[0;34m,\u001b[0m\u001b[0mhistory\u001b[0m\u001b[0;34m)\u001b[0m\u001b[0;34m\u001b[0m\u001b[0m\n\u001b[1;32m     37\u001b[0m             \u001b[0mfuture\u001b[0m \u001b[0;34m=\u001b[0m \u001b[0mself\u001b[0m\u001b[0;34m.\u001b[0m\u001b[0mcreate_from_W\u001b[0m\u001b[0;34m(\u001b[0m\u001b[0mhistory\u001b[0m\u001b[0;34m)\u001b[0m\u001b[0;34m\u001b[0m\u001b[0m\n",
      "\u001b[0;32m<ipython-input-58-72e31f1dbf34>\u001b[0m in \u001b[0;36m_pros_week\u001b[0;34m(self, expression, current, history)\u001b[0m\n\u001b[1;32m    269\u001b[0m             \u001b[0;32mreturn\u001b[0m \u001b[0mhistory\u001b[0m\u001b[0;34m\u001b[0m\u001b[0m\n\u001b[1;32m    270\u001b[0m         \u001b[0;32melif\u001b[0m \u001b[0mextract\u001b[0m\u001b[0;34m[\u001b[0m\u001b[0;36m2\u001b[0m\u001b[0;34m]\u001b[0m \u001b[0;34m==\u001b[0m \u001b[0;34m'+'\u001b[0m\u001b[0;34m:\u001b[0m\u001b[0;34m\u001b[0m\u001b[0m\n\u001b[0;32m--> 271\u001b[0;31m             \u001b[0mcur\u001b[0m \u001b[0;34m=\u001b[0m \u001b[0mW\u001b[0m \u001b[0;34m+\u001b[0m \u001b[0mint\u001b[0m\u001b[0;34m(\u001b[0m\u001b[0mextract\u001b[0m\u001b[0;34m[\u001b[0m\u001b[0;36m3\u001b[0m\u001b[0;34m:\u001b[0m\u001b[0;34m-\u001b[0m\u001b[0;36m1\u001b[0m\u001b[0;34m]\u001b[0m\u001b[0;34m)\u001b[0m\u001b[0;34m\u001b[0m\u001b[0m\n\u001b[0m\u001b[1;32m    272\u001b[0m             \u001b[0;32mif\u001b[0m \u001b[0mcur\u001b[0m \u001b[0;34m>\u001b[0m \u001b[0;36m53\u001b[0m\u001b[0;34m:\u001b[0m\u001b[0;34m\u001b[0m\u001b[0m\n\u001b[1;32m    273\u001b[0m                 \u001b[0myear_adjust\u001b[0m \u001b[0;34m=\u001b[0m \u001b[0mint\u001b[0m\u001b[0;34m(\u001b[0m\u001b[0mcur\u001b[0m \u001b[0;34m/\u001b[0m \u001b[0;36m53\u001b[0m\u001b[0;34m)\u001b[0m\u001b[0;34m\u001b[0m\u001b[0m\n",
      "\u001b[0;31mValueError\u001b[0m: invalid literal for int() with base 10: '?'"
     ]
    }
   ],
   "source": [
    "tt.evl('?y-+?W-5w-12H:00M:00S')"
   ]
  },
  {
   "cell_type": "code",
   "execution_count": 29,
   "metadata": {
    "ExecuteTime": {
     "end_time": "2018-06-27T19:05:45.535558Z",
     "start_time": "2018-06-27T19:05:45.492113Z"
    }
   },
   "outputs": [
    {
     "name": "stdout",
     "output_type": "stream",
     "text": [
      "这周五午早上\n",
      "这周5午早上\n",
      "这周四早上\n",
      "这周四下午\n",
      "这周五下午\n",
      "这周二早上\n",
      "这周二下午\n",
      "这周三早上\n",
      "这周三下午\n",
      "这周5下午\n",
      "这周4早上\n",
      "这周4下午\n",
      "这周3早上\n",
      "这周2早上\n",
      "这周2下午\n",
      "下下下礼拜\n",
      "下下下星期\n",
      "两个季度\n",
      "下下下周\n",
      "三个季度\n",
      "一个季度\n",
      "3个季度\n",
      "2个季度\n",
      "1个季度\n",
      "这周四\n",
      "这周五\n",
      "这周二\n",
      "这周三\n",
      "这周5\n",
      "这周4\n",
      "这周3\n",
      "这周2\n",
      "礼拜四\n",
      "礼拜五\n",
      "礼拜二\n",
      "礼拜三\n",
      "礼拜5\n",
      "礼拜4\n",
      "礼拜3\n",
      "礼拜2\n",
      "星期四\n",
      "星期五\n",
      "星期二\n",
      "星期三\n",
      "星期5\n",
      "星期4\n",
      "星期3\n",
      "星期2\n",
      "一周内\n"
     ]
    }
   ],
   "source": [
    "t.text_self_defined()"
   ]
  },
  {
   "cell_type": "code",
   "execution_count": 21,
   "metadata": {
    "ExecuteTime": {
     "end_time": "2018-06-27T19:04:26.050873Z",
     "start_time": "2018-06-27T19:04:26.037396Z"
    }
   },
   "outputs": [],
   "source": [
    "tt = TimePattern(pattern_path='mapping.csv')"
   ]
  },
  {
   "cell_type": "code",
   "execution_count": 23,
   "metadata": {
    "ExecuteTime": {
     "end_time": "2018-06-27T19:04:33.392169Z",
     "start_time": "2018-06-27T19:04:33.380466Z"
    }
   },
   "outputs": [
    {
     "data": {
      "text/plain": [
       "下个礼拜四早上     ?y-+1W-4w-12H:00M:00S\n",
       "下个礼拜五早上     ?y-+1W-5w-12H:00M:00S\n",
       "下个礼拜二早上     ?y-+1W-2w-12H:00M:00S\n",
       "下个礼拜三早上     ?y-+1W-3w-12H:00M:00S\n",
       "下个礼拜一早上     ?y-+1W-1w-12H:00M:00S\n",
       "下个礼拜4早上     ?y-+1W-4w-12H:00M:00S\n",
       "下个礼拜3早上     ?y-+1W-3w-12H:00M:00S\n",
       "下个礼拜2早上     ?y-+1W-2w-12H:00M:00S\n",
       "下个礼拜1早上     ?y-+1W-1w-12H:00M:00S\n",
       "下个星期四早上     ?y-+1W-4w-12H:00M:00S\n",
       "下个星期五早上     ?y-+1W-5w-12H:00M:00S\n",
       "下个星期二早上     ?y-+1W-2w-12H:00M:00S\n",
       "下个星期三早上     ?y-+1W-3w-12H:00M:00S\n",
       "下个星期一早上     ?y-+1W-1w-12H:00M:00S\n",
       "下个星期5早上     ?y-+1W-5w-12H:00M:00S\n",
       "下个星期4早上     ?y-+1W-4w-12H:00M:00S\n",
       "下个星期3早上     ?y-+1W-3w-12H:00M:00S\n",
       "下个星期2早上     ?y-+1W-2w-12H:00M:00S\n",
       "下个星期1早上     ?y-+1W-1w-12H:00M:00S\n",
       "这周五午早上      ?y-+?W-5w-12H:00M:00S\n",
       "这周5午早上      ?y-+?W-5w-12H:00M:00S\n",
       "下下个礼拜四      ?y-+2W-4w-15H:00M:00S\n",
       "下下个礼拜五      ?y-+2W-5w-15H:00M:00S\n",
       "下下个礼拜二      ?y-+2W-2w-15H:00M:00S\n",
       "下下个礼拜三      ?y-+2W-3w-15H:00M:00S\n",
       "下下个礼拜一      ?y-+2W-1w-15H:00M:00S\n",
       "下下个礼拜5      ?y-+2W-5w-15H:00M:00S\n",
       "下下个礼拜4      ?y-+2W-4w-15H:00M:00S\n",
       "下下个礼拜3      ?y-+2W-3w-15H:00M:00S\n",
       "下下个礼拜2      ?y-+2W-2w-15H:00M:00S\n",
       "                    ...          \n",
       "10天         ?y-?m-+9d-15H:00M:00S\n",
       "秋季         ?y-10m-15d-15H:00M:00S\n",
       "秋天         ?y-10m-15d-15H:00M:00S\n",
       "春季          ?y-3m-15d-15H:00M:00S\n",
       "春天          ?y-3m-15d-15H:00M:00S\n",
       "明天          ?y-?m-+1d-12H:00M:00S\n",
       "年末          ?y-12m-1d-15H:00M:00S\n",
       "年尾          ?y-1m-31d-15H:00M:00S\n",
       "年初          ?y-1m-31d-15H:00M:00S\n",
       "夏季          ?y-7m-15d-15H:00M:00S\n",
       "夏天          ?y-7m-15d-15H:00M:00S\n",
       "四天          ?y-?m-+3d-15H:00M:00S\n",
       "后天          ?y-?m-+2d-12H:00M:00S\n",
       "十天          ?y-?m-+9d-15H:00M:00S\n",
       "冬季         ?y-12m-15d-15H:00M:00S\n",
       "冬天         ?y-12m-15d-15H:00M:00S\n",
       "六天          ?y-?m-+5d-15H:00M:00S\n",
       "八天          ?y-?m-+7d-15H:00M:00S\n",
       "今天           ?y-?m-?d-15H:00M:00S\n",
       "五天          ?y-?m-+4d-15H:00M:00S\n",
       "九天          ?y-?m-+8d-15H:00M:00S\n",
       "三天          ?y-?m-+2d-15H:00M:00S\n",
       "七天          ?y-?m-+6d-15H:00M:00S\n",
       "9天          ?y-?m-+8d-15H:00M:00S\n",
       "8天          ?y-?m-+7d-15H:00M:00S\n",
       "7天          ?y-?m-+6d-15H:00M:00S\n",
       "6天          ?y-?m-+5d-15H:00M:00S\n",
       "5天          ?y-?m-+4d-15H:00M:00S\n",
       "4天          ?y-?m-+3d-15H:00M:00S\n",
       "3天          ?y-?m-+2d-15H:00M:00S\n",
       "Length: 290, dtype: object"
      ]
     },
     "execution_count": 23,
     "metadata": {},
     "output_type": "execute_result"
    }
   ],
   "source": [
    "tt.series"
   ]
  },
  {
   "cell_type": "code",
   "execution_count": 112,
   "metadata": {
    "ExecuteTime": {
     "end_time": "2018-06-27T04:53:13.422960Z",
     "start_time": "2018-06-27T04:53:13.414998Z"
    }
   },
   "outputs": [
    {
     "name": "stdout",
     "output_type": "stream",
     "text": [
      "您所指定的时间不在月份范围内\n"
     ]
    }
   ],
   "source": [
    "try:\n",
    "    tt.process('12月32日')\n",
    "except ValueError as e:\n",
    "    if e.args[0] == 'day is out of range for month':\n",
    "        print('您所指定的时间不在月份范围内')"
   ]
  },
  {
   "cell_type": "code",
   "execution_count": 108,
   "metadata": {
    "ExecuteTime": {
     "end_time": "2018-06-27T04:51:04.505731Z",
     "start_time": "2018-06-27T04:51:04.493718Z"
    }
   },
   "outputs": [
    {
     "data": {
      "text/plain": [
       "('day is out of range for month',)"
      ]
     },
     "execution_count": 108,
     "metadata": {},
     "output_type": "execute_result"
    }
   ],
   "source": [
    "a.args"
   ]
  },
  {
   "cell_type": "code",
   "execution_count": 92,
   "metadata": {
    "ExecuteTime": {
     "end_time": "2018-06-26T21:15:10.006880Z",
     "start_time": "2018-06-26T21:15:10.000338Z"
    }
   },
   "outputs": [
    {
     "data": {
      "text/plain": [
       "[{'gapH': 8874.747221632222,\n",
       "  'gapS': 31949089.997876,\n",
       "  'pattern': '明年7月1号',\n",
       "  'time': datetime.datetime(2019, 7, 1, 16, 0, tzinfo=<DstTzInfo 'America/New_York' EDT-1 day, 20:00:00 DST>)}]"
      ]
     },
     "execution_count": 92,
     "metadata": {},
     "output_type": "execute_result"
    }
   ],
   "source": [
    "t.process('我明年7月1号哦哦不下周一就还')"
   ]
  },
  {
   "cell_type": "code",
   "execution_count": 64,
   "metadata": {
    "ExecuteTime": {
     "end_time": "2018-06-25T19:30:17.735166Z",
     "start_time": "2018-06-25T19:30:17.723925Z"
    }
   },
   "outputs": [
    {
     "data": {
      "text/plain": [
       "23.502335771944445"
      ]
     },
     "execution_count": 64,
     "metadata": {},
     "output_type": "execute_result"
    }
   ],
   "source": [
    "84608.408779 / 3600"
   ]
  },
  {
   "cell_type": "code",
   "execution_count": null,
   "metadata": {
    "collapsed": true
   },
   "outputs": [],
   "source": []
  },
  {
   "cell_type": "code",
   "execution_count": 18,
   "metadata": {
    "ExecuteTime": {
     "end_time": "2018-06-25T18:54:48.874730Z",
     "start_time": "2018-06-25T18:54:41.847386Z"
    }
   },
   "outputs": [
    {
     "name": "stdout",
     "output_type": "stream",
     "text": [
      "85.4 µs ± 1.14 µs per loop (mean ± std. dev. of 7 runs, 10000 loops each)\n"
     ]
    }
   ],
   "source": [
    "%%timeit\n",
    "a = t.evl('?y-+2W-3w-12H:00M:00S')\n"
   ]
  },
  {
   "cell_type": "code",
   "execution_count": 21,
   "metadata": {
    "ExecuteTime": {
     "end_time": "2018-06-25T18:56:24.233320Z",
     "start_time": "2018-06-25T18:56:19.141440Z"
    }
   },
   "outputs": [
    {
     "name": "stdout",
     "output_type": "stream",
     "text": [
      "61.5 µs ± 895 ns per loop (mean ± std. dev. of 7 runs, 10000 loops each)\n"
     ]
    }
   ],
   "source": [
    "%%timeit\n",
    "a = t.evl('?y-?m-?d-?H:00M:00S')"
   ]
  },
  {
   "cell_type": "code",
   "execution_count": 23,
   "metadata": {
    "ExecuteTime": {
     "end_time": "2018-06-25T19:04:16.170729Z",
     "start_time": "2018-06-25T19:04:16.163926Z"
    }
   },
   "outputs": [],
   "source": [
    "df = pd.DataFrame([{'key_word':'明天','expression':'?y-?m-+1d-12H:00M:00S'}])"
   ]
  },
  {
   "cell_type": "code",
   "execution_count": 25,
   "metadata": {
    "ExecuteTime": {
     "end_time": "2018-06-25T19:05:14.503642Z",
     "start_time": "2018-06-25T19:05:14.484117Z"
    }
   },
   "outputs": [],
   "source": [
    "df.to_csv('mapping.csv',encoding='utf-8',index=False)"
   ]
  },
  {
   "cell_type": "code",
   "execution_count": 51,
   "metadata": {
    "ExecuteTime": {
     "end_time": "2018-06-25T19:17:46.664837Z",
     "start_time": "2018-06-25T19:17:46.645152Z"
    }
   },
   "outputs": [],
   "source": [
    "df = pd.read_csv('mapping.csv')\n",
    "# create length\n",
    "df['length'] = df.key_word.apply(lambda x: len(x))\n",
    "df = df.sort_values(['length','key_word'], ascending=False)\n",
    "df_series = pd.Series(index=df.key_word.values, data=df.expression.values)\n",
    "df_dict = df_series.to_dict()"
   ]
  },
  {
   "cell_type": "code",
   "execution_count": 54,
   "metadata": {
    "ExecuteTime": {
     "end_time": "2018-06-25T19:18:03.413266Z",
     "start_time": "2018-06-25T19:18:03.407164Z"
    }
   },
   "outputs": [
    {
     "data": {
      "text/plain": [
       "array(['明天下午', '后天下午', '两周后', '一周后', '2周后', '1周后', '明天', '后天'], dtype=object)"
      ]
     },
     "execution_count": 54,
     "metadata": {},
     "output_type": "execute_result"
    }
   ],
   "source": [
    "df_series.index.values"
   ]
  },
  {
   "cell_type": "code",
   "execution_count": 49,
   "metadata": {
    "ExecuteTime": {
     "end_time": "2018-06-25T19:16:21.895944Z",
     "start_time": "2018-06-25T19:16:21.872069Z"
    }
   },
   "outputs": [
    {
     "data": {
      "text/html": [
       "<div>\n",
       "<style>\n",
       "    .dataframe thead tr:only-child th {\n",
       "        text-align: right;\n",
       "    }\n",
       "\n",
       "    .dataframe thead th {\n",
       "        text-align: left;\n",
       "    }\n",
       "\n",
       "    .dataframe tbody tr th {\n",
       "        vertical-align: top;\n",
       "    }\n",
       "</style>\n",
       "<table border=\"1\" class=\"dataframe\">\n",
       "  <thead>\n",
       "    <tr style=\"text-align: right;\">\n",
       "      <th></th>\n",
       "      <th>expression</th>\n",
       "      <th>key_word</th>\n",
       "      <th>length</th>\n",
       "    </tr>\n",
       "  </thead>\n",
       "  <tbody>\n",
       "    <tr>\n",
       "      <th>1</th>\n",
       "      <td>?y-?m-+1d-15H:00M:00S</td>\n",
       "      <td>明天下午</td>\n",
       "      <td>4</td>\n",
       "    </tr>\n",
       "    <tr>\n",
       "      <th>2</th>\n",
       "      <td>?y-?m-+2d-15H:00M:00S</td>\n",
       "      <td>后天下午</td>\n",
       "      <td>4</td>\n",
       "    </tr>\n",
       "    <tr>\n",
       "      <th>7</th>\n",
       "      <td>?y-+2W-?w-12H:00M:00S</td>\n",
       "      <td>两周后</td>\n",
       "      <td>3</td>\n",
       "    </tr>\n",
       "    <tr>\n",
       "      <th>4</th>\n",
       "      <td>?y-+1W-?w-12H:00M:00S</td>\n",
       "      <td>一周后</td>\n",
       "      <td>3</td>\n",
       "    </tr>\n",
       "    <tr>\n",
       "      <th>6</th>\n",
       "      <td>?y-+2W-?w-12H:00M:00S</td>\n",
       "      <td>2周后</td>\n",
       "      <td>3</td>\n",
       "    </tr>\n",
       "    <tr>\n",
       "      <th>5</th>\n",
       "      <td>?y-+1W-?w-12H:00M:00S</td>\n",
       "      <td>1周后</td>\n",
       "      <td>3</td>\n",
       "    </tr>\n",
       "    <tr>\n",
       "      <th>0</th>\n",
       "      <td>?y-?m-+1d-12H:00M:00S</td>\n",
       "      <td>明天</td>\n",
       "      <td>2</td>\n",
       "    </tr>\n",
       "    <tr>\n",
       "      <th>3</th>\n",
       "      <td>?y-?m-+2d-12H:00M:00S</td>\n",
       "      <td>后天</td>\n",
       "      <td>2</td>\n",
       "    </tr>\n",
       "  </tbody>\n",
       "</table>\n",
       "</div>"
      ],
      "text/plain": [
       "              expression key_word  length\n",
       "1  ?y-?m-+1d-15H:00M:00S     明天下午       4\n",
       "2  ?y-?m-+2d-15H:00M:00S     后天下午       4\n",
       "7  ?y-+2W-?w-12H:00M:00S      两周后       3\n",
       "4  ?y-+1W-?w-12H:00M:00S      一周后       3\n",
       "6  ?y-+2W-?w-12H:00M:00S      2周后       3\n",
       "5  ?y-+1W-?w-12H:00M:00S      1周后       3\n",
       "0  ?y-?m-+1d-12H:00M:00S       明天       2\n",
       "3  ?y-?m-+2d-12H:00M:00S       后天       2"
      ]
     },
     "execution_count": 49,
     "metadata": {},
     "output_type": "execute_result"
    }
   ],
   "source": [
    "df = df.sort_values(['length','key_word'], ascending=False)"
   ]
  },
  {
   "cell_type": "code",
   "execution_count": null,
   "metadata": {
    "collapsed": true
   },
   "outputs": [],
   "source": []
  }
 ],
 "metadata": {
  "kernelspec": {
   "display_name": "Python 3",
   "language": "python",
   "name": "python3"
  },
  "language_info": {
   "codemirror_mode": {
    "name": "ipython",
    "version": 3
   },
   "file_extension": ".py",
   "mimetype": "text/x-python",
   "name": "python",
   "nbconvert_exporter": "python",
   "pygments_lexer": "ipython3",
   "version": "3.6.5"
  },
  "varInspector": {
   "cols": {
    "lenName": 16,
    "lenType": 16,
    "lenVar": 40
   },
   "kernels_config": {
    "python": {
     "delete_cmd_postfix": "",
     "delete_cmd_prefix": "del ",
     "library": "var_list.py",
     "varRefreshCmd": "print(var_dic_list())"
    },
    "r": {
     "delete_cmd_postfix": ") ",
     "delete_cmd_prefix": "rm(",
     "library": "var_list.r",
     "varRefreshCmd": "cat(var_dic_list()) "
    }
   },
   "types_to_exclude": [
    "module",
    "function",
    "builtin_function_or_method",
    "instance",
    "_Feature"
   ],
   "window_display": false
  }
 },
 "nbformat": 4,
 "nbformat_minor": 2
}
