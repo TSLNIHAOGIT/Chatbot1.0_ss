{
 "cells": [
  {
   "cell_type": "code",
   "execution_count": 10,
   "metadata": {
    "ExecuteTime": {
     "end_time": "2018-06-06T18:03:47.716503Z",
     "start_time": "2018-06-06T18:03:47.713440Z"
    },
    "collapsed": true
   },
   "outputs": [],
   "source": [
    "from textblob import TextBlob"
   ]
  },
  {
   "cell_type": "code",
   "execution_count": 11,
   "metadata": {
    "ExecuteTime": {
     "end_time": "2018-06-06T18:03:47.956526Z",
     "start_time": "2018-06-06T18:03:47.953496Z"
    },
    "collapsed": true
   },
   "outputs": [],
   "source": [
    "comment = \"你好陈先生，这里是催收公司，想就您欠款1.2亿的事情进行沟通了解，请问您什么时候能处理呢？\""
   ]
  },
  {
   "cell_type": "code",
   "execution_count": 12,
   "metadata": {
    "ExecuteTime": {
     "end_time": "2018-06-06T18:03:48.254461Z",
     "start_time": "2018-06-06T18:03:48.250136Z"
    },
    "collapsed": true
   },
   "outputs": [],
   "source": [
    "if hasattr(comment, \"decode\"):\n",
    "    comment = comment.decode('utf-8')\n",
    "text = TextBlob(comment)"
   ]
  },
  {
   "cell_type": "code",
   "execution_count": 27,
   "metadata": {
    "ExecuteTime": {
     "end_time": "2018-06-06T18:06:45.673177Z",
     "start_time": "2018-06-06T18:06:44.192128Z"
    }
   },
   "outputs": [
    {
     "data": {
      "text/plain": [
       "TextBlob(\"Hello, Mr. Chen, this is a collection company and wants to communicate about the 120 million yuan you owe. I would like to ask when can you handle it?\")"
      ]
     },
     "execution_count": 27,
     "metadata": {},
     "output_type": "execute_result"
    }
   ],
   "source": [
    "text_en = text.translate(to='en')\n",
    "text_th = text.translate(to='th')\n",
    "text_fr = text.translate(to='fr')\n",
    "text_es = text.translate(to='es')\n",
    "text_el = text.translate(to='el')\n",
    "text_en"
   ]
  },
  {
   "cell_type": "code",
   "execution_count": 23,
   "metadata": {
    "ExecuteTime": {
     "end_time": "2018-06-06T18:05:40.067991Z",
     "start_time": "2018-06-06T18:05:39.982593Z"
    }
   },
   "outputs": [
    {
     "data": {
      "text/plain": [
       "TextBlob(\"你好，陈先生，这是一家收藏公司，想要交流你欠下的1.2亿元人民币。我想问你什么时候可以处理它？\")"
      ]
     },
     "execution_count": 23,
     "metadata": {},
     "output_type": "execute_result"
    }
   ],
   "source": [
    "text_en.translate(to='zh')\n",
    "# text_zh"
   ]
  },
  {
   "cell_type": "code",
   "execution_count": 24,
   "metadata": {
    "ExecuteTime": {
     "end_time": "2018-06-06T18:05:40.131790Z",
     "start_time": "2018-06-06T18:05:40.078348Z"
    }
   },
   "outputs": [
    {
     "data": {
      "text/plain": [
       "TextBlob(\"嗨陈，这是一家仓储公司，我想联系一下我欠下的1.2亿元人民币，我想问你什么时候可以管理？\")"
      ]
     },
     "execution_count": 24,
     "metadata": {},
     "output_type": "execute_result"
    }
   ],
   "source": [
    "text_th.translate(to='zh')"
   ]
  },
  {
   "cell_type": "code",
   "execution_count": 25,
   "metadata": {
    "ExecuteTime": {
     "end_time": "2018-06-06T18:05:40.200475Z",
     "start_time": "2018-06-06T18:05:40.141778Z"
    }
   },
   "outputs": [
    {
     "data": {
      "text/plain": [
       "TextBlob(\"你好，陈先生，这是一家收藏公司，想要沟通你所欠的1.2亿元人民币。我想问你什么时候可以处理？\")"
      ]
     },
     "execution_count": 25,
     "metadata": {},
     "output_type": "execute_result"
    }
   ],
   "source": [
    "text_fr.translate(to='zh')"
   ]
  },
  {
   "cell_type": "code",
   "execution_count": 26,
   "metadata": {
    "ExecuteTime": {
     "end_time": "2018-06-06T18:05:52.930076Z",
     "start_time": "2018-06-06T18:05:51.797721Z"
    }
   },
   "outputs": [
    {
     "data": {
      "text/plain": [
       "TextBlob(\"你好，陈先生，这是一家收藏公司，想告诉我你欠的1.2亿元人民币。我想问你什么时候可以处理它。\")"
      ]
     },
     "execution_count": 26,
     "metadata": {},
     "output_type": "execute_result"
    }
   ],
   "source": [
    "text_es.translate(to='zh')"
   ]
  },
  {
   "cell_type": "code",
   "execution_count": 28,
   "metadata": {
    "ExecuteTime": {
     "end_time": "2018-06-06T18:06:55.821279Z",
     "start_time": "2018-06-06T18:06:53.875238Z"
    }
   },
   "outputs": [
    {
     "data": {
      "text/plain": [
       "TextBlob(\"陈先生，您好，这是一家收藏公司，想要就您欠下的1.2亿元人民币进行沟通。我想问你什么时候可以处理它？\")"
      ]
     },
     "execution_count": 28,
     "metadata": {},
     "output_type": "execute_result"
    }
   ],
   "source": [
    "text_el.translate(to='zh')"
   ]
  },
  {
   "cell_type": "code",
   "execution_count": null,
   "metadata": {
    "collapsed": true
   },
   "outputs": [],
   "source": []
  }
 ],
 "metadata": {
  "kernelspec": {
   "display_name": "Python 3",
   "language": "python",
   "name": "python3"
  },
  "language_info": {
   "codemirror_mode": {
    "name": "ipython",
    "version": 3
   },
   "file_extension": ".py",
   "mimetype": "text/x-python",
   "name": "python",
   "nbconvert_exporter": "python",
   "pygments_lexer": "ipython3",
   "version": "3.6.3"
  },
  "varInspector": {
   "cols": {
    "lenName": 16,
    "lenType": 16,
    "lenVar": 40
   },
   "kernels_config": {
    "python": {
     "delete_cmd_postfix": "",
     "delete_cmd_prefix": "del ",
     "library": "var_list.py",
     "varRefreshCmd": "print(var_dic_list())"
    },
    "r": {
     "delete_cmd_postfix": ") ",
     "delete_cmd_prefix": "rm(",
     "library": "var_list.r",
     "varRefreshCmd": "cat(var_dic_list()) "
    }
   },
   "types_to_exclude": [
    "module",
    "function",
    "builtin_function_or_method",
    "instance",
    "_Feature"
   ],
   "window_display": false
  }
 },
 "nbformat": 4,
 "nbformat_minor": 2
}
