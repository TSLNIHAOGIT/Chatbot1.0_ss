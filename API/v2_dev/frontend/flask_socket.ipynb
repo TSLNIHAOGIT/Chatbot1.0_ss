{
 "cells": [
  {
   "cell_type": "code",
   "execution_count": 1,
   "metadata": {
    "ExecuteTime": {
     "end_time": "2018-06-19T18:16:48.452535Z",
     "start_time": "2018-06-19T18:16:48.279705Z"
    }
   },
   "outputs": [],
   "source": [
    "#!/usr/bin/env python\n",
    "from flask import Flask, render_template, session, request\n",
    "from flask_socketio import SocketIO, emit,send\n",
    "import time\n",
    "\n",
    "app = Flask(__name__, template_folder='./')\n",
    "app.config['SECRET_KEY'] = 'secret!'\n",
    "\n",
    "socketio = SocketIO(app)\n",
    "\n",
    "@app.route('/')\n",
    "def index():\n",
    "    return render_template('index.html')\n",
    "\n",
    "@socketio.on('client_event1')\n",
    "def client_msg(msg):\n",
    "    \n",
    "#     emit('server_response', {'data': msg['data']})\n",
    "    counter = 0\n",
    "    while counter < 6:\n",
    "        counter += 1\n",
    "        time.sleep(1)\n",
    "        print('sleep')\n",
    "#         emit('server_response', {'data': 'dfdsfsddf'})\n",
    "        emit('server_response', {'data': msg['data']})\n",
    "    \n",
    "@socketio.on('connect_event')\n",
    "def connected_msg(msg):\n",
    "    emit('server_response', {'data': msg['data']})\n",
    "    \n",
    "@socketio.on('message')\n",
    "def handle_message(message):\n",
    "    while 1:\n",
    "        time.sleep(1)\n",
    "        print(1)\n",
    "        send('server_response')\n",
    "\n",
    "\n",
    "    "
   ]
  },
  {
   "cell_type": "code",
   "execution_count": null,
   "metadata": {
    "ExecuteTime": {
     "start_time": "2018-06-19T18:16:37.738Z"
    }
   },
   "outputs": [
    {
     "name": "stdout",
     "output_type": "stream",
     "text": [
      "sleep\n",
      "sleep\n",
      "sleep\n",
      "sleep\n",
      "sleep\n",
      "sleep\n"
     ]
    }
   ],
   "source": [
    "socketio.run(app, host='0.0.0.0', port=8889)"
   ]
  },
  {
   "cell_type": "code",
   "execution_count": null,
   "metadata": {
    "collapsed": true
   },
   "outputs": [],
   "source": []
  }
 ],
 "metadata": {
  "kernelspec": {
   "display_name": "Python 3",
   "language": "python",
   "name": "python3"
  },
  "language_info": {
   "codemirror_mode": {
    "name": "ipython",
    "version": 3
   },
   "file_extension": ".py",
   "mimetype": "text/x-python",
   "name": "python",
   "nbconvert_exporter": "python",
   "pygments_lexer": "ipython3",
   "version": "3.6.3"
  },
  "varInspector": {
   "cols": {
    "lenName": 16,
    "lenType": 16,
    "lenVar": 40
   },
   "kernels_config": {
    "python": {
     "delete_cmd_postfix": "",
     "delete_cmd_prefix": "del ",
     "library": "var_list.py",
     "varRefreshCmd": "print(var_dic_list())"
    },
    "r": {
     "delete_cmd_postfix": ") ",
     "delete_cmd_prefix": "rm(",
     "library": "var_list.r",
     "varRefreshCmd": "cat(var_dic_list()) "
    }
   },
   "types_to_exclude": [
    "module",
    "function",
    "builtin_function_or_method",
    "instance",
    "_Feature"
   ],
   "window_display": false
  }
 },
 "nbformat": 4,
 "nbformat_minor": 2
}
