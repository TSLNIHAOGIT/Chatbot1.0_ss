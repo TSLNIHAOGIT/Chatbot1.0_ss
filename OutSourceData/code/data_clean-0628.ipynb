{
 "cells": [
  {
   "cell_type": "code",
   "execution_count": 2,
   "metadata": {
    "ExecuteTime": {
     "end_time": "2018-06-27T15:23:50.753375Z",
     "start_time": "2018-06-27T15:23:50.740577Z"
    }
   },
   "outputs": [],
   "source": [
    "import pandas as pd\n",
    "import numpy as np\n",
    "import re\n",
    "\n",
    "\n",
    "mapping = {1:['IDClassifier',1],\n",
    " 2:['IDClassifier',0],\n",
    " 3:['IDClassifier',2],\n",
    " 4:['IfKnowDebtor',0],\n",
    " 5:['IfKnowDebtor',1], \n",
    " 6:['IfKnowDebtor',2],\n",
    "7:['ConfirmLoan',0], \n",
    "8:['ConfirmLoan',1], \n",
    "9:['ConfirmLoan',2], \n",
    " \n",
    " 10:['WillingToPay',2], \n",
    " 11:['WillingToPay',0], \n",
    " 12:['WillingToPay',1], \n",
    " 13:['WillingToPay',3], \n",
    " \n",
    " 14:['CutDebt',0], \n",
    " 15:['CutDebt',1], \n",
    " 16:['CutDebt',2],\n",
    " 17:['Installment',0],\n",
    " 18:['Installment',1],\n",
    " 19:['Installment',2]}"
   ]
  },
  {
   "cell_type": "code",
   "execution_count": 21,
   "metadata": {
    "ExecuteTime": {
     "end_time": "2018-06-27T15:34:58.139484Z",
     "start_time": "2018-06-27T15:34:58.098837Z"
    }
   },
   "outputs": [],
   "source": [
    "df = pd.read_csv('../data/data_20180627.csv',encoding='utf-8')\n",
    "df = df.iloc[:,:193]\n",
    "df = df.drop(index=[0,6])"
   ]
  },
  {
   "cell_type": "code",
   "execution_count": 22,
   "metadata": {
    "ExecuteTime": {
     "end_time": "2018-06-27T15:35:24.722762Z",
     "start_time": "2018-06-27T15:35:24.702271Z"
    }
   },
   "outputs": [],
   "source": [
    "result = {}\n",
    "columns = df.columns.values\n",
    "\n",
    "for i in range(1,20):\n",
    "    expression = r'(?u)第{}题'.format(i)\n",
    "    text = []\n",
    "    delete = []\n",
    "    for column in columns:\n",
    "        if len(re.findall(expression,column)) > 0:\n",
    "            delete.append(False)\n",
    "            text.extend(list(df[column].values))\n",
    "        else:\n",
    "            delete.append(True)\n",
    "    label = [mapping[i][1] for a in range(len(text))]\n",
    "    columns = columns[delete]\n",
    "    cur = {mapping[i][0]:{'split_text':text, 'label':label}}\n",
    "    result[i] = cur"
   ]
  },
  {
   "cell_type": "markdown",
   "metadata": {
    "ExecuteTime": {
     "end_time": "2018-06-13T16:13:23.157234Z",
     "start_time": "2018-06-13T16:13:23.146307Z"
    }
   },
   "source": [
    "# Combine"
   ]
  },
  {
   "cell_type": "code",
   "execution_count": 23,
   "metadata": {
    "ExecuteTime": {
     "end_time": "2018-06-27T15:35:29.384416Z",
     "start_time": "2018-06-27T15:35:29.354322Z"
    }
   },
   "outputs": [],
   "source": [
    "com_dict = {}\n",
    "for each in result:\n",
    "    key = list(result[each].keys())[0]\n",
    "    if com_dict.get(key) is None:\n",
    "        com_dict[key] = []\n",
    "    com_dict[key].append(pd.DataFrame(result[each][key]))\n",
    "result = {}\n",
    "for each in com_dict:\n",
    "    result[each] = pd.concat(com_dict[each])"
   ]
  },
  {
   "cell_type": "code",
   "execution_count": 24,
   "metadata": {
    "ExecuteTime": {
     "end_time": "2018-06-27T15:35:32.091219Z",
     "start_time": "2018-06-27T15:35:32.084991Z"
    }
   },
   "outputs": [
    {
     "data": {
      "text/plain": [
       "dict_keys(['IDClassifier', 'IfKnowDebtor', 'ConfirmLoan', 'WillingToPay', 'CutDebt', 'Installment'])"
      ]
     },
     "execution_count": 24,
     "metadata": {},
     "output_type": "execute_result"
    }
   ],
   "source": [
    "result.keys()"
   ]
  },
  {
   "cell_type": "code",
   "execution_count": 25,
   "metadata": {
    "ExecuteTime": {
     "end_time": "2018-06-27T15:35:41.475241Z",
     "start_time": "2018-06-27T15:35:41.446460Z"
    }
   },
   "outputs": [
    {
     "data": {
      "text/html": [
       "<div>\n",
       "<style scoped>\n",
       "    .dataframe tbody tr th:only-of-type {\n",
       "        vertical-align: middle;\n",
       "    }\n",
       "\n",
       "    .dataframe tbody tr th {\n",
       "        vertical-align: top;\n",
       "    }\n",
       "\n",
       "    .dataframe thead th {\n",
       "        text-align: right;\n",
       "    }\n",
       "</style>\n",
       "<table border=\"1\" class=\"dataframe\">\n",
       "  <thead>\n",
       "    <tr style=\"text-align: right;\">\n",
       "      <th></th>\n",
       "      <th>split_text</th>\n",
       "      <th>label</th>\n",
       "    </tr>\n",
       "  </thead>\n",
       "  <tbody>\n",
       "    <tr>\n",
       "      <th>0</th>\n",
       "      <td>可以吗？</td>\n",
       "      <td>0</td>\n",
       "    </tr>\n",
       "    <tr>\n",
       "      <th>1</th>\n",
       "      <td>这下不担心了，不拍还不起了。</td>\n",
       "      <td>0</td>\n",
       "    </tr>\n",
       "    <tr>\n",
       "      <th>2</th>\n",
       "      <td>可以嗯</td>\n",
       "      <td>0</td>\n",
       "    </tr>\n",
       "    <tr>\n",
       "      <th>3</th>\n",
       "      <td>太可以了</td>\n",
       "      <td>0</td>\n",
       "    </tr>\n",
       "    <tr>\n",
       "      <th>4</th>\n",
       "      <td>好好好要得哈哈哈</td>\n",
       "      <td>0</td>\n",
       "    </tr>\n",
       "    <tr>\n",
       "      <th>5</th>\n",
       "      <td>可以还了</td>\n",
       "      <td>0</td>\n",
       "    </tr>\n",
       "    <tr>\n",
       "      <th>6</th>\n",
       "      <td>可以</td>\n",
       "      <td>0</td>\n",
       "    </tr>\n",
       "    <tr>\n",
       "      <th>7</th>\n",
       "      <td>呀，嫩是好人呢</td>\n",
       "      <td>0</td>\n",
       "    </tr>\n",
       "    <tr>\n",
       "      <th>8</th>\n",
       "      <td>好</td>\n",
       "      <td>0</td>\n",
       "    </tr>\n",
       "    <tr>\n",
       "      <th>9</th>\n",
       "      <td>可以</td>\n",
       "      <td>0</td>\n",
       "    </tr>\n",
       "    <tr>\n",
       "      <th>10</th>\n",
       "      <td>好</td>\n",
       "      <td>0</td>\n",
       "    </tr>\n",
       "    <tr>\n",
       "      <th>11</th>\n",
       "      <td>可以，谢谢侬</td>\n",
       "      <td>0</td>\n",
       "    </tr>\n",
       "    <tr>\n",
       "      <th>12</th>\n",
       "      <td>这个可以有</td>\n",
       "      <td>0</td>\n",
       "    </tr>\n",
       "    <tr>\n",
       "      <th>13</th>\n",
       "      <td>可以呀</td>\n",
       "      <td>0</td>\n",
       "    </tr>\n",
       "    <tr>\n",
       "      <th>14</th>\n",
       "      <td>谢谢，那我下周肯定能还上，没意思</td>\n",
       "      <td>0</td>\n",
       "    </tr>\n",
       "    <tr>\n",
       "      <th>15</th>\n",
       "      <td>好的</td>\n",
       "      <td>0</td>\n",
       "    </tr>\n",
       "    <tr>\n",
       "      <th>16</th>\n",
       "      <td>我觉得没问题吧</td>\n",
       "      <td>0</td>\n",
       "    </tr>\n",
       "    <tr>\n",
       "      <th>17</th>\n",
       "      <td>好好好要得者</td>\n",
       "      <td>0</td>\n",
       "    </tr>\n",
       "    <tr>\n",
       "      <th>18</th>\n",
       "      <td>好的，那就没得问题老</td>\n",
       "      <td>0</td>\n",
       "    </tr>\n",
       "    <tr>\n",
       "      <th>19</th>\n",
       "      <td>能减免利息就没问题了</td>\n",
       "      <td>0</td>\n",
       "    </tr>\n",
       "    <tr>\n",
       "      <th>20</th>\n",
       "      <td>还可以这样子啊，没问题</td>\n",
       "      <td>0</td>\n",
       "    </tr>\n",
       "    <tr>\n",
       "      <th>21</th>\n",
       "      <td>我同意</td>\n",
       "      <td>0</td>\n",
       "    </tr>\n",
       "    <tr>\n",
       "      <th>22</th>\n",
       "      <td>也要花蕊绽放</td>\n",
       "      <td>0</td>\n",
       "    </tr>\n",
       "    <tr>\n",
       "      <th>23</th>\n",
       "      <td>好好</td>\n",
       "      <td>0</td>\n",
       "    </tr>\n",
       "    <tr>\n",
       "      <th>24</th>\n",
       "      <td>如果能减免利息我就还钱</td>\n",
       "      <td>0</td>\n",
       "    </tr>\n",
       "    <tr>\n",
       "      <th>25</th>\n",
       "      <td>没有问题了，不可以也可以了。</td>\n",
       "      <td>0</td>\n",
       "    </tr>\n",
       "    <tr>\n",
       "      <th>26</th>\n",
       "      <td>我同意,这样子我就还的起了，谢谢你嗯</td>\n",
       "      <td>0</td>\n",
       "    </tr>\n",
       "    <tr>\n",
       "      <th>27</th>\n",
       "      <td>我同意</td>\n",
       "      <td>0</td>\n",
       "    </tr>\n",
       "    <tr>\n",
       "      <th>28</th>\n",
       "      <td>那要得嘛哈哈哈</td>\n",
       "      <td>0</td>\n",
       "    </tr>\n",
       "    <tr>\n",
       "      <th>29</th>\n",
       "      <td>谢了，真好</td>\n",
       "      <td>0</td>\n",
       "    </tr>\n",
       "    <tr>\n",
       "      <th>...</th>\n",
       "      <td>...</td>\n",
       "      <td>...</td>\n",
       "    </tr>\n",
       "    <tr>\n",
       "      <th>210</th>\n",
       "      <td>我没心情</td>\n",
       "      <td>2</td>\n",
       "    </tr>\n",
       "    <tr>\n",
       "      <th>211</th>\n",
       "      <td>我觉得你有毛病</td>\n",
       "      <td>2</td>\n",
       "    </tr>\n",
       "    <tr>\n",
       "      <th>212</th>\n",
       "      <td>你们最近看世界杯吗</td>\n",
       "      <td>2</td>\n",
       "    </tr>\n",
       "    <tr>\n",
       "      <th>213</th>\n",
       "      <td>这大把好时光</td>\n",
       "      <td>2</td>\n",
       "    </tr>\n",
       "    <tr>\n",
       "      <th>214</th>\n",
       "      <td>有些花香在指尖</td>\n",
       "      <td>2</td>\n",
       "    </tr>\n",
       "    <tr>\n",
       "      <th>215</th>\n",
       "      <td>你说慢一点</td>\n",
       "      <td>2</td>\n",
       "    </tr>\n",
       "    <tr>\n",
       "      <th>216</th>\n",
       "      <td>太吵了，听不见</td>\n",
       "      <td>2</td>\n",
       "    </tr>\n",
       "    <tr>\n",
       "      <th>217</th>\n",
       "      <td>进电梯了。</td>\n",
       "      <td>2</td>\n",
       "    </tr>\n",
       "    <tr>\n",
       "      <th>218</th>\n",
       "      <td>不晓得说啥子了哈</td>\n",
       "      <td>2</td>\n",
       "    </tr>\n",
       "    <tr>\n",
       "      <th>219</th>\n",
       "      <td>你还要我怎样</td>\n",
       "      <td>2</td>\n",
       "    </tr>\n",
       "    <tr>\n",
       "      <th>220</th>\n",
       "      <td>宽恕我的平凡哈哈哈</td>\n",
       "      <td>2</td>\n",
       "    </tr>\n",
       "    <tr>\n",
       "      <th>221</th>\n",
       "      <td>牛逼</td>\n",
       "      <td>2</td>\n",
       "    </tr>\n",
       "    <tr>\n",
       "      <th>222</th>\n",
       "      <td>我看一下</td>\n",
       "      <td>2</td>\n",
       "    </tr>\n",
       "    <tr>\n",
       "      <th>223</th>\n",
       "      <td>瑞典赢了</td>\n",
       "      <td>2</td>\n",
       "    </tr>\n",
       "    <tr>\n",
       "      <th>224</th>\n",
       "      <td>不知道</td>\n",
       "      <td>2</td>\n",
       "    </tr>\n",
       "    <tr>\n",
       "      <th>225</th>\n",
       "      <td>离职了</td>\n",
       "      <td>2</td>\n",
       "    </tr>\n",
       "    <tr>\n",
       "      <th>226</th>\n",
       "      <td>以后再说</td>\n",
       "      <td>2</td>\n",
       "    </tr>\n",
       "    <tr>\n",
       "      <th>227</th>\n",
       "      <td>今天天公不作美，心情不好</td>\n",
       "      <td>2</td>\n",
       "    </tr>\n",
       "    <tr>\n",
       "      <th>228</th>\n",
       "      <td>他出去耍去了</td>\n",
       "      <td>2</td>\n",
       "    </tr>\n",
       "    <tr>\n",
       "      <th>229</th>\n",
       "      <td>我什么事情</td>\n",
       "      <td>2</td>\n",
       "    </tr>\n",
       "    <tr>\n",
       "      <th>230</th>\n",
       "      <td>一杯敬朝阳，一环敬月光，没意思</td>\n",
       "      <td>2</td>\n",
       "    </tr>\n",
       "    <tr>\n",
       "      <th>231</th>\n",
       "      <td>天气怎样</td>\n",
       "      <td>2</td>\n",
       "    </tr>\n",
       "    <tr>\n",
       "      <th>232</th>\n",
       "      <td>我先问个问题了</td>\n",
       "      <td>2</td>\n",
       "    </tr>\n",
       "    <tr>\n",
       "      <th>233</th>\n",
       "      <td>出问题经过大脑吧</td>\n",
       "      <td>2</td>\n",
       "    </tr>\n",
       "    <tr>\n",
       "      <th>234</th>\n",
       "      <td>我好累</td>\n",
       "      <td>2</td>\n",
       "    </tr>\n",
       "    <tr>\n",
       "      <th>235</th>\n",
       "      <td>利息一共多少钱</td>\n",
       "      <td>2</td>\n",
       "    </tr>\n",
       "    <tr>\n",
       "      <th>236</th>\n",
       "      <td>我都无语了</td>\n",
       "      <td>2</td>\n",
       "    </tr>\n",
       "    <tr>\n",
       "      <th>237</th>\n",
       "      <td>夜深人静</td>\n",
       "      <td>2</td>\n",
       "    </tr>\n",
       "    <tr>\n",
       "      <th>238</th>\n",
       "      <td>有一些思念</td>\n",
       "      <td>2</td>\n",
       "    </tr>\n",
       "    <tr>\n",
       "      <th>239</th>\n",
       "      <td>你慢慢说</td>\n",
       "      <td>2</td>\n",
       "    </tr>\n",
       "  </tbody>\n",
       "</table>\n",
       "<p>720 rows × 2 columns</p>\n",
       "</div>"
      ],
      "text/plain": [
       "             split_text  label\n",
       "0                  可以吗？      0\n",
       "1        这下不担心了，不拍还不起了。      0\n",
       "2                   可以嗯      0\n",
       "3                  太可以了      0\n",
       "4              好好好要得哈哈哈      0\n",
       "5                  可以还了      0\n",
       "6                    可以      0\n",
       "7               呀，嫩是好人呢      0\n",
       "8                     好      0\n",
       "9                    可以      0\n",
       "10                    好      0\n",
       "11               可以，谢谢侬      0\n",
       "12                这个可以有      0\n",
       "13                  可以呀      0\n",
       "14     谢谢，那我下周肯定能还上，没意思      0\n",
       "15                   好的      0\n",
       "16              我觉得没问题吧      0\n",
       "17               好好好要得者      0\n",
       "18           好的，那就没得问题老      0\n",
       "19           能减免利息就没问题了      0\n",
       "20          还可以这样子啊，没问题      0\n",
       "21                  我同意      0\n",
       "22               也要花蕊绽放      0\n",
       "23                   好好      0\n",
       "24          如果能减免利息我就还钱      0\n",
       "25       没有问题了，不可以也可以了。      0\n",
       "26   我同意,这样子我就还的起了，谢谢你嗯      0\n",
       "27                  我同意      0\n",
       "28              那要得嘛哈哈哈      0\n",
       "29                谢了，真好      0\n",
       "..                  ...    ...\n",
       "210                我没心情      2\n",
       "211             我觉得你有毛病      2\n",
       "212           你们最近看世界杯吗      2\n",
       "213              这大把好时光      2\n",
       "214             有些花香在指尖      2\n",
       "215               你说慢一点      2\n",
       "216             太吵了，听不见      2\n",
       "217               进电梯了。      2\n",
       "218            不晓得说啥子了哈      2\n",
       "219              你还要我怎样      2\n",
       "220           宽恕我的平凡哈哈哈      2\n",
       "221                  牛逼      2\n",
       "222                我看一下      2\n",
       "223                瑞典赢了      2\n",
       "224                 不知道      2\n",
       "225                 离职了      2\n",
       "226                以后再说      2\n",
       "227        今天天公不作美，心情不好      2\n",
       "228              他出去耍去了      2\n",
       "229               我什么事情      2\n",
       "230     一杯敬朝阳，一环敬月光，没意思      2\n",
       "231                天气怎样      2\n",
       "232             我先问个问题了      2\n",
       "233            出问题经过大脑吧      2\n",
       "234                 我好累      2\n",
       "235             利息一共多少钱      2\n",
       "236               我都无语了      2\n",
       "237                夜深人静      2\n",
       "238               有一些思念      2\n",
       "239                你慢慢说      2\n",
       "\n",
       "[720 rows x 2 columns]"
      ]
     },
     "execution_count": 25,
     "metadata": {},
     "output_type": "execute_result"
    }
   ],
   "source": [
    "result['CutDebt']"
   ]
  },
  {
   "cell_type": "markdown",
   "metadata": {},
   "source": [
    "# SAVE"
   ]
  },
  {
   "cell_type": "code",
   "execution_count": 11,
   "metadata": {
    "ExecuteTime": {
     "end_time": "2018-06-14T14:25:38.395348Z",
     "start_time": "2018-06-14T14:25:38.388835Z"
    },
    "collapsed": true
   },
   "outputs": [],
   "source": [
    "path = '../../MLModel/data/{}/mock_up_data.csv'\n",
    "path_save = '../../MLModel/data/{}/mock_up_data1.csv'"
   ]
  },
  {
   "cell_type": "code",
   "execution_count": 12,
   "metadata": {
    "ExecuteTime": {
     "end_time": "2018-06-14T14:25:39.498895Z",
     "start_time": "2018-06-14T14:25:39.355441Z"
    }
   },
   "outputs": [
    {
     "name": "stdout",
     "output_type": "stream",
     "text": [
      "../../MLModel/data/IDClassifier/mock_up_data.csv\n",
      "../../MLModel/data/IfKnowDebtor/mock_up_data.csv\n",
      "../../MLModel/data/WillingToPay/mock_up_data.csv\n",
      "../../MLModel/data/SetDueDay/mock_up_data.csv\n",
      "../../MLModel/data/CutDebt/mock_up_data.csv\n",
      "../../MLModel/data/Installment/mock_up_data.csv\n"
     ]
    }
   ],
   "source": [
    "for each in result.keys():\n",
    "    cur_path = path.format(each)\n",
    "    print(path.format(each))\n",
    "    df_old = pd.read_csv(path.format(each), encoding='utf-8')\n",
    "    df_new = pd.concat([df_old, result[each]])\n",
    "    df_new.to_csv(path_save.format(each),encoding='utf-8',index=False)"
   ]
  },
  {
   "cell_type": "markdown",
   "metadata": {
    "collapsed": true
   },
   "source": [
    "# Save In a New Path"
   ]
  },
  {
   "cell_type": "code",
   "execution_count": 26,
   "metadata": {
    "ExecuteTime": {
     "end_time": "2018-06-27T15:36:30.565012Z",
     "start_time": "2018-06-27T15:36:30.476537Z"
    }
   },
   "outputs": [
    {
     "name": "stdout",
     "output_type": "stream",
     "text": [
      "../../MLModel/data/IDClassifier/mock_up_data0627.csv\n",
      "../../MLModel/data/IfKnowDebtor/mock_up_data0627.csv\n",
      "../../MLModel/data/ConfirmLoan/mock_up_data0627.csv\n",
      "../../MLModel/data/WillingToPay/mock_up_data0627.csv\n",
      "../../MLModel/data/CutDebt/mock_up_data0627.csv\n",
      "../../MLModel/data/Installment/mock_up_data0627.csv\n"
     ]
    }
   ],
   "source": [
    "path_save = '../../MLModel/data/{}/mock_up_data0627.csv'\n",
    "for each in result.keys():\n",
    "    print(path_save.format(each))\n",
    "    result[each].to_csv(path_save.format(each),encoding='utf-8',index=False)"
   ]
  },
  {
   "cell_type": "code",
   "execution_count": null,
   "metadata": {
    "collapsed": true
   },
   "outputs": [],
   "source": []
  }
 ],
 "metadata": {
  "kernelspec": {
   "display_name": "Python 3",
   "language": "python",
   "name": "python3"
  },
  "language_info": {
   "codemirror_mode": {
    "name": "ipython",
    "version": 3
   },
   "file_extension": ".py",
   "mimetype": "text/x-python",
   "name": "python",
   "nbconvert_exporter": "python",
   "pygments_lexer": "ipython3",
   "version": "3.6.5"
  },
  "varInspector": {
   "cols": {
    "lenName": 16,
    "lenType": 16,
    "lenVar": 40
   },
   "kernels_config": {
    "python": {
     "delete_cmd_postfix": "",
     "delete_cmd_prefix": "del ",
     "library": "var_list.py",
     "varRefreshCmd": "print(var_dic_list())"
    },
    "r": {
     "delete_cmd_postfix": ") ",
     "delete_cmd_prefix": "rm(",
     "library": "var_list.r",
     "varRefreshCmd": "cat(var_dic_list()) "
    }
   },
   "types_to_exclude": [
    "module",
    "function",
    "builtin_function_or_method",
    "instance",
    "_Feature"
   ],
   "window_display": false
  }
 },
 "nbformat": 4,
 "nbformat_minor": 2
}
