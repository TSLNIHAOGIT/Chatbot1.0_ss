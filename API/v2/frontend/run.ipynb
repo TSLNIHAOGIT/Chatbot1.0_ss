{
 "cells": [
  {
   "cell_type": "code",
   "execution_count": 2,
   "metadata": {
    "ExecuteTime": {
     "end_time": "2018-07-23T04:38:42.022483Z",
     "start_time": "2018-07-23T04:38:41.412995Z"
    }
   },
   "outputs": [],
   "source": [
    "# from flask_other.app import app\n",
    "from flask_socketio import disconnect as dc\n",
    "from flask import Flask\n",
    "from flask_socketio import SocketIO, emit,join_room,leave_room\n",
    "from flask_socketio import disconnect\n",
    "from threading import Lock\n",
    "import os,sys\n",
    "\n",
    "app=Flask(\"demo\")\n",
    "from flask import  render_template,request\n",
    "import time\n",
    "import re\n",
    "\n",
    "import pandas as pd\n",
    "import numpy as np\n",
    "import time\n",
    "import re\n",
    "import requests\n",
    "\n",
    "import atexit\n",
    "\n",
    "from apscheduler.schedulers.background import BackgroundScheduler\n",
    "from apscheduler.triggers.interval import IntervalTrigger\n",
    "\n",
    "logger = Logger('Websocket-Flask',level=ENV.NODE_LOG_LEVEL.value).logger\n",
    "\n",
    "\n",
    "\n",
    "##################################\n",
    "async_mode = None\n",
    "app = Flask(__name__)\n",
    "app.config['SECRET_KEY'] = 'secret!'\n",
    "socketio = SocketIO(app, async_mode=async_mode)\n",
    "\n",
    "thread = None\n",
    "thread_lock = Lock()\n",
    "clients = []\n",
    "sentences = []\n",
    "\n",
    "name_space = '/chat'\n",
    "\n",
    "@app.route('/')\n",
    "def index():\n",
    "    return render_template('index.html', async_mode=socketio.async_mode)\n",
    "\n",
    "\n",
    "@socketio.on('client_send',namespace=name_space)\n",
    "def client_msg(msg):  \n",
    "    uid = request.sid\n",
    "    sentence = msg.get('data')\n",
    "    sentence = decode(sentence)\n",
    "    sentences.append(sentence)\n",
    "    response = cache.chat(uid, sentence)\n",
    "    if response == 'end':\n",
    "        socketio.emit('my_response',{'data':'感谢选择江苏逸能，再见！'},room = uid, namespace=name_space)\n",
    "        disconnect_frontend(uid)\n",
    "    elif response is None:\n",
    "        socketio.emit('my_response',{'data':'当前会话已经过期，感谢选择江苏逸能，再见！'},room = uid, namespace=name_space)\n",
    "        disconnect_frontend(uid)\n",
    "    else:\n",
    "        socketio.emit('my_response',{'data':response},room = uid, namespace=name_space)\n",
    "\n",
    "def decode(msg):\n",
    "    msg = re.sub(r'%u', r'\\u', msg)\n",
    "    msg = msg.encode('latin-1').decode('unicode_escape')\n",
    "    return msg\n",
    "\n",
    "#sned message to a specific user\n",
    "def unique_message(uid):\n",
    "    socketio.emit('unique_messgae',{'data':'are you still here'}, room=uid, namespace=name_space)\n",
    "    \n",
    "def disconnect_frontend(uid):\n",
    "    socketio.emit('my_response',{'status':'disconnected'},room = uid, namespace=name_space)\n",
    "\n",
    "\n",
    "@socketio.on('disconnect',namespace=name_space)\n",
    "def disconnect():\n",
    "    uid = request.sid\n",
    "    cache.remove_session(uid)\n",
    "    leave_room(uid)\n",
    "    dc()\n",
    "    logger.info('{} has been disconnected from API'.format(uid))\n",
    "    \n",
    "    \n",
    "@socketio.on('connect',namespace=name_space)\n",
    "def connect():\n",
    "    \n",
    "    uid = request.sid\n",
    "    clients.append(uid)\n",
    "    logger.info('{} is trying to connect!'.format(uid))\n",
    "    \n",
    "    join_room(uid)\n",
    "    if cache.create_session(uid):\n",
    "        logger.info('{} join connection successfully'.format(uid))\n",
    "        response = cache.chat(uid, '')\n",
    "        if response is not None:\n",
    "            socketio.emit('my_response',{'data':response},room = uid,namespace=name_space) #the first sentence\n",
    "            return None\n",
    "        \n",
    "    else:\n",
    "        logger.info('{} cannot join connection'.format(uid))\n",
    "        socketio.emit('my_response',{'data':'server busy. please click new conv'},room = uid,namespace=name_space) \n",
    "        disconnect_frontend(uid)\n",
    "    \n",
    "\n"
   ]
  },
  {
   "cell_type": "code",
   "execution_count": null,
   "metadata": {
    "ExecuteTime": {
     "start_time": "2018-07-23T04:38:35.845Z"
    }
   },
   "outputs": [
    {
     "name": "stdout",
     "output_type": "stream",
     "text": [
      "http://10.0.24.31:8899/\n",
      "http://0.0.0.0:6006/\n"
     ]
    },
    {
     "name": "stderr",
     "output_type": "stream",
     "text": [
      "2018-07-23 04:38:47,362 - INFO - CLASS:Websocket-Flask- METHOD:connect -LINE:90 - MSG:fec24e68273044cebb885dd8f98e4dc8 is trying to connect!\n",
      "2018-07-23 04:38:47,366 - DEBUG - CLASS:PF- METHOD:_load_default -LINE:344 - MSG:profile is None. The default demo profile will be loaded!\n",
      "2018-07-23 04:38:47,371 - INFO - CLASS:PF- METHOD:_load_default -LINE:365 - MSG:Customer ID is 1000000000, principal is 50,000, apr is 9%\n",
      "2018-07-23 04:38:47,445 - INFO - CLASS:PF- METHOD:_loadUpLowBound -LINE:399 - MSG:Load profile Upper bound successfully!\n",
      "2018-07-23 04:38:47,447 - INFO - CLASS:PF- METHOD:_loadUpLowBound -LINE:406 - MSG:Load profile Lower bound successfully!\n"
     ]
    },
    {
     "name": "stdout",
     "output_type": "stream",
     "text": [
      "Time Zone is set from ENV: Asia/Shanghai\n"
     ]
    },
    {
     "name": "stderr",
     "output_type": "stream",
     "text": [
      "2018-07-23 04:38:47,984 - INFO - CLASS:Cache- METHOD:create_session -LINE:53 - MSG:New session was created: fec24e68273044cebb885dd8f98e4dc8\n",
      "2018-07-23 04:38:47,986 - INFO - CLASS:Cache- METHOD:create_session -LINE:54 - MSG:Remaining session number is: 999\n",
      "2018-07-23 04:38:47,988 - INFO - CLASS:Websocket-Flask- METHOD:connect -LINE:94 - MSG:fec24e68273044cebb885dd8f98e4dc8 join connection successfully\n",
      "2018-07-23 04:38:47,990 - INFO - CLASS:Cache- METHOD:chat -LINE:86 - MSG:receive message from user: fec24e68273044cebb885dd8f98e4dc8 ====================\n",
      "2018-07-23 04:38:47,991 - DEBUG - CLASS:TreeStage1- METHOD:process -LINE:585 - MSG:Current node name is s0\n",
      "2018-07-23 04:38:47,994 - DEBUG - CLASS:TreeStage1- METHOD:process -LINE:590 - MSG:Output label is 0\n",
      "2018-07-23 04:38:48,001 - DEBUG - CLASS:TreeStage1- METHOD:process -LINE:605 - MSG:Next node name is cf_s1_n1_identity_q.\n",
      "2018-07-23 04:38:48,003 - INFO - CLASS:Cache- METHOD:chat -LINE:90 - MSG:processing messages for user fec24e68273044cebb885dd8f98e4dc8 has been done!----------------\n"
     ]
    },
    {
     "name": "stdout",
     "output_type": "stream",
     "text": [
      "InitClassifier\n"
     ]
    },
    {
     "name": "stderr",
     "output_type": "stream",
     "text": [
      "2018-07-23 04:38:53,016 - INFO - CLASS:Cache- METHOD:chat -LINE:86 - MSG:receive message from user: fec24e68273044cebb885dd8f98e4dc8 ====================\n",
      "2018-07-23 04:38:53,019 - DEBUG - CLASS:TreeStage1- METHOD:process -LINE:585 - MSG:Current node name is cf_s1_n1_identity_q\n",
      "2018-07-23 04:38:53,028 - DEBUG - CLASS:TreeStage1- METHOD:process -LINE:590 - MSG:Output label is 1\n",
      "2018-07-23 04:38:53,038 - DEBUG - CLASS:TreeStage1- METHOD:process -LINE:605 - MSG:Next node name is cf_s1_n5_ifAcquainted_q.\n",
      "2018-07-23 04:38:53,039 - INFO - CLASS:Cache- METHOD:chat -LINE:90 - MSG:processing messages for user fec24e68273044cebb885dd8f98e4dc8 has been done!----------------\n"
     ]
    },
    {
     "name": "stdout",
     "output_type": "stream",
     "text": [
      "IDClassifier\n"
     ]
    },
    {
     "name": "stderr",
     "output_type": "stream",
     "text": [
      "2018-07-23 04:38:54,928 - INFO - CLASS:Cache- METHOD:chat -LINE:86 - MSG:receive message from user: fec24e68273044cebb885dd8f98e4dc8 ====================\n",
      "2018-07-23 04:38:54,931 - DEBUG - CLASS:TreeStage1- METHOD:process -LINE:585 - MSG:Current node name is cf_s1_n5_ifAcquainted_q\n",
      "2018-07-23 04:38:54,943 - DEBUG - CLASS:TreeStage1- METHOD:process -LINE:590 - MSG:Output label is 1\n",
      "2018-07-23 04:38:54,949 - DEBUG - CLASS:TreeStage1- METHOD:process -LINE:605 - MSG:Next node name is cf_s1_n102_ifAcquainted_s.\n",
      "2018-07-23 04:38:54,951 - INFO - CLASS:Cache- METHOD:chat -LINE:90 - MSG:processing messages for user fec24e68273044cebb885dd8f98e4dc8 has been done!----------------\n"
     ]
    },
    {
     "name": "stdout",
     "output_type": "stream",
     "text": [
      "IfKnowDebtor\n"
     ]
    },
    {
     "name": "stderr",
     "output_type": "stream",
     "text": [
      "2018-07-23 04:39:25,391 - INFO - CLASS:Cache- METHOD:chat -LINE:86 - MSG:receive message from user: fec24e68273044cebb885dd8f98e4dc8 ====================\n",
      "2018-07-23 04:39:25,394 - DEBUG - CLASS:TreeStage1- METHOD:process -LINE:585 - MSG:Current node name is cf_s1_n102_ifAcquainted_s\n",
      "2018-07-23 04:39:25,395 - DEBUG - CLASS:TreeStage1- METHOD:process -LINE:587 - MSG:Reach Stop Node: cf_s1_n102_ifAcquainted_s\n",
      "2018-07-23 04:39:25,398 - INFO - CLASS:Cache- METHOD:chat -LINE:90 - MSG:processing messages for user fec24e68273044cebb885dd8f98e4dc8 has been done!----------------\n",
      "2018-07-23 04:39:25,456 - WARNING - CLASS:DB- METHOD:insert -LINE:67 - MSG:database is not enabled!\n",
      "2018-07-23 04:39:25,459 - INFO - CLASS:Cache- METHOD:remove_session -LINE:79 - MSG:fec24e68273044cebb885dd8f98e4dc8 session is inactive, it has been removed!\n",
      "2018-07-23 04:39:25,508 - ERROR - CLASS:Cache- METHOD:remove_session -LINE:70 - MSG:Fail to save cache for uid: \n",
      "2018-07-23 04:39:25,560 - INFO - CLASS:Websocket-Flask- METHOD:disconnect -LINE:82 - MSG:fec24e68273044cebb885dd8f98e4dc8 has been disconnected from API\n",
      "2018-07-23 04:39:25,563 - INFO - CLASS:Websocket-Flask- METHOD:disconnect -LINE:82 - MSG:fec24e68273044cebb885dd8f98e4dc8 has been disconnected from API\n",
      "KeyboardInterrupt\n",
      "2018-07-23T04:42:10Z\n"
     ]
    },
    {
     "ename": "KeyboardInterrupt",
     "evalue": "",
     "output_type": "error",
     "traceback": [
      "\u001b[0;31m---------------------------------------------------------------------------\u001b[0m",
      "\u001b[0;31mKeyboardInterrupt\u001b[0m                         Traceback (most recent call last)",
      "\u001b[0;32m<ipython-input-3-15aae0dcd934>\u001b[0m in \u001b[0;36m<module>\u001b[0;34m()\u001b[0m\n\u001b[1;32m     12\u001b[0m \u001b[0matexit\u001b[0m\u001b[0;34m.\u001b[0m\u001b[0mregister\u001b[0m\u001b[0;34m(\u001b[0m\u001b[0;32mlambda\u001b[0m\u001b[0;34m:\u001b[0m \u001b[0mscheduler\u001b[0m\u001b[0;34m.\u001b[0m\u001b[0mshutdown\u001b[0m\u001b[0;34m(\u001b[0m\u001b[0;34m)\u001b[0m\u001b[0;34m)\u001b[0m\u001b[0;34m\u001b[0m\u001b[0m\n\u001b[1;32m     13\u001b[0m \u001b[0;34m\u001b[0m\u001b[0m\n\u001b[0;32m---> 14\u001b[0;31m \u001b[0msocketio\u001b[0m\u001b[0;34m.\u001b[0m\u001b[0mrun\u001b[0m\u001b[0;34m(\u001b[0m\u001b[0mapp\u001b[0m\u001b[0;34m,\u001b[0m\u001b[0;34m'0.0.0.0'\u001b[0m\u001b[0;34m,\u001b[0m\u001b[0;36m6006\u001b[0m\u001b[0;34m)\u001b[0m\u001b[0;34m\u001b[0m\u001b[0m\n\u001b[0m",
      "\u001b[0;32m~/anaconda3/lib/python3.6/site-packages/flask_socketio/__init__.py\u001b[0m in \u001b[0;36mrun\u001b[0;34m(self, app, host, port, **kwargs)\u001b[0m\n\u001b[1;32m    554\u001b[0m                 \u001b[0mrun_with_reloader\u001b[0m\u001b[0;34m(\u001b[0m\u001b[0mrun_server\u001b[0m\u001b[0;34m,\u001b[0m \u001b[0mextra_files\u001b[0m\u001b[0;34m=\u001b[0m\u001b[0mextra_files\u001b[0m\u001b[0;34m)\u001b[0m\u001b[0;34m\u001b[0m\u001b[0m\n\u001b[1;32m    555\u001b[0m             \u001b[0;32melse\u001b[0m\u001b[0;34m:\u001b[0m\u001b[0;34m\u001b[0m\u001b[0m\n\u001b[0;32m--> 556\u001b[0;31m                 \u001b[0mself\u001b[0m\u001b[0;34m.\u001b[0m\u001b[0mwsgi_server\u001b[0m\u001b[0;34m.\u001b[0m\u001b[0mserve_forever\u001b[0m\u001b[0;34m(\u001b[0m\u001b[0;34m)\u001b[0m\u001b[0;34m\u001b[0m\u001b[0m\n\u001b[0m\u001b[1;32m    557\u001b[0m \u001b[0;34m\u001b[0m\u001b[0m\n\u001b[1;32m    558\u001b[0m     \u001b[0;32mdef\u001b[0m \u001b[0mstop\u001b[0m\u001b[0;34m(\u001b[0m\u001b[0mself\u001b[0m\u001b[0;34m)\u001b[0m\u001b[0;34m:\u001b[0m\u001b[0;34m\u001b[0m\u001b[0m\n",
      "\u001b[0;32m~/anaconda3/lib/python3.6/site-packages/gevent/baseserver.py\u001b[0m in \u001b[0;36mserve_forever\u001b[0;34m(self, stop_timeout)\u001b[0m\n\u001b[1;32m    362\u001b[0m             \u001b[0mself\u001b[0m\u001b[0;34m.\u001b[0m\u001b[0mstart\u001b[0m\u001b[0;34m(\u001b[0m\u001b[0;34m)\u001b[0m\u001b[0;34m\u001b[0m\u001b[0m\n\u001b[1;32m    363\u001b[0m         \u001b[0;32mtry\u001b[0m\u001b[0;34m:\u001b[0m\u001b[0;34m\u001b[0m\u001b[0m\n\u001b[0;32m--> 364\u001b[0;31m             \u001b[0mself\u001b[0m\u001b[0;34m.\u001b[0m\u001b[0m_stop_event\u001b[0m\u001b[0;34m.\u001b[0m\u001b[0mwait\u001b[0m\u001b[0;34m(\u001b[0m\u001b[0;34m)\u001b[0m\u001b[0;34m\u001b[0m\u001b[0m\n\u001b[0m\u001b[1;32m    365\u001b[0m         \u001b[0;32mfinally\u001b[0m\u001b[0;34m:\u001b[0m\u001b[0;34m\u001b[0m\u001b[0m\n\u001b[1;32m    366\u001b[0m             \u001b[0mGreenlet\u001b[0m\u001b[0;34m.\u001b[0m\u001b[0mspawn\u001b[0m\u001b[0;34m(\u001b[0m\u001b[0mself\u001b[0m\u001b[0;34m.\u001b[0m\u001b[0mstop\u001b[0m\u001b[0;34m,\u001b[0m \u001b[0mtimeout\u001b[0m\u001b[0;34m=\u001b[0m\u001b[0mstop_timeout\u001b[0m\u001b[0;34m)\u001b[0m\u001b[0;34m.\u001b[0m\u001b[0mjoin\u001b[0m\u001b[0;34m(\u001b[0m\u001b[0;34m)\u001b[0m\u001b[0;34m\u001b[0m\u001b[0m\n",
      "\u001b[0;32m~/anaconda3/lib/python3.6/site-packages/gevent/_event.cpython-36m-x86_64-linux-gnu.so\u001b[0m in \u001b[0;36mgevent._event.Event.wait\u001b[0;34m()\u001b[0m\n",
      "\u001b[0;32m~/anaconda3/lib/python3.6/site-packages/gevent/_event.cpython-36m-x86_64-linux-gnu.so\u001b[0m in \u001b[0;36mgevent._event._AbstractLinkable._wait\u001b[0;34m()\u001b[0m\n",
      "\u001b[0;32m~/anaconda3/lib/python3.6/site-packages/gevent/_event.cpython-36m-x86_64-linux-gnu.so\u001b[0m in \u001b[0;36mgevent._event._AbstractLinkable._wait_core\u001b[0;34m()\u001b[0m\n",
      "\u001b[0;32m~/anaconda3/lib/python3.6/site-packages/gevent/_event.cpython-36m-x86_64-linux-gnu.so\u001b[0m in \u001b[0;36mgevent._event._AbstractLinkable._wait_core\u001b[0;34m()\u001b[0m\n",
      "\u001b[0;32m~/anaconda3/lib/python3.6/site-packages/gevent/__greenlet_primitives.cpython-36m-x86_64-linux-gnu.so\u001b[0m in \u001b[0;36mgevent.__greenlet_primitives.SwitchOutGreenletWithLoop.switch\u001b[0;34m()\u001b[0m\n",
      "\u001b[0;32m~/anaconda3/lib/python3.6/site-packages/gevent/__greenlet_primitives.cpython-36m-x86_64-linux-gnu.so\u001b[0m in \u001b[0;36mgevent.__greenlet_primitives.SwitchOutGreenletWithLoop.switch\u001b[0;34m()\u001b[0m\n",
      "\u001b[0;32m~/anaconda3/lib/python3.6/site-packages/gevent/__greenlet_primitives.cpython-36m-x86_64-linux-gnu.so\u001b[0m in \u001b[0;36mgevent.__greenlet_primitives.SwitchOutGreenletWithLoop.switch\u001b[0;34m()\u001b[0m\n",
      "\u001b[0;32msrc/gevent/__greenlet_primitives.pxd\u001b[0m in \u001b[0;36mgevent.__greenlet_primitives._greenlet_switch\u001b[0;34m()\u001b[0m\n",
      "\u001b[0;31mKeyboardInterrupt\u001b[0m: "
     ]
    }
   ],
   "source": [
    "print('http://10.0.24.31:8899/')\n",
    "print('http://0.0.0.0:6006/')\n",
    "scheduler = BackgroundScheduler()\n",
    "scheduler.start()\n",
    "scheduler.add_job(\n",
    "    func=cache.purge_inactive,\n",
    "    trigger=IntervalTrigger(seconds=3),\n",
    "    id='purge_cache',\n",
    "    name='purge_inactive',\n",
    "    replace_existing=True)\n",
    "# Shut down the scheduler when exiting the app\n",
    "atexit.register(lambda: scheduler.shutdown())\n",
    "\n",
    "socketio.run(app,'0.0.0.0',6006)"
   ]
  },
  {
   "cell_type": "code",
   "execution_count": 20,
   "metadata": {
    "ExecuteTime": {
     "end_time": "2018-07-24T17:58:25.029171Z",
     "start_time": "2018-07-24T17:58:24.121178Z"
    }
   },
   "outputs": [
    {
     "name": "stdout",
     "output_type": "stream",
     "text": [
      "Time Zone is set from ENV: Asia/Shanghai\n",
      "Time Zone is set from ENV: Asia/Shanghai\n",
      "Time Zone is set from ENV: Asia/Shanghai\n"
     ]
    },
    {
     "name": "stderr",
     "output_type": "stream",
     "text": [
      "2018-07-24 17:58:24,981 - INFO - CLASS:DB- METHOD:_load_client -LINE:35 - MSG:get mongodb client. host is:chatbotdb, port is: 27017\n",
      "2018-07-24 17:58:24,981 - INFO - CLASS:DB- METHOD:_load_client -LINE:35 - MSG:get mongodb client. host is:chatbotdb, port is: 27017\n",
      "2018-07-24 17:58:24,987 - INFO - CLASS:DB- METHOD:_get_db -LINE:43 - MSG:mongodb database is: chatbotdb_debug\n",
      "2018-07-24 17:58:24,987 - INFO - CLASS:DB- METHOD:_get_db -LINE:43 - MSG:mongodb database is: chatbotdb_debug\n",
      "2018-07-24 17:58:24,992 - INFO - CLASS:DB- METHOD:_get_collection -LINE:51 - MSG:mongodb collection is: chat_debug\n",
      "2018-07-24 17:58:24,992 - INFO - CLASS:DB- METHOD:_get_collection -LINE:51 - MSG:mongodb collection is: chat_debug\n",
      "2018-07-24 17:58:24,996 - INFO - CLASS:Cache- METHOD:_print -LINE:32 - MSG:Max num of session is: 1000\n",
      "2018-07-24 17:58:24,996 - INFO - CLASS:Cache- METHOD:_print -LINE:32 - MSG:Max num of session is: 1000\n",
      "2018-07-24 17:58:25,002 - INFO - CLASS:Cache- METHOD:_print -LINE:33 - MSG:inform inacitve interval is 60 seconds\n",
      "2018-07-24 17:58:25,002 - INFO - CLASS:Cache- METHOD:_print -LINE:33 - MSG:inform inacitve interval is 60 seconds\n",
      "2018-07-24 17:58:25,006 - INFO - CLASS:Cache- METHOD:_print -LINE:34 - MSG:inactive max length is 150 seconds\n",
      "2018-07-24 17:58:25,006 - INFO - CLASS:Cache- METHOD:_print -LINE:34 - MSG:inactive max length is 150 seconds\n",
      "2018-07-24 17:58:25,008 - INFO - CLASS:Cache- METHOD:_print -LINE:36 - MSG:DEBUG is enabled\n",
      "2018-07-24 17:58:25,008 - INFO - CLASS:Cache- METHOD:_print -LINE:36 - MSG:DEBUG is enabled\n"
     ]
    },
    {
     "name": "stdout",
     "output_type": "stream",
     "text": [
      "Time Zone is set from ENV: Asia/Shanghai\n"
     ]
    }
   ],
   "source": [
    "import time\n",
    "import gc\n",
    "import sys, os\n",
    "import datetime as dt\n",
    "\n",
    "ENV_PATH = '../../../ENV/'\n",
    "LOG_PATH = '../../../Lib/'\n",
    "sys.path.append(ENV_PATH)\n",
    "sys.path.append(LOG_PATH)\n",
    "from env import ENV\n",
    "from LOG import Logger\n",
    "from MGODB import DB\n",
    "\n",
    "\n",
    "\n",
    "class Cache:\n",
    "    def __init__(self, model_dict,max_session=1000,debug=False,host=None,port=None,enableDB=False):\n",
    "        self.max_session = 1000\n",
    "        self.inform_interval = 60\n",
    "        self.inactive_maxlength = 150\n",
    "        #{'uid': {'strategy': Tree(), 'time_response': <time>, 'time_inform': <>}\n",
    "        self.active_session = {}\n",
    "        self.model_dict = model_dict\n",
    "        self.debug=debug\n",
    "        self.enableDB = enableDB\n",
    "        self.log = Logger(self.__class__.__name__,level=ENV.NODE_LOG_LEVEL.value).logger\n",
    "        self.db=DB(host,port,debug,True,enable=self.enableDB)\n",
    "        self._print()\n",
    "        \n",
    "        \n",
    "    def _print(self):\n",
    "        self.log.info('Max num of session is: {}'.format(self.max_session))\n",
    "        self.log.info('inform inacitve interval is {} seconds'.format(self.inform_interval))\n",
    "        self.log.info('inactive max length is {} seconds'.format(self.inactive_maxlength))\n",
    "        if self.debug:\n",
    "            self.log.info('DEBUG is enabled')\n",
    "        \n",
    "        \n",
    "    def create_session(self, uid, profile=None):\n",
    "        if len(self.active_session) < self.max_session:\n",
    "            self.active_session[uid] = {}\n",
    "            try:\n",
    "                self.active_session[uid].update({'strategy':TreeStage1(\n",
    "                                                                       debug=self.debug,\n",
    "                                                                       profile=profile)})\n",
    "            except KeyError as e:\n",
    "                self.log.error('Key {} does not exist in profile'.format(e))\n",
    "                self.log.error('create session for user {} failed'.format(uid))\n",
    "                return False\n",
    "                \n",
    "            self.active_session[uid].update({'time_response':time.time()})\n",
    "            self.active_session[uid].update({'time_inform':time.time()})\n",
    "            self.log.info('New session was created: {}'.format(uid))\n",
    "            self.log.info('Remaining session number is: {}'.format(self.max_session-len(self.active_session)))\n",
    "            return True\n",
    "        else:\n",
    "            return False\n",
    "        \n",
    "    def remove_session(self,uid):\n",
    "        response = '您当前的会话超过 {} 秒没有响应，系统将关闭当前会话！如有需求，请开始新的对话！'.format(self.inactive_maxlength)\n",
    "        try:\n",
    "            socketio.emit('my_response',{'data':response},room = uid, namespace=name_space)\n",
    "        except:\n",
    "            pass\n",
    "        \n",
    "        try:\n",
    "            history = self.active_session[uid]['strategy'].cache.copy()\n",
    "            self.db.insert(history)\n",
    "        except:\n",
    "            self.log.error('Fail to save cache for uid: ')\n",
    "        try:\n",
    "            disconnect_frontend(uid)\n",
    "        except:\n",
    "            pass\n",
    "       \n",
    "        \n",
    "        try:\n",
    "            del self.active_session[uid]\n",
    "            self.log.info('{} session is inactive, it has been removed!'.format(uid))\n",
    "        except KeyError:\n",
    "                pass\n",
    "        gc.collect()\n",
    "            \n",
    "    def chat(self,uid,sentence):\n",
    "        if self.active_session.get(uid) is not None:\n",
    "            self.log.info('receive message from user: {} ===================='.format(uid))\n",
    "            response = self.active_session[uid]['strategy'].process(sentence, self.model_dict)\n",
    "            self.active_session[uid]['time_response'] = time.time()\n",
    "            self.active_session[uid]['time_inform'] = time.time()\n",
    "            self.log.info('processing messages for user {} has been done!----------------'.format(uid))\n",
    "        else:\n",
    "            response = None\n",
    "        \n",
    "        return response\n",
    "        \n",
    "    \n",
    "    \n",
    "    def _bulk_deletes(self):\n",
    "        current = time.time()\n",
    "        remove_list = []\n",
    "        try:\n",
    "            for uid in self.active_session:\n",
    "                try:\n",
    "                    if current - self.active_session[uid]['time_response'] > self.inactive_maxlength:\n",
    "                        remove_list.append(uid)\n",
    "                except KeyError:\n",
    "                    pass\n",
    "        except RuntimeError as e:\n",
    "            self.log.error(e)\n",
    "            return False\n",
    "        finally:\n",
    "            # delete\n",
    "            for uid in remove_list:              \n",
    "                self.remove_session(uid)\n",
    "        return True\n",
    "    \n",
    "    def _bulk_inform(self):\n",
    "        current = time.time()\n",
    "        inform_list = []\n",
    "        try:\n",
    "            for uid in self.active_session:\n",
    "                try:\n",
    "                    if current - self.active_session[uid]['time_inform'] > self.inform_interval:\n",
    "                        inform_list.append(uid)\n",
    "                     \n",
    "                except KeyError as e:\n",
    "                        self.log.error(e)\n",
    "                        pass\n",
    "            for each in inform_list:\n",
    "                self.inform_inactive(each)\n",
    "            \n",
    "        except RuntimeError:\n",
    "            \n",
    "            return False\n",
    "        \n",
    "        return True\n",
    "    \n",
    "    \n",
    "    def purge_inactive(self):\n",
    "        current = time.time()\n",
    "        while True:\n",
    "            if self._bulk_deletes():\n",
    "                break\n",
    "\n",
    "        while True:\n",
    "            if self._bulk_inform():\n",
    "                break\n",
    "        \n",
    "                \n",
    "        \n",
    "    def inform_inactive(self, uid):\n",
    "        self.active_session[uid]['time_inform'] = time.time()\n",
    "        response = '您有在听我说吗?请回答我刚才的问题！'\n",
    "        socketio.emit('my_response',{'data':response},room = uid, namespace=name_space)\n",
    "        self.log.info('{} is inactive. Just inform that user'.format(uid))\n",
    "          \n",
    "################################################\n",
    "import sys,os\n",
    "sys.path.append('../../../MLModel/code/OneClickTraining/')\n",
    "sys.path.append('../../../MLModel/code/TreeModelV2/')\n",
    "from all_model_py import *\n",
    "import pickle\n",
    "from chatbotv1 import *\n",
    "\n",
    "\n",
    "\n",
    "models_list = ['IDClassifier','CutDebt','IfKnowDebtor','WillingToPay','Installment','ConfirmLoan']\n",
    "savedModel_path = '../../../MLModel/savedModel/{}/{}.pickle'\n",
    "need_set_TIMEZONE = ['CutDebt','WillingToPay','Installment','ConfirmLoan']\n",
    "\n",
    "model_dict = {}\n",
    "for each_model in models_list:\n",
    "    model_dict[each_model] = pickle.load(open(savedModel_path.format(each_model,each_model), 'rb'))\n",
    "    model_dict[each_model].classify('再说一次')\n",
    "    if each_model in need_set_TIMEZONE:\n",
    "        model_dict[each_model].re_time._set_timeZone()\n",
    "    \n",
    "model_dict['StopClassifier'] = StopClassifier()\n",
    "model_dict['InitClassifier'] = InitClassifier()    \n",
    "\n",
    "#################################################################\n",
    "cache = Cache(\n",
    "              model_dict=model_dict,debug=True,enableDB=True)"
   ]
  },
  {
   "cell_type": "code",
   "execution_count": 2,
   "metadata": {
    "ExecuteTime": {
     "end_time": "2018-07-24T17:55:13.723214Z",
     "start_time": "2018-07-24T17:55:13.248978Z"
    }
   },
   "outputs": [
    {
     "name": "stderr",
     "output_type": "stream",
     "text": [
      "2018-07-24 17:55:13,250 - DEBUG - CLASS:PF- METHOD:_load_default -LINE:206 - MSG:profile is None. The default demo profile will be loaded!\n",
      "2018-07-24 17:55:13,252 - INFO - CLASS:PF- METHOD:_load_default -LINE:227 - MSG:Customer ID is 1000000000, principal is 50,000, apr is 9%\n",
      "2018-07-24 17:55:13,275 - INFO - CLASS:PF- METHOD:_loadUpLowBound -LINE:261 - MSG:Load profile Upper bound successfully!\n",
      "2018-07-24 17:55:13,276 - INFO - CLASS:PF- METHOD:_loadUpLowBound -LINE:268 - MSG:Load profile Lower bound successfully!\n"
     ]
    },
    {
     "name": "stdout",
     "output_type": "stream",
     "text": [
      "Time Zone is set from ENV: Asia/Shanghai\n"
     ]
    }
   ],
   "source": [
    "t = TreeStage1(debug=False)"
   ]
  },
  {
   "cell_type": "code",
   "execution_count": 18,
   "metadata": {
    "ExecuteTime": {
     "end_time": "2018-07-24T17:57:44.141084Z",
     "start_time": "2018-07-24T17:57:44.112428Z"
    }
   },
   "outputs": [
    {
     "name": "stderr",
     "output_type": "stream",
     "text": [
      "2018-07-24 17:57:44,114 - DEBUG - CLASS:TreeStage1- METHOD:process -LINE:460 - MSG:Current node name is cf_s1_n105_noResult_s\n",
      "2018-07-24 17:57:44,119 - DEBUG - CLASS:TreeStage1- METHOD:process -LINE:462 - MSG:Reach Stop Node: cf_s1_n105_noResult_s\n"
     ]
    },
    {
     "data": {
      "text/plain": [
       "'end'"
      ]
     },
     "execution_count": 18,
     "metadata": {},
     "output_type": "execute_result"
    }
   ],
   "source": [
    "t.process('没钱',model_dict)"
   ]
  },
  {
   "cell_type": "code",
   "execution_count": 21,
   "metadata": {
    "ExecuteTime": {
     "end_time": "2018-07-24T17:58:33.193268Z",
     "start_time": "2018-07-24T17:58:32.895666Z"
    }
   },
   "outputs": [
    {
     "ename": "InvalidDocument",
     "evalue": "Cannot encode object: 2",
     "output_type": "error",
     "traceback": [
      "\u001b[0;31m---------------------------------------------------------------------------\u001b[0m",
      "\u001b[0;31mInvalidDocument\u001b[0m                           Traceback (most recent call last)",
      "\u001b[0;32m<ipython-input-21-bd3340f62964>\u001b[0m in \u001b[0;36m<module>\u001b[0;34m()\u001b[0m\n\u001b[0;32m----> 1\u001b[0;31m \u001b[0mcache\u001b[0m\u001b[0;34m.\u001b[0m\u001b[0mdb\u001b[0m\u001b[0;34m.\u001b[0m\u001b[0minsert\u001b[0m\u001b[0;34m(\u001b[0m\u001b[0mt\u001b[0m\u001b[0;34m.\u001b[0m\u001b[0mcache\u001b[0m\u001b[0;34m)\u001b[0m\u001b[0;34m\u001b[0m\u001b[0m\n\u001b[0m",
      "\u001b[0;32m~/data/jupyter/Chatbot1.0/Lib/MGODB.py\u001b[0m in \u001b[0;36minsert\u001b[0;34m(self, obj)\u001b[0m\n\u001b[1;32m     70\u001b[0m         \u001b[0;32mif\u001b[0m \u001b[0mself\u001b[0m\u001b[0;34m.\u001b[0m\u001b[0mid_increment\u001b[0m\u001b[0;34m:\u001b[0m\u001b[0;34m\u001b[0m\u001b[0m\n\u001b[1;32m     71\u001b[0m             \u001b[0mobj\u001b[0m\u001b[0;34m.\u001b[0m\u001b[0mupdate\u001b[0m\u001b[0;34m(\u001b[0m\u001b[0;34m{\u001b[0m\u001b[0;34m'_id'\u001b[0m\u001b[0;34m:\u001b[0m\u001b[0mself\u001b[0m\u001b[0;34m.\u001b[0m\u001b[0mcollection\u001b[0m\u001b[0;34m.\u001b[0m\u001b[0mcount_documents\u001b[0m\u001b[0;34m(\u001b[0m\u001b[0mfilter\u001b[0m\u001b[0;34m=\u001b[0m\u001b[0;34m{\u001b[0m\u001b[0;34m}\u001b[0m\u001b[0;34m)\u001b[0m\u001b[0;34m+\u001b[0m\u001b[0;36m1\u001b[0m\u001b[0;34m}\u001b[0m\u001b[0;34m)\u001b[0m\u001b[0;34m\u001b[0m\u001b[0m\n\u001b[0;32m---> 72\u001b[0;31m         \u001b[0minsert_id\u001b[0m \u001b[0;34m=\u001b[0m \u001b[0mself\u001b[0m\u001b[0;34m.\u001b[0m\u001b[0mcollection\u001b[0m\u001b[0;34m.\u001b[0m\u001b[0minsert_one\u001b[0m\u001b[0;34m(\u001b[0m\u001b[0mobj\u001b[0m\u001b[0;34m)\u001b[0m\u001b[0;34m.\u001b[0m\u001b[0minserted_id\u001b[0m\u001b[0;34m\u001b[0m\u001b[0m\n\u001b[0m\u001b[1;32m     73\u001b[0m         \u001b[0mself\u001b[0m\u001b[0;34m.\u001b[0m\u001b[0mlog\u001b[0m\u001b[0;34m.\u001b[0m\u001b[0minfo\u001b[0m\u001b[0;34m(\u001b[0m\u001b[0;34m'{} was inserted into collection: {}'\u001b[0m\u001b[0;34m.\u001b[0m\u001b[0mformat\u001b[0m\u001b[0;34m(\u001b[0m\u001b[0minsert_id\u001b[0m\u001b[0;34m,\u001b[0m\u001b[0mself\u001b[0m\u001b[0;34m.\u001b[0m\u001b[0mcollection\u001b[0m\u001b[0;34m.\u001b[0m\u001b[0mname\u001b[0m\u001b[0;34m)\u001b[0m\u001b[0;34m)\u001b[0m\u001b[0;34m\u001b[0m\u001b[0m\n\u001b[1;32m     74\u001b[0m \u001b[0;34m\u001b[0m\u001b[0m\n",
      "\u001b[0;32m~/anaconda3/lib/python3.6/site-packages/pymongo/collection.py\u001b[0m in \u001b[0;36minsert_one\u001b[0;34m(self, document, bypass_document_validation, session)\u001b[0m\n\u001b[1;32m    691\u001b[0m                          \u001b[0mwrite_concern\u001b[0m\u001b[0;34m=\u001b[0m\u001b[0mwrite_concern\u001b[0m\u001b[0;34m,\u001b[0m\u001b[0;34m\u001b[0m\u001b[0m\n\u001b[1;32m    692\u001b[0m                          \u001b[0mbypass_doc_val\u001b[0m\u001b[0;34m=\u001b[0m\u001b[0mbypass_document_validation\u001b[0m\u001b[0;34m,\u001b[0m\u001b[0;34m\u001b[0m\u001b[0m\n\u001b[0;32m--> 693\u001b[0;31m                          session=session),\n\u001b[0m\u001b[1;32m    694\u001b[0m             write_concern.acknowledged)\n\u001b[1;32m    695\u001b[0m \u001b[0;34m\u001b[0m\u001b[0m\n",
      "\u001b[0;32m~/anaconda3/lib/python3.6/site-packages/pymongo/collection.py\u001b[0m in \u001b[0;36m_insert\u001b[0;34m(self, docs, ordered, check_keys, manipulate, write_concern, op_id, bypass_doc_val, session)\u001b[0m\n\u001b[1;32m    605\u001b[0m             return self._insert_one(\n\u001b[1;32m    606\u001b[0m                 \u001b[0mdocs\u001b[0m\u001b[0;34m,\u001b[0m \u001b[0mordered\u001b[0m\u001b[0;34m,\u001b[0m \u001b[0mcheck_keys\u001b[0m\u001b[0;34m,\u001b[0m \u001b[0mmanipulate\u001b[0m\u001b[0;34m,\u001b[0m \u001b[0mwrite_concern\u001b[0m\u001b[0;34m,\u001b[0m \u001b[0mop_id\u001b[0m\u001b[0;34m,\u001b[0m\u001b[0;34m\u001b[0m\u001b[0m\n\u001b[0;32m--> 607\u001b[0;31m                 bypass_doc_val, session)\n\u001b[0m\u001b[1;32m    608\u001b[0m \u001b[0;34m\u001b[0m\u001b[0m\n\u001b[1;32m    609\u001b[0m         \u001b[0mids\u001b[0m \u001b[0;34m=\u001b[0m \u001b[0;34m[\u001b[0m\u001b[0;34m]\u001b[0m\u001b[0;34m\u001b[0m\u001b[0m\n",
      "\u001b[0;32m~/anaconda3/lib/python3.6/site-packages/pymongo/collection.py\u001b[0m in \u001b[0;36m_insert_one\u001b[0;34m(self, doc, ordered, check_keys, manipulate, write_concern, op_id, bypass_doc_val, session)\u001b[0m\n\u001b[1;32m    593\u001b[0m \u001b[0;34m\u001b[0m\u001b[0m\n\u001b[1;32m    594\u001b[0m         self.__database.client._retryable_write(\n\u001b[0;32m--> 595\u001b[0;31m             acknowledged, _insert_command, session)\n\u001b[0m\u001b[1;32m    596\u001b[0m \u001b[0;34m\u001b[0m\u001b[0m\n\u001b[1;32m    597\u001b[0m         \u001b[0;32mif\u001b[0m \u001b[0;32mnot\u001b[0m \u001b[0misinstance\u001b[0m\u001b[0;34m(\u001b[0m\u001b[0mdoc\u001b[0m\u001b[0;34m,\u001b[0m \u001b[0mRawBSONDocument\u001b[0m\u001b[0;34m)\u001b[0m\u001b[0;34m:\u001b[0m\u001b[0;34m\u001b[0m\u001b[0m\n",
      "\u001b[0;32m~/anaconda3/lib/python3.6/site-packages/pymongo/mongo_client.py\u001b[0m in \u001b[0;36m_retryable_write\u001b[0;34m(self, retryable, func, session)\u001b[0m\n\u001b[1;32m   1241\u001b[0m         \u001b[0;34m\"\"\"Internal retryable write helper.\"\"\"\u001b[0m\u001b[0;34m\u001b[0m\u001b[0m\n\u001b[1;32m   1242\u001b[0m         \u001b[0;32mwith\u001b[0m \u001b[0mself\u001b[0m\u001b[0;34m.\u001b[0m\u001b[0m_tmp_session\u001b[0m\u001b[0;34m(\u001b[0m\u001b[0msession\u001b[0m\u001b[0;34m)\u001b[0m \u001b[0;32mas\u001b[0m \u001b[0ms\u001b[0m\u001b[0;34m:\u001b[0m\u001b[0;34m\u001b[0m\u001b[0m\n\u001b[0;32m-> 1243\u001b[0;31m             \u001b[0;32mreturn\u001b[0m \u001b[0mself\u001b[0m\u001b[0;34m.\u001b[0m\u001b[0m_retry_with_session\u001b[0m\u001b[0;34m(\u001b[0m\u001b[0mretryable\u001b[0m\u001b[0;34m,\u001b[0m \u001b[0mfunc\u001b[0m\u001b[0;34m,\u001b[0m \u001b[0ms\u001b[0m\u001b[0;34m,\u001b[0m \u001b[0;32mNone\u001b[0m\u001b[0;34m)\u001b[0m\u001b[0;34m\u001b[0m\u001b[0m\n\u001b[0m\u001b[1;32m   1244\u001b[0m \u001b[0;34m\u001b[0m\u001b[0m\n\u001b[1;32m   1245\u001b[0m     \u001b[0;32mdef\u001b[0m \u001b[0m__reset_server\u001b[0m\u001b[0;34m(\u001b[0m\u001b[0mself\u001b[0m\u001b[0;34m,\u001b[0m \u001b[0maddress\u001b[0m\u001b[0;34m)\u001b[0m\u001b[0;34m:\u001b[0m\u001b[0;34m\u001b[0m\u001b[0m\n",
      "\u001b[0;32m~/anaconda3/lib/python3.6/site-packages/pymongo/mongo_client.py\u001b[0m in \u001b[0;36m_retry_with_session\u001b[0;34m(self, retryable, func, session, bulk)\u001b[0m\n\u001b[1;32m   1194\u001b[0m                         \u001b[0;31m# Reset the transaction id and retry the operation.\u001b[0m\u001b[0;34m\u001b[0m\u001b[0;34m\u001b[0m\u001b[0m\n\u001b[1;32m   1195\u001b[0m                         \u001b[0msession\u001b[0m\u001b[0;34m.\u001b[0m\u001b[0m_retry_transaction_id\u001b[0m\u001b[0;34m(\u001b[0m\u001b[0;34m)\u001b[0m\u001b[0;34m\u001b[0m\u001b[0m\n\u001b[0;32m-> 1196\u001b[0;31m                     \u001b[0;32mreturn\u001b[0m \u001b[0mfunc\u001b[0m\u001b[0;34m(\u001b[0m\u001b[0msession\u001b[0m\u001b[0;34m,\u001b[0m \u001b[0msock_info\u001b[0m\u001b[0;34m,\u001b[0m \u001b[0mretryable\u001b[0m\u001b[0;34m)\u001b[0m\u001b[0;34m\u001b[0m\u001b[0m\n\u001b[0m\u001b[1;32m   1197\u001b[0m             \u001b[0;32mexcept\u001b[0m \u001b[0mServerSelectionTimeoutError\u001b[0m\u001b[0;34m:\u001b[0m\u001b[0;34m\u001b[0m\u001b[0m\n\u001b[1;32m   1198\u001b[0m                 \u001b[0;32mif\u001b[0m \u001b[0mis_retrying\u001b[0m\u001b[0;34m(\u001b[0m\u001b[0;34m)\u001b[0m\u001b[0;34m:\u001b[0m\u001b[0;34m\u001b[0m\u001b[0m\n",
      "\u001b[0;32m~/anaconda3/lib/python3.6/site-packages/pymongo/collection.py\u001b[0m in \u001b[0;36m_insert_command\u001b[0;34m(session, sock_info, retryable_write)\u001b[0m\n\u001b[1;32m    588\u001b[0m                 \u001b[0msession\u001b[0m\u001b[0;34m=\u001b[0m\u001b[0msession\u001b[0m\u001b[0;34m,\u001b[0m\u001b[0;34m\u001b[0m\u001b[0m\n\u001b[1;32m    589\u001b[0m                 \u001b[0mclient\u001b[0m\u001b[0;34m=\u001b[0m\u001b[0mself\u001b[0m\u001b[0;34m.\u001b[0m\u001b[0m__database\u001b[0m\u001b[0;34m.\u001b[0m\u001b[0mclient\u001b[0m\u001b[0;34m,\u001b[0m\u001b[0;34m\u001b[0m\u001b[0m\n\u001b[0;32m--> 590\u001b[0;31m                 retryable_write=retryable_write)\n\u001b[0m\u001b[1;32m    591\u001b[0m \u001b[0;34m\u001b[0m\u001b[0m\n\u001b[1;32m    592\u001b[0m             \u001b[0m_check_write_command_response\u001b[0m\u001b[0;34m(\u001b[0m\u001b[0mresult\u001b[0m\u001b[0;34m)\u001b[0m\u001b[0;34m\u001b[0m\u001b[0m\n",
      "\u001b[0;32m~/anaconda3/lib/python3.6/site-packages/pymongo/pool.py\u001b[0m in \u001b[0;36mcommand\u001b[0;34m(self, dbname, spec, slave_ok, read_preference, codec_options, check, allowable_errors, check_keys, read_concern, write_concern, parse_write_concern_error, collation, session, client, retryable_write, publish_events)\u001b[0m\n\u001b[1;32m    582\u001b[0m         \u001b[0;31m# Catch socket.error, KeyboardInterrupt, etc. and close ourselves.\u001b[0m\u001b[0;34m\u001b[0m\u001b[0;34m\u001b[0m\u001b[0m\n\u001b[1;32m    583\u001b[0m         \u001b[0;32mexcept\u001b[0m \u001b[0mBaseException\u001b[0m \u001b[0;32mas\u001b[0m \u001b[0merror\u001b[0m\u001b[0;34m:\u001b[0m\u001b[0;34m\u001b[0m\u001b[0m\n\u001b[0;32m--> 584\u001b[0;31m             \u001b[0mself\u001b[0m\u001b[0;34m.\u001b[0m\u001b[0m_raise_connection_failure\u001b[0m\u001b[0;34m(\u001b[0m\u001b[0merror\u001b[0m\u001b[0;34m)\u001b[0m\u001b[0;34m\u001b[0m\u001b[0m\n\u001b[0m\u001b[1;32m    585\u001b[0m \u001b[0;34m\u001b[0m\u001b[0m\n\u001b[1;32m    586\u001b[0m     \u001b[0;32mdef\u001b[0m \u001b[0msend_message\u001b[0m\u001b[0;34m(\u001b[0m\u001b[0mself\u001b[0m\u001b[0;34m,\u001b[0m \u001b[0mmessage\u001b[0m\u001b[0;34m,\u001b[0m \u001b[0mmax_doc_size\u001b[0m\u001b[0;34m)\u001b[0m\u001b[0;34m:\u001b[0m\u001b[0;34m\u001b[0m\u001b[0m\n",
      "\u001b[0;32m~/anaconda3/lib/python3.6/site-packages/pymongo/pool.py\u001b[0m in \u001b[0;36m_raise_connection_failure\u001b[0;34m(self, error)\u001b[0m\n\u001b[1;32m    743\u001b[0m             \u001b[0m_raise_connection_failure\u001b[0m\u001b[0;34m(\u001b[0m\u001b[0mself\u001b[0m\u001b[0;34m.\u001b[0m\u001b[0maddress\u001b[0m\u001b[0;34m,\u001b[0m \u001b[0merror\u001b[0m\u001b[0;34m)\u001b[0m\u001b[0;34m\u001b[0m\u001b[0m\n\u001b[1;32m    744\u001b[0m         \u001b[0;32melse\u001b[0m\u001b[0;34m:\u001b[0m\u001b[0;34m\u001b[0m\u001b[0m\n\u001b[0;32m--> 745\u001b[0;31m             \u001b[0;32mraise\u001b[0m \u001b[0merror\u001b[0m\u001b[0;34m\u001b[0m\u001b[0m\n\u001b[0m\u001b[1;32m    746\u001b[0m \u001b[0;34m\u001b[0m\u001b[0m\n\u001b[1;32m    747\u001b[0m     \u001b[0;32mdef\u001b[0m \u001b[0m__eq__\u001b[0m\u001b[0;34m(\u001b[0m\u001b[0mself\u001b[0m\u001b[0;34m,\u001b[0m \u001b[0mother\u001b[0m\u001b[0;34m)\u001b[0m\u001b[0;34m:\u001b[0m\u001b[0;34m\u001b[0m\u001b[0m\n",
      "\u001b[0;32m~/anaconda3/lib/python3.6/site-packages/pymongo/pool.py\u001b[0m in \u001b[0;36mcommand\u001b[0;34m(self, dbname, spec, slave_ok, read_preference, codec_options, check, allowable_errors, check_keys, read_concern, write_concern, parse_write_concern_error, collation, session, client, retryable_write, publish_events)\u001b[0m\n\u001b[1;32m    577\u001b[0m                            \u001b[0mcompression_ctx\u001b[0m\u001b[0;34m=\u001b[0m\u001b[0mself\u001b[0m\u001b[0;34m.\u001b[0m\u001b[0mcompression_context\u001b[0m\u001b[0;34m,\u001b[0m\u001b[0;34m\u001b[0m\u001b[0m\n\u001b[1;32m    578\u001b[0m                            \u001b[0muse_op_msg\u001b[0m\u001b[0;34m=\u001b[0m\u001b[0mself\u001b[0m\u001b[0;34m.\u001b[0m\u001b[0mop_msg_enabled\u001b[0m\u001b[0;34m,\u001b[0m\u001b[0;34m\u001b[0m\u001b[0m\n\u001b[0;32m--> 579\u001b[0;31m                            unacknowledged=unacknowledged)\n\u001b[0m\u001b[1;32m    580\u001b[0m         \u001b[0;32mexcept\u001b[0m \u001b[0mOperationFailure\u001b[0m\u001b[0;34m:\u001b[0m\u001b[0;34m\u001b[0m\u001b[0m\n\u001b[1;32m    581\u001b[0m             \u001b[0;32mraise\u001b[0m\u001b[0;34m\u001b[0m\u001b[0m\n",
      "\u001b[0;32m~/anaconda3/lib/python3.6/site-packages/pymongo/network.py\u001b[0m in \u001b[0;36mcommand\u001b[0;34m(sock, dbname, spec, slave_ok, is_mongos, read_preference, codec_options, session, client, check, allowable_errors, address, check_keys, listeners, max_bson_size, read_concern, parse_write_concern_error, collation, compression_ctx, use_op_msg, unacknowledged)\u001b[0m\n\u001b[1;32m    112\u001b[0m         request_id, msg, size, max_doc_size = message._op_msg(\n\u001b[1;32m    113\u001b[0m             \u001b[0mflags\u001b[0m\u001b[0;34m,\u001b[0m \u001b[0mspec\u001b[0m\u001b[0;34m,\u001b[0m \u001b[0mdbname\u001b[0m\u001b[0;34m,\u001b[0m \u001b[0mread_preference\u001b[0m\u001b[0;34m,\u001b[0m \u001b[0mslave_ok\u001b[0m\u001b[0;34m,\u001b[0m \u001b[0mcheck_keys\u001b[0m\u001b[0;34m,\u001b[0m\u001b[0;34m\u001b[0m\u001b[0m\n\u001b[0;32m--> 114\u001b[0;31m             codec_options, ctx=compression_ctx)\n\u001b[0m\u001b[1;32m    115\u001b[0m         \u001b[0;31m# If this is an unacknowledged write then make sure the encoded doc(s)\u001b[0m\u001b[0;34m\u001b[0m\u001b[0;34m\u001b[0m\u001b[0m\n\u001b[1;32m    116\u001b[0m         \u001b[0;31m# are small enough, otherwise rely on the server to return an error.\u001b[0m\u001b[0;34m\u001b[0m\u001b[0;34m\u001b[0m\u001b[0m\n",
      "\u001b[0;32m~/anaconda3/lib/python3.6/site-packages/pymongo/message.py\u001b[0m in \u001b[0;36m_op_msg\u001b[0;34m(flags, command, dbname, read_preference, slave_ok, check_keys, opts, ctx)\u001b[0m\n\u001b[1;32m    677\u001b[0m                 flags, command, identifier, docs, check_keys, opts, ctx)\n\u001b[1;32m    678\u001b[0m         return _op_msg_uncompressed(\n\u001b[0;32m--> 679\u001b[0;31m             flags, command, identifier, docs, check_keys, opts)\n\u001b[0m\u001b[1;32m    680\u001b[0m     \u001b[0;32mfinally\u001b[0m\u001b[0;34m:\u001b[0m\u001b[0;34m\u001b[0m\u001b[0m\n\u001b[1;32m    681\u001b[0m         \u001b[0;31m# Add the field back to the command.\u001b[0m\u001b[0;34m\u001b[0m\u001b[0;34m\u001b[0m\u001b[0m\n",
      "\u001b[0;31mInvalidDocument\u001b[0m: Cannot encode object: 2"
     ]
    }
   ],
   "source": [
    "cache.db.insert(t.cache)"
   ]
  },
  {
   "cell_type": "code",
   "execution_count": 38,
   "metadata": {
    "ExecuteTime": {
     "end_time": "2018-07-24T18:02:10.098239Z",
     "start_time": "2018-07-24T18:02:10.058630Z"
    }
   },
   "outputs": [
    {
     "ename": "InvalidDocument",
     "evalue": "Cannot encode object: 3",
     "output_type": "error",
     "traceback": [
      "\u001b[0;31m---------------------------------------------------------------------------\u001b[0m",
      "\u001b[0;31mInvalidDocument\u001b[0m                           Traceback (most recent call last)",
      "\u001b[0;32m<ipython-input-38-3bf32695ee01>\u001b[0m in \u001b[0;36m<module>\u001b[0;34m()\u001b[0m\n\u001b[0;32m----> 1\u001b[0;31m \u001b[0mcache\u001b[0m\u001b[0;34m.\u001b[0m\u001b[0mdb\u001b[0m\u001b[0;34m.\u001b[0m\u001b[0minsert\u001b[0m\u001b[0;34m(\u001b[0m\u001b[0;34m{\u001b[0m\u001b[0;34m'chat'\u001b[0m\u001b[0;34m:\u001b[0m\u001b[0ma\u001b[0m\u001b[0;34m[\u001b[0m\u001b[0;34m'chat'\u001b[0m\u001b[0;34m]\u001b[0m\u001b[0;34m[\u001b[0m\u001b[0;36m12\u001b[0m\u001b[0;34m]\u001b[0m\u001b[0;34m}\u001b[0m\u001b[0;34m)\u001b[0m\u001b[0;34m\u001b[0m\u001b[0m\n\u001b[0m",
      "\u001b[0;32m~/data/jupyter/Chatbot1.0/Lib/MGODB.py\u001b[0m in \u001b[0;36minsert\u001b[0;34m(self, obj)\u001b[0m\n\u001b[1;32m     70\u001b[0m         \u001b[0;32mif\u001b[0m \u001b[0mself\u001b[0m\u001b[0;34m.\u001b[0m\u001b[0mid_increment\u001b[0m\u001b[0;34m:\u001b[0m\u001b[0;34m\u001b[0m\u001b[0m\n\u001b[1;32m     71\u001b[0m             \u001b[0mobj\u001b[0m\u001b[0;34m.\u001b[0m\u001b[0mupdate\u001b[0m\u001b[0;34m(\u001b[0m\u001b[0;34m{\u001b[0m\u001b[0;34m'_id'\u001b[0m\u001b[0;34m:\u001b[0m\u001b[0mself\u001b[0m\u001b[0;34m.\u001b[0m\u001b[0mcollection\u001b[0m\u001b[0;34m.\u001b[0m\u001b[0mcount_documents\u001b[0m\u001b[0;34m(\u001b[0m\u001b[0mfilter\u001b[0m\u001b[0;34m=\u001b[0m\u001b[0;34m{\u001b[0m\u001b[0;34m}\u001b[0m\u001b[0;34m)\u001b[0m\u001b[0;34m+\u001b[0m\u001b[0;36m1\u001b[0m\u001b[0;34m}\u001b[0m\u001b[0;34m)\u001b[0m\u001b[0;34m\u001b[0m\u001b[0m\n\u001b[0;32m---> 72\u001b[0;31m         \u001b[0minsert_id\u001b[0m \u001b[0;34m=\u001b[0m \u001b[0mself\u001b[0m\u001b[0;34m.\u001b[0m\u001b[0mcollection\u001b[0m\u001b[0;34m.\u001b[0m\u001b[0minsert_one\u001b[0m\u001b[0;34m(\u001b[0m\u001b[0mobj\u001b[0m\u001b[0;34m)\u001b[0m\u001b[0;34m.\u001b[0m\u001b[0minserted_id\u001b[0m\u001b[0;34m\u001b[0m\u001b[0m\n\u001b[0m\u001b[1;32m     73\u001b[0m         \u001b[0mself\u001b[0m\u001b[0;34m.\u001b[0m\u001b[0mlog\u001b[0m\u001b[0;34m.\u001b[0m\u001b[0minfo\u001b[0m\u001b[0;34m(\u001b[0m\u001b[0;34m'{} was inserted into collection: {}'\u001b[0m\u001b[0;34m.\u001b[0m\u001b[0mformat\u001b[0m\u001b[0;34m(\u001b[0m\u001b[0minsert_id\u001b[0m\u001b[0;34m,\u001b[0m\u001b[0mself\u001b[0m\u001b[0;34m.\u001b[0m\u001b[0mcollection\u001b[0m\u001b[0;34m.\u001b[0m\u001b[0mname\u001b[0m\u001b[0;34m)\u001b[0m\u001b[0;34m)\u001b[0m\u001b[0;34m\u001b[0m\u001b[0m\n\u001b[1;32m     74\u001b[0m \u001b[0;34m\u001b[0m\u001b[0m\n",
      "\u001b[0;32m~/anaconda3/lib/python3.6/site-packages/pymongo/collection.py\u001b[0m in \u001b[0;36minsert_one\u001b[0;34m(self, document, bypass_document_validation, session)\u001b[0m\n\u001b[1;32m    691\u001b[0m                          \u001b[0mwrite_concern\u001b[0m\u001b[0;34m=\u001b[0m\u001b[0mwrite_concern\u001b[0m\u001b[0;34m,\u001b[0m\u001b[0;34m\u001b[0m\u001b[0m\n\u001b[1;32m    692\u001b[0m                          \u001b[0mbypass_doc_val\u001b[0m\u001b[0;34m=\u001b[0m\u001b[0mbypass_document_validation\u001b[0m\u001b[0;34m,\u001b[0m\u001b[0;34m\u001b[0m\u001b[0m\n\u001b[0;32m--> 693\u001b[0;31m                          session=session),\n\u001b[0m\u001b[1;32m    694\u001b[0m             write_concern.acknowledged)\n\u001b[1;32m    695\u001b[0m \u001b[0;34m\u001b[0m\u001b[0m\n",
      "\u001b[0;32m~/anaconda3/lib/python3.6/site-packages/pymongo/collection.py\u001b[0m in \u001b[0;36m_insert\u001b[0;34m(self, docs, ordered, check_keys, manipulate, write_concern, op_id, bypass_doc_val, session)\u001b[0m\n\u001b[1;32m    605\u001b[0m             return self._insert_one(\n\u001b[1;32m    606\u001b[0m                 \u001b[0mdocs\u001b[0m\u001b[0;34m,\u001b[0m \u001b[0mordered\u001b[0m\u001b[0;34m,\u001b[0m \u001b[0mcheck_keys\u001b[0m\u001b[0;34m,\u001b[0m \u001b[0mmanipulate\u001b[0m\u001b[0;34m,\u001b[0m \u001b[0mwrite_concern\u001b[0m\u001b[0;34m,\u001b[0m \u001b[0mop_id\u001b[0m\u001b[0;34m,\u001b[0m\u001b[0;34m\u001b[0m\u001b[0m\n\u001b[0;32m--> 607\u001b[0;31m                 bypass_doc_val, session)\n\u001b[0m\u001b[1;32m    608\u001b[0m \u001b[0;34m\u001b[0m\u001b[0m\n\u001b[1;32m    609\u001b[0m         \u001b[0mids\u001b[0m \u001b[0;34m=\u001b[0m \u001b[0;34m[\u001b[0m\u001b[0;34m]\u001b[0m\u001b[0;34m\u001b[0m\u001b[0m\n",
      "\u001b[0;32m~/anaconda3/lib/python3.6/site-packages/pymongo/collection.py\u001b[0m in \u001b[0;36m_insert_one\u001b[0;34m(self, doc, ordered, check_keys, manipulate, write_concern, op_id, bypass_doc_val, session)\u001b[0m\n\u001b[1;32m    593\u001b[0m \u001b[0;34m\u001b[0m\u001b[0m\n\u001b[1;32m    594\u001b[0m         self.__database.client._retryable_write(\n\u001b[0;32m--> 595\u001b[0;31m             acknowledged, _insert_command, session)\n\u001b[0m\u001b[1;32m    596\u001b[0m \u001b[0;34m\u001b[0m\u001b[0m\n\u001b[1;32m    597\u001b[0m         \u001b[0;32mif\u001b[0m \u001b[0;32mnot\u001b[0m \u001b[0misinstance\u001b[0m\u001b[0;34m(\u001b[0m\u001b[0mdoc\u001b[0m\u001b[0;34m,\u001b[0m \u001b[0mRawBSONDocument\u001b[0m\u001b[0;34m)\u001b[0m\u001b[0;34m:\u001b[0m\u001b[0;34m\u001b[0m\u001b[0m\n",
      "\u001b[0;32m~/anaconda3/lib/python3.6/site-packages/pymongo/mongo_client.py\u001b[0m in \u001b[0;36m_retryable_write\u001b[0;34m(self, retryable, func, session)\u001b[0m\n\u001b[1;32m   1241\u001b[0m         \u001b[0;34m\"\"\"Internal retryable write helper.\"\"\"\u001b[0m\u001b[0;34m\u001b[0m\u001b[0m\n\u001b[1;32m   1242\u001b[0m         \u001b[0;32mwith\u001b[0m \u001b[0mself\u001b[0m\u001b[0;34m.\u001b[0m\u001b[0m_tmp_session\u001b[0m\u001b[0;34m(\u001b[0m\u001b[0msession\u001b[0m\u001b[0;34m)\u001b[0m \u001b[0;32mas\u001b[0m \u001b[0ms\u001b[0m\u001b[0;34m:\u001b[0m\u001b[0;34m\u001b[0m\u001b[0m\n\u001b[0;32m-> 1243\u001b[0;31m             \u001b[0;32mreturn\u001b[0m \u001b[0mself\u001b[0m\u001b[0;34m.\u001b[0m\u001b[0m_retry_with_session\u001b[0m\u001b[0;34m(\u001b[0m\u001b[0mretryable\u001b[0m\u001b[0;34m,\u001b[0m \u001b[0mfunc\u001b[0m\u001b[0;34m,\u001b[0m \u001b[0ms\u001b[0m\u001b[0;34m,\u001b[0m \u001b[0;32mNone\u001b[0m\u001b[0;34m)\u001b[0m\u001b[0;34m\u001b[0m\u001b[0m\n\u001b[0m\u001b[1;32m   1244\u001b[0m \u001b[0;34m\u001b[0m\u001b[0m\n\u001b[1;32m   1245\u001b[0m     \u001b[0;32mdef\u001b[0m \u001b[0m__reset_server\u001b[0m\u001b[0;34m(\u001b[0m\u001b[0mself\u001b[0m\u001b[0;34m,\u001b[0m \u001b[0maddress\u001b[0m\u001b[0;34m)\u001b[0m\u001b[0;34m:\u001b[0m\u001b[0;34m\u001b[0m\u001b[0m\n",
      "\u001b[0;32m~/anaconda3/lib/python3.6/site-packages/pymongo/mongo_client.py\u001b[0m in \u001b[0;36m_retry_with_session\u001b[0;34m(self, retryable, func, session, bulk)\u001b[0m\n\u001b[1;32m   1194\u001b[0m                         \u001b[0;31m# Reset the transaction id and retry the operation.\u001b[0m\u001b[0;34m\u001b[0m\u001b[0;34m\u001b[0m\u001b[0m\n\u001b[1;32m   1195\u001b[0m                         \u001b[0msession\u001b[0m\u001b[0;34m.\u001b[0m\u001b[0m_retry_transaction_id\u001b[0m\u001b[0;34m(\u001b[0m\u001b[0;34m)\u001b[0m\u001b[0;34m\u001b[0m\u001b[0m\n\u001b[0;32m-> 1196\u001b[0;31m                     \u001b[0;32mreturn\u001b[0m \u001b[0mfunc\u001b[0m\u001b[0;34m(\u001b[0m\u001b[0msession\u001b[0m\u001b[0;34m,\u001b[0m \u001b[0msock_info\u001b[0m\u001b[0;34m,\u001b[0m \u001b[0mretryable\u001b[0m\u001b[0;34m)\u001b[0m\u001b[0;34m\u001b[0m\u001b[0m\n\u001b[0m\u001b[1;32m   1197\u001b[0m             \u001b[0;32mexcept\u001b[0m \u001b[0mServerSelectionTimeoutError\u001b[0m\u001b[0;34m:\u001b[0m\u001b[0;34m\u001b[0m\u001b[0m\n\u001b[1;32m   1198\u001b[0m                 \u001b[0;32mif\u001b[0m \u001b[0mis_retrying\u001b[0m\u001b[0;34m(\u001b[0m\u001b[0;34m)\u001b[0m\u001b[0;34m:\u001b[0m\u001b[0;34m\u001b[0m\u001b[0m\n",
      "\u001b[0;32m~/anaconda3/lib/python3.6/site-packages/pymongo/collection.py\u001b[0m in \u001b[0;36m_insert_command\u001b[0;34m(session, sock_info, retryable_write)\u001b[0m\n\u001b[1;32m    588\u001b[0m                 \u001b[0msession\u001b[0m\u001b[0;34m=\u001b[0m\u001b[0msession\u001b[0m\u001b[0;34m,\u001b[0m\u001b[0;34m\u001b[0m\u001b[0m\n\u001b[1;32m    589\u001b[0m                 \u001b[0mclient\u001b[0m\u001b[0;34m=\u001b[0m\u001b[0mself\u001b[0m\u001b[0;34m.\u001b[0m\u001b[0m__database\u001b[0m\u001b[0;34m.\u001b[0m\u001b[0mclient\u001b[0m\u001b[0;34m,\u001b[0m\u001b[0;34m\u001b[0m\u001b[0m\n\u001b[0;32m--> 590\u001b[0;31m                 retryable_write=retryable_write)\n\u001b[0m\u001b[1;32m    591\u001b[0m \u001b[0;34m\u001b[0m\u001b[0m\n\u001b[1;32m    592\u001b[0m             \u001b[0m_check_write_command_response\u001b[0m\u001b[0;34m(\u001b[0m\u001b[0mresult\u001b[0m\u001b[0;34m)\u001b[0m\u001b[0;34m\u001b[0m\u001b[0m\n",
      "\u001b[0;32m~/anaconda3/lib/python3.6/site-packages/pymongo/pool.py\u001b[0m in \u001b[0;36mcommand\u001b[0;34m(self, dbname, spec, slave_ok, read_preference, codec_options, check, allowable_errors, check_keys, read_concern, write_concern, parse_write_concern_error, collation, session, client, retryable_write, publish_events)\u001b[0m\n\u001b[1;32m    582\u001b[0m         \u001b[0;31m# Catch socket.error, KeyboardInterrupt, etc. and close ourselves.\u001b[0m\u001b[0;34m\u001b[0m\u001b[0;34m\u001b[0m\u001b[0m\n\u001b[1;32m    583\u001b[0m         \u001b[0;32mexcept\u001b[0m \u001b[0mBaseException\u001b[0m \u001b[0;32mas\u001b[0m \u001b[0merror\u001b[0m\u001b[0;34m:\u001b[0m\u001b[0;34m\u001b[0m\u001b[0m\n\u001b[0;32m--> 584\u001b[0;31m             \u001b[0mself\u001b[0m\u001b[0;34m.\u001b[0m\u001b[0m_raise_connection_failure\u001b[0m\u001b[0;34m(\u001b[0m\u001b[0merror\u001b[0m\u001b[0;34m)\u001b[0m\u001b[0;34m\u001b[0m\u001b[0m\n\u001b[0m\u001b[1;32m    585\u001b[0m \u001b[0;34m\u001b[0m\u001b[0m\n\u001b[1;32m    586\u001b[0m     \u001b[0;32mdef\u001b[0m \u001b[0msend_message\u001b[0m\u001b[0;34m(\u001b[0m\u001b[0mself\u001b[0m\u001b[0;34m,\u001b[0m \u001b[0mmessage\u001b[0m\u001b[0;34m,\u001b[0m \u001b[0mmax_doc_size\u001b[0m\u001b[0;34m)\u001b[0m\u001b[0;34m:\u001b[0m\u001b[0;34m\u001b[0m\u001b[0m\n",
      "\u001b[0;32m~/anaconda3/lib/python3.6/site-packages/pymongo/pool.py\u001b[0m in \u001b[0;36m_raise_connection_failure\u001b[0;34m(self, error)\u001b[0m\n\u001b[1;32m    743\u001b[0m             \u001b[0m_raise_connection_failure\u001b[0m\u001b[0;34m(\u001b[0m\u001b[0mself\u001b[0m\u001b[0;34m.\u001b[0m\u001b[0maddress\u001b[0m\u001b[0;34m,\u001b[0m \u001b[0merror\u001b[0m\u001b[0;34m)\u001b[0m\u001b[0;34m\u001b[0m\u001b[0m\n\u001b[1;32m    744\u001b[0m         \u001b[0;32melse\u001b[0m\u001b[0;34m:\u001b[0m\u001b[0;34m\u001b[0m\u001b[0m\n\u001b[0;32m--> 745\u001b[0;31m             \u001b[0;32mraise\u001b[0m \u001b[0merror\u001b[0m\u001b[0;34m\u001b[0m\u001b[0m\n\u001b[0m\u001b[1;32m    746\u001b[0m \u001b[0;34m\u001b[0m\u001b[0m\n\u001b[1;32m    747\u001b[0m     \u001b[0;32mdef\u001b[0m \u001b[0m__eq__\u001b[0m\u001b[0;34m(\u001b[0m\u001b[0mself\u001b[0m\u001b[0;34m,\u001b[0m \u001b[0mother\u001b[0m\u001b[0;34m)\u001b[0m\u001b[0;34m:\u001b[0m\u001b[0;34m\u001b[0m\u001b[0m\n",
      "\u001b[0;32m~/anaconda3/lib/python3.6/site-packages/pymongo/pool.py\u001b[0m in \u001b[0;36mcommand\u001b[0;34m(self, dbname, spec, slave_ok, read_preference, codec_options, check, allowable_errors, check_keys, read_concern, write_concern, parse_write_concern_error, collation, session, client, retryable_write, publish_events)\u001b[0m\n\u001b[1;32m    577\u001b[0m                            \u001b[0mcompression_ctx\u001b[0m\u001b[0;34m=\u001b[0m\u001b[0mself\u001b[0m\u001b[0;34m.\u001b[0m\u001b[0mcompression_context\u001b[0m\u001b[0;34m,\u001b[0m\u001b[0;34m\u001b[0m\u001b[0m\n\u001b[1;32m    578\u001b[0m                            \u001b[0muse_op_msg\u001b[0m\u001b[0;34m=\u001b[0m\u001b[0mself\u001b[0m\u001b[0;34m.\u001b[0m\u001b[0mop_msg_enabled\u001b[0m\u001b[0;34m,\u001b[0m\u001b[0;34m\u001b[0m\u001b[0m\n\u001b[0;32m--> 579\u001b[0;31m                            unacknowledged=unacknowledged)\n\u001b[0m\u001b[1;32m    580\u001b[0m         \u001b[0;32mexcept\u001b[0m \u001b[0mOperationFailure\u001b[0m\u001b[0;34m:\u001b[0m\u001b[0;34m\u001b[0m\u001b[0m\n\u001b[1;32m    581\u001b[0m             \u001b[0;32mraise\u001b[0m\u001b[0;34m\u001b[0m\u001b[0m\n",
      "\u001b[0;32m~/anaconda3/lib/python3.6/site-packages/pymongo/network.py\u001b[0m in \u001b[0;36mcommand\u001b[0;34m(sock, dbname, spec, slave_ok, is_mongos, read_preference, codec_options, session, client, check, allowable_errors, address, check_keys, listeners, max_bson_size, read_concern, parse_write_concern_error, collation, compression_ctx, use_op_msg, unacknowledged)\u001b[0m\n\u001b[1;32m    112\u001b[0m         request_id, msg, size, max_doc_size = message._op_msg(\n\u001b[1;32m    113\u001b[0m             \u001b[0mflags\u001b[0m\u001b[0;34m,\u001b[0m \u001b[0mspec\u001b[0m\u001b[0;34m,\u001b[0m \u001b[0mdbname\u001b[0m\u001b[0;34m,\u001b[0m \u001b[0mread_preference\u001b[0m\u001b[0;34m,\u001b[0m \u001b[0mslave_ok\u001b[0m\u001b[0;34m,\u001b[0m \u001b[0mcheck_keys\u001b[0m\u001b[0;34m,\u001b[0m\u001b[0;34m\u001b[0m\u001b[0m\n\u001b[0;32m--> 114\u001b[0;31m             codec_options, ctx=compression_ctx)\n\u001b[0m\u001b[1;32m    115\u001b[0m         \u001b[0;31m# If this is an unacknowledged write then make sure the encoded doc(s)\u001b[0m\u001b[0;34m\u001b[0m\u001b[0;34m\u001b[0m\u001b[0m\n\u001b[1;32m    116\u001b[0m         \u001b[0;31m# are small enough, otherwise rely on the server to return an error.\u001b[0m\u001b[0;34m\u001b[0m\u001b[0;34m\u001b[0m\u001b[0m\n",
      "\u001b[0;32m~/anaconda3/lib/python3.6/site-packages/pymongo/message.py\u001b[0m in \u001b[0;36m_op_msg\u001b[0;34m(flags, command, dbname, read_preference, slave_ok, check_keys, opts, ctx)\u001b[0m\n\u001b[1;32m    677\u001b[0m                 flags, command, identifier, docs, check_keys, opts, ctx)\n\u001b[1;32m    678\u001b[0m         return _op_msg_uncompressed(\n\u001b[0;32m--> 679\u001b[0;31m             flags, command, identifier, docs, check_keys, opts)\n\u001b[0m\u001b[1;32m    680\u001b[0m     \u001b[0;32mfinally\u001b[0m\u001b[0;34m:\u001b[0m\u001b[0;34m\u001b[0m\u001b[0m\n\u001b[1;32m    681\u001b[0m         \u001b[0;31m# Add the field back to the command.\u001b[0m\u001b[0;34m\u001b[0m\u001b[0;34m\u001b[0m\u001b[0m\n",
      "\u001b[0;31mInvalidDocument\u001b[0m: Cannot encode object: 3"
     ]
    }
   ],
   "source": [
    "cache.db.insert({'chat':a['chat'][12]})"
   ]
  },
  {
   "cell_type": "code",
   "execution_count": 22,
   "metadata": {
    "ExecuteTime": {
     "end_time": "2018-07-24T17:59:12.926521Z",
     "start_time": "2018-07-24T17:59:12.891433Z"
    }
   },
   "outputs": [
    {
     "data": {
      "text/plain": [
       "{'startTime': datetime.datetime(2018, 7, 25, 1, 55, 13, 278202, tzinfo=<DstTzInfo 'Asia/Shanghai' CST+8:00:00 STD>),\n",
       " 'chat': [{'id': 1,\n",
       "   'agent': '你好，这里是平安E贷小额贷款，请问是李明先生吗？',\n",
       "   'customer': '是的',\n",
       "   'currentNode': 'cf_s1_n1_identity_q',\n",
       "   'nextNode': 'cf_s1_n2_confirmLoan_q',\n",
       "   'label': 0,\n",
       "   'confidence': 0.9164749818991843,\n",
       "   'confidence_other': -1.0,\n",
       "   'responseTime': datetime.datetime(2018, 7, 25, 1, 55, 32, 899631, tzinfo=<DstTzInfo 'Asia/Shanghai' CST+8:00:00 STD>),\n",
       "   'nodeSentiment': 1},\n",
       "  {'id': 2,\n",
       "   'agent': '您好，我是平安E贷小额贷款的催收员小张。您之前于2018年1月16日向平安E贷小额贷款借贷了人民币50,000约定于2018年5月16日还清。截至今天已经逾期70天，逾期总欠款人民币52,000元，其中利息1,500元，滞纳金500块。现在平安E贷小额贷款委托我方协助追回欠款！请问这笔欠款为什么到现在都没有处理呢？',\n",
       "   'customer': '我没借过',\n",
       "   'currentNode': 'cf_s1_n2_confirmLoan_q',\n",
       "   'nextNode': 'cf_s1_n2_confirmLoan_q',\n",
       "   'label': 1,\n",
       "   'confidence': 0.8385241377254887,\n",
       "   'confidence_other': -1.0,\n",
       "   'responseTime': datetime.datetime(2018, 7, 25, 1, 55, 44, 412589, tzinfo=<DstTzInfo 'Asia/Shanghai' CST+8:00:00 STD>),\n",
       "   'nodeSentiment': 1},\n",
       "  {'id': 3,\n",
       "   'agent': '平安E贷小额贷款是有记录的，你再好好想想，为什么逾期这么久没有还款？',\n",
       "   'customer': '我想起来了，是我借的。之前工程欠款，没钱还',\n",
       "   'currentNode': 'cf_s1_n2_confirmLoan_q',\n",
       "   'nextNode': 'cf_s1_n2_confirmLoan_q',\n",
       "   'label': 1,\n",
       "   'confidence': 0.4835128989597961,\n",
       "   'confidence_other': -1.0,\n",
       "   'responseTime': datetime.datetime(2018, 7, 25, 1, 56, 5, 540495, tzinfo=<DstTzInfo 'Asia/Shanghai' CST+8:00:00 STD>),\n",
       "   'nodeSentiment': 2},\n",
       "  {'id': 4,\n",
       "   'agent': '我打电话是想帮助你解决欠款问题，是想给你提供一些帮助，但是你不承认欠款，不配合我工作就会把案件升级。你这样只会让你的征信逾期记录加深，到时候如果立案了，派出所就会上门询问你为什么逾期不还钱。现在还请你配合我的工作，告诉我是什么原因导致你逾期未还？',\n",
       "   'customer': '没钱还',\n",
       "   'currentNode': 'cf_s1_n2_confirmLoan_q',\n",
       "   'nextNode': 'cf_s1_n15_verifyWill_q',\n",
       "   'label': 0,\n",
       "   'confidence': 0.8837093948111211,\n",
       "   'confidence_other': -1.0,\n",
       "   'responseTime': datetime.datetime(2018, 7, 25, 1, 57, 18, 976041, tzinfo=<DstTzInfo 'Asia/Shanghai' CST+8:00:00 STD>),\n",
       "   'nodeSentiment': 3},\n",
       "  {'id': 5,\n",
       "   'agent': '您之前借贷了人民币50,000块钱，约定于2018年5月16日还清，截至今天已经逾期70天，逾期总欠款人民币52,000，其中利息1,500，滞纳金500块。平安E贷小额贷款已经对您进行了多次催促，但是您依旧没有按时偿还所欠款项。现在我们正式对您下达通知，要求您在明天下午3点之前还清所有欠款。',\n",
       "   'customer': '没钱',\n",
       "   'currentNode': 'cf_s1_n15_verifyWill_q',\n",
       "   'nextNode': 'cf_s1_n15_verifyWill_q',\n",
       "   'label': 1,\n",
       "   'confidence': 0.9735921455854383,\n",
       "   'confidence_other': -1.0,\n",
       "   'responseTime': datetime.datetime(2018, 7, 25, 1, 57, 24, 74249, tzinfo=<DstTzInfo 'Asia/Shanghai' CST+8:00:00 STD>),\n",
       "   'nodeSentiment': 1},\n",
       "  {'id': 6,\n",
       "   'agent': '赖账你是赖不掉的，目前我们公司已经派专员处理了，现在请你告诉我，明天下午3点之前你能不能还清？',\n",
       "   'customer': '没钱',\n",
       "   'currentNode': 'cf_s1_n15_verifyWill_q',\n",
       "   'nextNode': 'cf_s1_n15_verifyWill_q',\n",
       "   'label': 1,\n",
       "   'confidence': 0.9735921455854383,\n",
       "   'confidence_other': -1.0,\n",
       "   'responseTime': datetime.datetime(2018, 7, 25, 1, 57, 26, 434373, tzinfo=<DstTzInfo 'Asia/Shanghai' CST+8:00:00 STD>),\n",
       "   'nodeSentiment': 2},\n",
       "  {'id': 7,\n",
       "   'agent': '这笔贷款在你的身份证名下，你逃避是没有用的，当时你借贷时登记了亲戚朋友和单位电话，如果再拖欠我只能通知他们让他们帮忙还款了。现在平安E贷小额贷款再次要求你必须在明天下午3点之前处理欠款。',\n",
       "   'customer': '没钱',\n",
       "   'currentNode': 'cf_s1_n15_verifyWill_q',\n",
       "   'nextNode': 'cf_s1_n25_cutDebt_q',\n",
       "   'label': 1001,\n",
       "   'confidence': 0.9735921455854383,\n",
       "   'confidence_other': -1.0,\n",
       "   'responseTime': datetime.datetime(2018, 7, 25, 1, 57, 28, 570793, tzinfo=<DstTzInfo 'Asia/Shanghai' CST+8:00:00 STD>),\n",
       "   'nodeSentiment': 3},\n",
       "  {'id': 8,\n",
       "   'agent': '如果实在不行的话，这样吧，我帮您申请一下，把利息1,500和滞纳金500全部剪掉，您只用还本金人民币50,000，但是你必须明天下午3点之内还清。这是我能做大的最大程度了，你看可以吗？',\n",
       "   'customer': '没钱',\n",
       "   'currentNode': 'cf_s1_n25_cutDebt_q',\n",
       "   'nextNode': 'cf_s1_n25_cutDebt_q',\n",
       "   'label': 1,\n",
       "   'confidence': 0.9267496909212918,\n",
       "   'confidence_other': -1.0,\n",
       "   'responseTime': datetime.datetime(2018, 7, 25, 1, 57, 30, 400771, tzinfo=<DstTzInfo 'Asia/Shanghai' CST+8:00:00 STD>),\n",
       "   'nodeSentiment': 1},\n",
       "  {'id': 9,\n",
       "   'agent': '滞纳金减免只有在明天下午3点之前还款才可以申请的，过了明天下午3点，即便我想帮你申请，系统也无法提交的。你再好好想想，明天下午3点可不可以处理？',\n",
       "   'customer': '没钱',\n",
       "   'currentNode': 'cf_s1_n25_cutDebt_q',\n",
       "   'nextNode': 'cf_s1_n25_cutDebt_q',\n",
       "   'label': 1,\n",
       "   'confidence': 0.9267496909212918,\n",
       "   'confidence_other': -1.0,\n",
       "   'responseTime': datetime.datetime(2018, 7, 25, 1, 57, 33, 443341, tzinfo=<DstTzInfo 'Asia/Shanghai' CST+8:00:00 STD>),\n",
       "   'nodeSentiment': 2},\n",
       "  {'id': 10,\n",
       "   'agent': '今天我来给你协商处理你不接受 ，按照合同约定你现在的行为具有恶意骗贷嫌疑，如果你坚持逾期不处理，我们将会后续会进行起诉，你再仔细考虑一下明天下午3点能不能还钱？',\n",
       "   'customer': '没钱',\n",
       "   'currentNode': 'cf_s1_n25_cutDebt_q',\n",
       "   'nextNode': 'cf_s1_n32_splitDebt_q',\n",
       "   'label': 1001,\n",
       "   'confidence': 0.9267496909212918,\n",
       "   'confidence_other': -1.0,\n",
       "   'responseTime': datetime.datetime(2018, 7, 25, 1, 57, 35, 938922, tzinfo=<DstTzInfo 'Asia/Shanghai' CST+8:00:00 STD>),\n",
       "   'nodeSentiment': 3},\n",
       "  {'id': 11,\n",
       "   'agent': '好吧，如果你这个本金明天下午3点实在还不了的话，我这边可以帮你申请一个分期。你明天下午3点内先还20,000，剩下的在1个月之内还清，这样可以吗？',\n",
       "   'customer': '没钱',\n",
       "   'currentNode': 'cf_s1_n32_splitDebt_q',\n",
       "   'nextNode': 'cf_s1_n32_splitDebt_q',\n",
       "   'label': 1,\n",
       "   'confidence': 0.9038722358438891,\n",
       "   'confidence_other': -1.0,\n",
       "   'responseTime': datetime.datetime(2018, 7, 25, 1, 57, 38, 90983, tzinfo=<DstTzInfo 'Asia/Shanghai' CST+8:00:00 STD>),\n",
       "   'nodeSentiment': 1},\n",
       "  {'id': 12,\n",
       "   'agent': '延期是有时间限制，在明天下午3点之前必须处理，否则所有的优惠都会被取消的。你再想想，看看明天下午3点可以把本金的30%，也就是20,000还了么？',\n",
       "   'customer': '没钱',\n",
       "   'currentNode': 'cf_s1_n32_splitDebt_q',\n",
       "   'nextNode': 'cf_s1_n32_splitDebt_q',\n",
       "   'label': 1,\n",
       "   'confidence': 0.9038722358438891,\n",
       "   'confidence_other': -1.0,\n",
       "   'responseTime': datetime.datetime(2018, 7, 25, 1, 57, 39, 895092, tzinfo=<DstTzInfo 'Asia/Shanghai' CST+8:00:00 STD>),\n",
       "   'nodeSentiment': 2},\n",
       "  {'id': 13,\n",
       "   'agent': '延了期还无法在规定的时间处理，那么以后就再也不可以享受延期了。只有这一次机会，我劝你好好把握，好好想想吧，明天下午3点之前到底能不能处理这20,000？',\n",
       "   'customer': '没钱',\n",
       "   'currentNode': 'cf_s1_n32_splitDebt_q',\n",
       "   'nextNode': 'cf_s1_n105_noResult_s',\n",
       "   'label': 1001,\n",
       "   'confidence': 0.9038722358438891,\n",
       "   'confidence_other': -1.0,\n",
       "   'responseTime': datetime.datetime(2018, 7, 25, 1, 57, 41, 839249, tzinfo=<DstTzInfo 'Asia/Shanghai' CST+8:00:00 STD>),\n",
       "   'nodeSentiment': 3}],\n",
       " 'nearestToleranceDate': datetime.datetime(2018, 7, 26, 15, 0, tzinfo=<DstTzInfo 'Asia/Shanghai' CST+8:00:00 STD>),\n",
       " 'promiseToPayDate': None,\n",
       " 'promiseToPayAmount': 0.0,\n",
       " 'status': 'complete',\n",
       " 'endingNode': 'cf_s1_n105_noResult_s',\n",
       " 'customerLastSentence': '没钱',\n",
       " 'lastUpdateDate': datetime.datetime(2018, 7, 24, 17, 58, 32, 897126),\n",
       " '_id': 1}"
      ]
     },
     "execution_count": 22,
     "metadata": {},
     "output_type": "execute_result"
    }
   ],
   "source": [
    "t.cache"
   ]
  },
  {
   "cell_type": "code",
   "execution_count": 3,
   "metadata": {
    "ExecuteTime": {
     "end_time": "2018-07-20T03:10:48.286342Z",
     "start_time": "2018-07-20T03:10:48.278626Z"
    }
   },
   "outputs": [],
   "source": [
    "t = cache.active_session[1000]['strategy']"
   ]
  },
  {
   "cell_type": "code",
   "execution_count": 10,
   "metadata": {
    "ExecuteTime": {
     "end_time": "2018-07-20T03:12:05.036554Z",
     "start_time": "2018-07-20T03:12:05.029145Z"
    }
   },
   "outputs": [],
   "source": [
    "n = t.nodes['cf_s1_n1_identity_q']"
   ]
  },
  {
   "cell_type": "code",
   "execution_count": 11,
   "metadata": {
    "ExecuteTime": {
     "end_time": "2018-07-20T03:12:05.542205Z",
     "start_time": "2018-07-20T03:12:05.528075Z"
    }
   },
   "outputs": [
    {
     "data": {
      "text/plain": [
       "109"
      ]
     },
     "execution_count": 11,
     "metadata": {},
     "output_type": "execute_result"
    }
   ],
   "source": [
    "n.output_label"
   ]
  },
  {
   "cell_type": "code",
   "execution_count": 9,
   "metadata": {
    "ExecuteTime": {
     "end_time": "2018-07-20T03:11:51.472500Z",
     "start_time": "2018-07-20T03:11:51.441650Z"
    }
   },
   "outputs": [
    {
     "name": "stderr",
     "output_type": "stream",
     "text": [
      "2018-07-20 03:11:51,444 - DEBUG - CLASS:TreeStage1- METHOD:process -LINE:534 - MSG:Current node name is cf_s1_n1_identity_q\n",
      "2018-07-20 03:11:51,460 - DEBUG - CLASS:TreeStage1- METHOD:process -LINE:539 - MSG:Output label is 109\n",
      "2018-07-20 03:11:51,465 - DEBUG - CLASS:TreeStage1- METHOD:process -LINE:550 - MSG:Next node name is cf_s1_n1_identity_q.\n"
     ]
    },
    {
     "data": {
      "text/plain": [
       "'请你不要说这些有的没的，您是李明先生吗？<-current node is: cf_s1_n1_identity_q-><-output label is: 109-><-next node is: cf_s1_n1_identity_q->'"
      ]
     },
     "execution_count": 9,
     "metadata": {},
     "output_type": "execute_result"
    }
   ],
   "source": [
    "t.process('',model_dict)"
   ]
  },
  {
   "cell_type": "code",
   "execution_count": 4,
   "metadata": {
    "ExecuteTime": {
     "end_time": "2018-07-20T02:47:04.083216Z",
     "start_time": "2018-07-20T02:47:04.055513Z"
    }
   },
   "outputs": [
    {
     "data": {
      "text/plain": [
       "{'label': 109, 'pred_prob': array([[0.01752875, 0.01967167, 0.96279958],\n",
       "        [0.04673296, 0.05362745, 0.8996396 ],\n",
       "        [0.02181207, 0.02078342, 0.9574045 ]]), 'av_pred': array([0.02869126, 0.03136085, 0.93994789])}"
      ]
     },
     "execution_count": 4,
     "metadata": {},
     "output_type": "execute_result"
    }
   ],
   "source": [
    "c = model_dict['IDClassifier']\n",
    "c.classify('天气不错')"
   ]
  },
  {
   "cell_type": "code",
   "execution_count": 1,
   "metadata": {
    "ExecuteTime": {
     "end_time": "2018-07-23T02:01:21.355278Z",
     "start_time": "2018-07-23T02:01:21.275909Z"
    }
   },
   "outputs": [
    {
     "ename": "NameError",
     "evalue": "name 'TreeStage1' is not defined",
     "output_type": "error",
     "traceback": [
      "\u001b[0;31m---------------------------------------------------------------------------\u001b[0m",
      "\u001b[0;31mNameError\u001b[0m                                 Traceback (most recent call last)",
      "\u001b[0;32m<ipython-input-1-70cc07477da1>\u001b[0m in \u001b[0;36m<module>\u001b[0;34m()\u001b[0m\n\u001b[0;32m----> 1\u001b[0;31m \u001b[0mt\u001b[0m \u001b[0;34m=\u001b[0m \u001b[0mTreeStage1\u001b[0m\u001b[0;34m(\u001b[0m\u001b[0mgraph_path\u001b[0m\u001b[0;34m=\u001b[0m\u001b[0mgraph_path\u001b[0m\u001b[0;34m,\u001b[0m\u001b[0mmsg_path\u001b[0m\u001b[0;34m=\u001b[0m\u001b[0mmsg_path\u001b[0m\u001b[0;34m,\u001b[0m\u001b[0mdebug\u001b[0m\u001b[0;34m=\u001b[0m\u001b[0;32mTrue\u001b[0m\u001b[0;34m)\u001b[0m\u001b[0;34m\u001b[0m\u001b[0m\n\u001b[0m",
      "\u001b[0;31mNameError\u001b[0m: name 'TreeStage1' is not defined"
     ]
    }
   ],
   "source": [
    "t = TreeStage1(graph_path=graph_path,msg_path=msg_path,debug=True)"
   ]
  },
  {
   "cell_type": "code",
   "execution_count": 5,
   "metadata": {
    "ExecuteTime": {
     "end_time": "2018-07-20T21:21:47.081462Z",
     "start_time": "2018-07-20T21:21:47.052409Z"
    }
   },
   "outputs": [
    {
     "name": "stderr",
     "output_type": "stream",
     "text": [
      "2018-07-20 21:21:47,053 - DEBUG - CLASS:TreeStage1- METHOD:process -LINE:538 - MSG:Current node name is cf_s1_n1_identity_q\n",
      "2018-07-20 21:21:47,064 - DEBUG - CLASS:TreeStage1- METHOD:process -LINE:543 - MSG:Output label is 1\n",
      "2018-07-20 21:21:47,070 - DEBUG - CLASS:TreeStage1- METHOD:process -LINE:558 - MSG:Next node name is cf_s1_n5_ifAcquainted_q.\n"
     ]
    },
    {
     "name": "stdout",
     "output_type": "stream",
     "text": [
      "不好意思，打扰了，请问您认识李明先生吗！<-current node is: cf_s1_n1_identity_q-><-output label is: 1-><-next node is: cf_s1_n5_ifAcquainted_q->\n"
     ]
    }
   ],
   "source": [
    "\n",
    "print(t.process('不行',model_dict))\n"
   ]
  },
  {
   "cell_type": "code",
   "execution_count": 46,
   "metadata": {
    "ExecuteTime": {
     "end_time": "2018-07-24T18:07:20.256093Z",
     "start_time": "2018-07-24T18:07:20.244356Z"
    }
   },
   "outputs": [
    {
     "data": {
      "text/plain": [
       "{'startTime': datetime.datetime(2018, 7, 25, 1, 55, 13, 278202, tzinfo=<DstTzInfo 'Asia/Shanghai' CST+8:00:00 STD>),\n",
       " 'chat': [{'id': 1,\n",
       "   'agent': '你好，这里是平安E贷小额贷款，请问是李明先生吗？',\n",
       "   'customer': '是的',\n",
       "   'currentNode': 'cf_s1_n1_identity_q',\n",
       "   'nextNode': 'cf_s1_n2_confirmLoan_q',\n",
       "   'label': 0,\n",
       "   'confidence': 0.9164749818991843,\n",
       "   'confidence_other': -1.0,\n",
       "   'responseTime': datetime.datetime(2018, 7, 25, 1, 55, 32, 899631, tzinfo=<DstTzInfo 'Asia/Shanghai' CST+8:00:00 STD>),\n",
       "   'nodeSentiment': 1},\n",
       "  {'id': 2,\n",
       "   'agent': '您好，我是平安E贷小额贷款的催收员小张。您之前于2018年1月16日向平安E贷小额贷款借贷了人民币50,000约定于2018年5月16日还清。截至今天已经逾期70天，逾期总欠款人民币52,000元，其中利息1,500元，滞纳金500块。现在平安E贷小额贷款委托我方协助追回欠款！请问这笔欠款为什么到现在都没有处理呢？',\n",
       "   'customer': '我没借过',\n",
       "   'currentNode': 'cf_s1_n2_confirmLoan_q',\n",
       "   'nextNode': 'cf_s1_n2_confirmLoan_q',\n",
       "   'label': 1,\n",
       "   'confidence': 0.8385241377254887,\n",
       "   'confidence_other': -1.0,\n",
       "   'responseTime': datetime.datetime(2018, 7, 25, 1, 55, 44, 412589, tzinfo=<DstTzInfo 'Asia/Shanghai' CST+8:00:00 STD>),\n",
       "   'nodeSentiment': 1},\n",
       "  {'id': 3,\n",
       "   'agent': '平安E贷小额贷款是有记录的，你再好好想想，为什么逾期这么久没有还款？',\n",
       "   'customer': '我想起来了，是我借的。之前工程欠款，没钱还',\n",
       "   'currentNode': 'cf_s1_n2_confirmLoan_q',\n",
       "   'nextNode': 'cf_s1_n2_confirmLoan_q',\n",
       "   'label': 1,\n",
       "   'confidence': 0.4835128989597961,\n",
       "   'confidence_other': -1.0,\n",
       "   'responseTime': datetime.datetime(2018, 7, 25, 1, 56, 5, 540495, tzinfo=<DstTzInfo 'Asia/Shanghai' CST+8:00:00 STD>),\n",
       "   'nodeSentiment': 2},\n",
       "  {'id': 4,\n",
       "   'agent': '我打电话是想帮助你解决欠款问题，是想给你提供一些帮助，但是你不承认欠款，不配合我工作就会把案件升级。你这样只会让你的征信逾期记录加深，到时候如果立案了，派出所就会上门询问你为什么逾期不还钱。现在还请你配合我的工作，告诉我是什么原因导致你逾期未还？',\n",
       "   'customer': '没钱还',\n",
       "   'currentNode': 'cf_s1_n2_confirmLoan_q',\n",
       "   'nextNode': 'cf_s1_n15_verifyWill_q',\n",
       "   'label': 0,\n",
       "   'confidence': 0.8837093948111211,\n",
       "   'confidence_other': -1.0,\n",
       "   'responseTime': datetime.datetime(2018, 7, 25, 1, 57, 18, 976041, tzinfo=<DstTzInfo 'Asia/Shanghai' CST+8:00:00 STD>),\n",
       "   'nodeSentiment': 3},\n",
       "  {'id': 5,\n",
       "   'agent': '您之前借贷了人民币50,000块钱，约定于2018年5月16日还清，截至今天已经逾期70天，逾期总欠款人民币52,000，其中利息1,500，滞纳金500块。平安E贷小额贷款已经对您进行了多次催促，但是您依旧没有按时偿还所欠款项。现在我们正式对您下达通知，要求您在明天下午3点之前还清所有欠款。',\n",
       "   'customer': '没钱',\n",
       "   'currentNode': 'cf_s1_n15_verifyWill_q',\n",
       "   'nextNode': 'cf_s1_n15_verifyWill_q',\n",
       "   'label': 1,\n",
       "   'confidence': 0.9735921455854383,\n",
       "   'confidence_other': -1.0,\n",
       "   'responseTime': datetime.datetime(2018, 7, 25, 1, 57, 24, 74249, tzinfo=<DstTzInfo 'Asia/Shanghai' CST+8:00:00 STD>),\n",
       "   'nodeSentiment': 1},\n",
       "  {'id': 6,\n",
       "   'agent': '赖账你是赖不掉的，目前我们公司已经派专员处理了，现在请你告诉我，明天下午3点之前你能不能还清？',\n",
       "   'customer': '没钱',\n",
       "   'currentNode': 'cf_s1_n15_verifyWill_q',\n",
       "   'nextNode': 'cf_s1_n15_verifyWill_q',\n",
       "   'label': 1,\n",
       "   'confidence': 0.9735921455854383,\n",
       "   'confidence_other': -1.0,\n",
       "   'responseTime': datetime.datetime(2018, 7, 25, 1, 57, 26, 434373, tzinfo=<DstTzInfo 'Asia/Shanghai' CST+8:00:00 STD>),\n",
       "   'nodeSentiment': 2},\n",
       "  {'id': 7,\n",
       "   'agent': '这笔贷款在你的身份证名下，你逃避是没有用的，当时你借贷时登记了亲戚朋友和单位电话，如果再拖欠我只能通知他们让他们帮忙还款了。现在平安E贷小额贷款再次要求你必须在明天下午3点之前处理欠款。',\n",
       "   'customer': '没钱',\n",
       "   'currentNode': 'cf_s1_n15_verifyWill_q',\n",
       "   'nextNode': 'cf_s1_n25_cutDebt_q',\n",
       "   'label': 1001,\n",
       "   'confidence': 0.9735921455854383,\n",
       "   'confidence_other': -1.0,\n",
       "   'responseTime': datetime.datetime(2018, 7, 25, 1, 57, 28, 570793, tzinfo=<DstTzInfo 'Asia/Shanghai' CST+8:00:00 STD>),\n",
       "   'nodeSentiment': 3},\n",
       "  {'id': 8,\n",
       "   'agent': '如果实在不行的话，这样吧，我帮您申请一下，把利息1,500和滞纳金500全部剪掉，您只用还本金人民币50,000，但是你必须明天下午3点之内还清。这是我能做大的最大程度了，你看可以吗？',\n",
       "   'customer': '没钱',\n",
       "   'currentNode': 'cf_s1_n25_cutDebt_q',\n",
       "   'nextNode': 'cf_s1_n25_cutDebt_q',\n",
       "   'label': 1,\n",
       "   'confidence': 0.9267496909212918,\n",
       "   'confidence_other': -1.0,\n",
       "   'responseTime': datetime.datetime(2018, 7, 25, 1, 57, 30, 400771, tzinfo=<DstTzInfo 'Asia/Shanghai' CST+8:00:00 STD>),\n",
       "   'nodeSentiment': 1},\n",
       "  {'id': 9,\n",
       "   'agent': '滞纳金减免只有在明天下午3点之前还款才可以申请的，过了明天下午3点，即便我想帮你申请，系统也无法提交的。你再好好想想，明天下午3点可不可以处理？',\n",
       "   'customer': '没钱',\n",
       "   'currentNode': 'cf_s1_n25_cutDebt_q',\n",
       "   'nextNode': 'cf_s1_n25_cutDebt_q',\n",
       "   'label': 1,\n",
       "   'confidence': 0.9267496909212918,\n",
       "   'confidence_other': -1.0,\n",
       "   'responseTime': datetime.datetime(2018, 7, 25, 1, 57, 33, 443341, tzinfo=<DstTzInfo 'Asia/Shanghai' CST+8:00:00 STD>),\n",
       "   'nodeSentiment': 2},\n",
       "  {'id': 10,\n",
       "   'agent': '今天我来给你协商处理你不接受 ，按照合同约定你现在的行为具有恶意骗贷嫌疑，如果你坚持逾期不处理，我们将会后续会进行起诉，你再仔细考虑一下明天下午3点能不能还钱？',\n",
       "   'customer': '没钱',\n",
       "   'currentNode': 'cf_s1_n25_cutDebt_q',\n",
       "   'nextNode': 'cf_s1_n32_splitDebt_q',\n",
       "   'label': 1001,\n",
       "   'confidence': 0.9267496909212918,\n",
       "   'confidence_other': -1.0,\n",
       "   'responseTime': datetime.datetime(2018, 7, 25, 1, 57, 35, 938922, tzinfo=<DstTzInfo 'Asia/Shanghai' CST+8:00:00 STD>),\n",
       "   'nodeSentiment': 3},\n",
       "  {'id': 11,\n",
       "   'agent': '好吧，如果你这个本金明天下午3点实在还不了的话，我这边可以帮你申请一个分期。你明天下午3点内先还20,000，剩下的在1个月之内还清，这样可以吗？',\n",
       "   'customer': '没钱',\n",
       "   'currentNode': 'cf_s1_n32_splitDebt_q',\n",
       "   'nextNode': 'cf_s1_n32_splitDebt_q',\n",
       "   'label': 1,\n",
       "   'confidence': 0.9038722358438891,\n",
       "   'confidence_other': -1.0,\n",
       "   'responseTime': datetime.datetime(2018, 7, 25, 1, 57, 38, 90983, tzinfo=<DstTzInfo 'Asia/Shanghai' CST+8:00:00 STD>),\n",
       "   'nodeSentiment': 1},\n",
       "  {'id': 12,\n",
       "   'agent': '延期是有时间限制，在明天下午3点之前必须处理，否则所有的优惠都会被取消的。你再想想，看看明天下午3点可以把本金的30%，也就是20,000还了么？',\n",
       "   'customer': '没钱',\n",
       "   'currentNode': 'cf_s1_n32_splitDebt_q',\n",
       "   'nextNode': 'cf_s1_n32_splitDebt_q',\n",
       "   'label': 1,\n",
       "   'confidence': 0.9038722358438891,\n",
       "   'confidence_other': -1.0,\n",
       "   'responseTime': datetime.datetime(2018, 7, 25, 1, 57, 39, 895092, tzinfo=<DstTzInfo 'Asia/Shanghai' CST+8:00:00 STD>),\n",
       "   'nodeSentiment': 2},\n",
       "  {'id': 13,\n",
       "   'agent': '延了期还无法在规定的时间处理，那么以后就再也不可以享受延期了。只有这一次机会，我劝你好好把握，好好想想吧，明天下午3点之前到底能不能处理这20,000？',\n",
       "   'customer': '没钱',\n",
       "   'currentNode': 'cf_s1_n32_splitDebt_q',\n",
       "   'nextNode': 'cf_s1_n105_noResult_s',\n",
       "   'label': 1001,\n",
       "   'confidence': 0.9038722358438891,\n",
       "   'confidence_other': -1.0,\n",
       "   'responseTime': datetime.datetime(2018, 7, 25, 1, 57, 41, 839249, tzinfo=<DstTzInfo 'Asia/Shanghai' CST+8:00:00 STD>),\n",
       "   'nodeSentiment': 3}],\n",
       " 'nearestToleranceDate': datetime.datetime(2018, 7, 26, 15, 0, tzinfo=<DstTzInfo 'Asia/Shanghai' CST+8:00:00 STD>),\n",
       " 'promiseToPayDate': None,\n",
       " 'promiseToPayAmount': 0.0,\n",
       " 'status': 'complete',\n",
       " 'endingNode': 'cf_s1_n105_noResult_s',\n",
       " 'customerLastSentence': '没钱',\n",
       " 'lastUpdateDate': datetime.datetime(2018, 7, 24, 17, 58, 32, 897126),\n",
       " '_id': 1}"
      ]
     },
     "execution_count": 46,
     "metadata": {},
     "output_type": "execute_result"
    }
   ],
   "source": [
    "t.cache"
   ]
  },
  {
   "cell_type": "code",
   "execution_count": 17,
   "metadata": {
    "ExecuteTime": {
     "end_time": "2018-07-04T10:05:41.947359Z",
     "start_time": "2018-07-04T10:05:41.942467Z"
    }
   },
   "outputs": [],
   "source": [
    "model = model_dict['WillingToPay']"
   ]
  },
  {
   "cell_type": "code",
   "execution_count": 4,
   "metadata": {
    "ExecuteTime": {
     "end_time": "2018-07-20T21:04:32.492444Z",
     "start_time": "2018-07-20T21:04:32.479988Z"
    }
   },
   "outputs": [
    {
     "data": {
      "text/plain": [
       "{'1507ae35ca504635a25246bc7630ca01': {'strategy': <chatbotv1.TreeStage1 at 0x7fab58c639b0>,\n",
       "  'time_response': 1532120656.6885388,\n",
       "  'time_inform': 1532120656.6885505}}"
      ]
     },
     "execution_count": 4,
     "metadata": {},
     "output_type": "execute_result"
    }
   ],
   "source": [
    "cache.active_session"
   ]
  },
  {
   "cell_type": "code",
   "execution_count": 5,
   "metadata": {
    "ExecuteTime": {
     "end_time": "2018-07-20T21:04:35.714803Z",
     "start_time": "2018-07-20T21:04:35.708708Z"
    }
   },
   "outputs": [],
   "source": [
    "h = cache.active_session['1507ae35ca504635a25246bc7630ca01']['strategy'].cache.copy()"
   ]
  },
  {
   "cell_type": "code",
   "execution_count": 6,
   "metadata": {
    "ExecuteTime": {
     "end_time": "2018-07-20T21:04:36.853755Z",
     "start_time": "2018-07-20T21:04:36.846357Z"
    }
   },
   "outputs": [
    {
     "data": {
      "text/plain": [
       "{'startTime': datetime.datetime(2018, 7, 20, 21, 4, 11, 535371),\n",
       " 'chat': [{'id': 1,\n",
       "   'agent': '不好意思，打扰了，请问您认识李明先生吗！<-current node is: cf_s1_n1_identity_q-><-output label is: 1-><-next node is: cf_s1_n5_ifAcquainted_q->',\n",
       "   'customer': '不',\n",
       "   'currentNode': 'cf_s1_n1_identity_q',\n",
       "   'nextNode': 'cf_s1_n5_ifAcquainted_q',\n",
       "   'label': 1,\n",
       "   'confidence': 1,\n",
       "   'confidence_other': -1,\n",
       "   'responseTime': datetime.datetime(2018, 7, 20, 21, 4, 16, 687198)}],\n",
       " 'status': 'incomplete'}"
      ]
     },
     "execution_count": 6,
     "metadata": {},
     "output_type": "execute_result"
    }
   ],
   "source": [
    "aa = h.copy()\n",
    "aa"
   ]
  },
  {
   "cell_type": "code",
   "execution_count": 33,
   "metadata": {
    "ExecuteTime": {
     "end_time": "2018-07-20T20:53:26.336210Z",
     "start_time": "2018-07-20T20:53:26.330537Z"
    }
   },
   "outputs": [],
   "source": [
    "del aa['chat']"
   ]
  },
  {
   "cell_type": "code",
   "execution_count": 7,
   "metadata": {
    "ExecuteTime": {
     "end_time": "2018-07-20T21:04:49.596730Z",
     "start_time": "2018-07-20T21:04:49.590102Z"
    }
   },
   "outputs": [
    {
     "data": {
      "text/plain": [
       "numpy.int64"
      ]
     },
     "execution_count": 7,
     "metadata": {},
     "output_type": "execute_result"
    }
   ],
   "source": [
    "type(aa['chat'][0]['label'])"
   ]
  },
  {
   "cell_type": "code",
   "execution_count": 14,
   "metadata": {
    "ExecuteTime": {
     "end_time": "2018-07-20T21:03:12.006108Z",
     "start_time": "2018-07-20T21:03:11.995715Z"
    }
   },
   "outputs": [
    {
     "data": {
      "text/plain": [
       "int"
      ]
     },
     "execution_count": 14,
     "metadata": {},
     "output_type": "execute_result"
    }
   ],
   "source": [
    "type(aa['chat'][0]['confidence'])"
   ]
  },
  {
   "cell_type": "code",
   "execution_count": 8,
   "metadata": {
    "ExecuteTime": {
     "end_time": "2018-07-20T21:01:11.897231Z",
     "start_time": "2018-07-20T21:01:11.890014Z"
    }
   },
   "outputs": [],
   "source": [
    "del aa['chat'][0]['label']\n",
    "# del aa['chat'][0]['nextNode']"
   ]
  },
  {
   "cell_type": "code",
   "execution_count": 9,
   "metadata": {
    "ExecuteTime": {
     "end_time": "2018-07-20T21:01:14.289129Z",
     "start_time": "2018-07-20T21:01:14.282146Z"
    }
   },
   "outputs": [
    {
     "data": {
      "text/plain": [
       "{'startTime': datetime.datetime(2018, 7, 20, 21, 0, 15, 620008),\n",
       " 'chat': [{'id': 1,\n",
       "   'agent': '不好意思，打扰了，请问您认识李明先生吗！<-current node is: cf_s1_n1_identity_q-><-output label is: 1-><-next node is: cf_s1_n5_ifAcquainted_q->',\n",
       "   'customer': '不',\n",
       "   'currentNode': 'cf_s1_n1_identity_q',\n",
       "   'nextNode': 'cf_s1_n5_ifAcquainted_q',\n",
       "   'confidence': 1,\n",
       "   'confidence_other': -1,\n",
       "   'responseTime': datetime.datetime(2018, 7, 20, 21, 0, 19, 721780)}],\n",
       " 'status': 'incomplete'}"
      ]
     },
     "execution_count": 9,
     "metadata": {},
     "output_type": "execute_result"
    }
   ],
   "source": [
    "aa"
   ]
  },
  {
   "cell_type": "code",
   "execution_count": 11,
   "metadata": {
    "ExecuteTime": {
     "end_time": "2018-07-20T21:01:23.490546Z",
     "start_time": "2018-07-20T21:01:23.466317Z"
    }
   },
   "outputs": [
    {
     "name": "stderr",
     "output_type": "stream",
     "text": [
      "2018-07-20 21:01:23,471 - INFO - CLASS:DB- METHOD:_load_client -LINE:34 - MSG:get mongodb client. host is:chatbotdb, port is: 27017\n",
      "2018-07-20 21:01:23,471 - INFO - CLASS:DB- METHOD:_load_client -LINE:34 - MSG:get mongodb client. host is:chatbotdb, port is: 27017\n",
      "2018-07-20 21:01:23,471 - INFO - CLASS:DB- METHOD:_load_client -LINE:34 - MSG:get mongodb client. host is:chatbotdb, port is: 27017\n",
      "2018-07-20 21:01:23,476 - INFO - CLASS:DB- METHOD:_get_db -LINE:42 - MSG:mongodb database is: chatbotdb\n",
      "2018-07-20 21:01:23,476 - INFO - CLASS:DB- METHOD:_get_db -LINE:42 - MSG:mongodb database is: chatbotdb\n",
      "2018-07-20 21:01:23,476 - INFO - CLASS:DB- METHOD:_get_db -LINE:42 - MSG:mongodb database is: chatbotdb\n",
      "2018-07-20 21:01:23,482 - INFO - CLASS:DB- METHOD:_get_collection -LINE:51 - MSG:mongodb collection is: chat\n",
      "2018-07-20 21:01:23,482 - INFO - CLASS:DB- METHOD:_get_collection -LINE:51 - MSG:mongodb collection is: chat\n",
      "2018-07-20 21:01:23,482 - INFO - CLASS:DB- METHOD:_get_collection -LINE:51 - MSG:mongodb collection is: chat\n"
     ]
    }
   ],
   "source": [
    "db = DB()"
   ]
  },
  {
   "cell_type": "code",
   "execution_count": 42,
   "metadata": {
    "ExecuteTime": {
     "end_time": "2018-07-24T18:04:34.977456Z",
     "start_time": "2018-07-24T18:04:34.969317Z"
    }
   },
   "outputs": [
    {
     "name": "stdout",
     "output_type": "stream",
     "text": [
      "{'id': 1, 'agent': '你好，这里是平安E贷小额贷款，请问是李明先生吗？', 'customer': '是的', 'currentNode': 'cf_s1_n1_identity_q', 'nextNode': 'cf_s1_n2_confirmLoan_q', 'label': 0, 'confidence': 0.9164749818991843, 'confidence_other': -1.0, 'responseTime': datetime.datetime(2018, 7, 25, 1, 55, 32, 899631, tzinfo=<DstTzInfo 'Asia/Shanghai' CST+8:00:00 STD>), 'nodeSentiment': 1}\n",
      "key: id  --- value: 1   --- type:<class 'int'>\n",
      "key: agent  --- value: 你好，这里是平安E贷小额贷款，请问是李明先生吗？   --- type:<class 'str'>\n",
      "key: customer  --- value: 是的   --- type:<class 'str'>\n",
      "key: currentNode  --- value: cf_s1_n1_identity_q   --- type:<class 'str'>\n",
      "key: nextNode  --- value: cf_s1_n2_confirmLoan_q   --- type:<class 'str'>\n",
      "key: label  --- value: 0   --- type:<class 'int'>\n",
      "key: confidence  --- value: 0.9164749818991843   --- type:<class 'float'>\n",
      "key: confidence_other  --- value: -1.0   --- type:<class 'float'>\n",
      "key: responseTime  --- value: 2018-07-25 01:55:32.899631+08:00   --- type:<class 'datetime.datetime'>\n",
      "key: nodeSentiment  --- value: 1   --- type:<class 'int'>\n"
     ]
    }
   ],
   "source": [
    "dicta = a['chat'][0]\n",
    "print(dicta)\n",
    "for key in dicta:\n",
    "    print('key: {}  --- value: {}   --- type:{}'.format(key,dicta[key],type(dicta[key])))\n"
   ]
  },
  {
   "cell_type": "code",
   "execution_count": 45,
   "metadata": {
    "ExecuteTime": {
     "end_time": "2018-07-24T18:05:21.086573Z",
     "start_time": "2018-07-24T18:05:21.074715Z"
    }
   },
   "outputs": [
    {
     "name": "stdout",
     "output_type": "stream",
     "text": [
      "{'id': 5, 'agent': '您之前借贷了人民币50,000块钱，约定于2018年5月16日还清，截至今天已经逾期70天，逾期总欠款人民币52,000，其中利息1,500，滞纳金500块。平安E贷小额贷款已经对您进行了多次催促，但是您依旧没有按时偿还所欠款项。现在我们正式对您下达通知，要求您在明天下午3点之前还清所有欠款。', 'customer': '没钱', 'currentNode': 'cf_s1_n15_verifyWill_q', 'nextNode': 'cf_s1_n15_verifyWill_q', 'label': 1, 'confidence': 0.9735921455854383, 'confidence_other': -1.0, 'responseTime': datetime.datetime(2018, 7, 25, 1, 57, 24, 74249, tzinfo=<DstTzInfo 'Asia/Shanghai' CST+8:00:00 STD>), 'nodeSentiment': 1}\n",
      "key: id  --- value: 5   --- type:<class 'int'>\n",
      "key: agent  --- value: 您之前借贷了人民币50,000块钱，约定于2018年5月16日还清，截至今天已经逾期70天，逾期总欠款人民币52,000，其中利息1,500，滞纳金500块。平安E贷小额贷款已经对您进行了多次催促，但是您依旧没有按时偿还所欠款项。现在我们正式对您下达通知，要求您在明天下午3点之前还清所有欠款。   --- type:<class 'str'>\n",
      "key: customer  --- value: 没钱   --- type:<class 'str'>\n",
      "key: currentNode  --- value: cf_s1_n15_verifyWill_q   --- type:<class 'str'>\n",
      "key: nextNode  --- value: cf_s1_n15_verifyWill_q   --- type:<class 'str'>\n",
      "key: label  --- value: 1   --- type:<class 'int'>\n",
      "key: confidence  --- value: 0.9735921455854383   --- type:<class 'float'>\n",
      "key: confidence_other  --- value: -1.0   --- type:<class 'float'>\n",
      "key: responseTime  --- value: 2018-07-25 01:57:24.074249+08:00   --- type:<class 'datetime.datetime'>\n",
      "key: nodeSentiment  --- value: 1   --- type:<class 'int'>\n"
     ]
    }
   ],
   "source": [
    "dicta = a['chat'][4]\n",
    "print(dicta)\n",
    "for key in dicta:\n",
    "    print('key: {}  --- value: {}   --- type:{}'.format(key,dicta[key],type(dicta[key])))\n"
   ]
  },
  {
   "cell_type": "code",
   "execution_count": null,
   "metadata": {},
   "outputs": [],
   "source": []
  }
 ],
 "metadata": {
  "kernelspec": {
   "display_name": "Python 3",
   "language": "python",
   "name": "python3"
  },
  "language_info": {
   "codemirror_mode": {
    "name": "ipython",
    "version": 3
   },
   "file_extension": ".py",
   "mimetype": "text/x-python",
   "name": "python",
   "nbconvert_exporter": "python",
   "pygments_lexer": "ipython3",
   "version": "3.6.5"
  },
  "varInspector": {
   "cols": {
    "lenName": 16,
    "lenType": 16,
    "lenVar": 40
   },
   "kernels_config": {
    "python": {
     "delete_cmd_postfix": "",
     "delete_cmd_prefix": "del ",
     "library": "var_list.py",
     "varRefreshCmd": "print(var_dic_list())"
    },
    "r": {
     "delete_cmd_postfix": ") ",
     "delete_cmd_prefix": "rm(",
     "library": "var_list.r",
     "varRefreshCmd": "cat(var_dic_list()) "
    }
   },
   "types_to_exclude": [
    "module",
    "function",
    "builtin_function_or_method",
    "instance",
    "_Feature"
   ],
   "window_display": false
  }
 },
 "nbformat": 4,
 "nbformat_minor": 2
}
