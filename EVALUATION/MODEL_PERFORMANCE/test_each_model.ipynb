{
 "cells": [
  {
   "cell_type": "code",
   "execution_count": 1,
   "metadata": {
    "ExecuteTime": {
     "end_time": "2018-08-20T03:24:34.671398Z",
     "start_time": "2018-08-20T03:24:34.014709Z"
    }
   },
   "outputs": [],
   "source": [
    "import sys,os\n",
    "loader_path = '../../classifier/loader/'\n",
    "sys.path.append(loader_path)\n",
    "from loader import load_all"
   ]
  },
  {
   "cell_type": "code",
   "execution_count": 2,
   "metadata": {
    "ExecuteTime": {
     "end_time": "2018-08-20T03:24:36.531284Z",
     "start_time": "2018-08-20T03:24:35.252672Z"
    }
   },
   "outputs": [
    {
     "name": "stderr",
     "output_type": "stream",
     "text": [
      "2018-08-20 03:24:35,750 - INFO - CLASS:load_all- METHOD:load_all -LINE:34 - MSG:IDClassifier has been load!\n",
      "2018-08-20 03:24:35,751 - INFO - CLASS:load_all- METHOD:load_all -LINE:39 - MSG:IDClassifier does not require time zone!\n",
      "2018-08-20 03:24:35,945 - INFO - CLASS:load_all- METHOD:load_all -LINE:34 - MSG:CutDebt has been load!\n",
      "2018-08-20 03:24:35,946 - INFO - CLASS:load_all- METHOD:load_all -LINE:37 - MSG:CutDebt time zone is set to Asia/Shanghai\n",
      "2018-08-20 03:24:36,113 - INFO - CLASS:load_all- METHOD:load_all -LINE:34 - MSG:WillingToPay has been load!\n",
      "2018-08-20 03:24:36,113 - INFO - CLASS:load_all- METHOD:load_all -LINE:37 - MSG:WillingToPay time zone is set to Asia/Shanghai\n",
      "2018-08-20 03:24:36,207 - INFO - CLASS:load_all- METHOD:load_all -LINE:34 - MSG:IfKnowDebtor has been load!\n",
      "2018-08-20 03:24:36,208 - INFO - CLASS:load_all- METHOD:load_all -LINE:39 - MSG:IfKnowDebtor does not require time zone!\n",
      "2018-08-20 03:24:36,395 - INFO - CLASS:load_all- METHOD:load_all -LINE:34 - MSG:Installment has been load!\n",
      "2018-08-20 03:24:36,398 - INFO - CLASS:load_all- METHOD:load_all -LINE:37 - MSG:Installment time zone is set to Asia/Shanghai\n",
      "2018-08-20 03:24:36,521 - INFO - CLASS:load_all- METHOD:load_all -LINE:34 - MSG:ConfirmLoan has been load!\n",
      "2018-08-20 03:24:36,524 - INFO - CLASS:load_all- METHOD:load_all -LINE:37 - MSG:ConfirmLoan time zone is set to Asia/Shanghai\n"
     ]
    }
   ],
   "source": [
    "model_dict = load_all()"
   ]
  },
  {
   "cell_type": "code",
   "execution_count": 3,
   "metadata": {
    "ExecuteTime": {
     "end_time": "2018-08-20T03:24:39.376394Z",
     "start_time": "2018-08-20T03:24:39.351740Z"
    }
   },
   "outputs": [
    {
     "data": {
      "text/plain": [
       "{'IDClassifier': <ml.IDClassifier at 0x7f4564353ef0>,\n",
       " 'CutDebt': <ml.CutDebt at 0x7f452b70a390>,\n",
       " 'WillingToPay': <ml.WillingToPay at 0x7f4538600908>,\n",
       " 'IfKnowDebtor': <ml.IfKnowDebtor at 0x7f452b45e550>,\n",
       " 'Installment': <ml.Installment at 0x7f452b48b4e0>,\n",
       " 'ConfirmLoan': <ml.ConfirmLoan at 0x7f452a8a21d0>}"
      ]
     },
     "execution_count": 3,
     "metadata": {},
     "output_type": "execute_result"
    }
   ],
   "source": [
    "model_dict"
   ]
  },
  {
   "cell_type": "code",
   "execution_count": 4,
   "metadata": {
    "ExecuteTime": {
     "end_time": "2018-08-20T03:24:40.194964Z",
     "start_time": "2018-08-20T03:24:40.188427Z"
    }
   },
   "outputs": [],
   "source": [
    "idc = model_dict['IDClassifier']\n",
    "cutd = model_dict['CutDebt']\n",
    "wil = model_dict['WillingToPay']\n",
    "ifk = model_dict['IfKnowDebtor']\n",
    "ins = model_dict['Installment']\n",
    "conf = model_dict['ConfirmLoan']"
   ]
  },
  {
   "cell_type": "code",
   "execution_count": 5,
   "metadata": {
    "ExecuteTime": {
     "end_time": "2018-08-20T03:24:42.694768Z",
     "start_time": "2018-08-20T03:24:41.558054Z"
    }
   },
   "outputs": [
    {
     "name": "stderr",
     "output_type": "stream",
     "text": [
      "Building prefix dict from the default dictionary ...\n",
      "Loading model from cache /tmp/jieba.cache\n",
      "Loading model cost 1.082 seconds.\n",
      "Prefix dict has been built succesfully.\n"
     ]
    },
    {
     "data": {
      "text/plain": [
       "{'label': 109,\n",
       " 'av_pred': 0.7932924236920899,\n",
       " 'other_response': 0.5993978304478852,\n",
       " 'timeExtract': [],\n",
       " 'ifAdmitLoan': 'null'}"
      ]
     },
     "execution_count": 5,
     "metadata": {},
     "output_type": "execute_result"
    }
   ],
   "source": [
    "conf.classify('不行')"
   ]
  },
  {
   "cell_type": "code",
   "execution_count": 6,
   "metadata": {
    "ExecuteTime": {
     "end_time": "2018-08-20T03:24:47.661065Z",
     "start_time": "2018-08-20T03:24:47.633688Z"
    }
   },
   "outputs": [
    {
     "data": {
      "text/plain": [
       "{'label': 109,\n",
       " 'av_pred': 0.9654874291786708,\n",
       " 'other_response': 0.9398427592638986,\n",
       " 'ifDebtorAnswersing': 'null'}"
      ]
     },
     "execution_count": 6,
     "metadata": {},
     "output_type": "execute_result"
    }
   ],
   "source": [
    "idc.classify('你管我是不是')"
   ]
  },
  {
   "cell_type": "code",
   "execution_count": null,
   "metadata": {},
   "outputs": [],
   "source": []
  }
 ],
 "metadata": {
  "kernelspec": {
   "display_name": "Python 3",
   "language": "python",
   "name": "python3"
  },
  "language_info": {
   "codemirror_mode": {
    "name": "ipython",
    "version": 3
   },
   "file_extension": ".py",
   "mimetype": "text/x-python",
   "name": "python",
   "nbconvert_exporter": "python",
   "pygments_lexer": "ipython3",
   "version": "3.6.5"
  },
  "varInspector": {
   "cols": {
    "lenName": 16,
    "lenType": 16,
    "lenVar": 40
   },
   "kernels_config": {
    "python": {
     "delete_cmd_postfix": "",
     "delete_cmd_prefix": "del ",
     "library": "var_list.py",
     "varRefreshCmd": "print(var_dic_list())"
    },
    "r": {
     "delete_cmd_postfix": ") ",
     "delete_cmd_prefix": "rm(",
     "library": "var_list.r",
     "varRefreshCmd": "cat(var_dic_list()) "
    }
   },
   "types_to_exclude": [
    "module",
    "function",
    "builtin_function_or_method",
    "instance",
    "_Feature"
   ],
   "window_display": false
  }
 },
 "nbformat": 4,
 "nbformat_minor": 2
}
