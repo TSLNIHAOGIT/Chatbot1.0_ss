{
 "cells": [
  {
   "cell_type": "code",
   "execution_count": 186,
   "metadata": {
    "ExecuteTime": {
     "end_time": "2018-06-13T02:57:09.030167Z",
     "start_time": "2018-06-13T02:57:07.217644Z"
    },
    "collapsed": true
   },
   "outputs": [],
   "source": [
    "import pickle\n",
    "\n",
    "class ClassifierBase:\n",
    "    def load_model(self,**path):\n",
    "        \n",
    "        load_path = path.get('tfidf')\n",
    "        if load_path is not None:\n",
    "            self.tfidf = pickle.load(open(load_path, 'rb'))\n",
    "            print('tfidf load successfully')\n",
    "            \n",
    "        load_path = path.get('svc')\n",
    "        if load_path is not None:\n",
    "            self.svc = pickle.load(open(load_path, 'rb'))\n",
    "            print('svc load successfully')\n",
    "            \n",
    "        load_path = path.get('lightgbm')\n",
    "        if load_path is not None:\n",
    "            self.lightgbm = pickle.load(open(load_path, 'rb'))\n",
    "            print('lightgbm load successfully')\n",
    "            \n",
    "        load_path = path.get('logistic')\n",
    "        if load_path is not None:\n",
    "            self.logistic = pickle.load(open(load_path, 'rb'))\n",
    "            print('logistic load successfully')\n",
    "            \n",
    "            \n",
    "####### classifier 0\n",
    "####### InitClassifier\n",
    "\n",
    "class InitClassifier(ClassifierBase):\n",
    "    def __init__(self, **model_path):\n",
    "        self.load_model(**model_path)\n",
    "        self.description = 'This model is used to initialize conversation'\n",
    "        self.label_explain = {0: 'next'}\n",
    "        \n",
    "    \n",
    "            \n",
    "            \n",
    "    def classify(self,sentence):\n",
    "        \"\"\"\n",
    "        0 - next\n",
    "        \"\"\"\n",
    "        \n",
    "        return (0, 1)\n",
    "\n",
    "####### classifier 1\n",
    "####### ID classifier\n",
    "\n",
    "class IDClassifier(ClassifierBase):\n",
    "    def __init__(self, **model_path):\n",
    "        self.load_model(**model_path)\n",
    "        self.description = 'This model is used to identify whether the one who receive the call is the debtor'\n",
    "        self.label_explain = {0:'is the debetor', 1: 'is not the debetor', 2:'irrelevent answer'}\n",
    "        \n",
    "    \n",
    "            \n",
    "            \n",
    "    def classify(self,sentence):\n",
    "        \"\"\"\n",
    "        0 - yes\n",
    "        1- no\n",
    "        2 - irrelavant\n",
    "        \"\"\"\n",
    "        matrix = self.tfidf.transform([sentence])\n",
    "        result = np.vstack((self.svc.predict_proba(matrix),\n",
    "                            self.logistic.predict_proba(matrix),\n",
    "                            self.lightgbm.predict(matrix)))\n",
    "        max_pred = np.max(result, axis=0)\n",
    "        max_arg = np.argmax(max_pred)\n",
    "        threshold = 0.6\n",
    "        if np.max(max_pred)<threshold:\n",
    "            label = 2\n",
    "        else:\n",
    "            label = max_arg\n",
    "        return (label, np.max(max_pred))\n",
    "    \n",
    "    \n",
    "    \n",
    "\n",
    "class WillingToPay(ClassifierBase):\n",
    "    def __init__(self, **model_path):\n",
    "        self.load_model(**model_path)\n",
    "        self.description = 'This model is used to justify whether the debtor is willing to pay the balance'\n",
    "        self.label_explain = {0:'high willing to pay', \n",
    "                              1: 'not willing to pay', \n",
    "                              2: 'want to pay less amount',\n",
    "                              3:'irrelevent answer'}\n",
    "        \n",
    "    def load_model(self,**path):\n",
    "        \n",
    "        load_path = path.get('tfidf')\n",
    "        if load_path is not None:\n",
    "            self.tfidf = pickle.load(open(load_path, 'rb'))\n",
    "            \n",
    "        load_path = path.get('svc')\n",
    "        if load_path is not None:\n",
    "            self.svc = pickle.load(open(load_path, 'rb'))\n",
    "            \n",
    "            \n",
    "    def classify(self,sentence):\n",
    "        matrix = self.tfidf.transform(sentence)\n",
    "        result = self.svc.predict_proba(matrix)\n",
    "        max_index = np.argmax(result)\n",
    "        return (np.argmax(result), np.max(result))\n",
    "    \n",
    "    \n",
    "####### classifier 4\n",
    "####### justify if the debtor is able to pay within 3-7 days\n",
    "\n",
    "class SetDueDay(ClassifierBase):\n",
    "    def __init__(self, **model_path):\n",
    "        self.load_model(**model_path)\n",
    "        self.description = 'This model is used to justify whether the debtor is able to pay within 3 to 7 days'\n",
    "        self.label_explain = {0:'able to pay within 3-7 days', \n",
    "                              1: 'not sure', \n",
    "                              2:'irrelevent answer'}\n",
    "        \n",
    "    def load_model(self,**path):\n",
    "        \n",
    "        load_path = path.get('tfidf')\n",
    "        if load_path is not None:\n",
    "            self.tfidf = pickle.load(open(load_path, 'rb'))\n",
    "            \n",
    "        load_path = path.get('svc')\n",
    "        if load_path is not None:\n",
    "            self.svc = pickle.load(open(load_path, 'rb'))\n",
    "            \n",
    "            \n",
    "    def classify(self,sentence):\n",
    "        matrix = self.tfidf.transform(sentence)\n",
    "        result = self.svc.predict_proba(matrix)\n",
    "        max_index = np.argmax(result)\n",
    "        return (np.argmax(result), np.max(result))\n",
    "    \n",
    "    \n",
    "####### classifier 5\n",
    "####### justify if the debtor accept pay off less amount\n",
    "\n",
    "class CutDebt(ClassifierBase):\n",
    "    def __init__(self, **model_path):\n",
    "        self.load_model(**model_path)\n",
    "        self.description = 'This model is used to justify whether the debtor accept paying off less amount'\n",
    "        self.label_explain = {0:'accept', \n",
    "                              1: 'cannot accept', \n",
    "                              2:'irrelevent answer'}\n",
    "        \n",
    "    def load_model(self,**path):\n",
    "        \n",
    "        load_path = path.get('tfidf')\n",
    "        if load_path is not None:\n",
    "            self.tfidf = pickle.load(open(load_path, 'rb'))\n",
    "            \n",
    "        load_path = path.get('svc')\n",
    "        if load_path is not None:\n",
    "            self.svc = pickle.load(open(load_path, 'rb'))\n",
    "            \n",
    "            \n",
    "    def classify(self,sentence):\n",
    "        matrix = self.tfidf.transform(sentence)\n",
    "        result = self.svc.predict_proba(matrix)\n",
    "        max_index = np.argmax(result)\n",
    "        return (np.argmax(result), np.max(result))\n",
    "    \n",
    "    \n",
    "####### classifier 6\n",
    "####### justify if the debtor accept installments\n",
    "\n",
    "class Installment(ClassifierBase):\n",
    "    def __init__(self, **model_path):\n",
    "        self.load_model(**model_path)\n",
    "        self.description = 'This model is used to justify whether the debtor accept installment'\n",
    "        self.label_explain = {0:'accept', \n",
    "                              1: 'cannot accept', \n",
    "                              2:'irrelevent answer'}\n",
    "        \n",
    "    def load_model(self,**path):\n",
    "        \n",
    "        load_path = path.get('tfidf')\n",
    "        if load_path is not None:\n",
    "            self.tfidf = pickle.load(open(load_path, 'rb'))\n",
    "            \n",
    "        load_path = path.get('svc')\n",
    "        if load_path is not None:\n",
    "            self.svc = pickle.load(open(load_path, 'rb'))\n",
    "            \n",
    "            \n",
    "    def classify(self,sentence):\n",
    "        matrix = self.tfidf.transform(sentence)\n",
    "        result = self.svc.predict_proba(matrix)\n",
    "        max_index = np.argmax(result)\n",
    "        return (np.argmax(result), np.max(result))\n",
    "    \n",
    "####### classifier 7\n",
    "####### justify whether the speaker know debtor \n",
    "\n",
    "class IfKnowDebtor(ClassifierBase):\n",
    "    def __init__(self, **model_path):\n",
    "        self.load_model(**model_path)\n",
    "        self.description = 'This model is used to justify whether the speak know debtor'\n",
    "        self.label_explain = ''\n",
    "        \n",
    "            \n",
    "            \n",
    "    def classify(self,sentence):\n",
    "        \"\"\"\n",
    "        0 - know debtor\n",
    "        1- do not know\n",
    "        2 - irrelavant\n",
    "        \"\"\"\n",
    "        matrix = self.tfidf.transform([sentence])\n",
    "        result = np.vstack((self.svc.predict_proba(matrix),\n",
    "                            self.logistic.predict_proba(matrix),\n",
    "                            self.lightgbm.predict(matrix)))\n",
    "        max_pred = np.max(result, axis=0)\n",
    "        max_arg = np.argmax(max_pred)\n",
    "        threshold = 0.7\n",
    "        if np.max(max_pred)<threshold:\n",
    "            label = 2\n",
    "        else:\n",
    "            label = max_arg\n",
    "        return (label, np.max(max_pred))\n",
    "    \n",
    "    \n",
    "    \n",
    "####### classifier8\n",
    "####### schedule next call\n",
    "\n",
    "class Classifier8(ClassifierBase):\n",
    "    def __init__(self, **model_path):\n",
    "        self.load_model(**model_path)\n",
    "        self.description = 'This model is used to schedule next appointment with the debtor'\n",
    "        self.label_explain = ''\n",
    "        \n",
    "    def load_model(self,**path):\n",
    "        \n",
    "        load_path = path.get('tfidf')\n",
    "        if load_path is not None:\n",
    "            self.tfidf = pickle.load(open(load_path, 'rb'))\n",
    "            \n",
    "        load_path = path.get('svc')\n",
    "        if load_path is not None:\n",
    "            self.svc = pickle.load(open(load_path, 'rb'))\n",
    "            \n",
    "            \n",
    "    def classify(self,sentence):\n",
    "        matrix = self.tfidf.transform(sentence)\n",
    "        result = self.svc.predict_proba(matrix)\n",
    "        max_index = np.argmax(result)\n",
    "        return (np.argmax(result), np.max(result))\n",
    "    \n",
    "    \n",
    "####### classifier 9\n",
    "####### notify  Payment methods\n",
    "\n",
    "class PaymentChannel(ClassifierBase):\n",
    "    def __init__(self, **model_path):\n",
    "        self.load_model(**model_path)\n",
    "        self.description = 'notify  Payment methods'\n",
    "        self.label_explain = ''\n",
    "        \n",
    "    def load_model(self,**path):\n",
    "        \n",
    "        load_path = path.get('tfidf')\n",
    "        if load_path is not None:\n",
    "            self.tfidf = pickle.load(open(load_path, 'rb'))\n",
    "            \n",
    "        load_path = path.get('svc')\n",
    "        if load_path is not None:\n",
    "            self.svc = pickle.load(open(load_path, 'rb'))\n",
    "            \n",
    "            \n",
    "    def classify(self,sentence):\n",
    "        matrix = self.tfidf.transform(sentence)\n",
    "        result = self.svc.predict_proba(matrix)\n",
    "        max_index = np.argmax(result)\n",
    "        return (np.argmax(result), np.max(result))\n",
    "    \n",
    "    \n",
    "\n",
    "    \n",
    "    \n",
    "####### classifier 0\n",
    "####### InitClassifier\n",
    "\n",
    "class OtherClassifier(ClassifierBase):\n",
    "    def __init__(self, **model_path):\n",
    "        self.load_model(**model_path)\n",
    "        self.description = 'This model is used to handle irrelavant logic'\n",
    "        self.label_explain = {0: 'next'}\n",
    "        \n",
    "    \n",
    "            \n",
    "            \n",
    "    def classify(self,sentence):\n",
    "        \"\"\"\n",
    "        0 - next\n",
    "        \"\"\"\n",
    "        \n",
    "        return (0, 1)\n",
    "    \n",
    "class StopClassifier(ClassifierBase):\n",
    "    def __init__(self, **model_path):\n",
    "        self.load_model(**model_path)\n",
    "        self.description = 'This model is used to handle stop logic'\n",
    "        self.label_explain = {0: 'stop'}\n",
    "        \n",
    "    \n",
    "            \n",
    "            \n",
    "    def classify(self,sentence):\n",
    "        \"\"\"\n",
    "        0 - next\n",
    "        \"\"\"\n",
    "        \n",
    "        return (0, 1)\n",
    "            \n"
   ]
  },
  {
   "cell_type": "code",
   "execution_count": 194,
   "metadata": {
    "ExecuteTime": {
     "end_time": "2018-06-13T03:03:48.138589Z",
     "start_time": "2018-06-13T03:03:45.237116Z"
    }
   },
   "outputs": [],
   "source": [
    "\n",
    "\n",
    "\n",
    "class Node:\n",
    "    def __init__(self, node_name, parent=None):\n",
    "        self.name = node_name\n",
    "        self.jump = None\n",
    "        self.entry_counter = 0\n",
    "        self.parent=parent\n",
    "        self.ifConnected = False\n",
    "  \n",
    "        print('{} is initialized'.format(node_name))\n",
    "        \n",
    "        \n",
    "    def summary(self):\n",
    "        return {'node_name': self.name, \n",
    "                'jump_action':self.jump_action, \n",
    "                'description':self.describe, \n",
    "                'class_name':self.__class__.__name__, \n",
    "                'model': self.model_name}\n",
    "    \n",
    "    def _connect(self):\n",
    "        pass\n",
    "    \n",
    "    def _triger_jump(self):\n",
    "        pass\n",
    "    \n",
    "    def get_response(self):\n",
    "        self.entry_counter += 1 \n",
    "        self._connect()\n",
    "        self._triger_jump()\n",
    "        return self.response\n",
    "    \n",
    "    def process(self, sentence, model_dict):\n",
    "        model = model_dict[self.model_name]\n",
    "        _label, _confidence = model.classify(sentence)\n",
    "        if self.connect is not None:\n",
    "            return self.connect[_label], _confidence\n",
    "        else:\n",
    "            return None,None\n",
    "        \n",
    "###################### Node 0  #########################\n",
    "\n",
    "\n",
    "\n",
    "class NodeFunctional(Node):\n",
    "    def __init__(self,node_name, parent=None):\n",
    "        super().__init__(node_name,parent)\n",
    "    \n",
    "class S1_N0(NodeFunctional):\n",
    "    def __init__(self,parent=None):\n",
    "        super().__init__('s0',parent)\n",
    "        self.describe = 'Init node'\n",
    "        self.model_name = 'InitClassifier'\n",
    "        self.response = 'S0 initialize'\n",
    "       \n",
    "        \n",
    "    \n",
    "    def _connect(self):\n",
    "        if not self.ifConnected:\n",
    "            self.ifConnected = True\n",
    "            self.connect = {0: S1_N1(self)}\n",
    "    \n",
    "        \n",
    "        \n",
    "       \n",
    "        \n",
    "###################### Node 1  #########################\n",
    "class S1_N1(NodeFunctional):\n",
    "    def __init__(self,parent):\n",
    "        super().__init__('cf_s1_n1_identity_q',parent)\n",
    "        self.describe = 'Verify Identify'\n",
    "        self.model_name = 'IDClassifier'\n",
    "        self.response = '你好，这里是H催收公司，请问是罗巍先生吗？'\n",
    "                \n",
    "    def _connect(self):\n",
    "        if not self.ifConnected:\n",
    "            self.ifConnected = True\n",
    "            self.connect = {0: S1_N15(self), \n",
    "                            1: S1_N5(self), \n",
    "                            2: S1_N4(self)}\n",
    "        \n",
    "\n",
    "    \n",
    "        \n",
    "#######################  Node 2  #############################        \n",
    "class S1_N5(NodeFunctional):\n",
    "    def __init__(self,parent):\n",
    "        super().__init__('cf_s1_n5_ifAcquainted_q',parent)\n",
    "        self.describe = 'Ask if know debtor'\n",
    "        self.model_name = 'IfKnowDebtor'\n",
    "        self.response = '不好意思，打扰了，请问您认识罗先生吗！'\n",
    "        \n",
    "        \n",
    "    def _connect(self):\n",
    "        if not self.ifConnected:\n",
    "            self.ifConnected = True\n",
    "            self.connect = {0: S1_N101(self), #know\n",
    "                            1: S1_N102(self), #do not know\n",
    "                            2: S1_N7(self)}\n",
    "        \n",
    "        \n",
    "##########################  Node 3  ##########################        \n",
    "class S1_N15(NodeFunctional):\n",
    "    def __init__(self,parent):\n",
    "        super().__init__('cf_s1_n15_verifyWill_q',parent)\n",
    "        self.describe = 'Verify willing to pay'\n",
    "        self.model_name = 'WillingToPay'\n",
    "        self.response = '你好，我是H催收公司的客服小催，您之前借贷了H公司5万块钱，约定在2018年5月1日还清。您已还款3万2千块钱，但因逾期未还产生了相应的利息和延迟还款费用，现在一共需要还2万块钱，其中1.2万本金，1500利息，500延迟还款手续费用，请问您打算什么时候处理下呢？'\n",
    "       \n",
    "        \n",
    "    def _connect(self):\n",
    "        if not self.ifConnected:\n",
    "            self.ifConnected = True\n",
    "            self.connect = {0: S1_N20(self), #know\n",
    "                            1: S1_N20(self), #do not know\n",
    "                            2: S1_N25(self), # pay less\n",
    "                            3: S1_N19(self) \n",
    "                           }\n",
    "#########################  Node 5  ###########################        \n",
    "class S1_N20(NodeFunctional):\n",
    "    def __init__(self,parent):\n",
    "        super().__init__('cf_s1_n20_q4_setDue3Day',parent)\n",
    "        self.describe = 'ask if can pay very soon'\n",
    "        self.model_name = 'SetDueDay'\n",
    "        self.response = '请问您能在3天之内还款吗？'\n",
    "        \n",
    "        \n",
    "    def _connect(self):\n",
    "        if not self.ifConnected:\n",
    "            self.ifConnected = True\n",
    "            self.connect = {0: S1_N103(self), #know\n",
    "                            1: self, #do not know\n",
    "                            2: S1_N24(self), # pay less\n",
    "                           }\n",
    "            self.jump = {1: S1_N25(self)}\n",
    "        \n",
    "        \n",
    "    def _triger_jump(self):\n",
    "        if self.entry_counter >= 4:\n",
    "            print('triger jump action')\n",
    "            self.connect.update(self.jump)\n",
    "        \n",
    "        \n",
    "        \n",
    "#########################  Node 7  ###########################        \n",
    "class S1_N25(NodeFunctional):\n",
    "    def __init__(self,parent):\n",
    "        super().__init__('cf_s1_n25_cutDebt_q',parent)\n",
    "        self.describe = 'ask if accept less amount'\n",
    "        self.model_name = 'CutDebt'\n",
    "        self.response = '额... 如果是这样的话您看我帮您把金额减免一定程度可以吗？ 如果今天换，我帮您把利息1500全部剪掉，您只用还本金1万2。这是我能做大的最大程度了！'\n",
    "        \n",
    "        \n",
    "    def _connect(self):\n",
    "        if not self.ifConnected:\n",
    "            self.ifConnected = True\n",
    "            self.connect = {0: S1_N33(self), #know\n",
    "                            1: self, #do not know\n",
    "                            2: S1_N30(self), # pay less\n",
    "                           }\n",
    "            self.jump = {1: S1_N32(self)}\n",
    "        \n",
    "    def _triger_jump(self):\n",
    "        if self.entry_counter >= 4:\n",
    "            print('triger jump action')\n",
    "            self.connect.update(self.jump)\n",
    "        \n",
    "        \n",
    "        \n",
    "#########################  Node 8  ###########################        \n",
    "class S1_N32(NodeFunctional):\n",
    "    def __init__(self,parent):\n",
    "        super().__init__('cf_s1_n32_splitDebt_q',parent)\n",
    "        self.describe = 'ask if accept installment'\n",
    "        self.model_name = 'Installment'\n",
    "        self.response = '那么您看这样行吗？ 您今天先还30%，也就是3600块钱，剩下的我为您申请下延期，但剩下的最晚需要在1个月内还清。您看可以吗？'\n",
    "        \n",
    "        \n",
    "    def _connect(self):\n",
    "        if not self.ifConnected:\n",
    "            self.ifConnected = True\n",
    "            self.connect = {0: S1_N41(self), #yes\n",
    "                            1: self, # no\n",
    "                            2: S1_N35(self), \n",
    "                           }\n",
    "            self.jump = {1: S1_N105(self)}\n",
    "        \n",
    "    def _triger_jump(self):\n",
    "        if self.entry_counter >= 4:\n",
    "            print('triger jump action')\n",
    "            self.connect.update(self.jump)\n",
    "        \n",
    "        \n",
    "        \n",
    "#########################  Node 9  ###########################        \n",
    "class S1_N33(NodeFunctional):\n",
    "    def __init__(self,parent):\n",
    "        super().__init__('cf_s1_n33_setDue3Day',parent)\n",
    "        self.describe = 'ask if can pay very soon'\n",
    "        self.model_name = 'SetDueDay'\n",
    "        self.response = '请问您能在3天之内还款吗？'\n",
    "        \n",
    "        \n",
    "    def _connect(self):\n",
    "        if not self.ifConnected:\n",
    "            self.ifConnected = True\n",
    "            self.connect = {0: S1_N104(self), #yes\n",
    "                            1: self, # no\n",
    "                            2: S1_N40(self), \n",
    "                           }\n",
    "            self.jump = {1: S1_N32(self)}\n",
    "        \n",
    "    def _triger_jump(self):\n",
    "        if self.entry_counter >= 4:\n",
    "            print('triger jump action')\n",
    "            self.connect.update(self.jump)\n",
    "        \n",
    "        \n",
    "        \n",
    "#########################  Node 10  ###########################        \n",
    "class S1_N41(NodeFunctional):\n",
    "    def __init__(self,parent):\n",
    "        super().__init__('cf_s1_n41_setSplitDebtDue_q',parent)\n",
    "        self.describe = 'ask if can pay very soon'\n",
    "        self.model_name = 'SetDueDay'\n",
    "        self.response = '请问您能在3天之内还款吗？'\n",
    "        \n",
    "    def _connect(self):\n",
    "        if not self.ifConnected:\n",
    "            self.ifConnected = True\n",
    "            self.connect = {0: S1_N106(self), #yes\n",
    "                            1: self, # no\n",
    "                            2: S1_N44(self), \n",
    "                           }\n",
    "            self.jump = {1: S1_N107(self)}\n",
    "        \n",
    "    def _triger_jump(self):\n",
    "        if self.entry_counter >= 4:\n",
    "            print('triger jump action')\n",
    "            self.connect.update(self.jump)\n",
    "        \n",
    "        \n",
    "        \n",
    "\n",
    "        \n",
    "#########################  Node Other ########################\n",
    "class NodeOther(Node):\n",
    "    def __init__(self,node_name=None, parent=None):\n",
    "        super().__init__(node_name,parent)\n",
    "        self.describe = 'other logic'\n",
    "        self.model_name = 'OtherClassifier'\n",
    "        self.response = '不好意思先生，您的回答我不太理解，请重复'\n",
    "        \n",
    "    def _connect(self):\n",
    "        if not self.ifConnected:\n",
    "            self.ifConnected = True\n",
    "            self.connect = self.parent.connect\n",
    "        \n",
    "        \n",
    "\n",
    "\n",
    "\n",
    "class S1_N4(NodeOther):\n",
    "    def __init__(self,parent):\n",
    "        super().__init__('cf_s1_n4_identity_a_misc',parent)\n",
    "\n",
    "\n",
    "\n",
    "        \n",
    "class S1_N7(NodeOther):\n",
    "    def __init__(self,parent):\n",
    "        super().__init__('cf_s1_n7_ifAcquainted_a_misc',parent)\n",
    "        \n",
    "    \n",
    "\n",
    "        \n",
    "class S1_N19(NodeOther):\n",
    "    def __init__(self,parent):\n",
    "        super().__init__('cf_s1_n19_verifyWill_a_misc',parent)\n",
    "        \n",
    "        \n",
    "    \n",
    "\n",
    "class S1_N24(NodeOther):\n",
    "    def __init__(self,parent):\n",
    "        super().__init__('cf_s1_n24_setDue_a_misc',parent)\n",
    "        \n",
    "        \n",
    "class S1_N30(NodeOther):\n",
    "    def __init__(self,parent):\n",
    "        super().__init__('cf_s1_n30_cutDebt_a_misc',parent)\n",
    "        \n",
    "\n",
    "class S1_N40(NodeOther):\n",
    "    def __init__(self,parent):\n",
    "        super().__init__('cf_s1_n40_setCutDebtDue_a_misc',parent)\n",
    "        \n",
    "    \n",
    "class S1_N35(NodeOther):\n",
    "    def __init__(self,parent):\n",
    "        super().__init__('cf_s1_n35_splitDebt_a_misc',parent)\n",
    "        \n",
    "        \n",
    "class S1_N44(NodeOther):\n",
    "    def __init__(self,parent):\n",
    "        super().__init__('cf_s1_n44_setSplitDebtDue_a_misc',parent)\n",
    "        \n",
    "        \n",
    "        \n",
    "############################## STOP NODE ########################\n",
    "class NodeStop(Node):\n",
    "    def __init__(self, parent=None):\n",
    "        super().__init__(node_name,parent)\n",
    "        self.model_name = 'StopClassifier'\n",
    "\n",
    "        \n",
    "    def _connect(self):\n",
    "        self.connect = None\n",
    "\n",
    "\n",
    "\n",
    "class S1_N101(Node):\n",
    "    def __init__(self,parent):\n",
    "        super().__init__('cf_s1_n101_ifAcquainted_s',parent)\n",
    "        self.describe = 'inform phone recipient'\n",
    "        self.response = '请您告诉xxx先生，请他尽快联系H催收公司，感谢您的配合，再见！'\n",
    "\n",
    "        \n",
    "        \n",
    "class S1_N102(Node):\n",
    "    def __init__(self,parent):\n",
    "        super().__init__('cf_s1_n102_ifAcquainted_s',parent)\n",
    "        self.describe = 'do not know debtor'\n",
    "        self.response = '十分抱歉，打扰到您。感谢您的配合，再见！'\n",
    "    \n",
    " \n",
    "        \n",
    "class S1_N103(Node):\n",
    "    def __init__(self,parent):\n",
    "        super().__init__('cf_s1_n103_paymentChannel_s',parent)\n",
    "        self.describe = 'notify methods of paying'\n",
    "        self.response = '感谢您的配合。您可以使用APP或者银行转账的方式进行还款，还请将还款截图发至微信hwchat！'\n",
    "    \n",
    "\n",
    "        \n",
    "class S1_N104(Node):\n",
    "    def __init__(self,parent):\n",
    "        super().__init__('cf_s1_n104_paymentChannel_s',parent)\n",
    "        self.describe = 'notify methods of paying'\n",
    "        self.response = '感谢您的配合。您可以使用APP或者银行转账的方式进行还款，还请将还款截图发至微信hwchat！'\n",
    "    \n",
    "        \n",
    "class S1_N105(Node):\n",
    "    def __init__(self,parent):\n",
    "        super().__init__('cf_s1_n105_noResult_s',parent)\n",
    "        self.describe = 'no result'\n",
    "        self.response = '您这也不行，那也不行！我们会近期再与您联系，到时候会是更强势的催收人员了！再见！'\n",
    "        \n",
    "    \n",
    "\n",
    "class S1_N106(Node):\n",
    "    def __init__(self,parent):\n",
    "        super().__init__('cf_s1_n106_paymentChannel_s',parent)\n",
    "        self.describe = 'notify methods of paying'\n",
    "        self.response = '感谢您的配合。您可以使用APP或者银行转账的方式进行还款，还请将还款截图发至微信hwchat！'\n",
    "        \n",
    "        \n",
    "class S1_N107(Node):\n",
    "    def __init__(self,parent):\n",
    "        super().__init__('cf_s1_n107_noResult_s',parent)\n",
    "        self.describe = 'no result'\n",
    "        self.response = '您这也不行，那也不行！我们会近期再与您联系，到时候会是更强势的催收人员了！再见！'\n",
    "        \n",
    "    \n",
    "########################################################################################################################\n",
    "######################################### Tree #########################################################################\n",
    "######################################### Tree #########################################################################\n",
    "######################################### Tree #########################################################################\n",
    "######################################### Tree #########################################################################\n",
    "######################################### Tree #########################################################################\n",
    "######################################### Tree #########################################################################\n",
    "######################################### Tree #########################################################################\n",
    "      \n",
    "        \n",
    "class TreeBase:\n",
    "    def __init__(self, node_pool, start_node='cf_s1_n1_identity_q', ):\n",
    "        self.current_node_name = start_node\n",
    "        self.node_pool = self.__get_nodePool(node_pool)\n",
    "        \n",
    "    def __get_nodePool(self, node_pool):\n",
    "        diction = {}\n",
    "        nodes_name = []\n",
    "        for node in node_pool:\n",
    "            cur = node()\n",
    "            diction[cur.name] = cur\n",
    "            nodes_name.append(cur.name)\n",
    "        self.nodes_name = nodes_name\n",
    "        return diction\n",
    "    \n",
    "class TreeStage1(TreeBase):\n",
    "    def __init__(self, node_pool, start_node='s0'):\n",
    "        super().__init__(node_pool, start_node='s0')\n",
    "        self.build_graph()\n",
    "        \n",
    "\n",
    "        \n",
    "    def classify(self, sentence, model_dict):\n",
    "        current_node = self.node_pool[self.current_node_name]\n",
    "        \n",
    "        # classify\n",
    "        print('Current node name: {}'.format(self.current_node_name))\n",
    "        model = model_dict[current_node.model_name]\n",
    "        label, confidence = model.classify(sentence)\n",
    "        print('predict label is {} and confidence is {}'.format(label, confidence))\n",
    "        \n",
    "        # update current node\n",
    "        self.current_node_name = self.graph[self.current_node_name][label]\n",
    "        print('now go to label {}'.format(self.current_node_name))\n",
    "        updated_node = self.node_pool[self.current_node_name]\n",
    "        print(updated_node.response)\n",
    "        \n",
    "        return updated_node.response"
   ]
  },
  {
   "cell_type": "code",
   "execution_count": 195,
   "metadata": {
    "ExecuteTime": {
     "end_time": "2018-06-13T03:03:48.633614Z",
     "start_time": "2018-06-13T03:03:48.624382Z"
    }
   },
   "outputs": [],
   "source": [
    "model_dict = {'InitClassifier':InitClassifier(), \n",
    "              'IDClassifier':IDClassifier(),\n",
    "              'IfKnowDebtor':IfKnowDebtor(),\n",
    "              'WillingToPay':WillingToPay(),\n",
    "              'SetDueDay':SetDueDay(),\n",
    "              'Installment':Installment(),\n",
    "              'CutDebt':CutDebt(), \n",
    "              'StopClassifier':StopClassifier(),\n",
    "              'OtherClassifier':OtherClassifier()}"
   ]
  },
  {
   "cell_type": "code",
   "execution_count": 196,
   "metadata": {
    "ExecuteTime": {
     "end_time": "2018-06-13T03:03:49.640845Z",
     "start_time": "2018-06-13T03:03:49.630097Z"
    }
   },
   "outputs": [
    {
     "name": "stdout",
     "output_type": "stream",
     "text": [
      "s0 is initialized\n"
     ]
    }
   ],
   "source": [
    "cur = S1_N0()"
   ]
  },
  {
   "cell_type": "code",
   "execution_count": 181,
   "metadata": {
    "ExecuteTime": {
     "end_time": "2018-06-13T02:47:43.652872Z",
     "start_time": "2018-06-13T02:47:43.640102Z"
    }
   },
   "outputs": [
    {
     "name": "stdout",
     "output_type": "stream",
     "text": [
      "cf_s1_n101_ifAcquainted_s is initialized\n",
      "cf_s1_n102_ifAcquainted_s is initialized\n",
      "cf_s1_n7_ifAcquainted_a_misc is initialized\n",
      "不好意思，打扰了，请问您认识罗先生吗！\n"
     ]
    },
    {
     "data": {
      "text/plain": [
       "dict_keys([0, 1, 2])"
      ]
     },
     "execution_count": 181,
     "metadata": {},
     "output_type": "execute_result"
    }
   ],
   "source": [
    "print(cur.get_response())\n",
    "cur.connect.keys()"
   ]
  },
  {
   "cell_type": "code",
   "execution_count": 180,
   "metadata": {
    "ExecuteTime": {
     "end_time": "2018-06-13T02:47:41.630414Z",
     "start_time": "2018-06-13T02:47:41.626643Z"
    }
   },
   "outputs": [],
   "source": [
    "cur = cur.connect[1]"
   ]
  },
  {
   "cell_type": "code",
   "execution_count": 158,
   "metadata": {
    "ExecuteTime": {
     "end_time": "2018-06-12T22:17:59.803169Z",
     "start_time": "2018-06-12T22:17:59.796409Z"
    }
   },
   "outputs": [
    {
     "data": {
      "text/plain": [
       "'cf_s1_n19_verifyWill_a_misc'"
      ]
     },
     "execution_count": 158,
     "metadata": {},
     "output_type": "execute_result"
    }
   ],
   "source": [
    "cur.name"
   ]
  },
  {
   "cell_type": "code",
   "execution_count": 159,
   "metadata": {
    "ExecuteTime": {
     "end_time": "2018-06-12T22:18:25.071159Z",
     "start_time": "2018-06-12T22:18:25.063201Z"
    }
   },
   "outputs": [
    {
     "data": {
      "text/plain": [
       "'cf_s1_n15_verifyWill_q'"
      ]
     },
     "execution_count": 159,
     "metadata": {},
     "output_type": "execute_result"
    }
   ],
   "source": [
    "cur.parent.name"
   ]
  },
  {
   "cell_type": "code",
   "execution_count": 62,
   "metadata": {
    "ExecuteTime": {
     "end_time": "2018-06-12T21:45:00.839737Z",
     "start_time": "2018-06-12T21:45:00.826264Z"
    }
   },
   "outputs": [
    {
     "name": "stdout",
     "output_type": "stream",
     "text": [
      "s0 is initialized\n",
      "cf_s1_n1_identity_q is initialized\n",
      "cf_s1_n15_verifyWill_q is initialized\n",
      "cf_s1_n5_ifAcquainted_q is initialized\n",
      "cf_s1_n4_identity_a_misc is initialized\n",
      "cf_s1_n20_q4_setDue3Day is initialized\n",
      "cf_s1_n20_q4_setDue3Day is initialized\n",
      "cf_s1_n25_cutDebt_q is initialized\n",
      "cf_s1_n19_verifyWill_a_misc is initialized\n",
      "cf_s1_n103_paymentChannel_s is initialized\n",
      "cf_s1_n24_setDue_a_misc is initialized\n",
      "cf_s1_n25_cutDebt_q is initialized\n"
     ]
    }
   ],
   "source": [
    "path = []\n",
    "cur = S1_N0()\n",
    "cur.get_response()\n",
    "path.append(cur.name)\n",
    "while cur.connect is not None:\n",
    "    max_p = max(cur.connect.keys()) + 1\n",
    "    cur = cur.connect[np.random.randint(max_p)]\n",
    "    cur.get_response()\n",
    "    path.append(cur.name)"
   ]
  },
  {
   "cell_type": "code",
   "execution_count": 63,
   "metadata": {
    "ExecuteTime": {
     "end_time": "2018-06-12T21:45:02.042242Z",
     "start_time": "2018-06-12T21:45:02.034953Z"
    }
   },
   "outputs": [
    {
     "data": {
      "text/plain": [
       "['s0',\n",
       " 'cf_s1_n1_identity_q',\n",
       " 'cf_s1_n4_identity_a_misc',\n",
       " 'cf_s1_n1_identity_q',\n",
       " 'cf_s1_n4_identity_a_misc',\n",
       " 'cf_s1_n1_identity_q',\n",
       " 'cf_s1_n15_verifyWill_q',\n",
       " 'cf_s1_n19_verifyWill_a_misc',\n",
       " 'cf_s1_n15_verifyWill_q',\n",
       " 'cf_s1_n19_verifyWill_a_misc',\n",
       " 'cf_s1_n15_verifyWill_q',\n",
       " 'cf_s1_n19_verifyWill_a_misc',\n",
       " 'cf_s1_n15_verifyWill_q',\n",
       " 'cf_s1_n20_q4_setDue3Day',\n",
       " 'cf_s1_n24_setDue_a_misc',\n",
       " 'cf_s1_n20_q4_setDue3Day',\n",
       " 'cf_s1_n103_paymentChannel_s']"
      ]
     },
     "execution_count": 63,
     "metadata": {},
     "output_type": "execute_result"
    }
   ],
   "source": [
    "path"
   ]
  },
  {
   "cell_type": "code",
   "execution_count": 57,
   "metadata": {
    "ExecuteTime": {
     "end_time": "2018-06-12T21:43:18.044002Z",
     "start_time": "2018-06-12T21:43:18.037739Z"
    }
   },
   "outputs": [
    {
     "data": {
      "text/plain": [
       "<__main__.S1_N0 at 0x7f5c58482ba8>"
      ]
     },
     "execution_count": 57,
     "metadata": {},
     "output_type": "execute_result"
    }
   ],
   "source": [
    "cur"
   ]
  },
  {
   "cell_type": "code",
   "execution_count": 35,
   "metadata": {
    "ExecuteTime": {
     "end_time": "2018-06-12T20:57:29.271345Z",
     "start_time": "2018-06-12T20:57:29.262720Z"
    }
   },
   "outputs": [
    {
     "name": "stdout",
     "output_type": "stream",
     "text": [
      "cf_s1_n15_verifyWill_q is initialized\n",
      "cf_s1_n5_ifAcquainted_q is initialized\n",
      "cf_s1_n4_identity_a_misc is initialized\n"
     ]
    },
    {
     "data": {
      "text/plain": [
       "'你好，这里是H催收公司，请问是罗巍先生吗？'"
      ]
     },
     "execution_count": 35,
     "metadata": {},
     "output_type": "execute_result"
    }
   ],
   "source": [
    "a.get_response()"
   ]
  },
  {
   "cell_type": "code",
   "execution_count": 34,
   "metadata": {
    "ExecuteTime": {
     "end_time": "2018-06-12T20:57:14.108341Z",
     "start_time": "2018-06-12T20:57:14.104271Z"
    }
   },
   "outputs": [],
   "source": [
    "a = a.get"
   ]
  },
  {
   "cell_type": "code",
   "execution_count": 15,
   "metadata": {
    "ExecuteTime": {
     "end_time": "2018-06-10T02:36:55.407117Z",
     "start_time": "2018-06-10T02:36:55.229576Z"
    }
   },
   "outputs": [
    {
     "name": "stdout",
     "output_type": "stream",
     "text": [
      "tfidf load successfully\n",
      "svc load successfully\n",
      "lightgbm load successfully\n",
      "logistic load successfully\n",
      "tfidf load successfully\n",
      "svc load successfully\n",
      "lightgbm load successfully\n",
      "logistic load successfully\n"
     ]
    }
   ],
   "source": [
    "c0 = InitClassifier()\n",
    "\n",
    "c1 = IDClassifier(tfidf='../../../MLModel/savedModel/IDClassifier/tfidf.pickle',\n",
    "                  logistic='../../../MLModel/savedModel/IDClassifier/Logistic.pickle',\n",
    "                     svc='../../../MLModel/savedModel/IDClassifier/LinearSVC.pickle',\n",
    "                     lightgbm='../../../MLModel/savedModel/IDClassifier/Lgbm.pickle',)\n",
    "\n",
    "c7 = IfKnowDebtor(tfidf='../../../MLModel/savedModel/IfKnowDebtor/tfidf.pickle',\n",
    "                  logistic='../../../MLModel/savedModel/IfKnowDebtor/Logistic.pickle',\n",
    "                     svc='../../../MLModel/savedModel/IfKnowDebtor/LinearSVC.pickle',\n",
    "                     lightgbm='../../../MLModel/savedModel/IfKnowDebtor/Lgbm.pickle',)\n",
    "\n",
    "node_pool = [S1_N0 ,S1_N1, S1_N5, S1_N6, S1_N15, S1_N20, S1_N26, S1_N25, S1_N32, S1_N33, S1_N41, S1_N42, S1_N43, S1_N50, S1_N51]\n",
    "model_dict = {'InitClassifier':c0, 'IDClassifier':c1, 'IfKnowDebtor': c7}"
   ]
  },
  {
   "cell_type": "code",
   "execution_count": 16,
   "metadata": {
    "ExecuteTime": {
     "end_time": "2018-06-10T02:36:56.444847Z",
     "start_time": "2018-06-10T02:36:56.427795Z"
    }
   },
   "outputs": [
    {
     "name": "stdout",
     "output_type": "stream",
     "text": [
      "s0 is initialized\n",
      "cf_s1_n1_identity_q is initialized\n",
      "cf_s1_n5_ifAcquainted_q is initialized\n",
      "cf_s1_n6_verifyDebt_q is initialized\n",
      "cf_s1_n15_verifyWill_q is initialized\n",
      "cf_s1_n20_q4_setDue3Day is initialized\n",
      "cf_s1_n26_paymentChannel_q is initialized\n",
      "cf_s1_n25_cutDebt_q is initialized\n",
      "cf_s1_n32_splitDebt_q is initialized\n",
      "cf_s1_n33_setCutDebtDue_q is initialized\n",
      "cf_s1_n41_setSplitDebtDue_q is initialized\n",
      "cf_s1_n42_paymentChannel_q is initialized\n",
      "cf_s1_n43_nextAppointment_q is initialized\n",
      "cf_s1_n50_nextAppointment_q is initialized\n",
      "cf_s1_n51_paymentChannel_q is initialized\n"
     ]
    }
   ],
   "source": [
    "a = TreeStage1(node_pool)"
   ]
  },
  {
   "cell_type": "code",
   "execution_count": 92,
   "metadata": {
    "ExecuteTime": {
     "end_time": "2018-06-08T16:02:03.016356Z",
     "start_time": "2018-06-08T16:02:03.009940Z"
    }
   },
   "outputs": [
    {
     "name": "stdout",
     "output_type": "stream",
     "text": [
      "Current node name: s0\n",
      "predict label is 0 and confidence is 1\n",
      "now go to label cf_s1_n1_identity_q\n",
      "你好，这里是H催收公司，请问是罗巍先生吗？\n"
     ]
    },
    {
     "data": {
      "text/plain": [
       "(0, 1)"
      ]
     },
     "execution_count": 92,
     "metadata": {},
     "output_type": "execute_result"
    }
   ],
   "source": [
    "a.classify('hello',model_dict)"
   ]
  },
  {
   "cell_type": "code",
   "execution_count": 93,
   "metadata": {
    "ExecuteTime": {
     "end_time": "2018-06-08T16:02:21.360135Z",
     "start_time": "2018-06-08T16:02:21.318073Z"
    }
   },
   "outputs": [
    {
     "name": "stdout",
     "output_type": "stream",
     "text": [
      "Current node name: cf_s1_n1_identity_q\n",
      "predict label is 1 and confidence is 0.954214390984378\n",
      "now go to label cf_s1_n5_ifAcquainted_q\n",
      "不好意思，打扰了，那请问您认识罗先生吗？\n"
     ]
    },
    {
     "data": {
      "text/plain": [
       "(1, 0.95421439098437799)"
      ]
     },
     "execution_count": 93,
     "metadata": {},
     "output_type": "execute_result"
    }
   ],
   "source": [
    "a.classify('我 是 他 姐姐',model_dict)"
   ]
  },
  {
   "cell_type": "code",
   "execution_count": 80,
   "metadata": {
    "ExecuteTime": {
     "end_time": "2018-06-08T15:45:29.633055Z",
     "start_time": "2018-06-08T15:45:29.628347Z"
    }
   },
   "outputs": [
    {
     "data": {
      "text/plain": [
       "'cf_s1_n5_ifAcquainted_q'"
      ]
     },
     "execution_count": 80,
     "metadata": {},
     "output_type": "execute_result"
    }
   ],
   "source": [
    "a.current_node_name"
   ]
  },
  {
   "cell_type": "code",
   "execution_count": 94,
   "metadata": {
    "ExecuteTime": {
     "end_time": "2018-06-08T16:02:31.022683Z",
     "start_time": "2018-06-08T16:02:30.976669Z"
    }
   },
   "outputs": [
    {
     "name": "stdout",
     "output_type": "stream",
     "text": [
      "Current node name: cf_s1_n5_ifAcquainted_q\n",
      "predict label is 0 and confidence is 0.9968281608972791\n",
      "now go to label know\n"
     ]
    },
    {
     "ename": "KeyError",
     "evalue": "'know'",
     "output_type": "error",
     "traceback": [
      "\u001b[0;31m---------------------------------------------------------------------------\u001b[0m",
      "\u001b[0;31mKeyError\u001b[0m                                  Traceback (most recent call last)",
      "\u001b[0;32m<ipython-input-94-01da94b5864d>\u001b[0m in \u001b[0;36m<module>\u001b[0;34m()\u001b[0m\n\u001b[0;32m----> 1\u001b[0;31m \u001b[0ma\u001b[0m\u001b[0;34m.\u001b[0m\u001b[0mclassify\u001b[0m\u001b[0;34m(\u001b[0m\u001b[0;34m'我 是 他 姐姐'\u001b[0m\u001b[0;34m,\u001b[0m\u001b[0mmodel_dict\u001b[0m\u001b[0;34m)\u001b[0m\u001b[0;34m\u001b[0m\u001b[0m\n\u001b[0m",
      "\u001b[0;32m<ipython-input-89-85d16d38bfc7>\u001b[0m in \u001b[0;36mclassify\u001b[0;34m(self, sentence, model_dict)\u001b[0m\n\u001b[1;32m    195\u001b[0m         \u001b[0mself\u001b[0m\u001b[0;34m.\u001b[0m\u001b[0mcurrent_node_name\u001b[0m \u001b[0;34m=\u001b[0m \u001b[0mself\u001b[0m\u001b[0;34m.\u001b[0m\u001b[0mgraph\u001b[0m\u001b[0;34m[\u001b[0m\u001b[0mself\u001b[0m\u001b[0;34m.\u001b[0m\u001b[0mcurrent_node_name\u001b[0m\u001b[0;34m]\u001b[0m\u001b[0;34m[\u001b[0m\u001b[0mlabel\u001b[0m\u001b[0;34m]\u001b[0m\u001b[0;34m\u001b[0m\u001b[0m\n\u001b[1;32m    196\u001b[0m         \u001b[0mprint\u001b[0m\u001b[0;34m(\u001b[0m\u001b[0;34m'now go to label {}'\u001b[0m\u001b[0;34m.\u001b[0m\u001b[0mformat\u001b[0m\u001b[0;34m(\u001b[0m\u001b[0mself\u001b[0m\u001b[0;34m.\u001b[0m\u001b[0mcurrent_node_name\u001b[0m\u001b[0;34m)\u001b[0m\u001b[0;34m)\u001b[0m\u001b[0;34m\u001b[0m\u001b[0m\n\u001b[0;32m--> 197\u001b[0;31m         \u001b[0mupdated_node\u001b[0m \u001b[0;34m=\u001b[0m \u001b[0mself\u001b[0m\u001b[0;34m.\u001b[0m\u001b[0mnode_pool\u001b[0m\u001b[0;34m[\u001b[0m\u001b[0mself\u001b[0m\u001b[0;34m.\u001b[0m\u001b[0mcurrent_node_name\u001b[0m\u001b[0;34m]\u001b[0m\u001b[0;34m\u001b[0m\u001b[0m\n\u001b[0m\u001b[1;32m    198\u001b[0m         \u001b[0mprint\u001b[0m\u001b[0;34m(\u001b[0m\u001b[0mupdated_node\u001b[0m\u001b[0;34m.\u001b[0m\u001b[0mresponse\u001b[0m\u001b[0;34m)\u001b[0m\u001b[0;34m\u001b[0m\u001b[0m\n\u001b[1;32m    199\u001b[0m \u001b[0;34m\u001b[0m\u001b[0m\n",
      "\u001b[0;31mKeyError\u001b[0m: 'know'"
     ]
    }
   ],
   "source": [
    "a.classify('我 是 他 姐姐',model_dict)"
   ]
  },
  {
   "cell_type": "code",
   "execution_count": 18,
   "metadata": {
    "ExecuteTime": {
     "end_time": "2018-06-10T02:01:53.188139Z",
     "start_time": "2018-06-10T02:01:53.180792Z"
    },
    "collapsed": true
   },
   "outputs": [],
   "source": [
    "a = {1:2}"
   ]
  },
  {
   "cell_type": "code",
   "execution_count": 19,
   "metadata": {
    "ExecuteTime": {
     "end_time": "2018-06-10T02:01:56.365206Z",
     "start_time": "2018-06-10T02:01:56.349934Z"
    }
   },
   "outputs": [
    {
     "ename": "KeyError",
     "evalue": "2",
     "output_type": "error",
     "traceback": [
      "\u001b[0;31m---------------------------------------------------------------------------\u001b[0m",
      "\u001b[0;31mKeyError\u001b[0m                                  Traceback (most recent call last)",
      "\u001b[0;32m<ipython-input-19-016a87a854bc>\u001b[0m in \u001b[0;36m<module>\u001b[0;34m()\u001b[0m\n\u001b[0;32m----> 1\u001b[0;31m \u001b[0ma\u001b[0m\u001b[0;34m[\u001b[0m\u001b[0;36m2\u001b[0m\u001b[0;34m]\u001b[0m\u001b[0;34m\u001b[0m\u001b[0m\n\u001b[0m",
      "\u001b[0;31mKeyError\u001b[0m: 2"
     ]
    }
   ],
   "source": [
    "a[2]"
   ]
  },
  {
   "cell_type": "code",
   "execution_count": 170,
   "metadata": {
    "ExecuteTime": {
     "end_time": "2018-06-13T02:25:03.892699Z",
     "start_time": "2018-06-13T02:25:03.867044Z"
    },
    "collapsed": true
   },
   "outputs": [],
   "source": [
    "class B:\n",
    "    def __init__(self, A):\n",
    "        self.parent = A\n",
    "\n",
    "class A:\n",
    "    def __init__(self):\n",
    "        self = 0\n",
    "        \n",
    "    def getAnother(self):\n",
    "        return B(self)"
   ]
  },
  {
   "cell_type": "code",
   "execution_count": 171,
   "metadata": {
    "ExecuteTime": {
     "end_time": "2018-06-13T02:25:07.543145Z",
     "start_time": "2018-06-13T02:25:07.539415Z"
    },
    "collapsed": true
   },
   "outputs": [],
   "source": [
    "a = A()"
   ]
  },
  {
   "cell_type": "code",
   "execution_count": 172,
   "metadata": {
    "ExecuteTime": {
     "end_time": "2018-06-13T02:25:12.264840Z",
     "start_time": "2018-06-13T02:25:12.254725Z"
    }
   },
   "outputs": [
    {
     "data": {
      "text/plain": [
       "<__main__.A at 0x7f5c47fa69e8>"
      ]
     },
     "execution_count": 172,
     "metadata": {},
     "output_type": "execute_result"
    }
   ],
   "source": [
    "a"
   ]
  },
  {
   "cell_type": "code",
   "execution_count": 14,
   "metadata": {
    "ExecuteTime": {
     "end_time": "2018-06-12T19:56:23.936337Z",
     "start_time": "2018-06-12T19:56:23.929440Z"
    }
   },
   "outputs": [
    {
     "data": {
      "text/plain": [
       "3"
      ]
     },
     "execution_count": 14,
     "metadata": {},
     "output_type": "execute_result"
    }
   ],
   "source": [
    "a.counter "
   ]
  },
  {
   "cell_type": "code",
   "execution_count": 15,
   "metadata": {
    "ExecuteTime": {
     "end_time": "2018-06-12T19:56:37.391469Z",
     "start_time": "2018-06-12T19:56:37.387446Z"
    },
    "collapsed": true
   },
   "outputs": [],
   "source": [
    "b = a.getAnother()"
   ]
  },
  {
   "cell_type": "code",
   "execution_count": 17,
   "metadata": {
    "ExecuteTime": {
     "end_time": "2018-06-12T19:56:49.224449Z",
     "start_time": "2018-06-12T19:56:49.217735Z"
    }
   },
   "outputs": [
    {
     "data": {
      "text/plain": [
       "3"
      ]
     },
     "execution_count": 17,
     "metadata": {},
     "output_type": "execute_result"
    }
   ],
   "source": [
    "b.parent.counter"
   ]
  },
  {
   "cell_type": "code",
   "execution_count": 166,
   "metadata": {
    "ExecuteTime": {
     "end_time": "2018-06-12T22:23:59.821189Z",
     "start_time": "2018-06-12T22:23:59.813739Z"
    },
    "collapsed": true
   },
   "outputs": [],
   "source": [
    "\n",
    "     \n"
   ]
  },
  {
   "cell_type": "code",
   "execution_count": 167,
   "metadata": {
    "ExecuteTime": {
     "end_time": "2018-06-12T22:24:00.647045Z",
     "start_time": "2018-06-12T22:24:00.642391Z"
    },
    "collapsed": true
   },
   "outputs": [],
   "source": [
    "a = A()"
   ]
  },
  {
   "cell_type": "code",
   "execution_count": 168,
   "metadata": {
    "ExecuteTime": {
     "end_time": "2018-06-12T22:24:00.932568Z",
     "start_time": "2018-06-12T22:24:00.922110Z"
    },
    "collapsed": true
   },
   "outputs": [],
   "source": [
    "a.run()"
   ]
  },
  {
   "cell_type": "code",
   "execution_count": 169,
   "metadata": {
    "ExecuteTime": {
     "end_time": "2018-06-12T22:24:01.354772Z",
     "start_time": "2018-06-12T22:24:01.344586Z"
    },
    "collapsed": true
   },
   "outputs": [],
   "source": [
    "a.run()"
   ]
  },
  {
   "cell_type": "code",
   "execution_count": 197,
   "metadata": {
    "ExecuteTime": {
     "end_time": "2018-06-13T13:53:28.542209Z",
     "start_time": "2018-06-13T13:53:28.535559Z"
    },
    "collapsed": true
   },
   "outputs": [],
   "source": [
    "class A:\n",
    "    def __init__(self):\n",
    "        self.a = 1"
   ]
  },
  {
   "cell_type": "code",
   "execution_count": 198,
   "metadata": {
    "ExecuteTime": {
     "end_time": "2018-06-13T13:53:52.168568Z",
     "start_time": "2018-06-13T13:53:52.162714Z"
    },
    "collapsed": true
   },
   "outputs": [],
   "source": [
    "a = A()"
   ]
  },
  {
   "cell_type": "code",
   "execution_count": 199,
   "metadata": {
    "ExecuteTime": {
     "end_time": "2018-06-13T13:53:58.380106Z",
     "start_time": "2018-06-13T13:53:58.366339Z"
    },
    "collapsed": true
   },
   "outputs": [],
   "source": [
    "# save linear svc\n",
    "import pickle\n",
    "pickle.dump(a, open(\"test.pickle\", \"wb\"))"
   ]
  },
  {
   "cell_type": "code",
   "execution_count": null,
   "metadata": {
    "collapsed": true
   },
   "outputs": [],
   "source": [
    "class A:\n",
    "    def __init__(model1, model2, model3):\n",
    "        self.model1 = model1\n",
    "        self.model2 = model2"
   ]
  },
  {
   "cell_type": "code",
   "execution_count": null,
   "metadata": {
    "collapsed": true
   },
   "outputs": [],
   "source": [
    "model1 = pickle.laod"
   ]
  },
  {
   "cell_type": "code",
   "execution_count": null,
   "metadata": {
    "collapsed": true
   },
   "outputs": [],
   "source": [
    "a = A(model1,)"
   ]
  },
  {
   "cell_type": "code",
   "execution_count": null,
   "metadata": {
    "collapsed": true
   },
   "outputs": [],
   "source": []
  }
 ],
 "metadata": {
  "kernelspec": {
   "display_name": "Python 3",
   "language": "python",
   "name": "python3"
  },
  "language_info": {
   "codemirror_mode": {
    "name": "ipython",
    "version": 3
   },
   "file_extension": ".py",
   "mimetype": "text/x-python",
   "name": "python",
   "nbconvert_exporter": "python",
   "pygments_lexer": "ipython3",
   "version": "3.6.3"
  },
  "varInspector": {
   "cols": {
    "lenName": 16,
    "lenType": 16,
    "lenVar": 40
   },
   "kernels_config": {
    "python": {
     "delete_cmd_postfix": "",
     "delete_cmd_prefix": "del ",
     "library": "var_list.py",
     "varRefreshCmd": "print(var_dic_list())"
    },
    "r": {
     "delete_cmd_postfix": ") ",
     "delete_cmd_prefix": "rm(",
     "library": "var_list.r",
     "varRefreshCmd": "cat(var_dic_list()) "
    }
   },
   "types_to_exclude": [
    "module",
    "function",
    "builtin_function_or_method",
    "instance",
    "_Feature"
   ],
   "window_display": false
  }
 },
 "nbformat": 4,
 "nbformat_minor": 2
}
