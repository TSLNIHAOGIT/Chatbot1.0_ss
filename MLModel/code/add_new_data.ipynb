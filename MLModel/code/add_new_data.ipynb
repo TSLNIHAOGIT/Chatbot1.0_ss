{
 "cells": [
  {
   "cell_type": "code",
   "execution_count": 1,
   "metadata": {
    "ExecuteTime": {
     "end_time": "2018-07-09T14:49:10.918773Z",
     "start_time": "2018-07-09T14:49:10.764397Z"
    }
   },
   "outputs": [],
   "source": [
    "import pandas as pd\n",
    "import numpy as np\n",
    "\n",
    "add_file_path = '../data/{}/'"
   ]
  },
  {
   "cell_type": "code",
   "execution_count": 2,
   "metadata": {
    "ExecuteTime": {
     "end_time": "2018-07-09T14:49:11.569266Z",
     "start_time": "2018-07-09T14:49:11.471343Z"
    }
   },
   "outputs": [
    {
     "name": "stdout",
     "output_type": "stream",
     "text": [
      "WillingToPay\n",
      "(7457, 2)\n",
      "cleaned_data_willingtopay_2018_7_6.csv\n",
      "(107, 2)\n",
      "(7564, 2)\n",
      "Installment\n",
      "(6296, 2)\n",
      "cleaned_data_installment_2018_7_6.csv\n",
      "(89, 2)\n",
      "(6385, 2)\n",
      "IfKnowDebtor\n",
      "(3912, 2)\n",
      "cleaned_data_ifknowdebtor_2018_7_6.csv\n",
      "(65, 2)\n",
      "(3977, 2)\n",
      "ConfirmLoan\n",
      "(696, 2)\n",
      "cleaned_data_confirmloan_2018_7_6.csv\n",
      "(875, 2)\n",
      "(1571, 2)\n",
      "CutDebt\n",
      "(6230, 2)\n",
      "cleaned_data_cutdebt_2018_7_6.csv\n",
      "(87, 2)\n",
      "(6317, 2)\n",
      "IDClassifier\n",
      "(3993, 2)\n",
      "cleaned_data_idclassfier_2018_7_6.csv\n",
      "(72, 2)\n",
      "(4065, 2)\n"
     ]
    },
    {
     "name": "stderr",
     "output_type": "stream",
     "text": [
      "/home/kai/anaconda3/lib/python3.6/site-packages/ipykernel_launcher.py:12: FutureWarning: Sorting because non-concatenation axis is not aligned. A future version\n",
      "of pandas will change to not sort by default.\n",
      "\n",
      "To accept the future behavior, pass 'sort=True'.\n",
      "\n",
      "To retain the current behavior and silence the warning, pass sort=False\n",
      "\n",
      "  if sys.path[0] == '':\n"
     ]
    }
   ],
   "source": [
    "file_name = ['WillingToPay','Installment','IfKnowDebtor','ConfirmLoan','CutDebt','IDClassifier']\n",
    "new_file_name = ['cleaned_data_willingtopay_2018_7_6.csv','cleaned_data_installment_2018_7_6.csv','cleaned_data_ifknowdebtor_2018_7_6.csv','cleaned_data_confirmloan_2018_7_6.csv','cleaned_data_cutdebt_2018_7_6.csv','cleaned_data_idclassfier_2018_7_6.csv']\n",
    "\n",
    "ind = 0\n",
    "for f in file_name:\n",
    "    print(f)\n",
    "    data = pd.read_csv(add_file_path.format(f) + 'mock_up_data1.csv', encoding='utf8')\n",
    "    print(data.shape)\n",
    "    print(new_file_name[ind])\n",
    "    data_new = pd.read_csv(add_file_path.format(f) + new_file_name[ind], encoding='utf8')\n",
    "    print(data_new.shape)\n",
    "    comb_data = pd.concat([data,data_new],ignore_index=True)\n",
    "    print(comb_data.shape)\n",
    "    ind = ind + 1\n",
    "    \n",
    "    comb_data.to_csv(add_file_path.format(f) + 'mock_up_data.csv', index=False, encoding='utf8')"
   ]
  },
  {
   "cell_type": "code",
   "execution_count": null,
   "metadata": {
    "collapsed": true
   },
   "outputs": [],
   "source": []
  }
 ],
 "metadata": {
  "kernelspec": {
   "display_name": "Python 3",
   "language": "python",
   "name": "python3"
  },
  "language_info": {
   "codemirror_mode": {
    "name": "ipython",
    "version": 3
   },
   "file_extension": ".py",
   "mimetype": "text/x-python",
   "name": "python",
   "nbconvert_exporter": "python",
   "pygments_lexer": "ipython3",
   "version": "3.6.5"
  },
  "varInspector": {
   "cols": {
    "lenName": 16,
    "lenType": 16,
    "lenVar": 40
   },
   "kernels_config": {
    "python": {
     "delete_cmd_postfix": "",
     "delete_cmd_prefix": "del ",
     "library": "var_list.py",
     "varRefreshCmd": "print(var_dic_list())"
    },
    "r": {
     "delete_cmd_postfix": ") ",
     "delete_cmd_prefix": "rm(",
     "library": "var_list.r",
     "varRefreshCmd": "cat(var_dic_list()) "
    }
   },
   "types_to_exclude": [
    "module",
    "function",
    "builtin_function_or_method",
    "instance",
    "_Feature"
   ],
   "window_display": false
  }
 },
 "nbformat": 4,
 "nbformat_minor": 2
}
