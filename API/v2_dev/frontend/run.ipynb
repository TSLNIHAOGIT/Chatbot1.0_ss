{
 "cells": [
  {
   "cell_type": "code",
   "execution_count": 9,
   "metadata": {
    "ExecuteTime": {
     "end_time": "2018-07-01T17:36:16.983935Z",
     "start_time": "2018-07-01T17:36:16.910287Z"
    }
   },
   "outputs": [],
   "source": [
    "# from flask_other.app import app\n",
    "from flask_socketio import disconnect as dc\n",
    "from flask import Flask\n",
    "from flask_socketio import SocketIO, emit,join_room,leave_room\n",
    "from flask_socketio import disconnect\n",
    "from threading import Lock\n",
    "import os,sys\n",
    "\n",
    "app=Flask(\"demo\")\n",
    "from flask import  render_template,request\n",
    "import time\n",
    "import re\n",
    "\n",
    "import pandas as pd\n",
    "import numpy as np\n",
    "import time\n",
    "import re\n",
    "import requests\n",
    "\n",
    "import atexit\n",
    "\n",
    "from apscheduler.schedulers.background import BackgroundScheduler\n",
    "from apscheduler.triggers.interval import IntervalTrigger\n",
    "\n",
    "\n",
    "\n",
    "##################################\n",
    "async_mode = None\n",
    "app = Flask(__name__)\n",
    "app.config['SECRET_KEY'] = 'secret!'\n",
    "socketio = SocketIO(app, async_mode=async_mode)\n",
    "\n",
    "thread = None\n",
    "thread_lock = Lock()\n",
    "clients = []\n",
    "sentences = []\n",
    "\n",
    "name_space = '/chat'\n",
    "\n",
    "@app.route('/')\n",
    "def index():\n",
    "    return render_template('index.html', async_mode=socketio.async_mode)\n",
    "\n",
    "\n",
    "@socketio.on('client_send',namespace=name_space)\n",
    "def client_msg(msg):  \n",
    "    uid = request.sid\n",
    "    sentence = msg.get('data')\n",
    "    sentence = decode(sentence)\n",
    "    sentences.append(sentence)\n",
    "    response = cache.chat(uid, sentence)\n",
    "    if response == 'end':\n",
    "        socketio.emit('my_response',{'data':'感谢选择江苏逸能，再见！'},room = uid, namespace=name_space)\n",
    "        disconnect_frontend(uid)\n",
    "    elif response is None:\n",
    "        socketio.emit('my_response',{'data':'当前会话已经过期，感谢选择江苏逸能，再见！'},room = uid, namespace=name_space)\n",
    "        disconnect_frontend(uid)\n",
    "    else:\n",
    "        socketio.emit('my_response',{'data':response},room = uid, namespace=name_space)\n",
    "\n",
    "def decode(msg):\n",
    "    msg = re.sub(r'%u', r'\\u', msg)\n",
    "    msg = msg.encode('latin-1').decode('unicode_escape')\n",
    "    return msg\n",
    "\n",
    "#sned message to a specific user\n",
    "def unique_message(uid):\n",
    "    socketio.emit('unique_messgae',{'data':'are you still here'}, room=uid, namespace=name_space)\n",
    "    \n",
    "def disconnect_frontend(uid):\n",
    "    socketio.emit('my_response',{'status':'disconnected'},room = uid, namespace=name_space)\n",
    "\n",
    "\n",
    "@socketio.on('disconnect',namespace=name_space)\n",
    "def disconnect():\n",
    "    uid = request.sid\n",
    "    cache.remove_session(uid)\n",
    "    leave_room(uid)\n",
    "    dc()\n",
    "    print('{} is disconnected'.format(uid))\n",
    "    \n",
    "@socketio.on('connect',namespace=name_space)\n",
    "def connect():\n",
    "    print('connect')\n",
    "    print(request.sid)\n",
    "    uid = request.sid\n",
    "    clients.append(uid)\n",
    "    print(len(clients))\n",
    "    \n",
    "    join_room(uid)\n",
    "    if cache.create_session(uid):\n",
    "        response = cache.chat(uid, '')\n",
    "        if response is not None:\n",
    "            socketio.emit('my_response',{'data':response},room = uid,namespace=name_space) #the first sentence\n",
    "            return None\n",
    "        \n",
    "    else:\n",
    "        socketio.emit('my_response',{'data':'server busy. please click new conv'},room = uid,namespace=name_space) \n",
    "        disconnect_frontend(uid)\n",
    "    \n",
    "\n"
   ]
  },
  {
   "cell_type": "code",
   "execution_count": null,
   "metadata": {
    "ExecuteTime": {
     "start_time": "2018-07-01T17:36:18.786Z"
    }
   },
   "outputs": [
    {
     "name": "stdout",
     "output_type": "stream",
     "text": [
      "http://10.0.24.31:8899/\n",
      "http://0.0.0.0:6006/\n",
      "connect\n",
      "9607d5997e784a09a714cf0668ec06b5\n",
      "1\n"
     ]
    },
    {
     "name": "stderr",
     "output_type": "stream",
     "text": [
      "message handler error\n",
      "Traceback (most recent call last):\n",
      "  File \"/home/kai/anaconda3/lib/python3.6/site-packages/engineio/server.py\", line 411, in _trigger_event\n",
      "    return self.handlers[event](*args)\n",
      "  File \"/home/kai/anaconda3/lib/python3.6/site-packages/socketio/server.py\", line 522, in _handle_eio_message\n",
      "    self._handle_event(sid, pkt.namespace, pkt.id, pkt.data)\n",
      "  File \"/home/kai/anaconda3/lib/python3.6/site-packages/socketio/server.py\", line 458, in _handle_event\n",
      "    self._handle_event_internal(self, sid, data, namespace, id)\n",
      "  File \"/home/kai/anaconda3/lib/python3.6/site-packages/socketio/server.py\", line 461, in _handle_event_internal\n",
      "    r = server._trigger_event(data[0], namespace, sid, *data[1:])\n",
      "  File \"/home/kai/anaconda3/lib/python3.6/site-packages/socketio/server.py\", line 490, in _trigger_event\n",
      "    return self.handlers[namespace][event](*args)\n",
      "  File \"/home/kai/anaconda3/lib/python3.6/site-packages/flask_socketio/__init__.py\", line 251, in _handler\n",
      "    *args)\n",
      "  File \"/home/kai/anaconda3/lib/python3.6/site-packages/flask_socketio/__init__.py\", line 634, in _handle_event\n",
      "    ret = handler(*args)\n",
      "  File \"<ipython-input-9-9bf49f28cf9c>\", line 51, in client_msg\n",
      "    response = cache.chat(uid, sentence)\n",
      "  File \"<ipython-input-8-3c62f8e3574b>\", line 46, in chat\n",
      "    response = self.active_session[uid]['stragety'].process(sentence, self.model_dict)\n",
      "  File \"../../../MLModel/code/TreeModelV2/chatbotv1.py\", line 324, in process\n",
      "    _label,_ptp = current_node.process(sentence, model_dict)\n",
      "  File \"../../../MLModel/code/TreeModelV2/chatbotv1.py\", line 83, in process\n",
      "    self.output_label = clf['label']\n",
      "TypeError: tuple indices must be integers or slices, not str\n"
     ]
    },
    {
     "name": "stdout",
     "output_type": "stream",
     "text": [
      "In collected Vacabulary\n"
     ]
    },
    {
     "name": "stderr",
     "output_type": "stream",
     "text": [
      "Job \"purge_inactive (trigger: interval[0:00:10], next run at: 2018-07-01 17:38:08 UTC)\" raised an exception\n",
      "Traceback (most recent call last):\n",
      "  File \"/home/kai/anaconda3/lib/python3.6/site-packages/apscheduler/executors/base.py\", line 125, in run_job\n",
      "    retval = job.func(*job.args, **job.kwargs)\n",
      "  File \"<ipython-input-8-3c62f8e3574b>\", line 58, in purge_inactive\n",
      "    for uid in self.active_session:\n",
      "RuntimeError: dictionary changed size during iteration\n"
     ]
    },
    {
     "name": "stdout",
     "output_type": "stream",
     "text": [
      "9607d5997e784a09a714cf0668ec06b5 session is inactive, will be removed!\n",
      "session 9607d5997e784a09a714cf0668ec06b5 is removed\n",
      "9607d5997e784a09a714cf0668ec06b5 is disconnected\n",
      "9607d5997e784a09a714cf0668ec06b5 is disconnected\n"
     ]
    },
    {
     "name": "stderr",
     "output_type": "stream",
     "text": [
      "Run time of job \"purge_inactive (trigger: interval[0:00:10], next run at: 2018-07-01 19:39:30 UTC)\" was missed by 0:00:04.241577\n",
      "Run time of job \"purge_inactive (trigger: interval[0:00:10], next run at: 2018-07-01 19:39:33 UTC)\" was missed by 0:00:01.385554\n",
      "Run time of job \"purge_inactive (trigger: interval[0:00:10], next run at: 2018-07-01 19:39:28 UTC)\" was missed by 0:00:06.541446\n",
      "Run time of job \"purge_inactive (trigger: interval[0:00:10], next run at: 2018-07-01 23:36:10 UTC)\" was missed by 0:00:09.356217\n",
      "Run time of job \"purge_inactive (trigger: interval[0:00:10], next run at: 2018-07-01 23:36:18 UTC)\" was missed by 0:00:01.675366\n",
      "Run time of job \"purge_inactive (trigger: interval[0:00:10], next run at: 2018-07-01 23:36:13 UTC)\" was missed by 0:00:06.548713\n",
      "Run time of job \"purge_inactive (trigger: interval[0:00:10], next run at: 2018-07-01 23:52:40 UTC)\" was missed by 0:00:07.274672\n",
      "Run time of job \"purge_inactive (trigger: interval[0:00:10], next run at: 2018-07-01 23:52:38 UTC)\" was missed by 0:00:09.570419\n",
      "Run time of job \"purge_inactive (trigger: interval[0:00:10], next run at: 2018-07-01 23:52:43 UTC)\" was missed by 0:00:04.458975\n",
      "Run time of job \"purge_inactive (trigger: interval[0:00:10], next run at: 2018-07-02 00:45:23 UTC)\" was missed by 0:00:03.385599\n",
      "Run time of job \"purge_inactive (trigger: interval[0:00:10], next run at: 2018-07-02 00:45:18 UTC)\" was missed by 0:00:08.548111\n",
      "Run time of job \"purge_inactive (trigger: interval[0:00:10], next run at: 2018-07-02 00:45:20 UTC)\" was missed by 0:00:06.260973\n",
      "Run time of job \"purge_inactive (trigger: interval[0:00:10], next run at: 2018-07-02 00:48:33 UTC)\" was missed by 0:00:02.396112\n",
      "Run time of job \"purge_inactive (trigger: interval[0:00:10], next run at: 2018-07-02 00:48:30 UTC)\" was missed by 0:00:05.272793\n",
      "Run time of job \"purge_inactive (trigger: interval[0:00:10], next run at: 2018-07-02 00:48:28 UTC)\" was missed by 0:00:07.576181\n",
      "Run time of job \"purge_inactive (trigger: interval[0:00:10], next run at: 2018-07-02 00:53:28 UTC)\" was missed by 0:00:05.558294\n",
      "Run time of job \"purge_inactive (trigger: interval[0:00:10], next run at: 2018-07-02 00:53:30 UTC)\" was missed by 0:00:03.258851\n",
      "Run time of job \"purge_inactive (trigger: interval[0:00:10], next run at: 2018-07-02 02:03:43 UTC)\" was missed by 0:00:02.381936\n",
      "Run time of job \"purge_inactive (trigger: interval[0:00:10], next run at: 2018-07-02 02:03:40 UTC)\" was missed by 0:00:05.249652\n",
      "Run time of job \"purge_inactive (trigger: interval[0:00:10], next run at: 2018-07-02 02:03:38 UTC)\" was missed by 0:00:07.543412\n",
      "Run time of job \"purge_inactive (trigger: interval[0:00:10], next run at: 2018-07-02 02:39:00 UTC)\" was missed by 0:00:01.542009\n",
      "Run time of job \"purge_inactive (trigger: interval[0:00:10], next run at: 2018-07-02 02:38:58 UTC)\" was missed by 0:00:03.852073\n",
      "Run time of job \"purge_inactive (trigger: interval[0:00:10], next run at: 2018-07-02 02:38:53 UTC)\" was missed by 0:00:08.674512\n",
      "Run time of job \"purge_inactive (trigger: interval[0:00:10], next run at: 2018-07-02 14:18:13 UTC)\" was missed by 0:00:05.459707\n",
      "Run time of job \"purge_inactive (trigger: interval[0:00:10], next run at: 2018-07-02 14:18:10 UTC)\" was missed by 0:00:08.323320\n",
      "Run time of job \"purge_inactive (trigger: interval[0:00:10], next run at: 2018-07-02 14:29:33 UTC)\" was missed by 0:00:01.072069\n",
      "Run time of job \"purge_inactive (trigger: interval[0:00:10], next run at: 2018-07-02 15:10:18 UTC)\" was missed by 0:00:05.536943\n",
      "Run time of job \"purge_inactive (trigger: interval[0:00:10], next run at: 2018-07-02 15:10:20 UTC)\" was missed by 0:00:03.248355\n",
      "Run time of job \"purge_inactive (trigger: interval[0:00:10], next run at: 2018-07-02 15:25:10 UTC)\" was missed by 0:00:01.373949\n",
      "Run time of job \"purge_inactive (trigger: interval[0:00:10], next run at: 2018-07-02 15:25:18 UTC)\" was missed by 0:00:01.536606\n",
      "Run time of job \"purge_inactive (trigger: interval[0:00:10], next run at: 2018-07-02 15:25:13 UTC)\" was missed by 0:00:06.384429\n",
      "Run time of job \"purge_inactive (trigger: interval[0:00:10], next run at: 2018-07-02 17:10:28 UTC)\" was missed by 0:00:01.001696\n"
     ]
    }
   ],
   "source": [
    "print('http://10.0.24.31:8899/')\n",
    "print('http://0.0.0.0:6006/')\n",
    "scheduler = BackgroundScheduler()\n",
    "scheduler.start()\n",
    "scheduler.add_job(\n",
    "    func=cache.purge_inactive,\n",
    "    trigger=IntervalTrigger(seconds=10),\n",
    "    id='purge_cache',\n",
    "    name='purge_inactive',\n",
    "    replace_existing=True)\n",
    "# Shut down the scheduler when exiting the app\n",
    "atexit.register(lambda: scheduler.shutdown())\n",
    "\n",
    "socketio.run(app,'0.0.0.0',6006)"
   ]
  },
  {
   "cell_type": "code",
   "execution_count": 8,
   "metadata": {
    "ExecuteTime": {
     "end_time": "2018-07-01T17:36:14.354253Z",
     "start_time": "2018-07-01T17:36:14.035601Z"
    }
   },
   "outputs": [],
   "source": [
    "import time\n",
    "import gc\n",
    "class Cache:\n",
    "    def __init__(self, graph_path,msg_path,model_dict,max_session=1000):\n",
    "        self.max_session = 1000\n",
    "        self.inform_interval = 20\n",
    "        self.inactive_maxlength = 75\n",
    "        #{'uid': {'stragety': Tree(), 'time_response': <time>, 'time_inform': <>}\n",
    "        self.active_session = {}\n",
    "        self.model_dict = model_dict\n",
    "        self.graph_path = graph_path\n",
    "        self.msg_path = msg_path\n",
    "        \n",
    "        \n",
    "    def create_session(self, uid):\n",
    "        if len(self.active_session) < self.max_session:\n",
    "            self.active_session[uid] = {}\n",
    "            self.active_session[uid].update({'stragety':TreeStage1(graph_path=self.graph_path,\n",
    "                                                                   msg_path=self.msg_path)})\n",
    "            self.active_session[uid].update({'time_response':time.time()})\n",
    "            self.active_session[uid].update({'time_inform':time.time()})\n",
    "            self.active_session[uid].update({'chatting':[]})\n",
    "            return True\n",
    "        else:\n",
    "            return False\n",
    "        \n",
    "    def remove_session(self,uid):\n",
    "        response = '您当前的会话超过 {} 秒没有响应，系统将关闭当前会话！如有需求，请开始新的对话！'.format(self.inactive_maxlength)\n",
    "        try:\n",
    "            socketio.emit('my_response',{'data':response},room = uid, namespace=name_space)\n",
    "        except:\n",
    "            pass\n",
    "        try:\n",
    "            disconnect_frontend(uid)\n",
    "        except:\n",
    "            pass\n",
    "        try:\n",
    "            del self.active_session[uid]\n",
    "            print('session {} is removed'.format(uid))\n",
    "        except KeyError:\n",
    "                pass\n",
    "        gc.collect()\n",
    "            \n",
    "    def chat(self,uid,sentence):\n",
    "        if self.active_session.get(uid) is not None:\n",
    "            response = self.active_session[uid]['stragety'].process(sentence, self.model_dict)\n",
    "            self.active_session[uid]['time_response'] = time.time()\n",
    "            self.active_session[uid]['time_inform'] = time.time()\n",
    "            self.active_session[uid]['chatting'].append(response)\n",
    "        else:\n",
    "            response = None\n",
    "        return response\n",
    "        \n",
    "    \n",
    "    \n",
    "    def purge_inactive(self):\n",
    "        current = time.time()\n",
    "        for uid in self.active_session:\n",
    "            if current - self.active_session[uid]['time_response'] > self.inactive_maxlength:\n",
    "                print('{} session is inactive, will be removed!'.format(uid))\n",
    "                self.remove_session(uid)\n",
    "            try:\n",
    "                if current - self.active_session[uid]['time_inform'] > self.inform_interval:\n",
    "                    self.inform_inactive(uid)\n",
    "            except KeyError:\n",
    "                pass\n",
    "                \n",
    "        \n",
    "    def inform_inactive(self, uid):\n",
    "        self.active_session[uid]['time_inform'] = time.time()\n",
    "        last_sentence = self.active_session[uid]['chatting'][-1]\n",
    "#         response = '您有在听我说吗？ \\n'+last_sentence\n",
    "        response = '您有在听我说吗?请回答我刚才的问题！'\n",
    "        socketio.emit('my_response',{'data':response},room = uid, namespace=name_space)\n",
    "          \n",
    "################################################\n",
    "import sys,os\n",
    "sys.path.append('../../../MLModel/code/OneClickTraining/')\n",
    "sys.path.append('../../../MLModel/code/TreeModelV2/')\n",
    "from all_model_py import *\n",
    "import pickle\n",
    "from chatbotv1 import *\n",
    "\n",
    "\n",
    "\n",
    "models_list = ['IDClassifier','CutDebt','IfKnowDebtor','WillingToPay','Installment','ConfirmLoan']\n",
    "savedModel_path = '../../../MLModel/savedModel/{}/{}.pickle'\n",
    "\n",
    "model_dict = {}\n",
    "for each_model in models_list:\n",
    "    model_dict[each_model] = pickle.load(open(savedModel_path.format(each_model,each_model), 'rb'))\n",
    "    model_dict[each_model].classify('再说一次')\n",
    "    \n",
    "model_dict['StopClassifier'] = StopClassifier()\n",
    "model_dict['InitClassifier'] = InitClassifier()    \n",
    "\n",
    "graph_path='../../../MLModel/data/TreeModel/treeConnection.csv'\n",
    "msg_path='../../../MLModel/data/TreeModel/node_message.csv'\n",
    "#################################################################\n",
    "cache = Cache(graph_path=graph_path,\n",
    "              msg_path=msg_path,\n",
    "              model_dict=model_dict)"
   ]
  },
  {
   "cell_type": "code",
   "execution_count": 3,
   "metadata": {
    "ExecuteTime": {
     "end_time": "2018-06-29T21:10:54.889423Z",
     "start_time": "2018-06-29T21:10:54.397183Z"
    }
   },
   "outputs": [
    {
     "name": "stdout",
     "output_type": "stream",
     "text": [
      "s0 is initialized\n",
      "cf_s1_n1_identity_q is initialized\n",
      "cf_s1_n15_verifyWill_q is initialized\n",
      "cf_s1_n101_ifAcquainted_s is initialized\n",
      "cf_s1_n102_ifAcquainted_s is initialized\n",
      "cf_s1_n103_paymentChannel_s is initialized\n",
      "cf_s1_n104_paymentChannel_s is initialized\n",
      "cf_s1_n105_noResult_s is initialized\n",
      "cf_s1_n106_paymentChannel_s is initialized\n",
      "cf_s1_n108_noResult_s is initialized\n",
      "cf_s1_n109_scheduleCall_s is initialized\n",
      "cf_s1_n110_recordWechat_s is initialized\n",
      "cf_s1_n2_confirmLoan_q is initialized\n",
      "cf_s1_n25_cutDebt_q is initialized\n",
      "cf_s1_n32_splitDebt_q is initialized\n",
      "cf_s1_n5_ifAcquainted_q is initialized\n"
     ]
    },
    {
     "data": {
      "text/plain": [
       "True"
      ]
     },
     "execution_count": 3,
     "metadata": {},
     "output_type": "execute_result"
    }
   ],
   "source": [
    "cache.create_session('1232')"
   ]
  },
  {
   "cell_type": "code",
   "execution_count": 5,
   "metadata": {
    "ExecuteTime": {
     "end_time": "2018-06-29T21:11:41.813571Z",
     "start_time": "2018-06-29T21:11:41.794868Z"
    }
   },
   "outputs": [
    {
     "data": {
      "text/plain": [
       "'您好，您之前借贷了5万块钱，截至今天已经逾期47天，逾期总欠款5万2千块钱，其中利息1500，滞纳金500块。请问为什么到现在都没有处理呢？'"
      ]
     },
     "execution_count": 5,
     "metadata": {},
     "output_type": "execute_result"
    }
   ],
   "source": [
    "uid='1232'\n",
    "cache.chat(uid,'是的')"
   ]
  },
  {
   "cell_type": "code",
   "execution_count": null,
   "metadata": {},
   "outputs": [],
   "source": []
  }
 ],
 "metadata": {
  "kernelspec": {
   "display_name": "Python 3",
   "language": "python",
   "name": "python3"
  },
  "language_info": {
   "codemirror_mode": {
    "name": "ipython",
    "version": 3
   },
   "file_extension": ".py",
   "mimetype": "text/x-python",
   "name": "python",
   "nbconvert_exporter": "python",
   "pygments_lexer": "ipython3",
   "version": "3.6.5"
  },
  "varInspector": {
   "cols": {
    "lenName": 16,
    "lenType": 16,
    "lenVar": 40
   },
   "kernels_config": {
    "python": {
     "delete_cmd_postfix": "",
     "delete_cmd_prefix": "del ",
     "library": "var_list.py",
     "varRefreshCmd": "print(var_dic_list())"
    },
    "r": {
     "delete_cmd_postfix": ") ",
     "delete_cmd_prefix": "rm(",
     "library": "var_list.r",
     "varRefreshCmd": "cat(var_dic_list()) "
    }
   },
   "types_to_exclude": [
    "module",
    "function",
    "builtin_function_or_method",
    "instance",
    "_Feature"
   ],
   "window_display": false
  }
 },
 "nbformat": 4,
 "nbformat_minor": 2
}
