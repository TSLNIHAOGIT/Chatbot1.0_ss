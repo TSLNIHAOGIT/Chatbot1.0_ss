{
 "cells": [
  {
   "cell_type": "code",
   "execution_count": 1,
   "metadata": {
    "ExecuteTime": {
     "end_time": "2018-06-25T18:33:47.540596Z",
     "start_time": "2018-06-25T18:33:47.176674Z"
    },
    "collapsed": true
   },
   "outputs": [],
   "source": [
    "import pandas as pd\n",
    "import numpy as np\n",
    "import re\n",
    "import datetime as dt\n",
    "import pytz"
   ]
  },
  {
   "cell_type": "code",
   "execution_count": 65,
   "metadata": {
    "ExecuteTime": {
     "end_time": "2018-06-25T19:32:33.508510Z",
     "start_time": "2018-06-25T19:32:31.192436Z"
    },
    "collapsed": true
   },
   "outputs": [],
   "source": [
    "class TimePattern:\n",
    "    def __init__(self,pattern_path=None,tz='America/New_York'):\n",
    "        self._set_timeZone(tz)\n",
    "        self._load_mapping(pattern_path)\n",
    "        \n",
    "    \n",
    "    def process(self, sentence):\n",
    "        current = dt.datetime.now()\n",
    "        current = self.tz.localize(current)\n",
    "        times = re.findall(self.re_ext, sentence)\n",
    "        result = []\n",
    "        for each in times:\n",
    "            future = self.evl(self.dict_ext[each])\n",
    "            gap = (future - current).total_seconds()\n",
    "            result.append({'pattern':each, 'time':future, 'gapS':gap, 'gapH':gap/3600})\n",
    "        return result\n",
    "    \n",
    "    def evl(self, expression):\n",
    "        current = dt.datetime.now()\n",
    "        current = self.tz.localize(current)\n",
    "        exp_week = re.findall(r'-.+W-.+w',expression)\n",
    "        exp_ymd = re.findall(r'.+y-.+m.+d',expression)\n",
    "\n",
    "        history = self._pros_second(expression, current)\n",
    "        history = self._pros_minute(expression, current, history)\n",
    "        history,shift = self._pros_hour(expression, current, history)\n",
    "\n",
    "        if exp_week:\n",
    "            history = self._pros_weekDay(expression,current, history)\n",
    "            history = self._pros_week(expression,current, history)\n",
    "            history = self._pros_year(expression, current,history)\n",
    "            future = self.create_from_W(history)  \n",
    "        elif exp_ymd:\n",
    "            history = self._pros_day(expression, current,history)\n",
    "            history = self._pros_month(expression, current,history)\n",
    "            history = self._pros_year(expression, current,history)\n",
    "            future = self.create_from_D(history)\n",
    "        if future.tzinfo is None:\n",
    "            future = self.tz.localize(future)\n",
    "        if not shift:\n",
    "            future = future - self.delta\n",
    "        return future\n",
    "    \n",
    "    def _load_mapping(self, pattern_path):\n",
    "        df = pd.read_csv('mapping.csv')\n",
    "        # create length\n",
    "        df['length'] = df.key_word.apply(lambda x: len(x))\n",
    "        df = df.sort_values(['length','key_word'], ascending=False)\n",
    "        df_series = pd.Series(index=df.key_word.values, data=df.expression.values)\n",
    "        df_dict = df_series.to_dict()\n",
    "        self.serires = df_series\n",
    "        self.re_ext = r'|'.join(self.serires.index.values)\n",
    "        self.dict_ext = df_dict\n",
    "        \n",
    "    def _set_timeZone(self,tz):\n",
    "        utc = pytz.utc\n",
    "        self.tz = pytz.timezone(tz)\n",
    "        now = dt.datetime.now()\n",
    "        utc_now = utc.localize(now)\n",
    "        tz_now = self.tz.localize(now)\n",
    "        delta =  utc_now - tz_now\n",
    "        hours = round(delta.total_seconds() / 3600)\n",
    "        self.delta = dt.timedelta(hours=hours)\n",
    "        \n",
    "    def _pros_second(self, expression, current, history={'microsecond':0}):\n",
    "        history = history.copy()\n",
    "        S = current.second\n",
    "        reexp = r'M:.+S'\n",
    "        extract = re.findall(reexp,expression)[0]\n",
    "        # M:+1S\n",
    "        if extract[2:-1] == '?':\n",
    "            history.update({'second':S})\n",
    "            return history\n",
    "        elif extract[2] == '+':\n",
    "            gap = int(extract[3:-1])\n",
    "            create = current + dt.timedelta(seconds=gap) \n",
    "            create = create.replace(**history)\n",
    "            return create \n",
    "        elif extract[2] == '-':\n",
    "            gap = int(extract[3:-1])\n",
    "            create =  current - dt.timedelta(seconds=gap)\n",
    "            create = create.replace(**history)\n",
    "            return create\n",
    "        else:\n",
    "            second = int(extract[2:-1])\n",
    "            history.update({'second':second})\n",
    "            return history\n",
    "        \n",
    "    def _pros_minute(self, expression, current, history = {}):\n",
    "        if isinstance(history,dt.datetime):\n",
    "            return history\n",
    "        history = history.copy()\n",
    "        M = current.minute\n",
    "        reexp = r'H:.+M'\n",
    "        extract = re.findall(reexp,expression)[0]\n",
    "        # H:?M\n",
    "        if extract[2:-1] == '?':\n",
    "            history.update({'minute':M})\n",
    "            return history\n",
    "        elif extract[2] == '+':\n",
    "            gap = int(extract[3:-1])\n",
    "            create = current + dt.timedelta(minutes=gap) \n",
    "            create = create.replace(**history)\n",
    "            return create\n",
    "        elif extract[2] == '-':\n",
    "            gap = int(extract[3:-1])\n",
    "            create = current - dt.timedelta(minutes=gap) \n",
    "            create = create.replace(**history)\n",
    "            return create\n",
    "        else:\n",
    "            minute = int(extract[2:-1])\n",
    "            history.update({'minute':minute})\n",
    "            return history\n",
    "        \n",
    "    def _pros_hour(self, expression, current, history = {}):\n",
    "        shift = True\n",
    "        if isinstance(history,dt.datetime):\n",
    "            return history, shift\n",
    "        history = history.copy()\n",
    "\n",
    "        H = current.hour\n",
    "        reexp = r'[dw]-.+H'\n",
    "        extract = re.findall(reexp,expression)[0]\n",
    "    #     d-?H\n",
    "        if extract[2:-1] == '?':\n",
    "            history.update({'hour':H})\n",
    "            return history,shift\n",
    "        elif extract[2] == '+':\n",
    "            gap = int(extract[3:-1])\n",
    "            create = current + dt.timedelta(hours=gap)\n",
    "            create = create.replace(**history)\n",
    "            return create,shift\n",
    "        elif extract[2] == '-':\n",
    "            gap = int(extract[3:-1])\n",
    "            create = current - dt.timedelta(hours=gap)\n",
    "            create = create.replace(**history)\n",
    "            return create,shift\n",
    "        else:\n",
    "            shift = False\n",
    "            hour = int(extract[2:-1])\n",
    "            history.update({'hour':hour})\n",
    "            return history,shift\n",
    "        \n",
    "    def _pros_day(self, expression, current, history={}):\n",
    "        if isinstance(history,dt.datetime):\n",
    "            return history\n",
    "        history = history.copy()\n",
    "        d = current.day\n",
    "        reexp = r'm-.+d'\n",
    "        extract = re.findall(reexp,expression)[0]\n",
    "        if extract[2:-1] == '?':\n",
    "            history.update({'day':d})\n",
    "            return history\n",
    "        elif extract[2] == '+':\n",
    "            gap = int(extract[3:-1])\n",
    "            create = current + dt.timedelta(days=gap) \n",
    "            create = create.replace(**history)\n",
    "            return create\n",
    "        elif extract[2] == '-':\n",
    "            gap = int(extract[3:-1])\n",
    "            create = current - dt.timedelta(days=gap) \n",
    "            create = create.replace(**history)\n",
    "            return create\n",
    "        else:\n",
    "            day = int(extract[2:-1])\n",
    "            history.update({'day':day})\n",
    "            return history\n",
    "        \n",
    "    def _pros_month(self, expression, current, history):\n",
    "        if isinstance(history,dt.datetime):\n",
    "            return history\n",
    "        history = history.copy()\n",
    "        adjust_year = 0\n",
    "        m = current.month\n",
    "        reexp = r'y-.+m'\n",
    "        extract = re.findall(reexp,expression)[0]\n",
    "        if extract[2:-1] == '?':\n",
    "            history.update({'month':m})\n",
    "            return history\n",
    "        elif extract[2] == '+':\n",
    "            cur = int(extract[3:-1]) + m\n",
    "            if cur > 12:\n",
    "                adjust_year = int(cur / 12)\n",
    "                cur = cur % 12\n",
    "                if cur == 0:\n",
    "                    cur = 12\n",
    "                    adjust_year -= 1\n",
    "            history.update({'year':adjust_year})\n",
    "            history.update({'month':cur})\n",
    "            return history\n",
    "        elif extract[2] == '-':\n",
    "            cur = m - int(extract[3:-1])\n",
    "            if cur < 1:\n",
    "                adjust_year = int(cur / 12) - 1\n",
    "                cur = cur % 12\n",
    "                if cur == 0:\n",
    "                    cur = 12\n",
    "            history.update({'year':adjust_year})\n",
    "            history.update({'month':cur})\n",
    "            return history\n",
    "        else:\n",
    "            history.update({'month':int(extract[2:-1])})\n",
    "            return history\n",
    "        \n",
    "    def _pros_year(self, expression, current, history):\n",
    "        if isinstance(history,dt.datetime):\n",
    "            return history\n",
    "        history = history.copy()\n",
    "        adjust_year = history.get('year')\n",
    "        if adjust_year is None:\n",
    "            adjust_year = 0\n",
    "        y = current.year\n",
    "        reexp = r'.+y-'\n",
    "        extract = re.findall(reexp,expression)[0]\n",
    "        if extract[0:-2] == '?':\n",
    "            history.update({'year':y+adjust_year})\n",
    "            return history\n",
    "        elif extract[0] == '+':\n",
    "            gap = int(extract[1:-2])\n",
    "            history.update({'year':y+adjust_year+gap})\n",
    "            return history\n",
    "        elif extract[0] == '-':\n",
    "            gap = int(extract[1:-2])\n",
    "            history.update({'year':y+adjust_year-gap})\n",
    "            return history\n",
    "        else:\n",
    "            history.update({'year':int(extract[:-2])+adjust_year})\n",
    "            return history\n",
    "        \n",
    "    def _pros_weekDay(self, expression, current, history):\n",
    "        history = history.copy()\n",
    "        w = current.isocalendar()[2] \n",
    "        reexp = r'W-.+w'\n",
    "        extract = re.findall(reexp,expression)[0]\n",
    "\n",
    "        # W-+1w\n",
    "        if extract[2:-1] == '?':\n",
    "            history.update({'weekday':str(w)})\n",
    "            return history\n",
    "        elif extract[2] == '+':\n",
    "            rep = str(w + int(extract[3:-1]))\n",
    "            history.update({'weekday':rep})\n",
    "            return history\n",
    "        elif extract[2] == '-':\n",
    "            rep = str(w - int(extract[3:-1]))\n",
    "            history.update({'weekday':rep})\n",
    "            return history\n",
    "        else:\n",
    "            rep = extract[2:-1]\n",
    "            history.update({'weekday':rep})\n",
    "            return history\n",
    "        \n",
    "    def _pros_week(self, expression, current, history):\n",
    "        history = history.copy()\n",
    "        year_adjust = 0\n",
    "        W = current.isocalendar()[1] \n",
    "        reexp = r'y-.+W'\n",
    "        extract = re.findall(reexp,expression)[0]\n",
    "\n",
    "        # y-+1W\n",
    "        if extract[2:-1] == '?':\n",
    "            rep = str(W)\n",
    "            history.update({'week':rep})\n",
    "            return history\n",
    "        elif extract[2] == '+':\n",
    "            cur = W + int(extract[3:-1])\n",
    "            if cur > 53:\n",
    "                year_adjust = int(cur / 53)\n",
    "                cur = cur % 53\n",
    "            rep = str(cur)\n",
    "            history.update({'year':year_adjust})\n",
    "            history.update({'week':rep})\n",
    "            return history\n",
    "        elif extract[2] == '-':\n",
    "            cur = W - int(extract[3:-1])\n",
    "            if cur < 0:\n",
    "                year_adjust = int(cur / 53) -1\n",
    "                cur = cur % 53\n",
    "            rep = str(cur)\n",
    "            history.update({'year':year_adjust})\n",
    "            history.update({'week':rep})\n",
    "            return history\n",
    "        else:\n",
    "            rep = extract[2:-1]\n",
    "            history.update({'week':rep})\n",
    "            return history\n",
    "    \n",
    "    def create_from_D(self, history):\n",
    "        if isinstance(history,dt.datetime):\n",
    "            return history\n",
    "        return dt.datetime(**history)\n",
    "    \n",
    "    def create_from_W(self, history):\n",
    "        expression ='{}y-{}W-{}w-{}H:{}M:{}S'.format(history['year'],\n",
    "                                                     history['week'],\n",
    "                                                     history['weekday'],\n",
    "                                                     history['hour'],\n",
    "                                                     history['minute'],\n",
    "                                                     history['second'])\n",
    "        eval_time = dt.datetime.strptime(expression, \"%Yy-%WW-%ww-%HH:%MM:%SS\")\n",
    "        return eval_time"
   ]
  },
  {
   "cell_type": "code",
   "execution_count": 66,
   "metadata": {
    "ExecuteTime": {
     "end_time": "2018-06-25T19:32:33.731298Z",
     "start_time": "2018-06-25T19:32:33.716622Z"
    }
   },
   "outputs": [],
   "source": [
    "t = TimePattern(pattern_path='mapping.csv')"
   ]
  },
  {
   "cell_type": "code",
   "execution_count": 70,
   "metadata": {
    "ExecuteTime": {
     "end_time": "2018-06-25T19:34:35.386183Z",
     "start_time": "2018-06-25T19:34:26.131072Z"
    }
   },
   "outputs": [
    {
     "name": "stdout",
     "output_type": "stream",
     "text": [
      "112 µs ± 1.14 µs per loop (mean ± std. dev. of 7 runs, 10000 loops each)\n"
     ]
    }
   ],
   "source": [
    "%%timeit\n",
    "a = t.process('我明天下午哦不不后天下午就还')"
   ]
  },
  {
   "cell_type": "code",
   "execution_count": 72,
   "metadata": {
    "ExecuteTime": {
     "end_time": "2018-06-25T19:37:34.713421Z",
     "start_time": "2018-06-25T19:37:34.706301Z"
    }
   },
   "outputs": [
    {
     "data": {
      "text/plain": [
       "[{'gapH': 23.37369215916667,\n",
       "  'gapS': 84145.291773,\n",
       "  'pattern': '明天下午',\n",
       "  'time': datetime.datetime(2018, 6, 26, 19, 0, tzinfo=<DstTzInfo 'America/New_York' EDT-1 day, 20:00:00 DST>)},\n",
       " {'gapH': 47.373692159166666,\n",
       "  'gapS': 170545.291773,\n",
       "  'pattern': '后天下午',\n",
       "  'time': datetime.datetime(2018, 6, 27, 19, 0, tzinfo=<DstTzInfo 'America/New_York' EDT-1 day, 20:00:00 DST>)}]"
      ]
     },
     "execution_count": 72,
     "metadata": {},
     "output_type": "execute_result"
    }
   ],
   "source": [
    "t.process('我明天下午哦不不后天下午就还')"
   ]
  },
  {
   "cell_type": "code",
   "execution_count": 64,
   "metadata": {
    "ExecuteTime": {
     "end_time": "2018-06-25T19:30:17.735166Z",
     "start_time": "2018-06-25T19:30:17.723925Z"
    }
   },
   "outputs": [
    {
     "data": {
      "text/plain": [
       "23.502335771944445"
      ]
     },
     "execution_count": 64,
     "metadata": {},
     "output_type": "execute_result"
    }
   ],
   "source": [
    "84608.408779 / 3600"
   ]
  },
  {
   "cell_type": "code",
   "execution_count": 18,
   "metadata": {
    "ExecuteTime": {
     "end_time": "2018-06-25T18:54:48.874730Z",
     "start_time": "2018-06-25T18:54:41.847386Z"
    }
   },
   "outputs": [
    {
     "name": "stdout",
     "output_type": "stream",
     "text": [
      "85.4 µs ± 1.14 µs per loop (mean ± std. dev. of 7 runs, 10000 loops each)\n"
     ]
    }
   ],
   "source": [
    "%%timeit\n",
    "a = t.evl('?y-+2W-3w-12H:00M:00S')\n"
   ]
  },
  {
   "cell_type": "code",
   "execution_count": 21,
   "metadata": {
    "ExecuteTime": {
     "end_time": "2018-06-25T18:56:24.233320Z",
     "start_time": "2018-06-25T18:56:19.141440Z"
    }
   },
   "outputs": [
    {
     "name": "stdout",
     "output_type": "stream",
     "text": [
      "61.5 µs ± 895 ns per loop (mean ± std. dev. of 7 runs, 10000 loops each)\n"
     ]
    }
   ],
   "source": [
    "%%timeit\n",
    "a = t.evl('?y-?m-?d-?H:00M:00S')"
   ]
  },
  {
   "cell_type": "code",
   "execution_count": 23,
   "metadata": {
    "ExecuteTime": {
     "end_time": "2018-06-25T19:04:16.170729Z",
     "start_time": "2018-06-25T19:04:16.163926Z"
    }
   },
   "outputs": [],
   "source": [
    "df = pd.DataFrame([{'key_word':'明天','expression':'?y-?m-+1d-12H:00M:00S'}])"
   ]
  },
  {
   "cell_type": "code",
   "execution_count": 25,
   "metadata": {
    "ExecuteTime": {
     "end_time": "2018-06-25T19:05:14.503642Z",
     "start_time": "2018-06-25T19:05:14.484117Z"
    }
   },
   "outputs": [],
   "source": [
    "df.to_csv('mapping.csv',encoding='utf-8',index=False)"
   ]
  },
  {
   "cell_type": "code",
   "execution_count": 51,
   "metadata": {
    "ExecuteTime": {
     "end_time": "2018-06-25T19:17:46.664837Z",
     "start_time": "2018-06-25T19:17:46.645152Z"
    }
   },
   "outputs": [],
   "source": [
    "df = pd.read_csv('mapping.csv')\n",
    "# create length\n",
    "df['length'] = df.key_word.apply(lambda x: len(x))\n",
    "df = df.sort_values(['length','key_word'], ascending=False)\n",
    "df_series = pd.Series(index=df.key_word.values, data=df.expression.values)\n",
    "df_dict = df_series.to_dict()"
   ]
  },
  {
   "cell_type": "code",
   "execution_count": 54,
   "metadata": {
    "ExecuteTime": {
     "end_time": "2018-06-25T19:18:03.413266Z",
     "start_time": "2018-06-25T19:18:03.407164Z"
    }
   },
   "outputs": [
    {
     "data": {
      "text/plain": [
       "array(['明天下午', '后天下午', '两周后', '一周后', '2周后', '1周后', '明天', '后天'], dtype=object)"
      ]
     },
     "execution_count": 54,
     "metadata": {},
     "output_type": "execute_result"
    }
   ],
   "source": [
    "df_series.index.values"
   ]
  },
  {
   "cell_type": "code",
   "execution_count": 49,
   "metadata": {
    "ExecuteTime": {
     "end_time": "2018-06-25T19:16:21.895944Z",
     "start_time": "2018-06-25T19:16:21.872069Z"
    }
   },
   "outputs": [
    {
     "data": {
      "text/html": [
       "<div>\n",
       "<style>\n",
       "    .dataframe thead tr:only-child th {\n",
       "        text-align: right;\n",
       "    }\n",
       "\n",
       "    .dataframe thead th {\n",
       "        text-align: left;\n",
       "    }\n",
       "\n",
       "    .dataframe tbody tr th {\n",
       "        vertical-align: top;\n",
       "    }\n",
       "</style>\n",
       "<table border=\"1\" class=\"dataframe\">\n",
       "  <thead>\n",
       "    <tr style=\"text-align: right;\">\n",
       "      <th></th>\n",
       "      <th>expression</th>\n",
       "      <th>key_word</th>\n",
       "      <th>length</th>\n",
       "    </tr>\n",
       "  </thead>\n",
       "  <tbody>\n",
       "    <tr>\n",
       "      <th>1</th>\n",
       "      <td>?y-?m-+1d-15H:00M:00S</td>\n",
       "      <td>明天下午</td>\n",
       "      <td>4</td>\n",
       "    </tr>\n",
       "    <tr>\n",
       "      <th>2</th>\n",
       "      <td>?y-?m-+2d-15H:00M:00S</td>\n",
       "      <td>后天下午</td>\n",
       "      <td>4</td>\n",
       "    </tr>\n",
       "    <tr>\n",
       "      <th>7</th>\n",
       "      <td>?y-+2W-?w-12H:00M:00S</td>\n",
       "      <td>两周后</td>\n",
       "      <td>3</td>\n",
       "    </tr>\n",
       "    <tr>\n",
       "      <th>4</th>\n",
       "      <td>?y-+1W-?w-12H:00M:00S</td>\n",
       "      <td>一周后</td>\n",
       "      <td>3</td>\n",
       "    </tr>\n",
       "    <tr>\n",
       "      <th>6</th>\n",
       "      <td>?y-+2W-?w-12H:00M:00S</td>\n",
       "      <td>2周后</td>\n",
       "      <td>3</td>\n",
       "    </tr>\n",
       "    <tr>\n",
       "      <th>5</th>\n",
       "      <td>?y-+1W-?w-12H:00M:00S</td>\n",
       "      <td>1周后</td>\n",
       "      <td>3</td>\n",
       "    </tr>\n",
       "    <tr>\n",
       "      <th>0</th>\n",
       "      <td>?y-?m-+1d-12H:00M:00S</td>\n",
       "      <td>明天</td>\n",
       "      <td>2</td>\n",
       "    </tr>\n",
       "    <tr>\n",
       "      <th>3</th>\n",
       "      <td>?y-?m-+2d-12H:00M:00S</td>\n",
       "      <td>后天</td>\n",
       "      <td>2</td>\n",
       "    </tr>\n",
       "  </tbody>\n",
       "</table>\n",
       "</div>"
      ],
      "text/plain": [
       "              expression key_word  length\n",
       "1  ?y-?m-+1d-15H:00M:00S     明天下午       4\n",
       "2  ?y-?m-+2d-15H:00M:00S     后天下午       4\n",
       "7  ?y-+2W-?w-12H:00M:00S      两周后       3\n",
       "4  ?y-+1W-?w-12H:00M:00S      一周后       3\n",
       "6  ?y-+2W-?w-12H:00M:00S      2周后       3\n",
       "5  ?y-+1W-?w-12H:00M:00S      1周后       3\n",
       "0  ?y-?m-+1d-12H:00M:00S       明天       2\n",
       "3  ?y-?m-+2d-12H:00M:00S       后天       2"
      ]
     },
     "execution_count": 49,
     "metadata": {},
     "output_type": "execute_result"
    }
   ],
   "source": [
    "df = df.sort_values(['length','key_word'], ascending=False)"
   ]
  },
  {
   "cell_type": "code",
   "execution_count": null,
   "metadata": {
    "collapsed": true
   },
   "outputs": [],
   "source": []
  }
 ],
 "metadata": {
  "kernelspec": {
   "display_name": "Python 3",
   "language": "python",
   "name": "python3"
  },
  "language_info": {
   "codemirror_mode": {
    "name": "ipython",
    "version": 3
   },
   "file_extension": ".py",
   "mimetype": "text/x-python",
   "name": "python",
   "nbconvert_exporter": "python",
   "pygments_lexer": "ipython3",
   "version": "3.6.3"
  },
  "varInspector": {
   "cols": {
    "lenName": 16,
    "lenType": 16,
    "lenVar": 40
   },
   "kernels_config": {
    "python": {
     "delete_cmd_postfix": "",
     "delete_cmd_prefix": "del ",
     "library": "var_list.py",
     "varRefreshCmd": "print(var_dic_list())"
    },
    "r": {
     "delete_cmd_postfix": ") ",
     "delete_cmd_prefix": "rm(",
     "library": "var_list.r",
     "varRefreshCmd": "cat(var_dic_list()) "
    }
   },
   "types_to_exclude": [
    "module",
    "function",
    "builtin_function_or_method",
    "instance",
    "_Feature"
   ],
   "window_display": false
  }
 },
 "nbformat": 4,
 "nbformat_minor": 2
}
