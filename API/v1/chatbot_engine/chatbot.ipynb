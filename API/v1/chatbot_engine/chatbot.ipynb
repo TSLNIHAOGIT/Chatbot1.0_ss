{
 "cells": [
  {
   "cell_type": "code",
   "execution_count": 1,
   "metadata": {
    "ExecuteTime": {
     "end_time": "2018-06-10T02:19:58.532798Z",
     "start_time": "2018-06-10T02:19:58.129503Z"
    },
    "collapsed": true
   },
   "outputs": [],
   "source": [
    "from flask import Flask, request\n",
    "from flask_restful import Resource, Api\n",
    "from json import dumps\n",
    "# from flask.ext.jsonpify import jsonify\n",
    "from flask_jsonpify import jsonify\n",
    "import pandas as pd\n",
    "import numpy as np\n",
    "import json\n"
   ]
  },
  {
   "cell_type": "code",
   "execution_count": 17,
   "metadata": {
    "ExecuteTime": {
     "end_time": "2018-06-10T02:37:02.345997Z",
     "start_time": "2018-06-10T02:37:02.155718Z"
    }
   },
   "outputs": [],
   "source": [
    "app = Flask(__name__)\n",
    "api = Api(app)\n",
    "\n",
    "# class ChatBot(Resource):\n",
    "#     def get(self):\n",
    "#         args = request.args\n",
    "#         try:\n",
    "#             return {'Chatbot': 'Hellow World! ' + args.get('data')}\n",
    "#         except Exception as e:\n",
    "#             print(e)\n",
    "#             return {'Chatbot': 'Hellow World! ' }\n",
    "    \n",
    "class Cache:\n",
    "    def __init__(self):\n",
    "        self.session_pool = []\n",
    "        self.active_session = {}\n",
    "        \n",
    "        \n",
    "    def create_session(self, stage=1):\n",
    "        available = list(set(range(1000)) - set(self.session_pool))\n",
    "        if len(available) > 0:\n",
    "            sessionId = available[0]\n",
    "            self.session_pool.append(sessionId)\n",
    "            if stage == 1:\n",
    "                self.active_session[sessionId] = TreeStage1(node_pool)\n",
    "        else:\n",
    "            sessionId = None\n",
    "        return sessionId\n",
    "    \n",
    "    \n",
    "    \n",
    "class CacheV1:\n",
    "    def __init__(self):\n",
    "        self.s1 = TreeStage1(node_pool)\n",
    "        \n",
    "    \n",
    "            \n",
    "            \n",
    "\n",
    "    \n",
    "\n",
    "class ChatBot(Resource):\n",
    "    \n",
    "\n",
    "    \n",
    "    \n",
    "    def get(self):\n",
    "        args = request.args\n",
    "        try:\n",
    "            action = args.get('action')\n",
    "            print(action)\n",
    "        except Exception as e:\n",
    "            return {'message': 'No action secified', 'status':'fail'}\n",
    "        \n",
    "        if action == 'create':\n",
    "            sessionId = cache.create_session()\n",
    "#             return {'test':'1'}\n",
    "            \n",
    "            return {'message':{'sessionId':sessionId}, 'status': 'successful'} \n",
    "        else:\n",
    "            return {'message':'undefined action --- {}'.format(action)}\n",
    "        \n",
    "class ChatBotV1(Resource):\n",
    "    \n",
    "\n",
    "    \n",
    "    \n",
    "    def get(self):\n",
    "        args = request.args\n",
    "        action = args.get('action')\n",
    "        if action == 'create':\n",
    "            sessionId = cache.create_session()\n",
    "            return {'message': {'sessionId':sessionId}, \n",
    "                    'status': 'successful'}\n",
    "        elif action == 'chat':\n",
    "            sessionId = args.get('sessionId')\n",
    "            try:\n",
    "                s = cache.active_session[int(sessionId)]\n",
    "            except KeyError:\n",
    "                return {'message': 'unknown session Id or session expired. Requested Session id is {}'.format(sessionId), 'status': 'failed'}\n",
    "            data = args.get('data')\n",
    "            message = s.classify(data, model_dict)\n",
    "            return {'message': message, \n",
    "                    'status': 'successful'}\n",
    "        else:\n",
    "            return {'message': 'Unknown Action! Received {} action'.format(action),\n",
    "                    'status': 'failed'}\n",
    "        \n",
    "        \n",
    "        \n",
    "            \n",
    "        \n",
    "        \n",
    "api.add_resource(ChatBotV1, '/chatbotv1')\n",
    "cache = Cache()"
   ]
  },
  {
   "cell_type": "code",
   "execution_count": null,
   "metadata": {
    "ExecuteTime": {
     "start_time": "2018-06-10T02:36:55.533Z"
    }
   },
   "outputs": [
    {
     "name": "stderr",
     "output_type": "stream",
     "text": [
      " * Running on http://0.0.0.0:8889/ (Press CTRL+C to quit)\n",
      "127.0.0.1 - - [10/Jun/2018 02:37:10] \"GET /chatbotv1?action=create HTTP/1.1\" 200 -\n"
     ]
    },
    {
     "name": "stdout",
     "output_type": "stream",
     "text": [
      "s0 is initialized\n",
      "cf_s1_n1_identity_q is initialized\n",
      "cf_s1_n5_ifAcquainted_q is initialized\n",
      "cf_s1_n6_verifyDebt_q is initialized\n",
      "cf_s1_n15_verifyWill_q is initialized\n",
      "cf_s1_n20_q4_setDue3Day is initialized\n",
      "cf_s1_n26_paymentChannel_q is initialized\n",
      "cf_s1_n25_cutDebt_q is initialized\n",
      "cf_s1_n32_splitDebt_q is initialized\n",
      "cf_s1_n33_setCutDebtDue_q is initialized\n",
      "cf_s1_n41_setSplitDebtDue_q is initialized\n",
      "cf_s1_n42_paymentChannel_q is initialized\n",
      "cf_s1_n43_nextAppointment_q is initialized\n",
      "cf_s1_n50_nextAppointment_q is initialized\n",
      "cf_s1_n51_paymentChannel_q is initialized\n"
     ]
    },
    {
     "name": "stderr",
     "output_type": "stream",
     "text": [
      "127.0.0.1 - - [10/Jun/2018 02:37:20] \"GET /chatbotv1?action=create HTTP/1.1\" 200 -\n"
     ]
    },
    {
     "name": "stdout",
     "output_type": "stream",
     "text": [
      "s0 is initialized\n",
      "cf_s1_n1_identity_q is initialized\n",
      "cf_s1_n5_ifAcquainted_q is initialized\n",
      "cf_s1_n6_verifyDebt_q is initialized\n",
      "cf_s1_n15_verifyWill_q is initialized\n",
      "cf_s1_n20_q4_setDue3Day is initialized\n",
      "cf_s1_n26_paymentChannel_q is initialized\n",
      "cf_s1_n25_cutDebt_q is initialized\n",
      "cf_s1_n32_splitDebt_q is initialized\n",
      "cf_s1_n33_setCutDebtDue_q is initialized\n",
      "cf_s1_n41_setSplitDebtDue_q is initialized\n",
      "cf_s1_n42_paymentChannel_q is initialized\n",
      "cf_s1_n43_nextAppointment_q is initialized\n",
      "cf_s1_n50_nextAppointment_q is initialized\n",
      "cf_s1_n51_paymentChannel_q is initialized\n"
     ]
    },
    {
     "name": "stderr",
     "output_type": "stream",
     "text": [
      "127.0.0.1 - - [10/Jun/2018 02:37:50] \"GET /chatbotv1?data=%E4%BD%A0%E5%A5%BD&action=chat&sessionId=0 HTTP/1.1\" 200 -\n"
     ]
    },
    {
     "name": "stdout",
     "output_type": "stream",
     "text": [
      "Current node name: s0\n",
      "predict label is 0 and confidence is 1\n",
      "now go to label cf_s1_n1_identity_q\n",
      "你好，这里是H催收公司，请问是罗巍先生吗？\n"
     ]
    },
    {
     "name": "stderr",
     "output_type": "stream",
     "text": [
      "127.0.0.1 - - [10/Jun/2018 02:37:54] \"GET /chatbotv1?data=%E6%98%AF%E7%9A%84&action=chat&sessionId=0 HTTP/1.1\" 200 -\n"
     ]
    },
    {
     "name": "stdout",
     "output_type": "stream",
     "text": [
      "Current node name: cf_s1_n1_identity_q\n",
      "predict label is 0 and confidence is 0.9477487797646565\n",
      "now go to label cf_s1_n6_verifyDebt_q\n",
      "你好，我是H催收公司的客服小催，您之前借贷了H公司5万块钱，约定在2018年5月1日还清。您已还款3万2千块钱，但因逾期未还产生了相应的利息和延迟还款费用，现在一共需要还2万块钱，其中1.2万本金，1500利息，500延迟还款手续费用，请问您打算什么时候处理下呢？\n"
     ]
    }
   ],
   "source": [
    "app.run(host='0.0.0.0', port='8889')"
   ]
  },
  {
   "cell_type": "code",
   "execution_count": 14,
   "metadata": {
    "ExecuteTime": {
     "end_time": "2018-06-10T02:36:54.076612Z",
     "start_time": "2018-06-10T02:36:52.293101Z"
    },
    "collapsed": true
   },
   "outputs": [],
   "source": [
    "import pickle\n",
    "\n",
    "class ClassifierBase:\n",
    "    def load_model(self,**path):\n",
    "        \n",
    "        load_path = path.get('tfidf')\n",
    "        if load_path is not None:\n",
    "            self.tfidf = pickle.load(open(load_path, 'rb'))\n",
    "            print('tfidf load successfully')\n",
    "            \n",
    "        load_path = path.get('svc')\n",
    "        if load_path is not None:\n",
    "            self.svc = pickle.load(open(load_path, 'rb'))\n",
    "            print('svc load successfully')\n",
    "            \n",
    "        load_path = path.get('lightgbm')\n",
    "        if load_path is not None:\n",
    "            self.lightgbm = pickle.load(open(load_path, 'rb'))\n",
    "            print('lightgbm load successfully')\n",
    "            \n",
    "        load_path = path.get('logistic')\n",
    "        if load_path is not None:\n",
    "            self.logistic = pickle.load(open(load_path, 'rb'))\n",
    "            print('logistic load successfully')\n",
    "            \n",
    "            \n",
    "####### classifier 0\n",
    "####### InitClassifier\n",
    "\n",
    "class InitClassifier(ClassifierBase):\n",
    "    def __init__(self, **model_path):\n",
    "        self.load_model(**model_path)\n",
    "        self.description = 'This model is used to initialize conversation'\n",
    "        self.label_explain = {0: 'next'}\n",
    "        \n",
    "    \n",
    "            \n",
    "            \n",
    "    def classify(self,sentence):\n",
    "        \"\"\"\n",
    "        0 - next\n",
    "        \"\"\"\n",
    "        \n",
    "        return (0, 1)\n",
    "\n",
    "####### classifier 1\n",
    "####### ID classifier\n",
    "\n",
    "class IDClassifier(ClassifierBase):\n",
    "    def __init__(self, **model_path):\n",
    "        self.load_model(**model_path)\n",
    "        self.description = 'This model is used to identify whether the one who receive the call is the debtor'\n",
    "        self.label_explain = {0:'is the debetor', 1: 'is not the debetor', 2:'irrelevent answer'}\n",
    "        \n",
    "    \n",
    "            \n",
    "            \n",
    "    def classify(self,sentence):\n",
    "        \"\"\"\n",
    "        0 - yes\n",
    "        1- no\n",
    "        2 - irrelavant\n",
    "        \"\"\"\n",
    "        matrix = self.tfidf.transform([sentence])\n",
    "        result = np.vstack((self.svc.predict_proba(matrix),\n",
    "                            self.logistic.predict_proba(matrix),\n",
    "                            self.lightgbm.predict(matrix)))\n",
    "        max_pred = np.max(result, axis=0)\n",
    "        max_arg = np.argmax(max_pred)\n",
    "        threshold = 0.6\n",
    "        if np.max(max_pred)<threshold:\n",
    "            label = 2\n",
    "        else:\n",
    "            label = max_arg\n",
    "        return (label, np.max(max_pred))\n",
    "    \n",
    "    \n",
    "    \n",
    "####### classifier 2\n",
    "###### Owing Truth Acknowledge\n",
    "\n",
    "class Classifier2(ClassifierBase):\n",
    "    def __init__(self, **model_path):\n",
    "        self.load_model(**model_path)\n",
    "        self.description = 'This model is used to justify whether the debtor admit he is responsible for paying the balance'\n",
    "        self.label_explain = {0:'acknowledge', 1: 'deny', 2:'irrelevent answer'}\n",
    "        \n",
    "    def load_model(self,**path):\n",
    "        \n",
    "        load_path = path.get('tfidf')\n",
    "        if load_path is not None:\n",
    "            self.tfidf = pickle.load(open(load_path, 'rb'))\n",
    "            \n",
    "        load_path = path.get('svc')\n",
    "        if load_path is not None:\n",
    "            self.svc = pickle.load(open(load_path, 'rb'))\n",
    "            \n",
    "            \n",
    "    def classify(self,sentence):\n",
    "        matrix = self.tfidf.transform(sentence)\n",
    "        result = self.svc.predict_proba(matrix)\n",
    "        max_index = np.argmax(result)\n",
    "        return (np.argmax(result), np.max(result))\n",
    "    \n",
    "    \n",
    "####### classifier 3\n",
    "####### justify if the debtor is willing to pay\n",
    "\n",
    "class Classifier3(ClassifierBase):\n",
    "    def __init__(self, **model_path):\n",
    "        self.load_model(**model_path)\n",
    "        self.description = 'This model is used to justify whether the debtor is willing to pay the balance'\n",
    "        self.label_explain = {0:'willing to pay', \n",
    "                              1: 'partial or installment', \n",
    "                              2: 'not want to pay',\n",
    "                              3:'irrelevent answer'}\n",
    "        \n",
    "    def load_model(self,**path):\n",
    "        \n",
    "        load_path = path.get('tfidf')\n",
    "        if load_path is not None:\n",
    "            self.tfidf = pickle.load(open(load_path, 'rb'))\n",
    "            \n",
    "        load_path = path.get('svc')\n",
    "        if load_path is not None:\n",
    "            self.svc = pickle.load(open(load_path, 'rb'))\n",
    "            \n",
    "            \n",
    "    def classify(self,sentence):\n",
    "        matrix = self.tfidf.transform(sentence)\n",
    "        result = self.svc.predict_proba(matrix)\n",
    "        max_index = np.argmax(result)\n",
    "        return (np.argmax(result), np.max(result))\n",
    "    \n",
    "    \n",
    "####### classifier 4\n",
    "####### justify if the debtor is able to pay within 3-7 days\n",
    "\n",
    "class Classifier4(ClassifierBase):\n",
    "    def __init__(self, **model_path):\n",
    "        self.load_model(**model_path)\n",
    "        self.description = 'This model is used to justify whether the debtor is able to pay within 3 to 7 days'\n",
    "        self.label_explain = {0:'able to pay within 3-7 days', \n",
    "                              1: 'cannot make it within 3-7 days', \n",
    "                              2:'irrelevent answer'}\n",
    "        \n",
    "    def load_model(self,**path):\n",
    "        \n",
    "        load_path = path.get('tfidf')\n",
    "        if load_path is not None:\n",
    "            self.tfidf = pickle.load(open(load_path, 'rb'))\n",
    "            \n",
    "        load_path = path.get('svc')\n",
    "        if load_path is not None:\n",
    "            self.svc = pickle.load(open(load_path, 'rb'))\n",
    "            \n",
    "            \n",
    "    def classify(self,sentence):\n",
    "        matrix = self.tfidf.transform(sentence)\n",
    "        result = self.svc.predict_proba(matrix)\n",
    "        max_index = np.argmax(result)\n",
    "        return (np.argmax(result), np.max(result))\n",
    "    \n",
    "    \n",
    "####### classifier 5\n",
    "####### justify if the debtor accept pay off less amount\n",
    "\n",
    "class Classifier5(ClassifierBase):\n",
    "    def __init__(self, **model_path):\n",
    "        self.load_model(**model_path)\n",
    "        self.description = 'This model is used to justify whether the debtor accept paying off less amount'\n",
    "        self.label_explain = {0:'accept', \n",
    "                              1: 'cannot accept', \n",
    "                              2:'irrelevent answer'}\n",
    "        \n",
    "    def load_model(self,**path):\n",
    "        \n",
    "        load_path = path.get('tfidf')\n",
    "        if load_path is not None:\n",
    "            self.tfidf = pickle.load(open(load_path, 'rb'))\n",
    "            \n",
    "        load_path = path.get('svc')\n",
    "        if load_path is not None:\n",
    "            self.svc = pickle.load(open(load_path, 'rb'))\n",
    "            \n",
    "            \n",
    "    def classify(self,sentence):\n",
    "        matrix = self.tfidf.transform(sentence)\n",
    "        result = self.svc.predict_proba(matrix)\n",
    "        max_index = np.argmax(result)\n",
    "        return (np.argmax(result), np.max(result))\n",
    "    \n",
    "    \n",
    "####### classifier 6\n",
    "####### justify if the debtor accept installments\n",
    "\n",
    "class Classifier6(ClassifierBase):\n",
    "    def __init__(self, **model_path):\n",
    "        self.load_model(**model_path)\n",
    "        self.description = 'This model is used to justify whether the debtor accept installment'\n",
    "        self.label_explain = {0:'accept', \n",
    "                              1: 'cannot accept', \n",
    "                              2:'irrelevent answer'}\n",
    "        \n",
    "    def load_model(self,**path):\n",
    "        \n",
    "        load_path = path.get('tfidf')\n",
    "        if load_path is not None:\n",
    "            self.tfidf = pickle.load(open(load_path, 'rb'))\n",
    "            \n",
    "        load_path = path.get('svc')\n",
    "        if load_path is not None:\n",
    "            self.svc = pickle.load(open(load_path, 'rb'))\n",
    "            \n",
    "            \n",
    "    def classify(self,sentence):\n",
    "        matrix = self.tfidf.transform(sentence)\n",
    "        result = self.svc.predict_proba(matrix)\n",
    "        max_index = np.argmax(result)\n",
    "        return (np.argmax(result), np.max(result))\n",
    "    \n",
    "####### classifier 7\n",
    "####### justify whether the speaker know debtor \n",
    "\n",
    "class IfKnowDebtor(ClassifierBase):\n",
    "    def __init__(self, **model_path):\n",
    "        self.load_model(**model_path)\n",
    "        self.description = 'This model is used to justify whether the speak know debtor'\n",
    "        self.label_explain = ''\n",
    "        \n",
    "            \n",
    "            \n",
    "    def classify(self,sentence):\n",
    "        \"\"\"\n",
    "        0 - know debtor\n",
    "        1- do not know\n",
    "        2 - irrelavant\n",
    "        \"\"\"\n",
    "        matrix = self.tfidf.transform([sentence])\n",
    "        result = np.vstack((self.svc.predict_proba(matrix),\n",
    "                            self.logistic.predict_proba(matrix),\n",
    "                            self.lightgbm.predict(matrix)))\n",
    "        max_pred = np.max(result, axis=0)\n",
    "        max_arg = np.argmax(max_pred)\n",
    "        threshold = 0.7\n",
    "        if np.max(max_pred)<threshold:\n",
    "            label = 2\n",
    "        else:\n",
    "            label = max_arg\n",
    "        return (label, np.max(max_pred))\n",
    "    \n",
    "    \n",
    "    \n",
    "####### classifier8\n",
    "####### schedule next call\n",
    "\n",
    "class Classifier8(ClassifierBase):\n",
    "    def __init__(self, **model_path):\n",
    "        self.load_model(**model_path)\n",
    "        self.description = 'This model is used to schedule next appointment with the debtor'\n",
    "        self.label_explain = ''\n",
    "        \n",
    "    def load_model(self,**path):\n",
    "        \n",
    "        load_path = path.get('tfidf')\n",
    "        if load_path is not None:\n",
    "            self.tfidf = pickle.load(open(load_path, 'rb'))\n",
    "            \n",
    "        load_path = path.get('svc')\n",
    "        if load_path is not None:\n",
    "            self.svc = pickle.load(open(load_path, 'rb'))\n",
    "            \n",
    "            \n",
    "    def classify(self,sentence):\n",
    "        matrix = self.tfidf.transform(sentence)\n",
    "        result = self.svc.predict_proba(matrix)\n",
    "        max_index = np.argmax(result)\n",
    "        return (np.argmax(result), np.max(result))\n",
    "    \n",
    "    \n",
    "####### classifier 9\n",
    "####### notify  Payment methods\n",
    "\n",
    "class Classifier9(ClassifierBase):\n",
    "    def __init__(self, **model_path):\n",
    "        self.load_model(**model_path)\n",
    "        self.description = 'notify  Payment methods'\n",
    "        self.label_explain = ''\n",
    "        \n",
    "    def load_model(self,**path):\n",
    "        \n",
    "        load_path = path.get('tfidf')\n",
    "        if load_path is not None:\n",
    "            self.tfidf = pickle.load(open(load_path, 'rb'))\n",
    "            \n",
    "        load_path = path.get('svc')\n",
    "        if load_path is not None:\n",
    "            self.svc = pickle.load(open(load_path, 'rb'))\n",
    "            \n",
    "            \n",
    "    def classify(self,sentence):\n",
    "        matrix = self.tfidf.transform(sentence)\n",
    "        result = self.svc.predict_proba(matrix)\n",
    "        max_index = np.argmax(result)\n",
    "        return (np.argmax(result), np.max(result))\n",
    "    \n",
    "    \n",
    "\n",
    "            \n"
   ]
  },
  {
   "cell_type": "code",
   "execution_count": null,
   "metadata": {
    "ExecuteTime": {
     "end_time": "2018-06-10T02:36:54.122318Z",
     "start_time": "2018-06-10T02:36:45.353Z"
    },
    "collapsed": true
   },
   "outputs": [],
   "source": [
    "\n",
    "\n",
    "\n",
    "class Node:\n",
    "    def __init__(self, node_name):\n",
    "        self.name = node_name\n",
    "        self.jump_action = False\n",
    "        print('{} is initialized'.format(node_name))\n",
    "        \n",
    "        \n",
    "    def summary(self):\n",
    "        return {'node_name': self.name, \n",
    "                'jump_action':self.jump_action, \n",
    "                'description':self.describe, \n",
    "                'class_name':self.__class__.__name__, \n",
    "                'model': self.model_name}\n",
    "    \n",
    "    \n",
    "        \n",
    "###################### Node 0  #########################\n",
    "class S1_N0(Node):\n",
    "    def __init__(self):\n",
    "        super().__init__('s0')\n",
    "        self.describe = 'Init node'\n",
    "        self.model_name = 'InitClassifier'       \n",
    "    \n",
    "        \n",
    "        \n",
    "       \n",
    "        \n",
    "###################### Node 1  #########################\n",
    "class S1_N1(Node):\n",
    "    def __init__(self):\n",
    "        super().__init__('cf_s1_n1_identity_q')\n",
    "        self.describe = 'Verify Identify'\n",
    "        self.model_name = 'IDClassifier'\n",
    "        self.response = '你好，这里是H催收公司，请问是罗巍先生吗？'\n",
    "        \n",
    "\n",
    "    \n",
    "    \n",
    "\n",
    "       \n",
    "        \n",
    "        \n",
    "#######################  Node 2  #############################        \n",
    "class S1_N5(Node):\n",
    "    def __init__(self):\n",
    "        super().__init__('cf_s1_n5_ifAcquainted_q')\n",
    "        self.describe = 'Ask if know debtor'\n",
    "        self.model_name = 'IfKnowDebtor'\n",
    "        self.response = '不好意思，打扰了，如果您认识罗先生，还请告诉他尽快与H公司联系。再见！'\n",
    "        \n",
    "        \n",
    "\n",
    "#########################  Node 3  ###########################        \n",
    "class S1_N6(Node):\n",
    "    def __init__(self):\n",
    "        super().__init__('cf_s1_n6_verifyDebt_q')\n",
    "        self.describe = 'Verify awareness of owing'\n",
    "        self.model_name = 'Classifier 3'\n",
    "        self.response = '你好，我是H催收公司的客服小催，您之前借贷了H公司5万块钱，约定在2018年5月1日还清。您已还款3万2千块钱，但因逾期未还产生了相应的利息和延迟还款费用，现在一共需要还2万块钱，其中1.2万本金，1500利息，500延迟还款手续费用，请问您打算什么时候处理下呢？'\n",
    "\n",
    "##########################  Node 4  ##########################        \n",
    "class S1_N15(Node):\n",
    "    def __init__(self):\n",
    "        super().__init__('cf_s1_n15_verifyWill_q')\n",
    "        self.describe = 'Verify willing to pay'\n",
    "        self.model_name = 'Classifier 4'\n",
    "       \n",
    "    \n",
    "#########################  Node 5  ###########################        \n",
    "class S1_N20(Node):\n",
    "    def __init__(self):\n",
    "        super().__init__('cf_s1_n20_q4_setDue3Day')\n",
    "        self.describe = 'ask if can pay very soon'\n",
    "        self.model_name = 'Classifier 5'\n",
    "        \n",
    "#########################  Node 6  ###########################        \n",
    "class S1_N26(Node):\n",
    "    def __init__(self):\n",
    "        super().__init__('cf_s1_n26_paymentChannel_q')\n",
    "        self.describe = 'notify methods of paying'\n",
    "        self.model_name = 'Classifier 6'\n",
    "        \n",
    "        \n",
    "#########################  Node 7  ###########################        \n",
    "class S1_N25(Node):\n",
    "    def __init__(self):\n",
    "        super().__init__('cf_s1_n25_cutDebt_q')\n",
    "        self.describe = 'ask if accept less amount'\n",
    "        self.model_name = 'Classifier 7'\n",
    "        \n",
    "#########################  Node 8  ###########################        \n",
    "class S1_N32(Node):\n",
    "    def __init__(self):\n",
    "        super().__init__('cf_s1_n32_splitDebt_q')\n",
    "        self.describe = 'ask if accept installment'\n",
    "        self.model_name = 'Classifier 8'\n",
    "        \n",
    "#########################  Node 9  ###########################        \n",
    "class S1_N33(Node):\n",
    "    def __init__(self):\n",
    "        super().__init__('cf_s1_n33_setCutDebtDue_q')\n",
    "        self.describe = 'ask if can pay very soon'\n",
    "        self.model_name = 'Classifier 5'\n",
    "        \n",
    "#########################  Node 10  ###########################        \n",
    "class S1_N41(Node):\n",
    "    def __init__(self):\n",
    "        super().__init__('cf_s1_n41_setSplitDebtDue_q')\n",
    "        self.describe = 'ask if can pay very soon'\n",
    "        self.model_name = 'Classifier 5'\n",
    "        self.jump_action = True\n",
    "        \n",
    "#########################  Node 11  ###########################        \n",
    "class S1_N42(Node):\n",
    "    def __init__(self):\n",
    "        super().__init__('cf_s1_n42_paymentChannel_q')\n",
    "        self.describe = 'notify methods of paying'\n",
    "        self.model_name = 'Classifier 6'\n",
    "        \n",
    "#########################  Node 12  ###########################        \n",
    "class S1_N43(Node):\n",
    "    def __init__(self):\n",
    "        super().__init__('cf_s1_n43_nextAppointment_q')\n",
    "        self.describe = 'confirm next appointment'\n",
    "        self.model_name = 'RegularExp 1'\n",
    "        \n",
    "#########################  Node 13  ###########################        \n",
    "class S1_N50(Node):\n",
    "    def __init__(self):\n",
    "        super().__init__('cf_s1_n50_nextAppointment_q')\n",
    "        self.describe = 'confirm next appointment'\n",
    "        self.model_name = 'RegularExp 1'\n",
    "        \n",
    "#########################  Node 14  ###########################        \n",
    "class S1_N51(Node):\n",
    "    def __init__(self):\n",
    "        super().__init__('cf_s1_n51_paymentChannel_q')\n",
    "        self.describe = 'notify methods of paying'\n",
    "        self.model_name = 'Classifier 6'\n",
    "        \n",
    "########################################################################################################################\n",
    "######################################### Tree #########################################################################\n",
    "######################################### Tree #########################################################################\n",
    "######################################### Tree #########################################################################\n",
    "######################################### Tree #########################################################################\n",
    "######################################### Tree #########################################################################\n",
    "######################################### Tree #########################################################################\n",
    "######################################### Tree #########################################################################\n",
    "      \n",
    "        \n",
    "class TreeBase:\n",
    "    def __init__(self, node_pool, start_node='cf_s1_n1_identity_q', ):\n",
    "        self.current_node_name = start_node\n",
    "        self.node_pool = self.__get_nodePool(node_pool)\n",
    "        \n",
    "    def __get_nodePool(self, node_pool):\n",
    "        diction = {}\n",
    "        nodes_name = []\n",
    "        for node in node_pool:\n",
    "            cur = node()\n",
    "            diction[cur.name] = cur\n",
    "            nodes_name.append(cur.name)\n",
    "        self.nodes_name = nodes_name\n",
    "        return diction\n",
    "    \n",
    "class TreeStage1(TreeBase):\n",
    "    def __init__(self, node_pool, start_node='s0'):\n",
    "        super().__init__(node_pool, start_node='s0')\n",
    "        self.build_graph()\n",
    "        \n",
    "    def build_graph(self):\n",
    "        self.graph = {}\n",
    "        self.graph.update({\n",
    "                            's0':{0:'cf_s1_n1_identity_q'},\n",
    "\n",
    "                            'cf_s1_n1_identity_q': {0: 'cf_s1_n6_verifyDebt_q', \n",
    "                                               1: 'cf_s1_n5_ifAcquainted_q', \n",
    "                                               2:'other'},\n",
    "                            'cf_s1_n5_ifAcquainted_q': {0: 'know', \n",
    "                                               1: 'do not know', \n",
    "                                               2:'other'}})\n",
    "        \n",
    "    def classify(self, sentence, model_dict):\n",
    "        current_node = self.node_pool[self.current_node_name]\n",
    "        \n",
    "        # classify\n",
    "        print('Current node name: {}'.format(self.current_node_name))\n",
    "        model = model_dict[current_node.model_name]\n",
    "        label, confidence = model.classify(sentence)\n",
    "        print('predict label is {} and confidence is {}'.format(label, confidence))\n",
    "        \n",
    "        # update current node\n",
    "        self.current_node_name = self.graph[self.current_node_name][label]\n",
    "        print('now go to label {}'.format(self.current_node_name))\n",
    "        updated_node = self.node_pool[self.current_node_name]\n",
    "        print(updated_node.response)\n",
    "        \n",
    "        return updated_node.response"
   ]
  },
  {
   "cell_type": "code",
   "execution_count": 15,
   "metadata": {
    "ExecuteTime": {
     "end_time": "2018-06-10T02:36:55.407117Z",
     "start_time": "2018-06-10T02:36:55.229576Z"
    }
   },
   "outputs": [
    {
     "name": "stdout",
     "output_type": "stream",
     "text": [
      "tfidf load successfully\n",
      "svc load successfully\n",
      "lightgbm load successfully\n",
      "logistic load successfully\n",
      "tfidf load successfully\n",
      "svc load successfully\n",
      "lightgbm load successfully\n",
      "logistic load successfully\n"
     ]
    }
   ],
   "source": [
    "c0 = InitClassifier()\n",
    "\n",
    "c1 = IDClassifier(tfidf='../../../MLModel/savedModel/IDClassifier/tfidf.pickle',\n",
    "                  logistic='../../../MLModel/savedModel/IDClassifier/Logistic.pickle',\n",
    "                     svc='../../../MLModel/savedModel/IDClassifier/LinearSVC.pickle',\n",
    "                     lightgbm='../../../MLModel/savedModel/IDClassifier/Lgbm.pickle',)\n",
    "\n",
    "c7 = IfKnowDebtor(tfidf='../../../MLModel/savedModel/IfKnowDebtor/tfidf.pickle',\n",
    "                  logistic='../../../MLModel/savedModel/IfKnowDebtor/Logistic.pickle',\n",
    "                     svc='../../../MLModel/savedModel/IfKnowDebtor/LinearSVC.pickle',\n",
    "                     lightgbm='../../../MLModel/savedModel/IfKnowDebtor/Lgbm.pickle',)\n",
    "\n",
    "node_pool = [S1_N0 ,S1_N1, S1_N5, S1_N6, S1_N15, S1_N20, S1_N26, S1_N25, S1_N32, S1_N33, S1_N41, S1_N42, S1_N43, S1_N50, S1_N51]\n",
    "model_dict = {'InitClassifier':c0, 'IDClassifier':c1, 'IfKnowDebtor': c7}"
   ]
  },
  {
   "cell_type": "code",
   "execution_count": 16,
   "metadata": {
    "ExecuteTime": {
     "end_time": "2018-06-10T02:36:56.444847Z",
     "start_time": "2018-06-10T02:36:56.427795Z"
    }
   },
   "outputs": [
    {
     "name": "stdout",
     "output_type": "stream",
     "text": [
      "s0 is initialized\n",
      "cf_s1_n1_identity_q is initialized\n",
      "cf_s1_n5_ifAcquainted_q is initialized\n",
      "cf_s1_n6_verifyDebt_q is initialized\n",
      "cf_s1_n15_verifyWill_q is initialized\n",
      "cf_s1_n20_q4_setDue3Day is initialized\n",
      "cf_s1_n26_paymentChannel_q is initialized\n",
      "cf_s1_n25_cutDebt_q is initialized\n",
      "cf_s1_n32_splitDebt_q is initialized\n",
      "cf_s1_n33_setCutDebtDue_q is initialized\n",
      "cf_s1_n41_setSplitDebtDue_q is initialized\n",
      "cf_s1_n42_paymentChannel_q is initialized\n",
      "cf_s1_n43_nextAppointment_q is initialized\n",
      "cf_s1_n50_nextAppointment_q is initialized\n",
      "cf_s1_n51_paymentChannel_q is initialized\n"
     ]
    }
   ],
   "source": [
    "a = TreeStage1(node_pool)"
   ]
  },
  {
   "cell_type": "code",
   "execution_count": 92,
   "metadata": {
    "ExecuteTime": {
     "end_time": "2018-06-08T16:02:03.016356Z",
     "start_time": "2018-06-08T16:02:03.009940Z"
    }
   },
   "outputs": [
    {
     "name": "stdout",
     "output_type": "stream",
     "text": [
      "Current node name: s0\n",
      "predict label is 0 and confidence is 1\n",
      "now go to label cf_s1_n1_identity_q\n",
      "你好，这里是H催收公司，请问是罗巍先生吗？\n"
     ]
    },
    {
     "data": {
      "text/plain": [
       "(0, 1)"
      ]
     },
     "execution_count": 92,
     "metadata": {},
     "output_type": "execute_result"
    }
   ],
   "source": [
    "a.classify('hello',model_dict)"
   ]
  },
  {
   "cell_type": "code",
   "execution_count": 93,
   "metadata": {
    "ExecuteTime": {
     "end_time": "2018-06-08T16:02:21.360135Z",
     "start_time": "2018-06-08T16:02:21.318073Z"
    }
   },
   "outputs": [
    {
     "name": "stdout",
     "output_type": "stream",
     "text": [
      "Current node name: cf_s1_n1_identity_q\n",
      "predict label is 1 and confidence is 0.954214390984378\n",
      "now go to label cf_s1_n5_ifAcquainted_q\n",
      "不好意思，打扰了，那请问您认识罗先生吗？\n"
     ]
    },
    {
     "data": {
      "text/plain": [
       "(1, 0.95421439098437799)"
      ]
     },
     "execution_count": 93,
     "metadata": {},
     "output_type": "execute_result"
    }
   ],
   "source": [
    "a.classify('我 是 他 姐姐',model_dict)"
   ]
  },
  {
   "cell_type": "code",
   "execution_count": 80,
   "metadata": {
    "ExecuteTime": {
     "end_time": "2018-06-08T15:45:29.633055Z",
     "start_time": "2018-06-08T15:45:29.628347Z"
    }
   },
   "outputs": [
    {
     "data": {
      "text/plain": [
       "'cf_s1_n5_ifAcquainted_q'"
      ]
     },
     "execution_count": 80,
     "metadata": {},
     "output_type": "execute_result"
    }
   ],
   "source": [
    "a.current_node_name"
   ]
  },
  {
   "cell_type": "code",
   "execution_count": 94,
   "metadata": {
    "ExecuteTime": {
     "end_time": "2018-06-08T16:02:31.022683Z",
     "start_time": "2018-06-08T16:02:30.976669Z"
    }
   },
   "outputs": [
    {
     "name": "stdout",
     "output_type": "stream",
     "text": [
      "Current node name: cf_s1_n5_ifAcquainted_q\n",
      "predict label is 0 and confidence is 0.9968281608972791\n",
      "now go to label know\n"
     ]
    },
    {
     "ename": "KeyError",
     "evalue": "'know'",
     "output_type": "error",
     "traceback": [
      "\u001b[0;31m---------------------------------------------------------------------------\u001b[0m",
      "\u001b[0;31mKeyError\u001b[0m                                  Traceback (most recent call last)",
      "\u001b[0;32m<ipython-input-94-01da94b5864d>\u001b[0m in \u001b[0;36m<module>\u001b[0;34m()\u001b[0m\n\u001b[0;32m----> 1\u001b[0;31m \u001b[0ma\u001b[0m\u001b[0;34m.\u001b[0m\u001b[0mclassify\u001b[0m\u001b[0;34m(\u001b[0m\u001b[0;34m'我 是 他 姐姐'\u001b[0m\u001b[0;34m,\u001b[0m\u001b[0mmodel_dict\u001b[0m\u001b[0;34m)\u001b[0m\u001b[0;34m\u001b[0m\u001b[0m\n\u001b[0m",
      "\u001b[0;32m<ipython-input-89-85d16d38bfc7>\u001b[0m in \u001b[0;36mclassify\u001b[0;34m(self, sentence, model_dict)\u001b[0m\n\u001b[1;32m    195\u001b[0m         \u001b[0mself\u001b[0m\u001b[0;34m.\u001b[0m\u001b[0mcurrent_node_name\u001b[0m \u001b[0;34m=\u001b[0m \u001b[0mself\u001b[0m\u001b[0;34m.\u001b[0m\u001b[0mgraph\u001b[0m\u001b[0;34m[\u001b[0m\u001b[0mself\u001b[0m\u001b[0;34m.\u001b[0m\u001b[0mcurrent_node_name\u001b[0m\u001b[0;34m]\u001b[0m\u001b[0;34m[\u001b[0m\u001b[0mlabel\u001b[0m\u001b[0;34m]\u001b[0m\u001b[0;34m\u001b[0m\u001b[0m\n\u001b[1;32m    196\u001b[0m         \u001b[0mprint\u001b[0m\u001b[0;34m(\u001b[0m\u001b[0;34m'now go to label {}'\u001b[0m\u001b[0;34m.\u001b[0m\u001b[0mformat\u001b[0m\u001b[0;34m(\u001b[0m\u001b[0mself\u001b[0m\u001b[0;34m.\u001b[0m\u001b[0mcurrent_node_name\u001b[0m\u001b[0;34m)\u001b[0m\u001b[0;34m)\u001b[0m\u001b[0;34m\u001b[0m\u001b[0m\n\u001b[0;32m--> 197\u001b[0;31m         \u001b[0mupdated_node\u001b[0m \u001b[0;34m=\u001b[0m \u001b[0mself\u001b[0m\u001b[0;34m.\u001b[0m\u001b[0mnode_pool\u001b[0m\u001b[0;34m[\u001b[0m\u001b[0mself\u001b[0m\u001b[0;34m.\u001b[0m\u001b[0mcurrent_node_name\u001b[0m\u001b[0;34m]\u001b[0m\u001b[0;34m\u001b[0m\u001b[0m\n\u001b[0m\u001b[1;32m    198\u001b[0m         \u001b[0mprint\u001b[0m\u001b[0;34m(\u001b[0m\u001b[0mupdated_node\u001b[0m\u001b[0;34m.\u001b[0m\u001b[0mresponse\u001b[0m\u001b[0;34m)\u001b[0m\u001b[0;34m\u001b[0m\u001b[0m\n\u001b[1;32m    199\u001b[0m \u001b[0;34m\u001b[0m\u001b[0m\n",
      "\u001b[0;31mKeyError\u001b[0m: 'know'"
     ]
    }
   ],
   "source": [
    "a.classify('我 是 他 姐姐',model_dict)"
   ]
  },
  {
   "cell_type": "code",
   "execution_count": 18,
   "metadata": {
    "ExecuteTime": {
     "end_time": "2018-06-10T02:01:53.188139Z",
     "start_time": "2018-06-10T02:01:53.180792Z"
    },
    "collapsed": true
   },
   "outputs": [],
   "source": [
    "a = {1:2}"
   ]
  },
  {
   "cell_type": "code",
   "execution_count": 19,
   "metadata": {
    "ExecuteTime": {
     "end_time": "2018-06-10T02:01:56.365206Z",
     "start_time": "2018-06-10T02:01:56.349934Z"
    }
   },
   "outputs": [
    {
     "ename": "KeyError",
     "evalue": "2",
     "output_type": "error",
     "traceback": [
      "\u001b[0;31m---------------------------------------------------------------------------\u001b[0m",
      "\u001b[0;31mKeyError\u001b[0m                                  Traceback (most recent call last)",
      "\u001b[0;32m<ipython-input-19-016a87a854bc>\u001b[0m in \u001b[0;36m<module>\u001b[0;34m()\u001b[0m\n\u001b[0;32m----> 1\u001b[0;31m \u001b[0ma\u001b[0m\u001b[0;34m[\u001b[0m\u001b[0;36m2\u001b[0m\u001b[0;34m]\u001b[0m\u001b[0;34m\u001b[0m\u001b[0m\n\u001b[0m",
      "\u001b[0;31mKeyError\u001b[0m: 2"
     ]
    }
   ],
   "source": [
    "a[2]"
   ]
  },
  {
   "cell_type": "code",
   "execution_count": null,
   "metadata": {
    "collapsed": true
   },
   "outputs": [],
   "source": []
  }
 ],
 "metadata": {
  "kernelspec": {
   "display_name": "Python 3",
   "language": "python",
   "name": "python3"
  },
  "language_info": {
   "codemirror_mode": {
    "name": "ipython",
    "version": 3
   },
   "file_extension": ".py",
   "mimetype": "text/x-python",
   "name": "python",
   "nbconvert_exporter": "python",
   "pygments_lexer": "ipython3",
   "version": "3.6.3"
  },
  "varInspector": {
   "cols": {
    "lenName": 16,
    "lenType": 16,
    "lenVar": 40
   },
   "kernels_config": {
    "python": {
     "delete_cmd_postfix": "",
     "delete_cmd_prefix": "del ",
     "library": "var_list.py",
     "varRefreshCmd": "print(var_dic_list())"
    },
    "r": {
     "delete_cmd_postfix": ") ",
     "delete_cmd_prefix": "rm(",
     "library": "var_list.r",
     "varRefreshCmd": "cat(var_dic_list()) "
    }
   },
   "types_to_exclude": [
    "module",
    "function",
    "builtin_function_or_method",
    "instance",
    "_Feature"
   ],
   "window_display": false
  }
 },
 "nbformat": 4,
 "nbformat_minor": 2
}
