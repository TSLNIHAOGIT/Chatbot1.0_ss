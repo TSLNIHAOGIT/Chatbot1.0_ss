{
 "cells": [
  {
   "cell_type": "code",
   "execution_count": 1,
   "metadata": {
    "ExecuteTime": {
     "end_time": "2018-06-19T20:24:28.959471Z",
     "start_time": "2018-06-19T20:24:28.332141Z"
    }
   },
   "outputs": [
    {
     "name": "stdout",
     "output_type": "stream",
     "text": [
      "chatbotdb\n"
     ]
    }
   ],
   "source": [
    "# from flask_other.app import app\n",
    "from flask import Flask\n",
    "import os,sys\n",
    "sys.path.append('../')\n",
    "app=Flask(\"demo\")\n",
    "from flask import  render_template,request\n",
    "from app.mong_database import MongoManager\n",
    "import time\n",
    "import re\n",
    "mongo_db=MongoManager(server_ip='chatbotdb')\n",
    "\n",
    "import urllib.request\n",
    "from urllib.parse import quote\n",
    "import pandas as pd\n",
    "import numpy as np\n",
    "import time\n",
    "import re\n",
    "import requests\n",
    "import uuid\n",
    "\n",
    "##################################\n",
    "url = 'http://localhost:8889/chatbotv1'\n",
    "\n",
    "\n",
    "def get_data(sentence, uid):\n",
    "    sessionId = cache.uid_dict[uid]\n",
    "    response = requests.get(url, timeout=10, params={'data':sentence, \n",
    "                                                     'action':'chat', \n",
    "                                                     'sessionId':sessionId})\n",
    "    \n",
    "    if response.status_code == 200:\n",
    "        req = response.json()\n",
    "        if req.get('status').lower() == 'successful':\n",
    "            msg = req.get('message')\n",
    "        else:\n",
    "            msg = req\n",
    "\n",
    "        return msg\n",
    "    else:\n",
    "        return 'Internet Connection Issue, error code {}'.format(response.status_code)\n",
    "\n",
    "\n",
    "\n",
    "@app.route('/')\n",
    "@app.route('/index')\n",
    "def index0():\n",
    "    return render_template(\n",
    "                           # \"index0.html\",\n",
    "                           \"index.html\",\n",
    "                           )\n",
    "\n",
    "@app.route(\"/createCookie\", methods = ['POST'])\n",
    "def createCookie():\n",
    "    if request.method == 'POST':\n",
    "        \n",
    "        cookieid = request.form.get('cookie');\n",
    "        if cookieid:\n",
    "            print('already exists')\n",
    "            print(cookieid)\n",
    "            return('')\n",
    "        else:\n",
    "            print('new user')\n",
    "            uid = str(uuid.uuid1())\n",
    "            print('create cookie {}'.format(uid))\n",
    "            return(str(uuid.uuid1()))\n",
    "\n",
    "\n",
    "\n",
    "@app.route(\"/predict\", methods= [\"POST\"])\n",
    "def background_process():\n",
    "    if request.method == 'POST':\n",
    "        try:\n",
    "            query = request.form.get('query')#前端查询的内容\n",
    "            uid = request.form.get('uid')\n",
    "            print(uid)\n",
    "            if query:\n",
    "\n",
    "                    \n",
    "                    # time.sleep(5)\n",
    "                    result = get_data(query, uid)\n",
    "                    mongo_db.save_query(query, str(result))\n",
    "                    print('saving to mongo db successfully!')\n",
    "                    return str(result)\n",
    "                    \n",
    "\n",
    "            else:\n",
    "\n",
    "                    return str('请输入查询内容')\n",
    "\n",
    "\n",
    "        except Exception as e:\n",
    "            print(e)\n",
    "\n",
    "            if 'duplicate' in str(e):\n",
    "                e_str = e.details['errmsg']\n",
    "                dup_id=re.search('\\{ : \"(.*)\" \\}',e_str).group(1)\n",
    "                print('query duplicated! Use same id to save')\n",
    "                mongo_db.update_dup_query( dup_id, str(result))\n",
    "                return str(result)\n",
    "\n",
    "            else:\n",
    "                print(e)\n",
    "                return str('请点击 new conversation')\n",
    "\n",
    "\n",
    "    else:\n",
    "        return 'ok'\n",
    "    \n",
    "    \n",
    "@app.route(\"/newConversation\", methods= [\"POST\"])\n",
    "def new_conversation():\n",
    "    \n",
    "    print('new conversation called!!!!!!!!!!!!!!!!!!!!!!!')\n",
    "    if request.method == 'POST':\n",
    "        cookie = request.form.get('uid');\n",
    "        if cookie:\n",
    "            print(cookie)\n",
    "            cache.new_conversation(cookie)\n",
    "            return cookie\n",
    "        else:\n",
    "            print('cookie lost')\n",
    "            return('error')\n",
    "\n",
    "class Cache:\n",
    "    def __init__(self):\n",
    "#         self.new_conversation()\n",
    "        self.uid_dict = {}\n",
    "            \n",
    "    def new_conversation(self):\n",
    "        req = requests.get(url, timeout=10, params={'action':'create'})\n",
    "        if req.status_code == 200:\n",
    "            msg = req.json()\n",
    "            if msg['status'] == 'successful':\n",
    "                \n",
    "                self.sessionId = msg['message']['sessionId']\n",
    "                print(self.sessionId)\n",
    "            else:\n",
    "                \n",
    "                raise ValueError('cannot get new sessionId, cannot start chat')\n",
    "        else:\n",
    "            print(req.status_code)\n",
    "            \n",
    "    def new_conversation(self, uid):\n",
    "        req = requests.get(url, timeout=10, params={'action':'create'})\n",
    "        if req.status_code == 200:\n",
    "            msg = req.json()\n",
    "            if msg['status'] == 'successful':\n",
    "                sessionId = msg['message']['sessionId']\n",
    "                self.uid_dict[uid] = sessionId\n",
    "                print(self.uid_dict[uid])\n",
    "            else:\n",
    "            \n",
    "                raise ValueError('cannot get new sessionId, cannot start chat')\n",
    "        else:\n",
    "            print(req.status_code)\n",
    "            \n",
    "        \n",
    "\n",
    "\n",
    "        \n",
    "cache = Cache()   \n",
    "\n",
    "\n"
   ]
  },
  {
   "cell_type": "code",
   "execution_count": 2,
   "metadata": {
    "ExecuteTime": {
     "end_time": "2018-06-19T20:30:31.996111Z",
     "start_time": "2018-06-19T20:24:30.098405Z"
    }
   },
   "outputs": [
    {
     "name": "stderr",
     "output_type": "stream",
     "text": [
      " * Running on http://0.0.0.0:6006/ (Press CTRL+C to quit)\n"
     ]
    },
    {
     "name": "stdout",
     "output_type": "stream",
     "text": [
      "running at http://10.0.24.31:6006\n"
     ]
    },
    {
     "name": "stderr",
     "output_type": "stream",
     "text": [
      "10.0.25.20 - - [19/Jun/2018 20:24:36] \"GET / HTTP/1.1\" 200 -\n",
      "10.0.25.20 - - [19/Jun/2018 20:24:36] \"GET /static/jquery.min.js HTTP/1.1\" 304 -\n",
      "10.0.25.20 - - [19/Jun/2018 20:24:36] \"GET /static/down.png HTTP/1.1\" 304 -\n",
      "10.0.25.20 - - [19/Jun/2018 20:24:46] \"POST /dataFromAjax_post HTTP/1.1\" 404 -\n",
      "10.0.25.20 - - [19/Jun/2018 20:24:46] \"GET /static/avatar1.jpeg HTTP/1.1\" 304 -\n",
      "10.0.25.20 - - [19/Jun/2018 20:24:52] \"POST /dataFromAjax_post HTTP/1.1\" 404 -\n",
      "10.0.25.20 - - [19/Jun/2018 20:24:56] \"POST /dataFromAjax_post HTTP/1.1\" 404 -\n",
      "10.0.25.20 - - [19/Jun/2018 20:25:23] \"GET / HTTP/1.1\" 200 -\n",
      "10.0.25.20 - - [19/Jun/2018 20:25:23] \"POST /createCookie HTTP/1.1\" 200 -\n"
     ]
    },
    {
     "name": "stdout",
     "output_type": "stream",
     "text": [
      "new user\n",
      "create cookie e4e289de-73fe-11e8-b156-0242ac120002\n"
     ]
    },
    {
     "name": "stderr",
     "output_type": "stream",
     "text": [
      "10.0.25.20 - - [19/Jun/2018 20:25:26] \"POST /dataFromAjax_post HTTP/1.1\" 404 -\n",
      "10.0.25.20 - - [19/Jun/2018 20:25:26] \"POST /predict HTTP/1.1\" 200 -\n",
      "10.0.25.20 - - [19/Jun/2018 20:25:26] \"GET /static/avatar2.jpeg HTTP/1.1\" 304 -\n"
     ]
    },
    {
     "name": "stdout",
     "output_type": "stream",
     "text": [
      "e4e2960e-73fe-11e8-b156-0242ac120002\n",
      "'e4e2960e-73fe-11e8-b156-0242ac120002'\n",
      "'e4e2960e-73fe-11e8-b156-0242ac120002'\n"
     ]
    },
    {
     "name": "stderr",
     "output_type": "stream",
     "text": [
      "10.0.25.20 - - [19/Jun/2018 20:25:28] \"POST /newConversation HTTP/1.1\" 200 -\n"
     ]
    },
    {
     "name": "stdout",
     "output_type": "stream",
     "text": [
      "new conversation called!!!!!!!!!!!!!!!!!!!!!!!\n",
      "e4e2960e-73fe-11e8-b156-0242ac120002\n",
      "0\n"
     ]
    },
    {
     "name": "stderr",
     "output_type": "stream",
     "text": [
      "10.0.25.20 - - [19/Jun/2018 20:25:32] \"POST /dataFromAjax_post HTTP/1.1\" 404 -\n",
      "10.0.25.20 - - [19/Jun/2018 20:25:32] \"POST /predict HTTP/1.1\" 200 -\n"
     ]
    },
    {
     "name": "stdout",
     "output_type": "stream",
     "text": [
      "e4e2960e-73fe-11e8-b156-0242ac120002\n",
      "saving to mongo db successfully!\n"
     ]
    },
    {
     "name": "stderr",
     "output_type": "stream",
     "text": [
      "10.0.25.20 - - [19/Jun/2018 20:25:39] \"POST /dataFromAjax_post HTTP/1.1\" 404 -\n"
     ]
    },
    {
     "name": "stdout",
     "output_type": "stream",
     "text": [
      "e4e2960e-73fe-11e8-b156-0242ac120002\n"
     ]
    },
    {
     "name": "stderr",
     "output_type": "stream",
     "text": [
      "10.0.25.20 - - [19/Jun/2018 20:25:40] \"POST /predict HTTP/1.1\" 200 -\n"
     ]
    },
    {
     "name": "stdout",
     "output_type": "stream",
     "text": [
      "saving to mongo db successfully!\n"
     ]
    },
    {
     "name": "stderr",
     "output_type": "stream",
     "text": [
      "10.0.25.20 - - [19/Jun/2018 20:25:53] \"POST /dataFromAjax_post HTTP/1.1\" 404 -\n",
      "10.0.25.20 - - [19/Jun/2018 20:25:53] \"POST /predict HTTP/1.1\" 200 -\n"
     ]
    },
    {
     "name": "stdout",
     "output_type": "stream",
     "text": [
      "e4e2960e-73fe-11e8-b156-0242ac120002\n",
      "saving to mongo db successfully!\n"
     ]
    },
    {
     "name": "stderr",
     "output_type": "stream",
     "text": [
      "10.0.25.20 - - [19/Jun/2018 20:26:39] \"POST /newConversation HTTP/1.1\" 200 -\n"
     ]
    },
    {
     "name": "stdout",
     "output_type": "stream",
     "text": [
      "new conversation called!!!!!!!!!!!!!!!!!!!!!!!\n",
      "e4e2960e-73fe-11e8-b156-0242ac120002\n",
      "1\n"
     ]
    },
    {
     "name": "stderr",
     "output_type": "stream",
     "text": [
      "10.0.25.20 - - [19/Jun/2018 20:26:43] \"POST /dataFromAjax_post HTTP/1.1\" 404 -\n",
      "10.0.25.20 - - [19/Jun/2018 20:26:43] \"POST /predict HTTP/1.1\" 200 -\n"
     ]
    },
    {
     "name": "stdout",
     "output_type": "stream",
     "text": [
      "e4e2960e-73fe-11e8-b156-0242ac120002\n",
      "saving to mongo db successfully!\n"
     ]
    },
    {
     "name": "stderr",
     "output_type": "stream",
     "text": [
      "10.0.25.20 - - [19/Jun/2018 20:26:45] \"POST /dataFromAjax_post HTTP/1.1\" 404 -\n",
      "10.0.25.20 - - [19/Jun/2018 20:26:45] \"POST /predict HTTP/1.1\" 200 -\n"
     ]
    },
    {
     "name": "stdout",
     "output_type": "stream",
     "text": [
      "e4e2960e-73fe-11e8-b156-0242ac120002\n",
      "saving to mongo db successfully!\n"
     ]
    },
    {
     "name": "stderr",
     "output_type": "stream",
     "text": [
      "10.0.25.20 - - [19/Jun/2018 20:26:55] \"POST /dataFromAjax_post HTTP/1.1\" 404 -\n",
      "10.0.25.20 - - [19/Jun/2018 20:26:55] \"POST /predict HTTP/1.1\" 200 -\n"
     ]
    },
    {
     "name": "stdout",
     "output_type": "stream",
     "text": [
      "e4e2960e-73fe-11e8-b156-0242ac120002\n",
      "saving to mongo db successfully!\n"
     ]
    },
    {
     "name": "stderr",
     "output_type": "stream",
     "text": [
      "10.0.25.20 - - [19/Jun/2018 20:27:39] \"POST /newConversation HTTP/1.1\" 200 -\n"
     ]
    },
    {
     "name": "stdout",
     "output_type": "stream",
     "text": [
      "new conversation called!!!!!!!!!!!!!!!!!!!!!!!\n",
      "e4e2960e-73fe-11e8-b156-0242ac120002\n",
      "0\n"
     ]
    },
    {
     "name": "stderr",
     "output_type": "stream",
     "text": [
      "10.0.25.20 - - [19/Jun/2018 20:27:42] \"POST /dataFromAjax_post HTTP/1.1\" 404 -\n",
      "10.0.25.20 - - [19/Jun/2018 20:27:42] \"POST /predict HTTP/1.1\" 200 -\n"
     ]
    },
    {
     "name": "stdout",
     "output_type": "stream",
     "text": [
      "e4e2960e-73fe-11e8-b156-0242ac120002\n",
      "saving to mongo db successfully!\n"
     ]
    },
    {
     "name": "stderr",
     "output_type": "stream",
     "text": [
      "10.0.25.20 - - [19/Jun/2018 20:27:45] \"POST /dataFromAjax_post HTTP/1.1\" 404 -\n",
      "10.0.25.20 - - [19/Jun/2018 20:27:45] \"POST /predict HTTP/1.1\" 200 -\n"
     ]
    },
    {
     "name": "stdout",
     "output_type": "stream",
     "text": [
      "e4e2960e-73fe-11e8-b156-0242ac120002\n",
      "E11000 duplicate key error collection: flask_database.query index: _id_ dup key: { : \"0a60ac8f02ccd2cf723f927284877851\" }\n",
      "query duplicated! Use same id to save\n"
     ]
    },
    {
     "name": "stderr",
     "output_type": "stream",
     "text": [
      "10.0.25.20 - - [19/Jun/2018 20:28:01] \"POST /dataFromAjax_post HTTP/1.1\" 404 -\n",
      "10.0.25.20 - - [19/Jun/2018 20:28:01] \"POST /predict HTTP/1.1\" 200 -\n"
     ]
    },
    {
     "name": "stdout",
     "output_type": "stream",
     "text": [
      "e4e2960e-73fe-11e8-b156-0242ac120002\n",
      "saving to mongo db successfully!\n"
     ]
    },
    {
     "name": "stderr",
     "output_type": "stream",
     "text": [
      "10.0.25.20 - - [19/Jun/2018 20:28:18] \"POST /dataFromAjax_post HTTP/1.1\" 404 -\n",
      "10.0.25.20 - - [19/Jun/2018 20:28:18] \"POST /predict HTTP/1.1\" 200 -\n"
     ]
    },
    {
     "name": "stdout",
     "output_type": "stream",
     "text": [
      "e4e2960e-73fe-11e8-b156-0242ac120002\n",
      "saving to mongo db successfully!\n"
     ]
    },
    {
     "name": "stderr",
     "output_type": "stream",
     "text": [
      "10.0.25.20 - - [19/Jun/2018 20:29:41] \"POST /newConversation HTTP/1.1\" 200 -\n"
     ]
    },
    {
     "name": "stdout",
     "output_type": "stream",
     "text": [
      "new conversation called!!!!!!!!!!!!!!!!!!!!!!!\n",
      "e4e2960e-73fe-11e8-b156-0242ac120002\n",
      "0\n"
     ]
    },
    {
     "name": "stderr",
     "output_type": "stream",
     "text": [
      "10.0.25.20 - - [19/Jun/2018 20:29:45] \"POST /dataFromAjax_post HTTP/1.1\" 404 -\n",
      "10.0.25.20 - - [19/Jun/2018 20:29:45] \"POST /predict HTTP/1.1\" 200 -\n"
     ]
    },
    {
     "name": "stdout",
     "output_type": "stream",
     "text": [
      "e4e2960e-73fe-11e8-b156-0242ac120002\n",
      "E11000 duplicate key error collection: flask_database.query index: _id_ dup key: { : \"96957453484b14e9b7dc8321afd2e083\" }\n",
      "query duplicated! Use same id to save\n"
     ]
    },
    {
     "name": "stderr",
     "output_type": "stream",
     "text": [
      "10.0.25.20 - - [19/Jun/2018 20:29:50] \"POST /dataFromAjax_post HTTP/1.1\" 404 -\n",
      "10.0.25.20 - - [19/Jun/2018 20:29:50] \"POST /predict HTTP/1.1\" 200 -\n"
     ]
    },
    {
     "name": "stdout",
     "output_type": "stream",
     "text": [
      "e4e2960e-73fe-11e8-b156-0242ac120002\n",
      "saving to mongo db successfully!\n"
     ]
    },
    {
     "name": "stderr",
     "output_type": "stream",
     "text": [
      "10.0.25.20 - - [19/Jun/2018 20:30:00] \"POST /dataFromAjax_post HTTP/1.1\" 404 -\n",
      "10.0.25.20 - - [19/Jun/2018 20:30:00] \"POST /predict HTTP/1.1\" 200 -\n"
     ]
    },
    {
     "name": "stdout",
     "output_type": "stream",
     "text": [
      "e4e2960e-73fe-11e8-b156-0242ac120002\n",
      "saving to mongo db successfully!\n"
     ]
    },
    {
     "name": "stderr",
     "output_type": "stream",
     "text": [
      "10.0.25.20 - - [19/Jun/2018 20:30:09] \"POST /dataFromAjax_post HTTP/1.1\" 404 -\n",
      "10.0.25.20 - - [19/Jun/2018 20:30:09] \"POST /predict HTTP/1.1\" 200 -\n"
     ]
    },
    {
     "name": "stdout",
     "output_type": "stream",
     "text": [
      "e4e2960e-73fe-11e8-b156-0242ac120002\n",
      "E11000 duplicate key error collection: flask_database.query index: _id_ dup key: { : \"a8605b09be6187e9825e90dbf8467a4a\" }\n",
      "query duplicated! Use same id to save\n"
     ]
    }
   ],
   "source": [
    "app.debug = False\n",
    "port = 6006\n",
    "print('running at http://10.0.24.31:{}'.format(port))\n",
    "app.run(host='0.0.0.0',port=port)    #这样用来监听所有的ip，团队调试用"
   ]
  },
  {
   "cell_type": "code",
   "execution_count": null,
   "metadata": {
    "collapsed": true
   },
   "outputs": [],
   "source": []
  }
 ],
 "metadata": {
  "kernelspec": {
   "display_name": "Python 3",
   "language": "python",
   "name": "python3"
  },
  "language_info": {
   "codemirror_mode": {
    "name": "ipython",
    "version": 3
   },
   "file_extension": ".py",
   "mimetype": "text/x-python",
   "name": "python",
   "nbconvert_exporter": "python",
   "pygments_lexer": "ipython3",
   "version": "3.6.3"
  },
  "varInspector": {
   "cols": {
    "lenName": 16,
    "lenType": 16,
    "lenVar": 40
   },
   "kernels_config": {
    "python": {
     "delete_cmd_postfix": "",
     "delete_cmd_prefix": "del ",
     "library": "var_list.py",
     "varRefreshCmd": "print(var_dic_list())"
    },
    "r": {
     "delete_cmd_postfix": ") ",
     "delete_cmd_prefix": "rm(",
     "library": "var_list.r",
     "varRefreshCmd": "cat(var_dic_list()) "
    }
   },
   "types_to_exclude": [
    "module",
    "function",
    "builtin_function_or_method",
    "instance",
    "_Feature"
   ],
   "window_display": false
  }
 },
 "nbformat": 4,
 "nbformat_minor": 2
}
