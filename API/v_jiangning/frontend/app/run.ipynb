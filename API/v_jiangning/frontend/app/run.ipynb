{
 "cells": [
  {
   "cell_type": "code",
   "execution_count": 1,
   "metadata": {
    "ExecuteTime": {
     "end_time": "2018-06-14T19:30:17.683134Z",
     "start_time": "2018-06-14T19:30:16.939818Z"
    }
   },
   "outputs": [
    {
     "name": "stdout",
     "output_type": "stream",
     "text": [
      "chatbotdb\n",
      "0\n"
     ]
    }
   ],
   "source": [
    "# from flask_other.app import app\n",
    "from flask import Flask\n",
    "import os,sys\n",
    "# sys.path.append('/home/kai/data/wei/Chatbot1.0/')\n",
    "sys.path.append('../../../../../Chatbot1.0/')\n",
    "# sys.path.append('/home/kai/data/Chatbot1.0/API/v1/frontend/')\n",
    "app=Flask(\"demo\")\n",
    "from flask import  render_template,request\n",
    "from app.mong_database import MongoManager\n",
    "import time\n",
    "import re\n",
    "mongo_db=MongoManager(server_ip='chatbotdb')\n",
    "\n",
    "import urllib.request\n",
    "from urllib.parse import quote\n",
    "import pandas as pd\n",
    "import numpy as np\n",
    "import time\n",
    "import re\n",
    "import requests\n",
    "\n",
    "##################################\n",
    "url = 'http://localhost:8889/chatbotv1'\n",
    "\n",
    "\n",
    "def get_data(sentence):\n",
    "    \n",
    "    response = requests.get(url, timeout=10, params={'data':sentence, \n",
    "                                                     'action':'chat', \n",
    "                                                     'sessionId':cache.sessionId})\n",
    "    \n",
    "    if response.status_code == 200:\n",
    "        req = response.json()\n",
    "        if req.get('status').lower() == 'successful':\n",
    "            msg = req.get('message')\n",
    "        else:\n",
    "            msg = req\n",
    "\n",
    "        return msg\n",
    "    else:\n",
    "        return 'Internet Connection Issue, error code {}'.format(response.status_code)\n",
    "\n",
    "\n",
    "\n",
    "@app.route('/')\n",
    "@app.route('/index')\n",
    "def index0():\n",
    "    return render_template(\n",
    "                           # \"index0.html\",\n",
    "                           \"index.html\",\n",
    "                           )\n",
    "@app.route(\"/predict\", methods= [\"POST\"])\n",
    "def background_process():\n",
    "    if request.method == 'POST':\n",
    "        try:\n",
    "            query = request.form.get('query')#前端查询的内容\n",
    "            if query:\n",
    "\n",
    "                    print('query',query)\n",
    "                    # time.sleep(5)\n",
    "                    result = get_data(query)\n",
    "                    print('result',result)\n",
    "                    mongo_db.save_query(query, str(result))\n",
    "                    print('saving to mongo db successfully!')\n",
    "                    return str(result)\n",
    "                    \n",
    "\n",
    "            else:\n",
    "\n",
    "                    return str('请输入查询内容')\n",
    "\n",
    "\n",
    "        except Exception as e:\n",
    "            print(e)\n",
    "\n",
    "            if 'duplicate' in str(e):\n",
    "                e_str = e.details['errmsg']\n",
    "                dup_id=re.search('\\{ : \"(.*)\" \\}',e_str).group(1)\n",
    "                print('重复查询同一句话,存储时使用相同的_id_',dup_id)\n",
    "                mongo_db.update_dup_query( dup_id, str(result))\n",
    "                return str(result)\n",
    "\n",
    "            else:\n",
    "                print(e)\n",
    "                print('有问题，MM出故障啦')\n",
    "                return str('MM出故障啦')\n",
    "\n",
    "        # finally:\n",
    "        #     # print(e)\n",
    "        #     print('有问题，MM出故障啦。。')\n",
    "        #     return str('MM出故障啦。。')\n",
    "\n",
    "    else:\n",
    "        return 'ok'\n",
    "    \n",
    "    \n",
    "@app.route(\"/newConversation\", methods= [\"POST\"])\n",
    "def new_conversation():\n",
    "    cache.new_conversation()\n",
    "    print('new conversation called!!!!!!!!!!!!!!!!!!!!!!!')\n",
    "\n",
    "class Cache:\n",
    "    def __init__(self):\n",
    "        self.new_conversation()\n",
    "            \n",
    "    def new_conversation(self):\n",
    "        req = requests.get(url, timeout=10, params={'action':'create'})\n",
    "        if req.status_code == 200:\n",
    "            msg = req.json()\n",
    "            if msg['status'] == 'successful':\n",
    "                self.sessionId = msg['message']['sessionId']\n",
    "                print(self.sessionId)\n",
    "            else:\n",
    "                print(req.content)\n",
    "                raise ValueError('cannot get new sessionId, cannot start chat')\n",
    "        else:\n",
    "            print(req.content)\n",
    "\n",
    "\n",
    "        \n",
    "cache = Cache()   \n",
    "\n",
    "\n"
   ]
  },
  {
   "cell_type": "code",
   "execution_count": null,
   "metadata": {
    "ExecuteTime": {
     "start_time": "2018-06-14T19:29:54.745Z"
    }
   },
   "outputs": [
    {
     "name": "stderr",
     "output_type": "stream",
     "text": [
      " * Running on http://0.0.0.0:6006/ (Press CTRL+C to quit)\n"
     ]
    },
    {
     "name": "stdout",
     "output_type": "stream",
     "text": [
      "running at http://10.0.24.31:6006\n"
     ]
    },
    {
     "name": "stderr",
     "output_type": "stream",
     "text": [
      "172.18.0.1 - - [14/Jun/2018 19:30:38] \"GET / HTTP/1.1\" 200 -\n",
      "172.18.0.1 - - [14/Jun/2018 19:30:42] \"POST /dataFromAjax_post HTTP/1.1\" 404 -\n",
      "172.18.0.1 - - [14/Jun/2018 19:30:42] \"POST /predict HTTP/1.1\" 200 -\n",
      "172.18.0.1 - - [14/Jun/2018 19:30:42] \"GET / HTTP/1.1\" 200 -\n"
     ]
    },
    {
     "name": "stdout",
     "output_type": "stream",
     "text": [
      "query 123\n",
      "result 你好，这里是H催收公司，请问是罗巍先生吗？\n",
      "E11000 duplicate key error collection: flask_database.query index: _id_ dup key: { : \"202cb962ac59075b964b07152d234b70\" }\n",
      "重复查询同一句话,存储时使用相同的_id_ 202cb962ac59075b964b07152d234b70\n"
     ]
    },
    {
     "name": "stderr",
     "output_type": "stream",
     "text": [
      "172.18.0.1 - - [14/Jun/2018 19:30:56] \"POST /dataFromAjax_post HTTP/1.1\" 404 -\n",
      "172.18.0.1 - - [14/Jun/2018 19:30:56] \"POST /predict HTTP/1.1\" 200 -\n"
     ]
    },
    {
     "name": "stdout",
     "output_type": "stream",
     "text": [
      "query 就是\n",
      "result 你好，我是H催收公司的客服小催，您之前借贷了H公司5万块钱，约定在2018年5月1日还清。您已还款3万2千块钱，但因逾期未还产生了相应的利息和延迟还款费用，现在一共需要还2万块钱，其中1.2万本金，1500利息，500延迟还款手续费用，请问您打算什么时候处理下呢？\n",
      "saving to mongo db successfully!\n"
     ]
    },
    {
     "name": "stderr",
     "output_type": "stream",
     "text": [
      "172.18.0.1 - - [14/Jun/2018 19:31:26] \"POST /dataFromAjax_post HTTP/1.1\" 404 -\n",
      "172.18.0.1 - - [14/Jun/2018 19:31:26] \"POST /predict HTTP/1.1\" 200 -\n"
     ]
    },
    {
     "name": "stdout",
     "output_type": "stream",
     "text": [
      "query 我不打算处理\n",
      "result 赖账你是赖不掉的，目前我们公司已经派专员处理了，现在要求您在3天以内还钱\n",
      "saving to mongo db successfully!\n"
     ]
    },
    {
     "name": "stderr",
     "output_type": "stream",
     "text": [
      "172.18.0.1 - - [14/Jun/2018 19:31:30] \"POST /dataFromAjax_post HTTP/1.1\" 404 -\n",
      "172.18.0.1 - - [14/Jun/2018 19:31:30] \"POST /predict HTTP/1.1\" 200 -\n"
     ]
    },
    {
     "name": "stdout",
     "output_type": "stream",
     "text": [
      "query 滚\n",
      "result 感谢您的配合。您可以使用APP或者银行转账的方式进行还款，还请将还款截图发至微信hwchat！\n",
      "saving to mongo db successfully!\n"
     ]
    },
    {
     "name": "stderr",
     "output_type": "stream",
     "text": [
      "[2018-06-14 20:34:13,208] ERROR in app: Exception on /newConversation [POST]\n",
      "Traceback (most recent call last):\n",
      "  File \"/home/kai/anaconda3/lib/python3.6/site-packages/flask/app.py\", line 1982, in wsgi_app\n",
      "    response = self.full_dispatch_request()\n",
      "  File \"/home/kai/anaconda3/lib/python3.6/site-packages/flask/app.py\", line 1615, in full_dispatch_request\n",
      "    return self.finalize_request(rv)\n",
      "  File \"/home/kai/anaconda3/lib/python3.6/site-packages/flask/app.py\", line 1630, in finalize_request\n",
      "    response = self.make_response(rv)\n",
      "  File \"/home/kai/anaconda3/lib/python3.6/site-packages/flask/app.py\", line 1725, in make_response\n",
      "    raise ValueError('View function did not return a response')\n",
      "ValueError: View function did not return a response\n",
      "172.18.0.1 - - [14/Jun/2018 20:34:13] \"POST /newConversation HTTP/1.1\" 500 -\n"
     ]
    },
    {
     "name": "stdout",
     "output_type": "stream",
     "text": [
      "1\n",
      "new conversation called!!!!!!!!!!!!!!!!!!!!!!!\n"
     ]
    },
    {
     "name": "stderr",
     "output_type": "stream",
     "text": [
      "172.18.0.1 - - [14/Jun/2018 20:34:14] \"POST /dataFromAjax_post HTTP/1.1\" 404 -\n",
      "172.18.0.1 - - [14/Jun/2018 20:34:14] \"POST /predict HTTP/1.1\" 200 -\n"
     ]
    },
    {
     "name": "stdout",
     "output_type": "stream",
     "text": [
      "query 1\n",
      "result 你好，这里是H催收公司，请问是罗巍先生吗？\n",
      "E11000 duplicate key error collection: flask_database.query index: _id_ dup key: { : \"c4ca4238a0b923820dcc509a6f75849b\" }\n",
      "重复查询同一句话,存储时使用相同的_id_ c4ca4238a0b923820dcc509a6f75849b\n"
     ]
    },
    {
     "name": "stderr",
     "output_type": "stream",
     "text": [
      "172.18.0.1 - - [14/Jun/2018 20:34:15] \"POST /dataFromAjax_post HTTP/1.1\" 404 -\n",
      "172.18.0.1 - - [14/Jun/2018 20:34:15] \"POST /predict HTTP/1.1\" 200 -\n"
     ]
    },
    {
     "name": "stdout",
     "output_type": "stream",
     "text": [
      "query 嗯\n",
      "result 你好，我是H催收公司的客服小催，您之前借贷了H公司5万块钱，约定在2018年5月1日还清。您已还款3万2千块钱，但因逾期未还产生了相应的利息和延迟还款费用，现在一共需要还2万块钱，其中1.2万本金，1500利息，500延迟还款手续费用，请问您打算什么时候处理下呢？\n",
      "E11000 duplicate key error collection: flask_database.query index: _id_ dup key: { : \"e885cb9ce2561e0a2de874dd5ac63aca\" }\n",
      "重复查询同一句话,存储时使用相同的_id_ e885cb9ce2561e0a2de874dd5ac63aca\n"
     ]
    },
    {
     "name": "stderr",
     "output_type": "stream",
     "text": [
      "172.18.0.1 - - [14/Jun/2018 20:34:18] \"POST /dataFromAjax_post HTTP/1.1\" 404 -\n",
      "172.18.0.1 - - [14/Jun/2018 20:34:18] \"POST /predict HTTP/1.1\" 200 -\n"
     ]
    },
    {
     "name": "stdout",
     "output_type": "stream",
     "text": [
      "query 少点\n",
      "result 额... 如果是这样的话您看我帮您把金额减免一定程度可以吗？ 如果今天换，我帮您把利息1500全部剪掉，您只用还本金1万2。这是我能做大的最大程度了！\n",
      "saving to mongo db successfully!\n"
     ]
    },
    {
     "name": "stderr",
     "output_type": "stream",
     "text": [
      "[2018-06-14 20:34:38,784] ERROR in app: Exception on /newConversation [POST]\n",
      "Traceback (most recent call last):\n",
      "  File \"/home/kai/anaconda3/lib/python3.6/site-packages/flask/app.py\", line 1982, in wsgi_app\n",
      "    response = self.full_dispatch_request()\n",
      "  File \"/home/kai/anaconda3/lib/python3.6/site-packages/flask/app.py\", line 1615, in full_dispatch_request\n",
      "    return self.finalize_request(rv)\n",
      "  File \"/home/kai/anaconda3/lib/python3.6/site-packages/flask/app.py\", line 1630, in finalize_request\n",
      "    response = self.make_response(rv)\n",
      "  File \"/home/kai/anaconda3/lib/python3.6/site-packages/flask/app.py\", line 1725, in make_response\n",
      "    raise ValueError('View function did not return a response')\n",
      "ValueError: View function did not return a response\n",
      "172.18.0.1 - - [14/Jun/2018 20:34:38] \"POST /newConversation HTTP/1.1\" 500 -\n"
     ]
    },
    {
     "name": "stdout",
     "output_type": "stream",
     "text": [
      "2\n",
      "new conversation called!!!!!!!!!!!!!!!!!!!!!!!\n"
     ]
    },
    {
     "name": "stderr",
     "output_type": "stream",
     "text": [
      "172.18.0.1 - - [14/Jun/2018 20:34:41] \"POST /dataFromAjax_post HTTP/1.1\" 404 -\n",
      "172.18.0.1 - - [14/Jun/2018 20:34:41] \"POST /predict HTTP/1.1\" 200 -\n"
     ]
    },
    {
     "name": "stdout",
     "output_type": "stream",
     "text": [
      "query 123\n",
      "result 你好，这里是H催收公司，请问是罗巍先生吗？\n",
      "E11000 duplicate key error collection: flask_database.query index: _id_ dup key: { : \"202cb962ac59075b964b07152d234b70\" }\n",
      "重复查询同一句话,存储时使用相同的_id_ 202cb962ac59075b964b07152d234b70\n"
     ]
    },
    {
     "name": "stderr",
     "output_type": "stream",
     "text": [
      "172.18.0.1 - - [14/Jun/2018 20:34:45] \"POST /dataFromAjax_post HTTP/1.1\" 404 -\n",
      "172.18.0.1 - - [14/Jun/2018 20:34:45] \"POST /predict HTTP/1.1\" 200 -\n"
     ]
    },
    {
     "name": "stdout",
     "output_type": "stream",
     "text": [
      "query 嗯\n",
      "result 你好，我是H催收公司的客服小催，您之前借贷了H公司5万块钱，约定在2018年5月1日还清。您已还款3万2千块钱，但因逾期未还产生了相应的利息和延迟还款费用，现在一共需要还2万块钱，其中1.2万本金，1500利息，500延迟还款手续费用，请问您打算什么时候处理下呢？\n",
      "E11000 duplicate key error collection: flask_database.query index: _id_ dup key: { : \"e885cb9ce2561e0a2de874dd5ac63aca\" }\n",
      "重复查询同一句话,存储时使用相同的_id_ e885cb9ce2561e0a2de874dd5ac63aca\n"
     ]
    },
    {
     "name": "stderr",
     "output_type": "stream",
     "text": [
      "172.18.0.1 - - [14/Jun/2018 20:34:47] \"POST /dataFromAjax_post HTTP/1.1\" 404 -\n",
      "172.18.0.1 - - [14/Jun/2018 20:34:47] \"POST /predict HTTP/1.1\" 200 -\n"
     ]
    },
    {
     "name": "stdout",
     "output_type": "stream",
     "text": [
      "query 我没钱\n",
      "result 赖账你是赖不掉的，目前我们公司已经派专员处理了，现在要求您在3天以内还钱\n",
      "E11000 duplicate key error collection: flask_database.query index: _id_ dup key: { : \"374fa342975c7284791bdadbbb1cfcb6\" }\n",
      "重复查询同一句话,存储时使用相同的_id_ 374fa342975c7284791bdadbbb1cfcb6\n"
     ]
    },
    {
     "name": "stderr",
     "output_type": "stream",
     "text": [
      "172.18.0.1 - - [14/Jun/2018 20:34:49] \"POST /dataFromAjax_post HTTP/1.1\" 404 -\n",
      "172.18.0.1 - - [14/Jun/2018 20:34:49] \"POST /predict HTTP/1.1\" 200 -\n"
     ]
    },
    {
     "name": "stdout",
     "output_type": "stream",
     "text": [
      "query 少点\n",
      "result 赖账你是赖不掉的，目前我们公司已经派专员处理了，现在要求您在3天以内还钱\n",
      "E11000 duplicate key error collection: flask_database.query index: _id_ dup key: { : \"9900144ab3e1c6c95858d560eec236d0\" }\n",
      "重复查询同一句话,存储时使用相同的_id_ 9900144ab3e1c6c95858d560eec236d0\n"
     ]
    },
    {
     "name": "stderr",
     "output_type": "stream",
     "text": [
      "[2018-06-14 20:35:00,984] ERROR in app: Exception on /newConversation [POST]\n",
      "Traceback (most recent call last):\n",
      "  File \"/home/kai/anaconda3/lib/python3.6/site-packages/flask/app.py\", line 1982, in wsgi_app\n",
      "    response = self.full_dispatch_request()\n",
      "  File \"/home/kai/anaconda3/lib/python3.6/site-packages/flask/app.py\", line 1615, in full_dispatch_request\n",
      "    return self.finalize_request(rv)\n",
      "  File \"/home/kai/anaconda3/lib/python3.6/site-packages/flask/app.py\", line 1630, in finalize_request\n",
      "    response = self.make_response(rv)\n",
      "  File \"/home/kai/anaconda3/lib/python3.6/site-packages/flask/app.py\", line 1725, in make_response\n",
      "    raise ValueError('View function did not return a response')\n",
      "ValueError: View function did not return a response\n",
      "172.18.0.1 - - [14/Jun/2018 20:35:00] \"POST /newConversation HTTP/1.1\" 500 -\n"
     ]
    },
    {
     "name": "stdout",
     "output_type": "stream",
     "text": [
      "3\n",
      "new conversation called!!!!!!!!!!!!!!!!!!!!!!!\n"
     ]
    },
    {
     "name": "stderr",
     "output_type": "stream",
     "text": [
      "172.18.0.1 - - [14/Jun/2018 20:35:05] \"POST /dataFromAjax_post HTTP/1.1\" 404 -\n",
      "172.18.0.1 - - [14/Jun/2018 20:35:05] \"POST /predict HTTP/1.1\" 200 -\n"
     ]
    },
    {
     "name": "stdout",
     "output_type": "stream",
     "text": [
      "query ·123\n",
      "result 你好，这里是H催收公司，请问是罗巍先生吗？\n",
      "saving to mongo db successfully!\n"
     ]
    },
    {
     "name": "stderr",
     "output_type": "stream",
     "text": [
      "172.18.0.1 - - [14/Jun/2018 20:35:07] \"POST /dataFromAjax_post HTTP/1.1\" 404 -\n",
      "172.18.0.1 - - [14/Jun/2018 20:35:07] \"POST /predict HTTP/1.1\" 200 -\n"
     ]
    },
    {
     "name": "stdout",
     "output_type": "stream",
     "text": [
      "query 嗯\n",
      "result 你好，我是H催收公司的客服小催，您之前借贷了H公司5万块钱，约定在2018年5月1日还清。您已还款3万2千块钱，但因逾期未还产生了相应的利息和延迟还款费用，现在一共需要还2万块钱，其中1.2万本金，1500利息，500延迟还款手续费用，请问您打算什么时候处理下呢？\n",
      "E11000 duplicate key error collection: flask_database.query index: _id_ dup key: { : \"e885cb9ce2561e0a2de874dd5ac63aca\" }\n",
      "重复查询同一句话,存储时使用相同的_id_ e885cb9ce2561e0a2de874dd5ac63aca\n"
     ]
    },
    {
     "name": "stderr",
     "output_type": "stream",
     "text": [
      "172.18.0.1 - - [14/Jun/2018 20:35:10] \"POST /dataFromAjax_post HTTP/1.1\" 404 -\n",
      "172.18.0.1 - - [14/Jun/2018 20:35:10] \"POST /predict HTTP/1.1\" 200 -\n"
     ]
    },
    {
     "name": "stdout",
     "output_type": "stream",
     "text": [
      "query 少点\n",
      "result 额... 如果是这样的话您看我帮您把金额减免一定程度可以吗？ 如果今天换，我帮您把利息1500全部剪掉，您只用还本金1万2。这是我能做大的最大程度了！\n",
      "E11000 duplicate key error collection: flask_database.query index: _id_ dup key: { : \"9900144ab3e1c6c95858d560eec236d0\" }\n",
      "重复查询同一句话,存储时使用相同的_id_ 9900144ab3e1c6c95858d560eec236d0\n"
     ]
    },
    {
     "name": "stderr",
     "output_type": "stream",
     "text": [
      "[2018-06-14 20:35:13,796] ERROR in app: Exception on /newConversation [POST]\n",
      "Traceback (most recent call last):\n",
      "  File \"/home/kai/anaconda3/lib/python3.6/site-packages/flask/app.py\", line 1982, in wsgi_app\n",
      "    response = self.full_dispatch_request()\n",
      "  File \"/home/kai/anaconda3/lib/python3.6/site-packages/flask/app.py\", line 1615, in full_dispatch_request\n",
      "    return self.finalize_request(rv)\n",
      "  File \"/home/kai/anaconda3/lib/python3.6/site-packages/flask/app.py\", line 1630, in finalize_request\n",
      "    response = self.make_response(rv)\n",
      "  File \"/home/kai/anaconda3/lib/python3.6/site-packages/flask/app.py\", line 1725, in make_response\n",
      "    raise ValueError('View function did not return a response')\n",
      "ValueError: View function did not return a response\n",
      "172.18.0.1 - - [14/Jun/2018 20:35:13] \"POST /newConversation HTTP/1.1\" 500 -\n"
     ]
    },
    {
     "name": "stdout",
     "output_type": "stream",
     "text": [
      "4\n",
      "new conversation called!!!!!!!!!!!!!!!!!!!!!!!\n"
     ]
    },
    {
     "name": "stderr",
     "output_type": "stream",
     "text": [
      "172.18.0.1 - - [14/Jun/2018 20:35:15] \"POST /dataFromAjax_post HTTP/1.1\" 404 -\n",
      "172.18.0.1 - - [14/Jun/2018 20:35:15] \"POST /predict HTTP/1.1\" 200 -\n"
     ]
    },
    {
     "name": "stdout",
     "output_type": "stream",
     "text": [
      "query 123\n",
      "result 你好，这里是H催收公司，请问是罗巍先生吗？\n",
      "E11000 duplicate key error collection: flask_database.query index: _id_ dup key: { : \"202cb962ac59075b964b07152d234b70\" }\n",
      "重复查询同一句话,存储时使用相同的_id_ 202cb962ac59075b964b07152d234b70\n"
     ]
    },
    {
     "name": "stderr",
     "output_type": "stream",
     "text": [
      "172.18.0.1 - - [14/Jun/2018 20:35:16] \"POST /dataFromAjax_post HTTP/1.1\" 404 -\n",
      "172.18.0.1 - - [14/Jun/2018 20:35:16] \"POST /predict HTTP/1.1\" 200 -\n"
     ]
    },
    {
     "name": "stdout",
     "output_type": "stream",
     "text": [
      "query 嗯\n",
      "result 你好，我是H催收公司的客服小催，您之前借贷了H公司5万块钱，约定在2018年5月1日还清。您已还款3万2千块钱，但因逾期未还产生了相应的利息和延迟还款费用，现在一共需要还2万块钱，其中1.2万本金，1500利息，500延迟还款手续费用，请问您打算什么时候处理下呢？\n",
      "E11000 duplicate key error collection: flask_database.query index: _id_ dup key: { : \"e885cb9ce2561e0a2de874dd5ac63aca\" }\n",
      "重复查询同一句话,存储时使用相同的_id_ e885cb9ce2561e0a2de874dd5ac63aca\n"
     ]
    },
    {
     "name": "stderr",
     "output_type": "stream",
     "text": [
      "172.18.0.1 - - [14/Jun/2018 20:35:23] \"POST /dataFromAjax_post HTTP/1.1\" 404 -\n",
      "172.18.0.1 - - [14/Jun/2018 20:35:23] \"POST /predict HTTP/1.1\" 200 -\n"
     ]
    },
    {
     "name": "stdout",
     "output_type": "stream",
     "text": [
      "query 我没有钱\n",
      "result 赖账你是赖不掉的，目前我们公司已经派专员处理了，现在要求您在3天以内还钱\n",
      "saving to mongo db successfully!\n"
     ]
    },
    {
     "name": "stderr",
     "output_type": "stream",
     "text": [
      "172.18.0.1 - - [14/Jun/2018 20:35:30] \"POST /dataFromAjax_post HTTP/1.1\" 404 -\n",
      "172.18.0.1 - - [14/Jun/2018 20:35:30] \"POST /predict HTTP/1.1\" 200 -\n"
     ]
    },
    {
     "name": "stdout",
     "output_type": "stream",
     "text": [
      "query 少点\n",
      "result 赖账你是赖不掉的，目前我们公司已经派专员处理了，现在要求您在3天以内还钱\n",
      "E11000 duplicate key error collection: flask_database.query index: _id_ dup key: { : \"9900144ab3e1c6c95858d560eec236d0\" }\n",
      "重复查询同一句话,存储时使用相同的_id_ 9900144ab3e1c6c95858d560eec236d0\n"
     ]
    },
    {
     "name": "stderr",
     "output_type": "stream",
     "text": [
      "[2018-06-14 20:37:16,092] ERROR in app: Exception on /newConversation [POST]\n",
      "Traceback (most recent call last):\n",
      "  File \"/home/kai/anaconda3/lib/python3.6/site-packages/flask/app.py\", line 1982, in wsgi_app\n",
      "    response = self.full_dispatch_request()\n",
      "  File \"/home/kai/anaconda3/lib/python3.6/site-packages/flask/app.py\", line 1615, in full_dispatch_request\n",
      "    return self.finalize_request(rv)\n",
      "  File \"/home/kai/anaconda3/lib/python3.6/site-packages/flask/app.py\", line 1630, in finalize_request\n",
      "    response = self.make_response(rv)\n",
      "  File \"/home/kai/anaconda3/lib/python3.6/site-packages/flask/app.py\", line 1725, in make_response\n",
      "    raise ValueError('View function did not return a response')\n",
      "ValueError: View function did not return a response\n",
      "172.18.0.1 - - [14/Jun/2018 20:37:16] \"POST /newConversation HTTP/1.1\" 500 -\n"
     ]
    },
    {
     "name": "stdout",
     "output_type": "stream",
     "text": [
      "5\n",
      "new conversation called!!!!!!!!!!!!!!!!!!!!!!!\n"
     ]
    },
    {
     "name": "stderr",
     "output_type": "stream",
     "text": [
      "172.18.0.1 - - [14/Jun/2018 20:37:19] \"POST /dataFromAjax_post HTTP/1.1\" 404 -\n",
      "172.18.0.1 - - [14/Jun/2018 20:37:19] \"POST /predict HTTP/1.1\" 200 -\n"
     ]
    },
    {
     "name": "stdout",
     "output_type": "stream",
     "text": [
      "query 123\n",
      "result 你好，这里是H催收公司，请问是罗巍先生吗？\n",
      "E11000 duplicate key error collection: flask_database.query index: _id_ dup key: { : \"202cb962ac59075b964b07152d234b70\" }\n",
      "重复查询同一句话,存储时使用相同的_id_ 202cb962ac59075b964b07152d234b70\n"
     ]
    },
    {
     "name": "stderr",
     "output_type": "stream",
     "text": [
      "172.18.0.1 - - [14/Jun/2018 20:37:20] \"POST /dataFromAjax_post HTTP/1.1\" 404 -\n",
      "172.18.0.1 - - [14/Jun/2018 20:37:20] \"POST /predict HTTP/1.1\" 200 -\n"
     ]
    },
    {
     "name": "stdout",
     "output_type": "stream",
     "text": [
      "query 嗯\n",
      "result 你好，我是H催收公司的客服小催，您之前借贷了H公司5万块钱，约定在2018年5月1日还清。您已还款3万2千块钱，但因逾期未还产生了相应的利息和延迟还款费用，现在一共需要还2万块钱，其中1.2万本金，1500利息，500延迟还款手续费用，请问您打算什么时候处理下呢？\n",
      "E11000 duplicate key error collection: flask_database.query index: _id_ dup key: { : \"e885cb9ce2561e0a2de874dd5ac63aca\" }\n",
      "重复查询同一句话,存储时使用相同的_id_ e885cb9ce2561e0a2de874dd5ac63aca\n"
     ]
    },
    {
     "name": "stderr",
     "output_type": "stream",
     "text": [
      "172.18.0.1 - - [14/Jun/2018 20:37:22] \"POST /dataFromAjax_post HTTP/1.1\" 404 -\n",
      "172.18.0.1 - - [14/Jun/2018 20:37:22] \"POST /predict HTTP/1.1\" 200 -\n"
     ]
    },
    {
     "name": "stdout",
     "output_type": "stream",
     "text": [
      "query 不能\n",
      "result 额... 如果是这样的话您看我帮您把金额减免一定程度可以吗？ 如果今天换，我帮您把利息1500全部剪掉，您只用还本金1万2。这是我能做大的最大程度了！\n",
      "saving to mongo db successfully!\n"
     ]
    },
    {
     "name": "stderr",
     "output_type": "stream",
     "text": [
      "172.18.0.1 - - [14/Jun/2018 20:37:33] \"POST /dataFromAjax_post HTTP/1.1\" 404 -\n",
      "172.18.0.1 - - [14/Jun/2018 20:37:33] \"POST /predict HTTP/1.1\" 200 -\n"
     ]
    },
    {
     "name": "stdout",
     "output_type": "stream",
     "text": [
      "query 再少点\n",
      "result 额... 如果是这样的话您看我帮您把金额减免一定程度可以吗？ 如果今天换，我帮您把利息1500全部剪掉，您只用还本金1万2。这是我能做大的最大程度了！\n",
      "saving to mongo db successfully!\n"
     ]
    },
    {
     "name": "stderr",
     "output_type": "stream",
     "text": [
      "172.18.0.1 - - [14/Jun/2018 20:37:47] \"POST /dataFromAjax_post HTTP/1.1\" 404 -\n",
      "172.18.0.1 - - [14/Jun/2018 20:37:47] \"POST /predict HTTP/1.1\" 200 -\n"
     ]
    },
    {
     "name": "stdout",
     "output_type": "stream",
     "text": [
      "query 今天真的还不了\n",
      "result 额... 如果是这样的话您看我帮您把金额减免一定程度可以吗？ 如果今天换，我帮您把利息1500全部剪掉，您只用还本金1万2。这是我能做大的最大程度了！\n",
      "saving to mongo db successfully!\n"
     ]
    },
    {
     "name": "stderr",
     "output_type": "stream",
     "text": [
      "172.18.0.1 - - [14/Jun/2018 20:37:50] \"POST /dataFromAjax_post HTTP/1.1\" 404 -\n",
      "172.18.0.1 - - [14/Jun/2018 20:37:50] \"POST /predict HTTP/1.1\" 200 -\n"
     ]
    },
    {
     "name": "stdout",
     "output_type": "stream",
     "text": [
      "query 不行\n",
      "result 额... 如果是这样的话您看我帮您把金额减免一定程度可以吗？ 如果今天换，我帮您把利息1500全部剪掉，您只用还本金1万2。这是我能做大的最大程度了！\n",
      "saving to mongo db successfully!\n"
     ]
    },
    {
     "name": "stderr",
     "output_type": "stream",
     "text": [
      "172.18.0.1 - - [14/Jun/2018 20:37:54] \"POST /dataFromAjax_post HTTP/1.1\" 404 -\n",
      "172.18.0.1 - - [14/Jun/2018 20:37:54] \"POST /predict HTTP/1.1\" 200 -\n"
     ]
    },
    {
     "name": "stdout",
     "output_type": "stream",
     "text": [
      "query 啊没有钱啊\n",
      "result 那么您看这样行吗？ 您今天先还30%，也就是3600块钱，剩下的我为您申请下延期，但剩下的最晚需要在1个月内还清。您看可以吗？\n",
      "saving to mongo db successfully!\n"
     ]
    }
   ],
   "source": [
    "app.debug = False\n",
    "port = 6006\n",
    "print('running at http://10.0.24.31:{}'.format(port))\n",
    "app.run(host='0.0.0.0',port=port)    #这样用来监听所有的ip，团队调试用"
   ]
  },
  {
   "cell_type": "code",
   "execution_count": null,
   "metadata": {
    "collapsed": true
   },
   "outputs": [],
   "source": []
  }
 ],
 "metadata": {
  "kernelspec": {
   "display_name": "Python 3",
   "language": "python",
   "name": "python3"
  },
  "language_info": {
   "codemirror_mode": {
    "name": "ipython",
    "version": 3
   },
   "file_extension": ".py",
   "mimetype": "text/x-python",
   "name": "python",
   "nbconvert_exporter": "python",
   "pygments_lexer": "ipython3",
   "version": "3.6.3"
  },
  "varInspector": {
   "cols": {
    "lenName": 16,
    "lenType": 16,
    "lenVar": 40
   },
   "kernels_config": {
    "python": {
     "delete_cmd_postfix": "",
     "delete_cmd_prefix": "del ",
     "library": "var_list.py",
     "varRefreshCmd": "print(var_dic_list())"
    },
    "r": {
     "delete_cmd_postfix": ") ",
     "delete_cmd_prefix": "rm(",
     "library": "var_list.r",
     "varRefreshCmd": "cat(var_dic_list()) "
    }
   },
   "types_to_exclude": [
    "module",
    "function",
    "builtin_function_or_method",
    "instance",
    "_Feature"
   ],
   "window_display": false
  }
 },
 "nbformat": 4,
 "nbformat_minor": 2
}
