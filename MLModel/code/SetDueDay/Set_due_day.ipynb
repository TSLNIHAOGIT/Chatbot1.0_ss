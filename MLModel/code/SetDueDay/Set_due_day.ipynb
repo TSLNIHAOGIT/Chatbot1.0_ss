{
 "cells": [
  {
   "cell_type": "code",
   "execution_count": 1,
   "metadata": {
    "ExecuteTime": {
     "end_time": "2018-06-14T19:34:23.144360Z",
     "start_time": "2018-06-14T19:34:22.830741Z"
    },
    "collapsed": true
   },
   "outputs": [],
   "source": [
    "#encoding=utf-8\n",
    "import pandas as pd\n",
    "import numpy as np\n",
    "from sklearn.feature_extraction.text import CountVectorizer, TfidfVectorizer, TfidfTransformer"
   ]
  },
  {
   "cell_type": "code",
   "execution_count": 2,
   "metadata": {
    "ExecuteTime": {
     "end_time": "2018-06-14T19:34:23.681549Z",
     "start_time": "2018-06-14T19:34:23.652613Z"
    }
   },
   "outputs": [
    {
     "name": "stdout",
     "output_type": "stream",
     "text": [
      "(12810, 2)\n"
     ]
    },
    {
     "data": {
      "text/html": [
       "<div>\n",
       "<style>\n",
       "    .dataframe thead tr:only-child th {\n",
       "        text-align: right;\n",
       "    }\n",
       "\n",
       "    .dataframe thead th {\n",
       "        text-align: left;\n",
       "    }\n",
       "\n",
       "    .dataframe tbody tr th {\n",
       "        vertical-align: top;\n",
       "    }\n",
       "</style>\n",
       "<table border=\"1\" class=\"dataframe\">\n",
       "  <thead>\n",
       "    <tr style=\"text-align: right;\">\n",
       "      <th></th>\n",
       "      <th>label</th>\n",
       "      <th>split_text</th>\n",
       "    </tr>\n",
       "  </thead>\n",
       "  <tbody>\n",
       "    <tr>\n",
       "      <th>0</th>\n",
       "      <td>2</td>\n",
       "      <td>什么 问题 ？</td>\n",
       "    </tr>\n",
       "    <tr>\n",
       "      <th>1</th>\n",
       "      <td>2</td>\n",
       "      <td>数额 太高 了   我 想到 了 这个 方法</td>\n",
       "    </tr>\n",
       "    <tr>\n",
       "      <th>2</th>\n",
       "      <td>1</td>\n",
       "      <td>我 在 港区</td>\n",
       "    </tr>\n",
       "    <tr>\n",
       "      <th>3</th>\n",
       "      <td>0</td>\n",
       "      <td>现在 你 可以</td>\n",
       "    </tr>\n",
       "    <tr>\n",
       "      <th>4</th>\n",
       "      <td>2</td>\n",
       "      <td>让 我 看看</td>\n",
       "    </tr>\n",
       "    <tr>\n",
       "      <th>5</th>\n",
       "      <td>2</td>\n",
       "      <td>地震</td>\n",
       "    </tr>\n",
       "    <tr>\n",
       "      <th>6</th>\n",
       "      <td>2</td>\n",
       "      <td>这 一次   说 下 一个 高速度 在 说话 。</td>\n",
       "    </tr>\n",
       "    <tr>\n",
       "      <th>7</th>\n",
       "      <td>1</td>\n",
       "      <td>筹集资金</td>\n",
       "    </tr>\n",
       "    <tr>\n",
       "      <th>8</th>\n",
       "      <td>2</td>\n",
       "      <td>你 说 什么 ？</td>\n",
       "    </tr>\n",
       "    <tr>\n",
       "      <th>9</th>\n",
       "      <td>0</td>\n",
       "      <td>三天</td>\n",
       "    </tr>\n",
       "  </tbody>\n",
       "</table>\n",
       "</div>"
      ],
      "text/plain": [
       "   label                split_text\n",
       "0      2                   什么 问题 ？\n",
       "1      2    数额 太高 了   我 想到 了 这个 方法\n",
       "2      1                    我 在 港区\n",
       "3      0                   现在 你 可以\n",
       "4      2                    让 我 看看\n",
       "5      2                        地震\n",
       "6      2  这 一次   说 下 一个 高速度 在 说话 。\n",
       "7      1                      筹集资金\n",
       "8      2                  你 说 什么 ？\n",
       "9      0                        三天"
      ]
     },
     "execution_count": 2,
     "metadata": {},
     "output_type": "execute_result"
    }
   ],
   "source": [
    "# path = '/home/kai/data/jiangning/Chatbot_1/Chatbot1.0/data/'\n",
    "path = '../../data/SetDueDay/'\n",
    "data = pd.read_csv(path + 'cleaned_mock_up_data.csv', encoding='utf8')\n",
    "print(data.shape)\n",
    "data.head(10)"
   ]
  },
  {
   "cell_type": "code",
   "execution_count": 3,
   "metadata": {
    "ExecuteTime": {
     "end_time": "2018-06-14T19:34:23.901742Z",
     "start_time": "2018-06-14T19:34:23.897002Z"
    }
   },
   "outputs": [
    {
     "data": {
      "text/plain": [
       "'数额 太高 了   我 想到 了 这个 方法'"
      ]
     },
     "execution_count": 3,
     "metadata": {},
     "output_type": "execute_result"
    }
   ],
   "source": [
    "data.split_text.iloc[1]"
   ]
  },
  {
   "cell_type": "code",
   "execution_count": 4,
   "metadata": {
    "ExecuteTime": {
     "end_time": "2018-06-14T19:34:24.276796Z",
     "start_time": "2018-06-14T19:34:24.046406Z"
    }
   },
   "outputs": [
    {
     "name": "stdout",
     "output_type": "stream",
     "text": [
      "fitting phrase\n",
      "transform phrase\n"
     ]
    },
    {
     "data": {
      "text/plain": [
       "<12810x18128 sparse matrix of type '<class 'numpy.float64'>'\n",
       "\twith 94566 stored elements in Compressed Sparse Row format>"
      ]
     },
     "execution_count": 4,
     "metadata": {},
     "output_type": "execute_result"
    }
   ],
   "source": [
    "phrase_vectorizer = TfidfVectorizer(ngram_range=(1,3),\n",
    "                                    strip_accents='unicode', \n",
    "                                    max_features=100000, \n",
    "                                    analyzer='word',\n",
    "                                    sublinear_tf=True,\n",
    "                                    token_pattern=r'\\w{1,}')\n",
    "\n",
    "print('fitting phrase')\n",
    "phrase_vectorizer.fit(data.split_text)\n",
    "\n",
    "print('transform phrase')\n",
    "phrase = phrase_vectorizer.transform(data.split_text)\n",
    "\n",
    "phrase"
   ]
  },
  {
   "cell_type": "markdown",
   "metadata": {},
   "source": [
    "# SVC"
   ]
  },
  {
   "cell_type": "code",
   "execution_count": 5,
   "metadata": {
    "ExecuteTime": {
     "end_time": "2018-06-14T19:34:24.808723Z",
     "start_time": "2018-06-14T19:34:24.450522Z"
    }
   },
   "outputs": [
    {
     "name": "stdout",
     "output_type": "stream",
     "text": [
      "0.915612802498\n"
     ]
    }
   ],
   "source": [
    "from sklearn.calibration import CalibratedClassifierCV\n",
    "from sklearn.svm import LinearSVC\n",
    "\n",
    "l_svc = LinearSVC()\n",
    "clf = CalibratedClassifierCV(l_svc) \n",
    "clf.fit(phrase, data.label)\n",
    "print(clf.score(phrase, data.label))"
   ]
  },
  {
   "cell_type": "code",
   "execution_count": 6,
   "metadata": {
    "ExecuteTime": {
     "end_time": "2018-06-14T19:34:24.842721Z",
     "start_time": "2018-06-14T19:34:24.835150Z"
    }
   },
   "outputs": [
    {
     "name": "stdout",
     "output_type": "stream",
     "text": [
      "[0 1 1 ..., 0 0 2]\n"
     ]
    }
   ],
   "source": [
    "print(clf.predict(phrase))"
   ]
  },
  {
   "cell_type": "markdown",
   "metadata": {},
   "source": [
    "# Logistic"
   ]
  },
  {
   "cell_type": "code",
   "execution_count": 7,
   "metadata": {
    "ExecuteTime": {
     "end_time": "2018-06-14T19:34:25.030257Z",
     "start_time": "2018-06-14T19:34:25.027028Z"
    },
    "collapsed": true
   },
   "outputs": [],
   "source": [
    "from sklearn.linear_model import LogisticRegression"
   ]
  },
  {
   "cell_type": "code",
   "execution_count": 8,
   "metadata": {
    "ExecuteTime": {
     "end_time": "2018-06-14T19:34:25.328831Z",
     "start_time": "2018-06-14T19:34:25.209400Z"
    }
   },
   "outputs": [
    {
     "name": "stdout",
     "output_type": "stream",
     "text": [
      "0.88149882904\n"
     ]
    }
   ],
   "source": [
    "log_r = LogisticRegression()\n",
    "log_r.fit(phrase, data.label)\n",
    "print(log_r.score(phrase, data.label))"
   ]
  },
  {
   "cell_type": "code",
   "execution_count": 9,
   "metadata": {
    "ExecuteTime": {
     "end_time": "2018-06-14T19:34:25.384354Z",
     "start_time": "2018-06-14T19:34:25.379602Z"
    }
   },
   "outputs": [
    {
     "name": "stdout",
     "output_type": "stream",
     "text": [
      "[0 1 1 ..., 0 0 2]\n"
     ]
    }
   ],
   "source": [
    "print(log_r.predict(phrase))"
   ]
  },
  {
   "cell_type": "markdown",
   "metadata": {},
   "source": [
    "# LightGBM"
   ]
  },
  {
   "cell_type": "code",
   "execution_count": 10,
   "metadata": {
    "ExecuteTime": {
     "end_time": "2018-06-14T19:34:25.970776Z",
     "start_time": "2018-06-14T19:34:25.957706Z"
    },
    "collapsed": true
   },
   "outputs": [],
   "source": [
    "import lightgbm as lgb"
   ]
  },
  {
   "cell_type": "code",
   "execution_count": 11,
   "metadata": {
    "ExecuteTime": {
     "end_time": "2018-06-14T19:34:26.152653Z",
     "start_time": "2018-06-14T19:34:26.146514Z"
    },
    "collapsed": true
   },
   "outputs": [],
   "source": [
    "from sklearn import preprocessing\n",
    "le = preprocessing.LabelEncoder()\n",
    "le.fit(data.label.values)\n",
    "onelabels = le.transform(data.label.values)"
   ]
  },
  {
   "cell_type": "code",
   "execution_count": 12,
   "metadata": {
    "ExecuteTime": {
     "end_time": "2018-06-14T19:34:26.341112Z",
     "start_time": "2018-06-14T19:34:26.336428Z"
    }
   },
   "outputs": [
    {
     "data": {
      "text/plain": [
       "array([2, 2, 1, ..., 0, 0, 0])"
      ]
     },
     "execution_count": 12,
     "metadata": {},
     "output_type": "execute_result"
    }
   ],
   "source": [
    "onelabels"
   ]
  },
  {
   "cell_type": "code",
   "execution_count": 13,
   "metadata": {
    "ExecuteTime": {
     "end_time": "2018-06-14T19:34:26.551443Z",
     "start_time": "2018-06-14T19:34:26.542992Z"
    },
    "collapsed": true
   },
   "outputs": [],
   "source": [
    "from sklearn.preprocessing import MultiLabelBinarizer\n",
    "multicoder = MultiLabelBinarizer()\n",
    "lables = multicoder.fit_transform([data.label.values])"
   ]
  },
  {
   "cell_type": "code",
   "execution_count": 14,
   "metadata": {
    "ExecuteTime": {
     "end_time": "2018-06-14T19:34:27.159363Z",
     "start_time": "2018-06-14T19:34:27.154746Z"
    }
   },
   "outputs": [
    {
     "data": {
      "text/plain": [
       "array([[1, 1, 1]])"
      ]
     },
     "execution_count": 14,
     "metadata": {},
     "output_type": "execute_result"
    }
   ],
   "source": [
    "lables"
   ]
  },
  {
   "cell_type": "code",
   "execution_count": 15,
   "metadata": {
    "ExecuteTime": {
     "end_time": "2018-06-14T19:34:27.666033Z",
     "start_time": "2018-06-14T19:34:27.661095Z"
    }
   },
   "outputs": [
    {
     "data": {
      "text/plain": [
       "array([2, 2, 1, ..., 0, 0, 0])"
      ]
     },
     "execution_count": 15,
     "metadata": {},
     "output_type": "execute_result"
    }
   ],
   "source": [
    "data.label.values"
   ]
  },
  {
   "cell_type": "code",
   "execution_count": 16,
   "metadata": {
    "ExecuteTime": {
     "end_time": "2018-06-14T19:34:45.226113Z",
     "start_time": "2018-06-14T19:34:40.081205Z"
    }
   },
   "outputs": [
    {
     "name": "stderr",
     "output_type": "stream",
     "text": [
      "/home/kai/anaconda3/lib/python3.6/site-packages/lightgbm/engine.py:99: UserWarning: Found `num_iterations` in params. Will use it instead of argument\n",
      "  warnings.warn(\"Found `{}` in params. Will use it instead of argument\".format(alias))\n",
      "/home/kai/anaconda3/lib/python3.6/site-packages/lightgbm/engine.py:104: UserWarning: Found `early_stopping_round` in params. Will use it instead of argument\n",
      "  warnings.warn(\"Found `{}` in params. Will use it instead of argument\".format(alias))\n"
     ]
    },
    {
     "name": "stdout",
     "output_type": "stream",
     "text": [
      "Training until validation scores don't improve for 200 rounds.\n",
      "[5]\tvalid_0's multi_error: 0.26815\n",
      "[10]\tvalid_0's multi_error: 0.252849\n",
      "[15]\tvalid_0's multi_error: 0.240125\n",
      "[20]\tvalid_0's multi_error: 0.231928\n",
      "[25]\tvalid_0's multi_error: 0.223966\n",
      "[30]\tvalid_0's multi_error: 0.218189\n",
      "[35]\tvalid_0's multi_error: 0.212881\n",
      "[40]\tvalid_0's multi_error: 0.206401\n",
      "[45]\tvalid_0's multi_error: 0.198439\n",
      "[50]\tvalid_0's multi_error: 0.193677\n",
      "[55]\tvalid_0's multi_error: 0.188525\n",
      "[60]\tvalid_0's multi_error: 0.185246\n",
      "[65]\tvalid_0's multi_error: 0.182436\n",
      "[70]\tvalid_0's multi_error: 0.180328\n",
      "[75]\tvalid_0's multi_error: 0.179235\n",
      "[80]\tvalid_0's multi_error: 0.177283\n",
      "[85]\tvalid_0's multi_error: 0.174317\n",
      "[90]\tvalid_0's multi_error: 0.171975\n",
      "[95]\tvalid_0's multi_error: 0.170648\n",
      "[100]\tvalid_0's multi_error: 0.168384\n",
      "[105]\tvalid_0's multi_error: 0.167057\n",
      "[110]\tvalid_0's multi_error: 0.164793\n",
      "[115]\tvalid_0's multi_error: 0.1637\n",
      "[120]\tvalid_0's multi_error: 0.162451\n",
      "[125]\tvalid_0's multi_error: 0.161436\n",
      "[130]\tvalid_0's multi_error: 0.159094\n",
      "[135]\tvalid_0's multi_error: 0.15847\n",
      "[140]\tvalid_0's multi_error: 0.158158\n",
      "[145]\tvalid_0's multi_error: 0.156987\n",
      "[150]\tvalid_0's multi_error: 0.155894\n",
      "[155]\tvalid_0's multi_error: 0.155035\n",
      "[160]\tvalid_0's multi_error: 0.154489\n",
      "[165]\tvalid_0's multi_error: 0.15324\n",
      "[170]\tvalid_0's multi_error: 0.152771\n",
      "[175]\tvalid_0's multi_error: 0.152459\n",
      "[180]\tvalid_0's multi_error: 0.1516\n",
      "[185]\tvalid_0's multi_error: 0.150429\n",
      "[190]\tvalid_0's multi_error: 0.149258\n",
      "[195]\tvalid_0's multi_error: 0.1484\n",
      "[200]\tvalid_0's multi_error: 0.148087\n",
      "[205]\tvalid_0's multi_error: 0.147541\n",
      "[210]\tvalid_0's multi_error: 0.147151\n",
      "[215]\tvalid_0's multi_error: 0.14676\n",
      "[220]\tvalid_0's multi_error: 0.145746\n",
      "[225]\tvalid_0's multi_error: 0.145746\n",
      "[230]\tvalid_0's multi_error: 0.144809\n",
      "[235]\tvalid_0's multi_error: 0.144575\n",
      "[240]\tvalid_0's multi_error: 0.144184\n",
      "[245]\tvalid_0's multi_error: 0.142779\n",
      "[250]\tvalid_0's multi_error: 0.142155\n",
      "[255]\tvalid_0's multi_error: 0.141374\n",
      "[260]\tvalid_0's multi_error: 0.140671\n",
      "[265]\tvalid_0's multi_error: 0.140125\n",
      "[270]\tvalid_0's multi_error: 0.140203\n",
      "[275]\tvalid_0's multi_error: 0.139813\n",
      "[280]\tvalid_0's multi_error: 0.139266\n",
      "[285]\tvalid_0's multi_error: 0.13911\n",
      "[290]\tvalid_0's multi_error: 0.138798\n",
      "[295]\tvalid_0's multi_error: 0.138407\n",
      "[300]\tvalid_0's multi_error: 0.138173\n",
      "[305]\tvalid_0's multi_error: 0.137783\n",
      "[310]\tvalid_0's multi_error: 0.137393\n",
      "[315]\tvalid_0's multi_error: 0.13669\n",
      "[320]\tvalid_0's multi_error: 0.136534\n",
      "[325]\tvalid_0's multi_error: 0.136144\n",
      "[330]\tvalid_0's multi_error: 0.136144\n",
      "[335]\tvalid_0's multi_error: 0.135909\n",
      "[340]\tvalid_0's multi_error: 0.136066\n",
      "[345]\tvalid_0's multi_error: 0.135519\n",
      "[350]\tvalid_0's multi_error: 0.135519\n",
      "[355]\tvalid_0's multi_error: 0.135363\n",
      "[360]\tvalid_0's multi_error: 0.135441\n",
      "[365]\tvalid_0's multi_error: 0.134973\n",
      "[370]\tvalid_0's multi_error: 0.134895\n",
      "[375]\tvalid_0's multi_error: 0.134738\n",
      "[380]\tvalid_0's multi_error: 0.134817\n",
      "[385]\tvalid_0's multi_error: 0.13466\n",
      "[390]\tvalid_0's multi_error: 0.134036\n",
      "[395]\tvalid_0's multi_error: 0.133802\n",
      "[400]\tvalid_0's multi_error: 0.133568\n",
      "[405]\tvalid_0's multi_error: 0.133333\n",
      "[410]\tvalid_0's multi_error: 0.133333\n",
      "[415]\tvalid_0's multi_error: 0.133177\n",
      "[420]\tvalid_0's multi_error: 0.132943\n",
      "[425]\tvalid_0's multi_error: 0.132865\n",
      "[430]\tvalid_0's multi_error: 0.132865\n",
      "[435]\tvalid_0's multi_error: 0.132943\n",
      "[440]\tvalid_0's multi_error: 0.132631\n",
      "[445]\tvalid_0's multi_error: 0.13224\n",
      "[450]\tvalid_0's multi_error: 0.132006\n",
      "[455]\tvalid_0's multi_error: 0.131694\n",
      "[460]\tvalid_0's multi_error: 0.13146\n",
      "[465]\tvalid_0's multi_error: 0.131382\n",
      "[470]\tvalid_0's multi_error: 0.131304\n",
      "[475]\tvalid_0's multi_error: 0.131382\n",
      "[480]\tvalid_0's multi_error: 0.131226\n",
      "[485]\tvalid_0's multi_error: 0.130991\n",
      "[490]\tvalid_0's multi_error: 0.130757\n",
      "[495]\tvalid_0's multi_error: 0.130601\n",
      "[500]\tvalid_0's multi_error: 0.130523\n",
      "[505]\tvalid_0's multi_error: 0.130367\n",
      "[510]\tvalid_0's multi_error: 0.130055\n",
      "[515]\tvalid_0's multi_error: 0.129664\n",
      "[520]\tvalid_0's multi_error: 0.12943\n",
      "[525]\tvalid_0's multi_error: 0.129352\n",
      "[530]\tvalid_0's multi_error: 0.129274\n",
      "[535]\tvalid_0's multi_error: 0.129196\n",
      "[540]\tvalid_0's multi_error: 0.128806\n",
      "[545]\tvalid_0's multi_error: 0.128884\n",
      "[550]\tvalid_0's multi_error: 0.128728\n",
      "[555]\tvalid_0's multi_error: 0.128649\n",
      "[560]\tvalid_0's multi_error: 0.128649\n",
      "[565]\tvalid_0's multi_error: 0.128337\n",
      "[570]\tvalid_0's multi_error: 0.128259\n",
      "[575]\tvalid_0's multi_error: 0.128103\n",
      "[580]\tvalid_0's multi_error: 0.128181\n",
      "[585]\tvalid_0's multi_error: 0.128259\n",
      "[590]\tvalid_0's multi_error: 0.128103\n",
      "[595]\tvalid_0's multi_error: 0.128181\n",
      "[600]\tvalid_0's multi_error: 0.128025\n",
      "[605]\tvalid_0's multi_error: 0.127869\n",
      "[610]\tvalid_0's multi_error: 0.127869\n",
      "[615]\tvalid_0's multi_error: 0.127791\n",
      "[620]\tvalid_0's multi_error: 0.127713\n",
      "[625]\tvalid_0's multi_error: 0.127635\n",
      "[630]\tvalid_0's multi_error: 0.127479\n",
      "[635]\tvalid_0's multi_error: 0.127322\n",
      "[640]\tvalid_0's multi_error: 0.127557\n",
      "[645]\tvalid_0's multi_error: 0.127557\n",
      "[650]\tvalid_0's multi_error: 0.127479\n",
      "[655]\tvalid_0's multi_error: 0.127479\n",
      "[660]\tvalid_0's multi_error: 0.127557\n",
      "[665]\tvalid_0's multi_error: 0.127244\n",
      "[670]\tvalid_0's multi_error: 0.127166\n",
      "[675]\tvalid_0's multi_error: 0.127088\n",
      "[680]\tvalid_0's multi_error: 0.127088\n",
      "[685]\tvalid_0's multi_error: 0.126932\n",
      "[690]\tvalid_0's multi_error: 0.126932\n",
      "[695]\tvalid_0's multi_error: 0.126776\n",
      "[700]\tvalid_0's multi_error: 0.126776\n",
      "[705]\tvalid_0's multi_error: 0.126776\n",
      "[710]\tvalid_0's multi_error: 0.12662\n",
      "[715]\tvalid_0's multi_error: 0.126854\n",
      "[720]\tvalid_0's multi_error: 0.126776\n",
      "[725]\tvalid_0's multi_error: 0.126542\n",
      "[730]\tvalid_0's multi_error: 0.126542\n",
      "[735]\tvalid_0's multi_error: 0.126542\n",
      "[740]\tvalid_0's multi_error: 0.126542\n",
      "[745]\tvalid_0's multi_error: 0.126386\n",
      "[750]\tvalid_0's multi_error: 0.126386\n",
      "[755]\tvalid_0's multi_error: 0.126151\n",
      "[760]\tvalid_0's multi_error: 0.12623\n",
      "[765]\tvalid_0's multi_error: 0.12623\n",
      "[770]\tvalid_0's multi_error: 0.126151\n",
      "[775]\tvalid_0's multi_error: 0.126151\n",
      "[780]\tvalid_0's multi_error: 0.126151\n",
      "[785]\tvalid_0's multi_error: 0.126151\n",
      "[790]\tvalid_0's multi_error: 0.126151\n",
      "[795]\tvalid_0's multi_error: 0.126151\n",
      "[800]\tvalid_0's multi_error: 0.126151\n",
      "[805]\tvalid_0's multi_error: 0.126151\n",
      "[810]\tvalid_0's multi_error: 0.126151\n",
      "[815]\tvalid_0's multi_error: 0.126151\n",
      "[820]\tvalid_0's multi_error: 0.126151\n",
      "[825]\tvalid_0's multi_error: 0.126151\n",
      "[830]\tvalid_0's multi_error: 0.126151\n",
      "[835]\tvalid_0's multi_error: 0.126151\n",
      "[840]\tvalid_0's multi_error: 0.126151\n",
      "[845]\tvalid_0's multi_error: 0.126151\n",
      "[850]\tvalid_0's multi_error: 0.126151\n",
      "[855]\tvalid_0's multi_error: 0.126151\n",
      "[860]\tvalid_0's multi_error: 0.126151\n",
      "[865]\tvalid_0's multi_error: 0.126151\n",
      "[870]\tvalid_0's multi_error: 0.126151\n",
      "[875]\tvalid_0's multi_error: 0.126151\n",
      "[880]\tvalid_0's multi_error: 0.126151\n",
      "[885]\tvalid_0's multi_error: 0.126151\n",
      "[890]\tvalid_0's multi_error: 0.126151\n",
      "[895]\tvalid_0's multi_error: 0.126151\n",
      "[900]\tvalid_0's multi_error: 0.126151\n",
      "[905]\tvalid_0's multi_error: 0.126151\n",
      "[910]\tvalid_0's multi_error: 0.126151\n",
      "[915]\tvalid_0's multi_error: 0.126151\n",
      "[920]\tvalid_0's multi_error: 0.126151\n",
      "[925]\tvalid_0's multi_error: 0.126151\n",
      "[930]\tvalid_0's multi_error: 0.126151\n",
      "[935]\tvalid_0's multi_error: 0.126151\n",
      "[940]\tvalid_0's multi_error: 0.126151\n",
      "[945]\tvalid_0's multi_error: 0.126151\n",
      "[950]\tvalid_0's multi_error: 0.126151\n",
      "Early stopping, best iteration is:\n",
      "[753]\tvalid_0's multi_error: 0.126073\n"
     ]
    }
   ],
   "source": [
    "params = {\n",
    "    'learning_rate': 0.2,\n",
    "    'num_iterations':1000,\n",
    "    'application': 'multiclassova',\n",
    "    'num_class': 3,\n",
    "    'num_leaves': 31,\n",
    "    'verbosity': -1,\n",
    "    'metric': 'multi_error',\n",
    "    'data_random_seed': 2,\n",
    "#     'bagging_fraction': 0.8,\n",
    "#     'feature_fraction': 0.6,\n",
    "    'nthread': 4,\n",
    "    'lambda_l1': 1,\n",
    "    'lambda_l2': 1,\n",
    "    'early_stopping_round':200\n",
    "} \n",
    "\n",
    "# lgbm_train = lgb.Dataset(phrase, data.label)\n",
    "lgbm_train = lgb.Dataset(phrase, onelabels)\n",
    "lgbm_val = lgb.Dataset(phrase, onelabels)\n",
    "lgbm_model = lgb.train(params,lgbm_train,valid_sets=lgbm_val, verbose_eval=5)"
   ]
  },
  {
   "cell_type": "code",
   "execution_count": 17,
   "metadata": {
    "ExecuteTime": {
     "end_time": "2018-06-14T19:34:47.447818Z",
     "start_time": "2018-06-14T19:34:47.444789Z"
    },
    "collapsed": true
   },
   "outputs": [],
   "source": [
    "# print(lgbm_model.predict(phrase))"
   ]
  },
  {
   "cell_type": "markdown",
   "metadata": {},
   "source": [
    "# Save"
   ]
  },
  {
   "cell_type": "code",
   "execution_count": 18,
   "metadata": {
    "ExecuteTime": {
     "end_time": "2018-06-13T18:37:52.379887Z",
     "start_time": "2018-06-13T18:37:52.310995Z"
    },
    "collapsed": true
   },
   "outputs": [],
   "source": [
    "import pickle\n",
    "\n",
    "# save tfidf\n",
    "pickle.dump(phrase_vectorizer, open(\"../../savedModel/SetDueDay/tfidf.pickle\", \"wb\"))\n",
    "# pickle.dump(train_comment_features, open(\"train_comment_features.pickle\", \"wb\"))\n",
    "# pickle.dump(test_comment_features, open(\"test_comment_features.pickle\", \"wb\"))\n",
    "\n",
    "# save linear svc\n",
    "pickle.dump(clf, open(\"../../savedModel/SetDueDay/LinearSVC.pickle\", \"wb\"))\n",
    "# save logistic\n",
    "pickle.dump(log_r, open(\"../../savedModel/SetDueDay/Logistic.pickle\", \"wb\"))\n",
    "# save lightGBM\n",
    "pickle.dump(lgbm_model, open(\"../../savedModel/SetDueDay/Lgbm.pickle\", \"wb\"))"
   ]
  },
  {
   "cell_type": "markdown",
   "metadata": {
    "collapsed": true
   },
   "source": [
    "# test"
   ]
  },
  {
   "cell_type": "code",
   "execution_count": 18,
   "metadata": {
    "ExecuteTime": {
     "end_time": "2018-06-14T19:35:00.506312Z",
     "start_time": "2018-06-14T19:35:00.501392Z"
    },
    "collapsed": true
   },
   "outputs": [],
   "source": [
    "test = phrase_vectorizer.transform(['滚'])\n",
    "# test = phrase_vectorizer.transform(['我 在 洗澡'])"
   ]
  },
  {
   "cell_type": "code",
   "execution_count": 19,
   "metadata": {
    "ExecuteTime": {
     "end_time": "2018-06-14T19:35:01.552926Z",
     "start_time": "2018-06-14T19:35:01.546323Z"
    }
   },
   "outputs": [
    {
     "data": {
      "text/plain": [
       "array([[ 0.88240641,  0.05556803,  0.06202556]])"
      ]
     },
     "execution_count": 19,
     "metadata": {},
     "output_type": "execute_result"
    }
   ],
   "source": [
    "clf.predict_proba(test) # linear svc"
   ]
  },
  {
   "cell_type": "code",
   "execution_count": 20,
   "metadata": {
    "ExecuteTime": {
     "end_time": "2018-06-14T19:35:02.717709Z",
     "start_time": "2018-06-14T19:35:02.712346Z"
    }
   },
   "outputs": [
    {
     "data": {
      "text/plain": [
       "array([[ 0.5453498 ,  0.22986951,  0.2247807 ]])"
      ]
     },
     "execution_count": 20,
     "metadata": {},
     "output_type": "execute_result"
    }
   ],
   "source": [
    "log_r.predict_proba(test) # logistic"
   ]
  },
  {
   "cell_type": "code",
   "execution_count": 21,
   "metadata": {
    "ExecuteTime": {
     "end_time": "2018-06-14T19:35:03.372834Z",
     "start_time": "2018-06-14T19:35:03.365735Z"
    }
   },
   "outputs": [
    {
     "data": {
      "text/plain": [
       "array([[ 0.37687097,  0.21631133,  0.34972291]])"
      ]
     },
     "execution_count": 21,
     "metadata": {},
     "output_type": "execute_result"
    }
   ],
   "source": [
    "lgbm_model.predict(test) # light gbm"
   ]
  },
  {
   "cell_type": "markdown",
   "metadata": {},
   "source": [
    "# Labeling"
   ]
  },
  {
   "cell_type": "code",
   "execution_count": 27,
   "metadata": {
    "ExecuteTime": {
     "end_time": "2018-06-13T18:38:05.867461Z",
     "start_time": "2018-06-13T18:38:05.847560Z"
    }
   },
   "outputs": [
    {
     "name": "stdout",
     "output_type": "stream",
     "text": [
      "label= 1\n",
      "prob= 0.983824511806\n"
     ]
    }
   ],
   "source": [
    "# basic logic: find the max probability of 3 models, if it is larger than threshold, return the corresponding label, otherwise, return 2 (others).\n",
    "result = np.vstack((clf.predict_proba(test),log_r.predict_proba(test),lgbm_model.predict(test)))\n",
    "pos = np.where(result == np.max(result))\n",
    "\n",
    "threshold = 0.7\n",
    "if np.max(result)<threshold:\n",
    "    label = 2\n",
    "else:\n",
    "    label = pos[1]\n",
    "    label = label[0]\n",
    "    \n",
    "print('label=',label)\n",
    "print('prob=',np.max(result))"
   ]
  },
  {
   "cell_type": "markdown",
   "metadata": {
    "collapsed": true
   },
   "source": [
    "# Save the whole thing"
   ]
  },
  {
   "cell_type": "code",
   "execution_count": 28,
   "metadata": {
    "ExecuteTime": {
     "end_time": "2018-06-13T18:38:07.553429Z",
     "start_time": "2018-06-13T18:38:07.538836Z"
    },
    "collapsed": true
   },
   "outputs": [],
   "source": [
    "# import jieba\n",
    "# import numpy as np\n",
    "\n",
    "# class SetDueDay:\n",
    "    \n",
    "#     def __init__(self, **model):\n",
    "#         \"\"\"\n",
    "#         suggested parameters:\n",
    "#         svc, logistic, lightgbm, jieba_path,tfidf\n",
    "#         \"\"\"\n",
    "#         self._load_model(**model)\n",
    "        \n",
    "#     def _load_model(self,**model):\n",
    "#         self.svc = model.get('svc')\n",
    "#         self.logistic = model.get('logistic')\n",
    "#         self.lightgbm = model.get('lightgbm')\n",
    "#         self.tfidf = model.get('tfidf')\n",
    "#         # load jieba\n",
    "#         jieba_path = model.get('jieba_path')\n",
    "#         if jieba_path is not None:\n",
    "#             jieba.load_userdict(jieba_path)\n",
    "        \n",
    "        \n",
    "#     def classify(self, sentence):\n",
    "#         sentence = jieba.cut(sentence, cut_all = False)\n",
    "#         sentence = ' '.join(sentence)\n",
    "#         matrix = self.tfidf.transform([sentence])\n",
    "#         result = np.vstack((self.svc.predict_proba(matrix),\n",
    "#                             self.logistic.predict_proba(matrix),\n",
    "#                             self.lightgbm.predict(matrix)))\n",
    "#         max_pred = np.max(result, axis=0)\n",
    "#         max_arg = np.argmax(max_pred)\n",
    "#         threshold = 0.6\n",
    "#         if np.max(max_pred)<threshold:\n",
    "#             label = 2\n",
    "#         else:\n",
    "#             label = max_arg\n",
    "#         return (label, np.max(max_pred))\n",
    "     \n",
    "        "
   ]
  },
  {
   "cell_type": "code",
   "execution_count": 29,
   "metadata": {
    "ExecuteTime": {
     "end_time": "2018-06-13T18:38:07.984244Z",
     "start_time": "2018-06-13T18:38:07.958270Z"
    },
    "collapsed": true
   },
   "outputs": [],
   "source": [
    "%load_ext autoreload\n",
    "%autoreload 2"
   ]
  },
  {
   "cell_type": "code",
   "execution_count": 1,
   "metadata": {
    "ExecuteTime": {
     "end_time": "2018-06-17T04:19:18.710394Z",
     "start_time": "2018-06-17T04:19:17.704191Z"
    },
    "collapsed": true
   },
   "outputs": [],
   "source": [
    "import pickle\n",
    "clf = pickle.load(open(\"../../savedModel/SetDueDay/LinearSVC.pickle\", \"rb\"))\n",
    "lgbm_model = pickle.load(open(\"../../savedModel/SetDueDay/Lgbm.pickle\", \"rb\"))\n",
    "phrase_vectorizer = pickle.load(open(\"../../savedModel/SetDueDay/tfidf.pickle\", \"rb\"))\n",
    "log_r = pickle.load(open(\"../../savedModel/SetDueDay/Logistic.pickle\", \"rb\"))"
   ]
  },
  {
   "cell_type": "code",
   "execution_count": 2,
   "metadata": {
    "ExecuteTime": {
     "end_time": "2018-06-17T04:19:36.376162Z",
     "start_time": "2018-06-17T04:19:35.880686Z"
    }
   },
   "outputs": [],
   "source": [
    "from SetDueDay_py import SetDueDay\n",
    "ifk = SetDueDay(svc=clf, logistic=log_r, lightgbm=lgbm_model, tfidf=phrase_vectorizer,) #jieba_path='../WordCut/userdict.txt')\n",
    "\n",
    "pickle.dump(ifk, open(\"../../savedModel/SetDueDay/SetDueDay.pickle\", \"wb\"))"
   ]
  },
  {
   "cell_type": "code",
   "execution_count": null,
   "metadata": {
    "collapsed": true
   },
   "outputs": [],
   "source": []
  }
 ],
 "metadata": {
  "kernelspec": {
   "display_name": "Python 3",
   "language": "python",
   "name": "python3"
  },
  "language_info": {
   "codemirror_mode": {
    "name": "ipython",
    "version": 3
   },
   "file_extension": ".py",
   "mimetype": "text/x-python",
   "name": "python",
   "nbconvert_exporter": "python",
   "pygments_lexer": "ipython3",
   "version": "3.6.3"
  },
  "varInspector": {
   "cols": {
    "lenName": 16,
    "lenType": 16,
    "lenVar": 40
   },
   "kernels_config": {
    "python": {
     "delete_cmd_postfix": "",
     "delete_cmd_prefix": "del ",
     "library": "var_list.py",
     "varRefreshCmd": "print(var_dic_list())"
    },
    "r": {
     "delete_cmd_postfix": ") ",
     "delete_cmd_prefix": "rm(",
     "library": "var_list.r",
     "varRefreshCmd": "cat(var_dic_list()) "
    }
   },
   "types_to_exclude": [
    "module",
    "function",
    "builtin_function_or_method",
    "instance",
    "_Feature"
   ],
   "window_display": false
  }
 },
 "nbformat": 4,
 "nbformat_minor": 2
}
