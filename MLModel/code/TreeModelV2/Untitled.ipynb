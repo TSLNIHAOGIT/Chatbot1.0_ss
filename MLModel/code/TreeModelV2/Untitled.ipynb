{
 "cells": [
  {
   "cell_type": "code",
   "execution_count": 1,
   "metadata": {
    "ExecuteTime": {
     "end_time": "2018-06-29T03:37:52.715585Z",
     "start_time": "2018-06-29T03:37:52.381117Z"
    }
   },
   "outputs": [],
   "source": [
    "import pandas as pd\n",
    "import numpy as np"
   ]
  },
  {
   "cell_type": "code",
   "execution_count": 2,
   "metadata": {
    "ExecuteTime": {
     "end_time": "2018-06-29T03:53:04.479263Z",
     "start_time": "2018-06-29T03:53:04.470264Z"
    }
   },
   "outputs": [],
   "source": [
    "data = {'node':'a','label':2, 'message':'1','sentiment':1,}\n",
    "col = ['node','label','message':2,'sentiment']"
   ]
  },
  {
   "cell_type": "code",
   "execution_count": 3,
   "metadata": {
    "ExecuteTime": {
     "end_time": "2018-06-29T03:53:15.367072Z",
     "start_time": "2018-06-29T03:53:15.357446Z"
    }
   },
   "outputs": [],
   "source": [
    "df = pd.DataFrame([data])"
   ]
  },
  {
   "cell_type": "code",
   "execution_count": 4,
   "metadata": {
    "ExecuteTime": {
     "end_time": "2018-06-29T03:53:16.461129Z",
     "start_time": "2018-06-29T03:53:16.435232Z"
    }
   },
   "outputs": [
    {
     "data": {
      "text/html": [
       "<div>\n",
       "<style scoped>\n",
       "    .dataframe tbody tr th:only-of-type {\n",
       "        vertical-align: middle;\n",
       "    }\n",
       "\n",
       "    .dataframe tbody tr th {\n",
       "        vertical-align: top;\n",
       "    }\n",
       "\n",
       "    .dataframe thead th {\n",
       "        text-align: right;\n",
       "    }\n",
       "</style>\n",
       "<table border=\"1\" class=\"dataframe\">\n",
       "  <thead>\n",
       "    <tr style=\"text-align: right;\">\n",
       "      <th></th>\n",
       "      <th>connecting</th>\n",
       "      <th>jump</th>\n",
       "      <th>label</th>\n",
       "      <th>message</th>\n",
       "      <th>node</th>\n",
       "      <th>sentiment</th>\n",
       "    </tr>\n",
       "  </thead>\n",
       "  <tbody>\n",
       "    <tr>\n",
       "      <th>0</th>\n",
       "      <td>a</td>\n",
       "      <td>N</td>\n",
       "      <td>2</td>\n",
       "      <td>1</td>\n",
       "      <td>a</td>\n",
       "      <td>1</td>\n",
       "    </tr>\n",
       "  </tbody>\n",
       "</table>\n",
       "</div>"
      ],
      "text/plain": [
       "  connecting jump  label message node  sentiment\n",
       "0          a    N      2       1    a          1"
      ]
     },
     "execution_count": 4,
     "metadata": {},
     "output_type": "execute_result"
    }
   ],
   "source": [
    "df = df"
   ]
  },
  {
   "cell_type": "markdown",
   "metadata": {},
   "source": [
    "# ===================="
   ]
  },
  {
   "cell_type": "code",
   "execution_count": 5,
   "metadata": {
    "ExecuteTime": {
     "end_time": "2018-06-29T04:00:29.567932Z",
     "start_time": "2018-06-29T04:00:29.547765Z"
    }
   },
   "outputs": [],
   "source": [
    "connection = {\n",
    "                            's0':{0:'cf_s1_n1_identity_q'}, \n",
    "                            'cf_s1_n1_identity_q':{1:'cf_s1_n5_ifAcquainted_q',\n",
    "                                    0:'cf_s1_n2_confirmLoan_q',\n",
    "                                    2:'cf_s1_n4_identity_a_misc'},\n",
    "                            'cf_s1_n2_confirmLoan_q':{0:'cf_s1_n15_verifyWill_q',\n",
    "                                    1:'cf_s1_n2_confirmLoan_q',\n",
    "                                    2:'cf_s1_n3_confirmLoan_a_misc'},\n",
    "\n",
    "                            'cf_s1_n5_ifAcquainted_q':{0:'cf_s1_n101_ifAcquainted_s',\n",
    "                                    1:'cf_s1_n102_ifAcquainted_s',\n",
    "                                    2:'cf_s1_n7_ifAcquainted_a_misc'},\n",
    "                            'cf_s1_n15_verifyWill_q':{0:'cf_s1_n103_paymentChannel_s',\n",
    "                                    1:'cf_s1_n15_verifyWill_q',\n",
    "                                    2:'cf_s1_n25_cutDebt_q',\n",
    "                                    3:'cf_s1_n19_verifyWill_a_misc',\n",
    "                                    4:'cf_s1_n15_verifyWill_q',\n",
    "                                    5:'cf_s1_n15_verifyWill_q',},\n",
    "                            'cf_s1_n25_cutDebt_q':{0:'cf_s1_n104_paymentChannel_s',\n",
    "                                    1:'cf_s1_n25_cutDebt_q',\n",
    "                                    2:'cf_s1_n30_cutDebt_a_misc',\n",
    "                                    3:'cf_s1_n25_cutDebt_q',\n",
    "                                    4:'cf_s1_n25_cutDebt_q',}, \n",
    "                            'cf_s1_n32_splitDebt_q':{0:'cf_s1_n106_paymentChannel_s',\n",
    "                                    1:'cf_s1_n32_splitDebt_q',\n",
    "                                    2:'cf_s1_n35_splitDebt_a_misc',\n",
    "                                    3:'cf_s1_n32_splitDebt_q',\n",
    "                                    4:'cf_s1_n32_splitDebt_q',}, \n",
    "                   \n",
    "                    }   \n",
    "jump = {\n",
    "                      'cf_s1_n25_cutDebt_q':{1:'cf_s1_n32_splitDebt_q'},\n",
    "                      'cf_s1_n32_splitDebt_q':{1:'cf_s1_n105_noResult_s'},\n",
    "                        'cf_s1_n15_verifyWill_q':{1:'cf_s1_n25_cutDebt_q'},\n",
    "                     'cf_s1_n2_confirmLoan_q':{1:'cf_s1_n108_noResult_s'}} \n",
    "\n",
    "other = {\n",
    "                        'cf_s1_n3_confirmLoan_a_misc':{0:'cf_s1_n2_confirmLoan_q'},\n",
    "                        'cf_s1_n4_identity_a_misc':{0:'cf_s1_n1_identity_q'},\n",
    "                        'cf_s1_n7_ifAcquainted_a_misc':{0:'cf_s1_n5_ifAcquainted_q'},\n",
    "                        'cf_s1_n19_verifyWill_a_misc':{0:'cf_s1_n15_verifyWill_q'},\n",
    "                        'cf_s1_n30_cutDebt_a_misc':{0:'cf_s1_n25_cutDebt_q'},\n",
    "                        'cf_s1_n35_splitDebt_a_misc':{0:'cf_s1_n32_splitDebt_q'},}"
   ]
  },
  {
   "cell_type": "code",
   "execution_count": 20,
   "metadata": {
    "ExecuteTime": {
     "end_time": "2018-06-29T04:27:17.411975Z",
     "start_time": "2018-06-29T04:27:17.398073Z"
    }
   },
   "outputs": [
    {
     "name": "stdout",
     "output_type": "stream",
     "text": [
      "cf_s1_n2_confirmLoan_q\n",
      "1\n",
      "===========\n",
      "cf_s1_n15_verifyWill_q\n",
      "1\n",
      "===========\n",
      "cf_s1_n25_cutDebt_q\n",
      "1\n",
      "===========\n",
      "cf_s1_n32_splitDebt_q\n",
      "1\n",
      "===========\n"
     ]
    }
   ],
   "source": [
    "result = []\n",
    "for each in connection:\n",
    "    for each_key in connection[each]:\n",
    "        sample = {}\n",
    "        node_name = each\n",
    "        label = each_key\n",
    "        # get connect\n",
    "        if other.get(connection[each][each_key]) is None:\n",
    "            connected = connection[each][each_key]\n",
    "        else:\n",
    "            connected =  other.get(connection[each][each_key])[0]\n",
    "        # get jump\n",
    "        if jump.get(each) is not None:\n",
    "            if jump[each].get(each_key) is not None:\n",
    "                jumped = jump[each].get(each_key)\n",
    "                print(each)\n",
    "                print(each_key)\n",
    "                print('===========')\n",
    "            else:\n",
    "                jumped = 'N'\n",
    "        else:\n",
    "            jumped = 'N'\n",
    "        result.append({'label':label,'node_name':node_name,'connection':connected, 'jump':jumped})\n",
    "df = pd.DataFrame(result)\n",
    "df = df[['node_name','label','connection','jump']]"
   ]
  },
  {
   "cell_type": "code",
   "execution_count": 21,
   "metadata": {
    "ExecuteTime": {
     "end_time": "2018-06-29T04:27:18.707370Z",
     "start_time": "2018-06-29T04:27:18.689688Z"
    }
   },
   "outputs": [
    {
     "data": {
      "text/html": [
       "<div>\n",
       "<style scoped>\n",
       "    .dataframe tbody tr th:only-of-type {\n",
       "        vertical-align: middle;\n",
       "    }\n",
       "\n",
       "    .dataframe tbody tr th {\n",
       "        vertical-align: top;\n",
       "    }\n",
       "\n",
       "    .dataframe thead th {\n",
       "        text-align: right;\n",
       "    }\n",
       "</style>\n",
       "<table border=\"1\" class=\"dataframe\">\n",
       "  <thead>\n",
       "    <tr style=\"text-align: right;\">\n",
       "      <th></th>\n",
       "      <th>node_name</th>\n",
       "      <th>label</th>\n",
       "      <th>connection</th>\n",
       "      <th>jump</th>\n",
       "    </tr>\n",
       "  </thead>\n",
       "  <tbody>\n",
       "    <tr>\n",
       "      <th>0</th>\n",
       "      <td>s0</td>\n",
       "      <td>0</td>\n",
       "      <td>cf_s1_n1_identity_q</td>\n",
       "      <td>N</td>\n",
       "    </tr>\n",
       "    <tr>\n",
       "      <th>1</th>\n",
       "      <td>cf_s1_n1_identity_q</td>\n",
       "      <td>1</td>\n",
       "      <td>cf_s1_n5_ifAcquainted_q</td>\n",
       "      <td>N</td>\n",
       "    </tr>\n",
       "    <tr>\n",
       "      <th>2</th>\n",
       "      <td>cf_s1_n1_identity_q</td>\n",
       "      <td>0</td>\n",
       "      <td>cf_s1_n2_confirmLoan_q</td>\n",
       "      <td>N</td>\n",
       "    </tr>\n",
       "    <tr>\n",
       "      <th>3</th>\n",
       "      <td>cf_s1_n1_identity_q</td>\n",
       "      <td>2</td>\n",
       "      <td>cf_s1_n1_identity_q</td>\n",
       "      <td>N</td>\n",
       "    </tr>\n",
       "    <tr>\n",
       "      <th>4</th>\n",
       "      <td>cf_s1_n2_confirmLoan_q</td>\n",
       "      <td>0</td>\n",
       "      <td>cf_s1_n15_verifyWill_q</td>\n",
       "      <td>N</td>\n",
       "    </tr>\n",
       "    <tr>\n",
       "      <th>5</th>\n",
       "      <td>cf_s1_n2_confirmLoan_q</td>\n",
       "      <td>1</td>\n",
       "      <td>cf_s1_n2_confirmLoan_q</td>\n",
       "      <td>cf_s1_n108_noResult_s</td>\n",
       "    </tr>\n",
       "    <tr>\n",
       "      <th>6</th>\n",
       "      <td>cf_s1_n2_confirmLoan_q</td>\n",
       "      <td>2</td>\n",
       "      <td>cf_s1_n2_confirmLoan_q</td>\n",
       "      <td>N</td>\n",
       "    </tr>\n",
       "    <tr>\n",
       "      <th>7</th>\n",
       "      <td>cf_s1_n5_ifAcquainted_q</td>\n",
       "      <td>0</td>\n",
       "      <td>cf_s1_n101_ifAcquainted_s</td>\n",
       "      <td>N</td>\n",
       "    </tr>\n",
       "    <tr>\n",
       "      <th>8</th>\n",
       "      <td>cf_s1_n5_ifAcquainted_q</td>\n",
       "      <td>1</td>\n",
       "      <td>cf_s1_n102_ifAcquainted_s</td>\n",
       "      <td>N</td>\n",
       "    </tr>\n",
       "    <tr>\n",
       "      <th>9</th>\n",
       "      <td>cf_s1_n5_ifAcquainted_q</td>\n",
       "      <td>2</td>\n",
       "      <td>cf_s1_n5_ifAcquainted_q</td>\n",
       "      <td>N</td>\n",
       "    </tr>\n",
       "    <tr>\n",
       "      <th>10</th>\n",
       "      <td>cf_s1_n15_verifyWill_q</td>\n",
       "      <td>0</td>\n",
       "      <td>cf_s1_n103_paymentChannel_s</td>\n",
       "      <td>N</td>\n",
       "    </tr>\n",
       "    <tr>\n",
       "      <th>11</th>\n",
       "      <td>cf_s1_n15_verifyWill_q</td>\n",
       "      <td>1</td>\n",
       "      <td>cf_s1_n15_verifyWill_q</td>\n",
       "      <td>cf_s1_n25_cutDebt_q</td>\n",
       "    </tr>\n",
       "    <tr>\n",
       "      <th>12</th>\n",
       "      <td>cf_s1_n15_verifyWill_q</td>\n",
       "      <td>2</td>\n",
       "      <td>cf_s1_n25_cutDebt_q</td>\n",
       "      <td>N</td>\n",
       "    </tr>\n",
       "    <tr>\n",
       "      <th>13</th>\n",
       "      <td>cf_s1_n15_verifyWill_q</td>\n",
       "      <td>3</td>\n",
       "      <td>cf_s1_n15_verifyWill_q</td>\n",
       "      <td>N</td>\n",
       "    </tr>\n",
       "    <tr>\n",
       "      <th>14</th>\n",
       "      <td>cf_s1_n15_verifyWill_q</td>\n",
       "      <td>4</td>\n",
       "      <td>cf_s1_n15_verifyWill_q</td>\n",
       "      <td>N</td>\n",
       "    </tr>\n",
       "    <tr>\n",
       "      <th>15</th>\n",
       "      <td>cf_s1_n15_verifyWill_q</td>\n",
       "      <td>5</td>\n",
       "      <td>cf_s1_n15_verifyWill_q</td>\n",
       "      <td>N</td>\n",
       "    </tr>\n",
       "    <tr>\n",
       "      <th>16</th>\n",
       "      <td>cf_s1_n25_cutDebt_q</td>\n",
       "      <td>0</td>\n",
       "      <td>cf_s1_n104_paymentChannel_s</td>\n",
       "      <td>N</td>\n",
       "    </tr>\n",
       "    <tr>\n",
       "      <th>17</th>\n",
       "      <td>cf_s1_n25_cutDebt_q</td>\n",
       "      <td>1</td>\n",
       "      <td>cf_s1_n25_cutDebt_q</td>\n",
       "      <td>cf_s1_n32_splitDebt_q</td>\n",
       "    </tr>\n",
       "    <tr>\n",
       "      <th>18</th>\n",
       "      <td>cf_s1_n25_cutDebt_q</td>\n",
       "      <td>2</td>\n",
       "      <td>cf_s1_n25_cutDebt_q</td>\n",
       "      <td>N</td>\n",
       "    </tr>\n",
       "    <tr>\n",
       "      <th>19</th>\n",
       "      <td>cf_s1_n25_cutDebt_q</td>\n",
       "      <td>3</td>\n",
       "      <td>cf_s1_n25_cutDebt_q</td>\n",
       "      <td>N</td>\n",
       "    </tr>\n",
       "    <tr>\n",
       "      <th>20</th>\n",
       "      <td>cf_s1_n25_cutDebt_q</td>\n",
       "      <td>4</td>\n",
       "      <td>cf_s1_n25_cutDebt_q</td>\n",
       "      <td>N</td>\n",
       "    </tr>\n",
       "    <tr>\n",
       "      <th>21</th>\n",
       "      <td>cf_s1_n32_splitDebt_q</td>\n",
       "      <td>0</td>\n",
       "      <td>cf_s1_n106_paymentChannel_s</td>\n",
       "      <td>N</td>\n",
       "    </tr>\n",
       "    <tr>\n",
       "      <th>22</th>\n",
       "      <td>cf_s1_n32_splitDebt_q</td>\n",
       "      <td>1</td>\n",
       "      <td>cf_s1_n32_splitDebt_q</td>\n",
       "      <td>cf_s1_n105_noResult_s</td>\n",
       "    </tr>\n",
       "    <tr>\n",
       "      <th>23</th>\n",
       "      <td>cf_s1_n32_splitDebt_q</td>\n",
       "      <td>2</td>\n",
       "      <td>cf_s1_n32_splitDebt_q</td>\n",
       "      <td>N</td>\n",
       "    </tr>\n",
       "    <tr>\n",
       "      <th>24</th>\n",
       "      <td>cf_s1_n32_splitDebt_q</td>\n",
       "      <td>3</td>\n",
       "      <td>cf_s1_n32_splitDebt_q</td>\n",
       "      <td>N</td>\n",
       "    </tr>\n",
       "    <tr>\n",
       "      <th>25</th>\n",
       "      <td>cf_s1_n32_splitDebt_q</td>\n",
       "      <td>4</td>\n",
       "      <td>cf_s1_n32_splitDebt_q</td>\n",
       "      <td>N</td>\n",
       "    </tr>\n",
       "  </tbody>\n",
       "</table>\n",
       "</div>"
      ],
      "text/plain": [
       "                  node_name  label                   connection  \\\n",
       "0                        s0      0          cf_s1_n1_identity_q   \n",
       "1       cf_s1_n1_identity_q      1      cf_s1_n5_ifAcquainted_q   \n",
       "2       cf_s1_n1_identity_q      0       cf_s1_n2_confirmLoan_q   \n",
       "3       cf_s1_n1_identity_q      2          cf_s1_n1_identity_q   \n",
       "4    cf_s1_n2_confirmLoan_q      0       cf_s1_n15_verifyWill_q   \n",
       "5    cf_s1_n2_confirmLoan_q      1       cf_s1_n2_confirmLoan_q   \n",
       "6    cf_s1_n2_confirmLoan_q      2       cf_s1_n2_confirmLoan_q   \n",
       "7   cf_s1_n5_ifAcquainted_q      0    cf_s1_n101_ifAcquainted_s   \n",
       "8   cf_s1_n5_ifAcquainted_q      1    cf_s1_n102_ifAcquainted_s   \n",
       "9   cf_s1_n5_ifAcquainted_q      2      cf_s1_n5_ifAcquainted_q   \n",
       "10   cf_s1_n15_verifyWill_q      0  cf_s1_n103_paymentChannel_s   \n",
       "11   cf_s1_n15_verifyWill_q      1       cf_s1_n15_verifyWill_q   \n",
       "12   cf_s1_n15_verifyWill_q      2          cf_s1_n25_cutDebt_q   \n",
       "13   cf_s1_n15_verifyWill_q      3       cf_s1_n15_verifyWill_q   \n",
       "14   cf_s1_n15_verifyWill_q      4       cf_s1_n15_verifyWill_q   \n",
       "15   cf_s1_n15_verifyWill_q      5       cf_s1_n15_verifyWill_q   \n",
       "16      cf_s1_n25_cutDebt_q      0  cf_s1_n104_paymentChannel_s   \n",
       "17      cf_s1_n25_cutDebt_q      1          cf_s1_n25_cutDebt_q   \n",
       "18      cf_s1_n25_cutDebt_q      2          cf_s1_n25_cutDebt_q   \n",
       "19      cf_s1_n25_cutDebt_q      3          cf_s1_n25_cutDebt_q   \n",
       "20      cf_s1_n25_cutDebt_q      4          cf_s1_n25_cutDebt_q   \n",
       "21    cf_s1_n32_splitDebt_q      0  cf_s1_n106_paymentChannel_s   \n",
       "22    cf_s1_n32_splitDebt_q      1        cf_s1_n32_splitDebt_q   \n",
       "23    cf_s1_n32_splitDebt_q      2        cf_s1_n32_splitDebt_q   \n",
       "24    cf_s1_n32_splitDebt_q      3        cf_s1_n32_splitDebt_q   \n",
       "25    cf_s1_n32_splitDebt_q      4        cf_s1_n32_splitDebt_q   \n",
       "\n",
       "                     jump  \n",
       "0                       N  \n",
       "1                       N  \n",
       "2                       N  \n",
       "3                       N  \n",
       "4                       N  \n",
       "5   cf_s1_n108_noResult_s  \n",
       "6                       N  \n",
       "7                       N  \n",
       "8                       N  \n",
       "9                       N  \n",
       "10                      N  \n",
       "11    cf_s1_n25_cutDebt_q  \n",
       "12                      N  \n",
       "13                      N  \n",
       "14                      N  \n",
       "15                      N  \n",
       "16                      N  \n",
       "17  cf_s1_n32_splitDebt_q  \n",
       "18                      N  \n",
       "19                      N  \n",
       "20                      N  \n",
       "21                      N  \n",
       "22  cf_s1_n105_noResult_s  \n",
       "23                      N  \n",
       "24                      N  \n",
       "25                      N  "
      ]
     },
     "execution_count": 21,
     "metadata": {},
     "output_type": "execute_result"
    }
   ],
   "source": [
    "df"
   ]
  },
  {
   "cell_type": "code",
   "execution_count": 22,
   "metadata": {
    "ExecuteTime": {
     "end_time": "2018-06-29T04:30:19.892108Z",
     "start_time": "2018-06-29T04:30:19.875547Z"
    }
   },
   "outputs": [],
   "source": [
    "df.to_csv('../../data/TreeModel/treeConnection.csv',index=False)"
   ]
  },
  {
   "cell_type": "code",
   "execution_count": null,
   "metadata": {},
   "outputs": [],
   "source": []
  }
 ],
 "metadata": {
  "kernelspec": {
   "display_name": "Python 3",
   "language": "python",
   "name": "python3"
  },
  "language_info": {
   "codemirror_mode": {
    "name": "ipython",
    "version": 3
   },
   "file_extension": ".py",
   "mimetype": "text/x-python",
   "name": "python",
   "nbconvert_exporter": "python",
   "pygments_lexer": "ipython3",
   "version": "3.6.5"
  },
  "varInspector": {
   "cols": {
    "lenName": 16,
    "lenType": 16,
    "lenVar": 40
   },
   "kernels_config": {
    "python": {
     "delete_cmd_postfix": "",
     "delete_cmd_prefix": "del ",
     "library": "var_list.py",
     "varRefreshCmd": "print(var_dic_list())"
    },
    "r": {
     "delete_cmd_postfix": ") ",
     "delete_cmd_prefix": "rm(",
     "library": "var_list.r",
     "varRefreshCmd": "cat(var_dic_list()) "
    }
   },
   "types_to_exclude": [
    "module",
    "function",
    "builtin_function_or_method",
    "instance",
    "_Feature"
   ],
   "window_display": false
  }
 },
 "nbformat": 4,
 "nbformat_minor": 2
}
