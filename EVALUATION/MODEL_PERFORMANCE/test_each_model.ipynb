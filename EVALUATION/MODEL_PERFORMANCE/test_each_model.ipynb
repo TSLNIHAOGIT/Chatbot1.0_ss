{
 "cells": [
  {
   "cell_type": "code",
   "execution_count": 1,
   "metadata": {
    "ExecuteTime": {
     "end_time": "2018-09-12T03:37:23.330428Z",
     "start_time": "2018-09-12T03:37:22.542341Z"
    }
   },
   "outputs": [],
   "source": [
    "import sys,os\n",
    "loader_path = '../../classifier/loader/'\n",
    "sys.path.append(loader_path)\n",
    "from loader import load_all"
   ]
  },
  {
   "cell_type": "code",
   "execution_count": 2,
   "metadata": {
    "ExecuteTime": {
     "end_time": "2018-09-12T03:37:25.202566Z",
     "start_time": "2018-09-12T03:37:23.849047Z"
    }
   },
   "outputs": [
    {
     "name": "stderr",
     "output_type": "stream",
     "text": [
      "2018-11-07 15:18:26,635 - INFO - CLASS:load_all- METHOD:load_all -LINE:34 - MSG:IDClassifier has been load!\n",
      "2018-11-07 15:18:26,636 - INFO - CLASS:load_all- METHOD:load_all -LINE:39 - MSG:IDClassifier does not require time zone!\n",
      "2018-11-07 15:18:26,816 - INFO - CLASS:load_all- METHOD:load_all -LINE:34 - MSG:CutDebt has been load!\n",
      "2018-11-07 15:18:26,817 - INFO - CLASS:load_all- METHOD:load_all -LINE:39 - MSG:CutDebt does not require time zone!\n",
      "2018-11-07 15:18:26,976 - INFO - CLASS:load_all- METHOD:load_all -LINE:34 - MSG:WillingToPay has been load!\n",
      "2018-11-07 15:18:26,978 - INFO - CLASS:load_all- METHOD:load_all -LINE:39 - MSG:WillingToPay does not require time zone!\n",
      "2018-11-07 15:18:27,045 - INFO - CLASS:load_all- METHOD:load_all -LINE:34 - MSG:IfKnowDebtor has been load!\n",
      "2018-11-07 15:18:27,046 - INFO - CLASS:load_all- METHOD:load_all -LINE:39 - MSG:IfKnowDebtor does not require time zone!\n",
      "2018-11-07 15:18:27,155 - INFO - CLASS:load_all- METHOD:load_all -LINE:34 - MSG:Installment has been load!\n",
      "2018-11-07 15:18:27,156 - INFO - CLASS:load_all- METHOD:load_all -LINE:39 - MSG:Installment does not require time zone!\n",
      "2018-11-07 15:18:27,277 - INFO - CLASS:load_all- METHOD:load_all -LINE:34 - MSG:ConfirmLoan has been load!\n",
      "2018-11-07 15:18:27,278 - INFO - CLASS:load_all- METHOD:load_all -LINE:39 - MSG:ConfirmLoan does not require time zone!\n"
     ]
    }
   ],
   "source": [
    "model_dict = load_all()"
   ]
  },
  {
   "cell_type": "code",
   "execution_count": 3,
   "metadata": {
    "ExecuteTime": {
     "end_time": "2018-09-12T03:37:25.828203Z",
     "start_time": "2018-09-12T03:37:25.790988Z"
    }
   },
   "outputs": [
    {
     "data": {
      "text/plain": [
       "{'IDClassifier': <ml.IDClassifier at 0x7f95ac1a84e0>,\n",
       " 'CutDebt': <ml.CutDebt at 0x7f9579358b00>,\n",
       " 'WillingToPay': <ml.WillingToPay at 0x7f9578d5f828>,\n",
       " 'IfKnowDebtor': <ml.IfKnowDebtor at 0x7f957b801c88>,\n",
       " 'Installment': <ml.Installment at 0x7f957ba55518>,\n",
       " 'ConfirmLoan': <ml.ConfirmLoan at 0x7f9578a24748>}"
      ]
     },
     "execution_count": 3,
     "metadata": {},
     "output_type": "execute_result"
    }
   ],
   "source": [
    "model_dict"
   ]
  },
  {
   "cell_type": "code",
   "execution_count": 4,
   "metadata": {
    "ExecuteTime": {
     "end_time": "2018-09-12T03:37:26.688666Z",
     "start_time": "2018-09-12T03:37:26.682193Z"
    }
   },
   "outputs": [],
   "source": [
    "idc = model_dict['IDClassifier']\n",
    "cutd = model_dict['CutDebt']\n",
    "wil = model_dict['WillingToPay']\n",
    "ifk = model_dict['IfKnowDebtor']\n",
    "ins = model_dict['Installment']\n",
    "conf = model_dict['ConfirmLoan']"
   ]
  },
  {
   "cell_type": "code",
   "execution_count": 5,
   "metadata": {
    "ExecuteTime": {
     "end_time": "2018-09-12T03:37:28.506901Z",
     "start_time": "2018-09-12T03:37:27.502957Z"
    }
   },
   "outputs": [
    {
     "name": "stderr",
     "output_type": "stream",
     "text": [
      "Building prefix dict from the default dictionary ...\n",
      "Loading model from cache /tmp/jieba.cache\n",
      "Loading model cost 0.829 seconds.\n",
      "Prefix dict has been built succesfully.\n"
     ]
    },
    {
     "data": {
      "text/plain": [
       "{'label': 112, 'pred_prob': array([[0.01440424, 0.00210998, 0.98348578],\n",
       "        [0.11722735, 0.03695123, 0.84582142],\n",
       "        [0.02584744, 0.00899689, 0.96515567]]), 'av_pred': array([0.01463186, 0.0021931 , 0.98317504]), 'other_response': {'label': 112,\n",
       "  'pred_prob': array([[1.38502308e-02, 1.24474595e-02, 3.03539227e-03, 3.06888267e-03,\n",
       "          4.31703851e-03, 9.62698628e-01, 5.82367832e-04],\n",
       "         [9.79799321e-02, 1.04093054e-01, 2.36328557e-02, 8.25748856e-02,\n",
       "          1.70256819e-01, 5.19070371e-01, 2.39208334e-03],\n",
       "         [8.06030948e-02, 8.15918605e-02, 1.45822919e-02, 4.81700062e-02,\n",
       "          8.00852112e-02, 6.94869165e-01, 9.83705812e-05]]),\n",
       "  'av_pred': array([0.06414442, 0.06604412, 0.01375018, 0.04460459, 0.08488636,\n",
       "         0.72554605, 0.00102427])}, 'ml_label': 112, 'ifAdmitLoan': 'null', 'ifAlreadyPayOff': 'y'}"
      ]
     },
     "execution_count": 5,
     "metadata": {},
     "output_type": "execute_result"
    }
   ],
   "source": [
    "conf.classify('我这边app上显示已经全部还清了啊，余额为0',debug=True)"
   ]
  },
  {
   "cell_type": "code",
   "execution_count": 6,
   "metadata": {
    "ExecuteTime": {
     "end_time": "2018-09-12T03:38:08.440852Z",
     "start_time": "2018-09-12T03:38:08.422276Z"
    }
   },
   "outputs": [
    {
     "data": {
      "text/plain": [
       "{'label': 0,\n",
       " 'av_pred': 0.9875260157356007,\n",
       " 'other_response': None,\n",
       " 'ml_label': 0,\n",
       " 'ifAdmitLoan': 'y'}"
      ]
     },
     "execution_count": 6,
     "metadata": {},
     "output_type": "execute_result"
    }
   ],
   "source": [
    "conf.classify('哈哈')"
   ]
  },
  {
   "cell_type": "code",
   "execution_count": 6,
   "metadata": {
    "ExecuteTime": {
     "end_time": "2018-09-11T03:01:40.876650Z",
     "start_time": "2018-09-11T03:01:40.795848Z"
    }
   },
   "outputs": [
    {
     "name": "stderr",
     "output_type": "stream",
     "text": [
      "2018-11-07 15:19:10,900 - INFO - CLASS:EvlTimeExpEngineWillingToPay- METHOD:_set_timeZone -LINE:755 - MSG:Time Zone is set from ENV: Asia/Shanghai. Classifier: WillingToPay\n"
     ]
    },
    {
     "data": {
      "text/plain": [
       "{'label': 112,\n",
       " 'av_pred': 0.9630720208669691,\n",
       " 'other_response': 0.6745382516885639,\n",
       " 'ml_label': 112,\n",
       " 'timeExtract': [],\n",
       " 'ifWillingToPay': 'null',\n",
       " 'ifAlreadyPayOff': 'y'}"
      ]
     },
     "execution_count": 6,
     "metadata": {},
     "output_type": "execute_result"
    }
   ],
   "source": [
    "wil.classify('我每次都是按时还款的',lower_bounder='十天', upper_bounder='30天', debug=False)"
   ]
  },
  {
   "cell_type": "code",
   "execution_count": 8,
   "metadata": {
    "ExecuteTime": {
     "end_time": "2018-09-10T19:45:00.220803Z",
     "start_time": "2018-09-10T19:45:00.195419Z"
    }
   },
   "outputs": [
    {
     "data": {
      "text/plain": [
       "{'label': 109,\n",
       " 'av_pred': 0.9390718234990093,\n",
       " 'other_response': 0.7686090528212216,\n",
       " 'ml_label': 109,\n",
       " 'ifDebtorAnswersing': 'null'}"
      ]
     },
     "execution_count": 8,
     "metadata": {},
     "output_type": "execute_result"
    }
   ],
   "source": [
    "idc.classify('别那么凶')"
   ]
  },
  {
   "cell_type": "code",
   "execution_count": 9,
   "metadata": {
    "ExecuteTime": {
     "end_time": "2018-09-10T19:45:13.203136Z",
     "start_time": "2018-09-10T19:45:13.173425Z"
    }
   },
   "outputs": [
    {
     "name": "stderr",
     "output_type": "stream",
     "text": [
      "2018-09-10 19:45:13,175 - INFO - CLASS:EvlTimeExpEngineInstallment- METHOD:_set_timeZone -LINE:747 - MSG:Time Zone is set from ENV: Asia/Shanghai\n"
     ]
    },
    {
     "data": {
      "text/plain": [
       "{'label': 109,\n",
       " 'av_pred': 0.7533742369928836,\n",
       " 'other_response': 0.5685622450133289,\n",
       " 'ml_label': 109,\n",
       " 'timeExtract': [],\n",
       " 'ifAcceptInstallment': 'null'}"
      ]
     },
     "execution_count": 9,
     "metadata": {},
     "output_type": "execute_result"
    }
   ],
   "source": [
    "ins.classify('别那么凶')"
   ]
  },
  {
   "cell_type": "code",
   "execution_count": 9,
   "metadata": {
    "ExecuteTime": {
     "end_time": "2018-08-30T23:00:21.077534Z",
     "start_time": "2018-08-30T23:00:21.062313Z"
    }
   },
   "outputs": [
    {
     "data": {
      "text/plain": [
       "array([0, 1, 2])"
      ]
     },
     "execution_count": 9,
     "metadata": {},
     "output_type": "execute_result"
    }
   ],
   "source": [
    "wil.svc.classes_"
   ]
  },
  {
   "cell_type": "code",
   "execution_count": null,
   "metadata": {},
   "outputs": [],
   "source": []
  }
 ],
 "metadata": {
  "kernelspec": {
   "display_name": "python3.6-CPU",
   "language": "python",
   "name": "python3.6-cpu"
  },
  "language_info": {
   "codemirror_mode": {
    "name": "ipython",
    "version": 3
   },
   "file_extension": ".py",
   "mimetype": "text/x-python",
   "name": "python",
   "nbconvert_exporter": "python",
   "pygments_lexer": "ipython3",
   "version": "3.6.6"
  },
  "varInspector": {
   "cols": {
    "lenName": 16,
    "lenType": 16,
    "lenVar": 40
   },
   "kernels_config": {
    "python": {
     "delete_cmd_postfix": "",
     "delete_cmd_prefix": "del ",
     "library": "var_list.py",
     "varRefreshCmd": "print(var_dic_list())"
    },
    "r": {
     "delete_cmd_postfix": ") ",
     "delete_cmd_prefix": "rm(",
     "library": "var_list.r",
     "varRefreshCmd": "cat(var_dic_list()) "
    }
   },
   "types_to_exclude": [
    "module",
    "function",
    "builtin_function_or_method",
    "instance",
    "_Feature"
   ],
   "window_display": false
  }
 },
 "nbformat": 4,
 "nbformat_minor": 2
}
