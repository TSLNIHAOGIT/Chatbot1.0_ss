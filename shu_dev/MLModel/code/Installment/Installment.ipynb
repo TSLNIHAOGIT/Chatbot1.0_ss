{
 "cells": [
  {
   "cell_type": "code",
   "execution_count": 1,
   "metadata": {
    "ExecuteTime": {
     "end_time": "2018-06-14T19:15:40.955209Z",
     "start_time": "2018-06-14T19:15:40.643413Z"
    },
    "collapsed": true
   },
   "outputs": [],
   "source": [
    "#encoding=utf-8\n",
    "import pandas as pd\n",
    "import numpy as np\n",
    "from sklearn.feature_extraction.text import CountVectorizer, TfidfVectorizer, TfidfTransformer"
   ]
  },
  {
   "cell_type": "code",
   "execution_count": 2,
   "metadata": {
    "ExecuteTime": {
     "end_time": "2018-06-14T19:15:44.192406Z",
     "start_time": "2018-06-14T19:15:44.161389Z"
    }
   },
   "outputs": [
    {
     "name": "stdout",
     "output_type": "stream",
     "text": [
      "(17015, 2)\n"
     ]
    },
    {
     "data": {
      "text/html": [
       "<div>\n",
       "<style>\n",
       "    .dataframe thead tr:only-child th {\n",
       "        text-align: right;\n",
       "    }\n",
       "\n",
       "    .dataframe thead th {\n",
       "        text-align: left;\n",
       "    }\n",
       "\n",
       "    .dataframe tbody tr th {\n",
       "        vertical-align: top;\n",
       "    }\n",
       "</style>\n",
       "<table border=\"1\" class=\"dataframe\">\n",
       "  <thead>\n",
       "    <tr style=\"text-align: right;\">\n",
       "      <th></th>\n",
       "      <th>label</th>\n",
       "      <th>split_text</th>\n",
       "    </tr>\n",
       "  </thead>\n",
       "  <tbody>\n",
       "    <tr>\n",
       "      <th>0</th>\n",
       "      <td>1</td>\n",
       "      <td>还 没</td>\n",
       "    </tr>\n",
       "    <tr>\n",
       "      <th>1</th>\n",
       "      <td>0</td>\n",
       "      <td>然后 我 想到 一种 借用 的 方式</td>\n",
       "    </tr>\n",
       "    <tr>\n",
       "      <th>2</th>\n",
       "      <td>1</td>\n",
       "      <td>我 没有 多少 钱</td>\n",
       "    </tr>\n",
       "    <tr>\n",
       "      <th>3</th>\n",
       "      <td>1</td>\n",
       "      <td>你 能 减少 一些 吗 ？</td>\n",
       "    </tr>\n",
       "    <tr>\n",
       "      <th>4</th>\n",
       "      <td>0</td>\n",
       "      <td>我 可以 回来</td>\n",
       "    </tr>\n",
       "    <tr>\n",
       "      <th>5</th>\n",
       "      <td>1</td>\n",
       "      <td>优惠 太低</td>\n",
       "    </tr>\n",
       "    <tr>\n",
       "      <th>6</th>\n",
       "      <td>1</td>\n",
       "      <td>怎么 会 有 这么 多钱 ？</td>\n",
       "    </tr>\n",
       "    <tr>\n",
       "      <th>7</th>\n",
       "      <td>0</td>\n",
       "      <td>也</td>\n",
       "    </tr>\n",
       "    <tr>\n",
       "      <th>8</th>\n",
       "      <td>2</td>\n",
       "      <td>没有 钱 可以 解救 。</td>\n",
       "    </tr>\n",
       "    <tr>\n",
       "      <th>9</th>\n",
       "      <td>0</td>\n",
       "      <td>你 信息 我</td>\n",
       "    </tr>\n",
       "  </tbody>\n",
       "</table>\n",
       "</div>"
      ],
      "text/plain": [
       "   label          split_text\n",
       "0      1                 还 没\n",
       "1      0  然后 我 想到 一种 借用 的 方式\n",
       "2      1           我 没有 多少 钱\n",
       "3      1       你 能 减少 一些 吗 ？\n",
       "4      0             我 可以 回来\n",
       "5      1               优惠 太低\n",
       "6      1      怎么 会 有 这么 多钱 ？\n",
       "7      0                   也\n",
       "8      2        没有 钱 可以 解救 。\n",
       "9      0              你 信息 我"
      ]
     },
     "execution_count": 2,
     "metadata": {},
     "output_type": "execute_result"
    }
   ],
   "source": [
    "# path = '/home/kai/data/jiangning/Chatbot_1/Chatbot1.0/data/'\n",
    "path = '../../data/Installment/'\n",
    "data = pd.read_csv(path + 'cleaned_mock_up_data.csv', encoding='utf8')\n",
    "print(data.shape)\n",
    "data.head(10)"
   ]
  },
  {
   "cell_type": "code",
   "execution_count": 3,
   "metadata": {
    "ExecuteTime": {
     "end_time": "2018-06-14T19:15:45.530208Z",
     "start_time": "2018-06-14T19:15:45.525364Z"
    }
   },
   "outputs": [
    {
     "data": {
      "text/plain": [
       "'我 的 家人 很穷'"
      ]
     },
     "execution_count": 3,
     "metadata": {},
     "output_type": "execute_result"
    }
   ],
   "source": [
    "data.split_text.iloc[42]"
   ]
  },
  {
   "cell_type": "code",
   "execution_count": 4,
   "metadata": {
    "ExecuteTime": {
     "end_time": "2018-06-14T19:15:47.329159Z",
     "start_time": "2018-06-14T19:15:47.038814Z"
    }
   },
   "outputs": [
    {
     "name": "stdout",
     "output_type": "stream",
     "text": [
      "fitting phrase\n",
      "transform phrase\n"
     ]
    },
    {
     "data": {
      "text/plain": [
       "<17015x20934 sparse matrix of type '<class 'numpy.float64'>'\n",
       "\twith 122385 stored elements in Compressed Sparse Row format>"
      ]
     },
     "execution_count": 4,
     "metadata": {},
     "output_type": "execute_result"
    }
   ],
   "source": [
    "phrase_vectorizer = TfidfVectorizer(ngram_range=(1,3),\n",
    "                                    strip_accents='unicode', \n",
    "                                    max_features=100000, \n",
    "                                    analyzer='word',\n",
    "                                    sublinear_tf=True,\n",
    "                                    token_pattern=r'\\w{1,}')\n",
    "\n",
    "print('fitting phrase')\n",
    "phrase_vectorizer.fit(data.split_text)\n",
    "\n",
    "print('transform phrase')\n",
    "phrase = phrase_vectorizer.transform(data.split_text)\n",
    "\n",
    "phrase"
   ]
  },
  {
   "cell_type": "markdown",
   "metadata": {},
   "source": [
    "# SVC"
   ]
  },
  {
   "cell_type": "code",
   "execution_count": 5,
   "metadata": {
    "ExecuteTime": {
     "end_time": "2018-06-14T19:15:49.353903Z",
     "start_time": "2018-06-14T19:15:48.889322Z"
    }
   },
   "outputs": [
    {
     "name": "stdout",
     "output_type": "stream",
     "text": [
      "0.911078460182\n"
     ]
    }
   ],
   "source": [
    "from sklearn.calibration import CalibratedClassifierCV\n",
    "from sklearn.svm import LinearSVC\n",
    "\n",
    "l_svc = LinearSVC()\n",
    "clf = CalibratedClassifierCV(l_svc) \n",
    "clf.fit(phrase, data.label)\n",
    "print(clf.score(phrase, data.label))"
   ]
  },
  {
   "cell_type": "code",
   "execution_count": 6,
   "metadata": {
    "ExecuteTime": {
     "end_time": "2018-06-14T19:15:51.459022Z",
     "start_time": "2018-06-14T19:15:51.438839Z"
    }
   },
   "outputs": [
    {
     "name": "stdout",
     "output_type": "stream",
     "text": [
      "[1 0 1 ..., 0 0 2]\n"
     ]
    }
   ],
   "source": [
    "print(clf.predict(phrase))"
   ]
  },
  {
   "cell_type": "markdown",
   "metadata": {},
   "source": [
    "# logistic"
   ]
  },
  {
   "cell_type": "code",
   "execution_count": 7,
   "metadata": {
    "ExecuteTime": {
     "end_time": "2018-06-14T19:15:52.462857Z",
     "start_time": "2018-06-14T19:15:52.459626Z"
    },
    "collapsed": true
   },
   "outputs": [],
   "source": [
    "from sklearn.linear_model import LogisticRegression"
   ]
  },
  {
   "cell_type": "code",
   "execution_count": 8,
   "metadata": {
    "ExecuteTime": {
     "end_time": "2018-06-14T19:15:53.310181Z",
     "start_time": "2018-06-14T19:15:53.121016Z"
    }
   },
   "outputs": [
    {
     "name": "stdout",
     "output_type": "stream",
     "text": [
      "0.87352336174\n"
     ]
    }
   ],
   "source": [
    "log_r = LogisticRegression()\n",
    "log_r.fit(phrase, data.label)\n",
    "print(log_r.score(phrase, data.label))"
   ]
  },
  {
   "cell_type": "code",
   "execution_count": 9,
   "metadata": {
    "ExecuteTime": {
     "end_time": "2018-06-14T19:15:55.079504Z",
     "start_time": "2018-06-14T19:15:55.072501Z"
    }
   },
   "outputs": [
    {
     "name": "stdout",
     "output_type": "stream",
     "text": [
      "[1 0 1 ..., 0 0 2]\n"
     ]
    }
   ],
   "source": [
    "print(log_r.predict(phrase))"
   ]
  },
  {
   "cell_type": "markdown",
   "metadata": {},
   "source": [
    "# LightGBM"
   ]
  },
  {
   "cell_type": "code",
   "execution_count": 10,
   "metadata": {
    "ExecuteTime": {
     "end_time": "2018-06-14T19:15:56.036948Z",
     "start_time": "2018-06-14T19:15:56.023241Z"
    },
    "collapsed": true
   },
   "outputs": [],
   "source": [
    "import lightgbm as lgb"
   ]
  },
  {
   "cell_type": "code",
   "execution_count": 11,
   "metadata": {
    "ExecuteTime": {
     "end_time": "2018-06-14T19:15:56.300986Z",
     "start_time": "2018-06-14T19:15:56.294230Z"
    },
    "collapsed": true
   },
   "outputs": [],
   "source": [
    "from sklearn import preprocessing\n",
    "le = preprocessing.LabelEncoder()\n",
    "le.fit(data.label.values)\n",
    "onelabels = le.transform(data.label.values)"
   ]
  },
  {
   "cell_type": "code",
   "execution_count": 12,
   "metadata": {
    "ExecuteTime": {
     "end_time": "2018-06-14T19:15:56.604247Z",
     "start_time": "2018-06-14T19:15:56.599589Z"
    }
   },
   "outputs": [
    {
     "data": {
      "text/plain": [
       "array([1, 0, 1, ..., 0, 0, 2])"
      ]
     },
     "execution_count": 12,
     "metadata": {},
     "output_type": "execute_result"
    }
   ],
   "source": [
    "onelabels"
   ]
  },
  {
   "cell_type": "code",
   "execution_count": 13,
   "metadata": {
    "ExecuteTime": {
     "end_time": "2018-06-14T19:15:56.989837Z",
     "start_time": "2018-06-14T19:15:56.978550Z"
    },
    "collapsed": true
   },
   "outputs": [],
   "source": [
    "from sklearn.preprocessing import MultiLabelBinarizer\n",
    "multicoder = MultiLabelBinarizer()\n",
    "lables = multicoder.fit_transform([data.label.values])"
   ]
  },
  {
   "cell_type": "code",
   "execution_count": 14,
   "metadata": {
    "ExecuteTime": {
     "end_time": "2018-06-14T19:15:57.427193Z",
     "start_time": "2018-06-14T19:15:57.422610Z"
    }
   },
   "outputs": [
    {
     "data": {
      "text/plain": [
       "array([[1, 1, 1]])"
      ]
     },
     "execution_count": 14,
     "metadata": {},
     "output_type": "execute_result"
    }
   ],
   "source": [
    "lables"
   ]
  },
  {
   "cell_type": "code",
   "execution_count": 15,
   "metadata": {
    "ExecuteTime": {
     "end_time": "2018-06-14T19:15:57.940409Z",
     "start_time": "2018-06-14T19:15:57.935548Z"
    }
   },
   "outputs": [
    {
     "data": {
      "text/plain": [
       "array([1, 0, 1, ..., 0, 0, 2])"
      ]
     },
     "execution_count": 15,
     "metadata": {},
     "output_type": "execute_result"
    }
   ],
   "source": [
    "data.label.values"
   ]
  },
  {
   "cell_type": "code",
   "execution_count": 23,
   "metadata": {
    "ExecuteTime": {
     "end_time": "2018-06-14T19:17:34.366693Z",
     "start_time": "2018-06-14T19:17:26.402956Z"
    }
   },
   "outputs": [
    {
     "name": "stderr",
     "output_type": "stream",
     "text": [
      "/home/kai/anaconda3/lib/python3.6/site-packages/lightgbm/engine.py:99: UserWarning: Found `num_iterations` in params. Will use it instead of argument\n",
      "  warnings.warn(\"Found `{}` in params. Will use it instead of argument\".format(alias))\n",
      "/home/kai/anaconda3/lib/python3.6/site-packages/lightgbm/engine.py:104: UserWarning: Found `early_stopping_round` in params. Will use it instead of argument\n",
      "  warnings.warn(\"Found `{}` in params. Will use it instead of argument\".format(alias))\n"
     ]
    },
    {
     "name": "stdout",
     "output_type": "stream",
     "text": [
      "Training until validation scores don't improve for 200 rounds.\n",
      "[5]\tvalid_0's multi_error: 0.261769\n",
      "[10]\tvalid_0's multi_error: 0.254187\n",
      "[15]\tvalid_0's multi_error: 0.243315\n",
      "[20]\tvalid_0's multi_error: 0.234852\n",
      "[25]\tvalid_0's multi_error: 0.227505\n",
      "[30]\tvalid_0's multi_error: 0.222274\n",
      "[35]\tvalid_0's multi_error: 0.217338\n",
      "[40]\tvalid_0's multi_error: 0.211637\n",
      "[45]\tvalid_0's multi_error: 0.204761\n",
      "[50]\tvalid_0's multi_error: 0.198883\n",
      "[55]\tvalid_0's multi_error: 0.196121\n",
      "[60]\tvalid_0's multi_error: 0.192183\n",
      "[65]\tvalid_0's multi_error: 0.189186\n",
      "[70]\tvalid_0's multi_error: 0.185425\n",
      "[75]\tvalid_0's multi_error: 0.182427\n",
      "[80]\tvalid_0's multi_error: 0.180488\n",
      "[85]\tvalid_0's multi_error: 0.178607\n",
      "[90]\tvalid_0's multi_error: 0.17749\n",
      "[95]\tvalid_0's multi_error: 0.175375\n",
      "[100]\tvalid_0's multi_error: 0.173905\n",
      "[105]\tvalid_0's multi_error: 0.171848\n",
      "[110]\tvalid_0's multi_error: 0.170379\n",
      "[115]\tvalid_0's multi_error: 0.168146\n",
      "[120]\tvalid_0's multi_error: 0.167029\n",
      "[125]\tvalid_0's multi_error: 0.16509\n",
      "[130]\tvalid_0's multi_error: 0.163973\n",
      "[135]\tvalid_0's multi_error: 0.162974\n",
      "[140]\tvalid_0's multi_error: 0.162151\n",
      "[145]\tvalid_0's multi_error: 0.161505\n",
      "[150]\tvalid_0's multi_error: 0.160447\n",
      "[155]\tvalid_0's multi_error: 0.159624\n",
      "[160]\tvalid_0's multi_error: 0.157802\n",
      "[165]\tvalid_0's multi_error: 0.157155\n",
      "[170]\tvalid_0's multi_error: 0.156098\n",
      "[175]\tvalid_0's multi_error: 0.15551\n",
      "[180]\tvalid_0's multi_error: 0.154805\n",
      "[185]\tvalid_0's multi_error: 0.153688\n",
      "[190]\tvalid_0's multi_error: 0.152865\n",
      "[195]\tvalid_0's multi_error: 0.151161\n",
      "[200]\tvalid_0's multi_error: 0.150103\n",
      "[205]\tvalid_0's multi_error: 0.148986\n",
      "[210]\tvalid_0's multi_error: 0.147987\n",
      "[215]\tvalid_0's multi_error: 0.147341\n",
      "[220]\tvalid_0's multi_error: 0.146812\n",
      "[225]\tvalid_0's multi_error: 0.146224\n",
      "[230]\tvalid_0's multi_error: 0.145989\n",
      "[235]\tvalid_0's multi_error: 0.145754\n",
      "[240]\tvalid_0's multi_error: 0.144755\n",
      "[245]\tvalid_0's multi_error: 0.144461\n",
      "[250]\tvalid_0's multi_error: 0.143579\n",
      "[255]\tvalid_0's multi_error: 0.143344\n",
      "[260]\tvalid_0's multi_error: 0.14258\n",
      "[265]\tvalid_0's multi_error: 0.141757\n",
      "[270]\tvalid_0's multi_error: 0.141405\n",
      "[275]\tvalid_0's multi_error: 0.140934\n",
      "[280]\tvalid_0's multi_error: 0.140464\n",
      "[285]\tvalid_0's multi_error: 0.139583\n",
      "[290]\tvalid_0's multi_error: 0.139465\n",
      "[295]\tvalid_0's multi_error: 0.139113\n",
      "[300]\tvalid_0's multi_error: 0.138877\n",
      "[305]\tvalid_0's multi_error: 0.138525\n",
      "[310]\tvalid_0's multi_error: 0.138349\n",
      "[315]\tvalid_0's multi_error: 0.137937\n",
      "[320]\tvalid_0's multi_error: 0.137526\n",
      "[325]\tvalid_0's multi_error: 0.137291\n",
      "[330]\tvalid_0's multi_error: 0.136879\n",
      "[335]\tvalid_0's multi_error: 0.136644\n",
      "[340]\tvalid_0's multi_error: 0.136409\n",
      "[345]\tvalid_0's multi_error: 0.135998\n",
      "[350]\tvalid_0's multi_error: 0.135998\n",
      "[355]\tvalid_0's multi_error: 0.135586\n",
      "[360]\tvalid_0's multi_error: 0.134646\n",
      "[365]\tvalid_0's multi_error: 0.134352\n",
      "[370]\tvalid_0's multi_error: 0.133941\n",
      "[375]\tvalid_0's multi_error: 0.134352\n",
      "[380]\tvalid_0's multi_error: 0.133647\n",
      "[385]\tvalid_0's multi_error: 0.133235\n",
      "[390]\tvalid_0's multi_error: 0.133118\n",
      "[395]\tvalid_0's multi_error: 0.132824\n",
      "[400]\tvalid_0's multi_error: 0.132824\n",
      "[405]\tvalid_0's multi_error: 0.13253\n",
      "[410]\tvalid_0's multi_error: 0.132354\n",
      "[415]\tvalid_0's multi_error: 0.13206\n",
      "[420]\tvalid_0's multi_error: 0.131825\n",
      "[425]\tvalid_0's multi_error: 0.131413\n",
      "[430]\tvalid_0's multi_error: 0.131296\n",
      "[435]\tvalid_0's multi_error: 0.131061\n",
      "[440]\tvalid_0's multi_error: 0.130591\n",
      "[445]\tvalid_0's multi_error: 0.130649\n",
      "[450]\tvalid_0's multi_error: 0.130297\n",
      "[455]\tvalid_0's multi_error: 0.130297\n",
      "[460]\tvalid_0's multi_error: 0.129944\n",
      "[465]\tvalid_0's multi_error: 0.12965\n",
      "[470]\tvalid_0's multi_error: 0.129298\n",
      "[475]\tvalid_0's multi_error: 0.12918\n",
      "[480]\tvalid_0's multi_error: 0.128945\n",
      "[485]\tvalid_0's multi_error: 0.128769\n",
      "[490]\tvalid_0's multi_error: 0.128828\n",
      "[495]\tvalid_0's multi_error: 0.128769\n",
      "[500]\tvalid_0's multi_error: 0.128651\n",
      "[505]\tvalid_0's multi_error: 0.128357\n",
      "[510]\tvalid_0's multi_error: 0.128181\n",
      "[515]\tvalid_0's multi_error: 0.128063\n",
      "[520]\tvalid_0's multi_error: 0.127946\n",
      "[525]\tvalid_0's multi_error: 0.127887\n",
      "[530]\tvalid_0's multi_error: 0.127711\n",
      "[535]\tvalid_0's multi_error: 0.127946\n",
      "[540]\tvalid_0's multi_error: 0.127652\n",
      "[545]\tvalid_0's multi_error: 0.127593\n",
      "[550]\tvalid_0's multi_error: 0.127182\n",
      "[555]\tvalid_0's multi_error: 0.127064\n",
      "[560]\tvalid_0's multi_error: 0.126888\n",
      "[565]\tvalid_0's multi_error: 0.126947\n",
      "[570]\tvalid_0's multi_error: 0.12677\n",
      "[575]\tvalid_0's multi_error: 0.126712\n",
      "[580]\tvalid_0's multi_error: 0.126535\n",
      "[585]\tvalid_0's multi_error: 0.1263\n",
      "[590]\tvalid_0's multi_error: 0.126242\n",
      "[595]\tvalid_0's multi_error: 0.126242\n",
      "[600]\tvalid_0's multi_error: 0.125654\n",
      "[605]\tvalid_0's multi_error: 0.125478\n",
      "[610]\tvalid_0's multi_error: 0.12583\n",
      "[615]\tvalid_0's multi_error: 0.125654\n",
      "[620]\tvalid_0's multi_error: 0.125654\n",
      "[625]\tvalid_0's multi_error: 0.125301\n",
      "[630]\tvalid_0's multi_error: 0.125478\n",
      "[635]\tvalid_0's multi_error: 0.125242\n",
      "[640]\tvalid_0's multi_error: 0.125242\n",
      "[645]\tvalid_0's multi_error: 0.125125\n",
      "[650]\tvalid_0's multi_error: 0.124949\n",
      "[655]\tvalid_0's multi_error: 0.124772\n",
      "[660]\tvalid_0's multi_error: 0.124596\n",
      "[665]\tvalid_0's multi_error: 0.124713\n",
      "[670]\tvalid_0's multi_error: 0.124713\n",
      "[675]\tvalid_0's multi_error: 0.124478\n",
      "[680]\tvalid_0's multi_error: 0.124478\n",
      "[685]\tvalid_0's multi_error: 0.124596\n",
      "[690]\tvalid_0's multi_error: 0.12442\n",
      "[695]\tvalid_0's multi_error: 0.124302\n",
      "[700]\tvalid_0's multi_error: 0.124067\n",
      "[705]\tvalid_0's multi_error: 0.124067\n",
      "[710]\tvalid_0's multi_error: 0.123891\n",
      "[715]\tvalid_0's multi_error: 0.123891\n",
      "[720]\tvalid_0's multi_error: 0.123891\n",
      "[725]\tvalid_0's multi_error: 0.123949\n",
      "[730]\tvalid_0's multi_error: 0.123832\n",
      "[735]\tvalid_0's multi_error: 0.123773\n",
      "[740]\tvalid_0's multi_error: 0.123597\n",
      "[745]\tvalid_0's multi_error: 0.123773\n",
      "[750]\tvalid_0's multi_error: 0.123714\n",
      "[755]\tvalid_0's multi_error: 0.123597\n",
      "[760]\tvalid_0's multi_error: 0.123538\n",
      "[765]\tvalid_0's multi_error: 0.123244\n",
      "[770]\tvalid_0's multi_error: 0.123009\n",
      "[775]\tvalid_0's multi_error: 0.12295\n",
      "[780]\tvalid_0's multi_error: 0.122892\n",
      "[785]\tvalid_0's multi_error: 0.123127\n",
      "[790]\tvalid_0's multi_error: 0.123009\n",
      "[795]\tvalid_0's multi_error: 0.122833\n",
      "[800]\tvalid_0's multi_error: 0.122774\n",
      "[805]\tvalid_0's multi_error: 0.122833\n",
      "[810]\tvalid_0's multi_error: 0.122833\n",
      "[815]\tvalid_0's multi_error: 0.122715\n",
      "[820]\tvalid_0's multi_error: 0.122656\n",
      "[825]\tvalid_0's multi_error: 0.122774\n",
      "[830]\tvalid_0's multi_error: 0.122598\n",
      "[835]\tvalid_0's multi_error: 0.122539\n",
      "[840]\tvalid_0's multi_error: 0.122539\n",
      "[845]\tvalid_0's multi_error: 0.12248\n",
      "[850]\tvalid_0's multi_error: 0.122539\n",
      "[855]\tvalid_0's multi_error: 0.122421\n",
      "[860]\tvalid_0's multi_error: 0.122363\n",
      "[865]\tvalid_0's multi_error: 0.122304\n",
      "[870]\tvalid_0's multi_error: 0.122363\n",
      "[875]\tvalid_0's multi_error: 0.122304\n",
      "[880]\tvalid_0's multi_error: 0.122245\n",
      "[885]\tvalid_0's multi_error: 0.122128\n",
      "[890]\tvalid_0's multi_error: 0.122128\n",
      "[895]\tvalid_0's multi_error: 0.122128\n",
      "[900]\tvalid_0's multi_error: 0.122069\n",
      "[905]\tvalid_0's multi_error: 0.122128\n",
      "[910]\tvalid_0's multi_error: 0.122128\n",
      "[915]\tvalid_0's multi_error: 0.122128\n",
      "[920]\tvalid_0's multi_error: 0.122128\n",
      "[925]\tvalid_0's multi_error: 0.122128\n",
      "[930]\tvalid_0's multi_error: 0.122069\n",
      "[935]\tvalid_0's multi_error: 0.12201\n",
      "[940]\tvalid_0's multi_error: 0.121951\n",
      "[945]\tvalid_0's multi_error: 0.121951\n",
      "[950]\tvalid_0's multi_error: 0.121951\n",
      "[955]\tvalid_0's multi_error: 0.121951\n",
      "[960]\tvalid_0's multi_error: 0.121951\n",
      "[965]\tvalid_0's multi_error: 0.121951\n",
      "[970]\tvalid_0's multi_error: 0.121951\n",
      "[975]\tvalid_0's multi_error: 0.12201\n",
      "[980]\tvalid_0's multi_error: 0.121892\n",
      "[985]\tvalid_0's multi_error: 0.121892\n",
      "[990]\tvalid_0's multi_error: 0.121892\n",
      "[995]\tvalid_0's multi_error: 0.121775\n",
      "[1000]\tvalid_0's multi_error: 0.121775\n",
      "[1005]\tvalid_0's multi_error: 0.121716\n",
      "[1010]\tvalid_0's multi_error: 0.121657\n",
      "[1015]\tvalid_0's multi_error: 0.121657\n",
      "[1020]\tvalid_0's multi_error: 0.121657\n",
      "[1025]\tvalid_0's multi_error: 0.121481\n",
      "[1030]\tvalid_0's multi_error: 0.12154\n",
      "[1035]\tvalid_0's multi_error: 0.121481\n",
      "[1040]\tvalid_0's multi_error: 0.121481\n",
      "[1045]\tvalid_0's multi_error: 0.121481\n",
      "[1050]\tvalid_0's multi_error: 0.121481\n",
      "[1055]\tvalid_0's multi_error: 0.121481\n",
      "[1060]\tvalid_0's multi_error: 0.121481\n",
      "[1065]\tvalid_0's multi_error: 0.121481\n",
      "[1070]\tvalid_0's multi_error: 0.121481\n",
      "[1075]\tvalid_0's multi_error: 0.121481\n",
      "[1080]\tvalid_0's multi_error: 0.121481\n",
      "[1085]\tvalid_0's multi_error: 0.121481\n",
      "[1090]\tvalid_0's multi_error: 0.121481\n",
      "[1095]\tvalid_0's multi_error: 0.121481\n",
      "[1100]\tvalid_0's multi_error: 0.121481\n",
      "[1105]\tvalid_0's multi_error: 0.121481\n",
      "[1110]\tvalid_0's multi_error: 0.121481\n",
      "[1115]\tvalid_0's multi_error: 0.121481\n",
      "[1120]\tvalid_0's multi_error: 0.121481\n"
     ]
    },
    {
     "name": "stdout",
     "output_type": "stream",
     "text": [
      "[1125]\tvalid_0's multi_error: 0.121481\n",
      "[1130]\tvalid_0's multi_error: 0.121481\n",
      "[1135]\tvalid_0's multi_error: 0.121481\n",
      "[1140]\tvalid_0's multi_error: 0.121481\n",
      "[1145]\tvalid_0's multi_error: 0.121481\n",
      "[1150]\tvalid_0's multi_error: 0.121481\n",
      "[1155]\tvalid_0's multi_error: 0.121481\n",
      "[1160]\tvalid_0's multi_error: 0.121481\n",
      "[1165]\tvalid_0's multi_error: 0.121481\n",
      "[1170]\tvalid_0's multi_error: 0.121481\n",
      "[1175]\tvalid_0's multi_error: 0.121481\n",
      "[1180]\tvalid_0's multi_error: 0.121481\n",
      "[1185]\tvalid_0's multi_error: 0.121481\n",
      "[1190]\tvalid_0's multi_error: 0.121481\n",
      "[1195]\tvalid_0's multi_error: 0.121481\n",
      "[1200]\tvalid_0's multi_error: 0.121481\n",
      "[1205]\tvalid_0's multi_error: 0.121481\n",
      "[1210]\tvalid_0's multi_error: 0.121481\n",
      "[1215]\tvalid_0's multi_error: 0.121481\n",
      "[1220]\tvalid_0's multi_error: 0.121481\n",
      "[1225]\tvalid_0's multi_error: 0.121481\n",
      "[1230]\tvalid_0's multi_error: 0.121481\n",
      "[1235]\tvalid_0's multi_error: 0.121481\n",
      "Early stopping, best iteration is:\n",
      "[1037]\tvalid_0's multi_error: 0.121422\n"
     ]
    }
   ],
   "source": [
    "params = {\n",
    "    'learning_rate': 0.2,\n",
    "    'num_iterations':10000,\n",
    "    'application': 'multiclassova',\n",
    "    'num_class': 3,\n",
    "    'num_leaves': 31,\n",
    "    'verbosity': -1,\n",
    "    'metric': 'multi_error',\n",
    "    'data_random_seed': 2,\n",
    "#     'bagging_fraction': 0.8,\n",
    "#     'feature_fraction': 0.6,\n",
    "    'nthread': 4,\n",
    "    'lambda_l1': 1,\n",
    "    'lambda_l2': 1,\n",
    "    'early_stopping_round':200\n",
    "} \n",
    "\n",
    "# lgbm_train = lgb.Dataset(phrase, data.label)\n",
    "lgbm_train = lgb.Dataset(phrase, onelabels)\n",
    "lgbm_val = lgb.Dataset(phrase, onelabels)\n",
    "lgbm_model = lgb.train(params,lgbm_train,valid_sets=lgbm_val, verbose_eval=5)"
   ]
  },
  {
   "cell_type": "code",
   "execution_count": 24,
   "metadata": {
    "ExecuteTime": {
     "end_time": "2018-06-14T19:17:43.345946Z",
     "start_time": "2018-06-14T19:17:40.655812Z"
    }
   },
   "outputs": [
    {
     "name": "stdout",
     "output_type": "stream",
     "text": [
      "[[  3.12533263e-01   5.55487585e-01   1.17354883e-01]\n",
      " [  9.37430438e-01   4.56259241e-02   1.61538680e-02]\n",
      " [  1.04141671e-03   8.88127882e-01   1.13833463e-01]\n",
      " ..., \n",
      " [  9.89032234e-01   1.14928956e-02   5.96283143e-03]\n",
      " [  9.95708798e-01   8.89596444e-03   6.29798729e-04]\n",
      " [  1.87720279e-01   1.28159225e-01   6.14914362e-01]]\n"
     ]
    }
   ],
   "source": [
    "print(lgbm_model.predict(phrase))"
   ]
  },
  {
   "cell_type": "code",
   "execution_count": 25,
   "metadata": {
    "ExecuteTime": {
     "end_time": "2018-06-14T19:17:46.228109Z",
     "start_time": "2018-06-14T19:17:46.223354Z"
    }
   },
   "outputs": [
    {
     "data": {
      "text/plain": [
       "<17015x20934 sparse matrix of type '<class 'numpy.float64'>'\n",
       "\twith 122385 stored elements in Compressed Sparse Row format>"
      ]
     },
     "execution_count": 25,
     "metadata": {},
     "output_type": "execute_result"
    }
   ],
   "source": [
    "phrase"
   ]
  },
  {
   "cell_type": "markdown",
   "metadata": {
    "ExecuteTime": {
     "end_time": "2018-06-12T19:25:10.103508Z",
     "start_time": "2018-06-12T19:25:10.100603Z"
    }
   },
   "source": [
    "# Save"
   ]
  },
  {
   "cell_type": "code",
   "execution_count": 19,
   "metadata": {
    "ExecuteTime": {
     "end_time": "2018-06-13T18:36:52.800311Z",
     "start_time": "2018-06-13T18:36:52.725192Z"
    },
    "collapsed": true
   },
   "outputs": [],
   "source": [
    "import pickle\n",
    "\n",
    "# save tfidf\n",
    "pickle.dump(phrase_vectorizer, open(\"../../savedModel/Installment/tfidf.pickle\", \"wb\"))\n",
    "# pickle.dump(train_comment_features, open(\"train_comment_features.pickle\", \"wb\"))\n",
    "# pickle.dump(test_comment_features, open(\"test_comment_features.pickle\", \"wb\"))\n",
    "\n",
    "# save linear svc\n",
    "pickle.dump(clf, open(\"../../savedModel/Installment/LinearSVC.pickle\", \"wb\"))\n",
    "# save logistic\n",
    "pickle.dump(log_r, open(\"../../savedModel/Installment/Logistic.pickle\", \"wb\"))\n",
    "# save lightGBM\n",
    "pickle.dump(lgbm_model, open(\"../../savedModel/Installment/Lgbm.pickle\", \"wb\"))"
   ]
  },
  {
   "cell_type": "markdown",
   "metadata": {
    "ExecuteTime": {
     "end_time": "2018-06-12T19:25:49.099516Z",
     "start_time": "2018-06-12T19:25:48.998572Z"
    }
   },
   "source": [
    "# Test"
   ]
  },
  {
   "cell_type": "code",
   "execution_count": 70,
   "metadata": {
    "ExecuteTime": {
     "end_time": "2018-06-14T20:41:35.073651Z",
     "start_time": "2018-06-14T20:41:35.066407Z"
    },
    "collapsed": true
   },
   "outputs": [],
   "source": [
    "import jieba\n",
    "sentence = '我也没有啊'\n",
    "sentence = jieba.cut(sentence, cut_all = False)\n",
    "sentence = ' '.join(sentence)\n",
    "test = phrase_vectorizer.transform([sentence])"
   ]
  },
  {
   "cell_type": "code",
   "execution_count": 71,
   "metadata": {
    "ExecuteTime": {
     "end_time": "2018-06-14T20:41:35.295743Z",
     "start_time": "2018-06-14T20:41:35.289218Z"
    }
   },
   "outputs": [
    {
     "data": {
      "text/plain": [
       "array([[ 0.2227147 ,  0.76185917,  0.01542612]])"
      ]
     },
     "execution_count": 71,
     "metadata": {},
     "output_type": "execute_result"
    }
   ],
   "source": [
    "clf.predict_proba(test) # linear svc"
   ]
  },
  {
   "cell_type": "code",
   "execution_count": 72,
   "metadata": {
    "ExecuteTime": {
     "end_time": "2018-06-14T20:41:35.515388Z",
     "start_time": "2018-06-14T20:41:35.510028Z"
    }
   },
   "outputs": [
    {
     "data": {
      "text/plain": [
       "array([[ 0.4645298 ,  0.45500487,  0.08046533]])"
      ]
     },
     "execution_count": 72,
     "metadata": {},
     "output_type": "execute_result"
    }
   ],
   "source": [
    "log_r.predict_proba(test) # logistic"
   ]
  },
  {
   "cell_type": "code",
   "execution_count": 73,
   "metadata": {
    "ExecuteTime": {
     "end_time": "2018-06-14T20:41:35.756911Z",
     "start_time": "2018-06-14T20:41:35.748304Z"
    }
   },
   "outputs": [
    {
     "data": {
      "text/plain": [
       "array([[ 0.8144944 ,  0.14162374,  0.00217648]])"
      ]
     },
     "execution_count": 73,
     "metadata": {},
     "output_type": "execute_result"
    }
   ],
   "source": [
    "lgbm_model.predict(test) # light gbm"
   ]
  },
  {
   "cell_type": "markdown",
   "metadata": {},
   "source": [
    "# Labeling"
   ]
  },
  {
   "cell_type": "code",
   "execution_count": 24,
   "metadata": {
    "ExecuteTime": {
     "end_time": "2018-06-13T18:36:59.496229Z",
     "start_time": "2018-06-13T18:36:59.476763Z"
    }
   },
   "outputs": [
    {
     "name": "stdout",
     "output_type": "stream",
     "text": [
      "label= 1\n",
      "prob= 0.998920196558\n"
     ]
    }
   ],
   "source": [
    "# basic logic: find the max probability of 3 models, if it is larger than threshold, return the corresponding label, otherwise, return 2 (others).\n",
    "result = np.vstack((clf.predict_proba(test),log_r.predict_proba(test),lgbm_model.predict(test)))\n",
    "pos = np.where(result == np.max(result))\n",
    "\n",
    "threshold = 0.7\n",
    "if np.max(result)<threshold:\n",
    "    label = 2\n",
    "else:\n",
    "    label = pos[1]\n",
    "    label = label[0]\n",
    "    \n",
    "print('label=',label)\n",
    "print('prob=',np.max(result))"
   ]
  },
  {
   "cell_type": "markdown",
   "metadata": {
    "collapsed": true
   },
   "source": [
    "# Save the whole thing"
   ]
  },
  {
   "cell_type": "code",
   "execution_count": 25,
   "metadata": {
    "ExecuteTime": {
     "end_time": "2018-06-13T18:37:01.901225Z",
     "start_time": "2018-06-13T18:37:01.887408Z"
    },
    "collapsed": true
   },
   "outputs": [],
   "source": [
    "# import jieba\n",
    "# import numpy as np\n",
    "\n",
    "# class Installment:\n",
    "    \n",
    "#     def __init__(self, **model):\n",
    "#         \"\"\"\n",
    "#         suggested parameters:\n",
    "#         svc, logistic, lightgbm, jieba_path,tfidf\n",
    "#         \"\"\"\n",
    "#         self._load_model(**model)\n",
    "        \n",
    "#     def _load_model(self,**model):\n",
    "#         self.svc = model.get('svc')\n",
    "#         self.logistic = model.get('logistic')\n",
    "#         self.lightgbm = model.get('lightgbm')\n",
    "#         self.tfidf = model.get('tfidf')\n",
    "#         # load jieba\n",
    "#         jieba_path = model.get('jieba_path')\n",
    "#         if jieba_path is not None:\n",
    "#             jieba.load_userdict(jieba_path)\n",
    "        \n",
    "        \n",
    "#     def classify(self, sentence):\n",
    "#         sentence = jieba.cut(sentence, cut_all = False)\n",
    "#         sentence = ' '.join(sentence)\n",
    "#         matrix = self.tfidf.transform([sentence])\n",
    "#         result = np.vstack((self.svc.predict_proba(matrix),\n",
    "#                             self.logistic.predict_proba(matrix),\n",
    "#                             self.lightgbm.predict(matrix)))\n",
    "#         max_pred = np.max(result, axis=0)\n",
    "#         max_arg = np.argmax(max_pred)\n",
    "#         threshold = 0.6\n",
    "#         if np.max(max_pred)<threshold:\n",
    "#             label = 2\n",
    "#         else:\n",
    "#             label = max_arg\n",
    "#         return (label, np.max(max_pred))\n",
    "     \n",
    "        "
   ]
  },
  {
   "cell_type": "code",
   "execution_count": 26,
   "metadata": {
    "ExecuteTime": {
     "end_time": "2018-06-13T18:37:02.279018Z",
     "start_time": "2018-06-13T18:37:02.254879Z"
    },
    "collapsed": true
   },
   "outputs": [],
   "source": [
    "%load_ext autoreload\n",
    "%autoreload 2"
   ]
  },
  {
   "cell_type": "code",
   "execution_count": 2,
   "metadata": {
    "ExecuteTime": {
     "end_time": "2018-06-17T04:24:57.584968Z",
     "start_time": "2018-06-17T04:24:57.363324Z"
    },
    "collapsed": true
   },
   "outputs": [],
   "source": [
    "import pickle\n",
    "clf = pickle.load(open(\"../../savedModel/Installment/LinearSVC.pickle\", \"rb\"))\n",
    "lgbm_model = pickle.load(open(\"../../savedModel/Installment/Lgbm.pickle\", \"rb\"))\n",
    "phrase_vectorizer = pickle.load(open(\"../../savedModel/Installment/tfidf.pickle\", \"rb\"))\n",
    "log_r = pickle.load(open(\"../../savedModel/Installment/Logistic.pickle\", \"rb\"))"
   ]
  },
  {
   "cell_type": "code",
   "execution_count": 3,
   "metadata": {
    "ExecuteTime": {
     "end_time": "2018-06-17T04:25:02.720028Z",
     "start_time": "2018-06-17T04:25:02.256818Z"
    }
   },
   "outputs": [],
   "source": [
    "from Installment_py import Installment\n",
    "ifk = Installment(svc=clf, logistic=log_r, lightgbm=lgbm_model, tfidf=phrase_vectorizer,) #jieba_path='../WordCut/userdict.txt')\n",
    "\n",
    "pickle.dump(ifk, open(\"../../savedModel/Installment/Installment.pickle\", \"wb\"))"
   ]
  },
  {
   "cell_type": "code",
   "execution_count": 6,
   "metadata": {
    "ExecuteTime": {
     "end_time": "2018-06-17T04:25:29.588377Z",
     "start_time": "2018-06-17T04:25:29.553339Z"
    }
   },
   "outputs": [
    {
     "data": {
      "text/plain": [
       "(1, [1, 0.84518257422120568])"
      ]
     },
     "execution_count": 6,
     "metadata": {},
     "output_type": "execute_result"
    }
   ],
   "source": []
  },
  {
   "cell_type": "code",
   "execution_count": null,
   "metadata": {
    "collapsed": true
   },
   "outputs": [],
   "source": []
  }
 ],
 "metadata": {
  "kernelspec": {
   "display_name": "Python 3",
   "language": "python",
   "name": "python3"
  },
  "language_info": {
   "codemirror_mode": {
    "name": "ipython",
    "version": 3
   },
   "file_extension": ".py",
   "mimetype": "text/x-python",
   "name": "python",
   "nbconvert_exporter": "python",
   "pygments_lexer": "ipython3",
   "version": "3.6.3"
  },
  "varInspector": {
   "cols": {
    "lenName": 16,
    "lenType": 16,
    "lenVar": 40
   },
   "kernels_config": {
    "python": {
     "delete_cmd_postfix": "",
     "delete_cmd_prefix": "del ",
     "library": "var_list.py",
     "varRefreshCmd": "print(var_dic_list())"
    },
    "r": {
     "delete_cmd_postfix": ") ",
     "delete_cmd_prefix": "rm(",
     "library": "var_list.r",
     "varRefreshCmd": "cat(var_dic_list()) "
    }
   },
   "types_to_exclude": [
    "module",
    "function",
    "builtin_function_or_method",
    "instance",
    "_Feature"
   ],
   "window_display": false
  }
 },
 "nbformat": 4,
 "nbformat_minor": 2
}
