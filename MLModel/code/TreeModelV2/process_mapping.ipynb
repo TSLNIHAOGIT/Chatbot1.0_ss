{
 "cells": [
  {
   "cell_type": "code",
   "execution_count": 1,
   "metadata": {
    "ExecuteTime": {
     "end_time": "2018-06-29T03:37:52.715585Z",
     "start_time": "2018-06-29T03:37:52.381117Z"
    }
   },
   "outputs": [],
   "source": [
    "import pandas as pd\n",
    "import numpy as np"
   ]
  },
  {
   "cell_type": "code",
   "execution_count": 52,
   "metadata": {
    "ExecuteTime": {
     "end_time": "2018-06-29T14:03:40.778746Z",
     "start_time": "2018-06-29T14:03:40.768271Z"
    }
   },
   "outputs": [],
   "source": [
    "data = {'node':'a','label':2, 'message':'1','sentiment':1,}\n",
    "col = ['node','label','message','sentiment']"
   ]
  },
  {
   "cell_type": "code",
   "execution_count": 53,
   "metadata": {
    "ExecuteTime": {
     "end_time": "2018-06-29T14:03:50.020797Z",
     "start_time": "2018-06-29T14:03:50.008781Z"
    }
   },
   "outputs": [],
   "source": [
    "df1 = pd.DataFrame([data])"
   ]
  },
  {
   "cell_type": "code",
   "execution_count": 55,
   "metadata": {
    "ExecuteTime": {
     "end_time": "2018-06-29T14:09:20.017826Z",
     "start_time": "2018-06-29T14:09:20.009143Z"
    }
   },
   "outputs": [],
   "source": [
    "df1 = df.copy()"
   ]
  },
  {
   "cell_type": "code",
   "execution_count": 61,
   "metadata": {
    "ExecuteTime": {
     "end_time": "2018-06-29T14:11:56.373617Z",
     "start_time": "2018-06-29T14:11:56.364736Z"
    }
   },
   "outputs": [],
   "source": [
    "df1 = df1.rename(columns={'connection':'message', 'jump':'sentiment'})"
   ]
  },
  {
   "cell_type": "code",
   "execution_count": 62,
   "metadata": {
    "ExecuteTime": {
     "end_time": "2018-06-29T14:12:53.348448Z",
     "start_time": "2018-06-29T14:12:53.326478Z"
    }
   },
   "outputs": [],
   "source": [
    "df1['message'] = df1.message.apply(lambda x: 'N')\n",
    "df1['sentiment'] = df1.message.apply(lambda x: 1)"
   ]
  },
  {
   "cell_type": "code",
   "execution_count": 63,
   "metadata": {
    "ExecuteTime": {
     "end_time": "2018-06-29T14:12:56.919808Z",
     "start_time": "2018-06-29T14:12:56.898064Z"
    }
   },
   "outputs": [
    {
     "data": {
      "text/html": [
       "<div>\n",
       "<style scoped>\n",
       "    .dataframe tbody tr th:only-of-type {\n",
       "        vertical-align: middle;\n",
       "    }\n",
       "\n",
       "    .dataframe tbody tr th {\n",
       "        vertical-align: top;\n",
       "    }\n",
       "\n",
       "    .dataframe thead th {\n",
       "        text-align: right;\n",
       "    }\n",
       "</style>\n",
       "<table border=\"1\" class=\"dataframe\">\n",
       "  <thead>\n",
       "    <tr style=\"text-align: right;\">\n",
       "      <th></th>\n",
       "      <th>node_name</th>\n",
       "      <th>label</th>\n",
       "      <th>message</th>\n",
       "      <th>sentiment</th>\n",
       "    </tr>\n",
       "  </thead>\n",
       "  <tbody>\n",
       "    <tr>\n",
       "      <th>0</th>\n",
       "      <td>s0</td>\n",
       "      <td>0</td>\n",
       "      <td>N</td>\n",
       "      <td>1</td>\n",
       "    </tr>\n",
       "    <tr>\n",
       "      <th>1</th>\n",
       "      <td>cf_s1_n1_identity_q</td>\n",
       "      <td>1</td>\n",
       "      <td>N</td>\n",
       "      <td>1</td>\n",
       "    </tr>\n",
       "    <tr>\n",
       "      <th>2</th>\n",
       "      <td>cf_s1_n1_identity_q</td>\n",
       "      <td>0</td>\n",
       "      <td>N</td>\n",
       "      <td>1</td>\n",
       "    </tr>\n",
       "    <tr>\n",
       "      <th>3</th>\n",
       "      <td>cf_s1_n1_identity_q</td>\n",
       "      <td>2</td>\n",
       "      <td>N</td>\n",
       "      <td>1</td>\n",
       "    </tr>\n",
       "    <tr>\n",
       "      <th>4</th>\n",
       "      <td>cf_s1_n2_confirmLoan_q</td>\n",
       "      <td>0</td>\n",
       "      <td>N</td>\n",
       "      <td>1</td>\n",
       "    </tr>\n",
       "    <tr>\n",
       "      <th>5</th>\n",
       "      <td>cf_s1_n2_confirmLoan_q</td>\n",
       "      <td>1</td>\n",
       "      <td>N</td>\n",
       "      <td>1</td>\n",
       "    </tr>\n",
       "    <tr>\n",
       "      <th>6</th>\n",
       "      <td>cf_s1_n2_confirmLoan_q</td>\n",
       "      <td>2</td>\n",
       "      <td>N</td>\n",
       "      <td>1</td>\n",
       "    </tr>\n",
       "    <tr>\n",
       "      <th>7</th>\n",
       "      <td>cf_s1_n5_ifAcquainted_q</td>\n",
       "      <td>0</td>\n",
       "      <td>N</td>\n",
       "      <td>1</td>\n",
       "    </tr>\n",
       "    <tr>\n",
       "      <th>8</th>\n",
       "      <td>cf_s1_n5_ifAcquainted_q</td>\n",
       "      <td>1</td>\n",
       "      <td>N</td>\n",
       "      <td>1</td>\n",
       "    </tr>\n",
       "    <tr>\n",
       "      <th>9</th>\n",
       "      <td>cf_s1_n5_ifAcquainted_q</td>\n",
       "      <td>2</td>\n",
       "      <td>N</td>\n",
       "      <td>1</td>\n",
       "    </tr>\n",
       "    <tr>\n",
       "      <th>10</th>\n",
       "      <td>cf_s1_n15_verifyWill_q</td>\n",
       "      <td>0</td>\n",
       "      <td>N</td>\n",
       "      <td>1</td>\n",
       "    </tr>\n",
       "    <tr>\n",
       "      <th>11</th>\n",
       "      <td>cf_s1_n15_verifyWill_q</td>\n",
       "      <td>1</td>\n",
       "      <td>N</td>\n",
       "      <td>1</td>\n",
       "    </tr>\n",
       "    <tr>\n",
       "      <th>12</th>\n",
       "      <td>cf_s1_n15_verifyWill_q</td>\n",
       "      <td>2</td>\n",
       "      <td>N</td>\n",
       "      <td>1</td>\n",
       "    </tr>\n",
       "    <tr>\n",
       "      <th>13</th>\n",
       "      <td>cf_s1_n15_verifyWill_q</td>\n",
       "      <td>3</td>\n",
       "      <td>N</td>\n",
       "      <td>1</td>\n",
       "    </tr>\n",
       "    <tr>\n",
       "      <th>14</th>\n",
       "      <td>cf_s1_n15_verifyWill_q</td>\n",
       "      <td>4</td>\n",
       "      <td>N</td>\n",
       "      <td>1</td>\n",
       "    </tr>\n",
       "    <tr>\n",
       "      <th>15</th>\n",
       "      <td>cf_s1_n15_verifyWill_q</td>\n",
       "      <td>5</td>\n",
       "      <td>N</td>\n",
       "      <td>1</td>\n",
       "    </tr>\n",
       "    <tr>\n",
       "      <th>16</th>\n",
       "      <td>cf_s1_n25_cutDebt_q</td>\n",
       "      <td>0</td>\n",
       "      <td>N</td>\n",
       "      <td>1</td>\n",
       "    </tr>\n",
       "    <tr>\n",
       "      <th>17</th>\n",
       "      <td>cf_s1_n25_cutDebt_q</td>\n",
       "      <td>1</td>\n",
       "      <td>N</td>\n",
       "      <td>1</td>\n",
       "    </tr>\n",
       "    <tr>\n",
       "      <th>18</th>\n",
       "      <td>cf_s1_n25_cutDebt_q</td>\n",
       "      <td>2</td>\n",
       "      <td>N</td>\n",
       "      <td>1</td>\n",
       "    </tr>\n",
       "    <tr>\n",
       "      <th>19</th>\n",
       "      <td>cf_s1_n25_cutDebt_q</td>\n",
       "      <td>3</td>\n",
       "      <td>N</td>\n",
       "      <td>1</td>\n",
       "    </tr>\n",
       "    <tr>\n",
       "      <th>20</th>\n",
       "      <td>cf_s1_n25_cutDebt_q</td>\n",
       "      <td>4</td>\n",
       "      <td>N</td>\n",
       "      <td>1</td>\n",
       "    </tr>\n",
       "    <tr>\n",
       "      <th>21</th>\n",
       "      <td>cf_s1_n32_splitDebt_q</td>\n",
       "      <td>0</td>\n",
       "      <td>N</td>\n",
       "      <td>1</td>\n",
       "    </tr>\n",
       "    <tr>\n",
       "      <th>22</th>\n",
       "      <td>cf_s1_n32_splitDebt_q</td>\n",
       "      <td>1</td>\n",
       "      <td>N</td>\n",
       "      <td>1</td>\n",
       "    </tr>\n",
       "    <tr>\n",
       "      <th>23</th>\n",
       "      <td>cf_s1_n32_splitDebt_q</td>\n",
       "      <td>2</td>\n",
       "      <td>N</td>\n",
       "      <td>1</td>\n",
       "    </tr>\n",
       "    <tr>\n",
       "      <th>24</th>\n",
       "      <td>cf_s1_n32_splitDebt_q</td>\n",
       "      <td>3</td>\n",
       "      <td>N</td>\n",
       "      <td>1</td>\n",
       "    </tr>\n",
       "    <tr>\n",
       "      <th>25</th>\n",
       "      <td>cf_s1_n32_splitDebt_q</td>\n",
       "      <td>4</td>\n",
       "      <td>N</td>\n",
       "      <td>1</td>\n",
       "    </tr>\n",
       "  </tbody>\n",
       "</table>\n",
       "</div>"
      ],
      "text/plain": [
       "                  node_name  label message  sentiment\n",
       "0                        s0      0       N          1\n",
       "1       cf_s1_n1_identity_q      1       N          1\n",
       "2       cf_s1_n1_identity_q      0       N          1\n",
       "3       cf_s1_n1_identity_q      2       N          1\n",
       "4    cf_s1_n2_confirmLoan_q      0       N          1\n",
       "5    cf_s1_n2_confirmLoan_q      1       N          1\n",
       "6    cf_s1_n2_confirmLoan_q      2       N          1\n",
       "7   cf_s1_n5_ifAcquainted_q      0       N          1\n",
       "8   cf_s1_n5_ifAcquainted_q      1       N          1\n",
       "9   cf_s1_n5_ifAcquainted_q      2       N          1\n",
       "10   cf_s1_n15_verifyWill_q      0       N          1\n",
       "11   cf_s1_n15_verifyWill_q      1       N          1\n",
       "12   cf_s1_n15_verifyWill_q      2       N          1\n",
       "13   cf_s1_n15_verifyWill_q      3       N          1\n",
       "14   cf_s1_n15_verifyWill_q      4       N          1\n",
       "15   cf_s1_n15_verifyWill_q      5       N          1\n",
       "16      cf_s1_n25_cutDebt_q      0       N          1\n",
       "17      cf_s1_n25_cutDebt_q      1       N          1\n",
       "18      cf_s1_n25_cutDebt_q      2       N          1\n",
       "19      cf_s1_n25_cutDebt_q      3       N          1\n",
       "20      cf_s1_n25_cutDebt_q      4       N          1\n",
       "21    cf_s1_n32_splitDebt_q      0       N          1\n",
       "22    cf_s1_n32_splitDebt_q      1       N          1\n",
       "23    cf_s1_n32_splitDebt_q      2       N          1\n",
       "24    cf_s1_n32_splitDebt_q      3       N          1\n",
       "25    cf_s1_n32_splitDebt_q      4       N          1"
      ]
     },
     "execution_count": 63,
     "metadata": {},
     "output_type": "execute_result"
    }
   ],
   "source": [
    "df1.to_csv()"
   ]
  },
  {
   "cell_type": "markdown",
   "metadata": {},
   "source": [
    "# ===================="
   ]
  },
  {
   "cell_type": "code",
   "execution_count": 5,
   "metadata": {
    "ExecuteTime": {
     "end_time": "2018-06-29T04:00:29.567932Z",
     "start_time": "2018-06-29T04:00:29.547765Z"
    }
   },
   "outputs": [],
   "source": [
    "connection = {\n",
    "                            's0':{0:'cf_s1_n1_identity_q'}, \n",
    "                            'cf_s1_n1_identity_q':{1:'cf_s1_n5_ifAcquainted_q',\n",
    "                                    0:'cf_s1_n2_confirmLoan_q',\n",
    "                                    2:'cf_s1_n4_identity_a_misc'},\n",
    "                            'cf_s1_n2_confirmLoan_q':{0:'cf_s1_n15_verifyWill_q',\n",
    "                                    1:'cf_s1_n2_confirmLoan_q',\n",
    "                                    2:'cf_s1_n3_confirmLoan_a_misc'},\n",
    "\n",
    "                            'cf_s1_n5_ifAcquainted_q':{0:'cf_s1_n101_ifAcquainted_s',\n",
    "                                    1:'cf_s1_n102_ifAcquainted_s',\n",
    "                                    2:'cf_s1_n7_ifAcquainted_a_misc'},\n",
    "                            'cf_s1_n15_verifyWill_q':{0:'cf_s1_n103_paymentChannel_s',\n",
    "                                    1:'cf_s1_n15_verifyWill_q',\n",
    "                                    2:'cf_s1_n25_cutDebt_q',\n",
    "                                    3:'cf_s1_n19_verifyWill_a_misc',\n",
    "                                    4:'cf_s1_n15_verifyWill_q',\n",
    "                                    5:'cf_s1_n15_verifyWill_q',},\n",
    "                            'cf_s1_n25_cutDebt_q':{0:'cf_s1_n104_paymentChannel_s',\n",
    "                                    1:'cf_s1_n25_cutDebt_q',\n",
    "                                    2:'cf_s1_n30_cutDebt_a_misc',\n",
    "                                    3:'cf_s1_n25_cutDebt_q',\n",
    "                                    4:'cf_s1_n25_cutDebt_q',}, \n",
    "                            'cf_s1_n32_splitDebt_q':{0:'cf_s1_n106_paymentChannel_s',\n",
    "                                    1:'cf_s1_n32_splitDebt_q',\n",
    "                                    2:'cf_s1_n35_splitDebt_a_misc',\n",
    "                                    3:'cf_s1_n32_splitDebt_q',\n",
    "                                    4:'cf_s1_n32_splitDebt_q',}, \n",
    "                   \n",
    "                    }   \n",
    "jump = {\n",
    "                      'cf_s1_n25_cutDebt_q':{1:'cf_s1_n32_splitDebt_q'},\n",
    "                      'cf_s1_n32_splitDebt_q':{1:'cf_s1_n105_noResult_s'},\n",
    "                        'cf_s1_n15_verifyWill_q':{1:'cf_s1_n25_cutDebt_q'},\n",
    "                     'cf_s1_n2_confirmLoan_q':{1:'cf_s1_n108_noResult_s'}} \n",
    "\n",
    "other = {\n",
    "                        'cf_s1_n3_confirmLoan_a_misc':{0:'cf_s1_n2_confirmLoan_q'},\n",
    "                        'cf_s1_n4_identity_a_misc':{0:'cf_s1_n1_identity_q'},\n",
    "                        'cf_s1_n7_ifAcquainted_a_misc':{0:'cf_s1_n5_ifAcquainted_q'},\n",
    "                        'cf_s1_n19_verifyWill_a_misc':{0:'cf_s1_n15_verifyWill_q'},\n",
    "                        'cf_s1_n30_cutDebt_a_misc':{0:'cf_s1_n25_cutDebt_q'},\n",
    "                        'cf_s1_n35_splitDebt_a_misc':{0:'cf_s1_n32_splitDebt_q'},}"
   ]
  },
  {
   "cell_type": "code",
   "execution_count": 20,
   "metadata": {
    "ExecuteTime": {
     "end_time": "2018-06-29T04:27:17.411975Z",
     "start_time": "2018-06-29T04:27:17.398073Z"
    }
   },
   "outputs": [
    {
     "name": "stdout",
     "output_type": "stream",
     "text": [
      "cf_s1_n2_confirmLoan_q\n",
      "1\n",
      "===========\n",
      "cf_s1_n15_verifyWill_q\n",
      "1\n",
      "===========\n",
      "cf_s1_n25_cutDebt_q\n",
      "1\n",
      "===========\n",
      "cf_s1_n32_splitDebt_q\n",
      "1\n",
      "===========\n"
     ]
    }
   ],
   "source": [
    "result = []\n",
    "for each in connection:\n",
    "    for each_key in connection[each]:\n",
    "        sample = {}\n",
    "        node_name = each\n",
    "        label = each_key\n",
    "        # get connect\n",
    "        if other.get(connection[each][each_key]) is None:\n",
    "            connected = connection[each][each_key]\n",
    "        else:\n",
    "            connected =  other.get(connection[each][each_key])[0]\n",
    "        # get jump\n",
    "        if jump.get(each) is not None:\n",
    "            if jump[each].get(each_key) is not None:\n",
    "                jumped = jump[each].get(each_key)\n",
    "                print(each)\n",
    "                print(each_key)\n",
    "                print('===========')\n",
    "            else:\n",
    "                jumped = 'N'\n",
    "        else:\n",
    "            jumped = 'N'\n",
    "        result.append({'label':label,'node_name':node_name,'connection':connected, 'jump':jumped})\n",
    "df = pd.DataFrame(result)\n",
    "df = df[['node_name','label','connection','jump']]"
   ]
  },
  {
   "cell_type": "code",
   "execution_count": 21,
   "metadata": {
    "ExecuteTime": {
     "end_time": "2018-06-29T04:27:18.707370Z",
     "start_time": "2018-06-29T04:27:18.689688Z"
    }
   },
   "outputs": [
    {
     "data": {
      "text/html": [
       "<div>\n",
       "<style scoped>\n",
       "    .dataframe tbody tr th:only-of-type {\n",
       "        vertical-align: middle;\n",
       "    }\n",
       "\n",
       "    .dataframe tbody tr th {\n",
       "        vertical-align: top;\n",
       "    }\n",
       "\n",
       "    .dataframe thead th {\n",
       "        text-align: right;\n",
       "    }\n",
       "</style>\n",
       "<table border=\"1\" class=\"dataframe\">\n",
       "  <thead>\n",
       "    <tr style=\"text-align: right;\">\n",
       "      <th></th>\n",
       "      <th>node_name</th>\n",
       "      <th>label</th>\n",
       "      <th>connection</th>\n",
       "      <th>jump</th>\n",
       "    </tr>\n",
       "  </thead>\n",
       "  <tbody>\n",
       "    <tr>\n",
       "      <th>0</th>\n",
       "      <td>s0</td>\n",
       "      <td>0</td>\n",
       "      <td>cf_s1_n1_identity_q</td>\n",
       "      <td>N</td>\n",
       "    </tr>\n",
       "    <tr>\n",
       "      <th>1</th>\n",
       "      <td>cf_s1_n1_identity_q</td>\n",
       "      <td>1</td>\n",
       "      <td>cf_s1_n5_ifAcquainted_q</td>\n",
       "      <td>N</td>\n",
       "    </tr>\n",
       "    <tr>\n",
       "      <th>2</th>\n",
       "      <td>cf_s1_n1_identity_q</td>\n",
       "      <td>0</td>\n",
       "      <td>cf_s1_n2_confirmLoan_q</td>\n",
       "      <td>N</td>\n",
       "    </tr>\n",
       "    <tr>\n",
       "      <th>3</th>\n",
       "      <td>cf_s1_n1_identity_q</td>\n",
       "      <td>2</td>\n",
       "      <td>cf_s1_n1_identity_q</td>\n",
       "      <td>N</td>\n",
       "    </tr>\n",
       "    <tr>\n",
       "      <th>4</th>\n",
       "      <td>cf_s1_n2_confirmLoan_q</td>\n",
       "      <td>0</td>\n",
       "      <td>cf_s1_n15_verifyWill_q</td>\n",
       "      <td>N</td>\n",
       "    </tr>\n",
       "    <tr>\n",
       "      <th>5</th>\n",
       "      <td>cf_s1_n2_confirmLoan_q</td>\n",
       "      <td>1</td>\n",
       "      <td>cf_s1_n2_confirmLoan_q</td>\n",
       "      <td>cf_s1_n108_noResult_s</td>\n",
       "    </tr>\n",
       "    <tr>\n",
       "      <th>6</th>\n",
       "      <td>cf_s1_n2_confirmLoan_q</td>\n",
       "      <td>2</td>\n",
       "      <td>cf_s1_n2_confirmLoan_q</td>\n",
       "      <td>N</td>\n",
       "    </tr>\n",
       "    <tr>\n",
       "      <th>7</th>\n",
       "      <td>cf_s1_n5_ifAcquainted_q</td>\n",
       "      <td>0</td>\n",
       "      <td>cf_s1_n101_ifAcquainted_s</td>\n",
       "      <td>N</td>\n",
       "    </tr>\n",
       "    <tr>\n",
       "      <th>8</th>\n",
       "      <td>cf_s1_n5_ifAcquainted_q</td>\n",
       "      <td>1</td>\n",
       "      <td>cf_s1_n102_ifAcquainted_s</td>\n",
       "      <td>N</td>\n",
       "    </tr>\n",
       "    <tr>\n",
       "      <th>9</th>\n",
       "      <td>cf_s1_n5_ifAcquainted_q</td>\n",
       "      <td>2</td>\n",
       "      <td>cf_s1_n5_ifAcquainted_q</td>\n",
       "      <td>N</td>\n",
       "    </tr>\n",
       "    <tr>\n",
       "      <th>10</th>\n",
       "      <td>cf_s1_n15_verifyWill_q</td>\n",
       "      <td>0</td>\n",
       "      <td>cf_s1_n103_paymentChannel_s</td>\n",
       "      <td>N</td>\n",
       "    </tr>\n",
       "    <tr>\n",
       "      <th>11</th>\n",
       "      <td>cf_s1_n15_verifyWill_q</td>\n",
       "      <td>1</td>\n",
       "      <td>cf_s1_n15_verifyWill_q</td>\n",
       "      <td>cf_s1_n25_cutDebt_q</td>\n",
       "    </tr>\n",
       "    <tr>\n",
       "      <th>12</th>\n",
       "      <td>cf_s1_n15_verifyWill_q</td>\n",
       "      <td>2</td>\n",
       "      <td>cf_s1_n25_cutDebt_q</td>\n",
       "      <td>N</td>\n",
       "    </tr>\n",
       "    <tr>\n",
       "      <th>13</th>\n",
       "      <td>cf_s1_n15_verifyWill_q</td>\n",
       "      <td>3</td>\n",
       "      <td>cf_s1_n15_verifyWill_q</td>\n",
       "      <td>N</td>\n",
       "    </tr>\n",
       "    <tr>\n",
       "      <th>14</th>\n",
       "      <td>cf_s1_n15_verifyWill_q</td>\n",
       "      <td>4</td>\n",
       "      <td>cf_s1_n15_verifyWill_q</td>\n",
       "      <td>N</td>\n",
       "    </tr>\n",
       "    <tr>\n",
       "      <th>15</th>\n",
       "      <td>cf_s1_n15_verifyWill_q</td>\n",
       "      <td>5</td>\n",
       "      <td>cf_s1_n15_verifyWill_q</td>\n",
       "      <td>N</td>\n",
       "    </tr>\n",
       "    <tr>\n",
       "      <th>16</th>\n",
       "      <td>cf_s1_n25_cutDebt_q</td>\n",
       "      <td>0</td>\n",
       "      <td>cf_s1_n104_paymentChannel_s</td>\n",
       "      <td>N</td>\n",
       "    </tr>\n",
       "    <tr>\n",
       "      <th>17</th>\n",
       "      <td>cf_s1_n25_cutDebt_q</td>\n",
       "      <td>1</td>\n",
       "      <td>cf_s1_n25_cutDebt_q</td>\n",
       "      <td>cf_s1_n32_splitDebt_q</td>\n",
       "    </tr>\n",
       "    <tr>\n",
       "      <th>18</th>\n",
       "      <td>cf_s1_n25_cutDebt_q</td>\n",
       "      <td>2</td>\n",
       "      <td>cf_s1_n25_cutDebt_q</td>\n",
       "      <td>N</td>\n",
       "    </tr>\n",
       "    <tr>\n",
       "      <th>19</th>\n",
       "      <td>cf_s1_n25_cutDebt_q</td>\n",
       "      <td>3</td>\n",
       "      <td>cf_s1_n25_cutDebt_q</td>\n",
       "      <td>N</td>\n",
       "    </tr>\n",
       "    <tr>\n",
       "      <th>20</th>\n",
       "      <td>cf_s1_n25_cutDebt_q</td>\n",
       "      <td>4</td>\n",
       "      <td>cf_s1_n25_cutDebt_q</td>\n",
       "      <td>N</td>\n",
       "    </tr>\n",
       "    <tr>\n",
       "      <th>21</th>\n",
       "      <td>cf_s1_n32_splitDebt_q</td>\n",
       "      <td>0</td>\n",
       "      <td>cf_s1_n106_paymentChannel_s</td>\n",
       "      <td>N</td>\n",
       "    </tr>\n",
       "    <tr>\n",
       "      <th>22</th>\n",
       "      <td>cf_s1_n32_splitDebt_q</td>\n",
       "      <td>1</td>\n",
       "      <td>cf_s1_n32_splitDebt_q</td>\n",
       "      <td>cf_s1_n105_noResult_s</td>\n",
       "    </tr>\n",
       "    <tr>\n",
       "      <th>23</th>\n",
       "      <td>cf_s1_n32_splitDebt_q</td>\n",
       "      <td>2</td>\n",
       "      <td>cf_s1_n32_splitDebt_q</td>\n",
       "      <td>N</td>\n",
       "    </tr>\n",
       "    <tr>\n",
       "      <th>24</th>\n",
       "      <td>cf_s1_n32_splitDebt_q</td>\n",
       "      <td>3</td>\n",
       "      <td>cf_s1_n32_splitDebt_q</td>\n",
       "      <td>N</td>\n",
       "    </tr>\n",
       "    <tr>\n",
       "      <th>25</th>\n",
       "      <td>cf_s1_n32_splitDebt_q</td>\n",
       "      <td>4</td>\n",
       "      <td>cf_s1_n32_splitDebt_q</td>\n",
       "      <td>N</td>\n",
       "    </tr>\n",
       "  </tbody>\n",
       "</table>\n",
       "</div>"
      ],
      "text/plain": [
       "                  node_name  label                   connection  \\\n",
       "0                        s0      0          cf_s1_n1_identity_q   \n",
       "1       cf_s1_n1_identity_q      1      cf_s1_n5_ifAcquainted_q   \n",
       "2       cf_s1_n1_identity_q      0       cf_s1_n2_confirmLoan_q   \n",
       "3       cf_s1_n1_identity_q      2          cf_s1_n1_identity_q   \n",
       "4    cf_s1_n2_confirmLoan_q      0       cf_s1_n15_verifyWill_q   \n",
       "5    cf_s1_n2_confirmLoan_q      1       cf_s1_n2_confirmLoan_q   \n",
       "6    cf_s1_n2_confirmLoan_q      2       cf_s1_n2_confirmLoan_q   \n",
       "7   cf_s1_n5_ifAcquainted_q      0    cf_s1_n101_ifAcquainted_s   \n",
       "8   cf_s1_n5_ifAcquainted_q      1    cf_s1_n102_ifAcquainted_s   \n",
       "9   cf_s1_n5_ifAcquainted_q      2      cf_s1_n5_ifAcquainted_q   \n",
       "10   cf_s1_n15_verifyWill_q      0  cf_s1_n103_paymentChannel_s   \n",
       "11   cf_s1_n15_verifyWill_q      1       cf_s1_n15_verifyWill_q   \n",
       "12   cf_s1_n15_verifyWill_q      2          cf_s1_n25_cutDebt_q   \n",
       "13   cf_s1_n15_verifyWill_q      3       cf_s1_n15_verifyWill_q   \n",
       "14   cf_s1_n15_verifyWill_q      4       cf_s1_n15_verifyWill_q   \n",
       "15   cf_s1_n15_verifyWill_q      5       cf_s1_n15_verifyWill_q   \n",
       "16      cf_s1_n25_cutDebt_q      0  cf_s1_n104_paymentChannel_s   \n",
       "17      cf_s1_n25_cutDebt_q      1          cf_s1_n25_cutDebt_q   \n",
       "18      cf_s1_n25_cutDebt_q      2          cf_s1_n25_cutDebt_q   \n",
       "19      cf_s1_n25_cutDebt_q      3          cf_s1_n25_cutDebt_q   \n",
       "20      cf_s1_n25_cutDebt_q      4          cf_s1_n25_cutDebt_q   \n",
       "21    cf_s1_n32_splitDebt_q      0  cf_s1_n106_paymentChannel_s   \n",
       "22    cf_s1_n32_splitDebt_q      1        cf_s1_n32_splitDebt_q   \n",
       "23    cf_s1_n32_splitDebt_q      2        cf_s1_n32_splitDebt_q   \n",
       "24    cf_s1_n32_splitDebt_q      3        cf_s1_n32_splitDebt_q   \n",
       "25    cf_s1_n32_splitDebt_q      4        cf_s1_n32_splitDebt_q   \n",
       "\n",
       "                     jump  \n",
       "0                       N  \n",
       "1                       N  \n",
       "2                       N  \n",
       "3                       N  \n",
       "4                       N  \n",
       "5   cf_s1_n108_noResult_s  \n",
       "6                       N  \n",
       "7                       N  \n",
       "8                       N  \n",
       "9                       N  \n",
       "10                      N  \n",
       "11    cf_s1_n25_cutDebt_q  \n",
       "12                      N  \n",
       "13                      N  \n",
       "14                      N  \n",
       "15                      N  \n",
       "16                      N  \n",
       "17  cf_s1_n32_splitDebt_q  \n",
       "18                      N  \n",
       "19                      N  \n",
       "20                      N  \n",
       "21                      N  \n",
       "22  cf_s1_n105_noResult_s  \n",
       "23                      N  \n",
       "24                      N  \n",
       "25                      N  "
      ]
     },
     "execution_count": 21,
     "metadata": {},
     "output_type": "execute_result"
    }
   ],
   "source": [
    "df"
   ]
  },
  {
   "cell_type": "code",
   "execution_count": 34,
   "metadata": {
    "ExecuteTime": {
     "end_time": "2018-06-29T04:53:03.750876Z",
     "start_time": "2018-06-29T04:53:03.727735Z"
    }
   },
   "outputs": [],
   "source": [
    "df.to_csv('../../data/TreeModel/treeConnection.csv',index=False)"
   ]
  },
  {
   "cell_type": "code",
   "execution_count": 35,
   "metadata": {
    "ExecuteTime": {
     "end_time": "2018-06-29T04:53:04.933089Z",
     "start_time": "2018-06-29T04:53:04.919238Z"
    }
   },
   "outputs": [],
   "source": [
    "gp = df.groupby('node_name')"
   ]
  },
  {
   "cell_type": "code",
   "execution_count": 49,
   "metadata": {
    "ExecuteTime": {
     "end_time": "2018-06-29T05:03:50.176636Z",
     "start_time": "2018-06-29T05:03:50.143994Z"
    }
   },
   "outputs": [],
   "source": [
    "result = {}\n",
    "for each in gp:\n",
    "    node_dict = {}\n",
    "    for index in range(len(each[1])):\n",
    "        node_dict.update({each[1].iloc[index]['label']:\n",
    "                            {'connection':each[1].iloc[index]['connection'],\n",
    "                             'jump':each[1].iloc[index]['jump']}})\n",
    "    result.update({each[0]:node_dict})"
   ]
  },
  {
   "cell_type": "code",
   "execution_count": 50,
   "metadata": {
    "ExecuteTime": {
     "end_time": "2018-06-29T05:03:56.172384Z",
     "start_time": "2018-06-29T05:03:56.162489Z"
    }
   },
   "outputs": [
    {
     "data": {
      "text/plain": [
       "{'cf_s1_n15_verifyWill_q': {0: {'connection': 'cf_s1_n103_paymentChannel_s',\n",
       "   'jump': 'N'},\n",
       "  1: {'connection': 'cf_s1_n15_verifyWill_q', 'jump': 'cf_s1_n25_cutDebt_q'},\n",
       "  2: {'connection': 'cf_s1_n25_cutDebt_q', 'jump': 'N'},\n",
       "  3: {'connection': 'cf_s1_n15_verifyWill_q', 'jump': 'N'},\n",
       "  4: {'connection': 'cf_s1_n15_verifyWill_q', 'jump': 'N'},\n",
       "  5: {'connection': 'cf_s1_n15_verifyWill_q', 'jump': 'N'}},\n",
       " 'cf_s1_n1_identity_q': {1: {'connection': 'cf_s1_n5_ifAcquainted_q',\n",
       "   'jump': 'N'},\n",
       "  0: {'connection': 'cf_s1_n2_confirmLoan_q', 'jump': 'N'},\n",
       "  2: {'connection': 'cf_s1_n1_identity_q', 'jump': 'N'}},\n",
       " 'cf_s1_n25_cutDebt_q': {0: {'connection': 'cf_s1_n104_paymentChannel_s',\n",
       "   'jump': 'N'},\n",
       "  1: {'connection': 'cf_s1_n25_cutDebt_q', 'jump': 'cf_s1_n32_splitDebt_q'},\n",
       "  2: {'connection': 'cf_s1_n25_cutDebt_q', 'jump': 'N'},\n",
       "  3: {'connection': 'cf_s1_n25_cutDebt_q', 'jump': 'N'},\n",
       "  4: {'connection': 'cf_s1_n25_cutDebt_q', 'jump': 'N'}},\n",
       " 'cf_s1_n2_confirmLoan_q': {0: {'connection': 'cf_s1_n15_verifyWill_q',\n",
       "   'jump': 'N'},\n",
       "  1: {'connection': 'cf_s1_n2_confirmLoan_q', 'jump': 'cf_s1_n108_noResult_s'},\n",
       "  2: {'connection': 'cf_s1_n2_confirmLoan_q', 'jump': 'N'}},\n",
       " 'cf_s1_n32_splitDebt_q': {0: {'connection': 'cf_s1_n106_paymentChannel_s',\n",
       "   'jump': 'N'},\n",
       "  1: {'connection': 'cf_s1_n32_splitDebt_q', 'jump': 'cf_s1_n105_noResult_s'},\n",
       "  2: {'connection': 'cf_s1_n32_splitDebt_q', 'jump': 'N'},\n",
       "  3: {'connection': 'cf_s1_n32_splitDebt_q', 'jump': 'N'},\n",
       "  4: {'connection': 'cf_s1_n32_splitDebt_q', 'jump': 'N'}},\n",
       " 'cf_s1_n5_ifAcquainted_q': {0: {'connection': 'cf_s1_n101_ifAcquainted_s',\n",
       "   'jump': 'N'},\n",
       "  1: {'connection': 'cf_s1_n102_ifAcquainted_s', 'jump': 'N'},\n",
       "  2: {'connection': 'cf_s1_n5_ifAcquainted_q', 'jump': 'N'}},\n",
       " 's0': {0: {'connection': 'cf_s1_n1_identity_q', 'jump': 'N'}}}"
      ]
     },
     "execution_count": 50,
     "metadata": {},
     "output_type": "execute_result"
    }
   ],
   "source": [
    "result"
   ]
  },
  {
   "cell_type": "code",
   "execution_count": 32,
   "metadata": {
    "ExecuteTime": {
     "end_time": "2018-06-29T04:51:13.863012Z",
     "start_time": "2018-06-29T04:51:13.856555Z"
    }
   },
   "outputs": [
    {
     "name": "stdout",
     "output_type": "stream",
     "text": [
      "10\n",
      "11\n",
      "12\n",
      "13\n",
      "14\n",
      "15\n"
     ]
    }
   ],
   "source": [
    "for e in b:\n",
    "    print(e)"
   ]
  },
  {
   "cell_type": "code",
   "execution_count": null,
   "metadata": {},
   "outputs": [],
   "source": []
  }
 ],
 "metadata": {
  "kernelspec": {
   "display_name": "Python 3",
   "language": "python",
   "name": "python3"
  },
  "language_info": {
   "codemirror_mode": {
    "name": "ipython",
    "version": 3
   },
   "file_extension": ".py",
   "mimetype": "text/x-python",
   "name": "python",
   "nbconvert_exporter": "python",
   "pygments_lexer": "ipython3",
   "version": "3.6.5"
  },
  "varInspector": {
   "cols": {
    "lenName": 16,
    "lenType": 16,
    "lenVar": 40
   },
   "kernels_config": {
    "python": {
     "delete_cmd_postfix": "",
     "delete_cmd_prefix": "del ",
     "library": "var_list.py",
     "varRefreshCmd": "print(var_dic_list())"
    },
    "r": {
     "delete_cmd_postfix": ") ",
     "delete_cmd_prefix": "rm(",
     "library": "var_list.r",
     "varRefreshCmd": "cat(var_dic_list()) "
    }
   },
   "types_to_exclude": [
    "module",
    "function",
    "builtin_function_or_method",
    "instance",
    "_Feature"
   ],
   "window_display": false
  }
 },
 "nbformat": 4,
 "nbformat_minor": 2
}
