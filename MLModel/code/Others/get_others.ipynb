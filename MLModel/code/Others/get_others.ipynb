{
 "cells": [
  {
   "cell_type": "code",
   "execution_count": 2,
   "metadata": {
    "ExecuteTime": {
     "end_time": "2018-06-26T23:01:38.462275Z",
     "start_time": "2018-06-26T23:01:38.165194Z"
    },
    "collapsed": true
   },
   "outputs": [],
   "source": [
    "import numpy as np\n",
    "import pandas as pd"
   ]
  },
  {
   "cell_type": "code",
   "execution_count": 15,
   "metadata": {
    "ExecuteTime": {
     "end_time": "2018-06-26T23:12:18.429185Z",
     "start_time": "2018-06-26T23:12:18.337840Z"
    }
   },
   "outputs": [],
   "source": [
    "model_list = ['CutDebt','IDClassifier','IfKnowDebtor','Installment','WillingToPay','ConfirmLoan']\n",
    "path = '../../data/{}/mock_up_data1.csv'\n",
    "\n",
    "data = pd.DataFrame()\n",
    "for each_model in model_list:\n",
    "    each_data = pd.read_csv(path.format(each_model), encoding='utf8')\n",
    "    if each_model == 'WillingToPay':\n",
    "        other_data = each_data[each_data['label']==3]\n",
    "    else:\n",
    "        other_data = each_data[each_data['label']==2]\n",
    "    data = pd.concat([data,other_data],ignore_index=True)\n",
    "\n",
    "    \n",
    "data.drop(['text'],axis = 1)\n",
    "\n",
    "data.to_csv('../../data/others/all_others_data.csv', index=False, encoding='utf8')"
   ]
  },
  {
   "cell_type": "code",
   "execution_count": null,
   "metadata": {
    "collapsed": true
   },
   "outputs": [],
   "source": []
  }
 ],
 "metadata": {
  "kernelspec": {
   "display_name": "Python 3",
   "language": "python",
   "name": "python3"
  },
  "language_info": {
   "codemirror_mode": {
    "name": "ipython",
    "version": 3
   },
   "file_extension": ".py",
   "mimetype": "text/x-python",
   "name": "python",
   "nbconvert_exporter": "python",
   "pygments_lexer": "ipython3",
   "version": "3.6.3"
  },
  "varInspector": {
   "cols": {
    "lenName": 16,
    "lenType": 16,
    "lenVar": 40
   },
   "kernels_config": {
    "python": {
     "delete_cmd_postfix": "",
     "delete_cmd_prefix": "del ",
     "library": "var_list.py",
     "varRefreshCmd": "print(var_dic_list())"
    },
    "r": {
     "delete_cmd_postfix": ") ",
     "delete_cmd_prefix": "rm(",
     "library": "var_list.r",
     "varRefreshCmd": "cat(var_dic_list()) "
    }
   },
   "types_to_exclude": [
    "module",
    "function",
    "builtin_function_or_method",
    "instance",
    "_Feature"
   ],
   "window_display": false
  }
 },
 "nbformat": 4,
 "nbformat_minor": 2
}
