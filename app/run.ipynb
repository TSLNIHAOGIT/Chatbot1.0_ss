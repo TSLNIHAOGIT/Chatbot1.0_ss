{
 "cells": [
  {
   "cell_type": "code",
   "execution_count": 12,
   "metadata": {
    "ExecuteTime": {
     "end_time": "2018-06-07T20:55:21.454941Z",
     "start_time": "2018-06-07T20:55:21.295995Z"
    }
   },
   "outputs": [
    {
     "name": "stdout",
     "output_type": "stream",
     "text": [
      "chatbotdb\n"
     ]
    }
   ],
   "source": [
    "# from flask_other.app import app\n",
    "from flask import Flask\n",
    "import os,sys\n",
    "sys.path.append('/home/kai/data/wei/Chatbot1.0/')\n",
    "app=Flask(\"demo\")\n",
    "from flask import  render_template,request\n",
    "from app.mong_database import MongoManager\n",
    "import time\n",
    "import re\n",
    "mongo_db=MongoManager(server_ip='chatbotdb')\n",
    "\n",
    "import urllib.request\n",
    "from urllib.parse import quote\n",
    "import pandas as pd\n",
    "import numpy as np\n",
    "import time\n",
    "import re\n",
    "\n",
    "def get_data(sentence):\n",
    "    #url中含有中文时要单独处理\n",
    "    req = urllib.request.Request(\n",
    "        'http://drea.cc/api/chat.php?msg={}&uid=drea_bbs_chat'.format(quote(sentence)))\n",
    "    req.add_header('Content-type', 'text/xml; charset=\"gbk\"')\n",
    "    response = urllib.request.urlopen(req)\n",
    "    buff = response.read()\n",
    "    the_page = buff.decode('gbk')\n",
    "    print(type(the_page),eval(the_page)['reply'])\n",
    "    response.close()\n",
    "    return eval(the_page)['reply']\n",
    "\n",
    "def get_data(sentence):\n",
    "   \n",
    "    return 'hahahah'\n",
    "\n",
    "\n",
    "\n",
    "@app.route('/')\n",
    "@app.route('/index')\n",
    "def index0():\n",
    "    return render_template(\n",
    "                           # \"index0.html\",\n",
    "                           \"index.html\",\n",
    "                           )\n",
    "@app.route(\"/predict\", methods= [\"POST\"])\n",
    "def background_process():\n",
    "    if request.method == 'POST':\n",
    "        try:\n",
    "            query = request.form.get('query')#前端查询的内容\n",
    "            if query:\n",
    "\n",
    "                    print('query',query)\n",
    "                    # time.sleep(5)\n",
    "                    result = get_data(query)\n",
    "                    print('result',result)\n",
    "                    mongo_db.save_query(query, str(result))\n",
    "                    return str(result)\n",
    "\n",
    "            else:\n",
    "\n",
    "                    return str('请输入查询内容')\n",
    "\n",
    "\n",
    "        except Exception as e:\n",
    "\n",
    "            if 'duplicate' in str(e):\n",
    "                e_str = e.details['errmsg']\n",
    "                dup_id=re.search('\\{ : \"(.*)\" \\}',e_str).group(1)\n",
    "                print('重复查询同一句话,存储时使用相同的_id_',dup_id)\n",
    "                mongo_db.update_dup_query( dup_id, str(result))\n",
    "                return str(result)\n",
    "\n",
    "            else:\n",
    "                print(e)\n",
    "                print('有问题，MM出故障啦')\n",
    "                return str('MM出故障啦')\n",
    "\n",
    "        # finally:\n",
    "        #     # print(e)\n",
    "        #     print('有问题，MM出故障啦。。')\n",
    "        #     return str('MM出故障啦。。')\n",
    "\n",
    "    else:\n",
    "        return 'ok'\n",
    "\n",
    "# @app.route('/dataFromAjax_post',methods=['POST','GET'])\n",
    "# def dataFromAjax_post():\n",
    "#     if request.method == 'POST':\n",
    "#\n",
    "#         try:\n",
    "#             # query = request.form.get('mydata')  # 前端查询的内容\n",
    "#             query = request.form['mydata']  # 前端查询的内容\n",
    "#             if query:\n",
    "#\n",
    "#                 print('query', query)\n",
    "#                 # time.sleep(5)\n",
    "#                 result = '欢迎光临'\n",
    "#                 print('result', result)\n",
    "#                 # mongo_db.save_query(query, str(result))\n",
    "#                 return str(result)\n",
    "#             else:\n",
    "#\n",
    "#                 return str('请输入查询内容')\n",
    "#         except Exception as e:\n",
    "#             print('exception', e)\n",
    "#             return str('有问题')\n",
    "#     else:\n",
    "#         return 'ok'\n",
    "\n",
    "\n",
    "\n"
   ]
  },
  {
   "cell_type": "code",
   "execution_count": null,
   "metadata": {
    "ExecuteTime": {
     "start_time": "2018-06-07T20:55:23.016Z"
    }
   },
   "outputs": [
    {
     "name": "stderr",
     "output_type": "stream",
     "text": [
      " * Running on http://0.0.0.0:8889/ (Press CTRL+C to quit)\n",
      "10.0.25.23 - - [07/Jun/2018 20:55:25] \"POST /dataFromAjax_post HTTP/1.1\" 404 -\n",
      "10.0.25.23 - - [07/Jun/2018 20:55:25] \"POST /predict HTTP/1.1\" 200 -\n"
     ]
    },
    {
     "name": "stdout",
     "output_type": "stream",
     "text": [
      "query 111\n",
      "result hahahah\n"
     ]
    },
    {
     "name": "stderr",
     "output_type": "stream",
     "text": [
      "10.0.25.23 - - [07/Jun/2018 20:55:58] \"GET / HTTP/1.1\" 200 -\n",
      "10.0.25.23 - - [07/Jun/2018 20:56:02] \"POST /dataFromAjax_post HTTP/1.1\" 404 -\n",
      "10.0.25.23 - - [07/Jun/2018 20:56:02] \"POST /predict HTTP/1.1\" 200 -\n"
     ]
    },
    {
     "name": "stdout",
     "output_type": "stream",
     "text": [
      "query aa\n",
      "result hahahah\n"
     ]
    },
    {
     "name": "stderr",
     "output_type": "stream",
     "text": [
      "10.0.25.23 - - [07/Jun/2018 20:56:03] \"POST /dataFromAjax_post HTTP/1.1\" 404 -\n",
      "10.0.25.23 - - [07/Jun/2018 20:56:03] \"POST /predict HTTP/1.1\" 200 -\n"
     ]
    },
    {
     "name": "stdout",
     "output_type": "stream",
     "text": [
      "query dd\n",
      "result hahahah\n"
     ]
    },
    {
     "name": "stderr",
     "output_type": "stream",
     "text": [
      "10.0.25.23 - - [07/Jun/2018 20:56:06] \"POST /dataFromAjax_post HTTP/1.1\" 404 -\n",
      "10.0.25.23 - - [07/Jun/2018 20:56:06] \"POST /predict HTTP/1.1\" 200 -\n"
     ]
    },
    {
     "name": "stdout",
     "output_type": "stream",
     "text": [
      "query fff\n",
      "result hahahah\n"
     ]
    },
    {
     "name": "stderr",
     "output_type": "stream",
     "text": [
      "10.0.25.23 - - [07/Jun/2018 20:56:10] \"POST /dataFromAjax_post HTTP/1.1\" 404 -\n",
      "10.0.25.23 - - [07/Jun/2018 20:56:10] \"POST /predict HTTP/1.1\" 200 -\n"
     ]
    },
    {
     "name": "stdout",
     "output_type": "stream",
     "text": [
      "query sss\n",
      "result hahahah\n",
      "重复查询同一句话,存储时使用相同的_id_ 9f6e6800cfae7749eb6c486619254b9c\n"
     ]
    },
    {
     "name": "stderr",
     "output_type": "stream",
     "text": [
      "10.0.25.23 - - [07/Jun/2018 20:56:13] \"POST /dataFromAjax_post HTTP/1.1\" 404 -\n",
      "10.0.25.23 - - [07/Jun/2018 20:56:13] \"POST /predict HTTP/1.1\" 200 -\n"
     ]
    },
    {
     "name": "stdout",
     "output_type": "stream",
     "text": [
      "query qqq\n",
      "result hahahah\n"
     ]
    },
    {
     "name": "stderr",
     "output_type": "stream",
     "text": [
      "10.0.25.23 - - [07/Jun/2018 20:56:14] \"POST /dataFromAjax_post HTTP/1.1\" 404 -\n",
      "10.0.25.23 - - [07/Jun/2018 20:56:14] \"POST /predict HTTP/1.1\" 200 -\n"
     ]
    },
    {
     "name": "stdout",
     "output_type": "stream",
     "text": [
      "query www\n",
      "result hahahah\n"
     ]
    },
    {
     "name": "stderr",
     "output_type": "stream",
     "text": [
      "10.0.25.23 - - [07/Jun/2018 20:56:14] \"POST /dataFromAjax_post HTTP/1.1\" 404 -\n",
      "10.0.25.23 - - [07/Jun/2018 20:56:14] \"POST /predict HTTP/1.1\" 200 -\n"
     ]
    },
    {
     "name": "stdout",
     "output_type": "stream",
     "text": [
      "query ww\n",
      "result hahahah\n"
     ]
    },
    {
     "name": "stderr",
     "output_type": "stream",
     "text": [
      "10.0.25.23 - - [07/Jun/2018 20:56:16] \"POST /dataFromAjax_post HTTP/1.1\" 404 -\n",
      "10.0.25.23 - - [07/Jun/2018 20:56:16] \"POST /predict HTTP/1.1\" 200 -\n"
     ]
    },
    {
     "name": "stdout",
     "output_type": "stream",
     "text": [
      "query ww\n",
      "result hahahah\n",
      "重复查询同一句话,存储时使用相同的_id_ ad57484016654da87125db86f4227ea3\n"
     ]
    },
    {
     "name": "stderr",
     "output_type": "stream",
     "text": [
      "10.0.25.23 - - [07/Jun/2018 20:56:16] \"POST /dataFromAjax_post HTTP/1.1\" 404 -\n",
      "10.0.25.23 - - [07/Jun/2018 20:56:16] \"POST /predict HTTP/1.1\" 200 -\n"
     ]
    },
    {
     "name": "stdout",
     "output_type": "stream",
     "text": [
      "query ww\n",
      "result hahahah\n",
      "重复查询同一句话,存储时使用相同的_id_ ad57484016654da87125db86f4227ea3\n"
     ]
    },
    {
     "name": "stderr",
     "output_type": "stream",
     "text": [
      "10.0.25.23 - - [07/Jun/2018 20:56:17] \"POST /dataFromAjax_post HTTP/1.1\" 404 -\n",
      "10.0.25.23 - - [07/Jun/2018 20:56:17] \"POST /predict HTTP/1.1\" 200 -\n"
     ]
    },
    {
     "name": "stdout",
     "output_type": "stream",
     "text": [
      "query ww\n",
      "result hahahah\n",
      "重复查询同一句话,存储时使用相同的_id_ ad57484016654da87125db86f4227ea3\n"
     ]
    },
    {
     "name": "stderr",
     "output_type": "stream",
     "text": [
      "10.0.25.23 - - [07/Jun/2018 20:56:18] \"POST /dataFromAjax_post HTTP/1.1\" 404 -\n",
      "10.0.25.23 - - [07/Jun/2018 20:56:18] \"POST /predict HTTP/1.1\" 200 -\n"
     ]
    },
    {
     "name": "stdout",
     "output_type": "stream",
     "text": [
      "query ww\n",
      "result hahahah\n",
      "重复查询同一句话,存储时使用相同的_id_ ad57484016654da87125db86f4227ea3\n"
     ]
    },
    {
     "name": "stderr",
     "output_type": "stream",
     "text": [
      "10.0.25.23 - - [07/Jun/2018 20:56:26] \"POST /dataFromAjax_post HTTP/1.1\" 404 -\n",
      "10.0.25.23 - - [07/Jun/2018 20:56:26] \"POST /predict HTTP/1.1\" 200 -\n"
     ]
    },
    {
     "name": "stdout",
     "output_type": "stream",
     "text": [
      "query pppp\n",
      "result hahahah\n"
     ]
    },
    {
     "name": "stderr",
     "output_type": "stream",
     "text": [
      "10.0.25.23 - - [07/Jun/2018 20:56:26] \"POST /dataFromAjax_post HTTP/1.1\" 404 -\n",
      "10.0.25.23 - - [07/Jun/2018 20:56:26] \"POST /predict HTTP/1.1\" 200 -\n"
     ]
    },
    {
     "name": "stdout",
     "output_type": "stream",
     "text": [
      "query pp\n",
      "result hahahah\n"
     ]
    },
    {
     "name": "stderr",
     "output_type": "stream",
     "text": [
      "10.0.25.23 - - [07/Jun/2018 20:56:27] \"POST /dataFromAjax_post HTTP/1.1\" 404 -\n",
      "10.0.25.23 - - [07/Jun/2018 20:56:27] \"POST /predict HTTP/1.1\" 200 -\n"
     ]
    },
    {
     "name": "stdout",
     "output_type": "stream",
     "text": [
      "query pp\n",
      "result hahahah\n",
      "重复查询同一句话,存储时使用相同的_id_ c483f6ce851c9ecd9fb835ff7551737c\n"
     ]
    },
    {
     "name": "stderr",
     "output_type": "stream",
     "text": [
      "10.0.25.23 - - [07/Jun/2018 20:56:27] \"POST /dataFromAjax_post HTTP/1.1\" 404 -\n",
      "10.0.25.23 - - [07/Jun/2018 20:56:27] \"POST /predict HTTP/1.1\" 200 -\n"
     ]
    },
    {
     "name": "stdout",
     "output_type": "stream",
     "text": [
      "query pp\n",
      "result hahahah\n",
      "重复查询同一句话,存储时使用相同的_id_ c483f6ce851c9ecd9fb835ff7551737c\n"
     ]
    },
    {
     "name": "stderr",
     "output_type": "stream",
     "text": [
      "10.0.25.23 - - [07/Jun/2018 20:56:28] \"POST /dataFromAjax_post HTTP/1.1\" 404 -\n",
      "10.0.25.23 - - [07/Jun/2018 20:56:28] \"POST /predict HTTP/1.1\" 200 -\n"
     ]
    },
    {
     "name": "stdout",
     "output_type": "stream",
     "text": [
      "query pl\n",
      "result hahahah\n"
     ]
    },
    {
     "name": "stderr",
     "output_type": "stream",
     "text": [
      "10.0.25.23 - - [07/Jun/2018 20:56:28] \"POST /dataFromAjax_post HTTP/1.1\" 404 -\n",
      "10.0.25.23 - - [07/Jun/2018 20:56:28] \"POST /predict HTTP/1.1\" 200 -\n",
      "10.0.25.23 - - [07/Jun/2018 20:56:28] \"POST /dataFromAjax_post HTTP/1.1\" 404 -\n"
     ]
    },
    {
     "name": "stdout",
     "output_type": "stream",
     "text": [
      "query jj\n",
      "result hahahah\n"
     ]
    },
    {
     "name": "stderr",
     "output_type": "stream",
     "text": [
      "10.0.25.23 - - [07/Jun/2018 20:56:28] \"POST /predict HTTP/1.1\" 200 -\n",
      "10.0.25.23 - - [07/Jun/2018 20:56:28] \"POST /dataFromAjax_post HTTP/1.1\" 404 -\n",
      "10.0.25.23 - - [07/Jun/2018 20:56:28] \"POST /predict HTTP/1.1\" 200 -\n"
     ]
    },
    {
     "name": "stdout",
     "output_type": "stream",
     "text": [
      "query hfgj\n",
      "result hahahah\n",
      "query hdfhdg\n",
      "result hahahah\n"
     ]
    },
    {
     "name": "stderr",
     "output_type": "stream",
     "text": [
      "10.0.25.23 - - [07/Jun/2018 20:56:29] \"POST /dataFromAjax_post HTTP/1.1\" 404 -\n",
      "10.0.25.23 - - [07/Jun/2018 20:56:29] \"POST /predict HTTP/1.1\" 200 -\n",
      "10.0.25.23 - - [07/Jun/2018 20:56:29] \"POST /dataFromAjax_post HTTP/1.1\" 404 -\n",
      "10.0.25.23 - - [07/Jun/2018 20:56:29] \"POST /predict HTTP/1.1\" 200 -\n"
     ]
    },
    {
     "name": "stdout",
     "output_type": "stream",
     "text": [
      "query hs\n",
      "result hahahah\n",
      "query dfgsfd\n",
      "result hahahah\n"
     ]
    },
    {
     "name": "stderr",
     "output_type": "stream",
     "text": [
      "10.0.25.23 - - [07/Jun/2018 20:56:29] \"POST /dataFromAjax_post HTTP/1.1\" 404 -\n",
      "10.0.25.23 - - [07/Jun/2018 20:56:29] \"POST /predict HTTP/1.1\" 200 -\n",
      "10.0.25.23 - - [07/Jun/2018 20:56:29] \"POST /dataFromAjax_post HTTP/1.1\" 404 -\n",
      "10.0.25.23 - - [07/Jun/2018 20:56:29] \"POST /predict HTTP/1.1\" 200 -\n"
     ]
    },
    {
     "name": "stdout",
     "output_type": "stream",
     "text": [
      "query frf\n",
      "result hahahah\n",
      "query ert\n",
      "result hahahah\n"
     ]
    },
    {
     "name": "stderr",
     "output_type": "stream",
     "text": [
      "10.0.25.23 - - [07/Jun/2018 20:56:29] \"POST /dataFromAjax_post HTTP/1.1\" 404 -\n",
      "10.0.25.23 - - [07/Jun/2018 20:56:29] \"POST /predict HTTP/1.1\" 200 -\n",
      "10.0.25.23 - - [07/Jun/2018 20:56:29] \"POST /dataFromAjax_post HTTP/1.1\" 404 -\n",
      "10.0.25.23 - - [07/Jun/2018 20:56:29] \"POST /predict HTTP/1.1\" 200 -\n"
     ]
    },
    {
     "name": "stdout",
     "output_type": "stream",
     "text": [
      "query reg\n",
      "result hahahah\n",
      "query ff\n",
      "result hahahah\n"
     ]
    },
    {
     "name": "stderr",
     "output_type": "stream",
     "text": [
      "10.0.25.23 - - [07/Jun/2018 20:56:34] \"POST /dataFromAjax_post HTTP/1.1\" 404 -\n",
      "10.0.25.23 - - [07/Jun/2018 20:56:34] \"POST /predict HTTP/1.1\" 200 -\n"
     ]
    },
    {
     "name": "stdout",
     "output_type": "stream",
     "text": [
      "query sfsdadf\n",
      "result hahahah\n"
     ]
    },
    {
     "name": "stderr",
     "output_type": "stream",
     "text": [
      "10.0.25.23 - - [07/Jun/2018 20:56:35] \"POST /dataFromAjax_post HTTP/1.1\" 404 -\n",
      "10.0.25.23 - - [07/Jun/2018 20:56:35] \"POST /predict HTTP/1.1\" 200 -\n"
     ]
    },
    {
     "name": "stdout",
     "output_type": "stream",
     "text": [
      "query sdfds\n",
      "result hahahah\n"
     ]
    },
    {
     "name": "stderr",
     "output_type": "stream",
     "text": [
      "10.0.25.23 - - [07/Jun/2018 20:56:35] \"POST /dataFromAjax_post HTTP/1.1\" 404 -\n",
      "10.0.25.23 - - [07/Jun/2018 20:56:35] \"POST /predict HTTP/1.1\" 200 -\n"
     ]
    },
    {
     "name": "stdout",
     "output_type": "stream",
     "text": [
      "query dsfsd\n",
      "result hahahah\n"
     ]
    },
    {
     "name": "stderr",
     "output_type": "stream",
     "text": [
      "10.0.25.23 - - [07/Jun/2018 20:56:36] \"POST /dataFromAjax_post HTTP/1.1\" 404 -\n",
      "10.0.25.23 - - [07/Jun/2018 20:56:36] \"POST /predict HTTP/1.1\" 200 -\n"
     ]
    },
    {
     "name": "stdout",
     "output_type": "stream",
     "text": [
      "query s\n",
      "result hahahah\n",
      "重复查询同一句话,存储时使用相同的_id_ 03c7c0ace395d80182db07ae2c30f034\n"
     ]
    },
    {
     "name": "stderr",
     "output_type": "stream",
     "text": [
      "10.0.25.23 - - [07/Jun/2018 20:56:37] \"POST /dataFromAjax_post HTTP/1.1\" 404 -\n",
      "10.0.25.23 - - [07/Jun/2018 20:56:37] \"POST /predict HTTP/1.1\" 200 -\n"
     ]
    },
    {
     "name": "stdout",
     "output_type": "stream",
     "text": [
      "query sss\n",
      "result hahahah\n",
      "重复查询同一句话,存储时使用相同的_id_ 9f6e6800cfae7749eb6c486619254b9c\n"
     ]
    },
    {
     "name": "stderr",
     "output_type": "stream",
     "text": [
      "10.0.25.23 - - [07/Jun/2018 20:56:37] \"POST /dataFromAjax_post HTTP/1.1\" 404 -\n",
      "10.0.25.23 - - [07/Jun/2018 20:56:37] \"POST /predict HTTP/1.1\" 200 -\n",
      "10.0.25.23 - - [07/Jun/2018 20:56:38] \"POST /dataFromAjax_post HTTP/1.1\" 404 -\n",
      "10.0.25.23 - - [07/Jun/2018 20:56:38] \"POST /predict HTTP/1.1\" 200 -\n"
     ]
    },
    {
     "name": "stdout",
     "output_type": "stream",
     "text": [
      "query ss\n",
      "result hahahah\n",
      "重复查询同一句话,存储时使用相同的_id_ 3691308f2a4c2f6983f2880d32e29c84\n",
      "query s\n",
      "result hahahah\n",
      "重复查询同一句话,存储时使用相同的_id_ 03c7c0ace395d80182db07ae2c30f034\n"
     ]
    },
    {
     "name": "stderr",
     "output_type": "stream",
     "text": [
      "10.0.25.23 - - [07/Jun/2018 20:56:38] \"POST /dataFromAjax_post HTTP/1.1\" 404 -\n",
      "10.0.25.23 - - [07/Jun/2018 20:56:38] \"POST /predict HTTP/1.1\" 200 -\n",
      "10.0.25.23 - - [07/Jun/2018 20:56:38] \"POST /dataFromAjax_post HTTP/1.1\" 404 -\n",
      "10.0.25.23 - - [07/Jun/2018 20:56:38] \"POST /predict HTTP/1.1\" 200 -\n"
     ]
    },
    {
     "name": "stdout",
     "output_type": "stream",
     "text": [
      "query s\n",
      "result hahahah\n",
      "重复查询同一句话,存储时使用相同的_id_ 03c7c0ace395d80182db07ae2c30f034\n",
      "query s\n",
      "result hahahah\n",
      "重复查询同一句话,存储时使用相同的_id_ 03c7c0ace395d80182db07ae2c30f034\n"
     ]
    },
    {
     "name": "stderr",
     "output_type": "stream",
     "text": [
      "10.0.25.23 - - [07/Jun/2018 20:56:38] \"POST /dataFromAjax_post HTTP/1.1\" 404 -\n",
      "10.0.25.23 - - [07/Jun/2018 20:56:38] \"POST /predict HTTP/1.1\" 200 -\n",
      "10.0.25.23 - - [07/Jun/2018 20:56:38] \"POST /dataFromAjax_post HTTP/1.1\" 404 -\n",
      "10.0.25.23 - - [07/Jun/2018 20:56:38] \"POST /predict HTTP/1.1\" 200 -\n"
     ]
    },
    {
     "name": "stdout",
     "output_type": "stream",
     "text": [
      "query s\n",
      "result hahahah\n",
      "重复查询同一句话,存储时使用相同的_id_ 03c7c0ace395d80182db07ae2c30f034\n",
      "query s\n",
      "result hahahah\n",
      "重复查询同一句话,存储时使用相同的_id_ 03c7c0ace395d80182db07ae2c30f034\n"
     ]
    },
    {
     "name": "stderr",
     "output_type": "stream",
     "text": [
      "10.0.25.23 - - [07/Jun/2018 20:56:38] \"POST /dataFromAjax_post HTTP/1.1\" 404 -\n",
      "10.0.25.23 - - [07/Jun/2018 20:56:38] \"POST /predict HTTP/1.1\" 200 -\n"
     ]
    },
    {
     "name": "stdout",
     "output_type": "stream",
     "text": [
      "query s\n",
      "result hahahah\n",
      "重复查询同一句话,存储时使用相同的_id_ 03c7c0ace395d80182db07ae2c30f034\n"
     ]
    },
    {
     "name": "stderr",
     "output_type": "stream",
     "text": [
      "10.0.25.23 - - [07/Jun/2018 20:56:39] \"POST /dataFromAjax_post HTTP/1.1\" 404 -\n",
      "10.0.25.23 - - [07/Jun/2018 20:56:39] \"POST /predict HTTP/1.1\" 200 -\n",
      "10.0.25.23 - - [07/Jun/2018 20:56:39] \"POST /dataFromAjax_post HTTP/1.1\" 404 -\n",
      "10.0.25.23 - - [07/Jun/2018 20:56:39] \"POST /predict HTTP/1.1\" 200 -\n"
     ]
    },
    {
     "name": "stdout",
     "output_type": "stream",
     "text": [
      "query s\n",
      "result hahahah\n",
      "重复查询同一句话,存储时使用相同的_id_ 03c7c0ace395d80182db07ae2c30f034\n",
      "query s\n",
      "result hahahah\n",
      "重复查询同一句话,存储时使用相同的_id_ 03c7c0ace395d80182db07ae2c30f034\n"
     ]
    },
    {
     "name": "stderr",
     "output_type": "stream",
     "text": [
      "10.0.25.23 - - [07/Jun/2018 20:56:46] \"POST /dataFromAjax_post HTTP/1.1\" 404 -\n",
      "10.0.25.23 - - [07/Jun/2018 20:56:46] \"POST /predict HTTP/1.1\" 200 -\n"
     ]
    },
    {
     "name": "stdout",
     "output_type": "stream",
     "text": [
      "query sdfdsf\n",
      "result hahahah\n"
     ]
    },
    {
     "name": "stderr",
     "output_type": "stream",
     "text": [
      "10.0.25.23 - - [07/Jun/2018 20:56:48] \"POST /dataFromAjax_post HTTP/1.1\" 404 -\n",
      "10.0.25.23 - - [07/Jun/2018 20:56:48] \"POST /predict HTTP/1.1\" 200 -\n"
     ]
    },
    {
     "name": "stdout",
     "output_type": "stream",
     "text": [
      "query sadfsd\n",
      "result hahahah\n"
     ]
    }
   ],
   "source": [
    "app.debug = False\n",
    "app.run(host='0.0.0.0',port=8889)    #这样用来监听所有的ip，团队调试用\n"
   ]
  },
  {
   "cell_type": "code",
   "execution_count": 4,
   "metadata": {
    "ExecuteTime": {
     "end_time": "2018-06-07T20:28:49.683381Z",
     "start_time": "2018-06-07T20:28:49.673287Z"
    }
   },
   "outputs": [
    {
     "ename": "NameError",
     "evalue": "name '__file__' is not defined",
     "output_type": "error",
     "traceback": [
      "\u001b[0;31m---------------------------------------------------------------------------\u001b[0m",
      "\u001b[0;31mNameError\u001b[0m                                 Traceback (most recent call last)",
      "\u001b[0;32m<ipython-input-4-a878e61ccfb0>\u001b[0m in \u001b[0;36m<module>\u001b[0;34m()\u001b[0m\n\u001b[1;32m      1\u001b[0m \u001b[0;32mimport\u001b[0m \u001b[0msys\u001b[0m\u001b[0;34m,\u001b[0m\u001b[0mos\u001b[0m\u001b[0;34m\u001b[0m\u001b[0m\n\u001b[0;32m----> 2\u001b[0;31m \u001b[0msys\u001b[0m\u001b[0;34m.\u001b[0m\u001b[0mpath\u001b[0m\u001b[0;34m.\u001b[0m\u001b[0mappend\u001b[0m\u001b[0;34m(\u001b[0m\u001b[0mos\u001b[0m\u001b[0;34m.\u001b[0m\u001b[0mpath\u001b[0m\u001b[0;34m.\u001b[0m\u001b[0mdirname\u001b[0m\u001b[0;34m(\u001b[0m\u001b[0m__file__\u001b[0m\u001b[0;34m)\u001b[0m\u001b[0;34m,\u001b[0m\u001b[0;34m'../../'\u001b[0m\u001b[0;34m)\u001b[0m\u001b[0;34m\u001b[0m\u001b[0m\n\u001b[0m",
      "\u001b[0;31mNameError\u001b[0m: name '__file__' is not defined"
     ]
    }
   ],
   "source": [
    "import sys,os\n",
    "sys.path.append(os.path.dirname(__file__),'../../')"
   ]
  },
  {
   "cell_type": "code",
   "execution_count": null,
   "metadata": {
    "collapsed": true
   },
   "outputs": [],
   "source": []
  }
 ],
 "metadata": {
  "kernelspec": {
   "display_name": "Python 3",
   "language": "python",
   "name": "python3"
  },
  "language_info": {
   "codemirror_mode": {
    "name": "ipython",
    "version": 3
   },
   "file_extension": ".py",
   "mimetype": "text/x-python",
   "name": "python",
   "nbconvert_exporter": "python",
   "pygments_lexer": "ipython3",
   "version": "3.6.3"
  },
  "varInspector": {
   "cols": {
    "lenName": 16,
    "lenType": 16,
    "lenVar": 40
   },
   "kernels_config": {
    "python": {
     "delete_cmd_postfix": "",
     "delete_cmd_prefix": "del ",
     "library": "var_list.py",
     "varRefreshCmd": "print(var_dic_list())"
    },
    "r": {
     "delete_cmd_postfix": ") ",
     "delete_cmd_prefix": "rm(",
     "library": "var_list.r",
     "varRefreshCmd": "cat(var_dic_list()) "
    }
   },
   "types_to_exclude": [
    "module",
    "function",
    "builtin_function_or_method",
    "instance",
    "_Feature"
   ],
   "window_display": false
  }
 },
 "nbformat": 4,
 "nbformat_minor": 2
}
