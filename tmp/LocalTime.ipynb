{
 "cells": [
  {
   "cell_type": "code",
   "execution_count": 1,
   "metadata": {
    "ExecuteTime": {
     "end_time": "2018-07-23T05:06:19.975284Z",
     "start_time": "2018-07-23T05:06:19.938707Z"
    }
   },
   "outputs": [],
   "source": [
    "import datetime as dt\n",
    "import pytz\n",
    "import sys,os\n",
    "sys.path.append('../ENV/')\n",
    "from env import ENV"
   ]
  },
  {
   "cell_type": "code",
   "execution_count": 1,
   "metadata": {
    "ExecuteTime": {
     "end_time": "2018-07-23T05:14:26.054957Z",
     "start_time": "2018-07-23T05:14:26.013754Z"
    }
   },
   "outputs": [],
   "source": [
    "import datetime as dt\n",
    "import pytz\n",
    "import sys,os\n",
    "EVN_PATH = '../ENV/'\n",
    "sys.path.append( EVN_PATH)\n",
    "from env import ENV\n",
    "\n",
    "\n",
    "class LocalDateTime:\n",
    "    def __init__(self):\n",
    "        \"\"\"\n",
    "        datetime.datetime(2018, 7, 23, 4, 8, 7, 697577, tzinfo=<DstTzInfo 'Asia/Shanghai' CST+8:00:00 STD>)\n",
    "        meaning, current time is 7-23 04:08:07 Shanghai timezone\n",
    "        datetime.datetime(2018, 7, 22, 16, 8, 7, 471854, tzinfo=<DstTzInfo 'America/New_York' EDT-1 day, 20:00:00 DST>)\n",
    "        meaning, current time is 7-23 16:07:23 Shanghai timezone\n",
    "        the two time delta is 0. the 2 time is equal.\n",
    "        shanghai time will be convert into DB timezone first and then save as the DB time. Once it is read from DB by python, it will be converted to UTC time which is 7-22 20:08:07\n",
    "        \"\"\"\n",
    "        self._setTimeZone()\n",
    "        self.timeZone = ENV.TIMEZONE.value\n",
    "        \n",
    "    def _setTimeZone(self):\n",
    "        tz = ENV.TIMEZONE.value\n",
    "        self.tz = pytz.timezone(tz)\n",
    "        self.delta = self.tz.utcoffset(dt.datetime.utcnow())\n",
    "        \n",
    "    def getLocalNow(self):\n",
    "        time = dt.datetime.utcnow()\n",
    "        local_time = self.tz.localize(time)\n",
    "        return local_time + self.delta\n",
    "\n",
    "    \n",
    "    def getUtcNow(self):\n",
    "        return dt.datetime.utcnow()\n",
    "    \n",
    "    def createLocalTime(self,**time):\n",
    "        time = dt.datetime(**time)\n",
    "        local_time = self.tz.localize(time)\n",
    "        return local_time \n",
    "        \n",
    "        "
   ]
  },
  {
   "cell_type": "code",
   "execution_count": 2,
   "metadata": {
    "ExecuteTime": {
     "end_time": "2018-07-23T05:14:26.649444Z",
     "start_time": "2018-07-23T05:14:26.610973Z"
    }
   },
   "outputs": [],
   "source": [
    "l = LocalDateTime()"
   ]
  },
  {
   "cell_type": "code",
   "execution_count": 3,
   "metadata": {
    "ExecuteTime": {
     "end_time": "2018-07-23T05:14:27.474698Z",
     "start_time": "2018-07-23T05:14:27.457901Z"
    }
   },
   "outputs": [
    {
     "data": {
      "text/plain": [
       "datetime.datetime(2018, 7, 23, 1, 14, 27, 459428, tzinfo=<DstTzInfo 'America/New_York' EDT-1 day, 20:00:00 DST>)"
      ]
     },
     "execution_count": 3,
     "metadata": {},
     "output_type": "execute_result"
    }
   ],
   "source": [
    "l.getLocalNow()"
   ]
  },
  {
   "cell_type": "code",
   "execution_count": 38,
   "metadata": {
    "ExecuteTime": {
     "end_time": "2018-07-22T19:33:59.473919Z",
     "start_time": "2018-07-22T19:33:59.463758Z"
    }
   },
   "outputs": [
    {
     "data": {
      "text/plain": [
       "datetime.datetime(2018, 7, 23, 15, 0, tzinfo=<DstTzInfo 'Asia/Shanghai' CST+8:00:00 STD>)"
      ]
     },
     "execution_count": 38,
     "metadata": {},
     "output_type": "execute_result"
    }
   ],
   "source": [
    "tz = ENV.TIMEZONE.value\n",
    "utc = pytz.utc\n",
    "self.tz = pytz.timezone(tz)\n",
    "now = dt.datetime.now()\n",
    "utc_now = utc.localize(now)\n",
    "tz_now = self.tz.localize(now)\n",
    "delta =  utc_now - tz_now\n",
    "hours = round(delta.total_seconds() / 3600)\n",
    "self.delta = dt.timedelta(hours=hours)"
   ]
  },
  {
   "cell_type": "code",
   "execution_count": 9,
   "metadata": {
    "ExecuteTime": {
     "end_time": "2018-07-23T05:09:58.017215Z",
     "start_time": "2018-07-23T05:09:58.006743Z"
    }
   },
   "outputs": [
    {
     "name": "stdout",
     "output_type": "stream",
     "text": [
      "Asia/Shanghai\n"
     ]
    }
   ],
   "source": [
    "tz = ENV.TIMEZONE.value\n",
    "print(tz)\n",
    "tz = pytz.timezone(tz)\n",
    "tz_now = tz.localize(dt.datetime.utcnow())"
   ]
  },
  {
   "cell_type": "code",
   "execution_count": 15,
   "metadata": {
    "ExecuteTime": {
     "end_time": "2018-07-23T05:11:34.203760Z",
     "start_time": "2018-07-23T05:11:34.190409Z"
    }
   },
   "outputs": [
    {
     "data": {
      "text/plain": [
       "8.0"
      ]
     },
     "execution_count": 15,
     "metadata": {},
     "output_type": "execute_result"
    }
   ],
   "source": [
    "tz.utcoffset(dt.datetime.utcnow()).total_seconds() / 3600"
   ]
  },
  {
   "cell_type": "code",
   "execution_count": 25,
   "metadata": {
    "ExecuteTime": {
     "end_time": "2018-07-21T22:14:38.008321Z",
     "start_time": "2018-07-21T22:14:38.000543Z"
    }
   },
   "outputs": [
    {
     "data": {
      "text/plain": [
       "datetime.datetime(2018, 7, 21, 0, 0)"
      ]
     },
     "execution_count": 25,
     "metadata": {},
     "output_type": "execute_result"
    }
   ],
   "source": [
    "l.createLocalTime(year=2018,month=7,day=21)"
   ]
  },
  {
   "cell_type": "code",
   "execution_count": 2,
   "metadata": {
    "ExecuteTime": {
     "end_time": "2018-07-21T18:42:00.804976Z",
     "start_time": "2018-07-21T18:42:00.794632Z"
    }
   },
   "outputs": [],
   "source": [
    "import sys,os\n",
    "sys.path.append('../Lib/')\n",
    "from TIME import LocalDateTime"
   ]
  },
  {
   "cell_type": "code",
   "execution_count": 5,
   "metadata": {
    "ExecuteTime": {
     "end_time": "2018-07-21T18:42:39.220636Z",
     "start_time": "2018-07-21T18:42:39.180422Z"
    }
   },
   "outputs": [],
   "source": [
    "l = LocalDateTime()"
   ]
  },
  {
   "cell_type": "code",
   "execution_count": 7,
   "metadata": {
    "ExecuteTime": {
     "end_time": "2018-07-21T18:42:47.106303Z",
     "start_time": "2018-07-21T18:42:47.098516Z"
    }
   },
   "outputs": [
    {
     "data": {
      "text/plain": [
       "<DstTzInfo 'Asia/Shanghai' LMT+8:06:00 STD>"
      ]
     },
     "execution_count": 7,
     "metadata": {},
     "output_type": "execute_result"
    }
   ],
   "source": [
    "l.tz"
   ]
  },
  {
   "cell_type": "code",
   "execution_count": 6,
   "metadata": {
    "ExecuteTime": {
     "end_time": "2018-07-21T18:42:41.178063Z",
     "start_time": "2018-07-21T18:42:41.161500Z"
    }
   },
   "outputs": [
    {
     "data": {
      "text/plain": [
       "datetime.datetime(2018, 7, 22, 2, 42, 41, 162710)"
      ]
     },
     "execution_count": 6,
     "metadata": {},
     "output_type": "execute_result"
    }
   ],
   "source": [
    "l.getLocalNow()"
   ]
  },
  {
   "cell_type": "code",
   "execution_count": 17,
   "metadata": {
    "ExecuteTime": {
     "end_time": "2018-07-21T18:35:42.851815Z",
     "start_time": "2018-07-21T18:35:42.845720Z"
    }
   },
   "outputs": [
    {
     "data": {
      "text/plain": [
       "datetime.timedelta(0, 28800)"
      ]
     },
     "execution_count": 17,
     "metadata": {},
     "output_type": "execute_result"
    }
   ],
   "source": [
    "c - ny"
   ]
  },
  {
   "cell_type": "code",
   "execution_count": null,
   "metadata": {},
   "outputs": [],
   "source": []
  }
 ],
 "metadata": {
  "kernelspec": {
   "display_name": "Python 3",
   "language": "python",
   "name": "python3"
  },
  "language_info": {
   "codemirror_mode": {
    "name": "ipython",
    "version": 3
   },
   "file_extension": ".py",
   "mimetype": "text/x-python",
   "name": "python",
   "nbconvert_exporter": "python",
   "pygments_lexer": "ipython3",
   "version": "3.6.5"
  },
  "varInspector": {
   "cols": {
    "lenName": 16,
    "lenType": 16,
    "lenVar": 40
   },
   "kernels_config": {
    "python": {
     "delete_cmd_postfix": "",
     "delete_cmd_prefix": "del ",
     "library": "var_list.py",
     "varRefreshCmd": "print(var_dic_list())"
    },
    "r": {
     "delete_cmd_postfix": ") ",
     "delete_cmd_prefix": "rm(",
     "library": "var_list.r",
     "varRefreshCmd": "cat(var_dic_list()) "
    }
   },
   "types_to_exclude": [
    "module",
    "function",
    "builtin_function_or_method",
    "instance",
    "_Feature"
   ],
   "window_display": false
  }
 },
 "nbformat": 4,
 "nbformat_minor": 2
}
