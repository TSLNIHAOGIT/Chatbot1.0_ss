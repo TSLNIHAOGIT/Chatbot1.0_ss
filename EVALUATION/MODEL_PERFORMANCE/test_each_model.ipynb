{
 "cells": [
  {
   "cell_type": "code",
   "execution_count": 1,
   "metadata": {
    "ExecuteTime": {
     "end_time": "2018-08-29T12:55:37.898762Z",
     "start_time": "2018-08-29T12:55:37.278067Z"
    }
   },
   "outputs": [],
   "source": [
    "import sys,os\n",
    "loader_path = '../../classifier/loader/'\n",
    "sys.path.append(loader_path)\n",
    "from loader import load_all"
   ]
  },
  {
   "cell_type": "code",
   "execution_count": 2,
   "metadata": {
    "ExecuteTime": {
     "end_time": "2018-08-29T12:55:39.292529Z",
     "start_time": "2018-08-29T12:55:38.332207Z"
    }
   },
   "outputs": [
    {
     "name": "stderr",
     "output_type": "stream",
     "text": [
      "2018-08-29 12:55:38,741 - INFO - CLASS:load_all- METHOD:load_all -LINE:34 - MSG:IDClassifier has been load!\n",
      "2018-08-29 12:55:38,742 - INFO - CLASS:load_all- METHOD:load_all -LINE:39 - MSG:IDClassifier does not require time zone!\n",
      "2018-08-29 12:55:38,887 - INFO - CLASS:load_all- METHOD:load_all -LINE:34 - MSG:CutDebt has been load!\n",
      "2018-08-29 12:55:38,888 - INFO - CLASS:load_all- METHOD:load_all -LINE:37 - MSG:CutDebt time zone is set to Asia/Shanghai\n",
      "2018-08-29 12:55:39,007 - INFO - CLASS:load_all- METHOD:load_all -LINE:34 - MSG:WillingToPay has been load!\n",
      "2018-08-29 12:55:39,010 - INFO - CLASS:load_all- METHOD:load_all -LINE:37 - MSG:WillingToPay time zone is set to Asia/Shanghai\n",
      "2018-08-29 12:55:39,085 - INFO - CLASS:load_all- METHOD:load_all -LINE:34 - MSG:IfKnowDebtor has been load!\n",
      "2018-08-29 12:55:39,086 - INFO - CLASS:load_all- METHOD:load_all -LINE:39 - MSG:IfKnowDebtor does not require time zone!\n",
      "2018-08-29 12:55:39,206 - INFO - CLASS:load_all- METHOD:load_all -LINE:34 - MSG:Installment has been load!\n",
      "2018-08-29 12:55:39,209 - INFO - CLASS:load_all- METHOD:load_all -LINE:37 - MSG:Installment time zone is set to Asia/Shanghai\n",
      "2018-08-29 12:55:39,286 - INFO - CLASS:load_all- METHOD:load_all -LINE:34 - MSG:ConfirmLoan has been load!\n",
      "2018-08-29 12:55:39,287 - INFO - CLASS:load_all- METHOD:load_all -LINE:37 - MSG:ConfirmLoan time zone is set to Asia/Shanghai\n"
     ]
    }
   ],
   "source": [
    "model_dict = load_all()"
   ]
  },
  {
   "cell_type": "code",
   "execution_count": 3,
   "metadata": {
    "ExecuteTime": {
     "end_time": "2018-08-29T12:55:39.874175Z",
     "start_time": "2018-08-29T12:55:39.855373Z"
    }
   },
   "outputs": [
    {
     "data": {
      "text/plain": [
       "{'IDClassifier': <ml.IDClassifier at 0x7f34740eadd8>,\n",
       " 'CutDebt': <ml.CutDebt at 0x7f343c484320>,\n",
       " 'WillingToPay': <ml.WillingToPay at 0x7f3449310390>,\n",
       " 'IfKnowDebtor': <ml.IfKnowDebtor at 0x7f3448ed7da0>,\n",
       " 'Installment': <ml.Installment at 0x7f343c0a8dd8>,\n",
       " 'ConfirmLoan': <ml.ConfirmLoan at 0x7f343c0a8e48>}"
      ]
     },
     "execution_count": 3,
     "metadata": {},
     "output_type": "execute_result"
    }
   ],
   "source": [
    "model_dict"
   ]
  },
  {
   "cell_type": "code",
   "execution_count": 4,
   "metadata": {
    "ExecuteTime": {
     "end_time": "2018-08-29T12:55:40.920442Z",
     "start_time": "2018-08-29T12:55:40.911010Z"
    }
   },
   "outputs": [],
   "source": [
    "idc = model_dict['IDClassifier']\n",
    "cutd = model_dict['CutDebt']\n",
    "wil = model_dict['WillingToPay']\n",
    "ifk = model_dict['IfKnowDebtor']\n",
    "ins = model_dict['Installment']\n",
    "conf = model_dict['ConfirmLoan']"
   ]
  },
  {
   "cell_type": "code",
   "execution_count": 5,
   "metadata": {
    "ExecuteTime": {
     "end_time": "2018-08-29T12:55:44.419977Z",
     "start_time": "2018-08-29T12:55:43.560455Z"
    }
   },
   "outputs": [
    {
     "name": "stderr",
     "output_type": "stream",
     "text": [
      "Building prefix dict from the default dictionary ...\n",
      "Loading model from cache /tmp/jieba.cache\n",
      "Loading model cost 0.821 seconds.\n",
      "Prefix dict has been built succesfully.\n"
     ]
    },
    {
     "data": {
      "text/plain": [
       "{'label': 0,\n",
       " 'av_pred': 0.862350275194887,\n",
       " 'other_response': None,\n",
       " 'timeExtract': [{'pattern': '明天下午4点',\n",
       "   'time': datetime.datetime(2018, 8, 30, 16, 0, tzinfo=<DstTzInfo 'Asia/Shanghai' CST+8:00:00 STD>),\n",
       "   'gapS': 68656.418148,\n",
       "   'gapH': 19.071227263333334}],\n",
       " 'ifAcceptInstallment': 'y'}"
      ]
     },
     "execution_count": 5,
     "metadata": {},
     "output_type": "execute_result"
    }
   ],
   "source": [
    "ins.classify('明天下午4点就还')"
   ]
  },
  {
   "cell_type": "code",
   "execution_count": 29,
   "metadata": {
    "ExecuteTime": {
     "end_time": "2018-08-29T12:50:17.028815Z",
     "start_time": "2018-08-29T12:50:16.975288Z"
    }
   },
   "outputs": [
    {
     "data": {
      "text/plain": [
       "{'label': 109,\n",
       " 'av_pred': 0.9353417862560294,\n",
       " 'other_response': 0.6877995596860366,\n",
       " 'ifDebtorAnswersing': 'null'}"
      ]
     },
     "execution_count": 29,
     "metadata": {},
     "output_type": "execute_result"
    }
   ],
   "source": [
    "idc.classify('别那么凶')"
   ]
  },
  {
   "cell_type": "code",
   "execution_count": 6,
   "metadata": {
    "ExecuteTime": {
     "end_time": "2018-08-29T12:55:49.606264Z",
     "start_time": "2018-08-29T12:55:49.585574Z"
    }
   },
   "outputs": [
    {
     "data": {
      "text/plain": [
       "{'label': 109,\n",
       " 'av_pred': 0.659122120709699,\n",
       " 'other_response': 0.5572860954394669,\n",
       " 'timeExtract': [],\n",
       " 'ifWillingToPay': 'null'}"
      ]
     },
     "execution_count": 6,
     "metadata": {},
     "output_type": "execute_result"
    }
   ],
   "source": [
    "wil.classify('别那么凶')"
   ]
  },
  {
   "cell_type": "code",
   "execution_count": 7,
   "metadata": {
    "ExecuteTime": {
     "end_time": "2018-08-29T13:00:58.205845Z",
     "start_time": "2018-08-29T13:00:58.197559Z"
    }
   },
   "outputs": [
    {
     "data": {
      "text/plain": [
       "array([0, 1, 2])"
      ]
     },
     "execution_count": 7,
     "metadata": {},
     "output_type": "execute_result"
    }
   ],
   "source": [
    "wil.svc.classes_"
   ]
  },
  {
   "cell_type": "code",
   "execution_count": null,
   "metadata": {},
   "outputs": [],
   "source": []
  }
 ],
 "metadata": {
  "kernelspec": {
   "display_name": "Python 3",
   "language": "python",
   "name": "python3"
  },
  "language_info": {
   "codemirror_mode": {
    "name": "ipython",
    "version": 3
   },
   "file_extension": ".py",
   "mimetype": "text/x-python",
   "name": "python",
   "nbconvert_exporter": "python",
   "pygments_lexer": "ipython3",
   "version": "3.6.5"
  },
  "varInspector": {
   "cols": {
    "lenName": 16,
    "lenType": 16,
    "lenVar": 40
   },
   "kernels_config": {
    "python": {
     "delete_cmd_postfix": "",
     "delete_cmd_prefix": "del ",
     "library": "var_list.py",
     "varRefreshCmd": "print(var_dic_list())"
    },
    "r": {
     "delete_cmd_postfix": ") ",
     "delete_cmd_prefix": "rm(",
     "library": "var_list.r",
     "varRefreshCmd": "cat(var_dic_list()) "
    }
   },
   "types_to_exclude": [
    "module",
    "function",
    "builtin_function_or_method",
    "instance",
    "_Feature"
   ],
   "window_display": false
  }
 },
 "nbformat": 4,
 "nbformat_minor": 2
}
