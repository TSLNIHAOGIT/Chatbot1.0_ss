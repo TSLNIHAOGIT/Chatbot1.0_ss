{
 "cells": [
  {
   "cell_type": "code",
   "execution_count": 2,
   "metadata": {
    "ExecuteTime": {
     "end_time": "2018-06-27T15:23:50.753375Z",
     "start_time": "2018-06-27T15:23:50.740577Z"
    }
   },
   "outputs": [],
   "source": [
    "import pandas as pd\n",
    "import numpy as np\n",
    "import re\n",
    "\n",
    "\n",
    "mapping = {1:['IDClassifier',1],\n",
    " 2:['IDClassifier',0],\n",
    " 3:['IDClassifier',2],\n",
    " 4:['IfKnowDebtor',0],\n",
    " 5:['IfKnowDebtor',1], \n",
    " 6:['IfKnowDebtor',2],\n",
    "7:['ConfirmLoan',0], \n",
    "8:['ConfirmLoan',1], \n",
    "9:['ConfirmLoan',2], \n",
    " \n",
    " 10:['WillingToPay',2], \n",
    " 11:['WillingToPay',0], \n",
    " 12:['WillingToPay',1], \n",
    " 13:['WillingToPay',3], \n",
    " \n",
    " 14:['CutDebt',0], \n",
    " 15:['CutDebt',1], \n",
    " 16:['CutDebt',2],\n",
    " 17:['Installment',0],\n",
    " 18:['Installment',1],\n",
    " 19:['Installment',2]}"
   ]
  },
  {
   "cell_type": "code",
   "execution_count": 21,
   "metadata": {
    "ExecuteTime": {
     "end_time": "2018-06-27T15:34:58.139484Z",
     "start_time": "2018-06-27T15:34:58.098837Z"
    }
   },
   "outputs": [],
   "source": [
    "df = pd.read_csv('../data/data_20180627.csv',encoding='utf-8')\n",
    "df = df.iloc[:,:193]\n",
    "df = df.drop(index=[0,6])"
   ]
  },
  {
   "cell_type": "code",
   "execution_count": 22,
   "metadata": {
    "ExecuteTime": {
     "end_time": "2018-06-27T15:35:24.722762Z",
     "start_time": "2018-06-27T15:35:24.702271Z"
    }
   },
   "outputs": [],
   "source": [
    "result = {}\n",
    "columns = df.columns.values\n",
    "\n",
    "for i in range(1,20):\n",
    "    expression = r'(?u)第{}题'.format(i)\n",
    "    text = []\n",
    "    delete = []\n",
    "    for column in columns:\n",
    "        if len(re.findall(expression,column)) > 0:\n",
    "            delete.append(False)\n",
    "            text.extend(list(df[column].values))\n",
    "        else:\n",
    "            delete.append(True)\n",
    "    label = [mapping[i][1] for a in range(len(text))]\n",
    "    columns = columns[delete]\n",
    "    cur = {mapping[i][0]:{'split_text':text, 'label':label}}\n",
    "    result[i] = cur"
   ]
  },
  {
   "cell_type": "markdown",
   "metadata": {
    "ExecuteTime": {
     "end_time": "2018-06-13T16:13:23.157234Z",
     "start_time": "2018-06-13T16:13:23.146307Z"
    }
   },
   "source": [
    "# Combine"
   ]
  },
  {
   "cell_type": "code",
   "execution_count": 23,
   "metadata": {
    "ExecuteTime": {
     "end_time": "2018-06-27T15:35:29.384416Z",
     "start_time": "2018-06-27T15:35:29.354322Z"
    }
   },
   "outputs": [],
   "source": [
    "com_dict = {}\n",
    "for each in result:\n",
    "    key = list(result[each].keys())[0]\n",
    "    if com_dict.get(key) is None:\n",
    "        com_dict[key] = []\n",
    "    com_dict[key].append(pd.DataFrame(result[each][key]))\n",
    "result = {}\n",
    "for each in com_dict:\n",
    "    result[each] = pd.concat(com_dict[each])"
   ]
  },
  {
   "cell_type": "code",
   "execution_count": 24,
   "metadata": {
    "ExecuteTime": {
     "end_time": "2018-06-27T15:35:32.091219Z",
     "start_time": "2018-06-27T15:35:32.084991Z"
    }
   },
   "outputs": [
    {
     "data": {
      "text/plain": [
       "dict_keys(['IDClassifier', 'IfKnowDebtor', 'ConfirmLoan', 'WillingToPay', 'CutDebt', 'Installment'])"
      ]
     },
     "execution_count": 24,
     "metadata": {},
     "output_type": "execute_result"
    }
   ],
   "source": [
    "result.keys()"
   ]
  },
  {
   "cell_type": "code",
   "execution_count": 13,
   "metadata": {
    "ExecuteTime": {
     "end_time": "2018-06-22T14:22:45.612492Z",
     "start_time": "2018-06-22T14:22:45.590739Z"
    }
   },
   "outputs": [
    {
     "data": {
      "text/html": [
       "<div>\n",
       "<style>\n",
       "    .dataframe thead tr:only-child th {\n",
       "        text-align: right;\n",
       "    }\n",
       "\n",
       "    .dataframe thead th {\n",
       "        text-align: left;\n",
       "    }\n",
       "\n",
       "    .dataframe tbody tr th {\n",
       "        vertical-align: top;\n",
       "    }\n",
       "</style>\n",
       "<table border=\"1\" class=\"dataframe\">\n",
       "  <thead>\n",
       "    <tr style=\"text-align: right;\">\n",
       "      <th></th>\n",
       "      <th>label</th>\n",
       "      <th>split_text</th>\n",
       "    </tr>\n",
       "  </thead>\n",
       "  <tbody>\n",
       "    <tr>\n",
       "      <th>0</th>\n",
       "      <td>0</td>\n",
       "      <td>可以的</td>\n",
       "    </tr>\n",
       "    <tr>\n",
       "      <th>1</th>\n",
       "      <td>0</td>\n",
       "      <td>好的</td>\n",
       "    </tr>\n",
       "    <tr>\n",
       "      <th>2</th>\n",
       "      <td>0</td>\n",
       "      <td>可以</td>\n",
       "    </tr>\n",
       "    <tr>\n",
       "      <th>3</th>\n",
       "      <td>0</td>\n",
       "      <td>可以</td>\n",
       "    </tr>\n",
       "    <tr>\n",
       "      <th>4</th>\n",
       "      <td>0</td>\n",
       "      <td>你打错了</td>\n",
       "    </tr>\n",
       "    <tr>\n",
       "      <th>5</th>\n",
       "      <td>0</td>\n",
       "      <td>那你减免了我就处理</td>\n",
       "    </tr>\n",
       "    <tr>\n",
       "      <th>6</th>\n",
       "      <td>0</td>\n",
       "      <td>好的</td>\n",
       "    </tr>\n",
       "    <tr>\n",
       "      <th>7</th>\n",
       "      <td>0</td>\n",
       "      <td>这个我做不了主</td>\n",
       "    </tr>\n",
       "    <tr>\n",
       "      <th>8</th>\n",
       "      <td>0</td>\n",
       "      <td>不行</td>\n",
       "    </tr>\n",
       "    <tr>\n",
       "      <th>9</th>\n",
       "      <td>0</td>\n",
       "      <td>好的</td>\n",
       "    </tr>\n",
       "    <tr>\n",
       "      <th>10</th>\n",
       "      <td>0</td>\n",
       "      <td>可以</td>\n",
       "    </tr>\n",
       "    <tr>\n",
       "      <th>11</th>\n",
       "      <td>0</td>\n",
       "      <td>我同意</td>\n",
       "    </tr>\n",
       "    <tr>\n",
       "      <th>12</th>\n",
       "      <td>0</td>\n",
       "      <td>没问题</td>\n",
       "    </tr>\n",
       "    <tr>\n",
       "      <th>13</th>\n",
       "      <td>0</td>\n",
       "      <td>你打错了</td>\n",
       "    </tr>\n",
       "    <tr>\n",
       "      <th>14</th>\n",
       "      <td>0</td>\n",
       "      <td>可以减了我就处理</td>\n",
       "    </tr>\n",
       "    <tr>\n",
       "      <th>15</th>\n",
       "      <td>0</td>\n",
       "      <td>我同意</td>\n",
       "    </tr>\n",
       "    <tr>\n",
       "      <th>16</th>\n",
       "      <td>0</td>\n",
       "      <td>因为你欠的是平安的贷款。</td>\n",
       "    </tr>\n",
       "    <tr>\n",
       "      <th>17</th>\n",
       "      <td>0</td>\n",
       "      <td>还是算了那</td>\n",
       "    </tr>\n",
       "    <tr>\n",
       "      <th>18</th>\n",
       "      <td>0</td>\n",
       "      <td>没问题</td>\n",
       "    </tr>\n",
       "    <tr>\n",
       "      <th>19</th>\n",
       "      <td>0</td>\n",
       "      <td>谢谢啦</td>\n",
       "    </tr>\n",
       "    <tr>\n",
       "      <th>20</th>\n",
       "      <td>0</td>\n",
       "      <td>感谢你</td>\n",
       "    </tr>\n",
       "    <tr>\n",
       "      <th>21</th>\n",
       "      <td>0</td>\n",
       "      <td>感谢</td>\n",
       "    </tr>\n",
       "    <tr>\n",
       "      <th>22</th>\n",
       "      <td>0</td>\n",
       "      <td>你打错了</td>\n",
       "    </tr>\n",
       "    <tr>\n",
       "      <th>23</th>\n",
       "      <td>0</td>\n",
       "      <td>这样可以还不然利息太高了</td>\n",
       "    </tr>\n",
       "    <tr>\n",
       "      <th>24</th>\n",
       "      <td>0</td>\n",
       "      <td>谢谢</td>\n",
       "    </tr>\n",
       "    <tr>\n",
       "      <th>25</th>\n",
       "      <td>0</td>\n",
       "      <td>不是我个人的</td>\n",
       "    </tr>\n",
       "    <tr>\n",
       "      <th>26</th>\n",
       "      <td>0</td>\n",
       "      <td>我求求</td>\n",
       "    </tr>\n",
       "    <tr>\n",
       "      <th>27</th>\n",
       "      <td>0</td>\n",
       "      <td>我尽量想办法</td>\n",
       "    </tr>\n",
       "    <tr>\n",
       "      <th>28</th>\n",
       "      <td>0</td>\n",
       "      <td>减免到多少</td>\n",
       "    </tr>\n",
       "    <tr>\n",
       "      <th>29</th>\n",
       "      <td>0</td>\n",
       "      <td>很好</td>\n",
       "    </tr>\n",
       "    <tr>\n",
       "      <th>...</th>\n",
       "      <td>...</td>\n",
       "      <td>...</td>\n",
       "    </tr>\n",
       "    <tr>\n",
       "      <th>60</th>\n",
       "      <td>2</td>\n",
       "      <td>你说的事情我不知道</td>\n",
       "    </tr>\n",
       "    <tr>\n",
       "      <th>61</th>\n",
       "      <td>2</td>\n",
       "      <td>好的</td>\n",
       "    </tr>\n",
       "    <tr>\n",
       "      <th>62</th>\n",
       "      <td>2</td>\n",
       "      <td>我是他奶奶</td>\n",
       "    </tr>\n",
       "    <tr>\n",
       "      <th>63</th>\n",
       "      <td>2</td>\n",
       "      <td>信号不好</td>\n",
       "    </tr>\n",
       "    <tr>\n",
       "      <th>64</th>\n",
       "      <td>2</td>\n",
       "      <td>发工资再说</td>\n",
       "    </tr>\n",
       "    <tr>\n",
       "      <th>65</th>\n",
       "      <td>2</td>\n",
       "      <td>跟父母商量</td>\n",
       "    </tr>\n",
       "    <tr>\n",
       "      <th>66</th>\n",
       "      <td>2</td>\n",
       "      <td>我是他姐姐</td>\n",
       "    </tr>\n",
       "    <tr>\n",
       "      <th>67</th>\n",
       "      <td>2</td>\n",
       "      <td>你打错了</td>\n",
       "    </tr>\n",
       "    <tr>\n",
       "      <th>68</th>\n",
       "      <td>2</td>\n",
       "      <td>等我发工资再说</td>\n",
       "    </tr>\n",
       "    <tr>\n",
       "      <th>69</th>\n",
       "      <td>2</td>\n",
       "      <td>信号不好</td>\n",
       "    </tr>\n",
       "    <tr>\n",
       "      <th>70</th>\n",
       "      <td>2</td>\n",
       "      <td>可以帮你申请减免</td>\n",
       "    </tr>\n",
       "    <tr>\n",
       "      <th>71</th>\n",
       "      <td>2</td>\n",
       "      <td>我是他二娘</td>\n",
       "    </tr>\n",
       "    <tr>\n",
       "      <th>72</th>\n",
       "      <td>2</td>\n",
       "      <td>回头再商量</td>\n",
       "    </tr>\n",
       "    <tr>\n",
       "      <th>73</th>\n",
       "      <td>2</td>\n",
       "      <td>过两天说</td>\n",
       "    </tr>\n",
       "    <tr>\n",
       "      <th>74</th>\n",
       "      <td>2</td>\n",
       "      <td>看资金情况</td>\n",
       "    </tr>\n",
       "    <tr>\n",
       "      <th>75</th>\n",
       "      <td>2</td>\n",
       "      <td>我是他哥哥</td>\n",
       "    </tr>\n",
       "    <tr>\n",
       "      <th>76</th>\n",
       "      <td>2</td>\n",
       "      <td>你打错了</td>\n",
       "    </tr>\n",
       "    <tr>\n",
       "      <th>77</th>\n",
       "      <td>2</td>\n",
       "      <td>现在不确定钱没到位</td>\n",
       "    </tr>\n",
       "    <tr>\n",
       "      <th>78</th>\n",
       "      <td>2</td>\n",
       "      <td>等会回复你</td>\n",
       "    </tr>\n",
       "    <tr>\n",
       "      <th>79</th>\n",
       "      <td>2</td>\n",
       "      <td>今天必须处理的话</td>\n",
       "    </tr>\n",
       "    <tr>\n",
       "      <th>80</th>\n",
       "      <td>2</td>\n",
       "      <td>我是他三娘</td>\n",
       "    </tr>\n",
       "    <tr>\n",
       "      <th>81</th>\n",
       "      <td>2</td>\n",
       "      <td>等我发工资再联系吧</td>\n",
       "    </tr>\n",
       "    <tr>\n",
       "      <th>82</th>\n",
       "      <td>2</td>\n",
       "      <td>在忙</td>\n",
       "    </tr>\n",
       "    <tr>\n",
       "      <th>83</th>\n",
       "      <td>2</td>\n",
       "      <td>考虑一下，</td>\n",
       "    </tr>\n",
       "    <tr>\n",
       "      <th>84</th>\n",
       "      <td>2</td>\n",
       "      <td>我是他家人</td>\n",
       "    </tr>\n",
       "    <tr>\n",
       "      <th>85</th>\n",
       "      <td>2</td>\n",
       "      <td>你打错了</td>\n",
       "    </tr>\n",
       "    <tr>\n",
       "      <th>86</th>\n",
       "      <td>2</td>\n",
       "      <td>走了我会联系你们</td>\n",
       "    </tr>\n",
       "    <tr>\n",
       "      <th>87</th>\n",
       "      <td>2</td>\n",
       "      <td>他回来跟她说</td>\n",
       "    </tr>\n",
       "    <tr>\n",
       "      <th>88</th>\n",
       "      <td>2</td>\n",
       "      <td>出去家庭困难证明</td>\n",
       "    </tr>\n",
       "    <tr>\n",
       "      <th>89</th>\n",
       "      <td>2</td>\n",
       "      <td>我是他三姨</td>\n",
       "    </tr>\n",
       "  </tbody>\n",
       "</table>\n",
       "<p>270 rows × 2 columns</p>\n",
       "</div>"
      ],
      "text/plain": [
       "    label    split_text\n",
       "0       0           可以的\n",
       "1       0            好的\n",
       "2       0            可以\n",
       "3       0            可以\n",
       "4       0          你打错了\n",
       "5       0     那你减免了我就处理\n",
       "6       0            好的\n",
       "7       0       这个我做不了主\n",
       "8       0            不行\n",
       "9       0            好的\n",
       "10      0            可以\n",
       "11      0           我同意\n",
       "12      0           没问题\n",
       "13      0          你打错了\n",
       "14      0      可以减了我就处理\n",
       "15      0           我同意\n",
       "16      0  因为你欠的是平安的贷款。\n",
       "17      0         还是算了那\n",
       "18      0           没问题\n",
       "19      0           谢谢啦\n",
       "20      0           感谢你\n",
       "21      0            感谢\n",
       "22      0          你打错了\n",
       "23      0  这样可以还不然利息太高了\n",
       "24      0            谢谢\n",
       "25      0        不是我个人的\n",
       "26      0           我求求\n",
       "27      0        我尽量想办法\n",
       "28      0         减免到多少\n",
       "29      0            很好\n",
       "..    ...           ...\n",
       "60      2     你说的事情我不知道\n",
       "61      2            好的\n",
       "62      2         我是他奶奶\n",
       "63      2          信号不好\n",
       "64      2         发工资再说\n",
       "65      2         跟父母商量\n",
       "66      2         我是他姐姐\n",
       "67      2          你打错了\n",
       "68      2       等我发工资再说\n",
       "69      2          信号不好\n",
       "70      2      可以帮你申请减免\n",
       "71      2         我是他二娘\n",
       "72      2         回头再商量\n",
       "73      2          过两天说\n",
       "74      2         看资金情况\n",
       "75      2         我是他哥哥\n",
       "76      2          你打错了\n",
       "77      2     现在不确定钱没到位\n",
       "78      2         等会回复你\n",
       "79      2      今天必须处理的话\n",
       "80      2         我是他三娘\n",
       "81      2     等我发工资再联系吧\n",
       "82      2            在忙\n",
       "83      2         考虑一下，\n",
       "84      2         我是他家人\n",
       "85      2          你打错了\n",
       "86      2      走了我会联系你们\n",
       "87      2        他回来跟她说\n",
       "88      2      出去家庭困难证明\n",
       "89      2         我是他三姨\n",
       "\n",
       "[270 rows x 2 columns]"
      ]
     },
     "execution_count": 13,
     "metadata": {},
     "output_type": "execute_result"
    }
   ],
   "source": [
    "result['CutDebt']"
   ]
  },
  {
   "cell_type": "markdown",
   "metadata": {},
   "source": [
    "# SAVE"
   ]
  },
  {
   "cell_type": "code",
   "execution_count": 11,
   "metadata": {
    "ExecuteTime": {
     "end_time": "2018-06-14T14:25:38.395348Z",
     "start_time": "2018-06-14T14:25:38.388835Z"
    },
    "collapsed": true
   },
   "outputs": [],
   "source": [
    "path = '../../MLModel/data/{}/mock_up_data.csv'\n",
    "path_save = '../../MLModel/data/{}/mock_up_data1.csv'"
   ]
  },
  {
   "cell_type": "code",
   "execution_count": 12,
   "metadata": {
    "ExecuteTime": {
     "end_time": "2018-06-14T14:25:39.498895Z",
     "start_time": "2018-06-14T14:25:39.355441Z"
    }
   },
   "outputs": [
    {
     "name": "stdout",
     "output_type": "stream",
     "text": [
      "../../MLModel/data/IDClassifier/mock_up_data.csv\n",
      "../../MLModel/data/IfKnowDebtor/mock_up_data.csv\n",
      "../../MLModel/data/WillingToPay/mock_up_data.csv\n",
      "../../MLModel/data/SetDueDay/mock_up_data.csv\n",
      "../../MLModel/data/CutDebt/mock_up_data.csv\n",
      "../../MLModel/data/Installment/mock_up_data.csv\n"
     ]
    }
   ],
   "source": [
    "for each in result.keys():\n",
    "    cur_path = path.format(each)\n",
    "    print(path.format(each))\n",
    "    df_old = pd.read_csv(path.format(each), encoding='utf-8')\n",
    "    df_new = pd.concat([df_old, result[each]])\n",
    "    df_new.to_csv(path_save.format(each),encoding='utf-8',index=False)"
   ]
  },
  {
   "cell_type": "markdown",
   "metadata": {
    "collapsed": true
   },
   "source": [
    "# Save In a New Path"
   ]
  },
  {
   "cell_type": "code",
   "execution_count": 15,
   "metadata": {
    "ExecuteTime": {
     "end_time": "2018-06-22T14:26:05.913590Z",
     "start_time": "2018-06-22T14:26:05.865098Z"
    }
   },
   "outputs": [
    {
     "name": "stdout",
     "output_type": "stream",
     "text": [
      "../../MLModel/data/IDClassifier/mock_up_data0621.csv\n",
      "../../MLModel/data/IfKnowDebtor/mock_up_data0621.csv\n",
      "../../MLModel/data/WillingToPay/mock_up_data0621.csv\n",
      "../../MLModel/data/SetDueDay/mock_up_data0621.csv\n",
      "../../MLModel/data/CutDebt/mock_up_data0621.csv\n",
      "../../MLModel/data/Installment/mock_up_data0621.csv\n"
     ]
    }
   ],
   "source": [
    "path_save = '../../MLModel/data/{}/mock_up_data0621.csv'\n",
    "for each in result.keys():\n",
    "    print(path_save.format(each))\n",
    "    result[each].to_csv(path_save.format(each),encoding='utf-8',index=False)"
   ]
  },
  {
   "cell_type": "code",
   "execution_count": null,
   "metadata": {
    "collapsed": true
   },
   "outputs": [],
   "source": []
  }
 ],
 "metadata": {
  "kernelspec": {
   "display_name": "Python 3",
   "language": "python",
   "name": "python3"
  },
  "language_info": {
   "codemirror_mode": {
    "name": "ipython",
    "version": 3
   },
   "file_extension": ".py",
   "mimetype": "text/x-python",
   "name": "python",
   "nbconvert_exporter": "python",
   "pygments_lexer": "ipython3",
   "version": "3.6.5"
  },
  "varInspector": {
   "cols": {
    "lenName": 16,
    "lenType": 16,
    "lenVar": 40
   },
   "kernels_config": {
    "python": {
     "delete_cmd_postfix": "",
     "delete_cmd_prefix": "del ",
     "library": "var_list.py",
     "varRefreshCmd": "print(var_dic_list())"
    },
    "r": {
     "delete_cmd_postfix": ") ",
     "delete_cmd_prefix": "rm(",
     "library": "var_list.r",
     "varRefreshCmd": "cat(var_dic_list()) "
    }
   },
   "types_to_exclude": [
    "module",
    "function",
    "builtin_function_or_method",
    "instance",
    "_Feature"
   ],
   "window_display": false
  }
 },
 "nbformat": 4,
 "nbformat_minor": 2
}
