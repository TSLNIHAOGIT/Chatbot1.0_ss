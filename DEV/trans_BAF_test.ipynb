{
 "cells": [
  {
   "cell_type": "code",
   "execution_count": 9,
   "metadata": {
    "ExecuteTime": {
     "end_time": "2018-06-05T19:20:13.293054Z",
     "start_time": "2018-06-05T19:20:13.289680Z"
    },
    "collapsed": true
   },
   "outputs": [],
   "source": [
    "from textblob import TextBlob"
   ]
  },
  {
   "cell_type": "code",
   "execution_count": 14,
   "metadata": {
    "ExecuteTime": {
     "end_time": "2018-06-05T19:20:52.420853Z",
     "start_time": "2018-06-05T19:20:52.417765Z"
    },
    "collapsed": true
   },
   "outputs": [],
   "source": [
    "comment = \"你好陈先生，这里是催收公司，想就您欠款1.2亿的事情进行沟通了解，请问您什么时候能处理呢？\""
   ]
  },
  {
   "cell_type": "code",
   "execution_count": 15,
   "metadata": {
    "ExecuteTime": {
     "end_time": "2018-06-05T19:20:52.790011Z",
     "start_time": "2018-06-05T19:20:52.785631Z"
    },
    "collapsed": true
   },
   "outputs": [],
   "source": [
    "if hasattr(comment, \"decode\"):\n",
    "    comment = comment.decode('utf-8')\n",
    "text = TextBlob(comment)"
   ]
  },
  {
   "cell_type": "code",
   "execution_count": 16,
   "metadata": {
    "ExecuteTime": {
     "end_time": "2018-06-05T19:20:53.121103Z",
     "start_time": "2018-06-05T19:20:53.050647Z"
    }
   },
   "outputs": [
    {
     "data": {
      "text/plain": [
       "TextBlob(\"Hello, Mr. Chen, this is a collection company and wants to communicate about the 120 million yuan you owe. I would like to ask when can you handle it?\")"
      ]
     },
     "execution_count": 16,
     "metadata": {},
     "output_type": "execute_result"
    }
   ],
   "source": [
    "text_en = text.translate(to='en')\n",
    "text_en"
   ]
  },
  {
   "cell_type": "code",
   "execution_count": 17,
   "metadata": {
    "ExecuteTime": {
     "end_time": "2018-06-05T19:20:53.409586Z",
     "start_time": "2018-06-05T19:20:53.338489Z"
    }
   },
   "outputs": [
    {
     "data": {
      "text/plain": [
       "TextBlob(\"你好，陈先生，这是一家收藏公司，想要交流你欠下的1.2亿元人民币。我想问你什么时候可以处理它？\")"
      ]
     },
     "execution_count": 17,
     "metadata": {},
     "output_type": "execute_result"
    }
   ],
   "source": [
    "text_zh = text_en.translate(to='zh')\n",
    "text_zh"
   ]
  },
  {
   "cell_type": "code",
   "execution_count": null,
   "metadata": {
    "collapsed": true
   },
   "outputs": [],
   "source": []
  }
 ],
 "metadata": {
  "kernelspec": {
   "display_name": "Python 3",
   "language": "python",
   "name": "python3"
  },
  "language_info": {
   "codemirror_mode": {
    "name": "ipython",
    "version": 3
   },
   "file_extension": ".py",
   "mimetype": "text/x-python",
   "name": "python",
   "nbconvert_exporter": "python",
   "pygments_lexer": "ipython3",
   "version": "3.6.3"
  },
  "varInspector": {
   "cols": {
    "lenName": 16,
    "lenType": 16,
    "lenVar": 40
   },
   "kernels_config": {
    "python": {
     "delete_cmd_postfix": "",
     "delete_cmd_prefix": "del ",
     "library": "var_list.py",
     "varRefreshCmd": "print(var_dic_list())"
    },
    "r": {
     "delete_cmd_postfix": ") ",
     "delete_cmd_prefix": "rm(",
     "library": "var_list.r",
     "varRefreshCmd": "cat(var_dic_list()) "
    }
   },
   "types_to_exclude": [
    "module",
    "function",
    "builtin_function_or_method",
    "instance",
    "_Feature"
   ],
   "window_display": false
  }
 },
 "nbformat": 4,
 "nbformat_minor": 2
}
