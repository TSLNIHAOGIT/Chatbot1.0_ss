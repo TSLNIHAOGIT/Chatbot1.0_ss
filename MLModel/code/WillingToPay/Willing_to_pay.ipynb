{
 "cells": [
  {
   "cell_type": "code",
   "execution_count": 1,
   "metadata": {
    "ExecuteTime": {
     "end_time": "2018-06-13T19:35:19.007990Z",
     "start_time": "2018-06-13T19:35:18.713307Z"
    },
    "collapsed": true
   },
   "outputs": [],
   "source": [
    "#encoding=utf-8\n",
    "import pandas as pd\n",
    "import numpy as np\n",
    "from sklearn.feature_extraction.text import CountVectorizer, TfidfVectorizer, TfidfTransformer"
   ]
  },
  {
   "cell_type": "code",
   "execution_count": 2,
   "metadata": {
    "ExecuteTime": {
     "end_time": "2018-06-13T19:35:19.148513Z",
     "start_time": "2018-06-13T19:35:19.122878Z"
    }
   },
   "outputs": [
    {
     "name": "stdout",
     "output_type": "stream",
     "text": [
      "(4215, 2)\n"
     ]
    },
    {
     "data": {
      "text/html": [
       "<div>\n",
       "<style>\n",
       "    .dataframe thead tr:only-child th {\n",
       "        text-align: right;\n",
       "    }\n",
       "\n",
       "    .dataframe thead th {\n",
       "        text-align: left;\n",
       "    }\n",
       "\n",
       "    .dataframe tbody tr th {\n",
       "        vertical-align: top;\n",
       "    }\n",
       "</style>\n",
       "<table border=\"1\" class=\"dataframe\">\n",
       "  <thead>\n",
       "    <tr style=\"text-align: right;\">\n",
       "      <th></th>\n",
       "      <th>label</th>\n",
       "      <th>split_text</th>\n",
       "    </tr>\n",
       "  </thead>\n",
       "  <tbody>\n",
       "    <tr>\n",
       "      <th>0</th>\n",
       "      <td>3</td>\n",
       "      <td>早上好 。   。 挂断 电话</td>\n",
       "    </tr>\n",
       "    <tr>\n",
       "      <th>1</th>\n",
       "      <td>2</td>\n",
       "      <td>手里 有点 紧   你 还 少 吗 ？</td>\n",
       "    </tr>\n",
       "    <tr>\n",
       "      <th>2</th>\n",
       "      <td>2</td>\n",
       "      <td>可以 少 还 点 不</td>\n",
       "    </tr>\n",
       "    <tr>\n",
       "      <th>3</th>\n",
       "      <td>1</td>\n",
       "      <td>没有 钱 就是 金钱</td>\n",
       "    </tr>\n",
       "    <tr>\n",
       "      <th>4</th>\n",
       "      <td>3</td>\n",
       "      <td>我 开车   我 等 了 一会儿</td>\n",
       "    </tr>\n",
       "    <tr>\n",
       "      <th>5</th>\n",
       "      <td>2</td>\n",
       "      <td>它 可以 更 少 ？</td>\n",
       "    </tr>\n",
       "    <tr>\n",
       "      <th>6</th>\n",
       "      <td>1</td>\n",
       "      <td>就 不 还</td>\n",
       "    </tr>\n",
       "    <tr>\n",
       "      <th>7</th>\n",
       "      <td>0</td>\n",
       "      <td>对不起   延迟 。 等到 你 得到 它 。</td>\n",
       "    </tr>\n",
       "    <tr>\n",
       "      <th>8</th>\n",
       "      <td>3</td>\n",
       "      <td>什么 公司 ？ 多少 钱 ？ 再说 一遍</td>\n",
       "    </tr>\n",
       "    <tr>\n",
       "      <th>9</th>\n",
       "      <td>3</td>\n",
       "      <td>听 不到 你 说 的话</td>\n",
       "    </tr>\n",
       "  </tbody>\n",
       "</table>\n",
       "</div>"
      ],
      "text/plain": [
       "   label              split_text\n",
       "0      3         早上好 。   。 挂断 电话\n",
       "1      2     手里 有点 紧   你 还 少 吗 ？\n",
       "2      2              可以 少 还 点 不\n",
       "3      1              没有 钱 就是 金钱\n",
       "4      3        我 开车   我 等 了 一会儿\n",
       "5      2              它 可以 更 少 ？\n",
       "6      1                   就 不 还\n",
       "7      0  对不起   延迟 。 等到 你 得到 它 。\n",
       "8      3    什么 公司 ？ 多少 钱 ？ 再说 一遍\n",
       "9      3             听 不到 你 说 的话"
      ]
     },
     "execution_count": 2,
     "metadata": {},
     "output_type": "execute_result"
    }
   ],
   "source": [
    "# read files\n",
    "path = '../../data/WillingToPay/'\n",
    "data = pd.read_csv(path + 'cleaned_mock_up_data.csv', encoding='utf8')\n",
    "print(data.shape)\n",
    "data.head(10)"
   ]
  },
  {
   "cell_type": "code",
   "execution_count": 3,
   "metadata": {
    "ExecuteTime": {
     "end_time": "2018-06-13T19:35:20.016335Z",
     "start_time": "2018-06-13T19:35:20.011621Z"
    }
   },
   "outputs": [
    {
     "data": {
      "text/plain": [
       "'早上好 。   。 挂断 电话'"
      ]
     },
     "execution_count": 3,
     "metadata": {},
     "output_type": "execute_result"
    }
   ],
   "source": [
    "data.split_text.iloc[0]"
   ]
  },
  {
   "cell_type": "code",
   "execution_count": 4,
   "metadata": {
    "ExecuteTime": {
     "end_time": "2018-06-13T19:35:20.336670Z",
     "start_time": "2018-06-13T19:35:20.227941Z"
    }
   },
   "outputs": [
    {
     "name": "stdout",
     "output_type": "stream",
     "text": [
      "fitting phrase\n",
      "transform phrase\n"
     ]
    },
    {
     "data": {
      "text/plain": [
       "<4215x12416 sparse matrix of type '<class 'numpy.float64'>'\n",
       "\twith 44311 stored elements in Compressed Sparse Row format>"
      ]
     },
     "execution_count": 4,
     "metadata": {},
     "output_type": "execute_result"
    }
   ],
   "source": [
    "phrase_vectorizer = TfidfVectorizer(ngram_range=(1,3),\n",
    "                                    strip_accents='unicode', \n",
    "                                    max_features=100000, \n",
    "                                    analyzer='word',\n",
    "                                    sublinear_tf=True,\n",
    "                                    token_pattern=r'\\w{1,}')\n",
    "\n",
    "print('fitting phrase')\n",
    "phrase_vectorizer.fit(data.split_text)\n",
    "\n",
    "print('transform phrase')\n",
    "phrase = phrase_vectorizer.transform(data.split_text)\n",
    "\n",
    "phrase"
   ]
  },
  {
   "cell_type": "markdown",
   "metadata": {},
   "source": [
    "# SVC"
   ]
  },
  {
   "cell_type": "code",
   "execution_count": 5,
   "metadata": {
    "ExecuteTime": {
     "end_time": "2018-06-13T19:35:20.740789Z",
     "start_time": "2018-06-13T19:35:20.551200Z"
    }
   },
   "outputs": [
    {
     "name": "stdout",
     "output_type": "stream",
     "text": [
      "0.978410438909\n"
     ]
    }
   ],
   "source": [
    "from sklearn.calibration import CalibratedClassifierCV\n",
    "from sklearn.svm import LinearSVC\n",
    "\n",
    "l_svc = LinearSVC()\n",
    "clf = CalibratedClassifierCV(l_svc) \n",
    "clf.fit(phrase, data.label)\n",
    "print(clf.score(phrase, data.label))"
   ]
  },
  {
   "cell_type": "code",
   "execution_count": 6,
   "metadata": {
    "ExecuteTime": {
     "end_time": "2018-06-13T19:35:20.755740Z",
     "start_time": "2018-06-13T19:35:20.750795Z"
    }
   },
   "outputs": [
    {
     "name": "stdout",
     "output_type": "stream",
     "text": [
      "[3 2 2 ..., 3 1 0]\n"
     ]
    }
   ],
   "source": [
    "print(clf.predict(phrase))"
   ]
  },
  {
   "cell_type": "markdown",
   "metadata": {
    "ExecuteTime": {
     "end_time": "2018-06-11T19:35:30.494479Z",
     "start_time": "2018-06-11T19:35:30.483359Z"
    }
   },
   "source": [
    "# logistic"
   ]
  },
  {
   "cell_type": "code",
   "execution_count": 7,
   "metadata": {
    "ExecuteTime": {
     "end_time": "2018-06-13T19:35:21.030417Z",
     "start_time": "2018-06-13T19:35:21.027296Z"
    },
    "collapsed": true
   },
   "outputs": [],
   "source": [
    "from sklearn.linear_model import LogisticRegression"
   ]
  },
  {
   "cell_type": "code",
   "execution_count": 8,
   "metadata": {
    "ExecuteTime": {
     "end_time": "2018-06-13T19:35:21.244467Z",
     "start_time": "2018-06-13T19:35:21.183633Z"
    }
   },
   "outputs": [
    {
     "name": "stdout",
     "output_type": "stream",
     "text": [
      "0.949940688019\n"
     ]
    }
   ],
   "source": [
    "log_r = LogisticRegression()\n",
    "log_r.fit(phrase, data.label)\n",
    "print(log_r.score(phrase, data.label))"
   ]
  },
  {
   "cell_type": "code",
   "execution_count": 9,
   "metadata": {
    "ExecuteTime": {
     "end_time": "2018-06-13T19:35:21.367818Z",
     "start_time": "2018-06-13T19:35:21.362922Z"
    }
   },
   "outputs": [
    {
     "name": "stdout",
     "output_type": "stream",
     "text": [
      "[3 2 2 ..., 3 1 0]\n"
     ]
    }
   ],
   "source": [
    "print(log_r.predict(phrase))"
   ]
  },
  {
   "cell_type": "markdown",
   "metadata": {},
   "source": [
    "# LightGBM"
   ]
  },
  {
   "cell_type": "code",
   "execution_count": 10,
   "metadata": {
    "ExecuteTime": {
     "end_time": "2018-06-13T19:35:21.723273Z",
     "start_time": "2018-06-13T19:35:21.710956Z"
    },
    "collapsed": true
   },
   "outputs": [],
   "source": [
    "import lightgbm as lgb"
   ]
  },
  {
   "cell_type": "code",
   "execution_count": 11,
   "metadata": {
    "ExecuteTime": {
     "end_time": "2018-06-13T19:35:21.908125Z",
     "start_time": "2018-06-13T19:35:21.902300Z"
    },
    "collapsed": true
   },
   "outputs": [],
   "source": [
    "from sklearn import preprocessing\n",
    "le = preprocessing.LabelEncoder()\n",
    "le.fit(data.label.values)\n",
    "onelabels = le.transform(data.label.values)"
   ]
  },
  {
   "cell_type": "code",
   "execution_count": 12,
   "metadata": {
    "ExecuteTime": {
     "end_time": "2018-06-13T19:35:22.089471Z",
     "start_time": "2018-06-13T19:35:22.084831Z"
    }
   },
   "outputs": [
    {
     "data": {
      "text/plain": [
       "array([3, 2, 2, ..., 3, 1, 0])"
      ]
     },
     "execution_count": 12,
     "metadata": {},
     "output_type": "execute_result"
    }
   ],
   "source": [
    "onelabels"
   ]
  },
  {
   "cell_type": "code",
   "execution_count": 13,
   "metadata": {
    "ExecuteTime": {
     "end_time": "2018-06-13T19:35:22.285056Z",
     "start_time": "2018-06-13T19:35:22.278591Z"
    },
    "collapsed": true
   },
   "outputs": [],
   "source": [
    "from sklearn.preprocessing import MultiLabelBinarizer\n",
    "multicoder = MultiLabelBinarizer()\n",
    "lables = multicoder.fit_transform([data.label.values])"
   ]
  },
  {
   "cell_type": "code",
   "execution_count": 14,
   "metadata": {
    "ExecuteTime": {
     "end_time": "2018-06-13T19:35:22.507773Z",
     "start_time": "2018-06-13T19:35:22.503218Z"
    }
   },
   "outputs": [
    {
     "data": {
      "text/plain": [
       "array([[1, 1, 1, 1]])"
      ]
     },
     "execution_count": 14,
     "metadata": {},
     "output_type": "execute_result"
    }
   ],
   "source": [
    "lables"
   ]
  },
  {
   "cell_type": "code",
   "execution_count": 15,
   "metadata": {
    "ExecuteTime": {
     "end_time": "2018-06-13T19:35:22.903349Z",
     "start_time": "2018-06-13T19:35:22.898566Z"
    }
   },
   "outputs": [
    {
     "data": {
      "text/plain": [
       "array([3, 2, 2, ..., 3, 1, 0])"
      ]
     },
     "execution_count": 15,
     "metadata": {},
     "output_type": "execute_result"
    }
   ],
   "source": [
    "data.label.values"
   ]
  },
  {
   "cell_type": "code",
   "execution_count": 16,
   "metadata": {
    "ExecuteTime": {
     "end_time": "2018-06-13T19:35:24.268188Z",
     "start_time": "2018-06-13T19:35:23.121593Z"
    }
   },
   "outputs": [
    {
     "name": "stderr",
     "output_type": "stream",
     "text": [
      "/home/kai/anaconda3/lib/python3.6/site-packages/lightgbm/engine.py:99: UserWarning: Found `num_iterations` in params. Will use it instead of argument\n",
      "  warnings.warn(\"Found `{}` in params. Will use it instead of argument\".format(alias))\n",
      "/home/kai/anaconda3/lib/python3.6/site-packages/lightgbm/engine.py:104: UserWarning: Found `early_stopping_round` in params. Will use it instead of argument\n",
      "  warnings.warn(\"Found `{}` in params. Will use it instead of argument\".format(alias))\n"
     ]
    },
    {
     "name": "stdout",
     "output_type": "stream",
     "text": [
      "Training until validation scores don't improve for 200 rounds.\n",
      "[5]\tvalid_0's multi_error: 0.242467\n",
      "[10]\tvalid_0's multi_error: 0.219929\n",
      "[15]\tvalid_0's multi_error: 0.197628\n",
      "[20]\tvalid_0's multi_error: 0.181495\n",
      "[25]\tvalid_0's multi_error: 0.174852\n",
      "[30]\tvalid_0's multi_error: 0.164176\n",
      "[35]\tvalid_0's multi_error: 0.159905\n",
      "[40]\tvalid_0's multi_error: 0.150652\n",
      "[45]\tvalid_0's multi_error: 0.144958\n",
      "[50]\tvalid_0's multi_error: 0.139027\n",
      "[55]\tvalid_0's multi_error: 0.131673\n",
      "[60]\tvalid_0's multi_error: 0.128826\n",
      "[65]\tvalid_0's multi_error: 0.125741\n",
      "[70]\tvalid_0's multi_error: 0.119336\n",
      "[75]\tvalid_0's multi_error: 0.116726\n",
      "[80]\tvalid_0's multi_error: 0.114116\n",
      "[85]\tvalid_0's multi_error: 0.113405\n",
      "[90]\tvalid_0's multi_error: 0.107948\n",
      "[95]\tvalid_0's multi_error: 0.103677\n",
      "[100]\tvalid_0's multi_error: 0.101779\n",
      "[105]\tvalid_0's multi_error: 0.100593\n",
      "[110]\tvalid_0's multi_error: 0.0986951\n",
      "[115]\tvalid_0's multi_error: 0.0982206\n",
      "[120]\tvalid_0's multi_error: 0.0951364\n",
      "[125]\tvalid_0's multi_error: 0.0951364\n",
      "[130]\tvalid_0's multi_error: 0.0948992\n",
      "[135]\tvalid_0's multi_error: 0.0934757\n",
      "[140]\tvalid_0's multi_error: 0.0937129\n",
      "[145]\tvalid_0's multi_error: 0.0915777\n",
      "[150]\tvalid_0's multi_error: 0.0915777\n",
      "[155]\tvalid_0's multi_error: 0.0913405\n",
      "[160]\tvalid_0's multi_error: 0.0901542\n",
      "[165]\tvalid_0's multi_error: 0.089917\n",
      "[170]\tvalid_0's multi_error: 0.088968\n",
      "[175]\tvalid_0's multi_error: 0.0887307\n",
      "[180]\tvalid_0's multi_error: 0.0887307\n",
      "[185]\tvalid_0's multi_error: 0.0887307\n",
      "[190]\tvalid_0's multi_error: 0.0887307\n",
      "[195]\tvalid_0's multi_error: 0.0882562\n",
      "[200]\tvalid_0's multi_error: 0.0877817\n",
      "[205]\tvalid_0's multi_error: 0.0873072\n",
      "[210]\tvalid_0's multi_error: 0.0865955\n",
      "[215]\tvalid_0's multi_error: 0.0863582\n",
      "[220]\tvalid_0's multi_error: 0.0863582\n",
      "[225]\tvalid_0's multi_error: 0.086121\n",
      "[230]\tvalid_0's multi_error: 0.086121\n",
      "[235]\tvalid_0's multi_error: 0.086121\n",
      "[240]\tvalid_0's multi_error: 0.086121\n",
      "[245]\tvalid_0's multi_error: 0.0858837\n",
      "[250]\tvalid_0's multi_error: 0.0858837\n",
      "[255]\tvalid_0's multi_error: 0.0858837\n",
      "[260]\tvalid_0's multi_error: 0.0858837\n",
      "[265]\tvalid_0's multi_error: 0.0858837\n",
      "[270]\tvalid_0's multi_error: 0.0858837\n",
      "[275]\tvalid_0's multi_error: 0.0858837\n",
      "[280]\tvalid_0's multi_error: 0.0858837\n",
      "[285]\tvalid_0's multi_error: 0.0858837\n",
      "[290]\tvalid_0's multi_error: 0.0858837\n",
      "[295]\tvalid_0's multi_error: 0.0858837\n",
      "[300]\tvalid_0's multi_error: 0.0858837\n",
      "[305]\tvalid_0's multi_error: 0.0858837\n",
      "[310]\tvalid_0's multi_error: 0.0858837\n",
      "[315]\tvalid_0's multi_error: 0.0858837\n",
      "[320]\tvalid_0's multi_error: 0.0858837\n",
      "[325]\tvalid_0's multi_error: 0.0858837\n",
      "[330]\tvalid_0's multi_error: 0.0858837\n",
      "[335]\tvalid_0's multi_error: 0.0858837\n",
      "[340]\tvalid_0's multi_error: 0.0858837\n",
      "[345]\tvalid_0's multi_error: 0.0858837\n",
      "[350]\tvalid_0's multi_error: 0.0858837\n",
      "[355]\tvalid_0's multi_error: 0.0858837\n",
      "[360]\tvalid_0's multi_error: 0.0858837\n",
      "[365]\tvalid_0's multi_error: 0.0858837\n",
      "[370]\tvalid_0's multi_error: 0.0858837\n",
      "[375]\tvalid_0's multi_error: 0.0858837\n",
      "[380]\tvalid_0's multi_error: 0.0858837\n",
      "[385]\tvalid_0's multi_error: 0.0858837\n",
      "[390]\tvalid_0's multi_error: 0.0858837\n",
      "[395]\tvalid_0's multi_error: 0.0858837\n",
      "[400]\tvalid_0's multi_error: 0.0858837\n",
      "[405]\tvalid_0's multi_error: 0.0858837\n",
      "[410]\tvalid_0's multi_error: 0.0858837\n",
      "[415]\tvalid_0's multi_error: 0.0858837\n",
      "[420]\tvalid_0's multi_error: 0.0858837\n",
      "[425]\tvalid_0's multi_error: 0.0858837\n",
      "[430]\tvalid_0's multi_error: 0.0858837\n",
      "[435]\tvalid_0's multi_error: 0.0858837\n",
      "[440]\tvalid_0's multi_error: 0.0858837\n",
      "Early stopping, best iteration is:\n",
      "[241]\tvalid_0's multi_error: 0.0858837\n"
     ]
    }
   ],
   "source": [
    "params = {\n",
    "    'learning_rate': 0.2,\n",
    "    'num_iterations':1000,\n",
    "    'application': 'multiclassova',\n",
    "    'num_class': 4,\n",
    "    'num_leaves': 31,\n",
    "    'verbosity': -1,\n",
    "    'metric': 'multi_error',\n",
    "    'data_random_seed': 2,\n",
    "#     'bagging_fraction': 0.8,\n",
    "#     'feature_fraction': 0.6,\n",
    "    'nthread': 4,\n",
    "    'lambda_l1': 1,\n",
    "    'lambda_l2': 1,\n",
    "    'early_stopping_round':200\n",
    "} \n",
    "\n",
    "# lgbm_train = lgb.Dataset(phrase, data.label)\n",
    "lgbm_train = lgb.Dataset(phrase, onelabels)\n",
    "lgbm_val = lgb.Dataset(phrase, onelabels)\n",
    "lgbm_model = lgb.train(params,lgbm_train,valid_sets=lgbm_val, verbose_eval=5)"
   ]
  },
  {
   "cell_type": "code",
   "execution_count": 17,
   "metadata": {
    "ExecuteTime": {
     "end_time": "2018-06-13T19:35:24.281425Z",
     "start_time": "2018-06-13T19:35:24.279724Z"
    },
    "collapsed": true
   },
   "outputs": [],
   "source": [
    "# print(lgbm_model.predict(phrase))"
   ]
  },
  {
   "cell_type": "code",
   "execution_count": 18,
   "metadata": {
    "ExecuteTime": {
     "end_time": "2018-06-13T19:35:24.692327Z",
     "start_time": "2018-06-13T19:35:24.689485Z"
    },
    "collapsed": true
   },
   "outputs": [],
   "source": [
    "# lgbm_model.predict(phrase)"
   ]
  },
  {
   "cell_type": "markdown",
   "metadata": {
    "collapsed": true
   },
   "source": [
    "# Save"
   ]
  },
  {
   "cell_type": "code",
   "execution_count": 19,
   "metadata": {
    "ExecuteTime": {
     "end_time": "2018-06-13T19:35:27.403951Z",
     "start_time": "2018-06-13T19:35:27.308030Z"
    },
    "collapsed": true
   },
   "outputs": [],
   "source": [
    "import pickle\n",
    "\n",
    "# save tfidf\n",
    "pickle.dump(phrase_vectorizer, open(\"../../savedModel/WillingToPay/tfidf.pickle\", \"wb\"))\n",
    "# pickle.dump(train_comment_features, open(\"train_comment_features.pickle\", \"wb\"))\n",
    "# pickle.dump(test_comment_features, open(\"test_comment_features.pickle\", \"wb\"))\n",
    "\n",
    "# save linear svc\n",
    "pickle.dump(clf, open(\"../../savedModel/WillingToPay/LinearSVC.pickle\", \"wb\"))\n",
    "# save logistic\n",
    "pickle.dump(log_r, open(\"../../savedModel/WillingToPay/Logistic.pickle\", \"wb\"))\n",
    "# save lightGBM\n",
    "pickle.dump(lgbm_model, open(\"../../savedModel/WillingToPay/Lgbm.pickle\", \"wb\"))"
   ]
  },
  {
   "cell_type": "markdown",
   "metadata": {},
   "source": [
    "# Test"
   ]
  },
  {
   "cell_type": "code",
   "execution_count": 36,
   "metadata": {
    "ExecuteTime": {
     "end_time": "2018-06-13T19:41:48.411860Z",
     "start_time": "2018-06-13T19:41:48.403892Z"
    }
   },
   "outputs": [],
   "source": [
    "import jieba\n",
    "sentence = '天天催，给你说了不行'\n",
    "sentence = jieba.cut(sentence, cut_all = False)\n",
    "sentence = ' '.join(sentence)\n",
    "test = phrase_vectorizer.transform([sentence])\n",
    "# test = phrase_vectorizer.transform(['我 在 洗澡'])\n"
   ]
  },
  {
   "cell_type": "code",
   "execution_count": 37,
   "metadata": {
    "ExecuteTime": {
     "end_time": "2018-06-13T19:41:49.016155Z",
     "start_time": "2018-06-13T19:41:49.009580Z"
    }
   },
   "outputs": [
    {
     "data": {
      "text/plain": [
       "array([[ 0.19754589,  0.1176852 ,  0.00875102,  0.6760179 ]])"
      ]
     },
     "execution_count": 37,
     "metadata": {},
     "output_type": "execute_result"
    }
   ],
   "source": [
    "clf.predict_proba(test) # linear svc"
   ]
  },
  {
   "cell_type": "code",
   "execution_count": 38,
   "metadata": {
    "ExecuteTime": {
     "end_time": "2018-06-13T19:41:49.798057Z",
     "start_time": "2018-06-13T19:41:49.792679Z"
    }
   },
   "outputs": [
    {
     "data": {
      "text/plain": [
       "array([[ 0.1637917 ,  0.26416769,  0.06534159,  0.50669901]])"
      ]
     },
     "execution_count": 38,
     "metadata": {},
     "output_type": "execute_result"
    }
   ],
   "source": [
    "log_r.predict_proba(test) # logistic"
   ]
  },
  {
   "cell_type": "code",
   "execution_count": 39,
   "metadata": {
    "ExecuteTime": {
     "end_time": "2018-06-13T19:41:50.712990Z",
     "start_time": "2018-06-13T19:41:50.706470Z"
    }
   },
   "outputs": [
    {
     "data": {
      "text/plain": [
       "array([[  1.32569881e-02,   1.49850602e-01,   3.52224772e-04,\n",
       "          9.30175295e-01]])"
      ]
     },
     "execution_count": 39,
     "metadata": {},
     "output_type": "execute_result"
    }
   ],
   "source": [
    "lgbm_model.predict(test) # light gbm"
   ]
  },
  {
   "cell_type": "markdown",
   "metadata": {},
   "source": [
    "# labeling"
   ]
  },
  {
   "cell_type": "code",
   "execution_count": 24,
   "metadata": {
    "ExecuteTime": {
     "end_time": "2018-06-13T18:40:54.578146Z",
     "start_time": "2018-06-13T18:40:54.559098Z"
    }
   },
   "outputs": [
    {
     "name": "stdout",
     "output_type": "stream",
     "text": [
      "label= 1\n",
      "prob= 0.980752491219\n"
     ]
    }
   ],
   "source": [
    "# basic logic: find the max probability of 3 models, if it is larger than threshold, return the corresponding label, otherwise, return 2 (others).\n",
    "result = np.vstack((clf.predict_proba(test),log_r.predict_proba(test),lgbm_model.predict(test)))\n",
    "pos = np.where(result == np.max(result))\n",
    "\n",
    "threshold = 0.7\n",
    "if np.max(result)<threshold:\n",
    "    label = 2\n",
    "else:\n",
    "    label = pos[1]\n",
    "    label = label[0]\n",
    "    \n",
    "print('label=',label)\n",
    "print('prob=',np.max(result))"
   ]
  },
  {
   "cell_type": "markdown",
   "metadata": {
    "collapsed": true
   },
   "source": [
    "# save the whole thing"
   ]
  },
  {
   "cell_type": "code",
   "execution_count": 25,
   "metadata": {
    "ExecuteTime": {
     "end_time": "2018-06-13T18:40:56.056078Z",
     "start_time": "2018-06-13T18:40:56.041707Z"
    },
    "collapsed": true
   },
   "outputs": [],
   "source": [
    "# import jieba\n",
    "# import numpy as np\n",
    "\n",
    "# class WillingToPay:\n",
    "    \n",
    "#     def __init__(self, **model):\n",
    "#         \"\"\"\n",
    "#         suggested parameters:\n",
    "#         svc, logistic, lightgbm, jieba_path,tfidf\n",
    "#         \"\"\"\n",
    "#         self._load_model(**model)\n",
    "        \n",
    "#     def _load_model(self,**model):\n",
    "#         self.svc = model.get('svc')\n",
    "#         self.logistic = model.get('logistic')\n",
    "#         self.lightgbm = model.get('lightgbm')\n",
    "#         self.tfidf = model.get('tfidf')\n",
    "#         # load jieba\n",
    "#         jieba_path = model.get('jieba_path')\n",
    "#         if jieba_path is not None:\n",
    "#             jieba.load_userdict(jieba_path)\n",
    "        \n",
    "        \n",
    "#     def classify(self, sentence):\n",
    "#         sentence = jieba.cut(sentence, cut_all = False)\n",
    "#         sentence = ' '.join(sentence)\n",
    "#         matrix = self.tfidf.transform([sentence])\n",
    "#         result = np.vstack((self.svc.predict_proba(matrix),\n",
    "#                             self.logistic.predict_proba(matrix),\n",
    "#                             self.lightgbm.predict(matrix)))\n",
    "#         max_pred = np.max(result, axis=0)\n",
    "#         max_arg = np.argmax(max_pred)\n",
    "#         threshold = 0.6\n",
    "#         if np.max(max_pred)<threshold:\n",
    "#             label = 3\n",
    "#         else:\n",
    "#             label = max_arg\n",
    "#         return (label, np.max(max_pred))\n",
    "     \n",
    "        "
   ]
  },
  {
   "cell_type": "code",
   "execution_count": 26,
   "metadata": {
    "ExecuteTime": {
     "end_time": "2018-06-13T18:40:56.608611Z",
     "start_time": "2018-06-13T18:40:56.578748Z"
    },
    "collapsed": true
   },
   "outputs": [],
   "source": [
    "%load_ext autoreload\n",
    "%autoreload 2"
   ]
  },
  {
   "cell_type": "code",
   "execution_count": 27,
   "metadata": {
    "ExecuteTime": {
     "end_time": "2018-06-13T18:40:58.374029Z",
     "start_time": "2018-06-13T18:40:57.808005Z"
    }
   },
   "outputs": [
    {
     "name": "stderr",
     "output_type": "stream",
     "text": [
      "Building prefix dict from the default dictionary ...\n",
      "Loading model from cache /tmp/jieba.cache\n",
      "Loading model cost 0.454 seconds.\n",
      "Prefix dict has been built succesfully.\n"
     ]
    }
   ],
   "source": [
    "from WillingToPay_py import WillingToPay\n",
    "ifk = WillingToPay(svc=clf, logistic=log_r, lightgbm=lgbm_model, tfidf=phrase_vectorizer, jieba_path='../WordCut/userdict.txt')\n",
    "\n",
    "pickle.dump(ifk, open(\"../../savedModel/WillingToPay/WillingToPay.pickle\", \"wb\"))"
   ]
  },
  {
   "cell_type": "code",
   "execution_count": null,
   "metadata": {
    "collapsed": true
   },
   "outputs": [],
   "source": []
  }
 ],
 "metadata": {
  "kernelspec": {
   "display_name": "Python 3",
   "language": "python",
   "name": "python3"
  },
  "language_info": {
   "codemirror_mode": {
    "name": "ipython",
    "version": 3
   },
   "file_extension": ".py",
   "mimetype": "text/x-python",
   "name": "python",
   "nbconvert_exporter": "python",
   "pygments_lexer": "ipython3",
   "version": "3.6.3"
  },
  "varInspector": {
   "cols": {
    "lenName": 16,
    "lenType": 16,
    "lenVar": 40
   },
   "kernels_config": {
    "python": {
     "delete_cmd_postfix": "",
     "delete_cmd_prefix": "del ",
     "library": "var_list.py",
     "varRefreshCmd": "print(var_dic_list())"
    },
    "r": {
     "delete_cmd_postfix": ") ",
     "delete_cmd_prefix": "rm(",
     "library": "var_list.r",
     "varRefreshCmd": "cat(var_dic_list()) "
    }
   },
   "types_to_exclude": [
    "module",
    "function",
    "builtin_function_or_method",
    "instance",
    "_Feature"
   ],
   "window_display": false
  }
 },
 "nbformat": 4,
 "nbformat_minor": 2
}
