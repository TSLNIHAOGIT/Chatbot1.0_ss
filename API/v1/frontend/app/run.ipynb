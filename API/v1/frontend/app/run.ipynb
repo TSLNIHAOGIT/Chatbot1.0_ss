{
 "cells": [
  {
   "cell_type": "code",
   "execution_count": 1,
   "metadata": {
    "ExecuteTime": {
     "end_time": "2018-06-14T19:41:18.764823Z",
     "start_time": "2018-06-14T19:41:17.917405Z"
    }
   },
   "outputs": [
    {
     "name": "stdout",
     "output_type": "stream",
     "text": [
      "chatbotdb\n",
      "0\n"
     ]
    }
   ],
   "source": [
    "# from flask_other.app import app\n",
    "from flask import Flask\n",
    "import os,sys\n",
    "# sys.path.append('/home/kai/data/wei/Chatbot1.0/')\n",
    "sys.path.append('../../../../../Chatbot1.0/')\n",
    "# sys.path.append('/home/kai/data/Chatbot1.0/API/v1/frontend/')\n",
    "app=Flask(\"demo\")\n",
    "from flask import  render_template,request\n",
    "from app.mong_database import MongoManager\n",
    "import time\n",
    "import re\n",
    "mongo_db=MongoManager(server_ip='chatbotdb')\n",
    "\n",
    "import urllib.request\n",
    "from urllib.parse import quote\n",
    "import pandas as pd\n",
    "import numpy as np\n",
    "import time\n",
    "import re\n",
    "import requests\n",
    "\n",
    "##################################\n",
    "url = 'http://localhost:8889/chatbotv1'\n",
    "\n",
    "\n",
    "def get_data(sentence):\n",
    "    \n",
    "    response = requests.get(url, timeout=10, params={'data':sentence, \n",
    "                                                     'action':'chat', \n",
    "                                                     'sessionId':cache.sessionId})\n",
    "    \n",
    "    if response.status_code == 200:\n",
    "        req = response.json()\n",
    "        if req.get('status').lower() == 'successful':\n",
    "            msg = req.get('message')\n",
    "        else:\n",
    "            msg = req\n",
    "\n",
    "        return msg\n",
    "    else:\n",
    "        return 'Internet Connection Issue, error code {}'.format(response.status_code)\n",
    "\n",
    "\n",
    "\n",
    "@app.route('/')\n",
    "@app.route('/index')\n",
    "def index0():\n",
    "    return render_template(\n",
    "                           # \"index0.html\",\n",
    "                           \"index.html\",\n",
    "                           )\n",
    "@app.route(\"/predict\", methods= [\"POST\"])\n",
    "def background_process():\n",
    "    if request.method == 'POST':\n",
    "        try:\n",
    "            query = request.form.get('query')#前端查询的内容\n",
    "            if query:\n",
    "\n",
    "                    print('query',query)\n",
    "                    # time.sleep(5)\n",
    "                    result = get_data(query)\n",
    "                    print('result',result)\n",
    "                    mongo_db.save_query(query, str(result))\n",
    "                    print('saving to mongo db successfully!')\n",
    "                    return str(result)\n",
    "                    \n",
    "\n",
    "            else:\n",
    "\n",
    "                    return str('请输入查询内容')\n",
    "\n",
    "\n",
    "        except Exception as e:\n",
    "            print(e)\n",
    "\n",
    "            if 'duplicate' in str(e):\n",
    "                e_str = e.details['errmsg']\n",
    "                dup_id=re.search('\\{ : \"(.*)\" \\}',e_str).group(1)\n",
    "                print('重复查询同一句话,存储时使用相同的_id_',dup_id)\n",
    "                mongo_db.update_dup_query( dup_id, str(result))\n",
    "                return str(result)\n",
    "\n",
    "            else:\n",
    "                print(e)\n",
    "                print('有问题，MM出故障啦')\n",
    "                return str('MM出故障啦')\n",
    "\n",
    "        # finally:\n",
    "        #     # print(e)\n",
    "        #     print('有问题，MM出故障啦。。')\n",
    "        #     return str('MM出故障啦。。')\n",
    "\n",
    "    else:\n",
    "        return 'ok'\n",
    "    \n",
    "    \n",
    "@app.route(\"/newConversation\", methods= [\"POST\"])\n",
    "def new_conversation():\n",
    "    cache.new_conversation()\n",
    "    print('new conversation called!!!!!!!!!!!!!!!!!!!!!!!')\n",
    "\n",
    "class Cache:\n",
    "    def __init__(self):\n",
    "        self.new_conversation()\n",
    "            \n",
    "    def new_conversation(self):\n",
    "        req = requests.get(url, timeout=10, params={'action':'create'})\n",
    "        if req.status_code == 200:\n",
    "            msg = req.json()\n",
    "            if msg['status'] == 'successful':\n",
    "                self.sessionId = msg['message']['sessionId']\n",
    "                print(self.sessionId)\n",
    "            else:\n",
    "                print(req.content)\n",
    "                raise ValueError('cannot get new sessionId, cannot start chat')\n",
    "        else:\n",
    "            print(req.content)\n",
    "\n",
    "\n",
    "        \n",
    "cache = Cache()   \n",
    "\n",
    "\n"
   ]
  },
  {
   "cell_type": "code",
   "execution_count": null,
   "metadata": {
    "ExecuteTime": {
     "start_time": "2018-06-14T19:41:13.777Z"
    }
   },
   "outputs": [
    {
     "name": "stderr",
     "output_type": "stream",
     "text": [
      " * Running on http://0.0.0.0:6006/ (Press CTRL+C to quit)\n"
     ]
    },
    {
     "name": "stdout",
     "output_type": "stream",
     "text": [
      "running at http://10.0.24.31:6006\n"
     ]
    },
    {
     "name": "stderr",
     "output_type": "stream",
     "text": [
      "172.18.0.1 - - [14/Jun/2018 19:41:26] \"GET / HTTP/1.1\" 200 -\n",
      "172.18.0.1 - - [14/Jun/2018 19:41:26] \"GET / HTTP/1.1\" 200 -\n",
      "172.18.0.1 - - [14/Jun/2018 19:41:26] \"GET / HTTP/1.1\" 200 -\n",
      "172.18.0.1 - - [14/Jun/2018 19:41:29] \"POST /dataFromAjax_post HTTP/1.1\" 404 -\n",
      "172.18.0.1 - - [14/Jun/2018 19:41:29] \"POST /predict HTTP/1.1\" 200 -\n"
     ]
    },
    {
     "name": "stdout",
     "output_type": "stream",
     "text": [
      "query nihao\n",
      "result 你好，这里是H催收公司，请问是罗巍先生吗？\n",
      "saving to mongo db successfully!\n"
     ]
    },
    {
     "name": "stderr",
     "output_type": "stream",
     "text": [
      "172.18.0.1 - - [14/Jun/2018 19:41:31] \"POST /dataFromAjax_post HTTP/1.1\" 404 -\n",
      "172.18.0.1 - - [14/Jun/2018 19:41:31] \"POST /predict HTTP/1.1\" 200 -\n"
     ]
    },
    {
     "name": "stdout",
     "output_type": "stream",
     "text": [
      "query 是的\n",
      "result 你好，我是H催收公司的客服小催，您之前借贷了H公司5万块钱，约定在2018年5月1日还清。您已还款3万2千块钱，但因逾期未还产生了相应的利息和延迟还款费用，现在一共需要还2万块钱，其中1.2万本金，1500利息，500延迟还款手续费用，请问您打算什么时候处理下呢？\n",
      "E11000 duplicate key error collection: flask_database.query index: _id_ dup key: { : \"9578bd37b900cc5c949bf359c4490eaf\" }\n",
      "重复查询同一句话,存储时使用相同的_id_ 9578bd37b900cc5c949bf359c4490eaf\n"
     ]
    },
    {
     "name": "stderr",
     "output_type": "stream",
     "text": [
      "172.18.0.1 - - [14/Jun/2018 19:41:35] \"POST /dataFromAjax_post HTTP/1.1\" 404 -\n",
      "172.18.0.1 - - [14/Jun/2018 19:41:35] \"POST /predict HTTP/1.1\" 200 -\n"
     ]
    },
    {
     "name": "stdout",
     "output_type": "stream",
     "text": [
      "query 我现在手头紧\n",
      "result 赖账你是赖不掉的，目前我们公司已经派专员处理了，现在要求您在3天以内还钱\n",
      "E11000 duplicate key error collection: flask_database.query index: _id_ dup key: { : \"367e43459fc312cc2aecccf0a8f69601\" }\n",
      "重复查询同一句话,存储时使用相同的_id_ 367e43459fc312cc2aecccf0a8f69601\n"
     ]
    },
    {
     "name": "stderr",
     "output_type": "stream",
     "text": [
      "[2018-06-14 19:41:44,989] ERROR in app: Exception on /newConversation [POST]\n",
      "Traceback (most recent call last):\n",
      "  File \"/home/kai/anaconda3/lib/python3.6/site-packages/flask/app.py\", line 1982, in wsgi_app\n",
      "    response = self.full_dispatch_request()\n",
      "  File \"/home/kai/anaconda3/lib/python3.6/site-packages/flask/app.py\", line 1615, in full_dispatch_request\n",
      "    return self.finalize_request(rv)\n",
      "  File \"/home/kai/anaconda3/lib/python3.6/site-packages/flask/app.py\", line 1630, in finalize_request\n",
      "    response = self.make_response(rv)\n",
      "  File \"/home/kai/anaconda3/lib/python3.6/site-packages/flask/app.py\", line 1725, in make_response\n",
      "    raise ValueError('View function did not return a response')\n",
      "ValueError: View function did not return a response\n",
      "172.18.0.1 - - [14/Jun/2018 19:41:44] \"POST /newConversation HTTP/1.1\" 500 -\n"
     ]
    },
    {
     "name": "stdout",
     "output_type": "stream",
     "text": [
      "1\n",
      "new conversation called!!!!!!!!!!!!!!!!!!!!!!!\n"
     ]
    },
    {
     "name": "stderr",
     "output_type": "stream",
     "text": [
      "172.18.0.1 - - [14/Jun/2018 19:41:48] \"POST /dataFromAjax_post HTTP/1.1\" 404 -\n",
      "172.18.0.1 - - [14/Jun/2018 19:41:48] \"POST /predict HTTP/1.1\" 200 -\n"
     ]
    },
    {
     "name": "stdout",
     "output_type": "stream",
     "text": [
      "query 你好\n",
      "result 你好，这里是H催收公司，请问是罗巍先生吗？\n",
      "E11000 duplicate key error collection: flask_database.query index: _id_ dup key: { : \"7eca689f0d3389d9dea66ae112e5cfd7\" }\n",
      "重复查询同一句话,存储时使用相同的_id_ 7eca689f0d3389d9dea66ae112e5cfd7\n"
     ]
    },
    {
     "name": "stderr",
     "output_type": "stream",
     "text": [
      "172.18.0.1 - - [14/Jun/2018 19:41:51] \"POST /dataFromAjax_post HTTP/1.1\" 404 -\n",
      "172.18.0.1 - - [14/Jun/2018 19:41:51] \"POST /predict HTTP/1.1\" 200 -\n"
     ]
    },
    {
     "name": "stdout",
     "output_type": "stream",
     "text": [
      "query 是的\n",
      "result 你好，我是H催收公司的客服小催，您之前借贷了H公司5万块钱，约定在2018年5月1日还清。您已还款3万2千块钱，但因逾期未还产生了相应的利息和延迟还款费用，现在一共需要还2万块钱，其中1.2万本金，1500利息，500延迟还款手续费用，请问您打算什么时候处理下呢？\n",
      "E11000 duplicate key error collection: flask_database.query index: _id_ dup key: { : \"9578bd37b900cc5c949bf359c4490eaf\" }\n",
      "重复查询同一句话,存储时使用相同的_id_ 9578bd37b900cc5c949bf359c4490eaf\n"
     ]
    },
    {
     "name": "stderr",
     "output_type": "stream",
     "text": [
      "172.18.0.1 - - [14/Jun/2018 19:41:53] \"POST /dataFromAjax_post HTTP/1.1\" 404 -\n",
      "172.18.0.1 - - [14/Jun/2018 19:41:53] \"POST /predict HTTP/1.1\" 200 -\n"
     ]
    },
    {
     "name": "stdout",
     "output_type": "stream",
     "text": [
      "query 天气好好\n",
      "result 不好意思先生，您的回答我不太理解，请重复\n",
      "saving to mongo db successfully!\n"
     ]
    },
    {
     "name": "stderr",
     "output_type": "stream",
     "text": [
      "172.18.0.1 - - [14/Jun/2018 19:41:59] \"POST /dataFromAjax_post HTTP/1.1\" 404 -\n",
      "172.18.0.1 - - [14/Jun/2018 19:41:59] \"POST /predict HTTP/1.1\" 200 -\n"
     ]
    },
    {
     "name": "stdout",
     "output_type": "stream",
     "text": [
      "query 天气好好\n",
      "result 不好意思先生，您的回答我不太理解，请重复\n",
      "E11000 duplicate key error collection: flask_database.query index: _id_ dup key: { : \"04a442726200b33a30040eedc5706c3d\" }\n",
      "重复查询同一句话,存储时使用相同的_id_ 04a442726200b33a30040eedc5706c3d\n"
     ]
    },
    {
     "name": "stderr",
     "output_type": "stream",
     "text": [
      "172.18.0.1 - - [14/Jun/2018 19:42:15] \"POST /dataFromAjax_post HTTP/1.1\" 404 -\n",
      "172.18.0.1 - - [14/Jun/2018 19:42:15] \"POST /predict HTTP/1.1\" 200 -\n"
     ]
    },
    {
     "name": "stdout",
     "output_type": "stream",
     "text": [
      "query 我现在没钱\n",
      "result 请问您能在3天之内还款吗？\n",
      "E11000 duplicate key error collection: flask_database.query index: _id_ dup key: { : \"4ce31987535d9d12ec6ee12f1a0357a4\" }\n",
      "重复查询同一句话,存储时使用相同的_id_ 4ce31987535d9d12ec6ee12f1a0357a4\n"
     ]
    },
    {
     "name": "stderr",
     "output_type": "stream",
     "text": [
      "[2018-06-14 19:45:37,068] ERROR in app: Exception on /newConversation [POST]\n",
      "Traceback (most recent call last):\n",
      "  File \"/home/kai/anaconda3/lib/python3.6/site-packages/flask/app.py\", line 1982, in wsgi_app\n",
      "    response = self.full_dispatch_request()\n",
      "  File \"/home/kai/anaconda3/lib/python3.6/site-packages/flask/app.py\", line 1615, in full_dispatch_request\n",
      "    return self.finalize_request(rv)\n",
      "  File \"/home/kai/anaconda3/lib/python3.6/site-packages/flask/app.py\", line 1630, in finalize_request\n",
      "    response = self.make_response(rv)\n",
      "  File \"/home/kai/anaconda3/lib/python3.6/site-packages/flask/app.py\", line 1725, in make_response\n",
      "    raise ValueError('View function did not return a response')\n",
      "ValueError: View function did not return a response\n",
      "172.18.0.1 - - [14/Jun/2018 19:45:37] \"POST /newConversation HTTP/1.1\" 500 -\n"
     ]
    },
    {
     "name": "stdout",
     "output_type": "stream",
     "text": [
      "2\n",
      "new conversation called!!!!!!!!!!!!!!!!!!!!!!!\n"
     ]
    },
    {
     "name": "stderr",
     "output_type": "stream",
     "text": [
      "172.18.0.1 - - [14/Jun/2018 19:45:43] \"POST /dataFromAjax_post HTTP/1.1\" 404 -\n",
      "172.18.0.1 - - [14/Jun/2018 19:45:43] \"POST /predict HTTP/1.1\" 200 -\n"
     ]
    },
    {
     "name": "stdout",
     "output_type": "stream",
     "text": [
      "query 123\n",
      "result 你好，这里是H催收公司，请问是罗巍先生吗？\n",
      "saving to mongo db successfully!\n"
     ]
    },
    {
     "name": "stderr",
     "output_type": "stream",
     "text": [
      "172.18.0.1 - - [14/Jun/2018 19:45:51] \"POST /dataFromAjax_post HTTP/1.1\" 404 -\n",
      "172.18.0.1 - - [14/Jun/2018 19:45:51] \"POST /predict HTTP/1.1\" 200 -\n"
     ]
    },
    {
     "name": "stdout",
     "output_type": "stream",
     "text": [
      "query 不是\n",
      "result 不好意思，打扰了，请问您认识罗先生吗！\n",
      "saving to mongo db successfully!\n"
     ]
    },
    {
     "name": "stderr",
     "output_type": "stream",
     "text": [
      "172.18.0.1 - - [14/Jun/2018 19:45:57] \"POST /dataFromAjax_post HTTP/1.1\" 404 -\n",
      "172.18.0.1 - - [14/Jun/2018 19:45:58] \"POST /predict HTTP/1.1\" 200 -\n"
     ]
    },
    {
     "name": "stdout",
     "output_type": "stream",
     "text": [
      "query 你是谁\n",
      "result 不好意思先生，您的回答我不太理解，请重复\n",
      "saving to mongo db successfully!\n"
     ]
    },
    {
     "name": "stderr",
     "output_type": "stream",
     "text": [
      "172.18.0.1 - - [14/Jun/2018 19:46:40] \"POST /dataFromAjax_post HTTP/1.1\" 404 -\n",
      "172.18.0.1 - - [14/Jun/2018 19:46:40] \"POST /predict HTTP/1.1\" 200 -\n"
     ]
    },
    {
     "name": "stdout",
     "output_type": "stream",
     "text": [
      "query 认识\n",
      "result 请您告诉xxx先生，请他尽快联系H催收公司，感谢您的配合，再见！\n",
      "saving to mongo db successfully!\n"
     ]
    },
    {
     "name": "stderr",
     "output_type": "stream",
     "text": [
      "[2018-06-14 19:46:49,024] ERROR in app: Exception on /newConversation [POST]\n",
      "Traceback (most recent call last):\n",
      "  File \"/home/kai/anaconda3/lib/python3.6/site-packages/flask/app.py\", line 1982, in wsgi_app\n",
      "    response = self.full_dispatch_request()\n",
      "  File \"/home/kai/anaconda3/lib/python3.6/site-packages/flask/app.py\", line 1615, in full_dispatch_request\n",
      "    return self.finalize_request(rv)\n",
      "  File \"/home/kai/anaconda3/lib/python3.6/site-packages/flask/app.py\", line 1630, in finalize_request\n",
      "    response = self.make_response(rv)\n",
      "  File \"/home/kai/anaconda3/lib/python3.6/site-packages/flask/app.py\", line 1725, in make_response\n",
      "    raise ValueError('View function did not return a response')\n",
      "ValueError: View function did not return a response\n",
      "172.18.0.1 - - [14/Jun/2018 19:46:49] \"POST /newConversation HTTP/1.1\" 500 -\n"
     ]
    },
    {
     "name": "stdout",
     "output_type": "stream",
     "text": [
      "3\n",
      "new conversation called!!!!!!!!!!!!!!!!!!!!!!!\n"
     ]
    },
    {
     "name": "stderr",
     "output_type": "stream",
     "text": [
      "172.18.0.1 - - [14/Jun/2018 19:47:04] \"POST /dataFromAjax_post HTTP/1.1\" 404 -\n",
      "172.18.0.1 - - [14/Jun/2018 19:47:04] \"POST /predict HTTP/1.1\" 200 -\n"
     ]
    },
    {
     "name": "stdout",
     "output_type": "stream",
     "text": [
      "query qwe\n",
      "result 你好，这里是H催收公司，请问是罗巍先生吗？\n",
      "saving to mongo db successfully!\n"
     ]
    },
    {
     "name": "stderr",
     "output_type": "stream",
     "text": [
      "172.18.0.1 - - [14/Jun/2018 19:47:08] \"POST /dataFromAjax_post HTTP/1.1\" 404 -\n",
      "172.18.0.1 - - [14/Jun/2018 19:47:09] \"POST /predict HTTP/1.1\" 200 -\n"
     ]
    },
    {
     "name": "stdout",
     "output_type": "stream",
     "text": [
      "query 是\n",
      "result 你好，我是H催收公司的客服小催，您之前借贷了H公司5万块钱，约定在2018年5月1日还清。您已还款3万2千块钱，但因逾期未还产生了相应的利息和延迟还款费用，现在一共需要还2万块钱，其中1.2万本金，1500利息，500延迟还款手续费用，请问您打算什么时候处理下呢？\n",
      "E11000 duplicate key error collection: flask_database.query index: _id_ dup key: { : \"0a60ac8f02ccd2cf723f927284877851\" }\n",
      "重复查询同一句话,存储时使用相同的_id_ 0a60ac8f02ccd2cf723f927284877851\n"
     ]
    },
    {
     "name": "stderr",
     "output_type": "stream",
     "text": [
      "172.18.0.1 - - [14/Jun/2018 19:47:18] \"POST /dataFromAjax_post HTTP/1.1\" 404 -\n",
      "172.18.0.1 - - [14/Jun/2018 19:47:18] \"POST /predict HTTP/1.1\" 200 -\n"
     ]
    },
    {
     "name": "stdout",
     "output_type": "stream",
     "text": [
      "query 没钱·\n",
      "result 赖账你是赖不掉的，目前我们公司已经派专员处理了，现在要求您在3天以内还钱\n",
      "saving to mongo db successfully!\n"
     ]
    },
    {
     "name": "stderr",
     "output_type": "stream",
     "text": [
      "172.18.0.1 - - [14/Jun/2018 19:48:03] \"POST /dataFromAjax_post HTTP/1.1\" 404 -\n",
      "172.18.0.1 - - [14/Jun/2018 19:48:03] \"POST /predict HTTP/1.1\" 200 -\n"
     ]
    },
    {
     "name": "stdout",
     "output_type": "stream",
     "text": [
      "query 没钱怎么办，你逼我也没办法\n",
      "result 赖账你是赖不掉的，目前我们公司已经派专员处理了，现在要求您在3天以内还钱\n",
      "saving to mongo db successfully!\n"
     ]
    },
    {
     "name": "stderr",
     "output_type": "stream",
     "text": [
      "172.18.0.1 - - [14/Jun/2018 19:48:43] \"POST /dataFromAjax_post HTTP/1.1\" 404 -\n",
      "172.18.0.1 - - [14/Jun/2018 19:48:44] \"POST /predict HTTP/1.1\" 200 -\n"
     ]
    },
    {
     "name": "stdout",
     "output_type": "stream",
     "text": [
      "query 我可能一个月后会有点钱\n",
      "result 赖账你是赖不掉的，目前我们公司已经派专员处理了，现在要求您在3天以内还钱\n",
      "saving to mongo db successfully!\n"
     ]
    }
   ],
   "source": [
    "app.debug = False\n",
    "port = 6006\n",
    "print('running at http://10.0.24.31:{}'.format(port))\n",
    "app.run(host='0.0.0.0',port=port)    #这样用来监听所有的ip，团队调试用"
   ]
  },
  {
   "cell_type": "code",
   "execution_count": null,
   "metadata": {
    "collapsed": true
   },
   "outputs": [],
   "source": []
  }
 ],
 "metadata": {
  "kernelspec": {
   "display_name": "Python 3",
   "language": "python",
   "name": "python3"
  },
  "language_info": {
   "codemirror_mode": {
    "name": "ipython",
    "version": 3
   },
   "file_extension": ".py",
   "mimetype": "text/x-python",
   "name": "python",
   "nbconvert_exporter": "python",
   "pygments_lexer": "ipython3",
   "version": "3.6.3"
  },
  "varInspector": {
   "cols": {
    "lenName": 16,
    "lenType": 16,
    "lenVar": 40
   },
   "kernels_config": {
    "python": {
     "delete_cmd_postfix": "",
     "delete_cmd_prefix": "del ",
     "library": "var_list.py",
     "varRefreshCmd": "print(var_dic_list())"
    },
    "r": {
     "delete_cmd_postfix": ") ",
     "delete_cmd_prefix": "rm(",
     "library": "var_list.r",
     "varRefreshCmd": "cat(var_dic_list()) "
    }
   },
   "types_to_exclude": [
    "module",
    "function",
    "builtin_function_or_method",
    "instance",
    "_Feature"
   ],
   "window_display": false
  }
 },
 "nbformat": 4,
 "nbformat_minor": 2
}
