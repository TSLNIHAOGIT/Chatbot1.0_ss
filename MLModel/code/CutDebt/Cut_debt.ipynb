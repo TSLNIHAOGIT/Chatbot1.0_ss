{
 "cells": [
  {
   "cell_type": "code",
   "execution_count": 1,
   "metadata": {
    "ExecuteTime": {
     "end_time": "2018-06-13T18:28:53.196195Z",
     "start_time": "2018-06-13T18:28:52.882473Z"
    },
    "collapsed": true
   },
   "outputs": [],
   "source": [
    "#encoding=utf-8\n",
    "import pandas as pd\n",
    "import numpy as np\n",
    "from sklearn.feature_extraction.text import CountVectorizer, TfidfVectorizer, TfidfTransformer"
   ]
  },
  {
   "cell_type": "code",
   "execution_count": 2,
   "metadata": {
    "ExecuteTime": {
     "end_time": "2018-06-13T18:28:53.896053Z",
     "start_time": "2018-06-13T18:28:53.865236Z"
    }
   },
   "outputs": [
    {
     "name": "stdout",
     "output_type": "stream",
     "text": [
      "(3205, 2)\n"
     ]
    },
    {
     "data": {
      "text/html": [
       "<div>\n",
       "<style>\n",
       "    .dataframe thead tr:only-child th {\n",
       "        text-align: right;\n",
       "    }\n",
       "\n",
       "    .dataframe thead th {\n",
       "        text-align: left;\n",
       "    }\n",
       "\n",
       "    .dataframe tbody tr th {\n",
       "        vertical-align: top;\n",
       "    }\n",
       "</style>\n",
       "<table border=\"1\" class=\"dataframe\">\n",
       "  <thead>\n",
       "    <tr style=\"text-align: right;\">\n",
       "      <th></th>\n",
       "      <th>label</th>\n",
       "      <th>split_text</th>\n",
       "    </tr>\n",
       "  </thead>\n",
       "  <tbody>\n",
       "    <tr>\n",
       "      <th>0</th>\n",
       "      <td>2</td>\n",
       "      <td>我 吃</td>\n",
       "    </tr>\n",
       "    <tr>\n",
       "      <th>1</th>\n",
       "      <td>1</td>\n",
       "      <td>我 接受 救济   但 我 仍然 负担 不起</td>\n",
       "    </tr>\n",
       "    <tr>\n",
       "      <th>2</th>\n",
       "      <td>2</td>\n",
       "      <td>显然 你 错过 了</td>\n",
       "    </tr>\n",
       "    <tr>\n",
       "      <th>3</th>\n",
       "      <td>0</td>\n",
       "      <td>伟大</td>\n",
       "    </tr>\n",
       "    <tr>\n",
       "      <th>4</th>\n",
       "      <td>1</td>\n",
       "      <td>原来   利息 较 少   主要 金额 低得 多 。</td>\n",
       "    </tr>\n",
       "    <tr>\n",
       "      <th>5</th>\n",
       "      <td>0</td>\n",
       "      <td>那 太好了</td>\n",
       "    </tr>\n",
       "    <tr>\n",
       "      <th>6</th>\n",
       "      <td>0</td>\n",
       "      <td>那么 帅</td>\n",
       "    </tr>\n",
       "    <tr>\n",
       "      <th>7</th>\n",
       "      <td>1</td>\n",
       "      <td>没有</td>\n",
       "    </tr>\n",
       "    <tr>\n",
       "      <th>8</th>\n",
       "      <td>2</td>\n",
       "      <td>我 不 知道</td>\n",
       "    </tr>\n",
       "    <tr>\n",
       "      <th>9</th>\n",
       "      <td>0</td>\n",
       "      <td>很棒</td>\n",
       "    </tr>\n",
       "  </tbody>\n",
       "</table>\n",
       "</div>"
      ],
      "text/plain": [
       "   label                  split_text\n",
       "0      2                         我 吃\n",
       "1      1      我 接受 救济   但 我 仍然 负担 不起\n",
       "2      2                   显然 你 错过 了\n",
       "3      0                          伟大\n",
       "4      1  原来   利息 较 少   主要 金额 低得 多 。\n",
       "5      0                       那 太好了\n",
       "6      0                        那么 帅\n",
       "7      1                          没有\n",
       "8      2                      我 不 知道\n",
       "9      0                          很棒"
      ]
     },
     "execution_count": 2,
     "metadata": {},
     "output_type": "execute_result"
    }
   ],
   "source": [
    "# path = '/home/kai/data/jiangning/Chatbot_1/Chatbot1.0/data/'\n",
    "path = '../../data/CutDebt/'\n",
    "data = pd.read_csv(path + 'cleaned_mock_up_data.csv', encoding='utf8')\n",
    "print(data.shape)\n",
    "data.head(10)"
   ]
  },
  {
   "cell_type": "code",
   "execution_count": 3,
   "metadata": {
    "ExecuteTime": {
     "end_time": "2018-06-13T18:28:56.619258Z",
     "start_time": "2018-06-13T18:28:56.614206Z"
    }
   },
   "outputs": [
    {
     "data": {
      "text/plain": [
       "'我 可以 备份 我 的 校长 吗 ？'"
      ]
     },
     "execution_count": 3,
     "metadata": {},
     "output_type": "execute_result"
    }
   ],
   "source": [
    "data.split_text.iloc[89]"
   ]
  },
  {
   "cell_type": "code",
   "execution_count": 4,
   "metadata": {
    "ExecuteTime": {
     "end_time": "2018-06-13T18:31:08.475493Z",
     "start_time": "2018-06-13T18:31:08.393913Z"
    }
   },
   "outputs": [
    {
     "name": "stdout",
     "output_type": "stream",
     "text": [
      "fitting phrase\n",
      "transform phrase\n"
     ]
    },
    {
     "data": {
      "text/plain": [
       "<3205x7971 sparse matrix of type '<class 'numpy.float64'>'\n",
       "\twith 26922 stored elements in Compressed Sparse Row format>"
      ]
     },
     "execution_count": 4,
     "metadata": {},
     "output_type": "execute_result"
    }
   ],
   "source": [
    "phrase_vectorizer = TfidfVectorizer(ngram_range=(1,3),\n",
    "                                    strip_accents='unicode', \n",
    "                                    max_features=100000, \n",
    "                                    analyzer='word',\n",
    "                                    sublinear_tf=True,\n",
    "                                    token_pattern=r'\\w{1,}')\n",
    "\n",
    "print('fitting phrase')\n",
    "phrase_vectorizer.fit(data.split_text)\n",
    "\n",
    "print('transform phrase')\n",
    "phrase = phrase_vectorizer.transform(data.split_text)\n",
    "\n",
    "phrase"
   ]
  },
  {
   "cell_type": "markdown",
   "metadata": {},
   "source": [
    "# SVC"
   ]
  },
  {
   "cell_type": "code",
   "execution_count": 5,
   "metadata": {
    "ExecuteTime": {
     "end_time": "2018-06-13T18:31:12.758391Z",
     "start_time": "2018-06-13T18:31:12.617391Z"
    }
   },
   "outputs": [
    {
     "name": "stdout",
     "output_type": "stream",
     "text": [
      "0.990951638066\n"
     ]
    }
   ],
   "source": [
    "from sklearn.calibration import CalibratedClassifierCV\n",
    "from sklearn.svm import LinearSVC\n",
    "\n",
    "l_svc = LinearSVC()\n",
    "clf = CalibratedClassifierCV(l_svc) \n",
    "clf.fit(phrase, data.label)\n",
    "print(clf.score(phrase, data.label))"
   ]
  },
  {
   "cell_type": "code",
   "execution_count": 6,
   "metadata": {
    "ExecuteTime": {
     "end_time": "2018-06-13T18:31:13.555971Z",
     "start_time": "2018-06-13T18:31:13.547020Z"
    }
   },
   "outputs": [
    {
     "name": "stdout",
     "output_type": "stream",
     "text": [
      "[2 1 2 ..., 0 2 1]\n"
     ]
    }
   ],
   "source": [
    "print(clf.predict(phrase))"
   ]
  },
  {
   "cell_type": "markdown",
   "metadata": {
    "ExecuteTime": {
     "end_time": "2018-06-12T19:16:36.540011Z",
     "start_time": "2018-06-12T19:16:36.456425Z"
    }
   },
   "source": [
    "# Logistic"
   ]
  },
  {
   "cell_type": "code",
   "execution_count": 7,
   "metadata": {
    "ExecuteTime": {
     "end_time": "2018-06-13T18:31:16.290536Z",
     "start_time": "2018-06-13T18:31:16.287313Z"
    },
    "collapsed": true
   },
   "outputs": [],
   "source": [
    "from sklearn.linear_model import LogisticRegression"
   ]
  },
  {
   "cell_type": "code",
   "execution_count": 8,
   "metadata": {
    "ExecuteTime": {
     "end_time": "2018-06-13T18:31:16.897775Z",
     "start_time": "2018-06-13T18:31:16.863387Z"
    }
   },
   "outputs": [
    {
     "name": "stdout",
     "output_type": "stream",
     "text": [
      "0.973478939158\n"
     ]
    }
   ],
   "source": [
    "log_r = LogisticRegression()\n",
    "log_r.fit(phrase, data.label)\n",
    "print(log_r.score(phrase, data.label))"
   ]
  },
  {
   "cell_type": "code",
   "execution_count": 9,
   "metadata": {
    "ExecuteTime": {
     "end_time": "2018-06-13T18:31:18.842078Z",
     "start_time": "2018-06-13T18:31:18.837385Z"
    }
   },
   "outputs": [
    {
     "name": "stdout",
     "output_type": "stream",
     "text": [
      "[2 1 2 ..., 0 2 1]\n"
     ]
    }
   ],
   "source": [
    "print(log_r.predict(phrase))"
   ]
  },
  {
   "cell_type": "markdown",
   "metadata": {},
   "source": [
    "# LightGBM"
   ]
  },
  {
   "cell_type": "code",
   "execution_count": 10,
   "metadata": {
    "ExecuteTime": {
     "end_time": "2018-06-13T18:31:21.424668Z",
     "start_time": "2018-06-13T18:31:21.409842Z"
    },
    "collapsed": true
   },
   "outputs": [],
   "source": [
    "import lightgbm as lgb"
   ]
  },
  {
   "cell_type": "code",
   "execution_count": 11,
   "metadata": {
    "ExecuteTime": {
     "end_time": "2018-06-13T18:31:22.636953Z",
     "start_time": "2018-06-13T18:31:22.631257Z"
    },
    "collapsed": true
   },
   "outputs": [],
   "source": [
    "from sklearn import preprocessing\n",
    "le = preprocessing.LabelEncoder()\n",
    "le.fit(data.label.values)\n",
    "onelabels = le.transform(data.label.values)"
   ]
  },
  {
   "cell_type": "code",
   "execution_count": 12,
   "metadata": {
    "ExecuteTime": {
     "end_time": "2018-06-13T18:31:23.434786Z",
     "start_time": "2018-06-13T18:31:23.430103Z"
    }
   },
   "outputs": [
    {
     "data": {
      "text/plain": [
       "array([2, 1, 2, ..., 0, 2, 1])"
      ]
     },
     "execution_count": 12,
     "metadata": {},
     "output_type": "execute_result"
    }
   ],
   "source": [
    "onelabels"
   ]
  },
  {
   "cell_type": "code",
   "execution_count": 13,
   "metadata": {
    "ExecuteTime": {
     "end_time": "2018-06-13T18:31:25.387152Z",
     "start_time": "2018-06-13T18:31:25.380818Z"
    },
    "collapsed": true
   },
   "outputs": [],
   "source": [
    "from sklearn.preprocessing import MultiLabelBinarizer\n",
    "multicoder = MultiLabelBinarizer()\n",
    "lables = multicoder.fit_transform([data.label.values])"
   ]
  },
  {
   "cell_type": "code",
   "execution_count": 14,
   "metadata": {
    "ExecuteTime": {
     "end_time": "2018-06-13T18:31:26.600399Z",
     "start_time": "2018-06-13T18:31:26.595791Z"
    }
   },
   "outputs": [
    {
     "data": {
      "text/plain": [
       "array([[1, 1, 1]])"
      ]
     },
     "execution_count": 14,
     "metadata": {},
     "output_type": "execute_result"
    }
   ],
   "source": [
    "lables"
   ]
  },
  {
   "cell_type": "code",
   "execution_count": 15,
   "metadata": {
    "ExecuteTime": {
     "end_time": "2018-06-13T18:31:28.173829Z",
     "start_time": "2018-06-13T18:31:28.168742Z"
    }
   },
   "outputs": [
    {
     "data": {
      "text/plain": [
       "array([2, 1, 2, ..., 0, 2, 1])"
      ]
     },
     "execution_count": 15,
     "metadata": {},
     "output_type": "execute_result"
    }
   ],
   "source": [
    "data.label.values"
   ]
  },
  {
   "cell_type": "code",
   "execution_count": 16,
   "metadata": {
    "ExecuteTime": {
     "end_time": "2018-06-13T18:31:46.870501Z",
     "start_time": "2018-06-13T18:31:46.294826Z"
    }
   },
   "outputs": [
    {
     "name": "stderr",
     "output_type": "stream",
     "text": [
      "/home/kai/anaconda3/lib/python3.6/site-packages/lightgbm/engine.py:99: UserWarning: Found `num_iterations` in params. Will use it instead of argument\n",
      "  warnings.warn(\"Found `{}` in params. Will use it instead of argument\".format(alias))\n",
      "/home/kai/anaconda3/lib/python3.6/site-packages/lightgbm/engine.py:104: UserWarning: Found `early_stopping_round` in params. Will use it instead of argument\n",
      "  warnings.warn(\"Found `{}` in params. Will use it instead of argument\".format(alias))\n"
     ]
    },
    {
     "name": "stdout",
     "output_type": "stream",
     "text": [
      "Training until validation scores don't improve for 200 rounds.\n",
      "[5]\tvalid_0's multi_error: 0.219657\n",
      "[10]\tvalid_0's multi_error: 0.200312\n",
      "[15]\tvalid_0's multi_error: 0.180655\n",
      "[20]\tvalid_0's multi_error: 0.165679\n",
      "[25]\tvalid_0's multi_error: 0.15663\n",
      "[30]\tvalid_0's multi_error: 0.144462\n",
      "[35]\tvalid_0's multi_error: 0.136661\n",
      "[40]\tvalid_0's multi_error: 0.132605\n",
      "[45]\tvalid_0's multi_error: 0.126989\n",
      "[50]\tvalid_0's multi_error: 0.124493\n",
      "[55]\tvalid_0's multi_error: 0.121061\n",
      "[60]\tvalid_0's multi_error: 0.117005\n",
      "[65]\tvalid_0's multi_error: 0.114509\n",
      "[70]\tvalid_0's multi_error: 0.1117\n",
      "[75]\tvalid_0's multi_error: 0.111076\n",
      "[80]\tvalid_0's multi_error: 0.109204\n",
      "[85]\tvalid_0's multi_error: 0.10858\n",
      "[90]\tvalid_0's multi_error: 0.107644\n",
      "[95]\tvalid_0's multi_error: 0.107332\n",
      "[100]\tvalid_0's multi_error: 0.106708\n",
      "[105]\tvalid_0's multi_error: 0.10546\n",
      "[110]\tvalid_0's multi_error: 0.10546\n",
      "[115]\tvalid_0's multi_error: 0.104836\n",
      "[120]\tvalid_0's multi_error: 0.1039\n",
      "[125]\tvalid_0's multi_error: 0.102964\n",
      "[130]\tvalid_0's multi_error: 0.103588\n",
      "[135]\tvalid_0's multi_error: 0.10234\n",
      "[140]\tvalid_0's multi_error: 0.102028\n",
      "[145]\tvalid_0's multi_error: 0.100468\n",
      "[150]\tvalid_0's multi_error: 0.101404\n",
      "[155]\tvalid_0's multi_error: 0.100156\n",
      "[160]\tvalid_0's multi_error: 0.100468\n",
      "[165]\tvalid_0's multi_error: 0.100156\n",
      "[170]\tvalid_0's multi_error: 0.099844\n",
      "[175]\tvalid_0's multi_error: 0.099844\n",
      "[180]\tvalid_0's multi_error: 0.09922\n",
      "[185]\tvalid_0's multi_error: 0.099844\n",
      "[190]\tvalid_0's multi_error: 0.09922\n",
      "[195]\tvalid_0's multi_error: 0.09922\n",
      "[200]\tvalid_0's multi_error: 0.098908\n",
      "[205]\tvalid_0's multi_error: 0.098908\n",
      "[210]\tvalid_0's multi_error: 0.098908\n",
      "[215]\tvalid_0's multi_error: 0.098908\n",
      "[220]\tvalid_0's multi_error: 0.098908\n",
      "[225]\tvalid_0's multi_error: 0.098908\n",
      "[230]\tvalid_0's multi_error: 0.098908\n",
      "[235]\tvalid_0's multi_error: 0.098908\n",
      "[240]\tvalid_0's multi_error: 0.098908\n",
      "[245]\tvalid_0's multi_error: 0.098908\n",
      "[250]\tvalid_0's multi_error: 0.098908\n",
      "[255]\tvalid_0's multi_error: 0.098908\n",
      "[260]\tvalid_0's multi_error: 0.098908\n",
      "[265]\tvalid_0's multi_error: 0.098908\n",
      "[270]\tvalid_0's multi_error: 0.098908\n",
      "[275]\tvalid_0's multi_error: 0.098908\n",
      "[280]\tvalid_0's multi_error: 0.098908\n",
      "[285]\tvalid_0's multi_error: 0.098908\n",
      "[290]\tvalid_0's multi_error: 0.098908\n",
      "[295]\tvalid_0's multi_error: 0.098908\n",
      "[300]\tvalid_0's multi_error: 0.098908\n",
      "[305]\tvalid_0's multi_error: 0.098908\n",
      "[310]\tvalid_0's multi_error: 0.098908\n",
      "[315]\tvalid_0's multi_error: 0.098908\n",
      "[320]\tvalid_0's multi_error: 0.098908\n",
      "[325]\tvalid_0's multi_error: 0.098908\n",
      "[330]\tvalid_0's multi_error: 0.098908\n",
      "[335]\tvalid_0's multi_error: 0.098908\n",
      "[340]\tvalid_0's multi_error: 0.098908\n",
      "[345]\tvalid_0's multi_error: 0.098908\n",
      "[350]\tvalid_0's multi_error: 0.098908\n",
      "[355]\tvalid_0's multi_error: 0.098908\n",
      "[360]\tvalid_0's multi_error: 0.098908\n",
      "[365]\tvalid_0's multi_error: 0.098908\n",
      "[370]\tvalid_0's multi_error: 0.098908\n",
      "[375]\tvalid_0's multi_error: 0.098908\n",
      "[380]\tvalid_0's multi_error: 0.098908\n",
      "[385]\tvalid_0's multi_error: 0.098908\n",
      "[390]\tvalid_0's multi_error: 0.098908\n",
      "[395]\tvalid_0's multi_error: 0.098908\n",
      "Early stopping, best iteration is:\n",
      "[196]\tvalid_0's multi_error: 0.098908\n"
     ]
    }
   ],
   "source": [
    "params = {\n",
    "    'learning_rate': 0.2,\n",
    "    'num_iterations':1000,\n",
    "    'application': 'multiclassova',\n",
    "    'num_class': 3,\n",
    "    'num_leaves': 31,\n",
    "    'verbosity': -1,\n",
    "    'metric': 'multi_error',\n",
    "    'data_random_seed': 2,\n",
    "#     'bagging_fraction': 0.8,\n",
    "#     'feature_fraction': 0.6,\n",
    "    'nthread': 4,\n",
    "    'lambda_l1': 1,\n",
    "    'lambda_l2': 1,\n",
    "    'early_stopping_round':200\n",
    "} \n",
    "\n",
    "# lgbm_train = lgb.Dataset(phrase, data.label)\n",
    "lgbm_train = lgb.Dataset(phrase, onelabels)\n",
    "lgbm_val = lgb.Dataset(phrase, onelabels)\n",
    "lgbm_model = lgb.train(params,lgbm_train,valid_sets=lgbm_val, verbose_eval=5)"
   ]
  },
  {
   "cell_type": "code",
   "execution_count": 17,
   "metadata": {
    "ExecuteTime": {
     "end_time": "2018-06-13T18:31:59.401238Z",
     "start_time": "2018-06-13T18:31:59.349849Z"
    }
   },
   "outputs": [
    {
     "name": "stdout",
     "output_type": "stream",
     "text": [
      "[[ 0.11967434  0.25307     0.57791042]\n",
      " [ 0.01836455  0.99789293  0.00131995]\n",
      " [ 0.01974777  0.12126563  0.9138999 ]\n",
      " ..., \n",
      " [ 0.3867389   0.20953583  0.34748087]\n",
      " [ 0.04886143  0.26983066  0.642391  ]\n",
      " [ 0.00233076  0.99778701  0.00251698]]\n"
     ]
    }
   ],
   "source": [
    "print(lgbm_model.predict(phrase))"
   ]
  },
  {
   "cell_type": "markdown",
   "metadata": {
    "ExecuteTime": {
     "end_time": "2018-06-12T19:18:19.441160Z",
     "start_time": "2018-06-12T19:18:19.429166Z"
    }
   },
   "source": [
    "# Save"
   ]
  },
  {
   "cell_type": "code",
   "execution_count": 18,
   "metadata": {
    "ExecuteTime": {
     "end_time": "2018-06-13T18:32:02.181334Z",
     "start_time": "2018-06-13T18:32:02.106700Z"
    },
    "collapsed": true
   },
   "outputs": [],
   "source": [
    "import pickle\n",
    "\n",
    "# save tfidf\n",
    "pickle.dump(phrase_vectorizer, open(\"../../savedModel/CutDebt/tfidf.pickle\", \"wb\"))\n",
    "# pickle.dump(train_comment_features, open(\"train_comment_features.pickle\", \"wb\"))\n",
    "# pickle.dump(test_comment_features, open(\"test_comment_features.pickle\", \"wb\"))\n",
    "\n",
    "# save linear svc\n",
    "pickle.dump(clf, open(\"../../savedModel/CutDebt/LinearSVC.pickle\", \"wb\"))\n",
    "# save logistic\n",
    "pickle.dump(log_r, open(\"../../savedModel/CutDebt/Logistic.pickle\", \"wb\"))\n",
    "# save lightGBM\n",
    "pickle.dump(lgbm_model, open(\"../../savedModel/CutDebt/Lgbm.pickle\", \"wb\"))"
   ]
  },
  {
   "cell_type": "code",
   "execution_count": 19,
   "metadata": {
    "ExecuteTime": {
     "end_time": "2018-06-13T18:32:04.262293Z",
     "start_time": "2018-06-13T18:32:04.257589Z"
    },
    "collapsed": true
   },
   "outputs": [],
   "source": [
    "test = phrase_vectorizer.transform(['真的 没 那么 多'])\n",
    "# test = phrase_vectorizer.transform(['我 在 洗澡'])\n"
   ]
  },
  {
   "cell_type": "code",
   "execution_count": 20,
   "metadata": {
    "ExecuteTime": {
     "end_time": "2018-06-13T18:32:04.893095Z",
     "start_time": "2018-06-13T18:32:04.886559Z"
    }
   },
   "outputs": [
    {
     "data": {
      "text/plain": [
       "array([[ 0.02700852,  0.96551342,  0.00747806]])"
      ]
     },
     "execution_count": 20,
     "metadata": {},
     "output_type": "execute_result"
    }
   ],
   "source": [
    "clf.predict_proba(test) # linear svc"
   ]
  },
  {
   "cell_type": "code",
   "execution_count": 21,
   "metadata": {
    "ExecuteTime": {
     "end_time": "2018-06-13T18:32:06.028909Z",
     "start_time": "2018-06-13T18:32:06.023497Z"
    }
   },
   "outputs": [
    {
     "data": {
      "text/plain": [
       "array([[ 0.13666924,  0.79194295,  0.07138781]])"
      ]
     },
     "execution_count": 21,
     "metadata": {},
     "output_type": "execute_result"
    }
   ],
   "source": [
    "log_r.predict_proba(test) # logistic"
   ]
  },
  {
   "cell_type": "code",
   "execution_count": 22,
   "metadata": {
    "ExecuteTime": {
     "end_time": "2018-06-13T18:32:07.266470Z",
     "start_time": "2018-06-13T18:32:07.260833Z"
    }
   },
   "outputs": [
    {
     "data": {
      "text/plain": [
       "array([[ 0.00638464,  0.98398606,  0.00755999]])"
      ]
     },
     "execution_count": 22,
     "metadata": {},
     "output_type": "execute_result"
    }
   ],
   "source": [
    "lgbm_model.predict(test) # light gbm"
   ]
  },
  {
   "cell_type": "markdown",
   "metadata": {},
   "source": [
    "# Labeling"
   ]
  },
  {
   "cell_type": "code",
   "execution_count": 23,
   "metadata": {
    "ExecuteTime": {
     "end_time": "2018-06-13T18:32:33.161669Z",
     "start_time": "2018-06-13T18:32:33.141935Z"
    }
   },
   "outputs": [
    {
     "name": "stdout",
     "output_type": "stream",
     "text": [
      "label= 1\n",
      "prob= 0.983986058554\n"
     ]
    }
   ],
   "source": [
    "# basic logic: find the max probability of 3 models, if it is larger than threshold, return the corresponding label, otherwise, return 2 (others).\n",
    "result = np.vstack((clf.predict_proba(test),log_r.predict_proba(test),lgbm_model.predict(test)))\n",
    "pos = np.where(result == np.max(result))\n",
    "\n",
    "threshold = 0.7\n",
    "if np.max(result)<threshold:\n",
    "    label = 2\n",
    "else:\n",
    "    label = pos[1]\n",
    "    label = label[0]\n",
    "    \n",
    "print('label=',label)\n",
    "print('prob=',np.max(result))"
   ]
  },
  {
   "cell_type": "markdown",
   "metadata": {
    "collapsed": true
   },
   "source": [
    "# Save the whole thing"
   ]
  },
  {
   "cell_type": "code",
   "execution_count": 24,
   "metadata": {
    "ExecuteTime": {
     "end_time": "2018-06-13T18:32:36.136584Z",
     "start_time": "2018-06-13T18:32:36.121775Z"
    },
    "collapsed": true
   },
   "outputs": [],
   "source": [
    "# import jieba\n",
    "# import numpy as np\n",
    "\n",
    "# class CutDebt:\n",
    "    \n",
    "#     def __init__(self, **model):\n",
    "#         \"\"\"\n",
    "#         suggested parameters:\n",
    "#         svc, logistic, lightgbm, jieba_path,tfidf\n",
    "#         \"\"\"\n",
    "#         self._load_model(**model)\n",
    "        \n",
    "#     def _load_model(self,**model):\n",
    "#         self.svc = model.get('svc')\n",
    "#         self.logistic = model.get('logistic')\n",
    "#         self.lightgbm = model.get('lightgbm')\n",
    "#         self.tfidf = model.get('tfidf')\n",
    "#         # load jieba\n",
    "#         jieba_path = model.get('jieba_path')\n",
    "#         if jieba_path is not None:\n",
    "#             jieba.load_userdict(jieba_path)\n",
    "        \n",
    "        \n",
    "#     def classify(self, sentence):\n",
    "#         sentence = jieba.cut(sentence, cut_all = False)\n",
    "#         sentence = ' '.join(sentence)\n",
    "#         matrix = self.tfidf.transform([sentence])\n",
    "#         result = np.vstack((self.svc.predict_proba(matrix),\n",
    "#                             self.logistic.predict_proba(matrix),\n",
    "#                             self.lightgbm.predict(matrix)))\n",
    "#         max_pred = np.max(result, axis=0)\n",
    "#         max_arg = np.argmax(max_pred)\n",
    "#         threshold = 0.6\n",
    "#         if np.max(max_pred)<threshold:\n",
    "#             label = 2\n",
    "#         else:\n",
    "#             label = max_arg\n",
    "#         return (label, np.max(max_pred))\n",
    "     \n",
    "        "
   ]
  },
  {
   "cell_type": "code",
   "execution_count": 25,
   "metadata": {
    "ExecuteTime": {
     "end_time": "2018-06-13T18:32:37.257594Z",
     "start_time": "2018-06-13T18:32:37.227289Z"
    },
    "collapsed": true
   },
   "outputs": [],
   "source": [
    "%load_ext autoreload\n",
    "%autoreload 2"
   ]
  },
  {
   "cell_type": "code",
   "execution_count": 26,
   "metadata": {
    "ExecuteTime": {
     "end_time": "2018-06-13T18:32:42.290895Z",
     "start_time": "2018-06-13T18:32:41.766372Z"
    }
   },
   "outputs": [
    {
     "name": "stderr",
     "output_type": "stream",
     "text": [
      "Building prefix dict from the default dictionary ...\n",
      "Loading model from cache /tmp/jieba.cache\n",
      "Loading model cost 0.432 seconds.\n",
      "Prefix dict has been built succesfully.\n"
     ]
    }
   ],
   "source": [
    "from CutDebt_py import CutDebt\n",
    "cutd = CutDebt(svc=clf, logistic=log_r, lightgbm=lgbm_model, tfidf=phrase_vectorizer, jieba_path='../WordCut/userdict.txt')\n",
    "\n",
    "pickle.dump(cutd, open(\"../../savedModel/CutDebt/CutDebt.pickle\", \"wb\"))"
   ]
  },
  {
   "cell_type": "code",
   "execution_count": null,
   "metadata": {
    "collapsed": true
   },
   "outputs": [],
   "source": []
  }
 ],
 "metadata": {
  "kernelspec": {
   "display_name": "Python 3",
   "language": "python",
   "name": "python3"
  },
  "language_info": {
   "codemirror_mode": {
    "name": "ipython",
    "version": 3
   },
   "file_extension": ".py",
   "mimetype": "text/x-python",
   "name": "python",
   "nbconvert_exporter": "python",
   "pygments_lexer": "ipython3",
   "version": "3.6.3"
  },
  "varInspector": {
   "cols": {
    "lenName": 16,
    "lenType": 16,
    "lenVar": 40
   },
   "kernels_config": {
    "python": {
     "delete_cmd_postfix": "",
     "delete_cmd_prefix": "del ",
     "library": "var_list.py",
     "varRefreshCmd": "print(var_dic_list())"
    },
    "r": {
     "delete_cmd_postfix": ") ",
     "delete_cmd_prefix": "rm(",
     "library": "var_list.r",
     "varRefreshCmd": "cat(var_dic_list()) "
    }
   },
   "types_to_exclude": [
    "module",
    "function",
    "builtin_function_or_method",
    "instance",
    "_Feature"
   ],
   "window_display": false
  }
 },
 "nbformat": 4,
 "nbformat_minor": 2
}
