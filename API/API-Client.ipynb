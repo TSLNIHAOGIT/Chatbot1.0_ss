{
 "cells": [
  {
   "cell_type": "code",
   "execution_count": 1,
   "metadata": {
    "ExecuteTime": {
     "end_time": "2018-05-22T15:35:05.991665Z",
     "start_time": "2018-05-22T15:35:05.828162Z"
    },
    "collapsed": true
   },
   "outputs": [],
   "source": [
    "import requests"
   ]
  },
  {
   "cell_type": "code",
   "execution_count": 9,
   "metadata": {
    "ExecuteTime": {
     "end_time": "2018-05-22T15:39:44.129162Z",
     "start_time": "2018-05-22T15:39:44.111171Z"
    }
   },
   "outputs": [],
   "source": [
    "data = 'I am not jc'\n",
    "url = 'http://10.0.24.31:6006/chatbot'\n",
    "data = None\n",
    "response = requests.get(url, timeout=10, params={'data':data})"
   ]
  },
  {
   "cell_type": "code",
   "execution_count": 10,
   "metadata": {
    "ExecuteTime": {
     "end_time": "2018-05-22T15:39:44.714495Z",
     "start_time": "2018-05-22T15:39:44.709645Z"
    }
   },
   "outputs": [
    {
     "data": {
      "text/plain": [
       "{'Chatbot': 'Hellow World! '}"
      ]
     },
     "execution_count": 10,
     "metadata": {},
     "output_type": "execute_result"
    }
   ],
   "source": [
    "response.json()"
   ]
  },
  {
   "cell_type": "code",
   "execution_count": null,
   "metadata": {
    "collapsed": true
   },
   "outputs": [],
   "source": []
  }
 ],
 "metadata": {
  "kernelspec": {
   "display_name": "Python 3",
   "language": "python",
   "name": "python3"
  },
  "language_info": {
   "codemirror_mode": {
    "name": "ipython",
    "version": 3
   },
   "file_extension": ".py",
   "mimetype": "text/x-python",
   "name": "python",
   "nbconvert_exporter": "python",
   "pygments_lexer": "ipython3",
   "version": "3.6.3"
  }
 },
 "nbformat": 4,
 "nbformat_minor": 2
}
