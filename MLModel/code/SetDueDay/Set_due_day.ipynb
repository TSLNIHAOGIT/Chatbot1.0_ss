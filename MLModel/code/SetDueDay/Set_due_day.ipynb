{
 "cells": [
  {
   "cell_type": "code",
   "execution_count": 5,
   "metadata": {
    "ExecuteTime": {
     "end_time": "2018-06-13T16:16:01.426934Z",
     "start_time": "2018-06-13T16:16:01.123399Z"
    },
    "collapsed": true
   },
   "outputs": [],
   "source": [
    "#encoding=utf-8\n",
    "import pandas as pd\n",
    "import numpy as np\n",
    "from sklearn.feature_extraction.text import CountVectorizer, TfidfVectorizer, TfidfTransformer"
   ]
  },
  {
   "cell_type": "code",
   "execution_count": 6,
   "metadata": {
    "ExecuteTime": {
     "end_time": "2018-06-13T16:16:01.478993Z",
     "start_time": "2018-06-13T16:16:01.458973Z"
    }
   },
   "outputs": [
    {
     "name": "stdout",
     "output_type": "stream",
     "text": [
      "(210, 2)\n"
     ]
    },
    {
     "data": {
      "text/html": [
       "<div>\n",
       "<style>\n",
       "    .dataframe thead tr:only-child th {\n",
       "        text-align: right;\n",
       "    }\n",
       "\n",
       "    .dataframe thead th {\n",
       "        text-align: left;\n",
       "    }\n",
       "\n",
       "    .dataframe tbody tr th {\n",
       "        vertical-align: top;\n",
       "    }\n",
       "</style>\n",
       "<table border=\"1\" class=\"dataframe\">\n",
       "  <thead>\n",
       "    <tr style=\"text-align: right;\">\n",
       "      <th></th>\n",
       "      <th>label</th>\n",
       "      <th>split_text</th>\n",
       "    </tr>\n",
       "  </thead>\n",
       "  <tbody>\n",
       "    <tr>\n",
       "      <th>0</th>\n",
       "      <td>0</td>\n",
       "      <td>可以</td>\n",
       "    </tr>\n",
       "    <tr>\n",
       "      <th>1</th>\n",
       "      <td>1</td>\n",
       "      <td>这   几乎   不 可能</td>\n",
       "    </tr>\n",
       "    <tr>\n",
       "      <th>2</th>\n",
       "      <td>2</td>\n",
       "      <td>不好   意思   我   没 听 清</td>\n",
       "    </tr>\n",
       "    <tr>\n",
       "      <th>3</th>\n",
       "      <td>0</td>\n",
       "      <td>行</td>\n",
       "    </tr>\n",
       "    <tr>\n",
       "      <th>4</th>\n",
       "      <td>0</td>\n",
       "      <td>好 的</td>\n",
       "    </tr>\n",
       "    <tr>\n",
       "      <th>5</th>\n",
       "      <td>0</td>\n",
       "      <td>没 问题</td>\n",
       "    </tr>\n",
       "    <tr>\n",
       "      <th>6</th>\n",
       "      <td>0</td>\n",
       "      <td>那   就   这样   吧</td>\n",
       "    </tr>\n",
       "    <tr>\n",
       "      <th>7</th>\n",
       "      <td>0</td>\n",
       "      <td>好   我   会   在   这   之前   还款   的</td>\n",
       "    </tr>\n",
       "    <tr>\n",
       "      <th>8</th>\n",
       "      <td>0</td>\n",
       "      <td>没 问题   我   会   按时   还 的</td>\n",
       "    </tr>\n",
       "    <tr>\n",
       "      <th>9</th>\n",
       "      <td>0</td>\n",
       "      <td>这个   时间   很   合适</td>\n",
       "    </tr>\n",
       "  </tbody>\n",
       "</table>\n",
       "</div>"
      ],
      "text/plain": [
       "   label                       split_text\n",
       "0      0                               可以\n",
       "1      1                    这   几乎   不 可能\n",
       "2      2              不好   意思   我   没 听 清\n",
       "3      0                                行\n",
       "4      0                              好 的\n",
       "5      0                             没 问题\n",
       "6      0                   那   就   这样   吧\n",
       "7      0  好   我   会   在   这   之前   还款   的\n",
       "8      0          没 问题   我   会   按时   还 的\n",
       "9      0                 这个   时间   很   合适"
      ]
     },
     "execution_count": 6,
     "metadata": {},
     "output_type": "execute_result"
    }
   ],
   "source": [
    "# path = '/home/kai/data/jiangning/Chatbot_1/Chatbot1.0/data/'\n",
    "path = '../../data/SetDueDay/'\n",
    "data = pd.read_csv(path + 'cleaned_mock_up_data.csv', encoding='utf8')\n",
    "print(data.shape)\n",
    "data.head(10)"
   ]
  },
  {
   "cell_type": "code",
   "execution_count": 7,
   "metadata": {
    "ExecuteTime": {
     "end_time": "2018-06-13T16:16:02.334631Z",
     "start_time": "2018-06-13T16:16:02.312773Z"
    }
   },
   "outputs": [
    {
     "data": {
      "text/plain": [
       "'这   几乎   不 可能'"
      ]
     },
     "execution_count": 7,
     "metadata": {},
     "output_type": "execute_result"
    }
   ],
   "source": [
    "data.split_text.iloc[1]"
   ]
  },
  {
   "cell_type": "code",
   "execution_count": 8,
   "metadata": {
    "ExecuteTime": {
     "end_time": "2018-06-13T16:16:02.846218Z",
     "start_time": "2018-06-13T16:16:02.811896Z"
    }
   },
   "outputs": [
    {
     "name": "stdout",
     "output_type": "stream",
     "text": [
      "fitting phrase\n",
      "transform phrase\n"
     ]
    },
    {
     "data": {
      "text/plain": [
       "<210x850 sparse matrix of type '<class 'numpy.float64'>'\n",
       "\twith 2116 stored elements in Compressed Sparse Row format>"
      ]
     },
     "execution_count": 8,
     "metadata": {},
     "output_type": "execute_result"
    }
   ],
   "source": [
    "phrase_vectorizer = TfidfVectorizer(ngram_range=(1,3),\n",
    "                                    strip_accents='unicode', \n",
    "                                    max_features=100000, \n",
    "                                    analyzer='word',\n",
    "                                    sublinear_tf=True,\n",
    "                                    token_pattern=r'\\w{1,}')\n",
    "\n",
    "print('fitting phrase')\n",
    "phrase_vectorizer.fit(data.split_text)\n",
    "\n",
    "print('transform phrase')\n",
    "phrase = phrase_vectorizer.transform(data.split_text)\n",
    "\n",
    "phrase"
   ]
  },
  {
   "cell_type": "markdown",
   "metadata": {},
   "source": [
    "# SVC"
   ]
  },
  {
   "cell_type": "code",
   "execution_count": 9,
   "metadata": {
    "ExecuteTime": {
     "end_time": "2018-06-13T16:16:03.696866Z",
     "start_time": "2018-06-13T16:16:03.603041Z"
    }
   },
   "outputs": [
    {
     "name": "stdout",
     "output_type": "stream",
     "text": [
      "1.0\n"
     ]
    }
   ],
   "source": [
    "from sklearn.calibration import CalibratedClassifierCV\n",
    "from sklearn.svm import LinearSVC\n",
    "\n",
    "l_svc = LinearSVC()\n",
    "clf = CalibratedClassifierCV(l_svc) \n",
    "clf.fit(phrase, data.label)\n",
    "print(clf.score(phrase, data.label))"
   ]
  },
  {
   "cell_type": "code",
   "execution_count": 10,
   "metadata": {
    "ExecuteTime": {
     "end_time": "2018-06-13T16:16:03.830192Z",
     "start_time": "2018-06-13T16:16:03.807459Z"
    }
   },
   "outputs": [
    {
     "name": "stdout",
     "output_type": "stream",
     "text": [
      "[0 1 2 0 0 0 0 0 0 0 0 0 0 1 1 1 1 1 1 1 1 1 1 1 1 1 1 1 1 1 1 1 1 1 2 2 2\n",
      " 2 2 2 2 2 0 1 2 0 0 0 0 0 0 0 0 0 0 1 1 1 1 1 1 1 1 1 1 1 1 1 1 1 1 1 1 1\n",
      " 1 1 2 2 2 2 2 2 2 2 0 1 2 0 0 0 0 0 0 0 0 0 0 1 1 1 1 1 1 1 1 1 1 1 1 1 1\n",
      " 1 1 1 1 1 1 1 2 2 2 2 2 2 2 2 0 1 2 0 0 0 0 0 0 0 0 0 0 1 1 1 1 1 1 1 1 1\n",
      " 1 1 1 1 1 1 1 1 1 1 1 1 2 2 2 2 2 2 2 2 0 1 2 0 0 0 0 0 0 0 0 0 0 1 1 1 1\n",
      " 1 1 1 1 1 1 1 1 1 1 1 1 1 1 1 1 1 2 2 2 2 2 2 2 2]\n"
     ]
    }
   ],
   "source": [
    "print(clf.predict(phrase))"
   ]
  },
  {
   "cell_type": "markdown",
   "metadata": {},
   "source": [
    "# Logistic"
   ]
  },
  {
   "cell_type": "code",
   "execution_count": 11,
   "metadata": {
    "ExecuteTime": {
     "end_time": "2018-06-13T16:16:04.180723Z",
     "start_time": "2018-06-13T16:16:04.159234Z"
    },
    "collapsed": true
   },
   "outputs": [],
   "source": [
    "from sklearn.linear_model import LogisticRegression"
   ]
  },
  {
   "cell_type": "code",
   "execution_count": 12,
   "metadata": {
    "ExecuteTime": {
     "end_time": "2018-06-13T16:16:04.350661Z",
     "start_time": "2018-06-13T16:16:04.325512Z"
    }
   },
   "outputs": [
    {
     "name": "stdout",
     "output_type": "stream",
     "text": [
      "0.97619047619\n"
     ]
    }
   ],
   "source": [
    "log_r = LogisticRegression()\n",
    "log_r.fit(phrase, data.label)\n",
    "print(log_r.score(phrase, data.label))"
   ]
  },
  {
   "cell_type": "code",
   "execution_count": 13,
   "metadata": {
    "ExecuteTime": {
     "end_time": "2018-06-13T16:16:04.522340Z",
     "start_time": "2018-06-13T16:16:04.499283Z"
    }
   },
   "outputs": [
    {
     "name": "stdout",
     "output_type": "stream",
     "text": [
      "[0 1 2 0 0 0 0 0 0 1 0 0 0 1 1 1 1 1 1 1 1 1 1 1 1 1 1 1 1 1 1 1 1 1 2 2 2\n",
      " 2 2 2 2 1 0 1 2 0 0 0 0 0 0 0 0 0 0 1 1 1 1 1 1 1 1 1 1 1 1 1 1 1 1 1 1 1\n",
      " 1 1 2 2 2 2 2 2 2 2 0 1 2 0 0 0 0 0 0 0 0 0 0 1 1 1 1 1 1 1 1 1 1 1 1 1 1\n",
      " 1 1 1 1 1 1 1 2 2 2 2 2 2 2 2 0 1 2 0 0 0 0 0 0 0 1 0 0 1 1 1 1 1 1 1 1 1\n",
      " 1 1 1 1 1 1 1 1 1 1 1 1 2 2 2 1 2 2 2 2 0 1 2 0 0 0 0 0 0 1 0 0 0 1 1 1 1\n",
      " 1 1 1 1 1 1 1 1 1 1 1 1 1 1 1 1 1 2 2 2 2 2 2 2 2]\n"
     ]
    }
   ],
   "source": [
    "print(log_r.predict(phrase))"
   ]
  },
  {
   "cell_type": "markdown",
   "metadata": {},
   "source": [
    "# LightGBM"
   ]
  },
  {
   "cell_type": "code",
   "execution_count": 14,
   "metadata": {
    "ExecuteTime": {
     "end_time": "2018-06-13T16:16:04.898054Z",
     "start_time": "2018-06-13T16:16:04.871538Z"
    },
    "collapsed": true
   },
   "outputs": [],
   "source": [
    "import lightgbm as lgb"
   ]
  },
  {
   "cell_type": "code",
   "execution_count": 15,
   "metadata": {
    "ExecuteTime": {
     "end_time": "2018-06-13T16:16:05.274786Z",
     "start_time": "2018-06-13T16:16:05.253263Z"
    },
    "collapsed": true
   },
   "outputs": [],
   "source": [
    "from sklearn import preprocessing\n",
    "le = preprocessing.LabelEncoder()\n",
    "le.fit(data.label.values)\n",
    "onelabels = le.transform(data.label.values)"
   ]
  },
  {
   "cell_type": "code",
   "execution_count": 16,
   "metadata": {
    "ExecuteTime": {
     "end_time": "2018-06-13T16:16:05.781735Z",
     "start_time": "2018-06-13T16:16:05.760495Z"
    }
   },
   "outputs": [
    {
     "data": {
      "text/plain": [
       "array([0, 1, 2, 0, 0, 0, 0, 0, 0, 0, 0, 0, 0, 1, 1, 1, 1, 1, 1, 1, 1, 1, 1,\n",
       "       1, 1, 1, 1, 1, 1, 1, 1, 1, 1, 1, 2, 2, 2, 2, 2, 2, 2, 2, 0, 1, 2, 0,\n",
       "       0, 0, 0, 0, 0, 0, 0, 0, 0, 1, 1, 1, 1, 1, 1, 1, 1, 1, 1, 1, 1, 1, 1,\n",
       "       1, 1, 1, 1, 1, 1, 1, 2, 2, 2, 2, 2, 2, 2, 2, 0, 1, 2, 0, 0, 0, 0, 0,\n",
       "       0, 0, 0, 0, 0, 1, 1, 1, 1, 1, 1, 1, 1, 1, 1, 1, 1, 1, 1, 1, 1, 1, 1,\n",
       "       1, 1, 1, 2, 2, 2, 2, 2, 2, 2, 2, 0, 1, 2, 0, 0, 0, 0, 0, 0, 0, 0, 0,\n",
       "       0, 1, 1, 1, 1, 1, 1, 1, 1, 1, 1, 1, 1, 1, 1, 1, 1, 1, 1, 1, 1, 1, 2,\n",
       "       2, 2, 2, 2, 2, 2, 2, 0, 1, 2, 0, 0, 0, 0, 0, 0, 0, 0, 0, 0, 1, 1, 1,\n",
       "       1, 1, 1, 1, 1, 1, 1, 1, 1, 1, 1, 1, 1, 1, 1, 1, 1, 1, 2, 2, 2, 2, 2,\n",
       "       2, 2, 2])"
      ]
     },
     "execution_count": 16,
     "metadata": {},
     "output_type": "execute_result"
    }
   ],
   "source": [
    "onelabels"
   ]
  },
  {
   "cell_type": "code",
   "execution_count": 17,
   "metadata": {
    "ExecuteTime": {
     "end_time": "2018-06-13T16:16:06.072979Z",
     "start_time": "2018-06-13T16:16:06.051883Z"
    },
    "collapsed": true
   },
   "outputs": [],
   "source": [
    "from sklearn.preprocessing import MultiLabelBinarizer\n",
    "multicoder = MultiLabelBinarizer()\n",
    "lables = multicoder.fit_transform([data.label.values])"
   ]
  },
  {
   "cell_type": "code",
   "execution_count": 18,
   "metadata": {
    "ExecuteTime": {
     "end_time": "2018-06-13T16:16:06.281839Z",
     "start_time": "2018-06-13T16:16:06.259325Z"
    }
   },
   "outputs": [
    {
     "data": {
      "text/plain": [
       "array([[1, 1, 1]])"
      ]
     },
     "execution_count": 18,
     "metadata": {},
     "output_type": "execute_result"
    }
   ],
   "source": [
    "lables"
   ]
  },
  {
   "cell_type": "code",
   "execution_count": 19,
   "metadata": {
    "ExecuteTime": {
     "end_time": "2018-06-13T16:16:06.489343Z",
     "start_time": "2018-06-13T16:16:06.466807Z"
    }
   },
   "outputs": [
    {
     "data": {
      "text/plain": [
       "array([0, 1, 2, 0, 0, 0, 0, 0, 0, 0, 0, 0, 0, 1, 1, 1, 1, 1, 1, 1, 1, 1, 1,\n",
       "       1, 1, 1, 1, 1, 1, 1, 1, 1, 1, 1, 2, 2, 2, 2, 2, 2, 2, 2, 0, 1, 2, 0,\n",
       "       0, 0, 0, 0, 0, 0, 0, 0, 0, 1, 1, 1, 1, 1, 1, 1, 1, 1, 1, 1, 1, 1, 1,\n",
       "       1, 1, 1, 1, 1, 1, 1, 2, 2, 2, 2, 2, 2, 2, 2, 0, 1, 2, 0, 0, 0, 0, 0,\n",
       "       0, 0, 0, 0, 0, 1, 1, 1, 1, 1, 1, 1, 1, 1, 1, 1, 1, 1, 1, 1, 1, 1, 1,\n",
       "       1, 1, 1, 2, 2, 2, 2, 2, 2, 2, 2, 0, 1, 2, 0, 0, 0, 0, 0, 0, 0, 0, 0,\n",
       "       0, 1, 1, 1, 1, 1, 1, 1, 1, 1, 1, 1, 1, 1, 1, 1, 1, 1, 1, 1, 1, 1, 2,\n",
       "       2, 2, 2, 2, 2, 2, 2, 0, 1, 2, 0, 0, 0, 0, 0, 0, 0, 0, 0, 0, 1, 1, 1,\n",
       "       1, 1, 1, 1, 1, 1, 1, 1, 1, 1, 1, 1, 1, 1, 1, 1, 1, 1, 2, 2, 2, 2, 2,\n",
       "       2, 2, 2])"
      ]
     },
     "execution_count": 19,
     "metadata": {},
     "output_type": "execute_result"
    }
   ],
   "source": [
    "data.label.values"
   ]
  },
  {
   "cell_type": "code",
   "execution_count": 20,
   "metadata": {
    "ExecuteTime": {
     "end_time": "2018-06-13T16:16:06.779217Z",
     "start_time": "2018-06-13T16:16:06.689917Z"
    }
   },
   "outputs": [
    {
     "name": "stdout",
     "output_type": "stream",
     "text": [
      "Training until validation scores don't improve for 200 rounds.\n",
      "[5]\tvalid_0's multi_error: 0.247619\n",
      "[10]\tvalid_0's multi_error: 0.228571\n",
      "[15]\tvalid_0's multi_error: 0.209524\n",
      "[20]\tvalid_0's multi_error: 0.209524\n",
      "[25]\tvalid_0's multi_error: 0.204762\n",
      "[30]\tvalid_0's multi_error: 0.204762\n",
      "[35]\tvalid_0's multi_error: 0.204762\n",
      "[40]\tvalid_0's multi_error: 0.204762\n",
      "[45]\tvalid_0's multi_error: 0.204762\n",
      "[50]\tvalid_0's multi_error: 0.204762\n",
      "[55]\tvalid_0's multi_error: 0.204762\n",
      "[60]\tvalid_0's multi_error: 0.204762\n",
      "[65]\tvalid_0's multi_error: 0.204762\n",
      "[70]\tvalid_0's multi_error: 0.204762\n",
      "[75]\tvalid_0's multi_error: 0.204762\n",
      "[80]\tvalid_0's multi_error: 0.204762\n",
      "[85]\tvalid_0's multi_error: 0.204762\n",
      "[90]\tvalid_0's multi_error: 0.204762\n",
      "[95]\tvalid_0's multi_error: 0.204762\n",
      "[100]\tvalid_0's multi_error: 0.204762\n",
      "[105]\tvalid_0's multi_error: 0.204762\n",
      "[110]\tvalid_0's multi_error: 0.204762\n",
      "[115]\tvalid_0's multi_error: 0.2\n",
      "[120]\tvalid_0's multi_error: 0.2\n",
      "[125]\tvalid_0's multi_error: 0.2\n",
      "[130]\tvalid_0's multi_error: 0.2\n",
      "[135]\tvalid_0's multi_error: 0.2\n",
      "[140]\tvalid_0's multi_error: 0.2\n",
      "[145]\tvalid_0's multi_error: 0.2\n",
      "[150]\tvalid_0's multi_error: 0.2\n",
      "[155]\tvalid_0's multi_error: 0.2\n",
      "[160]\tvalid_0's multi_error: 0.2\n",
      "[165]\tvalid_0's multi_error: 0.2\n",
      "[170]\tvalid_0's multi_error: 0.2\n",
      "[175]\tvalid_0's multi_error: 0.2\n",
      "[180]\tvalid_0's multi_error: 0.2\n",
      "[185]\tvalid_0's multi_error: 0.2\n",
      "[190]\tvalid_0's multi_error: 0.2\n",
      "[195]\tvalid_0's multi_error: 0.2\n",
      "[200]\tvalid_0's multi_error: 0.2\n",
      "[205]\tvalid_0's multi_error: 0.2\n",
      "[210]\tvalid_0's multi_error: 0.2\n",
      "[215]\tvalid_0's multi_error: 0.2\n",
      "[220]\tvalid_0's multi_error: 0.2\n",
      "[225]\tvalid_0's multi_error: 0.2\n",
      "[230]\tvalid_0's multi_error: 0.2\n",
      "[235]\tvalid_0's multi_error: 0.2\n",
      "[240]\tvalid_0's multi_error: 0.2\n",
      "[245]\tvalid_0's multi_error: 0.2\n",
      "[250]\tvalid_0's multi_error: 0.2\n",
      "[255]\tvalid_0's multi_error: 0.2\n",
      "[260]\tvalid_0's multi_error: 0.2\n",
      "[265]\tvalid_0's multi_error: 0.2\n",
      "[270]\tvalid_0's multi_error: 0.2\n",
      "[275]\tvalid_0's multi_error: 0.2\n",
      "[280]\tvalid_0's multi_error: 0.2\n",
      "[285]\tvalid_0's multi_error: 0.2\n",
      "[290]\tvalid_0's multi_error: 0.2\n",
      "[295]\tvalid_0's multi_error: 0.2\n",
      "[300]\tvalid_0's multi_error: 0.2\n",
      "[305]\tvalid_0's multi_error: 0.2\n",
      "[310]\tvalid_0's multi_error: 0.2\n",
      "Early stopping, best iteration is:\n",
      "[112]\tvalid_0's multi_error: 0.2\n"
     ]
    },
    {
     "name": "stderr",
     "output_type": "stream",
     "text": [
      "/home/kai/anaconda3/lib/python3.6/site-packages/lightgbm/engine.py:99: UserWarning: Found `num_iterations` in params. Will use it instead of argument\n",
      "  warnings.warn(\"Found `{}` in params. Will use it instead of argument\".format(alias))\n",
      "/home/kai/anaconda3/lib/python3.6/site-packages/lightgbm/engine.py:104: UserWarning: Found `early_stopping_round` in params. Will use it instead of argument\n",
      "  warnings.warn(\"Found `{}` in params. Will use it instead of argument\".format(alias))\n"
     ]
    }
   ],
   "source": [
    "params = {\n",
    "    'learning_rate': 0.2,\n",
    "    'num_iterations':1000,\n",
    "    'application': 'multiclassova',\n",
    "    'num_class': 3,\n",
    "    'num_leaves': 31,\n",
    "    'verbosity': -1,\n",
    "    'metric': 'multi_error',\n",
    "    'data_random_seed': 2,\n",
    "#     'bagging_fraction': 0.8,\n",
    "#     'feature_fraction': 0.6,\n",
    "    'nthread': 4,\n",
    "    'lambda_l1': 1,\n",
    "    'lambda_l2': 1,\n",
    "    'early_stopping_round':200\n",
    "} \n",
    "\n",
    "# lgbm_train = lgb.Dataset(phrase, data.label)\n",
    "lgbm_train = lgb.Dataset(phrase, onelabels)\n",
    "lgbm_val = lgb.Dataset(phrase, onelabels)\n",
    "lgbm_model = lgb.train(params,lgbm_train,valid_sets=lgbm_val, verbose_eval=5)"
   ]
  },
  {
   "cell_type": "code",
   "execution_count": 21,
   "metadata": {
    "ExecuteTime": {
     "end_time": "2018-06-13T16:16:07.022174Z",
     "start_time": "2018-06-13T16:16:06.981394Z"
    }
   },
   "outputs": [
    {
     "name": "stdout",
     "output_type": "stream",
     "text": [
      "[[ 0.5306542   0.32341728  0.12091423]\n",
      " [ 0.03621075  0.91937219  0.0989335 ]\n",
      " [ 0.03383764  0.68963509  0.18090171]\n",
      " [ 0.5306542   0.32341728  0.12091423]\n",
      " [ 0.83024876  0.13749792  0.05616797]\n",
      " [ 0.5306542   0.32341728  0.12091423]\n",
      " [ 0.5306542   0.32341728  0.12091423]\n",
      " [ 0.57688408  0.68447732  0.01041125]\n",
      " [ 0.50377143  0.49640981  0.01054196]\n",
      " [ 0.17578131  0.88878134  0.02220697]\n",
      " [ 0.83024876  0.13749792  0.05616797]\n",
      " [ 0.83024876  0.13749792  0.05616797]\n",
      " [ 0.63945428  0.38193614  0.04388839]\n",
      " [ 0.03621075  0.90125785  0.10006322]\n",
      " [ 0.5306542   0.32341728  0.12091423]\n",
      " [ 0.01486141  0.82648016  0.22958198]\n",
      " [ 0.17578131  0.90120603  0.02220697]\n",
      " [ 0.10084515  0.829981    0.05952434]\n",
      " [ 0.03041174  0.95111675  0.01166464]\n",
      " [ 0.02764711  0.91240083  0.0495748 ]\n",
      " [ 0.00965411  0.98723896  0.00434899]\n",
      " [ 0.5306542   0.32341728  0.12091423]\n",
      " [ 0.5306542   0.32341728  0.12091423]\n",
      " [ 0.03621075  0.90125785  0.10006322]\n",
      " [ 0.04385347  0.97641823  0.00464893]\n",
      " [ 0.03383764  0.68963509  0.25555777]\n",
      " [ 0.17578131  0.88878134  0.02220697]\n",
      " [ 0.01187468  0.97353621  0.00338902]\n",
      " [ 0.10675735  0.94546318  0.02213181]\n",
      " [ 0.03621075  0.90125785  0.10006322]\n",
      " [ 0.02027048  0.96669543  0.01912362]\n",
      " [ 0.04567325  0.25852797  0.54244997]\n",
      " [ 0.10675735  0.94546318  0.02213181]\n",
      " [ 0.01117935  0.98487581  0.0052815 ]\n",
      " [ 0.5306542   0.32341728  0.12091423]\n",
      " [ 0.04080125  0.09262275  0.86253665]\n",
      " [ 0.04080125  0.26470446  0.62825948]\n",
      " [ 0.5306542   0.32341728  0.12091423]\n",
      " [ 0.04080125  0.09262275  0.86253665]\n",
      " [ 0.03418754  0.26015674  0.64192995]\n",
      " [ 0.02581568  0.49831077  0.82295208]\n",
      " [ 0.2389156   0.25852797  0.40260393]\n",
      " [ 0.5306542   0.32341728  0.12091423]\n",
      " [ 0.04970135  0.86067278  0.04802393]\n",
      " [ 0.00628764  0.35469923  0.62800305]\n",
      " [ 0.5306542   0.32341728  0.12091423]\n",
      " [ 0.5306542   0.32341728  0.12091423]\n",
      " [ 0.5306542   0.32341728  0.12091423]\n",
      " [ 0.5306542   0.32341728  0.12091423]\n",
      " [ 0.83024876  0.13749792  0.05616797]\n",
      " [ 0.5306542   0.32341728  0.12091423]\n",
      " [ 0.5306542   0.37389492  0.11958039]\n",
      " [ 0.5306542   0.32341728  0.12091423]\n",
      " [ 0.5306542   0.32341728  0.12091423]\n",
      " [ 0.63945428  0.12480387  0.17933968]\n",
      " [ 0.5306542   0.32341728  0.12091423]\n",
      " [ 0.5306542   0.32341728  0.12091423]\n",
      " [ 0.63945428  0.12480387  0.17933968]\n",
      " [ 0.5306542   0.37389492  0.11958039]\n",
      " [ 0.02764711  0.88983108  0.07467437]\n",
      " [ 0.03041174  0.95111675  0.00353399]\n",
      " [ 0.01178378  0.8869759   0.20955375]\n",
      " [ 0.05718035  0.92951204  0.00662339]\n",
      " [ 0.03621075  0.90125785  0.10006322]\n",
      " [ 0.5306542   0.32341728  0.12091423]\n",
      " [ 0.03621075  0.90125785  0.10006322]\n",
      " [ 0.04385347  0.97641823  0.00464893]\n",
      " [ 0.07707434  0.82437035  0.06402067]\n",
      " [ 0.17578131  0.88878134  0.02220697]\n",
      " [ 0.06798349  0.92841385  0.00650117]\n",
      " [ 0.10675735  0.94546318  0.02213181]\n",
      " [ 0.03621075  0.90125785  0.10006322]\n",
      " [ 0.02427335  0.9556973   0.01483446]\n",
      " [ 0.01342006  0.95047047  0.15032132]\n",
      " [ 0.0283417   0.96404813  0.00580941]\n",
      " [ 0.01117935  0.98540148  0.0144402 ]\n",
      " [ 0.5306542   0.32341728  0.12091423]\n",
      " [ 0.04080125  0.09262275  0.86253665]\n",
      " [ 0.04080125  0.1173298   0.86103482]\n",
      " [ 0.5306542   0.32341728  0.12091423]\n",
      " [ 0.04080125  0.09262275  0.86253665]\n",
      " [ 0.03418754  0.26015674  0.64192995]\n",
      " [ 0.0060988   0.25198393  0.79264507]\n",
      " [ 0.04567325  0.09991636  0.79674358]\n",
      " [ 0.5306542   0.32341728  0.12091423]\n",
      " [ 0.04970135  0.86067278  0.04802393]\n",
      " [ 0.00628764  0.35469923  0.62800305]\n",
      " [ 0.5306542   0.32341728  0.12091423]\n",
      " [ 0.5306542   0.32341728  0.12091423]\n",
      " [ 0.5306542   0.32341728  0.12091423]\n",
      " [ 0.5306542   0.32341728  0.12091423]\n",
      " [ 0.83024876  0.13749792  0.05616797]\n",
      " [ 0.5306542   0.32341728  0.12091423]\n",
      " [ 0.5306542   0.37389492  0.11958039]\n",
      " [ 0.15307674  0.26470446  0.61119863]\n",
      " [ 0.5306542   0.37389492  0.11958039]\n",
      " [ 0.63945428  0.12480387  0.17933968]\n",
      " [ 0.03621075  0.90125785  0.10006322]\n",
      " [ 0.5306542   0.32341728  0.12091423]\n",
      " [ 0.26144475  0.69922139  0.02172926]\n",
      " [ 0.5306542   0.37389492  0.11958039]\n",
      " [ 0.02764711  0.88983108  0.07467437]\n",
      " [ 0.03041174  0.95111675  0.00353399]\n",
      " [ 0.00807835  0.25198393  0.78128764]\n",
      " [ 0.05718035  0.92951204  0.00662339]\n",
      " [ 0.03621075  0.90125785  0.10006322]\n",
      " [ 0.5306542   0.32341728  0.12091423]\n",
      " [ 0.00628764  0.35469923  0.62800305]\n",
      " [ 0.10675735  0.94546318  0.02213181]\n",
      " [ 0.07707434  0.82437035  0.06402067]\n",
      " [ 0.17578131  0.88878134  0.02220697]\n",
      " [ 0.06403482  0.92951204  0.00698553]\n",
      " [ 0.10675735  0.94546318  0.02213181]\n",
      " [ 0.03621075  0.90125785  0.10006322]\n",
      " [ 0.02427335  0.9556973   0.01483446]\n",
      " [ 0.01342006  0.95047047  0.15032132]\n",
      " [ 0.0283417   0.96404813  0.00580941]\n",
      " [ 0.01117935  0.98540148  0.0144402 ]\n",
      " [ 0.5306542   0.32341728  0.12091423]\n",
      " [ 0.04080125  0.09262275  0.86253665]\n",
      " [ 0.04080125  0.1173298   0.83375303]\n",
      " [ 0.5306542   0.32341728  0.12091423]\n",
      " [ 0.04080125  0.09262275  0.86253665]\n",
      " [ 0.03418754  0.26015674  0.64192995]\n",
      " [ 0.0060988   0.25198393  0.79264507]\n",
      " [ 0.04567325  0.09991636  0.76035301]\n",
      " [ 0.5306542   0.32341728  0.12091423]\n",
      " [ 0.04970135  0.86067278  0.04802393]\n",
      " [ 0.00628764  0.35469923  0.62800305]\n",
      " [ 0.5306542   0.32341728  0.12091423]\n",
      " [ 0.5306542   0.32341728  0.12091423]\n",
      " [ 0.5306542   0.32341728  0.12091423]\n",
      " [ 0.5306542   0.32341728  0.12091423]\n",
      " [ 0.85026405  0.17675576  0.02262987]\n",
      " [ 0.5306542   0.32341728  0.12091423]\n",
      " [ 0.5306542   0.37389492  0.11958039]\n",
      " [ 0.85971722  0.13749792  0.0242865 ]\n",
      " [ 0.5306542   0.32341728  0.12091423]\n",
      " [ 0.5306542   0.32341728  0.12091423]\n",
      " [ 0.5306542   0.32341728  0.12091423]\n",
      " [ 0.5306542   0.32341728  0.12091423]\n",
      " [ 0.26144475  0.69922139  0.02172926]\n",
      " [ 0.5306542   0.32341728  0.12091423]\n",
      " [ 0.03418754  0.26015674  0.64192995]\n",
      " [ 0.5306542   0.32341728  0.12091423]\n",
      " [ 0.00807835  0.20668643  0.82210069]\n",
      " [ 0.02641111  0.7840793   0.43807175]\n",
      " [ 0.03621075  0.90125785  0.10006322]\n",
      " [ 0.5306542   0.32341728  0.12091423]\n",
      " [ 0.03621075  0.90125785  0.10006322]\n",
      " [ 0.17578131  0.88878134  0.02220697]\n",
      " [ 0.03383764  0.68963509  0.25555777]\n",
      " [ 0.17578131  0.88878134  0.02220697]\n",
      " [ 0.01190844  0.84330335  0.24806336]\n",
      " [ 0.10675735  0.94546318  0.02213181]\n",
      " [ 0.03621075  0.90125785  0.10006322]\n",
      " [ 0.02427335  0.9556973   0.01483446]\n",
      " [ 0.01624297  0.92359684  0.09065923]\n",
      " [ 0.01621898  0.97005229  0.01717815]\n",
      " [ 0.01526472  0.90467889  0.13634342]\n",
      " [ 0.5306542   0.32341728  0.12091423]\n",
      " [ 0.04080125  0.09262275  0.86253665]\n",
      " [ 0.04080125  0.11659608  0.73643141]\n",
      " [ 0.83024876  0.13749792  0.05616797]\n",
      " [ 0.04080125  0.09262275  0.86253665]\n",
      " [ 0.03418754  0.26015674  0.64192995]\n",
      " [ 0.0060988   0.25198393  0.79264507]\n",
      " [ 0.04567325  0.09991636  0.79674358]\n",
      " [ 0.5306542   0.32341728  0.12091423]\n",
      " [ 0.04970135  0.86859379  0.04802393]\n",
      " [ 0.00628764  0.35469923  0.62800305]\n",
      " [ 0.5306542   0.32341728  0.12091423]\n",
      " [ 0.5306542   0.32341728  0.12091423]\n",
      " [ 0.5306542   0.32341728  0.12091423]\n",
      " [ 0.5306542   0.32341728  0.12091423]\n",
      " [ 0.85971722  0.13749792  0.0242865 ]\n",
      " [ 0.85971722  0.13749792  0.0242865 ]\n",
      " [ 0.83024876  0.20704912  0.05550327]\n",
      " [ 0.5306542   0.32341728  0.12091423]\n",
      " [ 0.5306542   0.32341728  0.12091423]\n",
      " [ 0.63945428  0.12480387  0.15439773]\n",
      " [ 0.5306542   0.32341728  0.12091423]\n",
      " [ 0.5306542   0.32341728  0.12091423]\n",
      " [ 0.26144475  0.69922139  0.02172926]\n",
      " [ 0.5306542   0.37389492  0.11958039]\n",
      " [ 0.01190844  0.84330335  0.24806336]\n",
      " [ 0.10084515  0.829981    0.05952434]\n",
      " [ 0.03106056  0.90405412  0.04660013]\n",
      " [ 0.05576949  0.11955215  0.64269973]\n",
      " [ 0.03621075  0.90125785  0.10006322]\n",
      " [ 0.5306542   0.32341728  0.12091423]\n",
      " [ 0.5306542   0.32341728  0.12091423]\n",
      " [ 0.10675735  0.94546318  0.02213181]\n",
      " [ 0.07707434  0.82437035  0.06402067]\n",
      " [ 0.17578131  0.88878134  0.02220697]\n",
      " [ 0.03106056  0.90405412  0.04660013]\n",
      " [ 0.5306542   0.32341728  0.12091423]\n",
      " [ 0.03621075  0.90125785  0.10006322]\n",
      " [ 0.04970135  0.7904211   0.02649678]\n",
      " [ 0.01526472  0.90467889  0.16320807]\n",
      " [ 0.01621898  0.97005229  0.01717815]\n",
      " [ 0.01624297  0.96582575  0.06939347]\n",
      " [ 0.5306542   0.32341728  0.12091423]\n",
      " [ 0.04080125  0.09262275  0.86253665]\n",
      " [ 0.04080125  0.1173298   0.86103482]\n",
      " [ 0.5306542   0.32341728  0.12091423]\n",
      " [ 0.04080125  0.09262275  0.86253665]\n",
      " [ 0.03418754  0.26015674  0.64192995]\n",
      " [ 0.00643431  0.3152795   0.78128764]\n",
      " [ 0.04567325  0.09991636  0.79674358]]\n"
     ]
    }
   ],
   "source": [
    "print(lgbm_model.predict(phrase))"
   ]
  },
  {
   "cell_type": "markdown",
   "metadata": {},
   "source": [
    "# Save"
   ]
  },
  {
   "cell_type": "code",
   "execution_count": 22,
   "metadata": {
    "ExecuteTime": {
     "end_time": "2018-06-13T16:16:07.876196Z",
     "start_time": "2018-06-13T16:16:07.842280Z"
    },
    "collapsed": true
   },
   "outputs": [],
   "source": [
    "import pickle\n",
    "\n",
    "# save tfidf\n",
    "pickle.dump(phrase_vectorizer, open(\"../../savedModel/SetDueDay/tfidf.pickle\", \"wb\"))\n",
    "# pickle.dump(train_comment_features, open(\"train_comment_features.pickle\", \"wb\"))\n",
    "# pickle.dump(test_comment_features, open(\"test_comment_features.pickle\", \"wb\"))\n",
    "\n",
    "# save linear svc\n",
    "pickle.dump(clf, open(\"../../savedModel/SetDueDay/LinearSVC.pickle\", \"wb\"))\n",
    "# save logistic\n",
    "pickle.dump(log_r, open(\"../../savedModel/SetDueDay/Logistic.pickle\", \"wb\"))\n",
    "# save lightGBM\n",
    "pickle.dump(lgbm_model, open(\"../../savedModel/SetDueDay/Lgbm.pickle\", \"wb\"))"
   ]
  },
  {
   "cell_type": "markdown",
   "metadata": {
    "collapsed": true
   },
   "source": [
    "# test"
   ]
  },
  {
   "cell_type": "code",
   "execution_count": 23,
   "metadata": {
    "ExecuteTime": {
     "end_time": "2018-06-13T16:16:08.784299Z",
     "start_time": "2018-06-13T16:16:08.763686Z"
    },
    "collapsed": true
   },
   "outputs": [],
   "source": [
    "test = phrase_vectorizer.transform(['不可能'])\n",
    "# test = phrase_vectorizer.transform(['我 在 洗澡'])"
   ]
  },
  {
   "cell_type": "code",
   "execution_count": 24,
   "metadata": {
    "ExecuteTime": {
     "end_time": "2018-06-13T16:16:09.269711Z",
     "start_time": "2018-06-13T16:16:09.247280Z"
    }
   },
   "outputs": [
    {
     "data": {
      "text/plain": [
       "array([[ 0.19572169,  0.72985872,  0.07441958]])"
      ]
     },
     "execution_count": 24,
     "metadata": {},
     "output_type": "execute_result"
    }
   ],
   "source": [
    "clf.predict_proba(test) # linear svc"
   ]
  },
  {
   "cell_type": "code",
   "execution_count": 25,
   "metadata": {
    "ExecuteTime": {
     "end_time": "2018-06-13T16:16:09.524024Z",
     "start_time": "2018-06-13T16:16:09.503022Z"
    }
   },
   "outputs": [
    {
     "data": {
      "text/plain": [
       "array([[ 0.26615391,  0.55848414,  0.17536195]])"
      ]
     },
     "execution_count": 25,
     "metadata": {},
     "output_type": "execute_result"
    }
   ],
   "source": [
    "log_r.predict_proba(test) # logistic"
   ]
  },
  {
   "cell_type": "code",
   "execution_count": 26,
   "metadata": {
    "ExecuteTime": {
     "end_time": "2018-06-13T16:16:09.922520Z",
     "start_time": "2018-06-13T16:16:09.900740Z"
    }
   },
   "outputs": [
    {
     "data": {
      "text/plain": [
       "array([[ 0.5306542 ,  0.32341728,  0.12091423]])"
      ]
     },
     "execution_count": 26,
     "metadata": {},
     "output_type": "execute_result"
    }
   ],
   "source": [
    "lgbm_model.predict(test) # light gbm"
   ]
  },
  {
   "cell_type": "markdown",
   "metadata": {},
   "source": [
    "# Labeling"
   ]
  },
  {
   "cell_type": "code",
   "execution_count": 27,
   "metadata": {
    "ExecuteTime": {
     "end_time": "2018-06-13T16:16:13.558582Z",
     "start_time": "2018-06-13T16:16:13.526509Z"
    }
   },
   "outputs": [
    {
     "name": "stdout",
     "output_type": "stream",
     "text": [
      "label= 1\n",
      "prob= 0.729858724507\n"
     ]
    }
   ],
   "source": [
    "# basic logic: find the max probability of 3 models, if it is larger than threshold, return the corresponding label, otherwise, return 2 (others).\n",
    "result = np.vstack((clf.predict_proba(test),log_r.predict_proba(test),lgbm_model.predict(test)))\n",
    "pos = np.where(result == np.max(result))\n",
    "\n",
    "threshold = 0.7\n",
    "if np.max(result)<threshold:\n",
    "    label = 2\n",
    "else:\n",
    "    label = pos[1]\n",
    "    label = label[0]\n",
    "    \n",
    "print('label=',label)\n",
    "print('prob=',np.max(result))"
   ]
  },
  {
   "cell_type": "markdown",
   "metadata": {
    "collapsed": true
   },
   "source": [
    "# Save the whole thing"
   ]
  },
  {
   "cell_type": "code",
   "execution_count": 28,
   "metadata": {
    "ExecuteTime": {
     "end_time": "2018-06-13T16:16:14.604359Z",
     "start_time": "2018-06-13T16:16:14.577986Z"
    },
    "collapsed": true
   },
   "outputs": [],
   "source": [
    "# import jieba\n",
    "# import numpy as np\n",
    "\n",
    "# class SetDueDay:\n",
    "    \n",
    "#     def __init__(self, **model):\n",
    "#         \"\"\"\n",
    "#         suggested parameters:\n",
    "#         svc, logistic, lightgbm, jieba_path,tfidf\n",
    "#         \"\"\"\n",
    "#         self._load_model(**model)\n",
    "        \n",
    "#     def _load_model(self,**model):\n",
    "#         self.svc = model.get('svc')\n",
    "#         self.logistic = model.get('logistic')\n",
    "#         self.lightgbm = model.get('lightgbm')\n",
    "#         self.tfidf = model.get('tfidf')\n",
    "#         # load jieba\n",
    "#         jieba_path = model.get('jieba_path')\n",
    "#         if jieba_path is not None:\n",
    "#             jieba.load_userdict(jieba_path)\n",
    "        \n",
    "        \n",
    "#     def classify(self, sentence):\n",
    "#         sentence = jieba.cut(sentence, cut_all = False)\n",
    "#         sentence = ' '.join(sentence)\n",
    "#         matrix = self.tfidf.transform([sentence])\n",
    "#         result = np.vstack((self.svc.predict_proba(matrix),\n",
    "#                             self.logistic.predict_proba(matrix),\n",
    "#                             self.lightgbm.predict(matrix)))\n",
    "#         max_pred = np.max(result, axis=0)\n",
    "#         max_arg = np.argmax(max_pred)\n",
    "#         threshold = 0.6\n",
    "#         if np.max(max_pred<threshold):\n",
    "#             label = 2\n",
    "#         else:\n",
    "#             label = max_arg\n",
    "#         return (label, np.max(max_pred))\n",
    "     \n",
    "        "
   ]
  },
  {
   "cell_type": "code",
   "execution_count": 29,
   "metadata": {
    "ExecuteTime": {
     "end_time": "2018-06-13T16:16:15.028551Z",
     "start_time": "2018-06-13T16:16:15.006868Z"
    }
   },
   "outputs": [
    {
     "name": "stdout",
     "output_type": "stream",
     "text": [
      "The autoreload extension is already loaded. To reload it, use:\n",
      "  %reload_ext autoreload\n"
     ]
    }
   ],
   "source": [
    "%load_ext autoreload\n",
    "%autoreload 2"
   ]
  },
  {
   "cell_type": "code",
   "execution_count": 31,
   "metadata": {
    "ExecuteTime": {
     "end_time": "2018-06-13T16:17:42.722987Z",
     "start_time": "2018-06-13T16:17:42.223926Z"
    }
   },
   "outputs": [
    {
     "name": "stderr",
     "output_type": "stream",
     "text": [
      "Building prefix dict from the default dictionary ...\n",
      "Loading model from cache /tmp/jieba.cache\n",
      "Loading model cost 0.465 seconds.\n",
      "Prefix dict has been built succesfully.\n"
     ]
    }
   ],
   "source": [
    "from SetDueDay_py import SetDueDay\n",
    "ifk = SetDueDay(svc=clf, logistic=log_r, lightgbm=lgbm_model, tfidf=phrase_vectorizer, jieba_path='../WordCut/userdict.txt')\n",
    "\n",
    "pickle.dump(ifk, open(\"../../savedModel/SetDueDay/SetDueDay.pickle\", \"wb\"))"
   ]
  },
  {
   "cell_type": "code",
   "execution_count": null,
   "metadata": {
    "collapsed": true
   },
   "outputs": [],
   "source": []
  },
  {
   "cell_type": "code",
   "execution_count": null,
   "metadata": {
    "collapsed": true
   },
   "outputs": [],
   "source": []
  }
 ],
 "metadata": {
  "kernelspec": {
   "display_name": "Python 3",
   "language": "python",
   "name": "python3"
  },
  "language_info": {
   "codemirror_mode": {
    "name": "ipython",
    "version": 3
   },
   "file_extension": ".py",
   "mimetype": "text/x-python",
   "name": "python",
   "nbconvert_exporter": "python",
   "pygments_lexer": "ipython3",
   "version": "3.6.3"
  },
  "varInspector": {
   "cols": {
    "lenName": 16,
    "lenType": 16,
    "lenVar": 40
   },
   "kernels_config": {
    "python": {
     "delete_cmd_postfix": "",
     "delete_cmd_prefix": "del ",
     "library": "var_list.py",
     "varRefreshCmd": "print(var_dic_list())"
    },
    "r": {
     "delete_cmd_postfix": ") ",
     "delete_cmd_prefix": "rm(",
     "library": "var_list.r",
     "varRefreshCmd": "cat(var_dic_list()) "
    }
   },
   "types_to_exclude": [
    "module",
    "function",
    "builtin_function_or_method",
    "instance",
    "_Feature"
   ],
   "window_display": false
  }
 },
 "nbformat": 4,
 "nbformat_minor": 2
}
