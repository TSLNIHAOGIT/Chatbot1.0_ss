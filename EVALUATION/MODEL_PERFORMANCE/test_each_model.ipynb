{
 "cells": [
  {
   "cell_type": "code",
   "execution_count": 1,
   "metadata": {
    "ExecuteTime": {
     "end_time": "2018-09-10T18:27:28.521738Z",
     "start_time": "2018-09-10T18:27:27.850577Z"
    }
   },
   "outputs": [],
   "source": [
    "import sys,os\n",
    "loader_path = '../../classifier/loader/'\n",
    "sys.path.append(loader_path)\n",
    "from loader import load_all"
   ]
  },
  {
   "cell_type": "code",
   "execution_count": 2,
   "metadata": {
    "ExecuteTime": {
     "end_time": "2018-09-10T18:27:29.993554Z",
     "start_time": "2018-09-10T18:27:29.028687Z"
    }
   },
   "outputs": [
    {
     "name": "stderr",
     "output_type": "stream",
     "text": [
      "2018-09-10 18:27:29,461 - INFO - CLASS:load_all- METHOD:load_all -LINE:34 - MSG:IDClassifier has been load!\n",
      "2018-09-10 18:27:29,462 - INFO - CLASS:load_all- METHOD:load_all -LINE:39 - MSG:IDClassifier does not require time zone!\n",
      "2018-09-10 18:27:29,591 - INFO - CLASS:load_all- METHOD:load_all -LINE:34 - MSG:CutDebt has been load!\n",
      "2018-09-10 18:27:29,592 - INFO - CLASS:load_all- METHOD:load_all -LINE:39 - MSG:CutDebt does not require time zone!\n",
      "2018-09-10 18:27:29,718 - INFO - CLASS:load_all- METHOD:load_all -LINE:34 - MSG:WillingToPay has been load!\n",
      "2018-09-10 18:27:29,720 - INFO - CLASS:load_all- METHOD:load_all -LINE:39 - MSG:WillingToPay does not require time zone!\n",
      "2018-09-10 18:27:29,781 - INFO - CLASS:load_all- METHOD:load_all -LINE:34 - MSG:IfKnowDebtor has been load!\n",
      "2018-09-10 18:27:29,783 - INFO - CLASS:load_all- METHOD:load_all -LINE:39 - MSG:IfKnowDebtor does not require time zone!\n",
      "2018-09-10 18:27:29,896 - INFO - CLASS:load_all- METHOD:load_all -LINE:34 - MSG:Installment has been load!\n",
      "2018-09-10 18:27:29,897 - INFO - CLASS:load_all- METHOD:load_all -LINE:39 - MSG:Installment does not require time zone!\n",
      "2018-09-10 18:27:29,989 - INFO - CLASS:load_all- METHOD:load_all -LINE:34 - MSG:ConfirmLoan has been load!\n",
      "2018-09-10 18:27:29,991 - INFO - CLASS:load_all- METHOD:load_all -LINE:39 - MSG:ConfirmLoan does not require time zone!\n"
     ]
    }
   ],
   "source": [
    "model_dict = load_all()"
   ]
  },
  {
   "cell_type": "code",
   "execution_count": 3,
   "metadata": {
    "ExecuteTime": {
     "end_time": "2018-09-10T18:27:30.903015Z",
     "start_time": "2018-09-10T18:27:30.888547Z"
    }
   },
   "outputs": [
    {
     "data": {
      "text/plain": [
       "{'IDClassifier': <ml.IDClassifier at 0x7f985c288d68>,\n",
       " 'CutDebt': <ml.CutDebt at 0x7f9825a8f4a8>,\n",
       " 'WillingToPay': <ml.WillingToPay at 0x7f983220b160>,\n",
       " 'IfKnowDebtor': <ml.IfKnowDebtor at 0x7f98256327f0>,\n",
       " 'Installment': <ml.Installment at 0x7f9831cf6828>,\n",
       " 'ConfirmLoan': <ml.ConfirmLoan at 0x7f98253476a0>}"
      ]
     },
     "execution_count": 3,
     "metadata": {},
     "output_type": "execute_result"
    }
   ],
   "source": [
    "model_dict"
   ]
  },
  {
   "cell_type": "code",
   "execution_count": 4,
   "metadata": {
    "ExecuteTime": {
     "end_time": "2018-09-10T18:27:31.940764Z",
     "start_time": "2018-09-10T18:27:31.935461Z"
    }
   },
   "outputs": [],
   "source": [
    "idc = model_dict['IDClassifier']\n",
    "cutd = model_dict['CutDebt']\n",
    "wil = model_dict['WillingToPay']\n",
    "ifk = model_dict['IfKnowDebtor']\n",
    "ins = model_dict['Installment']\n",
    "conf = model_dict['ConfirmLoan']"
   ]
  },
  {
   "cell_type": "code",
   "execution_count": 5,
   "metadata": {
    "ExecuteTime": {
     "end_time": "2018-09-10T18:27:35.188320Z",
     "start_time": "2018-09-10T18:27:34.306224Z"
    }
   },
   "outputs": [
    {
     "name": "stderr",
     "output_type": "stream",
     "text": [
      "Building prefix dict from the default dictionary ...\n",
      "Loading model from cache /tmp/jieba.cache\n",
      "Loading model cost 0.863 seconds.\n",
      "Prefix dict has been built succesfully.\n"
     ]
    },
    {
     "data": {
      "text/plain": [
       "{'label': 104, 'pred_prob': array([[0.49456457, 0.00295248, 0.50248295],\n",
       "        [0.11065148, 0.01852916, 0.87081936],\n",
       "        [0.00367043, 0.00340483, 0.99292474]]), 'av_pred': array([0.20296216, 0.00829549, 0.78874235]), 'other_response': {'label': 104,\n",
       "  'pred_prob': array([[7.18307345e-03, 9.90720686e-01, 2.08361264e-03, 1.26282472e-05],\n",
       "         [2.95160935e-02, 9.48452349e-01, 8.36282070e-03, 1.36687372e-02],\n",
       "         [2.09901095e-02, 8.97831564e-01, 2.54580852e-03, 7.86325181e-02]]),\n",
       "  'av_pred': array([0.01922976, 0.9456682 , 0.00433075, 0.03077129])}, 'ifDebtorAnswersing': 'null'}"
      ]
     },
     "execution_count": 5,
     "metadata": {},
     "output_type": "execute_result"
    }
   ],
   "source": [
    "idc.classify('我在',debug=True)"
   ]
  },
  {
   "cell_type": "code",
   "execution_count": 6,
   "metadata": {
    "ExecuteTime": {
     "end_time": "2018-09-10T18:27:39.947574Z",
     "start_time": "2018-09-10T18:27:39.873115Z"
    }
   },
   "outputs": [
    {
     "name": "stderr",
     "output_type": "stream",
     "text": [
      "2018-09-10 18:27:39,875 - INFO - CLASS:EvlTimeExpEngine- METHOD:_set_timeZone -LINE:744 - MSG:Time Zone is set from ENV: Asia/Shanghai\n"
     ]
    },
    {
     "data": {
      "text/plain": [
       "{'label': 10,\n",
       " 'av_pred': 1.0,\n",
       " 'other_response': 0.0,\n",
       " 'timeExtract': [{'pattern': '明天',\n",
       "   'time': datetime.datetime(2018, 9, 12, 2, 27, tzinfo=<DstTzInfo 'Asia/Shanghai' CST+8:00:00 STD>),\n",
       "   'gapS': 86360.05681,\n",
       "   'gapH': 23.988904669444445,\n",
       "   'gapD': 0.9995376945601852,\n",
       "   'exp': '?y-?m-^1d-?H:?M:00S'},\n",
       "  {'pattern': '后天',\n",
       "   'time': datetime.datetime(2018, 9, 13, 2, 27, tzinfo=<DstTzInfo 'Asia/Shanghai' CST+8:00:00 STD>),\n",
       "   'gapS': 172760.056727,\n",
       "   'gapH': 47.98890464638889,\n",
       "   'gapD': 1.999537693599537,\n",
       "   'exp': '?y-?m-^2d-?H:?M:00S'}],\n",
       " 'ifWillingToPay': 'confirmAgain'}"
      ]
     },
     "execution_count": 6,
     "metadata": {},
     "output_type": "execute_result"
    }
   ],
   "source": [
    "wil.classify('明天不行后天也不行',lower_bounder='十天', upper_bounder='30天', debug=False)"
   ]
  },
  {
   "cell_type": "code",
   "execution_count": 7,
   "metadata": {
    "ExecuteTime": {
     "end_time": "2018-09-04T19:13:04.435839Z",
     "start_time": "2018-09-04T19:13:04.417258Z"
    }
   },
   "outputs": [
    {
     "data": {
      "text/plain": [
       "{'label': 109,\n",
       " 'av_pred': 0.9398495372524938,\n",
       " 'other_response': 0.764379611780278,\n",
       " 'ifDebtorAnswersing': 'null'}"
      ]
     },
     "execution_count": 7,
     "metadata": {},
     "output_type": "execute_result"
    }
   ],
   "source": [
    "idc.classify('别那么凶')"
   ]
  },
  {
   "cell_type": "code",
   "execution_count": 8,
   "metadata": {
    "ExecuteTime": {
     "end_time": "2018-08-30T23:00:21.057443Z",
     "start_time": "2018-08-30T23:00:20.961056Z"
    }
   },
   "outputs": [
    {
     "data": {
      "text/plain": [
       "{'label': 109,\n",
       " 'av_pred': 0.7095400481663328,\n",
       " 'other_response': 0.5419254185778825,\n",
       " 'timeExtract': [],\n",
       " 'ifWillingToPay': 'null'}"
      ]
     },
     "execution_count": 8,
     "metadata": {},
     "output_type": "execute_result"
    }
   ],
   "source": [
    "wil.classify('别那么凶')"
   ]
  },
  {
   "cell_type": "code",
   "execution_count": 9,
   "metadata": {
    "ExecuteTime": {
     "end_time": "2018-08-30T23:00:21.077534Z",
     "start_time": "2018-08-30T23:00:21.062313Z"
    }
   },
   "outputs": [
    {
     "data": {
      "text/plain": [
       "array([0, 1, 2])"
      ]
     },
     "execution_count": 9,
     "metadata": {},
     "output_type": "execute_result"
    }
   ],
   "source": [
    "wil.svc.classes_"
   ]
  },
  {
   "cell_type": "code",
   "execution_count": null,
   "metadata": {},
   "outputs": [],
   "source": []
  }
 ],
 "metadata": {
  "kernelspec": {
   "display_name": "Python 3",
   "language": "python",
   "name": "python3"
  },
  "language_info": {
   "codemirror_mode": {
    "name": "ipython",
    "version": 3
   },
   "file_extension": ".py",
   "mimetype": "text/x-python",
   "name": "python",
   "nbconvert_exporter": "python",
   "pygments_lexer": "ipython3",
   "version": "3.6.5"
  },
  "varInspector": {
   "cols": {
    "lenName": 16,
    "lenType": 16,
    "lenVar": 40
   },
   "kernels_config": {
    "python": {
     "delete_cmd_postfix": "",
     "delete_cmd_prefix": "del ",
     "library": "var_list.py",
     "varRefreshCmd": "print(var_dic_list())"
    },
    "r": {
     "delete_cmd_postfix": ") ",
     "delete_cmd_prefix": "rm(",
     "library": "var_list.r",
     "varRefreshCmd": "cat(var_dic_list()) "
    }
   },
   "types_to_exclude": [
    "module",
    "function",
    "builtin_function_or_method",
    "instance",
    "_Feature"
   ],
   "window_display": false
  }
 },
 "nbformat": 4,
 "nbformat_minor": 2
}
