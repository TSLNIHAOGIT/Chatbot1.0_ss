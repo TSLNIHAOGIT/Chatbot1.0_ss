{
 "cells": [
  {
   "cell_type": "code",
   "execution_count": 5,
   "metadata": {
    "ExecuteTime": {
     "end_time": "2018-05-25T07:01:49.172229Z",
     "start_time": "2018-05-25T07:01:49.165179Z"
    }
   },
   "outputs": [],
   "source": [
    "from flask import Flask, request\n",
    "from flask_restful import Resource, Api\n",
    "from json import dumps\n",
    "# from flask.ext.jsonpify import jsonify\n",
    "from flask_jsonpify import jsonify"
   ]
  },
  {
   "cell_type": "code",
   "execution_count": 6,
   "metadata": {
    "ExecuteTime": {
     "end_time": "2018-05-25T07:01:49.792534Z",
     "start_time": "2018-05-25T07:01:49.778184Z"
    },
    "collapsed": true
   },
   "outputs": [],
   "source": [
    "app = Flask(__name__)\n",
    "api = Api(app)\n",
    "\n",
    "class ChatBot(Resource):\n",
    "    def get(self):\n",
    "        args = request.args\n",
    "        try:\n",
    "            return {'Chatbot': 'Hellow World! ' + args.get('data')}\n",
    "        except Exception as e:\n",
    "            print(e)\n",
    "            return {'Chatbot': 'Hellow World! ' }\n",
    "    \n",
    "api.add_resource(ChatBot, '/chatbot')"
   ]
  },
  {
   "cell_type": "code",
   "execution_count": 7,
   "metadata": {
    "ExecuteTime": {
     "end_time": "2018-05-25T07:08:55.617953Z",
     "start_time": "2018-05-25T07:01:53.268161Z"
    }
   },
   "outputs": [
    {
     "name": "stderr",
     "output_type": "stream",
     "text": [
      " * Running on http://0.0.0.0:8889/ (Press CTRL+C to quit)\n",
      "127.0.0.1 - - [25/May/2018 07:01:58] \"GET /chatbot HTTP/1.1\" 200 -\n"
     ]
    },
    {
     "name": "stdout",
     "output_type": "stream",
     "text": [
      "must be str, not NoneType\n"
     ]
    },
    {
     "name": "stderr",
     "output_type": "stream",
     "text": [
      "127.0.0.1 - - [25/May/2018 07:02:20] \"GET /chatbot?data=I+am+not+jc HTTP/1.1\" 200 -\n",
      "172.17.0.1 - - [25/May/2018 07:02:53] \"GET /chatbot HTTP/1.1\" 200 -\n"
     ]
    },
    {
     "name": "stdout",
     "output_type": "stream",
     "text": [
      "must be str, not NoneType\n"
     ]
    },
    {
     "name": "stderr",
     "output_type": "stream",
     "text": [
      "172.17.0.1 - - [25/May/2018 07:02:53] \"GET /favicon.ico HTTP/1.1\" 404 -\n",
      "172.17.0.1 - - [25/May/2018 07:03:21] \"GET /chatbot&data=notjc HTTP/1.1\" 404 -\n",
      "172.17.0.1 - - [25/May/2018 07:03:40] \"GET /chatbot?data=notjc HTTP/1.1\" 200 -\n",
      "172.17.0.1 - - [25/May/2018 07:03:40] \"GET /chatbot HTTP/1.1\" 200 -\n"
     ]
    },
    {
     "name": "stdout",
     "output_type": "stream",
     "text": [
      "must be str, not NoneType\n"
     ]
    },
    {
     "name": "stderr",
     "output_type": "stream",
     "text": [
      "172.17.0.1 - - [25/May/2018 07:03:52] \"GET /chatbot?data=notjc HTTP/1.1\" 200 -\n",
      "127.0.0.1 - - [25/May/2018 07:07:27] \"GET /chatbot?data=nihaoma HTTP/1.1\" 200 -\n",
      "127.0.0.1 - - [25/May/2018 07:07:53] \"GET /chatbot?data=nihaoma HTTP/1.1\" 200 -\n",
      "127.0.0.1 - - [25/May/2018 07:08:03] \"GET /chatbot?data=nijinchishenme HTTP/1.1\" 200 -\n"
     ]
    }
   ],
   "source": [
    "app.run(host='0.0.0.0', port='8889')"
   ]
  },
  {
   "cell_type": "code",
   "execution_count": null,
   "metadata": {
    "collapsed": true
   },
   "outputs": [],
   "source": [
    "class Node:\n",
    "    def __init__(self, node_name):\n",
    "        self.name = node_name\n",
    "        \n",
    "    def"
   ]
  }
 ],
 "metadata": {
  "kernelspec": {
   "display_name": "Python 3",
   "language": "python",
   "name": "python3"
  },
  "language_info": {
   "codemirror_mode": {
    "name": "ipython",
    "version": 3
   },
   "file_extension": ".py",
   "mimetype": "text/x-python",
   "name": "python",
   "nbconvert_exporter": "python",
   "pygments_lexer": "ipython3",
   "version": "3.6.3"
  },
  "varInspector": {
   "cols": {
    "lenName": 16,
    "lenType": 16,
    "lenVar": 40
   },
   "kernels_config": {
    "python": {
     "delete_cmd_postfix": "",
     "delete_cmd_prefix": "del ",
     "library": "var_list.py",
     "varRefreshCmd": "print(var_dic_list())"
    },
    "r": {
     "delete_cmd_postfix": ") ",
     "delete_cmd_prefix": "rm(",
     "library": "var_list.r",
     "varRefreshCmd": "cat(var_dic_list()) "
    }
   },
   "types_to_exclude": [
    "module",
    "function",
    "builtin_function_or_method",
    "instance",
    "_Feature"
   ],
   "window_display": false
  }
 },
 "nbformat": 4,
 "nbformat_minor": 2
}
