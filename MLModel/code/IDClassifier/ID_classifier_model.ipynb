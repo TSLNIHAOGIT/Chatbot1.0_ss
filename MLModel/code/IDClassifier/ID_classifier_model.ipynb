{
 "cells": [
  {
   "cell_type": "code",
   "execution_count": 1,
   "metadata": {
    "ExecuteTime": {
     "end_time": "2018-06-13T18:33:14.531009Z",
     "start_time": "2018-06-13T18:33:14.208681Z"
    },
    "collapsed": true
   },
   "outputs": [],
   "source": [
    "#encoding=utf-8\n",
    "import pandas as pd\n",
    "import numpy as np\n",
    "from sklearn.feature_extraction.text import CountVectorizer, TfidfVectorizer, TfidfTransformer"
   ]
  },
  {
   "cell_type": "markdown",
   "metadata": {},
   "source": [
    "# get tfidf"
   ]
  },
  {
   "cell_type": "code",
   "execution_count": 2,
   "metadata": {
    "ExecuteTime": {
     "end_time": "2018-06-13T18:33:16.816977Z",
     "start_time": "2018-06-13T18:33:16.790038Z"
    },
    "scrolled": true
   },
   "outputs": [
    {
     "name": "stdout",
     "output_type": "stream",
     "text": [
      "(4575, 2)\n"
     ]
    },
    {
     "data": {
      "text/html": [
       "<div>\n",
       "<style>\n",
       "    .dataframe thead tr:only-child th {\n",
       "        text-align: right;\n",
       "    }\n",
       "\n",
       "    .dataframe thead th {\n",
       "        text-align: left;\n",
       "    }\n",
       "\n",
       "    .dataframe tbody tr th {\n",
       "        vertical-align: top;\n",
       "    }\n",
       "</style>\n",
       "<table border=\"1\" class=\"dataframe\">\n",
       "  <thead>\n",
       "    <tr style=\"text-align: right;\">\n",
       "      <th></th>\n",
       "      <th>label</th>\n",
       "      <th>split_text</th>\n",
       "    </tr>\n",
       "  </thead>\n",
       "  <tbody>\n",
       "    <tr>\n",
       "      <th>0</th>\n",
       "      <td>2</td>\n",
       "      <td>啊 ？ 你 说 啥子</td>\n",
       "    </tr>\n",
       "    <tr>\n",
       "      <th>1</th>\n",
       "      <td>0</td>\n",
       "      <td>是   哈萨克斯坦</td>\n",
       "    </tr>\n",
       "    <tr>\n",
       "      <th>2</th>\n",
       "      <td>1</td>\n",
       "      <td>你 有 错 的 人</td>\n",
       "    </tr>\n",
       "    <tr>\n",
       "      <th>3</th>\n",
       "      <td>2</td>\n",
       "      <td>不要 打扰 打 这个 电话 。</td>\n",
       "    </tr>\n",
       "    <tr>\n",
       "      <th>4</th>\n",
       "      <td>0</td>\n",
       "      <td>我 在 做 什么 ？</td>\n",
       "    </tr>\n",
       "    <tr>\n",
       "      <th>5</th>\n",
       "      <td>2</td>\n",
       "      <td>你 的 大脑 生病 了</td>\n",
       "    </tr>\n",
       "    <tr>\n",
       "      <th>6</th>\n",
       "      <td>0</td>\n",
       "      <td>等 一下 回到 你 身边</td>\n",
       "    </tr>\n",
       "    <tr>\n",
       "      <th>7</th>\n",
       "      <td>1</td>\n",
       "      <td>这 是 你 的 祖父</td>\n",
       "    </tr>\n",
       "    <tr>\n",
       "      <th>8</th>\n",
       "      <td>2</td>\n",
       "      <td>没有 听 清楚</td>\n",
       "    </tr>\n",
       "    <tr>\n",
       "      <th>9</th>\n",
       "      <td>2</td>\n",
       "      <td>天气 好</td>\n",
       "    </tr>\n",
       "  </tbody>\n",
       "</table>\n",
       "</div>"
      ],
      "text/plain": [
       "   label       split_text\n",
       "0      2       啊 ？ 你 说 啥子\n",
       "1      0        是   哈萨克斯坦\n",
       "2      1        你 有 错 的 人\n",
       "3      2  不要 打扰 打 这个 电话 。\n",
       "4      0       我 在 做 什么 ？\n",
       "5      2      你 的 大脑 生病 了\n",
       "6      0     等 一下 回到 你 身边\n",
       "7      1       这 是 你 的 祖父\n",
       "8      2          没有 听 清楚\n",
       "9      2             天气 好"
      ]
     },
     "execution_count": 2,
     "metadata": {},
     "output_type": "execute_result"
    }
   ],
   "source": [
    "# path = '/home/kai/data/jiangning/Chatbot_1/Chatbot1.0/data/'\n",
    "path = '../../data/IDClassifier/'\n",
    "data = pd.read_csv(path + 'cleaned_mock_up_data.csv', encoding='utf8')\n",
    "print(data.shape)\n",
    "data.head(10)"
   ]
  },
  {
   "cell_type": "code",
   "execution_count": 3,
   "metadata": {
    "ExecuteTime": {
     "end_time": "2018-06-13T18:33:25.749193Z",
     "start_time": "2018-06-13T18:33:25.743571Z"
    },
    "collapsed": true
   },
   "outputs": [],
   "source": [
    "# phrase_vectorizer1 = TfidfVectorizer(ngram_range=(1,3),\n",
    "#                                     strip_accents='unicode', \n",
    "#                                     max_features=100000, \n",
    "#                                     analyzer='word',\n",
    "#                                     sublinear_tf=True,\n",
    "#                                     token_pattern=r'\\w{1,}')\n",
    "# data.split_text.iloc[:2]\n",
    "# dd = ['I like apple do you like it', 'I do not like banana']\n",
    "# phrase_vectorizer1.fit(dd)\n",
    "\n",
    "# print('transform phrase')\n",
    "# phrase = phrase_vectorizer1.transform(dd)\n"
   ]
  },
  {
   "cell_type": "code",
   "execution_count": 4,
   "metadata": {
    "ExecuteTime": {
     "end_time": "2018-06-13T18:33:26.793220Z",
     "start_time": "2018-06-13T18:33:26.788336Z"
    }
   },
   "outputs": [
    {
     "data": {
      "text/plain": [
       "'是   哈萨克斯坦'"
      ]
     },
     "execution_count": 4,
     "metadata": {},
     "output_type": "execute_result"
    }
   ],
   "source": [
    "data.split_text.iloc[1]"
   ]
  },
  {
   "cell_type": "code",
   "execution_count": 5,
   "metadata": {
    "ExecuteTime": {
     "end_time": "2018-06-13T18:33:29.953044Z",
     "start_time": "2018-06-13T18:33:29.950196Z"
    },
    "collapsed": true
   },
   "outputs": [],
   "source": [
    "# phrase_vectorizer1.vocabulary_"
   ]
  },
  {
   "cell_type": "code",
   "execution_count": 6,
   "metadata": {
    "ExecuteTime": {
     "end_time": "2018-06-13T18:33:35.649534Z",
     "start_time": "2018-06-13T18:33:35.550451Z"
    }
   },
   "outputs": [
    {
     "name": "stdout",
     "output_type": "stream",
     "text": [
      "fitting phrase\n",
      "transform phrase\n"
     ]
    },
    {
     "data": {
      "text/plain": [
       "<4575x7659 sparse matrix of type '<class 'numpy.float64'>'\n",
       "\twith 36875 stored elements in Compressed Sparse Row format>"
      ]
     },
     "execution_count": 6,
     "metadata": {},
     "output_type": "execute_result"
    }
   ],
   "source": [
    "phrase_vectorizer = TfidfVectorizer(ngram_range=(1,3),\n",
    "                                    strip_accents='unicode', \n",
    "                                    max_features=100000, \n",
    "                                    analyzer='word',\n",
    "                                    sublinear_tf=True,\n",
    "                                    token_pattern=r'\\w{1,}')\n",
    "\n",
    "print('fitting phrase')\n",
    "phrase_vectorizer.fit(data.split_text)\n",
    "\n",
    "print('transform phrase')\n",
    "phrase = phrase_vectorizer.transform(data.split_text)\n",
    "\n",
    "phrase"
   ]
  },
  {
   "cell_type": "markdown",
   "metadata": {},
   "source": [
    "# SVC"
   ]
  },
  {
   "cell_type": "code",
   "execution_count": 7,
   "metadata": {
    "ExecuteTime": {
     "end_time": "2018-06-13T18:33:37.687730Z",
     "start_time": "2018-06-13T18:33:37.522884Z"
    }
   },
   "outputs": [
    {
     "name": "stdout",
     "output_type": "stream",
     "text": [
      "0.939672131148\n"
     ]
    }
   ],
   "source": [
    "from sklearn.calibration import CalibratedClassifierCV\n",
    "from sklearn.svm import LinearSVC\n",
    "\n",
    "l_svc = LinearSVC()\n",
    "clf = CalibratedClassifierCV(l_svc) \n",
    "clf.fit(phrase, data.label)\n",
    "print(clf.score(phrase, data.label))"
   ]
  },
  {
   "cell_type": "code",
   "execution_count": 8,
   "metadata": {
    "ExecuteTime": {
     "end_time": "2018-06-13T18:33:38.401543Z",
     "start_time": "2018-06-13T18:33:38.391015Z"
    }
   },
   "outputs": [
    {
     "name": "stdout",
     "output_type": "stream",
     "text": [
      "[2 0 1 ..., 0 1 0]\n"
     ]
    }
   ],
   "source": [
    "print(clf.predict(phrase))"
   ]
  },
  {
   "cell_type": "markdown",
   "metadata": {},
   "source": [
    "# logistic"
   ]
  },
  {
   "cell_type": "code",
   "execution_count": 9,
   "metadata": {
    "ExecuteTime": {
     "end_time": "2018-06-13T18:33:39.376303Z",
     "start_time": "2018-06-13T18:33:39.373039Z"
    },
    "collapsed": true
   },
   "outputs": [],
   "source": [
    "from sklearn.linear_model import LogisticRegression"
   ]
  },
  {
   "cell_type": "code",
   "execution_count": 10,
   "metadata": {
    "ExecuteTime": {
     "end_time": "2018-06-13T18:33:39.860742Z",
     "start_time": "2018-06-13T18:33:39.811881Z"
    }
   },
   "outputs": [
    {
     "name": "stdout",
     "output_type": "stream",
     "text": [
      "0.91737704918\n"
     ]
    }
   ],
   "source": [
    "log_r = LogisticRegression()\n",
    "log_r.fit(phrase, data.label)\n",
    "print(log_r.score(phrase, data.label))"
   ]
  },
  {
   "cell_type": "code",
   "execution_count": 11,
   "metadata": {
    "ExecuteTime": {
     "end_time": "2018-06-13T18:33:42.424894Z",
     "start_time": "2018-06-13T18:33:42.419745Z"
    }
   },
   "outputs": [
    {
     "name": "stdout",
     "output_type": "stream",
     "text": [
      "[2 0 1 ..., 0 1 0]\n"
     ]
    }
   ],
   "source": [
    "print(log_r.predict(phrase))"
   ]
  },
  {
   "cell_type": "code",
   "execution_count": 12,
   "metadata": {
    "ExecuteTime": {
     "end_time": "2018-06-13T18:33:43.438794Z",
     "start_time": "2018-06-13T18:33:43.435901Z"
    },
    "collapsed": true
   },
   "outputs": [],
   "source": [
    "# l_svc.predict(phrase)-log_r.predict(phrase)"
   ]
  },
  {
   "cell_type": "markdown",
   "metadata": {},
   "source": [
    "# lightGBM"
   ]
  },
  {
   "cell_type": "code",
   "execution_count": 13,
   "metadata": {
    "ExecuteTime": {
     "end_time": "2018-06-13T18:33:44.554251Z",
     "start_time": "2018-06-13T18:33:44.541743Z"
    },
    "collapsed": true
   },
   "outputs": [],
   "source": [
    "import lightgbm as lgb"
   ]
  },
  {
   "cell_type": "code",
   "execution_count": 14,
   "metadata": {
    "ExecuteTime": {
     "end_time": "2018-06-13T18:33:45.022875Z",
     "start_time": "2018-06-13T18:33:45.017169Z"
    },
    "collapsed": true
   },
   "outputs": [],
   "source": [
    "from sklearn import preprocessing\n",
    "le = preprocessing.LabelEncoder()\n",
    "le.fit(data.label.values)\n",
    "onelabels = le.transform(data.label.values)"
   ]
  },
  {
   "cell_type": "code",
   "execution_count": 15,
   "metadata": {
    "ExecuteTime": {
     "end_time": "2018-06-13T18:33:45.529263Z",
     "start_time": "2018-06-13T18:33:45.524449Z"
    }
   },
   "outputs": [
    {
     "data": {
      "text/plain": [
       "array([2, 0, 1, ..., 0, 1, 0])"
      ]
     },
     "execution_count": 15,
     "metadata": {},
     "output_type": "execute_result"
    }
   ],
   "source": [
    "onelabels"
   ]
  },
  {
   "cell_type": "code",
   "execution_count": 16,
   "metadata": {
    "ExecuteTime": {
     "end_time": "2018-06-13T18:33:46.369515Z",
     "start_time": "2018-06-13T18:33:46.362693Z"
    },
    "collapsed": true
   },
   "outputs": [],
   "source": [
    "from sklearn.preprocessing import MultiLabelBinarizer\n",
    "multicoder = MultiLabelBinarizer()\n",
    "lables = multicoder.fit_transform([data.label.values])"
   ]
  },
  {
   "cell_type": "code",
   "execution_count": 17,
   "metadata": {
    "ExecuteTime": {
     "end_time": "2018-06-13T18:33:47.280817Z",
     "start_time": "2018-06-13T18:33:47.276153Z"
    }
   },
   "outputs": [
    {
     "data": {
      "text/plain": [
       "array([[1, 1, 1]])"
      ]
     },
     "execution_count": 17,
     "metadata": {},
     "output_type": "execute_result"
    }
   ],
   "source": [
    "lables"
   ]
  },
  {
   "cell_type": "code",
   "execution_count": 18,
   "metadata": {
    "ExecuteTime": {
     "end_time": "2018-06-13T18:33:48.059359Z",
     "start_time": "2018-06-13T18:33:48.054482Z"
    }
   },
   "outputs": [
    {
     "data": {
      "text/plain": [
       "array([2, 0, 1, ..., 0, 1, 0])"
      ]
     },
     "execution_count": 18,
     "metadata": {},
     "output_type": "execute_result"
    }
   ],
   "source": [
    "data.label.values"
   ]
  },
  {
   "cell_type": "code",
   "execution_count": 19,
   "metadata": {
    "ExecuteTime": {
     "end_time": "2018-06-13T18:33:49.176947Z",
     "start_time": "2018-06-13T18:33:49.174034Z"
    },
    "collapsed": true
   },
   "outputs": [],
   "source": [
    "# lables.todense()"
   ]
  },
  {
   "cell_type": "code",
   "execution_count": 20,
   "metadata": {
    "ExecuteTime": {
     "end_time": "2018-06-13T18:33:52.346496Z",
     "start_time": "2018-06-13T18:33:51.439382Z"
    }
   },
   "outputs": [
    {
     "name": "stderr",
     "output_type": "stream",
     "text": [
      "/home/kai/anaconda3/lib/python3.6/site-packages/lightgbm/engine.py:99: UserWarning: Found `num_iterations` in params. Will use it instead of argument\n",
      "  warnings.warn(\"Found `{}` in params. Will use it instead of argument\".format(alias))\n",
      "/home/kai/anaconda3/lib/python3.6/site-packages/lightgbm/engine.py:104: UserWarning: Found `early_stopping_round` in params. Will use it instead of argument\n",
      "  warnings.warn(\"Found `{}` in params. Will use it instead of argument\".format(alias))\n"
     ]
    },
    {
     "name": "stdout",
     "output_type": "stream",
     "text": [
      "Training until validation scores don't improve for 200 rounds.\n",
      "[5]\tvalid_0's multi_error: 0.215519\n",
      "[10]\tvalid_0's multi_error: 0.203497\n",
      "[15]\tvalid_0's multi_error: 0.195191\n",
      "[20]\tvalid_0's multi_error: 0.183825\n",
      "[25]\tvalid_0's multi_error: 0.174426\n",
      "[30]\tvalid_0's multi_error: 0.170055\n",
      "[35]\tvalid_0's multi_error: 0.162842\n",
      "[40]\tvalid_0's multi_error: 0.158689\n",
      "[45]\tvalid_0's multi_error: 0.153005\n",
      "[50]\tvalid_0's multi_error: 0.151257\n",
      "[55]\tvalid_0's multi_error: 0.147322\n",
      "[60]\tvalid_0's multi_error: 0.146667\n",
      "[65]\tvalid_0's multi_error: 0.144699\n",
      "[70]\tvalid_0's multi_error: 0.142951\n",
      "[75]\tvalid_0's multi_error: 0.141421\n",
      "[80]\tvalid_0's multi_error: 0.140984\n",
      "[85]\tvalid_0's multi_error: 0.139016\n",
      "[90]\tvalid_0's multi_error: 0.138798\n",
      "[95]\tvalid_0's multi_error: 0.137049\n",
      "[100]\tvalid_0's multi_error: 0.135956\n",
      "[105]\tvalid_0's multi_error: 0.135738\n",
      "[110]\tvalid_0's multi_error: 0.135519\n",
      "[115]\tvalid_0's multi_error: 0.135738\n",
      "[120]\tvalid_0's multi_error: 0.135301\n",
      "[125]\tvalid_0's multi_error: 0.135082\n",
      "[130]\tvalid_0's multi_error: 0.134863\n",
      "[135]\tvalid_0's multi_error: 0.134426\n",
      "[140]\tvalid_0's multi_error: 0.134645\n",
      "[145]\tvalid_0's multi_error: 0.133989\n",
      "[150]\tvalid_0's multi_error: 0.133333\n",
      "[155]\tvalid_0's multi_error: 0.132678\n",
      "[160]\tvalid_0's multi_error: 0.132459\n",
      "[165]\tvalid_0's multi_error: 0.13224\n",
      "[170]\tvalid_0's multi_error: 0.13224\n",
      "[175]\tvalid_0's multi_error: 0.131803\n",
      "[180]\tvalid_0's multi_error: 0.132022\n",
      "[185]\tvalid_0's multi_error: 0.131148\n",
      "[190]\tvalid_0's multi_error: 0.131148\n",
      "[195]\tvalid_0's multi_error: 0.131148\n",
      "[200]\tvalid_0's multi_error: 0.131148\n",
      "[205]\tvalid_0's multi_error: 0.130929\n",
      "[210]\tvalid_0's multi_error: 0.130929\n",
      "[215]\tvalid_0's multi_error: 0.130929\n",
      "[220]\tvalid_0's multi_error: 0.130929\n",
      "[225]\tvalid_0's multi_error: 0.130929\n",
      "[230]\tvalid_0's multi_error: 0.130929\n",
      "[235]\tvalid_0's multi_error: 0.130929\n",
      "[240]\tvalid_0's multi_error: 0.130929\n",
      "[245]\tvalid_0's multi_error: 0.130929\n",
      "[250]\tvalid_0's multi_error: 0.130929\n",
      "[255]\tvalid_0's multi_error: 0.130929\n",
      "[260]\tvalid_0's multi_error: 0.13071\n",
      "[265]\tvalid_0's multi_error: 0.130492\n",
      "[270]\tvalid_0's multi_error: 0.130273\n",
      "[275]\tvalid_0's multi_error: 0.130492\n",
      "[280]\tvalid_0's multi_error: 0.130492\n",
      "[285]\tvalid_0's multi_error: 0.130492\n",
      "[290]\tvalid_0's multi_error: 0.130492\n",
      "[295]\tvalid_0's multi_error: 0.130492\n",
      "[300]\tvalid_0's multi_error: 0.130492\n",
      "[305]\tvalid_0's multi_error: 0.130492\n",
      "[310]\tvalid_0's multi_error: 0.130492\n",
      "[315]\tvalid_0's multi_error: 0.130492\n",
      "[320]\tvalid_0's multi_error: 0.130492\n",
      "[325]\tvalid_0's multi_error: 0.130492\n",
      "[330]\tvalid_0's multi_error: 0.130492\n",
      "[335]\tvalid_0's multi_error: 0.130492\n",
      "[340]\tvalid_0's multi_error: 0.130492\n",
      "[345]\tvalid_0's multi_error: 0.130492\n",
      "[350]\tvalid_0's multi_error: 0.130492\n",
      "[355]\tvalid_0's multi_error: 0.130492\n",
      "[360]\tvalid_0's multi_error: 0.130492\n",
      "[365]\tvalid_0's multi_error: 0.130492\n",
      "[370]\tvalid_0's multi_error: 0.130492\n",
      "[375]\tvalid_0's multi_error: 0.130492\n",
      "[380]\tvalid_0's multi_error: 0.130492\n",
      "[385]\tvalid_0's multi_error: 0.130492\n",
      "[390]\tvalid_0's multi_error: 0.130492\n",
      "[395]\tvalid_0's multi_error: 0.130492\n",
      "[400]\tvalid_0's multi_error: 0.130492\n",
      "[405]\tvalid_0's multi_error: 0.130492\n",
      "[410]\tvalid_0's multi_error: 0.130492\n",
      "[415]\tvalid_0's multi_error: 0.130492\n",
      "[420]\tvalid_0's multi_error: 0.130492\n",
      "[425]\tvalid_0's multi_error: 0.130492\n",
      "[430]\tvalid_0's multi_error: 0.130492\n",
      "[435]\tvalid_0's multi_error: 0.130492\n",
      "[440]\tvalid_0's multi_error: 0.130492\n",
      "[445]\tvalid_0's multi_error: 0.130492\n",
      "[450]\tvalid_0's multi_error: 0.130492\n",
      "[455]\tvalid_0's multi_error: 0.130492\n",
      "[460]\tvalid_0's multi_error: 0.130492\n",
      "[465]\tvalid_0's multi_error: 0.130492\n",
      "Early stopping, best iteration is:\n",
      "[266]\tvalid_0's multi_error: 0.130273\n"
     ]
    }
   ],
   "source": [
    "params = {\n",
    "    'learning_rate': 0.2,\n",
    "    'num_iterations':1000,\n",
    "    'application': 'multiclassova',\n",
    "    'num_class': 3,\n",
    "    'num_leaves': 31,\n",
    "    'verbosity': -1,\n",
    "    'metric': 'multi_error',\n",
    "    'data_random_seed': 2,\n",
    "#     'bagging_fraction': 0.8,\n",
    "#     'feature_fraction': 0.6,\n",
    "    'nthread': 4,\n",
    "    'lambda_l1': 1,\n",
    "    'lambda_l2': 1,\n",
    "    'early_stopping_round':200\n",
    "} \n",
    "\n",
    "# lgbm_train = lgb.Dataset(phrase, data.label)\n",
    "lgbm_train = lgb.Dataset(phrase, onelabels)\n",
    "lgbm_val = lgb.Dataset(phrase, onelabels)\n",
    "lgbm_model = lgb.train(params,lgbm_train,valid_sets=lgbm_val, verbose_eval=5)"
   ]
  },
  {
   "cell_type": "code",
   "execution_count": 21,
   "metadata": {
    "ExecuteTime": {
     "end_time": "2018-06-13T18:33:56.429358Z",
     "start_time": "2018-06-13T18:33:56.354125Z"
    }
   },
   "outputs": [
    {
     "name": "stdout",
     "output_type": "stream",
     "text": [
      "[[ 0.02887649  0.0016278   0.96811748]\n",
      " [ 0.96606695  0.01852371  0.0051752 ]\n",
      " [ 0.00201729  0.98810065  0.02103302]\n",
      " ..., \n",
      " [ 0.99878825  0.00301458  0.00181814]\n",
      " [ 0.00277956  0.99492175  0.00271279]\n",
      " [ 0.98699805  0.02386025  0.02089204]]\n"
     ]
    }
   ],
   "source": [
    "print(lgbm_model.predict(phrase))"
   ]
  },
  {
   "cell_type": "code",
   "execution_count": 22,
   "metadata": {
    "ExecuteTime": {
     "end_time": "2018-06-13T18:33:57.262948Z",
     "start_time": "2018-06-13T18:33:57.260112Z"
    },
    "collapsed": true
   },
   "outputs": [],
   "source": [
    "# lgbm_model.predict(phrase)"
   ]
  },
  {
   "cell_type": "code",
   "execution_count": 23,
   "metadata": {
    "ExecuteTime": {
     "end_time": "2018-06-13T18:33:57.720018Z",
     "start_time": "2018-06-13T18:33:57.715270Z"
    }
   },
   "outputs": [
    {
     "data": {
      "text/plain": [
       "<4575x7659 sparse matrix of type '<class 'numpy.float64'>'\n",
       "\twith 36875 stored elements in Compressed Sparse Row format>"
      ]
     },
     "execution_count": 23,
     "metadata": {},
     "output_type": "execute_result"
    }
   ],
   "source": [
    "phrase"
   ]
  },
  {
   "cell_type": "markdown",
   "metadata": {},
   "source": [
    "# Save"
   ]
  },
  {
   "cell_type": "code",
   "execution_count": 24,
   "metadata": {
    "ExecuteTime": {
     "end_time": "2018-06-13T18:34:00.051622Z",
     "start_time": "2018-06-13T18:33:59.973373Z"
    },
    "collapsed": true
   },
   "outputs": [],
   "source": [
    "import pickle\n",
    "\n",
    "# save tfidf\n",
    "pickle.dump(phrase_vectorizer, open(\"../../savedModel/IDClassifier/tfidf.pickle\", \"wb\"))\n",
    "# pickle.dump(train_comment_features, open(\"train_comment_features.pickle\", \"wb\"))\n",
    "# pickle.dump(test_comment_features, open(\"test_comment_features.pickle\", \"wb\"))\n",
    "\n",
    "# save linear svc\n",
    "pickle.dump(clf, open(\"../../savedModel/IDClassifier/LinearSVC.pickle\", \"wb\"))\n",
    "# save logistic\n",
    "pickle.dump(log_r, open(\"../../savedModel/IDClassifier/Logistic.pickle\", \"wb\"))\n",
    "# save lightGBM\n",
    "pickle.dump(lgbm_model, open(\"../../savedModel/IDClassifier/Lgbm.pickle\", \"wb\"))"
   ]
  },
  {
   "cell_type": "code",
   "execution_count": 25,
   "metadata": {
    "ExecuteTime": {
     "end_time": "2018-06-13T18:34:00.949830Z",
     "start_time": "2018-06-13T18:34:00.946853Z"
    },
    "collapsed": true
   },
   "outputs": [],
   "source": [
    "# pickle.load(open(\"../../savedModel/IDClassifier/Lgbm.pickle\", 'rb'))"
   ]
  },
  {
   "cell_type": "markdown",
   "metadata": {},
   "source": [
    "# test"
   ]
  },
  {
   "cell_type": "code",
   "execution_count": 37,
   "metadata": {
    "ExecuteTime": {
     "end_time": "2018-06-13T18:34:45.150861Z",
     "start_time": "2018-06-13T18:34:45.146068Z"
    },
    "collapsed": true
   },
   "outputs": [],
   "source": [
    "test = phrase_vectorizer.transform(['是 呀'])\n",
    "# test = phrase_vectorizer.transform(['我 在 洗澡'])\n"
   ]
  },
  {
   "cell_type": "code",
   "execution_count": 38,
   "metadata": {
    "ExecuteTime": {
     "end_time": "2018-06-13T18:34:45.541597Z",
     "start_time": "2018-06-13T18:34:45.536043Z"
    }
   },
   "outputs": [
    {
     "data": {
      "text/plain": [
       "<1x7659 sparse matrix of type '<class 'numpy.float64'>'\n",
       "\twith 3 stored elements in Compressed Sparse Row format>"
      ]
     },
     "execution_count": 38,
     "metadata": {},
     "output_type": "execute_result"
    }
   ],
   "source": [
    "test"
   ]
  },
  {
   "cell_type": "code",
   "execution_count": 39,
   "metadata": {
    "ExecuteTime": {
     "end_time": "2018-06-13T18:34:45.857423Z",
     "start_time": "2018-06-13T18:34:45.851066Z"
    }
   },
   "outputs": [
    {
     "data": {
      "text/plain": [
       "array([[ 0.86230754,  0.06565965,  0.0720328 ]])"
      ]
     },
     "execution_count": 39,
     "metadata": {},
     "output_type": "execute_result"
    }
   ],
   "source": [
    "clf.predict_proba(test) # linear svc"
   ]
  },
  {
   "cell_type": "code",
   "execution_count": 40,
   "metadata": {
    "ExecuteTime": {
     "end_time": "2018-06-13T18:34:46.289719Z",
     "start_time": "2018-06-13T18:34:46.283938Z"
    }
   },
   "outputs": [
    {
     "data": {
      "text/plain": [
       "array([[ 0.65950004,  0.15774823,  0.18275174]])"
      ]
     },
     "execution_count": 40,
     "metadata": {},
     "output_type": "execute_result"
    }
   ],
   "source": [
    "log_r.predict_proba(test) # logistic"
   ]
  },
  {
   "cell_type": "code",
   "execution_count": 41,
   "metadata": {
    "ExecuteTime": {
     "end_time": "2018-06-13T18:34:46.678751Z",
     "start_time": "2018-06-13T18:34:46.673064Z"
    }
   },
   "outputs": [
    {
     "data": {
      "text/plain": [
       "array([[ 0.96606695,  0.01852371,  0.0051752 ]])"
      ]
     },
     "execution_count": 41,
     "metadata": {},
     "output_type": "execute_result"
    }
   ],
   "source": [
    "lgbm_model.predict(test) # light gbm"
   ]
  },
  {
   "cell_type": "markdown",
   "metadata": {
    "collapsed": true
   },
   "source": [
    "# labeling"
   ]
  },
  {
   "cell_type": "code",
   "execution_count": 42,
   "metadata": {
    "ExecuteTime": {
     "end_time": "2018-06-13T18:34:48.082868Z",
     "start_time": "2018-06-13T18:34:48.063914Z"
    },
    "scrolled": true
   },
   "outputs": [
    {
     "name": "stdout",
     "output_type": "stream",
     "text": [
      "label= 0\n",
      "prob= 0.966066947334\n"
     ]
    }
   ],
   "source": [
    "# basic logic: find the max probability of 3 models, if it is larger than threshold, return the corresponding label, otherwise, return 2 (others).\n",
    "result = np.vstack((clf.predict_proba(test),log_r.predict_proba(test),lgbm_model.predict(test)))\n",
    "pos = np.where(result == np.max(result))\n",
    "\n",
    "threshold = 0.7\n",
    "if np.max(result)<threshold:\n",
    "    label = 2\n",
    "else:\n",
    "    label = pos[1]\n",
    "    label = label[0]\n",
    "    \n",
    "print('label=',label)\n",
    "print('prob=',np.max(result))"
   ]
  },
  {
   "cell_type": "markdown",
   "metadata": {},
   "source": [
    "# Save the whole thing"
   ]
  },
  {
   "cell_type": "code",
   "execution_count": 43,
   "metadata": {
    "ExecuteTime": {
     "end_time": "2018-06-13T18:34:52.087708Z",
     "start_time": "2018-06-13T18:34:52.073655Z"
    },
    "code_folding": [],
    "collapsed": true
   },
   "outputs": [],
   "source": [
    "# import jieba\n",
    "# import numpy as np\n",
    "\n",
    "# class IDClassifier:\n",
    "    \n",
    "#     def __init__(self, **model):\n",
    "#         \"\"\"\n",
    "#         suggested parameters:\n",
    "#         svc, logistic, lightgbm, jieba_path,tfidf\n",
    "#         \"\"\"\n",
    "#         self._load_model(**model)\n",
    "        \n",
    "#     def _load_model(self,**model):\n",
    "#         self.svc = model.get('svc')\n",
    "#         self.logistic = model.get('logistic')\n",
    "#         self.lightgbm = model.get('lightgbm')\n",
    "#         self.tfidf = model.get('tfidf')\n",
    "#         # load jieba\n",
    "#         jieba_path = model.get('jieba_path')\n",
    "#         if jieba_path is not None:\n",
    "#             jieba.load_userdict(jieba_path)\n",
    "        \n",
    "        \n",
    "#     def classify(self, sentence):\n",
    "#         sentence = jieba.cut(sentence, cut_all = False)\n",
    "#         sentence = ' '.join(sentence)\n",
    "#         matrix = self.tfidf.transform([sentence])\n",
    "#         result = np.vstack((self.svc.predict_proba(matrix),\n",
    "#                             self.logistic.predict_proba(matrix),\n",
    "#                             self.lightgbm.predict(matrix)))\n",
    "#         max_pred = np.max(result, axis=0)\n",
    "#         max_arg = np.argmax(max_pred)\n",
    "#         threshold = 0.6\n",
    "#         if np.max(max_pred<threshold):\n",
    "#             label = 2\n",
    "#         else:\n",
    "#             label = max_arg\n",
    "#         return (label, np.max(max_pred))\n",
    "     \n",
    "        "
   ]
  },
  {
   "cell_type": "code",
   "execution_count": 45,
   "metadata": {
    "ExecuteTime": {
     "end_time": "2018-06-13T18:35:00.697827Z",
     "start_time": "2018-06-13T18:35:00.671321Z"
    }
   },
   "outputs": [],
   "source": [
    "%load_ext autoreload\n",
    "%autoreload 2"
   ]
  },
  {
   "cell_type": "code",
   "execution_count": 46,
   "metadata": {
    "ExecuteTime": {
     "end_time": "2018-06-13T18:35:05.278889Z",
     "start_time": "2018-06-13T18:35:04.722175Z"
    }
   },
   "outputs": [
    {
     "name": "stderr",
     "output_type": "stream",
     "text": [
      "Building prefix dict from the default dictionary ...\n",
      "Loading model from cache /tmp/jieba.cache\n",
      "Loading model cost 0.455 seconds.\n",
      "Prefix dict has been built succesfully.\n"
     ]
    }
   ],
   "source": [
    "from IDClassifier_py import IDClassifier\n",
    "idc = IDClassifier(svc=clf, logistic=log_r, lightgbm=lgbm_model, tfidf=phrase_vectorizer, jieba_path='../WordCut/userdict.txt')\n",
    "\n",
    "pickle.dump(idc, open(\"../../savedModel/IDClassifier/IDClassifier.pickle\", \"wb\"))"
   ]
  },
  {
   "cell_type": "code",
   "execution_count": 47,
   "metadata": {
    "ExecuteTime": {
     "end_time": "2018-06-13T18:35:08.209269Z",
     "start_time": "2018-06-13T18:35:08.186815Z"
    },
    "collapsed": true
   },
   "outputs": [],
   "source": [
    "## when apply, need to import sys path of the .py file, then load pkl file "
   ]
  },
  {
   "cell_type": "code",
   "execution_count": null,
   "metadata": {
    "collapsed": true
   },
   "outputs": [],
   "source": []
  }
 ],
 "metadata": {
  "kernelspec": {
   "display_name": "Python 3",
   "language": "python",
   "name": "python3"
  },
  "language_info": {
   "codemirror_mode": {
    "name": "ipython",
    "version": 3
   },
   "file_extension": ".py",
   "mimetype": "text/x-python",
   "name": "python",
   "nbconvert_exporter": "python",
   "pygments_lexer": "ipython3",
   "version": "3.6.3"
  },
  "varInspector": {
   "cols": {
    "lenName": 16,
    "lenType": 16,
    "lenVar": 40
   },
   "kernels_config": {
    "python": {
     "delete_cmd_postfix": "",
     "delete_cmd_prefix": "del ",
     "library": "var_list.py",
     "varRefreshCmd": "print(var_dic_list())"
    },
    "r": {
     "delete_cmd_postfix": ") ",
     "delete_cmd_prefix": "rm(",
     "library": "var_list.r",
     "varRefreshCmd": "cat(var_dic_list()) "
    }
   },
   "types_to_exclude": [
    "module",
    "function",
    "builtin_function_or_method",
    "instance",
    "_Feature"
   ],
   "window_display": false
  }
 },
 "nbformat": 4,
 "nbformat_minor": 2
}
