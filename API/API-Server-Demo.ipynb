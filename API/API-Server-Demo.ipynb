{
 "cells": [
  {
   "cell_type": "code",
   "execution_count": 154,
   "metadata": {
    "ExecuteTime": {
     "end_time": "2018-05-29T04:28:09.959905Z",
     "start_time": "2018-05-29T04:28:09.945766Z"
    },
    "collapsed": true
   },
   "outputs": [],
   "source": [
    "from flask import Flask, request\n",
    "from flask_restful import Resource, Api\n",
    "from json import dumps\n",
    "# from flask.ext.jsonpify import jsonify\n",
    "from flask_jsonpify import jsonify\n",
    "import pandas as pd\n",
    "import numpy as np"
   ]
  },
  {
   "cell_type": "code",
   "execution_count": 155,
   "metadata": {
    "ExecuteTime": {
     "end_time": "2018-05-29T04:28:11.924051Z",
     "start_time": "2018-05-29T04:28:11.724163Z"
    },
    "collapsed": true
   },
   "outputs": [],
   "source": [
    "app = Flask(__name__)\n",
    "api = Api(app)\n",
    "\n",
    "class ChatBot(Resource):\n",
    "    def get(self):\n",
    "        args = request.args\n",
    "        try:\n",
    "            return {'Chatbot': 'Hellow World! ' + args.get('data')}\n",
    "        except Exception as e:\n",
    "            print(e)\n",
    "            return {'Chatbot': 'Hellow World! ' }\n",
    "    \n",
    "class Cache:\n",
    "    def __init__(self):\n",
    "        self.session_pool = []\n",
    "        self.active_session = {}\n",
    "        \n",
    "    def _get_avalable_session(self):\n",
    "        print(self.session_pool)\n",
    "        available = list(set(range(1000)) - set(self.session_pool))\n",
    "        if len(available) > 0:\n",
    "            self.session_pool.append(available[0])\n",
    "#         print(available[0])\n",
    "            return available[0]\n",
    "        else: \n",
    "            return None\n",
    "        \n",
    "    def create_session(self, stage=1):\n",
    "        available = list(set(range(1000)) - set(self.session_pool))\n",
    "        if len(available) > 0:\n",
    "            sessionId = available[0]\n",
    "            self.session_pool.append(available)\n",
    "            if stage == 1:\n",
    "                self.active_session[sessionId] = TreeStage1(node_pool)\n",
    "        else:\n",
    "            sessionId = None\n",
    "        return sessionId\n",
    "            \n",
    "            \n",
    "\n",
    "    \n",
    "\n",
    "class Demo(Resource):\n",
    "    \n",
    "\n",
    "    \n",
    "    \n",
    "    def get(self):\n",
    "        args = request.args\n",
    "        try:\n",
    "            action = args.get('action')\n",
    "            print(action)\n",
    "        except Exception as e:\n",
    "            return {'message': 'No action secified', 'status':'fail'}\n",
    "        \n",
    "        if action == 'create':\n",
    "            sessionId = cache.create_session()\n",
    "#             return {'test':'1'}\n",
    "            \n",
    "            return {'sessionId':sessionId, 'status': 'succeed'} \n",
    "        else:\n",
    "            return {'message':'undefined action --- {}'.format(action)}\n",
    "            \n",
    "        \n",
    "        \n",
    "api.add_resource(ChatBot, '/chatbot')\n",
    "api.add_resource(Demo, '/demo')\n",
    "cache = Cache()"
   ]
  },
  {
   "cell_type": "markdown",
   "metadata": {},
   "source": [
    "# Define Node Tree Classifier Model"
   ]
  },
  {
   "cell_type": "code",
   "execution_count": 156,
   "metadata": {
    "ExecuteTime": {
     "end_time": "2018-05-29T04:28:17.294562Z",
     "start_time": "2018-05-29T04:28:16.578156Z"
    },
    "collapsed": true
   },
   "outputs": [],
   "source": [
    "class Node:\n",
    "    def __init__(self, node_name):\n",
    "        self.name = node_name\n",
    "        self.jump_action = False\n",
    "        print('{} is initialized'.format(node_name))\n",
    "        \n",
    "        \n",
    "    def summary(self):\n",
    "        return {'node_name': self.name, \n",
    "                'jump_action':self.jump_action, \n",
    "                'description':self.describe, \n",
    "                'class_name':self.__class__.__name__, \n",
    "                'model': self.model_name}\n",
    "    \n",
    "        \n",
    "       \n",
    "    \n",
    "        \n",
    "        \n",
    "       \n",
    "        \n",
    "###################### Node 1  #########################\n",
    "class S1_N1(Node):\n",
    "    def __init__(self):\n",
    "        super().__init__('cf_s1_n1_identity_q')\n",
    "        self.describe = 'Verify Identify'\n",
    "        self.model_name = 'Classifier 1'\n",
    "        \n",
    "\n",
    "    \n",
    "    \n",
    "\n",
    "       \n",
    "        \n",
    "        \n",
    "#######################  Node 2  #############################        \n",
    "class S1_N5(Node):\n",
    "    def __init__(self):\n",
    "        super().__init__('cf_s1_n5_ifAcquainted_q')\n",
    "        self.describe = 'Ask if know debtor'\n",
    "        self.model_name = 'Classifier 2'\n",
    "        \n",
    "        \n",
    "\n",
    "#########################  Node 3  ###########################        \n",
    "class S1_N6(Node):\n",
    "    def __init__(self):\n",
    "        super().__init__('cf_s1_n6_verifyDebt_q')\n",
    "        self.describe = 'Verify awareness of owing'\n",
    "        self.model_name = 'Classifier 3'\n",
    "\n",
    "##########################  Node 4  ##########################        \n",
    "class S1_N15(Node):\n",
    "    def __init__(self):\n",
    "        super().__init__('cf_s1_n15_verifyWill_q')\n",
    "        self.describe = 'Verify willing to pay'\n",
    "        self.model_name = 'Classifier 4'\n",
    "       \n",
    "    \n",
    "#########################  Node 5  ###########################        \n",
    "class S1_N20(Node):\n",
    "    def __init__(self):\n",
    "        super().__init__('cf_s1_n20_q4_setDue3Day')\n",
    "        self.describe = 'ask if can pay very soon'\n",
    "        self.model_name = 'Classifier 5'\n",
    "        \n",
    "#########################  Node 6  ###########################        \n",
    "class S1_N26(Node):\n",
    "    def __init__(self):\n",
    "        super().__init__('cf_s1_n26_paymentChannel_q')\n",
    "        self.describe = 'notify methods of paying'\n",
    "        self.model_name = 'Classifier 6'\n",
    "        \n",
    "        \n",
    "#########################  Node 7  ###########################        \n",
    "class S1_N25(Node):\n",
    "    def __init__(self):\n",
    "        super().__init__('cf_s1_n25_cutDebt_q')\n",
    "        self.describe = 'ask if accept less amount'\n",
    "        self.model_name = 'Classifier 7'\n",
    "        \n",
    "#########################  Node 8  ###########################        \n",
    "class S1_N32(Node):\n",
    "    def __init__(self):\n",
    "        super().__init__('cf_s1_n32_splitDebt_q')\n",
    "        self.describe = 'ask if accept installment'\n",
    "        self.model_name = 'Classifier 8'\n",
    "        \n",
    "#########################  Node 9  ###########################        \n",
    "class S1_N33(Node):\n",
    "    def __init__(self):\n",
    "        super().__init__('cf_s1_n33_setCutDebtDue_q')\n",
    "        self.describe = 'ask if can pay very soon'\n",
    "        self.model_name = 'Classifier 5'\n",
    "        \n",
    "#########################  Node 10  ###########################        \n",
    "class S1_N41(Node):\n",
    "    def __init__(self):\n",
    "        super().__init__('cf_s1_n41_setSplitDebtDue_q')\n",
    "        self.describe = 'ask if can pay very soon'\n",
    "        self.model_name = 'Classifier 5'\n",
    "        self.jump_action = True\n",
    "        \n",
    "#########################  Node 11  ###########################        \n",
    "class S1_N42(Node):\n",
    "    def __init__(self):\n",
    "        super().__init__('cf_s1_n42_paymentChannel_q')\n",
    "        self.describe = 'notify methods of paying'\n",
    "        self.model_name = 'Classifier 6'\n",
    "        \n",
    "#########################  Node 12  ###########################        \n",
    "class S1_N43(Node):\n",
    "    def __init__(self):\n",
    "        super().__init__('cf_s1_n43_nextAppointment_q')\n",
    "        self.describe = 'confirm next appointment'\n",
    "        self.model_name = 'RegularExp 1'\n",
    "        \n",
    "#########################  Node 13  ###########################        \n",
    "class S1_N50(Node):\n",
    "    def __init__(self):\n",
    "        super().__init__('cf_s1_n50_nextAppointment_q')\n",
    "        self.describe = 'confirm next appointment'\n",
    "        self.model_name = 'RegularExp 1'\n",
    "        \n",
    "#########################  Node 14  ###########################        \n",
    "class S1_N51(Node):\n",
    "    def __init__(self):\n",
    "        super().__init__('cf_s1_n51_paymentChannel_q')\n",
    "        self.describe = 'notify methods of paying'\n",
    "        self.model_name = 'Classifier 6'\n",
    "        \n",
    "########################################################################################\n",
    "# classifier\n",
    "import pickle\n",
    "\n",
    "class ClassifierBase:\n",
    "    pass\n",
    "\n",
    "class Classifier1(ClassifierBase):\n",
    "    def __init__(self, **model_path):\n",
    "        self.load_model(**model_path)\n",
    "        \n",
    "    def load_model(self,**path):\n",
    "        \n",
    "        load_path = path.get('tfidf')\n",
    "        if load_path is not None:\n",
    "            self.tfidf = pickle.load(open(load_path, 'rb'))\n",
    "            \n",
    "        load_path = path.get('svc')\n",
    "        if load_path is not None:\n",
    "            self.svc = pickle.load(open(load_path, 'rb'))\n",
    "            \n",
    "            \n",
    "    def classify(self,sentence):\n",
    "        matrix = self.tfidf.transform(sentence)\n",
    "        result = self.svc.predict_proba(matrix)\n",
    "        max_index = np.argmax(result)\n",
    "        return (np.argmax(result), np.max(result))\n",
    "    \n",
    "########################################################################################################\n",
    "########################################################################################################\n",
    "####################################################   TREE\n",
    "\n",
    "\n",
    "class TreeBase:\n",
    "    def __init__(self, node_pool, start_node='cf_s1_n1_identity_q', ):\n",
    "        self.current_node_name = start_node\n",
    "        self.node_pool = self.__get_nodePool(node_pool)\n",
    "        \n",
    "    def __get_nodePool(self, node_pool):\n",
    "        diction = {}\n",
    "        nodes_name = []\n",
    "        for node in node_pool:\n",
    "            cur = node()\n",
    "            diction[cur.name] = cur\n",
    "            nodes_name.append(cur.name)\n",
    "        self.nodes_name = nodes_name\n",
    "        return diction\n",
    "    \n",
    "class TreeStage1(TreeBase):\n",
    "    def __init__(self, node_pool, start_node='cf_s1_n1_identity_q'):\n",
    "        super().__init__(node_pool, start_node='cf_s1_n1_identity_q')\n",
    "        \n",
    "    def build_graph(self):\n",
    "        self.graph = {}\n",
    "        self.graph.update({'cf_s1_n1_identity_q': {0: 'cf_s1_n5_ifAcquainted_q', \n",
    "                                                   1: 'cf_s1_n6_verifyDebt_q', \n",
    "                                                   2:'other'}})\n",
    "        \n",
    "    def classify(self, sentence, model_dict):\n",
    "        current_node = self.node_pool[self.current_node_name]\n",
    "        model = model_dict[current_node.model_name]\n",
    "        label, confidence = model.classify(sentence)\n",
    "        return label, confidence\n",
    "            "
   ]
  },
  {
   "cell_type": "code",
   "execution_count": 157,
   "metadata": {
    "ExecuteTime": {
     "end_time": "2018-05-29T04:28:17.997187Z",
     "start_time": "2018-05-29T04:28:17.963155Z"
    }
   },
   "outputs": [
    {
     "name": "stdout",
     "output_type": "stream",
     "text": [
      "cf_s1_n1_identity_q is initialized\n",
      "cf_s1_n5_ifAcquainted_q is initialized\n",
      "cf_s1_n6_verifyDebt_q is initialized\n",
      "cf_s1_n15_verifyWill_q is initialized\n",
      "cf_s1_n20_q4_setDue3Day is initialized\n",
      "cf_s1_n26_paymentChannel_q is initialized\n",
      "cf_s1_n25_cutDebt_q is initialized\n",
      "cf_s1_n32_splitDebt_q is initialized\n",
      "cf_s1_n33_setCutDebtDue_q is initialized\n",
      "cf_s1_n41_setSplitDebtDue_q is initialized\n",
      "cf_s1_n42_paymentChannel_q is initialized\n",
      "cf_s1_n43_nextAppointment_q is initialized\n",
      "cf_s1_n50_nextAppointment_q is initialized\n",
      "cf_s1_n51_paymentChannel_q is initialized\n"
     ]
    }
   ],
   "source": [
    "c1 = Classifier1(tfidf='../MLModel/savedModel/Classifier1/tfidf.pickle',\n",
    "                 svc='../MLModel/savedModel/Classifier1/l_svc.pickle')\n",
    "\n",
    "model_dict = {'Classifier 1':c1}\n",
    "node_pool = [S1_N1, S1_N5, S1_N6, S1_N15, S1_N20, S1_N26, S1_N25, S1_N32, S1_N33, S1_N41, S1_N42, S1_N43, S1_N50, S1_N51]\n",
    "summary_list = [i().summary() for i in node_pool]\n",
    "df = pd.DataFrame(summary_list)\n",
    "            \n"
   ]
  },
  {
   "cell_type": "code",
   "execution_count": 153,
   "metadata": {
    "ExecuteTime": {
     "end_time": "2018-05-29T04:28:06.650537Z",
     "start_time": "2018-05-28T14:37:59.208789Z"
    }
   },
   "outputs": [
    {
     "name": "stderr",
     "output_type": "stream",
     "text": [
      " * Running on http://0.0.0.0:8889/ (Press CTRL+C to quit)\n",
      "172.17.0.1 - - [28/May/2018 14:38:02] \"GET /demo?action=create1 HTTP/1.1\" 200 -\n"
     ]
    },
    {
     "name": "stdout",
     "output_type": "stream",
     "text": [
      "create1\n"
     ]
    },
    {
     "name": "stderr",
     "output_type": "stream",
     "text": [
      "172.17.0.1 - - [28/May/2018 14:38:05] \"GET /demo?action=create1 HTTP/1.1\" 200 -\n"
     ]
    },
    {
     "name": "stdout",
     "output_type": "stream",
     "text": [
      "create1\n"
     ]
    }
   ],
   "source": [
    "app.run(host='0.0.0.0', port='8889')"
   ]
  },
  {
   "cell_type": "code",
   "execution_count": 158,
   "metadata": {
    "ExecuteTime": {
     "end_time": "2018-05-29T04:28:25.823506Z",
     "start_time": "2018-05-29T04:28:25.796738Z"
    }
   },
   "outputs": [
    {
     "name": "stdout",
     "output_type": "stream",
     "text": [
      "cf_s1_n1_identity_q is initialized\n",
      "cf_s1_n5_ifAcquainted_q is initialized\n",
      "cf_s1_n6_verifyDebt_q is initialized\n",
      "cf_s1_n15_verifyWill_q is initialized\n",
      "cf_s1_n20_q4_setDue3Day is initialized\n",
      "cf_s1_n26_paymentChannel_q is initialized\n",
      "cf_s1_n25_cutDebt_q is initialized\n",
      "cf_s1_n32_splitDebt_q is initialized\n",
      "cf_s1_n33_setCutDebtDue_q is initialized\n",
      "cf_s1_n41_setSplitDebtDue_q is initialized\n",
      "cf_s1_n42_paymentChannel_q is initialized\n",
      "cf_s1_n43_nextAppointment_q is initialized\n",
      "cf_s1_n50_nextAppointment_q is initialized\n",
      "cf_s1_n51_paymentChannel_q is initialized\n"
     ]
    },
    {
     "data": {
      "text/plain": [
       "(1, 0.9485615030338973)"
      ]
     },
     "execution_count": 158,
     "metadata": {},
     "output_type": "execute_result"
    }
   ],
   "source": [
    "a = TreeStage1(node_pool)\n",
    "a.classify(['不是'], model_dict)"
   ]
  },
  {
   "cell_type": "code",
   "execution_count": 95,
   "metadata": {
    "ExecuteTime": {
     "end_time": "2018-05-26T07:05:41.432046Z",
     "start_time": "2018-05-26T07:05:41.406479Z"
    }
   },
   "outputs": [
    {
     "ename": "AttributeError",
     "evalue": "'Classifier1' object has no attribute 'classify'",
     "output_type": "error",
     "traceback": [
      "\u001b[0;31m---------------------------------------------------------------------------\u001b[0m",
      "\u001b[0;31mAttributeError\u001b[0m                            Traceback (most recent call last)",
      "\u001b[0;32m<ipython-input-95-a21e2014352a>\u001b[0m in \u001b[0;36m<module>\u001b[0;34m()\u001b[0m\n\u001b[0;32m----> 1\u001b[0;31m \u001b[0mb\u001b[0m\u001b[0;34m.\u001b[0m\u001b[0mclassify\u001b[0m\u001b[0;34m(\u001b[0m\u001b[0;34m[\u001b[0m\u001b[0;34m'不是'\u001b[0m\u001b[0;34m]\u001b[0m\u001b[0;34m)\u001b[0m\u001b[0;34m\u001b[0m\u001b[0m\n\u001b[0m",
      "\u001b[0;32m<ipython-input-82-f66c84d55c3b>\u001b[0m in \u001b[0;36mclassify\u001b[0;34m(self, sentence)\u001b[0m\n\u001b[1;32m     38\u001b[0m \u001b[0;34m\u001b[0m\u001b[0m\n\u001b[1;32m     39\u001b[0m     \u001b[0;32mdef\u001b[0m \u001b[0mclassify\u001b[0m\u001b[0;34m(\u001b[0m\u001b[0mself\u001b[0m\u001b[0;34m,\u001b[0m \u001b[0msentence\u001b[0m\u001b[0;34m)\u001b[0m\u001b[0;34m:\u001b[0m\u001b[0;34m\u001b[0m\u001b[0m\n\u001b[0;32m---> 40\u001b[0;31m         \u001b[0mresult\u001b[0m \u001b[0;34m=\u001b[0m \u001b[0mself\u001b[0m\u001b[0;34m.\u001b[0m\u001b[0mmodel\u001b[0m\u001b[0;34m.\u001b[0m\u001b[0mclassify\u001b[0m\u001b[0;34m(\u001b[0m\u001b[0msentence\u001b[0m\u001b[0;34m)\u001b[0m\u001b[0;34m\u001b[0m\u001b[0m\n\u001b[0m\u001b[1;32m     41\u001b[0m         \u001b[0;32mreturn\u001b[0m \u001b[0mresult\u001b[0m\u001b[0;34m\u001b[0m\u001b[0m\n\u001b[1;32m     42\u001b[0m \u001b[0;34m\u001b[0m\u001b[0m\n",
      "\u001b[0;31mAttributeError\u001b[0m: 'Classifier1' object has no attribute 'classify'"
     ]
    }
   ],
   "source": [
    "b.classify(['不是'])"
   ]
  },
  {
   "cell_type": "code",
   "execution_count": null,
   "metadata": {
    "collapsed": true
   },
   "outputs": [],
   "source": []
  }
 ],
 "metadata": {
  "kernelspec": {
   "display_name": "Python 3",
   "language": "python",
   "name": "python3"
  },
  "language_info": {
   "codemirror_mode": {
    "name": "ipython",
    "version": 3
   },
   "file_extension": ".py",
   "mimetype": "text/x-python",
   "name": "python",
   "nbconvert_exporter": "python",
   "pygments_lexer": "ipython3",
   "version": "3.6.3"
  },
  "varInspector": {
   "cols": {
    "lenName": 16,
    "lenType": 16,
    "lenVar": 40
   },
   "kernels_config": {
    "python": {
     "delete_cmd_postfix": "",
     "delete_cmd_prefix": "del ",
     "library": "var_list.py",
     "varRefreshCmd": "print(var_dic_list())"
    },
    "r": {
     "delete_cmd_postfix": ") ",
     "delete_cmd_prefix": "rm(",
     "library": "var_list.r",
     "varRefreshCmd": "cat(var_dic_list()) "
    }
   },
   "types_to_exclude": [
    "module",
    "function",
    "builtin_function_or_method",
    "instance",
    "_Feature"
   ],
   "window_display": false
  }
 },
 "nbformat": 4,
 "nbformat_minor": 2
}
