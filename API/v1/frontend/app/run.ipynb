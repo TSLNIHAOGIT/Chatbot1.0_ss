{
 "cells": [
  {
   "cell_type": "code",
   "execution_count": 3,
   "metadata": {
    "ExecuteTime": {
     "end_time": "2018-06-19T05:39:55.401369Z",
     "start_time": "2018-06-19T05:39:54.848752Z"
    }
   },
   "outputs": [
    {
     "name": "stdout",
     "output_type": "stream",
     "text": [
      "chatbotdb\n"
     ]
    }
   ],
   "source": [
    "# from flask_other.app import app\n",
    "from flask import Flask\n",
    "import os,sys\n",
    "sys.path.append('../')\n",
    "app=Flask(\"demo\")\n",
    "from flask import  render_template,request\n",
    "from app.mong_database import MongoManager\n",
    "import time\n",
    "import re\n",
    "mongo_db=MongoManager(server_ip='chatbotdb')\n",
    "\n",
    "import urllib.request\n",
    "from urllib.parse import quote\n",
    "import pandas as pd\n",
    "import numpy as np\n",
    "import time\n",
    "import re\n",
    "import requests\n",
    "import uuid\n",
    "\n",
    "##################################\n",
    "url = 'http://localhost:8889/chatbotv1'\n",
    "\n",
    "\n",
    "def get_data(sentence, uid):\n",
    "    sessionId = cache.uid_dict[uid]\n",
    "    response = requests.get(url, timeout=10, params={'data':sentence, \n",
    "                                                     'action':'chat', \n",
    "                                                     'sessionId':sessionId})\n",
    "    \n",
    "    if response.status_code == 200:\n",
    "        req = response.json()\n",
    "        if req.get('status').lower() == 'successful':\n",
    "            msg = req.get('message')\n",
    "        else:\n",
    "            msg = req\n",
    "\n",
    "        return msg\n",
    "    else:\n",
    "        return 'Internet Connection Issue, error code {}'.format(response.status_code)\n",
    "\n",
    "\n",
    "\n",
    "@app.route('/')\n",
    "@app.route('/index')\n",
    "def index0():\n",
    "    return render_template(\n",
    "                           # \"index0.html\",\n",
    "                           \"index.html\",\n",
    "                           )\n",
    "\n",
    "@app.route(\"/createCookie\", methods = ['POST'])\n",
    "def createCookie():\n",
    "    if request.method == 'POST':\n",
    "        \n",
    "        cookieid = request.form.get('cookie');\n",
    "        if cookieid:\n",
    "            print('already exists')\n",
    "            print(cookieid)\n",
    "            return('')\n",
    "        else:\n",
    "            print('new user')\n",
    "            uid = str(uuid.uuid1())\n",
    "            print('create cookie {}'.format(uid))\n",
    "            return(str(uuid.uuid1()))\n",
    "\n",
    "\n",
    "\n",
    "@app.route(\"/predict\", methods= [\"POST\"])\n",
    "def background_process():\n",
    "    if request.method == 'POST':\n",
    "        try:\n",
    "            query = request.form.get('query')#前端查询的内容\n",
    "            uid = request.form.get('uid')\n",
    "            print(uid)\n",
    "            if query:\n",
    "\n",
    "                    \n",
    "                    # time.sleep(5)\n",
    "                    result = get_data(query, uid)\n",
    "                    mongo_db.save_query(query, str(result))\n",
    "                    print('saving to mongo db successfully!')\n",
    "                    return str(result)\n",
    "                    \n",
    "\n",
    "            else:\n",
    "\n",
    "                    return str('请输入查询内容')\n",
    "\n",
    "\n",
    "        except Exception as e:\n",
    "            print(e)\n",
    "\n",
    "            if 'duplicate' in str(e):\n",
    "                e_str = e.details['errmsg']\n",
    "                dup_id=re.search('\\{ : \"(.*)\" \\}',e_str).group(1)\n",
    "                print('query duplicated! Use same id to save')\n",
    "                mongo_db.update_dup_query( dup_id, str(result))\n",
    "                return str(result)\n",
    "\n",
    "            else:\n",
    "                print(e)\n",
    "                return str('MM出故障啦')\n",
    "\n",
    "\n",
    "    else:\n",
    "        return 'ok'\n",
    "    \n",
    "    \n",
    "@app.route(\"/newConversation\", methods= [\"POST\"])\n",
    "def new_conversation():\n",
    "    \n",
    "    print('new conversation called!!!!!!!!!!!!!!!!!!!!!!!')\n",
    "    if request.method == 'POST':\n",
    "        cookie = request.form.get('uid');\n",
    "        if cookie:\n",
    "            print(cookie)\n",
    "            cache.new_conversation(cookie)\n",
    "            return cookie\n",
    "        else:\n",
    "            print('cookie lost')\n",
    "            return('error')\n",
    "\n",
    "class Cache:\n",
    "    def __init__(self):\n",
    "#         self.new_conversation()\n",
    "        self.uid_dict = {}\n",
    "            \n",
    "    def new_conversation(self):\n",
    "        req = requests.get(url, timeout=10, params={'action':'create'})\n",
    "        if req.status_code == 200:\n",
    "            msg = req.json()\n",
    "            if msg['status'] == 'successful':\n",
    "                \n",
    "                self.sessionId = msg['message']['sessionId']\n",
    "                print(self.sessionId)\n",
    "            else:\n",
    "                \n",
    "                raise ValueError('cannot get new sessionId, cannot start chat')\n",
    "        else:\n",
    "            print(req.status_code)\n",
    "            \n",
    "    def new_conversation(self, uid):\n",
    "        req = requests.get(url, timeout=10, params={'action':'create'})\n",
    "        if req.status_code == 200:\n",
    "            msg = req.json()\n",
    "            if msg['status'] == 'successful':\n",
    "                sessionId = msg['message']['sessionId']\n",
    "                self.uid_dict[uid] = sessionId\n",
    "                print(self.uid_dict[uid])\n",
    "            else:\n",
    "            \n",
    "                raise ValueError('cannot get new sessionId, cannot start chat')\n",
    "        else:\n",
    "            print(req.status_code)\n",
    "            \n",
    "        \n",
    "\n",
    "\n",
    "        \n",
    "cache = Cache()   \n",
    "\n",
    "\n"
   ]
  },
  {
   "cell_type": "code",
   "execution_count": 4,
   "metadata": {
    "ExecuteTime": {
     "end_time": "2018-06-19T05:41:42.274130Z",
     "start_time": "2018-06-19T05:39:56.239634Z"
    }
   },
   "outputs": [
    {
     "name": "stderr",
     "output_type": "stream",
     "text": [
      " * Running on http://0.0.0.0:6006/ (Press CTRL+C to quit)\n"
     ]
    },
    {
     "name": "stdout",
     "output_type": "stream",
     "text": [
      "running at http://10.0.24.31:6006\n"
     ]
    },
    {
     "name": "stderr",
     "output_type": "stream",
     "text": [
      "172.18.0.1 - - [19/Jun/2018 05:39:59] \"GET / HTTP/1.1\" 200 -\n",
      "172.18.0.1 - - [19/Jun/2018 05:40:02] \"POST /newConversation HTTP/1.1\" 200 -\n",
      "172.18.0.1 - - [19/Jun/2018 05:40:02] \"POST /createCookie HTTP/1.1\" 200 -\n",
      "172.18.0.1 - - [19/Jun/2018 05:40:02] \"GET / HTTP/1.1\" 200 -\n"
     ]
    },
    {
     "name": "stdout",
     "output_type": "stream",
     "text": [
      "new conversation called!!!!!!!!!!!!!!!!!!!!!!!\n",
      "bd50c2ca-733e-11e8-ace5-0242ac120002\n",
      "1\n",
      "already exists\n",
      "bd50c2ca-733e-11e8-ace5-0242ac120002\n"
     ]
    },
    {
     "name": "stderr",
     "output_type": "stream",
     "text": [
      "172.18.0.1 - - [19/Jun/2018 05:40:05] \"POST /dataFromAjax_post HTTP/1.1\" 404 -\n",
      "172.18.0.1 - - [19/Jun/2018 05:40:05] \"POST /predict HTTP/1.1\" 200 -\n"
     ]
    },
    {
     "name": "stdout",
     "output_type": "stream",
     "text": [
      "bd50c2ca-733e-11e8-ace5-0242ac120002\n",
      "query a\n",
      "result 你好，这里是H催收公司，请问是罗巍先生吗？\n",
      "E11000 duplicate key error collection: flask_database.query index: _id_ dup key: { : \"0cc175b9c0f1b6a831c399e269772661\" }\n",
      "query duplicated! Use same id to save\n"
     ]
    },
    {
     "name": "stderr",
     "output_type": "stream",
     "text": [
      "172.18.0.1 - - [19/Jun/2018 05:40:14] \"POST /dataFromAjax_post HTTP/1.1\" 404 -\n",
      "172.18.0.1 - - [19/Jun/2018 05:40:14] \"POST /predict HTTP/1.1\" 200 -\n"
     ]
    },
    {
     "name": "stdout",
     "output_type": "stream",
     "text": [
      "bd50c2ca-733e-11e8-ace5-0242ac120002\n",
      "query 对啊\n",
      "result 你好，我是H催收公司的客服小催，您之前借贷了H公司5万块钱，约定在2018年5月1日还清。您已还款3万2千块钱，但因逾期未还产生了相应的利息和延迟还款费用，现在一共需要还2万块钱，其中1.2万本金，1500利息，500延迟还款手续费用，请问您打算什么时候处理下呢？\n",
      "E11000 duplicate key error collection: flask_database.query index: _id_ dup key: { : \"0633cf8cb091896d8353be3d14ab333e\" }\n",
      "query duplicated! Use same id to save\n"
     ]
    },
    {
     "name": "stderr",
     "output_type": "stream",
     "text": [
      "172.18.0.1 - - [19/Jun/2018 05:40:20] \"POST /dataFromAjax_post HTTP/1.1\" 404 -\n",
      "172.18.0.1 - - [19/Jun/2018 05:40:21] \"POST /predict HTTP/1.1\" 200 -\n"
     ]
    },
    {
     "name": "stdout",
     "output_type": "stream",
     "text": [
      "bd50c2ca-733e-11e8-ace5-0242ac120002\n",
      "query 现在没钱呢\n",
      "result 请问您能在3天之内还款吗？\n",
      "saving to mongo db successfully!\n"
     ]
    },
    {
     "name": "stderr",
     "output_type": "stream",
     "text": [
      "172.18.0.1 - - [19/Jun/2018 05:40:26] \"POST /dataFromAjax_post HTTP/1.1\" 404 -\n",
      "172.18.0.1 - - [19/Jun/2018 05:40:26] \"POST /predict HTTP/1.1\" 200 -\n"
     ]
    },
    {
     "name": "stdout",
     "output_type": "stream",
     "text": [
      "bd50c2ca-733e-11e8-ace5-0242ac120002\n",
      "query 不行\n",
      "result 请问您能在3天之内还款吗？\n",
      "E11000 duplicate key error collection: flask_database.query index: _id_ dup key: { : \"2a0fbaf046cb5184f4d0a3b71f4bbf10\" }\n",
      "query duplicated! Use same id to save\n"
     ]
    },
    {
     "name": "stderr",
     "output_type": "stream",
     "text": [
      "172.18.0.1 - - [19/Jun/2018 05:40:29] \"POST /dataFromAjax_post HTTP/1.1\" 404 -\n",
      "172.18.0.1 - - [19/Jun/2018 05:40:29] \"POST /predict HTTP/1.1\" 200 -\n"
     ]
    },
    {
     "name": "stdout",
     "output_type": "stream",
     "text": [
      "bd50c2ca-733e-11e8-ace5-0242ac120002\n",
      "query 不行\n",
      "result 额... 如果是这样的话您看我帮您把金额减免一定程度可以吗？ 如果今天还，我帮您把利息1500全部剪掉，您只用还本金1万2。这是我能做大的最大程度了！\n",
      "E11000 duplicate key error collection: flask_database.query index: _id_ dup key: { : \"2a0fbaf046cb5184f4d0a3b71f4bbf10\" }\n",
      "query duplicated! Use same id to save\n"
     ]
    },
    {
     "name": "stderr",
     "output_type": "stream",
     "text": [
      "172.18.0.1 - - [19/Jun/2018 05:40:40] \"GET / HTTP/1.1\" 200 -\n",
      "172.18.0.1 - - [19/Jun/2018 05:40:40] \"GET /static/jquery.min.js HTTP/1.1\" 200 -\n",
      "172.18.0.1 - - [19/Jun/2018 05:40:40] \"GET /static/down.png HTTP/1.1\" 200 -\n",
      "172.18.0.1 - - [19/Jun/2018 05:40:40] \"GET / HTTP/1.1\" 200 -\n",
      "172.18.0.1 - - [19/Jun/2018 05:40:40] \"POST /createCookie HTTP/1.1\" 200 -\n",
      "172.18.0.1 - - [19/Jun/2018 05:40:40] \"GET /favicon.ico HTTP/1.1\" 404 -\n"
     ]
    },
    {
     "name": "stdout",
     "output_type": "stream",
     "text": [
      "new user\n",
      "create cookie 4cdf8b26-7383-11e8-b435-0242ac120002\n"
     ]
    },
    {
     "name": "stderr",
     "output_type": "stream",
     "text": [
      "172.18.0.1 - - [19/Jun/2018 05:40:44] \"POST /newConversation HTTP/1.1\" 200 -\n"
     ]
    },
    {
     "name": "stdout",
     "output_type": "stream",
     "text": [
      "new conversation called!!!!!!!!!!!!!!!!!!!!!!!\n",
      "4cdf92d8-7383-11e8-b435-0242ac120002\n",
      "2\n"
     ]
    },
    {
     "name": "stderr",
     "output_type": "stream",
     "text": [
      "172.18.0.1 - - [19/Jun/2018 05:41:08] \"GET /static/avatar1.jpeg HTTP/1.1\" 200 -\n",
      "172.18.0.1 - - [19/Jun/2018 05:41:08] \"POST /dataFromAjax_post HTTP/1.1\" 404 -\n",
      "172.18.0.1 - - [19/Jun/2018 05:41:08] \"POST /predict HTTP/1.1\" 200 -\n",
      "172.18.0.1 - - [19/Jun/2018 05:41:08] \"GET /static/avatar2.jpeg HTTP/1.1\" 200 -\n"
     ]
    },
    {
     "name": "stdout",
     "output_type": "stream",
     "text": [
      "4cdf92d8-7383-11e8-b435-0242ac120002\n",
      "query 你好\n",
      "result 你好，这里是H催收公司，请问是罗巍先生吗？\n",
      "E11000 duplicate key error collection: flask_database.query index: _id_ dup key: { : \"7eca689f0d3389d9dea66ae112e5cfd7\" }\n",
      "query duplicated! Use same id to save\n"
     ]
    },
    {
     "name": "stderr",
     "output_type": "stream",
     "text": [
      "172.18.0.1 - - [19/Jun/2018 05:41:11] \"POST /dataFromAjax_post HTTP/1.1\" 404 -\n",
      "172.18.0.1 - - [19/Jun/2018 05:41:11] \"POST /predict HTTP/1.1\" 200 -\n"
     ]
    },
    {
     "name": "stdout",
     "output_type": "stream",
     "text": [
      "4cdf92d8-7383-11e8-b435-0242ac120002\n",
      "query 是啊\n",
      "result 你好，我是H催收公司的客服小催，您之前借贷了H公司5万块钱，约定在2018年5月1日还清。您已还款3万2千块钱，但因逾期未还产生了相应的利息和延迟还款费用，现在一共需要还2万块钱，其中1.2万本金，1500利息，500延迟还款手续费用，请问您打算什么时候处理下呢？\n",
      "E11000 duplicate key error collection: flask_database.query index: _id_ dup key: { : \"74b4f86de2cec4138e234f9f1af02b2e\" }\n",
      "query duplicated! Use same id to save\n"
     ]
    }
   ],
   "source": [
    "app.debug = False\n",
    "port = 6006\n",
    "print('running at http://10.0.24.31:{}'.format(port))\n",
    "app.run(host='0.0.0.0',port=port)    #这样用来监听所有的ip，团队调试用"
   ]
  },
  {
   "cell_type": "code",
   "execution_count": null,
   "metadata": {
    "collapsed": true
   },
   "outputs": [],
   "source": []
  }
 ],
 "metadata": {
  "kernelspec": {
   "display_name": "Python 3",
   "language": "python",
   "name": "python3"
  },
  "varInspector": {
   "cols": {
    "lenName": 16,
    "lenType": 16,
    "lenVar": 40
   },
   "kernels_config": {
    "python": {
     "delete_cmd_postfix": "",
     "delete_cmd_prefix": "del ",
     "library": "var_list.py",
     "varRefreshCmd": "print(var_dic_list())"
    },
    "r": {
     "delete_cmd_postfix": ") ",
     "delete_cmd_prefix": "rm(",
     "library": "var_list.r",
     "varRefreshCmd": "cat(var_dic_list()) "
    }
   },
   "types_to_exclude": [
    "module",
    "function",
    "builtin_function_or_method",
    "instance",
    "_Feature"
   ],
   "window_display": false
  }
 },
 "nbformat": 4,
 "nbformat_minor": 2
}
