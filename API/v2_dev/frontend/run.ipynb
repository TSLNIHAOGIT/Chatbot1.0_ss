{
 "cells": [
  {
   "cell_type": "code",
   "execution_count": 3,
   "metadata": {
    "ExecuteTime": {
     "end_time": "2018-06-29T21:11:59.763838Z",
     "start_time": "2018-06-29T21:11:59.703424Z"
    }
   },
   "outputs": [],
   "source": [
    "# from flask_other.app import app\n",
    "from flask_socketio import disconnect as dc\n",
    "from flask import Flask\n",
    "from flask_socketio import SocketIO, emit,join_room,leave_room\n",
    "from flask_socketio import disconnect\n",
    "from threading import Lock\n",
    "import os,sys\n",
    "# sys.path.append('../../../../Chatbot1.0/')\n",
    "# sys.path.append('/home/kai/data/Chatbot1.0/API/v1/frontend/')\n",
    "app=Flask(\"demo\")\n",
    "from flask import  render_template,request\n",
    "import time\n",
    "import re\n",
    "\n",
    "import pandas as pd\n",
    "import numpy as np\n",
    "import time\n",
    "import re\n",
    "import requests\n",
    "\n",
    "import atexit\n",
    "\n",
    "from apscheduler.schedulers.background import BackgroundScheduler\n",
    "from apscheduler.triggers.interval import IntervalTrigger\n",
    "\n",
    "\n",
    "\n",
    "##################################\n",
    "async_mode = None\n",
    "app = Flask(__name__)\n",
    "app.config['SECRET_KEY'] = 'secret!'\n",
    "socketio = SocketIO(app, async_mode=async_mode)\n",
    "\n",
    "thread = None\n",
    "thread_lock = Lock()\n",
    "clients = []\n",
    "sentences = []\n",
    "\n",
    "name_space = '/chat'\n",
    "\n",
    "@app.route('/')\n",
    "def index():\n",
    "    return render_template('index.html', async_mode=socketio.async_mode)\n",
    "\n",
    "\n",
    "@socketio.on('client_send',namespace=name_space)\n",
    "def client_msg(msg):  \n",
    "    uid = request.sid\n",
    "    sentence = msg.get('data')\n",
    "    sentence = decode(sentence)\n",
    "    sentences.append(sentence)\n",
    "    print(sentence)\n",
    "    response = cache.chat(uid, sentence)\n",
    "    if response == 'end':\n",
    "        socketio.emit('my_response',{'data':'感谢选择江苏逸能，再见！'},room = uid, namespace=name_space)\n",
    "        disconnect_frontend(uid)\n",
    "    elif response is None:\n",
    "        socketio.emit('my_response',{'data':'当前会话已经过期，感谢选择江苏逸能，再见！'},room = uid, namespace=name_space)\n",
    "        disconnect_frontend(uid)\n",
    "    else:\n",
    "        socketio.emit('my_response',{'data':response},room = uid, namespace=name_space)\n",
    "\n",
    "def decode(msg):\n",
    "    msg = re.sub(r'%u', r'\\u', msg)\n",
    "    msg = msg.encode('latin-1').decode('unicode_escape')\n",
    "    return msg\n",
    "\n",
    "#sned message to a specific user\n",
    "def unique_message(uid):\n",
    "    socketio.emit('unique_messgae',{'data':'are you still here'}, room=uid, namespace=name_space)\n",
    "    \n",
    "def disconnect_frontend(uid):\n",
    "    socketio.emit('my_response',{'status':'disconnected'},room = uid, namespace=name_space)\n",
    "\n",
    "\n",
    "@socketio.on('disconnect',namespace=name_space)\n",
    "def disconnect():\n",
    "    uid = request.sid\n",
    "    cache.remove_session(uid)\n",
    "    leave_room(uid)\n",
    "    dc()\n",
    "    print('{} is disconnected'.format(uid))\n",
    "    \n",
    "@socketio.on('connect',namespace=name_space)\n",
    "def connect():\n",
    "    print('connect')\n",
    "    print(request.sid)\n",
    "    uid = request.sid\n",
    "    clients.append(uid)\n",
    "    print(len(clients))\n",
    "    \n",
    "    join_room(uid)\n",
    "    if cache.create_session(uid):\n",
    "        response = cache.chat(uid, '')\n",
    "        if response is not None:\n",
    "            socketio.emit('my_response',{'data':response},room = uid,namespace=name_space) #the first sentence\n",
    "            return None\n",
    "        \n",
    "    else:\n",
    "        socketio.emit('my_response',{'data':'server busy. please click new conv'},room = uid,namespace=name_space) \n",
    "        disconnect_frontend(uid)\n",
    "    \n",
    "\n"
   ]
  },
  {
   "cell_type": "code",
   "execution_count": 4,
   "metadata": {
    "ExecuteTime": {
     "end_time": "2018-06-29T21:13:16.201728Z",
     "start_time": "2018-06-29T21:12:01.201553Z"
    }
   },
   "outputs": [
    {
     "name": "stdout",
     "output_type": "stream",
     "text": [
      "http://10.0.24.31:8899/\n",
      "http://0.0.0.0:6006/\n",
      "connect\n",
      "27fcb66f231144b79805785647b6e1fc\n",
      "1\n",
      "s0 is initialized\n",
      "cf_s1_n1_identity_q is initialized\n",
      "cf_s1_n15_verifyWill_q is initialized\n",
      "cf_s1_n101_ifAcquainted_s is initialized\n",
      "cf_s1_n102_ifAcquainted_s is initialized\n",
      "cf_s1_n103_paymentChannel_s is initialized\n",
      "cf_s1_n104_paymentChannel_s is initialized\n",
      "cf_s1_n105_noResult_s is initialized\n",
      "cf_s1_n106_paymentChannel_s is initialized\n",
      "cf_s1_n108_noResult_s is initialized\n",
      "cf_s1_n109_scheduleCall_s is initialized\n",
      "cf_s1_n110_recordWechat_s is initialized\n",
      "cf_s1_n2_confirmLoan_q is initialized\n",
      "cf_s1_n25_cutDebt_q is initialized\n",
      "cf_s1_n32_splitDebt_q is initialized\n",
      "cf_s1_n5_ifAcquainted_q is initialized\n",
      "是的\n"
     ]
    },
    {
     "name": "stderr",
     "output_type": "stream",
     "text": [
      "Job \"purge_inactive (trigger: interval[0:00:10], next run at: 2018-06-29 21:12:21 UTC)\" raised an exception\n",
      "Traceback (most recent call last):\n",
      "  File \"/home/kai/anaconda3/lib/python3.6/site-packages/apscheduler/executors/base.py\", line 125, in run_job\n",
      "    retval = job.func(*job.args, **job.kwargs)\n",
      "  File \"<ipython-input-2-f9afdaf11e87>\", line 54, in purge_inactive\n",
      "    if current - self.session_timer[uid]['time_response'] > self.inactive_length:\n",
      "AttributeError: 'Cache' object has no attribute 'session_timer'\n",
      "Job \"purge_inactive (trigger: interval[0:00:10], next run at: 2018-06-29 21:12:31 UTC)\" raised an exception\n",
      "Traceback (most recent call last):\n",
      "  File \"/home/kai/anaconda3/lib/python3.6/site-packages/apscheduler/executors/base.py\", line 125, in run_job\n",
      "    retval = job.func(*job.args, **job.kwargs)\n",
      "  File \"<ipython-input-2-f9afdaf11e87>\", line 54, in purge_inactive\n",
      "    if current - self.session_timer[uid]['time_response'] > self.inactive_length:\n",
      "AttributeError: 'Cache' object has no attribute 'session_timer'\n"
     ]
    },
    {
     "name": "stdout",
     "output_type": "stream",
     "text": [
      "没钱\n",
      "不可能\n"
     ]
    },
    {
     "name": "stderr",
     "output_type": "stream",
     "text": [
      "Job \"purge_inactive (trigger: interval[0:00:10], next run at: 2018-06-29 21:12:41 UTC)\" raised an exception\n",
      "Traceback (most recent call last):\n",
      "  File \"/home/kai/anaconda3/lib/python3.6/site-packages/apscheduler/executors/base.py\", line 125, in run_job\n",
      "    retval = job.func(*job.args, **job.kwargs)\n",
      "  File \"<ipython-input-2-f9afdaf11e87>\", line 54, in purge_inactive\n",
      "    if current - self.session_timer[uid]['time_response'] > self.inactive_length:\n",
      "AttributeError: 'Cache' object has no attribute 'session_timer'\n"
     ]
    },
    {
     "name": "stdout",
     "output_type": "stream",
     "text": [
      "可以\n",
      "是\n",
      "session 27fcb66f231144b79805785647b6e1fc is removed\n",
      "27fcb66f231144b79805785647b6e1fc is disconnected\n",
      "27fcb66f231144b79805785647b6e1fc is disconnected\n",
      "connect\n",
      "1fe9012421a2482d90c1273b7da8461d\n",
      "2\n",
      "s0 is initialized\n",
      "cf_s1_n1_identity_q is initialized\n",
      "cf_s1_n15_verifyWill_q is initialized\n",
      "cf_s1_n101_ifAcquainted_s is initialized\n",
      "cf_s1_n102_ifAcquainted_s is initialized\n",
      "cf_s1_n103_paymentChannel_s is initialized\n",
      "cf_s1_n104_paymentChannel_s is initialized\n",
      "cf_s1_n105_noResult_s is initialized\n",
      "cf_s1_n106_paymentChannel_s is initialized\n",
      "cf_s1_n108_noResult_s is initialized\n",
      "cf_s1_n109_scheduleCall_s is initialized\n",
      "cf_s1_n110_recordWechat_s is initialized\n",
      "cf_s1_n2_confirmLoan_q is initialized\n",
      "cf_s1_n25_cutDebt_q is initialized\n",
      "cf_s1_n32_splitDebt_q is initialized\n",
      "cf_s1_n5_ifAcquainted_q is initialized\n",
      "的\n"
     ]
    },
    {
     "name": "stderr",
     "output_type": "stream",
     "text": [
      "Job \"purge_inactive (trigger: interval[0:00:10], next run at: 2018-06-29 21:13:01 UTC)\" raised an exception\n",
      "Traceback (most recent call last):\n",
      "  File \"/home/kai/anaconda3/lib/python3.6/site-packages/apscheduler/executors/base.py\", line 125, in run_job\n",
      "    retval = job.func(*job.args, **job.kwargs)\n",
      "  File \"<ipython-input-2-f9afdaf11e87>\", line 54, in purge_inactive\n",
      "    if current - self.session_timer[uid]['time_response'] > self.inactive_length:\n",
      "AttributeError: 'Cache' object has no attribute 'session_timer'\n",
      "Job \"purge_inactive (trigger: interval[0:00:10], next run at: 2018-06-29 21:13:11 UTC)\" raised an exception\n",
      "Traceback (most recent call last):\n",
      "  File \"/home/kai/anaconda3/lib/python3.6/site-packages/apscheduler/executors/base.py\", line 125, in run_job\n",
      "    retval = job.func(*job.args, **job.kwargs)\n",
      "  File \"<ipython-input-2-f9afdaf11e87>\", line 54, in purge_inactive\n",
      "    if current - self.session_timer[uid]['time_response'] > self.inactive_length:\n",
      "AttributeError: 'Cache' object has no attribute 'session_timer'\n",
      "Job \"purge_inactive (trigger: interval[0:00:10], next run at: 2018-06-29 21:13:21 UTC)\" raised an exception\n",
      "Traceback (most recent call last):\n",
      "  File \"/home/kai/anaconda3/lib/python3.6/site-packages/apscheduler/executors/base.py\", line 125, in run_job\n",
      "    retval = job.func(*job.args, **job.kwargs)\n",
      "  File \"<ipython-input-2-f9afdaf11e87>\", line 54, in purge_inactive\n",
      "    if current - self.session_timer[uid]['time_response'] > self.inactive_length:\n",
      "AttributeError: 'Cache' object has no attribute 'session_timer'\n",
      "KeyboardInterrupt\n",
      "2018-06-29T21:13:16Z\n",
      "\n",
      "KeyboardInterrupt\n",
      "\n"
     ]
    }
   ],
   "source": [
    "print('http://10.0.24.31:8899/')\n",
    "print('http://0.0.0.0:6006/')\n",
    "scheduler = BackgroundScheduler()\n",
    "scheduler.start()\n",
    "scheduler.add_job(\n",
    "    func=cache.purge_inactive,\n",
    "    trigger=IntervalTrigger(seconds=10),\n",
    "    id='purge_cache',\n",
    "    name='purge_inactive',\n",
    "    replace_existing=True)\n",
    "# Shut down the scheduler when exiting the app\n",
    "atexit.register(lambda: scheduler.shutdown())\n",
    "\n",
    "socketio.run(app,'0.0.0.0',6006)"
   ]
  },
  {
   "cell_type": "code",
   "execution_count": 2,
   "metadata": {
    "ExecuteTime": {
     "end_time": "2018-06-29T21:11:56.357913Z",
     "start_time": "2018-06-29T21:11:54.827853Z"
    }
   },
   "outputs": [
    {
     "name": "stderr",
     "output_type": "stream",
     "text": [
      "Building prefix dict from the default dictionary ...\n",
      "Loading model from cache /tmp/jieba.cache\n",
      "Loading model cost 0.748 seconds.\n",
      "Prefix dict has been built succesfully.\n"
     ]
    }
   ],
   "source": [
    "import time\n",
    "import gc\n",
    "class Cache:\n",
    "    def __init__(self, graph_path,msg_path,model_dict,max_session=1000):\n",
    "        self.max_session = 1000\n",
    "        self.inform_interval = 15\n",
    "        self.inactive_maxlength = 75\n",
    "        #{'uid': {'stragety': Tree(), 'time_response': <time>, 'time_inform': <>}\n",
    "        self.active_session = {}\n",
    "        self.model_dict = model_dict\n",
    "        self.graph_path = graph_path\n",
    "        self.msg_path = msg_path\n",
    "        \n",
    "        \n",
    "    def create_session(self, uid):\n",
    "        if len(self.active_session) < self.max_session:\n",
    "            self.active_session[uid] = {}\n",
    "            self.active_session[uid].update({'stragety':TreeStage1(graph_path=self.graph_path,\n",
    "                                                                   msg_path=self.msg_path)})\n",
    "            self.active_session[uid].update({'time_response':time.time()})\n",
    "            self.active_session[uid].update({'time_inform':time.time()})\n",
    "            self.active_session[uid].update({'chatting':[]})\n",
    "            return True\n",
    "        else:\n",
    "            return False\n",
    "        \n",
    "    def remove_session(self,uid):\n",
    "        try:\n",
    "            disconnect_frontend(uid)\n",
    "        except:\n",
    "            pass\n",
    "        try:\n",
    "            del self.active_session[uid]\n",
    "            print('session {} is removed'.format(uid))\n",
    "        except KeyError:\n",
    "                pass\n",
    "        gc.collect()\n",
    "            \n",
    "    def chat(self,uid,sentence):\n",
    "        if self.active_session.get(uid) is not None:\n",
    "            response = self.active_session[uid]['stragety'].process(sentence, self.model_dict)\n",
    "            self.active_session[uid]['time_response'] = time.time()\n",
    "            self.active_session[uid]['time_inform'] = time.time()\n",
    "            self.active_session[uid]['chatting'].append(response)\n",
    "        else:\n",
    "            response = None\n",
    "        return response\n",
    "        \n",
    "    \n",
    "    \n",
    "    def purge_inactive(self):\n",
    "        current = time.time()\n",
    "        for uid in self.active_session:\n",
    "            if current - self.session_timer[uid]['time_response'] > self.inactive_length:\n",
    "                print('{} session is inactive, will be removed!'.format(each))\n",
    "                remove_session(uid)\n",
    "            if current - self.session_timer[uid]['time_inform'] > self.inform_interval:\n",
    "                inform_inactive(uid)\n",
    "                \n",
    "        \n",
    "    def inform_inactive(self, uid):\n",
    "        self.session_timer[uid]['time_inform'] = time.time()\n",
    "        last_sentence = self.active_session[uid]['chatting'][-1]\n",
    "        response = '您有在听我说吗？ \\n'+last_sentence\n",
    "        socketio.emit('my_response',{'data':response},room = uid, namespace=name_space)\n",
    "          \n",
    "################################################\n",
    "import sys,os\n",
    "sys.path.append('../../../MLModel/code/OneClickTraining/')\n",
    "sys.path.append('../../../MLModel/code/TreeModelV2/')\n",
    "from all_model_py import *\n",
    "import pickle\n",
    "from chatbotv1 import *\n",
    "\n",
    "\n",
    "\n",
    "models_list = ['IDClassifier','CutDebt','IfKnowDebtor','WillingToPay','Installment','ConfirmLoan']\n",
    "savedModel_path = '../../../MLModel/savedModel/{}/{}.pickle'\n",
    "\n",
    "model_dict = {}\n",
    "for each_model in models_list:\n",
    "    model_dict[each_model] = pickle.load(open(savedModel_path.format(each_model,each_model), 'rb'))\n",
    "    model_dict[each_model].classify('再说一次')\n",
    "    \n",
    "model_dict['StopClassifier'] = StopClassifier()\n",
    "model_dict['InitClassifier'] = InitClassifier()    \n",
    "\n",
    "graph_path='../../../MLModel/data/TreeModel/treeConnection.csv'\n",
    "msg_path='../../../MLModel/data/TreeModel/node_message.csv'\n",
    "#################################################################\n",
    "cache = Cache(graph_path=graph_path,\n",
    "              msg_path=msg_path,\n",
    "              model_dict=model_dict)"
   ]
  },
  {
   "cell_type": "code",
   "execution_count": 3,
   "metadata": {
    "ExecuteTime": {
     "end_time": "2018-06-29T21:10:54.889423Z",
     "start_time": "2018-06-29T21:10:54.397183Z"
    }
   },
   "outputs": [
    {
     "name": "stdout",
     "output_type": "stream",
     "text": [
      "s0 is initialized\n",
      "cf_s1_n1_identity_q is initialized\n",
      "cf_s1_n15_verifyWill_q is initialized\n",
      "cf_s1_n101_ifAcquainted_s is initialized\n",
      "cf_s1_n102_ifAcquainted_s is initialized\n",
      "cf_s1_n103_paymentChannel_s is initialized\n",
      "cf_s1_n104_paymentChannel_s is initialized\n",
      "cf_s1_n105_noResult_s is initialized\n",
      "cf_s1_n106_paymentChannel_s is initialized\n",
      "cf_s1_n108_noResult_s is initialized\n",
      "cf_s1_n109_scheduleCall_s is initialized\n",
      "cf_s1_n110_recordWechat_s is initialized\n",
      "cf_s1_n2_confirmLoan_q is initialized\n",
      "cf_s1_n25_cutDebt_q is initialized\n",
      "cf_s1_n32_splitDebt_q is initialized\n",
      "cf_s1_n5_ifAcquainted_q is initialized\n"
     ]
    },
    {
     "data": {
      "text/plain": [
       "True"
      ]
     },
     "execution_count": 3,
     "metadata": {},
     "output_type": "execute_result"
    }
   ],
   "source": [
    "cache.create_session('1232')"
   ]
  },
  {
   "cell_type": "code",
   "execution_count": 5,
   "metadata": {
    "ExecuteTime": {
     "end_time": "2018-06-29T21:11:41.813571Z",
     "start_time": "2018-06-29T21:11:41.794868Z"
    }
   },
   "outputs": [
    {
     "data": {
      "text/plain": [
       "'您好，您之前借贷了5万块钱，截至今天已经逾期47天，逾期总欠款5万2千块钱，其中利息1500，滞纳金500块。请问为什么到现在都没有处理呢？'"
      ]
     },
     "execution_count": 5,
     "metadata": {},
     "output_type": "execute_result"
    }
   ],
   "source": [
    "uid='1232'\n",
    "cache.chat(uid,'是的')"
   ]
  },
  {
   "cell_type": "code",
   "execution_count": null,
   "metadata": {},
   "outputs": [],
   "source": []
  }
 ],
 "metadata": {
  "kernelspec": {
   "display_name": "Python 3",
   "language": "python",
   "name": "python3"
  },
  "language_info": {
   "codemirror_mode": {
    "name": "ipython",
    "version": 3
   },
   "file_extension": ".py",
   "mimetype": "text/x-python",
   "name": "python",
   "nbconvert_exporter": "python",
   "pygments_lexer": "ipython3",
   "version": "3.6.5"
  },
  "varInspector": {
   "cols": {
    "lenName": 16,
    "lenType": 16,
    "lenVar": 40
   },
   "kernels_config": {
    "python": {
     "delete_cmd_postfix": "",
     "delete_cmd_prefix": "del ",
     "library": "var_list.py",
     "varRefreshCmd": "print(var_dic_list())"
    },
    "r": {
     "delete_cmd_postfix": ") ",
     "delete_cmd_prefix": "rm(",
     "library": "var_list.r",
     "varRefreshCmd": "cat(var_dic_list()) "
    }
   },
   "types_to_exclude": [
    "module",
    "function",
    "builtin_function_or_method",
    "instance",
    "_Feature"
   ],
   "window_display": false
  }
 },
 "nbformat": 4,
 "nbformat_minor": 2
}
