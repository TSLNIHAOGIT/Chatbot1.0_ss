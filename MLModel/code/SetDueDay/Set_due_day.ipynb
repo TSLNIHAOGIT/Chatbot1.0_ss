{
 "cells": [
  {
   "cell_type": "code",
   "execution_count": 1,
   "metadata": {
    "ExecuteTime": {
     "end_time": "2018-06-13T18:37:38.657024Z",
     "start_time": "2018-06-13T18:37:38.353357Z"
    },
    "collapsed": true
   },
   "outputs": [],
   "source": [
    "#encoding=utf-8\n",
    "import pandas as pd\n",
    "import numpy as np\n",
    "from sklearn.feature_extraction.text import CountVectorizer, TfidfVectorizer, TfidfTransformer"
   ]
  },
  {
   "cell_type": "code",
   "execution_count": 2,
   "metadata": {
    "ExecuteTime": {
     "end_time": "2018-06-13T18:37:38.998742Z",
     "start_time": "2018-06-13T18:37:38.974234Z"
    }
   },
   "outputs": [
    {
     "name": "stdout",
     "output_type": "stream",
     "text": [
      "(3210, 2)\n"
     ]
    },
    {
     "data": {
      "text/html": [
       "<div>\n",
       "<style>\n",
       "    .dataframe thead tr:only-child th {\n",
       "        text-align: right;\n",
       "    }\n",
       "\n",
       "    .dataframe thead th {\n",
       "        text-align: left;\n",
       "    }\n",
       "\n",
       "    .dataframe tbody tr th {\n",
       "        vertical-align: top;\n",
       "    }\n",
       "</style>\n",
       "<table border=\"1\" class=\"dataframe\">\n",
       "  <thead>\n",
       "    <tr style=\"text-align: right;\">\n",
       "      <th></th>\n",
       "      <th>label</th>\n",
       "      <th>split_text</th>\n",
       "    </tr>\n",
       "  </thead>\n",
       "  <tbody>\n",
       "    <tr>\n",
       "      <th>0</th>\n",
       "      <td>2</td>\n",
       "      <td>你 在 说 什么 ？</td>\n",
       "    </tr>\n",
       "    <tr>\n",
       "      <th>1</th>\n",
       "      <td>1</td>\n",
       "      <td>真高   哈哈哈</td>\n",
       "    </tr>\n",
       "    <tr>\n",
       "      <th>2</th>\n",
       "      <td>2</td>\n",
       "      <td>怎么样</td>\n",
       "    </tr>\n",
       "    <tr>\n",
       "      <th>3</th>\n",
       "      <td>2</td>\n",
       "      <td>听求 不到 ✖ ️ 9</td>\n",
       "    </tr>\n",
       "    <tr>\n",
       "      <th>4</th>\n",
       "      <td>1</td>\n",
       "      <td>我 想</td>\n",
       "    </tr>\n",
       "    <tr>\n",
       "      <th>5</th>\n",
       "      <td>2</td>\n",
       "      <td>是 的   怎么 了   我 出去 了</td>\n",
       "    </tr>\n",
       "    <tr>\n",
       "      <th>6</th>\n",
       "      <td>2</td>\n",
       "      <td>我 还有 事要 做   稍后 联系 我</td>\n",
       "    </tr>\n",
       "    <tr>\n",
       "      <th>7</th>\n",
       "      <td>2</td>\n",
       "      <td>你 说 得 太快 而且 不 清楚</td>\n",
       "    </tr>\n",
       "    <tr>\n",
       "      <th>8</th>\n",
       "      <td>0</td>\n",
       "      <td>应该 没有 问题</td>\n",
       "    </tr>\n",
       "    <tr>\n",
       "      <th>9</th>\n",
       "      <td>1</td>\n",
       "      <td>说实话   老子 是 个 穷人 。</td>\n",
       "    </tr>\n",
       "  </tbody>\n",
       "</table>\n",
       "</div>"
      ],
      "text/plain": [
       "   label           split_text\n",
       "0      2           你 在 说 什么 ？\n",
       "1      1             真高   哈哈哈\n",
       "2      2                  怎么样\n",
       "3      2          听求 不到 ✖ ️ 9\n",
       "4      1                  我 想\n",
       "5      2  是 的   怎么 了   我 出去 了\n",
       "6      2  我 还有 事要 做   稍后 联系 我\n",
       "7      2     你 说 得 太快 而且 不 清楚\n",
       "8      0             应该 没有 问题\n",
       "9      1    说实话   老子 是 个 穷人 。"
      ]
     },
     "execution_count": 2,
     "metadata": {},
     "output_type": "execute_result"
    }
   ],
   "source": [
    "# path = '/home/kai/data/jiangning/Chatbot_1/Chatbot1.0/data/'\n",
    "path = '../../data/SetDueDay/'\n",
    "data = pd.read_csv(path + 'cleaned_mock_up_data.csv', encoding='utf8')\n",
    "print(data.shape)\n",
    "data.head(10)"
   ]
  },
  {
   "cell_type": "code",
   "execution_count": 3,
   "metadata": {
    "ExecuteTime": {
     "end_time": "2018-06-13T18:37:39.938587Z",
     "start_time": "2018-06-13T18:37:39.933627Z"
    }
   },
   "outputs": [
    {
     "data": {
      "text/plain": [
       "'真高   哈哈哈'"
      ]
     },
     "execution_count": 3,
     "metadata": {},
     "output_type": "execute_result"
    }
   ],
   "source": [
    "data.split_text.iloc[1]"
   ]
  },
  {
   "cell_type": "code",
   "execution_count": 4,
   "metadata": {
    "ExecuteTime": {
     "end_time": "2018-06-13T18:37:40.431634Z",
     "start_time": "2018-06-13T18:37:40.356395Z"
    }
   },
   "outputs": [
    {
     "name": "stdout",
     "output_type": "stream",
     "text": [
      "fitting phrase\n",
      "transform phrase\n"
     ]
    },
    {
     "data": {
      "text/plain": [
       "<3210x7260 sparse matrix of type '<class 'numpy.float64'>'\n",
       "\twith 25257 stored elements in Compressed Sparse Row format>"
      ]
     },
     "execution_count": 4,
     "metadata": {},
     "output_type": "execute_result"
    }
   ],
   "source": [
    "phrase_vectorizer = TfidfVectorizer(ngram_range=(1,3),\n",
    "                                    strip_accents='unicode', \n",
    "                                    max_features=100000, \n",
    "                                    analyzer='word',\n",
    "                                    sublinear_tf=True,\n",
    "                                    token_pattern=r'\\w{1,}')\n",
    "\n",
    "print('fitting phrase')\n",
    "phrase_vectorizer.fit(data.split_text)\n",
    "\n",
    "print('transform phrase')\n",
    "phrase = phrase_vectorizer.transform(data.split_text)\n",
    "\n",
    "phrase"
   ]
  },
  {
   "cell_type": "markdown",
   "metadata": {},
   "source": [
    "# SVC"
   ]
  },
  {
   "cell_type": "code",
   "execution_count": 5,
   "metadata": {
    "ExecuteTime": {
     "end_time": "2018-06-13T18:37:41.147847Z",
     "start_time": "2018-06-13T18:37:41.008903Z"
    }
   },
   "outputs": [
    {
     "name": "stdout",
     "output_type": "stream",
     "text": [
      "0.988161993769\n"
     ]
    }
   ],
   "source": [
    "from sklearn.calibration import CalibratedClassifierCV\n",
    "from sklearn.svm import LinearSVC\n",
    "\n",
    "l_svc = LinearSVC()\n",
    "clf = CalibratedClassifierCV(l_svc) \n",
    "clf.fit(phrase, data.label)\n",
    "print(clf.score(phrase, data.label))"
   ]
  },
  {
   "cell_type": "code",
   "execution_count": 6,
   "metadata": {
    "ExecuteTime": {
     "end_time": "2018-06-13T18:37:41.356216Z",
     "start_time": "2018-06-13T18:37:41.347405Z"
    }
   },
   "outputs": [
    {
     "name": "stdout",
     "output_type": "stream",
     "text": [
      "[2 1 2 ..., 0 2 0]\n"
     ]
    }
   ],
   "source": [
    "print(clf.predict(phrase))"
   ]
  },
  {
   "cell_type": "markdown",
   "metadata": {},
   "source": [
    "# Logistic"
   ]
  },
  {
   "cell_type": "code",
   "execution_count": 7,
   "metadata": {
    "ExecuteTime": {
     "end_time": "2018-06-13T18:37:42.241279Z",
     "start_time": "2018-06-13T18:37:42.238087Z"
    },
    "collapsed": true
   },
   "outputs": [],
   "source": [
    "from sklearn.linear_model import LogisticRegression"
   ]
  },
  {
   "cell_type": "code",
   "execution_count": 8,
   "metadata": {
    "ExecuteTime": {
     "end_time": "2018-06-13T18:37:42.533769Z",
     "start_time": "2018-06-13T18:37:42.500752Z"
    }
   },
   "outputs": [
    {
     "name": "stdout",
     "output_type": "stream",
     "text": [
      "0.965420560748\n"
     ]
    }
   ],
   "source": [
    "log_r = LogisticRegression()\n",
    "log_r.fit(phrase, data.label)\n",
    "print(log_r.score(phrase, data.label))"
   ]
  },
  {
   "cell_type": "code",
   "execution_count": 9,
   "metadata": {
    "ExecuteTime": {
     "end_time": "2018-06-13T18:37:42.744262Z",
     "start_time": "2018-06-13T18:37:42.739718Z"
    }
   },
   "outputs": [
    {
     "name": "stdout",
     "output_type": "stream",
     "text": [
      "[2 1 2 ..., 0 2 0]\n"
     ]
    }
   ],
   "source": [
    "print(log_r.predict(phrase))"
   ]
  },
  {
   "cell_type": "markdown",
   "metadata": {},
   "source": [
    "# LightGBM"
   ]
  },
  {
   "cell_type": "code",
   "execution_count": 10,
   "metadata": {
    "ExecuteTime": {
     "end_time": "2018-06-13T18:37:44.247228Z",
     "start_time": "2018-06-13T18:37:44.234036Z"
    },
    "collapsed": true
   },
   "outputs": [],
   "source": [
    "import lightgbm as lgb"
   ]
  },
  {
   "cell_type": "code",
   "execution_count": 11,
   "metadata": {
    "ExecuteTime": {
     "end_time": "2018-06-13T18:37:44.700769Z",
     "start_time": "2018-06-13T18:37:44.694876Z"
    },
    "collapsed": true
   },
   "outputs": [],
   "source": [
    "from sklearn import preprocessing\n",
    "le = preprocessing.LabelEncoder()\n",
    "le.fit(data.label.values)\n",
    "onelabels = le.transform(data.label.values)"
   ]
  },
  {
   "cell_type": "code",
   "execution_count": 12,
   "metadata": {
    "ExecuteTime": {
     "end_time": "2018-06-13T18:37:45.552178Z",
     "start_time": "2018-06-13T18:37:45.547464Z"
    }
   },
   "outputs": [
    {
     "data": {
      "text/plain": [
       "array([2, 1, 2, ..., 0, 2, 0])"
      ]
     },
     "execution_count": 12,
     "metadata": {},
     "output_type": "execute_result"
    }
   ],
   "source": [
    "onelabels"
   ]
  },
  {
   "cell_type": "code",
   "execution_count": 13,
   "metadata": {
    "ExecuteTime": {
     "end_time": "2018-06-13T18:37:46.010478Z",
     "start_time": "2018-06-13T18:37:46.004323Z"
    },
    "collapsed": true
   },
   "outputs": [],
   "source": [
    "from sklearn.preprocessing import MultiLabelBinarizer\n",
    "multicoder = MultiLabelBinarizer()\n",
    "lables = multicoder.fit_transform([data.label.values])"
   ]
  },
  {
   "cell_type": "code",
   "execution_count": 14,
   "metadata": {
    "ExecuteTime": {
     "end_time": "2018-06-13T18:37:46.406304Z",
     "start_time": "2018-06-13T18:37:46.401689Z"
    }
   },
   "outputs": [
    {
     "data": {
      "text/plain": [
       "array([[1, 1, 1]])"
      ]
     },
     "execution_count": 14,
     "metadata": {},
     "output_type": "execute_result"
    }
   ],
   "source": [
    "lables"
   ]
  },
  {
   "cell_type": "code",
   "execution_count": 15,
   "metadata": {
    "ExecuteTime": {
     "end_time": "2018-06-13T18:37:46.835646Z",
     "start_time": "2018-06-13T18:37:46.830747Z"
    }
   },
   "outputs": [
    {
     "data": {
      "text/plain": [
       "array([2, 1, 2, ..., 0, 2, 0])"
      ]
     },
     "execution_count": 15,
     "metadata": {},
     "output_type": "execute_result"
    }
   ],
   "source": [
    "data.label.values"
   ]
  },
  {
   "cell_type": "code",
   "execution_count": 16,
   "metadata": {
    "ExecuteTime": {
     "end_time": "2018-06-13T18:37:48.577547Z",
     "start_time": "2018-06-13T18:37:48.045764Z"
    }
   },
   "outputs": [
    {
     "name": "stderr",
     "output_type": "stream",
     "text": [
      "/home/kai/anaconda3/lib/python3.6/site-packages/lightgbm/engine.py:99: UserWarning: Found `num_iterations` in params. Will use it instead of argument\n",
      "  warnings.warn(\"Found `{}` in params. Will use it instead of argument\".format(alias))\n",
      "/home/kai/anaconda3/lib/python3.6/site-packages/lightgbm/engine.py:104: UserWarning: Found `early_stopping_round` in params. Will use it instead of argument\n",
      "  warnings.warn(\"Found `{}` in params. Will use it instead of argument\".format(alias))\n"
     ]
    },
    {
     "name": "stdout",
     "output_type": "stream",
     "text": [
      "Training until validation scores don't improve for 200 rounds.\n",
      "[5]\tvalid_0's multi_error: 0.209657\n",
      "[10]\tvalid_0's multi_error: 0.187227\n",
      "[15]\tvalid_0's multi_error: 0.175701\n",
      "[20]\tvalid_0's multi_error: 0.164174\n",
      "[25]\tvalid_0's multi_error: 0.154517\n",
      "[30]\tvalid_0's multi_error: 0.142368\n",
      "[35]\tvalid_0's multi_error: 0.137383\n",
      "[40]\tvalid_0's multi_error: 0.13271\n",
      "[45]\tvalid_0's multi_error: 0.129283\n",
      "[50]\tvalid_0's multi_error: 0.123676\n",
      "[55]\tvalid_0's multi_error: 0.120561\n",
      "[60]\tvalid_0's multi_error: 0.118692\n",
      "[65]\tvalid_0's multi_error: 0.115888\n",
      "[70]\tvalid_0's multi_error: 0.114019\n",
      "[75]\tvalid_0's multi_error: 0.113084\n",
      "[80]\tvalid_0's multi_error: 0.111526\n",
      "[85]\tvalid_0's multi_error: 0.109969\n",
      "[90]\tvalid_0's multi_error: 0.11028\n",
      "[95]\tvalid_0's multi_error: 0.107788\n",
      "[100]\tvalid_0's multi_error: 0.1081\n",
      "[105]\tvalid_0's multi_error: 0.107477\n",
      "[110]\tvalid_0's multi_error: 0.106854\n",
      "[115]\tvalid_0's multi_error: 0.106542\n",
      "[120]\tvalid_0's multi_error: 0.105607\n",
      "[125]\tvalid_0's multi_error: 0.103738\n",
      "[130]\tvalid_0's multi_error: 0.103115\n",
      "[135]\tvalid_0's multi_error: 0.103427\n",
      "[140]\tvalid_0's multi_error: 0.103115\n",
      "[145]\tvalid_0's multi_error: 0.103115\n",
      "[150]\tvalid_0's multi_error: 0.102804\n",
      "[155]\tvalid_0's multi_error: 0.102181\n",
      "[160]\tvalid_0's multi_error: 0.101869\n",
      "[165]\tvalid_0's multi_error: 0.101869\n",
      "[170]\tvalid_0's multi_error: 0.102492\n",
      "[175]\tvalid_0's multi_error: 0.101869\n",
      "[180]\tvalid_0's multi_error: 0.101869\n",
      "[185]\tvalid_0's multi_error: 0.101869\n",
      "[190]\tvalid_0's multi_error: 0.101869\n",
      "[195]\tvalid_0's multi_error: 0.101869\n",
      "[200]\tvalid_0's multi_error: 0.101869\n",
      "[205]\tvalid_0's multi_error: 0.101869\n",
      "[210]\tvalid_0's multi_error: 0.101869\n",
      "[215]\tvalid_0's multi_error: 0.101869\n",
      "[220]\tvalid_0's multi_error: 0.101869\n",
      "[225]\tvalid_0's multi_error: 0.101869\n",
      "[230]\tvalid_0's multi_error: 0.101869\n",
      "[235]\tvalid_0's multi_error: 0.101869\n",
      "[240]\tvalid_0's multi_error: 0.101869\n",
      "[245]\tvalid_0's multi_error: 0.101869\n",
      "[250]\tvalid_0's multi_error: 0.101869\n",
      "[255]\tvalid_0's multi_error: 0.101869\n",
      "[260]\tvalid_0's multi_error: 0.101869\n",
      "[265]\tvalid_0's multi_error: 0.101869\n",
      "[270]\tvalid_0's multi_error: 0.101869\n",
      "[275]\tvalid_0's multi_error: 0.101869\n",
      "[280]\tvalid_0's multi_error: 0.101869\n",
      "[285]\tvalid_0's multi_error: 0.101869\n",
      "[290]\tvalid_0's multi_error: 0.101869\n",
      "[295]\tvalid_0's multi_error: 0.101869\n",
      "[300]\tvalid_0's multi_error: 0.101869\n",
      "[305]\tvalid_0's multi_error: 0.101869\n",
      "[310]\tvalid_0's multi_error: 0.101869\n",
      "[315]\tvalid_0's multi_error: 0.101869\n",
      "[320]\tvalid_0's multi_error: 0.101869\n",
      "[325]\tvalid_0's multi_error: 0.101869\n",
      "[330]\tvalid_0's multi_error: 0.101869\n",
      "[335]\tvalid_0's multi_error: 0.101869\n",
      "[340]\tvalid_0's multi_error: 0.101869\n",
      "[345]\tvalid_0's multi_error: 0.101869\n",
      "[350]\tvalid_0's multi_error: 0.101869\n",
      "[355]\tvalid_0's multi_error: 0.101869\n",
      "Early stopping, best iteration is:\n",
      "[158]\tvalid_0's multi_error: 0.101558\n"
     ]
    }
   ],
   "source": [
    "params = {\n",
    "    'learning_rate': 0.2,\n",
    "    'num_iterations':1000,\n",
    "    'application': 'multiclassova',\n",
    "    'num_class': 3,\n",
    "    'num_leaves': 31,\n",
    "    'verbosity': -1,\n",
    "    'metric': 'multi_error',\n",
    "    'data_random_seed': 2,\n",
    "#     'bagging_fraction': 0.8,\n",
    "#     'feature_fraction': 0.6,\n",
    "    'nthread': 4,\n",
    "    'lambda_l1': 1,\n",
    "    'lambda_l2': 1,\n",
    "    'early_stopping_round':200\n",
    "} \n",
    "\n",
    "# lgbm_train = lgb.Dataset(phrase, data.label)\n",
    "lgbm_train = lgb.Dataset(phrase, onelabels)\n",
    "lgbm_val = lgb.Dataset(phrase, onelabels)\n",
    "lgbm_model = lgb.train(params,lgbm_train,valid_sets=lgbm_val, verbose_eval=5)"
   ]
  },
  {
   "cell_type": "code",
   "execution_count": 17,
   "metadata": {
    "ExecuteTime": {
     "end_time": "2018-06-13T18:37:49.487767Z",
     "start_time": "2018-06-13T18:37:49.441729Z"
    }
   },
   "outputs": [
    {
     "name": "stdout",
     "output_type": "stream",
     "text": [
      "[[ 0.00257452  0.00213926  0.99760379]\n",
      " [ 0.39121786  0.19567043  0.34040748]\n",
      " [ 0.39121786  0.19567043  0.34040748]\n",
      " ..., \n",
      " [ 0.93145699  0.04999604  0.03302054]\n",
      " [ 0.00266496  0.00160718  0.99809674]\n",
      " [ 0.90423273  0.06132981  0.10268657]]\n"
     ]
    }
   ],
   "source": [
    "print(lgbm_model.predict(phrase))"
   ]
  },
  {
   "cell_type": "markdown",
   "metadata": {},
   "source": [
    "# Save"
   ]
  },
  {
   "cell_type": "code",
   "execution_count": 18,
   "metadata": {
    "ExecuteTime": {
     "end_time": "2018-06-13T18:37:52.379887Z",
     "start_time": "2018-06-13T18:37:52.310995Z"
    },
    "collapsed": true
   },
   "outputs": [],
   "source": [
    "import pickle\n",
    "\n",
    "# save tfidf\n",
    "pickle.dump(phrase_vectorizer, open(\"../../savedModel/SetDueDay/tfidf.pickle\", \"wb\"))\n",
    "# pickle.dump(train_comment_features, open(\"train_comment_features.pickle\", \"wb\"))\n",
    "# pickle.dump(test_comment_features, open(\"test_comment_features.pickle\", \"wb\"))\n",
    "\n",
    "# save linear svc\n",
    "pickle.dump(clf, open(\"../../savedModel/SetDueDay/LinearSVC.pickle\", \"wb\"))\n",
    "# save logistic\n",
    "pickle.dump(log_r, open(\"../../savedModel/SetDueDay/Logistic.pickle\", \"wb\"))\n",
    "# save lightGBM\n",
    "pickle.dump(lgbm_model, open(\"../../savedModel/SetDueDay/Lgbm.pickle\", \"wb\"))"
   ]
  },
  {
   "cell_type": "markdown",
   "metadata": {
    "collapsed": true
   },
   "source": [
    "# test"
   ]
  },
  {
   "cell_type": "code",
   "execution_count": 23,
   "metadata": {
    "ExecuteTime": {
     "end_time": "2018-06-13T18:38:02.747821Z",
     "start_time": "2018-06-13T18:38:02.742913Z"
    },
    "collapsed": true
   },
   "outputs": [],
   "source": [
    "test = phrase_vectorizer.transform(['不 可能'])\n",
    "# test = phrase_vectorizer.transform(['我 在 洗澡'])"
   ]
  },
  {
   "cell_type": "code",
   "execution_count": 24,
   "metadata": {
    "ExecuteTime": {
     "end_time": "2018-06-13T18:38:03.294824Z",
     "start_time": "2018-06-13T18:38:03.288108Z"
    }
   },
   "outputs": [
    {
     "data": {
      "text/plain": [
       "array([[ 0.00531646,  0.98382451,  0.01085902]])"
      ]
     },
     "execution_count": 24,
     "metadata": {},
     "output_type": "execute_result"
    }
   ],
   "source": [
    "clf.predict_proba(test) # linear svc"
   ]
  },
  {
   "cell_type": "code",
   "execution_count": 25,
   "metadata": {
    "ExecuteTime": {
     "end_time": "2018-06-13T18:38:03.830896Z",
     "start_time": "2018-06-13T18:38:03.825555Z"
    }
   },
   "outputs": [
    {
     "data": {
      "text/plain": [
       "array([[ 0.04516838,  0.86240357,  0.09242805]])"
      ]
     },
     "execution_count": 25,
     "metadata": {},
     "output_type": "execute_result"
    }
   ],
   "source": [
    "log_r.predict_proba(test) # logistic"
   ]
  },
  {
   "cell_type": "code",
   "execution_count": 26,
   "metadata": {
    "ExecuteTime": {
     "end_time": "2018-06-13T18:38:04.507095Z",
     "start_time": "2018-06-13T18:38:04.501397Z"
    }
   },
   "outputs": [
    {
     "data": {
      "text/plain": [
       "array([[ 0.00508463,  0.97758581,  0.01437897]])"
      ]
     },
     "execution_count": 26,
     "metadata": {},
     "output_type": "execute_result"
    }
   ],
   "source": [
    "lgbm_model.predict(test) # light gbm"
   ]
  },
  {
   "cell_type": "markdown",
   "metadata": {},
   "source": [
    "# Labeling"
   ]
  },
  {
   "cell_type": "code",
   "execution_count": 27,
   "metadata": {
    "ExecuteTime": {
     "end_time": "2018-06-13T18:38:05.867461Z",
     "start_time": "2018-06-13T18:38:05.847560Z"
    }
   },
   "outputs": [
    {
     "name": "stdout",
     "output_type": "stream",
     "text": [
      "label= 1\n",
      "prob= 0.983824511806\n"
     ]
    }
   ],
   "source": [
    "# basic logic: find the max probability of 3 models, if it is larger than threshold, return the corresponding label, otherwise, return 2 (others).\n",
    "result = np.vstack((clf.predict_proba(test),log_r.predict_proba(test),lgbm_model.predict(test)))\n",
    "pos = np.where(result == np.max(result))\n",
    "\n",
    "threshold = 0.7\n",
    "if np.max(result)<threshold:\n",
    "    label = 2\n",
    "else:\n",
    "    label = pos[1]\n",
    "    label = label[0]\n",
    "    \n",
    "print('label=',label)\n",
    "print('prob=',np.max(result))"
   ]
  },
  {
   "cell_type": "markdown",
   "metadata": {
    "collapsed": true
   },
   "source": [
    "# Save the whole thing"
   ]
  },
  {
   "cell_type": "code",
   "execution_count": 28,
   "metadata": {
    "ExecuteTime": {
     "end_time": "2018-06-13T18:38:07.553429Z",
     "start_time": "2018-06-13T18:38:07.538836Z"
    },
    "collapsed": true
   },
   "outputs": [],
   "source": [
    "# import jieba\n",
    "# import numpy as np\n",
    "\n",
    "# class SetDueDay:\n",
    "    \n",
    "#     def __init__(self, **model):\n",
    "#         \"\"\"\n",
    "#         suggested parameters:\n",
    "#         svc, logistic, lightgbm, jieba_path,tfidf\n",
    "#         \"\"\"\n",
    "#         self._load_model(**model)\n",
    "        \n",
    "#     def _load_model(self,**model):\n",
    "#         self.svc = model.get('svc')\n",
    "#         self.logistic = model.get('logistic')\n",
    "#         self.lightgbm = model.get('lightgbm')\n",
    "#         self.tfidf = model.get('tfidf')\n",
    "#         # load jieba\n",
    "#         jieba_path = model.get('jieba_path')\n",
    "#         if jieba_path is not None:\n",
    "#             jieba.load_userdict(jieba_path)\n",
    "        \n",
    "        \n",
    "#     def classify(self, sentence):\n",
    "#         sentence = jieba.cut(sentence, cut_all = False)\n",
    "#         sentence = ' '.join(sentence)\n",
    "#         matrix = self.tfidf.transform([sentence])\n",
    "#         result = np.vstack((self.svc.predict_proba(matrix),\n",
    "#                             self.logistic.predict_proba(matrix),\n",
    "#                             self.lightgbm.predict(matrix)))\n",
    "#         max_pred = np.max(result, axis=0)\n",
    "#         max_arg = np.argmax(max_pred)\n",
    "#         threshold = 0.6\n",
    "#         if np.max(max_pred<threshold):\n",
    "#             label = 2\n",
    "#         else:\n",
    "#             label = max_arg\n",
    "#         return (label, np.max(max_pred))\n",
    "     \n",
    "        "
   ]
  },
  {
   "cell_type": "code",
   "execution_count": 29,
   "metadata": {
    "ExecuteTime": {
     "end_time": "2018-06-13T18:38:07.984244Z",
     "start_time": "2018-06-13T18:38:07.958270Z"
    }
   },
   "outputs": [],
   "source": [
    "%load_ext autoreload\n",
    "%autoreload 2"
   ]
  },
  {
   "cell_type": "code",
   "execution_count": 30,
   "metadata": {
    "ExecuteTime": {
     "end_time": "2018-06-13T18:38:09.049807Z",
     "start_time": "2018-06-13T18:38:08.502285Z"
    }
   },
   "outputs": [
    {
     "name": "stderr",
     "output_type": "stream",
     "text": [
      "Building prefix dict from the default dictionary ...\n",
      "Loading model from cache /tmp/jieba.cache\n",
      "Loading model cost 0.460 seconds.\n",
      "Prefix dict has been built succesfully.\n"
     ]
    }
   ],
   "source": [
    "from SetDueDay_py import SetDueDay\n",
    "ifk = SetDueDay(svc=clf, logistic=log_r, lightgbm=lgbm_model, tfidf=phrase_vectorizer, jieba_path='../WordCut/userdict.txt')\n",
    "\n",
    "pickle.dump(ifk, open(\"../../savedModel/SetDueDay/SetDueDay.pickle\", \"wb\"))"
   ]
  },
  {
   "cell_type": "code",
   "execution_count": null,
   "metadata": {
    "collapsed": true
   },
   "outputs": [],
   "source": []
  },
  {
   "cell_type": "code",
   "execution_count": null,
   "metadata": {
    "collapsed": true
   },
   "outputs": [],
   "source": []
  }
 ],
 "metadata": {
  "kernelspec": {
   "display_name": "Python 3",
   "language": "python",
   "name": "python3"
  },
  "language_info": {
   "codemirror_mode": {
    "name": "ipython",
    "version": 3
   },
   "file_extension": ".py",
   "mimetype": "text/x-python",
   "name": "python",
   "nbconvert_exporter": "python",
   "pygments_lexer": "ipython3",
   "version": "3.6.3"
  },
  "varInspector": {
   "cols": {
    "lenName": 16,
    "lenType": 16,
    "lenVar": 40
   },
   "kernels_config": {
    "python": {
     "delete_cmd_postfix": "",
     "delete_cmd_prefix": "del ",
     "library": "var_list.py",
     "varRefreshCmd": "print(var_dic_list())"
    },
    "r": {
     "delete_cmd_postfix": ") ",
     "delete_cmd_prefix": "rm(",
     "library": "var_list.r",
     "varRefreshCmd": "cat(var_dic_list()) "
    }
   },
   "types_to_exclude": [
    "module",
    "function",
    "builtin_function_or_method",
    "instance",
    "_Feature"
   ],
   "window_display": false
  }
 },
 "nbformat": 4,
 "nbformat_minor": 2
}
