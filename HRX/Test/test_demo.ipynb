{
 "cells": [
  {
   "cell_type": "code",
   "execution_count": 1,
   "metadata": {
    "ExecuteTime": {
     "end_time": "2018-07-09T02:19:04.750355Z",
     "start_time": "2018-07-09T02:19:04.102573Z"
    }
   },
   "outputs": [],
   "source": [
    "import sys,os\n",
    "sys.path.append('../../MLModel/code/OneClickTraining/')\n",
    "sys.path.append('../../MLModel/code/TreeModelV2/')\n",
    "from all_model_py import *\n",
    "import pickle\n",
    "from chatbotv1 import *"
   ]
  },
  {
   "cell_type": "markdown",
   "metadata": {},
   "source": [
    "# Load all Models"
   ]
  },
  {
   "cell_type": "code",
   "execution_count": 4,
   "metadata": {
    "ExecuteTime": {
     "end_time": "2018-07-09T02:21:56.449064Z",
     "start_time": "2018-07-09T02:21:56.046742Z"
    }
   },
   "outputs": [],
   "source": [
    "models_list = ['IDClassifier','CutDebt','IfKnowDebtor','WillingToPay','Installment','ConfirmLoan']\n",
    "savedModel_path = '../../MLModel/savedModel/{}/{}.pickle'\n",
    "\n",
    "model_dict = {}\n",
    "for each_model in models_list:\n",
    "    model_dict[each_model] = pickle.load(open(savedModel_path.format(each_model,each_model), 'rb'))\n",
    "    model_dict[each_model].classify('再说一次')\n",
    "    \n",
    "model_dict['StopClassifier'] = StopClassifier()\n",
    "model_dict['InitClassifier'] = InitClassifier()    \n",
    "\n",
    "graph_path='../../MLModel/data/TreeModel/treeConnection.csv'\n",
    "msg_path='../../MLModel/data/TreeModel/node_message.csv'"
   ]
  },
  {
   "cell_type": "markdown",
   "metadata": {},
   "source": [
    "# Initialize Strategy"
   ]
  },
  {
   "cell_type": "code",
   "execution_count": 12,
   "metadata": {
    "ExecuteTime": {
     "end_time": "2018-07-09T02:24:12.057809Z",
     "start_time": "2018-07-09T02:24:11.607012Z"
    }
   },
   "outputs": [],
   "source": [
    "t = TreeStage1(graph_path=graph_path,msg_path=msg_path)"
   ]
  },
  {
   "cell_type": "code",
   "execution_count": 14,
   "metadata": {
    "ExecuteTime": {
     "end_time": "2018-07-09T02:24:48.589197Z",
     "start_time": "2018-07-09T02:24:48.572530Z"
    }
   },
   "outputs": [
    {
     "name": "stdout",
     "output_type": "stream",
     "text": [
      "cf_s1_n1_identity_q\n",
      "不好意思，打扰了，请问您认识罗先生吗！\n",
      "1\n",
      "cf_s1_n5_ifAcquainted_q\n"
     ]
    }
   ],
   "source": [
    "print(t.current_node_name)\n",
    "node_name = t.current_node_name\n",
    "print(t.process('不是',model_dict))\n",
    "print(t.nodes[node_name].output_label)\n",
    "print(t.current_node_name)"
   ]
  },
  {
   "cell_type": "code",
   "execution_count": 30,
   "metadata": {
    "ExecuteTime": {
     "end_time": "2018-07-09T02:55:32.694210Z",
     "start_time": "2018-07-09T02:55:32.679366Z"
    }
   },
   "outputs": [
    {
     "data": {
      "text/html": [
       "<div>\n",
       "<style scoped>\n",
       "    .dataframe tbody tr th:only-of-type {\n",
       "        vertical-align: middle;\n",
       "    }\n",
       "\n",
       "    .dataframe tbody tr th {\n",
       "        vertical-align: top;\n",
       "    }\n",
       "\n",
       "    .dataframe thead th {\n",
       "        text-align: right;\n",
       "    }\n",
       "</style>\n",
       "<table border=\"1\" class=\"dataframe\">\n",
       "  <thead>\n",
       "    <tr style=\"text-align: right;\">\n",
       "      <th></th>\n",
       "      <th>node_name</th>\n",
       "      <th>label</th>\n",
       "      <th>sentiment</th>\n",
       "      <th>message</th>\n",
       "    </tr>\n",
       "  </thead>\n",
       "  <tbody>\n",
       "    <tr>\n",
       "      <th>1</th>\n",
       "      <td>cf_s1_n1_identity_q</td>\n",
       "      <td>1</td>\n",
       "      <td>1</td>\n",
       "      <td>不好意思，打扰了，请问您认识罗先生吗！</td>\n",
       "    </tr>\n",
       "    <tr>\n",
       "      <th>2</th>\n",
       "      <td>cf_s1_n1_identity_q</td>\n",
       "      <td>0</td>\n",
       "      <td>1</td>\n",
       "      <td>您好，您之前借贷了5万块钱，截至今天已经逾期47天，逾期总欠款5万2千块钱，其中利息1500...</td>\n",
       "    </tr>\n",
       "    <tr>\n",
       "      <th>3</th>\n",
       "      <td>cf_s1_n1_identity_q</td>\n",
       "      <td>101</td>\n",
       "      <td>1</td>\n",
       "      <td>是这样的，您之前借贷了5万块钱，截至今天已经逾期47天，逾期总欠款5万2千块钱，其中利息15...</td>\n",
       "    </tr>\n",
       "    <tr>\n",
       "      <th>4</th>\n",
       "      <td>cf_s1_n1_identity_q</td>\n",
       "      <td>103</td>\n",
       "      <td>1</td>\n",
       "      <td>我们这里是江苏逸能催收公司的，请问您是罗巍先生吗？</td>\n",
       "    </tr>\n",
       "    <tr>\n",
       "      <th>5</th>\n",
       "      <td>cf_s1_n1_identity_q</td>\n",
       "      <td>104</td>\n",
       "      <td>1</td>\n",
       "      <td>那好吧，那我过一会儿再给您打过去。再见。</td>\n",
       "    </tr>\n",
       "    <tr>\n",
       "      <th>6</th>\n",
       "      <td>cf_s1_n1_identity_q</td>\n",
       "      <td>107</td>\n",
       "      <td>1</td>\n",
       "      <td>我这边是江苏逸能催收公司的催收员。您之前借贷了5万块钱，截至今天已经逾期47天，逾期总欠款5...</td>\n",
       "    </tr>\n",
       "    <tr>\n",
       "      <th>7</th>\n",
       "      <td>cf_s1_n1_identity_q</td>\n",
       "      <td>109</td>\n",
       "      <td>1</td>\n",
       "      <td>请你不要说这些有的没的，您是罗巍先生吗？</td>\n",
       "    </tr>\n",
       "    <tr>\n",
       "      <th>8</th>\n",
       "      <td>cf_s1_n1_identity_q</td>\n",
       "      <td>110</td>\n",
       "      <td>1</td>\n",
       "      <td>你说这些乱七八糟的都没有用的，这个该还的你肯定是跑不掉的。你现在告诉我你是罗巍先生吗？</td>\n",
       "    </tr>\n",
       "  </tbody>\n",
       "</table>\n",
       "</div>"
      ],
      "text/plain": [
       "             node_name  label  sentiment  \\\n",
       "1  cf_s1_n1_identity_q      1          1   \n",
       "2  cf_s1_n1_identity_q      0          1   \n",
       "3  cf_s1_n1_identity_q    101          1   \n",
       "4  cf_s1_n1_identity_q    103          1   \n",
       "5  cf_s1_n1_identity_q    104          1   \n",
       "6  cf_s1_n1_identity_q    107          1   \n",
       "7  cf_s1_n1_identity_q    109          1   \n",
       "8  cf_s1_n1_identity_q    110          1   \n",
       "\n",
       "                                             message  \n",
       "1                                不好意思，打扰了，请问您认识罗先生吗！  \n",
       "2  您好，您之前借贷了5万块钱，截至今天已经逾期47天，逾期总欠款5万2千块钱，其中利息1500...  \n",
       "3  是这样的，您之前借贷了5万块钱，截至今天已经逾期47天，逾期总欠款5万2千块钱，其中利息15...  \n",
       "4                          我们这里是江苏逸能催收公司的，请问您是罗巍先生吗？  \n",
       "5                               那好吧，那我过一会儿再给您打过去。再见。  \n",
       "6  我这边是江苏逸能催收公司的催收员。您之前借贷了5万块钱，截至今天已经逾期47天，逾期总欠款5...  \n",
       "7                               请你不要说这些有的没的，您是罗巍先生吗？  \n",
       "8        你说这些乱七八糟的都没有用的，这个该还的你肯定是跑不掉的。你现在告诉我你是罗巍先生吗？  "
      ]
     },
     "execution_count": 30,
     "metadata": {},
     "output_type": "execute_result"
    }
   ],
   "source": [
    "t.nodes['cf_s1_n1_identity_q'].messages"
   ]
  },
  {
   "cell_type": "code",
   "execution_count": 25,
   "metadata": {
    "ExecuteTime": {
     "end_time": "2018-07-09T02:30:00.885532Z",
     "start_time": "2018-07-09T02:30:00.881327Z"
    }
   },
   "outputs": [],
   "source": [
    "model = model_dict['WillingToPay']"
   ]
  },
  {
   "cell_type": "code",
   "execution_count": 26,
   "metadata": {
    "ExecuteTime": {
     "end_time": "2018-07-09T02:30:01.465780Z",
     "start_time": "2018-07-09T02:30:01.448264Z"
    }
   },
   "outputs": [
    {
     "data": {
      "text/plain": [
       "{'label': 103,\n",
       " 'pred_prob': array([[0.01155602, 0.040257  , 0.35022767, 0.59795932],\n",
       "        [0.02561126, 0.05819352, 0.40297892, 0.51321629],\n",
       "        [0.02682743, 0.07324032, 0.54688514, 0.35304711]]),\n",
       " 'av_pred': array([0.02133157, 0.05723028, 0.43336391, 0.48807424]),\n",
       " 'time_extract': []}"
      ]
     },
     "execution_count": 26,
     "metadata": {},
     "output_type": "execute_result"
    }
   ],
   "source": [
    "model.classify('你刚刚说什么')"
   ]
  },
  {
   "cell_type": "code",
   "execution_count": 29,
   "metadata": {
    "ExecuteTime": {
     "end_time": "2018-07-09T02:53:27.014236Z",
     "start_time": "2018-07-09T02:53:26.990003Z"
    }
   },
   "outputs": [
    {
     "data": {
      "text/plain": [
       "{'cf_s1_n15_verifyWill_q': {0: {'node_name': 'cf_s1_n15_verifyWill_q',\n",
       "   'connection': 'cf_s1_n103_paymentChannel_s',\n",
       "   'description': 'N'},\n",
       "  1: {'node_name': 'cf_s1_n15_verifyWill_q',\n",
       "   'connection': 'cf_s1_n15_verifyWill_q',\n",
       "   'description': 'N'},\n",
       "  2: {'node_name': 'cf_s1_n15_verifyWill_q',\n",
       "   'connection': 'cf_s1_n25_cutDebt_q',\n",
       "   'description': 'N'},\n",
       "  103: {'node_name': 'cf_s1_n15_verifyWill_q',\n",
       "   'connection': 'cf_s1_n15_verifyWill_q',\n",
       "   'description': 'N'},\n",
       "  104: {'node_name': 'cf_s1_n15_verifyWill_q',\n",
       "   'connection': 'cf_s1_n109_scheduleCall_s',\n",
       "   'description': 'N'},\n",
       "  105: {'node_name': 'cf_s1_n15_verifyWill_q',\n",
       "   'connection': 'cf_s1_n110_recordWechat_s',\n",
       "   'description': 'N'},\n",
       "  106: {'node_name': 'cf_s1_n15_verifyWill_q',\n",
       "   'connection': 'cf_s1_n15_verifyWill_q',\n",
       "   'description': 'N'},\n",
       "  107: {'node_name': 'cf_s1_n15_verifyWill_q',\n",
       "   'connection': 'cf_s1_n15_verifyWill_q',\n",
       "   'description': 'N'},\n",
       "  108: {'node_name': 'cf_s1_n15_verifyWill_q',\n",
       "   'connection': 'cf_s1_n15_verifyWill_q',\n",
       "   'description': 'N'},\n",
       "  109: {'node_name': 'cf_s1_n15_verifyWill_q',\n",
       "   'connection': 'cf_s1_n15_verifyWill_q',\n",
       "   'description': 'N'},\n",
       "  10: {'node_name': 'cf_s1_n15_verifyWill_q',\n",
       "   'connection': 'cf_s1_n15_verifyWill_q',\n",
       "   'description': '出现2个时间，并有一个在可接受范围。回原节点并确认时间。'},\n",
       "  1001: {'node_name': 'cf_s1_n15_verifyWill_q',\n",
       "   'connection': 'cf_s1_n25_cutDebt_q',\n",
       "   'description': 'jump'}},\n",
       " 'cf_s1_n1_identity_q': {1: {'node_name': 'cf_s1_n1_identity_q',\n",
       "   'connection': 'cf_s1_n5_ifAcquainted_q',\n",
       "   'description': 'N'},\n",
       "  0: {'node_name': 'cf_s1_n1_identity_q',\n",
       "   'connection': 'cf_s1_n2_confirmLoan_q',\n",
       "   'description': 'N'},\n",
       "  101: {'node_name': 'cf_s1_n1_identity_q',\n",
       "   'connection': 'cf_s1_n2_confirmLoan_q',\n",
       "   'description': 'N'},\n",
       "  103: {'node_name': 'cf_s1_n1_identity_q',\n",
       "   'connection': 'cf_s1_n1_identity_q',\n",
       "   'description': 'N'},\n",
       "  104: {'node_name': 'cf_s1_n1_identity_q',\n",
       "   'connection': 'cf_s1_n109_scheduleCall_s',\n",
       "   'description': 'N'},\n",
       "  107: {'node_name': 'cf_s1_n1_identity_q',\n",
       "   'connection': 'cf_s1_n2_confirmLoan_q',\n",
       "   'description': 'N'},\n",
       "  109: {'node_name': 'cf_s1_n1_identity_q',\n",
       "   'connection': 'cf_s1_n1_identity_q',\n",
       "   'description': 'N'},\n",
       "  110: {'node_name': 'cf_s1_n1_identity_q',\n",
       "   'connection': 'cf_s1_n1_identity_q',\n",
       "   'description': 'N'}},\n",
       " 'cf_s1_n25_cutDebt_q': {0: {'node_name': 'cf_s1_n25_cutDebt_q',\n",
       "   'connection': 'cf_s1_n104_paymentChannel_s',\n",
       "   'description': 'N'},\n",
       "  1: {'node_name': 'cf_s1_n25_cutDebt_q',\n",
       "   'connection': 'cf_s1_n25_cutDebt_q',\n",
       "   'description': 'N'},\n",
       "  100: {'node_name': 'cf_s1_n25_cutDebt_q',\n",
       "   'connection': 'cf_s1_n25_cutDebt_q',\n",
       "   'description': 'N'},\n",
       "  102: {'node_name': 'cf_s1_n25_cutDebt_q',\n",
       "   'connection': 'cf_s1_n25_cutDebt_q',\n",
       "   'description': 'N'},\n",
       "  103: {'node_name': 'cf_s1_n25_cutDebt_q',\n",
       "   'connection': 'cf_s1_n25_cutDebt_q',\n",
       "   'description': 'N'},\n",
       "  104: {'node_name': 'cf_s1_n25_cutDebt_q',\n",
       "   'connection': 'cf_s1_n109_scheduleCall_s',\n",
       "   'description': 'N'},\n",
       "  106: {'node_name': 'cf_s1_n25_cutDebt_q',\n",
       "   'connection': 'cf_s1_n25_cutDebt_q',\n",
       "   'description': 'N'},\n",
       "  107: {'node_name': 'cf_s1_n25_cutDebt_q',\n",
       "   'connection': 'cf_s1_n25_cutDebt_q',\n",
       "   'description': 'N'},\n",
       "  108: {'node_name': 'cf_s1_n25_cutDebt_q',\n",
       "   'connection': 'cf_s1_n25_cutDebt_q',\n",
       "   'description': 'N'},\n",
       "  109: {'node_name': 'cf_s1_n25_cutDebt_q',\n",
       "   'connection': 'cf_s1_n25_cutDebt_q',\n",
       "   'description': 'N'},\n",
       "  10: {'node_name': 'cf_s1_n25_cutDebt_q',\n",
       "   'connection': 'cf_s1_n25_cutDebt_q',\n",
       "   'description': '出现2个时间，并有一个在可接受范围。回原节点并确认时间。'},\n",
       "  1001: {'node_name': 'cf_s1_n25_cutDebt_q',\n",
       "   'connection': 'cf_s1_n32_splitDebt_q',\n",
       "   'description': 'jump'}},\n",
       " 'cf_s1_n2_confirmLoan_q': {0: {'node_name': 'cf_s1_n2_confirmLoan_q',\n",
       "   'connection': 'cf_s1_n15_verifyWill_q',\n",
       "   'description': 'N'},\n",
       "  1: {'node_name': 'cf_s1_n2_confirmLoan_q',\n",
       "   'connection': 'cf_s1_n2_confirmLoan_q',\n",
       "   'description': 'N'},\n",
       "  100: {'node_name': 'cf_s1_n2_confirmLoan_q',\n",
       "   'connection': 'cf_s1_n25_cutDebt_q',\n",
       "   'description': 'N'},\n",
       "  102: {'node_name': 'cf_s1_n2_confirmLoan_q',\n",
       "   'connection': 'cf_s1_n2_confirmLoan_q',\n",
       "   'description': 'N'},\n",
       "  103: {'node_name': 'cf_s1_n2_confirmLoan_q',\n",
       "   'connection': 'cf_s1_n2_confirmLoan_q',\n",
       "   'description': 'N'},\n",
       "  104: {'node_name': 'cf_s1_n2_confirmLoan_q',\n",
       "   'connection': 'cf_s1_n109_scheduleCall_s',\n",
       "   'description': 'N'},\n",
       "  106: {'node_name': 'cf_s1_n2_confirmLoan_q',\n",
       "   'connection': 'cf_s1_n2_confirmLoan_q',\n",
       "   'description': 'N'},\n",
       "  107: {'node_name': 'cf_s1_n2_confirmLoan_q',\n",
       "   'connection': 'cf_s1_n2_confirmLoan_q',\n",
       "   'description': 'N'},\n",
       "  108: {'node_name': 'cf_s1_n2_confirmLoan_q',\n",
       "   'connection': 'cf_s1_n2_confirmLoan_q',\n",
       "   'description': 'N'},\n",
       "  109: {'node_name': 'cf_s1_n2_confirmLoan_q',\n",
       "   'connection': 'cf_s1_n2_confirmLoan_q',\n",
       "   'description': 'N'},\n",
       "  10: {'node_name': 'cf_s1_n2_confirmLoan_q',\n",
       "   'connection': 'cf_s1_n103_paymentChannel_s',\n",
       "   'description': 'CofirmLoan时短时间即可还款回复'},\n",
       "  1001: {'node_name': 'cf_s1_n2_confirmLoan_q',\n",
       "   'connection': 'cf_s1_n108_noResult_s',\n",
       "   'description': 'jump'}},\n",
       " 'cf_s1_n32_splitDebt_q': {0: {'node_name': 'cf_s1_n32_splitDebt_q',\n",
       "   'connection': 'cf_s1_n106_paymentChannel_s',\n",
       "   'description': 'N'},\n",
       "  1: {'node_name': 'cf_s1_n32_splitDebt_q',\n",
       "   'connection': 'cf_s1_n32_splitDebt_q',\n",
       "   'description': 'N'},\n",
       "  100: {'node_name': 'cf_s1_n32_splitDebt_q',\n",
       "   'connection': 'cf_s1_n32_splitDebt_q',\n",
       "   'description': 'N'},\n",
       "  102: {'node_name': 'cf_s1_n32_splitDebt_q',\n",
       "   'connection': 'cf_s1_n32_splitDebt_q',\n",
       "   'description': 'N'},\n",
       "  103: {'node_name': 'cf_s1_n32_splitDebt_q',\n",
       "   'connection': 'cf_s1_n32_splitDebt_q',\n",
       "   'description': 'N'},\n",
       "  104: {'node_name': 'cf_s1_n32_splitDebt_q',\n",
       "   'connection': 'cf_s1_n109_scheduleCall_s',\n",
       "   'description': 'N'},\n",
       "  106: {'node_name': 'cf_s1_n32_splitDebt_q',\n",
       "   'connection': 'cf_s1_n32_splitDebt_q',\n",
       "   'description': 'N'},\n",
       "  107: {'node_name': 'cf_s1_n32_splitDebt_q',\n",
       "   'connection': 'cf_s1_n32_splitDebt_q',\n",
       "   'description': 'N'},\n",
       "  108: {'node_name': 'cf_s1_n32_splitDebt_q',\n",
       "   'connection': 'cf_s1_n32_splitDebt_q',\n",
       "   'description': 'N'},\n",
       "  109: {'node_name': 'cf_s1_n32_splitDebt_q',\n",
       "   'connection': 'cf_s1_n32_splitDebt_q',\n",
       "   'description': 'N'},\n",
       "  10: {'node_name': 'cf_s1_n32_splitDebt_q',\n",
       "   'connection': 'cf_s1_n32_splitDebt_q',\n",
       "   'description': '出现2个时间，并有一个在可接受范围。回原节点并确认时间。'},\n",
       "  1001: {'node_name': 'cf_s1_n32_splitDebt_q',\n",
       "   'connection': 'cf_s1_n105_noResult_s',\n",
       "   'description': 'jump'}},\n",
       " 'cf_s1_n5_ifAcquainted_q': {0: {'node_name': 'cf_s1_n5_ifAcquainted_q',\n",
       "   'connection': 'cf_s1_n101_ifAcquainted_s',\n",
       "   'description': 'N'},\n",
       "  1: {'node_name': 'cf_s1_n5_ifAcquainted_q',\n",
       "   'connection': 'cf_s1_n102_ifAcquainted_s',\n",
       "   'description': 'N'},\n",
       "  101: {'node_name': 'cf_s1_n5_ifAcquainted_q',\n",
       "   'connection': 'cf_s1_n2_confirmLoan_q',\n",
       "   'description': 'N'},\n",
       "  103: {'node_name': 'cf_s1_n5_ifAcquainted_q',\n",
       "   'connection': 'cf_s1_n5_ifAcquainted_q',\n",
       "   'description': 'N'},\n",
       "  104: {'node_name': 'cf_s1_n5_ifAcquainted_q',\n",
       "   'connection': 'cf_s1_n109_scheduleCall_s',\n",
       "   'description': 'N'},\n",
       "  107: {'node_name': 'cf_s1_n5_ifAcquainted_q',\n",
       "   'connection': 'cf_s1_n5_ifAcquainted_q',\n",
       "   'description': 'N'},\n",
       "  109: {'node_name': 'cf_s1_n5_ifAcquainted_q',\n",
       "   'connection': 'cf_s1_n5_ifAcquainted_q',\n",
       "   'description': 'N'},\n",
       "  110: {'node_name': 'cf_s1_n5_ifAcquainted_q',\n",
       "   'connection': 'cf_s1_n5_ifAcquainted_q',\n",
       "   'description': 'N'}},\n",
       " 's0': {0: {'node_name': 's0',\n",
       "   'connection': 'cf_s1_n1_identity_q',\n",
       "   'description': 'N'}}}"
      ]
     },
     "execution_count": 29,
     "metadata": {},
     "output_type": "execute_result"
    }
   ],
   "source": [
    "t.mapping"
   ]
  },
  {
   "cell_type": "code",
   "execution_count": null,
   "metadata": {},
   "outputs": [],
   "source": []
  }
 ],
 "metadata": {
  "kernelspec": {
   "display_name": "Python 3",
   "language": "python",
   "name": "python3"
  },
  "language_info": {
   "codemirror_mode": {
    "name": "ipython",
    "version": 3
   },
   "file_extension": ".py",
   "mimetype": "text/x-python",
   "name": "python",
   "nbconvert_exporter": "python",
   "pygments_lexer": "ipython3",
   "version": "3.6.5"
  },
  "varInspector": {
   "cols": {
    "lenName": 16,
    "lenType": 16,
    "lenVar": 40
   },
   "kernels_config": {
    "python": {
     "delete_cmd_postfix": "",
     "delete_cmd_prefix": "del ",
     "library": "var_list.py",
     "varRefreshCmd": "print(var_dic_list())"
    },
    "r": {
     "delete_cmd_postfix": ") ",
     "delete_cmd_prefix": "rm(",
     "library": "var_list.r",
     "varRefreshCmd": "cat(var_dic_list()) "
    }
   },
   "types_to_exclude": [
    "module",
    "function",
    "builtin_function_or_method",
    "instance",
    "_Feature"
   ],
   "window_display": false
  }
 },
 "nbformat": 4,
 "nbformat_minor": 2
}
