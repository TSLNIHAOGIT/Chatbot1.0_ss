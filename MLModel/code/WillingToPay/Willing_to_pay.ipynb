{
 "cells": [
  {
   "cell_type": "code",
   "execution_count": 30,
   "metadata": {
    "ExecuteTime": {
     "end_time": "2018-06-13T16:06:27.613235Z",
     "start_time": "2018-06-13T16:06:27.591198Z"
    },
    "collapsed": true
   },
   "outputs": [],
   "source": [
    "#encoding=utf-8\n",
    "import pandas as pd\n",
    "import numpy as np\n",
    "from sklearn.feature_extraction.text import CountVectorizer, TfidfVectorizer, TfidfTransformer"
   ]
  },
  {
   "cell_type": "code",
   "execution_count": 31,
   "metadata": {
    "ExecuteTime": {
     "end_time": "2018-06-13T16:06:27.928762Z",
     "start_time": "2018-06-13T16:06:27.900193Z"
    }
   },
   "outputs": [
    {
     "name": "stdout",
     "output_type": "stream",
     "text": [
      "(215, 2)\n"
     ]
    },
    {
     "data": {
      "text/html": [
       "<div>\n",
       "<style>\n",
       "    .dataframe thead tr:only-child th {\n",
       "        text-align: right;\n",
       "    }\n",
       "\n",
       "    .dataframe thead th {\n",
       "        text-align: left;\n",
       "    }\n",
       "\n",
       "    .dataframe tbody tr th {\n",
       "        vertical-align: top;\n",
       "    }\n",
       "</style>\n",
       "<table border=\"1\" class=\"dataframe\">\n",
       "  <thead>\n",
       "    <tr style=\"text-align: right;\">\n",
       "      <th></th>\n",
       "      <th>label</th>\n",
       "      <th>split_text</th>\n",
       "    </tr>\n",
       "  </thead>\n",
       "  <tbody>\n",
       "    <tr>\n",
       "      <th>0</th>\n",
       "      <td>0</td>\n",
       "      <td>我   等 会   就   处理</td>\n",
       "    </tr>\n",
       "    <tr>\n",
       "      <th>1</th>\n",
       "      <td>1</td>\n",
       "      <td>我   现在   没 钱</td>\n",
       "    </tr>\n",
       "    <tr>\n",
       "      <th>2</th>\n",
       "      <td>2</td>\n",
       "      <td>这   太 多   了   能   减免   一点   吗</td>\n",
       "    </tr>\n",
       "    <tr>\n",
       "      <th>3</th>\n",
       "      <td>3</td>\n",
       "      <td>我   听不清</td>\n",
       "    </tr>\n",
       "    <tr>\n",
       "      <th>4</th>\n",
       "      <td>0</td>\n",
       "      <td>行   会   尽快   的</td>\n",
       "    </tr>\n",
       "    <tr>\n",
       "      <th>5</th>\n",
       "      <td>0</td>\n",
       "      <td>好 的   没 问题</td>\n",
       "    </tr>\n",
       "    <tr>\n",
       "      <th>6</th>\n",
       "      <td>0</td>\n",
       "      <td>明白 了   那   要 在   什么   时候   之前   还 呢</td>\n",
       "    </tr>\n",
       "    <tr>\n",
       "      <th>7</th>\n",
       "      <td>0</td>\n",
       "      <td>嗯 嗯   没 问题</td>\n",
       "    </tr>\n",
       "    <tr>\n",
       "      <th>8</th>\n",
       "      <td>0</td>\n",
       "      <td>我   可以   还   要 在   多久   之前   呢</td>\n",
       "    </tr>\n",
       "    <tr>\n",
       "      <th>9</th>\n",
       "      <td>0</td>\n",
       "      <td>我   过 几天   就   还</td>\n",
       "    </tr>\n",
       "  </tbody>\n",
       "</table>\n",
       "</div>"
      ],
      "text/plain": [
       "   label                           split_text\n",
       "0      0                     我   等 会   就   处理\n",
       "1      1                         我   现在   没 钱\n",
       "2      2        这   太 多   了   能   减免   一点   吗\n",
       "3      3                              我   听不清\n",
       "4      0                       行   会   尽快   的\n",
       "5      0                         好 的   没 问题  \n",
       "6      0  明白 了   那   要 在   什么   时候   之前   还 呢\n",
       "7      0                           嗯 嗯   没 问题\n",
       "8      0       我   可以   还   要 在   多久   之前   呢\n",
       "9      0                     我   过 几天   就   还"
      ]
     },
     "execution_count": 31,
     "metadata": {},
     "output_type": "execute_result"
    }
   ],
   "source": [
    "# read files\n",
    "path = '../../data/WillingToPay/'\n",
    "data = pd.read_csv(path + 'cleaned_mock_up_data.csv', encoding='utf8')\n",
    "print(data.shape)\n",
    "data.head(10)"
   ]
  },
  {
   "cell_type": "code",
   "execution_count": 5,
   "metadata": {
    "ExecuteTime": {
     "end_time": "2018-06-13T15:59:12.096597Z",
     "start_time": "2018-06-13T15:59:12.075651Z"
    }
   },
   "outputs": [
    {
     "data": {
      "text/plain": [
       "'我   等 会   就   处理'"
      ]
     },
     "execution_count": 5,
     "metadata": {},
     "output_type": "execute_result"
    }
   ],
   "source": [
    "data.split_text.iloc[0]"
   ]
  },
  {
   "cell_type": "code",
   "execution_count": 6,
   "metadata": {
    "ExecuteTime": {
     "end_time": "2018-06-13T15:59:12.345120Z",
     "start_time": "2018-06-13T15:59:12.311972Z"
    }
   },
   "outputs": [
    {
     "name": "stdout",
     "output_type": "stream",
     "text": [
      "fitting phrase\n",
      "transform phrase\n"
     ]
    },
    {
     "data": {
      "text/plain": [
       "<215x840 sparse matrix of type '<class 'numpy.float64'>'\n",
       "\twith 2173 stored elements in Compressed Sparse Row format>"
      ]
     },
     "execution_count": 6,
     "metadata": {},
     "output_type": "execute_result"
    }
   ],
   "source": [
    "phrase_vectorizer = TfidfVectorizer(ngram_range=(1,3),\n",
    "                                    strip_accents='unicode', \n",
    "                                    max_features=100000, \n",
    "                                    analyzer='word',\n",
    "                                    sublinear_tf=True,\n",
    "                                    token_pattern=r'\\w{1,}')\n",
    "\n",
    "print('fitting phrase')\n",
    "phrase_vectorizer.fit(data.split_text)\n",
    "\n",
    "print('transform phrase')\n",
    "phrase = phrase_vectorizer.transform(data.split_text)\n",
    "\n",
    "phrase"
   ]
  },
  {
   "cell_type": "markdown",
   "metadata": {},
   "source": [
    "# SVC"
   ]
  },
  {
   "cell_type": "code",
   "execution_count": 7,
   "metadata": {
    "ExecuteTime": {
     "end_time": "2018-06-13T15:59:12.739852Z",
     "start_time": "2018-06-13T15:59:12.642801Z"
    }
   },
   "outputs": [
    {
     "name": "stdout",
     "output_type": "stream",
     "text": [
      "1.0\n"
     ]
    }
   ],
   "source": [
    "from sklearn.calibration import CalibratedClassifierCV\n",
    "from sklearn.svm import LinearSVC\n",
    "\n",
    "l_svc = LinearSVC()\n",
    "clf = CalibratedClassifierCV(l_svc) \n",
    "clf.fit(phrase, data.label)\n",
    "print(clf.score(phrase, data.label))"
   ]
  },
  {
   "cell_type": "code",
   "execution_count": 8,
   "metadata": {
    "ExecuteTime": {
     "end_time": "2018-06-13T15:59:12.802998Z",
     "start_time": "2018-06-13T15:59:12.784306Z"
    }
   },
   "outputs": [
    {
     "name": "stdout",
     "output_type": "stream",
     "text": [
      "[0 1 2 3 0 0 0 0 0 0 0 0 0 0 0 1 1 1 1 1 1 1 1 1 1 1 1 1 1 2 2 2 2 2 2 2 3\n",
      " 3 3 3 3 3 3 0 1 2 3 0 0 0 0 0 0 0 0 0 0 0 1 1 1 1 1 1 1 1 1 1 1 1 1 1 2 2\n",
      " 2 2 2 2 2 3 3 3 3 3 3 3 0 1 2 3 0 0 0 0 0 0 0 0 0 0 0 1 1 1 1 1 1 1 1 1 1\n",
      " 1 1 1 1 2 2 2 2 2 2 2 3 3 3 3 3 3 3 0 1 2 3 0 0 0 0 0 0 0 0 0 0 0 1 1 1 1\n",
      " 1 1 1 1 1 1 1 1 1 1 2 2 2 2 2 2 2 3 3 3 3 3 3 3 0 1 2 3 0 0 0 0 0 0 0 0 0\n",
      " 0 0 1 1 1 1 1 1 1 1 1 1 1 1 1 1 2 2 2 2 2 2 2 3 3 3 3 3 3 3]\n"
     ]
    }
   ],
   "source": [
    "print(clf.predict(phrase))"
   ]
  },
  {
   "cell_type": "markdown",
   "metadata": {
    "ExecuteTime": {
     "end_time": "2018-06-11T19:35:30.494479Z",
     "start_time": "2018-06-11T19:35:30.483359Z"
    }
   },
   "source": [
    "# logistic"
   ]
  },
  {
   "cell_type": "code",
   "execution_count": 9,
   "metadata": {
    "ExecuteTime": {
     "end_time": "2018-06-13T15:59:13.319037Z",
     "start_time": "2018-06-13T15:59:13.298923Z"
    },
    "collapsed": true
   },
   "outputs": [],
   "source": [
    "from sklearn.linear_model import LogisticRegression"
   ]
  },
  {
   "cell_type": "code",
   "execution_count": 10,
   "metadata": {
    "ExecuteTime": {
     "end_time": "2018-06-13T15:59:13.360643Z",
     "start_time": "2018-06-13T15:59:13.335188Z"
    }
   },
   "outputs": [
    {
     "name": "stdout",
     "output_type": "stream",
     "text": [
      "1.0\n"
     ]
    }
   ],
   "source": [
    "log_r = LogisticRegression()\n",
    "log_r.fit(phrase, data.label)\n",
    "print(log_r.score(phrase, data.label))"
   ]
  },
  {
   "cell_type": "code",
   "execution_count": 11,
   "metadata": {
    "ExecuteTime": {
     "end_time": "2018-06-13T15:59:13.412475Z",
     "start_time": "2018-06-13T15:59:13.391073Z"
    }
   },
   "outputs": [
    {
     "name": "stdout",
     "output_type": "stream",
     "text": [
      "[0 1 2 3 0 0 0 0 0 0 0 0 0 0 0 1 1 1 1 1 1 1 1 1 1 1 1 1 1 2 2 2 2 2 2 2 3\n",
      " 3 3 3 3 3 3 0 1 2 3 0 0 0 0 0 0 0 0 0 0 0 1 1 1 1 1 1 1 1 1 1 1 1 1 1 2 2\n",
      " 2 2 2 2 2 3 3 3 3 3 3 3 0 1 2 3 0 0 0 0 0 0 0 0 0 0 0 1 1 1 1 1 1 1 1 1 1\n",
      " 1 1 1 1 2 2 2 2 2 2 2 3 3 3 3 3 3 3 0 1 2 3 0 0 0 0 0 0 0 0 0 0 0 1 1 1 1\n",
      " 1 1 1 1 1 1 1 1 1 1 2 2 2 2 2 2 2 3 3 3 3 3 3 3 0 1 2 3 0 0 0 0 0 0 0 0 0\n",
      " 0 0 1 1 1 1 1 1 1 1 1 1 1 1 1 1 2 2 2 2 2 2 2 3 3 3 3 3 3 3]\n"
     ]
    }
   ],
   "source": [
    "print(log_r.predict(phrase))"
   ]
  },
  {
   "cell_type": "markdown",
   "metadata": {},
   "source": [
    "# LightGBM"
   ]
  },
  {
   "cell_type": "code",
   "execution_count": 12,
   "metadata": {
    "ExecuteTime": {
     "end_time": "2018-06-13T15:59:13.469457Z",
     "start_time": "2018-06-13T15:59:13.454601Z"
    },
    "collapsed": true
   },
   "outputs": [],
   "source": [
    "import lightgbm as lgb"
   ]
  },
  {
   "cell_type": "code",
   "execution_count": 13,
   "metadata": {
    "ExecuteTime": {
     "end_time": "2018-06-13T15:59:13.508131Z",
     "start_time": "2018-06-13T15:59:13.490790Z"
    },
    "collapsed": true
   },
   "outputs": [],
   "source": [
    "from sklearn import preprocessing\n",
    "le = preprocessing.LabelEncoder()\n",
    "le.fit(data.label.values)\n",
    "onelabels = le.transform(data.label.values)"
   ]
  },
  {
   "cell_type": "code",
   "execution_count": 14,
   "metadata": {
    "ExecuteTime": {
     "end_time": "2018-06-13T15:59:13.546742Z",
     "start_time": "2018-06-13T15:59:13.525715Z"
    }
   },
   "outputs": [
    {
     "data": {
      "text/plain": [
       "array([0, 1, 2, 3, 0, 0, 0, 0, 0, 0, 0, 0, 0, 0, 0, 1, 1, 1, 1, 1, 1, 1, 1,\n",
       "       1, 1, 1, 1, 1, 1, 2, 2, 2, 2, 2, 2, 2, 3, 3, 3, 3, 3, 3, 3, 0, 1, 2,\n",
       "       3, 0, 0, 0, 0, 0, 0, 0, 0, 0, 0, 0, 1, 1, 1, 1, 1, 1, 1, 1, 1, 1, 1,\n",
       "       1, 1, 1, 2, 2, 2, 2, 2, 2, 2, 3, 3, 3, 3, 3, 3, 3, 0, 1, 2, 3, 0, 0,\n",
       "       0, 0, 0, 0, 0, 0, 0, 0, 0, 1, 1, 1, 1, 1, 1, 1, 1, 1, 1, 1, 1, 1, 1,\n",
       "       2, 2, 2, 2, 2, 2, 2, 3, 3, 3, 3, 3, 3, 3, 0, 1, 2, 3, 0, 0, 0, 0, 0,\n",
       "       0, 0, 0, 0, 0, 0, 1, 1, 1, 1, 1, 1, 1, 1, 1, 1, 1, 1, 1, 1, 2, 2, 2,\n",
       "       2, 2, 2, 2, 3, 3, 3, 3, 3, 3, 3, 0, 1, 2, 3, 0, 0, 0, 0, 0, 0, 0, 0,\n",
       "       0, 0, 0, 1, 1, 1, 1, 1, 1, 1, 1, 1, 1, 1, 1, 1, 1, 2, 2, 2, 2, 2, 2,\n",
       "       2, 3, 3, 3, 3, 3, 3, 3])"
      ]
     },
     "execution_count": 14,
     "metadata": {},
     "output_type": "execute_result"
    }
   ],
   "source": [
    "onelabels"
   ]
  },
  {
   "cell_type": "code",
   "execution_count": 15,
   "metadata": {
    "ExecuteTime": {
     "end_time": "2018-06-13T15:59:13.626659Z",
     "start_time": "2018-06-13T15:59:13.616304Z"
    },
    "collapsed": true
   },
   "outputs": [],
   "source": [
    "from sklearn.preprocessing import MultiLabelBinarizer\n",
    "multicoder = MultiLabelBinarizer()\n",
    "lables = multicoder.fit_transform([data.label.values])"
   ]
  },
  {
   "cell_type": "code",
   "execution_count": 16,
   "metadata": {
    "ExecuteTime": {
     "end_time": "2018-06-13T15:59:13.638961Z",
     "start_time": "2018-06-13T15:59:13.628042Z"
    }
   },
   "outputs": [
    {
     "data": {
      "text/plain": [
       "array([[1, 1, 1, 1]])"
      ]
     },
     "execution_count": 16,
     "metadata": {},
     "output_type": "execute_result"
    }
   ],
   "source": [
    "lables"
   ]
  },
  {
   "cell_type": "code",
   "execution_count": 17,
   "metadata": {
    "ExecuteTime": {
     "end_time": "2018-06-13T15:59:13.662773Z",
     "start_time": "2018-06-13T15:59:13.651089Z"
    }
   },
   "outputs": [
    {
     "data": {
      "text/plain": [
       "array([0, 1, 2, 3, 0, 0, 0, 0, 0, 0, 0, 0, 0, 0, 0, 1, 1, 1, 1, 1, 1, 1, 1,\n",
       "       1, 1, 1, 1, 1, 1, 2, 2, 2, 2, 2, 2, 2, 3, 3, 3, 3, 3, 3, 3, 0, 1, 2,\n",
       "       3, 0, 0, 0, 0, 0, 0, 0, 0, 0, 0, 0, 1, 1, 1, 1, 1, 1, 1, 1, 1, 1, 1,\n",
       "       1, 1, 1, 2, 2, 2, 2, 2, 2, 2, 3, 3, 3, 3, 3, 3, 3, 0, 1, 2, 3, 0, 0,\n",
       "       0, 0, 0, 0, 0, 0, 0, 0, 0, 1, 1, 1, 1, 1, 1, 1, 1, 1, 1, 1, 1, 1, 1,\n",
       "       2, 2, 2, 2, 2, 2, 2, 3, 3, 3, 3, 3, 3, 3, 0, 1, 2, 3, 0, 0, 0, 0, 0,\n",
       "       0, 0, 0, 0, 0, 0, 1, 1, 1, 1, 1, 1, 1, 1, 1, 1, 1, 1, 1, 1, 2, 2, 2,\n",
       "       2, 2, 2, 2, 3, 3, 3, 3, 3, 3, 3, 0, 1, 2, 3, 0, 0, 0, 0, 0, 0, 0, 0,\n",
       "       0, 0, 0, 1, 1, 1, 1, 1, 1, 1, 1, 1, 1, 1, 1, 1, 1, 2, 2, 2, 2, 2, 2,\n",
       "       2, 3, 3, 3, 3, 3, 3, 3])"
      ]
     },
     "execution_count": 17,
     "metadata": {},
     "output_type": "execute_result"
    }
   ],
   "source": [
    "data.label.values"
   ]
  },
  {
   "cell_type": "code",
   "execution_count": 18,
   "metadata": {
    "ExecuteTime": {
     "end_time": "2018-06-13T15:59:13.805928Z",
     "start_time": "2018-06-13T15:59:13.708159Z"
    }
   },
   "outputs": [
    {
     "name": "stdout",
     "output_type": "stream",
     "text": [
      "Training until validation scores don't improve for 200 rounds.\n",
      "[5]\tvalid_0's multi_error: 0.316279\n",
      "[10]\tvalid_0's multi_error: 0.283721\n",
      "[15]\tvalid_0's multi_error: 0.269767\n",
      "[20]\tvalid_0's multi_error: 0.255814\n",
      "[25]\tvalid_0's multi_error: 0.2\n",
      "[30]\tvalid_0's multi_error: 0.195349\n",
      "[35]\tvalid_0's multi_error: 0.195349\n",
      "[40]\tvalid_0's multi_error: 0.190698\n",
      "[45]\tvalid_0's multi_error: 0.190698\n",
      "[50]\tvalid_0's multi_error: 0.190698\n",
      "[55]\tvalid_0's multi_error: 0.186047\n",
      "[60]\tvalid_0's multi_error: 0.186047\n",
      "[65]\tvalid_0's multi_error: 0.181395\n",
      "[70]\tvalid_0's multi_error: 0.172093\n",
      "[75]\tvalid_0's multi_error: 0.172093\n",
      "[80]\tvalid_0's multi_error: 0.162791\n",
      "[85]\tvalid_0's multi_error: 0.162791\n",
      "[90]\tvalid_0's multi_error: 0.162791\n",
      "[95]\tvalid_0's multi_error: 0.162791\n",
      "[100]\tvalid_0's multi_error: 0.162791\n",
      "[105]\tvalid_0's multi_error: 0.153488\n",
      "[110]\tvalid_0's multi_error: 0.153488\n",
      "[115]\tvalid_0's multi_error: 0.153488\n",
      "[120]\tvalid_0's multi_error: 0.148837\n",
      "[125]\tvalid_0's multi_error: 0.144186\n",
      "[130]\tvalid_0's multi_error: 0.144186\n",
      "[135]\tvalid_0's multi_error: 0.144186\n",
      "[140]\tvalid_0's multi_error: 0.144186\n",
      "[145]\tvalid_0's multi_error: 0.144186\n",
      "[150]\tvalid_0's multi_error: 0.144186\n",
      "[155]\tvalid_0's multi_error: 0.144186\n",
      "[160]\tvalid_0's multi_error: 0.144186\n",
      "[165]\tvalid_0's multi_error: 0.144186\n",
      "[170]\tvalid_0's multi_error: 0.144186\n",
      "[175]\tvalid_0's multi_error: 0.144186\n",
      "[180]\tvalid_0's multi_error: 0.144186\n",
      "[185]\tvalid_0's multi_error: 0.144186\n",
      "[190]\tvalid_0's multi_error: 0.144186\n",
      "[195]\tvalid_0's multi_error: 0.144186\n",
      "[200]\tvalid_0's multi_error: 0.144186\n",
      "[205]\tvalid_0's multi_error: 0.144186\n",
      "[210]\tvalid_0's multi_error: 0.144186\n",
      "[215]\tvalid_0's multi_error: 0.144186\n",
      "[220]\tvalid_0's multi_error: 0.144186\n",
      "[225]\tvalid_0's multi_error: 0.144186\n",
      "[230]\tvalid_0's multi_error: 0.144186\n",
      "[235]\tvalid_0's multi_error: 0.144186\n",
      "[240]\tvalid_0's multi_error: 0.144186\n",
      "[245]\tvalid_0's multi_error: 0.144186\n",
      "[250]\tvalid_0's multi_error: 0.144186\n",
      "[255]\tvalid_0's multi_error: 0.144186\n",
      "[260]\tvalid_0's multi_error: 0.144186\n",
      "[265]\tvalid_0's multi_error: 0.144186\n",
      "[270]\tvalid_0's multi_error: 0.144186\n",
      "[275]\tvalid_0's multi_error: 0.144186\n",
      "[280]\tvalid_0's multi_error: 0.144186\n",
      "[285]\tvalid_0's multi_error: 0.144186\n",
      "[290]\tvalid_0's multi_error: 0.144186\n",
      "[295]\tvalid_0's multi_error: 0.144186\n",
      "[300]\tvalid_0's multi_error: 0.144186\n",
      "[305]\tvalid_0's multi_error: 0.144186\n",
      "[310]\tvalid_0's multi_error: 0.144186\n",
      "[315]\tvalid_0's multi_error: 0.144186\n",
      "[320]\tvalid_0's multi_error: 0.144186\n",
      "Early stopping, best iteration is:\n",
      "[121]\tvalid_0's multi_error: 0.144186\n"
     ]
    },
    {
     "name": "stderr",
     "output_type": "stream",
     "text": [
      "/home/kai/anaconda3/lib/python3.6/site-packages/lightgbm/engine.py:99: UserWarning: Found `num_iterations` in params. Will use it instead of argument\n",
      "  warnings.warn(\"Found `{}` in params. Will use it instead of argument\".format(alias))\n",
      "/home/kai/anaconda3/lib/python3.6/site-packages/lightgbm/engine.py:104: UserWarning: Found `early_stopping_round` in params. Will use it instead of argument\n",
      "  warnings.warn(\"Found `{}` in params. Will use it instead of argument\".format(alias))\n"
     ]
    }
   ],
   "source": [
    "params = {\n",
    "    'learning_rate': 0.2,\n",
    "    'num_iterations':1000,\n",
    "    'application': 'multiclassova',\n",
    "    'num_class': 4,\n",
    "    'num_leaves': 31,\n",
    "    'verbosity': -1,\n",
    "    'metric': 'multi_error',\n",
    "    'data_random_seed': 2,\n",
    "#     'bagging_fraction': 0.8,\n",
    "#     'feature_fraction': 0.6,\n",
    "    'nthread': 4,\n",
    "    'lambda_l1': 1,\n",
    "    'lambda_l2': 1,\n",
    "    'early_stopping_round':200\n",
    "} \n",
    "\n",
    "# lgbm_train = lgb.Dataset(phrase, data.label)\n",
    "lgbm_train = lgb.Dataset(phrase, onelabels)\n",
    "lgbm_val = lgb.Dataset(phrase, onelabels)\n",
    "lgbm_model = lgb.train(params,lgbm_train,valid_sets=lgbm_val, verbose_eval=5)"
   ]
  },
  {
   "cell_type": "code",
   "execution_count": 19,
   "metadata": {
    "ExecuteTime": {
     "end_time": "2018-06-13T15:59:13.830119Z",
     "start_time": "2018-06-13T15:59:13.807368Z"
    }
   },
   "outputs": [
    {
     "name": "stdout",
     "output_type": "stream",
     "text": [
      "[[ 0.56565755  0.28009692  0.01069672  0.01562528]\n",
      " [ 0.03800355  0.84410063  0.00340963  0.25112153]\n",
      " [ 0.03635962  0.0268971   0.97890555  0.01673974]\n",
      " [ 0.18354215  0.29815331  0.007096    0.36961908]\n",
      " [ 0.35698152  0.17418407  0.33471278  0.01539359]\n",
      " [ 0.69630278  0.17418407  0.08052549  0.01539359]\n",
      " [ 0.62616213  0.04966928  0.18622265  0.08481559]\n",
      " [ 0.69630278  0.04575722  0.08052549  0.11876347]\n",
      " [ 0.76174136  0.27360664  0.01934429  0.00922768]\n",
      " [ 0.49161804  0.44897036  0.0064571   0.02519001]\n",
      " [ 0.58595394  0.25268717  0.00517586  0.06379722]\n",
      " [ 0.56565755  0.44460304  0.0078099   0.0096648 ]\n",
      " [ 0.33465548  0.72479484  0.0064571   0.02071937]\n",
      " [ 0.79175331  0.01889279  0.0061422   0.13389175]\n",
      " [ 0.57441868  0.32228656  0.00517586  0.06379722]\n",
      " [ 0.02237613  0.99024345  0.00690448  0.00494306]\n",
      " [ 0.01960483  0.91607432  0.01915681  0.01438757]\n",
      " [ 0.18354215  0.83984511  0.007096    0.03915252]\n",
      " [ 0.05445817  0.92901911  0.00340963  0.07831019]\n",
      " [ 0.07304749  0.97641828  0.02714483  0.0221686 ]\n",
      " [ 0.35698152  0.32493207  0.21516047  0.07475197]\n",
      " [ 0.12190613  0.83726507  0.007096    0.13854117]\n",
      " [ 0.04711546  0.948802    0.01011903  0.00582819]\n",
      " [ 0.03315661  0.91607432  0.00451911  0.01438757]\n",
      " [ 0.33683795  0.65740949  0.04445062  0.01525025]\n",
      " [ 0.46943794  0.67624769  0.00461439  0.03736369]\n",
      " [ 0.05505691  0.9621123   0.00270012  0.00402573]\n",
      " [ 0.03361657  0.98250654  0.00836387  0.00582819]\n",
      " [ 0.49161804  0.44897036  0.0064571   0.0096648 ]\n",
      " [ 0.04313855  0.0268971   0.94570635  0.01673974]\n",
      " [ 0.35698152  0.04575722  0.33471278  0.11876347]\n",
      " [ 0.04313855  0.00874521  0.98886634  0.00701339]\n",
      " [ 0.06022276  0.01031483  0.95477362  0.01673974]\n",
      " [ 0.07257272  0.12947789  0.93701106  0.0016777 ]\n",
      " [ 0.04313855  0.00874521  0.98886634  0.00701339]\n",
      " [ 0.3172351   0.04379651  0.68399885  0.11876347]\n",
      " [ 0.03713614  0.03852418  0.05578234  0.87085556]\n",
      " [ 0.02641713  0.10483586  0.04647867  0.87085556]\n",
      " [ 0.30686003  0.30205954  0.00884833  0.38527223]\n",
      " [ 0.01412639  0.0811299   0.17335816  0.87085556]\n",
      " [ 0.71737885  0.06752206  0.00507329  0.25210778]\n",
      " [ 0.7116542   0.06752206  0.00507329  0.25210778]\n",
      " [ 0.04335885  0.06615465  0.00451911  0.44968304]\n",
      " [ 0.35698152  0.04575722  0.33471278  0.11876347]\n",
      " [ 0.01010487  0.98819882  0.00489904  0.05263057]\n",
      " [ 0.02242425  0.02135035  0.97890555  0.01673974]\n",
      " [ 0.12190613  0.14946988  0.007096    0.69826297]\n",
      " [ 0.35698152  0.04575722  0.33471278  0.11876347]\n",
      " [ 0.69630278  0.17418407  0.08052549  0.01539359]\n",
      " [ 0.67971115  0.15182576  0.01564901  0.01525025]\n",
      " [ 0.69630278  0.04575722  0.08052549  0.11876347]\n",
      " [ 0.56281409  0.08042292  0.04389761  0.01829592]\n",
      " [ 0.76538486  0.01720627  0.05817871  0.19115482]\n",
      " [ 0.56751361  0.0762022   0.00507329  0.25222397]\n",
      " [ 0.18354215  0.29815331  0.007096    0.36961908]\n",
      " [ 0.58447876  0.16437209  0.00382084  0.13077438]\n",
      " [ 0.62911283  0.39863373  0.01293505  0.01562528]\n",
      " [ 0.76538486  0.01720627  0.05817871  0.19115482]\n",
      " [ 0.27922695  0.65827099  0.007096    0.07727672]\n",
      " [ 0.02565738  0.68987744  0.01698255  0.17436792]\n",
      " [ 0.18354215  0.83984511  0.007096    0.03915252]\n",
      " [ 0.05445817  0.92901911  0.00340963  0.07831019]\n",
      " [ 0.00518806  0.98725149  0.15624742  0.02114158]\n",
      " [ 0.69630278  0.32493207  0.0455477   0.07475197]\n",
      " [ 0.12190613  0.83726507  0.007096    0.13854117]\n",
      " [ 0.04567496  0.94268226  0.00739834  0.00597292]\n",
      " [ 0.03315661  0.82796819  0.00451911  0.08583968]\n",
      " [ 0.31715547  0.67624769  0.00884833  0.03736369]\n",
      " [ 0.09034651  0.73499695  0.007096    0.06428902]\n",
      " [ 0.02002138  0.99265738  0.00388081  0.01008987]\n",
      " [ 0.59215767  0.06297864  0.05817871  0.19047947]\n",
      " [ 0.33465548  0.72479484  0.0064571   0.02071937]\n",
      " [ 0.35698152  0.04575722  0.33471278  0.11876347]\n",
      " [ 0.35698152  0.01507448  0.71952666  0.05295023]\n",
      " [ 0.04313855  0.00874521  0.98886634  0.00701339]\n",
      " [ 0.35698152  0.04575722  0.33471278  0.11876347]\n",
      " [ 0.0822994   0.06367685  0.93209653  0.00177468]\n",
      " [ 0.01723377  0.01960016  0.95901742  0.14040616]\n",
      " [ 0.21647976  0.0348897   0.68399885  0.11876347]\n",
      " [ 0.03713614  0.03852418  0.05578234  0.87085556]\n",
      " [ 0.02641713  0.10483586  0.04647867  0.87085556]\n",
      " [ 0.1675292   0.18001425  0.007096    0.70750711]\n",
      " [ 0.35698152  0.04575722  0.33471278  0.11876347]\n",
      " [ 0.35698152  0.04575722  0.33471278  0.11876347]\n",
      " [ 0.30686003  0.30205954  0.00884833  0.38527223]\n",
      " [ 0.08153949  0.52271866  0.007096    0.60208945]\n",
      " [ 0.35698152  0.04575722  0.33471278  0.11876347]\n",
      " [ 0.01010487  0.98819882  0.00489904  0.05263057]\n",
      " [ 0.02242425  0.02135035  0.97890555  0.01673974]\n",
      " [ 0.12190613  0.14946988  0.007096    0.69826297]\n",
      " [ 0.35698152  0.04575722  0.33471278  0.11876347]\n",
      " [ 0.69630278  0.17418407  0.08052549  0.01539359]\n",
      " [ 0.67971115  0.15182576  0.01564901  0.01525025]\n",
      " [ 0.69630278  0.04575722  0.08052549  0.11876347]\n",
      " [ 0.56281409  0.08042292  0.04389761  0.01829592]\n",
      " [ 0.76538486  0.01720627  0.05817871  0.19115482]\n",
      " [ 0.7116542   0.06752206  0.00507329  0.25210778]\n",
      " [ 0.18354215  0.29815331  0.007096    0.36961908]\n",
      " [ 0.71737885  0.06752206  0.00507329  0.10142449]\n",
      " [ 0.61158716  0.19784395  0.01070407  0.0452597 ]\n",
      " [ 0.76538486  0.01720627  0.05817871  0.19115482]\n",
      " [ 0.27922695  0.65827099  0.007096    0.07727672]\n",
      " [ 0.02565738  0.68987744  0.01698255  0.17436792]\n",
      " [ 0.18354215  0.83984511  0.007096    0.03915252]\n",
      " [ 0.01010487  0.98819882  0.00489904  0.05263057]\n",
      " [ 0.00518806  0.98725149  0.15624742  0.02114158]\n",
      " [ 0.13174153  0.69045687  0.21516047  0.05334995]\n",
      " [ 0.12190613  0.83726507  0.007096    0.13854117]\n",
      " [ 0.04743889  0.94172003  0.00835598  0.00597292]\n",
      " [ 0.03315661  0.82796819  0.00451911  0.08583968]\n",
      " [ 0.31715547  0.67624769  0.00884833  0.03736369]\n",
      " [ 0.08153949  0.7310308   0.007096    0.27713606]\n",
      " [ 0.02002138  0.99265738  0.00388081  0.01008987]\n",
      " [ 0.59215767  0.06297864  0.05817871  0.19047947]\n",
      " [ 0.33465548  0.72479484  0.0064571   0.02071937]\n",
      " [ 0.35698152  0.04575722  0.33471278  0.11876347]\n",
      " [ 0.04313855  0.0268971   0.94570635  0.01673974]\n",
      " [ 0.04313855  0.00874521  0.98886634  0.00701339]\n",
      " [ 0.44106513  0.01614067  0.37879235  0.11876347]\n",
      " [ 0.0822994   0.06367685  0.93209653  0.00177468]\n",
      " [ 0.01723377  0.01960016  0.95901742  0.14040616]\n",
      " [ 0.21647976  0.0348897   0.68399885  0.11876347]\n",
      " [ 0.22491126  0.01233322  0.03785706  0.87134667]\n",
      " [ 0.02641713  0.10483586  0.04647867  0.87085556]\n",
      " [ 0.1675292   0.18001425  0.007096    0.70750711]\n",
      " [ 0.01412639  0.0811299   0.17335816  0.87085556]\n",
      " [ 0.35698152  0.04575722  0.33471278  0.11876347]\n",
      " [ 0.56742369  0.03126832  0.00507329  0.5816151 ]\n",
      " [ 0.08153949  0.52271866  0.007096    0.60208945]\n",
      " [ 0.35698152  0.04575722  0.33471278  0.11876347]\n",
      " [ 0.01964012  0.99152738  0.0207417   0.01805969]\n",
      " [ 0.02242425  0.02135035  0.97890555  0.01673974]\n",
      " [ 0.12190613  0.14946988  0.007096    0.69826297]\n",
      " [ 0.35698152  0.04575722  0.33471278  0.11876347]\n",
      " [ 0.69630278  0.17418407  0.08052549  0.01539359]\n",
      " [ 0.590137    0.22105261  0.03698765  0.04837097]\n",
      " [ 0.69630278  0.04575722  0.08052549  0.11876347]\n",
      " [ 0.58595394  0.17138773  0.007096    0.12457002]\n",
      " [ 0.76538486  0.01720627  0.05817871  0.19115482]\n",
      " [ 0.57090951  0.14499011  0.00507329  0.21630063]\n",
      " [ 0.18354215  0.14616166  0.007096    0.69826297]\n",
      " [ 0.48460584  0.35259224  0.00884833  0.03616987]\n",
      " [ 0.62911283  0.39863373  0.01293505  0.01562528]\n",
      " [ 0.76538486  0.01720627  0.05817871  0.19115482]\n",
      " [ 0.06254865  0.9723407   0.00489904  0.01712713]\n",
      " [ 0.02963511  0.87260294  0.01698255  0.04263555]\n",
      " [ 0.18354215  0.83984511  0.007096    0.03915252]\n",
      " [ 0.01010487  0.98819882  0.00489904  0.05263057]\n",
      " [ 0.07304749  0.94353736  0.03567782  0.03341009]\n",
      " [ 0.13174153  0.69045687  0.21516047  0.05334995]\n",
      " [ 0.12190613  0.83726507  0.007096    0.13854117]\n",
      " [ 0.48032653  0.66765971  0.01069672  0.01562528]\n",
      " [ 0.04826337  0.78227494  0.00451911  0.01438757]\n",
      " [ 0.31715547  0.67624769  0.00884833  0.03736369]\n",
      " [ 0.08153949  0.7310308   0.007096    0.27713606]\n",
      " [ 0.02002138  0.99265738  0.00388081  0.01008987]\n",
      " [ 0.02449017  0.93071812  0.03065845  0.00860243]\n",
      " [ 0.33465548  0.72479484  0.0064571   0.02071937]\n",
      " [ 0.13174153  0.18181253  0.33471278  0.0776709 ]\n",
      " [ 0.35698152  0.04575722  0.33471278  0.11876347]\n",
      " [ 0.04313855  0.00874521  0.98886634  0.00701339]\n",
      " [ 0.44106513  0.01614067  0.37879235  0.11876347]\n",
      " [ 0.04520863  0.20179727  0.6878617   0.03709287]\n",
      " [ 0.01723377  0.05894324  0.81936718  0.33696144]\n",
      " [ 0.21647976  0.0348897   0.68399885  0.11876347]\n",
      " [ 0.03713614  0.03852418  0.05578234  0.87085556]\n",
      " [ 0.02641713  0.10483586  0.04647867  0.87085556]\n",
      " [ 0.1675292   0.18001425  0.007096    0.70750711]\n",
      " [ 0.01412639  0.0811299   0.17335816  0.87085556]\n",
      " [ 0.35698152  0.04575722  0.33471278  0.11876347]\n",
      " [ 0.3972518   0.16744552  0.03698765  0.39813024]\n",
      " [ 0.39381899  0.22327628  0.01955464  0.39813024]\n",
      " [ 0.35698152  0.04575722  0.33471278  0.11876347]\n",
      " [ 0.01010487  0.98819882  0.00489904  0.05263057]\n",
      " [ 0.02242425  0.02135035  0.97890555  0.01673974]\n",
      " [ 0.12190613  0.14946988  0.007096    0.69826297]\n",
      " [ 0.35698152  0.04575722  0.33471278  0.11876347]\n",
      " [ 0.69630278  0.17418407  0.08052549  0.01539359]\n",
      " [ 0.590137    0.22105261  0.03698765  0.04837097]\n",
      " [ 0.69630278  0.04575722  0.08052549  0.11876347]\n",
      " [ 0.1675292   0.05934962  0.03545238  0.36010492]\n",
      " [ 0.76538486  0.01720627  0.05817871  0.19115482]\n",
      " [ 0.56751361  0.06454067  0.00507329  0.31784447]\n",
      " [ 0.49733708  0.16790194  0.02983032  0.13057551]\n",
      " [ 0.26951699  0.5647555   0.007096    0.14879443]\n",
      " [ 0.52683966  0.15006768  0.01070407  0.38527223]\n",
      " [ 0.76538486  0.01720627  0.05817871  0.19115482]\n",
      " [ 0.06254865  0.9723407   0.00489904  0.01712713]\n",
      " [ 0.02565738  0.68987744  0.01698255  0.17436792]\n",
      " [ 0.18354215  0.29815331  0.007096    0.36961908]\n",
      " [ 0.01010487  0.98819882  0.00489904  0.05263057]\n",
      " [ 0.07304749  0.94353736  0.03567782  0.03341009]\n",
      " [ 0.13174153  0.69045687  0.21516047  0.05334995]\n",
      " [ 0.12190613  0.83726507  0.007096    0.13854117]\n",
      " [ 0.62911283  0.39863373  0.01293505  0.01562528]\n",
      " [ 0.02418335  0.8388644   0.00399942  0.41594269]\n",
      " [ 0.30686003  0.30205954  0.00884833  0.38527223]\n",
      " [ 0.09034651  0.73499695  0.007096    0.06428902]\n",
      " [ 0.02334821  0.94028872  0.40665184  0.01226903]\n",
      " [ 0.07076999  0.95189105  0.02037489  0.00846809]\n",
      " [ 0.30686003  0.31151551  0.00884833  0.38527223]\n",
      " [ 0.35698152  0.04575722  0.33471278  0.11876347]\n",
      " [ 0.35698152  0.01507448  0.71952666  0.05295023]\n",
      " [ 0.04313855  0.00874521  0.98886634  0.00701339]\n",
      " [ 0.35698152  0.04575722  0.33471278  0.11876347]\n",
      " [ 0.06970211  0.03347307  0.9189209   0.01380604]\n",
      " [ 0.01723377  0.01960016  0.95901742  0.14040616]\n",
      " [ 0.21647976  0.0348897   0.68399885  0.11876347]\n",
      " [ 0.03713614  0.03852418  0.05578234  0.87085556]\n",
      " [ 0.02641713  0.10483586  0.04647867  0.87085556]\n",
      " [ 0.1675292   0.18001425  0.007096    0.70750711]\n",
      " [ 0.01412639  0.0811299   0.17335816  0.87085556]\n",
      " [ 0.76538486  0.01720627  0.05817871  0.19115482]\n",
      " [ 0.56742369  0.03126832  0.00507329  0.5816151 ]\n",
      " [ 0.33373162  0.29815331  0.00461439  0.36961908]]\n"
     ]
    }
   ],
   "source": [
    "print(lgbm_model.predict(phrase))"
   ]
  },
  {
   "cell_type": "code",
   "execution_count": 20,
   "metadata": {
    "ExecuteTime": {
     "end_time": "2018-06-13T15:59:13.841260Z",
     "start_time": "2018-06-13T15:59:13.831266Z"
    },
    "collapsed": true
   },
   "outputs": [],
   "source": [
    "# lgbm_model.predict(phrase)"
   ]
  },
  {
   "cell_type": "markdown",
   "metadata": {
    "collapsed": true
   },
   "source": [
    "# Save"
   ]
  },
  {
   "cell_type": "code",
   "execution_count": 21,
   "metadata": {
    "ExecuteTime": {
     "end_time": "2018-06-13T15:59:13.916486Z",
     "start_time": "2018-06-13T15:59:13.897269Z"
    },
    "collapsed": true
   },
   "outputs": [],
   "source": [
    "import pickle\n",
    "\n",
    "# save tfidf\n",
    "pickle.dump(phrase_vectorizer, open(\"../../savedModel/WillingToPay/tfidf.pickle\", \"wb\"))\n",
    "# pickle.dump(train_comment_features, open(\"train_comment_features.pickle\", \"wb\"))\n",
    "# pickle.dump(test_comment_features, open(\"test_comment_features.pickle\", \"wb\"))\n",
    "\n",
    "# save linear svc\n",
    "pickle.dump(clf, open(\"../../savedModel/WillingToPay/LinearSVC.pickle\", \"wb\"))\n",
    "# save logistic\n",
    "pickle.dump(log_r, open(\"../../savedModel/WillingToPay/Logistic.pickle\", \"wb\"))\n",
    "# save lightGBM\n",
    "pickle.dump(lgbm_model, open(\"../../savedModel/WillingToPay/Lgbm.pickle\", \"wb\"))"
   ]
  },
  {
   "cell_type": "markdown",
   "metadata": {},
   "source": [
    "# Test"
   ]
  },
  {
   "cell_type": "code",
   "execution_count": 22,
   "metadata": {
    "ExecuteTime": {
     "end_time": "2018-06-13T15:59:13.928194Z",
     "start_time": "2018-06-13T15:59:13.917917Z"
    },
    "collapsed": true
   },
   "outputs": [],
   "source": [
    "test = phrase_vectorizer.transform(['真的 没有 钱'])"
   ]
  },
  {
   "cell_type": "code",
   "execution_count": 23,
   "metadata": {
    "ExecuteTime": {
     "end_time": "2018-06-13T15:59:13.941439Z",
     "start_time": "2018-06-13T15:59:13.929392Z"
    }
   },
   "outputs": [
    {
     "data": {
      "text/plain": [
       "array([[ 0.00595701,  0.97996783,  0.00984511,  0.00423006]])"
      ]
     },
     "execution_count": 23,
     "metadata": {},
     "output_type": "execute_result"
    }
   ],
   "source": [
    "clf.predict_proba(test) # linear svc"
   ]
  },
  {
   "cell_type": "code",
   "execution_count": 24,
   "metadata": {
    "ExecuteTime": {
     "end_time": "2018-06-13T15:59:13.963306Z",
     "start_time": "2018-06-13T15:59:13.951561Z"
    }
   },
   "outputs": [
    {
     "data": {
      "text/plain": [
       "array([[ 0.08694929,  0.76574203,  0.07715617,  0.07015252]])"
      ]
     },
     "execution_count": 24,
     "metadata": {},
     "output_type": "execute_result"
    }
   ],
   "source": [
    "log_r.predict_proba(test) # logistic"
   ]
  },
  {
   "cell_type": "code",
   "execution_count": 25,
   "metadata": {
    "ExecuteTime": {
     "end_time": "2018-06-13T15:59:14.042726Z",
     "start_time": "2018-06-13T15:59:14.032038Z"
    }
   },
   "outputs": [
    {
     "data": {
      "text/plain": [
       "array([[ 0.00518806,  0.98725149,  0.15624742,  0.02114158]])"
      ]
     },
     "execution_count": 25,
     "metadata": {},
     "output_type": "execute_result"
    }
   ],
   "source": [
    "lgbm_model.predict(test) # light gbm"
   ]
  },
  {
   "cell_type": "markdown",
   "metadata": {},
   "source": [
    "# labeling"
   ]
  },
  {
   "cell_type": "code",
   "execution_count": 26,
   "metadata": {
    "ExecuteTime": {
     "end_time": "2018-06-13T15:59:15.331406Z",
     "start_time": "2018-06-13T15:59:15.300183Z"
    }
   },
   "outputs": [
    {
     "name": "stdout",
     "output_type": "stream",
     "text": [
      "label= 1\n",
      "prob= 0.987251485545\n"
     ]
    }
   ],
   "source": [
    "# basic logic: find the max probability of 3 models, if it is larger than threshold, return the corresponding label, otherwise, return 2 (others).\n",
    "result = np.vstack((clf.predict_proba(test),log_r.predict_proba(test),lgbm_model.predict(test)))\n",
    "pos = np.where(result == np.max(result))\n",
    "\n",
    "threshold = 0.7\n",
    "if np.max(result)<threshold:\n",
    "    label = 2\n",
    "else:\n",
    "    label = pos[1]\n",
    "    label = label[0]\n",
    "    \n",
    "print('label=',label)\n",
    "print('prob=',np.max(result))"
   ]
  },
  {
   "cell_type": "markdown",
   "metadata": {
    "collapsed": true
   },
   "source": [
    "# save the whole thing"
   ]
  },
  {
   "cell_type": "code",
   "execution_count": 27,
   "metadata": {
    "ExecuteTime": {
     "end_time": "2018-06-13T15:59:16.326267Z",
     "start_time": "2018-06-13T15:59:16.298175Z"
    },
    "collapsed": true
   },
   "outputs": [],
   "source": [
    "# import jieba\n",
    "# import numpy as np\n",
    "\n",
    "# class WillingToPay:\n",
    "    \n",
    "#     def __init__(self, **model):\n",
    "#         \"\"\"\n",
    "#         suggested parameters:\n",
    "#         svc, logistic, lightgbm, jieba_path,tfidf\n",
    "#         \"\"\"\n",
    "#         self._load_model(**model)\n",
    "        \n",
    "#     def _load_model(self,**model):\n",
    "#         self.svc = model.get('svc')\n",
    "#         self.logistic = model.get('logistic')\n",
    "#         self.lightgbm = model.get('lightgbm')\n",
    "#         self.tfidf = model.get('tfidf')\n",
    "#         # load jieba\n",
    "#         jieba_path = model.get('jieba_path')\n",
    "#         if jieba_path is not None:\n",
    "#             jieba.load_userdict(jieba_path)\n",
    "        \n",
    "        \n",
    "#     def classify(self, sentence):\n",
    "#         sentence = jieba.cut(sentence, cut_all = False)\n",
    "#         sentence = ' '.join(sentence)\n",
    "#         matrix = self.tfidf.transform([sentence])\n",
    "#         result = np.vstack((self.svc.predict_proba(matrix),\n",
    "#                             self.logistic.predict_proba(matrix),\n",
    "#                             self.lightgbm.predict(matrix)))\n",
    "#         max_pred = np.max(result, axis=0)\n",
    "#         max_arg = np.argmax(max_pred)\n",
    "#         threshold = 0.6\n",
    "#         if np.max(max_pred<threshold):\n",
    "#             label = 3\n",
    "#         else:\n",
    "#             label = max_arg\n",
    "#         return (label, np.max(max_pred))\n",
    "     \n",
    "        "
   ]
  },
  {
   "cell_type": "code",
   "execution_count": 28,
   "metadata": {
    "ExecuteTime": {
     "end_time": "2018-06-13T15:59:16.918606Z",
     "start_time": "2018-06-13T15:59:16.897101Z"
    }
   },
   "outputs": [
    {
     "name": "stdout",
     "output_type": "stream",
     "text": [
      "The autoreload extension is already loaded. To reload it, use:\n",
      "  %reload_ext autoreload\n"
     ]
    }
   ],
   "source": [
    "%load_ext autoreload\n",
    "%autoreload 2"
   ]
  },
  {
   "cell_type": "code",
   "execution_count": 29,
   "metadata": {
    "ExecuteTime": {
     "end_time": "2018-06-13T15:59:18.288961Z",
     "start_time": "2018-06-13T15:59:17.788151Z"
    }
   },
   "outputs": [
    {
     "name": "stderr",
     "output_type": "stream",
     "text": [
      "Building prefix dict from the default dictionary ...\n",
      "Loading model from cache /tmp/jieba.cache\n",
      "Loading model cost 0.465 seconds.\n",
      "Prefix dict has been built succesfully.\n"
     ]
    }
   ],
   "source": [
    "from WillingToPay_py import WillingToPay\n",
    "ifk = WillingToPay(svc=clf, logistic=log_r, lightgbm=lgbm_model, tfidf=phrase_vectorizer, jieba_path='../WordCut/userdict.txt')\n",
    "\n",
    "pickle.dump(ifk, open(\"../../savedModel/WillingToPay/WillingToPay.pickle\", \"wb\"))"
   ]
  },
  {
   "cell_type": "code",
   "execution_count": null,
   "metadata": {
    "collapsed": true
   },
   "outputs": [],
   "source": []
  }
 ],
 "metadata": {
  "kernelspec": {
   "display_name": "Python 3",
   "language": "python",
   "name": "python3"
  },
  "language_info": {
   "codemirror_mode": {
    "name": "ipython",
    "version": 3
   },
   "file_extension": ".py",
   "mimetype": "text/x-python",
   "name": "python",
   "nbconvert_exporter": "python",
   "pygments_lexer": "ipython3",
   "version": "3.6.3"
  },
  "varInspector": {
   "cols": {
    "lenName": 16,
    "lenType": 16,
    "lenVar": 40
   },
   "kernels_config": {
    "python": {
     "delete_cmd_postfix": "",
     "delete_cmd_prefix": "del ",
     "library": "var_list.py",
     "varRefreshCmd": "print(var_dic_list())"
    },
    "r": {
     "delete_cmd_postfix": ") ",
     "delete_cmd_prefix": "rm(",
     "library": "var_list.r",
     "varRefreshCmd": "cat(var_dic_list()) "
    }
   },
   "types_to_exclude": [
    "module",
    "function",
    "builtin_function_or_method",
    "instance",
    "_Feature"
   ],
   "window_display": false
  }
 },
 "nbformat": 4,
 "nbformat_minor": 2
}
