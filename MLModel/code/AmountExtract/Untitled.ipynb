{
 "cells": [
  {
   "cell_type": "code",
   "execution_count": 1,
   "metadata": {
    "ExecuteTime": {
     "end_time": "2018-08-08T14:07:08.517543Z",
     "start_time": "2018-08-08T14:07:07.967501Z"
    }
   },
   "outputs": [],
   "source": [
    "import re\n",
    "import sys,os\n",
    "sys.path.append('../../../classifier/models/time_pattern/')\n",
    "from time_pattern import TimePattern"
   ]
  },
  {
   "cell_type": "code",
   "execution_count": 2,
   "metadata": {
    "ExecuteTime": {
     "end_time": "2018-08-08T14:07:09.018942Z",
     "start_time": "2018-08-08T14:07:08.923414Z"
    }
   },
   "outputs": [
    {
     "name": "stdout",
     "output_type": "stream",
     "text": [
      "Time Zone is set from ENV: Asia/Shanghai\n"
     ]
    }
   ],
   "source": [
    "tp = TimePattern()"
   ]
  },
  {
   "cell_type": "code",
   "execution_count": 40,
   "metadata": {
    "ExecuteTime": {
     "end_time": "2018-08-08T14:38:01.232703Z",
     "start_time": "2018-08-08T14:38:01.227030Z"
    }
   },
   "outputs": [],
   "source": [
    "s1 = '我可以先还5万2，但要100天后才能还清'\n",
    "s2 = '我可以先还52000，但要100天后才能还清'\n",
    "s3 = '我可以先还52，000.23， 但要23点15分后才能还清'\n",
    "s4 = '我可以先还五万6千零二十'\n",
    "s5 = '但要100天后才能还清'"
   ]
  },
  {
   "cell_type": "code",
   "execution_count": 41,
   "metadata": {
    "ExecuteTime": {
     "end_time": "2018-08-08T14:38:01.641384Z",
     "start_time": "2018-08-08T14:38:01.636818Z"
    }
   },
   "outputs": [],
   "source": [
    "clean = s3\n",
    "clean = re.sub(r',|，| ','',clean)\n",
    "# remove time"
   ]
  },
  {
   "cell_type": "code",
   "execution_count": 42,
   "metadata": {
    "ExecuteTime": {
     "end_time": "2018-08-08T14:38:01.835081Z",
     "start_time": "2018-08-08T14:38:01.823712Z"
    }
   },
   "outputs": [
    {
     "data": {
      "text/plain": [
       "['52000.23', '23点15']"
      ]
     },
     "execution_count": 42,
     "metadata": {},
     "output_type": "execute_result"
    }
   ],
   "source": [
    "number = re.findall(r'([一二三四五六七八九零十百千万亿]+|[0-9]+[,]*[0-9]+.[0-9]+)',clean)\n",
    "number"
   ]
  },
  {
   "cell_type": "code",
   "execution_count": 44,
   "metadata": {
    "ExecuteTime": {
     "end_time": "2018-08-08T14:38:10.226800Z",
     "start_time": "2018-08-08T14:38:10.219423Z"
    }
   },
   "outputs": [
    {
     "data": {
      "text/plain": [
       "['52000.23', '23点15']"
      ]
     },
     "execution_count": 44,
     "metadata": {},
     "output_type": "execute_result"
    }
   ],
   "source": [
    "number = re.findall(r'(?:还)[一二三四五六七八九零十百千万亿兆0-9点.]+',clean)\n",
    "number"
   ]
  },
  {
   "cell_type": "code",
   "execution_count": 48,
   "metadata": {
    "ExecuteTime": {
     "end_time": "2018-08-08T14:40:50.366115Z",
     "start_time": "2018-08-08T14:40:50.351076Z"
    }
   },
   "outputs": [
    {
     "data": {
      "text/plain": [
       "[{'pattern': '明天早上11点',\n",
       "  'time': datetime.datetime(2018, 8, 9, 11, 0, tzinfo=<DstTzInfo 'Asia/Shanghai' CST+8:00:00 STD>),\n",
       "  'gapS': 44349.645987,\n",
       "  'gapH': 12.319346107500001}]"
      ]
     },
     "execution_count": 48,
     "metadata": {},
     "output_type": "execute_result"
    }
   ],
   "source": [
    "tp.process('明天早上11点')"
   ]
  },
  {
   "cell_type": "code",
   "execution_count": 63,
   "metadata": {
    "ExecuteTime": {
     "end_time": "2018-08-08T14:51:17.375942Z",
     "start_time": "2018-08-08T14:51:17.364192Z"
    }
   },
   "outputs": [
    {
     "data": {
      "text/plain": [
       "['明天上午一点']"
      ]
     },
     "execution_count": 63,
     "metadata": {},
     "output_type": "execute_result"
    }
   ],
   "source": [
    "reg = '今天|明天(?:(?:上午)|(?:早上)|(?:早晨)|(?:凌晨))[1一]点'\n",
    "re.findall(reg,'明天上午一点')"
   ]
  },
  {
   "cell_type": "code",
   "execution_count": null,
   "metadata": {},
   "outputs": [],
   "source": []
  },
  {
   "cell_type": "code",
   "execution_count": null,
   "metadata": {},
   "outputs": [],
   "source": []
  },
  {
   "cell_type": "code",
   "execution_count": null,
   "metadata": {},
   "outputs": [],
   "source": []
  },
  {
   "cell_type": "code",
   "execution_count": null,
   "metadata": {},
   "outputs": [],
   "source": []
  },
  {
   "cell_type": "code",
   "execution_count": 82,
   "metadata": {
    "ExecuteTime": {
     "end_time": "2018-08-09T06:33:28.261347Z",
     "start_time": "2018-08-09T06:33:28.246584Z"
    }
   },
   "outputs": [],
   "source": [
    "class CHN2NUM:\n",
    "    def __init__(self):\n",
    "        self.CN_NUM = {\n",
    "    '〇' : 0, '一' : 1, '二' : 2, '三' : 3, '四' : 4, '五' : 5, '六' : 6, '七' : 7, '八' : 8, '九' : 9, '零' : 0,\n",
    "    '壹' : 1, '贰' : 2, '叁' : 3, '肆' : 4, '伍' : 5, '陆' : 6, '柒' : 7, '捌' : 8, '玖' : 9, '貮' : 2, '两' : 2\n",
    "}\n",
    "\n",
    "        for i in range(10):\n",
    "            self.CN_NUM[str(i)] = i\n",
    "        self.CN_UNIT = {\n",
    "                            '十' : 10,\n",
    "                            '拾' : 10,\n",
    "                            '百' : 100,\n",
    "                            '佰' : 100,\n",
    "                            '千' : 1000,\n",
    "                            '仟' : 1000,\n",
    "                            '万' : 10000,\n",
    "                            '萬' : 10000,\n",
    "                            '亿' : 100000000,\n",
    "                            '億' : 100000000,\n",
    "                            '兆' : 1000000000000,\n",
    "                        }\n",
    "\n",
    "    def chinese_to_arabic(self,cn:str):\n",
    "        unit = 0   # current\n",
    "        ldig = []  # digest\n",
    "        for cndig in reversed(cn):\n",
    "            if cndig in self.CN_UNIT:\n",
    "                unit = self.CN_UNIT.get(cndig)\n",
    "                if unit == 10000 or unit == 100000000:\n",
    "                    ldig.append(unit)\n",
    "                    unit = 1\n",
    "            else:\n",
    "                dig = self.CN_NUM.get(cndig)\n",
    "                if unit:\n",
    "                    dig *= unit\n",
    "                    unit = 0\n",
    "                ldig.append(dig)\n",
    "        if unit == 10:\n",
    "            ldig.append(10)\n",
    "        val, tmp = 0, 0\n",
    "        for x in reversed(ldig):\n",
    "            if x == 10000 or x == 100000000:\n",
    "                val += tmp * x\n",
    "                tmp = 0\n",
    "            else:\n",
    "                tmp += x\n",
    "        val += tmp\n",
    "        return val"
   ]
  },
  {
   "cell_type": "code",
   "execution_count": 107,
   "metadata": {
    "ExecuteTime": {
     "end_time": "2018-08-09T23:24:15.360884Z",
     "start_time": "2018-08-09T23:24:15.355097Z"
    }
   },
   "outputs": [
    {
     "data": {
      "text/plain": [
       "2"
      ]
     },
     "execution_count": 107,
     "metadata": {},
     "output_type": "execute_result"
    }
   ],
   "source": [
    "tt = CHN2NUM()\n",
    "tt.chinese_to_arabic('两')"
   ]
  },
  {
   "cell_type": "code",
   "execution_count": 88,
   "metadata": {
    "ExecuteTime": {
     "end_time": "2018-08-09T06:40:13.790132Z",
     "start_time": "2018-08-09T06:40:13.760426Z"
    }
   },
   "outputs": [
    {
     "ename": "AssertionError",
     "evalue": "",
     "output_type": "error",
     "traceback": [
      "\u001b[0;31m---------------------------------------------------------------------------\u001b[0m",
      "\u001b[0;31mAssertionError\u001b[0m                            Traceback (most recent call last)",
      "\u001b[0;32m<ipython-input-88-e46dbc0d0fe1>\u001b[0m in \u001b[0;36m<module>\u001b[0;34m()\u001b[0m\n\u001b[1;32m     29\u001b[0m \u001b[0;34m\u001b[0m\u001b[0m\n\u001b[1;32m     30\u001b[0m \u001b[0;34m\u001b[0m\u001b[0m\n\u001b[0;32m---> 31\u001b[0;31m \u001b[0;32massert\u001b[0m\u001b[0;34m(\u001b[0m \u001b[0mtransform\u001b[0m\u001b[0;34m(\u001b[0m\u001b[0;34mu\"两千7\"\u001b[0m\u001b[0;34m)\u001b[0m \u001b[0;34m==\u001b[0m \u001b[0;36m2700\u001b[0m\u001b[0;34m)\u001b[0m\u001b[0;34m\u001b[0m\u001b[0m\n\u001b[0m\u001b[1;32m     32\u001b[0m \u001b[0;32massert\u001b[0m\u001b[0;34m(\u001b[0m \u001b[0mtransform\u001b[0m\u001b[0;34m(\u001b[0m\u001b[0;34mu\"两万\"\u001b[0m\u001b[0;34m)\u001b[0m \u001b[0;34m==\u001b[0m \u001b[0;36m20000\u001b[0m\u001b[0;34m)\u001b[0m\u001b[0;34m\u001b[0m\u001b[0m\n\u001b[1;32m     33\u001b[0m \u001b[0;32massert\u001b[0m\u001b[0;34m(\u001b[0m \u001b[0mtransform\u001b[0m\u001b[0;34m(\u001b[0m\u001b[0;34mu\"两千\"\u001b[0m\u001b[0;34m)\u001b[0m \u001b[0;34m==\u001b[0m \u001b[0;36m2000\u001b[0m\u001b[0;34m)\u001b[0m\u001b[0;34m\u001b[0m\u001b[0m\n",
      "\u001b[0;31mAssertionError\u001b[0m: "
     ]
    }
   ],
   "source": [
    "common_used_numerals={u'零':0,u'一':1,u'二':2,u'三':3,u'四':4,u'五':5,u'六':6,u'七':7,u'八':8,u'九':9,u'十':10,u'百':100,u'千':1000,u'万':10000,u'亿':100000000,u'元':1.0,u'毛':0.1,u'分':0.01,u'两':2,u'角':0.1,u'块':1.0}\n",
    "numerals = {u'零':0,u'一':1,u'二':2,u'三':3,u'四':4,u'五':5,u'六':6,u'七':7,u'八':8,u'九':9}\n",
    "units = {u'十':10,u'百':100,u'千':1000,u'万':10000,u'亿':100000000,u'元':1.0,u'毛':0.1,u'分':0.01,u'两':2,u'角':0.1,u'块':1.0}\n",
    "units_10 = {u'十':u'元',u'百':u'十',u'千':u'百',u'万':u'千',u'亿':u'千万',u'元':u'角',u'毛':u'分',u'角':'分',u'块':u'角'}\n",
    "\n",
    "def transform(uchars_cn):\n",
    "    s=uchars_cn\n",
    "    if len(s) ==0:\n",
    "        return 0\n",
    "    if len(s)>2:\n",
    "        if s[-1] in numerals:\n",
    "            if s[-2] in units.keys():\n",
    "                s = s + units_10[s[-2]]\n",
    "    return float(cn2digit(s))\n",
    "\n",
    "def cn2digit(uchars_cn):\n",
    "    s=uchars_cn\n",
    "    if not s:\n",
    "        return 0\n",
    "    for i in [u'亿',u'万',u'千',u'百',u'十',u'元',u'块',u'毛',u'角',u'分']:\n",
    "        if i in s:\n",
    "            ps=s.split(i)\n",
    "            lp=cn2digit(ps[0])\n",
    "            if lp==0 and i not in [u'元',u'块',u'毛',u'角',u'分']:\n",
    "                lp=1\n",
    "            rp=cn2digit(ps[1])\n",
    "            return 1.0*lp*common_used_numerals.get(i[-1], 0)+rp*1.0\n",
    "    return 1.0*common_used_numerals.get(s[-1], 0)\n",
    "\n",
    "\n",
    "assert( transform(u\"两千7\") == 2700)\n",
    "assert( transform(u\"两万\") == 20000)\n",
    "assert( transform(u\"两千\") == 2000)\n",
    "assert( transform(u\"两毛七\") == 0.27)\n",
    "assert( transform(u\"两毛七分\") == 0.27)\n",
    "assert( transform(u\"两千三百万\") == 23000000)\n",
    "assert( transform(u\"两千三百万零两毛七分\") == 23000000.27)"
   ]
  },
  {
   "cell_type": "code",
   "execution_count": 105,
   "metadata": {
    "ExecuteTime": {
     "end_time": "2018-08-09T23:23:45.272776Z",
     "start_time": "2018-08-09T23:23:45.264948Z"
    }
   },
   "outputs": [
    {
     "data": {
      "text/plain": [
       "12.0"
      ]
     },
     "execution_count": 105,
     "metadata": {},
     "output_type": "execute_result"
    }
   ],
   "source": [
    "transform(u\"十二\")"
   ]
  },
  {
   "cell_type": "code",
   "execution_count": 98,
   "metadata": {
    "ExecuteTime": {
     "end_time": "2018-08-09T06:50:35.611342Z",
     "start_time": "2018-08-09T06:50:35.563122Z"
    }
   },
   "outputs": [],
   "source": [
    "chs_arabic_map = {'零':0, '一':1, '二':2, '三':3, '四':4,\n",
    "        '五':5, '六':6, '七':7, '八':8, '九':9,\n",
    "        '十':10, '百':100, '千':10 ** 3, '万':10 ** 4,\n",
    "        '〇':0, '壹':1, '贰':2, '叁':3, '肆':4,\n",
    "        '伍':5, '陆':6, '柒':7, '捌':8, '玖':9,\n",
    "        '拾':10, '佰':100, '仟':10 ** 3, '萬':10 ** 4,\n",
    "        '亿':10 ** 8, '億':10 ** 8, '幺': 1,\n",
    "        '０':0, '１':1, '２':2, '３':3, '４':4,\n",
    "        '５':5, '６':6, '７':7, '８':8, '９':9}\n",
    "\n",
    "def convertChineseDigitsToArabic (chinese_digits, encoding=\"utf-8\"):\n",
    "#     if isinstance (chinese_digits, str):\n",
    "#         chinese_digits = chinese_digits.decode(encoding)\n",
    "\n",
    "    result  = 0\n",
    "    tmp     = 0\n",
    "    hnd_mln = 0\n",
    "    for count in range(len(chinese_digits)):\n",
    "        curr_char  = chinese_digits[count]\n",
    "        print(curr_char)\n",
    "        curr_digit = chs_arabic_map.get(curr_char, None)\n",
    "        print(curr_digit)\n",
    "        # meet 「亿」 or 「億」\n",
    "        if curr_digit == 10 ** 8:\n",
    "            result  = result + tmp\n",
    "            result  = result * curr_digit\n",
    "            # get result before 「亿」 and store it into hnd_mln\n",
    "            # reset `result`\n",
    "            hnd_mln = hnd_mln * 10 ** 8 + result\n",
    "            result  = 0\n",
    "            tmp     = 0\n",
    "        # meet 「万」 or 「萬」\n",
    "        elif curr_digit == 10 ** 4:\n",
    "            result = result + tmp\n",
    "            result = result * curr_digit\n",
    "            tmp    = 0\n",
    "        # meet 「十」, 「百」, 「千」 or their traditional version\n",
    "        elif curr_digit >= 10:\n",
    "            tmp    = 1 if tmp == 0 else tmp\n",
    "            result = result + curr_digit * tmp\n",
    "            tmp    = 0\n",
    "        # meet single digit\n",
    "        elif curr_digit is not None:\n",
    "            tmp = tmp * 10 + curr_digit\n",
    "        else:\n",
    "            return result\n",
    "    result = result + tmp\n",
    "    result = result + hnd_mln\n",
    "    return result"
   ]
  },
  {
   "cell_type": "code",
   "execution_count": 101,
   "metadata": {
    "ExecuteTime": {
     "end_time": "2018-08-09T06:50:50.417342Z",
     "start_time": "2018-08-09T06:50:50.404115Z"
    }
   },
   "outputs": [
    {
     "name": "stdout",
     "output_type": "stream",
     "text": [
      "二\n",
      "2\n",
      "千\n",
      "1000\n",
      "七\n",
      "7\n"
     ]
    },
    {
     "data": {
      "text/plain": [
       "2007"
      ]
     },
     "execution_count": 101,
     "metadata": {},
     "output_type": "execute_result"
    }
   ],
   "source": [
    "convertChineseDigitsToArabic('二千七')"
   ]
  },
  {
   "cell_type": "code",
   "execution_count": 100,
   "metadata": {
    "ExecuteTime": {
     "end_time": "2018-08-09T06:50:40.310038Z",
     "start_time": "2018-08-09T06:50:40.305574Z"
    }
   },
   "outputs": [],
   "source": [
    "chs_arabic_map.get('两')"
   ]
  },
  {
   "cell_type": "code",
   "execution_count": null,
   "metadata": {},
   "outputs": [],
   "source": [
    "a.encode()"
   ]
  }
 ],
 "metadata": {
  "kernelspec": {
   "display_name": "Python 3",
   "language": "python",
   "name": "python3"
  },
  "language_info": {
   "codemirror_mode": {
    "name": "ipython",
    "version": 3
   },
   "file_extension": ".py",
   "mimetype": "text/x-python",
   "name": "python",
   "nbconvert_exporter": "python",
   "pygments_lexer": "ipython3",
   "version": "3.6.5"
  },
  "varInspector": {
   "cols": {
    "lenName": 16,
    "lenType": 16,
    "lenVar": 40
   },
   "kernels_config": {
    "python": {
     "delete_cmd_postfix": "",
     "delete_cmd_prefix": "del ",
     "library": "var_list.py",
     "varRefreshCmd": "print(var_dic_list())"
    },
    "r": {
     "delete_cmd_postfix": ") ",
     "delete_cmd_prefix": "rm(",
     "library": "var_list.r",
     "varRefreshCmd": "cat(var_dic_list()) "
    }
   },
   "types_to_exclude": [
    "module",
    "function",
    "builtin_function_or_method",
    "instance",
    "_Feature"
   ],
   "window_display": false
  }
 },
 "nbformat": 4,
 "nbformat_minor": 2
}
