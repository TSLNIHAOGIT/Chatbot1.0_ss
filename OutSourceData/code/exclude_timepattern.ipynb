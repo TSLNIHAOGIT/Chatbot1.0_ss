{
 "cells": [
  {
   "cell_type": "code",
   "execution_count": 82,
   "metadata": {
    "ExecuteTime": {
     "end_time": "2018-06-21T19:13:40.233802Z",
     "start_time": "2018-06-21T19:13:40.226826Z"
    },
    "collapsed": true
   },
   "outputs": [],
   "source": [
    "import sys\n",
    "tpattern_path = '../../MLModel/code/TimePattern/'\n",
    "sys.path.append(tpattern_path)\n",
    "from  time_regx_recognize import time_entity_recognize\n",
    "import re\n",
    "import pandas as pd\n",
    "import numpy as np"
   ]
  },
  {
   "cell_type": "code",
   "execution_count": 83,
   "metadata": {
    "ExecuteTime": {
     "end_time": "2018-06-21T19:13:40.665531Z",
     "start_time": "2018-06-21T19:13:40.658965Z"
    },
    "collapsed": true
   },
   "outputs": [],
   "source": [
    "reself = time_entity_recognize(tpattern_path + 'time_words')\n",
    "pattern_words = reself.pattern_words + '|\\d{1,2}月\\d{1,2}[日号]'"
   ]
  },
  {
   "cell_type": "code",
   "execution_count": 84,
   "metadata": {
    "ExecuteTime": {
     "end_time": "2018-06-21T19:13:41.652042Z",
     "start_time": "2018-06-21T19:13:41.609419Z"
    }
   },
   "outputs": [
    {
     "data": {
      "text/plain": [
       "[]"
      ]
     },
     "execution_count": 84,
     "metadata": {},
     "output_type": "execute_result"
    }
   ],
   "source": [
    "string_input='那我会按照分期按时还款的'\n",
    "re.findall(pattern_words, string_input)"
   ]
  },
  {
   "cell_type": "code",
   "execution_count": 85,
   "metadata": {
    "ExecuteTime": {
     "end_time": "2018-06-21T19:13:42.672872Z",
     "start_time": "2018-06-21T19:13:42.661644Z"
    },
    "collapsed": true
   },
   "outputs": [],
   "source": [
    "def exclude(df, labels):\n",
    "    exclude_list = []\n",
    "    for each in labels:\n",
    "        dff = df[df.label == each]\n",
    "        judge_contain_p = list(dff[dff.split_text.apply(containingTime)].index.values)\n",
    "        exclude_list.extend(judge_contain_p)\n",
    "    not_contain_list = list(set(range(len(df))) - set(exclude_list))\n",
    "    return df.iloc[not_contain_list], df.iloc[exclude_list]"
   ]
  },
  {
   "cell_type": "code",
   "execution_count": 86,
   "metadata": {
    "ExecuteTime": {
     "end_time": "2018-06-21T19:13:46.287591Z",
     "start_time": "2018-06-21T19:13:46.199637Z"
    },
    "collapsed": true
   },
   "outputs": [],
   "source": [
    "def containingTime(x):\n",
    "    finds = re.findall(pattern_words, x)\n",
    "    if len(finds) > 0:\n",
    "        return True\n",
    "    else:\n",
    "        return False\n",
    "\n",
    "\n",
    "\n",
    "\n",
    "process_list = ['WillingToPay', 'SetDueDay', 'CutDebt', 'Installment']\n",
    "df_dict = {}\n",
    "for each in process_list:\n",
    "    df_dict[each] = pd.read_csv('../../MLModel/data/{}/mock_up_data_old.csv'.format(each), encoding='utf-8')\n",
    "    if each == 'WillingToPay':\n",
    "        labels = [0,1,2]\n",
    "    else:\n",
    "        labels = [0,1]\n",
    "    df_pure, df_exc = exclude(df_dict[each], labels)\n",
    "    df_pure.to_csv('../../MLModel/data/{}/mock_up_data1.csv'.format(each), encoding='utf-8', index=False)\n",
    "    df_exc.to_csv('../../MLModel/data/{}/mock_up_data_exludes.csv'.format(each), encoding='utf-8', index=False)\n"
   ]
  },
  {
   "cell_type": "code",
   "execution_count": null,
   "metadata": {
    "collapsed": true
   },
   "outputs": [],
   "source": []
  }
 ],
 "metadata": {
  "kernelspec": {
   "display_name": "Python 3",
   "language": "python",
   "name": "python3"
  },
  "language_info": {
   "codemirror_mode": {
    "name": "ipython",
    "version": 3
   },
   "file_extension": ".py",
   "mimetype": "text/x-python",
   "name": "python",
   "nbconvert_exporter": "python",
   "pygments_lexer": "ipython3",
   "version": "3.6.3"
  },
  "varInspector": {
   "cols": {
    "lenName": 16,
    "lenType": 16,
    "lenVar": 40
   },
   "kernels_config": {
    "python": {
     "delete_cmd_postfix": "",
     "delete_cmd_prefix": "del ",
     "library": "var_list.py",
     "varRefreshCmd": "print(var_dic_list())"
    },
    "r": {
     "delete_cmd_postfix": ") ",
     "delete_cmd_prefix": "rm(",
     "library": "var_list.r",
     "varRefreshCmd": "cat(var_dic_list()) "
    }
   },
   "types_to_exclude": [
    "module",
    "function",
    "builtin_function_or_method",
    "instance",
    "_Feature"
   ],
   "window_display": false
  }
 },
 "nbformat": 4,
 "nbformat_minor": 2
}
