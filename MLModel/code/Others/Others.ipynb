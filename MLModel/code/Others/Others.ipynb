{
 "cells": [
  {
   "cell_type": "code",
   "execution_count": 1,
   "metadata": {
    "ExecuteTime": {
     "end_time": "2018-07-30T18:36:36.124872Z",
     "start_time": "2018-07-30T18:36:34.767202Z"
    },
    "scrolled": true
   },
   "outputs": [
    {
     "name": "stderr",
     "output_type": "stream",
     "text": [
      "Building prefix dict from the default dictionary ...\n",
      "Loading model from cache /tmp/jieba.cache\n",
      "Loading model cost 0.788 seconds.\n",
      "Prefix dict has been built succesfully.\n"
     ]
    },
    {
     "name": "stdout",
     "output_type": "stream",
     "text": [
      "(3950, 2)\n",
      "(1408, 8)\n",
      "(16, 9)\n"
     ]
    }
   ],
   "source": [
    "#encoding=utf-8\n",
    "import pandas as pd\n",
    "import numpy as np\n",
    "import re\n",
    "import string\n",
    "\n",
    "import jieba\n",
    "jieba.load_userdict(\"../../code/WordCut/userdict.txt\")\n",
    "\n",
    "import gc\n",
    "\n",
    "import pickle\n",
    "\n",
    "\n",
    "path = '../../data/others/'\n",
    "data = pd.read_csv(path + 'irrelevant_response_training_set.csv', encoding='utf8')\n",
    "data_109 = pd.read_csv(path + 'irrelevant_response_training_set109.csv', encoding='utf8')\n",
    "strategy_mat = pd.read_csv(path + 'strategy_mat.csv', encoding='utf8')\n",
    "\n",
    "print(data.shape)\n",
    "print(data_109.shape)\n",
    "print(strategy_mat.shape)"
   ]
  },
  {
   "cell_type": "code",
   "execution_count": 2,
   "metadata": {
    "ExecuteTime": {
     "end_time": "2018-07-30T18:36:37.327637Z",
     "start_time": "2018-07-30T18:36:37.293339Z"
    }
   },
   "outputs": [
    {
     "data": {
      "text/html": [
       "<div>\n",
       "<style scoped>\n",
       "    .dataframe tbody tr th:only-of-type {\n",
       "        vertical-align: middle;\n",
       "    }\n",
       "\n",
       "    .dataframe tbody tr th {\n",
       "        vertical-align: top;\n",
       "    }\n",
       "\n",
       "    .dataframe thead th {\n",
       "        text-align: right;\n",
       "    }\n",
       "</style>\n",
       "<table border=\"1\" class=\"dataframe\">\n",
       "  <thead>\n",
       "    <tr style=\"text-align: right;\">\n",
       "      <th></th>\n",
       "      <th>category</th>\n",
       "      <th>label</th>\n",
       "      <th>IDClassifier</th>\n",
       "      <th>IfKnowDebtor</th>\n",
       "      <th>ConfirmLoan</th>\n",
       "      <th>WillingToPay</th>\n",
       "      <th>CutDebt</th>\n",
       "      <th>Installment</th>\n",
       "      <th>strategy</th>\n",
       "    </tr>\n",
       "  </thead>\n",
       "  <tbody>\n",
       "    <tr>\n",
       "      <th>0</th>\n",
       "      <td>讨价还价</td>\n",
       "      <td>100</td>\n",
       "      <td>1.0</td>\n",
       "      <td>1.0</td>\n",
       "      <td>1.0</td>\n",
       "      <td>1.0</td>\n",
       "      <td>0.0</td>\n",
       "      <td>0.0</td>\n",
       "      <td>对应节点施压更高level2及以上</td>\n",
       "    </tr>\n",
       "    <tr>\n",
       "      <th>1</th>\n",
       "      <td>说出目的</td>\n",
       "      <td>101</td>\n",
       "      <td>0.0</td>\n",
       "      <td>0.0</td>\n",
       "      <td>1.0</td>\n",
       "      <td>1.0</td>\n",
       "      <td>1.0</td>\n",
       "      <td>1.0</td>\n",
       "      <td>跳到ConfirmLoan的问题，选一条新的话术</td>\n",
       "    </tr>\n",
       "    <tr>\n",
       "      <th>2</th>\n",
       "      <td>确认数额</td>\n",
       "      <td>102</td>\n",
       "      <td>1.0</td>\n",
       "      <td>1.0</td>\n",
       "      <td>1.0</td>\n",
       "      <td>0.0</td>\n",
       "      <td>1.0</td>\n",
       "      <td>1.0</td>\n",
       "      <td>告知欠款明细并施压</td>\n",
       "    </tr>\n",
       "    <tr>\n",
       "      <th>3</th>\n",
       "      <td>确认数额</td>\n",
       "      <td>102</td>\n",
       "      <td>1.0</td>\n",
       "      <td>1.0</td>\n",
       "      <td>1.0</td>\n",
       "      <td>1.0</td>\n",
       "      <td>0.0</td>\n",
       "      <td>1.0</td>\n",
       "      <td>1.核资内容（你逾期XX、欠款多少、利息多少，滞纳金多少等等） 2.减免之后需要多少钱</td>\n",
       "    </tr>\n",
       "    <tr>\n",
       "      <th>4</th>\n",
       "      <td>确认数额</td>\n",
       "      <td>102</td>\n",
       "      <td>1.0</td>\n",
       "      <td>1.0</td>\n",
       "      <td>1.0</td>\n",
       "      <td>1.0</td>\n",
       "      <td>1.0</td>\n",
       "      <td>0.0</td>\n",
       "      <td>1.核资内容（你逾期XX、欠款多少、利息多少，滞纳金多少等等）</td>\n",
       "    </tr>\n",
       "    <tr>\n",
       "      <th>5</th>\n",
       "      <td>请求重复</td>\n",
       "      <td>103</td>\n",
       "      <td>0.0</td>\n",
       "      <td>0.0</td>\n",
       "      <td>0.0</td>\n",
       "      <td>0.0</td>\n",
       "      <td>0.0</td>\n",
       "      <td>0.0</td>\n",
       "      <td>重复刚才说的催收话术，换一条新的话术</td>\n",
       "    </tr>\n",
       "    <tr>\n",
       "      <th>6</th>\n",
       "      <td>请求等下打来</td>\n",
       "      <td>104</td>\n",
       "      <td>0.0</td>\n",
       "      <td>0.0</td>\n",
       "      <td>0.0</td>\n",
       "      <td>0.0</td>\n",
       "      <td>0.0</td>\n",
       "      <td>0.0</td>\n",
       "      <td>约定下次时间：过一会打给你</td>\n",
       "    </tr>\n",
       "    <tr>\n",
       "      <th>7</th>\n",
       "      <td>其它通讯方式</td>\n",
       "      <td>105</td>\n",
       "      <td>1.0</td>\n",
       "      <td>1.0</td>\n",
       "      <td>1.0</td>\n",
       "      <td>0.0</td>\n",
       "      <td>1.0</td>\n",
       "      <td>1.0</td>\n",
       "      <td>（记录通讯方式，例如微信号等，告知马上会有一个主管联系他）</td>\n",
       "    </tr>\n",
       "    <tr>\n",
       "      <th>8</th>\n",
       "      <td>模糊确认</td>\n",
       "      <td>106</td>\n",
       "      <td>1.0</td>\n",
       "      <td>1.0</td>\n",
       "      <td>1.0</td>\n",
       "      <td>0.0</td>\n",
       "      <td>0.0</td>\n",
       "      <td>0.0</td>\n",
       "      <td>对应节点施压，level1</td>\n",
       "    </tr>\n",
       "    <tr>\n",
       "      <th>9</th>\n",
       "      <td>回问身份</td>\n",
       "      <td>107</td>\n",
       "      <td>1.0</td>\n",
       "      <td>1.0</td>\n",
       "      <td>0.0</td>\n",
       "      <td>0.0</td>\n",
       "      <td>0.0</td>\n",
       "      <td>0.0</td>\n",
       "      <td>施压</td>\n",
       "    </tr>\n",
       "    <tr>\n",
       "      <th>10</th>\n",
       "      <td>回问身份</td>\n",
       "      <td>107</td>\n",
       "      <td>0.0</td>\n",
       "      <td>1.0</td>\n",
       "      <td>1.0</td>\n",
       "      <td>1.0</td>\n",
       "      <td>1.0</td>\n",
       "      <td>1.0</td>\n",
       "      <td>跳到cofirmloan</td>\n",
       "    </tr>\n",
       "    <tr>\n",
       "      <th>11</th>\n",
       "      <td>回问身份</td>\n",
       "      <td>107</td>\n",
       "      <td>1.0</td>\n",
       "      <td>0.0</td>\n",
       "      <td>1.0</td>\n",
       "      <td>1.0</td>\n",
       "      <td>1.0</td>\n",
       "      <td>1.0</td>\n",
       "      <td>跳到ifknowdebtor+自我介绍</td>\n",
       "    </tr>\n",
       "    <tr>\n",
       "      <th>12</th>\n",
       "      <td>还款方式</td>\n",
       "      <td>108</td>\n",
       "      <td>1.0</td>\n",
       "      <td>1.0</td>\n",
       "      <td>1.0</td>\n",
       "      <td>0.0</td>\n",
       "      <td>0.0</td>\n",
       "      <td>0.0</td>\n",
       "      <td>告诉支付途径</td>\n",
       "    </tr>\n",
       "    <tr>\n",
       "      <th>13</th>\n",
       "      <td>还款方式</td>\n",
       "      <td>108</td>\n",
       "      <td>1.0</td>\n",
       "      <td>1.0</td>\n",
       "      <td>0.0</td>\n",
       "      <td>1.0</td>\n",
       "      <td>1.0</td>\n",
       "      <td>1.0</td>\n",
       "      <td>告诉支付途径并跳到Willing2Pay</td>\n",
       "    </tr>\n",
       "    <tr>\n",
       "      <th>14</th>\n",
       "      <td>故意岔开话题</td>\n",
       "      <td>109</td>\n",
       "      <td>0.0</td>\n",
       "      <td>0.0</td>\n",
       "      <td>0.0</td>\n",
       "      <td>0.0</td>\n",
       "      <td>0.0</td>\n",
       "      <td>0.0</td>\n",
       "      <td>增加一个共用节点，话题回转拉回主题，然后施压：随着扯的次数施压加重</td>\n",
       "    </tr>\n",
       "    <tr>\n",
       "      <th>15</th>\n",
       "      <td>请求更新金额</td>\n",
       "      <td>110</td>\n",
       "      <td>1.0</td>\n",
       "      <td>1.0</td>\n",
       "      <td>1.0</td>\n",
       "      <td>1.0</td>\n",
       "      <td>0.0</td>\n",
       "      <td>0.0</td>\n",
       "      <td>更新金额，并返回问题。</td>\n",
       "    </tr>\n",
       "  </tbody>\n",
       "</table>\n",
       "</div>"
      ],
      "text/plain": [
       "   category  label  IDClassifier  IfKnowDebtor  ConfirmLoan  WillingToPay  \\\n",
       "0      讨价还价    100           1.0           1.0          1.0           1.0   \n",
       "1      说出目的    101           0.0           0.0          1.0           1.0   \n",
       "2      确认数额    102           1.0           1.0          1.0           0.0   \n",
       "3      确认数额    102           1.0           1.0          1.0           1.0   \n",
       "4      确认数额    102           1.0           1.0          1.0           1.0   \n",
       "5      请求重复    103           0.0           0.0          0.0           0.0   \n",
       "6    请求等下打来    104           0.0           0.0          0.0           0.0   \n",
       "7    其它通讯方式    105           1.0           1.0          1.0           0.0   \n",
       "8      模糊确认    106           1.0           1.0          1.0           0.0   \n",
       "9      回问身份    107           1.0           1.0          0.0           0.0   \n",
       "10     回问身份    107           0.0           1.0          1.0           1.0   \n",
       "11     回问身份    107           1.0           0.0          1.0           1.0   \n",
       "12     还款方式    108           1.0           1.0          1.0           0.0   \n",
       "13     还款方式    108           1.0           1.0          0.0           1.0   \n",
       "14   故意岔开话题    109           0.0           0.0          0.0           0.0   \n",
       "15   请求更新金额    110           1.0           1.0          1.0           1.0   \n",
       "\n",
       "    CutDebt  Installment                                      strategy  \n",
       "0       0.0          0.0                             对应节点施压更高level2及以上  \n",
       "1       1.0          1.0                      跳到ConfirmLoan的问题，选一条新的话术  \n",
       "2       1.0          1.0                                     告知欠款明细并施压  \n",
       "3       0.0          1.0  1.核资内容（你逾期XX、欠款多少、利息多少，滞纳金多少等等） 2.减免之后需要多少钱   \n",
       "4       1.0          0.0              1.核资内容（你逾期XX、欠款多少、利息多少，滞纳金多少等等）   \n",
       "5       0.0          0.0                            重复刚才说的催收话术，换一条新的话术  \n",
       "6       0.0          0.0                                 约定下次时间：过一会打给你  \n",
       "7       1.0          1.0                 （记录通讯方式，例如微信号等，告知马上会有一个主管联系他）  \n",
       "8       0.0          0.0                                 对应节点施压，level1  \n",
       "9       0.0          0.0                                            施压  \n",
       "10      1.0          1.0                                  跳到cofirmloan  \n",
       "11      1.0          1.0                           跳到ifknowdebtor+自我介绍  \n",
       "12      0.0          0.0                                        告诉支付途径  \n",
       "13      1.0          1.0                          告诉支付途径并跳到Willing2Pay  \n",
       "14      0.0          0.0             增加一个共用节点，话题回转拉回主题，然后施压：随着扯的次数施压加重  \n",
       "15      0.0          0.0                                   更新金额，并返回问题。  "
      ]
     },
     "execution_count": 2,
     "metadata": {},
     "output_type": "execute_result"
    }
   ],
   "source": [
    "strategy_mat"
   ]
  },
  {
   "cell_type": "markdown",
   "metadata": {},
   "source": [
    "# data cleaning"
   ]
  },
  {
   "cell_type": "code",
   "execution_count": 3,
   "metadata": {
    "ExecuteTime": {
     "end_time": "2018-07-30T18:36:39.475848Z",
     "start_time": "2018-07-30T18:36:39.146010Z"
    }
   },
   "outputs": [
    {
     "name": "stdout",
     "output_type": "stream",
     "text": [
      "['其它通讯方式' '回问身份' '请求等下打来' '说出目的' '请求重复' '模糊确认' '还款方式' '确认数额' '讨价还价'\n",
      " '请求更新金额']\n",
      "请求等下打来    928\n",
      "请求重复      612\n",
      "模糊确认      583\n",
      "确认数额      357\n",
      "讨价还价      315\n",
      "说出目的      314\n",
      "回问身份      301\n",
      "还款方式      271\n",
      "其它通讯方式    229\n",
      "请求更新金额     40\n",
      "Name: label, dtype: int64\n",
      "finish cutting words\n",
      "finish shuffling\n"
     ]
    }
   ],
   "source": [
    "data = data.rename(index=str, columns={'文本': 'text', '类别': 'label'})\n",
    "data_109 = data_109.rename(index=str, columns={'文本': 'text', '类别': 'label'})\n",
    "\n",
    "print(data['label'].unique())\n",
    "print(data.label.value_counts())\n",
    "\n",
    "mapping = strategy_mat.set_index('category').label.drop_duplicates()\n",
    "\n",
    "def cut_words(text):\n",
    "    seg_list = jieba.cut(text, cut_all=False)\n",
    "    return \" \".join(seg_list)\n",
    "\n",
    "def clean(text):\n",
    "    text = re.sub(f'([{string.punctuation}“”¨«»®´·º ½¾¿¡§£₤‘’，])',' ', text)\n",
    "    text = text.split(' ')\n",
    "    text = ' '.join(text)\n",
    "    return text\n",
    "\n",
    "\n",
    "\n",
    "    \n",
    "# cut words\n",
    "data['text']=data['text'].apply(cut_words)\n",
    "data_109['text']=data_109['text'].apply(cut_words)\n",
    "print('finish cutting words')\n",
    "\n",
    "# cleaning and save\n",
    "data['text'] = data['text'].apply(clean)\n",
    "data['label'] = data['label'].map(mapping)\n",
    "data_109['text'] = data_109['text'].apply(clean)\n",
    "data_109['label'] = data_109['label'].map(mapping)\n",
    "\n",
    "# shuffle data\n",
    "data = data.sample(frac=1).reset_index(drop=True)\n",
    "data_109 = data_109.sample(frac=1).reset_index(drop=True)\n",
    "print('finish shuffling')\n",
    "\n",
    "\n",
    "\n",
    "\n",
    "data.to_csv(path + 'cleaned_mock_up_data_non109.csv', index = False, encoding = 'utf8')\n",
    "data_109.to_csv(path + 'cleaned_mock_up_data_109.csv', index = False, encoding = 'utf8')\n",
    "\n",
    "\n",
    "\n"
   ]
  },
  {
   "cell_type": "markdown",
   "metadata": {
    "ExecuteTime": {
     "end_time": "2018-06-27T19:12:47.658354Z",
     "start_time": "2018-06-27T19:12:47.655287Z"
    }
   },
   "source": [
    "# modeling"
   ]
  },
  {
   "cell_type": "code",
   "execution_count": 4,
   "metadata": {
    "ExecuteTime": {
     "end_time": "2018-07-30T18:36:41.152348Z",
     "start_time": "2018-07-30T18:36:40.744431Z"
    }
   },
   "outputs": [],
   "source": [
    "from sklearn.feature_extraction.text import CountVectorizer, TfidfVectorizer, TfidfTransformer\n",
    "from sklearn.calibration import CalibratedClassifierCV\n",
    "from sklearn.svm import LinearSVC\n",
    "from sklearn.linear_model import LogisticRegression\n",
    "from sklearn import preprocessing\n",
    "from sklearn.preprocessing import MultiLabelBinarizer\n",
    "from sklearn.naive_bayes import MultinomialNB\n",
    "\n",
    "from others_py import *\n"
   ]
  },
  {
   "cell_type": "code",
   "execution_count": 5,
   "metadata": {
    "ExecuteTime": {
     "end_time": "2018-07-30T18:36:41.646652Z",
     "start_time": "2018-07-30T18:36:41.637961Z"
    }
   },
   "outputs": [],
   "source": [
    "model_list = {'CutDebt':CutDebt_other,\n",
    "              'IDClassifier':IDClassifier_other,\n",
    "              'IfKnowDebtor':IfKnowDebtor_other,\n",
    "              'Installment':Installment_other,\n",
    "              'ConfirmLoan':ConfirmLoan_other,\n",
    "              'WillingToPay':WillingToPay_other}"
   ]
  },
  {
   "cell_type": "code",
   "execution_count": 6,
   "metadata": {
    "ExecuteTime": {
     "end_time": "2018-07-30T18:36:42.372814Z",
     "start_time": "2018-07-30T18:36:42.366793Z"
    }
   },
   "outputs": [],
   "source": [
    "def get_other_data(df_non109,df_109,strategy_mat,classifier):\n",
    "    possible_label = sorted(list(set(strategy_mat[strategy_mat[classifier]==0]['label'].values)))\n",
    "    train_data_non109 = df_non109[df_non109['label'].apply(lambda x: x in possible_label)]\n",
    "    train_data_109 = df_109[df_109[classifier]==0]\n",
    "    data = pd.concat([train_data_non109,train_data_109],ignore_index=True,sort=True)\n",
    "    return data\n",
    "    \n"
   ]
  },
  {
   "cell_type": "code",
   "execution_count": 7,
   "metadata": {
    "ExecuteTime": {
     "end_time": "2018-07-30T18:36:47.808343Z",
     "start_time": "2018-07-30T18:36:43.096791Z"
    }
   },
   "outputs": [
    {
     "name": "stdout",
     "output_type": "stream",
     "text": [
      "CutDebt\n",
      "109    1291\n",
      "104     928\n",
      "103     612\n",
      "106     583\n",
      "102     357\n",
      "100     315\n",
      "107     301\n",
      "108     271\n",
      "110      40\n",
      "Name: label, dtype: int64\n",
      "fitting phrase\n",
      "transform phrase\n",
      "finish training\n",
      "CutDebt\n",
      "IDClassifier\n",
      "109    1331\n",
      "104     928\n",
      "103     612\n",
      "101     314\n",
      "107     301\n",
      "Name: label, dtype: int64\n",
      "fitting phrase\n",
      "transform phrase\n",
      "finish training\n",
      "IDClassifier\n",
      "IfKnowDebtor\n",
      "109    1313\n",
      "104     928\n",
      "103     612\n",
      "101     314\n",
      "107     301\n",
      "Name: label, dtype: int64\n",
      "fitting phrase\n",
      "transform phrase\n",
      "finish training\n",
      "IfKnowDebtor\n",
      "Installment\n",
      "109    1296\n",
      "104     928\n",
      "103     612\n",
      "106     583\n",
      "102     357\n",
      "100     315\n",
      "107     301\n",
      "108     271\n",
      "110      40\n",
      "Name: label, dtype: int64\n",
      "fitting phrase\n",
      "transform phrase\n",
      "finish training\n",
      "Installment\n",
      "ConfirmLoan\n",
      "109    1233\n",
      "104     928\n",
      "103     612\n",
      "107     301\n",
      "108     271\n",
      "Name: label, dtype: int64\n",
      "fitting phrase\n",
      "transform phrase\n",
      "finish training\n",
      "ConfirmLoan\n",
      "WillingToPay\n",
      "109    1295\n",
      "104     928\n",
      "103     612\n",
      "106     583\n",
      "102     357\n",
      "107     301\n",
      "108     271\n",
      "105     229\n",
      "Name: label, dtype: int64\n",
      "fitting phrase\n",
      "transform phrase\n",
      "finish training\n",
      "WillingToPay\n"
     ]
    }
   ],
   "source": [
    "\n",
    "for each_model in model_list:\n",
    "    print(each_model)\n",
    "    train_data = get_other_data(data,data_109,strategy_mat,each_model)\n",
    "    train_data = train_data.sample(frac=1,random_state=19)\n",
    "    print(train_data.label.value_counts())\n",
    "    \n",
    "    # get tfidf\n",
    "    phrase_vectorizer = TfidfVectorizer(ngram_range=(1,3),\n",
    "                                    strip_accents='unicode', \n",
    "                                    max_features=100000, \n",
    "                                    analyzer='word',\n",
    "                                    sublinear_tf=True,\n",
    "                                    token_pattern=r'\\w{1,}')\n",
    "\n",
    "    print('fitting phrase')\n",
    "    phrase_vectorizer.fit(train_data.text)\n",
    "\n",
    "    print('transform phrase')\n",
    "    phrase = phrase_vectorizer.transform(train_data.text)\n",
    "\n",
    "    \n",
    "    # linear svc\n",
    "    l_svc = LinearSVC()\n",
    "    lsvc = CalibratedClassifierCV(l_svc) \n",
    "    lsvc.fit(phrase, train_data.label)\n",
    "    \n",
    "    \n",
    "    # logistic\n",
    "    log_r = LogisticRegression()\n",
    "    log_r.fit(phrase, train_data.label)\n",
    "    \n",
    "    \n",
    "    # Naive Bayes\n",
    "    naive_b = MultinomialNB()\n",
    "    naive_b.fit(phrase, train_data.label)\n",
    "    \n",
    "    print('finish training')\n",
    "    \n",
    "    \n",
    "    # save model\n",
    "    save_path = '../../savedModel/others/{}/'\n",
    "\n",
    "    print(each_model)\n",
    "    result = model_list[each_model](svc=lsvc, logistic=log_r, nb=naive_b, tfidf=phrase_vectorizer, jieba_path='../WordCut/userdict.txt',possible_label=lsvc.classes_)\n",
    "    pickle.dump(result, open(save_path.format(each_model) + each_model + '_other.pickle', \"wb\"))\n",
    "\n",
    "    \n",
    "   "
   ]
  },
  {
   "cell_type": "code",
   "execution_count": 9,
   "metadata": {
    "ExecuteTime": {
     "end_time": "2018-07-19T03:23:35.432522Z",
     "start_time": "2018-07-19T03:23:35.096381Z"
    }
   },
   "outputs": [],
   "source": [
    "# coder = {'讨价还价':0, '说出目的':1, '确认数额':2, '请求重复':3, '请求等下打来':4, '其它通讯方式':5, '模糊确认':6, '回问身份':7, '还款方式':8, '故意岔开话题':9, '不愿配合':10}\n",
    "\n",
    "idc = pickle.load(open(\"../../savedModel/others/IDClassifier/IDClassifier_other.pickle\", 'rb'))\n",
    "cutd = pickle.load(open(\"../../savedModel/others/CutDebt/CutDebt_other.pickle\", 'rb'))\n",
    "ifk = pickle.load(open(\"../../savedModel/others/IfKnowDebtor/IfKnowDebtor_other.pickle\", 'rb'))\n",
    "will = pickle.load(open(\"../../savedModel/others/WillingToPay/WillingToPay_other.pickle\", 'rb'))\n",
    "inst = pickle.load(open(\"../../savedModel/others/Installment/Installment_other.pickle\", 'rb'))\n",
    "conf = pickle.load(open(\"../../savedModel/others/ConfirmLoan/ConfirmLoan_other.pickle\", 'rb'))"
   ]
  },
  {
   "cell_type": "code",
   "execution_count": 10,
   "metadata": {
    "ExecuteTime": {
     "end_time": "2018-07-19T03:23:35.830257Z",
     "start_time": "2018-07-19T03:23:35.814135Z"
    }
   },
   "outputs": [
    {
     "data": {
      "text/plain": [
       "{'label': 103,\n",
       " 'pred_prob': array([[0.00972847, 0.89080727, 0.00790702, 0.00593046, 0.08562679],\n",
       "        [0.02842283, 0.69437368, 0.0387822 , 0.01643383, 0.22198746],\n",
       "        [0.01234623, 0.77669322, 0.03280712, 0.00960237, 0.16855106]]),\n",
       " 'av_pred': array([0.01683251, 0.78729139, 0.02649878, 0.01065555, 0.15872177])}"
      ]
     },
     "execution_count": 10,
     "metadata": {},
     "output_type": "execute_result"
    }
   ],
   "source": [
    "idc.classify('风太大了，听不清')"
   ]
  },
  {
   "cell_type": "code",
   "execution_count": null,
   "metadata": {
    "collapsed": true
   },
   "outputs": [],
   "source": [
    "# save pickle for possible labels"
   ]
  },
  {
   "cell_type": "code",
   "execution_count": null,
   "metadata": {},
   "outputs": [],
   "source": []
  }
 ],
 "metadata": {
  "kernelspec": {
   "display_name": "Python 3",
   "language": "python",
   "name": "python3"
  },
  "language_info": {
   "codemirror_mode": {
    "name": "ipython",
    "version": 3
   },
   "file_extension": ".py",
   "mimetype": "text/x-python",
   "name": "python",
   "nbconvert_exporter": "python",
   "pygments_lexer": "ipython3",
   "version": "3.6.5"
  },
  "varInspector": {
   "cols": {
    "lenName": 16,
    "lenType": 16,
    "lenVar": 40
   },
   "kernels_config": {
    "python": {
     "delete_cmd_postfix": "",
     "delete_cmd_prefix": "del ",
     "library": "var_list.py",
     "varRefreshCmd": "print(var_dic_list())"
    },
    "r": {
     "delete_cmd_postfix": ") ",
     "delete_cmd_prefix": "rm(",
     "library": "var_list.r",
     "varRefreshCmd": "cat(var_dic_list()) "
    }
   },
   "types_to_exclude": [
    "module",
    "function",
    "builtin_function_or_method",
    "instance",
    "_Feature"
   ],
   "window_display": false
  }
 },
 "nbformat": 4,
 "nbformat_minor": 2
}
