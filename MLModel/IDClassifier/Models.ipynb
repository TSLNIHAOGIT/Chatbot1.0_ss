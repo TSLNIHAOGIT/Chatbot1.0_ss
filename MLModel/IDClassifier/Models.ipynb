{
 "cells": [
  {
   "cell_type": "code",
   "execution_count": 1,
   "metadata": {
    "ExecuteTime": {
     "end_time": "2018-05-24T18:38:42.018597Z",
     "start_time": "2018-05-24T18:38:41.678849Z"
    },
    "collapsed": true
   },
   "outputs": [],
   "source": [
    "#encoding=utf-8\n",
    "import pandas as pd\n",
    "import numpy as np\n",
    "from sklearn.feature_extraction.text import CountVectorizer, TfidfVectorizer, TfidfTransformer"
   ]
  },
  {
   "cell_type": "markdown",
   "metadata": {},
   "source": [
    "# get tfidf"
   ]
  },
  {
   "cell_type": "code",
   "execution_count": 2,
   "metadata": {
    "ExecuteTime": {
     "end_time": "2018-05-24T18:38:43.393011Z",
     "start_time": "2018-05-24T18:38:43.366915Z"
    },
    "scrolled": true
   },
   "outputs": [
    {
     "name": "stdout",
     "output_type": "stream",
     "text": [
      "(186, 2)\n"
     ]
    },
    {
     "data": {
      "text/html": [
       "<div>\n",
       "<style>\n",
       "    .dataframe thead tr:only-child th {\n",
       "        text-align: right;\n",
       "    }\n",
       "\n",
       "    .dataframe thead th {\n",
       "        text-align: left;\n",
       "    }\n",
       "\n",
       "    .dataframe tbody tr th {\n",
       "        vertical-align: top;\n",
       "    }\n",
       "</style>\n",
       "<table border=\"1\" class=\"dataframe\">\n",
       "  <thead>\n",
       "    <tr style=\"text-align: right;\">\n",
       "      <th></th>\n",
       "      <th>split_text</th>\n",
       "      <th>label</th>\n",
       "    </tr>\n",
       "  </thead>\n",
       "  <tbody>\n",
       "    <tr>\n",
       "      <th>0</th>\n",
       "      <td>['啊']</td>\n",
       "      <td>1</td>\n",
       "    </tr>\n",
       "    <tr>\n",
       "      <th>1</th>\n",
       "      <td>['你', '有病', '吧', '我', '跟你', '说过', '很多次', '了', ...</td>\n",
       "      <td>2</td>\n",
       "    </tr>\n",
       "    <tr>\n",
       "      <th>2</th>\n",
       "      <td>['不是', '什么事']</td>\n",
       "      <td>2</td>\n",
       "    </tr>\n",
       "    <tr>\n",
       "      <th>3</th>\n",
       "      <td>['啊', '对']</td>\n",
       "      <td>1</td>\n",
       "    </tr>\n",
       "    <tr>\n",
       "      <th>4</th>\n",
       "      <td>['对']</td>\n",
       "      <td>1</td>\n",
       "    </tr>\n",
       "    <tr>\n",
       "      <th>5</th>\n",
       "      <td>['对']</td>\n",
       "      <td>1</td>\n",
       "    </tr>\n",
       "    <tr>\n",
       "      <th>6</th>\n",
       "      <td>['我', '不是', '啊']</td>\n",
       "      <td>2</td>\n",
       "    </tr>\n",
       "    <tr>\n",
       "      <th>7</th>\n",
       "      <td>['噢']</td>\n",
       "      <td>1</td>\n",
       "    </tr>\n",
       "    <tr>\n",
       "      <th>8</th>\n",
       "      <td>['啊']</td>\n",
       "      <td>1</td>\n",
       "    </tr>\n",
       "    <tr>\n",
       "      <th>9</th>\n",
       "      <td>['啊']</td>\n",
       "      <td>1</td>\n",
       "    </tr>\n",
       "  </tbody>\n",
       "</table>\n",
       "</div>"
      ],
      "text/plain": [
       "                                          split_text  label\n",
       "0                                              ['啊']      1\n",
       "1  ['你', '有病', '吧', '我', '跟你', '说过', '很多次', '了', ...      2\n",
       "2                                      ['不是', '什么事']      2\n",
       "3                                         ['啊', '对']      1\n",
       "4                                              ['对']      1\n",
       "5                                              ['对']      1\n",
       "6                                   ['我', '不是', '啊']      2\n",
       "7                                              ['噢']      1\n",
       "8                                              ['啊']      1\n",
       "9                                              ['啊']      1"
      ]
     },
     "execution_count": 2,
     "metadata": {},
     "output_type": "execute_result"
    }
   ],
   "source": [
    "path = '/home/kai/data/jiangning/Chatbot_1/Chatbot1.0/data/'\n",
    "data = pd.read_csv(path + 'cleaned_mock_up_data.csv', encoding='utf8')\n",
    "print(data.shape)\n",
    "data.head(10)"
   ]
  },
  {
   "cell_type": "code",
   "execution_count": 3,
   "metadata": {
    "ExecuteTime": {
     "end_time": "2018-05-24T18:38:44.493397Z",
     "start_time": "2018-05-24T18:38:44.488246Z"
    }
   },
   "outputs": [],
   "source": [
    "# phrase_vectorizer1 = TfidfVectorizer(ngram_range=(1,3),\n",
    "#                                     strip_accents='unicode', \n",
    "#                                     max_features=100000, \n",
    "#                                     analyzer='word',\n",
    "#                                     sublinear_tf=True,\n",
    "#                                     token_pattern=r'\\w{1,}')\n",
    "# data.split_text.iloc[:2]\n",
    "# dd = ['I like apple do you like it', 'I do not like banana']\n",
    "# phrase_vectorizer1.fit(dd)\n",
    "\n",
    "# print('transform phrase')\n",
    "# phrase = phrase_vectorizer1.transform(dd)\n"
   ]
  },
  {
   "cell_type": "code",
   "execution_count": 4,
   "metadata": {
    "ExecuteTime": {
     "end_time": "2018-05-24T18:38:45.320717Z",
     "start_time": "2018-05-24T18:38:45.315902Z"
    }
   },
   "outputs": [
    {
     "data": {
      "text/plain": [
       "\"['你', '有病', '吧', '我', '跟你', '说过', '很多次', '了', '我', '不是', '他']\""
      ]
     },
     "execution_count": 4,
     "metadata": {},
     "output_type": "execute_result"
    }
   ],
   "source": [
    "data.split_text.iloc[1]"
   ]
  },
  {
   "cell_type": "code",
   "execution_count": 6,
   "metadata": {
    "ExecuteTime": {
     "end_time": "2018-05-24T18:39:08.213514Z",
     "start_time": "2018-05-24T18:39:08.210611Z"
    }
   },
   "outputs": [],
   "source": [
    "# phrase_vectorizer1.vocabulary_"
   ]
  },
  {
   "cell_type": "code",
   "execution_count": 7,
   "metadata": {
    "ExecuteTime": {
     "end_time": "2018-05-24T18:39:09.045893Z",
     "start_time": "2018-05-24T18:39:09.009145Z"
    }
   },
   "outputs": [
    {
     "name": "stdout",
     "output_type": "stream",
     "text": [
      "fitting phrase\n",
      "transform phrase\n"
     ]
    },
    {
     "data": {
      "text/plain": [
       "<186x896 sparse matrix of type '<class 'numpy.float64'>'\n",
       "\twith 1515 stored elements in Compressed Sparse Row format>"
      ]
     },
     "execution_count": 7,
     "metadata": {},
     "output_type": "execute_result"
    }
   ],
   "source": [
    "phrase_vectorizer = TfidfVectorizer(ngram_range=(1,3),\n",
    "                                    strip_accents='unicode', \n",
    "                                    max_features=100000, \n",
    "                                    analyzer='word',\n",
    "                                    sublinear_tf=True,\n",
    "                                    token_pattern=r'\\w{1,}')\n",
    "\n",
    "print('fitting phrase')\n",
    "phrase_vectorizer.fit(data.split_text)\n",
    "\n",
    "print('transform phrase')\n",
    "phrase = phrase_vectorizer.transform(data.split_text)\n",
    "\n",
    "phrase"
   ]
  },
  {
   "cell_type": "markdown",
   "metadata": {},
   "source": [
    "# SVC"
   ]
  },
  {
   "cell_type": "code",
   "execution_count": 8,
   "metadata": {
    "ExecuteTime": {
     "end_time": "2018-05-24T18:39:25.320305Z",
     "start_time": "2018-05-24T18:39:25.259340Z"
    },
    "collapsed": true
   },
   "outputs": [],
   "source": [
    "from sklearn.svm import LinearSVC"
   ]
  },
  {
   "cell_type": "code",
   "execution_count": 9,
   "metadata": {
    "ExecuteTime": {
     "end_time": "2018-05-24T18:39:26.013830Z",
     "start_time": "2018-05-24T18:39:25.997407Z"
    }
   },
   "outputs": [
    {
     "name": "stdout",
     "output_type": "stream",
     "text": [
      "1.0\n"
     ]
    }
   ],
   "source": [
    "l_svc = LinearSVC()\n",
    "l_svc.fit(phrase, data.label)\n",
    "print(l_svc.score(phrase, data.label))"
   ]
  },
  {
   "cell_type": "code",
   "execution_count": 10,
   "metadata": {
    "ExecuteTime": {
     "end_time": "2018-05-24T18:39:27.273836Z",
     "start_time": "2018-05-24T18:39:27.268798Z"
    }
   },
   "outputs": [
    {
     "name": "stdout",
     "output_type": "stream",
     "text": [
      "[1 2 2 1 1 1 2 1 1 1 1 1 1 1 1 1 1 1 1 1 1 1 1 1 1 1 1 1 1 1 1 1 1 1 1 1 1\n",
      " 1 1 1 1 1 1 2 2 1 1 1 1 1 1 1 1 1 1 1 1 1 1 1 1 1 2 2 2 2 2 1 3 3 3 3 3 3\n",
      " 3 1 1 1 1 3 3 3 1 2 2 3 3 2 1 1 3 3 3 3 2 2 2 3 1 1 2 1 1 1 1 1 1 1 2 3 2\n",
      " 1 1 3 3 1 1 1 2 1 1 1 1 2 1 2 1 2 2 3 3 2 1 3 2 3 3 2 2 2 1 3 2 1 1 1 2 2\n",
      " 1 1 1 2 3 3 1 3 3 2 1 1 2 3 1 3 2 1 1 2 2 2 1 1 2 1 1 1 1 1 1 1 1 1 2 2 1\n",
      " 1]\n"
     ]
    }
   ],
   "source": [
    "print(l_svc.predict(phrase))"
   ]
  },
  {
   "cell_type": "markdown",
   "metadata": {},
   "source": [
    "# logistic"
   ]
  },
  {
   "cell_type": "code",
   "execution_count": 11,
   "metadata": {
    "ExecuteTime": {
     "end_time": "2018-05-24T18:39:28.818624Z",
     "start_time": "2018-05-24T18:39:28.815370Z"
    },
    "collapsed": true
   },
   "outputs": [],
   "source": [
    "from sklearn.linear_model import LogisticRegression"
   ]
  },
  {
   "cell_type": "code",
   "execution_count": 12,
   "metadata": {
    "ExecuteTime": {
     "end_time": "2018-05-24T18:39:29.289120Z",
     "start_time": "2018-05-24T18:39:29.255208Z"
    }
   },
   "outputs": [
    {
     "name": "stdout",
     "output_type": "stream",
     "text": [
      "0.811827956989\n"
     ]
    }
   ],
   "source": [
    "log_r = LogisticRegression()\n",
    "log_r.fit(phrase, data.label)\n",
    "print(log_r.score(phrase, data.label))"
   ]
  },
  {
   "cell_type": "code",
   "execution_count": 26,
   "metadata": {
    "ExecuteTime": {
     "end_time": "2018-05-24T18:49:15.924104Z",
     "start_time": "2018-05-24T18:49:15.918794Z"
    }
   },
   "outputs": [
    {
     "name": "stdout",
     "output_type": "stream",
     "text": [
      "[1 2 2 1 1 1 2 1 1 1 1 1 1 1 1 1 1 1 1 1 1 1 1 1 1 1 1 1 1 1 1 1 1 1 1 1 1\n",
      " 1 1 1 1 1 1 2 2 1 1 1 1 1 1 1 1 1 1 1 1 1 1 1 1 1 2 2 2 2 1 1 1 1 3 1 1 1\n",
      " 1 1 1 1 1 1 1 1 1 2 2 1 1 2 1 1 1 1 1 1 2 2 2 1 1 1 1 1 1 1 1 1 1 1 2 1 2\n",
      " 1 1 3 1 1 1 1 2 1 1 1 1 2 1 2 1 1 2 1 1 2 1 1 2 1 1 1 2 2 1 1 2 1 1 1 2 2\n",
      " 1 1 1 2 1 1 1 1 3 2 1 1 2 3 1 1 1 1 1 2 1 2 1 1 2 1 1 1 1 1 1 1 1 1 2 1 1\n",
      " 1]\n"
     ]
    }
   ],
   "source": [
    "print(log_r.predict(phrase))"
   ]
  },
  {
   "cell_type": "code",
   "execution_count": 27,
   "metadata": {
    "ExecuteTime": {
     "end_time": "2018-05-24T18:49:22.514247Z",
     "start_time": "2018-05-24T18:49:22.508168Z"
    }
   },
   "outputs": [
    {
     "data": {
      "text/plain": [
       "array([0, 0, 0, 0, 0, 0, 0, 0, 0, 0, 0, 0, 0, 0, 0, 0, 0, 0, 0, 0, 0, 0, 0,\n",
       "       0, 0, 0, 0, 0, 0, 0, 0, 0, 0, 0, 0, 0, 0, 0, 0, 0, 0, 0, 0, 0, 0, 0,\n",
       "       0, 0, 0, 0, 0, 0, 0, 0, 0, 0, 0, 0, 0, 0, 0, 0, 0, 0, 0, 0, 1, 0, 2,\n",
       "       2, 0, 2, 2, 2, 2, 0, 0, 0, 0, 2, 2, 2, 0, 0, 0, 2, 2, 0, 0, 0, 2, 2,\n",
       "       2, 2, 0, 0, 0, 2, 0, 0, 1, 0, 0, 0, 0, 0, 0, 0, 0, 2, 0, 0, 0, 0, 2,\n",
       "       0, 0, 0, 0, 0, 0, 0, 0, 0, 0, 0, 0, 1, 0, 2, 2, 0, 0, 2, 0, 2, 2, 1,\n",
       "       0, 0, 0, 2, 0, 0, 0, 0, 0, 0, 0, 0, 0, 0, 2, 2, 0, 2, 0, 0, 0, 0, 0,\n",
       "       0, 0, 2, 1, 0, 0, 0, 1, 0, 0, 0, 0, 0, 0, 0, 0, 0, 0, 0, 0, 0, 0, 1,\n",
       "       0, 0])"
      ]
     },
     "execution_count": 27,
     "metadata": {},
     "output_type": "execute_result"
    }
   ],
   "source": [
    "# l_svc.predict(phrase)-log_r.predict(phrase)"
   ]
  },
  {
   "cell_type": "markdown",
   "metadata": {},
   "source": [
    "# lightGBM"
   ]
  },
  {
   "cell_type": "code",
   "execution_count": 14,
   "metadata": {
    "ExecuteTime": {
     "end_time": "2018-05-24T18:39:40.378710Z",
     "start_time": "2018-05-24T18:39:40.359187Z"
    },
    "collapsed": true
   },
   "outputs": [],
   "source": [
    "import lightgbm as lgb"
   ]
  },
  {
   "cell_type": "code",
   "execution_count": 15,
   "metadata": {
    "ExecuteTime": {
     "end_time": "2018-05-24T18:39:41.615474Z",
     "start_time": "2018-05-24T18:39:41.609961Z"
    },
    "collapsed": true
   },
   "outputs": [],
   "source": [
    "from sklearn import preprocessing\n",
    "le = preprocessing.LabelEncoder()\n",
    "le.fit(data.label.values)\n",
    "onelabels = le.transform(data.label.values)"
   ]
  },
  {
   "cell_type": "code",
   "execution_count": 16,
   "metadata": {
    "ExecuteTime": {
     "end_time": "2018-05-24T18:39:42.306544Z",
     "start_time": "2018-05-24T18:39:42.301292Z"
    }
   },
   "outputs": [
    {
     "data": {
      "text/plain": [
       "array([0, 1, 1, 0, 0, 0, 1, 0, 0, 0, 0, 0, 0, 0, 0, 0, 0, 0, 0, 0, 0, 0, 0,\n",
       "       0, 0, 0, 0, 0, 0, 0, 0, 0, 0, 0, 0, 0, 0, 0, 0, 0, 0, 0, 0, 1, 1, 0,\n",
       "       0, 0, 0, 0, 0, 0, 0, 0, 0, 0, 0, 0, 0, 0, 0, 0, 1, 1, 1, 1, 1, 0, 2,\n",
       "       2, 2, 2, 2, 2, 2, 0, 0, 0, 0, 2, 2, 2, 0, 1, 1, 2, 2, 1, 0, 0, 2, 2,\n",
       "       2, 2, 1, 1, 1, 2, 0, 0, 1, 0, 0, 0, 0, 0, 0, 0, 1, 2, 1, 0, 0, 2, 2,\n",
       "       0, 0, 0, 1, 0, 0, 0, 0, 1, 0, 1, 0, 1, 1, 2, 2, 1, 0, 2, 1, 2, 2, 1,\n",
       "       1, 1, 0, 2, 1, 0, 0, 0, 1, 1, 0, 0, 0, 1, 2, 2, 0, 2, 2, 1, 0, 0, 1,\n",
       "       2, 0, 2, 1, 0, 0, 1, 1, 1, 0, 0, 1, 0, 0, 0, 0, 0, 0, 0, 0, 0, 1, 1,\n",
       "       0, 0])"
      ]
     },
     "execution_count": 16,
     "metadata": {},
     "output_type": "execute_result"
    }
   ],
   "source": [
    "onelabels"
   ]
  },
  {
   "cell_type": "code",
   "execution_count": 17,
   "metadata": {
    "ExecuteTime": {
     "end_time": "2018-05-24T18:39:43.167359Z",
     "start_time": "2018-05-24T18:39:43.162186Z"
    },
    "collapsed": true
   },
   "outputs": [],
   "source": [
    "from sklearn.preprocessing import MultiLabelBinarizer\n",
    "multicoder = MultiLabelBinarizer()\n",
    "lables = multicoder.fit_transform([data.label.values])"
   ]
  },
  {
   "cell_type": "code",
   "execution_count": 18,
   "metadata": {
    "ExecuteTime": {
     "end_time": "2018-05-24T18:39:45.663380Z",
     "start_time": "2018-05-24T18:39:45.658754Z"
    }
   },
   "outputs": [
    {
     "data": {
      "text/plain": [
       "array([[1, 1, 1]])"
      ]
     },
     "execution_count": 18,
     "metadata": {},
     "output_type": "execute_result"
    }
   ],
   "source": [
    "lables"
   ]
  },
  {
   "cell_type": "code",
   "execution_count": 19,
   "metadata": {
    "ExecuteTime": {
     "end_time": "2018-05-24T18:39:56.406629Z",
     "start_time": "2018-05-24T18:39:56.401132Z"
    }
   },
   "outputs": [
    {
     "data": {
      "text/plain": [
       "array([1, 2, 2, 1, 1, 1, 2, 1, 1, 1, 1, 1, 1, 1, 1, 1, 1, 1, 1, 1, 1, 1, 1,\n",
       "       1, 1, 1, 1, 1, 1, 1, 1, 1, 1, 1, 1, 1, 1, 1, 1, 1, 1, 1, 1, 2, 2, 1,\n",
       "       1, 1, 1, 1, 1, 1, 1, 1, 1, 1, 1, 1, 1, 1, 1, 1, 2, 2, 2, 2, 2, 1, 3,\n",
       "       3, 3, 3, 3, 3, 3, 1, 1, 1, 1, 3, 3, 3, 1, 2, 2, 3, 3, 2, 1, 1, 3, 3,\n",
       "       3, 3, 2, 2, 2, 3, 1, 1, 2, 1, 1, 1, 1, 1, 1, 1, 2, 3, 2, 1, 1, 3, 3,\n",
       "       1, 1, 1, 2, 1, 1, 1, 1, 2, 1, 2, 1, 2, 2, 3, 3, 2, 1, 3, 2, 3, 3, 2,\n",
       "       2, 2, 1, 3, 2, 1, 1, 1, 2, 2, 1, 1, 1, 2, 3, 3, 1, 3, 3, 2, 1, 1, 2,\n",
       "       3, 1, 3, 2, 1, 1, 2, 2, 2, 1, 1, 2, 1, 1, 1, 1, 1, 1, 1, 1, 1, 2, 2,\n",
       "       1, 1])"
      ]
     },
     "execution_count": 19,
     "metadata": {},
     "output_type": "execute_result"
    }
   ],
   "source": [
    "data.label.values"
   ]
  },
  {
   "cell_type": "code",
   "execution_count": 20,
   "metadata": {
    "ExecuteTime": {
     "end_time": "2018-05-24T18:39:58.611298Z",
     "start_time": "2018-05-24T18:39:58.590455Z"
    }
   },
   "outputs": [
    {
     "ename": "AttributeError",
     "evalue": "'numpy.ndarray' object has no attribute 'todense'",
     "output_type": "error",
     "traceback": [
      "\u001b[0;31m---------------------------------------------------------------------------\u001b[0m",
      "\u001b[0;31mAttributeError\u001b[0m                            Traceback (most recent call last)",
      "\u001b[0;32m<ipython-input-20-1def9afd3fc7>\u001b[0m in \u001b[0;36m<module>\u001b[0;34m()\u001b[0m\n\u001b[0;32m----> 1\u001b[0;31m \u001b[0mlables\u001b[0m\u001b[0;34m.\u001b[0m\u001b[0mtodense\u001b[0m\u001b[0;34m(\u001b[0m\u001b[0;34m)\u001b[0m\u001b[0;34m\u001b[0m\u001b[0m\n\u001b[0m",
      "\u001b[0;31mAttributeError\u001b[0m: 'numpy.ndarray' object has no attribute 'todense'"
     ]
    }
   ],
   "source": [
    "lables.todense()"
   ]
  },
  {
   "cell_type": "code",
   "execution_count": 23,
   "metadata": {
    "ExecuteTime": {
     "end_time": "2018-05-24T18:43:16.100935Z",
     "start_time": "2018-05-24T18:43:14.668970Z"
    }
   },
   "outputs": [
    {
     "name": "stderr",
     "output_type": "stream",
     "text": [
      "/home/kai/anaconda3/lib/python3.6/site-packages/lightgbm/engine.py:99: UserWarning: Found `num_iterations` in params. Will use it instead of argument\n",
      "  warnings.warn(\"Found `{}` in params. Will use it instead of argument\".format(alias))\n",
      "/home/kai/anaconda3/lib/python3.6/site-packages/lightgbm/engine.py:104: UserWarning: Found `early_stopping_round` in params. Will use it instead of argument\n",
      "  warnings.warn(\"Found `{}` in params. Will use it instead of argument\".format(alias))\n"
     ]
    },
    {
     "name": "stdout",
     "output_type": "stream",
     "text": [
      "Training until validation scores don't improve for 200 rounds.\n",
      "[5]\tvalid_0's multi_error: 0.231183\n",
      "[10]\tvalid_0's multi_error: 0.193548\n",
      "[15]\tvalid_0's multi_error: 0.193548\n",
      "[20]\tvalid_0's multi_error: 0.198925\n",
      "[25]\tvalid_0's multi_error: 0.198925\n",
      "[30]\tvalid_0's multi_error: 0.198925\n",
      "[35]\tvalid_0's multi_error: 0.193548\n",
      "[40]\tvalid_0's multi_error: 0.193548\n",
      "[45]\tvalid_0's multi_error: 0.193548\n",
      "[50]\tvalid_0's multi_error: 0.193548\n",
      "[55]\tvalid_0's multi_error: 0.193548\n",
      "[60]\tvalid_0's multi_error: 0.193548\n",
      "[65]\tvalid_0's multi_error: 0.193548\n",
      "[70]\tvalid_0's multi_error: 0.193548\n",
      "[75]\tvalid_0's multi_error: 0.193548\n",
      "[80]\tvalid_0's multi_error: 0.193548\n",
      "[85]\tvalid_0's multi_error: 0.193548\n",
      "[90]\tvalid_0's multi_error: 0.193548\n",
      "[95]\tvalid_0's multi_error: 0.188172\n",
      "[100]\tvalid_0's multi_error: 0.188172\n",
      "[105]\tvalid_0's multi_error: 0.188172\n",
      "[110]\tvalid_0's multi_error: 0.188172\n",
      "[115]\tvalid_0's multi_error: 0.188172\n",
      "[120]\tvalid_0's multi_error: 0.188172\n",
      "[125]\tvalid_0's multi_error: 0.188172\n",
      "[130]\tvalid_0's multi_error: 0.188172\n",
      "[135]\tvalid_0's multi_error: 0.188172\n",
      "[140]\tvalid_0's multi_error: 0.188172\n",
      "[145]\tvalid_0's multi_error: 0.188172\n",
      "[150]\tvalid_0's multi_error: 0.188172\n",
      "[155]\tvalid_0's multi_error: 0.188172\n",
      "[160]\tvalid_0's multi_error: 0.188172\n",
      "[165]\tvalid_0's multi_error: 0.188172\n",
      "[170]\tvalid_0's multi_error: 0.188172\n",
      "[175]\tvalid_0's multi_error: 0.188172\n",
      "[180]\tvalid_0's multi_error: 0.188172\n",
      "[185]\tvalid_0's multi_error: 0.188172\n",
      "[190]\tvalid_0's multi_error: 0.188172\n",
      "[195]\tvalid_0's multi_error: 0.188172\n",
      "[200]\tvalid_0's multi_error: 0.188172\n",
      "[205]\tvalid_0's multi_error: 0.188172\n",
      "[210]\tvalid_0's multi_error: 0.188172\n",
      "[215]\tvalid_0's multi_error: 0.188172\n",
      "[220]\tvalid_0's multi_error: 0.188172\n",
      "[225]\tvalid_0's multi_error: 0.188172\n",
      "[230]\tvalid_0's multi_error: 0.188172\n",
      "[235]\tvalid_0's multi_error: 0.188172\n",
      "[240]\tvalid_0's multi_error: 0.188172\n",
      "[245]\tvalid_0's multi_error: 0.188172\n",
      "[250]\tvalid_0's multi_error: 0.188172\n",
      "[255]\tvalid_0's multi_error: 0.188172\n",
      "[260]\tvalid_0's multi_error: 0.188172\n",
      "[265]\tvalid_0's multi_error: 0.188172\n",
      "[270]\tvalid_0's multi_error: 0.188172\n",
      "[275]\tvalid_0's multi_error: 0.188172\n",
      "[280]\tvalid_0's multi_error: 0.188172\n",
      "[285]\tvalid_0's multi_error: 0.188172\n",
      "[290]\tvalid_0's multi_error: 0.188172\n",
      "[295]\tvalid_0's multi_error: 0.188172\n",
      "Early stopping, best iteration is:\n",
      "[95]\tvalid_0's multi_error: 0.188172\n"
     ]
    }
   ],
   "source": [
    "params = {\n",
    "    'learning_rate': 0.2,\n",
    "    'num_iterations':1000,\n",
    "    'application': 'multiclassova',\n",
    "    'num_class': 3,\n",
    "    'num_leaves': 31,\n",
    "    'verbosity': -1,\n",
    "    'metric': 'multi_error',\n",
    "    'data_random_seed': 2,\n",
    "#     'bagging_fraction': 0.8,\n",
    "#     'feature_fraction': 0.6,\n",
    "    'nthread': 4,\n",
    "    'lambda_l1': 1,\n",
    "    'lambda_l2': 1,\n",
    "    'early_stopping_round':200\n",
    "} \n",
    "\n",
    "# lgbm_train = lgb.Dataset(phrase, data.label)\n",
    "lgbm_train = lgb.Dataset(phrase, onelabels)\n",
    "lgbm_val = lgb.Dataset(phrase, onelabels)\n",
    "lgbm_model = lgb.train(params,lgbm_train,valid_sets=lgbm_val, verbose_eval=5)"
   ]
  },
  {
   "cell_type": "code",
   "execution_count": 24,
   "metadata": {
    "ExecuteTime": {
     "end_time": "2018-05-24T18:43:36.796143Z",
     "start_time": "2018-05-24T18:43:36.776056Z"
    }
   },
   "outputs": [
    {
     "name": "stdout",
     "output_type": "stream",
     "text": [
      "[[ 0.88585207  0.03239564  0.09572226]\n",
      " [ 0.00893941  0.85434015  0.02105471]\n",
      " [ 0.06960235  0.91307727  0.03298403]\n",
      " [ 0.97521996  0.03239564  0.02398933]\n",
      " [ 0.93548932  0.05046976  0.05631173]\n",
      " [ 0.93548932  0.05046976  0.05631173]\n",
      " [ 0.08006884  0.89999954  0.00896208]\n",
      " [ 0.73692761  0.05046976  0.21793354]\n",
      " [ 0.88585207  0.03239564  0.09572226]\n",
      " [ 0.88585207  0.03239564  0.09572226]\n",
      " [ 0.97521996  0.03239564  0.02398933]\n",
      " [ 0.95538356  0.02038456  0.06165284]\n",
      " [ 0.73692761  0.05046976  0.21793354]\n",
      " [ 0.73692761  0.05046976  0.21793354]\n",
      " [ 0.97521996  0.03239564  0.02398933]\n",
      " [ 0.97521996  0.03239564  0.02398933]\n",
      " [ 0.93548932  0.05046976  0.05631173]\n",
      " [ 0.73692761  0.05046976  0.21793354]\n",
      " [ 0.88585207  0.03239564  0.09572226]\n",
      " [ 0.73692761  0.05046976  0.21793354]\n",
      " [ 0.95538356  0.02038456  0.06165284]\n",
      " [ 0.95538356  0.02038456  0.06165284]\n",
      " [ 0.73692761  0.05046976  0.21793354]\n",
      " [ 0.88585207  0.03239564  0.09572226]\n",
      " [ 0.73692761  0.05046976  0.21793354]\n",
      " [ 0.73692761  0.05046976  0.21793354]\n",
      " [ 0.73692761  0.05046976  0.21793354]\n",
      " [ 0.95538356  0.02038456  0.06165284]\n",
      " [ 0.95538356  0.02038456  0.06165284]\n",
      " [ 0.97521996  0.03239564  0.02398933]\n",
      " [ 0.93548932  0.05046976  0.05631173]\n",
      " [ 0.73692761  0.05046976  0.21793354]\n",
      " [ 0.88585207  0.03239564  0.09572226]\n",
      " [ 0.73692761  0.05046976  0.21793354]\n",
      " [ 0.88585207  0.03239564  0.09572226]\n",
      " [ 0.73692761  0.05046976  0.21793354]\n",
      " [ 0.73692761  0.05046976  0.21793354]\n",
      " [ 0.80012854  0.04027913  0.16395846]\n",
      " [ 0.88585207  0.03239564  0.09572226]\n",
      " [ 0.93548932  0.05046976  0.05631173]\n",
      " [ 0.93548932  0.05046976  0.05631173]\n",
      " [ 0.73692761  0.05046976  0.21793354]\n",
      " [ 0.93548932  0.05206605  0.02706631]\n",
      " [ 0.00334315  0.95515087  0.13064784]\n",
      " [ 0.09227709  0.62112383  0.22100081]\n",
      " [ 0.97521996  0.03239564  0.02398933]\n",
      " [ 0.73692761  0.05046976  0.21793354]\n",
      " [ 0.73692761  0.05046976  0.21793354]\n",
      " [ 0.95538356  0.02038456  0.06165284]\n",
      " [ 0.88585207  0.03239564  0.09572226]\n",
      " [ 0.99039868  0.02038456  0.03291809]\n",
      " [ 0.93548932  0.05046976  0.05631173]\n",
      " [ 0.93548932  0.05046976  0.05631173]\n",
      " [ 0.73692761  0.05046976  0.21793354]\n",
      " [ 0.73692761  0.05046976  0.21793354]\n",
      " [ 0.73692761  0.05046976  0.21793354]\n",
      " [ 0.73692761  0.05046976  0.21793354]\n",
      " [ 0.73692761  0.05046976  0.21793354]\n",
      " [ 0.93548932  0.05046976  0.05631173]\n",
      " [ 0.88585207  0.03239564  0.09572226]\n",
      " [ 0.95538356  0.02038456  0.06165284]\n",
      " [ 0.73692761  0.05046976  0.21793354]\n",
      " [ 0.02524435  0.92708294  0.05978525]\n",
      " [ 0.02196213  0.92091921  0.12434722]\n",
      " [ 0.06076034  0.55337468  0.59659398]\n",
      " [ 0.00334315  0.95515087  0.13064784]\n",
      " [ 0.5657023   0.2605976   0.10475456]\n",
      " [ 0.95930883  0.01760783  0.0441961 ]\n",
      " [ 0.21918634  0.27147112  0.57560072]\n",
      " [ 0.73692761  0.05046976  0.21793354]\n",
      " [ 0.06076034  0.55337468  0.59659398]\n",
      " [ 0.14680901  0.52208681  0.3044323 ]\n",
      " [ 0.73692761  0.05046976  0.21793354]\n",
      " [ 0.73692761  0.05046976  0.21793354]\n",
      " [ 0.30219487  0.05685679  0.58288896]\n",
      " [ 0.7688542   0.20806177  0.04037856]\n",
      " [ 0.73692761  0.05046976  0.21793354]\n",
      " [ 0.73692761  0.05046976  0.21793354]\n",
      " [ 0.30219487  0.05685679  0.58288896]\n",
      " [ 0.46540345  0.07387212  0.37935475]\n",
      " [ 0.73692761  0.05046976  0.21793354]\n",
      " [ 0.21918634  0.27147112  0.57560072]\n",
      " [ 0.82610235  0.16739097  0.02621366]\n",
      " [ 0.00334315  0.95515087  0.13064784]\n",
      " [ 0.14680901  0.52208681  0.3044323 ]\n",
      " [ 0.73692761  0.05046976  0.21793354]\n",
      " [ 0.14680901  0.52208681  0.3044323 ]\n",
      " [ 0.62726639  0.21796513  0.08443766]\n",
      " [ 0.5657023   0.2605976   0.10475456]\n",
      " [ 0.73692761  0.05046976  0.21793354]\n",
      " [ 0.14680901  0.52208681  0.3044323 ]\n",
      " [ 0.35984848  0.04543823  0.61930667]\n",
      " [ 0.35984848  0.04543823  0.61930667]\n",
      " [ 0.73692761  0.05046976  0.21793354]\n",
      " [ 0.30219487  0.05685679  0.58288896]\n",
      " [ 0.14680901  0.52208681  0.3044323 ]\n",
      " [ 0.82610235  0.16739097  0.02621366]\n",
      " [ 0.30219487  0.05685679  0.58288896]\n",
      " [ 0.7688542   0.20806177  0.04037856]\n",
      " [ 0.7688542   0.20806177  0.04037856]\n",
      " [ 0.14680901  0.52208681  0.3044323 ]\n",
      " [ 0.82610235  0.16739097  0.02621366]\n",
      " [ 0.46540345  0.07387212  0.37935475]\n",
      " [ 0.73692761  0.05046976  0.21793354]\n",
      " [ 0.96624712  0.11185214  0.01589912]\n",
      " [ 0.77914553  0.04543823  0.242319  ]\n",
      " [ 0.96922837  0.09512605  0.01023012]\n",
      " [ 0.82610235  0.16739097  0.02621366]\n",
      " [ 0.14680901  0.52208681  0.3044323 ]\n",
      " [ 0.30219487  0.05685679  0.58288896]\n",
      " [ 0.06960235  0.91307727  0.03298403]\n",
      " [ 0.95538356  0.02038456  0.06165284]\n",
      " [ 0.95538356  0.02038456  0.06165284]\n",
      " [ 0.73692761  0.05046976  0.21793354]\n",
      " [ 0.4283756   0.03674287  0.46723144]\n",
      " [ 0.30219487  0.05685679  0.58288896]\n",
      " [ 0.73692761  0.05046976  0.21793354]\n",
      " [ 0.73692761  0.05046976  0.21793354]\n",
      " [ 0.00893941  0.87845837  0.03408129]\n",
      " [ 0.26029571  0.54861043  0.06457222]\n",
      " [ 0.6617116   0.0515741   0.18923847]\n",
      " [ 0.50420528  0.0515741   0.30647532]\n",
      " [ 0.74750119  0.05046976  0.22662607]\n",
      " [ 0.02524435  0.92708294  0.06358124]\n",
      " [ 0.82610235  0.16739097  0.02794141]\n",
      " [ 0.12708146  0.61574155  0.24225469]\n",
      " [ 0.82610235  0.16739097  0.02621366]\n",
      " [ 0.03281185  0.89986208  0.03494657]\n",
      " [ 0.00447104  0.94392023  0.0580562 ]\n",
      " [ 0.07099091  0.25159001  0.25435872]\n",
      " [ 0.73692761  0.05046976  0.21793354]\n",
      " [ 0.00366769  0.88315994  0.08360657]\n",
      " [ 0.74750119  0.05046976  0.22662607]\n",
      " [ 0.12708146  0.61574155  0.25776908]\n",
      " [ 0.01970983  0.94178403  0.06485373]\n",
      " [ 0.01557623  0.83805987  0.28924835]\n",
      " [ 0.03073727  0.63389691  0.28111061]\n",
      " [ 0.73692761  0.05046976  0.21793354]\n",
      " [ 0.07856392  0.92106809  0.01029687]\n",
      " [ 0.14680901  0.52208681  0.3044323 ]\n",
      " [ 0.96922837  0.09512605  0.01023012]\n",
      " [ 0.73692761  0.05046976  0.21793354]\n",
      " [ 0.12314686  0.92106809  0.00812574]\n",
      " [ 0.70326566  0.07232672  0.17470865]\n",
      " [ 0.73692761  0.05046976  0.21793354]\n",
      " [ 0.70754826  0.07232672  0.18142908]\n",
      " [ 0.26029571  0.54861043  0.04219597]\n",
      " [ 0.73692761  0.05046976  0.21793354]\n",
      " [ 0.73692761  0.05046976  0.21793354]\n",
      " [ 0.96624712  0.11185214  0.01695887]\n",
      " [ 0.73692761  0.05046976  0.21793354]\n",
      " [ 0.00893941  0.88087273  0.05113447]\n",
      " [ 0.73692761  0.05046976  0.21793354]\n",
      " [ 0.73692761  0.05046976  0.21793354]\n",
      " [ 0.70326566  0.07232672  0.17470865]\n",
      " [ 0.73692761  0.05046976  0.21793354]\n",
      " [ 0.14680901  0.52208681  0.3044323 ]\n",
      " [ 0.02931891  0.94178403  0.02811858]\n",
      " [ 0.73692761  0.05046976  0.21793354]\n",
      " [ 0.43979707  0.18220698  0.28111061]\n",
      " [ 0.07802747  0.8687093   0.01858563]\n",
      " [ 0.73692761  0.05046976  0.21793354]\n",
      " [ 0.88585207  0.03239564  0.09572226]\n",
      " [ 0.35984848  0.03023582  0.53185164]\n",
      " [ 0.54093523  0.26698364  0.12599393]\n",
      " [ 0.48122799  0.04117016  0.30647532]\n",
      " [ 0.95538356  0.02038456  0.06165284]\n",
      " [ 0.02240919  0.8840931   0.12096977]\n",
      " [ 0.45095054  0.22550263  0.28111061]\n",
      " [ 0.07802747  0.87260173  0.01858563]\n",
      " [ 0.95538356  0.02038456  0.06165284]\n",
      " [ 0.82610235  0.16739097  0.02621366]\n",
      " [ 0.08006884  0.9030678   0.00896208]\n",
      " [ 0.95538356  0.02038456  0.06165284]\n",
      " [ 0.88585207  0.03239564  0.09572226]\n",
      " [ 0.95538356  0.02038456  0.06165284]\n",
      " [ 0.30219487  0.05685679  0.58288896]\n",
      " [ 0.80012854  0.04027913  0.16395846]\n",
      " [ 0.8205918   0.03349686  0.10699142]\n",
      " [ 0.96892414  0.13831042  0.00961819]\n",
      " [ 0.93548932  0.05046976  0.05631173]\n",
      " [ 0.80012854  0.04156722  0.08156417]\n",
      " [ 0.07802747  0.87260173  0.01858563]\n",
      " [ 0.73692761  0.05206605  0.10699142]\n",
      " [ 0.6771657   0.28343289  0.09354229]\n",
      " [ 0.88585207  0.03349686  0.09572226]]\n"
     ]
    }
   ],
   "source": [
    "print(lgbm_model.predict(phrase))"
   ]
  },
  {
   "cell_type": "code",
   "execution_count": null,
   "metadata": {
    "collapsed": true
   },
   "outputs": [],
   "source": [
    "lgbm_model.predict(phrase)"
   ]
  },
  {
   "cell_type": "code",
   "execution_count": 135,
   "metadata": {
    "ExecuteTime": {
     "end_time": "2018-05-23T20:50:05.734313Z",
     "start_time": "2018-05-23T20:50:05.729510Z"
    }
   },
   "outputs": [
    {
     "data": {
      "text/plain": [
       "<186x896 sparse matrix of type '<class 'numpy.float64'>'\n",
       "\twith 1515 stored elements in Compressed Sparse Row format>"
      ]
     },
     "execution_count": 135,
     "metadata": {},
     "output_type": "execute_result"
    }
   ],
   "source": [
    "phrase"
   ]
  },
  {
   "cell_type": "markdown",
   "metadata": {},
   "source": [
    "# SAVE"
   ]
  },
  {
   "cell_type": "code",
   "execution_count": 136,
   "metadata": {
    "ExecuteTime": {
     "end_time": "2018-05-23T20:54:44.954543Z",
     "start_time": "2018-05-23T20:54:44.938169Z"
    },
    "collapsed": true
   },
   "outputs": [],
   "source": [
    "import pickle\n",
    "\n",
    "pickle.dump(phrase_vectorizer, open(\"tfidf.pickle\", \"wb\"))\n",
    "# pickle.dump(train_comment_features, open(\"train_comment_features.pickle\", \"wb\"))\n",
    "# pickle.dump(test_comment_features, open(\"test_comment_features.pickle\", \"wb\"))"
   ]
  },
  {
   "cell_type": "code",
   "execution_count": 143,
   "metadata": {
    "ExecuteTime": {
     "end_time": "2018-05-23T20:59:38.599811Z",
     "start_time": "2018-05-23T20:59:38.594845Z"
    },
    "collapsed": true
   },
   "outputs": [],
   "source": [
    "aa = pickle.load(open(\"tfidf.pickle\", 'rb'))"
   ]
  },
  {
   "cell_type": "code",
   "execution_count": 171,
   "metadata": {
    "ExecuteTime": {
     "end_time": "2018-05-23T21:14:25.628632Z",
     "start_time": "2018-05-23T21:14:25.624435Z"
    },
    "collapsed": true
   },
   "outputs": [],
   "source": [
    "bb = phrase_vectorizer.transform(['是'])"
   ]
  },
  {
   "cell_type": "code",
   "execution_count": 172,
   "metadata": {
    "ExecuteTime": {
     "end_time": "2018-05-23T21:14:26.482885Z",
     "start_time": "2018-05-23T21:14:26.478279Z"
    }
   },
   "outputs": [
    {
     "data": {
      "text/plain": [
       "<1x896 sparse matrix of type '<class 'numpy.float64'>'\n",
       "\twith 1 stored elements in Compressed Sparse Row format>"
      ]
     },
     "execution_count": 172,
     "metadata": {},
     "output_type": "execute_result"
    }
   ],
   "source": [
    "bb"
   ]
  },
  {
   "cell_type": "code",
   "execution_count": 173,
   "metadata": {
    "ExecuteTime": {
     "end_time": "2018-05-23T21:14:26.893458Z",
     "start_time": "2018-05-23T21:14:26.886525Z"
    }
   },
   "outputs": [
    {
     "data": {
      "text/plain": [
       "array([[ 0.78397288,  0.05191403,  0.16411309]])"
      ]
     },
     "execution_count": 173,
     "metadata": {},
     "output_type": "execute_result"
    }
   ],
   "source": [
    "lgbm_model.predict(bb)"
   ]
  },
  {
   "cell_type": "code",
   "execution_count": 174,
   "metadata": {
    "ExecuteTime": {
     "end_time": "2018-05-23T21:14:33.440129Z",
     "start_time": "2018-05-23T21:14:33.429666Z"
    }
   },
   "outputs": [
    {
     "data": {
      "text/plain": [
       "0"
      ]
     },
     "execution_count": 174,
     "metadata": {},
     "output_type": "execute_result"
    }
   ],
   "source": [
    "lgbm_model.best_iteration"
   ]
  },
  {
   "cell_type": "code",
   "execution_count": 189,
   "metadata": {
    "ExecuteTime": {
     "end_time": "2018-05-23T21:26:34.442200Z",
     "start_time": "2018-05-23T21:26:34.412060Z"
    }
   },
   "outputs": [
    {
     "ename": "ValueError",
     "evalue": "multiclass format is not supported",
     "output_type": "error",
     "traceback": [
      "\u001b[0;31m---------------------------------------------------------------------------\u001b[0m",
      "\u001b[0;31mValueError\u001b[0m                                Traceback (most recent call last)",
      "\u001b[0;32m<ipython-input-189-b8acbc488dee>\u001b[0m in \u001b[0;36m<module>\u001b[0;34m()\u001b[0m\n\u001b[1;32m      3\u001b[0m \u001b[0my_true\u001b[0m \u001b[0;34m=\u001b[0m \u001b[0mnp\u001b[0m\u001b[0;34m.\u001b[0m\u001b[0marray\u001b[0m\u001b[0;34m(\u001b[0m\u001b[0;34m[\u001b[0m\u001b[0;36m0\u001b[0m\u001b[0;34m,\u001b[0m \u001b[0;36m0\u001b[0m\u001b[0;34m,\u001b[0m \u001b[0;36m1\u001b[0m\u001b[0;34m,\u001b[0m \u001b[0;36m2\u001b[0m\u001b[0;34m,\u001b[0m\u001b[0;34m]\u001b[0m\u001b[0;34m)\u001b[0m\u001b[0;34m\u001b[0m\u001b[0m\n\u001b[1;32m      4\u001b[0m \u001b[0my_scores\u001b[0m \u001b[0;34m=\u001b[0m \u001b[0mnp\u001b[0m\u001b[0;34m.\u001b[0m\u001b[0marray\u001b[0m\u001b[0;34m(\u001b[0m\u001b[0;34m[\u001b[0m\u001b[0;36m0.1\u001b[0m\u001b[0;34m,\u001b[0m \u001b[0;36m0.4\u001b[0m\u001b[0;34m,\u001b[0m \u001b[0;36m0.35\u001b[0m\u001b[0;34m,\u001b[0m \u001b[0;36m0.8\u001b[0m\u001b[0;34m]\u001b[0m\u001b[0;34m)\u001b[0m\u001b[0;34m\u001b[0m\u001b[0m\n\u001b[0;32m----> 5\u001b[0;31m \u001b[0mroc_auc_score\u001b[0m\u001b[0;34m(\u001b[0m\u001b[0my_true\u001b[0m\u001b[0;34m,\u001b[0m \u001b[0my_scores\u001b[0m\u001b[0;34m)\u001b[0m\u001b[0;34m\u001b[0m\u001b[0m\n\u001b[0m",
      "\u001b[0;32m~/anaconda3/lib/python3.6/site-packages/sklearn/metrics/ranking.py\u001b[0m in \u001b[0;36mroc_auc_score\u001b[0;34m(y_true, y_score, average, sample_weight)\u001b[0m\n\u001b[1;32m    275\u001b[0m     return _average_binary_score(\n\u001b[1;32m    276\u001b[0m         \u001b[0m_binary_roc_auc_score\u001b[0m\u001b[0;34m,\u001b[0m \u001b[0my_true\u001b[0m\u001b[0;34m,\u001b[0m \u001b[0my_score\u001b[0m\u001b[0;34m,\u001b[0m \u001b[0maverage\u001b[0m\u001b[0;34m,\u001b[0m\u001b[0;34m\u001b[0m\u001b[0m\n\u001b[0;32m--> 277\u001b[0;31m         sample_weight=sample_weight)\n\u001b[0m\u001b[1;32m    278\u001b[0m \u001b[0;34m\u001b[0m\u001b[0m\n\u001b[1;32m    279\u001b[0m \u001b[0;34m\u001b[0m\u001b[0m\n",
      "\u001b[0;32m~/anaconda3/lib/python3.6/site-packages/sklearn/metrics/base.py\u001b[0m in \u001b[0;36m_average_binary_score\u001b[0;34m(binary_metric, y_true, y_score, average, sample_weight)\u001b[0m\n\u001b[1;32m     70\u001b[0m     \u001b[0my_type\u001b[0m \u001b[0;34m=\u001b[0m \u001b[0mtype_of_target\u001b[0m\u001b[0;34m(\u001b[0m\u001b[0my_true\u001b[0m\u001b[0;34m)\u001b[0m\u001b[0;34m\u001b[0m\u001b[0m\n\u001b[1;32m     71\u001b[0m     \u001b[0;32mif\u001b[0m \u001b[0my_type\u001b[0m \u001b[0;32mnot\u001b[0m \u001b[0;32min\u001b[0m \u001b[0;34m(\u001b[0m\u001b[0;34m\"binary\"\u001b[0m\u001b[0;34m,\u001b[0m \u001b[0;34m\"multilabel-indicator\"\u001b[0m\u001b[0;34m)\u001b[0m\u001b[0;34m:\u001b[0m\u001b[0;34m\u001b[0m\u001b[0m\n\u001b[0;32m---> 72\u001b[0;31m         \u001b[0;32mraise\u001b[0m \u001b[0mValueError\u001b[0m\u001b[0;34m(\u001b[0m\u001b[0;34m\"{0} format is not supported\"\u001b[0m\u001b[0;34m.\u001b[0m\u001b[0mformat\u001b[0m\u001b[0;34m(\u001b[0m\u001b[0my_type\u001b[0m\u001b[0;34m)\u001b[0m\u001b[0;34m)\u001b[0m\u001b[0;34m\u001b[0m\u001b[0m\n\u001b[0m\u001b[1;32m     73\u001b[0m \u001b[0;34m\u001b[0m\u001b[0m\n\u001b[1;32m     74\u001b[0m     \u001b[0;32mif\u001b[0m \u001b[0my_type\u001b[0m \u001b[0;34m==\u001b[0m \u001b[0;34m\"binary\"\u001b[0m\u001b[0;34m:\u001b[0m\u001b[0;34m\u001b[0m\u001b[0m\n",
      "\u001b[0;31mValueError\u001b[0m: multiclass format is not supported"
     ]
    }
   ],
   "source": [
    "import numpy as np\n",
    "from sklearn.metrics import roc_auc_score\n",
    "y_true = np.array([0, 0, 1, 2,])\n",
    "y_scores = np.array([0.1, 0.4, 0.35, 0.8])\n",
    "roc_auc_score(y_true, y_scores)"
   ]
  },
  {
   "cell_type": "code",
   "execution_count": null,
   "metadata": {
    "collapsed": true
   },
   "outputs": [],
   "source": []
  }
 ],
 "metadata": {
  "kernelspec": {
   "display_name": "Python 3",
   "language": "python",
   "name": "python3"
  },
  "language_info": {
   "codemirror_mode": {
    "name": "ipython",
    "version": 3
   },
   "file_extension": ".py",
   "mimetype": "text/x-python",
   "name": "python",
   "nbconvert_exporter": "python",
   "pygments_lexer": "ipython3",
   "version": "3.6.3"
  },
  "varInspector": {
   "cols": {
    "lenName": 16,
    "lenType": 16,
    "lenVar": 40
   },
   "kernels_config": {
    "python": {
     "delete_cmd_postfix": "",
     "delete_cmd_prefix": "del ",
     "library": "var_list.py",
     "varRefreshCmd": "print(var_dic_list())"
    },
    "r": {
     "delete_cmd_postfix": ") ",
     "delete_cmd_prefix": "rm(",
     "library": "var_list.r",
     "varRefreshCmd": "cat(var_dic_list()) "
    }
   },
   "types_to_exclude": [
    "module",
    "function",
    "builtin_function_or_method",
    "instance",
    "_Feature"
   ],
   "window_display": false
  }
 },
 "nbformat": 4,
 "nbformat_minor": 2
}
