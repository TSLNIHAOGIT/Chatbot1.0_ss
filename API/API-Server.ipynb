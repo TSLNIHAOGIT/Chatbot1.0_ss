{
 "cells": [
  {
   "cell_type": "code",
   "execution_count": 1,
   "metadata": {
    "ExecuteTime": {
     "end_time": "2018-05-26T06:13:11.683369Z",
     "start_time": "2018-05-26T06:13:10.684633Z"
    },
    "collapsed": true
   },
   "outputs": [],
   "source": [
    "from flask import Flask, request\n",
    "from flask_restful import Resource, Api\n",
    "from json import dumps\n",
    "# from flask.ext.jsonpify import jsonify\n",
    "from flask_jsonpify import jsonify\n",
    "import pandas as pd\n",
    "import numpy as np"
   ]
  },
  {
   "cell_type": "code",
   "execution_count": 78,
   "metadata": {
    "ExecuteTime": {
     "end_time": "2018-05-26T07:01:23.907592Z",
     "start_time": "2018-05-26T07:01:23.890544Z"
    },
    "collapsed": true
   },
   "outputs": [],
   "source": [
    "app = Flask(__name__)\n",
    "api = Api(app)\n",
    "\n",
    "class ChatBot(Resource):\n",
    "    def get(self):\n",
    "        args = request.args\n",
    "        try:\n",
    "            return {'Chatbot': 'Hellow World! ' + args.get('data')}\n",
    "        except Exception as e:\n",
    "            print(e)\n",
    "            return {'Chatbot': 'Hellow World! ' }\n",
    "    \n",
    "api.add_resource(ChatBot, '/chatbot')"
   ]
  },
  {
   "cell_type": "code",
   "execution_count": 79,
   "metadata": {
    "ExecuteTime": {
     "end_time": "2018-05-26T07:01:28.113384Z",
     "start_time": "2018-05-26T07:01:24.524613Z"
    }
   },
   "outputs": [
    {
     "name": "stderr",
     "output_type": "stream",
     "text": [
      " * Running on http://0.0.0.0:8889/ (Press CTRL+C to quit)\n"
     ]
    }
   ],
   "source": [
    "app.run(host='0.0.0.0', port='8889')"
   ]
  },
  {
   "cell_type": "code",
   "execution_count": 80,
   "metadata": {
    "ExecuteTime": {
     "end_time": "2018-05-26T07:01:29.933858Z",
     "start_time": "2018-05-26T07:01:29.873842Z"
    }
   },
   "outputs": [],
   "source": [
    "import pickle\n",
    "\n",
    "class ClassifierBase:\n",
    "    pass\n",
    "\n",
    "class Classifier1(ClassifierBase):\n",
    "    def __init__(self, **model_path):\n",
    "        self.load_model(**model_path)\n",
    "        \n",
    "    def load_model(self,**path):\n",
    "        \n",
    "        load_path = path.get('tfidf')\n",
    "        if load_path is not None:\n",
    "            self.tfidf = pickle.load(open(load_path, 'rb'))\n",
    "            \n",
    "        load_path = path.get('svc')\n",
    "        if load_path is not None:\n",
    "            self.svc = pickle.load(open(load_path, 'rb'))\n",
    "            \n",
    "            \n",
    "    def classify(self,sentence):\n",
    "        matrix = self.tfidf.transform(sentence)\n",
    "        result = self.svc.predict_proba(matrix)\n",
    "        max_index = np.argmax(result)\n",
    "        return (np.argmax(result), np.max(result))\n",
    "            \n",
    "c1 = Classifier1(tfidf='../MLModel/savedModel/Classifier1/tfidf.pickle',\n",
    "                 svc='../MLModel/savedModel/Classifier1/l_svc.pickle')"
   ]
  },
  {
   "cell_type": "code",
   "execution_count": 100,
   "metadata": {
    "ExecuteTime": {
     "end_time": "2018-05-26T07:14:21.321457Z",
     "start_time": "2018-05-26T07:14:21.308669Z"
    }
   },
   "outputs": [
    {
     "data": {
      "text/plain": [
       "(0, 0.89339053687531778)"
      ]
     },
     "execution_count": 100,
     "metadata": {},
     "output_type": "execute_result"
    }
   ],
   "source": [
    "c1.classify(['是'])"
   ]
  },
  {
   "cell_type": "code",
   "execution_count": 82,
   "metadata": {
    "ExecuteTime": {
     "end_time": "2018-05-26T07:01:32.163813Z",
     "start_time": "2018-05-26T07:01:31.776157Z"
    }
   },
   "outputs": [],
   "source": [
    "\n",
    "\n",
    "\n",
    "class Node:\n",
    "    def __init__(self, node_name):\n",
    "        self.name = node_name\n",
    "        self.jump_action = False\n",
    "        print('{} is initialized'.format(node_name))\n",
    "        \n",
    "        \n",
    "    def summary(self):\n",
    "        return {'node_name': self.name, \n",
    "                'jump_action':self.jump_action, \n",
    "                'description':self.describe, \n",
    "                'class_name':self.__class__.__name__, \n",
    "                'model': self.model_name}\n",
    "    \n",
    "    \n",
    "    def get_classifier(self):\n",
    "        self.model = Model[self.model_name]\n",
    "        \n",
    "       \n",
    "    \n",
    "        \n",
    "        \n",
    "       \n",
    "        \n",
    "###################### Node 1  #########################\n",
    "class S1_N1(Node):\n",
    "    def __init__(self):\n",
    "        super().__init__('cf_s1_n1_identity_q')\n",
    "        self.describe = 'Verify Identify'\n",
    "        self.model_name = 'Classifier 1'\n",
    "        super().get_classifier()\n",
    "        \n",
    "\n",
    "    \n",
    "    \n",
    "\n",
    "       \n",
    "        \n",
    "        \n",
    "#######################  Node 2  #############################        \n",
    "class S1_N5(Node):\n",
    "    def __init__(self):\n",
    "        super().__init__('cf_s1_n5_ifAcquainted_q')\n",
    "        self.describe = 'Ask if know debtor'\n",
    "        self.model_name = 'Classifier 2'\n",
    "        \n",
    "        \n",
    "\n",
    "#########################  Node 3  ###########################        \n",
    "class S1_N6(Node):\n",
    "    def __init__(self):\n",
    "        super().__init__('cf_s1_n6_verifyDebt_q')\n",
    "        self.describe = 'Verify awareness of owing'\n",
    "        self.model_name = 'Classifier 3'\n",
    "\n",
    "##########################  Node 4  ##########################        \n",
    "class S1_N15(Node):\n",
    "    def __init__(self):\n",
    "        super().__init__('cf_s1_n15_verifyWill_q')\n",
    "        self.describe = 'Verify willing to pay'\n",
    "        self.model_name = 'Classifier 4'\n",
    "       \n",
    "    \n",
    "#########################  Node 5  ###########################        \n",
    "class S1_N20(Node):\n",
    "    def __init__(self):\n",
    "        super().__init__('cf_s1_n20_q4_setDue3Day')\n",
    "        self.describe = 'ask if can pay very soon'\n",
    "        self.model_name = 'Classifier 5'\n",
    "        \n",
    "#########################  Node 6  ###########################        \n",
    "class S1_N26(Node):\n",
    "    def __init__(self):\n",
    "        super().__init__('cf_s1_n26_paymentChannel_q')\n",
    "        self.describe = 'notify methods of paying'\n",
    "        self.model_name = 'Classifier 6'\n",
    "        \n",
    "        \n",
    "#########################  Node 7  ###########################        \n",
    "class S1_N25(Node):\n",
    "    def __init__(self):\n",
    "        super().__init__('cf_s1_n25_cutDebt_q')\n",
    "        self.describe = 'ask if accept less amount'\n",
    "        self.model_name = 'Classifier 7'\n",
    "        \n",
    "#########################  Node 8  ###########################        \n",
    "class S1_N32(Node):\n",
    "    def __init__(self):\n",
    "        super().__init__('cf_s1_n32_splitDebt_q')\n",
    "        self.describe = 'ask if accept installment'\n",
    "        self.model_name = 'Classifier 8'\n",
    "        \n",
    "#########################  Node 9  ###########################        \n",
    "class S1_N33(Node):\n",
    "    def __init__(self):\n",
    "        super().__init__('cf_s1_n33_setCutDebtDue_q')\n",
    "        self.describe = 'ask if can pay very soon'\n",
    "        self.model_name = 'Classifier 5'\n",
    "        \n",
    "#########################  Node 10  ###########################        \n",
    "class S1_N41(Node):\n",
    "    def __init__(self):\n",
    "        super().__init__('cf_s1_n41_setSplitDebtDue_q')\n",
    "        self.describe = 'ask if can pay very soon'\n",
    "        self.model_name = 'Classifier 5'\n",
    "        self.jump_action = True\n",
    "        \n",
    "#########################  Node 11  ###########################        \n",
    "class S1_N42(Node):\n",
    "    def __init__(self):\n",
    "        super().__init__('cf_s1_n42_paymentChannel_q')\n",
    "        self.describe = 'notify methods of paying'\n",
    "        self.model_name = 'Classifier 6'\n",
    "        \n",
    "#########################  Node 12  ###########################        \n",
    "class S1_N43(Node):\n",
    "    def __init__(self):\n",
    "        super().__init__('cf_s1_n43_nextAppointment_q')\n",
    "        self.describe = 'confirm next appointment'\n",
    "        self.model_name = 'RegularExp 1'\n",
    "        \n",
    "#########################  Node 13  ###########################        \n",
    "class S1_N50(Node):\n",
    "    def __init__(self):\n",
    "        super().__init__('cf_s1_n50_nextAppointment_q')\n",
    "        self.describe = 'confirm next appointment'\n",
    "        self.model_name = 'RegularExp 1'\n",
    "        \n",
    "#########################  Node 14  ###########################        \n",
    "class S1_N51(Node):\n",
    "    def __init__(self):\n",
    "        super().__init__('cf_s1_n51_paymentChannel_q')\n",
    "        self.describe = 'notify methods of paying'\n",
    "        self.model_name = 'Classifier 6'"
   ]
  },
  {
   "cell_type": "code",
   "execution_count": 83,
   "metadata": {
    "ExecuteTime": {
     "end_time": "2018-05-26T07:01:32.978742Z",
     "start_time": "2018-05-26T07:01:32.951986Z"
    }
   },
   "outputs": [
    {
     "name": "stdout",
     "output_type": "stream",
     "text": [
      "cf_s1_n1_identity_q is initialized\n",
      "cf_s1_n5_ifAcquainted_q is initialized\n",
      "cf_s1_n6_verifyDebt_q is initialized\n",
      "cf_s1_n15_verifyWill_q is initialized\n",
      "cf_s1_n20_q4_setDue3Day is initialized\n",
      "cf_s1_n26_paymentChannel_q is initialized\n",
      "cf_s1_n25_cutDebt_q is initialized\n",
      "cf_s1_n32_splitDebt_q is initialized\n",
      "cf_s1_n33_setCutDebtDue_q is initialized\n",
      "cf_s1_n41_setSplitDebtDue_q is initialized\n",
      "cf_s1_n42_paymentChannel_q is initialized\n",
      "cf_s1_n43_nextAppointment_q is initialized\n",
      "cf_s1_n50_nextAppointment_q is initialized\n",
      "cf_s1_n51_paymentChannel_q is initialized\n"
     ]
    }
   ],
   "source": [
    "c1 = Classifier1(tfidf='../MLModel/savedModel/Classifier1/tfidf.pickle',\n",
    "                 svc='../MLModel/savedModel/Classifier1/l_svc.pickle')\n",
    "\n",
    "model_dict = {'Classifier 1':c1}\n",
    "node_pool = [S1_N1, S1_N5, S1_N6, S1_N15, S1_N20, S1_N26, S1_N25, S1_N32, S1_N33, S1_N41, S1_N42, S1_N43, S1_N50, S1_N51]\n",
    "summary_list = [i().summary() for i in node_pool]\n",
    "df = pd.DataFrame(summary_list)"
   ]
  },
  {
   "cell_type": "code",
   "execution_count": 103,
   "metadata": {
    "ExecuteTime": {
     "end_time": "2018-05-26T07:15:55.553493Z",
     "start_time": "2018-05-26T07:15:55.496936Z"
    }
   },
   "outputs": [],
   "source": [
    "class TreeBase:\n",
    "    def __init__(self, node_pool, start_node='cf_s1_n1_identity_q', ):\n",
    "        self.current_node_name = start_node\n",
    "        self.node_pool = self.__get_nodePool(node_pool)\n",
    "        \n",
    "    def __get_nodePool(self, node_pool):\n",
    "        diction = {}\n",
    "        nodes_name = []\n",
    "        for node in node_pool:\n",
    "            cur = node()\n",
    "            diction[cur.name] = cur\n",
    "            nodes_name.append(cur.name)\n",
    "        self.nodes_name = nodes_name\n",
    "        return diction\n",
    "    \n",
    "class TreeStage1(TreeBase):\n",
    "    def __init__(self, node_pool, start_node='cf_s1_n1_identity_q'):\n",
    "        super().__init__(node_pool, start_node='cf_s1_n1_identity_q')\n",
    "        \n",
    "    def build_graph(self):\n",
    "        self.graph = {}\n",
    "        self.graph.update({'cf_s1_n1_identity_q': {0: 'cf_s1_n5_ifAcquainted_q', \n",
    "                                                   1: 'cf_s1_n6_verifyDebt_q', \n",
    "                                                   2:'other'}})\n",
    "        \n",
    "    def classify(self, sentence, model_dict):\n",
    "        current_node = self.node_pool[self.current_node_name]\n",
    "        model = model_dict[current_node.model_name]\n",
    "        label, confidence = model.classify(sentence)\n",
    "        return label, confidence"
   ]
  },
  {
   "cell_type": "code",
   "execution_count": 104,
   "metadata": {
    "ExecuteTime": {
     "end_time": "2018-05-26T07:15:56.264657Z",
     "start_time": "2018-05-26T07:15:56.251224Z"
    }
   },
   "outputs": [
    {
     "name": "stdout",
     "output_type": "stream",
     "text": [
      "cf_s1_n1_identity_q is initialized\n",
      "cf_s1_n5_ifAcquainted_q is initialized\n",
      "cf_s1_n6_verifyDebt_q is initialized\n",
      "cf_s1_n15_verifyWill_q is initialized\n",
      "cf_s1_n20_q4_setDue3Day is initialized\n",
      "cf_s1_n26_paymentChannel_q is initialized\n",
      "cf_s1_n25_cutDebt_q is initialized\n",
      "cf_s1_n32_splitDebt_q is initialized\n",
      "cf_s1_n33_setCutDebtDue_q is initialized\n",
      "cf_s1_n41_setSplitDebtDue_q is initialized\n",
      "cf_s1_n42_paymentChannel_q is initialized\n",
      "cf_s1_n43_nextAppointment_q is initialized\n",
      "cf_s1_n50_nextAppointment_q is initialized\n",
      "cf_s1_n51_paymentChannel_q is initialized\n"
     ]
    },
    {
     "data": {
      "text/plain": [
       "(1, 0.9485615030338973)"
      ]
     },
     "execution_count": 104,
     "metadata": {},
     "output_type": "execute_result"
    }
   ],
   "source": [
    "a = TreeStage1(node_pool)\n",
    "a.classify(['不是'], model_dict)"
   ]
  },
  {
   "cell_type": "code",
   "execution_count": 95,
   "metadata": {
    "ExecuteTime": {
     "end_time": "2018-05-26T07:05:41.432046Z",
     "start_time": "2018-05-26T07:05:41.406479Z"
    }
   },
   "outputs": [
    {
     "ename": "AttributeError",
     "evalue": "'Classifier1' object has no attribute 'classify'",
     "output_type": "error",
     "traceback": [
      "\u001b[0;31m---------------------------------------------------------------------------\u001b[0m",
      "\u001b[0;31mAttributeError\u001b[0m                            Traceback (most recent call last)",
      "\u001b[0;32m<ipython-input-95-a21e2014352a>\u001b[0m in \u001b[0;36m<module>\u001b[0;34m()\u001b[0m\n\u001b[0;32m----> 1\u001b[0;31m \u001b[0mb\u001b[0m\u001b[0;34m.\u001b[0m\u001b[0mclassify\u001b[0m\u001b[0;34m(\u001b[0m\u001b[0;34m[\u001b[0m\u001b[0;34m'不是'\u001b[0m\u001b[0;34m]\u001b[0m\u001b[0;34m)\u001b[0m\u001b[0;34m\u001b[0m\u001b[0m\n\u001b[0m",
      "\u001b[0;32m<ipython-input-82-f66c84d55c3b>\u001b[0m in \u001b[0;36mclassify\u001b[0;34m(self, sentence)\u001b[0m\n\u001b[1;32m     38\u001b[0m \u001b[0;34m\u001b[0m\u001b[0m\n\u001b[1;32m     39\u001b[0m     \u001b[0;32mdef\u001b[0m \u001b[0mclassify\u001b[0m\u001b[0;34m(\u001b[0m\u001b[0mself\u001b[0m\u001b[0;34m,\u001b[0m \u001b[0msentence\u001b[0m\u001b[0;34m)\u001b[0m\u001b[0;34m:\u001b[0m\u001b[0;34m\u001b[0m\u001b[0m\n\u001b[0;32m---> 40\u001b[0;31m         \u001b[0mresult\u001b[0m \u001b[0;34m=\u001b[0m \u001b[0mself\u001b[0m\u001b[0;34m.\u001b[0m\u001b[0mmodel\u001b[0m\u001b[0;34m.\u001b[0m\u001b[0mclassify\u001b[0m\u001b[0;34m(\u001b[0m\u001b[0msentence\u001b[0m\u001b[0;34m)\u001b[0m\u001b[0;34m\u001b[0m\u001b[0m\n\u001b[0m\u001b[1;32m     41\u001b[0m         \u001b[0;32mreturn\u001b[0m \u001b[0mresult\u001b[0m\u001b[0;34m\u001b[0m\u001b[0m\n\u001b[1;32m     42\u001b[0m \u001b[0;34m\u001b[0m\u001b[0m\n",
      "\u001b[0;31mAttributeError\u001b[0m: 'Classifier1' object has no attribute 'classify'"
     ]
    }
   ],
   "source": [
    "b.classify(['不是'])"
   ]
  },
  {
   "cell_type": "code",
   "execution_count": null,
   "metadata": {
    "collapsed": true
   },
   "outputs": [],
   "source": []
  }
 ],
 "metadata": {
  "kernelspec": {
   "display_name": "Python 3",
   "language": "python",
   "name": "python3"
  },
  "language_info": {
   "codemirror_mode": {
    "name": "ipython",
    "version": 3
   },
   "file_extension": ".py",
   "mimetype": "text/x-python",
   "name": "python",
   "nbconvert_exporter": "python",
   "pygments_lexer": "ipython3",
   "version": "3.6.3"
  },
  "varInspector": {
   "cols": {
    "lenName": 16,
    "lenType": 16,
    "lenVar": 40
   },
   "kernels_config": {
    "python": {
     "delete_cmd_postfix": "",
     "delete_cmd_prefix": "del ",
     "library": "var_list.py",
     "varRefreshCmd": "print(var_dic_list())"
    },
    "r": {
     "delete_cmd_postfix": ") ",
     "delete_cmd_prefix": "rm(",
     "library": "var_list.r",
     "varRefreshCmd": "cat(var_dic_list()) "
    }
   },
   "types_to_exclude": [
    "module",
    "function",
    "builtin_function_or_method",
    "instance",
    "_Feature"
   ],
   "window_display": false
  }
 },
 "nbformat": 4,
 "nbformat_minor": 2
}
