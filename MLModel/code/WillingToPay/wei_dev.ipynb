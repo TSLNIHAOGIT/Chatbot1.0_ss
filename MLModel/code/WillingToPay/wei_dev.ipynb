{
 "cells": [
  {
   "cell_type": "code",
   "execution_count": 1,
   "metadata": {
    "ExecuteTime": {
     "end_time": "2018-06-19T20:49:53.869298Z",
     "start_time": "2018-06-19T20:49:53.439188Z"
    },
    "collapsed": true
   },
   "outputs": [],
   "source": [
    "import pickle\n",
    "clf = pickle.load(open(\"../../savedModel/WillingToPay/LinearSVC.pickle\", \"rb\"))\n",
    "lgbm_model = pickle.load(open(\"../../savedModel/WillingToPay/Lgbm.pickle\", \"rb\"))\n",
    "phrase_vectorizer = pickle.load(open(\"../../savedModel/WillingToPay/tfidf.pickle\", \"rb\"))\n",
    "log_r = pickle.load(open(\"../../savedModel/WillingToPay/Logistic.pickle\", \"rb\"))"
   ]
  },
  {
   "cell_type": "code",
   "execution_count": 2,
   "metadata": {
    "ExecuteTime": {
     "end_time": "2018-06-19T20:49:54.043031Z",
     "start_time": "2018-06-19T20:49:54.015472Z"
    },
    "collapsed": true
   },
   "outputs": [],
   "source": [
    "# import jieba\n",
    "# import numpy as np\n",
    "# import sys\n",
    "# tpattern_path = '../TimePattern/'\n",
    "# sys.path.append(tpattern_path)\n",
    "# from  time_regx_recognize import time_entity_recognize\n",
    "\n",
    "\n",
    "# class WillingToPay:\n",
    "    \n",
    "#     def __init__(self, **model):\n",
    "#         \"\"\"\n",
    "#         suggested parameters:\n",
    "#         svc, logistic, lightgbm, jieba_path,tfidf\n",
    "#         \"\"\"\n",
    "#         self._load_model(**model)\n",
    "#         self.ext_time = time_entity_recognize(tpattern_path + 'time_words').main\n",
    "        \n",
    "#     def _load_model(self,**model):\n",
    "#         self.svc = model.get('svc')\n",
    "#         self.logistic = model.get('logistic')\n",
    "#         self.lightgbm = model.get('lightgbm')\n",
    "#         self.tfidf = model.get('tfidf')\n",
    "#         # load jieba\n",
    "#         jieba_path = model.get('jieba_path')\n",
    "#         if jieba_path is not None:\n",
    "#             jieba.load_userdict(jieba_path)\n",
    "        \n",
    "        \n",
    "#     def classify(self, sentence, regular_enable=True, time_acc=24, time_nacc=24*35):\n",
    "#         # Regular expression\n",
    "#         if regular_enable:\n",
    "#             times = self.ext_time(sentence)\n",
    "#             print(times)\n",
    "#             if len(times) == 1:\n",
    "#                 time2now = times[0]['time_to_now']\n",
    "#                 if time2now <= time_acc:\n",
    "#                     label = 4\n",
    "#                     max_arg =4\n",
    "#                     confidence = 1.0\n",
    "#                 elif time_acc < time2now <= time_nacc:\n",
    "#                     label = 0\n",
    "#                     max_arg = 0\n",
    "#                     confidence = 1.0\n",
    "#                 else:\n",
    "#                     label = 1\n",
    "#                     max_arg = 1\n",
    "#                     confidence = 1.0\n",
    "#                 return (label, (max_arg, confidence))\n",
    "#             elif len(times) > 1:\n",
    "#                 label = 5\n",
    "#                 max_arg = 5\n",
    "#                 confidence = 1.0\n",
    "#                 return (label, (max_arg, confidence))\n",
    "                \n",
    "            \n",
    "        \n",
    "        \n",
    "#         # ML model process\n",
    "#         sentence = jieba.cut(sentence, cut_all = False)\n",
    "#         sentence = ' '.join(sentence)\n",
    "#         matrix = self.tfidf.transform([sentence])\n",
    "#         if len(matrix.data) > 0:\n",
    "#             result = np.vstack((self.svc.predict_proba(matrix),\n",
    "#                                  self.logistic.predict_proba(matrix),\n",
    "#                                  self.lightgbm.predict(matrix)))\n",
    "#         else:\n",
    "#             result = np.vstack((self.svc.predict_proba(matrix),\n",
    "#                                  self.logistic.predict_proba(matrix),\n",
    "#                                  ))\n",
    "#         max_pred = np.max(result, axis=0)\n",
    "#         max_arg = np.argmax(max_pred)\n",
    "#         threshold = 0.5\n",
    "#         if np.max(max_pred)<threshold:\n",
    "#             label = 3\n",
    "#         else:\n",
    "#             label = max_arg\n",
    "#         return (label, [max_arg,np.max(max_pred)])"
   ]
  },
  {
   "cell_type": "code",
   "execution_count": 3,
   "metadata": {
    "ExecuteTime": {
     "end_time": "2018-06-19T20:49:55.099276Z",
     "start_time": "2018-06-19T20:49:55.071216Z"
    },
    "collapsed": true
   },
   "outputs": [],
   "source": [
    "from WillingToPay_py import WillingToPay\n",
    "ifk = WillingToPay(svc=clf, logistic=log_r, lightgbm=lgbm_model, tfidf=phrase_vectorizer,)"
   ]
  },
  {
   "cell_type": "code",
   "execution_count": 4,
   "metadata": {
    "ExecuteTime": {
     "end_time": "2018-06-19T20:50:04.205527Z",
     "start_time": "2018-06-19T20:50:03.560957Z"
    }
   },
   "outputs": [
    {
     "name": "stderr",
     "output_type": "stream",
     "text": [
      "Building prefix dict from the default dictionary ...\n",
      "Loading model from cache /tmp/jieba.cache\n",
      "Loading model cost 0.617 seconds.\n",
      "Prefix dict has been built succesfully.\n"
     ]
    },
    {
     "data": {
      "text/plain": [
       "(2, [2, 0.87656246220477996])"
      ]
     },
     "execution_count": 4,
     "metadata": {},
     "output_type": "execute_result"
    }
   ],
   "source": [
    "ifk.classify('可以',regular_enable=True)"
   ]
  },
  {
   "cell_type": "code",
   "execution_count": 5,
   "metadata": {
    "ExecuteTime": {
     "end_time": "2018-06-19T20:20:46.905782Z",
     "start_time": "2018-06-19T20:20:46.703069Z"
    },
    "collapsed": true
   },
   "outputs": [],
   "source": [
    "pickle.dump(ifk, open(\"../../savedModel/WillingToPay/WillingToPay.pickle\", \"wb\"))"
   ]
  },
  {
   "cell_type": "code",
   "execution_count": null,
   "metadata": {
    "collapsed": true
   },
   "outputs": [],
   "source": []
  }
 ],
 "metadata": {
  "kernelspec": {
   "display_name": "Python 3",
   "language": "python",
   "name": "python3"
  },
  "language_info": {
   "codemirror_mode": {
    "name": "ipython",
    "version": 3
   },
   "file_extension": ".py",
   "mimetype": "text/x-python",
   "name": "python",
   "nbconvert_exporter": "python",
   "pygments_lexer": "ipython3",
   "version": "3.6.3"
  },
  "varInspector": {
   "cols": {
    "lenName": 16,
    "lenType": 16,
    "lenVar": 40
   },
   "kernels_config": {
    "python": {
     "delete_cmd_postfix": "",
     "delete_cmd_prefix": "del ",
     "library": "var_list.py",
     "varRefreshCmd": "print(var_dic_list())"
    },
    "r": {
     "delete_cmd_postfix": ") ",
     "delete_cmd_prefix": "rm(",
     "library": "var_list.r",
     "varRefreshCmd": "cat(var_dic_list()) "
    }
   },
   "types_to_exclude": [
    "module",
    "function",
    "builtin_function_or_method",
    "instance",
    "_Feature"
   ],
   "window_display": false
  }
 },
 "nbformat": 4,
 "nbformat_minor": 2
}
