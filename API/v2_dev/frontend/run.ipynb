{
 "cells": [
  {
   "cell_type": "code",
   "execution_count": 2,
   "metadata": {
    "ExecuteTime": {
     "end_time": "2018-06-28T20:16:14.434706Z",
     "start_time": "2018-06-28T20:16:13.916564Z"
    }
   },
   "outputs": [],
   "source": [
    "# from flask_other.app import app\n",
    "from flask_socketio import disconnect as dc\n",
    "from flask import Flask\n",
    "from flask_socketio import SocketIO, emit,join_room,leave_room\n",
    "from flask_socketio import disconnect\n",
    "from threading import Lock\n",
    "import os,sys\n",
    "# sys.path.append('../../../../Chatbot1.0/')\n",
    "# sys.path.append('/home/kai/data/Chatbot1.0/API/v1/frontend/')\n",
    "app=Flask(\"demo\")\n",
    "from flask import  render_template,request\n",
    "import time\n",
    "import re\n",
    "\n",
    "import pandas as pd\n",
    "import numpy as np\n",
    "import time\n",
    "import re\n",
    "import requests\n",
    "\n",
    "\n",
    "\n",
    "##################################\n",
    "async_mode = None\n",
    "app = Flask(__name__)\n",
    "app.config['SECRET_KEY'] = 'secret!'\n",
    "socketio = SocketIO(app, async_mode=async_mode)\n",
    "\n",
    "thread = None\n",
    "thread_lock = Lock()\n",
    "clients = []\n",
    "sentences = []\n",
    "\n",
    "name_space = '/chat'\n",
    "\n",
    "@app.route('/')\n",
    "def index():\n",
    "    return render_template('index.html', async_mode=socketio.async_mode)\n",
    "\n",
    "\n",
    "@socketio.on('client_send',namespace=name_space)\n",
    "def client_msg(msg):  \n",
    "    uid = request.sid\n",
    "    sentence = msg.get('data')\n",
    "    sentence = decode(sentence)\n",
    "    sentences.append(sentence)\n",
    "    print(sentence)\n",
    "    response = cache.chat(uid, sentence)\n",
    "    if response == 'end':\n",
    "        socketio.emit('my_response',{'data':'感谢选择江苏逸能，再见！'},room = uid, namespace=name_space)\n",
    "        disconnect_frontend(uid)\n",
    "    elif response is None:\n",
    "        socketio.emit('my_response',{'data':'当前会话已经过期，感谢选择江苏逸能，再见！'},room = uid, namespace=name_space)\n",
    "        disconnect_frontend(uid)\n",
    "    else:\n",
    "        socketio.emit('my_response',{'data':response},room = uid, namespace=name_space)\n",
    "\n",
    "def decode(msg):\n",
    "    msg = re.sub(r'%u', r'\\u', msg)\n",
    "    msg = msg.encode('latin-1').decode('unicode_escape')\n",
    "    return msg\n",
    "\n",
    "#sned message to a specific user\n",
    "def unique_message(uid):\n",
    "    socketio.emit('unique_messgae',{'data':'are you still here'}, room=uid, namespace=name_space)\n",
    "    \n",
    "def disconnect_frontend(uid):\n",
    "    socketio.emit('my_response',{'status':'disconnected'},room = uid, namespace=name_space)\n",
    "\n",
    "\n",
    "@socketio.on('disconnect',namespace=name_space)\n",
    "def disconnect():\n",
    "    uid = request.sid\n",
    "    cache.remove_session(uid)\n",
    "    leave_room(uid)\n",
    "    dc()\n",
    "    print('{} is disconnected'.format(uid))\n",
    "    \n",
    "@socketio.on('connect',namespace=name_space)\n",
    "def connect():\n",
    "    print('connect')\n",
    "    print(request.sid)\n",
    "    uid = request.sid\n",
    "    clients.append(uid)\n",
    "    print(len(clients))\n",
    "    \n",
    "    join_room(uid)\n",
    "    if cache.create_session(uid):\n",
    "        response = cache.chat(uid, '')\n",
    "        if response is not None:\n",
    "            socketio.emit('my_response',{'data':response},room = uid,namespace=name_space) #the first sentence\n",
    "            return None\n",
    "        \n",
    "    else:\n",
    "        socketio.emit('my_response',{'data':'server busy. please click new conv'},room = uid,namespace=name_space) \n",
    "        disconnect_frontend(uid)\n",
    "    \n",
    "\n"
   ]
  },
  {
   "cell_type": "code",
   "execution_count": 3,
   "metadata": {
    "ExecuteTime": {
     "end_time": "2018-06-28T20:16:15.709170Z",
     "start_time": "2018-06-28T20:16:15.694277Z"
    }
   },
   "outputs": [
    {
     "ename": "IndexError",
     "evalue": "list index out of range",
     "output_type": "error",
     "traceback": [
      "\u001b[0;31m---------------------------------------------------------------------------\u001b[0m",
      "\u001b[0;31mIndexError\u001b[0m                                Traceback (most recent call last)",
      "\u001b[0;32m<ipython-input-3-6d4868ecdce1>\u001b[0m in \u001b[0;36m<module>\u001b[0;34m()\u001b[0m\n\u001b[0;32m----> 1\u001b[0;31m \u001b[0msentences\u001b[0m\u001b[0;34m[\u001b[0m\u001b[0;36m0\u001b[0m\u001b[0;34m]\u001b[0m\u001b[0;34m\u001b[0m\u001b[0m\n\u001b[0m",
      "\u001b[0;31mIndexError\u001b[0m: list index out of range"
     ]
    }
   ],
   "source": [
    "sentences[0]"
   ]
  },
  {
   "cell_type": "code",
   "execution_count": 5,
   "metadata": {
    "ExecuteTime": {
     "end_time": "2018-06-28T20:15:18.408162Z",
     "start_time": "2018-06-28T20:15:18.396339Z"
    }
   },
   "outputs": [
    {
     "data": {
      "text/plain": [
       "'是的'"
      ]
     },
     "execution_count": 5,
     "metadata": {},
     "output_type": "execute_result"
    }
   ],
   "source": [
    "decode(sentences[0])"
   ]
  },
  {
   "cell_type": "code",
   "execution_count": null,
   "metadata": {
    "ExecuteTime": {
     "start_time": "2018-06-28T20:16:11.107Z"
    }
   },
   "outputs": [
    {
     "name": "stdout",
     "output_type": "stream",
     "text": [
      "http://10.0.24.31:8899/\n",
      "http://0.0.0.0:6006/\n",
      "connect\n",
      "77a9ee58cf5d44c6a624fb259ed93533\n",
      "1\n"
     ]
    },
    {
     "name": "stderr",
     "output_type": "stream",
     "text": [
      "Building prefix dict from the default dictionary ...\n",
      "Loading model from cache /tmp/jieba.cache\n"
     ]
    },
    {
     "name": "stdout",
     "output_type": "stream",
     "text": [
      "是的\n"
     ]
    },
    {
     "name": "stderr",
     "output_type": "stream",
     "text": [
      "Loading model cost 0.840 seconds.\n",
      "Prefix dict has been built succesfully.\n"
     ]
    },
    {
     "name": "stdout",
     "output_type": "stream",
     "text": [
      "我破产了\n",
      "label received is 0\n",
      "我真的没有钱\n",
      "label received is 1\n",
      "jump action is triggered\n",
      "马上就还\n",
      "是\n",
      "session 77a9ee58cf5d44c6a624fb259ed93533 is removed\n",
      "77a9ee58cf5d44c6a624fb259ed93533 is disconnected\n",
      "77a9ee58cf5d44c6a624fb259ed93533 is disconnected\n"
     ]
    }
   ],
   "source": [
    "print('http://10.0.24.31:8899/')\n",
    "print('http://0.0.0.0:6006/')\n",
    "socketio.run(app,'0.0.0.0',6006)"
   ]
  },
  {
   "cell_type": "code",
   "execution_count": 1,
   "metadata": {
    "ExecuteTime": {
     "end_time": "2018-06-28T20:16:11.424431Z",
     "start_time": "2018-06-28T20:16:10.786227Z"
    }
   },
   "outputs": [],
   "source": [
    "import time\n",
    "import gc\n",
    "class Cache:\n",
    "    def __init__(self, model_dict,max_session=1000):\n",
    "        self.max_session = 1000\n",
    "        self.inform_interval = 30\n",
    "        #{'uid': {'stragety': Tree(), 'time_response': <time>, 'time_inform': <>}\n",
    "        self.active_session = {}\n",
    "        self.model_dict = model_dict\n",
    "        \n",
    "        \n",
    "    def create_session(self, uid):\n",
    "        if len(self.active_session) < self.max_session:\n",
    "            self.active_session[uid] = {}\n",
    "            self.active_session[uid].update({'stragety':TreeStage1()})\n",
    "            self.active_session[uid].update({'time_response':time.time()})\n",
    "            self.active_session[uid].update({'time_inform':time.time()})\n",
    "            return True\n",
    "        else:\n",
    "            return False\n",
    "        \n",
    "    def remove_session(self,uid):\n",
    "        try:\n",
    "            del self.active_session[uid]\n",
    "            print('session {} is removed'.format(uid))\n",
    "        except KeyError:\n",
    "                pass\n",
    "        gc.collect()\n",
    "            \n",
    "    def chat(self,uid,sentence):\n",
    "        if self.active_session.get(uid) is not None:\n",
    "            response = self.active_session[uid]['stragety'].process(sentence, self.model_dict)\n",
    "        else:\n",
    "            response = None\n",
    "        return response\n",
    "        \n",
    "    \n",
    "    \n",
    "    def purge_inactive(self):\n",
    "        sec=500\n",
    "        current = time.time()\n",
    "        inactive_list = []\n",
    "        for each in self.session_timer:\n",
    "            if current - self.session_timer[each] > sec:\n",
    "                print('{} session is inactive, will be removed!'.format(each))\n",
    "                inactive_list.append(each)\n",
    "        for key in inactive_list:\n",
    "            try:\n",
    "                del self.active_session[key]\n",
    "            except KeyError:\n",
    "                pass\n",
    "            try:\n",
    "                del self.session_timer[key]\n",
    "            except KeyError:\n",
    "                pass\n",
    "            print('{} is removed'.format(key))\n",
    "        gc.collect()\n",
    "        \n",
    "    def inform_inactive(self):\n",
    "        pass\n",
    "        \n",
    "        \n",
    "        \n",
    "import sys,os\n",
    "sys.path.append('../../../MLModel/code/OneClickTraining/')\n",
    "sys.path.append('../../../MLModel/code/TreeModel/')\n",
    "from all_model_py import *\n",
    "import pickle\n",
    "from chatbotv1 import *\n",
    "\n",
    "\n",
    "\n",
    "models_list = ['IDClassifier','CutDebt','IfKnowDebtor','WillingToPay','Installment','ConfirmLoan']\n",
    "savedModel_path = '../../../MLModel/savedModel/{}/{}.pickle'\n",
    "model_dict = {}\n",
    "for each_model in models_list:\n",
    "    model_dict[each_model] = pickle.load(open(savedModel_path.format(each_model,each_model), 'rb'))\n",
    "    \n",
    "model_dict['OtherClassifier'] = OtherClassifier()\n",
    "model_dict['StopClassifier'] = StopClassifier()\n",
    "model_dict['InitClassifier'] = InitClassifier()    \n",
    "\n",
    "cache = Cache(model_dict)"
   ]
  },
  {
   "cell_type": "code",
   "execution_count": null,
   "metadata": {},
   "outputs": [],
   "source": [
    "import sys,os\n",
    "sys.path.append('../../../MLModel/code/OneClickTraining/')\n",
    "sys.path.append('../../../MLModel/code/TreeModel/')\n",
    "from all_model_py import *\n",
    "import pickle\n",
    "from chatbotv1 import *\n",
    "\n",
    "\n",
    "\n",
    "models_list = ['IDClassifier','CutDebt','IfKnowDebtor','WillingToPay','Installment','ConfirmLoan']\n",
    "savedModel_path = '../../../MLModel/savedModel/{}/{}.pickle'\n",
    "\n",
    "model_dict = {}\n",
    "for each_model in models_list:\n",
    "    model_dict[each_model] = pickle.load(open(savedModel_path.format(each_model,each_model), 'rb'))\n",
    "    \n",
    "model_dict['OtherClassifier'] = OtherClassifier()\n",
    "model_dict['StopClassifier'] = StopClassifier()\n",
    "model_dict['InitClassifier'] = InitClassifier()    "
   ]
  }
 ],
 "metadata": {
  "kernelspec": {
   "display_name": "Python 3",
   "language": "python",
   "name": "python3"
  },
  "language_info": {
   "codemirror_mode": {
    "name": "ipython",
    "version": 3
   },
   "file_extension": ".py",
   "mimetype": "text/x-python",
   "name": "python",
   "nbconvert_exporter": "python",
   "pygments_lexer": "ipython3",
   "version": "3.6.5"
  },
  "varInspector": {
   "cols": {
    "lenName": 16,
    "lenType": 16,
    "lenVar": 40
   },
   "kernels_config": {
    "python": {
     "delete_cmd_postfix": "",
     "delete_cmd_prefix": "del ",
     "library": "var_list.py",
     "varRefreshCmd": "print(var_dic_list())"
    },
    "r": {
     "delete_cmd_postfix": ") ",
     "delete_cmd_prefix": "rm(",
     "library": "var_list.r",
     "varRefreshCmd": "cat(var_dic_list()) "
    }
   },
   "types_to_exclude": [
    "module",
    "function",
    "builtin_function_or_method",
    "instance",
    "_Feature"
   ],
   "window_display": false
  }
 },
 "nbformat": 4,
 "nbformat_minor": 2
}
