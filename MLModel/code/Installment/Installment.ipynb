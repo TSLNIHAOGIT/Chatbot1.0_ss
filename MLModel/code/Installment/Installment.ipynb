{
 "cells": [
  {
   "cell_type": "code",
   "execution_count": 1,
   "metadata": {
    "ExecuteTime": {
     "end_time": "2018-06-13T18:36:39.560319Z",
     "start_time": "2018-06-13T18:36:39.261729Z"
    },
    "collapsed": true
   },
   "outputs": [],
   "source": [
    "#encoding=utf-8\n",
    "import pandas as pd\n",
    "import numpy as np\n",
    "from sklearn.feature_extraction.text import CountVectorizer, TfidfVectorizer, TfidfTransformer"
   ]
  },
  {
   "cell_type": "code",
   "execution_count": 2,
   "metadata": {
    "ExecuteTime": {
     "end_time": "2018-06-13T18:36:39.859853Z",
     "start_time": "2018-06-13T18:36:39.833954Z"
    }
   },
   "outputs": [
    {
     "name": "stdout",
     "output_type": "stream",
     "text": [
      "(3200, 2)\n"
     ]
    },
    {
     "data": {
      "text/html": [
       "<div>\n",
       "<style>\n",
       "    .dataframe thead tr:only-child th {\n",
       "        text-align: right;\n",
       "    }\n",
       "\n",
       "    .dataframe thead th {\n",
       "        text-align: left;\n",
       "    }\n",
       "\n",
       "    .dataframe tbody tr th {\n",
       "        vertical-align: top;\n",
       "    }\n",
       "</style>\n",
       "<table border=\"1\" class=\"dataframe\">\n",
       "  <thead>\n",
       "    <tr style=\"text-align: right;\">\n",
       "      <th></th>\n",
       "      <th>label</th>\n",
       "      <th>split_text</th>\n",
       "    </tr>\n",
       "  </thead>\n",
       "  <tbody>\n",
       "    <tr>\n",
       "      <th>0</th>\n",
       "      <td>2</td>\n",
       "      <td>这样</td>\n",
       "    </tr>\n",
       "    <tr>\n",
       "      <th>1</th>\n",
       "      <td>0</td>\n",
       "      <td>好</td>\n",
       "    </tr>\n",
       "    <tr>\n",
       "      <th>2</th>\n",
       "      <td>2</td>\n",
       "      <td>我 很 忙   对不起</td>\n",
       "    </tr>\n",
       "    <tr>\n",
       "      <th>3</th>\n",
       "      <td>0</td>\n",
       "      <td>好 的   我 有 足够 的 时间 来 支付 今晚 。</td>\n",
       "    </tr>\n",
       "    <tr>\n",
       "      <th>4</th>\n",
       "      <td>2</td>\n",
       "      <td>不   不   不</td>\n",
       "    </tr>\n",
       "    <tr>\n",
       "      <th>5</th>\n",
       "      <td>0</td>\n",
       "      <td>那么   你 不能 回去</td>\n",
       "    </tr>\n",
       "    <tr>\n",
       "      <th>6</th>\n",
       "      <td>0</td>\n",
       "      <td>行   等 下 就 还 。</td>\n",
       "    </tr>\n",
       "    <tr>\n",
       "      <th>7</th>\n",
       "      <td>1</td>\n",
       "      <td>延期 三个 月 我 也 还 不了</td>\n",
       "    </tr>\n",
       "    <tr>\n",
       "      <th>8</th>\n",
       "      <td>1</td>\n",
       "      <td>你 能 减少 它 吗 ？</td>\n",
       "    </tr>\n",
       "    <tr>\n",
       "      <th>9</th>\n",
       "      <td>0</td>\n",
       "      <td>在 开始 时   我 开始 接受 它 。</td>\n",
       "    </tr>\n",
       "  </tbody>\n",
       "</table>\n",
       "</div>"
      ],
      "text/plain": [
       "   label                   split_text\n",
       "0      2                       这样    \n",
       "1      0                            好\n",
       "2      2                  我 很 忙   对不起\n",
       "3      0  好 的   我 有 足够 的 时间 来 支付 今晚 。\n",
       "4      2                    不   不   不\n",
       "5      0                 那么   你 不能 回去\n",
       "6      0                行   等 下 就 还 。\n",
       "7      1             延期 三个 月 我 也 还 不了\n",
       "8      1                 你 能 减少 它 吗 ？\n",
       "9      0         在 开始 时   我 开始 接受 它 。"
      ]
     },
     "execution_count": 2,
     "metadata": {},
     "output_type": "execute_result"
    }
   ],
   "source": [
    "# path = '/home/kai/data/jiangning/Chatbot_1/Chatbot1.0/data/'\n",
    "path = '../../data/Installment/'\n",
    "data = pd.read_csv(path + 'cleaned_mock_up_data.csv', encoding='utf8')\n",
    "print(data.shape)\n",
    "data.head(10)"
   ]
  },
  {
   "cell_type": "code",
   "execution_count": 3,
   "metadata": {
    "ExecuteTime": {
     "end_time": "2018-06-13T18:36:40.581732Z",
     "start_time": "2018-06-13T18:36:40.576847Z"
    }
   },
   "outputs": [
    {
     "data": {
      "text/plain": [
       "'估计 不是'"
      ]
     },
     "execution_count": 3,
     "metadata": {},
     "output_type": "execute_result"
    }
   ],
   "source": [
    "data.split_text.iloc[42]"
   ]
  },
  {
   "cell_type": "code",
   "execution_count": 4,
   "metadata": {
    "ExecuteTime": {
     "end_time": "2018-06-13T18:36:41.001271Z",
     "start_time": "2018-06-13T18:36:40.920745Z"
    }
   },
   "outputs": [
    {
     "name": "stdout",
     "output_type": "stream",
     "text": [
      "fitting phrase\n",
      "transform phrase\n"
     ]
    },
    {
     "data": {
      "text/plain": [
       "<3200x7327 sparse matrix of type '<class 'numpy.float64'>'\n",
       "\twith 24991 stored elements in Compressed Sparse Row format>"
      ]
     },
     "execution_count": 4,
     "metadata": {},
     "output_type": "execute_result"
    }
   ],
   "source": [
    "phrase_vectorizer = TfidfVectorizer(ngram_range=(1,3),\n",
    "                                    strip_accents='unicode', \n",
    "                                    max_features=100000, \n",
    "                                    analyzer='word',\n",
    "                                    sublinear_tf=True,\n",
    "                                    token_pattern=r'\\w{1,}')\n",
    "\n",
    "print('fitting phrase')\n",
    "phrase_vectorizer.fit(data.split_text)\n",
    "\n",
    "print('transform phrase')\n",
    "phrase = phrase_vectorizer.transform(data.split_text)\n",
    "\n",
    "phrase"
   ]
  },
  {
   "cell_type": "markdown",
   "metadata": {},
   "source": [
    "# SVC"
   ]
  },
  {
   "cell_type": "code",
   "execution_count": 5,
   "metadata": {
    "ExecuteTime": {
     "end_time": "2018-06-13T18:36:41.793052Z",
     "start_time": "2018-06-13T18:36:41.635345Z"
    }
   },
   "outputs": [
    {
     "name": "stdout",
     "output_type": "stream",
     "text": [
      "0.9853125\n"
     ]
    }
   ],
   "source": [
    "from sklearn.calibration import CalibratedClassifierCV\n",
    "from sklearn.svm import LinearSVC\n",
    "\n",
    "l_svc = LinearSVC()\n",
    "clf = CalibratedClassifierCV(l_svc) \n",
    "clf.fit(phrase, data.label)\n",
    "print(clf.score(phrase, data.label))"
   ]
  },
  {
   "cell_type": "code",
   "execution_count": 6,
   "metadata": {
    "ExecuteTime": {
     "end_time": "2018-06-13T18:36:41.976451Z",
     "start_time": "2018-06-13T18:36:41.967732Z"
    }
   },
   "outputs": [
    {
     "name": "stdout",
     "output_type": "stream",
     "text": [
      "[2 0 2 ..., 1 0 0]\n"
     ]
    }
   ],
   "source": [
    "print(clf.predict(phrase))"
   ]
  },
  {
   "cell_type": "markdown",
   "metadata": {},
   "source": [
    "# logistic"
   ]
  },
  {
   "cell_type": "code",
   "execution_count": 7,
   "metadata": {
    "ExecuteTime": {
     "end_time": "2018-06-13T18:36:42.690494Z",
     "start_time": "2018-06-13T18:36:42.687166Z"
    },
    "collapsed": true
   },
   "outputs": [],
   "source": [
    "from sklearn.linear_model import LogisticRegression"
   ]
  },
  {
   "cell_type": "code",
   "execution_count": 8,
   "metadata": {
    "ExecuteTime": {
     "end_time": "2018-06-13T18:36:42.963598Z",
     "start_time": "2018-06-13T18:36:42.927504Z"
    }
   },
   "outputs": [
    {
     "name": "stdout",
     "output_type": "stream",
     "text": [
      "0.96\n"
     ]
    }
   ],
   "source": [
    "log_r = LogisticRegression()\n",
    "log_r.fit(phrase, data.label)\n",
    "print(log_r.score(phrase, data.label))"
   ]
  },
  {
   "cell_type": "code",
   "execution_count": 9,
   "metadata": {
    "ExecuteTime": {
     "end_time": "2018-06-13T18:36:43.208184Z",
     "start_time": "2018-06-13T18:36:43.203616Z"
    }
   },
   "outputs": [
    {
     "name": "stdout",
     "output_type": "stream",
     "text": [
      "[2 0 2 ..., 1 0 0]\n"
     ]
    }
   ],
   "source": [
    "print(log_r.predict(phrase))"
   ]
  },
  {
   "cell_type": "markdown",
   "metadata": {},
   "source": [
    "# LightGBM"
   ]
  },
  {
   "cell_type": "code",
   "execution_count": 10,
   "metadata": {
    "ExecuteTime": {
     "end_time": "2018-06-13T18:36:43.914548Z",
     "start_time": "2018-06-13T18:36:43.900610Z"
    },
    "collapsed": true
   },
   "outputs": [],
   "source": [
    "import lightgbm as lgb"
   ]
  },
  {
   "cell_type": "code",
   "execution_count": 11,
   "metadata": {
    "ExecuteTime": {
     "end_time": "2018-06-13T18:36:44.213509Z",
     "start_time": "2018-06-13T18:36:44.207805Z"
    },
    "collapsed": true
   },
   "outputs": [],
   "source": [
    "from sklearn import preprocessing\n",
    "le = preprocessing.LabelEncoder()\n",
    "le.fit(data.label.values)\n",
    "onelabels = le.transform(data.label.values)"
   ]
  },
  {
   "cell_type": "code",
   "execution_count": 12,
   "metadata": {
    "ExecuteTime": {
     "end_time": "2018-06-13T18:36:44.528520Z",
     "start_time": "2018-06-13T18:36:44.523826Z"
    }
   },
   "outputs": [
    {
     "data": {
      "text/plain": [
       "array([2, 0, 2, ..., 1, 0, 0])"
      ]
     },
     "execution_count": 12,
     "metadata": {},
     "output_type": "execute_result"
    }
   ],
   "source": [
    "onelabels"
   ]
  },
  {
   "cell_type": "code",
   "execution_count": 13,
   "metadata": {
    "ExecuteTime": {
     "end_time": "2018-06-13T18:36:45.844396Z",
     "start_time": "2018-06-13T18:36:45.838199Z"
    },
    "collapsed": true
   },
   "outputs": [],
   "source": [
    "from sklearn.preprocessing import MultiLabelBinarizer\n",
    "multicoder = MultiLabelBinarizer()\n",
    "lables = multicoder.fit_transform([data.label.values])"
   ]
  },
  {
   "cell_type": "code",
   "execution_count": 14,
   "metadata": {
    "ExecuteTime": {
     "end_time": "2018-06-13T18:36:46.316117Z",
     "start_time": "2018-06-13T18:36:46.311556Z"
    }
   },
   "outputs": [
    {
     "data": {
      "text/plain": [
       "array([[1, 1, 1]])"
      ]
     },
     "execution_count": 14,
     "metadata": {},
     "output_type": "execute_result"
    }
   ],
   "source": [
    "lables"
   ]
  },
  {
   "cell_type": "code",
   "execution_count": 15,
   "metadata": {
    "ExecuteTime": {
     "end_time": "2018-06-13T18:36:46.893419Z",
     "start_time": "2018-06-13T18:36:46.888553Z"
    }
   },
   "outputs": [
    {
     "data": {
      "text/plain": [
       "array([2, 0, 2, ..., 1, 0, 0])"
      ]
     },
     "execution_count": 15,
     "metadata": {},
     "output_type": "execute_result"
    }
   ],
   "source": [
    "data.label.values"
   ]
  },
  {
   "cell_type": "code",
   "execution_count": 16,
   "metadata": {
    "ExecuteTime": {
     "end_time": "2018-06-13T18:36:47.930238Z",
     "start_time": "2018-06-13T18:36:47.350242Z"
    }
   },
   "outputs": [
    {
     "name": "stderr",
     "output_type": "stream",
     "text": [
      "/home/kai/anaconda3/lib/python3.6/site-packages/lightgbm/engine.py:99: UserWarning: Found `num_iterations` in params. Will use it instead of argument\n",
      "  warnings.warn(\"Found `{}` in params. Will use it instead of argument\".format(alias))\n",
      "/home/kai/anaconda3/lib/python3.6/site-packages/lightgbm/engine.py:104: UserWarning: Found `early_stopping_round` in params. Will use it instead of argument\n",
      "  warnings.warn(\"Found `{}` in params. Will use it instead of argument\".format(alias))\n"
     ]
    },
    {
     "name": "stdout",
     "output_type": "stream",
     "text": [
      "Training until validation scores don't improve for 200 rounds.\n",
      "[5]\tvalid_0's multi_error: 0.201563\n",
      "[10]\tvalid_0's multi_error: 0.175625\n",
      "[15]\tvalid_0's multi_error: 0.16125\n",
      "[20]\tvalid_0's multi_error: 0.14875\n",
      "[25]\tvalid_0's multi_error: 0.142187\n",
      "[30]\tvalid_0's multi_error: 0.138125\n",
      "[35]\tvalid_0's multi_error: 0.132188\n",
      "[40]\tvalid_0's multi_error: 0.127812\n",
      "[45]\tvalid_0's multi_error: 0.126562\n",
      "[50]\tvalid_0's multi_error: 0.123125\n",
      "[55]\tvalid_0's multi_error: 0.119375\n",
      "[60]\tvalid_0's multi_error: 0.115625\n",
      "[65]\tvalid_0's multi_error: 0.113437\n",
      "[70]\tvalid_0's multi_error: 0.112187\n",
      "[75]\tvalid_0's multi_error: 0.109063\n",
      "[80]\tvalid_0's multi_error: 0.108125\n",
      "[85]\tvalid_0's multi_error: 0.107188\n",
      "[90]\tvalid_0's multi_error: 0.107188\n",
      "[95]\tvalid_0's multi_error: 0.10625\n",
      "[100]\tvalid_0's multi_error: 0.104375\n",
      "[105]\tvalid_0's multi_error: 0.104688\n",
      "[110]\tvalid_0's multi_error: 0.10375\n",
      "[115]\tvalid_0's multi_error: 0.101562\n",
      "[120]\tvalid_0's multi_error: 0.10125\n",
      "[125]\tvalid_0's multi_error: 0.100937\n",
      "[130]\tvalid_0's multi_error: 0.100312\n",
      "[135]\tvalid_0's multi_error: 0.0996875\n",
      "[140]\tvalid_0's multi_error: 0.0996875\n",
      "[145]\tvalid_0's multi_error: 0.0996875\n",
      "[150]\tvalid_0's multi_error: 0.099375\n",
      "[155]\tvalid_0's multi_error: 0.099375\n",
      "[160]\tvalid_0's multi_error: 0.09875\n",
      "[165]\tvalid_0's multi_error: 0.09875\n",
      "[170]\tvalid_0's multi_error: 0.09875\n",
      "[175]\tvalid_0's multi_error: 0.0984375\n",
      "[180]\tvalid_0's multi_error: 0.0984375\n",
      "[185]\tvalid_0's multi_error: 0.0978125\n",
      "[190]\tvalid_0's multi_error: 0.0978125\n",
      "[195]\tvalid_0's multi_error: 0.0975\n",
      "[200]\tvalid_0's multi_error: 0.0971875\n",
      "[205]\tvalid_0's multi_error: 0.0971875\n",
      "[210]\tvalid_0's multi_error: 0.0975\n",
      "[215]\tvalid_0's multi_error: 0.096875\n",
      "[220]\tvalid_0's multi_error: 0.096875\n",
      "[225]\tvalid_0's multi_error: 0.096875\n",
      "[230]\tvalid_0's multi_error: 0.096875\n",
      "[235]\tvalid_0's multi_error: 0.096875\n",
      "[240]\tvalid_0's multi_error: 0.096875\n",
      "[245]\tvalid_0's multi_error: 0.096875\n",
      "[250]\tvalid_0's multi_error: 0.096875\n",
      "[255]\tvalid_0's multi_error: 0.096875\n",
      "[260]\tvalid_0's multi_error: 0.096875\n",
      "[265]\tvalid_0's multi_error: 0.096875\n",
      "[270]\tvalid_0's multi_error: 0.096875\n",
      "[275]\tvalid_0's multi_error: 0.096875\n",
      "[280]\tvalid_0's multi_error: 0.096875\n",
      "[285]\tvalid_0's multi_error: 0.096875\n",
      "[290]\tvalid_0's multi_error: 0.096875\n",
      "[295]\tvalid_0's multi_error: 0.096875\n",
      "[300]\tvalid_0's multi_error: 0.096875\n",
      "[305]\tvalid_0's multi_error: 0.096875\n",
      "[310]\tvalid_0's multi_error: 0.096875\n",
      "[315]\tvalid_0's multi_error: 0.096875\n",
      "[320]\tvalid_0's multi_error: 0.096875\n",
      "[325]\tvalid_0's multi_error: 0.096875\n",
      "[330]\tvalid_0's multi_error: 0.096875\n",
      "[335]\tvalid_0's multi_error: 0.096875\n",
      "[340]\tvalid_0's multi_error: 0.096875\n",
      "[345]\tvalid_0's multi_error: 0.096875\n",
      "[350]\tvalid_0's multi_error: 0.096875\n",
      "[355]\tvalid_0's multi_error: 0.096875\n",
      "[360]\tvalid_0's multi_error: 0.096875\n",
      "[365]\tvalid_0's multi_error: 0.096875\n",
      "[370]\tvalid_0's multi_error: 0.096875\n",
      "[375]\tvalid_0's multi_error: 0.096875\n",
      "[380]\tvalid_0's multi_error: 0.096875\n",
      "[385]\tvalid_0's multi_error: 0.096875\n",
      "[390]\tvalid_0's multi_error: 0.096875\n",
      "[395]\tvalid_0's multi_error: 0.096875\n",
      "[400]\tvalid_0's multi_error: 0.096875\n",
      "[405]\tvalid_0's multi_error: 0.096875\n",
      "[410]\tvalid_0's multi_error: 0.096875\n",
      "Early stopping, best iteration is:\n",
      "[213]\tvalid_0's multi_error: 0.096875\n"
     ]
    }
   ],
   "source": [
    "params = {\n",
    "    'learning_rate': 0.2,\n",
    "    'num_iterations':1000,\n",
    "    'application': 'multiclassova',\n",
    "    'num_class': 3,\n",
    "    'num_leaves': 31,\n",
    "    'verbosity': -1,\n",
    "    'metric': 'multi_error',\n",
    "    'data_random_seed': 2,\n",
    "#     'bagging_fraction': 0.8,\n",
    "#     'feature_fraction': 0.6,\n",
    "    'nthread': 4,\n",
    "    'lambda_l1': 1,\n",
    "    'lambda_l2': 1,\n",
    "    'early_stopping_round':200\n",
    "} \n",
    "\n",
    "# lgbm_train = lgb.Dataset(phrase, data.label)\n",
    "lgbm_train = lgb.Dataset(phrase, onelabels)\n",
    "lgbm_val = lgb.Dataset(phrase, onelabels)\n",
    "lgbm_model = lgb.train(params,lgbm_train,valid_sets=lgbm_val, verbose_eval=5)"
   ]
  },
  {
   "cell_type": "code",
   "execution_count": 17,
   "metadata": {
    "ExecuteTime": {
     "end_time": "2018-06-13T18:36:49.118070Z",
     "start_time": "2018-06-13T18:36:49.061903Z"
    }
   },
   "outputs": [
    {
     "name": "stdout",
     "output_type": "stream",
     "text": [
      "[[ 0.60564801  0.02884043  0.40655115]\n",
      " [ 0.96171411  0.00565314  0.04658061]\n",
      " [ 0.00772318  0.00333949  0.98398717]\n",
      " ..., \n",
      " [ 0.00582912  0.91962595  0.07665217]\n",
      " [ 0.63220403  0.38849943  0.00579255]\n",
      " [ 0.98675579  0.02646844  0.01586792]]\n"
     ]
    }
   ],
   "source": [
    "print(lgbm_model.predict(phrase))"
   ]
  },
  {
   "cell_type": "code",
   "execution_count": 18,
   "metadata": {
    "ExecuteTime": {
     "end_time": "2018-06-13T18:36:51.784786Z",
     "start_time": "2018-06-13T18:36:51.780053Z"
    }
   },
   "outputs": [
    {
     "data": {
      "text/plain": [
       "<3200x7327 sparse matrix of type '<class 'numpy.float64'>'\n",
       "\twith 24991 stored elements in Compressed Sparse Row format>"
      ]
     },
     "execution_count": 18,
     "metadata": {},
     "output_type": "execute_result"
    }
   ],
   "source": [
    "phrase"
   ]
  },
  {
   "cell_type": "markdown",
   "metadata": {
    "ExecuteTime": {
     "end_time": "2018-06-12T19:25:10.103508Z",
     "start_time": "2018-06-12T19:25:10.100603Z"
    }
   },
   "source": [
    "# Save"
   ]
  },
  {
   "cell_type": "code",
   "execution_count": 19,
   "metadata": {
    "ExecuteTime": {
     "end_time": "2018-06-13T18:36:52.800311Z",
     "start_time": "2018-06-13T18:36:52.725192Z"
    },
    "collapsed": true
   },
   "outputs": [],
   "source": [
    "import pickle\n",
    "\n",
    "# save tfidf\n",
    "pickle.dump(phrase_vectorizer, open(\"../../savedModel/Installment/tfidf.pickle\", \"wb\"))\n",
    "# pickle.dump(train_comment_features, open(\"train_comment_features.pickle\", \"wb\"))\n",
    "# pickle.dump(test_comment_features, open(\"test_comment_features.pickle\", \"wb\"))\n",
    "\n",
    "# save linear svc\n",
    "pickle.dump(clf, open(\"../../savedModel/Installment/LinearSVC.pickle\", \"wb\"))\n",
    "# save logistic\n",
    "pickle.dump(log_r, open(\"../../savedModel/Installment/Logistic.pickle\", \"wb\"))\n",
    "# save lightGBM\n",
    "pickle.dump(lgbm_model, open(\"../../savedModel/Installment/Lgbm.pickle\", \"wb\"))"
   ]
  },
  {
   "cell_type": "markdown",
   "metadata": {
    "ExecuteTime": {
     "end_time": "2018-06-12T19:25:49.099516Z",
     "start_time": "2018-06-12T19:25:48.998572Z"
    }
   },
   "source": [
    "# Test"
   ]
  },
  {
   "cell_type": "code",
   "execution_count": 20,
   "metadata": {
    "ExecuteTime": {
     "end_time": "2018-06-13T18:36:53.620138Z",
     "start_time": "2018-06-13T18:36:53.615410Z"
    },
    "collapsed": true
   },
   "outputs": [],
   "source": [
    "test = phrase_vectorizer.transform(['我 真的 没有 钱 呀'])\n",
    "# test = phrase_vectorizer.transform(['我 在 洗澡'])\n"
   ]
  },
  {
   "cell_type": "code",
   "execution_count": 21,
   "metadata": {
    "ExecuteTime": {
     "end_time": "2018-06-13T18:36:53.943984Z",
     "start_time": "2018-06-13T18:36:53.937374Z"
    }
   },
   "outputs": [
    {
     "data": {
      "text/plain": [
       "array([[ 0.0086741,  0.9632555,  0.0280704]])"
      ]
     },
     "execution_count": 21,
     "metadata": {},
     "output_type": "execute_result"
    }
   ],
   "source": [
    "clf.predict_proba(test) # linear svc"
   ]
  },
  {
   "cell_type": "code",
   "execution_count": 22,
   "metadata": {
    "ExecuteTime": {
     "end_time": "2018-06-13T18:36:54.249826Z",
     "start_time": "2018-06-13T18:36:54.244510Z"
    }
   },
   "outputs": [
    {
     "data": {
      "text/plain": [
       "array([[ 0.06787473,  0.80033033,  0.13179494]])"
      ]
     },
     "execution_count": 22,
     "metadata": {},
     "output_type": "execute_result"
    }
   ],
   "source": [
    "log_r.predict_proba(test) # logistic"
   ]
  },
  {
   "cell_type": "code",
   "execution_count": 23,
   "metadata": {
    "ExecuteTime": {
     "end_time": "2018-06-13T18:36:54.559947Z",
     "start_time": "2018-06-13T18:36:54.554442Z"
    }
   },
   "outputs": [
    {
     "data": {
      "text/plain": [
       "array([[  2.84910981e-03,   9.98920197e-01,   8.55871215e-04]])"
      ]
     },
     "execution_count": 23,
     "metadata": {},
     "output_type": "execute_result"
    }
   ],
   "source": [
    "lgbm_model.predict(test) # light gbm"
   ]
  },
  {
   "cell_type": "markdown",
   "metadata": {},
   "source": [
    "# Labeling"
   ]
  },
  {
   "cell_type": "code",
   "execution_count": 24,
   "metadata": {
    "ExecuteTime": {
     "end_time": "2018-06-13T18:36:59.496229Z",
     "start_time": "2018-06-13T18:36:59.476763Z"
    }
   },
   "outputs": [
    {
     "name": "stdout",
     "output_type": "stream",
     "text": [
      "label= 1\n",
      "prob= 0.998920196558\n"
     ]
    }
   ],
   "source": [
    "# basic logic: find the max probability of 3 models, if it is larger than threshold, return the corresponding label, otherwise, return 2 (others).\n",
    "result = np.vstack((clf.predict_proba(test),log_r.predict_proba(test),lgbm_model.predict(test)))\n",
    "pos = np.where(result == np.max(result))\n",
    "\n",
    "threshold = 0.7\n",
    "if np.max(result)<threshold:\n",
    "    label = 2\n",
    "else:\n",
    "    label = pos[1]\n",
    "    label = label[0]\n",
    "    \n",
    "print('label=',label)\n",
    "print('prob=',np.max(result))"
   ]
  },
  {
   "cell_type": "markdown",
   "metadata": {
    "collapsed": true
   },
   "source": [
    "# Save the whole thing"
   ]
  },
  {
   "cell_type": "code",
   "execution_count": 25,
   "metadata": {
    "ExecuteTime": {
     "end_time": "2018-06-13T18:37:01.901225Z",
     "start_time": "2018-06-13T18:37:01.887408Z"
    },
    "collapsed": true
   },
   "outputs": [],
   "source": [
    "# import jieba\n",
    "# import numpy as np\n",
    "\n",
    "# class Installment:\n",
    "    \n",
    "#     def __init__(self, **model):\n",
    "#         \"\"\"\n",
    "#         suggested parameters:\n",
    "#         svc, logistic, lightgbm, jieba_path,tfidf\n",
    "#         \"\"\"\n",
    "#         self._load_model(**model)\n",
    "        \n",
    "#     def _load_model(self,**model):\n",
    "#         self.svc = model.get('svc')\n",
    "#         self.logistic = model.get('logistic')\n",
    "#         self.lightgbm = model.get('lightgbm')\n",
    "#         self.tfidf = model.get('tfidf')\n",
    "#         # load jieba\n",
    "#         jieba_path = model.get('jieba_path')\n",
    "#         if jieba_path is not None:\n",
    "#             jieba.load_userdict(jieba_path)\n",
    "        \n",
    "        \n",
    "#     def classify(self, sentence):\n",
    "#         sentence = jieba.cut(sentence, cut_all = False)\n",
    "#         sentence = ' '.join(sentence)\n",
    "#         matrix = self.tfidf.transform([sentence])\n",
    "#         result = np.vstack((self.svc.predict_proba(matrix),\n",
    "#                             self.logistic.predict_proba(matrix),\n",
    "#                             self.lightgbm.predict(matrix)))\n",
    "#         max_pred = np.max(result, axis=0)\n",
    "#         max_arg = np.argmax(max_pred)\n",
    "#         threshold = 0.6\n",
    "#         if np.max(max_pred)<threshold:\n",
    "#             label = 2\n",
    "#         else:\n",
    "#             label = max_arg\n",
    "#         return (label, np.max(max_pred))\n",
    "     \n",
    "        "
   ]
  },
  {
   "cell_type": "code",
   "execution_count": 26,
   "metadata": {
    "ExecuteTime": {
     "end_time": "2018-06-13T18:37:02.279018Z",
     "start_time": "2018-06-13T18:37:02.254879Z"
    },
    "collapsed": true
   },
   "outputs": [],
   "source": [
    "%load_ext autoreload\n",
    "%autoreload 2"
   ]
  },
  {
   "cell_type": "code",
   "execution_count": 27,
   "metadata": {
    "ExecuteTime": {
     "end_time": "2018-06-13T18:37:03.373883Z",
     "start_time": "2018-06-13T18:37:02.832937Z"
    }
   },
   "outputs": [
    {
     "name": "stderr",
     "output_type": "stream",
     "text": [
      "Building prefix dict from the default dictionary ...\n",
      "Loading model from cache /tmp/jieba.cache\n",
      "Loading model cost 0.450 seconds.\n",
      "Prefix dict has been built succesfully.\n"
     ]
    }
   ],
   "source": [
    "from Installment_py import Installment\n",
    "ifk = Installment(svc=clf, logistic=log_r, lightgbm=lgbm_model, tfidf=phrase_vectorizer, jieba_path='../WordCut/userdict.txt')\n",
    "\n",
    "pickle.dump(ifk, open(\"../../savedModel/Installment/Installment.pickle\", \"wb\"))"
   ]
  },
  {
   "cell_type": "code",
   "execution_count": null,
   "metadata": {
    "collapsed": true
   },
   "outputs": [],
   "source": []
  }
 ],
 "metadata": {
  "kernelspec": {
   "display_name": "Python 3",
   "language": "python",
   "name": "python3"
  },
  "language_info": {
   "codemirror_mode": {
    "name": "ipython",
    "version": 3
   },
   "file_extension": ".py",
   "mimetype": "text/x-python",
   "name": "python",
   "nbconvert_exporter": "python",
   "pygments_lexer": "ipython3",
   "version": "3.6.3"
  },
  "varInspector": {
   "cols": {
    "lenName": 16,
    "lenType": 16,
    "lenVar": 40
   },
   "kernels_config": {
    "python": {
     "delete_cmd_postfix": "",
     "delete_cmd_prefix": "del ",
     "library": "var_list.py",
     "varRefreshCmd": "print(var_dic_list())"
    },
    "r": {
     "delete_cmd_postfix": ") ",
     "delete_cmd_prefix": "rm(",
     "library": "var_list.r",
     "varRefreshCmd": "cat(var_dic_list()) "
    }
   },
   "types_to_exclude": [
    "module",
    "function",
    "builtin_function_or_method",
    "instance",
    "_Feature"
   ],
   "window_display": false
  }
 },
 "nbformat": 4,
 "nbformat_minor": 2
}
