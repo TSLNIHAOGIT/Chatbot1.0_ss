{
 "cells": [
  {
   "cell_type": "code",
   "execution_count": 73,
   "metadata": {
    "ExecuteTime": {
     "end_time": "2018-06-26T21:00:28.572423Z",
     "start_time": "2018-06-26T21:00:28.553367Z"
    },
    "collapsed": true
   },
   "outputs": [],
   "source": [
    "import pandas as pd\n",
    "import numpy as np\n",
    "import re\n",
    "import datetime as dt\n",
    "import pytz"
   ]
  },
  {
   "cell_type": "code",
   "execution_count": 101,
   "metadata": {
    "ExecuteTime": {
     "end_time": "2018-06-27T04:47:40.397019Z",
     "start_time": "2018-06-27T04:47:36.769753Z"
    },
    "collapsed": true
   },
   "outputs": [],
   "source": [
    "class TimePattern:\n",
    "    def __init__(self,pattern_path=None,tz='America/New_York'):\n",
    "        self._set_timeZone(tz)\n",
    "        self._load_mapping(pattern_path)\n",
    "        \n",
    "    \n",
    "    def process(self, sentence):\n",
    "        current = dt.datetime.now()\n",
    "        current = self.tz.localize(current)\n",
    "        fixymd = self.evl_ymd(sentence)\n",
    "        selfdefine = re.findall(self.re_ext, sentence)\n",
    "        result = []\n",
    "        for each in fixymd:\n",
    "            future = self.evl(each['expression'])\n",
    "            gap = (future - current).total_seconds()\n",
    "            result.append({'pattern':each['pattern'], 'time':future, 'gapS':gap, 'gapH':gap/3600})\n",
    "        for each in selfdefine:\n",
    "            future = self.evl(self.dict_ext[each])\n",
    "            gap = (future - current).total_seconds()\n",
    "            result.append({'pattern':each, 'time':future, 'gapS':gap, 'gapH':gap/3600})\n",
    "        return result\n",
    "    \n",
    "    def evl(self, expression):\n",
    "        current = dt.datetime.now()\n",
    "        current = self.tz.localize(current)\n",
    "        exp_week = re.findall(r'-.+W-.+w',expression)\n",
    "        exp_ymd = re.findall(r'.+y-.+m.+d',expression)\n",
    "\n",
    "        history = self._pros_second(expression, current)\n",
    "        history = self._pros_minute(expression, current, history)\n",
    "        history,shift = self._pros_hour(expression, current, history)\n",
    "\n",
    "        if exp_week:\n",
    "            history = self._pros_weekDay(expression,current, history)\n",
    "            history = self._pros_week(expression,current, history)\n",
    "            history = self._pros_year(expression, current,history)\n",
    "            future = self.create_from_W(history)  \n",
    "        elif exp_ymd:\n",
    "            history = self._pros_day(expression, current,history)\n",
    "            history = self._pros_month(expression, current,history)\n",
    "            history = self._pros_year(expression, current,history)\n",
    "            future = self.create_from_D(history)\n",
    "        if future.tzinfo is None:\n",
    "            future = self.tz.localize(future)\n",
    "        if not shift:\n",
    "            future = future - self.delta\n",
    "        return future\n",
    "    \n",
    "    def _load_mapping(self, pattern_path):\n",
    "        df = pd.read_csv('mapping.csv')\n",
    "        # create length\n",
    "        df['length'] = df.key_word.apply(lambda x: len(x))\n",
    "        df = df.sort_values(['length','key_word'], ascending=False)\n",
    "        df_series = pd.Series(index=df.key_word.values, data=df.expression.values)\n",
    "        df_dict = df_series.to_dict()\n",
    "        self.serires = df_series\n",
    "        self.re_ext = r'|'.join(self.serires.index.values)\n",
    "        self.dict_ext = df_dict\n",
    "        \n",
    "    def _set_timeZone(self,tz):\n",
    "        utc = pytz.utc\n",
    "        self.tz = pytz.timezone(tz)\n",
    "        now = dt.datetime.now()\n",
    "        utc_now = utc.localize(now)\n",
    "        tz_now = self.tz.localize(now)\n",
    "        delta =  utc_now - tz_now\n",
    "        hours = round(delta.total_seconds() / 3600)\n",
    "        self.delta = dt.timedelta(hours=hours)\n",
    "        \n",
    "    def _pros_second(self, expression, current, history={'microsecond':0}):\n",
    "        history = history.copy()\n",
    "        S = current.second\n",
    "        reexp = r'M:.+S'\n",
    "        extract = re.findall(reexp,expression)[0]\n",
    "        # M:+1S\n",
    "        if extract[2:-1] == '?':\n",
    "            history.update({'second':S})\n",
    "            return history\n",
    "        elif extract[2] == '+':\n",
    "            gap = int(extract[3:-1])\n",
    "            create = current + dt.timedelta(seconds=gap) \n",
    "            create = create.replace(**history)\n",
    "            return create \n",
    "        elif extract[2] == '-':\n",
    "            gap = int(extract[3:-1])\n",
    "            create =  current - dt.timedelta(seconds=gap)\n",
    "            create = create.replace(**history)\n",
    "            return create\n",
    "        else:\n",
    "            second = int(extract[2:-1])\n",
    "            history.update({'second':second})\n",
    "            return history\n",
    "        \n",
    "    def _pros_minute(self, expression, current, history = {}):\n",
    "        if isinstance(history,dt.datetime):\n",
    "            return history\n",
    "        history = history.copy()\n",
    "        M = current.minute\n",
    "        reexp = r'H:.+M'\n",
    "        extract = re.findall(reexp,expression)[0]\n",
    "        # H:?M\n",
    "        if extract[2:-1] == '?':\n",
    "            history.update({'minute':M})\n",
    "            return history\n",
    "        elif extract[2] == '+':\n",
    "            gap = int(extract[3:-1])\n",
    "            create = current + dt.timedelta(minutes=gap) \n",
    "            create = create.replace(**history)\n",
    "            return create\n",
    "        elif extract[2] == '-':\n",
    "            gap = int(extract[3:-1])\n",
    "            create = current - dt.timedelta(minutes=gap) \n",
    "            create = create.replace(**history)\n",
    "            return create\n",
    "        else:\n",
    "            minute = int(extract[2:-1])\n",
    "            history.update({'minute':minute})\n",
    "            return history\n",
    "        \n",
    "    def _pros_hour(self, expression, current, history = {}):\n",
    "        shift = True\n",
    "        if isinstance(history,dt.datetime):\n",
    "            return history, shift\n",
    "        history = history.copy()\n",
    "\n",
    "        H = current.hour\n",
    "        reexp = r'[dw]-.+H'\n",
    "        extract = re.findall(reexp,expression)[0]\n",
    "    #     d-?H\n",
    "        if extract[2:-1] == '?':\n",
    "            history.update({'hour':H})\n",
    "            return history,shift\n",
    "        elif extract[2] == '+':\n",
    "            gap = int(extract[3:-1])\n",
    "            create = current + dt.timedelta(hours=gap)\n",
    "            create = create.replace(**history)\n",
    "            return create,shift\n",
    "        elif extract[2] == '-':\n",
    "            gap = int(extract[3:-1])\n",
    "            create = current - dt.timedelta(hours=gap)\n",
    "            create = create.replace(**history)\n",
    "            return create,shift\n",
    "        else:\n",
    "            shift = False\n",
    "            hour = int(extract[2:-1])\n",
    "            history.update({'hour':hour})\n",
    "            return history,shift\n",
    "        \n",
    "    def _pros_day(self, expression, current, history={}):\n",
    "        if isinstance(history,dt.datetime):\n",
    "            return history\n",
    "        history = history.copy()\n",
    "        d = current.day\n",
    "        reexp = r'm-.+d'\n",
    "        extract = re.findall(reexp,expression)[0]\n",
    "        if extract[2:-1] == '?':\n",
    "            history.update({'day':d})\n",
    "            return history\n",
    "        elif extract[2] == '+':\n",
    "            gap = int(extract[3:-1])\n",
    "            create = current + dt.timedelta(days=gap) \n",
    "            create = create.replace(**history)\n",
    "            return create\n",
    "        elif extract[2] == '-':\n",
    "            gap = int(extract[3:-1])\n",
    "            create = current - dt.timedelta(days=gap) \n",
    "            create = create.replace(**history)\n",
    "            return create\n",
    "        else:\n",
    "            day = int(extract[2:-1])\n",
    "            history.update({'day':day})\n",
    "            return history\n",
    "        \n",
    "    def _pros_month(self, expression, current, history):\n",
    "        if isinstance(history,dt.datetime):\n",
    "            return history\n",
    "        history = history.copy()\n",
    "        adjust_year = 0\n",
    "        m = current.month\n",
    "        reexp = r'y-.+m'\n",
    "        extract = re.findall(reexp,expression)[0]\n",
    "        if extract[2:-1] == '?':\n",
    "            history.update({'month':m})\n",
    "            return history\n",
    "        elif extract[2] == '+':\n",
    "            cur = int(extract[3:-1]) + m\n",
    "            if cur > 12:\n",
    "                adjust_year = int(cur / 12)\n",
    "                cur = cur % 12\n",
    "                if cur == 0:\n",
    "                    cur = 12\n",
    "                    adjust_year -= 1\n",
    "            history.update({'year':adjust_year})\n",
    "            history.update({'month':cur})\n",
    "            return history\n",
    "        elif extract[2] == '-':\n",
    "            cur = m - int(extract[3:-1])\n",
    "            if cur < 1:\n",
    "                adjust_year = int(cur / 12) - 1\n",
    "                cur = cur % 12\n",
    "                if cur == 0:\n",
    "                    cur = 12\n",
    "            history.update({'year':adjust_year})\n",
    "            history.update({'month':cur})\n",
    "            return history\n",
    "        else:\n",
    "            history.update({'month':int(extract[2:-1])})\n",
    "            return history\n",
    "        \n",
    "    def _pros_year(self, expression, current, history):\n",
    "        if isinstance(history,dt.datetime):\n",
    "            return history\n",
    "        history = history.copy()\n",
    "        adjust_year = history.get('year')\n",
    "        if adjust_year is None:\n",
    "            adjust_year = 0\n",
    "        y = current.year\n",
    "        reexp = r'.+y-'\n",
    "        extract = re.findall(reexp,expression)[0]\n",
    "        if extract[0:-2] == '?':\n",
    "            history.update({'year':y+adjust_year})\n",
    "            return history\n",
    "        elif extract[0] == '+':\n",
    "            gap = int(extract[1:-2])\n",
    "            history.update({'year':y+adjust_year+gap})\n",
    "            return history\n",
    "        elif extract[0] == '-':\n",
    "            gap = int(extract[1:-2])\n",
    "            history.update({'year':y+adjust_year-gap})\n",
    "            return history\n",
    "        else:\n",
    "            history.update({'year':int(extract[:-2])+adjust_year})\n",
    "            return history\n",
    "        \n",
    "    def _pros_weekDay(self, expression, current, history):\n",
    "        history = history.copy()\n",
    "        w = current.isocalendar()[2] \n",
    "        reexp = r'W-.+w'\n",
    "        extract = re.findall(reexp,expression)[0]\n",
    "\n",
    "        # W-+1w\n",
    "        if extract[2:-1] == '?':\n",
    "            history.update({'weekday':str(w)})\n",
    "            return history\n",
    "        elif extract[2] == '+':\n",
    "            rep = str(w + int(extract[3:-1]))\n",
    "            history.update({'weekday':rep})\n",
    "            return history\n",
    "        elif extract[2] == '-':\n",
    "            rep = str(w - int(extract[3:-1]))\n",
    "            history.update({'weekday':rep})\n",
    "            return history\n",
    "        else:\n",
    "            rep = extract[2:-1]\n",
    "            history.update({'weekday':rep})\n",
    "            return history\n",
    "        \n",
    "    def _pros_week(self, expression, current, history):\n",
    "        history = history.copy()\n",
    "        year_adjust = 0\n",
    "        W = current.isocalendar()[1] \n",
    "        reexp = r'y-.+W'\n",
    "        extract = re.findall(reexp,expression)[0]\n",
    "\n",
    "        # y-+1W\n",
    "        if extract[2:-1] == '?':\n",
    "            rep = str(W)\n",
    "            history.update({'week':rep})\n",
    "            return history\n",
    "        elif extract[2] == '+':\n",
    "            cur = W + int(extract[3:-1])\n",
    "            if cur > 53:\n",
    "                year_adjust = int(cur / 53)\n",
    "                cur = cur % 53\n",
    "            rep = str(cur)\n",
    "            history.update({'year':year_adjust})\n",
    "            history.update({'week':rep})\n",
    "            return history\n",
    "        elif extract[2] == '-':\n",
    "            cur = W - int(extract[3:-1])\n",
    "            if cur < 0:\n",
    "                year_adjust = int(cur / 53) -1\n",
    "                cur = cur % 53\n",
    "            rep = str(cur)\n",
    "            history.update({'year':year_adjust})\n",
    "            history.update({'week':rep})\n",
    "            return history\n",
    "        else:\n",
    "            rep = extract[2:-1]\n",
    "            history.update({'week':rep})\n",
    "            return history\n",
    "    \n",
    "    def create_from_D(self, history):\n",
    "        if isinstance(history,dt.datetime):\n",
    "            return history\n",
    "        return dt.datetime(**history)\n",
    "    \n",
    "    def create_from_W(self, history):\n",
    "        expression ='{}y-{}W-{}w-{}H:{}M:{}S'.format(history['year'],\n",
    "                                                     history['week'],\n",
    "                                                     history['weekday'],\n",
    "                                                     history['hour'],\n",
    "                                                     history['minute'],\n",
    "                                                     history['second'])\n",
    "        eval_time = dt.datetime.strptime(expression, \"%Yy-%WW-%ww-%HH:%MM:%SS\")\n",
    "        return eval_time\n",
    "    \n",
    "    def ymd_reg(self,x):\n",
    "        fix_ymd = r'(?:(?:今|明|后|大后)年)?(?:(?:\\d{1,2}|下下下个|下下个|再下个|下个|十一|十二|一|二|三|四|五|六|七|八|九|十|后1个|后2个|后一个|后两个|后二个)月)?(?:(?:\\d{1,2}|一|二|三|四|五|六|七|八|九|十|十一|十二|十三|十四|十五|十六|十七|十八|十九|二十|二十一|二十二|二十三|二十四|二十五|二十六|二十七|二十八|二十九|三十|三十一)[日号])?'\n",
    "        finds = list(set(re.findall(fix_ymd,x)) -set(['']))\n",
    "        return finds\n",
    "\n",
    "    def ymd_expression(self, result):\n",
    "        def get_key(x):\n",
    "            if x.isdigit():\n",
    "                return x\n",
    "            else:\n",
    "                gets = time_dic.get(x)\n",
    "                if x is None:\n",
    "                    return '?'\n",
    "                else:\n",
    "                    return gets\n",
    "\n",
    "\n",
    "        time_dic = {'今':'?','明':'+1','后':'+2','大后':'+3','下个':'+1','下下个':'+2','再下个':'+2','下下下个':'+3','后1个':'+1','后2个':'+1','后一个':'+1','后两个':'+1',\n",
    "                    '一':'1','二':'2','三':'3','四':'4','五':'5','六':'6',\n",
    "                   '七':'7','八':'8','九':'9','十':'10','十一':'11','十二':'12','十三':'13','十四':'14','十五':'15',\n",
    "                   '十六':'16','十七':'17','十八':'18','十九':'19','二十':'20','二十一':'21','二十二':'22','二十三':'23',\n",
    "                   '二十四':'24','二十五':'25','二十六':'26','二十七':'27','二十八':'28','二十九':'29','三十':'30','三十一':'31'}\n",
    "        year_index = result.find('年')\n",
    "        month_index = result.find('月')\n",
    "        if result.find('日') != -1:\n",
    "            date_index = result.find('日')\n",
    "        else:\n",
    "            date_index = result.find('号')\n",
    "\n",
    "        if year_index != -1:\n",
    "            year_key = result[0:year_index]  \n",
    "            year = get_key(year_key)\n",
    "        else:\n",
    "            year = '?'\n",
    "        if month_index != -1:\n",
    "            month_key = result[year_index+1:month_index]\n",
    "            month = get_key(month_key)\n",
    "        else:\n",
    "            month = '?'\n",
    "        if date_index != -1:\n",
    "            date_key = result[month_index+1:date_index]\n",
    "            date = get_key(date_key)\n",
    "        else:\n",
    "            date = '?'\n",
    "        formatted = '{}y-{}m-{}d-12H:00M:00S'.format(year, month, date)\n",
    "        return formatted\n",
    "    \n",
    "    def evl_ymd(self,text):\n",
    "        finds = self.ymd_reg(text)\n",
    "        evls = []\n",
    "        if len(finds) == 0:\n",
    "            return evls\n",
    "        else:\n",
    "            for each in finds:\n",
    "                evls.append({'pattern':each, 'expression':self.ymd_expression(each)})\n",
    "        return evls\n",
    "    \n",
    "    def test1(self):\n",
    "        month = ['下个月','再下个月','下下个月','1月','2月',\n",
    "                 '3月','4月','5月','6月','7月','8月','9月','10月','11月','12月',\n",
    "                 '一月','二月','三月','四月','五月','六月','七月','八月','九月','十月','十一月','十二月',]"
   ]
  },
  {
   "cell_type": "code",
   "execution_count": 110,
   "metadata": {
    "ExecuteTime": {
     "end_time": "2018-06-27T04:53:12.584802Z",
     "start_time": "2018-06-27T04:53:12.365232Z"
    }
   },
   "outputs": [],
   "source": [
    "\n",
    "class Test:\n",
    "    def __init__(self):\n",
    "        self.t = TimePattern(pattern_path='mapping.csv')\n",
    "    \n",
    "    def test_fixed_ymd(self):\n",
    "        month = ['下个月','再下个月','下下个月','1月','2月',\n",
    "                 '3月','4月','5月','6月','7月','8月','9月','10月','11月','12月',\n",
    "                 '一月','二月','三月','四月','五月','六月','七月','八月','九月','十月','十一月','十二月']\n",
    "        year = ['明年','今年','后年','大后年']\n",
    "        day = ['1号','5号','7号','13号','18号','21号','24号','一号','二十三号',]\n",
    "        for y in year:\n",
    "            for m in month:\n",
    "                for d in day:\n",
    "                    string = y+m+d\n",
    "                    try:\n",
    "                        response = self.t.process(string)\n",
    "                    except ValueError:\n",
    "                        print(string)\n",
    "                    assert len(response) == 1\n",
    "t = Test()\n",
    "t.test_fixed_ymd()"
   ]
  },
  {
   "cell_type": "code",
   "execution_count": 111,
   "metadata": {
    "ExecuteTime": {
     "end_time": "2018-06-27T04:53:12.837231Z",
     "start_time": "2018-06-27T04:53:12.818987Z"
    }
   },
   "outputs": [],
   "source": [
    "tt = TimePattern(pattern_path='mapping.csv', tz='America/New_York')"
   ]
  },
  {
   "cell_type": "code",
   "execution_count": 112,
   "metadata": {
    "ExecuteTime": {
     "end_time": "2018-06-27T04:53:13.422960Z",
     "start_time": "2018-06-27T04:53:13.414998Z"
    }
   },
   "outputs": [
    {
     "name": "stdout",
     "output_type": "stream",
     "text": [
      "您所指定的时间不在月份范围内\n"
     ]
    }
   ],
   "source": [
    "try:\n",
    "    tt.process('12月32日')\n",
    "except ValueError as e:\n",
    "    if e.args[0] == 'day is out of range for month':\n",
    "        print('您所指定的时间不在月份范围内')"
   ]
  },
  {
   "cell_type": "code",
   "execution_count": 108,
   "metadata": {
    "ExecuteTime": {
     "end_time": "2018-06-27T04:51:04.505731Z",
     "start_time": "2018-06-27T04:51:04.493718Z"
    }
   },
   "outputs": [
    {
     "data": {
      "text/plain": [
       "('day is out of range for month',)"
      ]
     },
     "execution_count": 108,
     "metadata": {},
     "output_type": "execute_result"
    }
   ],
   "source": [
    "a.args"
   ]
  },
  {
   "cell_type": "code",
   "execution_count": 92,
   "metadata": {
    "ExecuteTime": {
     "end_time": "2018-06-26T21:15:10.006880Z",
     "start_time": "2018-06-26T21:15:10.000338Z"
    }
   },
   "outputs": [
    {
     "data": {
      "text/plain": [
       "[{'gapH': 8874.747221632222,\n",
       "  'gapS': 31949089.997876,\n",
       "  'pattern': '明年7月1号',\n",
       "  'time': datetime.datetime(2019, 7, 1, 16, 0, tzinfo=<DstTzInfo 'America/New_York' EDT-1 day, 20:00:00 DST>)}]"
      ]
     },
     "execution_count": 92,
     "metadata": {},
     "output_type": "execute_result"
    }
   ],
   "source": [
    "t.process('我明年7月1号哦哦不下周一就还')"
   ]
  },
  {
   "cell_type": "code",
   "execution_count": 64,
   "metadata": {
    "ExecuteTime": {
     "end_time": "2018-06-25T19:30:17.735166Z",
     "start_time": "2018-06-25T19:30:17.723925Z"
    }
   },
   "outputs": [
    {
     "data": {
      "text/plain": [
       "23.502335771944445"
      ]
     },
     "execution_count": 64,
     "metadata": {},
     "output_type": "execute_result"
    }
   ],
   "source": [
    "84608.408779 / 3600"
   ]
  },
  {
   "cell_type": "code",
   "execution_count": null,
   "metadata": {
    "collapsed": true
   },
   "outputs": [],
   "source": []
  },
  {
   "cell_type": "code",
   "execution_count": 18,
   "metadata": {
    "ExecuteTime": {
     "end_time": "2018-06-25T18:54:48.874730Z",
     "start_time": "2018-06-25T18:54:41.847386Z"
    }
   },
   "outputs": [
    {
     "name": "stdout",
     "output_type": "stream",
     "text": [
      "85.4 µs ± 1.14 µs per loop (mean ± std. dev. of 7 runs, 10000 loops each)\n"
     ]
    }
   ],
   "source": [
    "%%timeit\n",
    "a = t.evl('?y-+2W-3w-12H:00M:00S')\n"
   ]
  },
  {
   "cell_type": "code",
   "execution_count": 21,
   "metadata": {
    "ExecuteTime": {
     "end_time": "2018-06-25T18:56:24.233320Z",
     "start_time": "2018-06-25T18:56:19.141440Z"
    }
   },
   "outputs": [
    {
     "name": "stdout",
     "output_type": "stream",
     "text": [
      "61.5 µs ± 895 ns per loop (mean ± std. dev. of 7 runs, 10000 loops each)\n"
     ]
    }
   ],
   "source": [
    "%%timeit\n",
    "a = t.evl('?y-?m-?d-?H:00M:00S')"
   ]
  },
  {
   "cell_type": "code",
   "execution_count": 23,
   "metadata": {
    "ExecuteTime": {
     "end_time": "2018-06-25T19:04:16.170729Z",
     "start_time": "2018-06-25T19:04:16.163926Z"
    }
   },
   "outputs": [],
   "source": [
    "df = pd.DataFrame([{'key_word':'明天','expression':'?y-?m-+1d-12H:00M:00S'}])"
   ]
  },
  {
   "cell_type": "code",
   "execution_count": 25,
   "metadata": {
    "ExecuteTime": {
     "end_time": "2018-06-25T19:05:14.503642Z",
     "start_time": "2018-06-25T19:05:14.484117Z"
    }
   },
   "outputs": [],
   "source": [
    "df.to_csv('mapping.csv',encoding='utf-8',index=False)"
   ]
  },
  {
   "cell_type": "code",
   "execution_count": 51,
   "metadata": {
    "ExecuteTime": {
     "end_time": "2018-06-25T19:17:46.664837Z",
     "start_time": "2018-06-25T19:17:46.645152Z"
    }
   },
   "outputs": [],
   "source": [
    "df = pd.read_csv('mapping.csv')\n",
    "# create length\n",
    "df['length'] = df.key_word.apply(lambda x: len(x))\n",
    "df = df.sort_values(['length','key_word'], ascending=False)\n",
    "df_series = pd.Series(index=df.key_word.values, data=df.expression.values)\n",
    "df_dict = df_series.to_dict()"
   ]
  },
  {
   "cell_type": "code",
   "execution_count": 54,
   "metadata": {
    "ExecuteTime": {
     "end_time": "2018-06-25T19:18:03.413266Z",
     "start_time": "2018-06-25T19:18:03.407164Z"
    }
   },
   "outputs": [
    {
     "data": {
      "text/plain": [
       "array(['明天下午', '后天下午', '两周后', '一周后', '2周后', '1周后', '明天', '后天'], dtype=object)"
      ]
     },
     "execution_count": 54,
     "metadata": {},
     "output_type": "execute_result"
    }
   ],
   "source": [
    "df_series.index.values"
   ]
  },
  {
   "cell_type": "code",
   "execution_count": 49,
   "metadata": {
    "ExecuteTime": {
     "end_time": "2018-06-25T19:16:21.895944Z",
     "start_time": "2018-06-25T19:16:21.872069Z"
    }
   },
   "outputs": [
    {
     "data": {
      "text/html": [
       "<div>\n",
       "<style>\n",
       "    .dataframe thead tr:only-child th {\n",
       "        text-align: right;\n",
       "    }\n",
       "\n",
       "    .dataframe thead th {\n",
       "        text-align: left;\n",
       "    }\n",
       "\n",
       "    .dataframe tbody tr th {\n",
       "        vertical-align: top;\n",
       "    }\n",
       "</style>\n",
       "<table border=\"1\" class=\"dataframe\">\n",
       "  <thead>\n",
       "    <tr style=\"text-align: right;\">\n",
       "      <th></th>\n",
       "      <th>expression</th>\n",
       "      <th>key_word</th>\n",
       "      <th>length</th>\n",
       "    </tr>\n",
       "  </thead>\n",
       "  <tbody>\n",
       "    <tr>\n",
       "      <th>1</th>\n",
       "      <td>?y-?m-+1d-15H:00M:00S</td>\n",
       "      <td>明天下午</td>\n",
       "      <td>4</td>\n",
       "    </tr>\n",
       "    <tr>\n",
       "      <th>2</th>\n",
       "      <td>?y-?m-+2d-15H:00M:00S</td>\n",
       "      <td>后天下午</td>\n",
       "      <td>4</td>\n",
       "    </tr>\n",
       "    <tr>\n",
       "      <th>7</th>\n",
       "      <td>?y-+2W-?w-12H:00M:00S</td>\n",
       "      <td>两周后</td>\n",
       "      <td>3</td>\n",
       "    </tr>\n",
       "    <tr>\n",
       "      <th>4</th>\n",
       "      <td>?y-+1W-?w-12H:00M:00S</td>\n",
       "      <td>一周后</td>\n",
       "      <td>3</td>\n",
       "    </tr>\n",
       "    <tr>\n",
       "      <th>6</th>\n",
       "      <td>?y-+2W-?w-12H:00M:00S</td>\n",
       "      <td>2周后</td>\n",
       "      <td>3</td>\n",
       "    </tr>\n",
       "    <tr>\n",
       "      <th>5</th>\n",
       "      <td>?y-+1W-?w-12H:00M:00S</td>\n",
       "      <td>1周后</td>\n",
       "      <td>3</td>\n",
       "    </tr>\n",
       "    <tr>\n",
       "      <th>0</th>\n",
       "      <td>?y-?m-+1d-12H:00M:00S</td>\n",
       "      <td>明天</td>\n",
       "      <td>2</td>\n",
       "    </tr>\n",
       "    <tr>\n",
       "      <th>3</th>\n",
       "      <td>?y-?m-+2d-12H:00M:00S</td>\n",
       "      <td>后天</td>\n",
       "      <td>2</td>\n",
       "    </tr>\n",
       "  </tbody>\n",
       "</table>\n",
       "</div>"
      ],
      "text/plain": [
       "              expression key_word  length\n",
       "1  ?y-?m-+1d-15H:00M:00S     明天下午       4\n",
       "2  ?y-?m-+2d-15H:00M:00S     后天下午       4\n",
       "7  ?y-+2W-?w-12H:00M:00S      两周后       3\n",
       "4  ?y-+1W-?w-12H:00M:00S      一周后       3\n",
       "6  ?y-+2W-?w-12H:00M:00S      2周后       3\n",
       "5  ?y-+1W-?w-12H:00M:00S      1周后       3\n",
       "0  ?y-?m-+1d-12H:00M:00S       明天       2\n",
       "3  ?y-?m-+2d-12H:00M:00S       后天       2"
      ]
     },
     "execution_count": 49,
     "metadata": {},
     "output_type": "execute_result"
    }
   ],
   "source": [
    "df = df.sort_values(['length','key_word'], ascending=False)"
   ]
  },
  {
   "cell_type": "code",
   "execution_count": null,
   "metadata": {
    "collapsed": true
   },
   "outputs": [],
   "source": []
  }
 ],
 "metadata": {
  "kernelspec": {
   "display_name": "Python 3",
   "language": "python",
   "name": "python3"
  },
  "language_info": {
   "codemirror_mode": {
    "name": "ipython",
    "version": 3
   },
   "file_extension": ".py",
   "mimetype": "text/x-python",
   "name": "python",
   "nbconvert_exporter": "python",
   "pygments_lexer": "ipython3",
   "version": "3.6.5"
  },
  "varInspector": {
   "cols": {
    "lenName": 16,
    "lenType": 16,
    "lenVar": 40
   },
   "kernels_config": {
    "python": {
     "delete_cmd_postfix": "",
     "delete_cmd_prefix": "del ",
     "library": "var_list.py",
     "varRefreshCmd": "print(var_dic_list())"
    },
    "r": {
     "delete_cmd_postfix": ") ",
     "delete_cmd_prefix": "rm(",
     "library": "var_list.r",
     "varRefreshCmd": "cat(var_dic_list()) "
    }
   },
   "types_to_exclude": [
    "module",
    "function",
    "builtin_function_or_method",
    "instance",
    "_Feature"
   ],
   "window_display": false
  }
 },
 "nbformat": 4,
 "nbformat_minor": 2
}
