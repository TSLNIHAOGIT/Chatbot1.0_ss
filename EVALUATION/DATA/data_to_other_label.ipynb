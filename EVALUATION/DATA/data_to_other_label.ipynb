{
 "cells": [
  {
   "cell_type": "code",
   "execution_count": 1,
   "metadata": {
    "ExecuteTime": {
     "end_time": "2018-08-15T14:54:43.028866Z",
     "start_time": "2018-08-15T14:54:42.594771Z"
    }
   },
   "outputs": [],
   "source": [
    "import pandas as pd\n",
    "import numpy as np"
   ]
  },
  {
   "cell_type": "code",
   "execution_count": 26,
   "metadata": {
    "ExecuteTime": {
     "end_time": "2018-08-15T15:22:27.184623Z",
     "start_time": "2018-08-15T15:22:26.792195Z"
    }
   },
   "outputs": [
    {
     "name": "stdout",
     "output_type": "stream",
     "text": [
      "CutDebt\n",
      "IDClassifier\n",
      "IfKnowDebtor\n",
      "Installment\n",
      "ConfirmLoan\n",
      "WillingToPay\n"
     ]
    }
   ],
   "source": [
    "lists = ['CutDebt',\n",
    "         'IDClassifier',\n",
    "         'IfKnowDebtor',\n",
    "         'Installment',\n",
    "         'ConfirmLoan',\n",
    "          'WillingToPay']\n",
    "# for model in lists:\n",
    "others_dicts = {}\n",
    "for model in lists:\n",
    "    # model = 'CutDebt'\n",
    "    print(model)\n",
    "    file_name = '../../MLModel/data/{}/mock_up_data_clean_0730.csv'.format(model)\n",
    "    df = pd.read_csv(file_name,encoding='utf8')\n",
    "#     print(df.new_label.value_counts())\n",
    "    df_dicts = scan_fold(df)\n",
    "    others_dicts[model]=df_dicts\n",
    "    \n",
    "saving_dicts = {}\n",
    "for folds in range(100,115):\n",
    "    comb_list = []\n",
    "    for model in lists:\n",
    "        comb_list.append(others_dicts[model][folds])\n",
    "    saving_dicts[folds] = pd.concat(comb_list)\n",
    "        "
   ]
  },
  {
   "cell_type": "code",
   "execution_count": 25,
   "metadata": {
    "ExecuteTime": {
     "end_time": "2018-08-15T15:22:25.072647Z",
     "start_time": "2018-08-15T15:22:25.056341Z"
    }
   },
   "outputs": [],
   "source": [
    "def scan_fold(df):\n",
    "    df_dicts = {}\n",
    "    for folds in range(100,115):\n",
    "        returndf = pd.DataFrame()\n",
    "        filtered_df = df[df.new_label==folds]\n",
    "        returndf = filtered_df[['split_text','classifier','new_label']].copy()\n",
    "        df_dicts[folds] = returndf\n",
    "    return df_dicts"
   ]
  },
  {
   "cell_type": "markdown",
   "metadata": {},
   "source": [
    "# Saving"
   ]
  },
  {
   "cell_type": "code",
   "execution_count": 27,
   "metadata": {
    "ExecuteTime": {
     "end_time": "2018-08-15T15:23:19.553746Z",
     "start_time": "2018-08-15T15:23:19.399062Z"
    }
   },
   "outputs": [],
   "source": [
    "for folds in range(100,114):\n",
    "    path = '../../MLModel/data/others/labels/{}/0815other.csv'.format(folds)\n",
    "    saving_dicts[folds].to_csv(path,index=False,encoding='utf8')"
   ]
  },
  {
   "cell_type": "markdown",
   "metadata": {},
   "source": [
    "# Saving original"
   ]
  },
  {
   "cell_type": "code",
   "execution_count": 28,
   "metadata": {
    "ExecuteTime": {
     "end_time": "2018-08-15T15:30:26.782065Z",
     "start_time": "2018-08-15T15:30:26.456813Z"
    }
   },
   "outputs": [],
   "source": [
    "# for model in lists:\n",
    "#     file_name = '../../MLModel/data/{}/mock_up_data_clean_0730.csv'.format(model)\n",
    "#     backup = '../../MLModel/data/{}/mock_up_data_clean_0815_backup.csv'.format(model)\n",
    "#     df = pd.read_csv(file_name,encoding='utf8')\n",
    "#     df.to_csv(backup,index=False,encoding='utf8')\n",
    "#     df = df[df.new_label <3]\n",
    "#     df.to_csv(file_name,index=False,encoding='utf8')"
   ]
  },
  {
   "cell_type": "code",
   "execution_count": null,
   "metadata": {},
   "outputs": [],
   "source": []
  }
 ],
 "metadata": {
  "kernelspec": {
   "display_name": "Python 3",
   "language": "python",
   "name": "python3"
  },
  "language_info": {
   "codemirror_mode": {
    "name": "ipython",
    "version": 3
   },
   "file_extension": ".py",
   "mimetype": "text/x-python",
   "name": "python",
   "nbconvert_exporter": "python",
   "pygments_lexer": "ipython3",
   "version": "3.6.5"
  },
  "varInspector": {
   "cols": {
    "lenName": 16,
    "lenType": 16,
    "lenVar": 40
   },
   "kernels_config": {
    "python": {
     "delete_cmd_postfix": "",
     "delete_cmd_prefix": "del ",
     "library": "var_list.py",
     "varRefreshCmd": "print(var_dic_list())"
    },
    "r": {
     "delete_cmd_postfix": ") ",
     "delete_cmd_prefix": "rm(",
     "library": "var_list.r",
     "varRefreshCmd": "cat(var_dic_list()) "
    }
   },
   "types_to_exclude": [
    "module",
    "function",
    "builtin_function_or_method",
    "instance",
    "_Feature"
   ],
   "window_display": false
  }
 },
 "nbformat": 4,
 "nbformat_minor": 2
}
