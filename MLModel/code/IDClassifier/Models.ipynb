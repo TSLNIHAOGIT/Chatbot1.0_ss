{
 "cells": [
  {
   "cell_type": "code",
   "execution_count": 13,
   "metadata": {
    "ExecuteTime": {
     "end_time": "2018-06-01T18:31:47.159999Z",
     "start_time": "2018-06-01T18:31:47.155309Z"
    },
    "collapsed": true
   },
   "outputs": [],
   "source": [
    "#encoding=utf-8\n",
    "import pandas as pd\n",
    "import numpy as np\n",
    "from sklearn.feature_extraction.text import CountVectorizer, TfidfVectorizer, TfidfTransformer"
   ]
  },
  {
   "cell_type": "markdown",
   "metadata": {},
   "source": [
    "# get tfidf"
   ]
  },
  {
   "cell_type": "code",
   "execution_count": 14,
   "metadata": {
    "ExecuteTime": {
     "end_time": "2018-06-01T18:31:48.761052Z",
     "start_time": "2018-06-01T18:31:48.745680Z"
    },
    "scrolled": true
   },
   "outputs": [
    {
     "name": "stdout",
     "output_type": "stream",
     "text": [
      "(213, 2)\n"
     ]
    },
    {
     "data": {
      "text/html": [
       "<div>\n",
       "<style>\n",
       "    .dataframe thead tr:only-child th {\n",
       "        text-align: right;\n",
       "    }\n",
       "\n",
       "    .dataframe thead th {\n",
       "        text-align: left;\n",
       "    }\n",
       "\n",
       "    .dataframe tbody tr th {\n",
       "        vertical-align: top;\n",
       "    }\n",
       "</style>\n",
       "<table border=\"1\" class=\"dataframe\">\n",
       "  <thead>\n",
       "    <tr style=\"text-align: right;\">\n",
       "      <th></th>\n",
       "      <th>split_text</th>\n",
       "      <th>label</th>\n",
       "    </tr>\n",
       "  </thead>\n",
       "  <tbody>\n",
       "    <tr>\n",
       "      <th>0</th>\n",
       "      <td>啊</td>\n",
       "      <td>0</td>\n",
       "    </tr>\n",
       "    <tr>\n",
       "      <th>1</th>\n",
       "      <td>你 有病 吧 我 跟你 说过 很多次 了 我 不是 他</td>\n",
       "      <td>1</td>\n",
       "    </tr>\n",
       "    <tr>\n",
       "      <th>2</th>\n",
       "      <td>不是 什么事</td>\n",
       "      <td>1</td>\n",
       "    </tr>\n",
       "    <tr>\n",
       "      <th>3</th>\n",
       "      <td>啊 对</td>\n",
       "      <td>0</td>\n",
       "    </tr>\n",
       "    <tr>\n",
       "      <th>4</th>\n",
       "      <td>对</td>\n",
       "      <td>0</td>\n",
       "    </tr>\n",
       "    <tr>\n",
       "      <th>5</th>\n",
       "      <td>对</td>\n",
       "      <td>0</td>\n",
       "    </tr>\n",
       "    <tr>\n",
       "      <th>6</th>\n",
       "      <td>我 不是 啊</td>\n",
       "      <td>1</td>\n",
       "    </tr>\n",
       "    <tr>\n",
       "      <th>7</th>\n",
       "      <td>噢</td>\n",
       "      <td>0</td>\n",
       "    </tr>\n",
       "    <tr>\n",
       "      <th>8</th>\n",
       "      <td>啊</td>\n",
       "      <td>0</td>\n",
       "    </tr>\n",
       "    <tr>\n",
       "      <th>9</th>\n",
       "      <td>啊</td>\n",
       "      <td>0</td>\n",
       "    </tr>\n",
       "  </tbody>\n",
       "</table>\n",
       "</div>"
      ],
      "text/plain": [
       "                    split_text  label\n",
       "0                            啊      0\n",
       "1  你 有病 吧 我 跟你 说过 很多次 了 我 不是 他      1\n",
       "2                       不是 什么事      1\n",
       "3                          啊 对      0\n",
       "4                            对      0\n",
       "5                            对      0\n",
       "6                       我 不是 啊      1\n",
       "7                            噢      0\n",
       "8                            啊      0\n",
       "9                            啊      0"
      ]
     },
     "execution_count": 14,
     "metadata": {},
     "output_type": "execute_result"
    }
   ],
   "source": [
    "# path = '/home/kai/data/jiangning/Chatbot_1/Chatbot1.0/data/'\n",
    "path = '../../data/IDClassifier/'\n",
    "data = pd.read_csv(path + 'cleaned_mock_up_data.csv', encoding='utf8')\n",
    "print(data.shape)\n",
    "data.head(10)"
   ]
  },
  {
   "cell_type": "code",
   "execution_count": 15,
   "metadata": {
    "ExecuteTime": {
     "end_time": "2018-06-01T18:31:53.803711Z",
     "start_time": "2018-06-01T18:31:53.798535Z"
    },
    "collapsed": true
   },
   "outputs": [],
   "source": [
    "# phrase_vectorizer1 = TfidfVectorizer(ngram_range=(1,3),\n",
    "#                                     strip_accents='unicode', \n",
    "#                                     max_features=100000, \n",
    "#                                     analyzer='word',\n",
    "#                                     sublinear_tf=True,\n",
    "#                                     token_pattern=r'\\w{1,}')\n",
    "# data.split_text.iloc[:2]\n",
    "# dd = ['I like apple do you like it', 'I do not like banana']\n",
    "# phrase_vectorizer1.fit(dd)\n",
    "\n",
    "# print('transform phrase')\n",
    "# phrase = phrase_vectorizer1.transform(dd)\n"
   ]
  },
  {
   "cell_type": "code",
   "execution_count": 16,
   "metadata": {
    "ExecuteTime": {
     "end_time": "2018-06-01T18:31:55.108744Z",
     "start_time": "2018-06-01T18:31:55.103937Z"
    }
   },
   "outputs": [
    {
     "data": {
      "text/plain": [
       "'你 有病 吧 我 跟你 说过 很多次 了 我 不是 他'"
      ]
     },
     "execution_count": 16,
     "metadata": {},
     "output_type": "execute_result"
    }
   ],
   "source": [
    "data.split_text.iloc[1]"
   ]
  },
  {
   "cell_type": "code",
   "execution_count": 17,
   "metadata": {
    "ExecuteTime": {
     "end_time": "2018-06-01T18:31:55.997397Z",
     "start_time": "2018-06-01T18:31:55.994611Z"
    },
    "collapsed": true
   },
   "outputs": [],
   "source": [
    "# phrase_vectorizer1.vocabulary_"
   ]
  },
  {
   "cell_type": "code",
   "execution_count": 18,
   "metadata": {
    "ExecuteTime": {
     "end_time": "2018-06-01T18:31:56.813245Z",
     "start_time": "2018-06-01T18:31:56.786304Z"
    }
   },
   "outputs": [
    {
     "name": "stdout",
     "output_type": "stream",
     "text": [
      "fitting phrase\n",
      "transform phrase\n"
     ]
    },
    {
     "data": {
      "text/plain": [
       "<213x955 sparse matrix of type '<class 'numpy.float64'>'\n",
       "\twith 1658 stored elements in Compressed Sparse Row format>"
      ]
     },
     "execution_count": 18,
     "metadata": {},
     "output_type": "execute_result"
    }
   ],
   "source": [
    "phrase_vectorizer = TfidfVectorizer(ngram_range=(1,3),\n",
    "                                    strip_accents='unicode', \n",
    "                                    max_features=100000, \n",
    "                                    analyzer='word',\n",
    "                                    sublinear_tf=True,\n",
    "                                    token_pattern=r'\\w{1,}')\n",
    "\n",
    "print('fitting phrase')\n",
    "phrase_vectorizer.fit(data.split_text)\n",
    "\n",
    "print('transform phrase')\n",
    "phrase = phrase_vectorizer.transform(data.split_text)\n",
    "\n",
    "phrase"
   ]
  },
  {
   "cell_type": "markdown",
   "metadata": {},
   "source": [
    "# SVC"
   ]
  },
  {
   "cell_type": "code",
   "execution_count": 19,
   "metadata": {
    "ExecuteTime": {
     "end_time": "2018-06-01T18:32:01.041902Z",
     "start_time": "2018-06-01T18:32:01.009712Z"
    }
   },
   "outputs": [
    {
     "name": "stdout",
     "output_type": "stream",
     "text": [
      "1.0\n"
     ]
    }
   ],
   "source": [
    "from sklearn.calibration import CalibratedClassifierCV\n",
    "from sklearn.svm import LinearSVC\n",
    "\n",
    "l_svc = LinearSVC()\n",
    "clf = CalibratedClassifierCV(l_svc) \n",
    "clf.fit(phrase, data.label)\n",
    "print(clf.score(phrase, data.label))"
   ]
  },
  {
   "cell_type": "code",
   "execution_count": 20,
   "metadata": {
    "ExecuteTime": {
     "end_time": "2018-06-01T18:32:01.515007Z",
     "start_time": "2018-06-01T18:32:01.508613Z"
    }
   },
   "outputs": [
    {
     "name": "stdout",
     "output_type": "stream",
     "text": [
      "[0 1 1 0 0 0 1 0 0 0 0 0 0 0 0 0 0 0 0 0 0 0 0 0 0 0 0 0 0 0 0 0 0 0 0 0 0\n",
      " 0 0 0 0 0 0 1 1 0 0 0 0 0 0 0 0 0 0 0 0 0 0 0 0 0 1 1 1 1 1 0 2 2 2 2 2 2\n",
      " 2 0 0 0 0 2 2 2 0 1 1 2 2 1 0 0 2 2 2 2 1 1 1 2 0 0 1 0 0 0 0 0 0 0 1 2 1\n",
      " 0 0 2 2 0 0 0 1 0 0 0 0 1 0 1 0 1 1 2 2 1 0 2 1 2 2 1 1 1 0 2 1 0 0 0 1 1\n",
      " 0 0 0 1 2 2 0 2 2 1 0 0 1 2 0 2 1 0 0 1 1 1 0 0 1 0 0 0 0 0 0 0 0 0 1 1 0\n",
      " 0 0 1 1 1 1 0 1 1 1 1 1 1 1 1 0 0 0 1 1 1 0 1 1 1 0 1 1]\n"
     ]
    }
   ],
   "source": [
    "print(clf.predict(phrase))"
   ]
  },
  {
   "cell_type": "code",
   "execution_count": 24,
   "metadata": {
    "ExecuteTime": {
     "end_time": "2018-06-01T18:32:56.181591Z",
     "start_time": "2018-06-01T18:32:56.177043Z"
    },
    "collapsed": true
   },
   "outputs": [],
   "source": [
    "import pickle\n",
    "pickle.dump(clf, open(\"../../savedModel/IDClassifier/l_svc.pickle\", \"wb\"))"
   ]
  },
  {
   "cell_type": "code",
   "execution_count": 25,
   "metadata": {
    "ExecuteTime": {
     "end_time": "2018-06-01T18:32:57.078312Z",
     "start_time": "2018-06-01T18:32:57.074382Z"
    },
    "collapsed": true
   },
   "outputs": [],
   "source": [
    "aa = pickle.load(open(\"../../savedModel/IDClassifier/l_svc.pickle\", 'rb'))"
   ]
  },
  {
   "cell_type": "code",
   "execution_count": 26,
   "metadata": {
    "ExecuteTime": {
     "end_time": "2018-06-01T18:32:59.562004Z",
     "start_time": "2018-06-01T18:32:59.554810Z"
    }
   },
   "outputs": [
    {
     "data": {
      "text/plain": [
       "array([0, 1, 1, 0, 0, 0, 1, 0, 0, 0, 0, 0, 0, 0, 0, 0, 0, 0, 0, 0, 0, 0, 0,\n",
       "       0, 0, 0, 0, 0, 0, 0, 0, 0, 0, 0, 0, 0, 0, 0, 0, 0, 0, 0, 0, 1, 1, 0,\n",
       "       0, 0, 0, 0, 0, 0, 0, 0, 0, 0, 0, 0, 0, 0, 0, 0, 1, 1, 1, 1, 1, 0, 2,\n",
       "       2, 2, 2, 2, 2, 2, 0, 0, 0, 0, 2, 2, 2, 0, 1, 1, 2, 2, 1, 0, 0, 2, 2,\n",
       "       2, 2, 1, 1, 1, 2, 0, 0, 1, 0, 0, 0, 0, 0, 0, 0, 1, 2, 1, 0, 0, 2, 2,\n",
       "       0, 0, 0, 1, 0, 0, 0, 0, 1, 0, 1, 0, 1, 1, 2, 2, 1, 0, 2, 1, 2, 2, 1,\n",
       "       1, 1, 0, 2, 1, 0, 0, 0, 1, 1, 0, 0, 0, 1, 2, 2, 0, 2, 2, 1, 0, 0, 1,\n",
       "       2, 0, 2, 1, 0, 0, 1, 1, 1, 0, 0, 1, 0, 0, 0, 0, 0, 0, 0, 0, 0, 1, 1,\n",
       "       0, 0, 0, 1, 1, 1, 1, 0, 1, 1, 1, 1, 1, 1, 1, 1, 0, 0, 0, 1, 1, 1, 0,\n",
       "       1, 1, 1, 0, 1, 1])"
      ]
     },
     "execution_count": 26,
     "metadata": {},
     "output_type": "execute_result"
    }
   ],
   "source": [
    "aa.predict(phrase)"
   ]
  },
  {
   "cell_type": "markdown",
   "metadata": {},
   "source": [
    "# logistic"
   ]
  },
  {
   "cell_type": "code",
   "execution_count": 13,
   "metadata": {
    "ExecuteTime": {
     "end_time": "2018-06-01T18:14:36.614270Z",
     "start_time": "2018-06-01T18:14:36.611159Z"
    },
    "collapsed": true
   },
   "outputs": [],
   "source": [
    "from sklearn.linear_model import LogisticRegression"
   ]
  },
  {
   "cell_type": "code",
   "execution_count": 14,
   "metadata": {
    "ExecuteTime": {
     "end_time": "2018-06-01T18:14:37.033959Z",
     "start_time": "2018-06-01T18:14:37.024944Z"
    }
   },
   "outputs": [
    {
     "name": "stdout",
     "output_type": "stream",
     "text": [
      "0.830985915493\n"
     ]
    }
   ],
   "source": [
    "log_r = LogisticRegression()\n",
    "log_r.fit(phrase, data.label)\n",
    "print(log_r.score(phrase, data.label))"
   ]
  },
  {
   "cell_type": "code",
   "execution_count": 15,
   "metadata": {
    "ExecuteTime": {
     "end_time": "2018-06-01T18:14:37.575319Z",
     "start_time": "2018-06-01T18:14:37.570732Z"
    }
   },
   "outputs": [
    {
     "name": "stdout",
     "output_type": "stream",
     "text": [
      "[0 1 1 0 0 0 1 0 0 0 0 0 0 0 0 0 0 0 0 0 0 0 0 0 0 0 0 0 0 0 0 0 0 0 0 0 0\n",
      " 0 0 0 0 0 0 1 1 0 0 0 0 0 0 0 0 0 0 0 0 0 0 0 0 0 1 1 1 1 1 0 0 0 1 0 0 0\n",
      " 0 0 0 0 0 0 0 0 0 1 1 0 0 1 0 0 0 0 2 0 1 1 1 0 0 0 1 0 0 0 0 0 0 0 1 0 1\n",
      " 0 0 2 0 0 0 0 1 0 0 0 0 1 0 1 0 1 1 0 0 1 0 0 1 0 0 1 1 1 0 0 1 0 0 0 1 1\n",
      " 0 0 0 1 0 0 0 0 2 1 0 0 1 2 0 0 0 0 0 1 0 1 0 0 1 0 0 0 0 0 0 0 0 0 1 0 0\n",
      " 0 0 1 0 0 1 0 1 1 1 1 1 1 0 1 0 0 0 1 1 1 0 0 1 1 0 1 0]\n"
     ]
    }
   ],
   "source": [
    "print(log_r.predict(phrase))"
   ]
  },
  {
   "cell_type": "code",
   "execution_count": 16,
   "metadata": {
    "ExecuteTime": {
     "end_time": "2018-06-01T18:14:39.808850Z",
     "start_time": "2018-06-01T18:14:39.806028Z"
    },
    "collapsed": true
   },
   "outputs": [],
   "source": [
    "# l_svc.predict(phrase)-log_r.predict(phrase)"
   ]
  },
  {
   "cell_type": "markdown",
   "metadata": {},
   "source": [
    "# lightGBM"
   ]
  },
  {
   "cell_type": "code",
   "execution_count": 17,
   "metadata": {
    "ExecuteTime": {
     "end_time": "2018-06-01T18:14:40.763930Z",
     "start_time": "2018-06-01T18:14:40.750695Z"
    },
    "collapsed": true
   },
   "outputs": [],
   "source": [
    "import lightgbm as lgb"
   ]
  },
  {
   "cell_type": "code",
   "execution_count": 18,
   "metadata": {
    "ExecuteTime": {
     "end_time": "2018-06-01T18:14:41.028333Z",
     "start_time": "2018-06-01T18:14:41.022637Z"
    },
    "collapsed": true
   },
   "outputs": [],
   "source": [
    "from sklearn import preprocessing\n",
    "le = preprocessing.LabelEncoder()\n",
    "le.fit(data.label.values)\n",
    "onelabels = le.transform(data.label.values)"
   ]
  },
  {
   "cell_type": "code",
   "execution_count": 19,
   "metadata": {
    "ExecuteTime": {
     "end_time": "2018-06-01T18:14:41.411087Z",
     "start_time": "2018-06-01T18:14:41.405778Z"
    }
   },
   "outputs": [
    {
     "data": {
      "text/plain": [
       "array([0, 1, 1, 0, 0, 0, 1, 0, 0, 0, 0, 0, 0, 0, 0, 0, 0, 0, 0, 0, 0, 0, 0,\n",
       "       0, 0, 0, 0, 0, 0, 0, 0, 0, 0, 0, 0, 0, 0, 0, 0, 0, 0, 0, 0, 1, 1, 0,\n",
       "       0, 0, 0, 0, 0, 0, 0, 0, 0, 0, 0, 0, 0, 0, 0, 0, 1, 1, 1, 1, 1, 0, 2,\n",
       "       2, 2, 2, 2, 2, 2, 0, 0, 0, 0, 2, 2, 2, 0, 1, 1, 2, 2, 1, 0, 0, 2, 2,\n",
       "       2, 2, 1, 1, 1, 2, 0, 0, 1, 0, 0, 0, 0, 0, 0, 0, 1, 2, 1, 0, 0, 2, 2,\n",
       "       0, 0, 0, 1, 0, 0, 0, 0, 1, 0, 1, 0, 1, 1, 2, 2, 1, 0, 2, 1, 2, 2, 1,\n",
       "       1, 1, 0, 2, 1, 0, 0, 0, 1, 1, 0, 0, 0, 1, 2, 2, 0, 2, 2, 1, 0, 0, 1,\n",
       "       2, 0, 2, 1, 0, 0, 1, 1, 1, 0, 0, 1, 0, 0, 0, 0, 0, 0, 0, 0, 0, 1, 1,\n",
       "       0, 0, 0, 1, 1, 1, 1, 0, 1, 1, 1, 1, 1, 1, 1, 1, 0, 0, 0, 1, 1, 1, 0,\n",
       "       1, 1, 1, 0, 1, 1])"
      ]
     },
     "execution_count": 19,
     "metadata": {},
     "output_type": "execute_result"
    }
   ],
   "source": [
    "onelabels"
   ]
  },
  {
   "cell_type": "code",
   "execution_count": 20,
   "metadata": {
    "ExecuteTime": {
     "end_time": "2018-06-01T18:14:41.876544Z",
     "start_time": "2018-06-01T18:14:41.871331Z"
    },
    "collapsed": true
   },
   "outputs": [],
   "source": [
    "from sklearn.preprocessing import MultiLabelBinarizer\n",
    "multicoder = MultiLabelBinarizer()\n",
    "lables = multicoder.fit_transform([data.label.values])"
   ]
  },
  {
   "cell_type": "code",
   "execution_count": 21,
   "metadata": {
    "ExecuteTime": {
     "end_time": "2018-06-01T18:14:42.537554Z",
     "start_time": "2018-06-01T18:14:42.532670Z"
    }
   },
   "outputs": [
    {
     "data": {
      "text/plain": [
       "array([[1, 1, 1]])"
      ]
     },
     "execution_count": 21,
     "metadata": {},
     "output_type": "execute_result"
    }
   ],
   "source": [
    "lables"
   ]
  },
  {
   "cell_type": "code",
   "execution_count": 22,
   "metadata": {
    "ExecuteTime": {
     "end_time": "2018-06-01T18:14:42.921407Z",
     "start_time": "2018-06-01T18:14:42.915987Z"
    }
   },
   "outputs": [
    {
     "data": {
      "text/plain": [
       "array([0, 1, 1, 0, 0, 0, 1, 0, 0, 0, 0, 0, 0, 0, 0, 0, 0, 0, 0, 0, 0, 0, 0,\n",
       "       0, 0, 0, 0, 0, 0, 0, 0, 0, 0, 0, 0, 0, 0, 0, 0, 0, 0, 0, 0, 1, 1, 0,\n",
       "       0, 0, 0, 0, 0, 0, 0, 0, 0, 0, 0, 0, 0, 0, 0, 0, 1, 1, 1, 1, 1, 0, 2,\n",
       "       2, 2, 2, 2, 2, 2, 0, 0, 0, 0, 2, 2, 2, 0, 1, 1, 2, 2, 1, 0, 0, 2, 2,\n",
       "       2, 2, 1, 1, 1, 2, 0, 0, 1, 0, 0, 0, 0, 0, 0, 0, 1, 2, 1, 0, 0, 2, 2,\n",
       "       0, 0, 0, 1, 0, 0, 0, 0, 1, 0, 1, 0, 1, 1, 2, 2, 1, 0, 2, 1, 2, 2, 1,\n",
       "       1, 1, 0, 2, 1, 0, 0, 0, 1, 1, 0, 0, 0, 1, 2, 2, 0, 2, 2, 1, 0, 0, 1,\n",
       "       2, 0, 2, 1, 0, 0, 1, 1, 1, 0, 0, 1, 0, 0, 0, 0, 0, 0, 0, 0, 0, 1, 1,\n",
       "       0, 0, 0, 1, 1, 1, 1, 0, 1, 1, 1, 1, 1, 1, 1, 1, 0, 0, 0, 1, 1, 1, 0,\n",
       "       1, 1, 1, 0, 1, 1])"
      ]
     },
     "execution_count": 22,
     "metadata": {},
     "output_type": "execute_result"
    }
   ],
   "source": [
    "data.label.values"
   ]
  },
  {
   "cell_type": "code",
   "execution_count": 23,
   "metadata": {
    "ExecuteTime": {
     "end_time": "2018-06-01T18:14:43.379241Z",
     "start_time": "2018-06-01T18:14:43.376407Z"
    },
    "collapsed": true
   },
   "outputs": [],
   "source": [
    "# lables.todense()"
   ]
  },
  {
   "cell_type": "code",
   "execution_count": 24,
   "metadata": {
    "ExecuteTime": {
     "end_time": "2018-06-01T18:14:44.198514Z",
     "start_time": "2018-06-01T18:14:44.122919Z"
    }
   },
   "outputs": [
    {
     "name": "stdout",
     "output_type": "stream",
     "text": [
      "Training until validation scores don't improve for 200 rounds.\n",
      "[5]\tvalid_0's multi_error: 0.262911\n",
      "[10]\tvalid_0's multi_error: 0.262911\n",
      "[15]\tvalid_0's multi_error: 0.258216\n",
      "[20]\tvalid_0's multi_error: 0.262911\n",
      "[25]\tvalid_0's multi_error: 0.253521\n",
      "[30]\tvalid_0's multi_error: 0.258216\n",
      "[35]\tvalid_0's multi_error: 0.258216\n",
      "[40]\tvalid_0's multi_error: 0.253521\n",
      "[45]\tvalid_0's multi_error: 0.244131\n",
      "[50]\tvalid_0's multi_error: 0.239437\n",
      "[55]\tvalid_0's multi_error: 0.239437\n",
      "[60]\tvalid_0's multi_error: 0.244131\n",
      "[65]\tvalid_0's multi_error: 0.244131\n",
      "[70]\tvalid_0's multi_error: 0.239437\n",
      "[75]\tvalid_0's multi_error: 0.239437\n",
      "[80]\tvalid_0's multi_error: 0.239437\n",
      "[85]\tvalid_0's multi_error: 0.239437\n",
      "[90]\tvalid_0's multi_error: 0.239437\n",
      "[95]\tvalid_0's multi_error: 0.239437\n",
      "[100]\tvalid_0's multi_error: 0.239437\n",
      "[105]\tvalid_0's multi_error: 0.239437\n",
      "[110]\tvalid_0's multi_error: 0.239437\n",
      "[115]\tvalid_0's multi_error: 0.239437\n",
      "[120]\tvalid_0's multi_error: 0.239437\n",
      "[125]\tvalid_0's multi_error: 0.239437\n",
      "[130]\tvalid_0's multi_error: 0.234742\n",
      "[135]\tvalid_0's multi_error: 0.234742\n",
      "[140]\tvalid_0's multi_error: 0.234742\n",
      "[145]\tvalid_0's multi_error: 0.234742\n",
      "[150]\tvalid_0's multi_error: 0.234742\n",
      "[155]\tvalid_0's multi_error: 0.234742\n",
      "[160]\tvalid_0's multi_error: 0.234742\n",
      "[165]\tvalid_0's multi_error: 0.234742\n",
      "[170]\tvalid_0's multi_error: 0.234742\n",
      "[175]\tvalid_0's multi_error: 0.234742\n",
      "[180]\tvalid_0's multi_error: 0.234742\n",
      "[185]\tvalid_0's multi_error: 0.234742\n",
      "[190]\tvalid_0's multi_error: 0.234742\n",
      "[195]\tvalid_0's multi_error: 0.234742\n",
      "[200]\tvalid_0's multi_error: 0.234742\n",
      "[205]\tvalid_0's multi_error: 0.234742\n",
      "[210]\tvalid_0's multi_error: 0.234742\n",
      "[215]\tvalid_0's multi_error: 0.234742\n",
      "[220]\tvalid_0's multi_error: 0.234742\n",
      "[225]\tvalid_0's multi_error: 0.234742\n",
      "[230]\tvalid_0's multi_error: 0.234742\n",
      "[235]\tvalid_0's multi_error: 0.234742\n",
      "[240]\tvalid_0's multi_error: 0.234742\n",
      "[245]\tvalid_0's multi_error: 0.234742\n",
      "[250]\tvalid_0's multi_error: 0.234742\n",
      "[255]\tvalid_0's multi_error: 0.234742\n",
      "[260]\tvalid_0's multi_error: 0.234742\n",
      "[265]\tvalid_0's multi_error: 0.234742\n",
      "[270]\tvalid_0's multi_error: 0.234742\n",
      "[275]\tvalid_0's multi_error: 0.234742\n",
      "[280]\tvalid_0's multi_error: 0.234742\n",
      "[285]\tvalid_0's multi_error: 0.234742\n",
      "[290]\tvalid_0's multi_error: 0.234742\n",
      "[295]\tvalid_0's multi_error: 0.234742\n",
      "[300]\tvalid_0's multi_error: 0.234742\n",
      "[305]\tvalid_0's multi_error: 0.234742\n",
      "[310]\tvalid_0's multi_error: 0.234742\n",
      "[315]\tvalid_0's multi_error: 0.234742\n",
      "[320]\tvalid_0's multi_error: 0.234742\n",
      "[325]\tvalid_0's multi_error: 0.234742\n",
      "Early stopping, best iteration is:\n",
      "[126]\tvalid_0's multi_error: 0.234742\n"
     ]
    },
    {
     "name": "stderr",
     "output_type": "stream",
     "text": [
      "/home/kai/anaconda3/lib/python3.6/site-packages/lightgbm/engine.py:99: UserWarning: Found `num_iterations` in params. Will use it instead of argument\n",
      "  warnings.warn(\"Found `{}` in params. Will use it instead of argument\".format(alias))\n",
      "/home/kai/anaconda3/lib/python3.6/site-packages/lightgbm/engine.py:104: UserWarning: Found `early_stopping_round` in params. Will use it instead of argument\n",
      "  warnings.warn(\"Found `{}` in params. Will use it instead of argument\".format(alias))\n"
     ]
    }
   ],
   "source": [
    "params = {\n",
    "    'learning_rate': 0.2,\n",
    "    'num_iterations':1000,\n",
    "    'application': 'multiclassova',\n",
    "    'num_class': 3,\n",
    "    'num_leaves': 31,\n",
    "    'verbosity': -1,\n",
    "    'metric': 'multi_error',\n",
    "    'data_random_seed': 2,\n",
    "#     'bagging_fraction': 0.8,\n",
    "#     'feature_fraction': 0.6,\n",
    "    'nthread': 4,\n",
    "    'lambda_l1': 1,\n",
    "    'lambda_l2': 1,\n",
    "    'early_stopping_round':200\n",
    "} \n",
    "\n",
    "# lgbm_train = lgb.Dataset(phrase, data.label)\n",
    "lgbm_train = lgb.Dataset(phrase, onelabels)\n",
    "lgbm_val = lgb.Dataset(phrase, onelabels)\n",
    "lgbm_model = lgb.train(params,lgbm_train,valid_sets=lgbm_val, verbose_eval=5)"
   ]
  },
  {
   "cell_type": "code",
   "execution_count": 25,
   "metadata": {
    "ExecuteTime": {
     "end_time": "2018-06-01T18:14:44.857550Z",
     "start_time": "2018-06-01T18:14:44.836069Z"
    }
   },
   "outputs": [
    {
     "name": "stdout",
     "output_type": "stream",
     "text": [
      "[[ 0.93232931  0.0285261   0.04805912]\n",
      " [ 0.03088033  0.90672612  0.01328779]\n",
      " [ 0.02683796  0.96635572  0.02975403]\n",
      " [ 0.98054547  0.02170001  0.02226349]\n",
      " [ 0.94929452  0.05904896  0.05583565]\n",
      " [ 0.94929452  0.05904896  0.05583565]\n",
      " [ 0.04523034  0.91816321  0.0041229 ]\n",
      " [ 0.69170097  0.08231551  0.19248124]\n",
      " [ 0.93232931  0.0285261   0.04805912]\n",
      " [ 0.93232931  0.0285261   0.04805912]\n",
      " [ 0.98054547  0.02170001  0.02226349]\n",
      " [ 0.96644191  0.01912252  0.06107039]\n",
      " [ 0.69170097  0.08231551  0.19248124]\n",
      " [ 0.69170097  0.08231551  0.19248124]\n",
      " [ 0.98054547  0.02170001  0.02226349]\n",
      " [ 0.98054547  0.02170001  0.02226349]\n",
      " [ 0.94929452  0.05904896  0.05583565]\n",
      " [ 0.69170097  0.08231551  0.19248124]\n",
      " [ 0.93232931  0.0285261   0.04805912]\n",
      " [ 0.69170097  0.08231551  0.19248124]\n",
      " [ 0.96644191  0.01912252  0.06107039]\n",
      " [ 0.96644191  0.01912252  0.06107039]\n",
      " [ 0.69170097  0.08231551  0.19248124]\n",
      " [ 0.93232931  0.0285261   0.04805912]\n",
      " [ 0.69170097  0.08231551  0.19248124]\n",
      " [ 0.69170097  0.08231551  0.19248124]\n",
      " [ 0.69170097  0.08231551  0.19248124]\n",
      " [ 0.96644191  0.01912252  0.06107039]\n",
      " [ 0.96644191  0.01912252  0.06107039]\n",
      " [ 0.98054547  0.02170001  0.02226349]\n",
      " [ 0.94929452  0.05904896  0.05583565]\n",
      " [ 0.69170097  0.08231551  0.19248124]\n",
      " [ 0.93232931  0.0285261   0.04805912]\n",
      " [ 0.69170097  0.08231551  0.19248124]\n",
      " [ 0.93232931  0.0285261   0.04805912]\n",
      " [ 0.69170097  0.08231551  0.19248124]\n",
      " [ 0.69170097  0.08231551  0.19248124]\n",
      " [ 0.46920275  0.43121844  0.07733324]\n",
      " [ 0.93232931  0.0285261   0.04805912]\n",
      " [ 0.94929452  0.05904896  0.05583565]\n",
      " [ 0.94929452  0.05904896  0.05583565]\n",
      " [ 0.69170097  0.08231551  0.19248124]\n",
      " [ 0.94929452  0.06297815  0.02204159]\n",
      " [ 0.02297304  0.97685499  0.05717506]\n",
      " [ 0.16032543  0.63459325  0.20065288]\n",
      " [ 0.98054547  0.02170001  0.02226349]\n",
      " [ 0.69170097  0.08231551  0.19248124]\n",
      " [ 0.69170097  0.08231551  0.19248124]\n",
      " [ 0.96644191  0.01912252  0.06107039]\n",
      " [ 0.93232931  0.0285261   0.04805912]\n",
      " [ 0.97644118  0.01630028  0.04692555]\n",
      " [ 0.94929452  0.05904896  0.05583565]\n",
      " [ 0.94929452  0.05904896  0.05583565]\n",
      " [ 0.69170097  0.08231551  0.19248124]\n",
      " [ 0.69170097  0.08231551  0.19248124]\n",
      " [ 0.69170097  0.08231551  0.19248124]\n",
      " [ 0.69170097  0.08231551  0.19248124]\n",
      " [ 0.69170097  0.08231551  0.19248124]\n",
      " [ 0.94929452  0.05904896  0.05583565]\n",
      " [ 0.93232931  0.0285261   0.04805912]\n",
      " [ 0.96644191  0.01912252  0.06107039]\n",
      " [ 0.69170097  0.08231551  0.19248124]\n",
      " [ 0.03631924  0.97824851  0.02934796]\n",
      " [ 0.02994909  0.97824851  0.05265535]\n",
      " [ 0.11957109  0.70119289  0.33802458]\n",
      " [ 0.02224046  0.9395987   0.1168764 ]\n",
      " [ 0.67561073  0.21021862  0.09732382]\n",
      " [ 0.91900577  0.16449232  0.02820394]\n",
      " [ 0.29896847  0.18988697  0.5547012 ]\n",
      " [ 0.69170097  0.08231551  0.19248124]\n",
      " [ 0.11612422  0.45729227  0.52704978]\n",
      " [ 0.12796712  0.56999738  0.33563596]\n",
      " [ 0.69170097  0.08231551  0.19248124]\n",
      " [ 0.69170097  0.08231551  0.19248124]\n",
      " [ 0.24548002  0.41105095  0.31881083]\n",
      " [ 0.76767571  0.19168753  0.04023974]\n",
      " [ 0.69170097  0.08231551  0.19248124]\n",
      " [ 0.69170097  0.08231551  0.19248124]\n",
      " [ 0.24548002  0.41105095  0.31881083]\n",
      " [ 0.62030122  0.08552604  0.35949247]\n",
      " [ 0.69170097  0.08231551  0.19248124]\n",
      " [ 0.29896847  0.18988697  0.5547012 ]\n",
      " [ 0.56557129  0.5627601   0.01593598]\n",
      " [ 0.02224046  0.9395987   0.1168764 ]\n",
      " [ 0.12796712  0.56999738  0.33563596]\n",
      " [ 0.69170097  0.08231551  0.19248124]\n",
      " [ 0.12796712  0.56999738  0.33563596]\n",
      " [ 0.52210825  0.24092547  0.0617308 ]\n",
      " [ 0.67561073  0.21021862  0.09732382]\n",
      " [ 0.69170097  0.08231551  0.19248124]\n",
      " [ 0.12796712  0.56999738  0.33563596]\n",
      " [ 0.23939047  0.13596835  0.47190955]\n",
      " [ 0.24449331  0.5602337   0.30757968]\n",
      " [ 0.69170097  0.08231551  0.19248124]\n",
      " [ 0.23939047  0.20039051  0.50529294]\n",
      " [ 0.12796712  0.56999738  0.33563596]\n",
      " [ 0.56557129  0.5627601   0.01593598]\n",
      " [ 0.23939047  0.20039051  0.50529294]\n",
      " [ 0.76767571  0.19168753  0.04023974]\n",
      " [ 0.76767571  0.19168753  0.04023974]\n",
      " [ 0.12796712  0.56999738  0.33563596]\n",
      " [ 0.56557129  0.5627601   0.01593598]\n",
      " [ 0.62030122  0.08552604  0.35949247]\n",
      " [ 0.69170097  0.08231551  0.19248124]\n",
      " [ 0.96723696  0.04167872  0.02157554]\n",
      " [ 0.75281242  0.11815644  0.21029458]\n",
      " [ 0.92083261  0.21420207  0.00995793]\n",
      " [ 0.63848429  0.17771341  0.01609163]\n",
      " [ 0.12796712  0.56999738  0.33563596]\n",
      " [ 0.23939047  0.20039051  0.50529294]\n",
      " [ 0.02683796  0.96635572  0.02975403]\n",
      " [ 0.96644191  0.01912252  0.06107039]\n",
      " [ 0.96644191  0.01912252  0.06107039]\n",
      " [ 0.69170097  0.08231551  0.19248124]\n",
      " [ 0.36607401  0.14855343  0.29656126]\n",
      " [ 0.24548002  0.41105095  0.31881083]\n",
      " [ 0.69170097  0.08231551  0.19248124]\n",
      " [ 0.69170097  0.08231551  0.19248124]\n",
      " [ 0.02906315  0.89712075  0.02321346]\n",
      " [ 0.2799112   0.64656031  0.04402251]\n",
      " [ 0.69170097  0.1030207   0.18309634]\n",
      " [ 0.55389759  0.1391315   0.31132147]\n",
      " [ 0.69170097  0.08231551  0.19539407]\n",
      " [ 0.03517638  0.94310471  0.05032012]\n",
      " [ 0.63848429  0.19028776  0.01609163]\n",
      " [ 0.16032543  0.60458783  0.18670082]\n",
      " [ 0.71161353  0.2050428   0.01732276]\n",
      " [ 0.02546137  0.95466153  0.03164725]\n",
      " [ 0.03182574  0.9395987   0.05465095]\n",
      " [ 0.02683796  0.37692977  0.21407461]\n",
      " [ 0.69170097  0.08231551  0.19248124]\n",
      " [ 0.01924091  0.8804544   0.06290902]\n",
      " [ 0.69170097  0.08231551  0.19539407]\n",
      " [ 0.12601549  0.58904678  0.34887963]\n",
      " [ 0.03106972  0.9257391   0.06965661]\n",
      " [ 0.02900065  0.68580217  0.34937717]\n",
      " [ 0.02546137  0.48133328  0.35270527]\n",
      " [ 0.69170097  0.08231551  0.19248124]\n",
      " [ 0.03460432  0.97307736  0.00867355]\n",
      " [ 0.12796712  0.56999738  0.33563596]\n",
      " [ 0.94040287  0.04376924  0.01005579]\n",
      " [ 0.69170097  0.08231551  0.19248124]\n",
      " [ 0.07430962  0.95625687  0.00613584]\n",
      " [ 0.68793429  0.08841781  0.20179196]\n",
      " [ 0.69170097  0.08231551  0.19248124]\n",
      " [ 0.68793429  0.13215995  0.21915813]\n",
      " [ 0.2799112   0.67822475  0.04863842]\n",
      " [ 0.69170097  0.08231551  0.19248124]\n",
      " [ 0.69170097  0.08231551  0.19248124]\n",
      " [ 0.96723696  0.04167872  0.02157554]\n",
      " [ 0.69170097  0.08231551  0.19248124]\n",
      " [ 0.02906315  0.87145069  0.03600455]\n",
      " [ 0.69170097  0.08231551  0.19248124]\n",
      " [ 0.69170097  0.08231551  0.19248124]\n",
      " [ 0.68793429  0.12565983  0.20179196]\n",
      " [ 0.69170097  0.08231551  0.19248124]\n",
      " [ 0.12796712  0.56999738  0.33563596]\n",
      " [ 0.02546137  0.97594281  0.02200451]\n",
      " [ 0.69170097  0.08231551  0.19248124]\n",
      " [ 0.46588727  0.30708871  0.12635621]\n",
      " [ 0.07878931  0.9068192   0.00706864]\n",
      " [ 0.69170097  0.08231551  0.19248124]\n",
      " [ 0.93232931  0.0285261   0.04805912]\n",
      " [ 0.31874688  0.13332131  0.3188256 ]\n",
      " [ 0.64334744  0.21021862  0.14432179]\n",
      " [ 0.52169436  0.14163062  0.14314608]\n",
      " [ 0.96644191  0.01912252  0.06107039]\n",
      " [ 0.02900065  0.82227081  0.10695103]\n",
      " [ 0.49956764  0.20013595  0.35037005]\n",
      " [ 0.04313296  0.9068192   0.00706864]\n",
      " [ 0.96644191  0.01912252  0.06107039]\n",
      " [ 0.56557129  0.5627601   0.01593598]\n",
      " [ 0.03460432  0.92589516  0.00504135]\n",
      " [ 0.96644191  0.01912252  0.06107039]\n",
      " [ 0.89217988  0.0285261   0.04805912]\n",
      " [ 0.96644191  0.01912252  0.06107039]\n",
      " [ 0.24548002  0.41105095  0.31881083]\n",
      " [ 0.46920275  0.43121844  0.07733324]\n",
      " [ 0.85592467  0.0285261   0.04805912]\n",
      " [ 0.95111448  0.06040143  0.00934564]\n",
      " [ 0.94929452  0.05904896  0.05583565]\n",
      " [ 0.55970981  0.43121844  0.03828319]\n",
      " [ 0.04313296  0.9068192   0.00706864]\n",
      " [ 0.76340035  0.08776166  0.07077232]\n",
      " [ 0.7687208   0.21839482  0.12115382]\n",
      " [ 0.89217988  0.0285261   0.04805912]\n",
      " [ 0.94929452  0.05904896  0.05583565]\n",
      " [ 0.24449331  0.5602337   0.30757968]\n",
      " [ 0.46920275  0.43121844  0.07733324]\n",
      " [ 0.46920275  0.43121844  0.07733324]\n",
      " [ 0.24548002  0.41105095  0.31881083]\n",
      " [ 0.93232931  0.0285261   0.04805912]\n",
      " [ 0.56557129  0.5627601   0.01593598]\n",
      " [ 0.56557129  0.5627601   0.01593598]\n",
      " [ 0.56557129  0.5627601   0.01593598]\n",
      " [ 0.12796712  0.56999738  0.33563596]\n",
      " [ 0.24548002  0.41105095  0.31881083]\n",
      " [ 0.32180488  0.57396574  0.13799171]\n",
      " [ 0.46920275  0.43121844  0.07733324]\n",
      " [ 0.12796712  0.56999738  0.33563596]\n",
      " [ 0.69170097  0.08231551  0.19248124]\n",
      " [ 0.93232931  0.0285261   0.04805912]\n",
      " [ 0.24449331  0.5602337   0.30757968]\n",
      " [ 0.02994909  0.97824851  0.05265535]\n",
      " [ 0.02994909  0.97824851  0.05265535]\n",
      " [ 0.24548002  0.41105095  0.31881083]\n",
      " [ 0.12796712  0.56999738  0.33563596]\n",
      " [ 0.69170097  0.08231551  0.19248124]\n",
      " [ 0.69170097  0.08231551  0.19248124]\n",
      " [ 0.02683796  0.96635572  0.02975403]\n",
      " [ 0.29896847  0.18988697  0.5547012 ]\n",
      " [ 0.24548002  0.41105095  0.31881083]\n",
      " [ 0.46920275  0.43121844  0.07733324]]\n"
     ]
    }
   ],
   "source": [
    "print(lgbm_model.predict(phrase))"
   ]
  },
  {
   "cell_type": "code",
   "execution_count": 26,
   "metadata": {
    "ExecuteTime": {
     "end_time": "2018-06-01T15:53:02.932514Z",
     "start_time": "2018-06-01T15:53:02.929685Z"
    },
    "collapsed": true
   },
   "outputs": [],
   "source": [
    "# lgbm_model.predict(phrase)"
   ]
  },
  {
   "cell_type": "code",
   "execution_count": 27,
   "metadata": {
    "ExecuteTime": {
     "end_time": "2018-06-01T15:53:03.502964Z",
     "start_time": "2018-06-01T15:53:03.498350Z"
    }
   },
   "outputs": [
    {
     "data": {
      "text/plain": [
       "<187x897 sparse matrix of type '<class 'numpy.float64'>'\n",
       "\twith 1518 stored elements in Compressed Sparse Row format>"
      ]
     },
     "execution_count": 27,
     "metadata": {},
     "output_type": "execute_result"
    }
   ],
   "source": [
    "phrase"
   ]
  },
  {
   "cell_type": "markdown",
   "metadata": {},
   "source": [
    "# Save"
   ]
  },
  {
   "cell_type": "code",
   "execution_count": 22,
   "metadata": {
    "ExecuteTime": {
     "end_time": "2018-06-01T18:32:20.136629Z",
     "start_time": "2018-06-01T18:32:20.126904Z"
    }
   },
   "outputs": [],
   "source": [
    "import pickle\n",
    "\n",
    "pickle.dump(phrase_vectorizer, open(\"../../savedModel/IDClassifier/tfidf.pickle\", \"wb\"))\n",
    "# pickle.dump(train_comment_features, open(\"train_comment_features.pickle\", \"wb\"))\n",
    "# pickle.dump(test_comment_features, open(\"test_comment_features.pickle\", \"wb\"))"
   ]
  },
  {
   "cell_type": "code",
   "execution_count": 23,
   "metadata": {
    "ExecuteTime": {
     "end_time": "2018-06-01T18:32:25.739208Z",
     "start_time": "2018-06-01T18:32:25.732191Z"
    }
   },
   "outputs": [
    {
     "data": {
      "text/plain": [
       "TfidfVectorizer(analyzer='word', binary=False, decode_error='strict',\n",
       "        dtype=<class 'numpy.int64'>, encoding='utf-8', input='content',\n",
       "        lowercase=True, max_df=1.0, max_features=100000, min_df=1,\n",
       "        ngram_range=(1, 3), norm='l2', preprocessor=None, smooth_idf=True,\n",
       "        stop_words=None, strip_accents='unicode', sublinear_tf=True,\n",
       "        token_pattern='\\\\w{1,}', tokenizer=None, use_idf=True,\n",
       "        vocabulary=None)"
      ]
     },
     "execution_count": 23,
     "metadata": {},
     "output_type": "execute_result"
    }
   ],
   "source": [
    "pickle.load(open(\"../../savedModel/IDClassifier/tfidf.pickle\", 'rb'))"
   ]
  },
  {
   "cell_type": "code",
   "execution_count": 33,
   "metadata": {
    "ExecuteTime": {
     "end_time": "2018-06-01T15:53:34.928709Z",
     "start_time": "2018-06-01T15:53:34.924593Z"
    },
    "collapsed": true
   },
   "outputs": [],
   "source": [
    "test = phrase_vectorizer.transform(['是'])"
   ]
  },
  {
   "cell_type": "code",
   "execution_count": 34,
   "metadata": {
    "ExecuteTime": {
     "end_time": "2018-06-01T15:53:38.862558Z",
     "start_time": "2018-06-01T15:53:38.857894Z"
    }
   },
   "outputs": [
    {
     "data": {
      "text/plain": [
       "<1x897 sparse matrix of type '<class 'numpy.float64'>'\n",
       "\twith 1 stored elements in Compressed Sparse Row format>"
      ]
     },
     "execution_count": 34,
     "metadata": {},
     "output_type": "execute_result"
    }
   ],
   "source": [
    "test"
   ]
  },
  {
   "cell_type": "code",
   "execution_count": 35,
   "metadata": {
    "ExecuteTime": {
     "end_time": "2018-06-01T15:53:43.009194Z",
     "start_time": "2018-06-01T15:53:43.003691Z"
    }
   },
   "outputs": [
    {
     "data": {
      "text/plain": [
       "array([[ 0.71390415,  0.1293083 ,  0.20135782]])"
      ]
     },
     "execution_count": 35,
     "metadata": {},
     "output_type": "execute_result"
    }
   ],
   "source": [
    "lgbm_model.predict(test)"
   ]
  },
  {
   "cell_type": "code",
   "execution_count": null,
   "metadata": {
    "collapsed": true
   },
   "outputs": [],
   "source": []
  }
 ],
 "metadata": {
  "kernelspec": {
   "display_name": "Python 3",
   "language": "python",
   "name": "python3"
  },
  "language_info": {
   "codemirror_mode": {
    "name": "ipython",
    "version": 3
   },
   "file_extension": ".py",
   "mimetype": "text/x-python",
   "name": "python",
   "nbconvert_exporter": "python",
   "pygments_lexer": "ipython3",
   "version": "3.6.3"
  },
  "varInspector": {
   "cols": {
    "lenName": 16,
    "lenType": 16,
    "lenVar": 40
   },
   "kernels_config": {
    "python": {
     "delete_cmd_postfix": "",
     "delete_cmd_prefix": "del ",
     "library": "var_list.py",
     "varRefreshCmd": "print(var_dic_list())"
    },
    "r": {
     "delete_cmd_postfix": ") ",
     "delete_cmd_prefix": "rm(",
     "library": "var_list.r",
     "varRefreshCmd": "cat(var_dic_list()) "
    }
   },
   "types_to_exclude": [
    "module",
    "function",
    "builtin_function_or_method",
    "instance",
    "_Feature"
   ],
   "window_display": false
  }
 },
 "nbformat": 4,
 "nbformat_minor": 2
}
