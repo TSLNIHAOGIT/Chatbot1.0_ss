{
 "cells": [
  {
   "cell_type": "code",
   "execution_count": 1,
   "metadata": {
    "ExecuteTime": {
     "end_time": "2018-07-30T18:26:30.329950Z",
     "start_time": "2018-07-30T18:26:30.005991Z"
    }
   },
   "outputs": [],
   "source": [
    "import pandas as pd\n",
    "import numpy as np"
   ]
  },
  {
   "cell_type": "code",
   "execution_count": 2,
   "metadata": {
    "ExecuteTime": {
     "end_time": "2018-07-30T18:26:30.759185Z",
     "start_time": "2018-07-30T18:26:30.660174Z"
    }
   },
   "outputs": [
    {
     "name": "stdout",
     "output_type": "stream",
     "text": [
      "3950\n",
      "0\n"
     ]
    }
   ],
   "source": [
    "model_list = ['CutDebt','IDClassifier','IfKnowDebtor','Installment','ConfirmLoan','WillingToPay']\n",
    "mat = pd.read_csv('../../MLModel/data/Others/strategy_mat.csv')\n",
    "other109 = pd.read_csv('../../MLModel/data/Others/irrelevant_response_training_set.csv')\n",
    "print(len(other109))\n",
    "target = '故意岔开话题'\n",
    "other109 = other109[other109['类别']==target]\n",
    "\n",
    "\n",
    "print(len(other109))"
   ]
  },
  {
   "cell_type": "code",
   "execution_count": 3,
   "metadata": {
    "ExecuteTime": {
     "end_time": "2018-07-30T18:26:31.309099Z",
     "start_time": "2018-07-30T18:26:31.273479Z"
    }
   },
   "outputs": [],
   "source": [
    "other = pd.read_csv('../../MLModel/data/Others/irrelevant_response_training_set.csv')\n",
    "target = '故意岔开话题'\n",
    "other_non109 = other[other['类别']!=target]"
   ]
  },
  {
   "cell_type": "markdown",
   "metadata": {},
   "source": [
    "# 0727 View Cleaned Data"
   ]
  },
  {
   "cell_type": "code",
   "execution_count": 22,
   "metadata": {
    "ExecuteTime": {
     "end_time": "2018-07-29T19:35:08.421444Z",
     "start_time": "2018-07-29T19:35:08.389494Z"
    }
   },
   "outputs": [],
   "source": [
    "df_clean = pd.read_csv('../../MLModel/data/others/other_clean_2018_7_27_temp_submit2.csv',encoding='utf8')"
   ]
  },
  {
   "cell_type": "code",
   "execution_count": 66,
   "metadata": {
    "ExecuteTime": {
     "end_time": "2018-07-27T14:26:51.510391Z",
     "start_time": "2018-07-27T14:26:51.499271Z"
    }
   },
   "outputs": [
    {
     "data": {
      "text/plain": [
       "(1409, 8)"
      ]
     },
     "execution_count": 66,
     "metadata": {},
     "output_type": "execute_result"
    }
   ],
   "source": [
    "df_clean.shape"
   ]
  },
  {
   "cell_type": "code",
   "execution_count": 6,
   "metadata": {
    "ExecuteTime": {
     "end_time": "2018-07-27T15:33:49.627782Z",
     "start_time": "2018-07-27T15:33:49.552848Z"
    }
   },
   "outputs": [],
   "source": [
    "path = '../../MLModel/data/{}/data_appending_0727.csv'\n",
    "# for each in ['CutDebt','IDClassifier','IfKnowDebtor','Installment','ConfirmLoan','WillingToPay']:\n",
    "for each in ['IfKnowDebtor','Installment','WillingToPay']:\n",
    "    df = df_clean[df_clean[each]==1]\n",
    "    text = df['文本'].values\n",
    "    df_saving = pd.DataFrame({'split_text':text})\n",
    "    df_saving['label'] = 0\n",
    "    df_saving = df_saving[['label','split_text']]\n",
    "    df_saving.to_csv(path.format(each),index=False,encoding='utf8')"
   ]
  },
  {
   "cell_type": "code",
   "execution_count": 70,
   "metadata": {
    "ExecuteTime": {
     "end_time": "2018-07-27T14:30:02.278176Z",
     "start_time": "2018-07-27T14:30:02.252392Z"
    }
   },
   "outputs": [
    {
     "data": {
      "text/html": [
       "<div>\n",
       "<style scoped>\n",
       "    .dataframe tbody tr th:only-of-type {\n",
       "        vertical-align: middle;\n",
       "    }\n",
       "\n",
       "    .dataframe tbody tr th {\n",
       "        vertical-align: top;\n",
       "    }\n",
       "\n",
       "    .dataframe thead th {\n",
       "        text-align: right;\n",
       "    }\n",
       "</style>\n",
       "<table border=\"1\" class=\"dataframe\">\n",
       "  <thead>\n",
       "    <tr style=\"text-align: right;\">\n",
       "      <th></th>\n",
       "      <th>label</th>\n",
       "      <th>split_text</th>\n",
       "    </tr>\n",
       "  </thead>\n",
       "  <tbody>\n",
       "    <tr>\n",
       "      <th>0</th>\n",
       "      <td>0</td>\n",
       "      <td>你们报警吧</td>\n",
       "    </tr>\n",
       "    <tr>\n",
       "      <th>1</th>\n",
       "      <td>0</td>\n",
       "      <td>啊！这么多啊！</td>\n",
       "    </tr>\n",
       "    <tr>\n",
       "      <th>2</th>\n",
       "      <td>0</td>\n",
       "      <td>抱一抱，就当做从没借款2万</td>\n",
       "    </tr>\n",
       "    <tr>\n",
       "      <th>3</th>\n",
       "      <td>0</td>\n",
       "      <td>不差钱</td>\n",
       "    </tr>\n",
       "    <tr>\n",
       "      <th>4</th>\n",
       "      <td>0</td>\n",
       "      <td>不对啊</td>\n",
       "    </tr>\n",
       "    <tr>\n",
       "      <th>5</th>\n",
       "      <td>0</td>\n",
       "      <td>打死我嘛</td>\n",
       "    </tr>\n",
       "    <tr>\n",
       "      <th>6</th>\n",
       "      <td>0</td>\n",
       "      <td>等我跟老板商量能预支工资不</td>\n",
       "    </tr>\n",
       "    <tr>\n",
       "      <th>7</th>\n",
       "      <td>0</td>\n",
       "      <td>对不起，我不方便这么做</td>\n",
       "    </tr>\n",
       "    <tr>\n",
       "      <th>8</th>\n",
       "      <td>0</td>\n",
       "      <td>对不起，我不方便这么做啊</td>\n",
       "    </tr>\n",
       "    <tr>\n",
       "      <th>9</th>\n",
       "      <td>0</td>\n",
       "      <td>对不起，我不方便这么做按</td>\n",
       "    </tr>\n",
       "    <tr>\n",
       "      <th>10</th>\n",
       "      <td>0</td>\n",
       "      <td>对不起，我不方便这么做呗</td>\n",
       "    </tr>\n",
       "    <tr>\n",
       "      <th>11</th>\n",
       "      <td>0</td>\n",
       "      <td>对不起，我不方便这么做呀</td>\n",
       "    </tr>\n",
       "    <tr>\n",
       "      <th>12</th>\n",
       "      <td>0</td>\n",
       "      <td>高利贷吧</td>\n",
       "    </tr>\n",
       "    <tr>\n",
       "      <th>13</th>\n",
       "      <td>0</td>\n",
       "      <td>还不起你又能把我怎样</td>\n",
       "    </tr>\n",
       "    <tr>\n",
       "      <th>14</th>\n",
       "      <td>0</td>\n",
       "      <td>还个屁</td>\n",
       "    </tr>\n",
       "    <tr>\n",
       "      <th>15</th>\n",
       "      <td>0</td>\n",
       "      <td>还你妹</td>\n",
       "    </tr>\n",
       "    <tr>\n",
       "      <th>16</th>\n",
       "      <td>0</td>\n",
       "      <td>后年再说</td>\n",
       "    </tr>\n",
       "    <tr>\n",
       "      <th>17</th>\n",
       "      <td>0</td>\n",
       "      <td>后天</td>\n",
       "    </tr>\n",
       "    <tr>\n",
       "      <th>18</th>\n",
       "      <td>0</td>\n",
       "      <td>家里人可以还吧</td>\n",
       "    </tr>\n",
       "    <tr>\n",
       "      <th>19</th>\n",
       "      <td>0</td>\n",
       "      <td>今天我还不了</td>\n",
       "    </tr>\n",
       "    <tr>\n",
       "      <th>20</th>\n",
       "      <td>0</td>\n",
       "      <td>今天一分不处理的，是不可能的。</td>\n",
       "    </tr>\n",
       "    <tr>\n",
       "      <th>21</th>\n",
       "      <td>0</td>\n",
       "      <td>开玩笑</td>\n",
       "    </tr>\n",
       "    <tr>\n",
       "      <th>22</th>\n",
       "      <td>0</td>\n",
       "      <td>可以不还吗</td>\n",
       "    </tr>\n",
       "    <tr>\n",
       "      <th>23</th>\n",
       "      <td>0</td>\n",
       "      <td>可以用其他东西抵押不</td>\n",
       "    </tr>\n",
       "    <tr>\n",
       "      <th>24</th>\n",
       "      <td>0</td>\n",
       "      <td>宽容宽容哈～</td>\n",
       "    </tr>\n",
       "    <tr>\n",
       "      <th>25</th>\n",
       "      <td>0</td>\n",
       "      <td>老板拖欠N个月工资，后天就发了，肯定还！</td>\n",
       "    </tr>\n",
       "    <tr>\n",
       "      <th>26</th>\n",
       "      <td>0</td>\n",
       "      <td>了解</td>\n",
       "    </tr>\n",
       "    <tr>\n",
       "      <th>27</th>\n",
       "      <td>0</td>\n",
       "      <td>没办法</td>\n",
       "    </tr>\n",
       "    <tr>\n",
       "      <th>28</th>\n",
       "      <td>0</td>\n",
       "      <td>没得什么好说的</td>\n",
       "    </tr>\n",
       "    <tr>\n",
       "      <th>29</th>\n",
       "      <td>0</td>\n",
       "      <td>没空</td>\n",
       "    </tr>\n",
       "    <tr>\n",
       "      <th>...</th>\n",
       "      <td>...</td>\n",
       "      <td>...</td>\n",
       "    </tr>\n",
       "    <tr>\n",
       "      <th>85</th>\n",
       "      <td>0</td>\n",
       "      <td>晓得</td>\n",
       "    </tr>\n",
       "    <tr>\n",
       "      <th>86</th>\n",
       "      <td>0</td>\n",
       "      <td>兄弟，你太天真了</td>\n",
       "    </tr>\n",
       "    <tr>\n",
       "      <th>87</th>\n",
       "      <td>0</td>\n",
       "      <td>需要承担什么责任么</td>\n",
       "    </tr>\n",
       "    <tr>\n",
       "      <th>88</th>\n",
       "      <td>0</td>\n",
       "      <td>要不你报警抓我吧</td>\n",
       "    </tr>\n",
       "    <tr>\n",
       "      <th>89</th>\n",
       "      <td>0</td>\n",
       "      <td>要钱没有，要命一条</td>\n",
       "    </tr>\n",
       "    <tr>\n",
       "      <th>90</th>\n",
       "      <td>0</td>\n",
       "      <td>早干嘛去了</td>\n",
       "    </tr>\n",
       "    <tr>\n",
       "      <th>91</th>\n",
       "      <td>0</td>\n",
       "      <td>这个保证不了</td>\n",
       "    </tr>\n",
       "    <tr>\n",
       "      <th>92</th>\n",
       "      <td>0</td>\n",
       "      <td>这明显是不可能的</td>\n",
       "    </tr>\n",
       "    <tr>\n",
       "      <th>93</th>\n",
       "      <td>0</td>\n",
       "      <td>这样是没有意义的，没意思</td>\n",
       "    </tr>\n",
       "    <tr>\n",
       "      <th>94</th>\n",
       "      <td>0</td>\n",
       "      <td>这样是没有意义的阿</td>\n",
       "    </tr>\n",
       "    <tr>\n",
       "      <th>95</th>\n",
       "      <td>0</td>\n",
       "      <td>这样是没有意义的嗯</td>\n",
       "    </tr>\n",
       "    <tr>\n",
       "      <th>96</th>\n",
       "      <td>0</td>\n",
       "      <td>这样是没有意义的了</td>\n",
       "    </tr>\n",
       "    <tr>\n",
       "      <th>97</th>\n",
       "      <td>0</td>\n",
       "      <td>这样是没有意义的没意思</td>\n",
       "    </tr>\n",
       "    <tr>\n",
       "      <th>98</th>\n",
       "      <td>0</td>\n",
       "      <td>这样有意思吗</td>\n",
       "    </tr>\n",
       "    <tr>\n",
       "      <th>99</th>\n",
       "      <td>0</td>\n",
       "      <td>这样有意义吗</td>\n",
       "    </tr>\n",
       "    <tr>\n",
       "      <th>100</th>\n",
       "      <td>0</td>\n",
       "      <td>整不来关键是</td>\n",
       "    </tr>\n",
       "    <tr>\n",
       "      <th>101</th>\n",
       "      <td>0</td>\n",
       "      <td>正在银行</td>\n",
       "    </tr>\n",
       "    <tr>\n",
       "      <th>102</th>\n",
       "      <td>0</td>\n",
       "      <td>自己在工地，工资一年结一次</td>\n",
       "    </tr>\n",
       "    <tr>\n",
       "      <th>103</th>\n",
       "      <td>0</td>\n",
       "      <td>最少还多少</td>\n",
       "    </tr>\n",
       "    <tr>\n",
       "      <th>104</th>\n",
       "      <td>0</td>\n",
       "      <td>做梦去吧。</td>\n",
       "    </tr>\n",
       "    <tr>\n",
       "      <th>105</th>\n",
       "      <td>0</td>\n",
       "      <td>明年说</td>\n",
       "    </tr>\n",
       "    <tr>\n",
       "      <th>106</th>\n",
       "      <td>0</td>\n",
       "      <td>今天是几号</td>\n",
       "    </tr>\n",
       "    <tr>\n",
       "      <th>107</th>\n",
       "      <td>0</td>\n",
       "      <td>不要急</td>\n",
       "    </tr>\n",
       "    <tr>\n",
       "      <th>108</th>\n",
       "      <td>0</td>\n",
       "      <td>不要闹</td>\n",
       "    </tr>\n",
       "    <tr>\n",
       "      <th>109</th>\n",
       "      <td>0</td>\n",
       "      <td>大概</td>\n",
       "    </tr>\n",
       "    <tr>\n",
       "      <th>110</th>\n",
       "      <td>0</td>\n",
       "      <td>大概吧</td>\n",
       "    </tr>\n",
       "    <tr>\n",
       "      <th>111</th>\n",
       "      <td>0</td>\n",
       "      <td>烦死了，天天催！催命啊</td>\n",
       "    </tr>\n",
       "    <tr>\n",
       "      <th>112</th>\n",
       "      <td>0</td>\n",
       "      <td>明年说</td>\n",
       "    </tr>\n",
       "    <tr>\n",
       "      <th>113</th>\n",
       "      <td>0</td>\n",
       "      <td>你催什么催啊</td>\n",
       "    </tr>\n",
       "    <tr>\n",
       "      <th>114</th>\n",
       "      <td>0</td>\n",
       "      <td>你打我啊</td>\n",
       "    </tr>\n",
       "  </tbody>\n",
       "</table>\n",
       "<p>115 rows × 2 columns</p>\n",
       "</div>"
      ],
      "text/plain": [
       "     label            split_text\n",
       "0        0                 你们报警吧\n",
       "1        0               啊！这么多啊！\n",
       "2        0         抱一抱，就当做从没借款2万\n",
       "3        0                   不差钱\n",
       "4        0                   不对啊\n",
       "5        0                  打死我嘛\n",
       "6        0         等我跟老板商量能预支工资不\n",
       "7        0           对不起，我不方便这么做\n",
       "8        0          对不起，我不方便这么做啊\n",
       "9        0          对不起，我不方便这么做按\n",
       "10       0          对不起，我不方便这么做呗\n",
       "11       0          对不起，我不方便这么做呀\n",
       "12       0                  高利贷吧\n",
       "13       0            还不起你又能把我怎样\n",
       "14       0                   还个屁\n",
       "15       0                   还你妹\n",
       "16       0                  后年再说\n",
       "17       0                    后天\n",
       "18       0               家里人可以还吧\n",
       "19       0                今天我还不了\n",
       "20       0       今天一分不处理的，是不可能的。\n",
       "21       0                   开玩笑\n",
       "22       0                 可以不还吗\n",
       "23       0            可以用其他东西抵押不\n",
       "24       0                宽容宽容哈～\n",
       "25       0  老板拖欠N个月工资，后天就发了，肯定还！\n",
       "26       0                    了解\n",
       "27       0                   没办法\n",
       "28       0               没得什么好说的\n",
       "29       0                    没空\n",
       "..     ...                   ...\n",
       "85       0                    晓得\n",
       "86       0              兄弟，你太天真了\n",
       "87       0             需要承担什么责任么\n",
       "88       0              要不你报警抓我吧\n",
       "89       0             要钱没有，要命一条\n",
       "90       0                 早干嘛去了\n",
       "91       0                这个保证不了\n",
       "92       0              这明显是不可能的\n",
       "93       0          这样是没有意义的，没意思\n",
       "94       0             这样是没有意义的阿\n",
       "95       0             这样是没有意义的嗯\n",
       "96       0             这样是没有意义的了\n",
       "97       0           这样是没有意义的没意思\n",
       "98       0                这样有意思吗\n",
       "99       0                这样有意义吗\n",
       "100      0                整不来关键是\n",
       "101      0                  正在银行\n",
       "102      0         自己在工地，工资一年结一次\n",
       "103      0                 最少还多少\n",
       "104      0                 做梦去吧。\n",
       "105      0                   明年说\n",
       "106      0                 今天是几号\n",
       "107      0                   不要急\n",
       "108      0                   不要闹\n",
       "109      0                    大概\n",
       "110      0                   大概吧\n",
       "111      0           烦死了，天天催！催命啊\n",
       "112      0                   明年说\n",
       "113      0                你催什么催啊\n",
       "114      0                  你打我啊\n",
       "\n",
       "[115 rows x 2 columns]"
      ]
     },
     "execution_count": 70,
     "metadata": {},
     "output_type": "execute_result"
    }
   ],
   "source": [
    "df_saving"
   ]
  },
  {
   "cell_type": "code",
   "execution_count": 14,
   "metadata": {
    "ExecuteTime": {
     "end_time": "2018-07-27T16:11:24.609698Z",
     "start_time": "2018-07-27T16:11:24.372998Z"
    }
   },
   "outputs": [
    {
     "name": "stdout",
     "output_type": "stream",
     "text": [
      "CutDebt\n",
      "1    2418\n",
      "0    1786\n",
      "Name: label, dtype: int64\n",
      "================\n",
      "IDClassifier\n",
      "1    1282\n",
      "0    1134\n",
      "Name: label, dtype: int64\n",
      "================\n",
      "IfKnowDebtor\n",
      "0    1374\n",
      "1    1252\n",
      "Name: label, dtype: int64\n",
      "================\n",
      "Installment\n",
      "1    2465\n",
      "0    1841\n",
      "Name: label, dtype: int64\n",
      "================\n",
      "ConfirmLoan\n",
      "0    866\n",
      "1    568\n",
      "Name: label, dtype: int64\n",
      "================\n",
      "WillingToPay\n",
      "1    2707\n",
      "0    1779\n",
      "2    1038\n",
      "Name: label, dtype: int64\n",
      "================\n"
     ]
    }
   ],
   "source": [
    "path_new = '../../MLModel/data/{}/data_appending_0727.csv'\n",
    "path_save = '../../MLModel/data/{}/mock_up_data1.csv'\n",
    "for each in ['CutDebt','IDClassifier','IfKnowDebtor','Installment','ConfirmLoan','WillingToPay']:\n",
    "    new = pd.read_csv(path_new.format(each))\n",
    "    old = pd.read_csv(path_save.format(each))\n",
    "    save = pd.concat([old,new])\n",
    "    print(each)\n",
    "    print(save.label.value_counts())\n",
    "    print('================')\n",
    "#     save.to_csv(path_save.format(each),index=False,encoding='utf8')"
   ]
  },
  {
   "cell_type": "code",
   "execution_count": 12,
   "metadata": {
    "ExecuteTime": {
     "end_time": "2018-07-27T16:09:52.139962Z",
     "start_time": "2018-07-27T16:09:52.129725Z"
    }
   },
   "outputs": [
    {
     "data": {
      "text/plain": [
       "1    2418\n",
       "0    1786\n",
       "Name: label, dtype: int64"
      ]
     },
     "execution_count": 12,
     "metadata": {},
     "output_type": "execute_result"
    }
   ],
   "source": [
    "save.label.value_counts()"
   ]
  },
  {
   "cell_type": "code",
   "execution_count": null,
   "metadata": {},
   "outputs": [],
   "source": []
  }
 ],
 "metadata": {
  "kernelspec": {
   "display_name": "Python 3",
   "language": "python",
   "name": "python3"
  },
  "language_info": {
   "codemirror_mode": {
    "name": "ipython",
    "version": 3
   },
   "file_extension": ".py",
   "mimetype": "text/x-python",
   "name": "python",
   "nbconvert_exporter": "python",
   "pygments_lexer": "ipython3",
   "version": "3.6.5"
  },
  "varInspector": {
   "cols": {
    "lenName": 16,
    "lenType": 16,
    "lenVar": 40
   },
   "kernels_config": {
    "python": {
     "delete_cmd_postfix": "",
     "delete_cmd_prefix": "del ",
     "library": "var_list.py",
     "varRefreshCmd": "print(var_dic_list())"
    },
    "r": {
     "delete_cmd_postfix": ") ",
     "delete_cmd_prefix": "rm(",
     "library": "var_list.r",
     "varRefreshCmd": "cat(var_dic_list()) "
    }
   },
   "types_to_exclude": [
    "module",
    "function",
    "builtin_function_or_method",
    "instance",
    "_Feature"
   ],
   "window_display": false
  }
 },
 "nbformat": 4,
 "nbformat_minor": 2
}
