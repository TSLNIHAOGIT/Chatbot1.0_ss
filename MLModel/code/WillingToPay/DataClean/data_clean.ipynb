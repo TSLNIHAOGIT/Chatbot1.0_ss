{
 "cells": [
  {
   "cell_type": "code",
   "execution_count": 65,
   "metadata": {
    "ExecuteTime": {
     "end_time": "2018-06-11T20:58:10.254525Z",
     "start_time": "2018-06-11T20:58:10.249013Z"
    },
    "collapsed": true
   },
   "outputs": [],
   "source": [
    "#encoding=utf-8\n",
    "import pandas as pd\n",
    "import numpy as np\n",
    "import re\n",
    "import string"
   ]
  },
  {
   "cell_type": "code",
   "execution_count": 66,
   "metadata": {
    "ExecuteTime": {
     "end_time": "2018-06-11T20:58:10.523699Z",
     "start_time": "2018-06-11T20:58:10.506717Z"
    }
   },
   "outputs": [
    {
     "data": {
      "text/html": [
       "<div>\n",
       "<style>\n",
       "    .dataframe thead tr:only-child th {\n",
       "        text-align: right;\n",
       "    }\n",
       "\n",
       "    .dataframe thead th {\n",
       "        text-align: left;\n",
       "    }\n",
       "\n",
       "    .dataframe tbody tr th {\n",
       "        vertical-align: top;\n",
       "    }\n",
       "</style>\n",
       "<table border=\"1\" class=\"dataframe\">\n",
       "  <thead>\n",
       "    <tr style=\"text-align: right;\">\n",
       "      <th></th>\n",
       "      <th>label</th>\n",
       "      <th>split_text</th>\n",
       "    </tr>\n",
       "  </thead>\n",
       "  <tbody>\n",
       "    <tr>\n",
       "      <th>0</th>\n",
       "      <td>0</td>\n",
       "      <td>我 等会 就 处理</td>\n",
       "    </tr>\n",
       "    <tr>\n",
       "      <th>1</th>\n",
       "      <td>1</td>\n",
       "      <td>我 现在 没钱</td>\n",
       "    </tr>\n",
       "    <tr>\n",
       "      <th>2</th>\n",
       "      <td>2</td>\n",
       "      <td>这 太多 了 能 减免 一点 吗</td>\n",
       "    </tr>\n",
       "    <tr>\n",
       "      <th>3</th>\n",
       "      <td>3</td>\n",
       "      <td>我 听不清</td>\n",
       "    </tr>\n",
       "  </tbody>\n",
       "</table>\n",
       "</div>"
      ],
      "text/plain": [
       "   label        split_text\n",
       "0      0         我 等会 就 处理\n",
       "1      1           我 现在 没钱\n",
       "2      2  这 太多 了 能 减免 一点 吗\n",
       "3      3             我 听不清"
      ]
     },
     "execution_count": 66,
     "metadata": {},
     "output_type": "execute_result"
    }
   ],
   "source": [
    "# path = '/home/kai/data/jiangning/Chatbot_1/Chatbot1.0/data/'\n",
    "path = '../../../data/WillingToPay/'\n",
    "data = pd.read_csv(path + 'mock_up_data.csv', encoding='utf8')\n",
    "\n",
    "# data = data.drop(['id','text','备注'], axis = 1)\n",
    "data = data.dropna()\n",
    "data.head(10)"
   ]
  },
  {
   "cell_type": "markdown",
   "metadata": {},
   "source": [
    "# use goslate to get more data"
   ]
  },
  {
   "cell_type": "code",
   "execution_count": 67,
   "metadata": {
    "ExecuteTime": {
     "end_time": "2018-06-11T20:58:11.376274Z",
     "start_time": "2018-06-11T20:58:11.370269Z"
    },
    "collapsed": true
   },
   "outputs": [],
   "source": [
    "from textblob import TextBlob\n",
    "from textblob.translate import NotTranslated\n",
    "import pandas as pd\n",
    "import numpy as np\n",
    "from multiprocessing import Pool\n",
    "from itertools import repeat"
   ]
  },
  {
   "cell_type": "code",
   "execution_count": 68,
   "metadata": {
    "ExecuteTime": {
     "end_time": "2018-06-11T20:58:11.649560Z",
     "start_time": "2018-06-11T20:58:11.609548Z"
    },
    "collapsed": true
   },
   "outputs": [],
   "source": [
    "def translate(comment, from_lang, to_lang):\n",
    "        if hasattr(comment, \"decode\"):\n",
    "            comment = comment.decode(\"utf-8\")\n",
    "\n",
    "        text = TextBlob(comment)\n",
    "        try:\n",
    "            text = text.translate(to=to_lang)\n",
    "            text = text.translate(to=from_lang)\n",
    "        except NotTranslated:\n",
    "            pass\n",
    "\n",
    "        return str(text)\n",
    "\n",
    "def translate_csv(df,col,from_lang,to_lang,num_pol=10):\n",
    "    \"\"\"\n",
    "        https://developers.google.com/translate/v2/using_rest#language-params\n",
    "    \"\"\"\n",
    "\n",
    "    df = df.copy()\n",
    "\n",
    "    if num_pol >= 1000:\n",
    "        num_pol=1000\n",
    "    comment_pool = df[col].values\n",
    "    p = Pool(num_pol)\n",
    "    new_col_name = col + '_' + to_lang\n",
    "    df[new_col_name] = p.starmap(translate, zip(comment_pool, repeat(from_lang),repeat(to_lang)))\n",
    "    df = df.drop([col], axis = 1)\n",
    "    df = df.rename(index=str, columns={new_col_name:col})\n",
    "    return df"
   ]
  },
  {
   "cell_type": "code",
   "execution_count": 75,
   "metadata": {
    "ExecuteTime": {
     "end_time": "2018-06-11T21:06:01.787695Z",
     "start_time": "2018-06-11T21:05:48.506622Z"
    }
   },
   "outputs": [
    {
     "name": "stdout",
     "output_type": "stream",
     "text": [
      "finish 1st trans\n",
      "finish 2nd trans\n",
      "finish 3rd trans\n",
      "finish 4th trans\n"
     ]
    }
   ],
   "source": [
    "col = 'split_text'\n",
    "data_en = translate_csv(data,col,from_lang='zh',to_lang='en',num_pol=50)\n",
    "print('finish 1st trans')\n",
    "data_fr = translate_csv(data,col,from_lang='zh',to_lang='fr',num_pol=50)\n",
    "print('finish 2nd trans')\n",
    "data_th = translate_csv(data,col,from_lang='zh',to_lang='th',num_pol=50)\n",
    "print('finish 3rd trans')\n",
    "data_lo = translate_csv(data,col,from_lang='zh',to_lang='lo',num_pol=50)\n",
    "print('finish 4th trans')"
   ]
  },
  {
   "cell_type": "code",
   "execution_count": 76,
   "metadata": {
    "ExecuteTime": {
     "end_time": "2018-06-11T21:10:53.747785Z",
     "start_time": "2018-06-11T21:10:53.740767Z"
    }
   },
   "outputs": [],
   "source": [
    "data = pd.concat([data,data_en,data_fr,data_th,data_lo], ignore_index=True)\n",
    "# data"
   ]
  },
  {
   "cell_type": "code",
   "execution_count": 72,
   "metadata": {
    "ExecuteTime": {
     "end_time": "2018-06-11T20:58:49.538137Z",
     "start_time": "2018-06-11T20:58:49.518599Z"
    }
   },
   "outputs": [
    {
     "data": {
      "text/html": [
       "<div>\n",
       "<style>\n",
       "    .dataframe thead tr:only-child th {\n",
       "        text-align: right;\n",
       "    }\n",
       "\n",
       "    .dataframe thead th {\n",
       "        text-align: left;\n",
       "    }\n",
       "\n",
       "    .dataframe tbody tr th {\n",
       "        vertical-align: top;\n",
       "    }\n",
       "</style>\n",
       "<table border=\"1\" class=\"dataframe\">\n",
       "  <thead>\n",
       "    <tr style=\"text-align: right;\">\n",
       "      <th></th>\n",
       "      <th>label</th>\n",
       "      <th>split_text</th>\n",
       "    </tr>\n",
       "  </thead>\n",
       "  <tbody>\n",
       "    <tr>\n",
       "      <th>0</th>\n",
       "      <td>0</td>\n",
       "      <td>我       等   会       就       处理</td>\n",
       "    </tr>\n",
       "    <tr>\n",
       "      <th>1</th>\n",
       "      <td>1</td>\n",
       "      <td>我       现在       没   钱</td>\n",
       "    </tr>\n",
       "    <tr>\n",
       "      <th>2</th>\n",
       "      <td>2</td>\n",
       "      <td>这       太   多       了       能       减免       一...</td>\n",
       "    </tr>\n",
       "    <tr>\n",
       "      <th>3</th>\n",
       "      <td>3</td>\n",
       "      <td>我       听不清</td>\n",
       "    </tr>\n",
       "    <tr>\n",
       "      <th>4</th>\n",
       "      <td>0</td>\n",
       "      <td>我会   等到</td>\n",
       "    </tr>\n",
       "    <tr>\n",
       "      <th>5</th>\n",
       "      <td>1</td>\n",
       "      <td>我   现在   没有   钱</td>\n",
       "    </tr>\n",
       "    <tr>\n",
       "      <th>6</th>\n",
       "      <td>2</td>\n",
       "      <td>这   对   减少   太 多   了   吗   ？</td>\n",
       "    </tr>\n",
       "    <tr>\n",
       "      <th>7</th>\n",
       "      <td>3</td>\n",
       "      <td>我   听   不   清楚</td>\n",
       "    </tr>\n",
       "    <tr>\n",
       "      <th>8</th>\n",
       "      <td>0</td>\n",
       "      <td>我会   等到</td>\n",
       "    </tr>\n",
       "    <tr>\n",
       "      <th>9</th>\n",
       "      <td>1</td>\n",
       "      <td>我   现在   没有   钱</td>\n",
       "    </tr>\n",
       "    <tr>\n",
       "      <th>10</th>\n",
       "      <td>2</td>\n",
       "      <td>折扣   太 多   了   吗   ？</td>\n",
       "    </tr>\n",
       "    <tr>\n",
       "      <th>11</th>\n",
       "      <td>3</td>\n",
       "      <td>我   听   不   清楚</td>\n",
       "    </tr>\n",
       "    <tr>\n",
       "      <th>12</th>\n",
       "      <td>0</td>\n",
       "      <td>我会   等到</td>\n",
       "    </tr>\n",
       "    <tr>\n",
       "      <th>13</th>\n",
       "      <td>1</td>\n",
       "      <td>现在   我   没有   钱   了</td>\n",
       "    </tr>\n",
       "    <tr>\n",
       "      <th>14</th>\n",
       "      <td>2</td>\n",
       "      <td>这   对   减少   太 多   了   吗   ？</td>\n",
       "    </tr>\n",
       "    <tr>\n",
       "      <th>15</th>\n",
       "      <td>3</td>\n",
       "      <td>我   听   不   清楚</td>\n",
       "    </tr>\n",
       "    <tr>\n",
       "      <th>16</th>\n",
       "      <td>0</td>\n",
       "      <td>我会   等到</td>\n",
       "    </tr>\n",
       "    <tr>\n",
       "      <th>17</th>\n",
       "      <td>1</td>\n",
       "      <td>我   现在   没有   钱</td>\n",
       "    </tr>\n",
       "    <tr>\n",
       "      <th>18</th>\n",
       "      <td>2</td>\n",
       "      <td>这   对   减少   太 多   了   吗   ？</td>\n",
       "    </tr>\n",
       "    <tr>\n",
       "      <th>19</th>\n",
       "      <td>3</td>\n",
       "      <td>我   听   不   清楚</td>\n",
       "    </tr>\n",
       "  </tbody>\n",
       "</table>\n",
       "</div>"
      ],
      "text/plain": [
       "    label                                         split_text\n",
       "0       0                     我       等   会       就       处理\n",
       "1       1                             我       现在       没   钱\n",
       "2       2  这       太   多       了       能       减免       一...\n",
       "3       3                                        我       听不清\n",
       "4       0                                            我会   等到\n",
       "5       1                                    我   现在   没有   钱\n",
       "6       2                       这   对   减少   太 多   了   吗   ？\n",
       "7       3                                     我   听   不   清楚\n",
       "8       0                                            我会   等到\n",
       "9       1                                    我   现在   没有   钱\n",
       "10      2                               折扣   太 多   了   吗   ？\n",
       "11      3                                     我   听   不   清楚\n",
       "12      0                                            我会   等到\n",
       "13      1                                现在   我   没有   钱   了\n",
       "14      2                       这   对   减少   太 多   了   吗   ？\n",
       "15      3                                     我   听   不   清楚\n",
       "16      0                                            我会   等到\n",
       "17      1                                    我   现在   没有   钱\n",
       "18      2                       这   对   减少   太 多   了   吗   ？\n",
       "19      3                                     我   听   不   清楚"
      ]
     },
     "execution_count": 72,
     "metadata": {},
     "output_type": "execute_result"
    }
   ],
   "source": [
    "import jieba\n",
    "def cut_words(text):\n",
    "    seg_list = jieba.cut(text, cut_all=False)\n",
    "    return \" \".join(seg_list)\n",
    "\n",
    "data['split_text']=data['split_text'].apply(cut_words)\n",
    "data"
   ]
  },
  {
   "cell_type": "markdown",
   "metadata": {
    "ExecuteTime": {
     "end_time": "2018-06-11T19:54:35.854204Z",
     "start_time": "2018-06-11T19:54:35.849841Z"
    }
   },
   "source": [
    "# data cleaning and save"
   ]
  },
  {
   "cell_type": "code",
   "execution_count": 73,
   "metadata": {
    "ExecuteTime": {
     "end_time": "2018-06-11T20:58:53.340258Z",
     "start_time": "2018-06-11T20:58:53.311048Z"
    }
   },
   "outputs": [
    {
     "name": "stdout",
     "output_type": "stream",
     "text": [
      "split_text cleaning\n"
     ]
    }
   ],
   "source": [
    "def clean(text):\n",
    "    text = re.sub(f'([{string.punctuation}“”¨«»®´·º ½¾¿¡§£₤‘’，])',' ', text)\n",
    "    text = text.split(' ')\n",
    "    text = ' '.join(text)\n",
    "    return text\n",
    "\n",
    "def clean_label(label):\n",
    "    label = int(label)\n",
    "    a = np.zeros(3)\n",
    "    a[label-1] = 1\n",
    "    return a.astype(int).tolist()\n",
    "\n",
    "def clean_label(label):\n",
    "    return int(label)\n",
    "    \n",
    "print('split_text cleaning')\n",
    "# data['split_text'].head(10)\n",
    "data['split_text'] = data['split_text'].apply(clean)\n",
    "data['label'] = data['label'].apply(clean_label)\n",
    "\n",
    "data.to_csv(path + 'cleaned_mock_up_data.csv', index = False, encoding = 'utf8')"
   ]
  },
  {
   "cell_type": "code",
   "execution_count": 74,
   "metadata": {
    "ExecuteTime": {
     "end_time": "2018-06-11T20:58:54.375712Z",
     "start_time": "2018-06-11T20:58:54.370663Z"
    }
   },
   "outputs": [
    {
     "data": {
      "text/plain": [
       "array([0, 1, 2, 3, 0, 1, 2, 3, 0, 1, 2, 3, 0, 1, 2, 3, 0, 1, 2, 3])"
      ]
     },
     "execution_count": 74,
     "metadata": {},
     "output_type": "execute_result"
    }
   ],
   "source": [
    "data.label.values"
   ]
  },
  {
   "cell_type": "code",
   "execution_count": null,
   "metadata": {
    "collapsed": true
   },
   "outputs": [],
   "source": []
  }
 ],
 "metadata": {
  "kernelspec": {
   "display_name": "Python 3",
   "language": "python",
   "name": "python3"
  },
  "language_info": {
   "codemirror_mode": {
    "name": "ipython",
    "version": 3
   },
   "file_extension": ".py",
   "mimetype": "text/x-python",
   "name": "python",
   "nbconvert_exporter": "python",
   "pygments_lexer": "ipython3",
   "version": "3.6.3"
  },
  "varInspector": {
   "cols": {
    "lenName": 16,
    "lenType": 16,
    "lenVar": 40
   },
   "kernels_config": {
    "python": {
     "delete_cmd_postfix": "",
     "delete_cmd_prefix": "del ",
     "library": "var_list.py",
     "varRefreshCmd": "print(var_dic_list())"
    },
    "r": {
     "delete_cmd_postfix": ") ",
     "delete_cmd_prefix": "rm(",
     "library": "var_list.r",
     "varRefreshCmd": "cat(var_dic_list()) "
    }
   },
   "types_to_exclude": [
    "module",
    "function",
    "builtin_function_or_method",
    "instance",
    "_Feature"
   ],
   "window_display": false
  }
 },
 "nbformat": 4,
 "nbformat_minor": 2
}
