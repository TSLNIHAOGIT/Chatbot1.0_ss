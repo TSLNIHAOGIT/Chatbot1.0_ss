{
 "cells": [
  {
   "cell_type": "markdown",
   "metadata": {},
   "source": [
    "# Description\n",
    "After running K fold to select those data which are predicted into a wrong category, we implemented mannual recorrection. This script is to apply those correction to the original files. "
   ]
  },
  {
   "cell_type": "code",
   "execution_count": 11,
   "metadata": {
    "ExecuteTime": {
     "end_time": "2018-07-18T15:26:33.367354Z",
     "start_time": "2018-07-18T15:26:33.363258Z"
    }
   },
   "outputs": [],
   "source": [
    "import pandas as pd\n",
    "import numpy as np"
   ]
  },
  {
   "cell_type": "code",
   "execution_count": 12,
   "metadata": {
    "ExecuteTime": {
     "end_time": "2018-07-18T15:26:34.031624Z",
     "start_time": "2018-07-18T15:26:33.942604Z"
    }
   },
   "outputs": [],
   "source": [
    "model_list = ['CutDebt','IDClassifier','IfKnowDebtor','Installment','ConfirmLoan','WillingToPay']\n",
    "df_others = pd.read_csv('../../MLModel/data/others/irrelevant_response_training_set.csv')\n",
    "df_other_matrix = pd.read_csv('../../MLModel/data/others/strategy_mat.csv')\n",
    "num2text = df_other_matrix.set_index('label').category.drop_duplicates().to_dict()\n",
    "\n",
    "df_all_original = {}\n",
    "for each in model_list:\n",
    "    df_all_original[each] = pd.read_csv('../../MLModel/data/{}/mock_up_data1.csv'.format(each))"
   ]
  },
  {
   "cell_type": "code",
   "execution_count": 13,
   "metadata": {
    "ExecuteTime": {
     "end_time": "2018-07-18T15:26:37.995510Z",
     "start_time": "2018-07-18T15:26:34.587248Z"
    }
   },
   "outputs": [
    {
     "name": "stdout",
     "output_type": "stream",
     "text": [
      "WillingToPay -- 6278\n",
      "length of other: 4695\n",
      "WillingToPay -- 5494\n",
      "length of other: 5426\n",
      "WillingToPay -- 5564\n",
      "case 1 has data : 731\n",
      "case 2 has data : 860\n",
      "case 3 has data : 70\n",
      "case 4 has data : 0\n",
      "total corrected is: 1661\n",
      "total file length is: 2733\n"
     ]
    }
   ],
   "source": [
    "model = 'WillingToPay'\n",
    "df_correction = pd.read_csv('../../MLModel/data/{}/labelNeedsCorrections.csv'.format(model))\n",
    "other_label = max(df_all_original[model].label)\n",
    "non_other_label = set(df_all_original[model].label.values) - set([other_label])\n",
    "df_all_original[model] = df_all_original[model][df_all_original[model].label != other_label]\n",
    "print('{} -- {}'.format(model,len(df_all_original[model])))\n",
    "print('length of other: {}'.format(len(df_others)))\n",
    "append_other_text = []\n",
    "append_other_category = []\n",
    "\n",
    "append_function_text = {}\n",
    "append_function_category = {}\n",
    "\n",
    "original_remove_index = {}\n",
    "\n",
    "count_case1 = 0\n",
    "count_case2 = 0\n",
    "count_case3 = 0\n",
    "count_case4 = 0\n",
    "for index in range(len(df_correction)):\n",
    "    ############ get data #####################\n",
    "    cur_data = df_correction.iloc[index]\n",
    "    data_from = cur_data['from']\n",
    "    label = cur_data['label']\n",
    "    original_text = cur_data['original_text']\n",
    "    new_label = cur_data['new_label']\n",
    "    ########### apply to original files #######\n",
    "    if model in ['CutDebt','Installment'] and new_label == 110:\n",
    "        count_case4 += 1\n",
    "        if label in non_other_label:\n",
    "            ### insert into others\n",
    "            append_other_text.append(original_text)\n",
    "            append_other_category.append(num2text[new_label])\n",
    "            ### remove from original\n",
    "            rindex = df_all_original[data_from][(df_all_original[data_from].label==label) &(df_all_original[data_from].split_text==original_text)].index.values\n",
    "            if original_remove_index.get(data_from) is None:\n",
    "                original_remove_index[data_from] = []\n",
    "            original_remove_index[data_from].extend(list(rindex))\n",
    "        else:\n",
    "            ### update others\n",
    "            rindex = df_others[df_others['文本']==original_text].index.values\n",
    "            if len(rindex) == 0:\n",
    "                ### insert into others\n",
    "                append_other_text.append(original_text)\n",
    "                append_other_category.append(num2text[new_label])\n",
    "            else:    \n",
    "                df_others.loc[rindex,'类别'] = num2text[110]\n",
    "        continue\n",
    "    if label in non_other_label and new_label >= 100:\n",
    "        count_case1 += 1\n",
    "        ### insert into others\n",
    "        append_other_text.append(original_text)\n",
    "        append_other_category.append(num2text[new_label])\n",
    "        \n",
    "        ### remove from original\n",
    "        rindex = df_all_original[data_from][(df_all_original[data_from].label==label) &(df_all_original[data_from].split_text==original_text)].index.values\n",
    "        if original_remove_index.get(data_from) is None:\n",
    "            original_remove_index[data_from] = []\n",
    "        original_remove_index[data_from].extend(list(rindex))\n",
    "        \n",
    "        \n",
    "    elif label in non_other_label and new_label in non_other_label and label!= new_label:\n",
    "        count_case2 += 1\n",
    "        # update original data\n",
    "        indexes = df_all_original[data_from][(df_all_original[data_from].label==label) &(df_all_original[data_from].split_text==original_text)].index.values\n",
    "        df_all_original[data_from].loc[indexes,'label'] = new_label\n",
    "\n",
    "    elif label == other_label and new_label in non_other_label:\n",
    "        count_case3+=1\n",
    "        if append_function_text.get(model) is None:\n",
    "            append_function_text[model]=[]\n",
    "            append_function_category[model]=[]\n",
    "        append_function_text[model].append(original_text)\n",
    "        append_function_category[model].append(new_label)\n",
    "        \n",
    "others_append = pd.DataFrame({'文本':append_other_text,'类别':append_other_category})\n",
    "function_append = pd.DataFrame({'split_text':append_function_text,'label':append_function_category})\n",
    "\n",
    "#### apply to self and others\n",
    "#### drop logic\n",
    "for each_key in original_remove_index:\n",
    "    indexes = original_remove_index[each_key]\n",
    "    df_all_original[each_key] = df_all_original[each_key].drop(index=indexes)\n",
    "    print('{} -- {}'.format(each_key,len(df_all_original[each_key])))\n",
    "####end drop\n",
    "df_others = pd.concat([df_others,others_append],sort=True).reset_index(drop=True)\n",
    "print('length of other: {}'.format(len(df_others)))\n",
    "for each_key in append_function_text:\n",
    "    function_append = pd.DataFrame({'split_text':append_function_text[each_key],\n",
    "                                    'label':append_function_category[each_key]})\n",
    "    \n",
    "    df_all_original[each_key] = pd.concat([df_all_original[each_key],function_append],sort=True).reset_index(drop=True)\n",
    "    print('{} -- {}'.format(each_key,len(df_all_original[each_key])))\n",
    "\n",
    "print('case 1 has data : {}'.format(count_case1))\n",
    "print('case 2 has data : {}'.format(count_case2))\n",
    "print('case 3 has data : {}'.format(count_case3))\n",
    "print('case 4 has data : {}'.format(count_case4))\n",
    "print('total corrected is: {}'.format(count_case1+count_case2+count_case3+count_case4))\n",
    "print('total file length is: {}'.format(len(df_correction)))"
   ]
  },
  {
   "cell_type": "code",
   "execution_count": null,
   "metadata": {},
   "outputs": [],
   "source": []
  }
 ],
 "metadata": {
  "kernelspec": {
   "display_name": "Python 3",
   "language": "python",
   "name": "python3"
  },
  "language_info": {
   "codemirror_mode": {
    "name": "ipython",
    "version": 3
   },
   "file_extension": ".py",
   "mimetype": "text/x-python",
   "name": "python",
   "nbconvert_exporter": "python",
   "pygments_lexer": "ipython3",
   "version": "3.6.5"
  },
  "varInspector": {
   "cols": {
    "lenName": 16,
    "lenType": 16,
    "lenVar": 40
   },
   "kernels_config": {
    "python": {
     "delete_cmd_postfix": "",
     "delete_cmd_prefix": "del ",
     "library": "var_list.py",
     "varRefreshCmd": "print(var_dic_list())"
    },
    "r": {
     "delete_cmd_postfix": ") ",
     "delete_cmd_prefix": "rm(",
     "library": "var_list.r",
     "varRefreshCmd": "cat(var_dic_list()) "
    }
   },
   "types_to_exclude": [
    "module",
    "function",
    "builtin_function_or_method",
    "instance",
    "_Feature"
   ],
   "window_display": false
  }
 },
 "nbformat": 4,
 "nbformat_minor": 2
}
