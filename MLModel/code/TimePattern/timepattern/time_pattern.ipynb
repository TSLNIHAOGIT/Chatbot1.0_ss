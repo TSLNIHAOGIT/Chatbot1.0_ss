{
 "cells": [
  {
   "cell_type": "code",
   "execution_count": 5,
   "metadata": {
    "ExecuteTime": {
     "end_time": "2018-06-18T15:47:38.757094Z",
     "start_time": "2018-06-18T15:47:38.434977Z"
    },
    "collapsed": true
   },
   "outputs": [],
   "source": [
    "import datetime\n",
    "import re\n",
    "\n",
    "class time_entity_recognize(object):\n",
    "    def __init__(self,path):\n",
    "        self.pattern_words=self.get_time_words(path)\n",
    "        self.day_to_hour = {'今天': 0, '明天': 24, '后天': 48, '大后天': 72}\n",
    "        self.import datetime\n",
    "import re\n",
    "\n",
    "class time_entity_recognize(object):\n",
    "    def __init__(self,path):\n",
    "        self.pattern_words=self.get_time_words(path)\n",
    "        self.day_to_hour = {'今天': 0, '明天': 24, '后天': 48, '大后天': 72}\n",
    "        self.week_to_sequence = {'周一': 1, '周二': 2, '周三': 3, '周四': 4, '周五': 5, '周六': 6, '周日': 7, '周末': 7,\n",
    "                                 '星期一': 1, '星期二': 2, '星期三': 3, '星期四': 4, '星期五': 5, '星期六': 6, '星期日': 7, '星期天': 7,\n",
    "                         '这周一': 1, '这周二': 2, '这周三': 3, '这周四': 4, '这周五': 5, '这周六': 6, '这周日': 7, '这周末': 7,\n",
    "                         '这个星期一': 1, '这个星期二': 2, '这个星期三': 3, '这个星期四': 4, '这个星期五': 5, '这个星期六': 6, '这个星期日': 7, '这个星期天': 7,\n",
    "                         '下个星期一': 8, '下个星期二': 9, '下个星期三': 10, '下个星期四': 11, '下个星期五': 12, '下个星期六': 13, '下个星期日': 14, '下个星期天': 14,\n",
    "                                 }\n",
    "        self.num_to_sequence={'1号': 1, '2号': 2, '3号': 3, '4号': 4, '5号': 5, '6号': 6, '7号': 7, '8号': 8, '9号': 9, '10号': 10, '11号': 11, '12号': 12, '13号': 13, '14号': 14, '15号': 15, '16号': 16, '17号': 17, '18号': 18, '19号': 19, '20号': 20, '21号': 21, '22号': 22, '23号': 23, '24号': 24, '25号': 25, '26号': 26, '27号': 27, '28号': 28, '29号': 29, '30号': 30, '31号': 31,\n",
    "                              '这个月1号': 1, '这个月2号': 2, '这个月3号': 3, '这个月4号': 4, '这个月5号': 5, '这个月6号': 6,\n",
    "                              '这个月7号': 7, '这个月8号': 8, '这个月9号': 9, '这个月10号': 10, '这个月11号': 11, '这个月12号': 12,\n",
    "                              '这个月13号': 13, '这个月14号': 14, '这个月15号': 15, '这个月16号': 16, '这个月17号': 17, '这个月18号': 18,\n",
    "                              '这个月19号': 19, '这个月20号': 20, '这个月21号': 21, '这个月22号': 22, '这个月23号': 23, '这个月24号': 24,\n",
    "                              '这个月25号': 25, '这个月26号': 26, '这个月27号': 27, '这个月28号': 28, '这个月29号': 29, '这个月30号': 30,\n",
    "                              '这个月31号': 31\n",
    "                              }\n",
    "        self.num_next_to_sequence={'下个月1号': 1, '下个月2号': 2, '下个月3号': 3, '下个月4号': 4, '下个月5号': 5, '下个月6号': 6, '下个月7号': 7, '下个月8号': 8, '下个月9号': 9, '下个月10号': 10, '下个月11号': 11, '下个月12号': 12, '下个月13号': 13, '下个月14号': 14, '下个月15号': 15, '下个月16号': 16, '下个月17号': 17, '下个月18号': 18, '下个月19号': 19, '下个月20号': 20, '下个月21号': 21, '下个月22号': 22, '下个月23号': 23, '下个月24号': 24, '下个月25号': 25, '下个月26号': 26, '下个月27号': 27, '下个月28号': 28, '下个月29号': 29, '下个月30号': 30, '下个月31号': 31}\n",
    "\n",
    "\n",
    "\n",
    "        self.year_month_day= datetime.datetime.now().date()#如此格式的年月日2018-06-15\n",
    "\n",
    "        self.year_week_day_=self.year_month_day.isocalendar()  # 返回结果是三元组（年号，第几周，第几天）\n",
    "        # self.year_month_day=year_month_day.year,year_month_day.month,year_month_day.day\n",
    "        # print('self.year_month_day',self.year_month_day)\n",
    "\n",
    "    def get_time_words(self,path):\n",
    "        with open(path, encoding='utf-8') as f:\n",
    "            time_words = set()\n",
    "            for each in f:\n",
    "                each = each.strip('\\n')\n",
    "                # print(each,end='')\n",
    "                time_words.add(each)\n",
    "                pattern_words = '|'.join(time_words)\n",
    "            return pattern_words\n",
    "    # def recognize_time_entity(self,string_input):\n",
    "    #     regx_pattern = re.findall(self.pattern_words, string_input)\n",
    "    #     return regx_pattern\n",
    "    def main(self,string_input):\n",
    "        all_time_recognize=[]\n",
    "        # time_extract=self.recognize_time_entity(string_input)\n",
    "        time_extract=re.findall(self.pattern_words, string_input)\n",
    "        time_extract_2=re.findall('\\d{1,2}月\\d{1,2}[日号]',string_input)\n",
    "        if time_extract:\n",
    "            print('Found time pattern in predefined-list',time_extract)\n",
    "            for each in time_extract:\n",
    "                each_time={}\n",
    "                if each in self.week_to_sequence.keys():\n",
    "                    # print('0each',each)\n",
    "                    difference_hour=(self.week_to_sequence[each]-self.year_week_day_[2])*24\n",
    "                    each_time['time_pattern']=each\n",
    "                    each_time['time_to_now'] = difference_hour\n",
    "                    all_time_recognize.append(each_time)\n",
    "                elif each in self.day_to_hour:\n",
    "                    # print('1each', each)\n",
    "                    each_time['time_pattern'] = each\n",
    "                    each_time['time_to_now'] = self.day_to_hour[each]\n",
    "                    all_time_recognize.append(each_time)\n",
    "                #处理当月的某一天\n",
    "                elif each in self.num_to_sequence.keys():#each 为当月号数\n",
    "                    # print('2each', each)\n",
    "                    datetime_now=datetime.datetime(self.year_month_day.year,self.year_month_day.month,self.year_month_day.day)\n",
    "                    datetime_feature=datetime.datetime(self.year_month_day.year,self.year_month_day.month,self.num_to_sequence[each])\n",
    "                    diff_hour=(datetime_feature-datetime_now).days*24#计算当月之间后面某天与今天的相差天数\n",
    "                    each_time['time_pattern'] = each\n",
    "                    each_time['time_to_now'] = diff_hour\n",
    "                    all_time_recognize.append(each_time)\n",
    "                #处理下个月的某一天\n",
    "                elif each in self.num_next_to_sequence:\n",
    "                    datetime_now = datetime.datetime(self.year_month_day.year, self.year_month_day.month,\n",
    "                                                     self.year_month_day.day)\n",
    "                    datetime_next = datetime.datetime(self.year_month_day.year, self.year_month_day.month+1,\n",
    "                                                         self.num_next_to_sequence[each])\n",
    "                    diff_hour = (datetime_next - datetime_now).days * 24  # 计算当月之间后面某天与今天的相差天数\n",
    "                    each_time['time_pattern'] = each\n",
    "                    each_time['time_to_now'] = diff_hour\n",
    "                    all_time_recognize.append(each_time)\n",
    "        # 处理具体的某月某日\n",
    "        if time_extract_2:\n",
    "            print('抽取的某月某日',time_extract_2)\n",
    "            for each in time_extract_2:\n",
    "                each_time_2={}\n",
    "                num_month_day=re.findall('\\d{1,2}',each)\n",
    "                # print('num_month_day',num_month_day)\n",
    "                datetime_now = datetime.datetime(self.year_month_day.year, self.year_month_day.month,\n",
    "                                                 self.year_month_day.day)\n",
    "                datetime_next = datetime.datetime(self.year_month_day.year, int(num_month_day[0]),\n",
    "                                                  int(num_month_day[1]))\n",
    "                diff_hour = (datetime_next - datetime_now).days * 24  # 计算当月之间后面某天与今天的相差天数\n",
    "                each_time_2['time_pattern'] = each\n",
    "                each_time_2['time_to_now'] = diff_hour\n",
    "                all_time_recognize.append(each_time_2)\n",
    "\n",
    "        return all_time_recognize\n",
    "\n",
    "\n",
    "\n",
    "\n",
    "\n",
    "\n",
    "\n",
    "\n",
    "\n",
    " = {'周一': 1, '周二': 2, '周三': 3, '周四': 4, '周五': 5, '周六': 6, '周日': 7, '周末': 7,\n",
    "                                 '星期一': 1, '星期二': 2, '星期三': 3, '星期四': 4, '星期五': 5, '星期六': 6, '星期日': 7, '星期天': 7,\n",
    "                         '这周一': 1, '这周二': 2, '这周三': 3, '这周四': 4, '这周五': 5, '这周六': 6, '这周日': 7, '这周末': 7,\n",
    "                         '这个星期一': 1, '这个星期二': 2, '这个星期三': 3, '这个星期四': 4, '这个星期五': 5, '这个星期六': 6, '这个星期日': 7, '这个星期天': 7,\n",
    "                         '下个星期一': 8, '下个星期二': 9, '下个星期三': 10, '下个星期四': 11, '下个星期五': 12, '下个星期六': 13, '下个星期日': 14, '下个星期天': 14,\n",
    "                                 }\n",
    "        self.num_to_sequence={'1号': 1, '2号': 2, '3号': 3, '4号': 4, '5号': 5, '6号': 6, '7号': 7, '8号': 8, '9号': 9, '10号': 10, '11号': 11, '12号': 12, '13号': 13, '14号': 14, '15号': 15, '16号': 16, '17号': 17, '18号': 18, '19号': 19, '20号': 20, '21号': 21, '22号': 22, '23号': 23, '24号': 24, '25号': 25, '26号': 26, '27号': 27, '28号': 28, '29号': 29, '30号': 30, '31号': 31,\n",
    "                              '这个月1号': 1, '这个月2号': 2, '这个月3号': 3, '这个月4号': 4, '这个月5号': 5, '这个月6号': 6,\n",
    "                              '这个月7号': 7, '这个月8号': 8, '这个月9号': 9, '这个月10号': 10, '这个月11号': 11, '这个月12号': 12,\n",
    "                              '这个月13号': 13, '这个月14号': 14, '这个月15号': 15, '这个月16号': 16, '这个月17号': 17, '这个月18号': 18,\n",
    "                              '这个月19号': 19, '这个月20号': 20, '这个月21号': 21, '这个月22号': 22, '这个月23号': 23, '这个月24号': 24,\n",
    "                              '这个月25号': 25, '这个月26号': 26, '这个月27号': 27, '这个月28号': 28, '这个月29号': 29, '这个月30号': 30,\n",
    "                              '这个月31号': 31\n",
    "                              }\n",
    "        self.num_next_to_sequence={'下个月1号': 1, '下个月2号': 2, '下个月3号': 3, '下个月4号': 4, '下个月5号': 5, '下个月6号': 6, '下个月7号': 7, '下个月8号': 8, '下个月9号': 9, '下个月10号': 10, '下个月11号': 11, '下个月12号': 12, '下个月13号': 13, '下个月14号': 14, '下个月15号': 15, '下个月16号': 16, '下个月17号': 17, '下个月18号': 18, '下个月19号': 19, '下个月20号': 20, '下个月21号': 21, '下个月22号': 22, '下个月23号': 23, '下个月24号': 24, '下个月25号': 25, '下个月26号': 26, '下个月27号': 27, '下个月28号': 28, '下个月29号': 29, '下个月30号': 30, '下个月31号': 31}\n",
    "\n",
    "\n",
    "\n",
    "        self.year_month_day= datetime.datetime.now().date()#如此格式的年月日2018-06-15\n",
    "\n",
    "        self.year_week_day_=self.year_month_day.isocalendar()  # 返回结果是三元组（年号，第几周，第几天）\n",
    "        # self.year_month_day=year_month_day.year,year_month_day.month,year_month_day.day\n",
    "        # print('self.year_month_day',self.year_month_day)\n",
    "\n",
    "    def get_time_words(self,path):\n",
    "        with open(path, encoding='utf-8') as f:\n",
    "            time_words = set()\n",
    "            for each in f:\n",
    "                each = each.strip('\\n')\n",
    "                # print(each,end='')\n",
    "                time_words.add(each)\n",
    "                pattern_words = '|'.join(time_words)\n",
    "            return pattern_words\n",
    "    # def recognize_time_entity(self,string_input):\n",
    "    #     regx_pattern = re.findall(self.pattern_words, string_input)\n",
    "    #     return regx_pattern\n",
    "    def main(self,string_input):\n",
    "        all_time_recognize=[]\n",
    "        # time_extract=self.recognize_time_entity(string_input)\n",
    "        time_extract=re.findall(self.pattern_words, string_input)\n",
    "        time_extract_2=re.findall('\\d{1,2}月\\d{1,2}[日号]',string_input)\n",
    "        if time_extract:\n",
    "            print('在整理的时间词汇中',time_extract)\n",
    "            for each in time_extract:\n",
    "                each_time={}\n",
    "                if each in self.week_to_sequence.keys():\n",
    "                    # print('0each',each)\n",
    "                    difference_hour=(self.week_to_sequence[each]-self.year_week_day_[2])*24\n",
    "                    each_time['time_pattern']=each\n",
    "                    each_time['time_to_now'] = difference_hour\n",
    "                    all_time_recognize.append(each_time)\n",
    "                elif each in self.day_to_hour:\n",
    "                    # print('1each', each)\n",
    "                    each_time['time_pattern'] = each\n",
    "                    each_time['time_to_now'] = self.day_to_hour[each]\n",
    "                    all_time_recognize.append(each_time)\n",
    "                #处理当月的某一天\n",
    "                elif each in self.num_to_sequence.keys():#each 为当月号数\n",
    "                    # print('2each', each)\n",
    "                    datetime_now=datetime.datetime(self.year_month_day.year,self.year_month_day.month,self.year_month_day.day)\n",
    "                    datetime_feature=datetime.datetime(self.year_month_day.year,self.year_month_day.month,self.num_to_sequence[each])\n",
    "                    diff_hour=(datetime_feature-datetime_now).days*24#计算当月之间后面某天与今天的相差天数\n",
    "                    each_time['time_pattern'] = each\n",
    "                    each_time['time_to_now'] = diff_hour\n",
    "                    all_time_recognize.append(each_time)\n",
    "                #处理下个月的某一天\n",
    "                elif each in self.num_next_to_sequence:\n",
    "                    datetime_now = datetime.datetime(self.year_month_day.year, self.year_month_day.month,\n",
    "                                                     self.year_month_day.day)\n",
    "                    datetime_next = datetime.datetime(self.year_month_day.year, self.year_month_day.month+1,\n",
    "                                                         self.num_next_to_sequence[each])\n",
    "                    diff_hour = (datetime_next - datetime_now).days * 24  # 计算当月之间后面某天与今天的相差天数\n",
    "                    each_time['time_pattern'] = each\n",
    "                    each_time['time_to_now'] = diff_hour\n",
    "                    all_time_recognize.append(each_time)\n",
    "        # 处理具体的某月某日\n",
    "        if time_extract_2:\n",
    "            print('抽取的某月某日',time_extract_2)\n",
    "            for each in time_extract_2:\n",
    "                each_time_2={}\n",
    "                num_month_day=re.findall('\\d{1,2}',each)\n",
    "                # print('num_month_day',num_month_day)\n",
    "                datetime_now = datetime.datetime(self.year_month_day.year, self.year_month_day.month,\n",
    "                                                 self.year_month_day.day)\n",
    "                datetime_next = datetime.datetime(self.year_month_day.year, int(num_month_day[0]),\n",
    "                                                  int(num_month_day[1]))\n",
    "                diff_hour = (datetime_next - datetime_now).days * 24  # 计算当月之间后面某天与今天的相差天数\n",
    "                each_time_2['time_pattern'] = each\n",
    "                each_time_2['time_to_now'] = diff_hour\n",
    "                all_time_recognize.append(each_time_2)\n",
    "\n",
    "        return all_time_recognize\n",
    "\n",
    "\n",
    "\n",
    "\n",
    "\n",
    "\n",
    "\n",
    "\n",
    "\n"
   ]
  },
  {
   "cell_type": "code",
   "execution_count": 6,
   "metadata": {
    "ExecuteTime": {
     "end_time": "2018-06-18T15:47:40.455613Z",
     "start_time": "2018-06-18T15:47:40.450372Z"
    }
   },
   "outputs": [],
   "source": [
    "path='time_words'\n",
    "ter=time_entity_recognize(path)"
   ]
  },
  {
   "cell_type": "code",
   "execution_count": 8,
   "metadata": {
    "ExecuteTime": {
     "end_time": "2018-06-18T15:49:21.426870Z",
     "start_time": "2018-06-18T15:49:21.421112Z"
    }
   },
   "outputs": [
    {
     "name": "stdout",
     "output_type": "stream",
     "text": [
      "在整理的时间词汇中 ['这周日', '这个星期六', '下周一', '后天', '30号', '17号', '下个月15号', '15号']\n",
      "抽取的某月某日 ['7月15号', '7月18日']\n",
      "res [{'time_pattern': '这周日', 'time_to_now': 144}, {'time_pattern': '这个星期六', 'time_to_now': 120}, {'time_pattern': '后天', 'time_to_now': 48}, {'time_pattern': '30号', 'time_to_now': 288}, {'time_pattern': '17号', 'time_to_now': -24}, {'time_pattern': '下个月15号', 'time_to_now': 648}, {'time_pattern': '15号', 'time_to_now': -72}, {'time_pattern': '7月15号', 'time_to_now': 648}, {'time_pattern': '7月18日', 'time_to_now': 720}]\n"
     ]
    }
   ],
   "source": [
    "res=ter.main('我这周日还可以么，也就是这个星期六，我尽量在下周一就把还了,不不我还是后天还得了,我30号还,17号,下个月15号,你厉害7月15号就还，我哈恩好7月18日')\n",
    "print('res', res)"
   ]
  },
  {
   "cell_type": "code",
   "execution_count": null,
   "metadata": {
    "collapsed": true
   },
   "outputs": [],
   "source": [
    "if __name__=='__main__':\n",
    "   path='time_words'\n",
    "   ter=time_entity_recognize(path)\n",
    "   res=ter.main('我这周日还可以么，也就是这个星期六，我尽量在下周一就把还了,不不我还是后天还得了,我30号还,17号,下个月15号,你厉害7月15号就还，我哈恩好7月18日')\n",
    "   print('res', res)"
   ]
  },
  {
   "cell_type": "code",
   "execution_count": 9,
   "metadata": {
    "ExecuteTime": {
     "end_time": "2018-06-18T16:00:50.620278Z",
     "start_time": "2018-06-18T16:00:50.616725Z"
    },
    "collapsed": true
   },
   "outputs": [],
   "source": [
    "year_month_day= datetime.datetime.now().date().isocalendar()"
   ]
  },
  {
   "cell_type": "code",
   "execution_count": 10,
   "metadata": {
    "ExecuteTime": {
     "end_time": "2018-06-18T16:00:54.504186Z",
     "start_time": "2018-06-18T16:00:54.489674Z"
    }
   },
   "outputs": [
    {
     "data": {
      "text/plain": [
       "(2018, 25, 1)"
      ]
     },
     "execution_count": 10,
     "metadata": {},
     "output_type": "execute_result"
    }
   ],
   "source": [
    "year_month_day"
   ]
  },
  {
   "cell_type": "code",
   "execution_count": null,
   "metadata": {
    "collapsed": true
   },
   "outputs": [],
   "source": []
  }
 ],
 "metadata": {
  "kernelspec": {
   "display_name": "Python 3",
   "language": "python",
   "name": "python3"
  },
  "language_info": {
   "codemirror_mode": {
    "name": "ipython",
    "version": 3
   },
   "file_extension": ".py",
   "mimetype": "text/x-python",
   "name": "python",
   "nbconvert_exporter": "python",
   "pygments_lexer": "ipython3",
   "version": "3.6.3"
  },
  "varInspector": {
   "cols": {
    "lenName": 16,
    "lenType": 16,
    "lenVar": 40
   },
   "kernels_config": {
    "python": {
     "delete_cmd_postfix": "",
     "delete_cmd_prefix": "del ",
     "library": "var_list.py",
     "varRefreshCmd": "print(var_dic_list())"
    },
    "r": {
     "delete_cmd_postfix": ") ",
     "delete_cmd_prefix": "rm(",
     "library": "var_list.r",
     "varRefreshCmd": "cat(var_dic_list()) "
    }
   },
   "types_to_exclude": [
    "module",
    "function",
    "builtin_function_or_method",
    "instance",
    "_Feature"
   ],
   "window_display": false
  }
 },
 "nbformat": 4,
 "nbformat_minor": 2
}
