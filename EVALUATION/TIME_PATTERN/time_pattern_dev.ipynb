{
 "cells": [
  {
   "cell_type": "code",
   "execution_count": 2,
   "metadata": {
    "ExecuteTime": {
     "end_time": "2018-08-10T08:04:56.519199Z",
     "start_time": "2018-08-10T08:04:56.454811Z"
    }
   },
   "outputs": [],
   "source": [
    "import pandas as pd\n",
    "import numpy as np\n",
    "import re\n",
    "import datetime as dt\n",
    "import pytz\n",
    "import sys,os\n",
    "ENV_PATH = '../../ENV/'\n",
    "sys.path.append(ENV_PATH)\n",
    "from env import ENV\n",
    "\n",
    "__file__ = '../../classifier/models/time_pattern/'\n",
    "\n",
    "class TimePattern:\n",
    "    def __init__(self,tz=None):\n",
    "        \"\"\"\n",
    "        tz = \"Asia/Shanghai\"\n",
    "        tz = pytz.timezone(tz)\n",
    "        'America/New_York'\n",
    "        \"\"\"\n",
    "        self.pattern_csv = os.path.join(os.path.dirname(__file__), 'mapping.csv')\n",
    "        self._set_timeZone(tz)\n",
    "        self._load_mapping(self.pattern_csv)\n",
    "        self.time_dic = {'今':'?','明':'+1','后':'+2','大后':'+3','下个':'+1','下下个':'+2',\n",
    "                         '再下个':'+2','下下下个':'+3','后1个':'+1','后2个':'+2','后一个':'+1',\n",
    "                         '后两个':'+2',\n",
    "                         '一':'1','二':'2','三':'3','四':'4','五':'5',\n",
    "                         '六':'6','七':'7','八':'8','九':'9','十':'10',\n",
    "                         '十一':'11','十二':'12','十三':'13','十四':'14','十五':'15',\n",
    "                         '十六':'16','十七':'17','十八':'18','十九':'19','二十':'20',\n",
    "                         '二十一':'21','二十二':'22','二十三':'23','二十四':'24','二十五':'25',\n",
    "                         '二十六':'26','二十七':'27','二十八':'28','二十九':'29','三十':'30','三十一':'31',\n",
    "                         '四十':'40','五十':'50','六十':'60','七十':'70','八十':'80','九十':'90','一百':'100'}\n",
    "        self.fix_ymd = r'(?:(?:今|明|后|大后)年)?(?:(?:\\d{1,2}|下下下个|下下个|再下个|下个|十一|十二|一|二|三|四|五|六|七|八|九|十|后1个|后2个|后一个|后两个|后二个)月)(?:\\d{1,2}|一|二|三|四|五|六|七|八|九|十|十一|十二|十三|十四||十六|十七|十八|十九|二十|二十一|二十二|二十三|二十四|二十五|二十六|二十七|二十八|二十九|三十|三十一)[日号]'\n",
    "        reg_num = r'(?:(?:一|二|三|四|五|六|七|八|九|十|十一|十二|十三|十四|十五|二十|三十|四十|五十|六十|七十|八十|九十)|\\d+)'\n",
    "        self.fix_period = r'(?:{}天)?(?:{}小时)?(?:{}分钟)?'.format(reg_num,reg_num,reg_num)\n",
    "        \n",
    "    def remove_time(self,sentence):\n",
    "        sentence = re.sub(r' ','',sentence)\n",
    "        sentence = re.sub(self.re_ext,' ',sentence)\n",
    "        \n",
    "        finds_ymd = set(re.findall(self.fix_ymd,sentence)) - set([''])\n",
    "        finds_period = set(re.findall(self.fix_period,sentence)) - set([''])\n",
    "        if len(finds_ymd) > 0:\n",
    "            sentence = re.sub('|'.join(finds_ymd),' ',sentence)\n",
    "        if len(finds_period) > 0:\n",
    "            sentence = re.sub('|'.join(finds_period),' ',sentence)\n",
    "\n",
    "        if sentence == '':\n",
    "            return ' '\n",
    "        return sentence\n",
    "        \n",
    "    \n",
    "    def process(self, sentence):\n",
    "        current = self._get_LocalNow()\n",
    "        sentence = re.sub(r\" \",'',sentence)\n",
    "        fixymd = self.evl_ymd(sentence)\n",
    "        selfdefine = re.findall(self.re_ext, sentence)\n",
    "        period = self.evl_period(sentence)\n",
    "        result = []\n",
    "        for each in fixymd:\n",
    "            future = self.evl(each['expression'])\n",
    "            gap = (future - current).total_seconds()\n",
    "            result.append({'pattern':each['pattern'], 'time':future, 'gapS':gap, 'gapH':gap/3600})\n",
    "        for each in selfdefine:\n",
    "            future = self.evl(self.dict_ext[each])\n",
    "            gap = (future - current).total_seconds()\n",
    "            result.append({'pattern':each, 'time':future, 'gapS':gap, 'gapH':gap/3600})\n",
    "        for each in period:\n",
    "            future = self.evl(each['expression'])\n",
    "            gap = (future - current).total_seconds()\n",
    "            result.append({'pattern':each['pattern'], 'time':future, 'gapS':gap, 'gapH':gap/3600})\n",
    "        return result\n",
    "    \n",
    "    def evl(self, expression):\n",
    "        current = self._get_LocalNow()\n",
    "        exp_week = re.findall(r'-.+W-.+w',expression)\n",
    "        exp_ymd = re.findall(r'.+y-.+m.+d',expression)\n",
    "\n",
    "        history = self._pros_second(expression, current)\n",
    "        history = self._pros_minute(expression, current, history)\n",
    "        history,shift = self._pros_hour(expression, current, history)\n",
    "\n",
    "        if exp_week:\n",
    "            history = self._pros_weekDay(expression,current, history)\n",
    "            history = self._pros_week(expression,current, history)\n",
    "            history = self._pros_year(expression, current,history)\n",
    "            future = self.create_from_W(history)  \n",
    "        elif exp_ymd:\n",
    "            history = self._pros_day(expression, current,history)\n",
    "            history = self._pros_month(expression, current,history)\n",
    "            history = self._pros_year(expression, current,history)\n",
    "            future = self.create_from_D(history)\n",
    "        if future.tzinfo is None:\n",
    "            future = self.tz.localize(future)\n",
    "        return future\n",
    "    \n",
    "    def _load_mapping(self, pattern_path):\n",
    "        df = pd.read_csv(pattern_path)\n",
    "        # create length\n",
    "        df['length'] = df.key_word.apply(lambda x: len(x))\n",
    "        df = df.sort_values(['length','key_word'], ascending=False)\n",
    "        df_series = pd.Series(index=df.key_word.values, data=df.expression.values)\n",
    "        df_dict = df_series.to_dict()\n",
    "        self.serires = df_series\n",
    "        self.re_ext = r'|'.join(self.serires.index.values)\n",
    "        self.dict_ext = df_dict\n",
    "        \n",
    "    def _set_timeZone(self,tz=None):\n",
    "        if tz is None:\n",
    "            tz = ENV.TIMEZONE.value\n",
    "            print('Time Zone is set from ENV: {}'.format(tz))\n",
    "        tz = ENV.TIMEZONE.value\n",
    "        self.tz = pytz.timezone(tz)\n",
    "        self.delta = self.tz.utcoffset(dt.datetime.utcnow())\n",
    "        \n",
    "        \n",
    "    def _get_LocalNow(self):\n",
    "        now = dt.datetime.utcnow()\n",
    "        return self.tz.localize(now) + self.delta\n",
    "        \n",
    "    def _pros_second(self, expression, current, history={'microsecond':0}):\n",
    "        history = history.copy()\n",
    "        S = current.second\n",
    "        reexp = r'M:.+S'\n",
    "        extract = re.findall(reexp,expression)[0]\n",
    "        # M:+1S\n",
    "        if extract[2:-1] == '?':\n",
    "            history.update({'second':S})\n",
    "            return history\n",
    "        elif extract[2] == '+':\n",
    "            gap = int(extract[3:-1])\n",
    "            create = current + dt.timedelta(seconds=gap) \n",
    "            create = create.replace(**history)\n",
    "            return create \n",
    "        elif extract[2] == '-':\n",
    "            gap = int(extract[3:-1])\n",
    "            create =  current - dt.timedelta(seconds=gap)\n",
    "            create = create.replace(**history)\n",
    "            return create\n",
    "        else:\n",
    "            second = int(extract[2:-1])\n",
    "            history.update({'second':second})\n",
    "            return history\n",
    "        \n",
    "    def _pros_minute(self, expression, current, history = {}):\n",
    "        if isinstance(history,dt.datetime):\n",
    "            return history\n",
    "        history = history.copy()\n",
    "        M = current.minute\n",
    "        reexp = r'H:.+M'\n",
    "        extract = re.findall(reexp,expression)[0]\n",
    "        # H:?M\n",
    "        if extract[2:-1] == '?':\n",
    "            history.update({'minute':M})\n",
    "            return history\n",
    "        elif extract[2] == '+':\n",
    "            gap = int(extract[3:-1])\n",
    "            create = current + dt.timedelta(minutes=gap) \n",
    "            create = create.replace(**history)\n",
    "            return create\n",
    "        elif extract[2] == '-':\n",
    "            gap = int(extract[3:-1])\n",
    "            create = current - dt.timedelta(minutes=gap) \n",
    "            create = create.replace(**history)\n",
    "            return create\n",
    "        else:\n",
    "            minute = int(extract[2:-1])\n",
    "            history.update({'minute':minute})\n",
    "            return history\n",
    "        \n",
    "    def _pros_hour(self, expression, current, history = {}):\n",
    "        shift = True\n",
    "        if isinstance(history,dt.datetime):\n",
    "            return history, shift\n",
    "        history = history.copy()\n",
    "\n",
    "        H = current.hour\n",
    "        reexp = r'[dw]-.+H'\n",
    "        extract = re.findall(reexp,expression)[0]\n",
    "    #     d-?H\n",
    "        if extract[2:-1] == '?':\n",
    "            history.update({'hour':H})\n",
    "            return history,shift\n",
    "        elif extract[2] == '+':\n",
    "            gap = int(extract[3:-1])\n",
    "            create = current + dt.timedelta(hours=gap)\n",
    "            create = create.replace(**history)\n",
    "            return create,shift\n",
    "        elif extract[2] == '-':\n",
    "            gap = int(extract[3:-1])\n",
    "            create = current - dt.timedelta(hours=gap)\n",
    "            create = create.replace(**history)\n",
    "            return create,shift\n",
    "        else:\n",
    "            shift = False\n",
    "            hour = int(extract[2:-1])\n",
    "            history.update({'hour':hour})\n",
    "            return history,shift\n",
    "        \n",
    "    def _pros_day(self, expression, current, history={}):\n",
    "        if isinstance(history,dt.datetime):\n",
    "            return history\n",
    "        history = history.copy()\n",
    "        d = current.day\n",
    "        reexp = r'm-.+d'\n",
    "        extract = re.findall(reexp,expression)[0]\n",
    "        if extract[2:-1] == '?':\n",
    "            history.update({'day':d})\n",
    "            return history\n",
    "        elif extract[2] == '+':\n",
    "            gap = int(extract[3:-1])\n",
    "            create = current + dt.timedelta(days=gap) \n",
    "            create = create.replace(**history)\n",
    "            return create\n",
    "        elif extract[2] == '-':\n",
    "            gap = int(extract[3:-1])\n",
    "            create = current - dt.timedelta(days=gap) \n",
    "            create = create.replace(**history)\n",
    "            return create\n",
    "        else:\n",
    "            day = int(extract[2:-1])\n",
    "            history.update({'day':day})\n",
    "            return history\n",
    "        \n",
    "    def _pros_month(self, expression, current, history):\n",
    "        if isinstance(history,dt.datetime):\n",
    "            return history\n",
    "        history = history.copy()\n",
    "        adjust_year = 0\n",
    "        m = current.month\n",
    "        reexp = r'y-.+m'\n",
    "        extract = re.findall(reexp,expression)[0]\n",
    "        if extract[2:-1] == '?':\n",
    "            history.update({'month':m})\n",
    "            return history\n",
    "        elif extract[2] == '+':\n",
    "            cur = int(extract[3:-1]) + m\n",
    "            if cur > 12:\n",
    "                adjust_year = int(cur / 12)\n",
    "                cur = cur % 12\n",
    "                if cur == 0:\n",
    "                    cur = 12\n",
    "                    adjust_year -= 1\n",
    "            history.update({'year':adjust_year})\n",
    "            history.update({'month':cur})\n",
    "            return history\n",
    "        elif extract[2] == '-':\n",
    "            cur = m - int(extract[3:-1])\n",
    "            if cur < 1:\n",
    "                adjust_year = int(cur / 12) - 1\n",
    "                cur = cur % 12\n",
    "                if cur == 0:\n",
    "                    cur = 12\n",
    "            history.update({'year':adjust_year})\n",
    "            history.update({'month':cur})\n",
    "            return history\n",
    "        else:\n",
    "            history.update({'month':int(extract[2:-1])})\n",
    "            return history\n",
    "        \n",
    "    def _pros_year(self, expression, current, history):\n",
    "        if isinstance(history,dt.datetime):\n",
    "            return history\n",
    "        history = history.copy()\n",
    "        adjust_year = history.get('year')\n",
    "        if adjust_year is None:\n",
    "            adjust_year = 0\n",
    "        y = current.year\n",
    "        reexp = r'.+y-'\n",
    "        extract = re.findall(reexp,expression)[0]\n",
    "        if extract[0:-2] == '?':\n",
    "            history.update({'year':y+adjust_year})\n",
    "            return history\n",
    "        elif extract[0] == '+':\n",
    "            gap = int(extract[1:-2])\n",
    "            history.update({'year':y+adjust_year+gap})\n",
    "            return history\n",
    "        elif extract[0] == '-':\n",
    "            gap = int(extract[1:-2])\n",
    "            history.update({'year':y+adjust_year-gap})\n",
    "            return history\n",
    "        else:\n",
    "            history.update({'year':int(extract[:-2])+adjust_year})\n",
    "            return history\n",
    "        \n",
    "    def _pros_weekDay(self, expression, current, history):\n",
    "        history = history.copy()\n",
    "        w = current.isocalendar()[2] % 7\n",
    "        reexp = r'W-.+w'\n",
    "        extract = re.findall(reexp,expression)[0]\n",
    "\n",
    "        # W-+1w\n",
    "        if extract[2:-1] == '?':\n",
    "            history.update({'weekday':str(w)})\n",
    "            return history\n",
    "        elif extract[2] == '+':\n",
    "            rep = str(w + int(extract[3:-1]))\n",
    "            history.update({'weekday':rep})\n",
    "            return history\n",
    "        elif extract[2] == '-':\n",
    "            rep = str(w - int(extract[3:-1]))\n",
    "            history.update({'weekday':rep})\n",
    "            return history\n",
    "        else:\n",
    "            rep = extract[2:-1]\n",
    "            history.update({'weekday':rep})\n",
    "            return history\n",
    "        \n",
    "    def _pros_week(self, expression, current, history):\n",
    "        history = history.copy()\n",
    "        year_adjust = 0\n",
    "        W = current.isocalendar()[1] \n",
    "        reexp = r'y-.+W'\n",
    "        extract = re.findall(reexp,expression)[0]\n",
    "\n",
    "        # y-+1W\n",
    "        if extract[2:-1] == '?':\n",
    "            rep = str(W)\n",
    "            history.update({'week':rep})\n",
    "            return history\n",
    "        elif extract[2] == '+':\n",
    "            cur = W + int(extract[3:-1])\n",
    "            if cur > 53:\n",
    "                year_adjust = int(cur / 53)\n",
    "                cur = cur % 53\n",
    "            rep = str(cur)\n",
    "            history.update({'year':year_adjust})\n",
    "            history.update({'week':rep})\n",
    "            return history\n",
    "        elif extract[2] == '-':\n",
    "            cur = W - int(extract[3:-1])\n",
    "            if cur < 0:\n",
    "                year_adjust = int(cur / 53) -1\n",
    "                cur = cur % 53\n",
    "            rep = str(cur)\n",
    "            history.update({'year':year_adjust})\n",
    "            history.update({'week':rep})\n",
    "            return history\n",
    "        else:\n",
    "            rep = extract[2:-1]\n",
    "            history.update({'week':rep})\n",
    "            return history\n",
    "    \n",
    "    def create_from_D(self, history):\n",
    "        if isinstance(history,dt.datetime):\n",
    "            return history\n",
    "        return dt.datetime(**history)\n",
    "    \n",
    "    def create_from_W(self, history):\n",
    "        expression ='{}y-{}W-{}w-{}H:{}M:{}S'.format(history['year'],\n",
    "                                                     history['week'],\n",
    "                                                     history['weekday'],\n",
    "                                                     history['hour'],\n",
    "                                                     history['minute'],\n",
    "                                                     history['second'])\n",
    "        eval_time = dt.datetime.strptime(expression, \"%Yy-%WW-%ww-%HH:%MM:%SS\")\n",
    "        return eval_time\n",
    "    \n",
    "    def ymd_reg(self,x):\n",
    "        \n",
    "        finds = list(set(re.findall(self.fix_ymd,x)) -set(['']))\n",
    "        return finds\n",
    "\n",
    "    def ymd_expression(self, result):\n",
    "        def get_key(x):\n",
    "            if x.isdigit():\n",
    "                return x\n",
    "            else:\n",
    "                gets = self.time_dic.get(x)\n",
    "                if x is None:\n",
    "                    return '?'\n",
    "                else:\n",
    "                    return gets\n",
    "\n",
    "\n",
    "        year_index = result.find('年')\n",
    "        month_index = result.find('月')\n",
    "        if result.find('日') != -1:\n",
    "            date_index = result.find('日')\n",
    "        else:\n",
    "            date_index = result.find('号')\n",
    "\n",
    "        if year_index != -1:\n",
    "            year_key = result[0:year_index]  \n",
    "            year = get_key(year_key)\n",
    "        else:\n",
    "            year = '?'\n",
    "        if month_index != -1:\n",
    "            month_key = result[year_index+1:month_index]\n",
    "            month = get_key(month_key)\n",
    "        else:\n",
    "            month = '?'\n",
    "        if date_index != -1:\n",
    "            date_key = result[month_index+1:date_index]\n",
    "            date = get_key(date_key)\n",
    "        else:\n",
    "            date = '?'\n",
    "        formatted = '{}y-{}m-{}d-12H:00M:00S'.format(year, month, date)\n",
    "        return formatted\n",
    "    \n",
    "    def evl_ymd(self,text):\n",
    "        finds = self.ymd_reg(text)\n",
    "        evls = []\n",
    "        if len(finds) == 0:\n",
    "            return evls\n",
    "        else:\n",
    "            for each in finds:\n",
    "                evls.append({'pattern':each, 'expression':self.ymd_expression(each)})\n",
    "        return evls\n",
    "   \n",
    "\n",
    "    def period_reg(self,x):\n",
    "        \n",
    "        finds = list(set(re.findall(self.fix_period,x)) - set(['']))\n",
    "        return finds\n",
    "    \n",
    "    def period_expression(self,find):\n",
    "        day_index = find.find('天')\n",
    "        hour_index = find.find('小时')\n",
    "        minute_index = find.find('分钟')\n",
    "        if day_index != -1:\n",
    "            day = find[0:day_index]\n",
    "            if self.time_dic.get(day) is not None:\n",
    "                day = int(self.time_dic.get(day))\n",
    "            else:\n",
    "                try:\n",
    "                    day = int(day)\n",
    "                except Exception:\n",
    "                    day = 0\n",
    "        else:\n",
    "            day = 0\n",
    "\n",
    "        if hour_index != -1:\n",
    "            hour = find[day_index+1:hour_index]\n",
    "            if self.time_dic.get(hour) is not None:\n",
    "                hour = int(self.time_dic.get(hour))\n",
    "            else:\n",
    "                try:\n",
    "                    hour = int(hour)\n",
    "                except Exception:\n",
    "                    hour = 0\n",
    "        else:\n",
    "            hour = 0\n",
    "\n",
    "        if minute_index != -1:\n",
    "            minute = find[hour_index+2:minute_index]\n",
    "            if self.time_dic.get(minute) is not None:\n",
    "                minute = int(self.time_dic.get(minute))\n",
    "            else:\n",
    "                try:\n",
    "                    minute = int(minute)\n",
    "                except Exception:\n",
    "                    minute = 0\n",
    "        else:\n",
    "            minute = 0\n",
    "\n",
    "        delta_minute = 24*60*day + 60*hour +minute \n",
    "        formatted = '?y-?m-?d-?H:+{}M:00S'.format(delta_minute)\n",
    "        return formatted\n",
    "    \n",
    "    def evl_period(self,text):\n",
    "        finds = self.period_reg(text)\n",
    "        evls = []\n",
    "        if len(finds) == 0:\n",
    "            return evls\n",
    "        else:\n",
    "            for each in finds:\n",
    "                evls.append({'pattern':each, 'expression':self.period_expression(each)})\n",
    "        return evls\n",
    "\n",
    "\n",
    "\n",
    "        \n",
    "        \n",
    "        \n",
    "    def test_case1(self):\n",
    "        \"\"\"\n",
    "        test if there is any overlab between self-defined and the fixed expression\n",
    "        \"\"\"\n",
    "        error_result = []\n",
    "        for each_pattern in self.serires.index.values:\n",
    "            fixymd = self.evl_ymd(each_pattern)\n",
    "            if len(fixymd) > 0:\n",
    "                pattern = fixymd[0]['pattern']\n",
    "#                 if pattern == each_pattern:\n",
    "                error_result.append(each_pattern)\n",
    "        print('============ test case 1 is below ==============')\n",
    "        print(error_result)\n",
    "        \n",
    "    def test_case2(self):\n",
    "        \"\"\"\n",
    "        This test is used to test all self define mapping;\n",
    "        check is the evl string is correct\n",
    "        \"\"\"\n",
    "        error_result = []\n",
    "        for key in self.dict_ext:\n",
    "            try:\n",
    "                evl = self.evl(self.dict_ext[key])\n",
    "            except Exception:\n",
    "                error_result.append(key)\n",
    "                print(key)\n",
    "        print('============ test case 2 is below ==============')\n",
    "        print(error_result )\n",
    "        "
   ]
  },
  {
   "cell_type": "code",
   "execution_count": 2,
   "metadata": {
    "ExecuteTime": {
     "end_time": "2018-08-08T18:01:56.846753Z",
     "start_time": "2018-08-08T18:01:56.795089Z"
    }
   },
   "outputs": [
    {
     "name": "stdout",
     "output_type": "stream",
     "text": [
      "Time Zone is set from ENV: Asia/Shanghai\n"
     ]
    }
   ],
   "source": [
    "t = TimePattern()"
   ]
  },
  {
   "cell_type": "code",
   "execution_count": 3,
   "metadata": {
    "ExecuteTime": {
     "end_time": "2018-08-08T18:01:57.836092Z",
     "start_time": "2018-08-08T18:01:57.765485Z"
    }
   },
   "outputs": [
    {
     "name": "stdout",
     "output_type": "stream",
     "text": [
      "============ test case 2 is below ==============\n",
      "[]\n"
     ]
    }
   ],
   "source": [
    "t.test_case2()"
   ]
  },
  {
   "cell_type": "code",
   "execution_count": 4,
   "metadata": {
    "ExecuteTime": {
     "end_time": "2018-08-08T18:01:58.494932Z",
     "start_time": "2018-08-08T18:01:58.486074Z"
    }
   },
   "outputs": [],
   "source": [
    "#after period \n",
    "s1 = '三天2小时5分钟后就还'\n",
    "s2 = '四小时后就还'\n",
    "s3 = '2小时就还'\n",
    "s4 = '  哈哈水电费'"
   ]
  },
  {
   "cell_type": "code",
   "execution_count": 5,
   "metadata": {
    "ExecuteTime": {
     "end_time": "2018-08-08T18:01:59.438315Z",
     "start_time": "2018-08-08T18:01:59.401155Z"
    }
   },
   "outputs": [
    {
     "data": {
      "text/plain": [
       "'  后就还'"
      ]
     },
     "execution_count": 5,
     "metadata": {},
     "output_type": "execute_result"
    }
   ],
   "source": [
    "t.remove_time(s1)"
   ]
  },
  {
   "cell_type": "code",
   "execution_count": 6,
   "metadata": {
    "ExecuteTime": {
     "end_time": "2018-08-08T18:01:59.661264Z",
     "start_time": "2018-08-08T18:01:59.651615Z"
    }
   },
   "outputs": [],
   "source": [
    "reg_num = r'(?:(?:一|二|两|三|四|五|六|七|八|九|十|十一|十二|十三|十四|十五|二十|三十|四十|五十|六十|七十|八十|九十)|\\d+)'\n",
    "reg = r'(?:{}(?:天|日){}小时)|(?:{}(?:天|小时|日))'.format(reg_num,reg_num,reg_num)\n",
    "finds = re.findall(reg,s1)\n"
   ]
  },
  {
   "cell_type": "code",
   "execution_count": 7,
   "metadata": {
    "ExecuteTime": {
     "end_time": "2018-08-08T18:01:59.972171Z",
     "start_time": "2018-08-08T18:01:59.965473Z"
    }
   },
   "outputs": [],
   "source": [
    "reg_num = r'(?:(?:一|二|两|三|四|五|六|七|八|九|十|十一|十二|十三|十四|十五|二十|三十|四十|五十|六十|七十|八十|九十)|\\d+)'\n",
    "reg = r'(?:{}(?:天|日))?(?:{}小时)?(?:{}分钟)?'.format(reg_num,reg_num,reg_num)\n",
    "finds = list(set(re.findall(reg,s1)) - set(['']))"
   ]
  },
  {
   "cell_type": "code",
   "execution_count": 8,
   "metadata": {
    "ExecuteTime": {
     "end_time": "2018-08-08T18:02:00.240855Z",
     "start_time": "2018-08-08T18:02:00.234315Z"
    }
   },
   "outputs": [
    {
     "data": {
      "text/plain": [
       "['三天2小时5分钟']"
      ]
     },
     "execution_count": 8,
     "metadata": {},
     "output_type": "execute_result"
    }
   ],
   "source": [
    "finds"
   ]
  },
  {
   "cell_type": "code",
   "execution_count": 9,
   "metadata": {
    "ExecuteTime": {
     "end_time": "2018-08-08T18:02:01.096853Z",
     "start_time": "2018-08-08T18:02:01.086239Z"
    }
   },
   "outputs": [],
   "source": [
    "mapping = {'今':'?','明':'+1','后':'+2','大后':'+3','下个':'+1','下下个':'+2',\n",
    "                         '再下个':'+2','下下下个':'+3','后1个':'+1','后2个':'+2','后一个':'+1',\n",
    "                         '后两个':'+2',\n",
    "                         '一':'1','二':'2','三':'3','四':'4','五':'5',\n",
    "                         '六':'6','七':'7','八':'8','九':'9','十':'10',\n",
    "                         '十一':'11','十二':'12','十三':'13','十四':'14','十五':'15',\n",
    "                         '十六':'16','十七':'17','十八':'18','十九':'19','二十':'20',\n",
    "                         '二十一':'21','二十二':'22','二十三':'23','二十四':'24','二十五':'25',\n",
    "                         '二十六':'26','二十七':'27','二十八':'28','二十九':'29','三十':'30','三十一':'31',\n",
    "                         '四十':'40','五十':'50','六十':'60','七十':'70','八十':'80','九十':'90','一百':'100'}"
   ]
  },
  {
   "cell_type": "code",
   "execution_count": 10,
   "metadata": {
    "ExecuteTime": {
     "end_time": "2018-08-08T18:02:01.936953Z",
     "start_time": "2018-08-08T18:02:01.925338Z"
    }
   },
   "outputs": [],
   "source": [
    "find = '三天2小时5分钟'\n",
    "day_index = find.find('天')\n",
    "if day_index == -1:\n",
    "    day_index = find.find('日')\n",
    "hour_index = find.find('小时')\n",
    "minute_index = find.find('分钟')\n",
    "if day_index != -1:\n",
    "    day = find[0:day_index]\n",
    "    if mapping.get(day) is not None:\n",
    "        day = int(mapping.get(day))\n",
    "    else:\n",
    "        try:\n",
    "            day = int(day)\n",
    "        except Exception:\n",
    "            day = 0\n",
    "else:\n",
    "    day = 0\n",
    "    \n",
    "if hour_index != -1:\n",
    "    hour = find[day_index+1:hour_index]\n",
    "    if mapping.get(hour) is not None:\n",
    "        hour = int(mapping.get(hour))\n",
    "    else:\n",
    "        try:\n",
    "            hour = int(hour)\n",
    "        except Exception:\n",
    "            hour = 0\n",
    "else:\n",
    "    hour = 0\n",
    "    \n",
    "if minute_index != -1:\n",
    "    minute = find[hour_index+2:minute_index]\n",
    "    if mapping.get(minute) is not None:\n",
    "        minute = int(mapping.get(minute))\n",
    "    else:\n",
    "        try:\n",
    "            minute = int(minute)\n",
    "        except Exception:\n",
    "            minute = 0\n",
    "else:\n",
    "    minute = 0\n",
    "    \n",
    "delta_minute = 24*60*day + 60*hour +minute \n",
    "formatted = '?y-?m-?d-?H:+{}M:00S'.format(delta_minute)\n",
    "    \n",
    "\n",
    "\n"
   ]
  },
  {
   "cell_type": "code",
   "execution_count": 139,
   "metadata": {
    "ExecuteTime": {
     "end_time": "2018-08-08T05:53:05.810464Z",
     "start_time": "2018-08-08T05:53:05.798736Z"
    }
   },
   "outputs": [
    {
     "data": {
      "text/plain": [
       "'?y-?m-?d-?H:+4445M:00S'"
      ]
     },
     "execution_count": 139,
     "metadata": {},
     "output_type": "execute_result"
    }
   ],
   "source": [
    "formatted"
   ]
  },
  {
   "cell_type": "code",
   "execution_count": 140,
   "metadata": {
    "ExecuteTime": {
     "end_time": "2018-08-08T05:53:06.939636Z",
     "start_time": "2018-08-08T05:53:06.930057Z"
    }
   },
   "outputs": [
    {
     "data": {
      "text/plain": [
       "datetime.datetime(2018, 8, 11, 15, 58, tzinfo=<DstTzInfo 'Asia/Shanghai' CST+8:00:00 STD>)"
      ]
     },
     "execution_count": 140,
     "metadata": {},
     "output_type": "execute_result"
    }
   ],
   "source": [
    "t.evl(formatted)"
   ]
  },
  {
   "cell_type": "code",
   "execution_count": 54,
   "metadata": {
    "ExecuteTime": {
     "end_time": "2018-08-08T06:26:25.822600Z",
     "start_time": "2018-08-08T06:26:25.814783Z"
    }
   },
   "outputs": [
    {
     "data": {
      "text/plain": [
       "{'1', '2', '3'}"
      ]
     },
     "execution_count": 54,
     "metadata": {},
     "output_type": "execute_result"
    }
   ],
   "source": [
    "a = set(['1','2','3'])\n",
    "a"
   ]
  },
  {
   "cell_type": "code",
   "execution_count": 55,
   "metadata": {
    "ExecuteTime": {
     "end_time": "2018-08-08T06:26:26.654809Z",
     "start_time": "2018-08-08T06:26:26.650009Z"
    }
   },
   "outputs": [],
   "source": [
    "b = '|'"
   ]
  },
  {
   "cell_type": "code",
   "execution_count": 56,
   "metadata": {
    "ExecuteTime": {
     "end_time": "2018-08-08T06:26:27.404679Z",
     "start_time": "2018-08-08T06:26:27.397370Z"
    }
   },
   "outputs": [
    {
     "data": {
      "text/plain": [
       "'1|2|3'"
      ]
     },
     "execution_count": 56,
     "metadata": {},
     "output_type": "execute_result"
    }
   ],
   "source": [
    "b.join(a)"
   ]
  },
  {
   "cell_type": "code",
   "execution_count": 41,
   "metadata": {
    "ExecuteTime": {
     "end_time": "2018-08-08T06:23:30.938257Z",
     "start_time": "2018-08-08T06:23:30.928205Z"
    }
   },
   "outputs": [
    {
     "data": {
      "text/plain": [
       "['', '', '', '', '', '', '', '']"
      ]
     },
     "execution_count": 41,
     "metadata": {},
     "output_type": "execute_result"
    }
   ],
   "source": [
    "re.findall(r'','明天下午就还}')"
   ]
  },
  {
   "cell_type": "markdown",
   "metadata": {},
   "source": [
    "# 2018 0808 DEV"
   ]
  },
  {
   "cell_type": "markdown",
   "metadata": {},
   "source": [
    "## case1 - 某年某月某日"
   ]
  },
  {
   "cell_type": "code",
   "execution_count": 166,
   "metadata": {
    "ExecuteTime": {
     "end_time": "2018-08-09T06:04:43.746816Z",
     "start_time": "2018-08-09T06:04:43.737682Z"
    }
   },
   "outputs": [],
   "source": [
    "\n",
    "num_cn = r'[一二三四五六七八九十零〇两百千0-9]'\n",
    "rela_month = r'(?:下下下|下下|再下|下|(?:{}+))(?:个)?月'.format(num_cn)\n",
    "fix_month = r'(?:{}+)月'.format(num_cn)\n",
    "month_exp = r'(?:{}|{})'.format(rela_month,fix_month)\n",
    "\n",
    "\n",
    "rela_date = '(?:今|明|后|大后|大大后|再后|(?:{})+)天'.format(num_cn)\n",
    "date_descrip = r'(?:上旬|中旬|下旬|月初|月中|月末|初|中|底|末)'\n",
    "# fix_date = r'(?:{}+)(?:日|号)'.format(num_cn)\n",
    "fix_date = r'(?:(?:{}+)(?:日|号))|{}'.format(num_cn,date_descrip)\n",
    "date_exp = r'(?:{}|{})'.format(rela_date,fix_date)\n",
    "\n",
    "rela_year = r'(?:今|明|后|后后|再后|下一|再下一|下|再下|(?:{}))年'.format(num_cn)\n",
    "fix_year = r'(?:{}+)年'.format(num_cn)\n",
    "year_exp = r'(?:{}|{})'.format(rela_year,fix_year)\n",
    "\n",
    "rela_hour= r'(?:{}+)小时'.format(num_cn)\n",
    "hour_descrip = r'早晨|凌晨|早上|半夜|中午|下午|傍晚|晚上|清晨|午后'\n",
    "minute_descrip = r'(?:一刻|半|过)|(?:{}+)'.format(num_cn)\n",
    "fix_hour= r'(?:{})|(?:(?:{}+)点(?:{})*)'.format(hour_descrip,num_cn,minute_descrip)\n",
    "hour_exp = r'(?:{}|{})'.format(rela_hour,fix_hour)\n",
    "\n",
    "\n",
    "\n",
    "rela_week = r'(?:(?:这|下|再下|下下|再后)(?:{}+)?(?:个)?)|(?:{}+)'.format(num_cn,num_cn)\n",
    "weekDay = r'[1-7天一二三四五六七]'\n",
    "week_unit = r'周|星期|礼拜'\n",
    "exp_week = r'(?:(?:{rw})?(?:{wu})+(?:{wd})?)+'.format(rw=rela_week,wu=week_unit,wd=weekDay)\n",
    "\n",
    "exp_ymd = r'(?:(?:{y})|(?:{m})|(?:{d})|(?:{h}))+'.format(y=year_exp,m=month_exp,d=date_exp,h=hour_exp)\n"
   ]
  },
  {
   "cell_type": "code",
   "execution_count": 168,
   "metadata": {
    "ExecuteTime": {
     "end_time": "2018-08-09T06:04:49.932318Z",
     "start_time": "2018-08-09T06:04:49.919967Z"
    }
   },
   "outputs": [
    {
     "data": {
      "text/plain": [
       "['今天']"
      ]
     },
     "execution_count": 168,
     "metadata": {},
     "output_type": "execute_result"
    }
   ],
   "source": [
    "re.findall(exp_ymd,'我')"
   ]
  },
  {
   "cell_type": "code",
   "execution_count": 226,
   "metadata": {
    "ExecuteTime": {
     "end_time": "2018-08-09T23:05:51.881801Z",
     "start_time": "2018-08-09T23:05:51.871859Z"
    }
   },
   "outputs": [
    {
     "data": {
      "text/plain": [
       "'1月10号二零年'"
      ]
     },
     "execution_count": 226,
     "metadata": {},
     "output_type": "execute_result"
    }
   ],
   "source": [
    "\n",
    "finds1 = re.findall(exp_ymd,'我下个月10号可以还')[0]\n",
    "finds2 = re.findall(exp_ymd,'我1月10号二零年可以还')[0]\n",
    "finds2"
   ]
  },
  {
   "cell_type": "markdown",
   "metadata": {},
   "source": [
    "### process year"
   ]
  },
  {
   "cell_type": "code",
   "execution_count": 297,
   "metadata": {
    "ExecuteTime": {
     "end_time": "2018-08-10T08:03:43.195600Z",
     "start_time": "2018-08-10T08:03:43.188152Z"
    }
   },
   "outputs": [],
   "source": [
    "#extract year\n",
    "\n",
    "def YearExtractor(sentence):\n",
    "    #########\n",
    "    #######define\n",
    "    \n",
    "    def Year2Exp(text):\n",
    "        \"\"\"\n",
    "        text has format of \"<x>年\"\n",
    "        output: extracted expression\n",
    "        \"\"\"\n",
    "        year_map = {'今':'?','明':'+1','后':'+2','后后':'+3',\n",
    "                    '再后':'+3','下一':'+1','下':'+1','再下一':'+2','再下':'+2'}\n",
    "        def CHN2Year(x):\n",
    "            ##TODO: more case needs to be handled\n",
    "            # case 1. digits\n",
    "            if x.isdigit():\n",
    "                # case 1.1 length is 4. eg 2017\n",
    "                if len(x) == 4:\n",
    "                    return x\n",
    "                # case 1.2 length is not 4. which may mean calcuate delta\n",
    "                else:\n",
    "                    return '+'+x\n",
    "            # needs to handle more cases\n",
    "            else:\n",
    "                return '?'\n",
    "        index = text.find('年')\n",
    "        y = None\n",
    "        if index == -1:\n",
    "            y = '?'\n",
    "        else:\n",
    "            context = text[:index]\n",
    "            # step 1. get mapping from year_map\n",
    "            if year_map.get(context) is not None:\n",
    "                y = year_map.get(context)\n",
    "            # step 2. CHN to canlender year    \n",
    "            else:\n",
    "                y = CHN2Year(context)\n",
    "        return y\n",
    "    ########################## end define ############################\n",
    "    extracted_list = re.findall(year_exp,sentence)\n",
    "    finds_list = []\n",
    "    if len(extracted_list) > 0:\n",
    "        for each in extracted_list:\n",
    "            try:\n",
    "                y = Year2Exp(each)\n",
    "            except Exception:\n",
    "                y = '?'\n",
    "            finally:\n",
    "                finds_list.append((each,y))\n",
    "    else:\n",
    "        y ='?'\n",
    "        finds_list.append((None,y))\n",
    "    return finds_list"
   ]
  },
  {
   "cell_type": "markdown",
   "metadata": {},
   "source": [
    "# Process Month"
   ]
  },
  {
   "cell_type": "code",
   "execution_count": 231,
   "metadata": {
    "ExecuteTime": {
     "end_time": "2018-08-09T23:08:25.096351Z",
     "start_time": "2018-08-09T23:08:25.085619Z"
    }
   },
   "outputs": [
    {
     "name": "stdout",
     "output_type": "stream",
     "text": [
      "下个月\n",
      "['下个月']\n"
     ]
    }
   ],
   "source": [
    "finds2 = '下个月'\n",
    "print(finds2)\n",
    "print(re.findall(month_exp,finds2))\n",
    "sentence = finds2\n",
    "year_extracted_list = re.findall(month_exp,sentence)[0]"
   ]
  },
  {
   "cell_type": "code",
   "execution_count": 291,
   "metadata": {
    "ExecuteTime": {
     "end_time": "2018-08-10T07:59:44.023194Z",
     "start_time": "2018-08-10T07:59:44.008476Z"
    }
   },
   "outputs": [],
   "source": [
    "# Month2Exp\n",
    "text = '五月'\n",
    "c = CHN2NUM()\n",
    "def MonthExtractor(sentence):\n",
    "    \"\"\"\n",
    "    extract month info and convert to expression\n",
    "    \"\"\"\n",
    "    def Month2Exp(text):\n",
    "        month_map = {'下下下':'+3','下下':'+2','再下':'+2','下':'+1'}\n",
    "        def CHN2Month(x,rela=True):\n",
    "            \"\"\"\n",
    "            CHN2Month(\"二\",rela=True)   --> +2\n",
    "            CHN2Month(\"二\",rela=False)   --> 2\n",
    "            CHN2Month(\"二十\",rela=False) --> +20\n",
    "            \"\"\"\n",
    "            if x.isdigit():\n",
    "                if int(x) > 12 or rela:\n",
    "                    return '+'+x\n",
    "                else:\n",
    "                    return x\n",
    "            # if not digit, then transform        \n",
    "            else:\n",
    "                try:\n",
    "                    x = str(c.transform(x))\n",
    "                    if int(x) > 12 or rela:\n",
    "                        x = '+'+x                \n",
    "                except Exception:\n",
    "                    x = '?'\n",
    "                finally:\n",
    "                    return x\n",
    "        index = text.find('月')\n",
    "        m = None\n",
    "        if index == -1:\n",
    "            m = '?'\n",
    "        else:\n",
    "            # step 1. get mapping from month_map\n",
    "            index_rala = text.find('个月')\n",
    "            if index_rala != -1:\n",
    "                index = index_rala\n",
    "            content = text[:index]\n",
    "            if month_map.get(content) is not None:\n",
    "                m = month_map.get(content)\n",
    "\n",
    "            # step 2. CHN to canlender month\n",
    "            else:\n",
    "                if index_rala != -1:\n",
    "                    ## process relative month logic\n",
    "                    m = CHN2Month(content,rela=True)\n",
    "                else:\n",
    "                    ## process nonrelative month logic\n",
    "                    m = CHN2Month(content,rela=False)\n",
    "        return m\n",
    "    ################## end define ############\n",
    "    extracted_list = re.findall(month_exp,sentence)\n",
    "    finds_list = []\n",
    "    if len(extracted_list) > 0:\n",
    "        for each in extracted_list:\n",
    "            try:\n",
    "                m = Month2Exp(each)\n",
    "            except Exception:\n",
    "                m = '?'\n",
    "            finally:\n",
    "                finds_list.append((each,m))\n",
    "    else:\n",
    "        m = '?'\n",
    "        finds_list.append((None,m))\n",
    "    return finds_list"
   ]
  },
  {
   "cell_type": "code",
   "execution_count": 290,
   "metadata": {
    "ExecuteTime": {
     "end_time": "2018-08-10T07:58:57.793585Z",
     "start_time": "2018-08-10T07:58:57.784435Z"
    }
   },
   "outputs": [
    {
     "data": {
      "text/plain": [
       "[('1月', '1')]"
      ]
     },
     "execution_count": 290,
     "metadata": {},
     "output_type": "execute_result"
    }
   ],
   "source": [
    "MonthExtractor('我1月就还')"
   ]
  },
  {
   "cell_type": "code",
   "execution_count": 281,
   "metadata": {
    "ExecuteTime": {
     "end_time": "2018-08-10T07:47:53.357861Z",
     "start_time": "2018-08-10T07:47:53.340911Z"
    }
   },
   "outputs": [
    {
     "data": {
      "text/plain": [
       "-1"
      ]
     },
     "execution_count": 281,
     "metadata": {},
     "output_type": "execute_result"
    }
   ],
   "source": [
    "a.find('路')"
   ]
  },
  {
   "cell_type": "code",
   "execution_count": 269,
   "metadata": {
    "ExecuteTime": {
     "end_time": "2018-08-10T07:43:18.226694Z",
     "start_time": "2018-08-10T07:43:18.218153Z"
    }
   },
   "outputs": [
    {
     "data": {
      "text/plain": [
       "'+20'"
      ]
     },
     "execution_count": 269,
     "metadata": {},
     "output_type": "execute_result"
    }
   ],
   "source": [
    "m"
   ]
  },
  {
   "cell_type": "code",
   "execution_count": 259,
   "metadata": {
    "ExecuteTime": {
     "end_time": "2018-08-10T07:39:08.342584Z",
     "start_time": "2018-08-10T07:39:08.331550Z"
    }
   },
   "outputs": [],
   "source": [
    "\n",
    "def CHN2Month(x,rela=True):\n",
    "    \"\"\"\n",
    "    CHN2Month(\"二\",rela=True)   --> +2\n",
    "    CHN2Month(\"二\",rela=False)   --> 2\n",
    "    CHN2Month(\"二十\",rela=False) --> +20\n",
    "    \"\"\"\n",
    "    if x.isdigit():\n",
    "        if int(x) > 12 or rela:\n",
    "            return '+'+x\n",
    "        else:\n",
    "            return x\n",
    "    # if not digit, then transform        \n",
    "    else:\n",
    "        try:\n",
    "            x = str(c.transform(x))\n",
    "            if int(x) > 12 or rela:\n",
    "                x = '+'+x                \n",
    "        except Exception:\n",
    "            x = '?'\n",
    "        finally:\n",
    "            return x\n",
    "  \n"
   ]
  },
  {
   "cell_type": "code",
   "execution_count": 263,
   "metadata": {
    "ExecuteTime": {
     "end_time": "2018-08-10T07:39:30.211271Z",
     "start_time": "2018-08-10T07:39:30.194995Z"
    }
   },
   "outputs": [
    {
     "data": {
      "text/plain": [
       "'+2'"
      ]
     },
     "execution_count": 263,
     "metadata": {},
     "output_type": "execute_result"
    }
   ],
   "source": [
    "CHN2Month('二',True)"
   ]
  },
  {
   "cell_type": "code",
   "execution_count": null,
   "metadata": {},
   "outputs": [],
   "source": []
  },
  {
   "cell_type": "code",
   "execution_count": null,
   "metadata": {},
   "outputs": [],
   "source": []
  },
  {
   "cell_type": "code",
   "execution_count": null,
   "metadata": {},
   "outputs": [],
   "source": []
  },
  {
   "cell_type": "code",
   "execution_count": null,
   "metadata": {},
   "outputs": [],
   "source": [
    "rela_month = r'(?:下下下|下下|再下|下|(?:{}+))(?:个)?月'.format(num_cn)\n"
   ]
  },
  {
   "cell_type": "code",
   "execution_count": 3,
   "metadata": {
    "ExecuteTime": {
     "end_time": "2018-08-10T08:05:03.083153Z",
     "start_time": "2018-08-10T08:05:03.053266Z"
    }
   },
   "outputs": [],
   "source": [
    "class CHN2NUM:\n",
    "    def __init__(self):\n",
    "        self.CN_NUM = {\n",
    "    '〇' : 0, '一' : 1, '二' : 2, '三' : 3, '四' : 4, '五' : 5, '六' : 6, '七' : 7, '八' : 8, '九' : 9, '零' : 0,\n",
    "    '壹' : 1, '贰' : 2, '叁' : 3, '肆' : 4, '伍' : 5, '陆' : 6, '柒' : 7, '捌' : 8, '玖' : 9, '貮' : 2, '两' : 2\n",
    "}\n",
    "\n",
    "        for i in range(10):\n",
    "            self.CN_NUM[str(i)] = i\n",
    "        self.CN_UNIT = {\n",
    "                            '十' : 10,\n",
    "                            '拾' : 10,\n",
    "                            '百' : 100,\n",
    "                            '佰' : 100,\n",
    "                            '千' : 1000,\n",
    "                            '仟' : 1000,\n",
    "                            '万' : 10000,\n",
    "                            '萬' : 10000,\n",
    "                            '亿' : 100000000,\n",
    "                            '億' : 100000000,\n",
    "                            '兆' : 1000000000000,\n",
    "                        }\n",
    "\n",
    "    def transform(self,cn:str):\n",
    "        unit = 0   # current\n",
    "        ldig = []  # digest\n",
    "        for cndig in reversed(cn):\n",
    "            if cndig in self.CN_UNIT:\n",
    "                unit = self.CN_UNIT.get(cndig)\n",
    "                if unit == 10000 or unit == 100000000:\n",
    "                    ldig.append(unit)\n",
    "                    unit = 1\n",
    "            else:\n",
    "                dig = self.CN_NUM.get(cndig)\n",
    "                if unit:\n",
    "                    dig *= unit\n",
    "                    unit = 0\n",
    "                ldig.append(dig)\n",
    "        if unit == 10:\n",
    "            ldig.append(10)\n",
    "        val, tmp = 0, 0\n",
    "        for x in reversed(ldig):\n",
    "            if x == 10000 or x == 100000000:\n",
    "                val += tmp * x\n",
    "                tmp = 0\n",
    "            else:\n",
    "                tmp += x\n",
    "        val += tmp\n",
    "        return val\n",
    "\n",
    "\n",
    "class ReExtractor:\n",
    "    def __init__(self):\n",
    "        self.CN2NUM = CHN2NUM()\n",
    "        self.num_cn = r'[一二三四五六七八九十零〇两百千0-9]'\n",
    "        \n",
    "        self.year_rela_exp = r'(?:今|明|后|后后|再后|下一|再下一|下|再下|(?:{}))年'.format(self.num_cn)\n",
    "        self.year_fix_exp = r'(?:{}+)年'.format(self.num_cn)\n",
    "        self.year_exp = r'(?:{}|{})'.format(self.year_rela_exp,self.year_fix_exp)\n",
    "        \n",
    "        self.month_rela_exp = r'(?:下下下|下下|再下|下|(?:{}+))(?:个)?月'.format(self.num_cn)\n",
    "        self.month_fix_exp = r'(?:{}+)月'.format(self.num_cn)\n",
    "        self.month_exp = r'(?:{}|{})'.format(self.month_rela_exp,self.month_fix_exp)\n",
    "\n",
    "\n",
    "        self.date_rela_exp = '(?:今|明|后|大后|大大后|再后|(?:{})+)天'.format(self.num_cn)\n",
    "        self.date_descrip_exp = r'(?:上旬|中旬|下旬|月初|月中|月末|初|中|底|末)'\n",
    "        self.date_fix_exp = r'(?:(?:{}+)(?:日|号))|{}'.format(self.num_cn,self.date_descrip_exp)\n",
    "        self.date_exp = r'(?:{}|{})'.format(self.date_rela_exp,self.date_fix_exp)\n",
    "\n",
    "        \n",
    "\n",
    "        self.hour_rela_exp= r'(?:{}+)小时'.format(self.num_cn)\n",
    "        self.hour_descrip_exp = r'早晨|凌晨|早上|半夜|中午|下午|傍晚|晚上|清晨|午后'\n",
    "        self.minute_descrip_exp = r'(?:一刻|半|过)|(?:{}+)'.format(self.num_cn)\n",
    "        self.hour_fix_exp= r'(?:{})|(?:(?:{}+)点(?:{})*)'.format(self.hour_descrip_exp,\n",
    "                                                                   self.num_cn,\n",
    "                                                                   self.minute_descrip_exp)\n",
    "        self.hour_exp = r'(?:{}|{})'.format(self.hour_rela_exp,self.hour_fix_exp)\n",
    "\n",
    "\n",
    "\n",
    "        self.week_rela_exp = r'(?:(?:这|下|再下|下下|再后)(?:{}+)?(?:个)?)|(?:{}+)'.format(self.num_cn,self.num_cn)\n",
    "        self.weekDay_exp = r'[1-7天一二三四五六七]'\n",
    "        self.week_unit = r'周|星期|礼拜'\n",
    "        self.exp_week = r'(?:(?:{rw})?(?:{wu})+(?:{wd})?)+'.format(rw=self.week_rela_exp,\n",
    "                                                                   wu=self.week_unit,\n",
    "                                                                   wd=self.weekDay_exp)\n",
    "\n",
    "        self.exp_ymd = r'(?:(?:{y})|(?:{m})|(?:{d})|(?:{h}))+'.format(y=self.year_exp,\n",
    "                                                                      m=self.month_exp,\n",
    "                                                                      d=self.date_exp,\n",
    "                                                                      h=self.hour_exp)\n",
    "        \n",
    "    def YearExtractor(self,sentence):\n",
    "        \"\"\"\n",
    "        this function will return a list of year it can extract\n",
    "        \"\"\"\n",
    "        #########\n",
    "        #######define\n",
    "        \n",
    "        def Year2Exp(text):\n",
    "            \"\"\"\n",
    "            text has format of \"<x>年\"\n",
    "            output: extracted expression\n",
    "            \"\"\"\n",
    "            year_map = {'今':'?','明':'+1','后':'+2','后后':'+3',\n",
    "                        '再后':'+3','下一':'+1','下':'+1','再下一':'+2','再下':'+2'}\n",
    "            def CHN2Year(x):\n",
    "                ##TODO: more case needs to be handled\n",
    "                # case 1. digits\n",
    "                if x.isdigit():\n",
    "                    # case 1.1 length is 4. eg 2017\n",
    "                    if len(x) == 4:\n",
    "                        return x\n",
    "                    # case 1.2 length is not 4. which may mean calcuate delta\n",
    "                    else:\n",
    "                        return '+'+x\n",
    "                # needs to handle more cases\n",
    "                else:\n",
    "                    return '?'\n",
    "            index = text.find('年')\n",
    "            y = None\n",
    "            if index == -1:\n",
    "                y = '?'\n",
    "            else:\n",
    "                context = text[:index]\n",
    "                # step 1. get mapping from year_map\n",
    "                if year_map.get(context) is not None:\n",
    "                    y = year_map.get(context)\n",
    "                # step 2. CHN to canlender year    \n",
    "                else:\n",
    "                    y = CHN2Year(context)\n",
    "            return y\n",
    "        ########################## end define ############################\n",
    "        extracted_list = re.findall(self.year_exp,sentence)\n",
    "        finds_list = []\n",
    "        if len(extracted_list) > 0:\n",
    "            for each in extracted_list:\n",
    "                try:\n",
    "                    y = Year2Exp(each)\n",
    "                except Exception:\n",
    "                    y = '?'\n",
    "                finally:\n",
    "                    finds_list.append((each,y))\n",
    "        else:\n",
    "            y = '?'\n",
    "            finds_list.append((None,y))\n",
    "        return finds_list \n",
    "    \n",
    "    def MonthExtractor(self,sentence):\n",
    "        \"\"\"\n",
    "        extract month info and convert to expression\n",
    "        \"\"\"\n",
    "        def Month2Exp(text):\n",
    "            month_map = {'下下下':'+3','下下':'+2','再下':'+2','下':'+1'}\n",
    "            def CHN2Month(x,rela=True):\n",
    "                \"\"\"\n",
    "                CHN2Month(\"二\",rela=True)   --> +2\n",
    "                CHN2Month(\"二\",rela=False)   --> 2\n",
    "                CHN2Month(\"二十\",rela=False) --> +20\n",
    "                \"\"\"\n",
    "                if x.isdigit():\n",
    "                    if int(x) > 12 or rela:\n",
    "                        return '+'+x\n",
    "                    else:\n",
    "                        return x\n",
    "                # if not digit, then transform        \n",
    "                else:\n",
    "                    try:\n",
    "                        x = str(self.CHN2NUM.transform(x))\n",
    "                        if int(x) > 12 or rela:\n",
    "                            x = '+'+x                \n",
    "                    except Exception:\n",
    "                        x = '?'\n",
    "                    finally:\n",
    "                        return x\n",
    "            index = text.find('月')\n",
    "            m = None\n",
    "            if index == -1:\n",
    "                m = '?'\n",
    "            else:\n",
    "                # step 1. get mapping from month_map\n",
    "                index_rala = text.find('个月')\n",
    "                if index_rala != -1:\n",
    "                    index = index_rala\n",
    "                content = text[:index]\n",
    "                if month_map.get(content) is not None:\n",
    "                    m = month_map.get(content)\n",
    "\n",
    "                # step 2. CHN to canlender month\n",
    "                else:\n",
    "                    if index_rala != -1:\n",
    "                        ## process relative month logic\n",
    "                        m = CHN2Month(content,rela=True)\n",
    "                    else:\n",
    "                        ## process nonrelative month logic\n",
    "                        m = CHN2Month(content,rela=False)\n",
    "            return m\n",
    "        ################## end define ############\n",
    "        extracted_list = re.findall(self.month_exp,sentence)\n",
    "        finds_list = []\n",
    "        if len(extracted_list) > 0:\n",
    "            for each in extracted_list:\n",
    "                try:\n",
    "                    m = Month2Exp(each)\n",
    "                except Exception:\n",
    "                    m = '?'\n",
    "                finally:\n",
    "                    finds_list.append((each,m))\n",
    "        else:\n",
    "            m = '?'\n",
    "            finds_list.append((None,m))\n",
    "        return finds_list\n",
    "        "
   ]
  },
  {
   "cell_type": "code",
   "execution_count": 4,
   "metadata": {
    "ExecuteTime": {
     "end_time": "2018-08-10T08:05:04.336101Z",
     "start_time": "2018-08-10T08:05:04.324931Z"
    }
   },
   "outputs": [],
   "source": [
    "r = ReExtractor()"
   ]
  },
  {
   "cell_type": "code",
   "execution_count": 5,
   "metadata": {
    "ExecuteTime": {
     "end_time": "2018-08-10T08:05:05.467948Z",
     "start_time": "2018-08-10T08:05:05.449784Z"
    }
   },
   "outputs": [
    {
     "data": {
      "text/plain": [
       "[('2年', '+2')]"
      ]
     },
     "execution_count": 5,
     "metadata": {},
     "output_type": "execute_result"
    }
   ],
   "source": [
    "\n",
    "r.YearExtractor('2年以后')"
   ]
  },
  {
   "cell_type": "code",
   "execution_count": 8,
   "metadata": {
    "ExecuteTime": {
     "end_time": "2018-08-10T08:05:37.986332Z",
     "start_time": "2018-08-10T08:05:35.366551Z"
    }
   },
   "outputs": [
    {
     "name": "stdout",
     "output_type": "stream",
     "text": [
      "3 µs ± 65.6 ns per loop (mean ± std. dev. of 7 runs, 100000 loops each)\n"
     ]
    }
   ],
   "source": [
    "%%timeit\n",
    "r.MonthExtractor('2年2个月以后')"
   ]
  },
  {
   "cell_type": "code",
   "execution_count": null,
   "metadata": {},
   "outputs": [],
   "source": []
  }
 ],
 "metadata": {
  "kernelspec": {
   "display_name": "Python 3",
   "language": "python",
   "name": "python3"
  },
  "language_info": {
   "codemirror_mode": {
    "name": "ipython",
    "version": 3
   },
   "file_extension": ".py",
   "mimetype": "text/x-python",
   "name": "python",
   "nbconvert_exporter": "python",
   "pygments_lexer": "ipython3",
   "version": "3.6.5"
  },
  "varInspector": {
   "cols": {
    "lenName": 16,
    "lenType": 16,
    "lenVar": 40
   },
   "kernels_config": {
    "python": {
     "delete_cmd_postfix": "",
     "delete_cmd_prefix": "del ",
     "library": "var_list.py",
     "varRefreshCmd": "print(var_dic_list())"
    },
    "r": {
     "delete_cmd_postfix": ") ",
     "delete_cmd_prefix": "rm(",
     "library": "var_list.r",
     "varRefreshCmd": "cat(var_dic_list()) "
    }
   },
   "types_to_exclude": [
    "module",
    "function",
    "builtin_function_or_method",
    "instance",
    "_Feature"
   ],
   "window_display": false
  }
 },
 "nbformat": 4,
 "nbformat_minor": 2
}
