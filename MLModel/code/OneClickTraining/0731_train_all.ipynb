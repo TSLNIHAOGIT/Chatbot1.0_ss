{
 "cells": [
  {
   "cell_type": "code",
   "execution_count": 1,
   "metadata": {
    "ExecuteTime": {
     "end_time": "2018-07-31T21:37:56.598671Z",
     "start_time": "2018-07-31T21:37:55.702607Z"
    }
   },
   "outputs": [
    {
     "name": "stdout",
     "output_type": "stream",
     "text": [
      "../../../classifier/models/ml_models/../time_pattern/../../env/\n"
     ]
    }
   ],
   "source": [
    "from sklearn.feature_extraction.text import CountVectorizer, TfidfVectorizer, TfidfTransformer\n",
    "from sklearn.calibration import CalibratedClassifierCV\n",
    "from sklearn.svm import LinearSVC\n",
    "from sklearn.linear_model import LogisticRegression\n",
    "from sklearn import preprocessing\n",
    "from sklearn.preprocessing import MultiLabelBinarizer\n",
    "from sklearn.naive_bayes import MultinomialNB\n",
    "\n",
    "\n",
    "import sys,os\n",
    "models_path = '../../../classifier/models/ml_models/'\n",
    "sys.path.append(models_path)\n",
    "from ml import *\n",
    "\n",
    "\n",
    "\n",
    "model_list = {'IDClassifier':IDClassifier, \n",
    "                  'CutDebt':CutDebt, \n",
    "                  'WillingToPay':WillingToPay,\n",
    "                  'IfKnowDebtor':IfKnowDebtor,\n",
    "                  'Installment':Installment,\n",
    "                  'ConfirmLoan':ConfirmLoan}"
   ]
  },
  {
   "cell_type": "code",
   "execution_count": 7,
   "metadata": {
    "ExecuteTime": {
     "end_time": "2018-07-31T19:07:11.346788Z",
     "start_time": "2018-07-31T19:07:11.286503Z"
    }
   },
   "outputs": [
    {
     "name": "stdout",
     "output_type": "stream",
     "text": [
      "(3950, 2)\n",
      "(1408, 8)\n",
      "(16, 9)\n"
     ]
    }
   ],
   "source": [
    "#encoding=utf-8\n",
    "import pandas as pd\n",
    "import numpy as np\n",
    "import re\n",
    "import string\n",
    "\n",
    "import jieba\n",
    "jieba.load_userdict(\"../../code/WordCut/userdict.txt\")\n",
    "\n",
    "import gc\n",
    "import pickle\n",
    "path = '../../data/others/'\n",
    "\n",
    "# load cleaned other data\n",
    "other_non109 = pd.read_csv('../../data/others/cleaned_mock_up_data_non109.csv')\n",
    "other_109 = pd.read_csv('../../data/others/cleaned_mock_up_data_109.csv')\n",
    "strategy_mat = pd.read_csv(path + 'strategy_mat.csv', encoding='utf8')\n",
    "\n",
    "print(other_non109.shape)\n",
    "print(other_109.shape)\n",
    "print(strategy_mat.shape)"
   ]
  },
  {
   "cell_type": "code",
   "execution_count": 8,
   "metadata": {
    "ExecuteTime": {
     "end_time": "2018-07-31T19:07:12.266070Z",
     "start_time": "2018-07-31T19:07:12.251159Z"
    }
   },
   "outputs": [],
   "source": [
    "def get_other_data(df_non109,df_109,strategy_mat,classifier):\n",
    "    possible_label = sorted(list(set(strategy_mat[strategy_mat[classifier]==0]['label'].values)))\n",
    "    train_data_non109 = df_non109[df_non109['label'].apply(lambda x: x in possible_label)]\n",
    "    train_data_109 = df_109[df_109[classifier]==0]\n",
    "    data = pd.concat([train_data_non109,train_data_109],ignore_index=True,sort=True)\n",
    "    return data\n",
    "\n",
    "def train_other_model(other_data,save_path,model):\n",
    "    phrase_vectorizer_other = TfidfVectorizer(ngram_range=(1,3),\n",
    "                                strip_accents='unicode', \n",
    "                                max_features=100000, \n",
    "                                analyzer='word',\n",
    "                                sublinear_tf=True,\n",
    "                                token_pattern=r'\\w{1,}')\n",
    "\n",
    "    print('fitting phrase')\n",
    "    phrase_vectorizer_other.fit(other_data.text)\n",
    "\n",
    "    print('transform phrase')\n",
    "    phrase = phrase_vectorizer_other.transform(other_data.text)\n",
    "\n",
    "\n",
    "    # linear svc\n",
    "    l_svc = LinearSVC()\n",
    "    lsvc = CalibratedClassifierCV(l_svc) \n",
    "    lsvc.fit(phrase, other_data.label)\n",
    "\n",
    "\n",
    "    # logistic\n",
    "    log_r = LogisticRegression()\n",
    "    log_r.fit(phrase, other_data.label)\n",
    "\n",
    "\n",
    "    # Naive Bayes\n",
    "    naive_b = MultinomialNB()\n",
    "    naive_b.fit(phrase, other_data.label)\n",
    "    \n",
    "    print('finish training others')\n",
    "    \n",
    "    \n",
    "    # other wrapper \n",
    "    other_model = ClassifierOther(svc=lsvc, logistic=log_r, nb=naive_b, tfidf=phrase_vectorizer_other, jieba_path='../WordCut/userdict.txt',possible_label=lsvc.classes_)\n",
    "    \n",
    "    # Saving:\n",
    "    evl_path = save_path.format(model,model)\n",
    "    print('saving to path: {}'.format(evl_path))\n",
    "    pickle.dump(other_model, open(evl_path, \"wb\"))\n",
    "    return other_model\n",
    "    \n",
    "    \n",
    "def train_main_model(df,save_path,model,other_model):\n",
    "    # get tfidf\n",
    "    \n",
    "    phrase_vectorizer = TfidfVectorizer(ngram_range=(1,3),\n",
    "                                    strip_accents='unicode', \n",
    "                                    max_features=100000, \n",
    "                                    analyzer='word',\n",
    "                                    sublinear_tf=True,\n",
    "                                    token_pattern=r'\\w{1,}')\n",
    "\n",
    "    print('fitting phrase')\n",
    "    phrase_vectorizer.fit(df.split_text)\n",
    "\n",
    "    print('transform phrase')\n",
    "    phrase = phrase_vectorizer.transform(df.split_text)\n",
    "    \n",
    "    # linear svc\n",
    "    l_svc = LinearSVC()\n",
    "    lsvc = CalibratedClassifierCV(l_svc) \n",
    "    lsvc.fit(phrase, df.label)\n",
    "    \n",
    "    \n",
    "    # logistic\n",
    "    log_r = LogisticRegression()\n",
    "    log_r.fit(phrase, df.label)\n",
    "    \n",
    "    \n",
    "    # Naive Bayes\n",
    "    naive_b = MultinomialNB()\n",
    "    naive_b.fit(phrase, df.label)\n",
    "    print('finish training')\n",
    "    \n",
    "    main_model = model_list[model](svc=lsvc, logistic=log_r, nb=naive_b, tfidf=phrase_vectorizer, other=other_model,  jieba_path='../WordCut/userdict.txt')\n",
    "    evl_path = save_path.format(model,model)\n",
    "    pickle.dump(main_model, open(evl_path, \"wb\"))\n",
    "    print('saving to path: {}'.format(evl_path))\n",
    "    return main_model\n",
    "    \n",
    "    "
   ]
  },
  {
   "cell_type": "markdown",
   "metadata": {},
   "source": [
    "# Train Other Model + Main Model"
   ]
  },
  {
   "cell_type": "code",
   "execution_count": 10,
   "metadata": {
    "ExecuteTime": {
     "end_time": "2018-07-31T19:08:06.135509Z",
     "start_time": "2018-07-31T19:07:54.855195Z"
    }
   },
   "outputs": [
    {
     "name": "stdout",
     "output_type": "stream",
     "text": [
      "fitting phrase\n",
      "transform phrase\n",
      "finish training others\n",
      "saving to path: ../../../classifier/saved_model/IDClassifier/other_flow/IDClassifier.pkl\n",
      "=====  IDClassifier =======\n",
      "2    3486\n",
      "1    1234\n",
      "0    1133\n",
      "Name: label, dtype: int64\n",
      "fitting phrase\n",
      "transform phrase\n",
      "finish training\n",
      "saving to path: ../../../classifier/saved_model/IDClassifier/main_flow/IDClassifier.pkl\n",
      "\n",
      "\n",
      "fitting phrase\n",
      "transform phrase\n",
      "finish training others\n",
      "saving to path: ../../../classifier/saved_model/CutDebt/other_flow/CutDebt.pkl\n",
      "=====  CutDebt =======\n",
      "2    4698\n",
      "0    3623\n",
      "1    2327\n",
      "Name: label, dtype: int64\n",
      "fitting phrase\n",
      "transform phrase\n",
      "finish training\n",
      "Time Zone is set from ENV: Asia/Shanghai\n",
      "saving to path: ../../../classifier/saved_model/CutDebt/main_flow/CutDebt.pkl\n",
      "\n",
      "\n",
      "fitting phrase\n",
      "transform phrase\n",
      "finish training others\n",
      "saving to path: ../../../classifier/saved_model/WillingToPay/other_flow/WillingToPay.pkl\n",
      "=====  WillingToPay =======\n",
      "3    4576\n",
      "1    2620\n",
      "0    1778\n",
      "2    1038\n",
      "Name: label, dtype: int64\n",
      "fitting phrase\n",
      "transform phrase\n",
      "finish training\n",
      "Time Zone is set from ENV: Asia/Shanghai\n",
      "saving to path: ../../../classifier/saved_model/WillingToPay/main_flow/WillingToPay.pkl\n",
      "\n",
      "\n",
      "fitting phrase\n",
      "transform phrase\n",
      "finish training others\n",
      "saving to path: ../../../classifier/saved_model/IfKnowDebtor/other_flow/IfKnowDebtor.pkl\n",
      "=====  IfKnowDebtor =======\n",
      "2    3468\n",
      "0    1363\n",
      "1    1184\n",
      "Name: label, dtype: int64\n",
      "fitting phrase\n",
      "transform phrase\n",
      "finish training\n",
      "saving to path: ../../../classifier/saved_model/IfKnowDebtor/main_flow/IfKnowDebtor.pkl\n",
      "\n",
      "\n",
      "fitting phrase\n",
      "transform phrase\n",
      "finish training others\n",
      "saving to path: ../../../classifier/saved_model/Installment/other_flow/Installment.pkl\n",
      "=====  Installment =======\n",
      "2    4703\n",
      "0    3623\n",
      "1    2379\n",
      "Name: label, dtype: int64\n",
      "fitting phrase\n",
      "transform phrase\n",
      "finish training\n",
      "Time Zone is set from ENV: Asia/Shanghai\n",
      "saving to path: ../../../classifier/saved_model/Installment/main_flow/Installment.pkl\n",
      "\n",
      "\n",
      "fitting phrase\n",
      "transform phrase\n",
      "finish training others\n",
      "saving to path: ../../../classifier/saved_model/ConfirmLoan/other_flow/ConfirmLoan.pkl\n",
      "=====  ConfirmLoan =======\n",
      "2    3345\n",
      "0     713\n",
      "1     548\n",
      "Name: label, dtype: int64\n",
      "fitting phrase\n",
      "transform phrase\n",
      "finish training\n",
      "Time Zone is set from ENV: Asia/Shanghai\n",
      "saving to path: ../../../classifier/saved_model/ConfirmLoan/main_flow/ConfirmLoan.pkl\n",
      "\n",
      "\n"
     ]
    }
   ],
   "source": [
    "# each_model = 'IDClassifier' \n",
    "save_path_other = '../../../classifier/saved_model/{}/other_flow/{}.pkl'\n",
    "save_path_main = '../../../classifier/saved_model/{}/main_flow/{}.pkl'\n",
    "for each_model in model_list:\n",
    "    other_data = get_other_data(other_non109,other_109,strategy_mat,each_model)\n",
    "    other_data = other_data.sample(frac=1,random_state=19)\n",
    "\n",
    "    other_model = train_other_model(other_data,save_path_other,each_model)\n",
    "\n",
    "    # train main\n",
    "    df_main = pd.read_csv('../../data/{}/cleaned_mock_up_data.csv'.format(each_model))\n",
    "    other_label = int(max(set(df_main.label)) + 1)\n",
    "    ava_others = other_data.rename({'text':'split_text'},axis=1)\n",
    "    ava_others['label'] = other_label\n",
    "    df_main = pd.concat([df_main,ava_others],sort=True)\n",
    "    df_main = df_main.sample(frac=1,random_state=6).reset_index(drop=True)\n",
    "    print('=====  {} ======='.format(each_model))\n",
    "    print(df_main.label.value_counts())\n",
    "    clf = train_main_model(df_main,save_path_main,each_model,other_model)\n",
    "    print('\\n')"
   ]
  },
  {
   "cell_type": "code",
   "execution_count": null,
   "metadata": {},
   "outputs": [],
   "source": []
  }
 ],
 "metadata": {
  "kernelspec": {
   "display_name": "Python 3",
   "language": "python",
   "name": "python3"
  },
  "language_info": {
   "codemirror_mode": {
    "name": "ipython",
    "version": 3
   },
   "file_extension": ".py",
   "mimetype": "text/x-python",
   "name": "python",
   "nbconvert_exporter": "python",
   "pygments_lexer": "ipython3",
   "version": "3.6.5"
  },
  "varInspector": {
   "cols": {
    "lenName": 16,
    "lenType": 16,
    "lenVar": 40
   },
   "kernels_config": {
    "python": {
     "delete_cmd_postfix": "",
     "delete_cmd_prefix": "del ",
     "library": "var_list.py",
     "varRefreshCmd": "print(var_dic_list())"
    },
    "r": {
     "delete_cmd_postfix": ") ",
     "delete_cmd_prefix": "rm(",
     "library": "var_list.r",
     "varRefreshCmd": "cat(var_dic_list()) "
    }
   },
   "types_to_exclude": [
    "module",
    "function",
    "builtin_function_or_method",
    "instance",
    "_Feature"
   ],
   "window_display": false
  }
 },
 "nbformat": 4,
 "nbformat_minor": 2
}
