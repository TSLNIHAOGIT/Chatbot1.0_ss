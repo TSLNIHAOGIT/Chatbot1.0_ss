{
 "cells": [
  {
   "cell_type": "code",
   "execution_count": 3,
   "metadata": {
    "ExecuteTime": {
     "end_time": "2018-06-23T03:22:56.028701Z",
     "start_time": "2018-06-23T03:22:56.024175Z"
    },
    "collapsed": true
   },
   "outputs": [],
   "source": [
    "import pandas as pd\n",
    "import numpy as np\n",
    "import re\n",
    "import datetime as dt\n"
   ]
  },
  {
   "cell_type": "code",
   "execution_count": 23,
   "metadata": {
    "ExecuteTime": {
     "end_time": "2018-06-23T04:12:26.065552Z",
     "start_time": "2018-06-23T04:12:26.056800Z"
    },
    "collapsed": true
   },
   "outputs": [],
   "source": [
    "data = [{'key_word':'明天', \n",
    "         'yy': -1, 'mm':-1,'dd':-1,'H':-1,'M':-1,'W':-1,'w':-1,\n",
    "        'dyy':-1,'dmm':-1,'ddd':1,'dH':-1,'dM':-1,'dW':-1,},\n",
    "        {'key_word':'下周一', \n",
    "         'yy': -1, 'mm':-1,'dd':-1,'H':-1,'M':-1,'W':-1,'w':1,\n",
    "        'dyy':-1,'dmm':-1,'ddd':1,'dH':-1,'dM':-1,'dW':1,},]\n",
    "# yy - year\n",
    "# mm - month\n",
    "# dd - day of month\n",
    "# Hour\n",
    "# M minute\n",
    "# W week of a year\n",
    "# day in a week"
   ]
  },
  {
   "cell_type": "code",
   "execution_count": 92,
   "metadata": {
    "ExecuteTime": {
     "end_time": "2018-06-24T01:12:59.117756Z",
     "start_time": "2018-06-24T01:12:59.107277Z"
    },
    "collapsed": true
   },
   "outputs": [],
   "source": [
    "data = [{'key_word':'明天', \n",
    "         'expression':'?y-?m-+1d-12H:00M:00S'},\n",
    "        {'key_word':'下周一', \n",
    "         'expression':'?y-+1W-1w-12H:00M:00S'},]\n",
    "\n",
    "df = pd.DataFrame(data).set_index('key_word')\n",
    "t1 = df.T.to_dict()['明天']\n",
    "t2 = df.T.to_dict()['下周一']"
   ]
  },
  {
   "cell_type": "code",
   "execution_count": 107,
   "metadata": {
    "ExecuteTime": {
     "end_time": "2018-06-24T01:27:09.931411Z",
     "start_time": "2018-06-24T01:27:09.902984Z"
    }
   },
   "outputs": [],
   "source": [
    "# yy - year\n",
    "# mm - month\n",
    "# dd - day of month\n",
    "# Hour\n",
    "# M minute\n",
    "# W week of a year\n",
    "# day in a week\n",
    "\n",
    "# check week\n",
    "current = dt.datetime.now()\n",
    "y = current.year\n",
    "m = current.month\n",
    "W,w = current.isocalendar()[1:] \n",
    "expression = t2['expression']\n",
    "\n",
    "exp_week = re.findall(r'-.+W-.+w',expression)\n",
    "exp_ymd = re.findall(r'.+y-.+m.+d',expression)\n",
    "\n",
    "\n",
    "\n",
    "if exp_week:\n",
    "    #1. process week:\n",
    "    expression = pros_week(expression, W)\n",
    "    expression = pros_year(expression, y)\n",
    "    \n",
    "elif exp_ymd:\n",
    "    pass\n",
    "\n",
    "\n",
    "    \n",
    "# processing year\n",
    "\n",
    "\n"
   ]
  },
  {
   "cell_type": "code",
   "execution_count": 108,
   "metadata": {
    "ExecuteTime": {
     "end_time": "2018-06-24T01:27:13.455559Z",
     "start_time": "2018-06-24T01:27:13.445968Z"
    }
   },
   "outputs": [
    {
     "data": {
      "text/plain": [
       "'2018y-26W-1w-12H:00M:00S'"
      ]
     },
     "execution_count": 108,
     "metadata": {},
     "output_type": "execute_result"
    }
   ],
   "source": [
    "expression"
   ]
  },
  {
   "cell_type": "markdown",
   "metadata": {},
   "source": [
    "## Process Week"
   ]
  },
  {
   "cell_type": "code",
   "execution_count": 94,
   "metadata": {
    "ExecuteTime": {
     "end_time": "2018-06-24T01:13:31.441700Z",
     "start_time": "2018-06-24T01:13:31.422825Z"
    }
   },
   "outputs": [
    {
     "data": {
      "text/plain": [
       "'?y-26W-1w-12H:00M:00S'"
      ]
     },
     "execution_count": 94,
     "metadata": {},
     "output_type": "execute_result"
    }
   ],
   "source": [
    "def pros_week(expression, W):\n",
    "    reexp = r'-.+W'\n",
    "    extract = re.findall(reexp,expression)[0][1:-1]\n",
    "    if extract == '?':\n",
    "        rep = str(W)\n",
    "        expression = re.sub(reexp, '-'+rep+'W',expression)\n",
    "    elif extract[0] == '+':\n",
    "        rep = str(W + int(extract[1:]))\n",
    "        expression = re.sub(reexp, '-'+rep+'W',expression)\n",
    "    elif extract[0] == '-':\n",
    "        rep = str(W - int(extract[1:]))\n",
    "        expression = re.sub(reexp, '-'+rep+'W',expression)\n",
    "    return expression\n",
    "expression = t2['expression']\n",
    "pros_week(expression, W)"
   ]
  },
  {
   "cell_type": "markdown",
   "metadata": {},
   "source": [
    "## Process Year"
   ]
  },
  {
   "cell_type": "code",
   "execution_count": 200,
   "metadata": {
    "ExecuteTime": {
     "end_time": "2018-06-25T02:14:20.768109Z",
     "start_time": "2018-06-25T02:14:20.737920Z"
    }
   },
   "outputs": [
    {
     "name": "stdout",
     "output_type": "stream",
     "text": [
      "?y-\n"
     ]
    },
    {
     "data": {
      "text/plain": [
       "'2018y-?m-+1d-12H:00M:?S'"
      ]
     },
     "execution_count": 200,
     "metadata": {},
     "output_type": "execute_result"
    }
   ],
   "source": [
    "expression = '?y-?m-+1d-12H:00M:?S'\n",
    "def pros_year(expression, current):\n",
    "    y = current.year\n",
    "    reexp = r'.+y-'\n",
    "    extract = re.findall(reexp,expression)[0]\n",
    "    if extract[0:-2] == '?':\n",
    "        rep = str(y)\n",
    "        expression = re.sub(reexp, rep+extract[-2:],expression)\n",
    "    elif extract[0] == '+':\n",
    "        rep = str(y + int(extract[1:-2]))\n",
    "        print(rep)\n",
    "        expression = re.sub(reexp, rep+extract[-2:],expression)\n",
    "    elif extract[0] == '-':\n",
    "        rep = str(y - int(extract[1:-2]))\n",
    "        expression = re.sub(reexp, rep+extract[-2:],expression)\n",
    "    return expression\n",
    "pros_year(expression, current)"
   ]
  },
  {
   "cell_type": "markdown",
   "metadata": {},
   "source": [
    "## Processing second"
   ]
  },
  {
   "cell_type": "code",
   "execution_count": 190,
   "metadata": {
    "ExecuteTime": {
     "end_time": "2018-06-25T02:10:06.845503Z",
     "start_time": "2018-06-25T02:10:06.813057Z"
    }
   },
   "outputs": [
    {
     "data": {
      "text/plain": [
       "'?y-?m-+1d-12H:00M:41S'"
      ]
     },
     "execution_count": 190,
     "metadata": {},
     "output_type": "execute_result"
    }
   ],
   "source": [
    "\n",
    "#1. process seconds\n",
    "\n",
    "def pros_second(expression, current):\n",
    "    S = current.second\n",
    "    reexp = r'M:.+S'\n",
    "    extract = re.findall(reexp,expression)[0]\n",
    "    if extract[2:-1] == '?':\n",
    "        rep = str(S)\n",
    "        expression = re.sub(reexp, extract[:2]+rep+extract[-1],expression)\n",
    "    elif extract[2] == '+':\n",
    "        gap = int(extract[1:])\n",
    "        expression = current + dt.timedelta(seconds=gap) \n",
    "    elif extract[2] == '-':\n",
    "        gap = int(extract[1:])\n",
    "        expression = current - dt.timedelta(seconds=gap)\n",
    "    else:\n",
    "        pass\n",
    "    return expression\n",
    "pros_second(expression, current)"
   ]
  },
  {
   "cell_type": "markdown",
   "metadata": {},
   "source": [
    "## Processing Minutes"
   ]
  },
  {
   "cell_type": "code",
   "execution_count": 182,
   "metadata": {
    "ExecuteTime": {
     "end_time": "2018-06-25T02:02:53.270554Z",
     "start_time": "2018-06-25T02:02:53.243307Z"
    }
   },
   "outputs": [
    {
     "data": {
      "text/plain": [
       "datetime.datetime(2018, 6, 25, 2, 5, 41, 524806)"
      ]
     },
     "execution_count": 182,
     "metadata": {},
     "output_type": "execute_result"
    }
   ],
   "source": [
    "expression = '?y-?m-+1d-12H:+20M:00S'\n",
    "#1. process seconds\n",
    "\n",
    "def pros_minute(expression, current):\n",
    "    M = current.minute\n",
    "    reexp = r'H:.+M'\n",
    "    extract = re.findall(reexp,expression)[0][2:-1]\n",
    "    if extract == '?':\n",
    "        rep = str(M)\n",
    "        expression = re.sub(reexp, extract[:2]+rep+extract[-1],expression)\n",
    "    elif extract[0] == '+':\n",
    "        gap = int(extract[1:])\n",
    "        expression = current + dt.timedelta(minutes=gap) \n",
    "    elif extract[0] == '-':\n",
    "        gap = int(extract[1:])\n",
    "        expression = current - dt.timedelta(minutes=gap)\n",
    "    else:\n",
    "        pass\n",
    "    return expression\n",
    "pros_minute(expression, current)"
   ]
  },
  {
   "cell_type": "markdown",
   "metadata": {},
   "source": [
    "## Processing Hours"
   ]
  },
  {
   "cell_type": "code",
   "execution_count": null,
   "metadata": {
    "collapsed": true
   },
   "outputs": [],
   "source": [
    "expression = '?y-?m-+1d-12H:+20M:00S'\n",
    "#1. process seconds\n",
    "\n",
    "def pros_hour(expression, current):\n",
    "    H = current.hour\n",
    "    reexp = r'[dw]-.+H'\n",
    "    extract = re.findall(reexp,expression)[0][2:-1]\n",
    "    if extract == '?':\n",
    "        rep = str(H)\n",
    "        expression = re.sub(reexp, extract[:2]+rep+extract[-1],expression)\n",
    "    elif extract[0] == '+':\n",
    "        gap = int(extract[1:])\n",
    "        expression = current + dt.timedelta(minutes=gap) \n",
    "    elif extract[0] == '-':\n",
    "        gap = int(extract[1:])\n",
    "        expression = current - dt.timedelta(minutes=gap)\n",
    "    else:\n",
    "        pass\n",
    "    return expression\n",
    "pros_minute(expression, current)"
   ]
  },
  {
   "cell_type": "markdown",
   "metadata": {},
   "source": [
    "## Processing Days"
   ]
  },
  {
   "cell_type": "code",
   "execution_count": null,
   "metadata": {
    "collapsed": true
   },
   "outputs": [],
   "source": [
    "expression = '?y-?m-+1d-12H:+20M:00S'\n",
    "#1. process seconds\n",
    "\n",
    "def pros_day(expression, current):\n",
    "    d = current.day\n",
    "    reexp = r'[dw]-.+H'\n",
    "    extract = re.findall(reexp,expression)[0][2:-1]\n",
    "    if extract == '?':\n",
    "        rep = str(H)\n",
    "        expression = re.sub(reexp, extract[:2]+rep+extract[-1],expression)\n",
    "    elif extract[0] == '+':\n",
    "        gap = int(extract[1:])\n",
    "        expression = current + dt.timedelta(minutes=gap) \n",
    "    elif extract[0] == '-':\n",
    "        gap = int(extract[1:])\n",
    "        expression = current - dt.timedelta(minutes=gap)\n",
    "    else:\n",
    "        pass\n",
    "    return expression\n",
    "pros_minute(expression, current)"
   ]
  },
  {
   "cell_type": "code",
   "execution_count": 174,
   "metadata": {
    "ExecuteTime": {
     "end_time": "2018-06-25T02:00:56.097119Z",
     "start_time": "2018-06-25T02:00:56.091096Z"
    }
   },
   "outputs": [
    {
     "data": {
      "text/plain": [
       "45"
      ]
     },
     "execution_count": 174,
     "metadata": {},
     "output_type": "execute_result"
    }
   ],
   "source": [
    "current.minute"
   ]
  },
  {
   "cell_type": "code",
   "execution_count": 186,
   "metadata": {
    "ExecuteTime": {
     "end_time": "2018-06-25T02:05:04.171440Z",
     "start_time": "2018-06-25T02:05:04.165265Z"
    }
   },
   "outputs": [
    {
     "data": {
      "text/plain": [
       "['d-12H']"
      ]
     },
     "execution_count": 186,
     "metadata": {},
     "output_type": "execute_result"
    }
   ],
   "source": [
    "re.findall(r'[dw]-.+H','?y-?m-+1d-12H:00M:00S')"
   ]
  },
  {
   "cell_type": "markdown",
   "metadata": {},
   "source": [
    "# Create Time from Week"
   ]
  },
  {
   "cell_type": "code",
   "execution_count": 112,
   "metadata": {
    "ExecuteTime": {
     "end_time": "2018-06-24T01:33:47.686878Z",
     "start_time": "2018-06-24T01:33:47.682152Z"
    }
   },
   "outputs": [],
   "source": [
    "def create_from_W(expression):\n",
    "    eval_time = dt.datetime.strptime(expression, \"%Yy-%WW-%ww-%HH:%MM:%SS\")\n",
    "    return eval_time"
   ]
  },
  {
   "cell_type": "code",
   "execution_count": 118,
   "metadata": {
    "ExecuteTime": {
     "end_time": "2018-06-24T03:20:48.465295Z",
     "start_time": "2018-06-24T03:20:48.454383Z"
    }
   },
   "outputs": [
    {
     "data": {
      "text/plain": [
       "datetime.datetime(2018, 6, 14, 12, 0)"
      ]
     },
     "execution_count": 118,
     "metadata": {},
     "output_type": "execute_result"
    }
   ],
   "source": [
    "def create_from_D(expression):\n",
    "    eval_time = dt.datetime.strptime(expression, \"%Yy-%mm-%dd-%HH:%MM:%SS\")\n",
    "    return eval_time\n",
    "create_from_D('2018y-6m-14d-12H:00M:00S')"
   ]
  },
  {
   "cell_type": "code",
   "execution_count": null,
   "metadata": {
    "collapsed": true
   },
   "outputs": [],
   "source": []
  },
  {
   "cell_type": "code",
   "execution_count": 155,
   "metadata": {
    "ExecuteTime": {
     "end_time": "2018-06-25T01:46:48.871071Z",
     "start_time": "2018-06-25T01:46:48.858155Z"
    }
   },
   "outputs": [
    {
     "data": {
      "text/plain": [
       "datetime.datetime(2018, 6, 26, 1, 46, 48, 862445)"
      ]
     },
     "execution_count": 155,
     "metadata": {},
     "output_type": "execute_result"
    }
   ],
   "source": [
    "a = dt.datetime.now()+dt.timedelta(days=1)\n",
    "a"
   ]
  },
  {
   "cell_type": "code",
   "execution_count": 157,
   "metadata": {
    "ExecuteTime": {
     "end_time": "2018-06-25T01:47:34.176338Z",
     "start_time": "2018-06-25T01:47:34.164865Z"
    }
   },
   "outputs": [
    {
     "name": "stdout",
     "output_type": "stream",
     "text": [
      "2018-06-25 01:47:34.171666\n",
      "2018-06-25 01:47:35.171711\n"
     ]
    }
   ],
   "source": [
    "b = dt.datetime.now()\n",
    "a = dt.datetime.now()+dt.timedelta(seconds=1)\n",
    "print(b)\n",
    "print(a)"
   ]
  },
  {
   "cell_type": "code",
   "execution_count": 129,
   "metadata": {
    "ExecuteTime": {
     "end_time": "2018-06-24T03:25:42.063435Z",
     "start_time": "2018-06-24T03:25:42.050415Z"
    }
   },
   "outputs": [
    {
     "data": {
      "text/plain": [
       "datetime.datetime(2018, 6, 25, 12, 0)"
      ]
     },
     "execution_count": 129,
     "metadata": {},
     "output_type": "execute_result"
    }
   ],
   "source": [
    "a.replace(hour=12,minute=0,second=0,microsecond=0)"
   ]
  },
  {
   "cell_type": "code",
   "execution_count": 124,
   "metadata": {
    "ExecuteTime": {
     "end_time": "2018-06-24T03:24:15.756495Z",
     "start_time": "2018-06-24T03:24:15.747749Z"
    }
   },
   "outputs": [
    {
     "data": {
      "text/plain": [
       "datetime.datetime(2018, 6, 24, 3, 24, 15, 751450)"
      ]
     },
     "execution_count": 124,
     "metadata": {},
     "output_type": "execute_result"
    }
   ],
   "source": [
    "dt.datetime.now()"
   ]
  },
  {
   "cell_type": "code",
   "execution_count": 125,
   "metadata": {
    "ExecuteTime": {
     "end_time": "2018-06-24T03:24:32.645870Z",
     "start_time": "2018-06-24T03:24:32.640760Z"
    },
    "collapsed": true
   },
   "outputs": [],
   "source": [
    "b = create_from_D('2018y-6m-14d-12H:00M:00S')"
   ]
  },
  {
   "cell_type": "code",
   "execution_count": 126,
   "metadata": {
    "ExecuteTime": {
     "end_time": "2018-06-24T03:24:36.321237Z",
     "start_time": "2018-06-24T03:24:36.312845Z"
    }
   },
   "outputs": [
    {
     "data": {
      "text/plain": [
       "0"
      ]
     },
     "execution_count": 126,
     "metadata": {},
     "output_type": "execute_result"
    }
   ],
   "source": [
    "b.microsecond"
   ]
  },
  {
   "cell_type": "code",
   "execution_count": 132,
   "metadata": {
    "ExecuteTime": {
     "end_time": "2018-06-24T03:30:31.404119Z",
     "start_time": "2018-06-24T03:30:31.397539Z"
    }
   },
   "outputs": [
    {
     "data": {
      "text/plain": [
       "24"
      ]
     },
     "execution_count": 132,
     "metadata": {},
     "output_type": "execute_result"
    }
   ],
   "source": [
    "current.day"
   ]
  },
  {
   "cell_type": "code",
   "execution_count": null,
   "metadata": {
    "collapsed": true
   },
   "outputs": [],
   "source": []
  }
 ],
 "metadata": {
  "kernelspec": {
   "display_name": "Python 3",
   "language": "python",
   "name": "python3"
  },
  "language_info": {
   "codemirror_mode": {
    "name": "ipython",
    "version": 3
   },
   "file_extension": ".py",
   "mimetype": "text/x-python",
   "name": "python",
   "nbconvert_exporter": "python",
   "pygments_lexer": "ipython3",
   "version": "3.6.3"
  },
  "varInspector": {
   "cols": {
    "lenName": 16,
    "lenType": 16,
    "lenVar": 40
   },
   "kernels_config": {
    "python": {
     "delete_cmd_postfix": "",
     "delete_cmd_prefix": "del ",
     "library": "var_list.py",
     "varRefreshCmd": "print(var_dic_list())"
    },
    "r": {
     "delete_cmd_postfix": ") ",
     "delete_cmd_prefix": "rm(",
     "library": "var_list.r",
     "varRefreshCmd": "cat(var_dic_list()) "
    }
   },
   "types_to_exclude": [
    "module",
    "function",
    "builtin_function_or_method",
    "instance",
    "_Feature"
   ],
   "window_display": false
  }
 },
 "nbformat": 4,
 "nbformat_minor": 2
}
