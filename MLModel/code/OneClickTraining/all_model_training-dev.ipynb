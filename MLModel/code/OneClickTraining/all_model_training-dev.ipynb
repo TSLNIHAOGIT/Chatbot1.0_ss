{
 "cells": [
  {
   "cell_type": "code",
   "execution_count": 101,
   "metadata": {
    "ExecuteTime": {
     "end_time": "2018-07-10T02:46:24.938547Z",
     "start_time": "2018-07-10T02:46:24.932293Z"
    }
   },
   "outputs": [],
   "source": [
    "#encoding=utf-8\n",
    "import pandas as pd\n",
    "import numpy as np\n",
    "\n",
    "from sklearn.feature_extraction.text import CountVectorizer, TfidfVectorizer, TfidfTransformer\n",
    "from sklearn.calibration import CalibratedClassifierCV\n",
    "from sklearn.svm import LinearSVC\n",
    "from sklearn.linear_model import LogisticRegression\n",
    "# import lightgbm as lgb\n",
    "from sklearn import preprocessing\n",
    "from sklearn.preprocessing import MultiLabelBinarizer\n",
    "from sklearn.naive_bayes import MultinomialNB\n",
    "\n",
    "\n",
    "import pickle\n",
    "import sys,os\n",
    "from all_model_py import CutDebt, IDClassifier, IfKnowDebtor, Installment, WillingToPay, ConfirmLoan\n"
   ]
  },
  {
   "cell_type": "markdown",
   "metadata": {
    "ExecuteTime": {
     "end_time": "2018-07-10T01:55:26.074734Z",
     "start_time": "2018-07-10T01:55:26.058361Z"
    }
   },
   "source": [
    "# load data"
   ]
  },
  {
   "cell_type": "code",
   "execution_count": 110,
   "metadata": {
    "ExecuteTime": {
     "end_time": "2018-07-10T02:47:08.405447Z",
     "start_time": "2018-07-10T02:47:02.848173Z"
    }
   },
   "outputs": [
    {
     "name": "stdout",
     "output_type": "stream",
     "text": [
      "=====  CutDebt =======\n",
      "0    4105\n",
      "2    2819\n",
      "1    2144\n",
      "Name: label, dtype: int64\n",
      "begin training!\n",
      "fitting phrase\n",
      "transform phrase\n",
      "finish training\n",
      "=====  IDClassifier =======\n",
      "2    2590\n",
      "0    1446\n",
      "1    1296\n",
      "Name: label, dtype: int64\n",
      "begin training!\n",
      "fitting phrase\n",
      "transform phrase\n",
      "finish training\n",
      "=====  IfKnowDebtor =======\n",
      "2    2590\n",
      "0    1483\n",
      "1    1177\n",
      "Name: label, dtype: int64\n",
      "begin training!\n",
      "fitting phrase\n",
      "transform phrase\n",
      "finish training\n",
      "=====  Installment =======\n",
      "0    4105\n",
      "2    2819\n",
      "1    2144\n",
      "Name: label, dtype: int64\n",
      "begin training!\n",
      "fitting phrase\n",
      "transform phrase\n",
      "finish training\n",
      "=====  ConfirmLoan =======\n",
      "2    2819\n",
      "0     580\n",
      "1     553\n",
      "Name: label, dtype: int64\n",
      "begin training!\n",
      "fitting phrase\n",
      "transform phrase\n",
      "finish training\n",
      "=====  WillingToPay =======\n",
      "3    2191\n",
      "0    2106\n",
      "1    2095\n",
      "2    2069\n",
      "Name: label, dtype: int64\n",
      "begin training!\n",
      "fitting phrase\n",
      "transform phrase\n",
      "finish training\n"
     ]
    }
   ],
   "source": [
    "def sub_df(df,sets,target='label'):\n",
    "    result = pd.DataFrame()\n",
    "    for each in sets:\n",
    "        result = pd.concat([result,df[df[target]==each]])\n",
    "#     print(result[target].value_counts())\n",
    "    return result\n",
    "\n",
    "model_list = {'CutDebt':CutDebt,\n",
    "              'IDClassifier':IDClassifier,\n",
    "              'IfKnowDebtor':IfKnowDebtor,\n",
    "              'Installment':Installment,\n",
    "              'ConfirmLoan':ConfirmLoan,\n",
    "              'WillingToPay':WillingToPay}\n",
    "\n",
    "others = pd.read_csv('../../data/others/cleaned_mock_up_data.csv')\n",
    "other_matrix = pd.read_csv('../../data/others/strategy_mat.csv')\n",
    "target = 'label'\n",
    "save_path = '../../savedModel/{}/'\n",
    "for model in model_list:\n",
    "    \n",
    "    df = pd.read_csv('../../data/{}/cleaned_mock_up_data.csv'.format(model))\n",
    "    other_label = max(set(df.label))\n",
    "    # filter out other label\n",
    "    df = df[df.label != other_label]\n",
    "    # get availabel other labels\n",
    "    other_set = set(other_matrix[other_matrix[model]==0].label.values)\n",
    "    ava_others = sub_df(others,other_set)\n",
    "    ava_others[target] = other_label\n",
    "    ava_others = ava_others.rename({'text':'split_text'},axis=1)\n",
    "    df = pd.concat([df,ava_others],sort=True)\n",
    "    df = df.sample(frac=1).reset_index(drop=True)\n",
    "    print('=====  {} ======='.format(model))\n",
    "    print(df.label.value_counts())\n",
    "    print('begin training!')\n",
    "    \n",
    "    # get tfidf\n",
    "    phrase_vectorizer = TfidfVectorizer(ngram_range=(1,3),\n",
    "                                    strip_accents='unicode', \n",
    "                                    max_features=100000, \n",
    "                                    analyzer='word',\n",
    "                                    sublinear_tf=True,\n",
    "                                    token_pattern=r'\\w{1,}')\n",
    "\n",
    "    print('fitting phrase')\n",
    "    phrase_vectorizer.fit(df.split_text)\n",
    "\n",
    "    print('transform phrase')\n",
    "    phrase = phrase_vectorizer.transform(df.split_text)\n",
    "    \n",
    "    # linear svc\n",
    "    l_svc = LinearSVC()\n",
    "    lsvc = CalibratedClassifierCV(l_svc) \n",
    "    lsvc.fit(phrase, df.label)\n",
    "    \n",
    "    \n",
    "    # logistic\n",
    "    log_r = LogisticRegression()\n",
    "    log_r.fit(phrase, df.label)\n",
    "    \n",
    "    \n",
    "    # Naive Bayes\n",
    "    naive_b = MultinomialNB()\n",
    "    naive_b.fit(phrase, df.label)\n",
    "    print('finish training')\n",
    "    \n",
    "    other = pickle.load(open('../../savedModel/others/{}/{}_other.pickle'.format(model,model),'rb'))\n",
    "    result = model_list[model](svc=lsvc, logistic=log_r, nb=naive_b, tfidf=phrase_vectorizer, other=other,  jieba_path='../WordCut/userdict.txt')\n",
    "    pickle.dump(result, open(save_path.format(model) + model + '.pickle', \"wb\"))\n",
    "    \n",
    "    \n"
   ]
  },
  {
   "cell_type": "code",
   "execution_count": 103,
   "metadata": {
    "ExecuteTime": {
     "end_time": "2018-07-10T02:46:32.997650Z",
     "start_time": "2018-07-10T02:46:32.628058Z"
    }
   },
   "outputs": [],
   "source": [
    "idc = pickle.load(open(\"../../savedModel/IDClassifier/IDClassifier.pickle\", 'rb'))\n",
    "cutd = pickle.load(open(\"../../savedModel/CutDebt/CutDebt.pickle\", 'rb'))\n",
    "ifk = pickle.load(open(\"../../savedModel/IfKnowDebtor/IfKnowDebtor.pickle\", 'rb'))\n",
    "will = pickle.load(open(\"../../savedModel/WillingToPay/WillingToPay.pickle\", 'rb'))\n",
    "inst = pickle.load(open(\"../../savedModel/Installment/Installment.pickle\", 'rb'))\n",
    "conf = pickle.load(open(\"../../savedModel/ConfirmLoan/ConfirmLoan.pickle\", 'rb'))"
   ]
  },
  {
   "cell_type": "code",
   "execution_count": 104,
   "metadata": {
    "ExecuteTime": {
     "end_time": "2018-07-10T02:46:33.562112Z",
     "start_time": "2018-07-10T02:46:33.549275Z"
    }
   },
   "outputs": [],
   "source": [
    "import jieba\n",
    "jieba_path='../WordCut/userdict.txt'\n",
    "jieba.load_userdict(jieba_path)\n"
   ]
  },
  {
   "cell_type": "code",
   "execution_count": 105,
   "metadata": {
    "ExecuteTime": {
     "end_time": "2018-07-10T02:46:34.597538Z",
     "start_time": "2018-07-10T02:46:34.590142Z"
    }
   },
   "outputs": [
    {
     "data": {
      "text/plain": [
       "'我草'"
      ]
     },
     "execution_count": 105,
     "metadata": {},
     "output_type": "execute_result"
    }
   ],
   "source": [
    "sentence = '我草'\n",
    "sentence = jieba.cut(sentence, cut_all = False)\n",
    "sentence = ' '.join(sentence)\n",
    "sentence"
   ]
  },
  {
   "cell_type": "code",
   "execution_count": 107,
   "metadata": {
    "ExecuteTime": {
     "end_time": "2018-07-10T02:46:45.335905Z",
     "start_time": "2018-07-10T02:46:45.316068Z"
    }
   },
   "outputs": [
    {
     "data": {
      "text/plain": [
       "{'label': 110, 'pred_prob': array([[0.04490071, 0.07217199, 0.88292729],\n",
       "        [0.1048168 , 0.14537581, 0.74980739],\n",
       "        [0.11577709, 0.21529938, 0.66892353]]), 'av_pred': array([0.0884982 , 0.14428239, 0.76721941])}"
      ]
     },
     "execution_count": 107,
     "metadata": {},
     "output_type": "execute_result"
    }
   ],
   "source": [
    "idc.classify('我日你大爷')"
   ]
  },
  {
   "cell_type": "code",
   "execution_count": 108,
   "metadata": {
    "ExecuteTime": {
     "end_time": "2018-07-10T02:46:50.673963Z",
     "start_time": "2018-07-10T02:46:50.655435Z"
    }
   },
   "outputs": [
    {
     "data": {
      "text/plain": [
       "{'label': 104, 'pred_prob': array([[0.09701567, 0.05465708, 0.84832725],\n",
       "        [0.20109009, 0.09799387, 0.70091604],\n",
       "        [0.22235734, 0.14651043, 0.63113222]]), 'av_pred': array([0.1734877 , 0.09972046, 0.72679184])}"
      ]
     },
     "execution_count": 108,
     "metadata": {},
     "output_type": "execute_result"
    }
   ],
   "source": [
    "ifk.classify('我日')"
   ]
  },
  {
   "cell_type": "code",
   "execution_count": 109,
   "metadata": {
    "ExecuteTime": {
     "end_time": "2018-07-10T02:46:54.733124Z",
     "start_time": "2018-07-10T02:46:54.716708Z"
    }
   },
   "outputs": [
    {
     "data": {
      "text/plain": [
       "{'label': 1, 'pred_prob': array([[0.00619887, 0.85350181, 0.14029932],\n",
       "        [0.06810588, 0.39192211, 0.53997201],\n",
       "        [0.0915323 , 0.53349763, 0.37497007]]), 'av_pred': array([0.05527902, 0.59297385, 0.35174713]), 'time_extract': []}"
      ]
     },
     "execution_count": 109,
     "metadata": {},
     "output_type": "execute_result"
    }
   ],
   "source": [
    "conf.classify('我只借过5000')"
   ]
  },
  {
   "cell_type": "code",
   "execution_count": null,
   "metadata": {
    "collapsed": true
   },
   "outputs": [],
   "source": []
  },
  {
   "cell_type": "code",
   "execution_count": null,
   "metadata": {
    "collapsed": true
   },
   "outputs": [],
   "source": []
  },
  {
   "cell_type": "code",
   "execution_count": null,
   "metadata": {
    "collapsed": true
   },
   "outputs": [],
   "source": []
  },
  {
   "cell_type": "code",
   "execution_count": null,
   "metadata": {
    "collapsed": true
   },
   "outputs": [],
   "source": []
  },
  {
   "cell_type": "code",
   "execution_count": null,
   "metadata": {
    "collapsed": true
   },
   "outputs": [],
   "source": []
  },
  {
   "cell_type": "code",
   "execution_count": null,
   "metadata": {
    "collapsed": true
   },
   "outputs": [],
   "source": []
  },
  {
   "cell_type": "code",
   "execution_count": null,
   "metadata": {
    "collapsed": true
   },
   "outputs": [],
   "source": []
  },
  {
   "cell_type": "code",
   "execution_count": null,
   "metadata": {
    "collapsed": true
   },
   "outputs": [],
   "source": []
  },
  {
   "cell_type": "code",
   "execution_count": null,
   "metadata": {
    "collapsed": true
   },
   "outputs": [],
   "source": []
  },
  {
   "cell_type": "code",
   "execution_count": null,
   "metadata": {
    "collapsed": true
   },
   "outputs": [],
   "source": []
  }
 ],
 "metadata": {
  "kernelspec": {
   "display_name": "Python 3",
   "language": "python",
   "name": "python3"
  },
  "language_info": {
   "codemirror_mode": {
    "name": "ipython",
    "version": 3
   },
   "file_extension": ".py",
   "mimetype": "text/x-python",
   "name": "python",
   "nbconvert_exporter": "python",
   "pygments_lexer": "ipython3",
   "version": "3.6.5"
  },
  "varInspector": {
   "cols": {
    "lenName": 16,
    "lenType": 16,
    "lenVar": 40
   },
   "kernels_config": {
    "python": {
     "delete_cmd_postfix": "",
     "delete_cmd_prefix": "del ",
     "library": "var_list.py",
     "varRefreshCmd": "print(var_dic_list())"
    },
    "r": {
     "delete_cmd_postfix": ") ",
     "delete_cmd_prefix": "rm(",
     "library": "var_list.r",
     "varRefreshCmd": "cat(var_dic_list()) "
    }
   },
   "types_to_exclude": [
    "module",
    "function",
    "builtin_function_or_method",
    "instance",
    "_Feature"
   ],
   "window_display": false
  }
 },
 "nbformat": 4,
 "nbformat_minor": 2
}
