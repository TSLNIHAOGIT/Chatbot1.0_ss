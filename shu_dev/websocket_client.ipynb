{
 "cells": [
  {
   "cell_type": "code",
   "execution_count": 5,
   "metadata": {
    "ExecuteTime": {
     "end_time": "2018-06-14T19:46:05.748169Z",
     "start_time": "2018-06-14T19:46:02.368785Z"
    }
   },
   "outputs": [
    {
     "name": "stdout",
     "output_type": "stream",
     "text": [
      "What's your name? 3\n",
      "> 3\n",
      "< Hello 3!\n",
      "What's your name? 4\n",
      "> 4\n",
      "< Hello 4!\n",
      "What's your name? 5\n",
      "> 5\n",
      "< Hello 5!\n",
      "What's your name? 6\n",
      "> 6\n",
      "< Hello 6!\n"
     ]
    }
   ],
   "source": [
    "import asyncio\n",
    "import websockets\n",
    "\n",
    "async def hello():\n",
    "    count = 1\n",
    "    async with websockets.connect(\n",
    "            'ws://0.0.0.0:8890') as websocket:\n",
    "        while count < 5:\n",
    "            name = input(\"What's your name? \")\n",
    "\n",
    "            await websocket.send(name)\n",
    "            print(f\"> {name}\")\n",
    "\n",
    "            greeting = await websocket.recv()\n",
    "            print(f\"< {greeting}\")\n",
    "            count += 1\n",
    "asyncio.get_event_loop().run_until_complete(hello())"
   ]
  },
  {
   "cell_type": "code",
   "execution_count": null,
   "metadata": {
    "collapsed": true
   },
   "outputs": [],
   "source": []
  },
  {
   "cell_type": "markdown",
   "metadata": {
    "collapsed": true
   },
   "source": []
  }
 ],
 "metadata": {
  "kernelspec": {
   "display_name": "Python 3",
   "language": "python",
   "name": "python3"
  },
  "language_info": {
   "codemirror_mode": {
    "name": "ipython",
    "version": 3
   },
   "file_extension": ".py",
   "mimetype": "text/x-python",
   "name": "python",
   "nbconvert_exporter": "python",
   "pygments_lexer": "ipython3",
   "version": "3.6.3"
  },
  "varInspector": {
   "cols": {
    "lenName": 16,
    "lenType": 16,
    "lenVar": 40
   },
   "kernels_config": {
    "python": {
     "delete_cmd_postfix": "",
     "delete_cmd_prefix": "del ",
     "library": "var_list.py",
     "varRefreshCmd": "print(var_dic_list())"
    },
    "r": {
     "delete_cmd_postfix": ") ",
     "delete_cmd_prefix": "rm(",
     "library": "var_list.r",
     "varRefreshCmd": "cat(var_dic_list()) "
    }
   },
   "types_to_exclude": [
    "module",
    "function",
    "builtin_function_or_method",
    "instance",
    "_Feature"
   ],
   "window_display": false
  }
 },
 "nbformat": 4,
 "nbformat_minor": 2
}
