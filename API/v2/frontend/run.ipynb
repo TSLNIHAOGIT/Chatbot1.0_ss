{
 "cells": [
  {
   "cell_type": "code",
   "execution_count": 2,
   "metadata": {
    "ExecuteTime": {
     "end_time": "2018-07-09T18:28:52.760648Z",
     "start_time": "2018-07-09T18:28:52.364754Z"
    }
   },
   "outputs": [],
   "source": [
    "# from flask_other.app import app\n",
    "from flask_socketio import disconnect as dc\n",
    "from flask import Flask\n",
    "from flask_socketio import SocketIO, emit,join_room,leave_room\n",
    "from flask_socketio import disconnect\n",
    "from threading import Lock\n",
    "import os,sys\n",
    "\n",
    "app=Flask(\"demo\")\n",
    "from flask import  render_template,request\n",
    "import time\n",
    "import re\n",
    "\n",
    "import pandas as pd\n",
    "import numpy as np\n",
    "import time\n",
    "import re\n",
    "import requests\n",
    "\n",
    "import atexit\n",
    "\n",
    "from apscheduler.schedulers.background import BackgroundScheduler\n",
    "from apscheduler.triggers.interval import IntervalTrigger\n",
    "\n",
    "\n",
    "\n",
    "##################################\n",
    "async_mode = None\n",
    "app = Flask(__name__)\n",
    "app.config['SECRET_KEY'] = 'secret!'\n",
    "socketio = SocketIO(app, async_mode=async_mode)\n",
    "\n",
    "thread = None\n",
    "thread_lock = Lock()\n",
    "clients = []\n",
    "sentences = []\n",
    "\n",
    "name_space = '/chat'\n",
    "\n",
    "@app.route('/')\n",
    "def index():\n",
    "    return render_template('index.html', async_mode=socketio.async_mode)\n",
    "\n",
    "\n",
    "@socketio.on('client_send',namespace=name_space)\n",
    "def client_msg(msg):  \n",
    "    uid = request.sid\n",
    "    sentence = msg.get('data')\n",
    "    sentence = decode(sentence)\n",
    "    sentences.append(sentence)\n",
    "    response = cache.chat(uid, sentence)\n",
    "    if response == 'end':\n",
    "        socketio.emit('my_response',{'data':'感谢选择江苏逸能，再见！'},room = uid, namespace=name_space)\n",
    "        disconnect_frontend(uid)\n",
    "    elif response is None:\n",
    "        socketio.emit('my_response',{'data':'当前会话已经过期，感谢选择江苏逸能，再见！'},room = uid, namespace=name_space)\n",
    "        disconnect_frontend(uid)\n",
    "    else:\n",
    "        socketio.emit('my_response',{'data':response},room = uid, namespace=name_space)\n",
    "\n",
    "def decode(msg):\n",
    "    msg = re.sub(r'%u', r'\\u', msg)\n",
    "    msg = msg.encode('latin-1').decode('unicode_escape')\n",
    "    return msg\n",
    "\n",
    "#sned message to a specific user\n",
    "def unique_message(uid):\n",
    "    socketio.emit('unique_messgae',{'data':'are you still here'}, room=uid, namespace=name_space)\n",
    "    \n",
    "def disconnect_frontend(uid):\n",
    "    socketio.emit('my_response',{'status':'disconnected'},room = uid, namespace=name_space)\n",
    "\n",
    "\n",
    "@socketio.on('disconnect',namespace=name_space)\n",
    "def disconnect():\n",
    "    uid = request.sid\n",
    "    cache.remove_session(uid)\n",
    "    leave_room(uid)\n",
    "    dc()\n",
    "    print('{} is disconnected'.format(uid))\n",
    "    \n",
    "@socketio.on('connect',namespace=name_space)\n",
    "def connect():\n",
    "    print('connect')\n",
    "    print(request.sid)\n",
    "    uid = request.sid\n",
    "    clients.append(uid)\n",
    "    print(len(clients))\n",
    "    \n",
    "    join_room(uid)\n",
    "    if cache.create_session(uid):\n",
    "        response = cache.chat(uid, '')\n",
    "        if response is not None:\n",
    "            socketio.emit('my_response',{'data':response},room = uid,namespace=name_space) #the first sentence\n",
    "            return None\n",
    "        \n",
    "    else:\n",
    "        socketio.emit('my_response',{'data':'server busy. please click new conv'},room = uid,namespace=name_space) \n",
    "        disconnect_frontend(uid)\n",
    "    \n",
    "\n"
   ]
  },
  {
   "cell_type": "code",
   "execution_count": null,
   "metadata": {
    "ExecuteTime": {
     "start_time": "2018-07-09T18:28:52.891Z"
    }
   },
   "outputs": [
    {
     "name": "stdout",
     "output_type": "stream",
     "text": [
      "http://10.0.24.31:8899/\n",
      "http://0.0.0.0:6006/\n",
      "connect\n",
      "5871a9692481433ab238066a2af63cc4\n",
      "1\n"
     ]
    },
    {
     "name": "stderr",
     "output_type": "stream",
     "text": [
      "KeyboardInterrupt\n",
      "2018-07-09T18:30:38Z\n"
     ]
    },
    {
     "ename": "KeyboardInterrupt",
     "evalue": "",
     "output_type": "error",
     "traceback": [
      "\u001b[0;31m---------------------------------------------------------------------------\u001b[0m",
      "\u001b[0;31mKeyboardInterrupt\u001b[0m                         Traceback (most recent call last)",
      "\u001b[0;32m<ipython-input-3-be94b9343545>\u001b[0m in \u001b[0;36m<module>\u001b[0;34m()\u001b[0m\n\u001b[1;32m     12\u001b[0m \u001b[0matexit\u001b[0m\u001b[0;34m.\u001b[0m\u001b[0mregister\u001b[0m\u001b[0;34m(\u001b[0m\u001b[0;32mlambda\u001b[0m\u001b[0;34m:\u001b[0m \u001b[0mscheduler\u001b[0m\u001b[0;34m.\u001b[0m\u001b[0mshutdown\u001b[0m\u001b[0;34m(\u001b[0m\u001b[0;34m)\u001b[0m\u001b[0;34m)\u001b[0m\u001b[0;34m\u001b[0m\u001b[0m\n\u001b[1;32m     13\u001b[0m \u001b[0;34m\u001b[0m\u001b[0m\n\u001b[0;32m---> 14\u001b[0;31m \u001b[0msocketio\u001b[0m\u001b[0;34m.\u001b[0m\u001b[0mrun\u001b[0m\u001b[0;34m(\u001b[0m\u001b[0mapp\u001b[0m\u001b[0;34m,\u001b[0m\u001b[0;34m'0.0.0.0'\u001b[0m\u001b[0;34m,\u001b[0m\u001b[0;36m6006\u001b[0m\u001b[0;34m)\u001b[0m\u001b[0;34m\u001b[0m\u001b[0m\n\u001b[0m",
      "\u001b[0;32m~/anaconda3/lib/python3.6/site-packages/flask_socketio/__init__.py\u001b[0m in \u001b[0;36mrun\u001b[0;34m(self, app, host, port, **kwargs)\u001b[0m\n\u001b[1;32m    554\u001b[0m                 \u001b[0mrun_with_reloader\u001b[0m\u001b[0;34m(\u001b[0m\u001b[0mrun_server\u001b[0m\u001b[0;34m,\u001b[0m \u001b[0mextra_files\u001b[0m\u001b[0;34m=\u001b[0m\u001b[0mextra_files\u001b[0m\u001b[0;34m)\u001b[0m\u001b[0;34m\u001b[0m\u001b[0m\n\u001b[1;32m    555\u001b[0m             \u001b[0;32melse\u001b[0m\u001b[0;34m:\u001b[0m\u001b[0;34m\u001b[0m\u001b[0m\n\u001b[0;32m--> 556\u001b[0;31m                 \u001b[0mself\u001b[0m\u001b[0;34m.\u001b[0m\u001b[0mwsgi_server\u001b[0m\u001b[0;34m.\u001b[0m\u001b[0mserve_forever\u001b[0m\u001b[0;34m(\u001b[0m\u001b[0;34m)\u001b[0m\u001b[0;34m\u001b[0m\u001b[0m\n\u001b[0m\u001b[1;32m    557\u001b[0m \u001b[0;34m\u001b[0m\u001b[0m\n\u001b[1;32m    558\u001b[0m     \u001b[0;32mdef\u001b[0m \u001b[0mstop\u001b[0m\u001b[0;34m(\u001b[0m\u001b[0mself\u001b[0m\u001b[0;34m)\u001b[0m\u001b[0;34m:\u001b[0m\u001b[0;34m\u001b[0m\u001b[0m\n",
      "\u001b[0;32m~/anaconda3/lib/python3.6/site-packages/gevent/baseserver.py\u001b[0m in \u001b[0;36mserve_forever\u001b[0;34m(self, stop_timeout)\u001b[0m\n\u001b[1;32m    362\u001b[0m             \u001b[0mself\u001b[0m\u001b[0;34m.\u001b[0m\u001b[0mstart\u001b[0m\u001b[0;34m(\u001b[0m\u001b[0;34m)\u001b[0m\u001b[0;34m\u001b[0m\u001b[0m\n\u001b[1;32m    363\u001b[0m         \u001b[0;32mtry\u001b[0m\u001b[0;34m:\u001b[0m\u001b[0;34m\u001b[0m\u001b[0m\n\u001b[0;32m--> 364\u001b[0;31m             \u001b[0mself\u001b[0m\u001b[0;34m.\u001b[0m\u001b[0m_stop_event\u001b[0m\u001b[0;34m.\u001b[0m\u001b[0mwait\u001b[0m\u001b[0;34m(\u001b[0m\u001b[0;34m)\u001b[0m\u001b[0;34m\u001b[0m\u001b[0m\n\u001b[0m\u001b[1;32m    365\u001b[0m         \u001b[0;32mfinally\u001b[0m\u001b[0;34m:\u001b[0m\u001b[0;34m\u001b[0m\u001b[0m\n\u001b[1;32m    366\u001b[0m             \u001b[0mGreenlet\u001b[0m\u001b[0;34m.\u001b[0m\u001b[0mspawn\u001b[0m\u001b[0;34m(\u001b[0m\u001b[0mself\u001b[0m\u001b[0;34m.\u001b[0m\u001b[0mstop\u001b[0m\u001b[0;34m,\u001b[0m \u001b[0mtimeout\u001b[0m\u001b[0;34m=\u001b[0m\u001b[0mstop_timeout\u001b[0m\u001b[0;34m)\u001b[0m\u001b[0;34m.\u001b[0m\u001b[0mjoin\u001b[0m\u001b[0;34m(\u001b[0m\u001b[0;34m)\u001b[0m\u001b[0;34m\u001b[0m\u001b[0m\n",
      "\u001b[0;32m~/anaconda3/lib/python3.6/site-packages/gevent/_event.cpython-36m-x86_64-linux-gnu.so\u001b[0m in \u001b[0;36mgevent._event.Event.wait\u001b[0;34m()\u001b[0m\n",
      "\u001b[0;32m~/anaconda3/lib/python3.6/site-packages/gevent/_event.cpython-36m-x86_64-linux-gnu.so\u001b[0m in \u001b[0;36mgevent._event._AbstractLinkable._wait\u001b[0;34m()\u001b[0m\n",
      "\u001b[0;32m~/anaconda3/lib/python3.6/site-packages/gevent/_event.cpython-36m-x86_64-linux-gnu.so\u001b[0m in \u001b[0;36mgevent._event._AbstractLinkable._wait_core\u001b[0;34m()\u001b[0m\n",
      "\u001b[0;32m~/anaconda3/lib/python3.6/site-packages/gevent/_event.cpython-36m-x86_64-linux-gnu.so\u001b[0m in \u001b[0;36mgevent._event._AbstractLinkable._wait_core\u001b[0;34m()\u001b[0m\n",
      "\u001b[0;32m~/anaconda3/lib/python3.6/site-packages/gevent/__greenlet_primitives.cpython-36m-x86_64-linux-gnu.so\u001b[0m in \u001b[0;36mgevent.__greenlet_primitives.SwitchOutGreenletWithLoop.switch\u001b[0;34m()\u001b[0m\n",
      "\u001b[0;32m~/anaconda3/lib/python3.6/site-packages/gevent/__greenlet_primitives.cpython-36m-x86_64-linux-gnu.so\u001b[0m in \u001b[0;36mgevent.__greenlet_primitives.SwitchOutGreenletWithLoop.switch\u001b[0;34m()\u001b[0m\n",
      "\u001b[0;32m~/anaconda3/lib/python3.6/site-packages/gevent/__greenlet_primitives.cpython-36m-x86_64-linux-gnu.so\u001b[0m in \u001b[0;36mgevent.__greenlet_primitives.SwitchOutGreenletWithLoop.switch\u001b[0;34m()\u001b[0m\n",
      "\u001b[0;32msrc/gevent/__greenlet_primitives.pxd\u001b[0m in \u001b[0;36mgevent.__greenlet_primitives._greenlet_switch\u001b[0;34m()\u001b[0m\n",
      "\u001b[0;31mKeyboardInterrupt\u001b[0m: "
     ]
    }
   ],
   "source": [
    "print('http://10.0.24.31:8899/')\n",
    "print('http://0.0.0.0:6006/')\n",
    "scheduler = BackgroundScheduler()\n",
    "scheduler.start()\n",
    "scheduler.add_job(\n",
    "    func=cache.purge_inactive,\n",
    "    trigger=IntervalTrigger(seconds=10),\n",
    "    id='purge_cache',\n",
    "    name='purge_inactive',\n",
    "    replace_existing=True)\n",
    "# Shut down the scheduler when exiting the app\n",
    "atexit.register(lambda: scheduler.shutdown())\n",
    "\n",
    "socketio.run(app,'0.0.0.0',6006)"
   ]
  },
  {
   "cell_type": "code",
   "execution_count": 1,
   "metadata": {
    "ExecuteTime": {
     "end_time": "2018-07-09T18:28:51.038484Z",
     "start_time": "2018-07-09T18:28:48.606036Z"
    }
   },
   "outputs": [
    {
     "name": "stderr",
     "output_type": "stream",
     "text": [
      "Building prefix dict from the default dictionary ...\n",
      "Loading model from cache /tmp/jieba.cache\n",
      "Loading model cost 0.975 seconds.\n",
      "Prefix dict has been built succesfully.\n"
     ]
    }
   ],
   "source": [
    "import time\n",
    "import gc\n",
    "class Cache:\n",
    "    def __init__(self, graph_path,msg_path,model_dict,max_session=1000,debug=False):\n",
    "        self.max_session = 1000\n",
    "        self.inform_interval = 45\n",
    "        self.inactive_maxlength = 150\n",
    "        #{'uid': {'stragety': Tree(), 'time_response': <time>, 'time_inform': <>}\n",
    "        self.active_session = {}\n",
    "        self.model_dict = model_dict\n",
    "        self.graph_path = graph_path\n",
    "        self.msg_path = msg_path\n",
    "        self.debug=debug\n",
    "        \n",
    "        \n",
    "    def create_session(self, uid):\n",
    "        if len(self.active_session) < self.max_session:\n",
    "            self.active_session[uid] = {}\n",
    "            self.active_session[uid].update({'stragety':TreeStage1(graph_path=self.graph_path,\n",
    "                                                                   msg_path=self.msg_path,debug=self.debug)})\n",
    "            self.active_session[uid].update({'time_response':time.time()})\n",
    "            self.active_session[uid].update({'time_inform':time.time()})\n",
    "            self.active_session[uid].update({'chatting':[]})\n",
    "            return True\n",
    "        else:\n",
    "            return False\n",
    "        \n",
    "    def remove_session(self,uid):\n",
    "        response = '您当前的会话超过 {} 秒没有响应，系统将关闭当前会话！如有需求，请开始新的对话！'.format(self.inactive_maxlength)\n",
    "        try:\n",
    "            socketio.emit('my_response',{'data':response},room = uid, namespace=name_space)\n",
    "        except:\n",
    "            pass\n",
    "        try:\n",
    "            disconnect_frontend(uid)\n",
    "        except:\n",
    "            pass\n",
    "        try:\n",
    "            del self.active_session[uid]\n",
    "            print('session {} is removed'.format(uid))\n",
    "        except KeyError:\n",
    "                pass\n",
    "        gc.collect()\n",
    "            \n",
    "    def chat(self,uid,sentence):\n",
    "        if self.active_session.get(uid) is not None:\n",
    "            response = self.active_session[uid]['stragety'].process(sentence, self.model_dict)\n",
    "            self.active_session[uid]['time_response'] = time.time()\n",
    "            self.active_session[uid]['time_inform'] = time.time()\n",
    "            self.active_session[uid]['chatting'].append(response)\n",
    "        else:\n",
    "            response = None\n",
    "        return response\n",
    "        \n",
    "    \n",
    "    \n",
    "    def purge_inactive(self):\n",
    "        current = time.time()\n",
    "        remove_list = []\n",
    "        for uid in self.active_session:\n",
    "            if current - self.active_session[uid]['time_response'] > self.inactive_maxlength:\n",
    "                remove_list.append(uid)\n",
    "            try:\n",
    "                if current - self.active_session[uid]['time_inform'] > self.inform_interval:\n",
    "                    self.inform_inactive(uid)\n",
    "            except KeyError:\n",
    "                pass\n",
    "            \n",
    "        # delete\n",
    "        for uid in remove_list:\n",
    "            print('{} session is inactive, will be removed!'.format(uid))\n",
    "            self.remove_session(uid)\n",
    "                \n",
    "        \n",
    "    def inform_inactive(self, uid):\n",
    "        self.active_session[uid]['time_inform'] = time.time()\n",
    "        last_sentence = self.active_session[uid]['chatting'][-1]\n",
    "#         response = '您有在听我说吗？ \\n'+last_sentence\n",
    "        response = '您有在听我说吗?请回答我刚才的问题！'\n",
    "        socketio.emit('my_response',{'data':response},room = uid, namespace=name_space)\n",
    "          \n",
    "################################################\n",
    "import sys,os\n",
    "sys.path.append('../../../MLModel/code/OneClickTraining/')\n",
    "sys.path.append('../../../MLModel/code/TreeModelV2/')\n",
    "from all_model_py import *\n",
    "import pickle\n",
    "from chatbotv1 import *\n",
    "\n",
    "\n",
    "\n",
    "models_list = ['IDClassifier','CutDebt','IfKnowDebtor','WillingToPay','Installment','ConfirmLoan']\n",
    "savedModel_path = '../../../MLModel/savedModel/{}/{}.pickle'\n",
    "\n",
    "model_dict = {}\n",
    "for each_model in models_list:\n",
    "    model_dict[each_model] = pickle.load(open(savedModel_path.format(each_model,each_model), 'rb'))\n",
    "    model_dict[each_model].classify('再说一次')\n",
    "    \n",
    "model_dict['StopClassifier'] = StopClassifier()\n",
    "model_dict['InitClassifier'] = InitClassifier()    \n",
    "\n",
    "graph_path='../../../MLModel/data/TreeModel/treeConnection.csv'\n",
    "msg_path='../../../MLModel/data/TreeModel/node_message.csv'\n",
    "#################################################################\n",
    "cache = Cache(graph_path=graph_path,\n",
    "              msg_path=msg_path,\n",
    "              model_dict=model_dict,debug=True)"
   ]
  },
  {
   "cell_type": "code",
   "execution_count": 8,
   "metadata": {
    "ExecuteTime": {
     "end_time": "2018-07-09T18:10:24.986577Z",
     "start_time": "2018-07-09T18:10:24.973771Z"
    }
   },
   "outputs": [
    {
     "data": {
      "text/plain": [
       "{'label': 0,\n",
       " 'pred_prob': array([[0.61363318, 0.06782953, 0.28882034, 0.02971695],\n",
       "        [0.56661775, 0.11023825, 0.28412199, 0.03902201],\n",
       "        [0.37452761, 0.09958758, 0.49513153, 0.03075327]]),\n",
       " 'av_pred': array([0.51825952, 0.09255179, 0.35602462, 0.03316408]),\n",
       " 'time_extract': []}"
      ]
     },
     "execution_count": 8,
     "metadata": {},
     "output_type": "execute_result"
    }
   ],
   "source": [
    "model_dict['WillingToPay'].classify('我可以用支付宝还么？')"
   ]
  },
  {
   "cell_type": "code",
   "execution_count": 10,
   "metadata": {
    "ExecuteTime": {
     "end_time": "2018-07-09T18:19:29.703137Z",
     "start_time": "2018-07-09T18:19:29.257353Z"
    }
   },
   "outputs": [],
   "source": [
    "t = TreeStage1(graph_path=graph_path,msg_path=msg_path,debug=True)"
   ]
  },
  {
   "cell_type": "code",
   "execution_count": 12,
   "metadata": {
    "ExecuteTime": {
     "end_time": "2018-07-09T18:19:36.925278Z",
     "start_time": "2018-07-09T18:19:36.910208Z"
    }
   },
   "outputs": [
    {
     "name": "stdout",
     "output_type": "stream",
     "text": [
      "您好，您之前借贷了5万块钱，截至今天已经逾期47天，逾期总欠款5万2千块钱，其中利息1500，滞纳金500块。请问为什么到现在都没有处理呢？\n",
      "current node is: cf_s1_n1_identity_q\n",
      "output label is: 0\n",
      "next node is: cf_s1_n2_confirmLoan_q\n"
     ]
    }
   ],
   "source": [
    "\n",
    "print(t.process('我可以用支付宝还么？',model_dict))\n"
   ]
  },
  {
   "cell_type": "code",
   "execution_count": 17,
   "metadata": {
    "ExecuteTime": {
     "end_time": "2018-07-04T10:05:41.947359Z",
     "start_time": "2018-07-04T10:05:41.942467Z"
    }
   },
   "outputs": [],
   "source": [
    "model = model_dict['WillingToPay']"
   ]
  },
  {
   "cell_type": "code",
   "execution_count": 2,
   "metadata": {
    "ExecuteTime": {
     "end_time": "2018-07-09T18:25:01.980172Z",
     "start_time": "2018-07-09T18:25:01.477531Z"
    }
   },
   "outputs": [
    {
     "data": {
      "text/plain": [
       "True"
      ]
     },
     "execution_count": 2,
     "metadata": {},
     "output_type": "execute_result"
    }
   ],
   "source": [
    "cache.create_session(111)"
   ]
  },
  {
   "cell_type": "code",
   "execution_count": 4,
   "metadata": {
    "ExecuteTime": {
     "end_time": "2018-07-09T18:25:11.404736Z",
     "start_time": "2018-07-09T18:25:11.380780Z"
    }
   },
   "outputs": [
    {
     "data": {
      "text/plain": [
       "'您好，您之前借贷了5万块钱，截至今天已经逾期47天，逾期总欠款5万2千块钱，其中利息1500，滞纳金500块。请问为什么到现在都没有处理呢？\\ncurrent node is: cf_s1_n1_identity_q\\noutput label is: 0\\nnext node is: cf_s1_n2_confirmLoan_q'"
      ]
     },
     "execution_count": 4,
     "metadata": {},
     "output_type": "execute_result"
    }
   ],
   "source": [
    "cache.chat(111,'是的')"
   ]
  },
  {
   "cell_type": "code",
   "execution_count": null,
   "metadata": {},
   "outputs": [],
   "source": []
  }
 ],
 "metadata": {
  "kernelspec": {
   "display_name": "Python 3",
   "language": "python",
   "name": "python3"
  },
  "language_info": {
   "codemirror_mode": {
    "name": "ipython",
    "version": 3
   },
   "file_extension": ".py",
   "mimetype": "text/x-python",
   "name": "python",
   "nbconvert_exporter": "python",
   "pygments_lexer": "ipython3",
   "version": "3.6.5"
  },
  "varInspector": {
   "cols": {
    "lenName": 16,
    "lenType": 16,
    "lenVar": 40
   },
   "kernels_config": {
    "python": {
     "delete_cmd_postfix": "",
     "delete_cmd_prefix": "del ",
     "library": "var_list.py",
     "varRefreshCmd": "print(var_dic_list())"
    },
    "r": {
     "delete_cmd_postfix": ") ",
     "delete_cmd_prefix": "rm(",
     "library": "var_list.r",
     "varRefreshCmd": "cat(var_dic_list()) "
    }
   },
   "types_to_exclude": [
    "module",
    "function",
    "builtin_function_or_method",
    "instance",
    "_Feature"
   ],
   "window_display": false
  }
 },
 "nbformat": 4,
 "nbformat_minor": 2
}
