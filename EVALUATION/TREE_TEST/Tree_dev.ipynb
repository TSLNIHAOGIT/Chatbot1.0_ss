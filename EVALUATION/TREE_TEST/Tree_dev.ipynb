{
 "cells": [
  {
   "cell_type": "code",
   "execution_count": 1,
   "metadata": {
    "ExecuteTime": {
     "end_time": "2018-07-24T17:43:35.741414Z",
     "start_time": "2018-07-24T17:43:34.812113Z"
    }
   },
   "outputs": [],
   "source": [
    "import sys,os\n",
    "\n",
    "ENV_PATH = '../../ENV/'\n",
    "LOG_PATH = '../../Lib/'\n",
    "sys.path.append(ENV_PATH)\n",
    "sys.path.append( LOG_PATH)\n",
    "sys.path.append('../../MLModel/code/OneClickTraining/')\n",
    "sys.path.append('../../MLModel/code/Others/')\n",
    "\n",
    "from all_model_py import *\n",
    "from others_py import *\n",
    "import pickle\n",
    "import pandas as pd\n",
    "from env import ENV,PROFILE\n",
    "from LOG import Logger\n",
    "from TIME import LocalDateTime\n",
    "import re\n",
    "tpattern_path = '../../MLModel/code/TimePattern/'\n",
    "os_tp_path = '../../MLModel/code/TimePattern'\n",
    "sys.path.append(tpattern_path)\n",
    "from  time_pattern import TimePattern\n",
    "            \n",
    "            \n",
    "            \n",
    "            \n",
    "class ClassifierBase:\n",
    "    def load_model(self, **model_path):\n",
    "        pass\n",
    "            \n",
    "            \n",
    "####### classifier 0\n",
    "####### InitClassifier\n",
    "\n",
    "class InitClassifier(ClassifierBase):\n",
    "    def __init__(self, **model_path):\n",
    "        self.load_model(**model_path)\n",
    "        self.description = 'This model is used to initialize conversation'\n",
    "        self.label_explain = {0: 'next'}\n",
    "        \n",
    "    \n",
    "            \n",
    "            \n",
    "    def classify(self,sentence,lower_bound=None,upper_bound=None):\n",
    "        \"\"\"\n",
    "        0 - next\n",
    "        \"\"\"\n",
    "        result_dict = {'label':0,'ptp_time':None}\n",
    "        return result_dict\n",
    "    \n",
    "\n",
    "    \n",
    "    \n",
    "class StopClassifier(ClassifierBase):\n",
    "    def __init__(self, **model_path):\n",
    "        self.load_model(**model_path)\n",
    "        self.description = 'This model is used to handle stop logic'\n",
    "        self.label_explain = {0: 'stop'}\n",
    "        \n",
    "    \n",
    "            \n",
    "            \n",
    "    def classify(self,sentence,lower_bound=None,upper_bound=None):\n",
    "        \"\"\"\n",
    "        0 - next\n",
    "        \"\"\"\n",
    "        \n",
    "        result_dict = {'label':0,'ptp_time':None}\n",
    "        return result_dict\n",
    "    \n",
    "    \n",
    "    \n",
    "\n",
    "\n",
    "class Node:\n",
    "    def __init__(self, node_name, classifier=None, msg_path=None, canJump=False):\n",
    "        self.name = node_name\n",
    "        self._load_message(msg_path)\n",
    "        self.canJump = canJump\n",
    "        self.sentiment = 1\n",
    "        self.sentiment_audit = [self.sentiment]\n",
    "        self.model_name = classifier\n",
    "        self.log = Logger(self.__class__.__name__,level=ENV.NODE_LOG_LEVEL.value).logger\n",
    "\n",
    "        \n",
    "        \n",
    "    def summary(self):\n",
    "        return {'node_name': self.name, \n",
    "                'description':self.describe, \n",
    "                'class_name':self.__class__.__name__, \n",
    "                'model': self.model_name}\n",
    "    \n",
    "    def _triger_jump(self):\n",
    "        if self.canJump is True:\n",
    "            # jump trigger\n",
    "            if self.output_label == 1 and self.sentiment >=3: \n",
    "                self.output_label = 1001\n",
    "        else:\n",
    "            return None\n",
    "    \n",
    "    \n",
    "    \n",
    "    def process(self, sentence, model_dict,lower_bound=None,upper_bound=None):\n",
    "        model = model_dict[self.model_name]\n",
    "        clf = model.classify(sentence,lower_bound,upper_bound)\n",
    "        \n",
    "        self.output_label = clf['label']\n",
    "        # jump trigger\n",
    "        self._triger_jump()\n",
    "        self.detail = clf\n",
    "        return self.output_label, self.detail\n",
    "    \n",
    "    \n",
    "    def _load_message(self, msg_path):\n",
    "        self.messages = pd.read_csv(msg_path, encoding='utf8')\n",
    "        self.messages = self.messages[self.messages['node_name'] == self.name]\n",
    "        self.messages.label = self.messages.label.astype('int')\n",
    "        self.messages.sentiment = self.messages.sentiment.astype('int')\n",
    "        \n",
    "        \n",
    "    def get_response(self, label):\n",
    "        \"\"\"\n",
    "        return response by label\n",
    "        \"\"\"\n",
    "        \n",
    "        df = self.messages[self.messages.label == label]\n",
    "        \n",
    "        max_sentiment = np.max(df.sentiment.values)\n",
    "        \n",
    "        if self.sentiment > max_sentiment:\n",
    "            sentiment = max_sentiment\n",
    "        else:\n",
    "            sentiment = self.sentiment\n",
    "            \n",
    "        df = df[df.sentiment == sentiment]\n",
    "        self.log.debug('Current sentiment is {}, node sentiment is: {}, max message sentiment is: {}'.format(sentiment,self.sentiment,max_sentiment))\n",
    "        self.log.debug('Available number of message is {}'.format(len(df)))\n",
    "        # enable random extract\n",
    "        try:\n",
    "            df = df.sample(frac=1)\n",
    "        except ValueError:\n",
    "            response = 'current node name is{}，ouput label is{},sentiment is{}, no message has been set'.format(self.name,label,sentiment)\n",
    "            self.log.error(response)\n",
    "            return response\n",
    "        try:\n",
    "            response = df.message.values[0]\n",
    "            add_sentiment = df.add_sentiment.values[0]\n",
    "        except IndexError:\n",
    "            response = 'current node name is{}，ouput label is{},sentiment is{}, no message has been set'.format(self.name,label,sentiment)\n",
    "            self.log.error(response)\n",
    "            return response\n",
    "        self.sentiment += add_sentiment\n",
    "        self.sentiment_audit.append(self.sentiment)\n",
    "        return response\n",
    "\n",
    "\n",
    "######################################### Tree #########################################################################\n",
    "\n",
    "\n",
    "class PF:\n",
    "    def __init__(self,profile=None):\n",
    "        \"\"\"\n",
    "        profile should be None or dictionary:\n",
    "        fields:\n",
    "        1. name: lastName + firstName, eg \"Li Ming\"\n",
    "            if name is None, the constructor will try to load \"lastName\" and \"firstName\"\n",
    "        2. principal: the money borrowed,   eg:'10,000'\n",
    "        3. contractStartDate, the date when money was borrowed.  eg:\"2018年5月2日\", format\"dddd年dd月dd日\"\n",
    "        4. contractEndDate, the date before when total amount should be paid.\n",
    "                eg:\"2018年5月2日\", format\"dddd年dd月dd日\"\n",
    "        5. apr:  yearly/monthly, no calculation will be involved.  type: string. eg, '9%'\n",
    "        6. fee: late payment fee. string, eg \"500\"\n",
    "        7. lendingCompany: the money originally borrowed from\n",
    "            type, string, eg \"平安E贷\"\n",
    "        8. collectionCompany\n",
    "            type, string, eg \"江苏逸能\"\n",
    "        9. customerID\n",
    "            string or int \"100000\"\n",
    "        10. gender\n",
    "            string, \"男/女\"\n",
    "        11. collector: the agent who makes the call\n",
    "            string : \"李明\"\n",
    "        12. totalAmount: the total amount owed by debotor\n",
    "            string: “50,000”\n",
    "        13. informDeadline: the deadline to collect money\n",
    "            相对时间\n",
    "            string: “明天下午2点”\n",
    "        14. splitDebtMaxTolerance: the max tolerance of split debt time\n",
    "            相对时间:\n",
    "            string: 1个月以后\n",
    "        15. splitDebtFirstPay: the first payment amount after set up split debt\n",
    "            string: '10,000'\n",
    "        *16. deltaTime: the time diff between now and contract end Date. This will be calcualted\n",
    "        \"\"\"\n",
    "        self.log = Logger(self.__class__.__name__,level=ENV.PROFILE_LOG_LEVEL.value).logger\n",
    "        self.dt = LocalDateTime()\n",
    "        if profile is None:\n",
    "            self._load_default()\n",
    "        else:\n",
    "            self._load_profile(profile)\n",
    "        self.re_time = TimePattern()\n",
    "        self._loadUpLowBound()\n",
    "        \n",
    "    def _load_default(self):\n",
    "        self.log.debug('profile is None. The default demo profile will be loaded!')\n",
    "        self.name = PROFILE.lastName.value + PROFILE.firstName.value\n",
    "        self.principal = PROFILE.principal.value\n",
    "        self.contractStartDate = PROFILE.contractStartDate.value\n",
    "        self.contractEndDate = PROFILE.contractEndDate.value\n",
    "        self.apr = PROFILE.apr.value\n",
    "        self.interest = PROFILE.interest.value\n",
    "        self.fee = PROFILE.fee.value\n",
    "        self.lendingCompany = PROFILE.lendingCompany.value\n",
    "        self.collectionCompany = PROFILE.collectionCompany.value\n",
    "        self.customerID = PROFILE.customerID.value\n",
    "        self.gender = PROFILE.gender.value\n",
    "        self.collector = PROFILE.collector.value\n",
    "        self.totalAmount = PROFILE.totalAmount.value\n",
    "        self.informDeadline = PROFILE.informDeadline.value\n",
    "        self.splitDebtMaxTolerance = PROFILE.splitDebtMaxTolerance.value\n",
    "        self.splitDebtFirstPay = PROFILE.splitDebtFirstPay.value\n",
    "        self.deltaTime = (self.dt.getLocalNow() - self.create_from_D(self.contractEndDate)).days\n",
    "        self._get_prefix()\n",
    "        self.log.info('Customer ID is {}, principal is {}, apr is {}'.format(self.customerID,\n",
    "                                                                             self.principal,\n",
    "                                                                             self.apr))\n",
    "        \n",
    "    def _load_profile(self, profile):\n",
    "        self.log.debug('Loading From Profile')\n",
    "        self.name = profile.get('name')\n",
    "        if self.name is None:\n",
    "            self.name = profile['lastName']+profile['firstName']\n",
    "        self.principal = profile['principal']\n",
    "        self.contractStartDate = profile['contractStartDate']\n",
    "        self.contractEndDate = profile['contractEndDate']\n",
    "        self.apr = profile['apr']\n",
    "        self.interest = profile['interest']\n",
    "        self.fee = profile['fee']\n",
    "        self.lendingCompany = profile['lendingCompany']\n",
    "        self.collectionCompany = profile['collectionCompany']\n",
    "        self.customerID = profile.get('customerID')\n",
    "        self.gender = profile['gender']\n",
    "        self.collector = PROFILE.collector.value\n",
    "        self.totalAmount = profile['totalAmount']\n",
    "        self.informDeadline = profile['informDeadline']\n",
    "        self.splitDebtMaxTolerance = profile['splitDebtMaxTolerance']\n",
    "        self.splitDebtFirstPay = profile['splitDebtFirstPay']\n",
    "        self.deltaTime = (self.dt.getLocalNow() - self.create_from_D(self.contractEndDate)).days\n",
    "        self._get_prefix()\n",
    "        self.log.info('Customer ID is {}, principal is {}, apr is {}'.format(self.customerID,\n",
    "                                                                             self.principal,\n",
    "                                                                             self.apr))\n",
    "        \n",
    "    def _loadUpLowBound(self):\n",
    "        upper = self.re_time.process(self.splitDebtMaxTolerance)\n",
    "        lower = self.re_time.process(self.informDeadline)\n",
    "        try:\n",
    "            self.upper= upper[0]['gapH']\n",
    "            self.upperDateTime = upper[0]['time']\n",
    "            self.log.info('Load profile Upper bound successfully!')\n",
    "        except:\n",
    "            self.log.error('Loading Upper error! Set to default')\n",
    "            self._loadDefaultUpBound()\n",
    "        try:\n",
    "            self.lower= lower[0]['gapH']\n",
    "            self.lowerDateTime = lower[0]['time']\n",
    "            self.log.info('Load profile Lower bound successfully!')\n",
    "        except KeyError:\n",
    "            self.log.error('Loading lower error! Set to default')\n",
    "            self._loadDefaultLowBound()\n",
    "    \n",
    "    def _loadDefaultUpBound(self):\n",
    "        upper = self.re_time.process('1个月')\n",
    "        self.upper = upper[0]['gapH']\n",
    "        self.upperDateTime = upper[0]['time']\n",
    "        \n",
    "    def _loadDefaultLowBound(self):\n",
    "        lower = self.re_time.process('明天下午3点')\n",
    "        self.lower = lower[0]['gapH']\n",
    "        self.lowerDateTime = lower[0]['time']\n",
    "    \n",
    "        \n",
    "        \n",
    "    \n",
    "    def _get_prefix(self):\n",
    "        if self.gender == '男':\n",
    "            self.prefix = '先生'\n",
    "        elif self.gender == '女':\n",
    "            self.prefix = '女士'\n",
    "        else:\n",
    "            self.prefix = '先生/女士'\n",
    "\n",
    "    def create_from_D(self, date):\n",
    "        year = int(re.findall('\\d{4}年',date)[0][:-1])\n",
    "        month = int(re.findall('\\d{1,2}月',date)[0][:-1])\n",
    "        day = int(re.findall('\\d{1,2}日',date)[0][:-1])\n",
    "        return self.dt.createLocalTime(year=year,month=month,day=day)\n",
    "        \n",
    "\n",
    "      \n",
    "        \n",
    "class TreeBase:\n",
    "    def __init__(self, start_node='s0', profile=None):\n",
    "        self.current_node_name = start_node\n",
    "        self.log = Logger(self.__class__.__name__,level=ENV.TREE_LOG_LEVEL.value).logger\n",
    "        self.fc_path = []\n",
    "        self.all_path = []\n",
    "        self.profile = PF(profile)\n",
    "        self.conversationId = 1\n",
    "        self.dt = LocalDateTime()\n",
    "        self.cache = {'startTime':self.dt.getLocalNow(),\n",
    "                      'chat':[],\n",
    "                      'nearestToleranceDate':self.profile.lowerDateTime,\n",
    "                      'promiseToPayDate':None,\n",
    "                      'promiseToPayAmount':0.0}\n",
    "        self.agent_response = []\n",
    "        \n",
    "        \n",
    "    def _evaluate_sentence(self,sentence):\n",
    "        \"\"\"\n",
    "        self.name = profile.get('name')\n",
    "        self.principal = profile.get('principal')\n",
    "        self.contractStartDate = profile.get('contractStartDate')\n",
    "        self.contractEndDate = profile.get('contractEndDate')\n",
    "        self.apr = profile.get('apr')\n",
    "        self.interest = profile.get('interest')\n",
    "        self.fee = profile.get('fee')\n",
    "        self.lendingCompany = profile.get('lendingCompany')\n",
    "        self.collectionCompany = profile.get('collectionCompany')\n",
    "        self.customerID = profile.get('customerID')\n",
    "        self.deltaTime = (dt.datetime.now() - self.create_from_D(self.contractEndDate)).days\n",
    "        self._get_prefix()\n",
    "        \"\"\"\n",
    "        return sentence.format(name=self.profile.name, \n",
    "                               principal=self.profile.principal,\n",
    "                               contractStartDate=self.profile.contractStartDate,\n",
    "                               contractEndDate=self.profile.contractEndDate,\n",
    "                               apr=self.profile.apr,\n",
    "                               interest=self.profile.interest,\n",
    "                               fee=self.profile.fee,\n",
    "                               lendingCompany=self.profile.lendingCompany,\n",
    "                               collectionCompany=self.profile.collectionCompany,\n",
    "                               deltaTime=self.profile.deltaTime,\n",
    "                               prefix=self.profile.prefix,\n",
    "                               collector = self.profile.collector,\n",
    "                               totalAmount = self.profile.totalAmount,\n",
    "                               informDeadline=self.profile.informDeadline,\n",
    "                               splitDebtMaxTolerance=self.profile.splitDebtMaxTolerance,\n",
    "                               splitDebtFirstPay=self.profile.splitDebtFirstPay)\n",
    "        \n",
    "        \n",
    "        \n",
    "    \n",
    "class TreeStage1(TreeBase):\n",
    "    def __init__(self, start_node='s0',debug=False, profile=None):\n",
    "        \"\"\"\n",
    "        profile should be None or dictionary:\n",
    "        fields:\n",
    "        1. name: lastName + firstName, eg \"Li Ming\"\n",
    "            if name is None, the constructor will try to load \"lastName\" and \"firstName\"\n",
    "        2. principal: the money borrowed,   eg:'10,000'\n",
    "        3. contractStartDate, the date when money was borrowed.  eg:\"2018年5月2日\", format\"dddd年dd月dd日\"\n",
    "        4. contractEndDate, the date before when total amount should be paid.\n",
    "                eg:\"2018年5月2日\", format\"dddd年dd月dd日\"\n",
    "        5. apr:  yearly/monthly, no calculation will be involved.  type: string. eg, '9%'\n",
    "        6. fee: late payment fee. string, eg \"500\"\n",
    "        7. lendingCompany: the money originally borrowed from\n",
    "            type, string, eg \"平安E贷\"\n",
    "        8. collectionCompany\n",
    "            type, string, eg \"江苏逸能\"\n",
    "        9. customerID\n",
    "            string or int \"100000\"\n",
    "        10. gender\n",
    "            string, \"男/女\"\n",
    "        11. collector: the agent who makes the call\n",
    "            string : \"李明\"\n",
    "        12. totalAmount: the total amount owed by debotor\n",
    "            string: “50,000”\n",
    "        13. informDeadline: the deadline to collect money\n",
    "            相对时间\n",
    "            string: “明天下午2点”\n",
    "        14. splitDebtMaxTolerance: the max tolerance of split debt time\n",
    "            相对时间:\n",
    "            string: 1个月以后\n",
    "        15. splitDebtFirstPay: the first payment amount after set up split debt\n",
    "            string: '10,000'\n",
    "        *16. deltaTime: the time diff between now and contract end Date. This will be calcualted\n",
    "        \"\"\"\n",
    "        super().__init__(start_node=start_node,profile=profile)\n",
    "        self.msg_csv = ENV.NODE_MES_CSV.value\n",
    "        self.graph_csv = ENV.TREE_CONNECTION_CSV.value\n",
    "        self._build_node()\n",
    "        self.debug = debug\n",
    "\n",
    "    def _build_node(self):\n",
    "        self.messages = pd.read_csv(self.msg_csv,encoding='utf8')\n",
    "        self.df_mapping = pd.read_csv(self.graph_csv)\n",
    "        gp = self.df_mapping.groupby('node_name')\n",
    "        self.end_classifier = 'StopClassifier'\n",
    "        self.funcion_node_name = []\n",
    "        self.end_node_name = []\n",
    "        self.mapping = {}\n",
    "        self.nodes = {}\n",
    "        for each in gp:\n",
    "            # 1.get node name\n",
    "            node_name = each[0]\n",
    "            self.funcion_node_name.append(node_name)\n",
    "            # 2. get dataframe under group\n",
    "            df_tmp = each[1]\n",
    "            # 2.1 get classifier name\n",
    "            classifier = each[1]['classifier'].values[0]\n",
    "            df_tmp = df_tmp.set_index('label')\n",
    "            # 2.2 get can Jump\n",
    "            if df_tmp.index.max() >= 1000:\n",
    "                canJump = True\n",
    "            else:\n",
    "                canJump = False\n",
    "            # 3. initialize node\n",
    "            self.nodes[node_name] = Node(node_name,classifier,self.msg_csv,canJump)\n",
    "            # update mapping\n",
    "            self.mapping.update({each[0]:df_tmp.T.to_dict()})\n",
    "        self.end_node_name = list(set(self.df_mapping['connection']) - set(self.funcion_node_name))\n",
    "        ## initialize for end node\n",
    "        for each in self.end_node_name:\n",
    "            canJump = False\n",
    "            self.nodes[each] = Node(each,self.end_classifier,self.msg_csv,canJump)\n",
    "        \n",
    "\n",
    "        \n",
    "    def _updates(self, _label):\n",
    "        \"\"\"\n",
    "        update fc_path, all_path, current_node_name\n",
    "        return current node, response\n",
    "        \"\"\"\n",
    "        cur_node = self.nodes[self.current_node_name]\n",
    "        \n",
    "        # get current response\n",
    "        response = cur_node.get_response(_label)\n",
    "\n",
    "        \n",
    "        # get next node_name\n",
    "        if self.mapping.get(self.current_node_name) is not None:\n",
    "            next_node_name = self.mapping.get(self.current_node_name)[_label]['connection']\n",
    "        else:\n",
    "            next_node_name = None\n",
    "            \n",
    "        if self.debug:\n",
    "            response = response + '<-current node is: {}->'.format(self.current_node_name)\n",
    "            response = response + '<-output label is: {}->'.format(_label)\n",
    "            response = response + '<-next node is: {}->'.format(next_node_name)\n",
    "        return response, next_node_name\n",
    "        \n",
    "        \n",
    "        \n",
    "    def process(self, sentence, model_dict):\n",
    "        current_node_name = self.current_node_name\n",
    "        current_node = self.nodes[current_node_name]\n",
    "        \n",
    "        self.log.debug('Current node name is {}'.format(self.current_node_name))\n",
    "        if current_node.model_name == 'StopClassifier':\n",
    "            self.log.debug('Reach Stop Node: {}'.format(self.current_node_name))\n",
    "            return 'end'\n",
    "        _label,_detail = current_node.process(sentence, model_dict,self.profile.lower,self.profile.upper)\n",
    "        self.log.debug('Output label is {}'.format(_label))\n",
    "\n",
    "        response,next_node_name = self._updates(_label)\n",
    "        response = self._evaluate_sentence(response)\n",
    "        self.agent_response.append(response)\n",
    "        \n",
    "        if current_node_name != 's0':\n",
    "            self._update_cache(sentence,current_node_name,next_node_name,_label,_detail)\n",
    "                \n",
    "        \n",
    "        if next_node_name is None:\n",
    "            self.log.debug('Next node name is None. Reach stop node')\n",
    "            return 'end'\n",
    "        else:\n",
    "            self.current_node_name = next_node_name\n",
    "            self.log.debug('Next node name is {}.'.format(self.current_node_name))\n",
    "        return response\n",
    "    \n",
    "    def _update_cache(self,sentence,current_node_name,next_node_name,label,detail):\n",
    "        cur_id = self.conversationId\n",
    "        try:\n",
    "            confidence = np.max(detail['av_pred'])\n",
    "        except:\n",
    "            self.log.error('confidence calulation error!!!!!!!')\n",
    "            confidence = 1\n",
    "        if 99<label<999:\n",
    "            other_response = detail.get('other_response')\n",
    "            if other_response is not None:\n",
    "                confidence_other = np.max(other_response['av_pred'])\n",
    "            else:\n",
    "                confidence_other = -1\n",
    "        else:\n",
    "            confidence_other = -1\n",
    "        if next_node_name is None:\n",
    "            status = 'complete'\n",
    "        elif self.nodes[next_node_name].model_name == 'StopClassifier':\n",
    "            status = 'complete'\n",
    "        else:\n",
    "            status = 'incomplete'\n",
    "        conversation = {'id':cur_id,\n",
    "                        'agent':self.agent_response[-2],\n",
    "                        'customer':sentence,\n",
    "                        'currentNode':current_node_name,\n",
    "                        'nextNode':next_node_name,\n",
    "                        'label':int(label),\n",
    "                        'confidence':float(confidence),\n",
    "                        'confidence_other':float(confidence_other),\n",
    "                        'responseTime':self.dt.getLocalNow(),\n",
    "                        'nodeSentiment':int(self.nodes[current_node_name].sentiment_audit[-2])}\n",
    "        self.conversationId += 1\n",
    "        self.cache['chat'].append(conversation)\n",
    "        self.cache.update({'status':status})\n",
    "        self.cache.update({'endingNode':next_node_name})\n",
    "        self.cache.update({'customerLastSentence': sentence})\n",
    "    \n",
    "    def ttest(self, sentence, model_dict,label):\n",
    "        \"\"\"\n",
    "        random path test\n",
    "        \"\"\"\n",
    "        current_node = self.nodes[self.current_node_name] \n",
    "        if current_node.model_name == 'StopClassifier':\n",
    "            return 'end'\n",
    "        _label,_detail = current_node.process(sentence, model_dict)\n",
    "        _label = label\n",
    "\n",
    "        response,next_node_name = self._updates(_label)\n",
    "        \n",
    "        if next_node_name is None:\n",
    "            return 'end'\n",
    "        else:\n",
    "            self.current_node_name = next_node_name\n",
    "        return response\n",
    "    def test_evaluateMessages(self):\n",
    "        messages = self.messages.message.values\n",
    "        for each in messages:\n",
    "            evl = self._evaluate_sentence(each)\n",
    "            print(evl)\n",
    "            if len(re.findall(r'{.*?}',evl)) > 0:\n",
    "                   raise ValueError(evl)\n",
    "        "
   ]
  },
  {
   "cell_type": "code",
   "execution_count": 2,
   "metadata": {
    "ExecuteTime": {
     "end_time": "2018-07-24T17:44:08.126622Z",
     "start_time": "2018-07-24T17:44:07.524961Z"
    }
   },
   "outputs": [
    {
     "name": "stderr",
     "output_type": "stream",
     "text": [
      "2018-07-24 17:44:07,562 - DEBUG - CLASS:PF- METHOD:_load_default -LINE:204 - MSG:profile is None. The default demo profile will be loaded!\n",
      "2018-07-24 17:44:07,569 - INFO - CLASS:PF- METHOD:_load_default -LINE:225 - MSG:Customer ID is 1000000000, principal is 50,000, apr is 9%\n",
      "2018-07-24 17:44:07,649 - INFO - CLASS:PF- METHOD:_loadUpLowBound -LINE:259 - MSG:Load profile Upper bound successfully!\n",
      "2018-07-24 17:44:07,650 - INFO - CLASS:PF- METHOD:_loadUpLowBound -LINE:266 - MSG:Load profile Lower bound successfully!\n"
     ]
    },
    {
     "name": "stdout",
     "output_type": "stream",
     "text": [
      "Time Zone is set from ENV: Asia/Shanghai\n"
     ]
    }
   ],
   "source": [
    "t1 = TreeStage1()"
   ]
  },
  {
   "cell_type": "code",
   "execution_count": 3,
   "metadata": {
    "ExecuteTime": {
     "end_time": "2018-07-24T17:44:17.321073Z",
     "start_time": "2018-07-24T17:44:15.392332Z"
    }
   },
   "outputs": [
    {
     "name": "stderr",
     "output_type": "stream",
     "text": [
      "Building prefix dict from the default dictionary ...\n",
      "Loading model from cache /tmp/jieba.cache\n",
      "Loading model cost 0.741 seconds.\n",
      "Prefix dict has been built succesfully.\n"
     ]
    }
   ],
   "source": [
    "graph_path='../../MLModel/data/TreeModel/treeConnection.csv'\n",
    "msg_path='../../MLModel/data/TreeModel/node_message.csv'\n",
    "models_list = ['IDClassifier','CutDebt','IfKnowDebtor','WillingToPay','Installment','ConfirmLoan']\n",
    "savedModel_path = '../../MLModel/savedModel/{}/{}.pickle'\n",
    "\n",
    "model_dict = {}\n",
    "for each_model in models_list:\n",
    "    model_dict[each_model] = pickle.load(open(savedModel_path.format(each_model,each_model), 'rb'))\n",
    "    model_dict[each_model].classify('再说一次')\n",
    "    \n",
    "model_dict['StopClassifier'] = StopClassifier()\n",
    "model_dict['InitClassifier'] = InitClassifier()   "
   ]
  },
  {
   "cell_type": "code",
   "execution_count": 4,
   "metadata": {
    "ExecuteTime": {
     "end_time": "2018-07-24T17:38:21.066240Z",
     "start_time": "2018-07-24T17:38:21.056786Z"
    }
   },
   "outputs": [],
   "source": [
    "# p = PF()"
   ]
  },
  {
   "cell_type": "code",
   "execution_count": 5,
   "metadata": {
    "ExecuteTime": {
     "end_time": "2018-07-24T17:44:37.103966Z",
     "start_time": "2018-07-24T17:44:37.079462Z"
    }
   },
   "outputs": [
    {
     "name": "stderr",
     "output_type": "stream",
     "text": [
      "2018-07-24 17:44:37,080 - DEBUG - CLASS:TreeStage1- METHOD:process -LINE:458 - MSG:Current node name is cf_s1_n1_identity_q\n",
      "2018-07-24 17:44:37,089 - DEBUG - CLASS:TreeStage1- METHOD:process -LINE:463 - MSG:Output label is 0\n",
      "2018-07-24 17:44:37,094 - DEBUG - CLASS:TreeStage1- METHOD:process -LINE:478 - MSG:Next node name is cf_s1_n2_confirmLoan_q.\n"
     ]
    },
    {
     "data": {
      "text/plain": [
       "'您好，我是平安E贷小额贷款的催收员小张。您之前于2018年1月16日向平安E贷小额贷款借贷了人民币50,000约定于2018年5月16日还清。截至今天已经逾期70天，逾期总欠款人民币52,000元，其中利息1,500元，滞纳金500块。现在平安E贷小额贷款委托我方协助追回欠款！请问这笔欠款为什么到现在都没有处理呢？'"
      ]
     },
     "execution_count": 5,
     "metadata": {},
     "output_type": "execute_result"
    }
   ],
   "source": [
    "t1.process('是的',model_dict)"
   ]
  },
  {
   "cell_type": "code",
   "execution_count": 10,
   "metadata": {
    "ExecuteTime": {
     "end_time": "2018-07-23T15:38:58.833612Z",
     "start_time": "2018-07-23T15:38:58.823921Z"
    }
   },
   "outputs": [
    {
     "data": {
      "text/plain": [
       "{'startTime': datetime.datetime(2018, 7, 23, 23, 38, 35, 650183, tzinfo=<DstTzInfo 'Asia/Shanghai' CST+8:00:00 STD>),\n",
       " 'chat': [{'id': 1,\n",
       "   'agent': '你好，这里是平安E贷小额贷款，请问是李明先生吗？',\n",
       "   'customer': '是',\n",
       "   'currentNode': 'cf_s1_n1_identity_q',\n",
       "   'nextNode': 'cf_s1_n2_confirmLoan_q',\n",
       "   'label': 0,\n",
       "   'confidence': 0.762986721173855,\n",
       "   'confidence_other': -1.0,\n",
       "   'responseTime': datetime.datetime(2018, 7, 23, 23, 38, 44, 781513, tzinfo=<DstTzInfo 'Asia/Shanghai' CST+8:00:00 STD>),\n",
       "   'nodeSentiment': 1},\n",
       "  {'id': 2,\n",
       "   'agent': '您好，我是平安E贷小额贷款的催收员小张。您之前于2018年1月16日向平安E贷小额贷款借贷了人民币50,000约定于2018年5月16日还清。截至今天已经逾期68天，逾期总欠款人民币52,000元，其中利息1,500，滞纳金500块。现在平安E贷小额贷款委托我方协助追回欠款！请问这笔欠款为什么到现在都没有处理呢？',\n",
       "   'customer': '说了我没有借过',\n",
       "   'currentNode': 'cf_s1_n2_confirmLoan_q',\n",
       "   'nextNode': 'cf_s1_n2_confirmLoan_q',\n",
       "   'label': 1,\n",
       "   'confidence': 0.6907254927642473,\n",
       "   'confidence_other': -1.0,\n",
       "   'responseTime': datetime.datetime(2018, 7, 23, 23, 38, 47, 786660, tzinfo=<DstTzInfo 'Asia/Shanghai' CST+8:00:00 STD>),\n",
       "   'nodeSentiment': 1},\n",
       "  {'id': 3,\n",
       "   'agent': '我方持有您贷款的相关证件及影像资料。您这种行为，涉嫌逃债及恶意拖欠，是需要承担相应法律责任的！为什么一直不还呢？',\n",
       "   'customer': '说了我没有借过',\n",
       "   'currentNode': 'cf_s1_n2_confirmLoan_q',\n",
       "   'nextNode': 'cf_s1_n2_confirmLoan_q',\n",
       "   'label': 1,\n",
       "   'confidence': 0.6907254927642473,\n",
       "   'confidence_other': -1.0,\n",
       "   'responseTime': datetime.datetime(2018, 7, 23, 23, 38, 52, 635462, tzinfo=<DstTzInfo 'Asia/Shanghai' CST+8:00:00 STD>),\n",
       "   'nodeSentiment': 2},\n",
       "  {'id': 4,\n",
       "   'agent': '所有借款记录都证明这个钱是你贷的，如果恶意逃避贷款事实 ，将会受到法律制裁的，你的欠款没有及时处理究竟是什么原因造成的？',\n",
       "   'customer': '说了我没有借过',\n",
       "   'currentNode': 'cf_s1_n2_confirmLoan_q',\n",
       "   'nextNode': 'cf_s1_n108_noResult_s',\n",
       "   'label': 1001,\n",
       "   'confidence': 0.6907254927642473,\n",
       "   'confidence_other': -1.0,\n",
       "   'responseTime': datetime.datetime(2018, 7, 23, 23, 38, 55, 705301, tzinfo=<DstTzInfo 'Asia/Shanghai' CST+8:00:00 STD>),\n",
       "   'nodeSentiment': 3}],\n",
       " 'nearestToleranceDate': datetime.datetime(2018, 7, 24, 15, 0, tzinfo=<DstTzInfo 'Asia/Shanghai' CST+8:00:00 STD>),\n",
       " 'promiseToPayDate': None,\n",
       " 'promiseToPayAmount': 0.0,\n",
       " 'status': 'complete',\n",
       " 'endingNode': 'cf_s1_n108_noResult_s',\n",
       " 'customerLastSentence': '说了我没有借过'}"
      ]
     },
     "execution_count": 10,
     "metadata": {},
     "output_type": "execute_result"
    }
   ],
   "source": [
    "t1.cache"
   ]
  },
  {
   "cell_type": "code",
   "execution_count": 13,
   "metadata": {
    "ExecuteTime": {
     "end_time": "2018-07-23T02:34:11.227630Z",
     "start_time": "2018-07-23T02:34:11.214981Z"
    }
   },
   "outputs": [
    {
     "data": {
      "text/plain": [
       "0.0546875"
      ]
     },
     "execution_count": 13,
     "metadata": {},
     "output_type": "execute_result"
    }
   ],
   "source": [
    "import sys\n",
    "sys.getsizeof(t1)/1024 **1"
   ]
  },
  {
   "cell_type": "code",
   "execution_count": 23,
   "metadata": {
    "ExecuteTime": {
     "end_time": "2018-07-23T02:35:22.127374Z",
     "start_time": "2018-07-23T02:35:22.118660Z"
    }
   },
   "outputs": [
    {
     "data": {
      "text/plain": [
       "56"
      ]
     },
     "execution_count": 23,
     "metadata": {},
     "output_type": "execute_result"
    }
   ],
   "source": [
    "sys.getsizeof(t1)"
   ]
  },
  {
   "cell_type": "code",
   "execution_count": 10,
   "metadata": {
    "ExecuteTime": {
     "end_time": "2018-07-23T02:32:50.574434Z",
     "start_time": "2018-07-23T02:32:50.563677Z"
    }
   },
   "outputs": [
    {
     "data": {
      "text/plain": [
       "{'startTime': datetime.datetime(2018, 7, 22, 22, 32, 31, 765455, tzinfo=<DstTzInfo 'America/New_York' EDT-1 day, 20:00:00 DST>),\n",
       " 'chat': [{'id': 1,\n",
       "   'agent': '不好意思，打扰了，请问您认识李明先生吗！',\n",
       "   'customer': '不是',\n",
       "   'currentNode': 'cf_s1_n1_identity_q',\n",
       "   'nextNode': 'cf_s1_n5_ifAcquainted_q',\n",
       "   'label': 1,\n",
       "   'confidence': 0.9712058428723102,\n",
       "   'confidence_other': -1.0,\n",
       "   'responseTime': datetime.datetime(2018, 7, 22, 22, 32, 41, 913178, tzinfo=<DstTzInfo 'America/New_York' EDT-1 day, 20:00:00 DST>)},\n",
       "  {'id': 2,\n",
       "   'agent': '十分抱歉，打扰到您。感谢您的配合，再见！',\n",
       "   'customer': '不认识',\n",
       "   'currentNode': 'cf_s1_n5_ifAcquainted_q',\n",
       "   'nextNode': 'cf_s1_n102_ifAcquainted_s',\n",
       "   'label': 1,\n",
       "   'confidence': 0.8001068324464335,\n",
       "   'confidence_other': -1.0,\n",
       "   'responseTime': datetime.datetime(2018, 7, 22, 22, 32, 47, 817171, tzinfo=<DstTzInfo 'America/New_York' EDT-1 day, 20:00:00 DST>)}],\n",
       " 'nearestToleranceDate': datetime.datetime(2018, 7, 23, 15, 0, tzinfo=<DstTzInfo 'America/New_York' EDT-1 day, 20:00:00 DST>),\n",
       " 'promiseToPayDate': None,\n",
       " 'promiseToPayAmount': 0.0,\n",
       " 'status': 'complete',\n",
       " 'endingNode': 'cf_s1_n102_ifAcquainted_s',\n",
       " 'customerLastSentence': '不认识'}"
      ]
     },
     "execution_count": 10,
     "metadata": {},
     "output_type": "execute_result"
    }
   ],
   "source": [
    "t1.cache"
   ]
  },
  {
   "cell_type": "code",
   "execution_count": 9,
   "metadata": {
    "ExecuteTime": {
     "end_time": "2018-07-20T21:11:00.743496Z",
     "start_time": "2018-07-20T21:11:00.734642Z"
    }
   },
   "outputs": [
    {
     "data": {
      "text/plain": [
       "int"
      ]
     },
     "execution_count": 9,
     "metadata": {},
     "output_type": "execute_result"
    }
   ],
   "source": [
    "type(t1.cache['chat'][0]['label'])"
   ]
  },
  {
   "cell_type": "code",
   "execution_count": 7,
   "metadata": {
    "ExecuteTime": {
     "end_time": "2018-07-23T00:28:52.319381Z",
     "start_time": "2018-07-23T00:28:52.303279Z"
    }
   },
   "outputs": [],
   "source": [
    "class InitClassifier(ClassifierBase):\n",
    "    def __init__(self, **model_path):\n",
    "        self.load_model(**model_path)\n",
    "        self.description = 'This model is used to initialize conversation'\n",
    "        self.label_explain = {0: 'next'}\n",
    "        \n",
    "    \n",
    "            \n",
    "            \n",
    "    def classify(self,sentence,**arg):\n",
    "        \"\"\"\n",
    "        0 - next\n",
    "        \"\"\"\n",
    "        result_dict = {'label':0,'ptp_time':None}\n",
    "        return result_dict"
   ]
  },
  {
   "cell_type": "code",
   "execution_count": 4,
   "metadata": {
    "ExecuteTime": {
     "end_time": "2018-07-23T00:44:25.575717Z",
     "start_time": "2018-07-23T00:44:25.571882Z"
    }
   },
   "outputs": [],
   "source": [
    "i = InitClassifier()"
   ]
  },
  {
   "cell_type": "code",
   "execution_count": 5,
   "metadata": {
    "ExecuteTime": {
     "end_time": "2018-07-23T00:44:39.965441Z",
     "start_time": "2018-07-23T00:44:39.958015Z"
    }
   },
   "outputs": [
    {
     "data": {
      "text/plain": [
       "{'label': 0, 'ptp_time': None}"
      ]
     },
     "execution_count": 5,
     "metadata": {},
     "output_type": "execute_result"
    }
   ],
   "source": [
    "i.classify('年后',23,231)"
   ]
  },
  {
   "cell_type": "markdown",
   "metadata": {},
   "source": [
    "# import from py"
   ]
  },
  {
   "cell_type": "code",
   "execution_count": 1,
   "metadata": {
    "ExecuteTime": {
     "end_time": "2018-07-23T01:56:34.796230Z",
     "start_time": "2018-07-23T01:56:34.623939Z"
    }
   },
   "outputs": [
    {
     "ename": "ModuleNotFoundError",
     "evalue": "No module named 'all_model_py'",
     "output_type": "error",
     "traceback": [
      "\u001b[0;31m---------------------------------------------------------------------------\u001b[0m",
      "\u001b[0;31mModuleNotFoundError\u001b[0m                       Traceback (most recent call last)",
      "\u001b[0;32m<ipython-input-1-6ed7a4dec985>\u001b[0m in \u001b[0;36m<module>\u001b[0;34m()\u001b[0m\n\u001b[1;32m      1\u001b[0m \u001b[0;32mimport\u001b[0m \u001b[0msys\u001b[0m\u001b[0;34m,\u001b[0m\u001b[0mos\u001b[0m\u001b[0;34m\u001b[0m\u001b[0m\n\u001b[1;32m      2\u001b[0m \u001b[0msys\u001b[0m\u001b[0;34m.\u001b[0m\u001b[0mpath\u001b[0m\u001b[0;34m.\u001b[0m\u001b[0mappend\u001b[0m\u001b[0;34m(\u001b[0m\u001b[0;34m'../../MLModel/code/TreeModelV2/'\u001b[0m\u001b[0;34m)\u001b[0m\u001b[0;34m\u001b[0m\u001b[0m\n\u001b[0;32m----> 3\u001b[0;31m \u001b[0;32mfrom\u001b[0m \u001b[0mchatbotv1\u001b[0m \u001b[0;32mimport\u001b[0m \u001b[0;34m*\u001b[0m\u001b[0;34m\u001b[0m\u001b[0m\n\u001b[0m",
      "\u001b[0;32m~/data/jupyter/Chatbot1.0/MLModel/code/TreeModelV2/chatbotv1.py\u001b[0m in \u001b[0;36m<module>\u001b[0;34m()\u001b[0m\n\u001b[1;32m      9\u001b[0m \u001b[0msys\u001b[0m\u001b[0;34m.\u001b[0m\u001b[0mpath\u001b[0m\u001b[0;34m.\u001b[0m\u001b[0mappend\u001b[0m\u001b[0;34m(\u001b[0m\u001b[0;34m'../OneClickTraining/'\u001b[0m\u001b[0;34m)\u001b[0m\u001b[0;34m\u001b[0m\u001b[0m\n\u001b[1;32m     10\u001b[0m \u001b[0msys\u001b[0m\u001b[0;34m.\u001b[0m\u001b[0mpath\u001b[0m\u001b[0;34m.\u001b[0m\u001b[0mappend\u001b[0m\u001b[0;34m(\u001b[0m\u001b[0;34m'../Others/'\u001b[0m\u001b[0;34m)\u001b[0m\u001b[0;34m\u001b[0m\u001b[0m\n\u001b[0;32m---> 11\u001b[0;31m \u001b[0;32mfrom\u001b[0m \u001b[0mall_model_py\u001b[0m \u001b[0;32mimport\u001b[0m \u001b[0;34m*\u001b[0m\u001b[0;34m\u001b[0m\u001b[0m\n\u001b[0m\u001b[1;32m     12\u001b[0m \u001b[0;32mfrom\u001b[0m \u001b[0mothers_py\u001b[0m \u001b[0;32mimport\u001b[0m \u001b[0;34m*\u001b[0m\u001b[0;34m\u001b[0m\u001b[0m\n\u001b[1;32m     13\u001b[0m \u001b[0;32mimport\u001b[0m \u001b[0mpickle\u001b[0m\u001b[0;34m\u001b[0m\u001b[0m\n",
      "\u001b[0;31mModuleNotFoundError\u001b[0m: No module named 'all_model_py'"
     ]
    }
   ],
   "source": [
    "import sys,os\n",
    "sys.path.append('../../MLModel/code/TreeModelV2/')\n",
    "from chatbotv1 import T"
   ]
  },
  {
   "cell_type": "code",
   "execution_count": 2,
   "metadata": {
    "ExecuteTime": {
     "end_time": "2018-07-23T02:00:22.745948Z",
     "start_time": "2018-07-23T02:00:21.857853Z"
    }
   },
   "outputs": [],
   "source": [
    "import sys,os\n",
    "sys.path.append('../../MLModel/code/OneClickTraining/')\n",
    "sys.path.append('../../MLModel/code/TreeModelV2/')\n",
    "from all_model_py import *\n",
    "import pickle\n",
    "from chatbotv1 import *"
   ]
  },
  {
   "cell_type": "code",
   "execution_count": 60,
   "metadata": {
    "ExecuteTime": {
     "end_time": "2018-07-24T17:27:32.951774Z",
     "start_time": "2018-07-24T17:27:32.353308Z"
    }
   },
   "outputs": [],
   "source": [
    "# self.msg_csv = ENV.NODE_MES_CSV.value\n",
    "# \n",
    "\n",
    "df_mapping = pd.read_csv(ENV.TREE_CONNECTION_CSV.value)\n",
    "gp = df_mapping.groupby('node_name')\n",
    "end_classifier = 'StopClassifier'\n",
    "funcion_node_name = []\n",
    "end_node_name = []\n",
    "mapping = {}\n",
    "nodes = {}\n",
    "for each in gp:\n",
    "    # 1.get node name\n",
    "    node_name = each[0]\n",
    "    funcion_node_name.append(node_name)\n",
    "    # 2. get dataframe under group\n",
    "    df_tmp = each[1]\n",
    "    # 2.1 get classifier name\n",
    "    classifier = each[1]['classifier'].values[0]\n",
    "    df_tmp = df_tmp.set_index('label')\n",
    "    # 2.2 get can Jump\n",
    "    if df_tmp.index.max() >= 1000:\n",
    "        canJump = True\n",
    "    else:\n",
    "        canJump = False\n",
    "    # 3. initialize node\n",
    "    nodes[node_name] = Node(node_name,classifier,ENV.NODE_MES_CSV.value,canJump)\n",
    "    # update mapping\n",
    "    mapping.update({each[0]:df_tmp.T.to_dict()})\n",
    "end_node_name = list(set(df_mapping['connection']) - set(funcion_node_name))\n",
    "for each in end_node_name:\n",
    "    canJump = False\n",
    "    nodes[each] = Node(each,end_classifier,ENV.NODE_MES_CSV.value,canJump)"
   ]
  },
  {
   "cell_type": "code",
   "execution_count": 63,
   "metadata": {
    "ExecuteTime": {
     "end_time": "2018-07-24T17:27:55.466443Z",
     "start_time": "2018-07-24T17:27:55.457801Z"
    }
   },
   "outputs": [
    {
     "data": {
      "text/plain": [
       "{'cf_s1_n15_verifyWill_q': <__main__.Node at 0x7f9470c349b0>,\n",
       " 'cf_s1_n1_identity_q': <__main__.Node at 0x7f9470c01ef0>,\n",
       " 'cf_s1_n25_cutDebt_q': <__main__.Node at 0x7f9470c07f98>,\n",
       " 'cf_s1_n2_confirmLoan_q': <__main__.Node at 0x7f94719ee828>,\n",
       " 'cf_s1_n32_splitDebt_q': <__main__.Node at 0x7f9470c01828>,\n",
       " 'cf_s1_n5_ifAcquainted_q': <__main__.Node at 0x7f9470c8c780>,\n",
       " 's0': <__main__.Node at 0x7f94719ee8d0>,\n",
       " 'cf_s1_n108_noResult_s': <__main__.Node at 0x7f9470c26320>,\n",
       " 'cf_s1_n109_scheduleCall_s': <__main__.Node at 0x7f9470c34d30>,\n",
       " 'cf_s1_n110_recordWechat_s': <__main__.Node at 0x7f9470b7c390>,\n",
       " 'cf_s1_n103_paymentChannel_s': <__main__.Node at 0x7f9470c8c6d8>,\n",
       " 'cf_s1_n101_ifAcquainted_s': <__main__.Node at 0x7f9470bacfd0>,\n",
       " 'cf_s1_n102_ifAcquainted_s': <__main__.Node at 0x7f9470c8ccc0>,\n",
       " 'cf_s1_n105_noResult_s': <__main__.Node at 0x7f9470c575c0>,\n",
       " 'cf_s1_n106_paymentChannel_s': <__main__.Node at 0x7f9470c574a8>,\n",
       " 'cf_s1_n104_paymentChannel_s': <__main__.Node at 0x7f9470ac64a8>}"
      ]
     },
     "execution_count": 63,
     "metadata": {},
     "output_type": "execute_result"
    }
   ],
   "source": [
    "nodes"
   ]
  },
  {
   "cell_type": "code",
   "execution_count": 64,
   "metadata": {
    "ExecuteTime": {
     "end_time": "2018-07-24T17:28:01.708370Z",
     "start_time": "2018-07-24T17:28:01.702894Z"
    }
   },
   "outputs": [],
   "source": [
    "a = nodes['cf_s1_n32_splitDebt_q']"
   ]
  },
  {
   "cell_type": "code",
   "execution_count": 65,
   "metadata": {
    "ExecuteTime": {
     "end_time": "2018-07-24T17:28:02.226171Z",
     "start_time": "2018-07-24T17:28:02.212125Z"
    }
   },
   "outputs": [
    {
     "data": {
      "text/plain": [
       "'Installment'"
      ]
     },
     "execution_count": 65,
     "metadata": {},
     "output_type": "execute_result"
    }
   ],
   "source": [
    "a.model_name"
   ]
  },
  {
   "cell_type": "code",
   "execution_count": 22,
   "metadata": {
    "ExecuteTime": {
     "end_time": "2018-07-24T15:42:27.761290Z",
     "start_time": "2018-07-24T15:42:27.749568Z"
    }
   },
   "outputs": [
    {
     "data": {
      "text/plain": [
       "'InitClassifier'"
      ]
     },
     "execution_count": 22,
     "metadata": {},
     "output_type": "execute_result"
    }
   ],
   "source": [
    "each[1]['classifier'][0]"
   ]
  },
  {
   "cell_type": "code",
   "execution_count": 29,
   "metadata": {
    "ExecuteTime": {
     "end_time": "2018-07-24T15:50:14.340748Z",
     "start_time": "2018-07-24T15:50:14.327448Z"
    }
   },
   "outputs": [
    {
     "data": {
      "text/plain": [
       "0"
      ]
     },
     "execution_count": 29,
     "metadata": {},
     "output_type": "execute_result"
    }
   ],
   "source": [
    "df_tmp.index.max()"
   ]
  },
  {
   "cell_type": "code",
   "execution_count": 34,
   "metadata": {
    "ExecuteTime": {
     "end_time": "2018-07-24T15:56:36.429172Z",
     "start_time": "2018-07-24T15:56:36.417923Z"
    }
   },
   "outputs": [
    {
     "data": {
      "text/plain": [
       "'WillingToPay'"
      ]
     },
     "execution_count": 34,
     "metadata": {},
     "output_type": "execute_result"
    }
   ],
   "source": [
    "each[1]['classifier'].values[0]"
   ]
  },
  {
   "cell_type": "code",
   "execution_count": null,
   "metadata": {},
   "outputs": [],
   "source": []
  }
 ],
 "metadata": {
  "kernelspec": {
   "display_name": "Python 3",
   "language": "python",
   "name": "python3"
  },
  "language_info": {
   "codemirror_mode": {
    "name": "ipython",
    "version": 3
   },
   "file_extension": ".py",
   "mimetype": "text/x-python",
   "name": "python",
   "nbconvert_exporter": "python",
   "pygments_lexer": "ipython3",
   "version": "3.6.5"
  },
  "varInspector": {
   "cols": {
    "lenName": 16,
    "lenType": 16,
    "lenVar": 40
   },
   "kernels_config": {
    "python": {
     "delete_cmd_postfix": "",
     "delete_cmd_prefix": "del ",
     "library": "var_list.py",
     "varRefreshCmd": "print(var_dic_list())"
    },
    "r": {
     "delete_cmd_postfix": ") ",
     "delete_cmd_prefix": "rm(",
     "library": "var_list.r",
     "varRefreshCmd": "cat(var_dic_list()) "
    }
   },
   "types_to_exclude": [
    "module",
    "function",
    "builtin_function_or_method",
    "instance",
    "_Feature"
   ],
   "window_display": false
  }
 },
 "nbformat": 4,
 "nbformat_minor": 2
}
