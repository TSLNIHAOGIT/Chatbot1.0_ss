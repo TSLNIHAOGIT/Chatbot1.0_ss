{
 "cells": [
  {
   "cell_type": "code",
   "execution_count": 4,
   "metadata": {
    "ExecuteTime": {
     "end_time": "2018-06-13T15:52:35.794831Z",
     "start_time": "2018-06-13T15:52:35.489172Z"
    },
    "collapsed": true
   },
   "outputs": [],
   "source": [
    "#encoding=utf-8\n",
    "import pandas as pd\n",
    "import numpy as np\n",
    "from sklearn.feature_extraction.text import CountVectorizer, TfidfVectorizer, TfidfTransformer"
   ]
  },
  {
   "cell_type": "markdown",
   "metadata": {},
   "source": [
    "# get tfidf"
   ]
  },
  {
   "cell_type": "code",
   "execution_count": 5,
   "metadata": {
    "ExecuteTime": {
     "end_time": "2018-06-13T15:52:35.912308Z",
     "start_time": "2018-06-13T15:52:35.878535Z"
    },
    "scrolled": true
   },
   "outputs": [
    {
     "name": "stdout",
     "output_type": "stream",
     "text": [
      "(1560, 2)\n"
     ]
    },
    {
     "data": {
      "text/html": [
       "<div>\n",
       "<style>\n",
       "    .dataframe thead tr:only-child th {\n",
       "        text-align: right;\n",
       "    }\n",
       "\n",
       "    .dataframe thead th {\n",
       "        text-align: left;\n",
       "    }\n",
       "\n",
       "    .dataframe tbody tr th {\n",
       "        vertical-align: top;\n",
       "    }\n",
       "</style>\n",
       "<table border=\"1\" class=\"dataframe\">\n",
       "  <thead>\n",
       "    <tr style=\"text-align: right;\">\n",
       "      <th></th>\n",
       "      <th>label</th>\n",
       "      <th>split_text</th>\n",
       "    </tr>\n",
       "  </thead>\n",
       "  <tbody>\n",
       "    <tr>\n",
       "      <th>0</th>\n",
       "      <td>0</td>\n",
       "      <td>她 是 我 二舅</td>\n",
       "    </tr>\n",
       "    <tr>\n",
       "      <th>1</th>\n",
       "      <td>0</td>\n",
       "      <td>恩</td>\n",
       "    </tr>\n",
       "    <tr>\n",
       "      <th>2</th>\n",
       "      <td>0</td>\n",
       "      <td>我 是 他 的 爸爸</td>\n",
       "    </tr>\n",
       "    <tr>\n",
       "      <th>3</th>\n",
       "      <td>0</td>\n",
       "      <td>他 是 我 房东</td>\n",
       "    </tr>\n",
       "    <tr>\n",
       "      <th>4</th>\n",
       "      <td>0</td>\n",
       "      <td>我 是 他 的 朋友</td>\n",
       "    </tr>\n",
       "    <tr>\n",
       "      <th>5</th>\n",
       "      <td>0</td>\n",
       "      <td>他 是 我 的 同学</td>\n",
       "    </tr>\n",
       "    <tr>\n",
       "      <th>6</th>\n",
       "      <td>0</td>\n",
       "      <td>我 是 他 的 前女友</td>\n",
       "    </tr>\n",
       "    <tr>\n",
       "      <th>7</th>\n",
       "      <td>0</td>\n",
       "      <td>我 是 他 上司</td>\n",
       "    </tr>\n",
       "    <tr>\n",
       "      <th>8</th>\n",
       "      <td>0</td>\n",
       "      <td>我 是 她 同学</td>\n",
       "    </tr>\n",
       "    <tr>\n",
       "      <th>9</th>\n",
       "      <td>0</td>\n",
       "      <td>她 是 我 的 邻居</td>\n",
       "    </tr>\n",
       "  </tbody>\n",
       "</table>\n",
       "</div>"
      ],
      "text/plain": [
       "   label   split_text\n",
       "0      0     她 是 我 二舅\n",
       "1      0            恩\n",
       "2      0   我 是 他 的 爸爸\n",
       "3      0     他 是 我 房东\n",
       "4      0   我 是 他 的 朋友\n",
       "5      0   他 是 我 的 同学\n",
       "6      0  我 是 他 的 前女友\n",
       "7      0     我 是 他 上司\n",
       "8      0     我 是 她 同学\n",
       "9      0   她 是 我 的 邻居"
      ]
     },
     "execution_count": 5,
     "metadata": {},
     "output_type": "execute_result"
    }
   ],
   "source": [
    "# path = '/home/kai/data/jiangning/Chatbot_1/Chatbot1.0/data/'\n",
    "path = '../../data/IfKnowDebtor/'\n",
    "data = pd.read_csv(path + 'cleaned_mock_up_data.csv', encoding='utf8')\n",
    "print(data.shape)\n",
    "data.head(10)"
   ]
  },
  {
   "cell_type": "code",
   "execution_count": 6,
   "metadata": {
    "ExecuteTime": {
     "end_time": "2018-06-13T15:52:36.063887Z",
     "start_time": "2018-06-13T15:52:36.052955Z"
    },
    "collapsed": true
   },
   "outputs": [],
   "source": [
    "# phrase_vectorizer1 = TfidfVectorizer(ngram_range=(1,3),\n",
    "#                                     strip_accents='unicode', \n",
    "#                                     max_features=100000, \n",
    "#                                     analyzer='word',\n",
    "#                                     sublinear_tf=True,\n",
    "#                                     token_pattern=r'\\w{1,}')\n",
    "# data.split_text.iloc[:2]\n",
    "# dd = ['I like apple do you like it', 'I do not like banana']\n",
    "# phrase_vectorizer1.fit(dd)\n",
    "\n",
    "# print('transform phrase')\n",
    "# phrase = phrase_vectorizer1.transform(dd)\n"
   ]
  },
  {
   "cell_type": "code",
   "execution_count": 7,
   "metadata": {
    "ExecuteTime": {
     "end_time": "2018-06-13T15:52:36.303479Z",
     "start_time": "2018-06-13T15:52:36.282510Z"
    }
   },
   "outputs": [
    {
     "data": {
      "text/plain": [
       "'恩'"
      ]
     },
     "execution_count": 7,
     "metadata": {},
     "output_type": "execute_result"
    }
   ],
   "source": [
    "data.split_text.iloc[1]"
   ]
  },
  {
   "cell_type": "code",
   "execution_count": 8,
   "metadata": {
    "ExecuteTime": {
     "end_time": "2018-06-13T15:52:36.506055Z",
     "start_time": "2018-06-13T15:52:36.486392Z"
    },
    "collapsed": true
   },
   "outputs": [],
   "source": [
    "# phrase_vectorizer1.vocabulary_"
   ]
  },
  {
   "cell_type": "code",
   "execution_count": 9,
   "metadata": {
    "ExecuteTime": {
     "end_time": "2018-06-13T15:52:37.563393Z",
     "start_time": "2018-06-13T15:52:37.501754Z"
    }
   },
   "outputs": [
    {
     "name": "stdout",
     "output_type": "stream",
     "text": [
      "fitting phrase\n",
      "transform phrase\n"
     ]
    },
    {
     "data": {
      "text/plain": [
       "<1560x1794 sparse matrix of type '<class 'numpy.float64'>'\n",
       "\twith 17374 stored elements in Compressed Sparse Row format>"
      ]
     },
     "execution_count": 9,
     "metadata": {},
     "output_type": "execute_result"
    }
   ],
   "source": [
    "phrase_vectorizer = TfidfVectorizer(ngram_range=(1,3),\n",
    "                                    strip_accents='unicode', \n",
    "                                    max_features=100000, \n",
    "                                    analyzer='word',\n",
    "                                    sublinear_tf=True,\n",
    "                                    token_pattern=r'\\w{1,}')\n",
    "\n",
    "print('fitting phrase')\n",
    "phrase_vectorizer.fit(data.split_text)\n",
    "\n",
    "print('transform phrase')\n",
    "phrase = phrase_vectorizer.transform(data.split_text)\n",
    "\n",
    "phrase"
   ]
  },
  {
   "cell_type": "markdown",
   "metadata": {},
   "source": [
    "# SVC"
   ]
  },
  {
   "cell_type": "code",
   "execution_count": 10,
   "metadata": {
    "ExecuteTime": {
     "end_time": "2018-06-13T15:52:38.201075Z",
     "start_time": "2018-06-13T15:52:38.092510Z"
    }
   },
   "outputs": [
    {
     "name": "stdout",
     "output_type": "stream",
     "text": [
      "0.997435897436\n"
     ]
    }
   ],
   "source": [
    "from sklearn.calibration import CalibratedClassifierCV\n",
    "from sklearn.svm import LinearSVC\n",
    "\n",
    "l_svc = LinearSVC()\n",
    "clf = CalibratedClassifierCV(l_svc) \n",
    "clf.fit(phrase, data.label)\n",
    "print(clf.score(phrase, data.label))"
   ]
  },
  {
   "cell_type": "code",
   "execution_count": 11,
   "metadata": {
    "ExecuteTime": {
     "end_time": "2018-06-13T15:52:38.538967Z",
     "start_time": "2018-06-13T15:52:38.515380Z"
    }
   },
   "outputs": [
    {
     "name": "stdout",
     "output_type": "stream",
     "text": [
      "[0 0 0 ..., 2 2 2]\n"
     ]
    }
   ],
   "source": [
    "print(clf.predict(phrase))"
   ]
  },
  {
   "cell_type": "code",
   "execution_count": 12,
   "metadata": {
    "ExecuteTime": {
     "end_time": "2018-06-13T15:52:38.711771Z",
     "start_time": "2018-06-13T15:52:38.690493Z"
    },
    "collapsed": true
   },
   "outputs": [],
   "source": [
    "import pickle\n",
    "pickle.dump(clf, open(\"../../savedModel/IDClassifier/l_svc.pickle\", \"wb\"))"
   ]
  },
  {
   "cell_type": "code",
   "execution_count": 13,
   "metadata": {
    "ExecuteTime": {
     "end_time": "2018-06-13T15:52:38.935218Z",
     "start_time": "2018-06-13T15:52:38.914317Z"
    },
    "collapsed": true
   },
   "outputs": [],
   "source": [
    "aa = pickle.load(open(\"../../savedModel/IDClassifier/l_svc.pickle\", 'rb'))"
   ]
  },
  {
   "cell_type": "code",
   "execution_count": 14,
   "metadata": {
    "ExecuteTime": {
     "end_time": "2018-06-13T15:52:39.122792Z",
     "start_time": "2018-06-13T15:52:39.099943Z"
    }
   },
   "outputs": [
    {
     "data": {
      "text/plain": [
       "array([0, 0, 0, ..., 2, 2, 2])"
      ]
     },
     "execution_count": 14,
     "metadata": {},
     "output_type": "execute_result"
    }
   ],
   "source": [
    "aa.predict(phrase)"
   ]
  },
  {
   "cell_type": "markdown",
   "metadata": {},
   "source": [
    "# logistic"
   ]
  },
  {
   "cell_type": "code",
   "execution_count": 15,
   "metadata": {
    "ExecuteTime": {
     "end_time": "2018-06-13T15:52:39.694567Z",
     "start_time": "2018-06-13T15:52:39.673717Z"
    },
    "collapsed": true
   },
   "outputs": [],
   "source": [
    "from sklearn.linear_model import LogisticRegression"
   ]
  },
  {
   "cell_type": "code",
   "execution_count": 16,
   "metadata": {
    "ExecuteTime": {
     "end_time": "2018-06-13T15:52:40.153857Z",
     "start_time": "2018-06-13T15:52:40.120824Z"
    }
   },
   "outputs": [
    {
     "name": "stdout",
     "output_type": "stream",
     "text": [
      "0.989102564103\n"
     ]
    }
   ],
   "source": [
    "log_r = LogisticRegression()\n",
    "log_r.fit(phrase, data.label)\n",
    "print(log_r.score(phrase, data.label))"
   ]
  },
  {
   "cell_type": "code",
   "execution_count": 17,
   "metadata": {
    "ExecuteTime": {
     "end_time": "2018-06-13T15:52:40.327568Z",
     "start_time": "2018-06-13T15:52:40.304990Z"
    }
   },
   "outputs": [
    {
     "name": "stdout",
     "output_type": "stream",
     "text": [
      "[0 0 0 ..., 2 2 2]\n"
     ]
    }
   ],
   "source": [
    "print(log_r.predict(phrase))"
   ]
  },
  {
   "cell_type": "code",
   "execution_count": 18,
   "metadata": {
    "ExecuteTime": {
     "end_time": "2018-06-13T15:52:40.533727Z",
     "start_time": "2018-06-13T15:52:40.513170Z"
    },
    "collapsed": true
   },
   "outputs": [],
   "source": [
    "# l_svc.predict(phrase)-log_r.predict(phrase)"
   ]
  },
  {
   "cell_type": "markdown",
   "metadata": {},
   "source": [
    "# lightGBM"
   ]
  },
  {
   "cell_type": "code",
   "execution_count": 19,
   "metadata": {
    "ExecuteTime": {
     "end_time": "2018-06-13T15:52:41.144191Z",
     "start_time": "2018-06-13T15:52:41.118789Z"
    },
    "collapsed": true
   },
   "outputs": [],
   "source": [
    "import lightgbm as lgb"
   ]
  },
  {
   "cell_type": "code",
   "execution_count": 20,
   "metadata": {
    "ExecuteTime": {
     "end_time": "2018-06-13T15:52:41.344148Z",
     "start_time": "2018-06-13T15:52:41.330811Z"
    },
    "collapsed": true
   },
   "outputs": [],
   "source": [
    "from sklearn import preprocessing\n",
    "le = preprocessing.LabelEncoder()\n",
    "le.fit(data.label.values)\n",
    "onelabels = le.transform(data.label.values)"
   ]
  },
  {
   "cell_type": "code",
   "execution_count": 21,
   "metadata": {
    "ExecuteTime": {
     "end_time": "2018-06-13T15:52:41.551268Z",
     "start_time": "2018-06-13T15:52:41.528580Z"
    }
   },
   "outputs": [
    {
     "data": {
      "text/plain": [
       "array([0, 0, 0, ..., 2, 2, 2])"
      ]
     },
     "execution_count": 21,
     "metadata": {},
     "output_type": "execute_result"
    }
   ],
   "source": [
    "onelabels"
   ]
  },
  {
   "cell_type": "code",
   "execution_count": 22,
   "metadata": {
    "ExecuteTime": {
     "end_time": "2018-06-13T15:52:41.768074Z",
     "start_time": "2018-06-13T15:52:41.745706Z"
    },
    "collapsed": true
   },
   "outputs": [],
   "source": [
    "from sklearn.preprocessing import MultiLabelBinarizer\n",
    "multicoder = MultiLabelBinarizer()\n",
    "lables = multicoder.fit_transform([data.label.values])"
   ]
  },
  {
   "cell_type": "code",
   "execution_count": 23,
   "metadata": {
    "ExecuteTime": {
     "end_time": "2018-06-13T15:52:42.187668Z",
     "start_time": "2018-06-13T15:52:42.166503Z"
    }
   },
   "outputs": [
    {
     "data": {
      "text/plain": [
       "array([[1, 1, 1]])"
      ]
     },
     "execution_count": 23,
     "metadata": {},
     "output_type": "execute_result"
    }
   ],
   "source": [
    "lables"
   ]
  },
  {
   "cell_type": "code",
   "execution_count": 24,
   "metadata": {
    "ExecuteTime": {
     "end_time": "2018-06-13T15:52:42.582184Z",
     "start_time": "2018-06-13T15:52:42.558787Z"
    }
   },
   "outputs": [
    {
     "data": {
      "text/plain": [
       "array([0, 0, 0, ..., 2, 2, 2])"
      ]
     },
     "execution_count": 24,
     "metadata": {},
     "output_type": "execute_result"
    }
   ],
   "source": [
    "data.label.values"
   ]
  },
  {
   "cell_type": "code",
   "execution_count": 25,
   "metadata": {
    "ExecuteTime": {
     "end_time": "2018-06-13T15:52:42.770787Z",
     "start_time": "2018-06-13T15:52:42.751430Z"
    },
    "collapsed": true
   },
   "outputs": [],
   "source": [
    "# lables.todense()"
   ]
  },
  {
   "cell_type": "code",
   "execution_count": 26,
   "metadata": {
    "ExecuteTime": {
     "end_time": "2018-06-13T15:52:43.127349Z",
     "start_time": "2018-06-13T15:52:42.976417Z"
    }
   },
   "outputs": [
    {
     "name": "stdout",
     "output_type": "stream",
     "text": [
      "Training until validation scores don't improve for 200 rounds.\n",
      "[5]\tvalid_0's multi_error: 0.0596154\n",
      "[10]\tvalid_0's multi_error: 0.0544872\n",
      "[15]\tvalid_0's multi_error: 0.0397436\n",
      "[20]\tvalid_0's multi_error: 0.0333333\n",
      "[25]\tvalid_0's multi_error: 0.0326923\n",
      "[30]\tvalid_0's multi_error: 0.0326923\n",
      "[35]\tvalid_0's multi_error: 0.0326923\n",
      "[40]\tvalid_0's multi_error: 0.0320513\n",
      "[45]\tvalid_0's multi_error: 0.0314103\n",
      "[50]\tvalid_0's multi_error: 0.0320513\n",
      "[55]\tvalid_0's multi_error: 0.0320513\n",
      "[60]\tvalid_0's multi_error: 0.0307692\n",
      "[65]\tvalid_0's multi_error: 0.0307692\n",
      "[70]\tvalid_0's multi_error: 0.0307692\n",
      "[75]\tvalid_0's multi_error: 0.0301282\n",
      "[80]\tvalid_0's multi_error: 0.0301282\n",
      "[85]\tvalid_0's multi_error: 0.0301282\n",
      "[90]\tvalid_0's multi_error: 0.0301282\n",
      "[95]\tvalid_0's multi_error: 0.0301282\n",
      "[100]\tvalid_0's multi_error: 0.0301282\n",
      "[105]\tvalid_0's multi_error: 0.0301282\n",
      "[110]\tvalid_0's multi_error: 0.0301282\n",
      "[115]\tvalid_0's multi_error: 0.0301282\n",
      "[120]\tvalid_0's multi_error: 0.0301282\n",
      "[125]\tvalid_0's multi_error: 0.0301282\n",
      "[130]\tvalid_0's multi_error: 0.0301282\n",
      "[135]\tvalid_0's multi_error: 0.0301282\n",
      "[140]\tvalid_0's multi_error: 0.0301282\n",
      "[145]\tvalid_0's multi_error: 0.0301282\n",
      "[150]\tvalid_0's multi_error: 0.0301282\n",
      "[155]\tvalid_0's multi_error: 0.0301282\n",
      "[160]\tvalid_0's multi_error: 0.0301282\n",
      "[165]\tvalid_0's multi_error: 0.0301282\n",
      "[170]\tvalid_0's multi_error: 0.0301282\n",
      "[175]\tvalid_0's multi_error: 0.0301282\n",
      "[180]\tvalid_0's multi_error: 0.0301282\n",
      "[185]\tvalid_0's multi_error: 0.0301282\n",
      "[190]\tvalid_0's multi_error: 0.0301282\n",
      "[195]\tvalid_0's multi_error: 0.0301282\n",
      "[200]\tvalid_0's multi_error: 0.0301282\n",
      "[205]\tvalid_0's multi_error: 0.0301282\n",
      "[210]\tvalid_0's multi_error: 0.0301282\n",
      "[215]\tvalid_0's multi_error: 0.0301282\n",
      "[220]\tvalid_0's multi_error: 0.0301282\n",
      "[225]\tvalid_0's multi_error: 0.0301282\n",
      "[230]\tvalid_0's multi_error: 0.0301282\n",
      "[235]\tvalid_0's multi_error: 0.0301282\n",
      "[240]\tvalid_0's multi_error: 0.0301282\n",
      "[245]\tvalid_0's multi_error: 0.0301282\n",
      "[250]\tvalid_0's multi_error: 0.0301282\n",
      "[255]\tvalid_0's multi_error: 0.0301282\n",
      "[260]\tvalid_0's multi_error: 0.0301282\n",
      "[265]\tvalid_0's multi_error: 0.0301282\n",
      "[270]\tvalid_0's multi_error: 0.0301282\n",
      "Early stopping, best iteration is:\n",
      "[72]\tvalid_0's multi_error: 0.0301282\n"
     ]
    },
    {
     "name": "stderr",
     "output_type": "stream",
     "text": [
      "/home/kai/anaconda3/lib/python3.6/site-packages/lightgbm/engine.py:99: UserWarning: Found `num_iterations` in params. Will use it instead of argument\n",
      "  warnings.warn(\"Found `{}` in params. Will use it instead of argument\".format(alias))\n",
      "/home/kai/anaconda3/lib/python3.6/site-packages/lightgbm/engine.py:104: UserWarning: Found `early_stopping_round` in params. Will use it instead of argument\n",
      "  warnings.warn(\"Found `{}` in params. Will use it instead of argument\".format(alias))\n"
     ]
    }
   ],
   "source": [
    "params = {\n",
    "    'learning_rate': 0.2,\n",
    "    'num_iterations':1000,\n",
    "    'application': 'multiclassova',\n",
    "    'num_class': 3,\n",
    "    'num_leaves': 31,\n",
    "    'verbosity': -1,\n",
    "    'metric': 'multi_error',\n",
    "    'data_random_seed': 2,\n",
    "#     'bagging_fraction': 0.8,\n",
    "#     'feature_fraction': 0.6,\n",
    "    'nthread': 4,\n",
    "    'lambda_l1': 1,\n",
    "    'lambda_l2': 1,\n",
    "    'early_stopping_round':200\n",
    "} \n",
    "\n",
    "# lgbm_train = lgb.Dataset(phrase, data.label)\n",
    "lgbm_train = lgb.Dataset(phrase, onelabels)\n",
    "lgbm_val = lgb.Dataset(phrase, onelabels)\n",
    "lgbm_model = lgb.train(params,lgbm_train,valid_sets=lgbm_val, verbose_eval=5)"
   ]
  },
  {
   "cell_type": "code",
   "execution_count": 27,
   "metadata": {
    "ExecuteTime": {
     "end_time": "2018-06-13T15:52:43.197807Z",
     "start_time": "2018-06-13T15:52:43.179958Z"
    }
   },
   "outputs": [
    {
     "name": "stdout",
     "output_type": "stream",
     "text": [
      "[[  9.98898975e-01   1.64017019e-03   5.88114722e-04]\n",
      " [  3.05136455e-01   5.71814898e-02   5.97803469e-01]\n",
      " [  9.99506106e-01   6.24331962e-04   5.20170357e-04]\n",
      " ..., \n",
      " [  1.49620538e-02   9.19796534e-03   9.93144033e-01]\n",
      " [  1.72115937e-02   4.41226232e-03   9.91030890e-01]\n",
      " [  2.25423847e-01   2.01652379e-01   5.08035459e-01]]\n"
     ]
    }
   ],
   "source": [
    "print(lgbm_model.predict(phrase))"
   ]
  },
  {
   "cell_type": "code",
   "execution_count": 28,
   "metadata": {
    "ExecuteTime": {
     "end_time": "2018-06-13T15:52:43.636265Z",
     "start_time": "2018-06-13T15:52:43.616270Z"
    },
    "collapsed": true
   },
   "outputs": [],
   "source": [
    "# lgbm_model.predict(phrase)"
   ]
  },
  {
   "cell_type": "code",
   "execution_count": 29,
   "metadata": {
    "ExecuteTime": {
     "end_time": "2018-06-13T15:52:44.342921Z",
     "start_time": "2018-06-13T15:52:44.320755Z"
    }
   },
   "outputs": [
    {
     "data": {
      "text/plain": [
       "<1560x1794 sparse matrix of type '<class 'numpy.float64'>'\n",
       "\twith 17374 stored elements in Compressed Sparse Row format>"
      ]
     },
     "execution_count": 29,
     "metadata": {},
     "output_type": "execute_result"
    }
   ],
   "source": [
    "phrase"
   ]
  },
  {
   "cell_type": "markdown",
   "metadata": {},
   "source": [
    "# Save"
   ]
  },
  {
   "cell_type": "code",
   "execution_count": 30,
   "metadata": {
    "ExecuteTime": {
     "end_time": "2018-06-13T15:52:45.523673Z",
     "start_time": "2018-06-13T15:52:45.488099Z"
    },
    "collapsed": true
   },
   "outputs": [],
   "source": [
    "import pickle\n",
    "\n",
    "pickle.dump(phrase_vectorizer, open(\"../../savedModel/IfKnowDebtor/tfidf.pickle\", \"wb\"))\n",
    "# pickle.dump(train_comment_features, open(\"train_comment_features.pickle\", \"wb\"))\n",
    "# pickle.dump(test_comment_features, open(\"test_comment_features.pickle\", \"wb\"))\n",
    "\n",
    "\n",
    "# save linear svc\n",
    "pickle.dump(clf, open(\"../../savedModel/IfKnowDebtor/LinearSVC.pickle\", \"wb\"))\n",
    "# save logistic\n",
    "pickle.dump(log_r, open(\"../../savedModel/IfKnowDebtor/Logistic.pickle\", \"wb\"))\n",
    "# save lightGBM\n",
    "pickle.dump(lgbm_model, open(\"../../savedModel/IfKnowDebtor/Lgbm.pickle\", \"wb\"))"
   ]
  },
  {
   "cell_type": "code",
   "execution_count": 31,
   "metadata": {
    "ExecuteTime": {
     "end_time": "2018-06-13T15:52:46.570728Z",
     "start_time": "2018-06-13T15:52:46.548130Z"
    }
   },
   "outputs": [
    {
     "data": {
      "text/plain": [
       "LogisticRegression(C=1.0, class_weight=None, dual=False, fit_intercept=True,\n",
       "          intercept_scaling=1, max_iter=100, multi_class='ovr', n_jobs=1,\n",
       "          penalty='l2', random_state=None, solver='liblinear', tol=0.0001,\n",
       "          verbose=0, warm_start=False)"
      ]
     },
     "execution_count": 31,
     "metadata": {},
     "output_type": "execute_result"
    }
   ],
   "source": [
    "pickle.load(open(\"../../savedModel/IfKnowDebtor/Logistic.pickle\", 'rb'))"
   ]
  },
  {
   "cell_type": "code",
   "execution_count": 32,
   "metadata": {
    "ExecuteTime": {
     "end_time": "2018-06-13T15:52:49.333264Z",
     "start_time": "2018-06-13T15:52:49.312306Z"
    },
    "collapsed": true
   },
   "outputs": [],
   "source": [
    "# test = phrase_vectorizer.transform(['你 说 呢'])\n",
    "test = phrase_vectorizer.transform(['认 不 到'])\n"
   ]
  },
  {
   "cell_type": "code",
   "execution_count": 33,
   "metadata": {
    "ExecuteTime": {
     "end_time": "2018-06-13T15:52:49.819515Z",
     "start_time": "2018-06-13T15:52:49.797785Z"
    }
   },
   "outputs": [
    {
     "data": {
      "text/plain": [
       "<1x1794 sparse matrix of type '<class 'numpy.float64'>'\n",
       "\twith 3 stored elements in Compressed Sparse Row format>"
      ]
     },
     "execution_count": 33,
     "metadata": {},
     "output_type": "execute_result"
    }
   ],
   "source": [
    "test"
   ]
  },
  {
   "cell_type": "code",
   "execution_count": 34,
   "metadata": {
    "ExecuteTime": {
     "end_time": "2018-06-13T15:52:50.710621Z",
     "start_time": "2018-06-13T15:52:50.687191Z"
    }
   },
   "outputs": [
    {
     "data": {
      "text/plain": [
       "array([[ 0.01896056,  0.79228   ,  0.18875944]])"
      ]
     },
     "execution_count": 34,
     "metadata": {},
     "output_type": "execute_result"
    }
   ],
   "source": [
    "clf.predict_proba(test) # linear svc"
   ]
  },
  {
   "cell_type": "code",
   "execution_count": 35,
   "metadata": {
    "ExecuteTime": {
     "end_time": "2018-06-13T15:52:53.712428Z",
     "start_time": "2018-06-13T15:52:53.689935Z"
    }
   },
   "outputs": [
    {
     "data": {
      "text/plain": [
       "array([[ 0.3657827 ,  0.25435757,  0.37985973]])"
      ]
     },
     "execution_count": 35,
     "metadata": {},
     "output_type": "execute_result"
    }
   ],
   "source": [
    "log_r.predict_proba(test) # logistic"
   ]
  },
  {
   "cell_type": "code",
   "execution_count": 36,
   "metadata": {
    "ExecuteTime": {
     "end_time": "2018-06-13T15:52:54.681389Z",
     "start_time": "2018-06-13T15:52:54.658043Z"
    }
   },
   "outputs": [
    {
     "data": {
      "text/plain": [
       "array([[ 0.10449404,  0.75974481,  0.35718896]])"
      ]
     },
     "execution_count": 36,
     "metadata": {},
     "output_type": "execute_result"
    }
   ],
   "source": [
    "lgbm_model.predict(test) # light gbm"
   ]
  },
  {
   "cell_type": "markdown",
   "metadata": {
    "collapsed": true
   },
   "source": [
    "# labeling"
   ]
  },
  {
   "cell_type": "code",
   "execution_count": 37,
   "metadata": {
    "ExecuteTime": {
     "end_time": "2018-06-13T15:52:56.233015Z",
     "start_time": "2018-06-13T15:52:56.201405Z"
    }
   },
   "outputs": [
    {
     "name": "stdout",
     "output_type": "stream",
     "text": [
      "label= 1\n",
      "prob= 0.792280002391\n"
     ]
    }
   ],
   "source": [
    "# basic logic: find the max probability of 3 models, if it is larger than threshold, return the corresponding label, otherwise, return 2 (others).\n",
    "result = np.vstack((clf.predict_proba(test),log_r.predict_proba(test),lgbm_model.predict(test)))\n",
    "pos = np.where(result == np.max(result))\n",
    "\n",
    "threshold = 0.7\n",
    "if np.max(result)<threshold:\n",
    "    label = 2\n",
    "else:\n",
    "    label = pos[1]\n",
    "    label = label[0]\n",
    "    \n",
    "print('label=',label)\n",
    "print('prob=',np.max(result))"
   ]
  },
  {
   "cell_type": "markdown",
   "metadata": {
    "collapsed": true
   },
   "source": [
    "# save the whole thing"
   ]
  },
  {
   "cell_type": "code",
   "execution_count": 38,
   "metadata": {
    "ExecuteTime": {
     "end_time": "2018-06-13T15:53:00.382808Z",
     "start_time": "2018-06-13T15:53:00.356876Z"
    },
    "collapsed": true
   },
   "outputs": [],
   "source": [
    "# import jieba\n",
    "# import numpy as np\n",
    "\n",
    "# class IfKnowDebtor:\n",
    "    \n",
    "#     def __init__(self, **model):\n",
    "#         \"\"\"\n",
    "#         suggested parameters:\n",
    "#         svc, logistic, lightgbm, jieba_path,tfidf\n",
    "#         \"\"\"\n",
    "#         self._load_model(**model)\n",
    "        \n",
    "#     def _load_model(self,**model):\n",
    "#         self.svc = model.get('svc')\n",
    "#         self.logistic = model.get('logistic')\n",
    "#         self.lightgbm = model.get('lightgbm')\n",
    "#         self.tfidf = model.get('tfidf')\n",
    "#         # load jieba\n",
    "#         jieba_path = model.get('jieba_path')\n",
    "#         if jieba_path is not None:\n",
    "#             jieba.load_userdict(jieba_path)\n",
    "        \n",
    "        \n",
    "#     def classify(self, sentence):\n",
    "#         sentence = jieba.cut(sentence, cut_all = False)\n",
    "#         sentence = ' '.join(sentence)\n",
    "#         matrix = self.tfidf.transform([sentence])\n",
    "#         result = np.vstack((self.svc.predict_proba(matrix),\n",
    "#                             self.logistic.predict_proba(matrix),\n",
    "#                             self.lightgbm.predict(matrix)))\n",
    "#         max_pred = np.max(result, axis=0)\n",
    "#         max_arg = np.argmax(max_pred)\n",
    "#         threshold = 0.6\n",
    "#         if np.max(max_pred<threshold):\n",
    "#             label = 2\n",
    "#         else:\n",
    "#             label = max_arg\n",
    "#         return (label, np.max(max_pred))\n",
    "     \n",
    "        "
   ]
  },
  {
   "cell_type": "code",
   "execution_count": 39,
   "metadata": {
    "ExecuteTime": {
     "end_time": "2018-06-13T15:53:01.000738Z",
     "start_time": "2018-06-13T15:53:00.978447Z"
    }
   },
   "outputs": [
    {
     "name": "stdout",
     "output_type": "stream",
     "text": [
      "The autoreload extension is already loaded. To reload it, use:\n",
      "  %reload_ext autoreload\n"
     ]
    }
   ],
   "source": [
    "%load_ext autoreload\n",
    "%autoreload 2"
   ]
  },
  {
   "cell_type": "code",
   "execution_count": 41,
   "metadata": {
    "ExecuteTime": {
     "end_time": "2018-06-13T15:55:31.817219Z",
     "start_time": "2018-06-13T15:55:31.783999Z"
    }
   },
   "outputs": [],
   "source": [
    "from IfKnowDebtor_py import IfKnowDebtor\n",
    "ifk = IfKnowDebtor(svc=clf, logistic=log_r, lightgbm=lgbm_model, tfidf=phrase_vectorizer, jieba_path='../WordCut/userdict.txt')\n",
    "\n",
    "pickle.dump(ifk, open(\"../../savedModel/IfKnowDebtor/IfKnowDebtor.pickle\", \"wb\"))"
   ]
  },
  {
   "cell_type": "code",
   "execution_count": null,
   "metadata": {
    "collapsed": true
   },
   "outputs": [],
   "source": []
  }
 ],
 "metadata": {
  "kernelspec": {
   "display_name": "Python 3",
   "language": "python",
   "name": "python3"
  },
  "language_info": {
   "codemirror_mode": {
    "name": "ipython",
    "version": 3
   },
   "file_extension": ".py",
   "mimetype": "text/x-python",
   "name": "python",
   "nbconvert_exporter": "python",
   "pygments_lexer": "ipython3",
   "version": "3.6.3"
  },
  "varInspector": {
   "cols": {
    "lenName": 16,
    "lenType": 16,
    "lenVar": 40
   },
   "kernels_config": {
    "python": {
     "delete_cmd_postfix": "",
     "delete_cmd_prefix": "del ",
     "library": "var_list.py",
     "varRefreshCmd": "print(var_dic_list())"
    },
    "r": {
     "delete_cmd_postfix": ") ",
     "delete_cmd_prefix": "rm(",
     "library": "var_list.r",
     "varRefreshCmd": "cat(var_dic_list()) "
    }
   },
   "types_to_exclude": [
    "module",
    "function",
    "builtin_function_or_method",
    "instance",
    "_Feature"
   ],
   "window_display": false
  }
 },
 "nbformat": 4,
 "nbformat_minor": 2
}
