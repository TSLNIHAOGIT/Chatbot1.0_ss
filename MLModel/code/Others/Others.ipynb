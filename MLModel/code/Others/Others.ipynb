{
 "cells": [
  {
   "cell_type": "code",
   "execution_count": 10,
   "metadata": {
    "ExecuteTime": {
     "end_time": "2018-07-11T19:20:58.817367Z",
     "start_time": "2018-07-11T19:20:58.798758Z"
    },
    "scrolled": true
   },
   "outputs": [
    {
     "name": "stdout",
     "output_type": "stream",
     "text": [
      "(4695, 2)\n",
      "(14, 9)\n"
     ]
    }
   ],
   "source": [
    "#encoding=utf-8\n",
    "import pandas as pd\n",
    "import numpy as np\n",
    "import re\n",
    "import string\n",
    "\n",
    "import jieba\n",
    "jieba.load_userdict(\"../../code/WordCut/userdict.txt\")\n",
    "\n",
    "import gc\n",
    "\n",
    "import pickle\n",
    "\n",
    "# get data\n",
    "model_list = ['IDClassifier', 'IfKnowDebtor', 'ConfirmLoan', 'WillingToPay', 'CutDebt', 'Installment']\n",
    "# path = '/home/kai/data/jiangning/Chatbot_1/Chatbot1.0/data/'\n",
    "path = '../../data/others/'\n",
    "data = pd.read_csv(path + 'irrelevant_response_training_set.csv', encoding='utf8')\n",
    "strategy_mat = pd.read_csv(path + 'strategy_mat.csv', encoding='utf8')\n",
    "\n",
    "print(data.shape)\n",
    "print(strategy_mat.shape)"
   ]
  },
  {
   "cell_type": "code",
   "execution_count": 11,
   "metadata": {
    "ExecuteTime": {
     "end_time": "2018-07-11T19:20:59.318470Z",
     "start_time": "2018-07-11T19:20:59.296930Z"
    }
   },
   "outputs": [
    {
     "data": {
      "text/html": [
       "<div>\n",
       "<style scoped>\n",
       "    .dataframe tbody tr th:only-of-type {\n",
       "        vertical-align: middle;\n",
       "    }\n",
       "\n",
       "    .dataframe tbody tr th {\n",
       "        vertical-align: top;\n",
       "    }\n",
       "\n",
       "    .dataframe thead th {\n",
       "        text-align: right;\n",
       "    }\n",
       "</style>\n",
       "<table border=\"1\" class=\"dataframe\">\n",
       "  <thead>\n",
       "    <tr style=\"text-align: right;\">\n",
       "      <th></th>\n",
       "      <th>category</th>\n",
       "      <th>label</th>\n",
       "      <th>IDClassifier</th>\n",
       "      <th>IfKnowDebtor</th>\n",
       "      <th>ConfirmLoan</th>\n",
       "      <th>WillingToPay</th>\n",
       "      <th>CutDebt</th>\n",
       "      <th>Installment</th>\n",
       "      <th>strategy</th>\n",
       "    </tr>\n",
       "  </thead>\n",
       "  <tbody>\n",
       "    <tr>\n",
       "      <th>0</th>\n",
       "      <td>讨价还价</td>\n",
       "      <td>100</td>\n",
       "      <td>1.0</td>\n",
       "      <td>1.0</td>\n",
       "      <td>0.0</td>\n",
       "      <td>1.0</td>\n",
       "      <td>1.0</td>\n",
       "      <td>1.0</td>\n",
       "      <td>跳到cutdebt节点的施压话术，随机挑一条level1级别的</td>\n",
       "    </tr>\n",
       "    <tr>\n",
       "      <th>1</th>\n",
       "      <td>讨价还价</td>\n",
       "      <td>100</td>\n",
       "      <td>1.0</td>\n",
       "      <td>1.0</td>\n",
       "      <td>1.0</td>\n",
       "      <td>1.0</td>\n",
       "      <td>0.0</td>\n",
       "      <td>0.0</td>\n",
       "      <td>对应节点施压更高level2及以上</td>\n",
       "    </tr>\n",
       "    <tr>\n",
       "      <th>2</th>\n",
       "      <td>说出目的</td>\n",
       "      <td>101</td>\n",
       "      <td>0.0</td>\n",
       "      <td>0.0</td>\n",
       "      <td>1.0</td>\n",
       "      <td>1.0</td>\n",
       "      <td>1.0</td>\n",
       "      <td>1.0</td>\n",
       "      <td>跳到ConfirmLoan的问题，选一条新的话术</td>\n",
       "    </tr>\n",
       "    <tr>\n",
       "      <th>3</th>\n",
       "      <td>确认数额</td>\n",
       "      <td>102</td>\n",
       "      <td>1.0</td>\n",
       "      <td>1.0</td>\n",
       "      <td>1.0</td>\n",
       "      <td>1.0</td>\n",
       "      <td>0.0</td>\n",
       "      <td>1.0</td>\n",
       "      <td>1.核资内容（你逾期XX、欠款多少、利息多少，滞纳金多少等等） 2.减免之后需要多少钱</td>\n",
       "    </tr>\n",
       "    <tr>\n",
       "      <th>4</th>\n",
       "      <td>确认数额</td>\n",
       "      <td>102</td>\n",
       "      <td>1.0</td>\n",
       "      <td>1.0</td>\n",
       "      <td>0.0</td>\n",
       "      <td>1.0</td>\n",
       "      <td>1.0</td>\n",
       "      <td>0.0</td>\n",
       "      <td>1.核资内容（你逾期XX、欠款多少、利息多少，滞纳金多少等等）</td>\n",
       "    </tr>\n",
       "    <tr>\n",
       "      <th>5</th>\n",
       "      <td>请求重复</td>\n",
       "      <td>103</td>\n",
       "      <td>0.0</td>\n",
       "      <td>0.0</td>\n",
       "      <td>0.0</td>\n",
       "      <td>0.0</td>\n",
       "      <td>0.0</td>\n",
       "      <td>0.0</td>\n",
       "      <td>重复刚才说的催收话术，换一条新的话术</td>\n",
       "    </tr>\n",
       "    <tr>\n",
       "      <th>6</th>\n",
       "      <td>请求等下打来</td>\n",
       "      <td>104</td>\n",
       "      <td>0.0</td>\n",
       "      <td>0.0</td>\n",
       "      <td>0.0</td>\n",
       "      <td>0.0</td>\n",
       "      <td>0.0</td>\n",
       "      <td>0.0</td>\n",
       "      <td>约定下次时间：过一会打给你</td>\n",
       "    </tr>\n",
       "    <tr>\n",
       "      <th>7</th>\n",
       "      <td>其它通讯方式</td>\n",
       "      <td>105</td>\n",
       "      <td>1.0</td>\n",
       "      <td>1.0</td>\n",
       "      <td>1.0</td>\n",
       "      <td>0.0</td>\n",
       "      <td>1.0</td>\n",
       "      <td>1.0</td>\n",
       "      <td>（记录通讯方式，例如微信号等，告知马上会有一个主管联系他）</td>\n",
       "    </tr>\n",
       "    <tr>\n",
       "      <th>8</th>\n",
       "      <td>模糊确认</td>\n",
       "      <td>106</td>\n",
       "      <td>1.0</td>\n",
       "      <td>1.0</td>\n",
       "      <td>0.0</td>\n",
       "      <td>0.0</td>\n",
       "      <td>0.0</td>\n",
       "      <td>0.0</td>\n",
       "      <td>对应节点施压，level1</td>\n",
       "    </tr>\n",
       "    <tr>\n",
       "      <th>9</th>\n",
       "      <td>回问身份</td>\n",
       "      <td>107</td>\n",
       "      <td>1.0</td>\n",
       "      <td>1.0</td>\n",
       "      <td>0.0</td>\n",
       "      <td>0.0</td>\n",
       "      <td>0.0</td>\n",
       "      <td>0.0</td>\n",
       "      <td>施压</td>\n",
       "    </tr>\n",
       "    <tr>\n",
       "      <th>10</th>\n",
       "      <td>回问身份</td>\n",
       "      <td>107</td>\n",
       "      <td>0.0</td>\n",
       "      <td>1.0</td>\n",
       "      <td>1.0</td>\n",
       "      <td>1.0</td>\n",
       "      <td>1.0</td>\n",
       "      <td>1.0</td>\n",
       "      <td>跳到cofirmloan</td>\n",
       "    </tr>\n",
       "    <tr>\n",
       "      <th>11</th>\n",
       "      <td>回问身份</td>\n",
       "      <td>107</td>\n",
       "      <td>1.0</td>\n",
       "      <td>0.0</td>\n",
       "      <td>1.0</td>\n",
       "      <td>1.0</td>\n",
       "      <td>1.0</td>\n",
       "      <td>1.0</td>\n",
       "      <td>跳到ifknowdebtor+自我介绍</td>\n",
       "    </tr>\n",
       "    <tr>\n",
       "      <th>12</th>\n",
       "      <td>还款方式</td>\n",
       "      <td>108</td>\n",
       "      <td>1.0</td>\n",
       "      <td>1.0</td>\n",
       "      <td>0.0</td>\n",
       "      <td>0.0</td>\n",
       "      <td>0.0</td>\n",
       "      <td>0.0</td>\n",
       "      <td>告诉支付途径</td>\n",
       "    </tr>\n",
       "    <tr>\n",
       "      <th>13</th>\n",
       "      <td>故意岔开话题</td>\n",
       "      <td>109</td>\n",
       "      <td>0.0</td>\n",
       "      <td>0.0</td>\n",
       "      <td>0.0</td>\n",
       "      <td>0.0</td>\n",
       "      <td>0.0</td>\n",
       "      <td>0.0</td>\n",
       "      <td>增加一个共用节点，话题回转拉回主题，然后施压：随着扯的次数施压加重</td>\n",
       "    </tr>\n",
       "  </tbody>\n",
       "</table>\n",
       "</div>"
      ],
      "text/plain": [
       "   category  label  IDClassifier  IfKnowDebtor  ConfirmLoan  WillingToPay  \\\n",
       "0      讨价还价    100           1.0           1.0          0.0           1.0   \n",
       "1      讨价还价    100           1.0           1.0          1.0           1.0   \n",
       "2      说出目的    101           0.0           0.0          1.0           1.0   \n",
       "3      确认数额    102           1.0           1.0          1.0           1.0   \n",
       "4      确认数额    102           1.0           1.0          0.0           1.0   \n",
       "5      请求重复    103           0.0           0.0          0.0           0.0   \n",
       "6    请求等下打来    104           0.0           0.0          0.0           0.0   \n",
       "7    其它通讯方式    105           1.0           1.0          1.0           0.0   \n",
       "8      模糊确认    106           1.0           1.0          0.0           0.0   \n",
       "9      回问身份    107           1.0           1.0          0.0           0.0   \n",
       "10     回问身份    107           0.0           1.0          1.0           1.0   \n",
       "11     回问身份    107           1.0           0.0          1.0           1.0   \n",
       "12     还款方式    108           1.0           1.0          0.0           0.0   \n",
       "13   故意岔开话题    109           0.0           0.0          0.0           0.0   \n",
       "\n",
       "    CutDebt  Installment                                      strategy  \n",
       "0       1.0          1.0               跳到cutdebt节点的施压话术，随机挑一条level1级别的  \n",
       "1       0.0          0.0                             对应节点施压更高level2及以上  \n",
       "2       1.0          1.0                      跳到ConfirmLoan的问题，选一条新的话术  \n",
       "3       0.0          1.0  1.核资内容（你逾期XX、欠款多少、利息多少，滞纳金多少等等） 2.减免之后需要多少钱   \n",
       "4       1.0          0.0              1.核资内容（你逾期XX、欠款多少、利息多少，滞纳金多少等等）   \n",
       "5       0.0          0.0                            重复刚才说的催收话术，换一条新的话术  \n",
       "6       0.0          0.0                                 约定下次时间：过一会打给你  \n",
       "7       1.0          1.0                 （记录通讯方式，例如微信号等，告知马上会有一个主管联系他）  \n",
       "8       0.0          0.0                                 对应节点施压，level1  \n",
       "9       0.0          0.0                                            施压  \n",
       "10      1.0          1.0                                  跳到cofirmloan  \n",
       "11      1.0          1.0                           跳到ifknowdebtor+自我介绍  \n",
       "12      0.0          0.0                                        告诉支付途径  \n",
       "13      0.0          0.0             增加一个共用节点，话题回转拉回主题，然后施压：随着扯的次数施压加重  "
      ]
     },
     "execution_count": 11,
     "metadata": {},
     "output_type": "execute_result"
    }
   ],
   "source": [
    "strategy_mat"
   ]
  },
  {
   "cell_type": "markdown",
   "metadata": {},
   "source": [
    "# data cleaning"
   ]
  },
  {
   "cell_type": "code",
   "execution_count": 12,
   "metadata": {
    "ExecuteTime": {
     "end_time": "2018-07-11T19:21:00.851635Z",
     "start_time": "2018-07-11T19:21:00.654070Z"
    }
   },
   "outputs": [
    {
     "name": "stdout",
     "output_type": "stream",
     "text": [
      "['故意岔开话题' '回问身份' '确认数额' '说出目的' '其它通讯方式' '请求重复' '请求等下打来' '讨价还价' '模糊确认'\n",
      " '还款方式']\n",
      "故意岔开话题    1375\n",
      "请求等下打来     667\n",
      "请求重复       605\n",
      "讨价还价       484\n",
      "回问身份       336\n",
      "确认数额       333\n",
      "说出目的       256\n",
      "还款方式       215\n",
      "模糊确认       213\n",
      "其它通讯方式     211\n",
      "Name: label, dtype: int64\n",
      "finish cutting words\n",
      "finish shuffling\n"
     ]
    }
   ],
   "source": [
    "data = data.rename(index=str, columns={'文本': 'text', '类别': 'label'})\n",
    "# strategy_mat = strategy_mat.rename(index=str, columns={'类别': 'label', '对策': 'strategy', 'Idclassfier':'IDClassifier', 'ifknowdebtor': 'IfKnowDebtor', 'willingtopay':'WillingToPay', 'cutdebt': 'CutDebt', 'installment': 'Installment'})\n",
    "\n",
    "print(data['label'].unique())\n",
    "print(data.label.value_counts())\n",
    "\n",
    "mapping = strategy_mat.set_index('category').label.drop_duplicates()\n",
    "\n",
    "def cut_words(text):\n",
    "    seg_list = jieba.cut(text, cut_all=False)\n",
    "    return \" \".join(seg_list)\n",
    "\n",
    "def clean(text):\n",
    "    text = re.sub(f'([{string.punctuation}“”¨«»®´·º ½¾¿¡§£₤‘’，])',' ', text)\n",
    "    text = text.split(' ')\n",
    "    text = ' '.join(text)\n",
    "    return text\n",
    "\n",
    "\n",
    "\n",
    "    \n",
    "# cut words\n",
    "data['text']=data['text'].apply(cut_words)\n",
    "print('finish cutting words')\n",
    "\n",
    "# cleaning and save\n",
    "data['text'] = data['text'].apply(clean)\n",
    "data['label'] = data['label'].map(mapping)\n",
    "\n",
    "# shuffle data\n",
    "data = data.sample(frac=1).reset_index(drop=True)\n",
    "print('finish shuffling')\n",
    "data.to_csv(path + 'cleaned_mock_up_data.csv', index = False, encoding = 'utf8')\n",
    "\n",
    "\n",
    "\n"
   ]
  },
  {
   "cell_type": "code",
   "execution_count": 13,
   "metadata": {
    "ExecuteTime": {
     "end_time": "2018-07-11T19:21:07.822558Z",
     "start_time": "2018-07-11T19:21:07.810270Z"
    },
    "scrolled": true
   },
   "outputs": [
    {
     "data": {
      "text/html": [
       "<div>\n",
       "<style scoped>\n",
       "    .dataframe tbody tr th:only-of-type {\n",
       "        vertical-align: middle;\n",
       "    }\n",
       "\n",
       "    .dataframe tbody tr th {\n",
       "        vertical-align: top;\n",
       "    }\n",
       "\n",
       "    .dataframe thead th {\n",
       "        text-align: right;\n",
       "    }\n",
       "</style>\n",
       "<table border=\"1\" class=\"dataframe\">\n",
       "  <thead>\n",
       "    <tr style=\"text-align: right;\">\n",
       "      <th></th>\n",
       "      <th>text</th>\n",
       "      <th>label</th>\n",
       "    </tr>\n",
       "  </thead>\n",
       "  <tbody>\n",
       "    <tr>\n",
       "      <th>0</th>\n",
       "      <td>等 会 再 给 我 打电话</td>\n",
       "      <td>104</td>\n",
       "    </tr>\n",
       "    <tr>\n",
       "      <th>1</th>\n",
       "      <td>我 也 不 知道   钱 还 没到 账</td>\n",
       "      <td>100</td>\n",
       "    </tr>\n",
       "    <tr>\n",
       "      <th>2</th>\n",
       "      <td>你 谁 啊   你 管 我   到底 想 干嘛</td>\n",
       "      <td>101</td>\n",
       "    </tr>\n",
       "    <tr>\n",
       "      <th>3</th>\n",
       "      <td>啊 ？ 俺 听 不到</td>\n",
       "      <td>103</td>\n",
       "    </tr>\n",
       "    <tr>\n",
       "      <th>4</th>\n",
       "      <td>我 朋友 说 今天 钱 还 我</td>\n",
       "      <td>100</td>\n",
       "    </tr>\n",
       "    <tr>\n",
       "      <th>5</th>\n",
       "      <td>正在 凑钱</td>\n",
       "      <td>100</td>\n",
       "    </tr>\n",
       "    <tr>\n",
       "      <th>6</th>\n",
       "      <td>现在 没空</td>\n",
       "      <td>104</td>\n",
       "    </tr>\n",
       "    <tr>\n",
       "      <th>7</th>\n",
       "      <td>满满的 月光</td>\n",
       "      <td>109</td>\n",
       "    </tr>\n",
       "    <tr>\n",
       "      <th>8</th>\n",
       "      <td>你 给 我 发红包 我 就 告诉 你</td>\n",
       "      <td>109</td>\n",
       "    </tr>\n",
       "    <tr>\n",
       "      <th>9</th>\n",
       "      <td>在 干活</td>\n",
       "      <td>104</td>\n",
       "    </tr>\n",
       "  </tbody>\n",
       "</table>\n",
       "</div>"
      ],
      "text/plain": [
       "                      text  label\n",
       "0            等 会 再 给 我 打电话    104\n",
       "1      我 也 不 知道   钱 还 没到 账    100\n",
       "2  你 谁 啊   你 管 我   到底 想 干嘛    101\n",
       "3               啊 ？ 俺 听 不到    103\n",
       "4          我 朋友 说 今天 钱 还 我    100\n",
       "5                    正在 凑钱    100\n",
       "6                    现在 没空    104\n",
       "7                   满满的 月光    109\n",
       "8       你 给 我 发红包 我 就 告诉 你    109\n",
       "9                     在 干活    104"
      ]
     },
     "execution_count": 13,
     "metadata": {},
     "output_type": "execute_result"
    }
   ],
   "source": [
    "data.head(10)"
   ]
  },
  {
   "cell_type": "markdown",
   "metadata": {
    "ExecuteTime": {
     "end_time": "2018-06-27T19:12:47.658354Z",
     "start_time": "2018-06-27T19:12:47.655287Z"
    }
   },
   "source": [
    "# modeling"
   ]
  },
  {
   "cell_type": "code",
   "execution_count": 14,
   "metadata": {
    "ExecuteTime": {
     "end_time": "2018-07-11T19:21:53.681355Z",
     "start_time": "2018-07-11T19:21:53.477201Z"
    }
   },
   "outputs": [],
   "source": [
    "from sklearn.feature_extraction.text import CountVectorizer, TfidfVectorizer, TfidfTransformer\n",
    "from sklearn.calibration import CalibratedClassifierCV\n",
    "from sklearn.svm import LinearSVC\n",
    "from sklearn.linear_model import LogisticRegression\n",
    "from sklearn import preprocessing\n",
    "from sklearn.preprocessing import MultiLabelBinarizer\n",
    "from sklearn.naive_bayes import MultinomialNB\n",
    "\n",
    "from others_py import *\n",
    "\n",
    "func_list = [CutDebt_other,IDClassifier_other,IfKnowDebtor_other,Installment_other,ConfirmLoan_other,WillingToPay_other]"
   ]
  },
  {
   "cell_type": "code",
   "execution_count": 15,
   "metadata": {
    "ExecuteTime": {
     "end_time": "2018-07-11T19:21:57.039045Z",
     "start_time": "2018-07-11T19:21:54.557438Z"
    }
   },
   "outputs": [
    {
     "name": "stdout",
     "output_type": "stream",
     "text": [
      "IDClassifier\n",
      "[101, 103, 104, 107, 109]\n",
      "fitting phrase\n",
      "transform phrase\n",
      "finish training\n",
      "IfKnowDebtor\n",
      "[101, 103, 104, 107, 109]\n",
      "fitting phrase\n",
      "transform phrase\n",
      "finish training\n",
      "ConfirmLoan\n",
      "[100, 102, 103, 104, 106, 107, 108, 109]\n",
      "fitting phrase\n",
      "transform phrase\n",
      "finish training\n",
      "WillingToPay\n",
      "[103, 104, 105, 106, 107, 108, 109]\n",
      "fitting phrase\n",
      "transform phrase\n",
      "finish training\n",
      "CutDebt\n",
      "[100, 102, 103, 104, 106, 107, 108, 109]\n",
      "fitting phrase\n",
      "transform phrase\n",
      "finish training\n",
      "Installment\n",
      "[100, 102, 103, 104, 106, 107, 108, 109]\n",
      "fitting phrase\n",
      "transform phrase\n",
      "finish training\n"
     ]
    }
   ],
   "source": [
    "ind = 0\n",
    "for each_model in model_list:\n",
    "    print(each_model)\n",
    "    possible_label = sorted(list(set(strategy_mat[strategy_mat[each_model]==0]['label'].values)))\n",
    "    print(possible_label)\n",
    "    train_data = data[data['label'].apply(lambda x: x in possible_label)]\n",
    "    \n",
    "    # get tfidf\n",
    "    phrase_vectorizer = TfidfVectorizer(ngram_range=(1,3),\n",
    "                                    strip_accents='unicode', \n",
    "                                    max_features=100000, \n",
    "                                    analyzer='word',\n",
    "                                    sublinear_tf=True,\n",
    "                                    token_pattern=r'\\w{1,}')\n",
    "\n",
    "    print('fitting phrase')\n",
    "    phrase_vectorizer.fit(train_data.text)\n",
    "\n",
    "    print('transform phrase')\n",
    "    phrase = phrase_vectorizer.transform(train_data.text)\n",
    "\n",
    "    \n",
    "    # linear svc\n",
    "    l_svc = LinearSVC()\n",
    "    lsvc = CalibratedClassifierCV(l_svc) \n",
    "    lsvc.fit(phrase, train_data.label)\n",
    "    \n",
    "    \n",
    "    # logistic\n",
    "    log_r = LogisticRegression()\n",
    "    log_r.fit(phrase, train_data.label)\n",
    "    \n",
    "    \n",
    "    # Naive Bayes\n",
    "    naive_b = MultinomialNB()\n",
    "    naive_b.fit(phrase, train_data.label)\n",
    "    \n",
    "    print('finish training')\n",
    "    \n",
    "    \n",
    "    # save model\n",
    "    save_path = '../../savedModel/others/{}/'\n",
    "#     # save tfidf\n",
    "#     pickle.dump(phrase_vectorizer, open(save_path.format(each_model) + \"tfidf.pickle\", \"wb\"))\n",
    "#     # save linear svc\n",
    "#     pickle.dump(lsvc, open(save_path.format(each_model) + \"LinearSVC.pickle\", \"wb\"))\n",
    "#     # save logistic\n",
    "#     pickle.dump(log_r, open(save_path.format(each_model) + \"Logistic.pickle\", \"wb\"))\n",
    "#     # save naive bayes\n",
    "#     pickle.dump(naive_b, open(save_path.format(each_model) + \"nb.pickle\", \"wb\"))\n",
    "    \n",
    "    \n",
    "    func = func_list[ind]\n",
    "    result = func(svc=lsvc, logistic=log_r, nb=naive_b, tfidf=phrase_vectorizer, jieba_path='../WordCut/userdict.txt',possible_label=possible_label)\n",
    "    pickle.dump(result, open(save_path.format(each_model) + each_model + '_other.pickle', \"wb\"))\n",
    "    ind = ind + 1\n",
    "    \n",
    "   "
   ]
  },
  {
   "cell_type": "code",
   "execution_count": 16,
   "metadata": {
    "ExecuteTime": {
     "end_time": "2018-07-11T19:21:57.872757Z",
     "start_time": "2018-07-11T19:21:57.806821Z"
    }
   },
   "outputs": [],
   "source": [
    "# coder = {'讨价还价':0, '说出目的':1, '确认数额':2, '请求重复':3, '请求等下打来':4, '其它通讯方式':5, '模糊确认':6, '回问身份':7, '还款方式':8, '故意岔开话题':9, '不愿配合':10}\n",
    "\n",
    "idc = pickle.load(open(\"../../savedModel/others/IDClassifier/IDClassifier_other.pickle\", 'rb'))\n",
    "cutd = pickle.load(open(\"../../savedModel/others/CutDebt/CutDebt_other.pickle\", 'rb'))\n",
    "ifk = pickle.load(open(\"../../savedModel/others/IfKnowDebtor/IfKnowDebtor_other.pickle\", 'rb'))\n",
    "will = pickle.load(open(\"../../savedModel/others/WillingToPay/WillingToPay_other.pickle\", 'rb'))\n",
    "inst = pickle.load(open(\"../../savedModel/others/Installment/Installment_other.pickle\", 'rb'))\n",
    "conf = pickle.load(open(\"../../savedModel/others/ConfirmLoan/ConfirmLoan_other.pickle\", 'rb'))"
   ]
  },
  {
   "cell_type": "code",
   "execution_count": 18,
   "metadata": {
    "ExecuteTime": {
     "end_time": "2018-07-11T19:22:28.491952Z",
     "start_time": "2018-07-11T19:22:28.481330Z"
    }
   },
   "outputs": [
    {
     "data": {
      "text/plain": [
       "{'label': 103,\n",
       " 'pred_prob': array([[0.0123779 , 0.93609719, 0.00507587, 0.00915109, 0.03729795],\n",
       "        [0.03287193, 0.6248927 , 0.04713778, 0.02476825, 0.27032933],\n",
       "        [0.01508828, 0.71018262, 0.03791627, 0.01590351, 0.22090932]]),\n",
       " 'av_pred': array([0.0201127 , 0.75705751, 0.03004331, 0.01660762, 0.17617887])}"
      ]
     },
     "execution_count": 18,
     "metadata": {},
     "output_type": "execute_result"
    }
   ],
   "source": [
    "idc.classify('风太大了，听不清')"
   ]
  },
  {
   "cell_type": "code",
   "execution_count": null,
   "metadata": {
    "collapsed": true
   },
   "outputs": [],
   "source": [
    "# save pickle for possible labels"
   ]
  },
  {
   "cell_type": "code",
   "execution_count": null,
   "metadata": {
    "collapsed": true
   },
   "outputs": [],
   "source": []
  },
  {
   "cell_type": "code",
   "execution_count": null,
   "metadata": {
    "collapsed": true
   },
   "outputs": [],
   "source": []
  },
  {
   "cell_type": "code",
   "execution_count": null,
   "metadata": {
    "collapsed": true
   },
   "outputs": [],
   "source": []
  },
  {
   "cell_type": "code",
   "execution_count": 54,
   "metadata": {
    "ExecuteTime": {
     "end_time": "2018-06-27T19:20:41.466236Z",
     "start_time": "2018-06-27T19:20:41.463568Z"
    },
    "collapsed": true
   },
   "outputs": [],
   "source": [
    "# a = pickle.load(open('../../data/others/label_token.pkl','rb'))"
   ]
  },
  {
   "cell_type": "code",
   "execution_count": null,
   "metadata": {
    "collapsed": true
   },
   "outputs": [],
   "source": []
  }
 ],
 "metadata": {
  "kernelspec": {
   "display_name": "Python 3",
   "language": "python",
   "name": "python3"
  },
  "language_info": {
   "codemirror_mode": {
    "name": "ipython",
    "version": 3
   },
   "file_extension": ".py",
   "mimetype": "text/x-python",
   "name": "python",
   "nbconvert_exporter": "python",
   "pygments_lexer": "ipython3",
   "version": "3.6.5"
  },
  "varInspector": {
   "cols": {
    "lenName": 16,
    "lenType": 16,
    "lenVar": 40
   },
   "kernels_config": {
    "python": {
     "delete_cmd_postfix": "",
     "delete_cmd_prefix": "del ",
     "library": "var_list.py",
     "varRefreshCmd": "print(var_dic_list())"
    },
    "r": {
     "delete_cmd_postfix": ") ",
     "delete_cmd_prefix": "rm(",
     "library": "var_list.r",
     "varRefreshCmd": "cat(var_dic_list()) "
    }
   },
   "types_to_exclude": [
    "module",
    "function",
    "builtin_function_or_method",
    "instance",
    "_Feature"
   ],
   "window_display": false
  }
 },
 "nbformat": 4,
 "nbformat_minor": 2
}
