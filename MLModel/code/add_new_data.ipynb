{
 "cells": [
  {
   "cell_type": "code",
   "execution_count": 1,
   "metadata": {
    "ExecuteTime": {
     "end_time": "2018-06-28T17:50:16.134921Z",
     "start_time": "2018-06-28T17:50:15.815582Z"
    },
    "collapsed": true
   },
   "outputs": [],
   "source": [
    "import pandas as pd\n",
    "import numpy as np\n",
    "\n",
    "add_file_path = '../data/{}/'"
   ]
  },
  {
   "cell_type": "code",
   "execution_count": 10,
   "metadata": {
    "ExecuteTime": {
     "end_time": "2018-06-28T18:01:04.901957Z",
     "start_time": "2018-06-28T18:01:04.803231Z"
    }
   },
   "outputs": [
    {
     "name": "stdout",
     "output_type": "stream",
     "text": [
      "IDClassifier\n",
      "(3278, 3)\n",
      "cleaned_idclassfier_2018_6_27.csv\n",
      "(715, 2)\n",
      "(3993, 3)\n",
      "CutDebt\n",
      "(5583, 2)\n",
      "cleaned_cutdebt_2018_6_27.csv\n",
      "(647, 2)\n",
      "(6230, 2)\n",
      "ConfirmLoan\n",
      "(15, 2)\n",
      "cleaned_confirmloan_2018_6_27.csv\n",
      "(681, 2)\n",
      "(696, 2)\n"
     ]
    }
   ],
   "source": [
    "file_name = ['IDClassifier','CutDebt','ConfirmLoan']\n",
    "new_file_name = ['cleaned_idclassfier_2018_6_27.csv','cleaned_cutdebt_2018_6_27.csv','cleaned_confirmloan_2018_6_27.csv']\n",
    "\n",
    "ind = 0\n",
    "for f in file_name:\n",
    "    print(f)\n",
    "    data = pd.read_csv(add_file_path.format(f) + 'mock_up_data1.csv', encoding='utf8')\n",
    "    print(data.shape)\n",
    "    print(new_file_name[ind])\n",
    "    data_new = pd.read_csv(add_file_path.format(f) + new_file_name[ind], encoding='utf8')\n",
    "    print(data_new.shape)\n",
    "    comb_data = pd.concat([data,data_new],ignore_index=True)\n",
    "    print(comb_data.shape)\n",
    "    ind = ind + 1\n",
    "    \n",
    "    comb_data.to_csv(add_file_path.format(f) + 'mock_up_data.csv', index=False, encoding='utf8')"
   ]
  },
  {
   "cell_type": "code",
   "execution_count": null,
   "metadata": {
    "collapsed": true
   },
   "outputs": [],
   "source": []
  }
 ],
 "metadata": {
  "kernelspec": {
   "display_name": "Python 3",
   "language": "python",
   "name": "python3"
  },
  "language_info": {
   "codemirror_mode": {
    "name": "ipython",
    "version": 3
   },
   "file_extension": ".py",
   "mimetype": "text/x-python",
   "name": "python",
   "nbconvert_exporter": "python",
   "pygments_lexer": "ipython3",
   "version": "3.6.3"
  },
  "varInspector": {
   "cols": {
    "lenName": 16,
    "lenType": 16,
    "lenVar": 40
   },
   "kernels_config": {
    "python": {
     "delete_cmd_postfix": "",
     "delete_cmd_prefix": "del ",
     "library": "var_list.py",
     "varRefreshCmd": "print(var_dic_list())"
    },
    "r": {
     "delete_cmd_postfix": ") ",
     "delete_cmd_prefix": "rm(",
     "library": "var_list.r",
     "varRefreshCmd": "cat(var_dic_list()) "
    }
   },
   "types_to_exclude": [
    "module",
    "function",
    "builtin_function_or_method",
    "instance",
    "_Feature"
   ],
   "window_display": false
  }
 },
 "nbformat": 4,
 "nbformat_minor": 2
}
