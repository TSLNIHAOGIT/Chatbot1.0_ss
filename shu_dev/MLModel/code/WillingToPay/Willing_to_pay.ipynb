{
 "cells": [
  {
   "cell_type": "code",
   "execution_count": 1,
   "metadata": {
    "ExecuteTime": {
     "end_time": "2018-06-19T20:49:35.062671Z",
     "start_time": "2018-06-19T20:49:34.754297Z"
    },
    "collapsed": true
   },
   "outputs": [],
   "source": [
    "#encoding=utf-8\n",
    "import pandas as pd\n",
    "import numpy as np\n",
    "from sklearn.feature_extraction.text import CountVectorizer, TfidfVectorizer, TfidfTransformer"
   ]
  },
  {
   "cell_type": "code",
   "execution_count": 2,
   "metadata": {
    "ExecuteTime": {
     "end_time": "2018-06-19T20:49:35.096239Z",
     "start_time": "2018-06-19T20:49:35.070821Z"
    }
   },
   "outputs": [
    {
     "name": "stdout",
     "output_type": "stream",
     "text": [
      "(17015, 2)\n"
     ]
    },
    {
     "data": {
      "text/html": [
       "<div>\n",
       "<style>\n",
       "    .dataframe thead tr:only-child th {\n",
       "        text-align: right;\n",
       "    }\n",
       "\n",
       "    .dataframe thead th {\n",
       "        text-align: left;\n",
       "    }\n",
       "\n",
       "    .dataframe tbody tr th {\n",
       "        vertical-align: top;\n",
       "    }\n",
       "</style>\n",
       "<table border=\"1\" class=\"dataframe\">\n",
       "  <thead>\n",
       "    <tr style=\"text-align: right;\">\n",
       "      <th></th>\n",
       "      <th>label</th>\n",
       "      <th>split_text</th>\n",
       "    </tr>\n",
       "  </thead>\n",
       "  <tbody>\n",
       "    <tr>\n",
       "      <th>0</th>\n",
       "      <td>3</td>\n",
       "      <td>40 分钟 后</td>\n",
       "    </tr>\n",
       "    <tr>\n",
       "      <th>1</th>\n",
       "      <td>1</td>\n",
       "      <td>舞弊</td>\n",
       "    </tr>\n",
       "    <tr>\n",
       "      <th>2</th>\n",
       "      <td>1</td>\n",
       "      <td>他 不再 说 了</td>\n",
       "    </tr>\n",
       "    <tr>\n",
       "      <th>3</th>\n",
       "      <td>1</td>\n",
       "      <td>过 了 一段时间 后 再说</td>\n",
       "    </tr>\n",
       "    <tr>\n",
       "      <th>4</th>\n",
       "      <td>1</td>\n",
       "      <td>在 月底</td>\n",
       "    </tr>\n",
       "    <tr>\n",
       "      <th>5</th>\n",
       "      <td>3</td>\n",
       "      <td>在 开会</td>\n",
       "    </tr>\n",
       "    <tr>\n",
       "      <th>6</th>\n",
       "      <td>0</td>\n",
       "      <td>我 等 下</td>\n",
       "    </tr>\n",
       "    <tr>\n",
       "      <th>7</th>\n",
       "      <td>1</td>\n",
       "      <td>你 犯 了 一个 错误</td>\n",
       "    </tr>\n",
       "    <tr>\n",
       "      <th>8</th>\n",
       "      <td>2</td>\n",
       "      <td>你 从 哪里 来</td>\n",
       "    </tr>\n",
       "    <tr>\n",
       "      <th>9</th>\n",
       "      <td>1</td>\n",
       "      <td>我 借 了</td>\n",
       "    </tr>\n",
       "  </tbody>\n",
       "</table>\n",
       "</div>"
      ],
      "text/plain": [
       "   label     split_text\n",
       "0      3        40 分钟 后\n",
       "1      1             舞弊\n",
       "2      1       他 不再 说 了\n",
       "3      1  过 了 一段时间 后 再说\n",
       "4      1           在 月底\n",
       "5      3           在 开会\n",
       "6      0          我 等 下\n",
       "7      1    你 犯 了 一个 错误\n",
       "8      2       你 从 哪里 来\n",
       "9      1          我 借 了"
      ]
     },
     "execution_count": 2,
     "metadata": {},
     "output_type": "execute_result"
    }
   ],
   "source": [
    "# read files\n",
    "path = '../../data/WillingToPay/'\n",
    "data = pd.read_csv(path + 'cleaned_mock_up_data.csv', encoding='utf8')\n",
    "print(data.shape)\n",
    "data.head(10)"
   ]
  },
  {
   "cell_type": "code",
   "execution_count": 3,
   "metadata": {
    "ExecuteTime": {
     "end_time": "2018-06-19T20:49:35.204286Z",
     "start_time": "2018-06-19T20:49:35.199457Z"
    }
   },
   "outputs": [
    {
     "data": {
      "text/plain": [
       "'40 分钟 后'"
      ]
     },
     "execution_count": 3,
     "metadata": {},
     "output_type": "execute_result"
    }
   ],
   "source": [
    "data.split_text.iloc[0]"
   ]
  },
  {
   "cell_type": "code",
   "execution_count": 4,
   "metadata": {
    "ExecuteTime": {
     "end_time": "2018-06-19T20:49:35.768868Z",
     "start_time": "2018-06-19T20:49:35.469715Z"
    }
   },
   "outputs": [
    {
     "name": "stdout",
     "output_type": "stream",
     "text": [
      "fitting phrase\n",
      "transform phrase\n"
     ]
    },
    {
     "data": {
      "text/plain": [
       "<17015x28155 sparse matrix of type '<class 'numpy.float64'>'\n",
       "\twith 149143 stored elements in Compressed Sparse Row format>"
      ]
     },
     "execution_count": 4,
     "metadata": {},
     "output_type": "execute_result"
    }
   ],
   "source": [
    "phrase_vectorizer = TfidfVectorizer(ngram_range=(1,3),\n",
    "                                    strip_accents='unicode', \n",
    "                                    max_features=100000, \n",
    "                                    analyzer='word',\n",
    "                                    sublinear_tf=True,\n",
    "                                    token_pattern=r'\\w{1,}')\n",
    "\n",
    "print('fitting phrase')\n",
    "phrase_vectorizer.fit(data.split_text)\n",
    "\n",
    "print('transform phrase')\n",
    "phrase = phrase_vectorizer.transform(data.split_text)\n",
    "\n",
    "phrase"
   ]
  },
  {
   "cell_type": "markdown",
   "metadata": {},
   "source": [
    "# SVC"
   ]
  },
  {
   "cell_type": "code",
   "execution_count": 5,
   "metadata": {
    "ExecuteTime": {
     "end_time": "2018-06-19T20:49:36.460004Z",
     "start_time": "2018-06-19T20:49:35.849983Z"
    }
   },
   "outputs": [
    {
     "name": "stdout",
     "output_type": "stream",
     "text": [
      "0.870349691449\n"
     ]
    }
   ],
   "source": [
    "from sklearn.calibration import CalibratedClassifierCV\n",
    "from sklearn.svm import LinearSVC\n",
    "\n",
    "l_svc = LinearSVC()\n",
    "clf = CalibratedClassifierCV(l_svc) \n",
    "clf.fit(phrase, data.label)\n",
    "print(clf.score(phrase, data.label))"
   ]
  },
  {
   "cell_type": "code",
   "execution_count": 6,
   "metadata": {
    "ExecuteTime": {
     "end_time": "2018-06-19T20:49:36.497970Z",
     "start_time": "2018-06-19T20:49:36.477678Z"
    }
   },
   "outputs": [
    {
     "name": "stdout",
     "output_type": "stream",
     "text": [
      "[3 1 1 ..., 1 1 3]\n"
     ]
    }
   ],
   "source": [
    "print(clf.predict(phrase))"
   ]
  },
  {
   "cell_type": "markdown",
   "metadata": {
    "ExecuteTime": {
     "end_time": "2018-06-11T19:35:30.494479Z",
     "start_time": "2018-06-11T19:35:30.483359Z"
    }
   },
   "source": [
    "# logistic"
   ]
  },
  {
   "cell_type": "code",
   "execution_count": 7,
   "metadata": {
    "ExecuteTime": {
     "end_time": "2018-06-19T20:49:36.511553Z",
     "start_time": "2018-06-19T20:49:36.509637Z"
    },
    "collapsed": true
   },
   "outputs": [],
   "source": [
    "from sklearn.linear_model import LogisticRegression"
   ]
  },
  {
   "cell_type": "code",
   "execution_count": 8,
   "metadata": {
    "ExecuteTime": {
     "end_time": "2018-06-19T20:49:36.876643Z",
     "start_time": "2018-06-19T20:49:36.606337Z"
    }
   },
   "outputs": [
    {
     "name": "stdout",
     "output_type": "stream",
     "text": [
      "0.826153394064\n"
     ]
    }
   ],
   "source": [
    "log_r = LogisticRegression()\n",
    "log_r.fit(phrase, data.label)\n",
    "print(log_r.score(phrase, data.label))"
   ]
  },
  {
   "cell_type": "code",
   "execution_count": 9,
   "metadata": {
    "ExecuteTime": {
     "end_time": "2018-06-19T20:49:36.889358Z",
     "start_time": "2018-06-19T20:49:36.886050Z"
    }
   },
   "outputs": [
    {
     "name": "stdout",
     "output_type": "stream",
     "text": [
      "[3 1 1 ..., 1 1 3]\n"
     ]
    }
   ],
   "source": [
    "print(log_r.predict(phrase))"
   ]
  },
  {
   "cell_type": "markdown",
   "metadata": {},
   "source": [
    "# LightGBM"
   ]
  },
  {
   "cell_type": "code",
   "execution_count": 10,
   "metadata": {
    "ExecuteTime": {
     "end_time": "2018-06-19T20:49:37.367840Z",
     "start_time": "2018-06-19T20:49:37.355147Z"
    },
    "collapsed": true
   },
   "outputs": [],
   "source": [
    "import lightgbm as lgb"
   ]
  },
  {
   "cell_type": "code",
   "execution_count": 11,
   "metadata": {
    "ExecuteTime": {
     "end_time": "2018-06-19T20:49:37.562196Z",
     "start_time": "2018-06-19T20:49:37.555273Z"
    },
    "collapsed": true
   },
   "outputs": [],
   "source": [
    "from sklearn import preprocessing\n",
    "le = preprocessing.LabelEncoder()\n",
    "le.fit(data.label.values)\n",
    "onelabels = le.transform(data.label.values)"
   ]
  },
  {
   "cell_type": "code",
   "execution_count": 12,
   "metadata": {
    "ExecuteTime": {
     "end_time": "2018-06-19T20:49:37.757965Z",
     "start_time": "2018-06-19T20:49:37.753356Z"
    }
   },
   "outputs": [
    {
     "data": {
      "text/plain": [
       "array([3, 1, 1, ..., 1, 1, 3])"
      ]
     },
     "execution_count": 12,
     "metadata": {},
     "output_type": "execute_result"
    }
   ],
   "source": [
    "onelabels"
   ]
  },
  {
   "cell_type": "code",
   "execution_count": 13,
   "metadata": {
    "ExecuteTime": {
     "end_time": "2018-06-19T20:49:37.971103Z",
     "start_time": "2018-06-19T20:49:37.960671Z"
    },
    "collapsed": true
   },
   "outputs": [],
   "source": [
    "from sklearn.preprocessing import MultiLabelBinarizer\n",
    "multicoder = MultiLabelBinarizer()\n",
    "lables = multicoder.fit_transform([data.label.values])"
   ]
  },
  {
   "cell_type": "code",
   "execution_count": 14,
   "metadata": {
    "ExecuteTime": {
     "end_time": "2018-06-19T20:49:38.172877Z",
     "start_time": "2018-06-19T20:49:38.168374Z"
    }
   },
   "outputs": [
    {
     "data": {
      "text/plain": [
       "array([[1, 1, 1, 1]])"
      ]
     },
     "execution_count": 14,
     "metadata": {},
     "output_type": "execute_result"
    }
   ],
   "source": [
    "lables"
   ]
  },
  {
   "cell_type": "code",
   "execution_count": 15,
   "metadata": {
    "ExecuteTime": {
     "end_time": "2018-06-19T20:49:38.635567Z",
     "start_time": "2018-06-19T20:49:38.630749Z"
    }
   },
   "outputs": [
    {
     "data": {
      "text/plain": [
       "array([3, 1, 1, ..., 1, 1, 3])"
      ]
     },
     "execution_count": 15,
     "metadata": {},
     "output_type": "execute_result"
    }
   ],
   "source": [
    "data.label.values"
   ]
  },
  {
   "cell_type": "code",
   "execution_count": 16,
   "metadata": {
    "ExecuteTime": {
     "end_time": "2018-06-19T20:49:51.305749Z",
     "start_time": "2018-06-19T20:49:38.855252Z"
    }
   },
   "outputs": [
    {
     "name": "stderr",
     "output_type": "stream",
     "text": [
      "/home/kai/anaconda3/lib/python3.6/site-packages/lightgbm/engine.py:99: UserWarning: Found `num_iterations` in params. Will use it instead of argument\n",
      "  warnings.warn(\"Found `{}` in params. Will use it instead of argument\".format(alias))\n",
      "/home/kai/anaconda3/lib/python3.6/site-packages/lightgbm/engine.py:104: UserWarning: Found `early_stopping_round` in params. Will use it instead of argument\n",
      "  warnings.warn(\"Found `{}` in params. Will use it instead of argument\".format(alias))\n"
     ]
    },
    {
     "name": "stdout",
     "output_type": "stream",
     "text": [
      "Training until validation scores don't improve for 200 rounds.\n",
      "[5]\tvalid_0's multi_error: 0.362798\n",
      "[10]\tvalid_0's multi_error: 0.345871\n",
      "[15]\tvalid_0's multi_error: 0.334352\n",
      "[20]\tvalid_0's multi_error: 0.321716\n",
      "[25]\tvalid_0's multi_error: 0.310961\n",
      "[30]\tvalid_0's multi_error: 0.298795\n",
      "[35]\tvalid_0's multi_error: 0.29139\n",
      "[40]\tvalid_0's multi_error: 0.283926\n",
      "[45]\tvalid_0's multi_error: 0.277814\n",
      "[50]\tvalid_0's multi_error: 0.271878\n",
      "[55]\tvalid_0's multi_error: 0.265413\n",
      "[60]\tvalid_0's multi_error: 0.261593\n",
      "[65]\tvalid_0's multi_error: 0.256538\n",
      "[70]\tvalid_0's multi_error: 0.251602\n",
      "[75]\tvalid_0's multi_error: 0.248604\n",
      "[80]\tvalid_0's multi_error: 0.244549\n",
      "[85]\tvalid_0's multi_error: 0.242492\n",
      "[90]\tvalid_0's multi_error: 0.239024\n",
      "[95]\tvalid_0's multi_error: 0.236791\n",
      "[100]\tvalid_0's multi_error: 0.23444\n",
      "[105]\tvalid_0's multi_error: 0.232031\n",
      "[110]\tvalid_0's multi_error: 0.229738\n",
      "[115]\tvalid_0's multi_error: 0.226565\n",
      "[120]\tvalid_0's multi_error: 0.224567\n",
      "[125]\tvalid_0's multi_error: 0.222274\n",
      "[130]\tvalid_0's multi_error: 0.22057\n",
      "[135]\tvalid_0's multi_error: 0.218983\n",
      "[140]\tvalid_0's multi_error: 0.217808\n",
      "[145]\tvalid_0's multi_error: 0.216456\n",
      "[150]\tvalid_0's multi_error: 0.214458\n",
      "[155]\tvalid_0's multi_error: 0.213165\n",
      "[160]\tvalid_0's multi_error: 0.211813\n",
      "[165]\tvalid_0's multi_error: 0.21052\n",
      "[170]\tvalid_0's multi_error: 0.209345\n",
      "[175]\tvalid_0's multi_error: 0.208169\n",
      "[180]\tvalid_0's multi_error: 0.207523\n",
      "[185]\tvalid_0's multi_error: 0.206347\n",
      "[190]\tvalid_0's multi_error: 0.205701\n",
      "[195]\tvalid_0's multi_error: 0.204467\n",
      "[200]\tvalid_0's multi_error: 0.203174\n",
      "[205]\tvalid_0's multi_error: 0.202703\n",
      "[210]\tvalid_0's multi_error: 0.201822\n",
      "[215]\tvalid_0's multi_error: 0.200882\n",
      "[220]\tvalid_0's multi_error: 0.199001\n",
      "[225]\tvalid_0's multi_error: 0.198178\n",
      "[230]\tvalid_0's multi_error: 0.198237\n",
      "[235]\tvalid_0's multi_error: 0.197297\n",
      "[240]\tvalid_0's multi_error: 0.196004\n",
      "[245]\tvalid_0's multi_error: 0.195239\n",
      "[250]\tvalid_0's multi_error: 0.194593\n",
      "[255]\tvalid_0's multi_error: 0.194005\n",
      "[260]\tvalid_0's multi_error: 0.193418\n",
      "[265]\tvalid_0's multi_error: 0.192654\n",
      "[270]\tvalid_0's multi_error: 0.192183\n",
      "[275]\tvalid_0's multi_error: 0.191478\n",
      "[280]\tvalid_0's multi_error: 0.191478\n",
      "[285]\tvalid_0's multi_error: 0.190832\n",
      "[290]\tvalid_0's multi_error: 0.190244\n",
      "[295]\tvalid_0's multi_error: 0.189362\n",
      "[300]\tvalid_0's multi_error: 0.189362\n",
      "[305]\tvalid_0's multi_error: 0.188598\n",
      "[310]\tvalid_0's multi_error: 0.188187\n",
      "[315]\tvalid_0's multi_error: 0.187834\n",
      "[320]\tvalid_0's multi_error: 0.187364\n",
      "[325]\tvalid_0's multi_error: 0.187188\n",
      "[330]\tvalid_0's multi_error: 0.186541\n",
      "[335]\tvalid_0's multi_error: 0.186306\n",
      "[340]\tvalid_0's multi_error: 0.185542\n",
      "[345]\tvalid_0's multi_error: 0.185248\n",
      "[350]\tvalid_0's multi_error: 0.184896\n",
      "[355]\tvalid_0's multi_error: 0.184543\n",
      "[360]\tvalid_0's multi_error: 0.184132\n",
      "[365]\tvalid_0's multi_error: 0.184073\n",
      "[370]\tvalid_0's multi_error: 0.183779\n",
      "[375]\tvalid_0's multi_error: 0.183074\n",
      "[380]\tvalid_0's multi_error: 0.182368\n",
      "[385]\tvalid_0's multi_error: 0.182075\n",
      "[390]\tvalid_0's multi_error: 0.181546\n",
      "[395]\tvalid_0's multi_error: 0.181193\n",
      "[400]\tvalid_0's multi_error: 0.18084\n",
      "[405]\tvalid_0's multi_error: 0.180253\n",
      "[410]\tvalid_0's multi_error: 0.180135\n",
      "[415]\tvalid_0's multi_error: 0.180194\n",
      "[420]\tvalid_0's multi_error: 0.180135\n",
      "[425]\tvalid_0's multi_error: 0.179841\n",
      "[430]\tvalid_0's multi_error: 0.179841\n",
      "[435]\tvalid_0's multi_error: 0.1799\n",
      "[440]\tvalid_0's multi_error: 0.179547\n",
      "[445]\tvalid_0's multi_error: 0.179312\n",
      "[450]\tvalid_0's multi_error: 0.17896\n",
      "[455]\tvalid_0's multi_error: 0.178666\n",
      "[460]\tvalid_0's multi_error: 0.178431\n",
      "[465]\tvalid_0's multi_error: 0.178372\n",
      "[470]\tvalid_0's multi_error: 0.177726\n",
      "[475]\tvalid_0's multi_error: 0.177667\n",
      "[480]\tvalid_0's multi_error: 0.177314\n",
      "[485]\tvalid_0's multi_error: 0.17702\n",
      "[490]\tvalid_0's multi_error: 0.17702\n",
      "[495]\tvalid_0's multi_error: 0.176726\n",
      "[500]\tvalid_0's multi_error: 0.176609\n",
      "[505]\tvalid_0's multi_error: 0.176491\n",
      "[510]\tvalid_0's multi_error: 0.176139\n",
      "[515]\tvalid_0's multi_error: 0.17608\n",
      "[520]\tvalid_0's multi_error: 0.175551\n",
      "[525]\tvalid_0's multi_error: 0.175316\n",
      "[530]\tvalid_0's multi_error: 0.175198\n",
      "[535]\tvalid_0's multi_error: 0.175022\n",
      "[540]\tvalid_0's multi_error: 0.174963\n",
      "[545]\tvalid_0's multi_error: 0.174846\n",
      "[550]\tvalid_0's multi_error: 0.174611\n",
      "[555]\tvalid_0's multi_error: 0.174199\n",
      "[560]\tvalid_0's multi_error: 0.173964\n",
      "[565]\tvalid_0's multi_error: 0.173788\n",
      "[570]\tvalid_0's multi_error: 0.173553\n",
      "[575]\tvalid_0's multi_error: 0.173024\n",
      "[580]\tvalid_0's multi_error: 0.172847\n",
      "[585]\tvalid_0's multi_error: 0.17273\n",
      "[590]\tvalid_0's multi_error: 0.172906\n",
      "[595]\tvalid_0's multi_error: 0.172789\n",
      "[600]\tvalid_0's multi_error: 0.172612\n",
      "[605]\tvalid_0's multi_error: 0.172319\n",
      "[610]\tvalid_0's multi_error: 0.172319\n",
      "[615]\tvalid_0's multi_error: 0.172319\n",
      "[620]\tvalid_0's multi_error: 0.17226\n",
      "[625]\tvalid_0's multi_error: 0.172377\n",
      "[630]\tvalid_0's multi_error: 0.172142\n",
      "[635]\tvalid_0's multi_error: 0.172083\n",
      "[640]\tvalid_0's multi_error: 0.172142\n",
      "[645]\tvalid_0's multi_error: 0.171731\n",
      "[650]\tvalid_0's multi_error: 0.171848\n",
      "[655]\tvalid_0's multi_error: 0.171907\n",
      "[660]\tvalid_0's multi_error: 0.171613\n",
      "[665]\tvalid_0's multi_error: 0.171613\n",
      "[670]\tvalid_0's multi_error: 0.171261\n",
      "[675]\tvalid_0's multi_error: 0.171026\n",
      "[680]\tvalid_0's multi_error: 0.170732\n",
      "[685]\tvalid_0's multi_error: 0.170732\n",
      "[690]\tvalid_0's multi_error: 0.17079\n",
      "[695]\tvalid_0's multi_error: 0.170732\n",
      "[700]\tvalid_0's multi_error: 0.170614\n",
      "[705]\tvalid_0's multi_error: 0.170732\n",
      "[710]\tvalid_0's multi_error: 0.170438\n",
      "[715]\tvalid_0's multi_error: 0.17032\n",
      "[720]\tvalid_0's multi_error: 0.170262\n",
      "[725]\tvalid_0's multi_error: 0.169968\n",
      "[730]\tvalid_0's multi_error: 0.169733\n",
      "[735]\tvalid_0's multi_error: 0.169615\n",
      "[740]\tvalid_0's multi_error: 0.169615\n",
      "[745]\tvalid_0's multi_error: 0.169615\n",
      "[750]\tvalid_0's multi_error: 0.169321\n",
      "[755]\tvalid_0's multi_error: 0.169262\n",
      "[760]\tvalid_0's multi_error: 0.169086\n",
      "[765]\tvalid_0's multi_error: 0.168969\n",
      "[770]\tvalid_0's multi_error: 0.168675\n",
      "[775]\tvalid_0's multi_error: 0.168675\n",
      "[780]\tvalid_0's multi_error: 0.168616\n",
      "[785]\tvalid_0's multi_error: 0.168616\n",
      "[790]\tvalid_0's multi_error: 0.168616\n",
      "[795]\tvalid_0's multi_error: 0.168381\n",
      "[800]\tvalid_0's multi_error: 0.168381\n",
      "[805]\tvalid_0's multi_error: 0.168381\n",
      "[810]\tvalid_0's multi_error: 0.168322\n",
      "[815]\tvalid_0's multi_error: 0.168322\n",
      "[820]\tvalid_0's multi_error: 0.168322\n",
      "[825]\tvalid_0's multi_error: 0.168146\n",
      "[830]\tvalid_0's multi_error: 0.168087\n",
      "[835]\tvalid_0's multi_error: 0.167911\n",
      "[840]\tvalid_0's multi_error: 0.167793\n",
      "[845]\tvalid_0's multi_error: 0.167676\n",
      "[850]\tvalid_0's multi_error: 0.167676\n",
      "[855]\tvalid_0's multi_error: 0.167558\n",
      "[860]\tvalid_0's multi_error: 0.16744\n",
      "[865]\tvalid_0's multi_error: 0.167499\n",
      "[870]\tvalid_0's multi_error: 0.167382\n",
      "[875]\tvalid_0's multi_error: 0.167382\n",
      "[880]\tvalid_0's multi_error: 0.167323\n",
      "[885]\tvalid_0's multi_error: 0.167147\n",
      "[890]\tvalid_0's multi_error: 0.167147\n",
      "[895]\tvalid_0's multi_error: 0.167088\n",
      "[900]\tvalid_0's multi_error: 0.167088\n",
      "[905]\tvalid_0's multi_error: 0.167088\n",
      "[910]\tvalid_0's multi_error: 0.167088\n",
      "[915]\tvalid_0's multi_error: 0.167205\n",
      "[920]\tvalid_0's multi_error: 0.167088\n",
      "[925]\tvalid_0's multi_error: 0.167088\n",
      "[930]\tvalid_0's multi_error: 0.166794\n",
      "[935]\tvalid_0's multi_error: 0.166618\n",
      "[940]\tvalid_0's multi_error: 0.1665\n",
      "[945]\tvalid_0's multi_error: 0.1665\n",
      "[950]\tvalid_0's multi_error: 0.1665\n",
      "[955]\tvalid_0's multi_error: 0.166676\n",
      "[960]\tvalid_0's multi_error: 0.166618\n",
      "[965]\tvalid_0's multi_error: 0.166559\n",
      "[970]\tvalid_0's multi_error: 0.166559\n",
      "[975]\tvalid_0's multi_error: 0.166559\n",
      "[980]\tvalid_0's multi_error: 0.1665\n",
      "[985]\tvalid_0's multi_error: 0.166441\n",
      "[990]\tvalid_0's multi_error: 0.166383\n",
      "[995]\tvalid_0's multi_error: 0.166383\n",
      "[1000]\tvalid_0's multi_error: 0.166383\n",
      "Did not meet early stopping. Best iteration is:\n",
      "[997]\tvalid_0's multi_error: 0.166324\n"
     ]
    }
   ],
   "source": [
    "params = {\n",
    "    'learning_rate': 0.2,\n",
    "    'num_iterations':1000,\n",
    "    'application': 'multiclassova',\n",
    "    'num_class': 4,\n",
    "    'num_leaves': 31,\n",
    "    'verbosity': -1,\n",
    "    'metric': 'multi_error',\n",
    "    'data_random_seed': 2,\n",
    "#     'bagging_fraction': 0.8,\n",
    "#     'feature_fraction': 0.6,\n",
    "    'nthread': 4,\n",
    "    'lambda_l1': 1,\n",
    "    'lambda_l2': 1,\n",
    "    'early_stopping_round':200\n",
    "} \n",
    "\n",
    "# lgbm_train = lgb.Dataset(phrase, data.label)\n",
    "lgbm_train = lgb.Dataset(phrase, onelabels)\n",
    "lgbm_val = lgb.Dataset(phrase, onelabels)\n",
    "lgbm_model = lgb.train(params,lgbm_train,valid_sets=lgbm_val, verbose_eval=5)"
   ]
  },
  {
   "cell_type": "code",
   "execution_count": 17,
   "metadata": {
    "ExecuteTime": {
     "end_time": "2018-06-19T20:49:51.318508Z",
     "start_time": "2018-06-19T20:49:51.316912Z"
    },
    "collapsed": true
   },
   "outputs": [],
   "source": [
    "# print(lgbm_model.predict(phrase))"
   ]
  },
  {
   "cell_type": "code",
   "execution_count": 18,
   "metadata": {
    "ExecuteTime": {
     "end_time": "2018-06-19T20:49:51.336357Z",
     "start_time": "2018-06-19T20:49:51.327964Z"
    },
    "collapsed": true
   },
   "outputs": [],
   "source": [
    "# lgbm_model.predict(phrase)"
   ]
  },
  {
   "cell_type": "markdown",
   "metadata": {
    "collapsed": true
   },
   "source": [
    "# Save"
   ]
  },
  {
   "cell_type": "code",
   "execution_count": 19,
   "metadata": {
    "ExecuteTime": {
     "end_time": "2018-06-13T19:35:27.403951Z",
     "start_time": "2018-06-13T19:35:27.308030Z"
    },
    "collapsed": true
   },
   "outputs": [],
   "source": [
    "import pickle\n",
    "\n",
    "# save tfidf\n",
    "pickle.dump(phrase_vectorizer, open(\"../../savedModel/WillingToPay/tfidf.pickle\", \"wb\"))\n",
    "# pickle.dump(train_comment_features, open(\"train_comment_features.pickle\", \"wb\"))\n",
    "# pickle.dump(test_comment_features, open(\"test_comment_features.pickle\", \"wb\"))\n",
    "\n",
    "# save linear svc\n",
    "pickle.dump(clf, open(\"../../savedModel/WillingToPay/LinearSVC.pickle\", \"wb\"))\n",
    "# save logistic\n",
    "pickle.dump(log_r, open(\"../../savedModel/WillingToPay/Logistic.pickle\", \"wb\"))\n",
    "# save lightGBM\n",
    "pickle.dump(lgbm_model, open(\"../../savedModel/WillingToPay/Lgbm.pickle\", \"wb\"))"
   ]
  },
  {
   "cell_type": "markdown",
   "metadata": {},
   "source": [
    "# Test"
   ]
  },
  {
   "cell_type": "code",
   "execution_count": 20,
   "metadata": {
    "ExecuteTime": {
     "end_time": "2018-06-17T03:56:24.045633Z",
     "start_time": "2018-06-17T03:56:24.034480Z"
    }
   },
   "outputs": [
    {
     "data": {
      "text/plain": [
       "array([ 0.272501  ,  0.43671395,  0.40356772, ...,  0.49316411,\n",
       "        0.16823195,  0.32154549])"
      ]
     },
     "execution_count": 20,
     "metadata": {},
     "output_type": "execute_result"
    }
   ],
   "source": [
    "phrase.data"
   ]
  },
  {
   "cell_type": "code",
   "execution_count": 17,
   "metadata": {
    "ExecuteTime": {
     "end_time": "2018-06-17T03:44:55.778889Z",
     "start_time": "2018-06-17T03:44:55.749103Z"
    },
    "collapsed": true
   },
   "outputs": [],
   "source": [
    "import jieba\n",
    "sentence = 'm'\n",
    "sentence = jieba.cut(sentence, cut_all = False)"
   ]
  },
  {
   "cell_type": "code",
   "execution_count": 23,
   "metadata": {
    "ExecuteTime": {
     "end_time": "2018-06-19T20:50:56.153955Z",
     "start_time": "2018-06-19T20:50:56.145735Z"
    }
   },
   "outputs": [],
   "source": [
    "import jieba\n",
    "sentence = '可以少还一些吗'\n",
    "sentence = jieba.cut(sentence, cut_all = False)\n",
    "sentence = ' '.join(sentence)\n",
    "test = phrase_vectorizer.transform([sentence])\n",
    "# test = phrase_vectorizer.transform(['我 在 洗澡'])\n"
   ]
  },
  {
   "cell_type": "code",
   "execution_count": 24,
   "metadata": {
    "ExecuteTime": {
     "end_time": "2018-06-19T20:50:57.418761Z",
     "start_time": "2018-06-19T20:50:57.411813Z"
    }
   },
   "outputs": [
    {
     "data": {
      "text/plain": [
       "array([[ 0.02758168,  0.0178142 ,  0.93583117,  0.01877295]])"
      ]
     },
     "execution_count": 24,
     "metadata": {},
     "output_type": "execute_result"
    }
   ],
   "source": [
    "clf.predict_proba(test) # linear svc"
   ]
  },
  {
   "cell_type": "code",
   "execution_count": 25,
   "metadata": {
    "ExecuteTime": {
     "end_time": "2018-06-19T20:50:58.322231Z",
     "start_time": "2018-06-19T20:50:58.316806Z"
    }
   },
   "outputs": [
    {
     "data": {
      "text/plain": [
       "array([[ 0.0839188 ,  0.02898682,  0.8559837 ,  0.03111067]])"
      ]
     },
     "execution_count": 25,
     "metadata": {},
     "output_type": "execute_result"
    }
   ],
   "source": [
    "log_r.predict_proba(test) # logistic"
   ]
  },
  {
   "cell_type": "code",
   "execution_count": 26,
   "metadata": {
    "ExecuteTime": {
     "start_time": "2018-06-17T03:42:43.395Z"
    },
    "collapsed": true
   },
   "outputs": [
    {
     "data": {
      "text/plain": [
       "array([[  8.14762223e-03,   4.99286239e-04,   9.90118024e-01,\n",
       "          2.73465392e-05]])"
      ]
     },
     "execution_count": 26,
     "metadata": {},
     "output_type": "execute_result"
    }
   ],
   "source": [
    "lgbm_model.predict(test) # light gbm"
   ]
  },
  {
   "cell_type": "markdown",
   "metadata": {},
   "source": [
    "# labeling"
   ]
  },
  {
   "cell_type": "code",
   "execution_count": null,
   "metadata": {
    "collapsed": true
   },
   "outputs": [],
   "source": []
  },
  {
   "cell_type": "code",
   "execution_count": 24,
   "metadata": {
    "ExecuteTime": {
     "end_time": "2018-06-13T18:40:54.578146Z",
     "start_time": "2018-06-13T18:40:54.559098Z"
    }
   },
   "outputs": [
    {
     "name": "stdout",
     "output_type": "stream",
     "text": [
      "label= 1\n",
      "prob= 0.980752491219\n"
     ]
    }
   ],
   "source": [
    "# basic logic: find the max probability of 3 models, if it is larger than threshold, return the corresponding label, otherwise, return 2 (others).\n",
    "result = np.vstack((clf.predict_proba(test),log_r.predict_proba(test),lgbm_model.predict(test)))\n",
    "pos = np.where(result == np.max(result))\n",
    "\n",
    "threshold = 0.7\n",
    "if np.max(result)<threshold:\n",
    "    label = 2\n",
    "else:\n",
    "    label = pos[1]\n",
    "    label = label[0]\n",
    "    \n",
    "print('label=',label)\n",
    "print('prob=',np.max(result))"
   ]
  },
  {
   "cell_type": "markdown",
   "metadata": {
    "collapsed": true
   },
   "source": [
    "# save the whole thing"
   ]
  },
  {
   "cell_type": "code",
   "execution_count": 21,
   "metadata": {
    "ExecuteTime": {
     "end_time": "2018-06-17T04:00:25.665338Z",
     "start_time": "2018-06-17T04:00:25.551586Z"
    },
    "collapsed": true
   },
   "outputs": [],
   "source": [
    "# import jieba\n",
    "# import numpy as np\n",
    "\n",
    "# class WillingToPay:\n",
    "    \n",
    "#     def __init__(self, **model):\n",
    "#         \"\"\"\n",
    "#         suggested parameters:\n",
    "#         svc, logistic, lightgbm, jieba_path,tfidf\n",
    "#         \"\"\"\n",
    "#         self._load_model(**model)\n",
    "        \n",
    "#     def _load_model(self,**model):\n",
    "#         self.svc = model.get('svc')\n",
    "#         self.logistic = model.get('logistic')\n",
    "#         self.lightgbm = model.get('lightgbm')\n",
    "#         self.tfidf = model.get('tfidf')\n",
    "#         # load jieba\n",
    "#         jieba_path = model.get('jieba_path')\n",
    "#         if jieba_path is not None:\n",
    "#             jieba.load_userdict(jieba_path)\n",
    "        \n",
    "        \n",
    "#     def classify(self, sentence):\n",
    "#         sentence = jieba.cut(sentence, cut_all = False)\n",
    "#         sentence = ' '.join(sentence)\n",
    "#         matrix = self.tfidf.transform([sentence])\n",
    "#         if len(matrix.data) > 0:\n",
    "#             result = np.vstack((self.svc.predict_proba(matrix),\n",
    "#                                 self.logistic.predict_proba(matrix),\n",
    "#                                 self.lightgbm.predict(matrix)))\n",
    "#         else:\n",
    "#             result = np.vstack((self.svc.predict_proba(matrix),\n",
    "#                                 self.logistic.predict_proba(matrix),\n",
    "#                                 ))\n",
    "#         max_pred = np.max(result, axis=0)\n",
    "#         max_arg = np.argmax(max_pred)\n",
    "#         threshold = 0.5\n",
    "#         if np.max(max_pred)<threshold:\n",
    "#             label = 3\n",
    "#         else:\n",
    "#             label = max_arg\n",
    "#         return (label, [max_arg,np.max(max_pred)])\n",
    "     \n",
    "        "
   ]
  },
  {
   "cell_type": "code",
   "execution_count": 25,
   "metadata": {
    "ExecuteTime": {
     "end_time": "2018-06-17T04:14:58.720970Z",
     "start_time": "2018-06-17T04:14:58.400112Z"
    },
    "collapsed": true
   },
   "outputs": [],
   "source": [
    "import pickle\n",
    "clf = pickle.load(open(\"../../savedModel/WillingToPay/LinearSVC.pickle\", \"rb\"))\n",
    "lgbm_model = pickle.load(open(\"../../savedModel/WillingToPay/Lgbm.pickle\", \"rb\"))\n",
    "phrase_vectorizer = pickle.load(open(\"../../savedModel/WillingToPay/tfidf.pickle\", \"rb\"))\n",
    "log_r = pickle.load(open(\"../../savedModel/WillingToPay/Logistic.pickle\", \"rb\"))"
   ]
  },
  {
   "cell_type": "code",
   "execution_count": 26,
   "metadata": {
    "ExecuteTime": {
     "end_time": "2018-06-17T04:16:20.773777Z",
     "start_time": "2018-06-17T04:16:20.171849Z"
    },
    "collapsed": true
   },
   "outputs": [],
   "source": [
    "from WillingToPay_py import WillingToPay\n",
    "ifk = WillingToPay(svc=clf, logistic=log_r, lightgbm=lgbm_model, tfidf=phrase_vectorizer,) #jieba_path='../WordCut/userdict.txt')\n",
    "\n",
    "pickle.dump(ifk, open(\"../../savedModel/WillingToPay/WillingToPay.pickle\", \"wb\"))"
   ]
  }
 ],
 "metadata": {
  "kernelspec": {
   "display_name": "Python 3",
   "language": "python",
   "name": "python3"
  },
  "language_info": {
   "codemirror_mode": {
    "name": "ipython",
    "version": 3
   },
   "file_extension": ".py",
   "mimetype": "text/x-python",
   "name": "python",
   "nbconvert_exporter": "python",
   "pygments_lexer": "ipython3",
   "version": "3.6.3"
  },
  "varInspector": {
   "cols": {
    "lenName": 16,
    "lenType": 16,
    "lenVar": 40
   },
   "kernels_config": {
    "python": {
     "delete_cmd_postfix": "",
     "delete_cmd_prefix": "del ",
     "library": "var_list.py",
     "varRefreshCmd": "print(var_dic_list())"
    },
    "r": {
     "delete_cmd_postfix": ") ",
     "delete_cmd_prefix": "rm(",
     "library": "var_list.r",
     "varRefreshCmd": "cat(var_dic_list()) "
    }
   },
   "types_to_exclude": [
    "module",
    "function",
    "builtin_function_or_method",
    "instance",
    "_Feature"
   ],
   "window_display": false
  }
 },
 "nbformat": 4,
 "nbformat_minor": 2
}
