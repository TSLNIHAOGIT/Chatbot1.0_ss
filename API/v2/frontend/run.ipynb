{
 "cells": [
  {
   "cell_type": "code",
   "execution_count": 4,
   "metadata": {
    "ExecuteTime": {
     "end_time": "2018-07-06T17:24:58.020317Z",
     "start_time": "2018-07-06T17:24:57.621670Z"
    }
   },
   "outputs": [],
   "source": [
    "# from flask_other.app import app\n",
    "from flask_socketio import disconnect as dc\n",
    "from flask import Flask\n",
    "from flask_socketio import SocketIO, emit,join_room,leave_room\n",
    "from flask_socketio import disconnect\n",
    "from threading import Lock\n",
    "import os,sys\n",
    "\n",
    "app=Flask(\"demo\")\n",
    "from flask import  render_template,request\n",
    "import time\n",
    "import re\n",
    "\n",
    "import pandas as pd\n",
    "import numpy as np\n",
    "import time\n",
    "import re\n",
    "import requests\n",
    "\n",
    "import atexit\n",
    "\n",
    "from apscheduler.schedulers.background import BackgroundScheduler\n",
    "from apscheduler.triggers.interval import IntervalTrigger\n",
    "\n",
    "\n",
    "\n",
    "##################################\n",
    "async_mode = None\n",
    "app = Flask(__name__)\n",
    "app.config['SECRET_KEY'] = 'secret!'\n",
    "socketio = SocketIO(app, async_mode=async_mode)\n",
    "\n",
    "thread = None\n",
    "thread_lock = Lock()\n",
    "clients = []\n",
    "sentences = []\n",
    "\n",
    "name_space = '/chat'\n",
    "\n",
    "@app.route('/')\n",
    "def index():\n",
    "    return render_template('index.html', async_mode=socketio.async_mode)\n",
    "\n",
    "\n",
    "@socketio.on('client_send',namespace=name_space)\n",
    "def client_msg(msg):  \n",
    "    uid = request.sid\n",
    "    sentence = msg.get('data')\n",
    "    sentence = decode(sentence)\n",
    "    sentences.append(sentence)\n",
    "    response = cache.chat(uid, sentence)\n",
    "    if response == 'end':\n",
    "        socketio.emit('my_response',{'data':'感谢选择江苏逸能，再见！'},room = uid, namespace=name_space)\n",
    "        disconnect_frontend(uid)\n",
    "    elif response is None:\n",
    "        socketio.emit('my_response',{'data':'当前会话已经过期，感谢选择江苏逸能，再见！'},room = uid, namespace=name_space)\n",
    "        disconnect_frontend(uid)\n",
    "    else:\n",
    "        socketio.emit('my_response',{'data':response},room = uid, namespace=name_space)\n",
    "\n",
    "def decode(msg):\n",
    "    msg = re.sub(r'%u', r'\\u', msg)\n",
    "    msg = msg.encode('latin-1').decode('unicode_escape')\n",
    "    return msg\n",
    "\n",
    "#sned message to a specific user\n",
    "def unique_message(uid):\n",
    "    socketio.emit('unique_messgae',{'data':'are you still here'}, room=uid, namespace=name_space)\n",
    "    \n",
    "def disconnect_frontend(uid):\n",
    "    socketio.emit('my_response',{'status':'disconnected'},room = uid, namespace=name_space)\n",
    "\n",
    "\n",
    "@socketio.on('disconnect',namespace=name_space)\n",
    "def disconnect():\n",
    "    uid = request.sid\n",
    "    cache.remove_session(uid)\n",
    "    leave_room(uid)\n",
    "    dc()\n",
    "    print('{} is disconnected'.format(uid))\n",
    "    \n",
    "@socketio.on('connect',namespace=name_space)\n",
    "def connect():\n",
    "    print('connect')\n",
    "    print(request.sid)\n",
    "    uid = request.sid\n",
    "    clients.append(uid)\n",
    "    print(len(clients))\n",
    "    \n",
    "    join_room(uid)\n",
    "    if cache.create_session(uid):\n",
    "        response = cache.chat(uid, '')\n",
    "        if response is not None:\n",
    "            socketio.emit('my_response',{'data':response},room = uid,namespace=name_space) #the first sentence\n",
    "            return None\n",
    "        \n",
    "    else:\n",
    "        socketio.emit('my_response',{'data':'server busy. please click new conv'},room = uid,namespace=name_space) \n",
    "        disconnect_frontend(uid)\n",
    "    \n",
    "\n"
   ]
  },
  {
   "cell_type": "code",
   "execution_count": null,
   "metadata": {
    "ExecuteTime": {
     "start_time": "2018-07-06T17:25:07.605Z"
    }
   },
   "outputs": [
    {
     "name": "stdout",
     "output_type": "stream",
     "text": [
      "http://10.0.24.31:8899/\n",
      "http://0.0.0.0:6006/\n",
      "connect\n",
      "91936541dca94c069bd4c3e9e97a2c17\n",
      "1\n"
     ]
    }
   ],
   "source": [
    "print('http://10.0.24.31:8899/')\n",
    "print('http://0.0.0.0:6006/')\n",
    "scheduler = BackgroundScheduler()\n",
    "scheduler.start()\n",
    "scheduler.add_job(\n",
    "    func=cache.purge_inactive,\n",
    "    trigger=IntervalTrigger(seconds=10),\n",
    "    id='purge_cache',\n",
    "    name='purge_inactive',\n",
    "    replace_existing=True)\n",
    "# Shut down the scheduler when exiting the app\n",
    "atexit.register(lambda: scheduler.shutdown())\n",
    "\n",
    "socketio.run(app,'0.0.0.0',6006)"
   ]
  },
  {
   "cell_type": "code",
   "execution_count": 5,
   "metadata": {
    "ExecuteTime": {
     "end_time": "2018-07-06T17:25:01.593950Z",
     "start_time": "2018-07-06T17:25:01.096308Z"
    }
   },
   "outputs": [],
   "source": [
    "import time\n",
    "import gc\n",
    "class Cache:\n",
    "    def __init__(self, graph_path,msg_path,model_dict,max_session=1000):\n",
    "        self.max_session = 1000\n",
    "        self.inform_interval = 20\n",
    "        self.inactive_maxlength = 75\n",
    "        #{'uid': {'stragety': Tree(), 'time_response': <time>, 'time_inform': <>}\n",
    "        self.active_session = {}\n",
    "        self.model_dict = model_dict\n",
    "        self.graph_path = graph_path\n",
    "        self.msg_path = msg_path\n",
    "        \n",
    "        \n",
    "    def create_session(self, uid):\n",
    "        if len(self.active_session) < self.max_session:\n",
    "            self.active_session[uid] = {}\n",
    "            self.active_session[uid].update({'stragety':TreeStage1(graph_path=self.graph_path,\n",
    "                                                                   msg_path=self.msg_path)})\n",
    "            self.active_session[uid].update({'time_response':time.time()})\n",
    "            self.active_session[uid].update({'time_inform':time.time()})\n",
    "            self.active_session[uid].update({'chatting':[]})\n",
    "            return True\n",
    "        else:\n",
    "            return False\n",
    "        \n",
    "    def remove_session(self,uid):\n",
    "        response = '您当前的会话超过 {} 秒没有响应，系统将关闭当前会话！如有需求，请开始新的对话！'.format(self.inactive_maxlength)\n",
    "        try:\n",
    "            socketio.emit('my_response',{'data':response},room = uid, namespace=name_space)\n",
    "        except:\n",
    "            pass\n",
    "        try:\n",
    "            disconnect_frontend(uid)\n",
    "        except:\n",
    "            pass\n",
    "        try:\n",
    "            del self.active_session[uid]\n",
    "            print('session {} is removed'.format(uid))\n",
    "        except KeyError:\n",
    "                pass\n",
    "        gc.collect()\n",
    "            \n",
    "    def chat(self,uid,sentence):\n",
    "        if self.active_session.get(uid) is not None:\n",
    "            response = self.active_session[uid]['stragety'].process(sentence, self.model_dict)\n",
    "            self.active_session[uid]['time_response'] = time.time()\n",
    "            self.active_session[uid]['time_inform'] = time.time()\n",
    "            self.active_session[uid]['chatting'].append(response)\n",
    "        else:\n",
    "            response = None\n",
    "        return response\n",
    "        \n",
    "    \n",
    "    \n",
    "    def purge_inactive(self):\n",
    "        current = time.time()\n",
    "        remove_list = []\n",
    "        for uid in self.active_session:\n",
    "            if current - self.active_session[uid]['time_response'] > self.inactive_maxlength:\n",
    "                remove_list.append(uid)\n",
    "            try:\n",
    "                if current - self.active_session[uid]['time_inform'] > self.inform_interval:\n",
    "                    self.inform_inactive(uid)\n",
    "            except KeyError:\n",
    "                pass\n",
    "            \n",
    "        # delete\n",
    "        for uid in remove_list:\n",
    "            print('{} session is inactive, will be removed!'.format(uid))\n",
    "            self.remove_session(uid)\n",
    "        \n",
    "                \n",
    "        \n",
    "    def inform_inactive(self, uid):\n",
    "        self.active_session[uid]['time_inform'] = time.time()\n",
    "        last_sentence = self.active_session[uid]['chatting'][-1]\n",
    "#         response = '您有在听我说吗？ \\n'+last_sentence\n",
    "        response = '您有在听我说吗?请回答我刚才的问题！'\n",
    "        socketio.emit('my_response',{'data':response},room = uid, namespace=name_space)\n",
    "          \n",
    "################################################\n",
    "import sys,os\n",
    "sys.path.append('../../../MLModel/code/OneClickTraining/')\n",
    "sys.path.append('../../../MLModel/code/TreeModelV2/')\n",
    "from all_model_py import *\n",
    "import pickle\n",
    "from chatbotv1 import *\n",
    "\n",
    "\n",
    "\n",
    "models_list = ['IDClassifier','CutDebt','IfKnowDebtor','WillingToPay','Installment','ConfirmLoan']\n",
    "savedModel_path = '../../../MLModel/savedModel/{}/{}.pickle'\n",
    "\n",
    "model_dict = {}\n",
    "for each_model in models_list:\n",
    "    model_dict[each_model] = pickle.load(open(savedModel_path.format(each_model,each_model), 'rb'))\n",
    "    model_dict[each_model].classify('再说一次')\n",
    "    \n",
    "model_dict['StopClassifier'] = StopClassifier()\n",
    "model_dict['InitClassifier'] = InitClassifier()    \n",
    "\n",
    "graph_path='../../../MLModel/data/TreeModel/treeConnection.csv'\n",
    "msg_path='../../../MLModel/data/TreeModel/node_message.csv'\n",
    "#################################################################\n",
    "cache = Cache(graph_path=graph_path,\n",
    "              msg_path=msg_path,\n",
    "              model_dict=model_dict)"
   ]
  },
  {
   "cell_type": "code",
   "execution_count": 11,
   "metadata": {
    "ExecuteTime": {
     "end_time": "2018-07-04T10:04:59.630137Z",
     "start_time": "2018-07-04T10:04:59.013687Z"
    }
   },
   "outputs": [],
   "source": [
    "t = TreeStage1(graph_path=graph_path,msg_path=msg_path)"
   ]
  },
  {
   "cell_type": "code",
   "execution_count": 15,
   "metadata": {
    "ExecuteTime": {
     "end_time": "2018-07-04T10:05:26.876993Z",
     "start_time": "2018-07-04T10:05:26.866261Z"
    }
   },
   "outputs": [
    {
     "name": "stdout",
     "output_type": "stream",
     "text": [
      "cf_s1_n15_verifyWill_q\n",
      "到底是哪天？明天下午之前你能不能还清？\n",
      "cf_s1_n15_verifyWill_q\n"
     ]
    }
   ],
   "source": [
    "print(t.current_node_name)\n",
    "print(t.process('我下个月初还',model_dict))\n",
    "print(t.current_node_name)"
   ]
  },
  {
   "cell_type": "code",
   "execution_count": 17,
   "metadata": {
    "ExecuteTime": {
     "end_time": "2018-07-04T10:05:41.947359Z",
     "start_time": "2018-07-04T10:05:41.942467Z"
    }
   },
   "outputs": [],
   "source": [
    "model = model_dict['WillingToPay']"
   ]
  },
  {
   "cell_type": "code",
   "execution_count": 18,
   "metadata": {
    "ExecuteTime": {
     "end_time": "2018-07-04T10:05:42.800171Z",
     "start_time": "2018-07-04T10:05:42.778603Z"
    }
   },
   "outputs": [
    {
     "data": {
      "text/plain": [
       "[{'pattern': '下个月',\n",
       "  'time': datetime.datetime(2018, 8, 4, 16, 0, tzinfo=<DstTzInfo 'America/New_York' EDT-1 day, 20:00:00 DST>),\n",
       "  'gapS': 2699657.219951,\n",
       "  'gapH': 749.9047833197222},\n",
       " {'pattern': '下个月初',\n",
       "  'time': datetime.datetime(2018, 8, 5, 19, 0, tzinfo=<DstTzInfo 'America/New_York' EDT-1 day, 20:00:00 DST>),\n",
       "  'gapS': 2796857.219951,\n",
       "  'gapH': 776.9047833197222}]"
      ]
     },
     "execution_count": 18,
     "metadata": {},
     "output_type": "execute_result"
    }
   ],
   "source": [
    "model.re_time.process('我下个月初还')"
   ]
  },
  {
   "cell_type": "code",
   "execution_count": null,
   "metadata": {},
   "outputs": [],
   "source": []
  }
 ],
 "metadata": {
  "kernelspec": {
   "display_name": "Python 3",
   "language": "python",
   "name": "python3"
  },
  "language_info": {
   "codemirror_mode": {
    "name": "ipython",
    "version": 3
   },
   "file_extension": ".py",
   "mimetype": "text/x-python",
   "name": "python",
   "nbconvert_exporter": "python",
   "pygments_lexer": "ipython3",
   "version": "3.6.5"
  },
  "varInspector": {
   "cols": {
    "lenName": 16,
    "lenType": 16,
    "lenVar": 40
   },
   "kernels_config": {
    "python": {
     "delete_cmd_postfix": "",
     "delete_cmd_prefix": "del ",
     "library": "var_list.py",
     "varRefreshCmd": "print(var_dic_list())"
    },
    "r": {
     "delete_cmd_postfix": ") ",
     "delete_cmd_prefix": "rm(",
     "library": "var_list.r",
     "varRefreshCmd": "cat(var_dic_list()) "
    }
   },
   "types_to_exclude": [
    "module",
    "function",
    "builtin_function_or_method",
    "instance",
    "_Feature"
   ],
   "window_display": false
  }
 },
 "nbformat": 4,
 "nbformat_minor": 2
}
