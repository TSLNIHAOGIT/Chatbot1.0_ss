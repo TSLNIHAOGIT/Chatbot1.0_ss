{
 "cells": [
  {
   "cell_type": "code",
   "execution_count": 1,
   "metadata": {
    "ExecuteTime": {
     "end_time": "2018-06-22T14:22:55.834875Z",
     "start_time": "2018-06-22T14:22:55.466000Z"
    }
   },
   "outputs": [],
   "source": [
    "# from flask_other.app import app\n",
    "from flask import Flask\n",
    "from flask_socketio import SocketIO, emit,join_room,leave_room\n",
    "from threading import Lock\n",
    "import os,sys\n",
    "# sys.path.append('/home/kai/data/wei/Chatbot1.0/')\n",
    "sys.path.append('../../../../../Chatbot1.0/')\n",
    "# sys.path.append('/home/kai/data/Chatbot1.0/API/v1/frontend/')\n",
    "app=Flask(\"demo\")\n",
    "from flask import  render_template,request\n",
    "# from app.mong_database import MongoManager\n",
    "import time\n",
    "import re\n",
    "# mongo_db=MongoManager(server_ip='chatbotdb')\n",
    "\n",
    "import urllib.request\n",
    "from urllib.parse import quote\n",
    "import pandas as pd\n",
    "import numpy as np\n",
    "import time\n",
    "import re\n",
    "import requests\n",
    "\n",
    "from threading import Lock\n",
    "\n",
    "\n",
    "##################################\n",
    "url = 'http://localhost:8889/chatbotv1'\n",
    "\n",
    "\n",
    "async_mode = None\n",
    "\n",
    "app = Flask(__name__)\n",
    "app.config['SECRET_KEY'] = 'secret!'\n",
    "socketio = SocketIO(app, async_mode=async_mode)\n",
    "\n",
    "\n",
    "\n",
    "\n",
    "thread = None\n",
    "thread_lock = Lock()\n",
    "clients = []\n",
    "\n",
    "\n",
    "# 后台线程 产生数据，即刻推送至前端\n",
    "def background_thread():\n",
    "    \"\"\"Example of how to send server generated events to clients.\"\"\"\n",
    "    count = 0\n",
    "    while True:\n",
    "        socketio.sleep(5)\n",
    "        count += 1\n",
    "        t = time.strftime('%M:%S', time.localtime()) # 获取系统时间（只取分:秒）\n",
    "        cpus = psutil.cpu_percent(interval=None, percpu=True) # 获取系统cpu使用率 non-blocking\n",
    "        socketio.emit('server_response',\n",
    "                      {'data': [t, *cpus], 'count': count},\n",
    "                      namespace='/test') # 注意：这里不需要客户端连接的上下文，默认 broadcast = True ！！！！！！！\n",
    "\n",
    "\n",
    "@app.route('/')\n",
    "def index():\n",
    "    return render_template('index.html', async_mode=socketio.async_mode)\n",
    "\n",
    "\n",
    "@socketio.on('client_send',namespace='/test')\n",
    "def client_msg(msg):  \n",
    "    print(msg['data']) # this the contentext sent by client\n",
    "    response = 'data get'\n",
    "    socketio.emit('my_response',{'data':response},room = request.sid, namespace='/test')\n",
    "\n",
    "#sned message to a specific user\n",
    "def unique_message(uid):\n",
    "    socketio.emit('specific_messgae',{'data':'are you still here'}, room=uid)\n",
    "    \n",
    "@socketio.on('disconnect',namespace='/test')\n",
    "def disconnect():\n",
    "    uid = request.sid\n",
    "    print(uid + \" disconnect\")\n",
    "    clients.remove(uid)\n",
    "    last = len(clients)\n",
    "    socketio.emit('unique_message',{'data':'are you still here'}, room = clients[last-1],namespace = '/test')\n",
    "    \n",
    "@socketio.on('connect',namespace='/test')\n",
    "def connect():\n",
    "    print('connect')\n",
    "    print(request.sid)\n",
    "    uid = request.sid\n",
    "    clients.append(uid)\n",
    "    print(len(clients))\n",
    "    \n",
    "    join_room(uid)\n",
    "    \n",
    "    print('above is room')\n",
    "    socketio.emit('my_response',{'data':'hello'},room = uid,namespace='/test') #the first sentence \n",
    "\n",
    "\n"
   ]
  },
  {
   "cell_type": "code",
   "execution_count": null,
   "metadata": {
    "ExecuteTime": {
     "start_time": "2018-06-22T14:23:00.740Z"
    }
   },
   "outputs": [
    {
     "name": "stdout",
     "output_type": "stream",
     "text": [
      "http://10.0.24.31:8899/\n",
      "connect\n",
      "bf91e94859cb4bb09be938e1fd2febc5\n",
      "1\n",
      "above is room\n",
      "connect\n",
      "a09cb1d590e44cd58781b9fbe0c2e555\n",
      "2\n",
      "above is room\n",
      "connect\n",
      "f600b28eca0641bebd442f08fed6e1ff\n",
      "3\n",
      "above is room\n",
      "bf91e94859cb4bb09be938e1fd2febc5 disconnect\n",
      "a09cb1d590e44cd58781b9fbe0c2e555 disconnect\n"
     ]
    }
   ],
   "source": [
    "print('http://10.0.24.31:8899/')\n",
    "socketio.run(app,'0.0.0.0',8899)"
   ]
  },
  {
   "cell_type": "code",
   "execution_count": null,
   "metadata": {
    "collapsed": true
   },
   "outputs": [],
   "source": []
  }
 ],
 "metadata": {
  "kernelspec": {
   "display_name": "Python 3",
   "language": "python",
   "name": "python3"
  },
  "language_info": {
   "codemirror_mode": {
    "name": "ipython",
    "version": 3
   },
   "file_extension": ".py",
   "mimetype": "text/x-python",
   "name": "python",
   "nbconvert_exporter": "python",
   "pygments_lexer": "ipython3",
   "version": "3.6.3"
  },
  "varInspector": {
   "cols": {
    "lenName": 16,
    "lenType": 16,
    "lenVar": 40
   },
   "kernels_config": {
    "python": {
     "delete_cmd_postfix": "",
     "delete_cmd_prefix": "del ",
     "library": "var_list.py",
     "varRefreshCmd": "print(var_dic_list())"
    },
    "r": {
     "delete_cmd_postfix": ") ",
     "delete_cmd_prefix": "rm(",
     "library": "var_list.r",
     "varRefreshCmd": "cat(var_dic_list()) "
    }
   },
   "types_to_exclude": [
    "module",
    "function",
    "builtin_function_or_method",
    "instance",
    "_Feature"
   ],
   "window_display": false
  }
 },
 "nbformat": 4,
 "nbformat_minor": 2
}
