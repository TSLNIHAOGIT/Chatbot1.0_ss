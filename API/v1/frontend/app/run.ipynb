{
 "cells": [
  {
   "cell_type": "code",
   "execution_count": 10,
   "metadata": {
    "ExecuteTime": {
     "end_time": "2018-06-08T16:19:31.637939Z",
     "start_time": "2018-06-08T16:19:31.474613Z"
    }
   },
   "outputs": [
    {
     "name": "stdout",
     "output_type": "stream",
     "text": [
      "chatbotdb\n"
     ]
    }
   ],
   "source": [
    "# from flask_other.app import app\n",
    "from flask import Flask\n",
    "import os,sys\n",
    "sys.path.append('/home/kai/data/wei/Chatbot1.0/')\n",
    "# sys.path.append('/home/kai/data/Chatbot1.0/API/v1/frontend/')\n",
    "app=Flask(\"demo\")\n",
    "from flask import  render_template,request\n",
    "from app.mong_database import MongoManager\n",
    "import time\n",
    "import re\n",
    "mongo_db=MongoManager(server_ip='chatbotdb')\n",
    "\n",
    "import urllib.request\n",
    "from urllib.parse import quote\n",
    "import pandas as pd\n",
    "import numpy as np\n",
    "import time\n",
    "import re\n",
    "import requests\n",
    "\n",
    "# def get_data(sentence):\n",
    "#     #url中含有中文时要单独处理\n",
    "#     req = urllib.request.Request(\n",
    "#         'http://drea.cc/api/chat.php?msg={}&uid=drea_bbs_chat'.format(quote(sentence)))\n",
    "#     req.add_header('Content-type', 'text/xml; charset=\"gbk\"')\n",
    "#     response = urllib.request.urlopen(req)\n",
    "#     buff = response.read()\n",
    "#     the_page = buff.decode('gbk')\n",
    "#     print(type(the_page),eval(the_page)['reply'])\n",
    "#     response.close()\n",
    "#     return eval(the_page)['reply']\n",
    "\n",
    "def get_data(sentence):\n",
    "    url = 'http://localhost:8889/chatbotv1'\n",
    "    response = requests.get(url, timeout=10, params={'data':sentence})\n",
    "    msg = response.json()['message']\n",
    "   \n",
    "    return msg\n",
    "\n",
    "\n",
    "\n",
    "@app.route('/')\n",
    "@app.route('/index')\n",
    "def index0():\n",
    "    return render_template(\n",
    "                           # \"index0.html\",\n",
    "                           \"index.html\",\n",
    "                           )\n",
    "@app.route(\"/predict\", methods= [\"POST\"])\n",
    "def background_process():\n",
    "    if request.method == 'POST':\n",
    "        try:\n",
    "            query = request.form.get('query')#前端查询的内容\n",
    "            if query:\n",
    "\n",
    "                    print('query',query)\n",
    "                    # time.sleep(5)\n",
    "                    result = get_data(query)\n",
    "                    print('result',result)\n",
    "                    mongo_db.save_query(query, str(result))\n",
    "                    print('saving to mongo db successfully!')\n",
    "                    return str(result)\n",
    "                    \n",
    "\n",
    "            else:\n",
    "\n",
    "                    return str('请输入查询内容')\n",
    "\n",
    "\n",
    "        except Exception as e:\n",
    "            print(e)\n",
    "\n",
    "            if 'duplicate' in str(e):\n",
    "                e_str = e.details['errmsg']\n",
    "                dup_id=re.search('\\{ : \"(.*)\" \\}',e_str).group(1)\n",
    "                print('重复查询同一句话,存储时使用相同的_id_',dup_id)\n",
    "                mongo_db.update_dup_query( dup_id, str(result))\n",
    "                return str(result)\n",
    "\n",
    "            else:\n",
    "                print(e)\n",
    "                print('有问题，MM出故障啦')\n",
    "                return str('MM出故障啦')\n",
    "\n",
    "        # finally:\n",
    "        #     # print(e)\n",
    "        #     print('有问题，MM出故障啦。。')\n",
    "        #     return str('MM出故障啦。。')\n",
    "\n",
    "    else:\n",
    "        return 'ok'\n",
    "\n",
    "# @app.route('/dataFromAjax_post',methods=['POST','GET'])\n",
    "# def dataFromAjax_post():\n",
    "#     if request.method == 'POST':\n",
    "#\n",
    "#         try:\n",
    "#             # query = request.form.get('mydata')  # 前端查询的内容\n",
    "#             query = request.form['mydata']  # 前端查询的内容\n",
    "#             if query:\n",
    "#\n",
    "#                 print('query', query)\n",
    "#                 # time.sleep(5)\n",
    "#                 result = '欢迎光临'\n",
    "#                 print('result', result)\n",
    "#                 # mongo_db.save_query(query, str(result))\n",
    "#                 return str(result)\n",
    "#             else:\n",
    "#\n",
    "#                 return str('请输入查询内容')\n",
    "#         except Exception as e:\n",
    "#             print('exception', e)\n",
    "#             return str('有问题')\n",
    "#     else:\n",
    "#         return 'ok'\n",
    "\n",
    "\n",
    "\n"
   ]
  },
  {
   "cell_type": "code",
   "execution_count": 11,
   "metadata": {
    "ExecuteTime": {
     "end_time": "2018-06-08T16:22:30.469364Z",
     "start_time": "2018-06-08T16:19:33.483572Z"
    }
   },
   "outputs": [
    {
     "name": "stderr",
     "output_type": "stream",
     "text": [
      " * Running on http://0.0.0.0:6006/ (Press CTRL+C to quit)\n"
     ]
    },
    {
     "name": "stdout",
     "output_type": "stream",
     "text": [
      "running at http://10.0.24.31:6006\n"
     ]
    },
    {
     "name": "stderr",
     "output_type": "stream",
     "text": [
      "10.0.25.23 - - [08/Jun/2018 16:19:38] \"POST /dataFromAjax_post HTTP/1.1\" 404 -\n",
      "10.0.25.23 - - [08/Jun/2018 16:19:38] \"POST /predict HTTP/1.1\" 200 -\n"
     ]
    },
    {
     "name": "stdout",
     "output_type": "stream",
     "text": [
      "query nihao\n",
      "result Internal Server Error\n",
      "saving to mongo db successfully!\n"
     ]
    },
    {
     "name": "stderr",
     "output_type": "stream",
     "text": [
      "10.0.25.23 - - [08/Jun/2018 16:20:03] \"POST /dataFromAjax_post HTTP/1.1\" 404 -\n",
      "10.0.25.23 - - [08/Jun/2018 16:20:03] \"POST /predict HTTP/1.1\" 200 -\n"
     ]
    },
    {
     "name": "stdout",
     "output_type": "stream",
     "text": [
      "query nihao\n",
      "result Internal Server Error\n",
      "E11000 duplicate key error collection: flask_database.query index: _id_ dup key: { : \"194ce5d0b89c47ff6b30bfb491f9dc26\" }\n",
      "重复查询同一句话,存储时使用相同的_id_ 194ce5d0b89c47ff6b30bfb491f9dc26\n"
     ]
    },
    {
     "name": "stderr",
     "output_type": "stream",
     "text": [
      "10.0.25.23 - - [08/Jun/2018 16:20:36] \"POST /dataFromAjax_post HTTP/1.1\" 404 -\n",
      "10.0.25.23 - - [08/Jun/2018 16:20:36] \"POST /predict HTTP/1.1\" 200 -\n"
     ]
    },
    {
     "name": "stdout",
     "output_type": "stream",
     "text": [
      "query 你好\n",
      "result [0, 1]\n",
      "E11000 duplicate key error collection: flask_database.query index: _id_ dup key: { : \"7eca689f0d3389d9dea66ae112e5cfd7\" }\n",
      "重复查询同一句话,存储时使用相同的_id_ 7eca689f0d3389d9dea66ae112e5cfd7\n"
     ]
    },
    {
     "name": "stderr",
     "output_type": "stream",
     "text": [
      "10.0.25.23 - - [08/Jun/2018 16:21:18] \"POST /dataFromAjax_post HTTP/1.1\" 404 -\n",
      "10.0.25.23 - - [08/Jun/2018 16:21:18] \"POST /predict HTTP/1.1\" 200 -\n"
     ]
    },
    {
     "name": "stdout",
     "output_type": "stream",
     "text": [
      "query 你好\n",
      "result 你好，这里是H催收公司，请问是罗巍先生吗？\n",
      "E11000 duplicate key error collection: flask_database.query index: _id_ dup key: { : \"7eca689f0d3389d9dea66ae112e5cfd7\" }\n",
      "重复查询同一句话,存储时使用相同的_id_ 7eca689f0d3389d9dea66ae112e5cfd7\n"
     ]
    },
    {
     "name": "stderr",
     "output_type": "stream",
     "text": [
      "10.0.25.23 - - [08/Jun/2018 16:21:30] \"POST /dataFromAjax_post HTTP/1.1\" 404 -\n",
      "10.0.25.23 - - [08/Jun/2018 16:21:30] \"POST /predict HTTP/1.1\" 200 -\n"
     ]
    },
    {
     "name": "stdout",
     "output_type": "stream",
     "text": [
      "query 我 是 他 姐姐\n",
      "result 不好意思，打扰了，那请问您认识罗先生吗？\n",
      "saving to mongo db successfully!\n"
     ]
    },
    {
     "name": "stderr",
     "output_type": "stream",
     "text": [
      "10.0.25.23 - - [08/Jun/2018 16:21:39] \"POST /dataFromAjax_post HTTP/1.1\" 404 -\n",
      "10.0.25.23 - - [08/Jun/2018 16:21:39] \"POST /predict HTTP/1.1\" 200 -\n"
     ]
    },
    {
     "name": "stdout",
     "output_type": "stream",
     "text": [
      "query 不认识\n",
      "result Internal Server Error\n",
      "saving to mongo db successfully!\n"
     ]
    }
   ],
   "source": [
    "app.debug = False\n",
    "port = 6006\n",
    "print('running at http://10.0.24.31:{}'.format(port))\n",
    "app.run(host='0.0.0.0',port=port)    #这样用来监听所有的ip，团队调试用"
   ]
  },
  {
   "cell_type": "code",
   "execution_count": null,
   "metadata": {
    "collapsed": true
   },
   "outputs": [],
   "source": []
  }
 ],
 "metadata": {
  "kernelspec": {
   "display_name": "Python 3",
   "language": "python",
   "name": "python3"
  },
  "language_info": {
   "codemirror_mode": {
    "name": "ipython",
    "version": 3
   },
   "file_extension": ".py",
   "mimetype": "text/x-python",
   "name": "python",
   "nbconvert_exporter": "python",
   "pygments_lexer": "ipython3",
   "version": "3.6.3"
  },
  "varInspector": {
   "cols": {
    "lenName": 16,
    "lenType": 16,
    "lenVar": 40
   },
   "kernels_config": {
    "python": {
     "delete_cmd_postfix": "",
     "delete_cmd_prefix": "del ",
     "library": "var_list.py",
     "varRefreshCmd": "print(var_dic_list())"
    },
    "r": {
     "delete_cmd_postfix": ") ",
     "delete_cmd_prefix": "rm(",
     "library": "var_list.r",
     "varRefreshCmd": "cat(var_dic_list()) "
    }
   },
   "types_to_exclude": [
    "module",
    "function",
    "builtin_function_or_method",
    "instance",
    "_Feature"
   ],
   "window_display": false
  }
 },
 "nbformat": 4,
 "nbformat_minor": 2
}
