{
 "cells": [
  {
   "cell_type": "code",
   "execution_count": 1,
   "metadata": {
    "ExecuteTime": {
     "end_time": "2018-07-18T14:56:40.467297Z",
     "start_time": "2018-07-18T14:56:40.158162Z"
    }
   },
   "outputs": [],
   "source": [
    "import pandas as pd\n",
    "import numpy as np"
   ]
  },
  {
   "cell_type": "code",
   "execution_count": 2,
   "metadata": {
    "ExecuteTime": {
     "end_time": "2018-07-18T14:56:40.683745Z",
     "start_time": "2018-07-18T14:56:40.625422Z"
    }
   },
   "outputs": [],
   "source": [
    "df_tcon = pd.read_csv('../../MLModel/data/TreeModel/treeConnection.csv')\n",
    "df_tmessage = pd.read_csv('../../MLModel/data/TreeModel/node_message.csv')\n",
    "df_matrixother = pd.read_csv('../../MLModel/data/others/strategy_mat.csv')"
   ]
  },
  {
   "cell_type": "code",
   "execution_count": 3,
   "metadata": {
    "ExecuteTime": {
     "end_time": "2018-07-18T14:56:41.104332Z",
     "start_time": "2018-07-18T14:56:41.092955Z"
    }
   },
   "outputs": [],
   "source": [
    "classifier = ['IDClassifier','IfKnowDebtor','ConfirmLoan','WillingToPay','CutDebt','Installment']\n",
    "nodes = ['cf_s1_n1_identity_q','cf_s1_n5_ifAcquainted_q','cf_s1_n2_confirmLoan_q','cf_s1_n15_verifyWill_q','cf_s1_n25_cutDebt_q','cf_s1_n32_splitDebt_q']\n",
    "series_node_classifier = pd.Series(data=nodes,index=classifier)"
   ]
  },
  {
   "cell_type": "markdown",
   "metadata": {
    "ExecuteTime": {
     "end_time": "2018-07-18T14:31:08.688349Z",
     "start_time": "2018-07-18T14:31:08.672697Z"
    }
   },
   "source": [
    "# Other Connection Mutual Check\n",
    "check in other, if in connection\n",
    "if not, connections needs to be updated"
   ]
  },
  {
   "cell_type": "code",
   "execution_count": 4,
   "metadata": {
    "ExecuteTime": {
     "end_time": "2018-07-18T14:56:42.071596Z",
     "start_time": "2018-07-18T14:56:42.027424Z"
    }
   },
   "outputs": [
    {
     "name": "stdout",
     "output_type": "stream",
     "text": [
      "IDClassifier\n",
      "In other but not in connection:\n",
      "set()\n",
      "In Connection but not in other:\n",
      "set()\n",
      "========================================\n",
      "IfKnowDebtor\n",
      "In other but not in connection:\n",
      "set()\n",
      "In Connection but not in other:\n",
      "set()\n",
      "========================================\n",
      "ConfirmLoan\n",
      "In other but not in connection:\n",
      "set()\n",
      "In Connection but not in other:\n",
      "set()\n",
      "========================================\n",
      "WillingToPay\n",
      "In other but not in connection:\n",
      "set()\n",
      "In Connection but not in other:\n",
      "set()\n",
      "========================================\n",
      "CutDebt\n",
      "In other but not in connection:\n",
      "set()\n",
      "In Connection but not in other:\n",
      "set()\n",
      "========================================\n",
      "Installment\n",
      "In other but not in connection:\n",
      "set()\n",
      "In Connection but not in other:\n",
      "set()\n",
      "========================================\n"
     ]
    }
   ],
   "source": [
    "for model in classifier:\n",
    "    possible_label_inother = df_matrixother[df_matrixother[model]==0].label.values\n",
    "    possible_label_inconnection = df_tcon[df_tcon['node_name']==series_node_classifier[model]].label.values\n",
    "    possible_label_inconnection = possible_label_inconnection[possible_label_inconnection<1000]\n",
    "    possible_label_inconnection = possible_label_inconnection[possible_label_inconnection>=100]\n",
    "    print(model)\n",
    "    print('In other but not in connection:')\n",
    "    print(set(possible_label_inother)-set(possible_label_inconnection))\n",
    "    print('In Connection but not in other:')\n",
    "    print(set(possible_label_inconnection)-set(possible_label_inother))\n",
    "    print('========================================')"
   ]
  },
  {
   "cell_type": "markdown",
   "metadata": {
    "ExecuteTime": {
     "end_time": "2018-07-18T14:36:57.286707Z",
     "start_time": "2018-07-18T14:36:57.276181Z"
    }
   },
   "source": [
    "# Other - Message Mutual Check"
   ]
  },
  {
   "cell_type": "code",
   "execution_count": 5,
   "metadata": {
    "ExecuteTime": {
     "end_time": "2018-07-18T14:57:29.167931Z",
     "start_time": "2018-07-18T14:57:29.137502Z"
    }
   },
   "outputs": [
    {
     "name": "stdout",
     "output_type": "stream",
     "text": [
      "IDClassifier\n",
      "In other but not in messages:\n",
      "set()\n",
      "In messages but not in other:\n",
      "set()\n",
      "========================================\n",
      "IfKnowDebtor\n",
      "In other but not in messages:\n",
      "set()\n",
      "In messages but not in other:\n",
      "set()\n",
      "========================================\n",
      "ConfirmLoan\n",
      "In other but not in messages:\n",
      "set()\n",
      "In messages but not in other:\n",
      "set()\n",
      "========================================\n",
      "WillingToPay\n",
      "In other but not in messages:\n",
      "set()\n",
      "In messages but not in other:\n",
      "set()\n",
      "========================================\n",
      "CutDebt\n",
      "In other but not in messages:\n",
      "set()\n",
      "In messages but not in other:\n",
      "set()\n",
      "========================================\n",
      "Installment\n",
      "In other but not in messages:\n",
      "set()\n",
      "In messages but not in other:\n",
      "set()\n",
      "========================================\n"
     ]
    }
   ],
   "source": [
    "for model in classifier:\n",
    "    possible_label_inother = df_matrixother[df_matrixother[model]==0].label.values\n",
    "    possible_label_inmessage = df_tmessage[df_tmessage['node_name']==series_node_classifier[model]].label.values\n",
    "    possible_label_inmessage = possible_label_inmessage[possible_label_inmessage<1000]\n",
    "    possible_label_inmessage = possible_label_inmessage[possible_label_inmessage>=100]\n",
    "    print(model)\n",
    "    print('In other but not in messages:')\n",
    "    print(set(possible_label_inother)-set(possible_label_inmessage))\n",
    "    print('In messages but not in other:')\n",
    "    print(set(possible_label_inmessage)-set(possible_label_inother))\n",
    "    print('========================================')"
   ]
  },
  {
   "cell_type": "markdown",
   "metadata": {
    "ExecuteTime": {
     "end_time": "2018-07-18T14:54:14.171498Z",
     "start_time": "2018-07-18T14:54:14.134512Z"
    }
   },
   "source": [
    "# Connection - Messages Mutual Check"
   ]
  },
  {
   "cell_type": "markdown",
   "metadata": {},
   "source": [
    "## Loop by connection nodes"
   ]
  },
  {
   "cell_type": "code",
   "execution_count": 9,
   "metadata": {
    "ExecuteTime": {
     "end_time": "2018-07-18T15:04:12.235723Z",
     "start_time": "2018-07-18T15:04:12.114399Z"
    }
   },
   "outputs": [],
   "source": [
    "\n",
    "con_node_names = df_tcon.node_name.values\n",
    "for node in con_node_names:\n",
    "    possible_label_inconnection = df_tcon[df_tcon['node_name']==node].label.values\n",
    "    possible_label_inmessage = df_tmessage[df_tmessage['node_name']==node].label.values\n",
    "    result = set(possible_label_inconnection)-set(possible_label_inmessage)\n",
    "    if len(result) > 0 :\n",
    "        print(node)\n",
    "        print('In connection but not in messages:')\n",
    "        print(result)\n",
    "        print('========================================')\n",
    "    result = set(possible_label_inmessage)-set(possible_label_inconnection)\n",
    "    if len(result) > 0 :\n",
    "        print(node)\n",
    "        print('In messages but not in connection:')\n",
    "        print(result)\n",
    "        print('========================================')"
   ]
  },
  {
   "cell_type": "markdown",
   "metadata": {},
   "source": [
    "## Loop by message nodes"
   ]
  },
  {
   "cell_type": "code",
   "execution_count": 10,
   "metadata": {
    "ExecuteTime": {
     "end_time": "2018-07-18T15:05:24.198713Z",
     "start_time": "2018-07-18T15:05:24.045293Z"
    }
   },
   "outputs": [],
   "source": [
    "\n",
    "con_node_names = df_tmessage.node_name.values\n",
    "for node in con_node_names:\n",
    "    possible_label_inconnection = df_tcon[df_tcon['node_name']==node].label.values\n",
    "    possible_label_inmessage = df_tmessage[df_tmessage['node_name']==node].label.values\n",
    "    result = set(possible_label_inconnection)-set(possible_label_inmessage)\n",
    "    if len(result) > 0 :\n",
    "        print(node)\n",
    "        print('In connection but not in messages:')\n",
    "        print(result)\n",
    "        print('========================================')\n",
    "    result = set(possible_label_inmessage)-set(possible_label_inconnection)\n",
    "    if len(result) > 0 :\n",
    "        print(node)\n",
    "        print('In messages but not in connection:')\n",
    "        print(result)\n",
    "        print('========================================')"
   ]
  },
  {
   "cell_type": "code",
   "execution_count": null,
   "metadata": {},
   "outputs": [],
   "source": []
  }
 ],
 "metadata": {
  "kernelspec": {
   "display_name": "Python 3",
   "language": "python",
   "name": "python3"
  },
  "language_info": {
   "codemirror_mode": {
    "name": "ipython",
    "version": 3
   },
   "file_extension": ".py",
   "mimetype": "text/x-python",
   "name": "python",
   "nbconvert_exporter": "python",
   "pygments_lexer": "ipython3",
   "version": "3.6.5"
  },
  "varInspector": {
   "cols": {
    "lenName": 16,
    "lenType": 16,
    "lenVar": 40
   },
   "kernels_config": {
    "python": {
     "delete_cmd_postfix": "",
     "delete_cmd_prefix": "del ",
     "library": "var_list.py",
     "varRefreshCmd": "print(var_dic_list())"
    },
    "r": {
     "delete_cmd_postfix": ") ",
     "delete_cmd_prefix": "rm(",
     "library": "var_list.r",
     "varRefreshCmd": "cat(var_dic_list()) "
    }
   },
   "types_to_exclude": [
    "module",
    "function",
    "builtin_function_or_method",
    "instance",
    "_Feature"
   ],
   "window_display": false
  }
 },
 "nbformat": 4,
 "nbformat_minor": 2
}
