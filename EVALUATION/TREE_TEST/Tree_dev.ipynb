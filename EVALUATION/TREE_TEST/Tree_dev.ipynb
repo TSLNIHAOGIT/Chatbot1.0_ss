{
 "cells": [
  {
   "cell_type": "code",
   "execution_count": 1,
   "metadata": {
    "ExecuteTime": {
     "end_time": "2018-07-20T21:18:09.584298Z",
     "start_time": "2018-07-20T21:18:08.844964Z"
    }
   },
   "outputs": [],
   "source": [
    "import sys,os\n",
    "\n",
    "ENV_PATH = '../../ENV/'\n",
    "LOG_PATH = '../../Lib/'\n",
    "sys.path.append(ENV_PATH)\n",
    "sys.path.append( LOG_PATH)\n",
    "sys.path.append('../../MLModel/code/OneClickTraining/')\n",
    "sys.path.append('../../MLModel/code/Others/')\n",
    "from all_model_py import *\n",
    "from others_py import *\n",
    "import pickle\n",
    "import pandas as pd\n",
    "from env import ENV,PROFILE\n",
    "from LOG import Logger\n",
    "import datetime as dt\n",
    "import pytz\n",
    "import re\n",
    "import datetime as dt\n",
    "            \n",
    "            \n",
    "            \n",
    "            \n",
    "class ClassifierBase:\n",
    "    def load_model(self, **model_path):\n",
    "        pass\n",
    "            \n",
    "            \n",
    "####### classifier 0\n",
    "####### InitClassifier\n",
    "\n",
    "class InitClassifier(ClassifierBase):\n",
    "    def __init__(self, **model_path):\n",
    "        self.load_model(**model_path)\n",
    "        self.description = 'This model is used to initialize conversation'\n",
    "        self.label_explain = {0: 'next'}\n",
    "        \n",
    "    \n",
    "            \n",
    "            \n",
    "    def classify(self,sentence):\n",
    "        \"\"\"\n",
    "        0 - next\n",
    "        \"\"\"\n",
    "        result_dict = {'label':0,'ptp_time':None}\n",
    "        return result_dict\n",
    "    \n",
    "\n",
    "    \n",
    "    \n",
    "class StopClassifier(ClassifierBase):\n",
    "    def __init__(self, **model_path):\n",
    "        self.load_model(**model_path)\n",
    "        self.description = 'This model is used to handle stop logic'\n",
    "        self.label_explain = {0: 'stop'}\n",
    "        \n",
    "    \n",
    "            \n",
    "            \n",
    "    def classify(self,sentence):\n",
    "        \"\"\"\n",
    "        0 - next\n",
    "        \"\"\"\n",
    "        \n",
    "        result_dict = {'label':0,'ptp_time':None}\n",
    "        return result_dict\n",
    "    \n",
    "    \n",
    "    \n",
    "\n",
    "\n",
    "\n",
    "\n",
    "\n",
    "\n",
    "class Node:\n",
    "    def __init__(self, node_name, msg_path=None):\n",
    "        self.name = node_name\n",
    "        self._load_message(msg_path)\n",
    "        self.canJump = False\n",
    "        self.sentiment = 1\n",
    "        self.log = Logger(self.__class__.__name__,level=ENV.NODE_LOG_LEVEL.value).logger\n",
    "\n",
    "        \n",
    "        \n",
    "    def summary(self):\n",
    "        return {'node_name': self.name, \n",
    "                'description':self.describe, \n",
    "                'class_name':self.__class__.__name__, \n",
    "                'model': self.model_name}\n",
    "    \n",
    "    def _triger_jump(self):\n",
    "        if self.canJump is True:\n",
    "            # jump trigger\n",
    "            if self.output_label == 1 and self.sentiment >=2: \n",
    "                self.output_label = 1001\n",
    "        else:\n",
    "            return None\n",
    "    \n",
    "    \n",
    "    \n",
    "    def process(self, sentence, model_dict):\n",
    "        model = model_dict[self.model_name]\n",
    "        clf = model.classify(sentence)\n",
    "        \n",
    "        self.output_label = clf['label']\n",
    "        # jump trigger\n",
    "        self._triger_jump()\n",
    "        self.detail = clf\n",
    "        return self.output_label, self.detail\n",
    "    \n",
    "    \n",
    "    def _load_message(self, msg_path):\n",
    "        self.messages = pd.read_csv(msg_path, encoding='utf8')\n",
    "        self.messages = self.messages[self.messages['node_name'] == self.name]\n",
    "        self.messages.label = self.messages.label.astype('int')\n",
    "        self.messages.sentiment = self.messages.sentiment.astype('int')\n",
    "        \n",
    "        \n",
    "    def get_response(self, label):\n",
    "        \"\"\"\n",
    "        return response by label\n",
    "        \"\"\"\n",
    "        \n",
    "        df = self.messages[self.messages.label == label]\n",
    "        \n",
    "        max_sentiment = np.max(df.sentiment.values)\n",
    "        \n",
    "        if self.sentiment > max_sentiment:\n",
    "            sentiment = max_sentiment\n",
    "        else:\n",
    "            sentiment = self.sentiment\n",
    "            \n",
    "        df = df[df.sentiment == sentiment]\n",
    "        self.log.debug('Current sentiment is {}, node sentiment is: {}, max message sentiment is: {}'.format(sentiment,self.sentiment,max_sentiment))\n",
    "        self.log.debug('Available number of message is {}'.format(len(df)))\n",
    "        # enable random extract\n",
    "        try:\n",
    "            df = df.sample(frac=1)\n",
    "        except ValueError:\n",
    "            response = 'current node name is{}，ouput label is{},sentiment is{}, no message has been set'.format(self.name,label,sentiment)\n",
    "            self.log.error(response)\n",
    "            return response\n",
    "        try:\n",
    "            response = df.message.values[0]\n",
    "            add_sentiment = df.add_sentiment.values[0]\n",
    "        except IndexError:\n",
    "            response = 'current node name is{}，ouput label is{},sentiment is{}, no message has been set'.format(self.name,label,sentiment)\n",
    "            self.log.error(response)\n",
    "            return response\n",
    "        self.sentiment += add_sentiment\n",
    "        return response\n",
    "\n",
    "\n",
    "        \n",
    "        \n",
    "\n",
    "        \n",
    "###################### Node 0  #########################\n",
    "\n",
    "    \n",
    "class S1_N0(Node):\n",
    "    def __init__(self, msg_path):\n",
    "        super().__init__('s0', msg_path)\n",
    "        self.describe = 'Init node'\n",
    "        self.model_name = 'InitClassifier'\n",
    "\n",
    "        \n",
    "###################### Node 1  #########################\n",
    "class S1_N1(Node):\n",
    "    def __init__(self, msg_path):\n",
    "        super().__init__('cf_s1_n1_identity_q', msg_path)\n",
    "        self.describe = 'Verify Identify'\n",
    "        self.model_name = 'IDClassifier'\n",
    "        \n",
    "        \n",
    "###################### Node 1  #########################\n",
    "class S1_N2(Node):\n",
    "    def __init__(self, msg_path):\n",
    "        super().__init__('cf_s1_n2_confirmLoan_q', msg_path)\n",
    "        self.describe = 'Verify Identify'\n",
    "        self.model_name = 'ConfirmLoan'\n",
    "        self.canJump = True\n",
    "                \n",
    "\n",
    "                \n",
    "#######################  Node 2  #############################        \n",
    "class S1_N5(Node):\n",
    "    def __init__(self, msg_path):\n",
    "        super().__init__('cf_s1_n5_ifAcquainted_q', msg_path)\n",
    "        self.describe = 'Ask if know debtor'\n",
    "        self.model_name = 'IfKnowDebtor'\n",
    "        \n",
    "        \n",
    "##########################  Node 3  ##########################        \n",
    "class S1_N15(Node):\n",
    "    def __init__(self, msg_path):\n",
    "        super().__init__('cf_s1_n15_verifyWill_q', msg_path)\n",
    "        self.describe = 'Verify willing to pay'\n",
    "        self.model_name = 'WillingToPay'\n",
    "        self.canJump = True\n",
    "                \n",
    "       \n",
    "\n",
    "        \n",
    "#########################  Node 7  ###########################        \n",
    "class S1_N25(Node):\n",
    "    def __init__(self, msg_path):\n",
    "        super().__init__('cf_s1_n25_cutDebt_q', msg_path)\n",
    "        self.describe = 'ask if accept less amount'\n",
    "        self.model_name = 'CutDebt'\n",
    "        self.canJump = True\n",
    "        \n",
    "        \n",
    "        \n",
    "                \n",
    "        \n",
    "#########################  Node 8  ###########################        \n",
    "class S1_N32(Node):\n",
    "    def __init__(self, msg_path):\n",
    "        super().__init__('cf_s1_n32_splitDebt_q', msg_path)\n",
    "        self.describe = 'ask if accept installment'\n",
    "        self.model_name = 'Installment'\n",
    "        self.canJump = True\n",
    "        \n",
    "        \n",
    "        \n",
    "############################## STOP NODE ########################\n",
    "class NodeStop(Node):\n",
    "    def __init__(self, node_name, msg_path):\n",
    "        super().__init__(node_name, msg_path)\n",
    "        self.model_name = 'StopClassifier'\n",
    "\n",
    "\n",
    "\n",
    "class S1_N101(NodeStop):\n",
    "    def __init__(self, msg_path):\n",
    "        super().__init__('cf_s1_n101_ifAcquainted_s', msg_path)\n",
    "        self.describe = 'inform phone recipient'\n",
    "\n",
    "        \n",
    "        \n",
    "class S1_N102(NodeStop):\n",
    "    def __init__(self, msg_path):\n",
    "        super().__init__('cf_s1_n102_ifAcquainted_s', msg_path)\n",
    "        self.describe = 'do not know debtor'\n",
    "    \n",
    " \n",
    "        \n",
    "class S1_N103(NodeStop):\n",
    "    def __init__(self, msg_path):\n",
    "        super().__init__('cf_s1_n103_paymentChannel_s', msg_path)\n",
    "        self.describe = 'notify methods of paying'\n",
    "    \n",
    "\n",
    "        \n",
    "class S1_N104(NodeStop):\n",
    "    def __init__(self, msg_path):\n",
    "        super().__init__('cf_s1_n104_paymentChannel_s', msg_path)\n",
    "        self.describe = 'notify methods of paying'\n",
    "    \n",
    "        \n",
    "class S1_N105(NodeStop):\n",
    "    def __init__(self,msg_path):\n",
    "        super().__init__('cf_s1_n105_noResult_s',msg_path)\n",
    "        self.describe = 'no result'\n",
    "        \n",
    "    \n",
    "\n",
    "class S1_N106(NodeStop):\n",
    "    def __init__(self,msg_path):\n",
    "        super().__init__('cf_s1_n106_paymentChannel_s',msg_path)\n",
    "        self.describe = 'notify methods of paying'\n",
    "        \n",
    "        \n",
    "        \n",
    "class S1_N108(NodeStop):\n",
    "    def __init__(self,msg_path):\n",
    "        super().__init__('cf_s1_n108_noResult_s',msg_path)\n",
    "        self.describe = 'no result'\n",
    "        \n",
    "class S1_N109(NodeStop):\n",
    "    def __init__(self,msg_path):\n",
    "        super().__init__('cf_s1_n109_scheduleCall_s',msg_path)\n",
    "        self.describe = 'no result'\n",
    "        \n",
    "class S1_N110(NodeStop):\n",
    "    def __init__(self,msg_path):\n",
    "        super().__init__('cf_s1_n110_recordWechat_s',msg_path)\n",
    "        self.describe = 'no result'\n",
    "        \n",
    "    \n",
    "\n",
    "        \n",
    "    \n",
    "########################################################################################################################\n",
    "######################################### Tree #########################################################################\n",
    "######################################### Tree #########################################################################\n",
    "######################################### Tree #########################################################################\n",
    "######################################### Tree #########################################################################\n",
    "######################################### Tree #########################################################################\n",
    "######################################### Tree #########################################################################\n",
    "######################################### Tree #########################################################################\n",
    "\n",
    "    \n",
    "\n",
    "class PF:\n",
    "    def __init__(self,profile=None):\n",
    "        \"\"\"\n",
    "        profile should be None or dictionary:\n",
    "        fields:\n",
    "        1. Name: lastName + firstName\n",
    "        2. principal: the money borrowed\n",
    "        3. contractStartDate\n",
    "        4. contractStartDate\n",
    "        5. apr:  yearly/monthly, no calculation will be involved\n",
    "        6. fee: late payment fee\n",
    "        7. lendingCompany: the money originally borrowed from\n",
    "        8. collectionCompany\n",
    "        9. customerID\n",
    "        10. ginder\n",
    "        11. collector: the agent who makes the call\n",
    "        12. totalAmount: the total amount owed by debotor\n",
    "        13. informDeadline: the deadline to collect money\n",
    "        14. splitDebtMaxTolerance: the max tolerance of split debt time\n",
    "        15. splitDebtFirstPay: the first payment after set up split debt\n",
    "        *16. deltaTime: the time diff between now and contract end Date. This will be calcualted\n",
    "        \"\"\"\n",
    "        self.log = Logger(self.__class__.__name__,level=ENV.PROFILE_LOG_LEVEL.value).logger\n",
    "        if profile is None:\n",
    "            self._load_default()\n",
    "        else:\n",
    "            self._load_profile(profile)\n",
    "        \n",
    "    def _load_default(self):\n",
    "        self.log.debug('profile is None. The default demo profile will be loaded!')\n",
    "        self.name = PROFILE.lastName.value + PROFILE.firstName.value\n",
    "        self.principal = PROFILE.principal.value\n",
    "        self.contractStartDate = PROFILE.contractStartDate.value\n",
    "        self.contractEndDate = PROFILE.contractEndDate.value\n",
    "        self.apr = PROFILE.apr.value\n",
    "        self.interest = PROFILE.interest.value\n",
    "        self.fee = PROFILE.fee.value\n",
    "        self.lendingCompany = PROFILE.lendingCompany.value\n",
    "        self.collectionCompany = PROFILE.lendingCompany.value\n",
    "        self.customerID = PROFILE.customerID.value\n",
    "        self.gender = PROFILE.gender.value\n",
    "        self.collector = PROFILE.collector.value\n",
    "        self.totalAmount = PROFILE.totalAmount.value\n",
    "        self.informDeadline = PROFILE.informDeadline.value\n",
    "        self.splitDebtMaxTolerance = PROFILE.splitDebtMaxTolerance.value\n",
    "        self.splitDebtFirstPay = PROFILE.splitDebtFirstPay.value\n",
    "        self.deltaTime = (dt.datetime.now() - self.create_from_D(self.contractEndDate)).days\n",
    "        self._get_prefix()\n",
    "        self.log.info('Customer ID is {}, principal is {}, apr is {}'.format(self.customerID,\n",
    "                                                                             self.principal,\n",
    "                                                                             self.apr))\n",
    "        \n",
    "    def _load_profile(self, profile):\n",
    "        self.log.debug('Loading From Profile')\n",
    "        self.name = profile.get('name')\n",
    "        if self.name is None:\n",
    "            self.name = profile['lastName']+profile['firstName']\n",
    "        self.principal = profile['principal']\n",
    "        self.contractStartDate = profile['contractStartDate']\n",
    "        self.contractEndDate = profile['contractEndDate']\n",
    "        self.apr = profile['apr']\n",
    "        self.interest = profile['interest']\n",
    "        self.fee = profile['fee']\n",
    "        self.lendingCompany = profile['lendingCompany']\n",
    "        self.collectionCompany = profile['collectionCompany']\n",
    "        self.customerID = profile.get('customerID')\n",
    "        self.gender = profile['gender']\n",
    "        self.collector = PROFILE.collector.value\n",
    "        self.totalAmount = profile['totalAmount']\n",
    "        self.informDeadline = profile['informDeadline']\n",
    "        self.splitDebtMaxTolerance = profile['splitDebtMaxTolerance']\n",
    "        self.splitDebtFirstPay = profile['splitDebtFirstPay']\n",
    "        self.deltaTime = (dt.datetime.now() - self.create_from_D(self.contractEndDate)).days\n",
    "        self._get_prefix()\n",
    "        self.log.info('Customer ID is {}, principal is {}, apr is {}'.format(self.customerID,\n",
    "                                                                             self.principal,\n",
    "                                                                             self.apr))\n",
    "        \n",
    "    \n",
    "    def _get_prefix(self):\n",
    "        if self.gender == '男':\n",
    "            self.prefix = '先生'\n",
    "        elif self.gender == '女':\n",
    "            self.prefix = '女士'\n",
    "        else:\n",
    "            self.prefix = '先生/女士'\n",
    "\n",
    "    def create_from_D(self, date):\n",
    "        year = int(re.findall('\\d{4}年',date)[0][:-1])\n",
    "        month = int(re.findall('\\d{1,2}月',date)[0][:-1])\n",
    "        day = int(re.findall('\\d{1,2}日',date)[0][:-1])\n",
    "        return dt.datetime(year=year,month=month,day=day)\n",
    "        \n",
    "\n",
    "      \n",
    "        \n",
    "class TreeBase:\n",
    "    def __init__(self, start_node='s0', profile=None):\n",
    "        self.current_node_name = start_node\n",
    "        self.log = Logger(self.__class__.__name__,level=ENV.TREE_LOG_LEVEL.value).logger\n",
    "        self.fc_path = []\n",
    "        self.all_path = []\n",
    "        self.profile = PF(profile)\n",
    "        self.conversationId = 1\n",
    "        self.cache = {'startTime':dt.datetime.utcnow(),'chat':[]}\n",
    "        self.agent_response = []\n",
    "        \n",
    "    def _evaluate_sentence(self,sentence):\n",
    "        \"\"\"\n",
    "        self.name = profile.get('name')\n",
    "        self.principal = profile.get('principal')\n",
    "        self.contractStartDate = profile.get('contractStartDate')\n",
    "        self.contractEndDate = profile.get('contractEndDate')\n",
    "        self.apr = profile.get('apr')\n",
    "        self.interest = profile.get('interest')\n",
    "        self.fee = profile.get('fee')\n",
    "        self.lendingCompany = profile.get('lendingCompany')\n",
    "        self.collectionCompany = profile.get('collectionCompany')\n",
    "        self.customerID = profile.get('customerID')\n",
    "        self.deltaTime = (dt.datetime.now() - self.create_from_D(self.contractEndDate)).days\n",
    "        self._get_prefix()\n",
    "        \"\"\"\n",
    "        return sentence.format(name=self.profile.name, \n",
    "                               principal=self.profile.principal,\n",
    "                               contractStartDate=self.profile.contractStartDate,\n",
    "                               contractEndDate=self.profile.contractEndDate,\n",
    "                               apr=self.profile.apr,\n",
    "                               interest=self.profile.interest,\n",
    "                               fee=self.profile.fee,\n",
    "                               lendingCompany=self.profile.lendingCompany,\n",
    "                               collectionCompany=self.profile.collectionCompany,\n",
    "                               deltaTime=self.profile.deltaTime,\n",
    "                               prefix=self.profile.prefix,\n",
    "                               collector = self.profile.collector,\n",
    "                               totalAmount = self.profile.totalAmount,\n",
    "                               informDeadline=self.profile.informDeadline,\n",
    "                               splitDebtMaxTolerance=self.profile.splitDebtMaxTolerance,\n",
    "                               splitDebtFirstPay=self.profile.splitDebtFirstPay)\n",
    "        \n",
    "        \n",
    "        \n",
    "    \n",
    "class TreeStage1(TreeBase):\n",
    "    def __init__(self, start_node='s0',graph_path='',msg_path='',debug=False, profile=None):\n",
    "        \"\"\"\n",
    "        profile should be None or dictionary:\n",
    "        fields:\n",
    "        1. Name: lastName + firstName\n",
    "        2. principal: the money borrowed\n",
    "        3. contractStartDate\n",
    "        4. contractStartDate\n",
    "        5. apr:  yearly/monthly, no calculation will be involved\n",
    "        6. fee: late payment fee\n",
    "        7. lendingCompany: the money originally borrowed from\n",
    "        8. collectionCompany\n",
    "        9. customerID\n",
    "        10. ginder\n",
    "        11. collector: the agent who makes the call\n",
    "        12. totalAmount: the total amount owed by debotor\n",
    "        13. informDeadline\n",
    "        14. splitDebtMaxTolerance: the max tolerance of split debt time\n",
    "        15. splitDebtFirstPay: the first payment after set up split debt\n",
    "        *16. deltaTime: the time diff between now and contract end Date. This will be calcualted\n",
    "        \"\"\"\n",
    "        super().__init__(start_node=start_node,profile=profile)\n",
    "        self._build_node(msg_path)\n",
    "        self._build_graph(graph_path)\n",
    "        self.debug = debug\n",
    "        \n",
    "    \n",
    "        \n",
    "    def _build_node(self,msg_path):\n",
    "        self.messages = pd.read_csv(msg_path,encoding='utf8')\n",
    "        self.nodes = {\n",
    "        's0':S1_N0(msg_path),\n",
    "        'cf_s1_n1_identity_q':S1_N1(msg_path),\n",
    "        'cf_s1_n15_verifyWill_q':S1_N15(msg_path),\n",
    "        'cf_s1_n101_ifAcquainted_s':S1_N101(msg_path),\n",
    "        'cf_s1_n102_ifAcquainted_s':S1_N102(msg_path),\n",
    "        'cf_s1_n103_paymentChannel_s':S1_N103(msg_path),\n",
    "        'cf_s1_n104_paymentChannel_s':S1_N104(msg_path),\n",
    "        'cf_s1_n105_noResult_s':S1_N105(msg_path),\n",
    "        'cf_s1_n106_paymentChannel_s':S1_N106(msg_path),\n",
    "        'cf_s1_n108_noResult_s':S1_N108(msg_path),\n",
    "        'cf_s1_n109_scheduleCall_s':S1_N109(msg_path),\n",
    "        'cf_s1_n110_recordWechat_s':S1_N110(msg_path),\n",
    "        'cf_s1_n2_confirmLoan_q': S1_N2(msg_path),\n",
    "        'cf_s1_n25_cutDebt_q':S1_N25(msg_path),\n",
    "        'cf_s1_n32_splitDebt_q':S1_N32(msg_path),\n",
    "        'cf_s1_n5_ifAcquainted_q':S1_N5(msg_path),} \n",
    "        \n",
    "    def _build_graph(self,graph_path):\n",
    "        self.df_mapping = pd.read_csv(graph_path)\n",
    "        gp = self.df_mapping.groupby('node_name')\n",
    "        self.mapping = {}\n",
    "        for each in gp:\n",
    "            df_tmp = each[1]\n",
    "            df_tmp = df_tmp.set_index('label')\n",
    "            self.mapping.update({each[0]:df_tmp.T.to_dict()})\n",
    "        \n",
    "        \n",
    "\n",
    "        \n",
    "    def _updates(self, _label):\n",
    "        \"\"\"\n",
    "        update fc_path, all_path, current_node_name\n",
    "        return current node, response\n",
    "        \"\"\"\n",
    "        cur_node = self.nodes[self.current_node_name]\n",
    "        \n",
    "        # get current response\n",
    "        response = cur_node.get_response(_label)\n",
    "\n",
    "        \n",
    "        # get next node_name\n",
    "        if self.mapping.get(self.current_node_name) is not None:\n",
    "            next_node_name = self.mapping.get(self.current_node_name)[_label]['connection']\n",
    "        else:\n",
    "            next_node_name = None\n",
    "            \n",
    "        if self.debug:\n",
    "            response = response + '<-current node is: {}->'.format(self.current_node_name)\n",
    "            response = response + '<-output label is: {}->'.format(_label)\n",
    "            response = response + '<-next node is: {}->'.format(next_node_name)\n",
    "        return response, next_node_name\n",
    "        \n",
    "        \n",
    "        \n",
    "    def process(self, sentence, model_dict):\n",
    "        current_node_name = self.current_node_name\n",
    "        current_node = self.nodes[current_node_name]\n",
    "        \n",
    "        self.log.debug('Current node name is {}'.format(self.current_node_name))\n",
    "        if current_node.model_name == 'StopClassifier':\n",
    "            self.log.debug('Reach Stop Node: {}'.format(self.current_node_name))\n",
    "            return 'end'\n",
    "        _label,_detail = current_node.process(sentence, model_dict)\n",
    "        self.log.debug('Output label is {}'.format(_label))\n",
    "\n",
    "        response,next_node_name = self._updates(_label)\n",
    "        response = self._evaluate_sentence(response)\n",
    "        self.agent_response.append(response)\n",
    "        \n",
    "        if current_node_name != 's0':\n",
    "            self._update_cache(sentence,current_node_name,next_node_name,_label,_detail)\n",
    "                \n",
    "        \n",
    "        if next_node_name is None:\n",
    "            self.log.debug('Next node name is None. Reach stop node')\n",
    "            return 'end'\n",
    "        else:\n",
    "            self.current_node_name = next_node_name\n",
    "            self.log.debug('Next node name is {}.'.format(self.current_node_name))\n",
    "        return response\n",
    "    \n",
    "    def _update_cache(self,sentence,current_node_name,next_node_name,label,detail):\n",
    "        cur_id = self.conversationId\n",
    "        try:\n",
    "            confidence = np.max(detail['av_pred'])\n",
    "        except:\n",
    "            self.log.error('confidence calulation error!!!!!!!')\n",
    "            confidence = 1\n",
    "        if 99<label<999:\n",
    "            other_response = detail.get('other_response')\n",
    "            if other_response is not None:\n",
    "                confidence_other = np.max(other_response['av_pred'])\n",
    "            else:\n",
    "                confidence_other = -1\n",
    "        else:\n",
    "            confidence_other = -1\n",
    "        if next_node_name is None:\n",
    "            status = 'complete'\n",
    "        elif self.nodes[next_node_name].model_name == 'StopClassifier':\n",
    "            status = 'complete'\n",
    "        else:\n",
    "            status = 'incomplete'\n",
    "        conversation = {'id':cur_id,\n",
    "                        'agent':self.agent_response[-1],\n",
    "                        'customer':sentence,\n",
    "                        'currentNode':current_node_name,\n",
    "                        'nextNode':next_node_name,\n",
    "                        'label':int(label),\n",
    "                        'confidence':float(confidence),\n",
    "                        'confidence_other':float(confidence_other),\n",
    "                        'responseTime':dt.datetime.utcnow()}\n",
    "        self.conversationId += 1\n",
    "        self.cache['chat'].append(conversation)\n",
    "        self.cache.update({'status':status})\n",
    "    \n",
    "    def ttest(self, sentence, model_dict,label):\n",
    "        \"\"\"\n",
    "        random path test\n",
    "        \"\"\"\n",
    "        current_node = self.nodes[self.current_node_name] \n",
    "        if current_node.model_name == 'StopClassifier':\n",
    "            return 'end'\n",
    "        _label,_detail = current_node.process(sentence, model_dict)\n",
    "        _label = label\n",
    "\n",
    "        response,next_node_name = self._updates(_label)\n",
    "        \n",
    "        if next_node_name is None:\n",
    "            return 'end'\n",
    "        else:\n",
    "            self.current_node_name = next_node_name\n",
    "        return response\n",
    "    def test_evaluateMessages(self):\n",
    "        messages = self.messages.message.values\n",
    "        for each in messages:\n",
    "            evl = self._evaluate_sentence(each)\n",
    "            print(evl)\n",
    "            if len(re.findall(r'{.*?}',evl)) > 0:\n",
    "                   raise ValueError(evl)\n",
    "        "
   ]
  },
  {
   "cell_type": "code",
   "execution_count": 2,
   "metadata": {
    "ExecuteTime": {
     "end_time": "2018-07-20T21:18:11.786365Z",
     "start_time": "2018-07-20T21:18:10.004114Z"
    }
   },
   "outputs": [
    {
     "name": "stderr",
     "output_type": "stream",
     "text": [
      "Building prefix dict from the default dictionary ...\n",
      "Loading model from cache /tmp/jieba.cache\n",
      "Loading model cost 0.798 seconds.\n",
      "Prefix dict has been built succesfully.\n"
     ]
    }
   ],
   "source": [
    "graph_path='../../MLModel/data/TreeModel/treeConnection.csv'\n",
    "msg_path='../../MLModel/data/TreeModel/node_message.csv'\n",
    "models_list = ['IDClassifier','CutDebt','IfKnowDebtor','WillingToPay','Installment','ConfirmLoan']\n",
    "savedModel_path = '../../MLModel/savedModel/{}/{}.pickle'\n",
    "\n",
    "model_dict = {}\n",
    "for each_model in models_list:\n",
    "    model_dict[each_model] = pickle.load(open(savedModel_path.format(each_model,each_model), 'rb'))\n",
    "    model_dict[each_model].classify('再说一次')\n",
    "    \n",
    "model_dict['StopClassifier'] = StopClassifier()\n",
    "model_dict['InitClassifier'] = InitClassifier()   "
   ]
  },
  {
   "cell_type": "code",
   "execution_count": 3,
   "metadata": {
    "ExecuteTime": {
     "end_time": "2018-07-20T21:18:12.572109Z",
     "start_time": "2018-07-20T21:18:12.165757Z"
    }
   },
   "outputs": [
    {
     "name": "stderr",
     "output_type": "stream",
     "text": [
      "2018-07-20 21:18:12,166 - DEBUG - CLASS:PF- METHOD:_load_default -LINE:335 - MSG:profile is None. The default demo profile will be loaded!\n",
      "2018-07-20 21:18:12,169 - INFO - CLASS:PF- METHOD:_load_default -LINE:356 - MSG:Customer ID is 1000000000, principal is 50,000, apr is 9%\n"
     ]
    }
   ],
   "source": [
    "t1 = TreeStage1(graph_path=graph_path,msg_path=msg_path)"
   ]
  },
  {
   "cell_type": "code",
   "execution_count": 5,
   "metadata": {
    "ExecuteTime": {
     "end_time": "2018-07-20T21:18:18.959779Z",
     "start_time": "2018-07-20T21:18:18.927276Z"
    }
   },
   "outputs": [
    {
     "name": "stderr",
     "output_type": "stream",
     "text": [
      "2018-07-20 21:18:18,932 - DEBUG - CLASS:TreeStage1- METHOD:process -LINE:538 - MSG:Current node name is cf_s1_n1_identity_q\n",
      "2018-07-20 21:18:18,948 - DEBUG - CLASS:TreeStage1- METHOD:process -LINE:543 - MSG:Output label is 1\n",
      "2018-07-20 21:18:18,953 - DEBUG - CLASS:TreeStage1- METHOD:process -LINE:558 - MSG:Next node name is cf_s1_n5_ifAcquainted_q.\n"
     ]
    },
    {
     "data": {
      "text/plain": [
       "'不好意思，打扰了，请问您认识李明先生吗！'"
      ]
     },
     "execution_count": 5,
     "metadata": {},
     "output_type": "execute_result"
    }
   ],
   "source": [
    "t1.process('不',model_dict)"
   ]
  },
  {
   "cell_type": "code",
   "execution_count": 6,
   "metadata": {
    "ExecuteTime": {
     "end_time": "2018-07-20T21:18:24.180631Z",
     "start_time": "2018-07-20T21:18:24.171892Z"
    }
   },
   "outputs": [
    {
     "data": {
      "text/plain": [
       "{'startTime': datetime.datetime(2018, 7, 20, 21, 18, 12, 169925),\n",
       " 'chat': [{'id': 1,\n",
       "   'agent': '不好意思，打扰了，请问您认识李明先生吗！',\n",
       "   'customer': '不',\n",
       "   'currentNode': 'cf_s1_n1_identity_q',\n",
       "   'nextNode': 'cf_s1_n5_ifAcquainted_q',\n",
       "   'label': 1,\n",
       "   'confidence': 0.579760276531868,\n",
       "   'confidence_other': -1.0,\n",
       "   'responseTime': datetime.datetime(2018, 7, 20, 21, 18, 18, 953546)}],\n",
       " 'status': 'incomplete'}"
      ]
     },
     "execution_count": 6,
     "metadata": {},
     "output_type": "execute_result"
    }
   ],
   "source": [
    "t1.cache"
   ]
  },
  {
   "cell_type": "code",
   "execution_count": 9,
   "metadata": {
    "ExecuteTime": {
     "end_time": "2018-07-20T21:11:00.743496Z",
     "start_time": "2018-07-20T21:11:00.734642Z"
    }
   },
   "outputs": [
    {
     "data": {
      "text/plain": [
       "int"
      ]
     },
     "execution_count": 9,
     "metadata": {},
     "output_type": "execute_result"
    }
   ],
   "source": [
    "type(t1.cache['chat'][0]['label'])"
   ]
  },
  {
   "cell_type": "code",
   "execution_count": 6,
   "metadata": {
    "ExecuteTime": {
     "end_time": "2018-07-20T21:10:23.085346Z",
     "start_time": "2018-07-20T21:10:23.066673Z"
    }
   },
   "outputs": [
    {
     "data": {
      "text/plain": [
       "{'startTime': datetime.datetime(2018, 7, 20, 21, 10, 17, 801749),\n",
       " 'chat': [{'id': 1,\n",
       "   'agent': '不好意思，打扰了，请问您认识李明先生吗！',\n",
       "   'customer': '不',\n",
       "   'currentNode': 'cf_s1_n1_identity_q',\n",
       "   'nextNode': 'cf_s1_n5_ifAcquainted_q',\n",
       "   'label': 1,\n",
       "   'confidence': 0.579760276531868,\n",
       "   'confidence_other': -1.0,\n",
       "   'responseTime': datetime.datetime(2018, 7, 20, 21, 10, 21, 494339)}],\n",
       " 'status': 'incomplete'}"
      ]
     },
     "execution_count": 6,
     "metadata": {},
     "output_type": "execute_result"
    }
   ],
   "source": [
    "t1.cache"
   ]
  },
  {
   "cell_type": "code",
   "execution_count": 9,
   "metadata": {
    "ExecuteTime": {
     "end_time": "2018-07-20T19:54:04.479752Z",
     "start_time": "2018-07-20T19:54:04.228575Z"
    }
   },
   "outputs": [
    {
     "ename": "NameError",
     "evalue": "name 'array' is not defined",
     "output_type": "error",
     "traceback": [
      "\u001b[0;31m---------------------------------------------------------------------------\u001b[0m",
      "\u001b[0;31mNameError\u001b[0m                                 Traceback (most recent call last)",
      "\u001b[0;32m<ipython-input-9-435475b1d33e>\u001b[0m in \u001b[0;36m<module>\u001b[0;34m()\u001b[0m\n\u001b[0;32m----> 1\u001b[0;31m s={'label': 109, 'pred_prob': array([[0.01183344, 0.01385365, 0.97431291],\n\u001b[0m\u001b[1;32m      2\u001b[0m        \u001b[0;34m[\u001b[0m\u001b[0;36m0.05423779\u001b[0m\u001b[0;34m,\u001b[0m \u001b[0;36m0.0381963\u001b[0m \u001b[0;34m,\u001b[0m \u001b[0;36m0.90756591\u001b[0m\u001b[0;34m]\u001b[0m\u001b[0;34m,\u001b[0m\u001b[0;34m\u001b[0m\u001b[0m\n\u001b[1;32m      3\u001b[0m        [0.0116676 , 0.00924557, 0.97908683]]), 'av_pred': array([0.02591294, 0.02043184, 0.95365522]), 'time_extract': [], 'other_response': {'label': 109, 'pred_prob': array([[0.01361815, 0.01610425, 0.00818795, 0.00429666, 0.957793  ],\n\u001b[1;32m      4\u001b[0m        \u001b[0;34m[\u001b[0m\u001b[0;36m0.05294826\u001b[0m\u001b[0;34m,\u001b[0m \u001b[0;36m0.05902233\u001b[0m\u001b[0;34m,\u001b[0m \u001b[0;36m0.02939076\u001b[0m\u001b[0;34m,\u001b[0m \u001b[0;36m0.03699927\u001b[0m\u001b[0;34m,\u001b[0m \u001b[0;36m0.82163938\u001b[0m\u001b[0;34m]\u001b[0m\u001b[0;34m,\u001b[0m\u001b[0;34m\u001b[0m\u001b[0m\n\u001b[1;32m      5\u001b[0m        [0.02291428, 0.02729004, 0.01214909, 0.00913999, 0.92850659]]), 'av_pred': array([0.0298269 , 0.03413887, 0.01657593, 0.01681197, 0.90264632])}}\n",
      "\u001b[0;31mNameError\u001b[0m: name 'array' is not defined"
     ]
    }
   ],
   "source": [
    "s={'label': 109, 'pred_prob': array([[0.01183344, 0.01385365, 0.97431291],\n",
    "       [0.05423779, 0.0381963 , 0.90756591],\n",
    "       [0.0116676 , 0.00924557, 0.97908683]]), 'av_pred': array([0.02591294, 0.02043184, 0.95365522]), 'time_extract': [], 'other_response': {'label': 109, 'pred_prob': array([[0.01361815, 0.01610425, 0.00818795, 0.00429666, 0.957793  ],\n",
    "       [0.05294826, 0.05902233, 0.02939076, 0.03699927, 0.82163938],\n",
    "       [0.02291428, 0.02729004, 0.01214909, 0.00913999, 0.92850659]]), 'av_pred': array([0.0298269 , 0.03413887, 0.01657593, 0.01681197, 0.90264632])}}"
   ]
  },
  {
   "cell_type": "markdown",
   "metadata": {
    "ExecuteTime": {
     "end_time": "2018-07-19T18:35:59.295753Z",
     "start_time": "2018-07-19T18:35:59.277799Z"
    }
   },
   "source": [
    "# Clean Tree Messages"
   ]
  },
  {
   "cell_type": "code",
   "execution_count": 1,
   "metadata": {
    "ExecuteTime": {
     "end_time": "2018-07-20T03:09:21.201477Z",
     "start_time": "2018-07-20T03:09:21.172040Z"
    }
   },
   "outputs": [],
   "source": [
    "# t1.messages.message"
   ]
  },
  {
   "cell_type": "code",
   "execution_count": 11,
   "metadata": {
    "ExecuteTime": {
     "end_time": "2018-07-19T21:00:23.462828Z",
     "start_time": "2018-07-19T21:00:23.452994Z"
    }
   },
   "outputs": [],
   "source": [
    "df['message'] = df.message.apply(clean)"
   ]
  },
  {
   "cell_type": "code",
   "execution_count": 12,
   "metadata": {
    "ExecuteTime": {
     "end_time": "2018-07-19T21:00:55.624857Z",
     "start_time": "2018-07-19T21:00:55.590064Z"
    }
   },
   "outputs": [],
   "source": [
    "df.to_csv(msg_path,encoding='utf8',index=False)"
   ]
  },
  {
   "cell_type": "code",
   "execution_count": 9,
   "metadata": {
    "ExecuteTime": {
     "end_time": "2018-07-19T21:21:16.696462Z",
     "start_time": "2018-07-19T21:21:16.689204Z"
    }
   },
   "outputs": [],
   "source": [
    "a = 'bdfbfd{}sadfsa'"
   ]
  },
  {
   "cell_type": "code",
   "execution_count": 10,
   "metadata": {
    "ExecuteTime": {
     "end_time": "2018-07-19T21:21:17.199868Z",
     "start_time": "2018-07-19T21:21:17.191982Z"
    }
   },
   "outputs": [
    {
     "data": {
      "text/plain": [
       "['{}']"
      ]
     },
     "execution_count": 10,
     "metadata": {},
     "output_type": "execute_result"
    }
   ],
   "source": [
    "re.findall(r'{.*?}',a)"
   ]
  },
  {
   "cell_type": "code",
   "execution_count": null,
   "metadata": {},
   "outputs": [],
   "source": []
  }
 ],
 "metadata": {
  "kernelspec": {
   "display_name": "Python 3",
   "language": "python",
   "name": "python3"
  },
  "language_info": {
   "codemirror_mode": {
    "name": "ipython",
    "version": 3
   },
   "file_extension": ".py",
   "mimetype": "text/x-python",
   "name": "python",
   "nbconvert_exporter": "python",
   "pygments_lexer": "ipython3",
   "version": "3.6.5"
  },
  "varInspector": {
   "cols": {
    "lenName": 16,
    "lenType": 16,
    "lenVar": 40
   },
   "kernels_config": {
    "python": {
     "delete_cmd_postfix": "",
     "delete_cmd_prefix": "del ",
     "library": "var_list.py",
     "varRefreshCmd": "print(var_dic_list())"
    },
    "r": {
     "delete_cmd_postfix": ") ",
     "delete_cmd_prefix": "rm(",
     "library": "var_list.r",
     "varRefreshCmd": "cat(var_dic_list()) "
    }
   },
   "types_to_exclude": [
    "module",
    "function",
    "builtin_function_or_method",
    "instance",
    "_Feature"
   ],
   "window_display": false
  }
 },
 "nbformat": 4,
 "nbformat_minor": 2
}
