{
 "cells": [
  {
   "cell_type": "code",
   "execution_count": 1,
   "metadata": {
    "ExecuteTime": {
     "end_time": "2018-07-01T18:07:37.630635Z",
     "start_time": "2018-07-01T18:07:36.793334Z"
    }
   },
   "outputs": [],
   "source": [
    "import pickle\n",
    "import sys,os\n",
    "sys.path.append('../OneClickTraining/')\n",
    "from all_model_py import *\n",
    "cd = pickle.load(open(\"../../savedModel/CutDebt/CutDebt.pickle\", \"rb\"))"
   ]
  },
  {
   "cell_type": "code",
   "execution_count": null,
   "metadata": {},
   "outputs": [],
   "source": [
    "cd.re"
   ]
  },
  {
   "cell_type": "code",
   "execution_count": 11,
   "metadata": {
    "ExecuteTime": {
     "end_time": "2018-07-01T19:46:31.216960Z",
     "start_time": "2018-07-01T19:46:31.203522Z"
    }
   },
   "outputs": [],
   "source": [
    "import jieba\n",
    "import numpy as np\n",
    "import sys,os\n",
    "tpattern_path = '../TimePattern/'\n",
    "others_pth = '../Others/'\n",
    "#sys.path.append(tpattern_path)\n",
    "sys.path.append(tpattern_path)\n",
    "sys.path.append(others_pth)\n",
    "from  time_pattern import TimePattern\n",
    "from others_py import *\n",
    "\n",
    "\n",
    "class CutDebt:\n",
    "    \n",
    "    def __init__(self, **model):\n",
    "        \"\"\"\n",
    "        suggested parameters:\n",
    "        svc, logistic, nb, jieba_path,tfidf\n",
    "        \"\"\"\n",
    "        self._load_model(**model)\n",
    "        self.re_time = TimePattern(pattern_path=tpattern_path+'mapping.csv')\n",
    "        \n",
    "    def _load_model(self,**model):\n",
    "        self.svc = model.get('svc')\n",
    "        self.logistic = model.get('logistic')\n",
    "        self.nb = model.get('nb')\n",
    "        self.tfidf = model.get('tfidf')\n",
    "        self.other = model.get('other')\n",
    "        self.other.classify('')\n",
    "        # load jieba\n",
    "        jieba_path = model.get('jieba_path')\n",
    "        if jieba_path is not None:\n",
    "            jieba.load_userdict(jieba_path)\n",
    "        \n",
    "        \n",
    "    def process_time(self, sentence,lower_bounder=36, upper_bounder=24*15):\n",
    "        time_extract = self.re_time.process(sentence)\n",
    "        time_label = 0\n",
    "        if len(time_extract) == 0:\n",
    "            time_label = 0\n",
    "        elif len(time_extract) > 1:\n",
    "            time_label = 1\n",
    "        else:\n",
    "            delta = time_extract[0]['gapH']\n",
    "            if delta < lower_bounder:\n",
    "                time_label = 2\n",
    "            elif lower_bounder <= delta < upper_bounder:\n",
    "                time_label = 3\n",
    "            else:\n",
    "                time_label = 4\n",
    "        return time_label\n",
    "        \n",
    "    def classify(self, sentence,lower_bounder=36, upper_bounder=24*15):\n",
    "        sentence = jieba.cut(sentence, cut_all = False)\n",
    "        sentence = ' '.join(sentence)\n",
    "        matrix = self.tfidf.transform([sentence])\n",
    "        \n",
    "        result = np.vstack((self.svc.predict_proba(matrix),\n",
    "                                 self.logistic.predict_proba(matrix),\n",
    "                                 self.nb.predict_proba(matrix)))\n",
    "        \n",
    "        av_pred = np.mean(result, axis = 0)\n",
    "        max_pred = np.max(av_pred, axis = 0)\n",
    "        max_arg = np.argmax(av_pred)\n",
    "        threshold = 0.5\n",
    "        if np.max(max_pred)<threshold:\n",
    "            label = 2\n",
    "        else:\n",
    "            label = max_arg\n",
    "        if label == 2:\n",
    "            response = self.other.classify(sentence)\n",
    "            label = response['label']\n",
    "        \n",
    "        dictionary = {'label': label, 'pred_prob': result, 'av_pred': av_pred}\n",
    "        return dictionary"
   ]
  },
  {
   "cell_type": "code",
   "execution_count": 12,
   "metadata": {
    "ExecuteTime": {
     "end_time": "2018-07-01T19:46:31.832160Z",
     "start_time": "2018-07-01T19:46:31.811443Z"
    }
   },
   "outputs": [],
   "source": [
    "\n",
    "cd_dev = CutDebt(svc=cd.svc, logistic=cd.logistic, nb=cd.nb, tfidf=cd.tfidf,other=cd.other)"
   ]
  },
  {
   "cell_type": "code",
   "execution_count": 19,
   "metadata": {
    "ExecuteTime": {
     "end_time": "2018-07-01T19:50:12.273968Z",
     "start_time": "2018-07-01T19:50:12.261837Z"
    }
   },
   "outputs": [
    {
     "data": {
      "text/plain": [
       "0"
      ]
     },
     "execution_count": 19,
     "metadata": {},
     "output_type": "execute_result"
    }
   ],
   "source": [
    "cd_dev.process_time('一会儿就还')"
   ]
  },
  {
   "cell_type": "code",
   "execution_count": 5,
   "metadata": {
    "ExecuteTime": {
     "end_time": "2018-06-19T20:20:46.905782Z",
     "start_time": "2018-06-19T20:20:46.703069Z"
    },
    "collapsed": true
   },
   "outputs": [],
   "source": [
    "pickle.dump(ifk, open(\"../../savedModel/WillingToPay/WillingToPay.pickle\", \"wb\"))"
   ]
  },
  {
   "cell_type": "code",
   "execution_count": 18,
   "metadata": {
    "ExecuteTime": {
     "end_time": "2018-07-01T19:50:06.206715Z",
     "start_time": "2018-07-01T19:50:06.195658Z"
    }
   },
   "outputs": [
    {
     "data": {
      "text/plain": [
       "[]"
      ]
     },
     "execution_count": 18,
     "metadata": {},
     "output_type": "execute_result"
    }
   ],
   "source": [
    "cd_dev.re_time.process('一会儿就还')"
   ]
  },
  {
   "cell_type": "code",
   "execution_count": null,
   "metadata": {},
   "outputs": [],
   "source": []
  }
 ],
 "metadata": {
  "kernelspec": {
   "display_name": "Python 3",
   "language": "python",
   "name": "python3"
  },
  "language_info": {
   "codemirror_mode": {
    "name": "ipython",
    "version": 3
   },
   "file_extension": ".py",
   "mimetype": "text/x-python",
   "name": "python",
   "nbconvert_exporter": "python",
   "pygments_lexer": "ipython3",
   "version": "3.6.5"
  },
  "varInspector": {
   "cols": {
    "lenName": 16,
    "lenType": 16,
    "lenVar": 40
   },
   "kernels_config": {
    "python": {
     "delete_cmd_postfix": "",
     "delete_cmd_prefix": "del ",
     "library": "var_list.py",
     "varRefreshCmd": "print(var_dic_list())"
    },
    "r": {
     "delete_cmd_postfix": ") ",
     "delete_cmd_prefix": "rm(",
     "library": "var_list.r",
     "varRefreshCmd": "cat(var_dic_list()) "
    }
   },
   "types_to_exclude": [
    "module",
    "function",
    "builtin_function_or_method",
    "instance",
    "_Feature"
   ],
   "window_display": false
  }
 },
 "nbformat": 4,
 "nbformat_minor": 2
}
