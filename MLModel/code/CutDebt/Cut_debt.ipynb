{
 "cells": [
  {
   "cell_type": "code",
   "execution_count": 30,
   "metadata": {
    "ExecuteTime": {
     "end_time": "2018-06-13T15:47:31.154647Z",
     "start_time": "2018-06-13T15:47:31.132790Z"
    },
    "collapsed": true
   },
   "outputs": [],
   "source": [
    "#encoding=utf-8\n",
    "import pandas as pd\n",
    "import numpy as np\n",
    "from sklearn.feature_extraction.text import CountVectorizer, TfidfVectorizer, TfidfTransformer"
   ]
  },
  {
   "cell_type": "code",
   "execution_count": 31,
   "metadata": {
    "ExecuteTime": {
     "end_time": "2018-06-13T15:47:32.997907Z",
     "start_time": "2018-06-13T15:47:32.968391Z"
    }
   },
   "outputs": [
    {
     "name": "stdout",
     "output_type": "stream",
     "text": [
      "(205, 2)\n"
     ]
    },
    {
     "data": {
      "text/html": [
       "<div>\n",
       "<style>\n",
       "    .dataframe thead tr:only-child th {\n",
       "        text-align: right;\n",
       "    }\n",
       "\n",
       "    .dataframe thead th {\n",
       "        text-align: left;\n",
       "    }\n",
       "\n",
       "    .dataframe tbody tr th {\n",
       "        vertical-align: top;\n",
       "    }\n",
       "</style>\n",
       "<table border=\"1\" class=\"dataframe\">\n",
       "  <thead>\n",
       "    <tr style=\"text-align: right;\">\n",
       "      <th></th>\n",
       "      <th>label</th>\n",
       "      <th>split_text</th>\n",
       "    </tr>\n",
       "  </thead>\n",
       "  <tbody>\n",
       "    <tr>\n",
       "      <th>0</th>\n",
       "      <td>0</td>\n",
       "      <td>可以</td>\n",
       "    </tr>\n",
       "    <tr>\n",
       "      <th>1</th>\n",
       "      <td>1</td>\n",
       "      <td>我   现在   实在   没   那么   多   钱</td>\n",
       "    </tr>\n",
       "    <tr>\n",
       "      <th>2</th>\n",
       "      <td>2</td>\n",
       "      <td>今天   天气   不错</td>\n",
       "    </tr>\n",
       "    <tr>\n",
       "      <th>3</th>\n",
       "      <td>0</td>\n",
       "      <td>行</td>\n",
       "    </tr>\n",
       "    <tr>\n",
       "      <th>4</th>\n",
       "      <td>0</td>\n",
       "      <td>好</td>\n",
       "    </tr>\n",
       "    <tr>\n",
       "      <th>5</th>\n",
       "      <td>0</td>\n",
       "      <td>没 问题   那   我   在   哪 天   之前   需要   还清   呢</td>\n",
       "    </tr>\n",
       "    <tr>\n",
       "      <th>6</th>\n",
       "      <td>0</td>\n",
       "      <td>这样   我   就   比较   可以   接受</td>\n",
       "    </tr>\n",
       "    <tr>\n",
       "      <th>7</th>\n",
       "      <td>0</td>\n",
       "      <td>嗯 嗯   这个   金额   可以 的</td>\n",
       "    </tr>\n",
       "    <tr>\n",
       "      <th>8</th>\n",
       "      <td>0</td>\n",
       "      <td>好 的   这个   金额   我 还 能   接受</td>\n",
       "    </tr>\n",
       "    <tr>\n",
       "      <th>9</th>\n",
       "      <td>0</td>\n",
       "      <td>这个   我   就   可以 还   了</td>\n",
       "    </tr>\n",
       "  </tbody>\n",
       "</table>\n",
       "</div>"
      ],
      "text/plain": [
       "   label                                 split_text\n",
       "0      0                                         可以\n",
       "1      1               我   现在   实在   没   那么   多   钱\n",
       "2      2                               今天   天气   不错\n",
       "3      0                                          行\n",
       "4      0                                          好\n",
       "5      0  没 问题   那   我   在   哪 天   之前   需要   还清   呢\n",
       "6      0                  这样   我   就   比较   可以   接受\n",
       "7      0                       嗯 嗯   这个   金额   可以 的\n",
       "8      0                 好 的   这个   金额   我 还 能   接受\n",
       "9      0                      这个   我   就   可以 还   了"
      ]
     },
     "execution_count": 31,
     "metadata": {},
     "output_type": "execute_result"
    }
   ],
   "source": [
    "# path = '/home/kai/data/jiangning/Chatbot_1/Chatbot1.0/data/'\n",
    "path = '../../data/CutDebt/'\n",
    "data = pd.read_csv(path + 'cleaned_mock_up_data.csv', encoding='utf8')\n",
    "print(data.shape)\n",
    "data.head(10)"
   ]
  },
  {
   "cell_type": "code",
   "execution_count": 32,
   "metadata": {
    "ExecuteTime": {
     "end_time": "2018-06-13T15:47:33.834803Z",
     "start_time": "2018-06-13T15:47:33.812166Z"
    }
   },
   "outputs": [
    {
     "data": {
      "text/plain": [
       "'这个 数额 可以'"
      ]
     },
     "execution_count": 32,
     "metadata": {},
     "output_type": "execute_result"
    }
   ],
   "source": [
    "data.split_text.iloc[89]"
   ]
  },
  {
   "cell_type": "code",
   "execution_count": 33,
   "metadata": {
    "ExecuteTime": {
     "end_time": "2018-06-13T15:47:34.307062Z",
     "start_time": "2018-06-13T15:47:34.272013Z"
    }
   },
   "outputs": [
    {
     "name": "stdout",
     "output_type": "stream",
     "text": [
      "fitting phrase\n",
      "transform phrase\n"
     ]
    },
    {
     "data": {
      "text/plain": [
       "<205x751 sparse matrix of type '<class 'numpy.float64'>'\n",
       "\twith 1866 stored elements in Compressed Sparse Row format>"
      ]
     },
     "execution_count": 33,
     "metadata": {},
     "output_type": "execute_result"
    }
   ],
   "source": [
    "phrase_vectorizer = TfidfVectorizer(ngram_range=(1,3),\n",
    "                                    strip_accents='unicode', \n",
    "                                    max_features=100000, \n",
    "                                    analyzer='word',\n",
    "                                    sublinear_tf=True,\n",
    "                                    token_pattern=r'\\w{1,}')\n",
    "\n",
    "print('fitting phrase')\n",
    "phrase_vectorizer.fit(data.split_text)\n",
    "\n",
    "print('transform phrase')\n",
    "phrase = phrase_vectorizer.transform(data.split_text)\n",
    "\n",
    "phrase"
   ]
  },
  {
   "cell_type": "markdown",
   "metadata": {},
   "source": [
    "# SVC"
   ]
  },
  {
   "cell_type": "code",
   "execution_count": 34,
   "metadata": {
    "ExecuteTime": {
     "end_time": "2018-06-13T15:47:35.152023Z",
     "start_time": "2018-06-13T15:47:35.109826Z"
    }
   },
   "outputs": [
    {
     "name": "stdout",
     "output_type": "stream",
     "text": [
      "1.0\n"
     ]
    }
   ],
   "source": [
    "from sklearn.calibration import CalibratedClassifierCV\n",
    "from sklearn.svm import LinearSVC\n",
    "\n",
    "l_svc = LinearSVC()\n",
    "clf = CalibratedClassifierCV(l_svc) \n",
    "clf.fit(phrase, data.label)\n",
    "print(clf.score(phrase, data.label))"
   ]
  },
  {
   "cell_type": "code",
   "execution_count": 35,
   "metadata": {
    "ExecuteTime": {
     "end_time": "2018-06-13T15:47:35.164779Z",
     "start_time": "2018-06-13T15:47:35.153372Z"
    }
   },
   "outputs": [
    {
     "name": "stdout",
     "output_type": "stream",
     "text": [
      "[0 1 2 0 0 0 0 0 0 0 0 0 0 0 0 0 1 1 1 1 1 1 1 1 1 1 1 1 1 2 2 2 2 2 2 2 2\n",
      " 2 2 2 2 0 1 2 0 0 0 0 0 0 0 0 0 0 0 0 0 1 1 1 1 1 1 1 1 1 1 1 1 1 2 2 2 2\n",
      " 2 2 2 2 2 2 2 2 0 1 2 0 0 0 0 0 0 0 0 0 0 0 0 0 1 1 1 1 1 1 1 1 1 1 1 1 1\n",
      " 2 2 2 2 2 2 2 2 2 2 2 2 0 1 2 0 0 0 0 0 0 0 0 0 0 0 0 0 1 1 1 1 1 1 1 1 1\n",
      " 1 1 1 1 2 2 2 2 2 2 2 2 2 2 2 2 0 1 2 0 0 0 0 0 0 0 0 0 0 0 0 0 1 1 1 1 1\n",
      " 1 1 1 1 1 1 1 1 2 2 2 2 2 2 2 2 2 2 2 2]\n"
     ]
    }
   ],
   "source": [
    "print(clf.predict(phrase))"
   ]
  },
  {
   "cell_type": "markdown",
   "metadata": {
    "ExecuteTime": {
     "end_time": "2018-06-12T19:16:36.540011Z",
     "start_time": "2018-06-12T19:16:36.456425Z"
    }
   },
   "source": [
    "# Logistic"
   ]
  },
  {
   "cell_type": "code",
   "execution_count": 36,
   "metadata": {
    "ExecuteTime": {
     "end_time": "2018-06-13T15:47:35.279008Z",
     "start_time": "2018-06-13T15:47:35.269344Z"
    },
    "collapsed": true
   },
   "outputs": [],
   "source": [
    "from sklearn.linear_model import LogisticRegression"
   ]
  },
  {
   "cell_type": "code",
   "execution_count": 37,
   "metadata": {
    "ExecuteTime": {
     "end_time": "2018-06-13T15:47:35.310080Z",
     "start_time": "2018-06-13T15:47:35.298040Z"
    }
   },
   "outputs": [
    {
     "name": "stdout",
     "output_type": "stream",
     "text": [
      "1.0\n"
     ]
    }
   ],
   "source": [
    "log_r = LogisticRegression()\n",
    "log_r.fit(phrase, data.label)\n",
    "print(log_r.score(phrase, data.label))"
   ]
  },
  {
   "cell_type": "code",
   "execution_count": 38,
   "metadata": {
    "ExecuteTime": {
     "end_time": "2018-06-13T15:47:35.322196Z",
     "start_time": "2018-06-13T15:47:35.311270Z"
    }
   },
   "outputs": [
    {
     "name": "stdout",
     "output_type": "stream",
     "text": [
      "[0 1 2 0 0 0 0 0 0 0 0 0 0 0 0 0 1 1 1 1 1 1 1 1 1 1 1 1 1 2 2 2 2 2 2 2 2\n",
      " 2 2 2 2 0 1 2 0 0 0 0 0 0 0 0 0 0 0 0 0 1 1 1 1 1 1 1 1 1 1 1 1 1 2 2 2 2\n",
      " 2 2 2 2 2 2 2 2 0 1 2 0 0 0 0 0 0 0 0 0 0 0 0 0 1 1 1 1 1 1 1 1 1 1 1 1 1\n",
      " 2 2 2 2 2 2 2 2 2 2 2 2 0 1 2 0 0 0 0 0 0 0 0 0 0 0 0 0 1 1 1 1 1 1 1 1 1\n",
      " 1 1 1 1 2 2 2 2 2 2 2 2 2 2 2 2 0 1 2 0 0 0 0 0 0 0 0 0 0 0 0 0 1 1 1 1 1\n",
      " 1 1 1 1 1 1 1 1 2 2 2 2 2 2 2 2 2 2 2 2]\n"
     ]
    }
   ],
   "source": [
    "print(log_r.predict(phrase))"
   ]
  },
  {
   "cell_type": "markdown",
   "metadata": {},
   "source": [
    "# LightGBM"
   ]
  },
  {
   "cell_type": "code",
   "execution_count": 39,
   "metadata": {
    "ExecuteTime": {
     "end_time": "2018-06-13T15:47:35.418435Z",
     "start_time": "2018-06-13T15:47:35.397421Z"
    },
    "collapsed": true
   },
   "outputs": [],
   "source": [
    "import lightgbm as lgb"
   ]
  },
  {
   "cell_type": "code",
   "execution_count": 40,
   "metadata": {
    "ExecuteTime": {
     "end_time": "2018-06-13T15:47:35.684159Z",
     "start_time": "2018-06-13T15:47:35.660558Z"
    },
    "collapsed": true
   },
   "outputs": [],
   "source": [
    "from sklearn import preprocessing\n",
    "le = preprocessing.LabelEncoder()\n",
    "le.fit(data.label.values)\n",
    "onelabels = le.transform(data.label.values)"
   ]
  },
  {
   "cell_type": "code",
   "execution_count": 41,
   "metadata": {
    "ExecuteTime": {
     "end_time": "2018-06-13T15:47:35.957334Z",
     "start_time": "2018-06-13T15:47:35.934456Z"
    }
   },
   "outputs": [
    {
     "data": {
      "text/plain": [
       "array([0, 1, 2, 0, 0, 0, 0, 0, 0, 0, 0, 0, 0, 0, 0, 0, 1, 1, 1, 1, 1, 1, 1,\n",
       "       1, 1, 1, 1, 1, 1, 2, 2, 2, 2, 2, 2, 2, 2, 2, 2, 2, 2, 0, 1, 2, 0, 0,\n",
       "       0, 0, 0, 0, 0, 0, 0, 0, 0, 0, 0, 1, 1, 1, 1, 1, 1, 1, 1, 1, 1, 1, 1,\n",
       "       1, 2, 2, 2, 2, 2, 2, 2, 2, 2, 2, 2, 2, 0, 1, 2, 0, 0, 0, 0, 0, 0, 0,\n",
       "       0, 0, 0, 0, 0, 0, 1, 1, 1, 1, 1, 1, 1, 1, 1, 1, 1, 1, 1, 2, 2, 2, 2,\n",
       "       2, 2, 2, 2, 2, 2, 2, 2, 0, 1, 2, 0, 0, 0, 0, 0, 0, 0, 0, 0, 0, 0, 0,\n",
       "       0, 1, 1, 1, 1, 1, 1, 1, 1, 1, 1, 1, 1, 1, 2, 2, 2, 2, 2, 2, 2, 2, 2,\n",
       "       2, 2, 2, 0, 1, 2, 0, 0, 0, 0, 0, 0, 0, 0, 0, 0, 0, 0, 0, 1, 1, 1, 1,\n",
       "       1, 1, 1, 1, 1, 1, 1, 1, 1, 2, 2, 2, 2, 2, 2, 2, 2, 2, 2, 2, 2])"
      ]
     },
     "execution_count": 41,
     "metadata": {},
     "output_type": "execute_result"
    }
   ],
   "source": [
    "onelabels"
   ]
  },
  {
   "cell_type": "code",
   "execution_count": 42,
   "metadata": {
    "ExecuteTime": {
     "end_time": "2018-06-13T15:47:36.191879Z",
     "start_time": "2018-06-13T15:47:36.171071Z"
    },
    "collapsed": true
   },
   "outputs": [],
   "source": [
    "from sklearn.preprocessing import MultiLabelBinarizer\n",
    "multicoder = MultiLabelBinarizer()\n",
    "lables = multicoder.fit_transform([data.label.values])"
   ]
  },
  {
   "cell_type": "code",
   "execution_count": 43,
   "metadata": {
    "ExecuteTime": {
     "end_time": "2018-06-13T15:47:36.663190Z",
     "start_time": "2018-06-13T15:47:36.640370Z"
    }
   },
   "outputs": [
    {
     "data": {
      "text/plain": [
       "array([[1, 1, 1]])"
      ]
     },
     "execution_count": 43,
     "metadata": {},
     "output_type": "execute_result"
    }
   ],
   "source": [
    "lables"
   ]
  },
  {
   "cell_type": "code",
   "execution_count": 44,
   "metadata": {
    "ExecuteTime": {
     "end_time": "2018-06-13T15:47:36.982748Z",
     "start_time": "2018-06-13T15:47:36.959890Z"
    }
   },
   "outputs": [
    {
     "data": {
      "text/plain": [
       "array([0, 1, 2, 0, 0, 0, 0, 0, 0, 0, 0, 0, 0, 0, 0, 0, 1, 1, 1, 1, 1, 1, 1,\n",
       "       1, 1, 1, 1, 1, 1, 2, 2, 2, 2, 2, 2, 2, 2, 2, 2, 2, 2, 0, 1, 2, 0, 0,\n",
       "       0, 0, 0, 0, 0, 0, 0, 0, 0, 0, 0, 1, 1, 1, 1, 1, 1, 1, 1, 1, 1, 1, 1,\n",
       "       1, 2, 2, 2, 2, 2, 2, 2, 2, 2, 2, 2, 2, 0, 1, 2, 0, 0, 0, 0, 0, 0, 0,\n",
       "       0, 0, 0, 0, 0, 0, 1, 1, 1, 1, 1, 1, 1, 1, 1, 1, 1, 1, 1, 2, 2, 2, 2,\n",
       "       2, 2, 2, 2, 2, 2, 2, 2, 0, 1, 2, 0, 0, 0, 0, 0, 0, 0, 0, 0, 0, 0, 0,\n",
       "       0, 1, 1, 1, 1, 1, 1, 1, 1, 1, 1, 1, 1, 1, 2, 2, 2, 2, 2, 2, 2, 2, 2,\n",
       "       2, 2, 2, 0, 1, 2, 0, 0, 0, 0, 0, 0, 0, 0, 0, 0, 0, 0, 0, 1, 1, 1, 1,\n",
       "       1, 1, 1, 1, 1, 1, 1, 1, 1, 2, 2, 2, 2, 2, 2, 2, 2, 2, 2, 2, 2])"
      ]
     },
     "execution_count": 44,
     "metadata": {},
     "output_type": "execute_result"
    }
   ],
   "source": [
    "data.label.values"
   ]
  },
  {
   "cell_type": "code",
   "execution_count": 45,
   "metadata": {
    "ExecuteTime": {
     "end_time": "2018-06-13T15:47:37.247018Z",
     "start_time": "2018-06-13T15:47:37.159659Z"
    }
   },
   "outputs": [
    {
     "name": "stdout",
     "output_type": "stream",
     "text": [
      "Training until validation scores don't improve for 200 rounds.\n",
      "[5]\tvalid_0's multi_error: 0.302439\n",
      "[10]\tvalid_0's multi_error: 0.287805\n",
      "[15]\tvalid_0's multi_error: 0.287805\n",
      "[20]\tvalid_0's multi_error: 0.287805\n",
      "[25]\tvalid_0's multi_error: 0.263415\n",
      "[30]\tvalid_0's multi_error: 0.263415\n",
      "[35]\tvalid_0's multi_error: 0.263415\n",
      "[40]\tvalid_0's multi_error: 0.263415\n",
      "[45]\tvalid_0's multi_error: 0.263415\n",
      "[50]\tvalid_0's multi_error: 0.263415\n",
      "[55]\tvalid_0's multi_error: 0.263415\n",
      "[60]\tvalid_0's multi_error: 0.263415\n",
      "[65]\tvalid_0's multi_error: 0.263415\n",
      "[70]\tvalid_0's multi_error: 0.263415\n",
      "[75]\tvalid_0's multi_error: 0.263415\n",
      "[80]\tvalid_0's multi_error: 0.263415\n",
      "[85]\tvalid_0's multi_error: 0.263415\n",
      "[90]\tvalid_0's multi_error: 0.263415\n",
      "[95]\tvalid_0's multi_error: 0.263415\n",
      "[100]\tvalid_0's multi_error: 0.263415\n",
      "[105]\tvalid_0's multi_error: 0.263415\n",
      "[110]\tvalid_0's multi_error: 0.263415\n",
      "[115]\tvalid_0's multi_error: 0.263415\n",
      "[120]\tvalid_0's multi_error: 0.263415\n",
      "[125]\tvalid_0's multi_error: 0.263415\n",
      "[130]\tvalid_0's multi_error: 0.263415\n",
      "[135]\tvalid_0's multi_error: 0.263415\n",
      "[140]\tvalid_0's multi_error: 0.263415\n",
      "[145]\tvalid_0's multi_error: 0.263415\n",
      "[150]\tvalid_0's multi_error: 0.24878\n",
      "[155]\tvalid_0's multi_error: 0.24878\n",
      "[160]\tvalid_0's multi_error: 0.24878\n",
      "[165]\tvalid_0's multi_error: 0.24878\n",
      "[170]\tvalid_0's multi_error: 0.24878\n",
      "[175]\tvalid_0's multi_error: 0.24878\n",
      "[180]\tvalid_0's multi_error: 0.24878\n",
      "[185]\tvalid_0's multi_error: 0.24878\n",
      "[190]\tvalid_0's multi_error: 0.24878\n",
      "[195]\tvalid_0's multi_error: 0.24878\n",
      "[200]\tvalid_0's multi_error: 0.24878\n",
      "[205]\tvalid_0's multi_error: 0.24878\n",
      "[210]\tvalid_0's multi_error: 0.24878\n",
      "[215]\tvalid_0's multi_error: 0.24878\n",
      "[220]\tvalid_0's multi_error: 0.24878\n",
      "[225]\tvalid_0's multi_error: 0.24878\n",
      "[230]\tvalid_0's multi_error: 0.24878\n",
      "[235]\tvalid_0's multi_error: 0.24878\n",
      "[240]\tvalid_0's multi_error: 0.24878\n",
      "[245]\tvalid_0's multi_error: 0.24878\n",
      "[250]\tvalid_0's multi_error: 0.24878\n",
      "[255]\tvalid_0's multi_error: 0.24878\n",
      "[260]\tvalid_0's multi_error: 0.24878\n",
      "[265]\tvalid_0's multi_error: 0.24878\n",
      "[270]\tvalid_0's multi_error: 0.24878\n",
      "[275]\tvalid_0's multi_error: 0.24878\n",
      "[280]\tvalid_0's multi_error: 0.24878\n",
      "[285]\tvalid_0's multi_error: 0.24878\n",
      "[290]\tvalid_0's multi_error: 0.24878\n",
      "[295]\tvalid_0's multi_error: 0.24878\n",
      "[300]\tvalid_0's multi_error: 0.24878\n",
      "[305]\tvalid_0's multi_error: 0.24878\n",
      "[310]\tvalid_0's multi_error: 0.24878\n",
      "[315]\tvalid_0's multi_error: 0.24878\n",
      "[320]\tvalid_0's multi_error: 0.24878\n",
      "[325]\tvalid_0's multi_error: 0.24878\n",
      "[330]\tvalid_0's multi_error: 0.24878\n",
      "[335]\tvalid_0's multi_error: 0.24878\n",
      "[340]\tvalid_0's multi_error: 0.24878\n",
      "[345]\tvalid_0's multi_error: 0.24878\n",
      "Early stopping, best iteration is:\n",
      "[147]\tvalid_0's multi_error: 0.24878\n"
     ]
    },
    {
     "name": "stderr",
     "output_type": "stream",
     "text": [
      "/home/kai/anaconda3/lib/python3.6/site-packages/lightgbm/engine.py:99: UserWarning: Found `num_iterations` in params. Will use it instead of argument\n",
      "  warnings.warn(\"Found `{}` in params. Will use it instead of argument\".format(alias))\n",
      "/home/kai/anaconda3/lib/python3.6/site-packages/lightgbm/engine.py:104: UserWarning: Found `early_stopping_round` in params. Will use it instead of argument\n",
      "  warnings.warn(\"Found `{}` in params. Will use it instead of argument\".format(alias))\n"
     ]
    }
   ],
   "source": [
    "params = {\n",
    "    'learning_rate': 0.2,\n",
    "    'num_iterations':1000,\n",
    "    'application': 'multiclassova',\n",
    "    'num_class': 3,\n",
    "    'num_leaves': 31,\n",
    "    'verbosity': -1,\n",
    "    'metric': 'multi_error',\n",
    "    'data_random_seed': 2,\n",
    "#     'bagging_fraction': 0.8,\n",
    "#     'feature_fraction': 0.6,\n",
    "    'nthread': 4,\n",
    "    'lambda_l1': 1,\n",
    "    'lambda_l2': 1,\n",
    "    'early_stopping_round':200\n",
    "} \n",
    "\n",
    "# lgbm_train = lgb.Dataset(phrase, data.label)\n",
    "lgbm_train = lgb.Dataset(phrase, onelabels)\n",
    "lgbm_val = lgb.Dataset(phrase, onelabels)\n",
    "lgbm_model = lgb.train(params,lgbm_train,valid_sets=lgbm_val, verbose_eval=5)"
   ]
  },
  {
   "cell_type": "code",
   "execution_count": 46,
   "metadata": {
    "ExecuteTime": {
     "end_time": "2018-06-13T15:47:37.684744Z",
     "start_time": "2018-06-13T15:47:37.650735Z"
    }
   },
   "outputs": [
    {
     "name": "stdout",
     "output_type": "stream",
     "text": [
      "[[ 0.57605964  0.47917986  0.0329834 ]\n",
      " [ 0.26421639  0.85889439  0.02948281]\n",
      " [ 0.38489577  0.31653818  0.25838868]\n",
      " [ 0.38489577  0.31653818  0.25838868]\n",
      " [ 0.38489577  0.31653818  0.25838868]\n",
      " [ 0.50676564  0.2834531   0.25838868]\n",
      " [ 0.76541817  0.21811974  0.02645144]\n",
      " [ 0.95008337  0.10054752  0.02061336]\n",
      " [ 0.9677108   0.0075527   0.07155331]\n",
      " [ 0.93266309  0.02580571  0.02242755]\n",
      " [ 0.97926791  0.00870277  0.0537524 ]\n",
      " [ 0.38489577  0.31653818  0.25838868]\n",
      " [ 0.38489577  0.31653818  0.25838868]\n",
      " [ 0.97926791  0.00870277  0.0537524 ]\n",
      " [ 0.95831289  0.25232372  0.02512626]\n",
      " [ 0.38489577  0.31653818  0.25838868]\n",
      " [ 0.38489577  0.31653818  0.25838868]\n",
      " [ 0.38489577  0.31653818  0.25838868]\n",
      " [ 0.00697782  0.98567562  0.02084244]\n",
      " [ 0.12941547  0.88427192  0.03958269]\n",
      " [ 0.38489577  0.31653818  0.25838868]\n",
      " [ 0.38489577  0.31653818  0.25838868]\n",
      " [ 0.33609976  0.74798382  0.0329834 ]\n",
      " [ 0.36121689  0.74798382  0.0329834 ]\n",
      " [ 0.25357766  0.74798382  0.0329834 ]\n",
      " [ 0.00727371  0.98955091  0.02084244]\n",
      " [ 0.12752332  0.97428482  0.03673509]\n",
      " [ 0.007227    0.98955091  0.02084244]\n",
      " [ 0.03758874  0.33281495  0.59978426]\n",
      " [ 0.38489577  0.31653818  0.25838868]\n",
      " [ 0.03862204  0.15516998  0.82237115]\n",
      " [ 0.03757217  0.10000039  0.90068352]\n",
      " [ 0.38489577  0.31653818  0.25838868]\n",
      " [ 0.08760542  0.04171548  0.80478183]\n",
      " [ 0.03757217  0.10000039  0.90068352]\n",
      " [ 0.03757217  0.10000039  0.90068352]\n",
      " [ 0.03758874  0.33281495  0.59978426]\n",
      " [ 0.03757217  0.10000039  0.90068352]\n",
      " [ 0.08760542  0.04171548  0.80478183]\n",
      " [ 0.08760542  0.04171548  0.80478183]\n",
      " [ 0.05324206  0.14564907  0.27353904]\n",
      " [ 0.38489577  0.31653818  0.25838868]\n",
      " [ 0.05382384  0.40706569  0.59978426]\n",
      " [ 0.38489577  0.31653818  0.25838868]\n",
      " [ 0.38489577  0.31653818  0.25838868]\n",
      " [ 0.38489577  0.31653818  0.25838868]\n",
      " [ 0.78311037  0.04171548  0.21724634]\n",
      " [ 0.76161457  0.29992355  0.01645068]\n",
      " [ 0.97527843  0.04358991  0.02061336]\n",
      " [ 0.98525698  0.02011175  0.00850891]\n",
      " [ 0.7017297   0.13555275  0.08620093]\n",
      " [ 0.90114995  0.06103562  0.06119922]\n",
      " [ 0.38489577  0.31653818  0.25838868]\n",
      " [ 0.38489577  0.31653818  0.25838868]\n",
      " [ 0.9518669   0.04646386  0.06656514]\n",
      " [ 0.96241881  0.03572541  0.06656514]\n",
      " [ 0.38489577  0.31653818  0.25838868]\n",
      " [ 0.38489577  0.31653818  0.25838868]\n",
      " [ 0.38489577  0.31653818  0.25838868]\n",
      " [ 0.00748014  0.93238989  0.07264944]\n",
      " [ 0.03115522  0.95450007  0.02948281]\n",
      " [ 0.38489577  0.31653818  0.25838868]\n",
      " [ 0.57605964  0.47917986  0.0329834 ]\n",
      " [ 0.38489577  0.31653818  0.25838868]\n",
      " [ 0.03757217  0.5372588   0.25838868]\n",
      " [ 0.33609976  0.74798382  0.0329834 ]\n",
      " [ 0.00748014  0.93238989  0.07264944]\n",
      " [ 0.38489577  0.31653818  0.25838868]\n",
      " [ 0.00693299  0.98796515  0.02084244]\n",
      " [ 0.03610448  0.47968383  0.47886197]\n",
      " [ 0.38489577  0.31653818  0.25838868]\n",
      " [ 0.03862204  0.15516998  0.82237115]\n",
      " [ 0.03757217  0.10000039  0.90068352]\n",
      " [ 0.38489577  0.31653818  0.25838868]\n",
      " [ 0.0843192   0.03636284  0.80478183]\n",
      " [ 0.03757217  0.10000039  0.90068352]\n",
      " [ 0.03757217  0.10000039  0.90068352]\n",
      " [ 0.03862204  0.15516998  0.82237115]\n",
      " [ 0.38489577  0.31653818  0.25838868]\n",
      " [ 0.38489577  0.31653818  0.25838868]\n",
      " [ 0.03758874  0.33281495  0.59978426]\n",
      " [ 0.03862204  0.15516998  0.82237115]\n",
      " [ 0.57605964  0.47917986  0.0329834 ]\n",
      " [ 0.00727371  0.98567562  0.02084244]\n",
      " [ 0.38489577  0.31653818  0.25838868]\n",
      " [ 0.38489577  0.31653818  0.25838868]\n",
      " [ 0.38489577  0.31653818  0.25838868]\n",
      " [ 0.78311037  0.04171548  0.21724634]\n",
      " [ 0.76161457  0.29992355  0.01645068]\n",
      " [ 0.97527843  0.04358991  0.02061336]\n",
      " [ 0.98525698  0.02011175  0.00850891]\n",
      " [ 0.7017297   0.13555275  0.08620093]\n",
      " [ 0.90481397  0.03397741  0.07778137]\n",
      " [ 0.38489577  0.31653818  0.25838868]\n",
      " [ 0.38489577  0.31653818  0.25838868]\n",
      " [ 0.9518669   0.04646386  0.06656514]\n",
      " [ 0.44761095  0.26042932  0.25838868]\n",
      " [ 0.38489577  0.31653818  0.25838868]\n",
      " [ 0.38489577  0.31653818  0.25838868]\n",
      " [ 0.38489577  0.31653818  0.25838868]\n",
      " [ 0.00748014  0.93238989  0.07264944]\n",
      " [ 0.03115522  0.95450007  0.02948281]\n",
      " [ 0.38489577  0.31653818  0.25838868]\n",
      " [ 0.57605964  0.47917986  0.0329834 ]\n",
      " [ 0.38489577  0.31653818  0.25838868]\n",
      " [ 0.03757217  0.5372588   0.25838868]\n",
      " [ 0.33609976  0.74798382  0.0329834 ]\n",
      " [ 0.00748014  0.93238989  0.07264944]\n",
      " [ 0.38489577  0.31653818  0.25838868]\n",
      " [ 0.00693299  0.98796515  0.02084244]\n",
      " [ 0.03610448  0.47968383  0.47886197]\n",
      " [ 0.38489577  0.31653818  0.25838868]\n",
      " [ 0.03862204  0.15516998  0.82237115]\n",
      " [ 0.03757217  0.10000039  0.90068352]\n",
      " [ 0.38489577  0.31653818  0.25838868]\n",
      " [ 0.0843192   0.03636284  0.80478183]\n",
      " [ 0.03757217  0.10000039  0.90068352]\n",
      " [ 0.03757217  0.10000039  0.90068352]\n",
      " [ 0.03862204  0.15516998  0.82237115]\n",
      " [ 0.03757217  0.10000039  0.90068352]\n",
      " [ 0.38489577  0.31653818  0.25838868]\n",
      " [ 0.03610448  0.33281495  0.59978426]\n",
      " [ 0.03862204  0.15516998  0.82237115]\n",
      " [ 0.57605964  0.47917986  0.0329834 ]\n",
      " [ 0.00727371  0.98567562  0.02084244]\n",
      " [ 0.38489577  0.31653818  0.25838868]\n",
      " [ 0.38489577  0.31653818  0.25838868]\n",
      " [ 0.38489577  0.31653818  0.25838868]\n",
      " [ 0.78311037  0.04171548  0.21724634]\n",
      " [ 0.84357002  0.1007202   0.04279945]\n",
      " [ 0.57605964  0.47917986  0.0329834 ]\n",
      " [ 0.98525698  0.02011175  0.00850891]\n",
      " [ 0.7017297   0.13555275  0.08620093]\n",
      " [ 0.90481397  0.03397741  0.07778137]\n",
      " [ 0.38489577  0.31653818  0.25838868]\n",
      " [ 0.38489577  0.31653818  0.25838868]\n",
      " [ 0.38489577  0.31653818  0.25838868]\n",
      " [ 0.44761095  0.26042932  0.25838868]\n",
      " [ 0.38489577  0.31653818  0.25838868]\n",
      " [ 0.38489577  0.31653818  0.25838868]\n",
      " [ 0.38489577  0.31653818  0.25838868]\n",
      " [ 0.00693299  0.98796515  0.02084244]\n",
      " [ 0.03115522  0.95450007  0.02948281]\n",
      " [ 0.38489577  0.31653818  0.25838868]\n",
      " [ 0.7604342   0.29992355  0.01645068]\n",
      " [ 0.38489577  0.31653818  0.25838868]\n",
      " [ 0.03757217  0.10000039  0.90068352]\n",
      " [ 0.35807292  0.7171195   0.0329834 ]\n",
      " [ 0.05349427  0.39298369  0.59978426]\n",
      " [ 0.12752332  0.97428482  0.03673509]\n",
      " [ 0.00697782  0.98452696  0.02084244]\n",
      " [ 0.03610448  0.47968383  0.47886197]\n",
      " [ 0.38489577  0.31653818  0.25838868]\n",
      " [ 0.03862204  0.15516998  0.82237115]\n",
      " [ 0.03757217  0.10000039  0.90068352]\n",
      " [ 0.38489577  0.31653818  0.25838868]\n",
      " [ 0.0843192   0.03636284  0.80478183]\n",
      " [ 0.03757217  0.10000039  0.90068352]\n",
      " [ 0.03757217  0.10000039  0.90068352]\n",
      " [ 0.03862204  0.15516998  0.82237115]\n",
      " [ 0.03757217  0.10000039  0.90068352]\n",
      " [ 0.38489577  0.31653818  0.25838868]\n",
      " [ 0.03758874  0.33281495  0.59978426]\n",
      " [ 0.05349427  0.39298369  0.59978426]\n",
      " [ 0.38489577  0.31653818  0.25838868]\n",
      " [ 0.00727371  0.98567562  0.02084244]\n",
      " [ 0.38489577  0.31653818  0.25838868]\n",
      " [ 0.38489577  0.31653818  0.25838868]\n",
      " [ 0.38489577  0.31653818  0.25838868]\n",
      " [ 0.78311037  0.04171548  0.21724634]\n",
      " [ 0.78311037  0.05138948  0.21724634]\n",
      " [ 0.96241881  0.03572541  0.06656514]\n",
      " [ 0.98525698  0.02011175  0.00850891]\n",
      " [ 0.84357002  0.1007202   0.04279945]\n",
      " [ 0.90114995  0.06103562  0.06119922]\n",
      " [ 0.38489577  0.31653818  0.25838868]\n",
      " [ 0.38489577  0.31653818  0.25838868]\n",
      " [ 0.9518669   0.04646386  0.06656514]\n",
      " [ 0.96241881  0.03572541  0.06656514]\n",
      " [ 0.38489577  0.31653818  0.25838868]\n",
      " [ 0.38489577  0.31653818  0.25838868]\n",
      " [ 0.38489577  0.31653818  0.25838868]\n",
      " [ 0.00748014  0.93238989  0.07264944]\n",
      " [ 0.03115522  0.95450007  0.02948281]\n",
      " [ 0.38489577  0.31653818  0.25838868]\n",
      " [ 0.57605964  0.47917986  0.0329834 ]\n",
      " [ 0.38489577  0.31653818  0.25838868]\n",
      " [ 0.03757217  0.5372588   0.25838868]\n",
      " [ 0.33609976  0.74798382  0.0329834 ]\n",
      " [ 0.00748014  0.93238989  0.07264944]\n",
      " [ 0.12752332  0.97428482  0.03673509]\n",
      " [ 0.00693299  0.98796515  0.02084244]\n",
      " [ 0.03862204  0.15516998  0.82237115]\n",
      " [ 0.38489577  0.31653818  0.25838868]\n",
      " [ 0.03862204  0.15516998  0.82237115]\n",
      " [ 0.03757217  0.10000039  0.90068352]\n",
      " [ 0.38489577  0.31653818  0.25838868]\n",
      " [ 0.0843192   0.03636284  0.80478183]\n",
      " [ 0.03757217  0.10000039  0.90068352]\n",
      " [ 0.03757217  0.10000039  0.90068352]\n",
      " [ 0.03862204  0.15516998  0.82237115]\n",
      " [ 0.03757217  0.10000039  0.90068352]\n",
      " [ 0.38489577  0.31653818  0.25838868]\n",
      " [ 0.03610448  0.33281495  0.59978426]\n",
      " [ 0.03862204  0.15516998  0.82237115]]\n"
     ]
    }
   ],
   "source": [
    "print(lgbm_model.predict(phrase))"
   ]
  },
  {
   "cell_type": "markdown",
   "metadata": {
    "ExecuteTime": {
     "end_time": "2018-06-12T19:18:19.441160Z",
     "start_time": "2018-06-12T19:18:19.429166Z"
    }
   },
   "source": [
    "# Save"
   ]
  },
  {
   "cell_type": "code",
   "execution_count": 47,
   "metadata": {
    "ExecuteTime": {
     "end_time": "2018-06-13T15:47:41.318650Z",
     "start_time": "2018-06-13T15:47:41.284313Z"
    },
    "collapsed": true
   },
   "outputs": [],
   "source": [
    "import pickle\n",
    "\n",
    "# save tfidf\n",
    "pickle.dump(phrase_vectorizer, open(\"../../savedModel/CutDebt/tfidf.pickle\", \"wb\"))\n",
    "# pickle.dump(train_comment_features, open(\"train_comment_features.pickle\", \"wb\"))\n",
    "# pickle.dump(test_comment_features, open(\"test_comment_features.pickle\", \"wb\"))\n",
    "\n",
    "# save linear svc\n",
    "pickle.dump(clf, open(\"../../savedModel/CutDebt/LinearSVC.pickle\", \"wb\"))\n",
    "# save logistic\n",
    "pickle.dump(log_r, open(\"../../savedModel/CutDebt/Logistic.pickle\", \"wb\"))\n",
    "# save lightGBM\n",
    "pickle.dump(lgbm_model, open(\"../../savedModel/CutDebt/Lgbm.pickle\", \"wb\"))"
   ]
  },
  {
   "cell_type": "code",
   "execution_count": 48,
   "metadata": {
    "ExecuteTime": {
     "end_time": "2018-06-13T15:47:41.744480Z",
     "start_time": "2018-06-13T15:47:41.723973Z"
    },
    "collapsed": true
   },
   "outputs": [],
   "source": [
    "test = phrase_vectorizer.transform(['真的 没 那么 多'])\n",
    "# test = phrase_vectorizer.transform(['我 在 洗澡'])\n"
   ]
  },
  {
   "cell_type": "code",
   "execution_count": 49,
   "metadata": {
    "ExecuteTime": {
     "end_time": "2018-06-13T15:47:42.651497Z",
     "start_time": "2018-06-13T15:47:42.628130Z"
    }
   },
   "outputs": [
    {
     "data": {
      "text/plain": [
       "array([[ 0.11653391,  0.83094453,  0.05252156]])"
      ]
     },
     "execution_count": 49,
     "metadata": {},
     "output_type": "execute_result"
    }
   ],
   "source": [
    "clf.predict_proba(test) # linear svc"
   ]
  },
  {
   "cell_type": "code",
   "execution_count": 50,
   "metadata": {
    "ExecuteTime": {
     "end_time": "2018-06-13T15:47:43.080598Z",
     "start_time": "2018-06-13T15:47:43.057148Z"
    }
   },
   "outputs": [
    {
     "data": {
      "text/plain": [
       "array([[ 0.26312495,  0.5375345 ,  0.19934055]])"
      ]
     },
     "execution_count": 50,
     "metadata": {},
     "output_type": "execute_result"
    }
   ],
   "source": [
    "log_r.predict_proba(test) # logistic"
   ]
  },
  {
   "cell_type": "code",
   "execution_count": 51,
   "metadata": {
    "ExecuteTime": {
     "end_time": "2018-06-13T15:47:43.525889Z",
     "start_time": "2018-06-13T15:47:43.503185Z"
    }
   },
   "outputs": [
    {
     "data": {
      "text/plain": [
       "array([[ 0.38489577,  0.31653818,  0.25838868]])"
      ]
     },
     "execution_count": 51,
     "metadata": {},
     "output_type": "execute_result"
    }
   ],
   "source": [
    "lgbm_model.predict(test) # light gbm"
   ]
  },
  {
   "cell_type": "markdown",
   "metadata": {},
   "source": [
    "# Labeling"
   ]
  },
  {
   "cell_type": "code",
   "execution_count": 52,
   "metadata": {
    "ExecuteTime": {
     "end_time": "2018-06-13T15:47:49.172078Z",
     "start_time": "2018-06-13T15:47:49.140434Z"
    }
   },
   "outputs": [
    {
     "name": "stdout",
     "output_type": "stream",
     "text": [
      "label= 1\n",
      "prob= 0.830944525846\n"
     ]
    }
   ],
   "source": [
    "# basic logic: find the max probability of 3 models, if it is larger than threshold, return the corresponding label, otherwise, return 2 (others).\n",
    "result = np.vstack((clf.predict_proba(test),log_r.predict_proba(test),lgbm_model.predict(test)))\n",
    "pos = np.where(result == np.max(result))\n",
    "\n",
    "threshold = 0.7\n",
    "if np.max(result)<threshold:\n",
    "    label = 2\n",
    "else:\n",
    "    label = pos[1]\n",
    "    label = label[0]\n",
    "    \n",
    "print('label=',label)\n",
    "print('prob=',np.max(result))"
   ]
  },
  {
   "cell_type": "markdown",
   "metadata": {
    "collapsed": true
   },
   "source": [
    "# Save the whole thing"
   ]
  },
  {
   "cell_type": "code",
   "execution_count": 53,
   "metadata": {
    "ExecuteTime": {
     "end_time": "2018-06-13T15:47:50.788586Z",
     "start_time": "2018-06-13T15:47:50.761437Z"
    },
    "collapsed": true
   },
   "outputs": [],
   "source": [
    "# import jieba\n",
    "# import numpy as np\n",
    "\n",
    "# class CutDebt:\n",
    "    \n",
    "#     def __init__(self, **model):\n",
    "#         \"\"\"\n",
    "#         suggested parameters:\n",
    "#         svc, logistic, lightgbm, jieba_path,tfidf\n",
    "#         \"\"\"\n",
    "#         self._load_model(**model)\n",
    "        \n",
    "#     def _load_model(self,**model):\n",
    "#         self.svc = model.get('svc')\n",
    "#         self.logistic = model.get('logistic')\n",
    "#         self.lightgbm = model.get('lightgbm')\n",
    "#         self.tfidf = model.get('tfidf')\n",
    "#         # load jieba\n",
    "#         jieba_path = model.get('jieba_path')\n",
    "#         if jieba_path is not None:\n",
    "#             jieba.load_userdict(jieba_path)\n",
    "        \n",
    "        \n",
    "#     def classify(self, sentence):\n",
    "#         sentence = jieba.cut(sentence, cut_all = False)\n",
    "#         sentence = ' '.join(sentence)\n",
    "#         matrix = self.tfidf.transform([sentence])\n",
    "#         result = np.vstack((self.svc.predict_proba(matrix),\n",
    "#                             self.logistic.predict_proba(matrix),\n",
    "#                             self.lightgbm.predict(matrix)))\n",
    "#         max_pred = np.max(result, axis=0)\n",
    "#         max_arg = np.argmax(max_pred)\n",
    "#         threshold = 0.6\n",
    "#         if np.max(max_pred<threshold):\n",
    "#             label = 2\n",
    "#         else:\n",
    "#             label = max_arg\n",
    "#         return (label, np.max(max_pred))\n",
    "     \n",
    "        "
   ]
  },
  {
   "cell_type": "code",
   "execution_count": 54,
   "metadata": {
    "ExecuteTime": {
     "end_time": "2018-06-13T15:47:52.388321Z",
     "start_time": "2018-06-13T15:47:52.365687Z"
    }
   },
   "outputs": [
    {
     "name": "stdout",
     "output_type": "stream",
     "text": [
      "The autoreload extension is already loaded. To reload it, use:\n",
      "  %reload_ext autoreload\n"
     ]
    }
   ],
   "source": [
    "%load_ext autoreload\n",
    "%autoreload 2"
   ]
  },
  {
   "cell_type": "code",
   "execution_count": 58,
   "metadata": {
    "ExecuteTime": {
     "end_time": "2018-06-13T15:48:55.795565Z",
     "start_time": "2018-06-13T15:48:55.763680Z"
    }
   },
   "outputs": [],
   "source": [
    "from CutDebt_py import CutDebt\n",
    "cutd = CutDebt(svc=clf, logistic=log_r, lightgbm=lgbm_model, tfidf=phrase_vectorizer, jieba_path='../WordCut/userdict.txt')\n",
    "\n",
    "pickle.dump(cutd, open(\"../../savedModel/CutDebt/CutDebt.pickle\", \"wb\"))"
   ]
  },
  {
   "cell_type": "code",
   "execution_count": null,
   "metadata": {
    "collapsed": true
   },
   "outputs": [],
   "source": []
  }
 ],
 "metadata": {
  "kernelspec": {
   "display_name": "Python 3",
   "language": "python",
   "name": "python3"
  },
  "language_info": {
   "codemirror_mode": {
    "name": "ipython",
    "version": 3
   },
   "file_extension": ".py",
   "mimetype": "text/x-python",
   "name": "python",
   "nbconvert_exporter": "python",
   "pygments_lexer": "ipython3",
   "version": "3.6.3"
  },
  "varInspector": {
   "cols": {
    "lenName": 16,
    "lenType": 16,
    "lenVar": 40
   },
   "kernels_config": {
    "python": {
     "delete_cmd_postfix": "",
     "delete_cmd_prefix": "del ",
     "library": "var_list.py",
     "varRefreshCmd": "print(var_dic_list())"
    },
    "r": {
     "delete_cmd_postfix": ") ",
     "delete_cmd_prefix": "rm(",
     "library": "var_list.r",
     "varRefreshCmd": "cat(var_dic_list()) "
    }
   },
   "types_to_exclude": [
    "module",
    "function",
    "builtin_function_or_method",
    "instance",
    "_Feature"
   ],
   "window_display": false
  }
 },
 "nbformat": 4,
 "nbformat_minor": 2
}
