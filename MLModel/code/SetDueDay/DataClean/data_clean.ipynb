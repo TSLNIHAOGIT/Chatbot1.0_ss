{
 "cells": [
  {
   "cell_type": "code",
   "execution_count": 1,
   "metadata": {
    "ExecuteTime": {
     "end_time": "2018-06-11T18:51:59.567116Z",
     "start_time": "2018-06-11T18:51:59.401749Z"
    },
    "collapsed": true
   },
   "outputs": [],
   "source": [
    "#encoding=utf-8\n",
    "import pandas as pd\n",
    "import numpy as np\n",
    "import re\n",
    "import string"
   ]
  },
  {
   "cell_type": "code",
   "execution_count": 2,
   "metadata": {
    "ExecuteTime": {
     "end_time": "2018-06-11T18:52:41.361297Z",
     "start_time": "2018-06-11T18:52:41.333453Z"
    }
   },
   "outputs": [
    {
     "data": {
      "text/html": [
       "<div>\n",
       "<style>\n",
       "    .dataframe thead tr:only-child th {\n",
       "        text-align: right;\n",
       "    }\n",
       "\n",
       "    .dataframe thead th {\n",
       "        text-align: left;\n",
       "    }\n",
       "\n",
       "    .dataframe tbody tr th {\n",
       "        vertical-align: top;\n",
       "    }\n",
       "</style>\n",
       "<table border=\"1\" class=\"dataframe\">\n",
       "  <thead>\n",
       "    <tr style=\"text-align: right;\">\n",
       "      <th></th>\n",
       "      <th>label</th>\n",
       "      <th>split_text</th>\n",
       "    </tr>\n",
       "  </thead>\n",
       "  <tbody>\n",
       "    <tr>\n",
       "      <th>0</th>\n",
       "      <td>0</td>\n",
       "      <td>可以</td>\n",
       "    </tr>\n",
       "    <tr>\n",
       "      <th>1</th>\n",
       "      <td>1</td>\n",
       "      <td>这 几乎 不可能</td>\n",
       "    </tr>\n",
       "    <tr>\n",
       "      <th>2</th>\n",
       "      <td>2</td>\n",
       "      <td>不好 意思 我 没听清</td>\n",
       "    </tr>\n",
       "  </tbody>\n",
       "</table>\n",
       "</div>"
      ],
      "text/plain": [
       "   label   split_text\n",
       "0      0           可以\n",
       "1      1     这 几乎 不可能\n",
       "2      2  不好 意思 我 没听清"
      ]
     },
     "execution_count": 2,
     "metadata": {},
     "output_type": "execute_result"
    }
   ],
   "source": [
    "# path = '/home/kai/data/jiangning/Chatbot_1/Chatbot1.0/data/'\n",
    "path = '../../../data/SetDueDay/'\n",
    "data = pd.read_csv(path + 'mock_up_data.csv', encoding='utf8')\n",
    "\n",
    "# data = data.drop(['id','text','备注'], axis = 1)\n",
    "data = data.dropna()\n",
    "data.head(10)"
   ]
  },
  {
   "cell_type": "markdown",
   "metadata": {
    "ExecuteTime": {
     "end_time": "2018-06-11T21:12:09.858687Z",
     "start_time": "2018-06-11T21:12:09.855817Z"
    }
   },
   "source": [
    "# use goslate to get more data"
   ]
  },
  {
   "cell_type": "code",
   "execution_count": 8,
   "metadata": {
    "ExecuteTime": {
     "end_time": "2018-06-11T21:12:16.967350Z",
     "start_time": "2018-06-11T21:12:16.644597Z"
    },
    "collapsed": true
   },
   "outputs": [],
   "source": [
    "from textblob import TextBlob\n",
    "from textblob.translate import NotTranslated\n",
    "import pandas as pd\n",
    "import numpy as np\n",
    "from multiprocessing import Pool\n",
    "from itertools import repeat"
   ]
  },
  {
   "cell_type": "code",
   "execution_count": 9,
   "metadata": {
    "ExecuteTime": {
     "end_time": "2018-06-11T21:12:23.188841Z",
     "start_time": "2018-06-11T21:12:23.157457Z"
    },
    "collapsed": true
   },
   "outputs": [],
   "source": [
    "def translate(comment, from_lang, to_lang):\n",
    "        if hasattr(comment, \"decode\"):\n",
    "            comment = comment.decode(\"utf-8\")\n",
    "\n",
    "        text = TextBlob(comment)\n",
    "        try:\n",
    "            text = text.translate(to=to_lang)\n",
    "            text = text.translate(to=from_lang)\n",
    "        except NotTranslated:\n",
    "            pass\n",
    "\n",
    "        return str(text)\n",
    "\n",
    "def translate_csv(df,col,from_lang,to_lang,num_pol=10):\n",
    "    \"\"\"\n",
    "        https://developers.google.com/translate/v2/using_rest#language-params\n",
    "    \"\"\"\n",
    "\n",
    "    df = df.copy()\n",
    "\n",
    "    if num_pol >= 1000:\n",
    "        num_pol=1000\n",
    "    comment_pool = df[col].values\n",
    "    p = Pool(num_pol)\n",
    "    new_col_name = col + '_' + to_lang\n",
    "    df[new_col_name] = p.starmap(translate, zip(comment_pool, repeat(from_lang),repeat(to_lang)))\n",
    "    df = df.drop([col], axis = 1)\n",
    "    df = df.rename(index=str, columns={new_col_name:col})\n",
    "    return df"
   ]
  },
  {
   "cell_type": "code",
   "execution_count": 10,
   "metadata": {
    "ExecuteTime": {
     "end_time": "2018-06-11T21:12:35.796305Z",
     "start_time": "2018-06-11T21:12:30.001756Z"
    }
   },
   "outputs": [
    {
     "name": "stdout",
     "output_type": "stream",
     "text": [
      "finish 1st trans\n",
      "finish 2nd trans\n",
      "finish 3rd trans\n",
      "finish 4th trans\n"
     ]
    }
   ],
   "source": [
    "col = 'split_text'\n",
    "data_en = translate_csv(data,col,from_lang='zh',to_lang='en',num_pol=50)\n",
    "print('finish 1st trans')\n",
    "data_fr = translate_csv(data,col,from_lang='zh',to_lang='fr',num_pol=50)\n",
    "print('finish 2nd trans')\n",
    "data_th = translate_csv(data,col,from_lang='zh',to_lang='th',num_pol=50)\n",
    "print('finish 3rd trans')\n",
    "data_lo = translate_csv(data,col,from_lang='zh',to_lang='lo',num_pol=50)\n",
    "print('finish 4th trans')"
   ]
  },
  {
   "cell_type": "code",
   "execution_count": 11,
   "metadata": {
    "ExecuteTime": {
     "end_time": "2018-06-11T21:12:36.526230Z",
     "start_time": "2018-06-11T21:12:36.519822Z"
    },
    "collapsed": true
   },
   "outputs": [],
   "source": [
    "data = pd.concat([data,data_en,data_fr,data_th,data_lo], ignore_index=True)\n",
    "# data"
   ]
  },
  {
   "cell_type": "code",
   "execution_count": 12,
   "metadata": {
    "ExecuteTime": {
     "end_time": "2018-06-11T21:13:00.493979Z",
     "start_time": "2018-06-11T21:12:59.959716Z"
    }
   },
   "outputs": [
    {
     "name": "stderr",
     "output_type": "stream",
     "text": [
      "Building prefix dict from the default dictionary ...\n",
      "Loading model from cache /tmp/jieba.cache\n",
      "Loading model cost 0.493 seconds.\n",
      "Prefix dict has been built succesfully.\n"
     ]
    },
    {
     "data": {
      "text/html": [
       "<div>\n",
       "<style>\n",
       "    .dataframe thead tr:only-child th {\n",
       "        text-align: right;\n",
       "    }\n",
       "\n",
       "    .dataframe thead th {\n",
       "        text-align: left;\n",
       "    }\n",
       "\n",
       "    .dataframe tbody tr th {\n",
       "        vertical-align: top;\n",
       "    }\n",
       "</style>\n",
       "<table border=\"1\" class=\"dataframe\">\n",
       "  <thead>\n",
       "    <tr style=\"text-align: right;\">\n",
       "      <th></th>\n",
       "      <th>label</th>\n",
       "      <th>split_text</th>\n",
       "    </tr>\n",
       "  </thead>\n",
       "  <tbody>\n",
       "    <tr>\n",
       "      <th>0</th>\n",
       "      <td>0</td>\n",
       "      <td>可以</td>\n",
       "    </tr>\n",
       "    <tr>\n",
       "      <th>1</th>\n",
       "      <td>1</td>\n",
       "      <td>这   几乎   不 可能</td>\n",
       "    </tr>\n",
       "    <tr>\n",
       "      <th>2</th>\n",
       "      <td>2</td>\n",
       "      <td>不好   意思   我   没 听 清</td>\n",
       "    </tr>\n",
       "    <tr>\n",
       "      <th>3</th>\n",
       "      <td>0</td>\n",
       "      <td>能够</td>\n",
       "    </tr>\n",
       "    <tr>\n",
       "      <th>4</th>\n",
       "      <td>1</td>\n",
       "      <td>这 几乎 是 不 可能 的</td>\n",
       "    </tr>\n",
       "    <tr>\n",
       "      <th>5</th>\n",
       "      <td>2</td>\n",
       "      <td>我 不 明白</td>\n",
       "    </tr>\n",
       "    <tr>\n",
       "      <th>6</th>\n",
       "      <td>0</td>\n",
       "      <td>可以</td>\n",
       "    </tr>\n",
       "    <tr>\n",
       "      <th>7</th>\n",
       "      <td>1</td>\n",
       "      <td>这 几乎 是 不 可能 的</td>\n",
       "    </tr>\n",
       "    <tr>\n",
       "      <th>8</th>\n",
       "      <td>2</td>\n",
       "      <td>我 不 明白</td>\n",
       "    </tr>\n",
       "    <tr>\n",
       "      <th>9</th>\n",
       "      <td>0</td>\n",
       "      <td>可以</td>\n",
       "    </tr>\n",
       "    <tr>\n",
       "      <th>10</th>\n",
       "      <td>1</td>\n",
       "      <td>这 几乎 是 不 可能 的 。</td>\n",
       "    </tr>\n",
       "    <tr>\n",
       "      <th>11</th>\n",
       "      <td>2</td>\n",
       "      <td>我 不 明白</td>\n",
       "    </tr>\n",
       "    <tr>\n",
       "      <th>12</th>\n",
       "      <td>0</td>\n",
       "      <td>能够</td>\n",
       "    </tr>\n",
       "    <tr>\n",
       "      <th>13</th>\n",
       "      <td>1</td>\n",
       "      <td>这 是 不 可能 的</td>\n",
       "    </tr>\n",
       "    <tr>\n",
       "      <th>14</th>\n",
       "      <td>2</td>\n",
       "      <td>我 不 明白</td>\n",
       "    </tr>\n",
       "  </tbody>\n",
       "</table>\n",
       "</div>"
      ],
      "text/plain": [
       "    label           split_text\n",
       "0       0                   可以\n",
       "1       1        这   几乎   不 可能\n",
       "2       2  不好   意思   我   没 听 清\n",
       "3       0                   能够\n",
       "4       1        这 几乎 是 不 可能 的\n",
       "5       2               我 不 明白\n",
       "6       0                   可以\n",
       "7       1        这 几乎 是 不 可能 的\n",
       "8       2               我 不 明白\n",
       "9       0                   可以\n",
       "10      1      这 几乎 是 不 可能 的 。\n",
       "11      2               我 不 明白\n",
       "12      0                   能够\n",
       "13      1           这 是 不 可能 的\n",
       "14      2               我 不 明白"
      ]
     },
     "execution_count": 12,
     "metadata": {},
     "output_type": "execute_result"
    }
   ],
   "source": [
    "import jieba\n",
    "def cut_words(text):\n",
    "    seg_list = jieba.cut(text, cut_all=False)\n",
    "    return \" \".join(seg_list)\n",
    "\n",
    "data['split_text']=data['split_text'].apply(cut_words)\n",
    "data"
   ]
  },
  {
   "cell_type": "markdown",
   "metadata": {
    "ExecuteTime": {
     "end_time": "2018-06-11T21:13:09.532500Z",
     "start_time": "2018-06-11T21:13:09.529618Z"
    }
   },
   "source": [
    "# data cleaning and save"
   ]
  },
  {
   "cell_type": "code",
   "execution_count": 14,
   "metadata": {
    "ExecuteTime": {
     "end_time": "2018-06-11T21:13:13.029481Z",
     "start_time": "2018-06-11T21:13:13.000550Z"
    }
   },
   "outputs": [
    {
     "name": "stdout",
     "output_type": "stream",
     "text": [
      "split_text cleaning\n"
     ]
    }
   ],
   "source": [
    "def clean(text):\n",
    "    text = re.sub(f'([{string.punctuation}“”¨«»®´·º ½¾¿¡§£₤‘’，])',' ', text)\n",
    "    text = text.split(' ')\n",
    "    text = ' '.join(text)\n",
    "    return text\n",
    "\n",
    "def clean_label(label):\n",
    "    label = int(label)\n",
    "    a = np.zeros(3)\n",
    "    a[label-1] = 1\n",
    "    return a.astype(int).tolist()\n",
    "\n",
    "def clean_label(label):\n",
    "    return int(label)\n",
    "    \n",
    "print('split_text cleaning')\n",
    "# data['split_text'].head(10)\n",
    "data['split_text'] = data['split_text'].apply(clean)\n",
    "data['label'] = data['label'].apply(clean_label)\n",
    "\n",
    "data.to_csv(path + 'cleaned_mock_up_data.csv', index = False, encoding = 'utf8')"
   ]
  },
  {
   "cell_type": "code",
   "execution_count": 15,
   "metadata": {
    "ExecuteTime": {
     "end_time": "2018-06-11T21:13:13.436408Z",
     "start_time": "2018-06-11T21:13:13.431393Z"
    }
   },
   "outputs": [
    {
     "data": {
      "text/plain": [
       "array([0, 1, 2, 0, 1, 2, 0, 1, 2, 0, 1, 2, 0, 1, 2])"
      ]
     },
     "execution_count": 15,
     "metadata": {},
     "output_type": "execute_result"
    }
   ],
   "source": [
    "data.label.values"
   ]
  },
  {
   "cell_type": "code",
   "execution_count": null,
   "metadata": {
    "collapsed": true
   },
   "outputs": [],
   "source": []
  }
 ],
 "metadata": {
  "kernelspec": {
   "display_name": "Python 3",
   "language": "python",
   "name": "python3"
  },
  "language_info": {
   "codemirror_mode": {
    "name": "ipython",
    "version": 3
   },
   "file_extension": ".py",
   "mimetype": "text/x-python",
   "name": "python",
   "nbconvert_exporter": "python",
   "pygments_lexer": "ipython3",
   "version": "3.6.3"
  },
  "varInspector": {
   "cols": {
    "lenName": 16,
    "lenType": 16,
    "lenVar": 40
   },
   "kernels_config": {
    "python": {
     "delete_cmd_postfix": "",
     "delete_cmd_prefix": "del ",
     "library": "var_list.py",
     "varRefreshCmd": "print(var_dic_list())"
    },
    "r": {
     "delete_cmd_postfix": ") ",
     "delete_cmd_prefix": "rm(",
     "library": "var_list.r",
     "varRefreshCmd": "cat(var_dic_list()) "
    }
   },
   "types_to_exclude": [
    "module",
    "function",
    "builtin_function_or_method",
    "instance",
    "_Feature"
   ],
   "window_display": false
  }
 },
 "nbformat": 4,
 "nbformat_minor": 2
}
