{
 "cells": [
  {
   "cell_type": "code",
   "execution_count": 1,
   "metadata": {
    "ExecuteTime": {
     "end_time": "2018-06-28T17:28:51.915695Z",
     "start_time": "2018-06-28T17:28:51.526102Z"
    }
   },
   "outputs": [],
   "source": [
    "# from flask_other.app import app\n",
    "from flask import Flask\n",
    "from flask_socketio import SocketIO, emit,join_room,leave_room\n",
    "from threading import Lock\n",
    "import os,sys\n",
    "# sys.path.append('/home/kai/data/wei/Chatbot1.0/')\n",
    "sys.path.append('../../../../../Chatbot1.0/')\n",
    "# sys.path.append('/home/kai/data/Chatbot1.0/API/v1/frontend/')\n",
    "app=Flask(\"demo\")\n",
    "from flask import  render_template,request\n",
    "# from app.mong_database import MongoManager\n",
    "import time\n",
    "import re\n",
    "# mongo_db=MongoManager(server_ip='chatbotdb')\n",
    "\n",
    "import urllib.request\n",
    "from urllib.parse import quote\n",
    "import pandas as pd\n",
    "import numpy as np\n",
    "import time\n",
    "import re\n",
    "import requests\n",
    "\n",
    "from threading import Lock\n",
    "\n",
    "\n",
    "##################################\n",
    "url = 'http://localhost:8889/chatbotv1'\n",
    "\n",
    "\n",
    "async_mode = None\n",
    "\n",
    "app = Flask(__name__)\n",
    "app.config['SECRET_KEY'] = 'secret!'\n",
    "socketio = SocketIO(app, async_mode=async_mode)\n",
    "\n",
    "\n",
    "\n",
    "\n",
    "thread = None\n",
    "thread_lock = Lock()\n",
    "clients = []\n",
    "@app.route('/')\n",
    "def index():\n",
    "    return render_template('index.html', async_mode=socketio.async_mode)\n",
    "\n",
    "\n",
    "@socketio.on('client_send',namespace='/test')\n",
    "def client_msg(msg):  \n",
    "    print(msg['data']) # this the contentext sent by client\n",
    "    print(type(msg['data']))\n",
    "    if msg['data'] == \"dis\":\n",
    "        print('test123')\n",
    "        socketio.emit('my_response',{'data':'disconnection, please try again'},room = request.sid, namespace='/test')\n",
    "        leave_room(request.sid)\n",
    "#         socket.close()\n",
    "        disconnnect()\n",
    "    else:\n",
    "        response = 'data get'\n",
    "        socketio.emit('my_response',{'data':response},room = request.sid, namespace='/test')\n",
    "\n",
    "#sned message to a specific user\n",
    "def unique_message(uid):\n",
    "    socketio.emit('unique_messgae',{'data':'are you still here'}, room=uid, namespace='/test')\n",
    "    \n",
    "@socketio.on('disconnect',namespace='/test')\n",
    "def disconnect():\n",
    "    uid = request.sid\n",
    "    print(uid + \" disconnect\")\n",
    "    socketio.emit()\n",
    "    clients.remove(uid)\n",
    "    leave_room(uid)\n",
    "    last = len(clients)\n",
    "    socketio.emit\n",
    "    socketio.emit('unique_message',{'data':'are you still here'}, room = clients[last-1],namespace = '/test')\n",
    "    \n",
    "@socketio.on('connect',namespace='/test')\n",
    "def connect():\n",
    "    print('connect')\n",
    "    print(request.sid)\n",
    "    uid = request.sid\n",
    "    clients.append(uid)\n",
    "    print(len(clients))\n",
    "    \n",
    "    join_room(uid)\n",
    "    \n",
    "    print('above is room')\n",
    "    socketio.emit('my_response',{'data':'hello'},room = uid,namespace='/test') #the first sentence \n",
    "\n",
    "\n"
   ]
  },
  {
   "cell_type": "code",
   "execution_count": null,
   "metadata": {
    "ExecuteTime": {
     "start_time": "2018-06-28T17:28:55.634Z"
    }
   },
   "outputs": [
    {
     "name": "stdout",
     "output_type": "stream",
     "text": [
      "http://0.0.0.0:6006/\n",
      "connect\n",
      "e1fb6cec38654707aadb68decbb08ca6\n",
      "1\n",
      "above is room\n",
      "1\n",
      "<class 'str'>\n",
      "2\n",
      "<class 'str'>\n",
      "3\n",
      "<class 'str'>\n",
      "4\n",
      "<class 'str'>\n"
     ]
    },
    {
     "name": "stderr",
     "output_type": "stream",
     "text": [
      "message handler error\n",
      "Traceback (most recent call last):\n",
      "  File \"/home/kai/anaconda3/lib/python3.6/site-packages/engineio/server.py\", line 411, in _trigger_event\n",
      "    return self.handlers[event](*args)\n",
      "  File \"/home/kai/anaconda3/lib/python3.6/site-packages/socketio/server.py\", line 522, in _handle_eio_message\n",
      "    self._handle_event(sid, pkt.namespace, pkt.id, pkt.data)\n",
      "  File \"/home/kai/anaconda3/lib/python3.6/site-packages/socketio/server.py\", line 458, in _handle_event\n",
      "    self._handle_event_internal(self, sid, data, namespace, id)\n",
      "  File \"/home/kai/anaconda3/lib/python3.6/site-packages/socketio/server.py\", line 461, in _handle_event_internal\n",
      "    r = server._trigger_event(data[0], namespace, sid, *data[1:])\n",
      "  File \"/home/kai/anaconda3/lib/python3.6/site-packages/socketio/server.py\", line 490, in _trigger_event\n",
      "    return self.handlers[namespace][event](*args)\n",
      "  File \"/home/kai/anaconda3/lib/python3.6/site-packages/flask_socketio/__init__.py\", line 251, in _handler\n",
      "    *args)\n",
      "  File \"/home/kai/anaconda3/lib/python3.6/site-packages/flask_socketio/__init__.py\", line 634, in _handle_event\n",
      "    ret = handler(*args)\n",
      "  File \"<ipython-input-1-8d94e3a88002>\", line 57, in client_msg\n",
      "    disconnnect()\n",
      "NameError: name 'disconnnect' is not defined\n",
      "message handler error\n",
      "Traceback (most recent call last):\n",
      "  File \"/home/kai/anaconda3/lib/python3.6/site-packages/engineio/server.py\", line 411, in _trigger_event\n",
      "    return self.handlers[event](*args)\n",
      "  File \"/home/kai/anaconda3/lib/python3.6/site-packages/socketio/server.py\", line 520, in _handle_eio_message\n",
      "    self._handle_disconnect(sid, pkt.namespace)\n",
      "  File \"/home/kai/anaconda3/lib/python3.6/site-packages/socketio/server.py\", line 441, in _handle_disconnect\n",
      "    self._trigger_event('disconnect', n, sid)\n",
      "  File \"/home/kai/anaconda3/lib/python3.6/site-packages/socketio/server.py\", line 490, in _trigger_event\n",
      "    return self.handlers[namespace][event](*args)\n",
      "  File \"/home/kai/anaconda3/lib/python3.6/site-packages/flask_socketio/__init__.py\", line 251, in _handler\n",
      "    *args)\n",
      "  File \"/home/kai/anaconda3/lib/python3.6/site-packages/flask_socketio/__init__.py\", line 634, in _handle_event\n",
      "    ret = handler(*args)\n",
      "  File \"<ipython-input-1-8d94e3a88002>\", line 70, in disconnect\n",
      "    socketio.emit()\n",
      "TypeError: emit() missing 1 required positional argument: 'event'\n",
      "disconnect handler error\n",
      "Traceback (most recent call last):\n",
      "  File \"/home/kai/anaconda3/lib/python3.6/site-packages/engineio/server.py\", line 411, in _trigger_event\n",
      "    return self.handlers[event](*args)\n",
      "  File \"/home/kai/anaconda3/lib/python3.6/site-packages/socketio/server.py\", line 535, in _handle_eio_disconnect\n",
      "    self._handle_disconnect(sid, '/')\n",
      "  File \"/home/kai/anaconda3/lib/python3.6/site-packages/socketio/server.py\", line 441, in _handle_disconnect\n",
      "    self._trigger_event('disconnect', n, sid)\n",
      "  File \"/home/kai/anaconda3/lib/python3.6/site-packages/socketio/server.py\", line 490, in _trigger_event\n",
      "    return self.handlers[namespace][event](*args)\n",
      "  File \"/home/kai/anaconda3/lib/python3.6/site-packages/flask_socketio/__init__.py\", line 251, in _handler\n",
      "    *args)\n",
      "  File \"/home/kai/anaconda3/lib/python3.6/site-packages/flask_socketio/__init__.py\", line 634, in _handle_event\n",
      "    ret = handler(*args)\n",
      "  File \"<ipython-input-1-8d94e3a88002>\", line 70, in disconnect\n",
      "    socketio.emit()\n",
      "TypeError: emit() missing 1 required positional argument: 'event'\n"
     ]
    },
    {
     "name": "stdout",
     "output_type": "stream",
     "text": [
      "dis\n",
      "<class 'str'>\n",
      "test123\n",
      "e1fb6cec38654707aadb68decbb08ca6 disconnect\n",
      "e1fb6cec38654707aadb68decbb08ca6 disconnect\n"
     ]
    }
   ],
   "source": [
    "print('http://0.0.0.0:6006/')\n",
    "socketio.run(app,'0.0.0.0',6006)"
   ]
  },
  {
   "cell_type": "code",
   "execution_count": null,
   "metadata": {},
   "outputs": [],
   "source": []
  },
  {
   "cell_type": "code",
   "execution_count": null,
   "metadata": {},
   "outputs": [],
   "source": []
  }
 ],
 "metadata": {
  "kernelspec": {
   "display_name": "Python 3",
   "language": "python",
   "name": "python3"
  },
  "language_info": {
   "codemirror_mode": {
    "name": "ipython",
    "version": 3
   },
   "file_extension": ".py",
   "mimetype": "text/x-python",
   "name": "python",
   "nbconvert_exporter": "python",
   "pygments_lexer": "ipython3",
   "version": "3.6.5"
  },
  "varInspector": {
   "cols": {
    "lenName": 16,
    "lenType": 16,
    "lenVar": 40
   },
   "kernels_config": {
    "python": {
     "delete_cmd_postfix": "",
     "delete_cmd_prefix": "del ",
     "library": "var_list.py",
     "varRefreshCmd": "print(var_dic_list())"
    },
    "r": {
     "delete_cmd_postfix": ") ",
     "delete_cmd_prefix": "rm(",
     "library": "var_list.r",
     "varRefreshCmd": "cat(var_dic_list()) "
    }
   },
   "types_to_exclude": [
    "module",
    "function",
    "builtin_function_or_method",
    "instance",
    "_Feature"
   ],
   "window_display": false
  }
 },
 "nbformat": 4,
 "nbformat_minor": 2
}
