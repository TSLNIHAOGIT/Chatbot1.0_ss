{
 "cells": [
  {
   "cell_type": "code",
   "execution_count": 1,
   "metadata": {
    "ExecuteTime": {
     "end_time": "2018-06-01T19:20:05.450618Z",
     "start_time": "2018-06-01T19:20:05.447488Z"
    },
    "collapsed": true
   },
   "outputs": [],
   "source": [
    "import re"
   ]
  },
  {
   "cell_type": "code",
   "execution_count": 134,
   "metadata": {
    "ExecuteTime": {
     "end_time": "2018-06-01T20:09:00.127434Z",
     "start_time": "2018-06-01T20:09:00.123454Z"
    },
    "collapsed": true
   },
   "outputs": [],
   "source": [
    "pattern = r'\\w+'\n",
    "sentence = 'Pine-apple Juice'\n",
    "# sentence = 'apple eat apple'"
   ]
  },
  {
   "cell_type": "code",
   "execution_count": 135,
   "metadata": {
    "ExecuteTime": {
     "end_time": "2018-06-01T20:09:00.569578Z",
     "start_time": "2018-06-01T20:09:00.564555Z"
    }
   },
   "outputs": [
    {
     "data": {
      "text/plain": [
       "['Pine', 'apple', 'Juice']"
      ]
     },
     "execution_count": 135,
     "metadata": {},
     "output_type": "execute_result"
    }
   ],
   "source": [
    "re.findall(pattern, sentence)"
   ]
  },
  {
   "cell_type": "code",
   "execution_count": 196,
   "metadata": {
    "ExecuteTime": {
     "end_time": "2018-06-01T20:55:41.128842Z",
     "start_time": "2018-06-01T20:55:41.125656Z"
    }
   },
   "outputs": [],
   "source": [
    "sentence ='\\t我 下次 将会 \\t  在 12 月 15 日 给你 打电话'\n"
   ]
  },
  {
   "cell_type": "code",
   "execution_count": 197,
   "metadata": {
    "ExecuteTime": {
     "end_time": "2018-06-01T20:55:41.449280Z",
     "start_time": "2018-06-01T20:55:41.443185Z"
    }
   },
   "outputs": [
    {
     "data": {
      "text/plain": [
       "['12月15日']"
      ]
     },
     "execution_count": 197,
     "metadata": {},
     "output_type": "execute_result"
    }
   ],
   "source": [
    "text = re.sub(r'\\s','',sentence)\n",
    "re.findall(r'(\\d+月\\w+日)',text)"
   ]
  },
  {
   "cell_type": "code",
   "execution_count": null,
   "metadata": {
    "collapsed": true
   },
   "outputs": [],
   "source": []
  }
 ],
 "metadata": {
  "kernelspec": {
   "display_name": "Python 3",
   "language": "python",
   "name": "python3"
  },
  "language_info": {
   "codemirror_mode": {
    "name": "ipython",
    "version": 3
   },
   "file_extension": ".py",
   "mimetype": "text/x-python",
   "name": "python",
   "nbconvert_exporter": "python",
   "pygments_lexer": "ipython3",
   "version": "3.6.3"
  },
  "varInspector": {
   "cols": {
    "lenName": 16,
    "lenType": 16,
    "lenVar": 40
   },
   "kernels_config": {
    "python": {
     "delete_cmd_postfix": "",
     "delete_cmd_prefix": "del ",
     "library": "var_list.py",
     "varRefreshCmd": "print(var_dic_list())"
    },
    "r": {
     "delete_cmd_postfix": ") ",
     "delete_cmd_prefix": "rm(",
     "library": "var_list.r",
     "varRefreshCmd": "cat(var_dic_list()) "
    }
   },
   "types_to_exclude": [
    "module",
    "function",
    "builtin_function_or_method",
    "instance",
    "_Feature"
   ],
   "window_display": false
  }
 },
 "nbformat": 4,
 "nbformat_minor": 2
}
