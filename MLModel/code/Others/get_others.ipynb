{
 "cells": [
  {
   "cell_type": "code",
   "execution_count": 1,
   "metadata": {
    "ExecuteTime": {
     "end_time": "2018-07-09T18:13:03.392959Z",
     "start_time": "2018-07-09T18:13:03.052562Z"
    }
   },
   "outputs": [],
   "source": [
    "import numpy as np\n",
    "import pandas as pd"
   ]
  },
  {
   "cell_type": "code",
   "execution_count": 3,
   "metadata": {
    "ExecuteTime": {
     "end_time": "2018-07-09T18:13:35.290075Z",
     "start_time": "2018-07-09T18:13:35.167425Z"
    }
   },
   "outputs": [],
   "source": [
    "model_list = ['CutDebt','IDClassifier','IfKnowDebtor','Installment','WillingToPay','ConfirmLoan']\n",
    "path = '../../data/{}/mock_up_data1.csv'\n",
    "\n",
    "data = pd.DataFrame()\n",
    "for each_model in model_list:\n",
    "    each_data = pd.read_csv(path.format(each_model), encoding='utf8')\n",
    "    if each_model == 'WillingToPay':\n",
    "        other_data = each_data[each_data['label']==3]\n",
    "    else:\n",
    "        other_data = each_data[each_data['label']==2]\n",
    "    data = pd.concat([data,other_data],ignore_index=True)\n",
    "\n",
    "    \n",
    "\n",
    "\n",
    "data.to_csv('../../data/others/all_others_data.csv', index=False, encoding='utf8')"
   ]
  },
  {
   "cell_type": "code",
   "execution_count": 6,
   "metadata": {
    "ExecuteTime": {
     "end_time": "2018-07-09T18:18:09.258169Z",
     "start_time": "2018-07-09T18:18:09.227653Z"
    }
   },
   "outputs": [],
   "source": [
    "df = pd.read_csv('../../data/others/cleaned_mock_up_data.csv')"
   ]
  },
  {
   "cell_type": "code",
   "execution_count": 8,
   "metadata": {
    "ExecuteTime": {
     "end_time": "2018-07-09T18:18:21.306347Z",
     "start_time": "2018-07-09T18:18:21.295561Z"
    }
   },
   "outputs": [],
   "source": [
    "df = df[df.label==108]"
   ]
  },
  {
   "cell_type": "code",
   "execution_count": 9,
   "metadata": {
    "ExecuteTime": {
     "end_time": "2018-07-09T18:18:24.046381Z",
     "start_time": "2018-07-09T18:18:24.033126Z"
    }
   },
   "outputs": [
    {
     "data": {
      "text/html": [
       "<div>\n",
       "<style scoped>\n",
       "    .dataframe tbody tr th:only-of-type {\n",
       "        vertical-align: middle;\n",
       "    }\n",
       "\n",
       "    .dataframe tbody tr th {\n",
       "        vertical-align: top;\n",
       "    }\n",
       "\n",
       "    .dataframe thead th {\n",
       "        text-align: right;\n",
       "    }\n",
       "</style>\n",
       "<table border=\"1\" class=\"dataframe\">\n",
       "  <thead>\n",
       "    <tr style=\"text-align: right;\">\n",
       "      <th></th>\n",
       "      <th>text</th>\n",
       "      <th>label</th>\n",
       "    </tr>\n",
       "  </thead>\n",
       "  <tbody>\n",
       "    <tr>\n",
       "      <th>13</th>\n",
       "      <td>转账</td>\n",
       "      <td>108</td>\n",
       "    </tr>\n",
       "    <tr>\n",
       "      <th>515</th>\n",
       "      <td>APP 登录 不上</td>\n",
       "      <td>108</td>\n",
       "    </tr>\n",
       "    <tr>\n",
       "      <th>637</th>\n",
       "      <td>只能 给 你</td>\n",
       "      <td>108</td>\n",
       "    </tr>\n",
       "    <tr>\n",
       "      <th>991</th>\n",
       "      <td>俺 怎么 还</td>\n",
       "      <td>108</td>\n",
       "    </tr>\n",
       "    <tr>\n",
       "      <th>1256</th>\n",
       "      <td>没有 还款 方式</td>\n",
       "      <td>108</td>\n",
       "    </tr>\n",
       "    <tr>\n",
       "      <th>1308</th>\n",
       "      <td>APP 上 不 去 怎么 还</td>\n",
       "      <td>108</td>\n",
       "    </tr>\n",
       "    <tr>\n",
       "      <th>1348</th>\n",
       "      <td>卡里 有钱 但是 你们 没扣 我 也 没有 办法 还</td>\n",
       "      <td>108</td>\n",
       "    </tr>\n",
       "    <tr>\n",
       "      <th>1489</th>\n",
       "      <td>你 给 我 一个 对公 账户</td>\n",
       "      <td>108</td>\n",
       "    </tr>\n",
       "    <tr>\n",
       "      <th>2026</th>\n",
       "      <td>你 把 账号 给 我</td>\n",
       "      <td>108</td>\n",
       "    </tr>\n",
       "    <tr>\n",
       "      <th>2076</th>\n",
       "      <td>转账</td>\n",
       "      <td>108</td>\n",
       "    </tr>\n",
       "    <tr>\n",
       "      <th>3022</th>\n",
       "      <td>你 给 证明 给 我</td>\n",
       "      <td>108</td>\n",
       "    </tr>\n",
       "  </tbody>\n",
       "</table>\n",
       "</div>"
      ],
      "text/plain": [
       "                            text  label\n",
       "13                            转账    108\n",
       "515                    APP 登录 不上    108\n",
       "637                       只能 给 你    108\n",
       "991                       俺 怎么 还    108\n",
       "1256                    没有 还款 方式    108\n",
       "1308              APP 上 不 去 怎么 还    108\n",
       "1348  卡里 有钱 但是 你们 没扣 我 也 没有 办法 还    108\n",
       "1489              你 给 我 一个 对公 账户    108\n",
       "2026                  你 把 账号 给 我    108\n",
       "2076                          转账    108\n",
       "3022                  你 给 证明 给 我    108"
      ]
     },
     "execution_count": 9,
     "metadata": {},
     "output_type": "execute_result"
    }
   ],
   "source": [
    "df"
   ]
  },
  {
   "cell_type": "markdown",
   "metadata": {
    "ExecuteTime": {
     "end_time": "2018-07-05T14:42:56.067821Z",
     "start_time": "2018-07-05T14:42:56.059025Z"
    },
    "collapsed": true
   },
   "source": [
    "# concat new data into old data"
   ]
  },
  {
   "cell_type": "code",
   "execution_count": 49,
   "metadata": {
    "ExecuteTime": {
     "end_time": "2018-07-05T15:05:35.152915Z",
     "start_time": "2018-07-05T15:05:35.146244Z"
    },
    "collapsed": true
   },
   "outputs": [],
   "source": [
    "path = '../../data/others/'\n",
    "\n",
    "# old_data = pd.read_csv(path + 'irrelevant_response_training_set.csv', encoding='utf8')\n",
    "# # new_data = pd.read_csv(path + 'cleaned_other_2018_6_27_submit.csv', encoding = 'utf8')\n",
    "\n",
    "# updated_data = pd.concat([old_data,new_data],ignore_index=True)\n",
    "\n",
    "# updated_data.to_csv(path + 'irrelevant_response_training_set.csv', encoding='utf8', index=False)"
   ]
  },
  {
   "cell_type": "markdown",
   "metadata": {},
   "source": [
    "# get out all spaces in new data label"
   ]
  },
  {
   "cell_type": "code",
   "execution_count": 50,
   "metadata": {
    "ExecuteTime": {
     "end_time": "2018-07-05T15:05:36.461318Z",
     "start_time": "2018-07-05T15:05:36.455078Z"
    }
   },
   "outputs": [],
   "source": [
    "def get_out_space(string):\n",
    "    return string.strip()"
   ]
  },
  {
   "cell_type": "code",
   "execution_count": 52,
   "metadata": {
    "ExecuteTime": {
     "end_time": "2018-07-05T15:05:59.067591Z",
     "start_time": "2018-07-05T15:05:59.041843Z"
    }
   },
   "outputs": [],
   "source": [
    "data = pd.read_csv(path + 'irrelevant_response_training_set.csv', encoding='utf8')\n",
    "data['类别'] = data['类别'].apply(get_out_space)\n",
    "\n",
    "data.to_csv(path + 'irrelevant_response_training_set.csv', encoding='utf8', index=False)"
   ]
  },
  {
   "cell_type": "code",
   "execution_count": null,
   "metadata": {
    "collapsed": true
   },
   "outputs": [],
   "source": []
  }
 ],
 "metadata": {
  "kernelspec": {
   "display_name": "Python 3",
   "language": "python",
   "name": "python3"
  },
  "language_info": {
   "codemirror_mode": {
    "name": "ipython",
    "version": 3
   },
   "file_extension": ".py",
   "mimetype": "text/x-python",
   "name": "python",
   "nbconvert_exporter": "python",
   "pygments_lexer": "ipython3",
   "version": "3.6.5"
  },
  "varInspector": {
   "cols": {
    "lenName": 16,
    "lenType": 16,
    "lenVar": 40
   },
   "kernels_config": {
    "python": {
     "delete_cmd_postfix": "",
     "delete_cmd_prefix": "del ",
     "library": "var_list.py",
     "varRefreshCmd": "print(var_dic_list())"
    },
    "r": {
     "delete_cmd_postfix": ") ",
     "delete_cmd_prefix": "rm(",
     "library": "var_list.r",
     "varRefreshCmd": "cat(var_dic_list()) "
    }
   },
   "types_to_exclude": [
    "module",
    "function",
    "builtin_function_or_method",
    "instance",
    "_Feature"
   ],
   "window_display": false
  }
 },
 "nbformat": 4,
 "nbformat_minor": 2
}
