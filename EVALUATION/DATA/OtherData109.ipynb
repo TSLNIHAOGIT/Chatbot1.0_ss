{
 "cells": [
  {
   "cell_type": "code",
   "execution_count": 1,
   "metadata": {
    "ExecuteTime": {
     "end_time": "2018-08-02T14:36:49.754581Z",
     "start_time": "2018-08-02T14:36:49.452594Z"
    }
   },
   "outputs": [],
   "source": [
    "import pandas as pd\n",
    "import numpy as np"
   ]
  },
  {
   "cell_type": "code",
   "execution_count": 2,
   "metadata": {
    "ExecuteTime": {
     "end_time": "2018-07-30T18:26:30.759185Z",
     "start_time": "2018-07-30T18:26:30.660174Z"
    }
   },
   "outputs": [
    {
     "name": "stdout",
     "output_type": "stream",
     "text": [
      "3950\n",
      "0\n"
     ]
    }
   ],
   "source": [
    "model_list = ['CutDebt','IDClassifier','IfKnowDebtor','Installment','ConfirmLoan','WillingToPay']\n",
    "mat = pd.read_csv('../../MLModel/data/Others/strategy_mat.csv')\n",
    "other109 = pd.read_csv('../../MLModel/data/Others/irrelevant_response_training_set.csv')\n",
    "print(len(other109))\n",
    "target = '故意岔开话题'\n",
    "other109 = other109[other109['类别']==target]\n",
    "\n",
    "\n",
    "print(len(other109))"
   ]
  },
  {
   "cell_type": "code",
   "execution_count": 7,
   "metadata": {
    "ExecuteTime": {
     "end_time": "2018-08-02T14:45:53.585411Z",
     "start_time": "2018-08-02T14:45:53.553900Z"
    }
   },
   "outputs": [],
   "source": [
    "other_109 = pd.read_csv('../../MLModel/data/others/irrelevant_response_training_set109.csv')\n",
    "other_109_new = pd.read_csv('../../MLModel/data/others/other_new_2018_8_1.csv')"
   ]
  },
  {
   "cell_type": "code",
   "execution_count": 8,
   "metadata": {
    "ExecuteTime": {
     "end_time": "2018-08-02T14:45:54.220408Z",
     "start_time": "2018-08-02T14:45:54.210604Z"
    }
   },
   "outputs": [
    {
     "data": {
      "text/plain": [
       "故意岔开话题    120\n",
       "Name: 类别, dtype: int64"
      ]
     },
     "execution_count": 8,
     "metadata": {},
     "output_type": "execute_result"
    }
   ],
   "source": [
    "other_109_new['类别'].value_counts()"
   ]
  },
  {
   "cell_type": "code",
   "execution_count": 9,
   "metadata": {
    "ExecuteTime": {
     "end_time": "2018-08-02T14:45:57.296362Z",
     "start_time": "2018-08-02T14:45:57.285258Z"
    }
   },
   "outputs": [
    {
     "data": {
      "text/plain": [
       "故意岔开话题    1408\n",
       "Name: 类别, dtype: int64"
      ]
     },
     "execution_count": 9,
     "metadata": {},
     "output_type": "execute_result"
    }
   ],
   "source": [
    "other_109['类别'].value_counts()"
   ]
  },
  {
   "cell_type": "code",
   "execution_count": 22,
   "metadata": {
    "ExecuteTime": {
     "end_time": "2018-08-02T14:48:52.233624Z",
     "start_time": "2018-08-02T14:48:52.224443Z"
    }
   },
   "outputs": [],
   "source": [
    "save_new = pd.concat([other_109,other_109_new],ignore_index=True,sort=True)"
   ]
  },
  {
   "cell_type": "code",
   "execution_count": 24,
   "metadata": {
    "ExecuteTime": {
     "end_time": "2018-08-02T14:49:59.325807Z",
     "start_time": "2018-08-02T14:49:59.283077Z"
    }
   },
   "outputs": [],
   "source": [
    "save_new.to_csv('../../MLModel/data/others/irrelevant_response_training_set109.csv',encoding='utf8',index=False)"
   ]
  },
  {
   "cell_type": "code",
   "execution_count": null,
   "metadata": {},
   "outputs": [],
   "source": []
  }
 ],
 "metadata": {
  "kernelspec": {
   "display_name": "Python 3",
   "language": "python",
   "name": "python3"
  },
  "language_info": {
   "codemirror_mode": {
    "name": "ipython",
    "version": 3
   },
   "file_extension": ".py",
   "mimetype": "text/x-python",
   "name": "python",
   "nbconvert_exporter": "python",
   "pygments_lexer": "ipython3",
   "version": "3.6.5"
  },
  "varInspector": {
   "cols": {
    "lenName": 16,
    "lenType": 16,
    "lenVar": 40
   },
   "kernels_config": {
    "python": {
     "delete_cmd_postfix": "",
     "delete_cmd_prefix": "del ",
     "library": "var_list.py",
     "varRefreshCmd": "print(var_dic_list())"
    },
    "r": {
     "delete_cmd_postfix": ") ",
     "delete_cmd_prefix": "rm(",
     "library": "var_list.r",
     "varRefreshCmd": "cat(var_dic_list()) "
    }
   },
   "types_to_exclude": [
    "module",
    "function",
    "builtin_function_or_method",
    "instance",
    "_Feature"
   ],
   "window_display": false
  }
 },
 "nbformat": 4,
 "nbformat_minor": 2
}
