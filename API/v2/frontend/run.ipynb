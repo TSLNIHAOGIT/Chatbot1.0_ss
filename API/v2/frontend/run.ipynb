{
 "cells": [
  {
   "cell_type": "code",
   "execution_count": 2,
   "metadata": {
    "ExecuteTime": {
     "end_time": "2018-07-18T02:29:12.570067Z",
     "start_time": "2018-07-18T02:29:12.002263Z"
    }
   },
   "outputs": [],
   "source": [
    "# from flask_other.app import app\n",
    "from flask_socketio import disconnect as dc\n",
    "from flask import Flask\n",
    "from flask_socketio import SocketIO, emit,join_room,leave_room\n",
    "from flask_socketio import disconnect\n",
    "from threading import Lock\n",
    "import os,sys\n",
    "\n",
    "app=Flask(\"demo\")\n",
    "from flask import  render_template,request\n",
    "import time\n",
    "import re\n",
    "\n",
    "import pandas as pd\n",
    "import numpy as np\n",
    "import time\n",
    "import re\n",
    "import requests\n",
    "\n",
    "import atexit\n",
    "\n",
    "from apscheduler.schedulers.background import BackgroundScheduler\n",
    "from apscheduler.triggers.interval import IntervalTrigger\n",
    "\n",
    "logger = Logger('Websocket-Flask',level=ENV.NODE_LOG_LEVEL.value).logger\n",
    "\n",
    "\n",
    "\n",
    "##################################\n",
    "async_mode = None\n",
    "app = Flask(__name__)\n",
    "app.config['SECRET_KEY'] = 'secret!'\n",
    "socketio = SocketIO(app, async_mode=async_mode)\n",
    "\n",
    "thread = None\n",
    "thread_lock = Lock()\n",
    "clients = []\n",
    "sentences = []\n",
    "\n",
    "name_space = '/chat'\n",
    "\n",
    "@app.route('/')\n",
    "def index():\n",
    "    return render_template('index.html', async_mode=socketio.async_mode)\n",
    "\n",
    "\n",
    "@socketio.on('client_send',namespace=name_space)\n",
    "def client_msg(msg):  \n",
    "    uid = request.sid\n",
    "    sentence = msg.get('data')\n",
    "    sentence = decode(sentence)\n",
    "    sentences.append(sentence)\n",
    "    response = cache.chat(uid, sentence)\n",
    "    if response == 'end':\n",
    "        socketio.emit('my_response',{'data':'感谢选择江苏逸能，再见！'},room = uid, namespace=name_space)\n",
    "        disconnect_frontend(uid)\n",
    "    elif response is None:\n",
    "        socketio.emit('my_response',{'data':'当前会话已经过期，感谢选择江苏逸能，再见！'},room = uid, namespace=name_space)\n",
    "        disconnect_frontend(uid)\n",
    "    else:\n",
    "        socketio.emit('my_response',{'data':response},room = uid, namespace=name_space)\n",
    "\n",
    "def decode(msg):\n",
    "    msg = re.sub(r'%u', r'\\u', msg)\n",
    "    msg = msg.encode('latin-1').decode('unicode_escape')\n",
    "    return msg\n",
    "\n",
    "#sned message to a specific user\n",
    "def unique_message(uid):\n",
    "    socketio.emit('unique_messgae',{'data':'are you still here'}, room=uid, namespace=name_space)\n",
    "    \n",
    "def disconnect_frontend(uid):\n",
    "    socketio.emit('my_response',{'status':'disconnected'},room = uid, namespace=name_space)\n",
    "\n",
    "\n",
    "@socketio.on('disconnect',namespace=name_space)\n",
    "def disconnect():\n",
    "    uid = request.sid\n",
    "    cache.remove_session(uid)\n",
    "    leave_room(uid)\n",
    "    dc()\n",
    "    logger.info('{} has been disconnected from API'.format(uid))\n",
    "    \n",
    "    \n",
    "@socketio.on('connect',namespace=name_space)\n",
    "def connect():\n",
    "    \n",
    "    uid = request.sid\n",
    "    clients.append(uid)\n",
    "    logger.info('{} is trying to connect!'.format(uid))\n",
    "    \n",
    "    join_room(uid)\n",
    "    if cache.create_session(uid):\n",
    "        logger.info('{} join connection successfully'.format(uid))\n",
    "        response = cache.chat(uid, '')\n",
    "        if response is not None:\n",
    "            socketio.emit('my_response',{'data':response},room = uid,namespace=name_space) #the first sentence\n",
    "            return None\n",
    "        \n",
    "    else:\n",
    "        logger.info('{} cannot join connection'.format(uid))\n",
    "        socketio.emit('my_response',{'data':'server busy. please click new conv'},room = uid,namespace=name_space) \n",
    "        disconnect_frontend(uid)\n",
    "    \n",
    "\n"
   ]
  },
  {
   "cell_type": "code",
   "execution_count": 3,
   "metadata": {
    "ExecuteTime": {
     "end_time": "2018-07-18T02:30:18.861692Z",
     "start_time": "2018-07-18T02:29:13.899509Z"
    }
   },
   "outputs": [
    {
     "name": "stdout",
     "output_type": "stream",
     "text": [
      "http://10.0.24.31:8899/\n",
      "http://0.0.0.0:6006/\n"
     ]
    },
    {
     "name": "stderr",
     "output_type": "stream",
     "text": [
      "2018-07-18 02:29:18,173 - INFO - CLASS:Websocket-Flask- METHOD:connect -LINE:90 - MSG:a2cd3df06623414db9e85cc504a74216 is trying to connect!\n",
      "2018-07-18 02:29:18,746 - INFO - CLASS:Cache- METHOD:create_session -LINE:42 - MSG:New session was created: a2cd3df06623414db9e85cc504a74216\n",
      "2018-07-18 02:29:18,747 - INFO - CLASS:Cache- METHOD:create_session -LINE:43 - MSG:Remaining session number is: 999\n",
      "2018-07-18 02:29:18,752 - INFO - CLASS:Websocket-Flask- METHOD:connect -LINE:94 - MSG:a2cd3df06623414db9e85cc504a74216 join connection successfully\n",
      "2018-07-18 02:29:18,755 - INFO - CLASS:Cache- METHOD:chat -LINE:67 - MSG:receive message from user: a2cd3df06623414db9e85cc504a74216 ====================\n",
      "2018-07-18 02:29:18,757 - DEBUG - CLASS:TreeStage1- METHOD:process -LINE:376 - MSG:Current node name is s0\n",
      "2018-07-18 02:29:18,758 - DEBUG - CLASS:TreeStage1- METHOD:process -LINE:381 - MSG:Output label is 0\n",
      "2018-07-18 02:29:18,764 - DEBUG - CLASS:TreeStage1- METHOD:process -LINE:391 - MSG:Next node name is cf_s1_n1_identity_q.\n",
      "2018-07-18 02:29:18,765 - INFO - CLASS:Cache- METHOD:chat -LINE:72 - MSG:processing messages for user a2cd3df06623414db9e85cc504a74216 has been done!----------------\n",
      "2018-07-18 02:29:21,663 - INFO - CLASS:Cache- METHOD:chat -LINE:67 - MSG:receive message from user: a2cd3df06623414db9e85cc504a74216 ====================\n",
      "2018-07-18 02:29:21,667 - DEBUG - CLASS:TreeStage1- METHOD:process -LINE:376 - MSG:Current node name is cf_s1_n1_identity_q\n",
      "2018-07-18 02:29:21,679 - DEBUG - CLASS:TreeStage1- METHOD:process -LINE:381 - MSG:Output label is 0\n",
      "2018-07-18 02:29:21,684 - DEBUG - CLASS:TreeStage1- METHOD:process -LINE:391 - MSG:Next node name is cf_s1_n2_confirmLoan_q.\n",
      "2018-07-18 02:29:21,686 - INFO - CLASS:Cache- METHOD:chat -LINE:72 - MSG:processing messages for user a2cd3df06623414db9e85cc504a74216 has been done!----------------\n",
      "2018-07-18 02:29:23,891 - INFO - CLASS:Cache- METHOD:chat -LINE:67 - MSG:receive message from user: a2cd3df06623414db9e85cc504a74216 ====================\n",
      "2018-07-18 02:29:23,894 - DEBUG - CLASS:TreeStage1- METHOD:process -LINE:376 - MSG:Current node name is cf_s1_n2_confirmLoan_q\n",
      "2018-07-18 02:29:23,902 - DEBUG - CLASS:TreeStage1- METHOD:process -LINE:381 - MSG:Output label is 0\n",
      "2018-07-18 02:29:23,913 - DEBUG - CLASS:TreeStage1- METHOD:process -LINE:391 - MSG:Next node name is cf_s1_n15_verifyWill_q.\n",
      "2018-07-18 02:29:23,915 - INFO - CLASS:Cache- METHOD:chat -LINE:72 - MSG:processing messages for user a2cd3df06623414db9e85cc504a74216 has been done!----------------\n",
      "2018-07-18 02:29:24,729 - INFO - CLASS:Cache- METHOD:chat -LINE:67 - MSG:receive message from user: a2cd3df06623414db9e85cc504a74216 ====================\n",
      "2018-07-18 02:29:24,732 - DEBUG - CLASS:TreeStage1- METHOD:process -LINE:376 - MSG:Current node name is cf_s1_n15_verifyWill_q\n",
      "2018-07-18 02:29:24,742 - DEBUG - CLASS:TreeStage1- METHOD:process -LINE:381 - MSG:Output label is 1\n",
      "2018-07-18 02:29:24,750 - DEBUG - CLASS:TreeStage1- METHOD:process -LINE:391 - MSG:Next node name is cf_s1_n15_verifyWill_q.\n",
      "2018-07-18 02:29:24,751 - INFO - CLASS:Cache- METHOD:chat -LINE:72 - MSG:processing messages for user a2cd3df06623414db9e85cc504a74216 has been done!----------------\n",
      "2018-07-18 02:29:36,115 - INFO - CLASS:Cache- METHOD:chat -LINE:67 - MSG:receive message from user: a2cd3df06623414db9e85cc504a74216 ====================\n",
      "2018-07-18 02:29:36,117 - DEBUG - CLASS:TreeStage1- METHOD:process -LINE:376 - MSG:Current node name is cf_s1_n15_verifyWill_q\n",
      "2018-07-18 02:29:36,125 - DEBUG - CLASS:TreeStage1- METHOD:process -LINE:381 - MSG:Output label is 1001\n",
      "2018-07-18 02:29:36,132 - DEBUG - CLASS:TreeStage1- METHOD:process -LINE:391 - MSG:Next node name is cf_s1_n25_cutDebt_q.\n",
      "2018-07-18 02:29:36,135 - INFO - CLASS:Cache- METHOD:chat -LINE:72 - MSG:processing messages for user a2cd3df06623414db9e85cc504a74216 has been done!----------------\n",
      "2018-07-18 02:29:39,210 - INFO - CLASS:Cache- METHOD:chat -LINE:67 - MSG:receive message from user: a2cd3df06623414db9e85cc504a74216 ====================\n",
      "2018-07-18 02:29:39,212 - DEBUG - CLASS:TreeStage1- METHOD:process -LINE:376 - MSG:Current node name is cf_s1_n25_cutDebt_q\n",
      "2018-07-18 02:29:39,221 - DEBUG - CLASS:TreeStage1- METHOD:process -LINE:381 - MSG:Output label is 1\n",
      "2018-07-18 02:29:39,230 - DEBUG - CLASS:TreeStage1- METHOD:process -LINE:391 - MSG:Next node name is cf_s1_n25_cutDebt_q.\n",
      "2018-07-18 02:29:39,231 - INFO - CLASS:Cache- METHOD:chat -LINE:72 - MSG:processing messages for user a2cd3df06623414db9e85cc504a74216 has been done!----------------\n",
      "2018-07-18 02:29:40,456 - INFO - CLASS:Cache- METHOD:chat -LINE:67 - MSG:receive message from user: a2cd3df06623414db9e85cc504a74216 ====================\n",
      "2018-07-18 02:29:40,458 - DEBUG - CLASS:TreeStage1- METHOD:process -LINE:376 - MSG:Current node name is cf_s1_n25_cutDebt_q\n",
      "2018-07-18 02:29:40,467 - DEBUG - CLASS:TreeStage1- METHOD:process -LINE:381 - MSG:Output label is 1001\n",
      "2018-07-18 02:29:40,473 - DEBUG - CLASS:TreeStage1- METHOD:process -LINE:391 - MSG:Next node name is cf_s1_n32_splitDebt_q.\n",
      "2018-07-18 02:29:40,476 - INFO - CLASS:Cache- METHOD:chat -LINE:72 - MSG:processing messages for user a2cd3df06623414db9e85cc504a74216 has been done!----------------\n",
      "2018-07-18 02:29:42,700 - INFO - CLASS:Cache- METHOD:chat -LINE:67 - MSG:receive message from user: a2cd3df06623414db9e85cc504a74216 ====================\n",
      "2018-07-18 02:29:42,702 - DEBUG - CLASS:TreeStage1- METHOD:process -LINE:376 - MSG:Current node name is cf_s1_n32_splitDebt_q\n",
      "2018-07-18 02:29:42,713 - DEBUG - CLASS:TreeStage1- METHOD:process -LINE:381 - MSG:Output label is 1\n",
      "2018-07-18 02:29:42,721 - DEBUG - CLASS:TreeStage1- METHOD:process -LINE:391 - MSG:Next node name is cf_s1_n32_splitDebt_q.\n",
      "2018-07-18 02:29:42,724 - INFO - CLASS:Cache- METHOD:chat -LINE:72 - MSG:processing messages for user a2cd3df06623414db9e85cc504a74216 has been done!----------------\n",
      "2018-07-18 02:29:54,150 - INFO - CLASS:Cache- METHOD:chat -LINE:67 - MSG:receive message from user: a2cd3df06623414db9e85cc504a74216 ====================\n",
      "2018-07-18 02:29:54,152 - DEBUG - CLASS:TreeStage1- METHOD:process -LINE:376 - MSG:Current node name is cf_s1_n32_splitDebt_q\n",
      "2018-07-18 02:29:54,161 - DEBUG - CLASS:TreeStage1- METHOD:process -LINE:381 - MSG:Output label is 1001\n",
      "2018-07-18 02:29:54,169 - DEBUG - CLASS:TreeStage1- METHOD:process -LINE:391 - MSG:Next node name is cf_s1_n105_noResult_s.\n",
      "2018-07-18 02:29:54,171 - INFO - CLASS:Cache- METHOD:chat -LINE:72 - MSG:processing messages for user a2cd3df06623414db9e85cc504a74216 has been done!----------------\n",
      "2018-07-18 02:30:00,318 - INFO - CLASS:Cache- METHOD:chat -LINE:67 - MSG:receive message from user: a2cd3df06623414db9e85cc504a74216 ====================\n",
      "2018-07-18 02:30:00,320 - DEBUG - CLASS:TreeStage1- METHOD:process -LINE:376 - MSG:Current node name is cf_s1_n105_noResult_s\n",
      "2018-07-18 02:30:00,323 - DEBUG - CLASS:TreeStage1- METHOD:process -LINE:378 - MSG:Reach Stop Node: cf_s1_n105_noResult_s\n",
      "2018-07-18 02:30:00,326 - INFO - CLASS:Cache- METHOD:chat -LINE:72 - MSG:processing messages for user a2cd3df06623414db9e85cc504a74216 has been done!----------------\n",
      "2018-07-18 02:30:00,387 - INFO - CLASS:Cache- METHOD:remove_session -LINE:60 - MSG:a2cd3df06623414db9e85cc504a74216 session is inactive, it has been removed!\n",
      "2018-07-18 02:30:00,483 - INFO - CLASS:Websocket-Flask- METHOD:disconnect -LINE:82 - MSG:a2cd3df06623414db9e85cc504a74216 has been disconnected from API\n",
      "2018-07-18 02:30:00,485 - INFO - CLASS:Websocket-Flask- METHOD:disconnect -LINE:82 - MSG:a2cd3df06623414db9e85cc504a74216 has been disconnected from API\n",
      "KeyboardInterrupt\n",
      "2018-07-18T02:30:18Z\n",
      "\n",
      "KeyboardInterrupt\n",
      "\n"
     ]
    }
   ],
   "source": [
    "print('http://10.0.24.31:8899/')\n",
    "print('http://0.0.0.0:6006/')\n",
    "scheduler = BackgroundScheduler()\n",
    "scheduler.start()\n",
    "scheduler.add_job(\n",
    "    func=cache.purge_inactive,\n",
    "    trigger=IntervalTrigger(seconds=3),\n",
    "    id='purge_cache',\n",
    "    name='purge_inactive',\n",
    "    replace_existing=True)\n",
    "# Shut down the scheduler when exiting the app\n",
    "atexit.register(lambda: scheduler.shutdown())\n",
    "\n",
    "socketio.run(app,'0.0.0.0',6006)"
   ]
  },
  {
   "cell_type": "code",
   "execution_count": 1,
   "metadata": {
    "ExecuteTime": {
     "end_time": "2018-07-20T03:10:46.535114Z",
     "start_time": "2018-07-20T03:10:43.908065Z"
    }
   },
   "outputs": [
    {
     "name": "stderr",
     "output_type": "stream",
     "text": [
      "Building prefix dict from the default dictionary ...\n",
      "Loading model from cache /tmp/jieba.cache\n",
      "Loading model cost 0.821 seconds.\n",
      "Prefix dict has been built succesfully.\n"
     ]
    },
    {
     "name": "stdout",
     "output_type": "stream",
     "text": [
      "Time Zone is set from ENV: Asia/Shanghai\n",
      "Time Zone is set from ENV: Asia/Shanghai\n"
     ]
    },
    {
     "name": "stderr",
     "output_type": "stream",
     "text": [
      "2018-07-20 03:10:46,449 - INFO - CLASS:Cache- METHOD:_print -LINE:29 - MSG:Max num of session is: 1000\n",
      "2018-07-20 03:10:46,450 - INFO - CLASS:Cache- METHOD:_print -LINE:30 - MSG:inform inacitve interval is 60 seconds\n",
      "2018-07-20 03:10:46,452 - INFO - CLASS:Cache- METHOD:_print -LINE:31 - MSG:inactive max length is 150 seconds\n",
      "2018-07-20 03:10:46,454 - INFO - CLASS:Cache- METHOD:_print -LINE:33 - MSG:DEBUG is enabled\n"
     ]
    },
    {
     "name": "stdout",
     "output_type": "stream",
     "text": [
      "Time Zone is set from ENV: Asia/Shanghai\n",
      "Time Zone is set from ENV: Asia/Shanghai\n"
     ]
    }
   ],
   "source": [
    "import time\n",
    "import gc\n",
    "import sys, os\n",
    "\n",
    "ENV_PATH = '../../../ENV/'\n",
    "LOG_PATH = '../../../Lib/'\n",
    "sys.path.append(ENV_PATH)\n",
    "sys.path.append(LOG_PATH)\n",
    "from env import ENV\n",
    "from LOG import Logger\n",
    "\n",
    "\n",
    "\n",
    "class Cache:\n",
    "    def __init__(self, graph_path,msg_path,model_dict,max_session=1000,debug=False):\n",
    "        self.max_session = 1000\n",
    "        self.inform_interval = 60\n",
    "        self.inactive_maxlength = 150\n",
    "        #{'uid': {'strategy': Tree(), 'time_response': <time>, 'time_inform': <>}\n",
    "        self.active_session = {}\n",
    "        self.model_dict = model_dict\n",
    "        self.graph_path = graph_path\n",
    "        self.msg_path = msg_path\n",
    "        self.debug=debug\n",
    "        self.log = Logger(self.__class__.__name__,level=ENV.NODE_LOG_LEVEL.value).logger\n",
    "        self._print()\n",
    "        \n",
    "    def _print(self):\n",
    "        self.log.info('Max num of session is: {}'.format(self.max_session))\n",
    "        self.log.info('inform inacitve interval is {} seconds'.format(self.inform_interval))\n",
    "        self.log.info('inactive max length is {} seconds'.format(self.inactive_maxlength))\n",
    "        if self.debug:\n",
    "            self.log.info('DEBUG is enabled')\n",
    "        \n",
    "        \n",
    "    def create_session(self, uid, profile=None):\n",
    "        if len(self.active_session) < self.max_session:\n",
    "            self.active_session[uid] = {}\n",
    "            try:\n",
    "                self.active_session[uid].update({'strategy':TreeStage1(graph_path=self.graph_path,\n",
    "                                                                       msg_path=self.msg_path,\n",
    "                                                                       debug=self.debug,\n",
    "                                                                       profile=profile)})\n",
    "            except KeyError as e:\n",
    "                self.log.error('Key {} does not exist in profile'.format(e))\n",
    "                self.log.error('create session for user {} failed'.format(uid))\n",
    "                return False\n",
    "                \n",
    "            self.active_session[uid].update({'time_response':time.time()})\n",
    "            self.active_session[uid].update({'time_inform':time.time()})\n",
    "            self.active_session[uid].update({'chatting':[]})\n",
    "            self.log.info('New session was created: {}'.format(uid))\n",
    "            self.log.info('Remaining session number is: {}'.format(self.max_session-len(self.active_session)))\n",
    "            return True\n",
    "        else:\n",
    "            return False\n",
    "        \n",
    "    def remove_session(self,uid):\n",
    "        response = '您当前的会话超过 {} 秒没有响应，系统将关闭当前会话！如有需求，请开始新的对话！'.format(self.inactive_maxlength)\n",
    "        try:\n",
    "            socketio.emit('my_response',{'data':response},room = uid, namespace=name_space)\n",
    "        except:\n",
    "            pass\n",
    "        try:\n",
    "            disconnect_frontend(uid)\n",
    "        except:\n",
    "            pass\n",
    "        try:\n",
    "            del self.active_session[uid]\n",
    "            self.log.info('{} session is inactive, it has been removed!'.format(uid))\n",
    "        except KeyError:\n",
    "                pass\n",
    "        gc.collect()\n",
    "            \n",
    "    def chat(self,uid,sentence):\n",
    "        if self.active_session.get(uid) is not None:\n",
    "            self.log.info('receive message from user: {} ===================='.format(uid))\n",
    "            response = self.active_session[uid]['strategy'].process(sentence, self.model_dict)\n",
    "            self.active_session[uid]['time_response'] = time.time()\n",
    "            self.active_session[uid]['time_inform'] = time.time()\n",
    "            self.active_session[uid]['chatting'].append(response)\n",
    "            self.log.info('processing messages for user {} has been done!----------------'.format(uid))\n",
    "        else:\n",
    "            response = None\n",
    "        return response\n",
    "        \n",
    "    \n",
    "    \n",
    "    def _bulk_deletes(self):\n",
    "        current = time.time()\n",
    "        remove_list = []\n",
    "        try:\n",
    "            for uid in self.active_session:\n",
    "                try:\n",
    "                    if current - self.active_session[uid]['time_response'] > self.inactive_maxlength:\n",
    "                        remove_list.append(uid)\n",
    "                except KeyError:\n",
    "                    pass\n",
    "        except RuntimeError as e:\n",
    "            self.log.error(e)\n",
    "            return False\n",
    "        finally:\n",
    "            # delete\n",
    "            for uid in remove_list:              \n",
    "                self.remove_session(uid)\n",
    "        return True\n",
    "    \n",
    "    def _bulk_inform(self):\n",
    "        current = time.time()\n",
    "        inform_list = []\n",
    "        try:\n",
    "            for uid in self.active_session:\n",
    "                try:\n",
    "                    if current - self.active_session[uid]['time_inform'] > self.inform_interval:\n",
    "                        inform_list.append(uid)\n",
    "                     \n",
    "                except KeyError as e:\n",
    "                        self.log.error(e)\n",
    "                        pass\n",
    "            for each in inform_list:\n",
    "                self.inform_inactive(each)\n",
    "            \n",
    "        except RuntimeError:\n",
    "            \n",
    "            return False\n",
    "        \n",
    "        return True\n",
    "    \n",
    "    \n",
    "    def purge_inactive(self):\n",
    "        current = time.time()\n",
    "        while True:\n",
    "            if self._bulk_deletes():\n",
    "                break\n",
    "\n",
    "        while True:\n",
    "            if self._bulk_inform():\n",
    "                break\n",
    "        \n",
    "                \n",
    "        \n",
    "    def inform_inactive(self, uid):\n",
    "        self.active_session[uid]['time_inform'] = time.time()\n",
    "        response = '您有在听我说吗?请回答我刚才的问题！'\n",
    "        socketio.emit('my_response',{'data':response},room = uid, namespace=name_space)\n",
    "        self.log.info('{} is inactive. Just inform that user'.format(uid))\n",
    "          \n",
    "################################################\n",
    "import sys,os\n",
    "sys.path.append('../../../MLModel/code/OneClickTraining/')\n",
    "sys.path.append('../../../MLModel/code/TreeModelV2/')\n",
    "from all_model_py import *\n",
    "import pickle\n",
    "from chatbotv1 import *\n",
    "\n",
    "\n",
    "\n",
    "models_list = ['IDClassifier','CutDebt','IfKnowDebtor','WillingToPay','Installment','ConfirmLoan']\n",
    "savedModel_path = '../../../MLModel/savedModel/{}/{}.pickle'\n",
    "need_set_TIMEZONE = ['CutDebt','WillingToPay','Installment','ConfirmLoan']\n",
    "\n",
    "model_dict = {}\n",
    "for each_model in models_list:\n",
    "    model_dict[each_model] = pickle.load(open(savedModel_path.format(each_model,each_model), 'rb'))\n",
    "    model_dict[each_model].classify('再说一次')\n",
    "    if each_model in need_set_TIMEZONE:\n",
    "        model_dict[each_model].re_time._set_timeZone()\n",
    "    \n",
    "model_dict['StopClassifier'] = StopClassifier()\n",
    "model_dict['InitClassifier'] = InitClassifier()    \n",
    "\n",
    "graph_path='../../../MLModel/data/TreeModel/treeConnection.csv'\n",
    "msg_path='../../../MLModel/data/TreeModel/node_message.csv'\n",
    "#################################################################\n",
    "cache = Cache(graph_path=graph_path,\n",
    "              msg_path=msg_path,\n",
    "              model_dict=model_dict,debug=True)"
   ]
  },
  {
   "cell_type": "code",
   "execution_count": 2,
   "metadata": {
    "ExecuteTime": {
     "end_time": "2018-07-20T03:10:47.564135Z",
     "start_time": "2018-07-20T03:10:47.111193Z"
    }
   },
   "outputs": [
    {
     "name": "stderr",
     "output_type": "stream",
     "text": [
      "2018-07-20 03:10:47,113 - DEBUG - CLASS:PF- METHOD:_load_default -LINE:336 - MSG:profile is None. The default demo profile will be loaded!\n",
      "2018-07-20 03:10:47,118 - INFO - CLASS:PF- METHOD:_load_default -LINE:357 - MSG:Customer ID is 1000000000, principal is 50,000, apr is 9%\n",
      "2018-07-20 03:10:47,548 - INFO - CLASS:Cache- METHOD:create_session -LINE:52 - MSG:New session was created: 1000\n",
      "2018-07-20 03:10:47,549 - INFO - CLASS:Cache- METHOD:create_session -LINE:53 - MSG:Remaining session number is: 999\n"
     ]
    },
    {
     "data": {
      "text/plain": [
       "True"
      ]
     },
     "execution_count": 2,
     "metadata": {},
     "output_type": "execute_result"
    }
   ],
   "source": [
    "cache.create_session(1000)"
   ]
  },
  {
   "cell_type": "code",
   "execution_count": 3,
   "metadata": {
    "ExecuteTime": {
     "end_time": "2018-07-20T03:10:48.286342Z",
     "start_time": "2018-07-20T03:10:48.278626Z"
    }
   },
   "outputs": [],
   "source": [
    "t = cache.active_session[1000]['strategy']"
   ]
  },
  {
   "cell_type": "code",
   "execution_count": 10,
   "metadata": {
    "ExecuteTime": {
     "end_time": "2018-07-20T03:12:05.036554Z",
     "start_time": "2018-07-20T03:12:05.029145Z"
    }
   },
   "outputs": [],
   "source": [
    "n = t.nodes['cf_s1_n1_identity_q']"
   ]
  },
  {
   "cell_type": "code",
   "execution_count": 11,
   "metadata": {
    "ExecuteTime": {
     "end_time": "2018-07-20T03:12:05.542205Z",
     "start_time": "2018-07-20T03:12:05.528075Z"
    }
   },
   "outputs": [
    {
     "data": {
      "text/plain": [
       "109"
      ]
     },
     "execution_count": 11,
     "metadata": {},
     "output_type": "execute_result"
    }
   ],
   "source": [
    "n.output_label"
   ]
  },
  {
   "cell_type": "code",
   "execution_count": 9,
   "metadata": {
    "ExecuteTime": {
     "end_time": "2018-07-20T03:11:51.472500Z",
     "start_time": "2018-07-20T03:11:51.441650Z"
    }
   },
   "outputs": [
    {
     "name": "stderr",
     "output_type": "stream",
     "text": [
      "2018-07-20 03:11:51,444 - DEBUG - CLASS:TreeStage1- METHOD:process -LINE:534 - MSG:Current node name is cf_s1_n1_identity_q\n",
      "2018-07-20 03:11:51,460 - DEBUG - CLASS:TreeStage1- METHOD:process -LINE:539 - MSG:Output label is 109\n",
      "2018-07-20 03:11:51,465 - DEBUG - CLASS:TreeStage1- METHOD:process -LINE:550 - MSG:Next node name is cf_s1_n1_identity_q.\n"
     ]
    },
    {
     "data": {
      "text/plain": [
       "'请你不要说这些有的没的，您是李明先生吗？<-current node is: cf_s1_n1_identity_q-><-output label is: 109-><-next node is: cf_s1_n1_identity_q->'"
      ]
     },
     "execution_count": 9,
     "metadata": {},
     "output_type": "execute_result"
    }
   ],
   "source": [
    "t.process('',model_dict)"
   ]
  },
  {
   "cell_type": "code",
   "execution_count": 4,
   "metadata": {
    "ExecuteTime": {
     "end_time": "2018-07-20T02:47:04.083216Z",
     "start_time": "2018-07-20T02:47:04.055513Z"
    }
   },
   "outputs": [
    {
     "data": {
      "text/plain": [
       "{'label': 109, 'pred_prob': array([[0.01752875, 0.01967167, 0.96279958],\n",
       "        [0.04673296, 0.05362745, 0.8996396 ],\n",
       "        [0.02181207, 0.02078342, 0.9574045 ]]), 'av_pred': array([0.02869126, 0.03136085, 0.93994789])}"
      ]
     },
     "execution_count": 4,
     "metadata": {},
     "output_type": "execute_result"
    }
   ],
   "source": [
    "c = model_dict['IDClassifier']\n",
    "c.classify('天气不错')"
   ]
  },
  {
   "cell_type": "code",
   "execution_count": null,
   "metadata": {},
   "outputs": [],
   "source": []
  },
  {
   "cell_type": "code",
   "execution_count": 6,
   "metadata": {
    "ExecuteTime": {
     "end_time": "2018-07-19T22:38:00.290236Z",
     "start_time": "2018-07-19T22:38:00.261497Z"
    }
   },
   "outputs": [
    {
     "name": "stderr",
     "output_type": "stream",
     "text": [
      "2018-07-19 22:38:00,262 - DEBUG - CLASS:PF- METHOD:_load_profile -LINE:360 - MSG:Loading From Profile\n",
      "2018-07-19 22:38:00,262 - DEBUG - CLASS:PF- METHOD:_load_profile -LINE:360 - MSG:Loading From Profile\n",
      "2018-07-19 22:38:00,262 - DEBUG - CLASS:PF- METHOD:_load_profile -LINE:360 - MSG:Loading From Profile\n",
      "2018-07-19 22:38:00,270 - ERROR - CLASS:Cache- METHOD:create_session -LINE:45 - MSG:Key 'principal' does not exist in profile\n",
      "2018-07-19 22:38:00,270 - ERROR - CLASS:Cache- METHOD:create_session -LINE:45 - MSG:Key 'principal' does not exist in profile\n",
      "2018-07-19 22:38:00,270 - ERROR - CLASS:Cache- METHOD:create_session -LINE:45 - MSG:Key 'principal' does not exist in profile\n",
      "2018-07-19 22:38:00,278 - ERROR - CLASS:Cache- METHOD:create_session -LINE:46 - MSG:create session for user 111 failed\n",
      "2018-07-19 22:38:00,278 - ERROR - CLASS:Cache- METHOD:create_session -LINE:46 - MSG:create session for user 111 failed\n",
      "2018-07-19 22:38:00,278 - ERROR - CLASS:Cache- METHOD:create_session -LINE:46 - MSG:create session for user 111 failed\n"
     ]
    },
    {
     "data": {
      "text/plain": [
       "False"
      ]
     },
     "execution_count": 6,
     "metadata": {},
     "output_type": "execute_result"
    }
   ],
   "source": [
    "cache.create_session(111,{'name':'wei'})"
   ]
  },
  {
   "cell_type": "code",
   "execution_count": 8,
   "metadata": {
    "ExecuteTime": {
     "end_time": "2018-07-09T18:10:24.986577Z",
     "start_time": "2018-07-09T18:10:24.973771Z"
    }
   },
   "outputs": [
    {
     "data": {
      "text/plain": [
       "{'label': 0,\n",
       " 'pred_prob': array([[0.61363318, 0.06782953, 0.28882034, 0.02971695],\n",
       "        [0.56661775, 0.11023825, 0.28412199, 0.03902201],\n",
       "        [0.37452761, 0.09958758, 0.49513153, 0.03075327]]),\n",
       " 'av_pred': array([0.51825952, 0.09255179, 0.35602462, 0.03316408]),\n",
       " 'time_extract': []}"
      ]
     },
     "execution_count": 8,
     "metadata": {},
     "output_type": "execute_result"
    }
   ],
   "source": [
    "model_dict['WillingToPay'].classify('我可以用支付宝还么？')"
   ]
  },
  {
   "cell_type": "code",
   "execution_count": 10,
   "metadata": {
    "ExecuteTime": {
     "end_time": "2018-07-09T18:19:29.703137Z",
     "start_time": "2018-07-09T18:19:29.257353Z"
    }
   },
   "outputs": [],
   "source": [
    "t = TreeStage1(graph_path=graph_path,msg_path=msg_path,debug=True)"
   ]
  },
  {
   "cell_type": "code",
   "execution_count": 12,
   "metadata": {
    "ExecuteTime": {
     "end_time": "2018-07-09T18:19:36.925278Z",
     "start_time": "2018-07-09T18:19:36.910208Z"
    }
   },
   "outputs": [
    {
     "name": "stdout",
     "output_type": "stream",
     "text": [
      "您好，您之前借贷了5万块钱，截至今天已经逾期47天，逾期总欠款5万2千块钱，其中利息1500，滞纳金500块。请问为什么到现在都没有处理呢？\n",
      "current node is: cf_s1_n1_identity_q\n",
      "output label is: 0\n",
      "next node is: cf_s1_n2_confirmLoan_q\n"
     ]
    }
   ],
   "source": [
    "\n",
    "print(t.process('我可以用支付宝还么？',model_dict))\n"
   ]
  },
  {
   "cell_type": "code",
   "execution_count": 17,
   "metadata": {
    "ExecuteTime": {
     "end_time": "2018-07-04T10:05:41.947359Z",
     "start_time": "2018-07-04T10:05:41.942467Z"
    }
   },
   "outputs": [],
   "source": [
    "model = model_dict['WillingToPay']"
   ]
  },
  {
   "cell_type": "code",
   "execution_count": 2,
   "metadata": {
    "ExecuteTime": {
     "end_time": "2018-07-09T18:25:01.980172Z",
     "start_time": "2018-07-09T18:25:01.477531Z"
    }
   },
   "outputs": [
    {
     "data": {
      "text/plain": [
       "True"
      ]
     },
     "execution_count": 2,
     "metadata": {},
     "output_type": "execute_result"
    }
   ],
   "source": [
    "cache.create_session(111)"
   ]
  },
  {
   "cell_type": "code",
   "execution_count": 4,
   "metadata": {
    "ExecuteTime": {
     "end_time": "2018-07-09T18:25:11.404736Z",
     "start_time": "2018-07-09T18:25:11.380780Z"
    }
   },
   "outputs": [
    {
     "data": {
      "text/plain": [
       "'您好，您之前借贷了5万块钱，截至今天已经逾期47天，逾期总欠款5万2千块钱，其中利息1500，滞纳金500块。请问为什么到现在都没有处理呢？\\ncurrent node is: cf_s1_n1_identity_q\\noutput label is: 0\\nnext node is: cf_s1_n2_confirmLoan_q'"
      ]
     },
     "execution_count": 4,
     "metadata": {},
     "output_type": "execute_result"
    }
   ],
   "source": [
    "cache.chat(111,'是的')"
   ]
  },
  {
   "cell_type": "code",
   "execution_count": 1,
   "metadata": {
    "ExecuteTime": {
     "end_time": "2018-07-19T22:32:51.949720Z",
     "start_time": "2018-07-19T22:32:51.945016Z"
    }
   },
   "outputs": [],
   "source": [
    "a= {'k':1}"
   ]
  },
  {
   "cell_type": "code",
   "execution_count": 2,
   "metadata": {
    "ExecuteTime": {
     "end_time": "2018-07-19T22:32:54.686738Z",
     "start_time": "2018-07-19T22:32:54.613721Z"
    }
   },
   "outputs": [
    {
     "ename": "KeyError",
     "evalue": "'b'",
     "output_type": "error",
     "traceback": [
      "\u001b[0;31m---------------------------------------------------------------------------\u001b[0m",
      "\u001b[0;31mKeyError\u001b[0m                                  Traceback (most recent call last)",
      "\u001b[0;32m<ipython-input-2-44b218efe1d5>\u001b[0m in \u001b[0;36m<module>\u001b[0;34m()\u001b[0m\n\u001b[0;32m----> 1\u001b[0;31m \u001b[0ma\u001b[0m\u001b[0;34m[\u001b[0m\u001b[0;34m'b'\u001b[0m\u001b[0;34m]\u001b[0m\u001b[0;34m\u001b[0m\u001b[0m\n\u001b[0m",
      "\u001b[0;31mKeyError\u001b[0m: 'b'"
     ]
    }
   ],
   "source": [
    "a['b']"
   ]
  },
  {
   "cell_type": "code",
   "execution_count": null,
   "metadata": {},
   "outputs": [],
   "source": []
  }
 ],
 "metadata": {
  "kernelspec": {
   "display_name": "Python 3",
   "language": "python",
   "name": "python3"
  },
  "language_info": {
   "codemirror_mode": {
    "name": "ipython",
    "version": 3
   },
   "file_extension": ".py",
   "mimetype": "text/x-python",
   "name": "python",
   "nbconvert_exporter": "python",
   "pygments_lexer": "ipython3",
   "version": "3.6.5"
  },
  "varInspector": {
   "cols": {
    "lenName": 16,
    "lenType": 16,
    "lenVar": 40
   },
   "kernels_config": {
    "python": {
     "delete_cmd_postfix": "",
     "delete_cmd_prefix": "del ",
     "library": "var_list.py",
     "varRefreshCmd": "print(var_dic_list())"
    },
    "r": {
     "delete_cmd_postfix": ") ",
     "delete_cmd_prefix": "rm(",
     "library": "var_list.r",
     "varRefreshCmd": "cat(var_dic_list()) "
    }
   },
   "types_to_exclude": [
    "module",
    "function",
    "builtin_function_or_method",
    "instance",
    "_Feature"
   ],
   "window_display": false
  }
 },
 "nbformat": 4,
 "nbformat_minor": 2
}
