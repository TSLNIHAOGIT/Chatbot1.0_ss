{
 "cells": [
  {
   "cell_type": "code",
   "execution_count": 1,
   "metadata": {
    "ExecuteTime": {
     "end_time": "2018-08-08T14:07:08.517543Z",
     "start_time": "2018-08-08T14:07:07.967501Z"
    }
   },
   "outputs": [],
   "source": [
    "import re\n",
    "import sys,os\n",
    "sys.path.append('../../../classifier/models/time_pattern/')\n",
    "from time_pattern import TimePattern"
   ]
  },
  {
   "cell_type": "code",
   "execution_count": 2,
   "metadata": {
    "ExecuteTime": {
     "end_time": "2018-08-08T14:07:09.018942Z",
     "start_time": "2018-08-08T14:07:08.923414Z"
    }
   },
   "outputs": [
    {
     "name": "stdout",
     "output_type": "stream",
     "text": [
      "Time Zone is set from ENV: Asia/Shanghai\n"
     ]
    }
   ],
   "source": [
    "tp = TimePattern()"
   ]
  },
  {
   "cell_type": "code",
   "execution_count": 40,
   "metadata": {
    "ExecuteTime": {
     "end_time": "2018-08-08T14:38:01.232703Z",
     "start_time": "2018-08-08T14:38:01.227030Z"
    }
   },
   "outputs": [],
   "source": [
    "s1 = '我可以先还5万2，但要100天后才能还清'\n",
    "s2 = '我可以先还52000，但要100天后才能还清'\n",
    "s3 = '我可以先还52，000.23， 但要23点15分后才能还清'\n",
    "s4 = '我可以先还五万6千零二十'\n",
    "s5 = '但要100天后才能还清'"
   ]
  },
  {
   "cell_type": "code",
   "execution_count": 41,
   "metadata": {
    "ExecuteTime": {
     "end_time": "2018-08-08T14:38:01.641384Z",
     "start_time": "2018-08-08T14:38:01.636818Z"
    }
   },
   "outputs": [],
   "source": [
    "clean = s3\n",
    "clean = re.sub(r',|，| ','',clean)\n",
    "# remove time"
   ]
  },
  {
   "cell_type": "code",
   "execution_count": 42,
   "metadata": {
    "ExecuteTime": {
     "end_time": "2018-08-08T14:38:01.835081Z",
     "start_time": "2018-08-08T14:38:01.823712Z"
    }
   },
   "outputs": [
    {
     "data": {
      "text/plain": [
       "['52000.23', '23点15']"
      ]
     },
     "execution_count": 42,
     "metadata": {},
     "output_type": "execute_result"
    }
   ],
   "source": [
    "number = re.findall(r'([一二三四五六七八九零十百千万亿]+|[0-9]+[,]*[0-9]+.[0-9]+)',clean)\n",
    "number"
   ]
  },
  {
   "cell_type": "code",
   "execution_count": 44,
   "metadata": {
    "ExecuteTime": {
     "end_time": "2018-08-08T14:38:10.226800Z",
     "start_time": "2018-08-08T14:38:10.219423Z"
    }
   },
   "outputs": [
    {
     "data": {
      "text/plain": [
       "['52000.23', '23点15']"
      ]
     },
     "execution_count": 44,
     "metadata": {},
     "output_type": "execute_result"
    }
   ],
   "source": [
    "number = re.findall(r'(?:还)[一二三四五六七八九零十百千万亿兆0-9点.]+',clean)\n",
    "number"
   ]
  },
  {
   "cell_type": "code",
   "execution_count": 48,
   "metadata": {
    "ExecuteTime": {
     "end_time": "2018-08-08T14:40:50.366115Z",
     "start_time": "2018-08-08T14:40:50.351076Z"
    }
   },
   "outputs": [
    {
     "data": {
      "text/plain": [
       "[{'pattern': '明天早上11点',\n",
       "  'time': datetime.datetime(2018, 8, 9, 11, 0, tzinfo=<DstTzInfo 'Asia/Shanghai' CST+8:00:00 STD>),\n",
       "  'gapS': 44349.645987,\n",
       "  'gapH': 12.319346107500001}]"
      ]
     },
     "execution_count": 48,
     "metadata": {},
     "output_type": "execute_result"
    }
   ],
   "source": [
    "tp.process('明天早上11点')"
   ]
  },
  {
   "cell_type": "code",
   "execution_count": 63,
   "metadata": {
    "ExecuteTime": {
     "end_time": "2018-08-08T14:51:17.375942Z",
     "start_time": "2018-08-08T14:51:17.364192Z"
    }
   },
   "outputs": [
    {
     "data": {
      "text/plain": [
       "['明天上午一点']"
      ]
     },
     "execution_count": 63,
     "metadata": {},
     "output_type": "execute_result"
    }
   ],
   "source": [
    "reg = '今天|明天(?:(?:上午)|(?:早上)|(?:早晨)|(?:凌晨))[1一]点'\n",
    "re.findall(reg,'明天上午一点')"
   ]
  },
  {
   "cell_type": "code",
   "execution_count": null,
   "metadata": {},
   "outputs": [],
   "source": []
  }
 ],
 "metadata": {
  "kernelspec": {
   "display_name": "Python 3",
   "language": "python",
   "name": "python3"
  },
  "language_info": {
   "codemirror_mode": {
    "name": "ipython",
    "version": 3
   },
   "file_extension": ".py",
   "mimetype": "text/x-python",
   "name": "python",
   "nbconvert_exporter": "python",
   "pygments_lexer": "ipython3",
   "version": "3.6.5"
  },
  "varInspector": {
   "cols": {
    "lenName": 16,
    "lenType": 16,
    "lenVar": 40
   },
   "kernels_config": {
    "python": {
     "delete_cmd_postfix": "",
     "delete_cmd_prefix": "del ",
     "library": "var_list.py",
     "varRefreshCmd": "print(var_dic_list())"
    },
    "r": {
     "delete_cmd_postfix": ") ",
     "delete_cmd_prefix": "rm(",
     "library": "var_list.r",
     "varRefreshCmd": "cat(var_dic_list()) "
    }
   },
   "types_to_exclude": [
    "module",
    "function",
    "builtin_function_or_method",
    "instance",
    "_Feature"
   ],
   "window_display": false
  }
 },
 "nbformat": 4,
 "nbformat_minor": 2
}
