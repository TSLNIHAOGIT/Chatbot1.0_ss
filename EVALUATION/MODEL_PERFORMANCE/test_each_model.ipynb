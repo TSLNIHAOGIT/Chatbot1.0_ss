{
 "cells": [
  {
   "cell_type": "code",
   "execution_count": 1,
   "metadata": {
    "ExecuteTime": {
     "end_time": "2018-09-11T03:01:29.326733Z",
     "start_time": "2018-09-11T03:01:28.704686Z"
    }
   },
   "outputs": [],
   "source": [
    "import sys,os\n",
    "loader_path = '../../classifier/loader/'\n",
    "sys.path.append(loader_path)\n",
    "from loader import load_all"
   ]
  },
  {
   "cell_type": "code",
   "execution_count": 2,
   "metadata": {
    "ExecuteTime": {
     "end_time": "2018-09-11T03:01:30.702331Z",
     "start_time": "2018-09-11T03:01:29.817330Z"
    }
   },
   "outputs": [
    {
     "name": "stderr",
     "output_type": "stream",
     "text": [
      "2018-09-11 03:01:30,224 - INFO - CLASS:load_all- METHOD:load_all -LINE:34 - MSG:IDClassifier has been load!\n",
      "2018-09-11 03:01:30,225 - INFO - CLASS:load_all- METHOD:load_all -LINE:39 - MSG:IDClassifier does not require time zone!\n",
      "2018-09-11 03:01:30,340 - INFO - CLASS:load_all- METHOD:load_all -LINE:34 - MSG:CutDebt has been load!\n",
      "2018-09-11 03:01:30,341 - INFO - CLASS:load_all- METHOD:load_all -LINE:39 - MSG:CutDebt does not require time zone!\n",
      "2018-09-11 03:01:30,453 - INFO - CLASS:load_all- METHOD:load_all -LINE:34 - MSG:WillingToPay has been load!\n",
      "2018-09-11 03:01:30,454 - INFO - CLASS:load_all- METHOD:load_all -LINE:39 - MSG:WillingToPay does not require time zone!\n",
      "2018-09-11 03:01:30,519 - INFO - CLASS:load_all- METHOD:load_all -LINE:34 - MSG:IfKnowDebtor has been load!\n",
      "2018-09-11 03:01:30,520 - INFO - CLASS:load_all- METHOD:load_all -LINE:39 - MSG:IfKnowDebtor does not require time zone!\n",
      "2018-09-11 03:01:30,618 - INFO - CLASS:load_all- METHOD:load_all -LINE:34 - MSG:Installment has been load!\n",
      "2018-09-11 03:01:30,619 - INFO - CLASS:load_all- METHOD:load_all -LINE:39 - MSG:Installment does not require time zone!\n",
      "2018-09-11 03:01:30,697 - INFO - CLASS:load_all- METHOD:load_all -LINE:34 - MSG:ConfirmLoan has been load!\n",
      "2018-09-11 03:01:30,698 - INFO - CLASS:load_all- METHOD:load_all -LINE:39 - MSG:ConfirmLoan does not require time zone!\n"
     ]
    }
   ],
   "source": [
    "model_dict = load_all()"
   ]
  },
  {
   "cell_type": "code",
   "execution_count": 3,
   "metadata": {
    "ExecuteTime": {
     "end_time": "2018-09-11T03:01:31.244713Z",
     "start_time": "2018-09-11T03:01:31.223968Z"
    }
   },
   "outputs": [
    {
     "data": {
      "text/plain": [
       "{'IDClassifier': <ml.IDClassifier at 0x7eff6c2b5fd0>,\n",
       " 'CutDebt': <ml.CutDebt at 0x7eff6404b160>,\n",
       " 'WillingToPay': <ml.WillingToPay at 0x7eff402882e8>,\n",
       " 'IfKnowDebtor': <ml.IfKnowDebtor at 0x7eff3ff63780>,\n",
       " 'Installment': <ml.Installment at 0x7eff40288358>,\n",
       " 'ConfirmLoan': <ml.ConfirmLoan at 0x7eff4012c7f0>}"
      ]
     },
     "execution_count": 3,
     "metadata": {},
     "output_type": "execute_result"
    }
   ],
   "source": [
    "model_dict"
   ]
  },
  {
   "cell_type": "code",
   "execution_count": 4,
   "metadata": {
    "ExecuteTime": {
     "end_time": "2018-09-11T03:01:31.873753Z",
     "start_time": "2018-09-11T03:01:31.866501Z"
    }
   },
   "outputs": [],
   "source": [
    "idc = model_dict['IDClassifier']\n",
    "cutd = model_dict['CutDebt']\n",
    "wil = model_dict['WillingToPay']\n",
    "ifk = model_dict['IfKnowDebtor']\n",
    "ins = model_dict['Installment']\n",
    "conf = model_dict['ConfirmLoan']"
   ]
  },
  {
   "cell_type": "code",
   "execution_count": 5,
   "metadata": {
    "ExecuteTime": {
     "end_time": "2018-09-11T03:01:33.442367Z",
     "start_time": "2018-09-11T03:01:32.713606Z"
    }
   },
   "outputs": [
    {
     "name": "stderr",
     "output_type": "stream",
     "text": [
      "Building prefix dict from the default dictionary ...\n",
      "Loading model from cache /tmp/jieba.cache\n",
      "Loading model cost 0.687 seconds.\n",
      "Prefix dict has been built succesfully.\n"
     ]
    },
    {
     "data": {
      "text/plain": [
       "{'label': 104, 'pred_prob': array([[0.47789519, 0.00298033, 0.51912447],\n",
       "        [0.11065148, 0.01852916, 0.87081936],\n",
       "        [0.00367043, 0.00340483, 0.99292474]]), 'av_pred': array([0.1974057 , 0.00830477, 0.79428952]), 'other_response': {'label': 104,\n",
       "  'pred_prob': array([[9.59269639e-03, 9.87331197e-01, 3.05562330e-03, 2.04836429e-05],\n",
       "         [2.95160935e-02, 9.48452349e-01, 8.36282070e-03, 1.36687372e-02],\n",
       "         [2.09901095e-02, 8.97831564e-01, 2.54580852e-03, 7.86325181e-02]]),\n",
       "  'av_pred': array([0.02003297, 0.94453837, 0.00465475, 0.03077391])}, 'ml_label': 104, 'ifDebtorAnswersing': 'null'}"
      ]
     },
     "execution_count": 5,
     "metadata": {},
     "output_type": "execute_result"
    }
   ],
   "source": [
    "idc.classify('我在',debug=True)"
   ]
  },
  {
   "cell_type": "code",
   "execution_count": 6,
   "metadata": {
    "ExecuteTime": {
     "end_time": "2018-09-11T03:01:34.197896Z",
     "start_time": "2018-09-11T03:01:34.183873Z"
    }
   },
   "outputs": [
    {
     "data": {
      "text/plain": [
       "{'label': 0,\n",
       " 'av_pred': 0.9173102161799193,\n",
       " 'other_response': None,\n",
       " 'ml_label': 0,\n",
       " 'ifAdmitLoan': 'y'}"
      ]
     },
     "execution_count": 6,
     "metadata": {},
     "output_type": "execute_result"
    }
   ],
   "source": [
    "conf.classify('没钱')"
   ]
  },
  {
   "cell_type": "code",
   "execution_count": 7,
   "metadata": {
    "ExecuteTime": {
     "end_time": "2018-09-11T03:01:40.876650Z",
     "start_time": "2018-09-11T03:01:40.795848Z"
    }
   },
   "outputs": [
    {
     "name": "stderr",
     "output_type": "stream",
     "text": [
      "2018-09-11 03:01:40,797 - INFO - CLASS:EvlTimeExpEngineWillingToPay- METHOD:_set_timeZone -LINE:748 - MSG:Time Zone is set from ENV: Asia/Shanghai. Classifier: WillingToPay\n"
     ]
    },
    {
     "data": {
      "text/plain": [
       "{'label': 106,\n",
       " 'av_pred': 0.48869431075705266,\n",
       " 'other_response': 0.5759055013712578,\n",
       " 'ml_label': 106,\n",
       " 'timeExtract': [],\n",
       " 'ifWillingToPay': 'null'}"
      ]
     },
     "execution_count": 7,
     "metadata": {},
     "output_type": "execute_result"
    }
   ],
   "source": [
    "wil.classify('行啊',lower_bounder='十天', upper_bounder='30天', debug=False)"
   ]
  },
  {
   "cell_type": "code",
   "execution_count": 8,
   "metadata": {
    "ExecuteTime": {
     "end_time": "2018-09-10T19:45:00.220803Z",
     "start_time": "2018-09-10T19:45:00.195419Z"
    }
   },
   "outputs": [
    {
     "data": {
      "text/plain": [
       "{'label': 109,\n",
       " 'av_pred': 0.9390718234990093,\n",
       " 'other_response': 0.7686090528212216,\n",
       " 'ml_label': 109,\n",
       " 'ifDebtorAnswersing': 'null'}"
      ]
     },
     "execution_count": 8,
     "metadata": {},
     "output_type": "execute_result"
    }
   ],
   "source": [
    "idc.classify('别那么凶')"
   ]
  },
  {
   "cell_type": "code",
   "execution_count": 9,
   "metadata": {
    "ExecuteTime": {
     "end_time": "2018-09-10T19:45:13.203136Z",
     "start_time": "2018-09-10T19:45:13.173425Z"
    }
   },
   "outputs": [
    {
     "name": "stderr",
     "output_type": "stream",
     "text": [
      "2018-09-10 19:45:13,175 - INFO - CLASS:EvlTimeExpEngineInstallment- METHOD:_set_timeZone -LINE:747 - MSG:Time Zone is set from ENV: Asia/Shanghai\n"
     ]
    },
    {
     "data": {
      "text/plain": [
       "{'label': 109,\n",
       " 'av_pred': 0.7533742369928836,\n",
       " 'other_response': 0.5685622450133289,\n",
       " 'ml_label': 109,\n",
       " 'timeExtract': [],\n",
       " 'ifAcceptInstallment': 'null'}"
      ]
     },
     "execution_count": 9,
     "metadata": {},
     "output_type": "execute_result"
    }
   ],
   "source": [
    "ins.classify('别那么凶')"
   ]
  },
  {
   "cell_type": "code",
   "execution_count": 9,
   "metadata": {
    "ExecuteTime": {
     "end_time": "2018-08-30T23:00:21.077534Z",
     "start_time": "2018-08-30T23:00:21.062313Z"
    }
   },
   "outputs": [
    {
     "data": {
      "text/plain": [
       "array([0, 1, 2])"
      ]
     },
     "execution_count": 9,
     "metadata": {},
     "output_type": "execute_result"
    }
   ],
   "source": [
    "wil.svc.classes_"
   ]
  },
  {
   "cell_type": "code",
   "execution_count": null,
   "metadata": {},
   "outputs": [],
   "source": []
  }
 ],
 "metadata": {
  "kernelspec": {
   "display_name": "Python 3",
   "language": "python",
   "name": "python3"
  },
  "language_info": {
   "codemirror_mode": {
    "name": "ipython",
    "version": 3
   },
   "file_extension": ".py",
   "mimetype": "text/x-python",
   "name": "python",
   "nbconvert_exporter": "python",
   "pygments_lexer": "ipython3",
   "version": "3.6.5"
  },
  "varInspector": {
   "cols": {
    "lenName": 16,
    "lenType": 16,
    "lenVar": 40
   },
   "kernels_config": {
    "python": {
     "delete_cmd_postfix": "",
     "delete_cmd_prefix": "del ",
     "library": "var_list.py",
     "varRefreshCmd": "print(var_dic_list())"
    },
    "r": {
     "delete_cmd_postfix": ") ",
     "delete_cmd_prefix": "rm(",
     "library": "var_list.r",
     "varRefreshCmd": "cat(var_dic_list()) "
    }
   },
   "types_to_exclude": [
    "module",
    "function",
    "builtin_function_or_method",
    "instance",
    "_Feature"
   ],
   "window_display": false
  }
 },
 "nbformat": 4,
 "nbformat_minor": 2
}
